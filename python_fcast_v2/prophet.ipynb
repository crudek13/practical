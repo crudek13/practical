{
 "cells": [
  {
   "cell_type": "markdown",
   "metadata": {},
   "source": [
    "use newpycaret environment"
   ]
  },
  {
   "cell_type": "code",
   "execution_count": 19,
   "metadata": {},
   "outputs": [],
   "source": [
    "# Packages\n",
    "import pandas as pd\n",
    "import numpy as np\n",
    "import snowflake.connector\n",
    "import os\n",
    "from sklearn.impute import SimpleImputer\n",
    "from neuralprophet import NeuralProphet, set_log_level"
   ]
  },
  {
   "cell_type": "markdown",
   "metadata": {},
   "source": [
    "2. Load Data\n",
    "_______________________________________________________________\n",
    "\n",
    "### To Do: copy and paste in to a new chunk, enter credentials and run to save in environment. Then delete chunk\n",
    "%env snowflakeuser=<your_snowflake_username> <br>\n",
    "%env snowflakepass=<your_snowflake_password>"
   ]
  },
  {
   "cell_type": "code",
   "execution_count": 3,
   "metadata": {},
   "outputs": [
    {
     "name": "stderr",
     "output_type": "stream",
     "text": [
      "WARNING - (py.warnings._showwarnmsg) - C:\\Users\\crudek\\AppData\\Local\\Temp\\ipykernel_19304\\3034601435.py:19: UserWarning: pandas only supports SQLAlchemy connectable (engine/connection) or database string URI or sqlite3 DBAPI2 connection. Other DBAPI2 objects are not tested. Please consider using SQLAlchemy.\n",
      "  df_in = pd.read_sql_query(query.read(),conn)\n",
      "\n"
     ]
    }
   ],
   "source": [
    "# Query Snowflake\n",
    "\n",
    "# Snowflake connection parameters\n",
    "connection_params = {\n",
    "    \"user\": os.environ['snowflakeuser'],\n",
    "    \"password\": os.environ['snowflakepass'],\n",
    "    \"account\": \"zib52348.us-east-1\",\n",
    "    \"role\": \"ACCOUNTADMIN\",\n",
    "    \"warehouse\": \"REPORTING\",\n",
    "    \"database\": \"ANALYTICS\",\n",
    "    \"schema\": \"FORECASTING\",\n",
    "}\n",
    "\n",
    "# Establish a connection to Snowflake\n",
    "conn = snowflake.connector.connect(**connection_params)\n",
    "\n",
    "with open('net_sales_query.sql', 'r') as query:\n",
    "    # connection == the connection to your database, in your case prob_db\n",
    "    df_in = pd.read_sql_query(query.read(),conn)\n",
    "\n",
    "# Close the connection\n",
    "conn.close()"
   ]
  },
  {
   "cell_type": "code",
   "execution_count": 62,
   "metadata": {},
   "outputs": [
    {
     "name": "stdout",
     "output_type": "stream",
     "text": [
      "DEP_ENT              object\n",
      "MONTH        datetime64[ns]\n",
      "NET_SALES           float64\n",
      "dtype: object\n",
      "-----\n",
      "14\n",
      "-----\n",
      "DEP_ENT\n",
      "160_155    91\n",
      "170_155    91\n",
      "200_155    91\n",
      "200_310    91\n",
      "210_155    91\n",
      "210_165    91\n",
      "210_310    91\n",
      "220_155    91\n",
      "220_310    85\n",
      "240_155    91\n",
      "250_155    91\n",
      "250_165    57\n",
      "250_310    91\n",
      "260_155    54\n",
      "dtype: int64\n",
      "-----\n",
      "DEP_ENT      0\n",
      "MONTH        0\n",
      "NET_SALES    0\n",
      "dtype: int64\n"
     ]
    }
   ],
   "source": [
    "### 1. Data prep ###\n",
    "\n",
    "df = df_in\n",
    "\n",
    "# convert month field to date\n",
    "df[\"MONTH\"] = pd.to_datetime(df[\"MONTH\"])\n",
    "\n",
    "# ***** ADJUSTABLE ***** #\n",
    "# current params - want to get forecasts for 2023 (Jan - Dec) so holding out data \n",
    "df = df[df['MONTH'] <= pd.Timestamp(2022,12,1)]\n",
    "\n",
    "# Some random months will have data that we want to remove (* Want to test without July though)\n",
    "df = df[[\"DEP_ENT\", \"MONTH\", \"NET_SALES\"]] # select fields of interest\n",
    "df = df.sort_values(['DEP_ENT', 'MONTH']) # reorder dataframe\n",
    "\n",
    "\n",
    "### 2. Spot checks ###\n",
    "\n",
    "# check data types\n",
    "print(df.dtypes)\n",
    "print(\"-----\")\n",
    "\n",
    "# check the unique time_series. 14 different department-entity combinations\n",
    "print(df['DEP_ENT'].nunique())\n",
    "print(\"-----\")\n",
    "\n",
    "# check how many months for each dep-ent. 3 dep-ent do not have all months of data\n",
    "print(df.groupby(['DEP_ENT']).size())\n",
    "print(\"-----\")\n",
    "\n",
    "# check for nulls. No nulls\n",
    "print(df.isnull().sum())"
   ]
  },
  {
   "cell_type": "markdown",
   "metadata": {},
   "source": [
    "# Multiple Series with Neural Prophet\n",
    "https://neuralprophet.com/tutorials/tutorial09.html"
   ]
  },
  {
   "cell_type": "code",
   "execution_count": 63,
   "metadata": {},
   "outputs": [],
   "source": [
    "### Addtl data prep ###\n",
    "\n",
    "# create series\n",
    "df_s = df.set_index(['DEP_ENT','MONTH'])['NET_SALES']\n",
    "# convert back to dataframe\n",
    "df_d = df_s.to_frame()\n",
    "# impute\n",
    "mean_imputer = SimpleImputer(strategy='mean')\n",
    "df_d['NET_SALES'] = mean_imputer.fit_transform(df_d['NET_SALES'].values.reshape(-1,1))\n",
    "#reset index\n",
    "df_d.reset_index(inplace=True)\n",
    "# rename cols\n",
    "df_d.rename(columns={'MONTH': 'ds', 'NET_SALES': 'y', 'DEP_ENT': 'ID'}, inplace=True)"
   ]
  },
  {
   "cell_type": "code",
   "execution_count": 44,
   "metadata": {},
   "outputs": [
    {
     "data": {
      "application/vnd.jupyter.widget-view+json": {
       "model_id": "674190b0aeb544729dd976db09eb0608",
       "version_major": 2,
       "version_minor": 0
      },
      "text/plain": [
       "Finding best initial lr:   0%|          | 0/206 [00:00<?, ?it/s]"
      ]
     },
     "metadata": {},
     "output_type": "display_data"
    },
    {
     "data": {
      "application/vnd.jupyter.widget-view+json": {
       "model_id": "1f06c630e3814872bd1a90a7049e8d1a",
       "version_major": 2,
       "version_minor": 0
      },
      "text/plain": [
       "Training: 0it [00:00, ?it/s]"
      ]
     },
     "metadata": {},
     "output_type": "display_data"
    },
    {
     "data": {
      "application/vnd.jupyter.widget-view+json": {
       "model_id": "9f864828fdf341f1b4f92d48f8fe8ddd",
       "version_major": 2,
       "version_minor": 0
      },
      "text/plain": [
       "Predicting: 6it [00:00, ?it/s]"
      ]
     },
     "metadata": {},
     "output_type": "display_data"
    },
    {
     "data": {
      "application/vnd.jupyter.widget-view+json": {
       "model_id": "42af5bacfda845b69de063f66165ea28",
       "version_major": 2,
       "version_minor": 0
      },
      "text/plain": [
       "Finding best initial lr:   0%|          | 0/206 [00:00<?, ?it/s]"
      ]
     },
     "metadata": {},
     "output_type": "display_data"
    },
    {
     "data": {
      "application/vnd.jupyter.widget-view+json": {
       "model_id": "950a5342ded044329b73904d4ea9da19",
       "version_major": 2,
       "version_minor": 0
      },
      "text/plain": [
       "Training: 0it [00:00, ?it/s]"
      ]
     },
     "metadata": {},
     "output_type": "display_data"
    },
    {
     "data": {
      "application/vnd.jupyter.widget-view+json": {
       "model_id": "7b372100ada14288ad8913ce25abf285",
       "version_major": 2,
       "version_minor": 0
      },
      "text/plain": [
       "Predicting: 6it [00:00, ?it/s]"
      ]
     },
     "metadata": {},
     "output_type": "display_data"
    },
    {
     "data": {
      "application/vnd.jupyter.widget-view+json": {
       "model_id": "7c5bb026f5f649d199fd490d7f476e36",
       "version_major": 2,
       "version_minor": 0
      },
      "text/plain": [
       "Finding best initial lr:   0%|          | 0/206 [00:00<?, ?it/s]"
      ]
     },
     "metadata": {},
     "output_type": "display_data"
    },
    {
     "data": {
      "application/vnd.jupyter.widget-view+json": {
       "model_id": "c68b71d5e19c4b2b997d49cf03df864c",
       "version_major": 2,
       "version_minor": 0
      },
      "text/plain": [
       "Training: 0it [00:00, ?it/s]"
      ]
     },
     "metadata": {},
     "output_type": "display_data"
    },
    {
     "data": {
      "application/vnd.jupyter.widget-view+json": {
       "model_id": "8fc306d61f2a4fe6b5e24fb3d2e69eb1",
       "version_major": 2,
       "version_minor": 0
      },
      "text/plain": [
       "Predicting: 6it [00:00, ?it/s]"
      ]
     },
     "metadata": {},
     "output_type": "display_data"
    },
    {
     "data": {
      "application/vnd.jupyter.widget-view+json": {
       "model_id": "678935bb79024198a8e966fd6444c1a5",
       "version_major": 2,
       "version_minor": 0
      },
      "text/plain": [
       "Finding best initial lr:   0%|          | 0/206 [00:00<?, ?it/s]"
      ]
     },
     "metadata": {},
     "output_type": "display_data"
    },
    {
     "data": {
      "application/vnd.jupyter.widget-view+json": {
       "model_id": "40982554d6ed4aafb04349b059e55518",
       "version_major": 2,
       "version_minor": 0
      },
      "text/plain": [
       "Training: 0it [00:00, ?it/s]"
      ]
     },
     "metadata": {},
     "output_type": "display_data"
    },
    {
     "data": {
      "application/vnd.jupyter.widget-view+json": {
       "model_id": "ed1c361cd3aa4fcaac71108cabf18515",
       "version_major": 2,
       "version_minor": 0
      },
      "text/plain": [
       "Predicting: 6it [00:00, ?it/s]"
      ]
     },
     "metadata": {},
     "output_type": "display_data"
    },
    {
     "data": {
      "application/vnd.jupyter.widget-view+json": {
       "model_id": "18090d0beb9c46d3ae0dd168dca3d4f2",
       "version_major": 2,
       "version_minor": 0
      },
      "text/plain": [
       "Finding best initial lr:   0%|          | 0/206 [00:00<?, ?it/s]"
      ]
     },
     "metadata": {},
     "output_type": "display_data"
    },
    {
     "data": {
      "application/vnd.jupyter.widget-view+json": {
       "model_id": "0d2a8285d5bb4d8b8b031cba8b56c1aa",
       "version_major": 2,
       "version_minor": 0
      },
      "text/plain": [
       "Training: 0it [00:00, ?it/s]"
      ]
     },
     "metadata": {},
     "output_type": "display_data"
    },
    {
     "data": {
      "application/vnd.jupyter.widget-view+json": {
       "model_id": "beffad49c87a4573b534a64cc5561e4c",
       "version_major": 2,
       "version_minor": 0
      },
      "text/plain": [
       "Predicting: 6it [00:00, ?it/s]"
      ]
     },
     "metadata": {},
     "output_type": "display_data"
    },
    {
     "data": {
      "application/vnd.jupyter.widget-view+json": {
       "model_id": "16b0525e7e9b4be090127364c8f7b787",
       "version_major": 2,
       "version_minor": 0
      },
      "text/plain": [
       "Finding best initial lr:   0%|          | 0/206 [00:00<?, ?it/s]"
      ]
     },
     "metadata": {},
     "output_type": "display_data"
    },
    {
     "data": {
      "application/vnd.jupyter.widget-view+json": {
       "model_id": "bbc1551f194a4aae84f9a5d566fa8628",
       "version_major": 2,
       "version_minor": 0
      },
      "text/plain": [
       "Training: 0it [00:00, ?it/s]"
      ]
     },
     "metadata": {},
     "output_type": "display_data"
    },
    {
     "data": {
      "application/vnd.jupyter.widget-view+json": {
       "model_id": "28c851a6101649d4a12d6bccb80f8622",
       "version_major": 2,
       "version_minor": 0
      },
      "text/plain": [
       "Predicting: 6it [00:00, ?it/s]"
      ]
     },
     "metadata": {},
     "output_type": "display_data"
    },
    {
     "data": {
      "application/vnd.jupyter.widget-view+json": {
       "model_id": "7eb0dfe029dd46a5a48343842612b846",
       "version_major": 2,
       "version_minor": 0
      },
      "text/plain": [
       "Finding best initial lr:   0%|          | 0/206 [00:00<?, ?it/s]"
      ]
     },
     "metadata": {},
     "output_type": "display_data"
    },
    {
     "data": {
      "application/vnd.jupyter.widget-view+json": {
       "model_id": "7e69e70982f64d9eb377a635b9e5cf3e",
       "version_major": 2,
       "version_minor": 0
      },
      "text/plain": [
       "Training: 0it [00:00, ?it/s]"
      ]
     },
     "metadata": {},
     "output_type": "display_data"
    },
    {
     "data": {
      "application/vnd.jupyter.widget-view+json": {
       "model_id": "50719ac517a244a8aedc40f40edbca2a",
       "version_major": 2,
       "version_minor": 0
      },
      "text/plain": [
       "Predicting: 6it [00:00, ?it/s]"
      ]
     },
     "metadata": {},
     "output_type": "display_data"
    },
    {
     "data": {
      "application/vnd.jupyter.widget-view+json": {
       "model_id": "591fd9c367494208b0fc82d55d3b0172",
       "version_major": 2,
       "version_minor": 0
      },
      "text/plain": [
       "Finding best initial lr:   0%|          | 0/206 [00:00<?, ?it/s]"
      ]
     },
     "metadata": {},
     "output_type": "display_data"
    },
    {
     "data": {
      "application/vnd.jupyter.widget-view+json": {
       "model_id": "9178bc462a1943529ed4f79b1b0030bc",
       "version_major": 2,
       "version_minor": 0
      },
      "text/plain": [
       "Training: 0it [00:00, ?it/s]"
      ]
     },
     "metadata": {},
     "output_type": "display_data"
    },
    {
     "data": {
      "application/vnd.jupyter.widget-view+json": {
       "model_id": "300f3e712306438583467026e210426c",
       "version_major": 2,
       "version_minor": 0
      },
      "text/plain": [
       "Predicting: 6it [00:00, ?it/s]"
      ]
     },
     "metadata": {},
     "output_type": "display_data"
    },
    {
     "data": {
      "application/vnd.jupyter.widget-view+json": {
       "model_id": "08988b5fe0f2410b978ca59a4b79a2f1",
       "version_major": 2,
       "version_minor": 0
      },
      "text/plain": [
       "Finding best initial lr:   0%|          | 0/206 [00:00<?, ?it/s]"
      ]
     },
     "metadata": {},
     "output_type": "display_data"
    },
    {
     "data": {
      "application/vnd.jupyter.widget-view+json": {
       "model_id": "c568ee59091d4133be94ec5e17221e10",
       "version_major": 2,
       "version_minor": 0
      },
      "text/plain": [
       "Training: 0it [00:00, ?it/s]"
      ]
     },
     "metadata": {},
     "output_type": "display_data"
    },
    {
     "data": {
      "application/vnd.jupyter.widget-view+json": {
       "model_id": "a9ae306388a74313b6365f4a43bf4968",
       "version_major": 2,
       "version_minor": 0
      },
      "text/plain": [
       "Predicting: 6it [00:00, ?it/s]"
      ]
     },
     "metadata": {},
     "output_type": "display_data"
    },
    {
     "data": {
      "application/vnd.jupyter.widget-view+json": {
       "model_id": "23462c910eb84065b7a10316e535a5a2",
       "version_major": 2,
       "version_minor": 0
      },
      "text/plain": [
       "Finding best initial lr:   0%|          | 0/206 [00:00<?, ?it/s]"
      ]
     },
     "metadata": {},
     "output_type": "display_data"
    },
    {
     "data": {
      "application/vnd.jupyter.widget-view+json": {
       "model_id": "951b532c4fb445bdbd7c5e9475a5da8b",
       "version_major": 2,
       "version_minor": 0
      },
      "text/plain": [
       "Training: 0it [00:00, ?it/s]"
      ]
     },
     "metadata": {},
     "output_type": "display_data"
    },
    {
     "data": {
      "application/vnd.jupyter.widget-view+json": {
       "model_id": "b52a02ff9bb04422b10f0dc08ec3cfa4",
       "version_major": 2,
       "version_minor": 0
      },
      "text/plain": [
       "Predicting: 6it [00:00, ?it/s]"
      ]
     },
     "metadata": {},
     "output_type": "display_data"
    },
    {
     "data": {
      "application/vnd.jupyter.widget-view+json": {
       "model_id": "a1a66f414c2c4d1f92967d7c917e6f92",
       "version_major": 2,
       "version_minor": 0
      },
      "text/plain": [
       "Finding best initial lr:   0%|          | 0/206 [00:00<?, ?it/s]"
      ]
     },
     "metadata": {},
     "output_type": "display_data"
    },
    {
     "data": {
      "application/vnd.jupyter.widget-view+json": {
       "model_id": "aa7d02a0470848b085cd37903b8079fd",
       "version_major": 2,
       "version_minor": 0
      },
      "text/plain": [
       "Training: 0it [00:00, ?it/s]"
      ]
     },
     "metadata": {},
     "output_type": "display_data"
    },
    {
     "data": {
      "application/vnd.jupyter.widget-view+json": {
       "model_id": "ce841c444f2442d8883da002daf9e8d2",
       "version_major": 2,
       "version_minor": 0
      },
      "text/plain": [
       "Predicting: 6it [00:00, ?it/s]"
      ]
     },
     "metadata": {},
     "output_type": "display_data"
    },
    {
     "data": {
      "application/vnd.jupyter.widget-view+json": {
       "model_id": "62e8663429e34788990f75aa05524886",
       "version_major": 2,
       "version_minor": 0
      },
      "text/plain": [
       "Finding best initial lr:   0%|          | 0/204 [00:00<?, ?it/s]"
      ]
     },
     "metadata": {},
     "output_type": "display_data"
    },
    {
     "data": {
      "application/vnd.jupyter.widget-view+json": {
       "model_id": "2f517739c5ba46f7a90594eb03aa5f35",
       "version_major": 2,
       "version_minor": 0
      },
      "text/plain": [
       "Training: 0it [00:00, ?it/s]"
      ]
     },
     "metadata": {},
     "output_type": "display_data"
    },
    {
     "data": {
      "application/vnd.jupyter.widget-view+json": {
       "model_id": "7016a061fbf5423192261973957b6d15",
       "version_major": 2,
       "version_minor": 0
      },
      "text/plain": [
       "Predicting: 4it [00:00, ?it/s]"
      ]
     },
     "metadata": {},
     "output_type": "display_data"
    },
    {
     "data": {
      "application/vnd.jupyter.widget-view+json": {
       "model_id": "32bfa69af5054119884ed01e423ba107",
       "version_major": 2,
       "version_minor": 0
      },
      "text/plain": [
       "Finding best initial lr:   0%|          | 0/206 [00:00<?, ?it/s]"
      ]
     },
     "metadata": {},
     "output_type": "display_data"
    },
    {
     "data": {
      "application/vnd.jupyter.widget-view+json": {
       "model_id": "2d85f6a66a63488b8dc3eba620bfd056",
       "version_major": 2,
       "version_minor": 0
      },
      "text/plain": [
       "Training: 0it [00:00, ?it/s]"
      ]
     },
     "metadata": {},
     "output_type": "display_data"
    },
    {
     "data": {
      "application/vnd.jupyter.widget-view+json": {
       "model_id": "2a7d1e2e31c346dba2f10cb547c2bbd5",
       "version_major": 2,
       "version_minor": 0
      },
      "text/plain": [
       "Predicting: 6it [00:00, ?it/s]"
      ]
     },
     "metadata": {},
     "output_type": "display_data"
    },
    {
     "data": {
      "application/vnd.jupyter.widget-view+json": {
       "model_id": "ea0448e325fe4d7f85647fe7d9d5f899",
       "version_major": 2,
       "version_minor": 0
      },
      "text/plain": [
       "Finding best initial lr:   0%|          | 0/204 [00:00<?, ?it/s]"
      ]
     },
     "metadata": {},
     "output_type": "display_data"
    },
    {
     "data": {
      "application/vnd.jupyter.widget-view+json": {
       "model_id": "f083b204b83e4f6a8b98274fc8426ce8",
       "version_major": 2,
       "version_minor": 0
      },
      "text/plain": [
       "Training: 0it [00:00, ?it/s]"
      ]
     },
     "metadata": {},
     "output_type": "display_data"
    },
    {
     "data": {
      "application/vnd.jupyter.widget-view+json": {
       "model_id": "13a2a858d6124e2486b83ed807b84a31",
       "version_major": 2,
       "version_minor": 0
      },
      "text/plain": [
       "Predicting: 4it [00:00, ?it/s]"
      ]
     },
     "metadata": {},
     "output_type": "display_data"
    }
   ],
   "source": [
    "# Declare number of forecasting periods ahead\n",
    "fh = 12\n",
    "\n",
    "# Initialize a dictionary to store individual models and forecasts\n",
    "id_models = {}\n",
    "id_forecasts = {}\n",
    "\n",
    "# Group data by ID\n",
    "grouped = df_d.groupby('ID')\n",
    "\n",
    "# Loop through each group (ID) and create models and forecasts\n",
    "for group_name, group_data in grouped:\n",
    "    group_data = group_data.rename(columns={'ds': 'ds', 'y': 'y'})\n",
    "    \n",
    "    # Initialize and train the model\n",
    "    model = NeuralProphet(\n",
    "        yearly_seasonality=True,\n",
    "        weekly_seasonality=False,\n",
    "        daily_seasonality=False,\n",
    "    )\n",
    "    model.fit(group_data, freq=\"MS\")\n",
    "    \n",
    "    # Store the model for the current ID\n",
    "    id_models[group_name] = model\n",
    "    \n",
    "    # Create a dataframe with future dates for prediction\n",
    "    future = model.make_future_dataframe(group_data, periods=fh, n_historic_predictions=len(group_data))\n",
    "    \n",
    "    # Make predictions for the next 12 periods\n",
    "    forecast = model.predict(future)\n",
    "    \n",
    "    # Store the forecast for the current ID\n",
    "    id_forecasts[group_name] = forecast"
   ]
  },
  {
   "cell_type": "code",
   "execution_count": 60,
   "metadata": {},
   "outputs": [],
   "source": [
    "# Initialize a dataframe to store final predictions\n",
    "all_np_preds = pd.DataFrame()\n",
    "\n",
    "# Loop through each group (ID) and get final pred\n",
    "for group_name, group_data in grouped:\n",
    "    \n",
    "    # create temp table with fcasts for id (dep-ent)\n",
    "    temp_fcast = id_forecasts[group_name]\n",
    "    \n",
    "    # filter to just the predictions in the future\n",
    "    temp_fcast = temp_fcast.tail(fh)[[\"ds\", \"yhat1\"]]\n",
    "    \n",
    "    # add id (dep-ent)\n",
    "    temp_fcast['id'] = group_name\n",
    "\n",
    "    # create master list of predictions    \n",
    "    all_np_preds = pd.concat([all_np_preds, temp_fcast])"
   ]
  },
  {
   "cell_type": "code",
   "execution_count": 61,
   "metadata": {},
   "outputs": [],
   "source": [
    "all_np_preds.to_csv('all_np_preds.csv')"
   ]
  }
 ],
 "metadata": {
  "kernelspec": {
   "display_name": "newpycaret",
   "language": "python",
   "name": "python3"
  },
  "language_info": {
   "codemirror_mode": {
    "name": "ipython",
    "version": 3
   },
   "file_extension": ".py",
   "mimetype": "text/x-python",
   "name": "python",
   "nbconvert_exporter": "python",
   "pygments_lexer": "ipython3",
   "version": "3.9.13"
  },
  "orig_nbformat": 4
 },
 "nbformat": 4,
 "nbformat_minor": 2
}
