{
 "cells": [
  {
   "cell_type": "markdown",
   "metadata": {},
   "source": [
    "# Query Snowflake in Python"
   ]
  },
  {
   "cell_type": "markdown",
   "metadata": {},
   "source": [
    "# Run in terminal if not already installed\n",
    "pip install snowflake-connector-python\n",
    "pip install pandas"
   ]
  },
  {
   "cell_type": "code",
   "execution_count": null,
   "metadata": {},
   "outputs": [],
   "source": [
    "# copy and paste in to a new chunk, enter credentials and run to save in environment. Then delete chunk\n",
    "%env snowflakeuser=<your_snowflake_username>\n",
    "%env snowflakepass=<your_snowflake_password>"
   ]
  },
  {
   "cell_type": "code",
   "execution_count": null,
   "metadata": {},
   "outputs": [],
   "source": [
    "# upgrade conda\n",
    "conda update -n base -c defaults conda"
   ]
  },
  {
   "cell_type": "code",
   "execution_count": 64,
   "metadata": {},
   "outputs": [
    {
     "name": "stdout",
     "output_type": "stream",
     "text": [
      "# packages in environment at c:\\Users\\crudek\\Anaconda3:\n",
      "#\n",
      "# Name                    Version                   Build  Channel\n",
      "pandas                    1.4.4            py39hd77b12b_0  \n",
      "\n",
      "Note: you may need to restart the kernel to use updated packages.\n"
     ]
    }
   ],
   "source": [
    "conda list pandas$"
   ]
  },
  {
   "cell_type": "code",
   "execution_count": null,
   "metadata": {},
   "outputs": [],
   "source": [
    "!conda install --yes --prefix {sys.prefix} pandas"
   ]
  },
  {
   "cell_type": "code",
   "execution_count": 13,
   "metadata": {},
   "outputs": [],
   "source": [
    "# Packages\n",
    "import snowflake.connector\n",
    "import pandas as pd\n",
    "import os\n",
    "import numpy as np"
   ]
  },
  {
   "cell_type": "code",
   "execution_count": 3,
   "metadata": {},
   "outputs": [
    {
     "name": "stderr",
     "output_type": "stream",
     "text": [
      "c:\\Users\\crudek\\Anaconda3\\lib\\site-packages\\pandas\\io\\sql.py:762: UserWarning: pandas only support SQLAlchemy connectable(engine/connection) ordatabase string URI or sqlite3 DBAPI2 connectionother DBAPI2 objects are not tested, please consider using SQLAlchemy\n",
      "  warnings.warn(\n"
     ]
    },
    {
     "name": "stdout",
     "output_type": "stream",
     "text": [
      "   DEP_ENT       MONTH   NET_SALES  BUDGET_AMOUNT  FORECAST\n",
      "0  240_155  2017-02-01  4153796.71      4198000.0       NaN\n",
      "1  240_155  2017-03-01  5940741.71      4892400.0       NaN\n",
      "2  240_155  2017-04-01  4789757.73      5580200.0       NaN\n",
      "3  240_155  2017-05-01  6356822.97      5298000.0       NaN\n",
      "4  240_155  2017-06-01  5756533.29      4678000.0       NaN\n"
     ]
    }
   ],
   "source": [
    "def snowflake_to_pandas(connection_params, query):\n",
    "    try:\n",
    "        # Establish a connection to Snowflake\n",
    "        conn = snowflake.connector.connect(**connection_params)\n",
    "\n",
    "        # Execute the SQL query and fetch the results into a DataFrame\n",
    "        df = pd.read_sql_query(query, conn)\n",
    "\n",
    "        # Close the connection\n",
    "        conn.close()\n",
    "\n",
    "        return df\n",
    "    except Exception as e:\n",
    "        print(f\"Error: {e}\")\n",
    "        return None\n",
    "\n",
    "# Snowflake connection parameters\n",
    "connection_params = {\n",
    "    \"user\": os.environ['snowflakeuser'],\n",
    "    \"password\": os.environ['snowflakepass'],\n",
    "    \"account\": \"zib52348.us-east-1\",\n",
    "    \"role\": \"ACCOUNTADMIN\",\n",
    "    \"warehouse\": \"REPORTING\",\n",
    "    \"database\": \"ANALYTICS\",\n",
    "    \"schema\": \"FORECASTING\",\n",
    "}\n",
    "\n",
    "# SQL command \n",
    "query = 'SELECT * FROM \"ANALYTICS\".\"FORECASTING\".\"sales_fcast_combined_v\"'\n",
    "\n",
    "# Call the function to retrieve the data into a Pandas DataFrame\n",
    "result_df = snowflake_to_pandas(connection_params, query)\n",
    "\n",
    "if result_df is not None:\n",
    "    print(result_df.head())  # Display the first few rows of the DataFrame\n",
    "else:\n",
    "    print(\"Failed to retrieve data from Snowflake.\")"
   ]
  },
  {
   "cell_type": "markdown",
   "metadata": {},
   "source": [
    "# Phase 1\n",
    "Lets understand the packages and process being used and forecast for one department-entity combination\n",
    "\n",
    "Referecen: https://moez-62905.medium.com/time-series-in-python-10502f9fac2a"
   ]
  },
  {
   "cell_type": "code",
   "execution_count": 49,
   "metadata": {},
   "outputs": [
    {
     "name": "stdout",
     "output_type": "stream",
     "text": [
      "      DEP_ENT      MONTH    NET_SALES  BUDGET_AMOUNT  FORECAST\n",
      "0     240_155 2017-02-01   4153796.71      4198000.0       NaN\n",
      "1     240_155 2017-03-01   5940741.71      4892400.0       NaN\n",
      "2     240_155 2017-04-01   4789757.73      5580200.0       NaN\n",
      "3     240_155 2017-05-01   6356822.97      5298000.0       NaN\n",
      "4     240_155 2017-06-01   5756533.29      4678000.0       NaN\n",
      "...       ...        ...          ...            ...       ...\n",
      "1260  210_155 2016-07-01   6283148.80     11311652.0       NaN\n",
      "1261  210_155 2016-08-01   5626725.62     11326527.0       NaN\n",
      "1262  210_155 2016-09-01  10283086.45     11377763.0       NaN\n",
      "1263  210_155 2016-10-01   6239512.66     11377763.0       NaN\n",
      "1264  210_155 2016-11-01  16467966.49     11690688.0       NaN\n",
      "\n",
      "[1265 rows x 5 columns]\n"
     ]
    }
   ],
   "source": [
    "# head and tail\n",
    "print(result_df)"
   ]
  },
  {
   "cell_type": "code",
   "execution_count": 50,
   "metadata": {},
   "outputs": [
    {
     "name": "stdout",
     "output_type": "stream",
     "text": [
      "   DEP_ENT      MONTH   NET_SALES  BUDGET_AMOUNT  FORECAST\n",
      "0  240_155 2017-02-01  4153796.71      4198000.0       NaN\n",
      "1  240_155 2017-03-01  5940741.71      4892400.0       NaN\n",
      "2  240_155 2017-04-01  4789757.73      5580200.0       NaN\n",
      "3  240_155 2017-05-01  6356822.97      5298000.0       NaN\n",
      "4  240_155 2017-06-01  5756533.29      4678000.0       NaN\n",
      "DEP_ENT                  object\n",
      "MONTH            datetime64[ns]\n",
      "NET_SALES               float64\n",
      "BUDGET_AMOUNT           float64\n",
      "FORECAST                float64\n",
      "dtype: object\n"
     ]
    }
   ],
   "source": [
    "result_df[\"MONTH\"] = pd.to_datetime(result_df[\"MONTH\"])\n",
    "print(result_df.head())\n",
    "print(result_df.dtypes)"
   ]
  },
  {
   "cell_type": "code",
   "execution_count": 51,
   "metadata": {},
   "outputs": [
    {
     "name": "stdout",
     "output_type": "stream",
     "text": [
      "         MONTH   NET_SALES\n",
      "192 2016-01-01  2592017.04\n",
      "193 2016-02-01  2348092.91\n",
      "194 2016-03-01  2894584.98\n",
      "195 2016-04-01  2163636.39\n",
      "196 2016-05-01  3210147.13\n",
      "..         ...         ...\n",
      "358 2023-03-01  2325654.24\n",
      "359 2023-04-01  1918474.98\n",
      "360 2023-05-01  2443940.14\n",
      "361 2023-06-01  1748262.30\n",
      "362 2023-07-01  1787253.79\n",
      "\n",
      "[91 rows x 2 columns]\n",
      "MONTH        datetime64[ns]\n",
      "NET_SALES           float64\n",
      "dtype: object\n"
     ]
    }
   ],
   "source": [
    "df_200_155 = result_df[result_df[\"DEP_ENT\"] == '200_155']\n",
    "df_200_155 = df_200_155[df_200_155['MONTH'] <= pd.Timestamp(2023,7,1)] # dont have data beyond july '23 so no way to check model accuracy\n",
    "df_200_155 = df_200_155[[\"MONTH\", \"NET_SALES\"]]\n",
    "print(df_200_155)\n",
    "print(df_200_155.dtypes)"
   ]
  },
  {
   "cell_type": "code",
   "execution_count": 52,
   "metadata": {},
   "outputs": [
    {
     "name": "stdout",
     "output_type": "stream",
     "text": [
      "         MONTH   NET_SALES  Month  Year  Series\n",
      "192 2016-01-01  2592017.04      1  2016       1\n",
      "193 2016-02-01  2348092.91      2  2016       2\n",
      "194 2016-03-01  2894584.98      3  2016       3\n",
      "195 2016-04-01  2163636.39      4  2016       4\n",
      "196 2016-05-01  3210147.13      5  2016       5\n"
     ]
    }
   ],
   "source": [
    "# ML Can't deal with dates directly so we need to extract some basic properties\n",
    "\n",
    "# extract month and year from dates\n",
    "df_200_155['Month'] = [i.month for i in df_200_155['MONTH']]\n",
    "df_200_155['Year'] = [i.year for i in df_200_155['MONTH']]\n",
    "# create a sequence of numbers\n",
    "df_200_155['Series'] = np.arange(1,len(df_200_155)+1)\n",
    "print(df_200_155.head())"
   ]
  },
  {
   "cell_type": "code",
   "execution_count": 54,
   "metadata": {},
   "outputs": [
    {
     "name": "stderr",
     "output_type": "stream",
     "text": [
      "C:\\Users\\crudek\\AppData\\Local\\Temp\\ipykernel_6456\\1399168964.py:4: SettingWithCopyWarning: \n",
      "A value is trying to be set on a copy of a slice from a DataFrame\n",
      "\n",
      "See the caveats in the documentation: https://pandas.pydata.org/pandas-docs/stable/user_guide/indexing.html#returning-a-view-versus-a-copy\n",
      "  train.drop(['MONTH'], axis=1, inplace=True)\n",
      "C:\\Users\\crudek\\AppData\\Local\\Temp\\ipykernel_6456\\1399168964.py:11: SettingWithCopyWarning: \n",
      "A value is trying to be set on a copy of a slice from a DataFrame\n",
      "\n",
      "See the caveats in the documentation: https://pandas.pydata.org/pandas-docs/stable/user_guide/indexing.html#returning-a-view-versus-a-copy\n",
      "  test.drop(['MONTH'], axis=1, inplace=True)\n"
     ]
    }
   ],
   "source": [
    "# Create training dataset\n",
    "train = df_200_155[df_200_155['MONTH'] <= pd.Timestamp(2022,4,1)] # ~80%\n",
    "# drop unnecessary columns and re-arrange\n",
    "train.drop(['MONTH'], axis=1, inplace=True)\n",
    "train = train[['Series', 'Year', 'Month', 'NET_SALES']] \n",
    "\n",
    "\n",
    "# Create testing dataset\n",
    "test = df_200_155[df_200_155['MONTH'] > pd.Timestamp(2022,4,1)] # ~20%\n",
    "# drop unnecessary columns and re-arrange\n",
    "test.drop(['MONTH'], axis=1, inplace=True)\n",
    "test = test[['Series', 'Year', 'Month', 'NET_SALES']] "
   ]
  },
  {
   "cell_type": "code",
   "execution_count": 55,
   "metadata": {},
   "outputs": [
    {
     "data": {
      "text/plain": [
       "((76, 4), (15, 4))"
      ]
     },
     "execution_count": 55,
     "metadata": {},
     "output_type": "execute_result"
    }
   ],
   "source": [
    "# good\n",
    "train.shape, test.shape"
   ]
  },
  {
   "cell_type": "code",
   "execution_count": 57,
   "metadata": {},
   "outputs": [
    {
     "ename": "ModuleNotFoundError",
     "evalue": "No module named 'pycaret'",
     "output_type": "error",
     "traceback": [
      "\u001b[1;31m---------------------------------------------------------------------------\u001b[0m",
      "\u001b[1;31mModuleNotFoundError\u001b[0m                       Traceback (most recent call last)",
      "\u001b[1;32m~\\AppData\\Local\\Temp\\ipykernel_6456\\1204929800.py\u001b[0m in \u001b[0;36m<module>\u001b[1;34m\u001b[0m\n\u001b[0;32m      1\u001b[0m \u001b[1;31m# import the regression module from pycaret\u001b[0m\u001b[1;33m\u001b[0m\u001b[1;33m\u001b[0m\u001b[0m\n\u001b[1;32m----> 2\u001b[1;33m \u001b[1;32mfrom\u001b[0m \u001b[0mpycaret\u001b[0m \u001b[1;32mimport\u001b[0m \u001b[0mregression\u001b[0m\u001b[1;33m\u001b[0m\u001b[1;33m\u001b[0m\u001b[0m\n\u001b[0m",
      "\u001b[1;31mModuleNotFoundError\u001b[0m: No module named 'pycaret'"
     ]
    }
   ],
   "source": [
    "# import the regression module from pycaret\n",
    "from pycaret import regression"
   ]
  }
 ],
 "metadata": {
  "kernelspec": {
   "display_name": "base",
   "language": "python",
   "name": "python3"
  },
  "language_info": {
   "codemirror_mode": {
    "name": "ipython",
    "version": 3
   },
   "file_extension": ".py",
   "mimetype": "text/x-python",
   "name": "python",
   "nbconvert_exporter": "python",
   "pygments_lexer": "ipython3",
   "version": "3.9.13"
  },
  "orig_nbformat": 4
 },
 "nbformat": 4,
 "nbformat_minor": 2
}
