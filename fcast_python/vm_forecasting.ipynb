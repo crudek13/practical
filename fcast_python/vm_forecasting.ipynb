{
 "cells": [
  {
   "cell_type": "markdown",
   "metadata": {},
   "source": [
    "# Query Snowflake in Python"
   ]
  },
  {
   "cell_type": "markdown",
   "metadata": {},
   "source": [
    "# Run in terminal if not already installed\n",
    "pip install snowflake-connector-python\n",
    "pip install pandas"
   ]
  },
  {
   "cell_type": "code",
   "execution_count": null,
   "metadata": {},
   "outputs": [],
   "source": [
    "# copy and paste in to a new chunk, enter credentials and run to save in environment. Then delete chunk\n",
    "%env snowflakeuser=<your_snowflake_username>\n",
    "%env snowflakepass=<your_snowflake_password>"
   ]
  },
  {
   "cell_type": "code",
   "execution_count": 29,
   "metadata": {},
   "outputs": [],
   "source": [
    "# Packages\n",
    "import snowflake.connector\n",
    "import pandas as pd\n",
    "import os"
   ]
  },
  {
   "cell_type": "code",
   "execution_count": 32,
   "metadata": {},
   "outputs": [
    {
     "name": "stdout",
     "output_type": "stream",
     "text": [
      "   DEP_ENT       MONTH   NET_SALES  BUDGET_AMOUNT  FORECAST\n",
      "0  240_155  2017-02-01  4153796.71      4198000.0       NaN\n",
      "1  240_155  2017-03-01  5940741.71      4892400.0       NaN\n",
      "2  240_155  2017-04-01  4789757.73      5580200.0       NaN\n",
      "3  240_155  2017-05-01  6356822.97      5298000.0       NaN\n",
      "4  240_155  2017-06-01  5756533.29      4678000.0       NaN\n"
     ]
    }
   ],
   "source": [
    "def snowflake_to_pandas(connection_params, query):\n",
    "    try:\n",
    "        # Establish a connection to Snowflake\n",
    "        conn = snowflake.connector.connect(**connection_params)\n",
    "\n",
    "        # Execute the SQL query and fetch the results into a DataFrame\n",
    "        df = pd.read_sql_query(query, conn)\n",
    "\n",
    "        # Close the connection\n",
    "        conn.close()\n",
    "\n",
    "        return df\n",
    "    except Exception as e:\n",
    "        print(f\"Error: {e}\")\n",
    "        return None\n",
    "\n",
    "# Replace these with your Snowflake connection parameters\n",
    "connection_params = {\n",
    "    \"user\": os.environ['snowflakeuser'],\n",
    "    \"password\": os.environ['snowflakepass'],\n",
    "    \"account\": \"zib52348.us-east-1\",\n",
    "    \"role\": \"ACCOUNTADMIN\",\n",
    "    \"warehouse\": \"REPORTING\",\n",
    "    \"database\": \"ANALYTICS\",\n",
    "    \"schema\": \"FORECASTING\",\n",
    "}\n",
    "\n",
    "# Replace this with your SQL query to select data from your table\n",
    "query = 'SELECT * FROM \"ANALYTICS\".\"FORECASTING\".\"sales_fcast_combined_v\"'\n",
    "\n",
    "# Call the function to retrieve the data into a Pandas DataFrame\n",
    "result_df = snowflake_to_pandas(connection_params, query)\n",
    "\n",
    "if result_df is not None:\n",
    "    print(result_df.head())  # Display the first few rows of the DataFrame\n",
    "else:\n",
    "    print(\"Failed to retrieve data from Snowflake.\")"
   ]
  }
 ],
 "metadata": {
  "kernelspec": {
   "display_name": "base",
   "language": "python",
   "name": "python3"
  },
  "language_info": {
   "codemirror_mode": {
    "name": "ipython",
    "version": 3
   },
   "file_extension": ".py",
   "mimetype": "text/x-python",
   "name": "python",
   "nbconvert_exporter": "python",
   "pygments_lexer": "ipython3",
   "version": "3.9.13"
  },
  "orig_nbformat": 4
 },
 "nbformat": 4,
 "nbformat_minor": 2
}
