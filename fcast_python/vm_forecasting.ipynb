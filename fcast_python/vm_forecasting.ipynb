{
 "cells": [
  {
   "cell_type": "markdown",
   "metadata": {},
   "source": [
    "# Query Snowflake in Python"
   ]
  },
  {
   "cell_type": "code",
   "execution_count": null,
   "metadata": {},
   "outputs": [],
   "source": [
    "# copy and paste in to a new chunk, enter credentials and run to save in environment. Then delete chunk\n",
    "%env snowflakeuser=<your_snowflake_username>\n",
    "%env snowflakepass=<your_snowflake_password>"
   ]
  },
  {
   "cell_type": "code",
   "execution_count": 3,
   "metadata": {},
   "outputs": [
    {
     "name": "stderr",
     "output_type": "stream",
     "text": [
      "c:\\Users\\crudek\\Anaconda3\\lib\\site-packages\\snowflake\\connector\\options.py:96: UserWarning: You have an incompatible version of 'pyarrow' installed (11.0.0), please install a version that adheres to: 'pyarrow<8.1.0,>=8.0.0; extra == \"pandas\"'\n",
      "  warn_incompatible_dep(\n"
     ]
    }
   ],
   "source": [
    "# Packages\n",
    "import snowflake.connector\n",
    "import pandas as pd\n",
    "import os\n",
    "import numpy as np"
   ]
  },
  {
   "cell_type": "code",
   "execution_count": 4,
   "metadata": {},
   "outputs": [
    {
     "name": "stderr",
     "output_type": "stream",
     "text": [
      "c:\\Users\\crudek\\Anaconda3\\lib\\site-packages\\pandas\\io\\sql.py:762: UserWarning: pandas only support SQLAlchemy connectable(engine/connection) ordatabase string URI or sqlite3 DBAPI2 connectionother DBAPI2 objects are not tested, please consider using SQLAlchemy\n",
      "  warnings.warn(\n"
     ]
    },
    {
     "name": "stdout",
     "output_type": "stream",
     "text": [
      "   DEP_ENT       MONTH    NET_SALES  BUDGET_AMOUNT  FORECAST\n",
      "0  210_155  2016-12-01   6719381.11     14486537.0       NaN\n",
      "1  210_155  2017-01-01   1694443.80      6155140.0       NaN\n",
      "2  210_155  2017-02-01   4319283.82      8460802.0       NaN\n",
      "3  210_155  2017-03-01   3585583.41     13007481.0       NaN\n",
      "4  210_155  2017-04-01  15336265.41     15871856.0       NaN\n"
     ]
    }
   ],
   "source": [
    "def snowflake_to_pandas(connection_params, query):\n",
    "    try:\n",
    "        # Establish a connection to Snowflake\n",
    "        conn = snowflake.connector.connect(**connection_params)\n",
    "\n",
    "        # Execute the SQL query and fetch the results into a DataFrame\n",
    "        df = pd.read_sql_query(query, conn)\n",
    "\n",
    "        # Close the connection\n",
    "        conn.close()\n",
    "\n",
    "        return df\n",
    "    except Exception as e:\n",
    "        print(f\"Error: {e}\")\n",
    "        return None\n",
    "\n",
    "# Snowflake connection parameters\n",
    "connection_params = {\n",
    "    \"user\": os.environ['snowflakeuser'],\n",
    "    \"password\": os.environ['snowflakepass'],\n",
    "    \"account\": \"zib52348.us-east-1\",\n",
    "    \"role\": \"ACCOUNTADMIN\",\n",
    "    \"warehouse\": \"REPORTING\",\n",
    "    \"database\": \"ANALYTICS\",\n",
    "    \"schema\": \"FORECASTING\",\n",
    "}\n",
    "\n",
    "# SQL command \n",
    "query = 'SELECT * FROM \"ANALYTICS\".\"FORECASTING\".\"sales_fcast_combined_v\"'\n",
    "\n",
    "# Call the function to retrieve the data into a Pandas DataFrame\n",
    "result_df = snowflake_to_pandas(connection_params, query)\n",
    "\n",
    "if result_df is not None:\n",
    "    print(result_df.head())  # Display the first few rows of the DataFrame\n",
    "else:\n",
    "    print(\"Failed to retrieve data from Snowflake.\")"
   ]
  },
  {
   "cell_type": "markdown",
   "metadata": {},
   "source": [
    "###############\n",
    "### Phase 1 ###\n",
    "###############\n",
    "\n",
    "Lets understand the packages and process being used and forecast for one department-entity combination before doing multiple series\n",
    "\n",
    "Referecen: https://moez-62905.medium.com/time-series-in-python-10502f9fac2a"
   ]
  },
  {
   "cell_type": "code",
   "execution_count": 5,
   "metadata": {},
   "outputs": [
    {
     "name": "stdout",
     "output_type": "stream",
     "text": [
      "      DEP_ENT       MONTH    NET_SALES  BUDGET_AMOUNT  FORECAST\n",
      "0     210_155  2016-12-01   6719381.11     14486537.0       NaN\n",
      "1     210_155  2017-01-01   1694443.80      6155140.0       NaN\n",
      "2     210_155  2017-02-01   4319283.82      8460802.0       NaN\n",
      "3     210_155  2017-03-01   3585583.41     13007481.0       NaN\n",
      "4     210_155  2017-04-01  15336265.41     15871856.0       NaN\n",
      "...       ...         ...          ...            ...       ...\n",
      "1260  250_155  2021-11-01  13526148.43            NaN       NaN\n",
      "1261  250_155  2021-12-01   5335129.60            NaN       NaN\n",
      "1262  250_155  2022-01-01   5831587.19      5939097.0       NaN\n",
      "1263  250_155  2022-02-01   5428107.02      7616347.0       NaN\n",
      "1264  250_155  2022-03-01   5226201.46      7789916.0       NaN\n",
      "\n",
      "[1265 rows x 5 columns]\n"
     ]
    }
   ],
   "source": [
    "# head and tail\n",
    "print(result_df)"
   ]
  },
  {
   "cell_type": "code",
   "execution_count": 6,
   "metadata": {},
   "outputs": [
    {
     "name": "stdout",
     "output_type": "stream",
     "text": [
      "   DEP_ENT      MONTH    NET_SALES  BUDGET_AMOUNT  FORECAST\n",
      "0  210_155 2016-12-01   6719381.11     14486537.0       NaN\n",
      "1  210_155 2017-01-01   1694443.80      6155140.0       NaN\n",
      "2  210_155 2017-02-01   4319283.82      8460802.0       NaN\n",
      "3  210_155 2017-03-01   3585583.41     13007481.0       NaN\n",
      "4  210_155 2017-04-01  15336265.41     15871856.0       NaN\n",
      "DEP_ENT                  object\n",
      "MONTH            datetime64[ns]\n",
      "NET_SALES               float64\n",
      "BUDGET_AMOUNT           float64\n",
      "FORECAST                float64\n",
      "dtype: object\n"
     ]
    }
   ],
   "source": [
    "result_df[\"MONTH\"] = pd.to_datetime(result_df[\"MONTH\"])\n",
    "print(result_df.head())\n",
    "print(result_df.dtypes)"
   ]
  },
  {
   "cell_type": "code",
   "execution_count": 7,
   "metadata": {},
   "outputs": [
    {
     "name": "stdout",
     "output_type": "stream",
     "text": [
      "         MONTH   NET_SALES\n",
      "192 2016-01-01  2592017.04\n",
      "193 2016-02-01  2348092.91\n",
      "194 2016-03-01  2894584.98\n",
      "195 2016-04-01  2163636.39\n",
      "196 2016-05-01  3210147.13\n",
      "..         ...         ...\n",
      "910 2023-02-01  1728206.02\n",
      "911 2023-03-01  2325654.24\n",
      "912 2023-04-01  1918474.98\n",
      "913 2023-05-01  2443940.14\n",
      "914 2023-06-01  1748262.30\n",
      "\n",
      "[90 rows x 2 columns]\n",
      "MONTH        datetime64[ns]\n",
      "NET_SALES           float64\n",
      "dtype: object\n"
     ]
    }
   ],
   "source": [
    "df_200_155 = result_df[result_df[\"DEP_ENT\"] == '200_155']\n",
    "df_200_155 = df_200_155[df_200_155['MONTH'] <= pd.Timestamp(2023,6,1)] \n",
    "\"\"\"\n",
    "ABOVE: we have data beyond july '23, but we want to compare with \n",
    "some models that only had through june. No way to check model accuracy beyond the daya we have\n",
    "\"\"\"\n",
    "df_200_155 = df_200_155[[\"MONTH\", \"NET_SALES\"]]\n",
    "print(df_200_155)\n",
    "print(df_200_155.dtypes)"
   ]
  },
  {
   "cell_type": "code",
   "execution_count": 8,
   "metadata": {},
   "outputs": [
    {
     "name": "stdout",
     "output_type": "stream",
     "text": [
      "         MONTH   NET_SALES  Month  Year  Series\n",
      "192 2016-01-01  2592017.04      1  2016       1\n",
      "193 2016-02-01  2348092.91      2  2016       2\n",
      "194 2016-03-01  2894584.98      3  2016       3\n",
      "195 2016-04-01  2163636.39      4  2016       4\n",
      "196 2016-05-01  3210147.13      5  2016       5\n"
     ]
    }
   ],
   "source": [
    "# ML Can't deal with dates directly so we need to extract some basic properties\n",
    "\n",
    "# extract month and year from dates\n",
    "df_200_155['Month'] = [i.month for i in df_200_155['MONTH']]\n",
    "df_200_155['Year'] = [i.year for i in df_200_155['MONTH']]\n",
    "# create a sequence of numbers\n",
    "df_200_155['Series'] = np.arange(1,len(df_200_155)+1)\n",
    "print(df_200_155.head())"
   ]
  },
  {
   "cell_type": "code",
   "execution_count": 9,
   "metadata": {},
   "outputs": [
    {
     "name": "stderr",
     "output_type": "stream",
     "text": [
      "C:\\Users\\crudek\\AppData\\Local\\Temp\\ipykernel_22768\\3638390786.py:4: SettingWithCopyWarning: \n",
      "A value is trying to be set on a copy of a slice from a DataFrame\n",
      "\n",
      "See the caveats in the documentation: https://pandas.pydata.org/pandas-docs/stable/user_guide/indexing.html#returning-a-view-versus-a-copy\n",
      "  train.drop(['MONTH'], axis=1, inplace=True)\n",
      "C:\\Users\\crudek\\AppData\\Local\\Temp\\ipykernel_22768\\3638390786.py:11: SettingWithCopyWarning: \n",
      "A value is trying to be set on a copy of a slice from a DataFrame\n",
      "\n",
      "See the caveats in the documentation: https://pandas.pydata.org/pandas-docs/stable/user_guide/indexing.html#returning-a-view-versus-a-copy\n",
      "  test.drop(['MONTH'], axis=1, inplace=True)\n"
     ]
    }
   ],
   "source": [
    "# Create training dataset\n",
    "train = df_200_155[df_200_155['MONTH'] <= pd.Timestamp(2022,4,1)] # ~80%\n",
    "# drop unnecessary columns and re-arrange\n",
    "train.drop(['MONTH'], axis=1, inplace=True)\n",
    "train = train[['Series', 'Year', 'Month', 'NET_SALES']] \n",
    "\n",
    "\n",
    "# Create testing dataset\n",
    "test = df_200_155[df_200_155['MONTH'] > pd.Timestamp(2022,4,1)] # ~20%\n",
    "# drop unnecessary columns and re-arrange\n",
    "test.drop(['MONTH'], axis=1, inplace=True)\n",
    "test = test[['Series', 'Year', 'Month', 'NET_SALES']] "
   ]
  },
  {
   "cell_type": "code",
   "execution_count": 10,
   "metadata": {},
   "outputs": [
    {
     "data": {
      "text/plain": [
       "((76, 4), (14, 4))"
      ]
     },
     "execution_count": 10,
     "metadata": {},
     "output_type": "execute_result"
    }
   ],
   "source": [
    "# good if around 80/20 split train/test\n",
    "train.shape, test.shape"
   ]
  },
  {
   "cell_type": "code",
   "execution_count": 11,
   "metadata": {},
   "outputs": [],
   "source": [
    "# import the regression module\n",
    "from pycaret.regression import *"
   ]
  },
  {
   "cell_type": "code",
   "execution_count": 12,
   "metadata": {},
   "outputs": [],
   "source": [
    "import plotly.express as px"
   ]
  },
  {
   "cell_type": "code",
   "execution_count": 19,
   "metadata": {},
   "outputs": [
    {
     "data": {
      "application/vnd.jupyter.widget-view+json": {
       "model_id": "6ec56ce9a11047558234873d858e7973",
       "version_major": 2,
       "version_minor": 0
      },
      "text/plain": [
       "IntProgress(value=0, description='Processing: ', max=3)"
      ]
     },
     "metadata": {},
     "output_type": "display_data"
    },
    {
     "data": {
      "text/html": [
       "<div>\n",
       "<style scoped>\n",
       "    .dataframe tbody tr th:only-of-type {\n",
       "        vertical-align: middle;\n",
       "    }\n",
       "\n",
       "    .dataframe tbody tr th {\n",
       "        vertical-align: top;\n",
       "    }\n",
       "\n",
       "    .dataframe thead th {\n",
       "        text-align: right;\n",
       "    }\n",
       "</style>\n",
       "<table border=\"1\" class=\"dataframe\">\n",
       "  <thead>\n",
       "    <tr style=\"text-align: right;\">\n",
       "      <th></th>\n",
       "      <th></th>\n",
       "      <th></th>\n",
       "    </tr>\n",
       "    <tr>\n",
       "      <th></th>\n",
       "      <th></th>\n",
       "      <th></th>\n",
       "    </tr>\n",
       "  </thead>\n",
       "  <tbody>\n",
       "    <tr>\n",
       "      <th>Initiated</th>\n",
       "      <td>. . . . . . . . . . . . . . . . . .</td>\n",
       "      <td>12:12:19</td>\n",
       "    </tr>\n",
       "    <tr>\n",
       "      <th>Status</th>\n",
       "      <td>. . . . . . . . . . . . . . . . . .</td>\n",
       "      <td>Preparing Data for Modeling</td>\n",
       "    </tr>\n",
       "  </tbody>\n",
       "</table>\n",
       "</div>"
      ],
      "text/plain": [
       "                                                                           \n",
       "                                                                           \n",
       "Initiated  . . . . . . . . . . . . . . . . . .                     12:12:19\n",
       "Status     . . . . . . . . . . . . . . . . . .  Preparing Data for Modeling"
      ]
     },
     "metadata": {},
     "output_type": "display_data"
    },
    {
     "ename": "ImportError",
     "evalue": "cannot import name '_fit_context' from 'sklearn.base' (c:\\Users\\crudek\\Anaconda3\\lib\\site-packages\\sklearn\\base.py)",
     "output_type": "error",
     "traceback": [
      "\u001b[1;31m---------------------------------------------------------------------------\u001b[0m",
      "\u001b[1;31mImportError\u001b[0m                               Traceback (most recent call last)",
      "\u001b[1;32m~\\AppData\\Local\\Temp\\ipykernel_22768\\1542487862.py\u001b[0m in \u001b[0;36m<module>\u001b[1;34m\u001b[0m\n\u001b[0;32m      1\u001b[0m \u001b[1;31m# initialize setup\u001b[0m\u001b[1;33m\u001b[0m\u001b[1;33m\u001b[0m\u001b[0m\n\u001b[1;32m----> 2\u001b[1;33m s = setup(data = train, test_data = test, target = 'NET_SALES', \n\u001b[0m\u001b[0;32m      3\u001b[0m           \u001b[0mfold_strategy\u001b[0m \u001b[1;33m=\u001b[0m \u001b[1;34m'timeseries'\u001b[0m\u001b[1;33m,\u001b[0m \u001b[0mnumeric_features\u001b[0m \u001b[1;33m=\u001b[0m \u001b[1;33m[\u001b[0m\u001b[1;34m'Year'\u001b[0m\u001b[1;33m,\u001b[0m \u001b[1;34m'Series'\u001b[0m\u001b[1;33m]\u001b[0m\u001b[1;33m,\u001b[0m\u001b[1;33m\u001b[0m\u001b[1;33m\u001b[0m\u001b[0m\n\u001b[0;32m      4\u001b[0m           fold = 3, transform_target = True, imputation_type='iterative', session_id = 123)\n",
      "\u001b[1;32mc:\\Users\\crudek\\Anaconda3\\lib\\site-packages\\pycaret\\regression.py\u001b[0m in \u001b[0;36msetup\u001b[1;34m(data, target, train_size, test_data, preprocess, imputation_type, iterative_imputation_iters, categorical_features, categorical_imputation, categorical_iterative_imputer, ordinal_features, high_cardinality_features, high_cardinality_method, numeric_features, numeric_imputation, numeric_iterative_imputer, date_features, ignore_features, normalize, normalize_method, transformation, transformation_method, handle_unknown_categorical, unknown_categorical_method, pca, pca_method, pca_components, ignore_low_variance, combine_rare_levels, rare_level_threshold, bin_numeric_features, remove_outliers, outliers_threshold, remove_multicollinearity, multicollinearity_threshold, remove_perfect_collinearity, create_clusters, cluster_iter, polynomial_features, polynomial_degree, trigonometry_features, polynomial_threshold, group_features, group_names, feature_selection, feature_selection_threshold, feature_selection_method, feature_interaction, feature_ratio, interaction_threshold, transform_target, transform_target_method, data_split_shuffle, data_split_stratify, fold_strategy, fold, fold_shuffle, fold_groups, n_jobs, use_gpu, custom_pipeline, html, session_id, log_experiment, experiment_name, log_plots, log_profile, log_data, silent, verbose, profile, profile_kwargs)\u001b[0m\n\u001b[0;32m    569\u001b[0m         \u001b[0mlog_plots\u001b[0m \u001b[1;33m=\u001b[0m \u001b[1;33m[\u001b[0m\u001b[1;34m\"residuals\"\u001b[0m\u001b[1;33m,\u001b[0m \u001b[1;34m\"error\"\u001b[0m\u001b[1;33m,\u001b[0m \u001b[1;34m\"feature\"\u001b[0m\u001b[1;33m]\u001b[0m\u001b[1;33m\u001b[0m\u001b[1;33m\u001b[0m\u001b[0m\n\u001b[0;32m    570\u001b[0m \u001b[1;33m\u001b[0m\u001b[0m\n\u001b[1;32m--> 571\u001b[1;33m     return pycaret.internal.tabular.setup(\n\u001b[0m\u001b[0;32m    572\u001b[0m         \u001b[0mml_usecase\u001b[0m\u001b[1;33m=\u001b[0m\u001b[1;34m\"regression\"\u001b[0m\u001b[1;33m,\u001b[0m\u001b[1;33m\u001b[0m\u001b[1;33m\u001b[0m\u001b[0m\n\u001b[0;32m    573\u001b[0m         \u001b[0mavailable_plots\u001b[0m\u001b[1;33m=\u001b[0m\u001b[0mavailable_plots\u001b[0m\u001b[1;33m,\u001b[0m\u001b[1;33m\u001b[0m\u001b[1;33m\u001b[0m\u001b[0m\n",
      "\u001b[1;32mc:\\Users\\crudek\\Anaconda3\\lib\\site-packages\\pycaret\\internal\\tabular.py\u001b[0m in \u001b[0;36msetup\u001b[1;34m(data, target, ml_usecase, available_plots, train_size, test_data, preprocess, imputation_type, iterative_imputation_iters, categorical_features, categorical_imputation, categorical_iterative_imputer, ordinal_features, high_cardinality_features, high_cardinality_method, numeric_features, numeric_imputation, numeric_iterative_imputer, date_features, ignore_features, normalize, normalize_method, transformation, transformation_method, handle_unknown_categorical, unknown_categorical_method, pca, pca_method, pca_components, ignore_low_variance, combine_rare_levels, rare_level_threshold, bin_numeric_features, remove_outliers, outliers_threshold, remove_multicollinearity, multicollinearity_threshold, remove_perfect_collinearity, create_clusters, cluster_iter, polynomial_features, polynomial_degree, trigonometry_features, polynomial_threshold, group_features, group_names, feature_selection, feature_selection_threshold, feature_selection_method, feature_interaction, feature_ratio, interaction_threshold, fix_imbalance, fix_imbalance_method, transform_target, transform_target_method, data_split_shuffle, data_split_stratify, fold_strategy, fold, fold_shuffle, fold_groups, n_jobs, use_gpu, custom_pipeline, html, session_id, log_experiment, experiment_name, log_plots, log_profile, log_data, silent, verbose, profile, profile_kwargs, display)\u001b[0m\n\u001b[0;32m   1037\u001b[0m         iterative_imputer_classification_models = {\n\u001b[0;32m   1038\u001b[0m             \u001b[0mk\u001b[0m\u001b[1;33m:\u001b[0m \u001b[0mv\u001b[0m\u001b[1;33m\u001b[0m\u001b[1;33m\u001b[0m\u001b[0m\n\u001b[1;32m-> 1039\u001b[1;33m             for k, v in pycaret.containers.models.classification.get_all_model_containers(\n\u001b[0m\u001b[0;32m   1040\u001b[0m                 \u001b[0miterative_imputer_models_globals\u001b[0m\u001b[1;33m,\u001b[0m \u001b[0mraise_errors\u001b[0m\u001b[1;33m=\u001b[0m\u001b[1;32mTrue\u001b[0m\u001b[1;33m\u001b[0m\u001b[1;33m\u001b[0m\u001b[0m\n\u001b[0;32m   1041\u001b[0m             ).items()\n",
      "\u001b[1;32mc:\\Users\\crudek\\Anaconda3\\lib\\site-packages\\pycaret\\containers\\models\\classification.py\u001b[0m in \u001b[0;36mget_all_model_containers\u001b[1;34m(globals_dict, raise_errors)\u001b[0m\n\u001b[0;32m   1421\u001b[0m     \u001b[0mglobals_dict\u001b[0m\u001b[1;33m:\u001b[0m \u001b[0mdict\u001b[0m\u001b[1;33m,\u001b[0m \u001b[0mraise_errors\u001b[0m\u001b[1;33m:\u001b[0m \u001b[0mbool\u001b[0m \u001b[1;33m=\u001b[0m \u001b[1;32mTrue\u001b[0m\u001b[1;33m\u001b[0m\u001b[1;33m\u001b[0m\u001b[0m\n\u001b[0;32m   1422\u001b[0m ) -> Dict[str, ClassifierContainer]:\n\u001b[1;32m-> 1423\u001b[1;33m     return pycaret.containers.base_container.get_all_containers(\n\u001b[0m\u001b[0;32m   1424\u001b[0m         \u001b[0mglobals\u001b[0m\u001b[1;33m(\u001b[0m\u001b[1;33m)\u001b[0m\u001b[1;33m,\u001b[0m \u001b[0mglobals_dict\u001b[0m\u001b[1;33m,\u001b[0m \u001b[0mClassifierContainer\u001b[0m\u001b[1;33m,\u001b[0m \u001b[0mraise_errors\u001b[0m\u001b[1;33m\u001b[0m\u001b[1;33m\u001b[0m\u001b[0m\n\u001b[0;32m   1425\u001b[0m     )\n",
      "\u001b[1;32mc:\\Users\\crudek\\Anaconda3\\lib\\site-packages\\pycaret\\containers\\base_container.py\u001b[0m in \u001b[0;36mget_all_containers\u001b[1;34m(container_globals, globals_dict, type_var, raise_errors)\u001b[0m\n\u001b[0;32m    101\u001b[0m     \u001b[1;32mfor\u001b[0m \u001b[0mobj\u001b[0m \u001b[1;32min\u001b[0m \u001b[0mmodel_container_classes\u001b[0m\u001b[1;33m:\u001b[0m\u001b[1;33m\u001b[0m\u001b[1;33m\u001b[0m\u001b[0m\n\u001b[0;32m    102\u001b[0m         \u001b[1;32mif\u001b[0m \u001b[0mraise_errors\u001b[0m\u001b[1;33m:\u001b[0m\u001b[1;33m\u001b[0m\u001b[1;33m\u001b[0m\u001b[0m\n\u001b[1;32m--> 103\u001b[1;33m             \u001b[0mmodel_containers\u001b[0m\u001b[1;33m.\u001b[0m\u001b[0mappend\u001b[0m\u001b[1;33m(\u001b[0m\u001b[0mobj\u001b[0m\u001b[1;33m(\u001b[0m\u001b[0mglobals_dict\u001b[0m\u001b[1;33m)\u001b[0m\u001b[1;33m)\u001b[0m\u001b[1;33m\u001b[0m\u001b[1;33m\u001b[0m\u001b[0m\n\u001b[0m\u001b[0;32m    104\u001b[0m         \u001b[1;32melse\u001b[0m\u001b[1;33m:\u001b[0m\u001b[1;33m\u001b[0m\u001b[1;33m\u001b[0m\u001b[0m\n\u001b[0;32m    105\u001b[0m             \u001b[1;32mtry\u001b[0m\u001b[1;33m:\u001b[0m\u001b[1;33m\u001b[0m\u001b[1;33m\u001b[0m\u001b[0m\n",
      "\u001b[1;32mc:\\Users\\crudek\\Anaconda3\\lib\\site-packages\\pycaret\\containers\\models\\classification.py\u001b[0m in \u001b[0;36m__init__\u001b[1;34m(self, globals_dict)\u001b[0m\n\u001b[0;32m    322\u001b[0m         \u001b[0mlogger\u001b[0m \u001b[1;33m=\u001b[0m \u001b[0mget_logger\u001b[0m\u001b[1;33m(\u001b[0m\u001b[1;33m)\u001b[0m\u001b[1;33m\u001b[0m\u001b[1;33m\u001b[0m\u001b[0m\n\u001b[0;32m    323\u001b[0m         \u001b[0mnp\u001b[0m\u001b[1;33m.\u001b[0m\u001b[0mrandom\u001b[0m\u001b[1;33m.\u001b[0m\u001b[0mseed\u001b[0m\u001b[1;33m(\u001b[0m\u001b[0mglobals_dict\u001b[0m\u001b[1;33m[\u001b[0m\u001b[1;34m\"seed\"\u001b[0m\u001b[1;33m]\u001b[0m\u001b[1;33m)\u001b[0m\u001b[1;33m\u001b[0m\u001b[1;33m\u001b[0m\u001b[0m\n\u001b[1;32m--> 324\u001b[1;33m         \u001b[1;32mfrom\u001b[0m \u001b[0msklearn\u001b[0m\u001b[1;33m.\u001b[0m\u001b[0mnaive_bayes\u001b[0m \u001b[1;32mimport\u001b[0m \u001b[0mGaussianNB\u001b[0m\u001b[1;33m\u001b[0m\u001b[1;33m\u001b[0m\u001b[0m\n\u001b[0m\u001b[0;32m    325\u001b[0m \u001b[1;33m\u001b[0m\u001b[0m\n\u001b[0;32m    326\u001b[0m         \u001b[0margs\u001b[0m \u001b[1;33m=\u001b[0m \u001b[1;33m{\u001b[0m\u001b[1;33m}\u001b[0m\u001b[1;33m\u001b[0m\u001b[1;33m\u001b[0m\u001b[0m\n",
      "\u001b[1;32mc:\\Users\\crudek\\Anaconda3\\lib\\site-packages\\sklearn\\naive_bayes.py\u001b[0m in \u001b[0;36m<module>\u001b[1;34m\u001b[0m\n\u001b[0;32m     21\u001b[0m \u001b[1;32mfrom\u001b[0m \u001b[0mscipy\u001b[0m\u001b[1;33m.\u001b[0m\u001b[0mspecial\u001b[0m \u001b[1;32mimport\u001b[0m \u001b[0mlogsumexp\u001b[0m\u001b[1;33m\u001b[0m\u001b[1;33m\u001b[0m\u001b[0m\n\u001b[0;32m     22\u001b[0m \u001b[1;33m\u001b[0m\u001b[0m\n\u001b[1;32m---> 23\u001b[1;33m \u001b[1;32mfrom\u001b[0m \u001b[1;33m.\u001b[0m\u001b[0mbase\u001b[0m \u001b[1;32mimport\u001b[0m \u001b[0mBaseEstimator\u001b[0m\u001b[1;33m,\u001b[0m \u001b[0mClassifierMixin\u001b[0m\u001b[1;33m,\u001b[0m \u001b[0m_fit_context\u001b[0m\u001b[1;33m\u001b[0m\u001b[1;33m\u001b[0m\u001b[0m\n\u001b[0m\u001b[0;32m     24\u001b[0m \u001b[1;32mfrom\u001b[0m \u001b[1;33m.\u001b[0m\u001b[0mpreprocessing\u001b[0m \u001b[1;32mimport\u001b[0m \u001b[0mLabelBinarizer\u001b[0m\u001b[1;33m,\u001b[0m \u001b[0mbinarize\u001b[0m\u001b[1;33m,\u001b[0m \u001b[0mlabel_binarize\u001b[0m\u001b[1;33m\u001b[0m\u001b[1;33m\u001b[0m\u001b[0m\n\u001b[0;32m     25\u001b[0m \u001b[1;32mfrom\u001b[0m \u001b[1;33m.\u001b[0m\u001b[0mutils\u001b[0m\u001b[1;33m.\u001b[0m\u001b[0m_param_validation\u001b[0m \u001b[1;32mimport\u001b[0m \u001b[0mHidden\u001b[0m\u001b[1;33m,\u001b[0m \u001b[0mInterval\u001b[0m\u001b[1;33m,\u001b[0m \u001b[0mStrOptions\u001b[0m\u001b[1;33m\u001b[0m\u001b[1;33m\u001b[0m\u001b[0m\n",
      "\u001b[1;31mImportError\u001b[0m: cannot import name '_fit_context' from 'sklearn.base' (c:\\Users\\crudek\\Anaconda3\\lib\\site-packages\\sklearn\\base.py)"
     ]
    }
   ],
   "source": [
    "# initialize setup\n",
    "s = setup(data = train, test_data = test, target = 'NET_SALES', \n",
    "          fold_strategy = 'timeseries', numeric_features = ['Year', 'Series'], \n",
    "          fold = 3, transform_target = True, session_id = 123)"
   ]
  },
  {
   "cell_type": "code",
   "execution_count": 14,
   "metadata": {},
   "outputs": [
    {
     "data": {
      "text/html": [
       "<style type=\"text/css\">\n",
       "#T_adb6b th {\n",
       "  text-align: left;\n",
       "}\n",
       "#T_adb6b_row0_col0, #T_adb6b_row1_col0, #T_adb6b_row1_col1, #T_adb6b_row1_col2, #T_adb6b_row1_col3, #T_adb6b_row1_col4, #T_adb6b_row1_col5, #T_adb6b_row1_col6, #T_adb6b_row2_col0, #T_adb6b_row2_col1, #T_adb6b_row2_col2, #T_adb6b_row2_col3, #T_adb6b_row2_col4, #T_adb6b_row2_col5, #T_adb6b_row2_col6, #T_adb6b_row3_col0, #T_adb6b_row3_col1, #T_adb6b_row3_col2, #T_adb6b_row3_col3, #T_adb6b_row3_col4, #T_adb6b_row3_col5, #T_adb6b_row3_col6, #T_adb6b_row4_col0, #T_adb6b_row4_col1, #T_adb6b_row4_col2, #T_adb6b_row4_col3, #T_adb6b_row4_col4, #T_adb6b_row4_col5, #T_adb6b_row4_col6, #T_adb6b_row5_col0, #T_adb6b_row5_col1, #T_adb6b_row5_col2, #T_adb6b_row5_col3, #T_adb6b_row5_col4, #T_adb6b_row5_col5, #T_adb6b_row5_col6, #T_adb6b_row6_col0, #T_adb6b_row6_col1, #T_adb6b_row6_col2, #T_adb6b_row6_col3, #T_adb6b_row6_col4, #T_adb6b_row6_col5, #T_adb6b_row6_col6, #T_adb6b_row7_col0, #T_adb6b_row7_col1, #T_adb6b_row7_col2, #T_adb6b_row7_col3, #T_adb6b_row7_col4, #T_adb6b_row7_col5, #T_adb6b_row7_col6, #T_adb6b_row8_col0, #T_adb6b_row8_col1, #T_adb6b_row8_col2, #T_adb6b_row8_col3, #T_adb6b_row8_col4, #T_adb6b_row8_col5, #T_adb6b_row8_col6, #T_adb6b_row9_col0, #T_adb6b_row9_col1, #T_adb6b_row9_col2, #T_adb6b_row9_col3, #T_adb6b_row9_col4, #T_adb6b_row9_col5, #T_adb6b_row9_col6, #T_adb6b_row10_col0, #T_adb6b_row10_col1, #T_adb6b_row10_col2, #T_adb6b_row10_col3, #T_adb6b_row10_col4, #T_adb6b_row10_col5, #T_adb6b_row10_col6, #T_adb6b_row11_col0, #T_adb6b_row11_col1, #T_adb6b_row11_col2, #T_adb6b_row11_col3, #T_adb6b_row11_col4, #T_adb6b_row11_col5, #T_adb6b_row11_col6, #T_adb6b_row12_col0, #T_adb6b_row12_col1, #T_adb6b_row12_col2, #T_adb6b_row12_col3, #T_adb6b_row12_col4, #T_adb6b_row12_col5, #T_adb6b_row12_col6, #T_adb6b_row13_col0, #T_adb6b_row13_col1, #T_adb6b_row13_col2, #T_adb6b_row13_col3, #T_adb6b_row13_col4, #T_adb6b_row13_col5, #T_adb6b_row13_col6, #T_adb6b_row14_col0, #T_adb6b_row14_col1, #T_adb6b_row14_col2, #T_adb6b_row14_col3, #T_adb6b_row14_col4, #T_adb6b_row14_col5, #T_adb6b_row14_col6, #T_adb6b_row15_col0, #T_adb6b_row15_col1, #T_adb6b_row15_col2, #T_adb6b_row15_col3, #T_adb6b_row15_col4, #T_adb6b_row15_col5, #T_adb6b_row15_col6, #T_adb6b_row16_col0, #T_adb6b_row16_col1, #T_adb6b_row16_col2, #T_adb6b_row16_col3, #T_adb6b_row16_col4, #T_adb6b_row16_col5, #T_adb6b_row16_col6, #T_adb6b_row17_col0, #T_adb6b_row17_col1, #T_adb6b_row17_col2, #T_adb6b_row17_col3, #T_adb6b_row17_col4, #T_adb6b_row17_col5, #T_adb6b_row17_col6, #T_adb6b_row18_col0, #T_adb6b_row18_col1, #T_adb6b_row18_col2, #T_adb6b_row18_col3, #T_adb6b_row18_col4, #T_adb6b_row18_col5, #T_adb6b_row18_col6 {\n",
       "  text-align: left;\n",
       "}\n",
       "#T_adb6b_row0_col1, #T_adb6b_row0_col2, #T_adb6b_row0_col3, #T_adb6b_row0_col4, #T_adb6b_row0_col5, #T_adb6b_row0_col6 {\n",
       "  text-align: left;\n",
       "  background-color: yellow;\n",
       "}\n",
       "#T_adb6b_row0_col7, #T_adb6b_row1_col7, #T_adb6b_row2_col7, #T_adb6b_row3_col7, #T_adb6b_row4_col7, #T_adb6b_row5_col7, #T_adb6b_row6_col7, #T_adb6b_row8_col7, #T_adb6b_row9_col7, #T_adb6b_row10_col7, #T_adb6b_row11_col7, #T_adb6b_row12_col7, #T_adb6b_row13_col7, #T_adb6b_row14_col7, #T_adb6b_row15_col7, #T_adb6b_row16_col7, #T_adb6b_row17_col7, #T_adb6b_row18_col7 {\n",
       "  text-align: left;\n",
       "  background-color: lightgrey;\n",
       "}\n",
       "#T_adb6b_row7_col7 {\n",
       "  text-align: left;\n",
       "  background-color: yellow;\n",
       "  background-color: lightgrey;\n",
       "}\n",
       "</style>\n",
       "<table id=\"T_adb6b\">\n",
       "  <thead>\n",
       "    <tr>\n",
       "      <th class=\"blank level0\" >&nbsp;</th>\n",
       "      <th id=\"T_adb6b_level0_col0\" class=\"col_heading level0 col0\" >Model</th>\n",
       "      <th id=\"T_adb6b_level0_col1\" class=\"col_heading level0 col1\" >MAE</th>\n",
       "      <th id=\"T_adb6b_level0_col2\" class=\"col_heading level0 col2\" >MSE</th>\n",
       "      <th id=\"T_adb6b_level0_col3\" class=\"col_heading level0 col3\" >RMSE</th>\n",
       "      <th id=\"T_adb6b_level0_col4\" class=\"col_heading level0 col4\" >R2</th>\n",
       "      <th id=\"T_adb6b_level0_col5\" class=\"col_heading level0 col5\" >RMSLE</th>\n",
       "      <th id=\"T_adb6b_level0_col6\" class=\"col_heading level0 col6\" >MAPE</th>\n",
       "      <th id=\"T_adb6b_level0_col7\" class=\"col_heading level0 col7\" >TT (Sec)</th>\n",
       "    </tr>\n",
       "  </thead>\n",
       "  <tbody>\n",
       "    <tr>\n",
       "      <th id=\"T_adb6b_level0_row0\" class=\"row_heading level0 row0\" >omp</th>\n",
       "      <td id=\"T_adb6b_row0_col0\" class=\"data row0 col0\" >Orthogonal Matching Pursuit</td>\n",
       "      <td id=\"T_adb6b_row0_col1\" class=\"data row0 col1\" >693941.7065</td>\n",
       "      <td id=\"T_adb6b_row0_col2\" class=\"data row0 col2\" >1023931896165.8785</td>\n",
       "      <td id=\"T_adb6b_row0_col3\" class=\"data row0 col3\" >945953.4551</td>\n",
       "      <td id=\"T_adb6b_row0_col4\" class=\"data row0 col4\" >0.2613</td>\n",
       "      <td id=\"T_adb6b_row0_col5\" class=\"data row0 col5\" >0.3270</td>\n",
       "      <td id=\"T_adb6b_row0_col6\" class=\"data row0 col6\" >0.2359</td>\n",
       "      <td id=\"T_adb6b_row0_col7\" class=\"data row0 col7\" >0.0067</td>\n",
       "    </tr>\n",
       "    <tr>\n",
       "      <th id=\"T_adb6b_level0_row1\" class=\"row_heading level0 row1\" >ridge</th>\n",
       "      <td id=\"T_adb6b_row1_col0\" class=\"data row1 col0\" >Ridge Regression</td>\n",
       "      <td id=\"T_adb6b_row1_col1\" class=\"data row1 col1\" >745730.4792</td>\n",
       "      <td id=\"T_adb6b_row1_col2\" class=\"data row1 col2\" >1292525742762.6667</td>\n",
       "      <td id=\"T_adb6b_row1_col3\" class=\"data row1 col3\" >1025399.4792</td>\n",
       "      <td id=\"T_adb6b_row1_col4\" class=\"data row1 col4\" >0.1223</td>\n",
       "      <td id=\"T_adb6b_row1_col5\" class=\"data row1 col5\" >0.3929</td>\n",
       "      <td id=\"T_adb6b_row1_col6\" class=\"data row1 col6\" >0.2379</td>\n",
       "      <td id=\"T_adb6b_row1_col7\" class=\"data row1 col7\" >0.5967</td>\n",
       "    </tr>\n",
       "    <tr>\n",
       "      <th id=\"T_adb6b_level0_row2\" class=\"row_heading level0 row2\" >en</th>\n",
       "      <td id=\"T_adb6b_row2_col0\" class=\"data row2 col0\" >Elastic Net</td>\n",
       "      <td id=\"T_adb6b_row2_col1\" class=\"data row2 col1\" >799096.1250</td>\n",
       "      <td id=\"T_adb6b_row2_col2\" class=\"data row2 col2\" >1474958677333.3333</td>\n",
       "      <td id=\"T_adb6b_row2_col3\" class=\"data row2 col3\" >1161530.3958</td>\n",
       "      <td id=\"T_adb6b_row2_col4\" class=\"data row2 col4\" >-0.1143</td>\n",
       "      <td id=\"T_adb6b_row2_col5\" class=\"data row2 col5\" >0.3818</td>\n",
       "      <td id=\"T_adb6b_row2_col6\" class=\"data row2 col6\" >0.2477</td>\n",
       "      <td id=\"T_adb6b_row2_col7\" class=\"data row2 col7\" >0.6000</td>\n",
       "    </tr>\n",
       "    <tr>\n",
       "      <th id=\"T_adb6b_level0_row3\" class=\"row_heading level0 row3\" >huber</th>\n",
       "      <td id=\"T_adb6b_row3_col0\" class=\"data row3 col0\" >Huber Regressor</td>\n",
       "      <td id=\"T_adb6b_row3_col1\" class=\"data row3 col1\" >927479.8130</td>\n",
       "      <td id=\"T_adb6b_row3_col2\" class=\"data row3 col2\" >2134064719976.5935</td>\n",
       "      <td id=\"T_adb6b_row3_col3\" class=\"data row3 col3\" >1416306.6735</td>\n",
       "      <td id=\"T_adb6b_row3_col4\" class=\"data row3 col4\" >-0.6676</td>\n",
       "      <td id=\"T_adb6b_row3_col5\" class=\"data row3 col5\" >0.4919</td>\n",
       "      <td id=\"T_adb6b_row3_col6\" class=\"data row3 col6\" >0.2555</td>\n",
       "      <td id=\"T_adb6b_row3_col7\" class=\"data row3 col7\" >0.0067</td>\n",
       "    </tr>\n",
       "    <tr>\n",
       "      <th id=\"T_adb6b_level0_row4\" class=\"row_heading level0 row4\" >lr</th>\n",
       "      <td id=\"T_adb6b_row4_col0\" class=\"data row4 col0\" >Linear Regression</td>\n",
       "      <td id=\"T_adb6b_row4_col1\" class=\"data row4 col1\" >779685.3125</td>\n",
       "      <td id=\"T_adb6b_row4_col2\" class=\"data row4 col2\" >1393241467562.6667</td>\n",
       "      <td id=\"T_adb6b_row4_col3\" class=\"data row4 col3\" >1073427.4792</td>\n",
       "      <td id=\"T_adb6b_row4_col4\" class=\"data row4 col4\" >0.0373</td>\n",
       "      <td id=\"T_adb6b_row4_col5\" class=\"data row4 col5\" >0.5108</td>\n",
       "      <td id=\"T_adb6b_row4_col6\" class=\"data row4 col6\" >0.2695</td>\n",
       "      <td id=\"T_adb6b_row4_col7\" class=\"data row4 col7\" >1.2900</td>\n",
       "    </tr>\n",
       "    <tr>\n",
       "      <th id=\"T_adb6b_level0_row5\" class=\"row_heading level0 row5\" >lasso</th>\n",
       "      <td id=\"T_adb6b_row5_col0\" class=\"data row5 col0\" >Lasso Regression</td>\n",
       "      <td id=\"T_adb6b_row5_col1\" class=\"data row5 col1\" >783918.3333</td>\n",
       "      <td id=\"T_adb6b_row5_col2\" class=\"data row5 col2\" >1398150059349.3333</td>\n",
       "      <td id=\"T_adb6b_row5_col3\" class=\"data row5 col3\" >1076787.6042</td>\n",
       "      <td id=\"T_adb6b_row5_col4\" class=\"data row5 col4\" >0.0310</td>\n",
       "      <td id=\"T_adb6b_row5_col5\" class=\"data row5 col5\" >0.5175</td>\n",
       "      <td id=\"T_adb6b_row5_col6\" class=\"data row5 col6\" >0.2717</td>\n",
       "      <td id=\"T_adb6b_row5_col7\" class=\"data row5 col7\" >0.5967</td>\n",
       "    </tr>\n",
       "    <tr>\n",
       "      <th id=\"T_adb6b_level0_row6\" class=\"row_heading level0 row6\" >llar</th>\n",
       "      <td id=\"T_adb6b_row6_col0\" class=\"data row6 col0\" >Lasso Least Angle Regression</td>\n",
       "      <td id=\"T_adb6b_row6_col1\" class=\"data row6 col1\" >783917.5625</td>\n",
       "      <td id=\"T_adb6b_row6_col2\" class=\"data row6 col2\" >1398143767893.3333</td>\n",
       "      <td id=\"T_adb6b_row6_col3\" class=\"data row6 col3\" >1076786.8542</td>\n",
       "      <td id=\"T_adb6b_row6_col4\" class=\"data row6 col4\" >0.0310</td>\n",
       "      <td id=\"T_adb6b_row6_col5\" class=\"data row6 col5\" >0.5175</td>\n",
       "      <td id=\"T_adb6b_row6_col6\" class=\"data row6 col6\" >0.2717</td>\n",
       "      <td id=\"T_adb6b_row6_col7\" class=\"data row6 col7\" >0.5567</td>\n",
       "    </tr>\n",
       "    <tr>\n",
       "      <th id=\"T_adb6b_level0_row7\" class=\"row_heading level0 row7\" >par</th>\n",
       "      <td id=\"T_adb6b_row7_col0\" class=\"data row7 col0\" >Passive Aggressive Regressor</td>\n",
       "      <td id=\"T_adb6b_row7_col1\" class=\"data row7 col1\" >919311.1697</td>\n",
       "      <td id=\"T_adb6b_row7_col2\" class=\"data row7 col2\" >1886329311696.8767</td>\n",
       "      <td id=\"T_adb6b_row7_col3\" class=\"data row7 col3\" >1305202.0655</td>\n",
       "      <td id=\"T_adb6b_row7_col4\" class=\"data row7 col4\" >-0.4072</td>\n",
       "      <td id=\"T_adb6b_row7_col5\" class=\"data row7 col5\" >0.4568</td>\n",
       "      <td id=\"T_adb6b_row7_col6\" class=\"data row7 col6\" >0.2906</td>\n",
       "      <td id=\"T_adb6b_row7_col7\" class=\"data row7 col7\" >0.0033</td>\n",
       "    </tr>\n",
       "    <tr>\n",
       "      <th id=\"T_adb6b_level0_row8\" class=\"row_heading level0 row8\" >br</th>\n",
       "      <td id=\"T_adb6b_row8_col0\" class=\"data row8 col0\" >Bayesian Ridge</td>\n",
       "      <td id=\"T_adb6b_row8_col1\" class=\"data row8 col1\" >878581.3193</td>\n",
       "      <td id=\"T_adb6b_row8_col2\" class=\"data row8 col2\" >1444725097516.0923</td>\n",
       "      <td id=\"T_adb6b_row8_col3\" class=\"data row8 col3\" >1181069.2920</td>\n",
       "      <td id=\"T_adb6b_row8_col4\" class=\"data row8 col4\" >-0.1799</td>\n",
       "      <td id=\"T_adb6b_row8_col5\" class=\"data row8 col5\" >0.3845</td>\n",
       "      <td id=\"T_adb6b_row8_col6\" class=\"data row8 col6\" >0.3013</td>\n",
       "      <td id=\"T_adb6b_row8_col7\" class=\"data row8 col7\" >0.0067</td>\n",
       "    </tr>\n",
       "    <tr>\n",
       "      <th id=\"T_adb6b_level0_row9\" class=\"row_heading level0 row9\" >lightgbm</th>\n",
       "      <td id=\"T_adb6b_row9_col0\" class=\"data row9 col0\" >Light Gradient Boosting Machine</td>\n",
       "      <td id=\"T_adb6b_row9_col1\" class=\"data row9 col1\" >870969.5246</td>\n",
       "      <td id=\"T_adb6b_row9_col2\" class=\"data row9 col2\" >1364740525846.5576</td>\n",
       "      <td id=\"T_adb6b_row9_col3\" class=\"data row9 col3\" >1145495.2152</td>\n",
       "      <td id=\"T_adb6b_row9_col4\" class=\"data row9 col4\" >-0.1041</td>\n",
       "      <td id=\"T_adb6b_row9_col5\" class=\"data row9 col5\" >0.3734</td>\n",
       "      <td id=\"T_adb6b_row9_col6\" class=\"data row9 col6\" >0.3070</td>\n",
       "      <td id=\"T_adb6b_row9_col7\" class=\"data row9 col7\" >0.1867</td>\n",
       "    </tr>\n",
       "    <tr>\n",
       "      <th id=\"T_adb6b_level0_row10\" class=\"row_heading level0 row10\" >et</th>\n",
       "      <td id=\"T_adb6b_row10_col0\" class=\"data row10 col0\" >Extra Trees Regressor</td>\n",
       "      <td id=\"T_adb6b_row10_col1\" class=\"data row10 col1\" >872003.9798</td>\n",
       "      <td id=\"T_adb6b_row10_col2\" class=\"data row10 col2\" >1436572222919.2004</td>\n",
       "      <td id=\"T_adb6b_row10_col3\" class=\"data row10 col3\" >1123807.1930</td>\n",
       "      <td id=\"T_adb6b_row10_col4\" class=\"data row10 col4\" >-0.1138</td>\n",
       "      <td id=\"T_adb6b_row10_col5\" class=\"data row10 col5\" >0.3874</td>\n",
       "      <td id=\"T_adb6b_row10_col6\" class=\"data row10 col6\" >0.3246</td>\n",
       "      <td id=\"T_adb6b_row10_col7\" class=\"data row10 col7\" >0.0533</td>\n",
       "    </tr>\n",
       "    <tr>\n",
       "      <th id=\"T_adb6b_level0_row11\" class=\"row_heading level0 row11\" >rf</th>\n",
       "      <td id=\"T_adb6b_row11_col0\" class=\"data row11 col0\" >Random Forest Regressor</td>\n",
       "      <td id=\"T_adb6b_row11_col1\" class=\"data row11 col1\" >882366.1615</td>\n",
       "      <td id=\"T_adb6b_row11_col2\" class=\"data row11 col2\" >1520047416829.8762</td>\n",
       "      <td id=\"T_adb6b_row11_col3\" class=\"data row11 col3\" >1131515.2082</td>\n",
       "      <td id=\"T_adb6b_row11_col4\" class=\"data row11 col4\" >-0.1997</td>\n",
       "      <td id=\"T_adb6b_row11_col5\" class=\"data row11 col5\" >0.3795</td>\n",
       "      <td id=\"T_adb6b_row11_col6\" class=\"data row11 col6\" >0.3334</td>\n",
       "      <td id=\"T_adb6b_row11_col7\" class=\"data row11 col7\" >0.0533</td>\n",
       "    </tr>\n",
       "    <tr>\n",
       "      <th id=\"T_adb6b_level0_row12\" class=\"row_heading level0 row12\" >ada</th>\n",
       "      <td id=\"T_adb6b_row12_col0\" class=\"data row12 col0\" >AdaBoost Regressor</td>\n",
       "      <td id=\"T_adb6b_row12_col1\" class=\"data row12 col1\" >944075.0828</td>\n",
       "      <td id=\"T_adb6b_row12_col2\" class=\"data row12 col2\" >1794514218184.9023</td>\n",
       "      <td id=\"T_adb6b_row12_col3\" class=\"data row12 col3\" >1217735.1410</td>\n",
       "      <td id=\"T_adb6b_row12_col4\" class=\"data row12 col4\" >-0.4289</td>\n",
       "      <td id=\"T_adb6b_row12_col5\" class=\"data row12 col5\" >0.3992</td>\n",
       "      <td id=\"T_adb6b_row12_col6\" class=\"data row12 col6\" >0.3466</td>\n",
       "      <td id=\"T_adb6b_row12_col7\" class=\"data row12 col7\" >0.0167</td>\n",
       "    </tr>\n",
       "    <tr>\n",
       "      <th id=\"T_adb6b_level0_row13\" class=\"row_heading level0 row13\" >catboost</th>\n",
       "      <td id=\"T_adb6b_row13_col0\" class=\"data row13 col0\" >CatBoost Regressor</td>\n",
       "      <td id=\"T_adb6b_row13_col1\" class=\"data row13 col1\" >958429.4013</td>\n",
       "      <td id=\"T_adb6b_row13_col2\" class=\"data row13 col2\" >1618207260911.9111</td>\n",
       "      <td id=\"T_adb6b_row13_col3\" class=\"data row13 col3\" >1201473.9841</td>\n",
       "      <td id=\"T_adb6b_row13_col4\" class=\"data row13 col4\" >-0.3313</td>\n",
       "      <td id=\"T_adb6b_row13_col5\" class=\"data row13 col5\" >0.3850</td>\n",
       "      <td id=\"T_adb6b_row13_col6\" class=\"data row13 col6\" >0.3486</td>\n",
       "      <td id=\"T_adb6b_row13_col7\" class=\"data row13 col7\" >0.2667</td>\n",
       "    </tr>\n",
       "    <tr>\n",
       "      <th id=\"T_adb6b_level0_row14\" class=\"row_heading level0 row14\" >dt</th>\n",
       "      <td id=\"T_adb6b_row14_col0\" class=\"data row14 col0\" >Decision Tree Regressor</td>\n",
       "      <td id=\"T_adb6b_row14_col1\" class=\"data row14 col1\" >987602.5132</td>\n",
       "      <td id=\"T_adb6b_row14_col2\" class=\"data row14 col2\" >1790809154050.1516</td>\n",
       "      <td id=\"T_adb6b_row14_col3\" class=\"data row14 col3\" >1233663.1371</td>\n",
       "      <td id=\"T_adb6b_row14_col4\" class=\"data row14 col4\" >-0.4731</td>\n",
       "      <td id=\"T_adb6b_row14_col5\" class=\"data row14 col5\" >0.4080</td>\n",
       "      <td id=\"T_adb6b_row14_col6\" class=\"data row14 col6\" >0.3731</td>\n",
       "      <td id=\"T_adb6b_row14_col7\" class=\"data row14 col7\" >0.0067</td>\n",
       "    </tr>\n",
       "    <tr>\n",
       "      <th id=\"T_adb6b_level0_row15\" class=\"row_heading level0 row15\" >knn</th>\n",
       "      <td id=\"T_adb6b_row15_col0\" class=\"data row15 col0\" >K Neighbors Regressor</td>\n",
       "      <td id=\"T_adb6b_row15_col1\" class=\"data row15 col1\" >1016503.9583</td>\n",
       "      <td id=\"T_adb6b_row15_col2\" class=\"data row15 col2\" >1744482926592.0000</td>\n",
       "      <td id=\"T_adb6b_row15_col3\" class=\"data row15 col3\" >1287075.2708</td>\n",
       "      <td id=\"T_adb6b_row15_col4\" class=\"data row15 col4\" >-0.4880</td>\n",
       "      <td id=\"T_adb6b_row15_col5\" class=\"data row15 col5\" >0.4170</td>\n",
       "      <td id=\"T_adb6b_row15_col6\" class=\"data row15 col6\" >0.3901</td>\n",
       "      <td id=\"T_adb6b_row15_col7\" class=\"data row15 col7\" >0.0100</td>\n",
       "    </tr>\n",
       "    <tr>\n",
       "      <th id=\"T_adb6b_level0_row16\" class=\"row_heading level0 row16\" >xgboost</th>\n",
       "      <td id=\"T_adb6b_row16_col0\" class=\"data row16 col0\" >Extreme Gradient Boosting</td>\n",
       "      <td id=\"T_adb6b_row16_col1\" class=\"data row16 col1\" >1062136.4167</td>\n",
       "      <td id=\"T_adb6b_row16_col2\" class=\"data row16 col2\" >2123260537514.6667</td>\n",
       "      <td id=\"T_adb6b_row16_col3\" class=\"data row16 col3\" >1307573.6875</td>\n",
       "      <td id=\"T_adb6b_row16_col4\" class=\"data row16 col4\" >-0.7722</td>\n",
       "      <td id=\"T_adb6b_row16_col5\" class=\"data row16 col5\" >0.4219</td>\n",
       "      <td id=\"T_adb6b_row16_col6\" class=\"data row16 col6\" >0.4021</td>\n",
       "      <td id=\"T_adb6b_row16_col7\" class=\"data row16 col7\" >0.0200</td>\n",
       "    </tr>\n",
       "    <tr>\n",
       "      <th id=\"T_adb6b_level0_row17\" class=\"row_heading level0 row17\" >gbr</th>\n",
       "      <td id=\"T_adb6b_row17_col0\" class=\"data row17 col0\" >Gradient Boosting Regressor</td>\n",
       "      <td id=\"T_adb6b_row17_col1\" class=\"data row17 col1\" >1069286.1687</td>\n",
       "      <td id=\"T_adb6b_row17_col2\" class=\"data row17 col2\" >2052786791003.9573</td>\n",
       "      <td id=\"T_adb6b_row17_col3\" class=\"data row17 col3\" >1312316.3829</td>\n",
       "      <td id=\"T_adb6b_row17_col4\" class=\"data row17 col4\" >-0.7225</td>\n",
       "      <td id=\"T_adb6b_row17_col5\" class=\"data row17 col5\" >0.4271</td>\n",
       "      <td id=\"T_adb6b_row17_col6\" class=\"data row17 col6\" >0.4074</td>\n",
       "      <td id=\"T_adb6b_row17_col7\" class=\"data row17 col7\" >0.0133</td>\n",
       "    </tr>\n",
       "    <tr>\n",
       "      <th id=\"T_adb6b_level0_row18\" class=\"row_heading level0 row18\" >lar</th>\n",
       "      <td id=\"T_adb6b_row18_col0\" class=\"data row18 col0\" >Least Angle Regression</td>\n",
       "      <td id=\"T_adb6b_row18_col1\" class=\"data row18 col1\" >14516038783.9375</td>\n",
       "      <td id=\"T_adb6b_row18_col2\" class=\"data row18 col2\" >3976699558095698264064.0000</td>\n",
       "      <td id=\"T_adb6b_row18_col3\" class=\"data row18 col3\" >36500816182.6875</td>\n",
       "      <td id=\"T_adb6b_row18_col4\" class=\"data row18 col4\" >-5106812291.4724</td>\n",
       "      <td id=\"T_adb6b_row18_col5\" class=\"data row18 col5\" >9.1040</td>\n",
       "      <td id=\"T_adb6b_row18_col6\" class=\"data row18 col6\" >7676.9343</td>\n",
       "      <td id=\"T_adb6b_row18_col7\" class=\"data row18 col7\" >0.6133</td>\n",
       "    </tr>\n",
       "  </tbody>\n",
       "</table>\n"
      ],
      "text/plain": [
       "<pandas.io.formats.style.Styler at 0x2336c3645b0>"
      ]
     },
     "metadata": {},
     "output_type": "display_data"
    }
   ],
   "source": [
    "best = compare_models(sort = 'MAPE')"
   ]
  },
  {
   "cell_type": "code",
   "execution_count": 15,
   "metadata": {},
   "outputs": [
    {
     "data": {
      "text/html": [
       "<style type=\"text/css\">\n",
       "</style>\n",
       "<table id=\"T_028ac\">\n",
       "  <thead>\n",
       "    <tr>\n",
       "      <th class=\"blank level0\" >&nbsp;</th>\n",
       "      <th id=\"T_028ac_level0_col0\" class=\"col_heading level0 col0\" >Model</th>\n",
       "      <th id=\"T_028ac_level0_col1\" class=\"col_heading level0 col1\" >MAE</th>\n",
       "      <th id=\"T_028ac_level0_col2\" class=\"col_heading level0 col2\" >MSE</th>\n",
       "      <th id=\"T_028ac_level0_col3\" class=\"col_heading level0 col3\" >RMSE</th>\n",
       "      <th id=\"T_028ac_level0_col4\" class=\"col_heading level0 col4\" >R2</th>\n",
       "      <th id=\"T_028ac_level0_col5\" class=\"col_heading level0 col5\" >RMSLE</th>\n",
       "      <th id=\"T_028ac_level0_col6\" class=\"col_heading level0 col6\" >MAPE</th>\n",
       "    </tr>\n",
       "  </thead>\n",
       "  <tbody>\n",
       "    <tr>\n",
       "      <th id=\"T_028ac_level0_row0\" class=\"row_heading level0 row0\" >0</th>\n",
       "      <td id=\"T_028ac_row0_col0\" class=\"data row0 col0\" >Orthogonal Matching Pursuit</td>\n",
       "      <td id=\"T_028ac_row0_col1\" class=\"data row0 col1\" >739030.5853</td>\n",
       "      <td id=\"T_028ac_row0_col2\" class=\"data row0 col2\" >893562670954.9481</td>\n",
       "      <td id=\"T_028ac_row0_col3\" class=\"data row0 col3\" >945284.4392</td>\n",
       "      <td id=\"T_028ac_row0_col4\" class=\"data row0 col4\" >-0.4902</td>\n",
       "      <td id=\"T_028ac_row0_col5\" class=\"data row0 col5\" >0.3489</td>\n",
       "      <td id=\"T_028ac_row0_col6\" class=\"data row0 col6\" >0.3299</td>\n",
       "    </tr>\n",
       "  </tbody>\n",
       "</table>\n"
      ],
      "text/plain": [
       "<pandas.io.formats.style.Styler at 0x2336c3cd1f0>"
      ]
     },
     "metadata": {},
     "output_type": "display_data"
    }
   ],
   "source": [
    "# Let’s check the score on the test set:\n",
    "prediction_holdout = predict_model(best);"
   ]
  },
  {
   "cell_type": "code",
   "execution_count": 16,
   "metadata": {},
   "outputs": [
    {
     "data": {
      "application/vnd.plotly.v1+json": {
       "config": {
        "plotlyServerURL": "https://plot.ly"
       },
       "data": [
        {
         "hovertemplate": "variable=NET_SALES<br>Date=%{x}<br>value=%{y}<extra></extra>",
         "legendgroup": "NET_SALES",
         "line": {
          "color": "#636efa",
          "dash": "solid"
         },
         "marker": {
          "symbol": "circle"
         },
         "mode": "lines",
         "name": "NET_SALES",
         "orientation": "v",
         "showlegend": true,
         "type": "scatter",
         "x": [
          "2016-01-01T00:00:00",
          "2016-02-01T00:00:00",
          "2016-03-01T00:00:00",
          "2016-04-01T00:00:00",
          "2016-05-01T00:00:00",
          "2016-06-01T00:00:00",
          "2016-07-01T00:00:00",
          "2016-08-01T00:00:00",
          "2016-09-01T00:00:00",
          "2016-10-01T00:00:00",
          "2016-11-01T00:00:00",
          "2016-12-01T00:00:00",
          "2017-01-01T00:00:00",
          "2017-02-01T00:00:00",
          "2017-03-01T00:00:00",
          "2017-04-01T00:00:00",
          "2017-05-01T00:00:00",
          "2017-06-01T00:00:00",
          "2017-07-01T00:00:00",
          "2017-08-01T00:00:00",
          "2017-09-01T00:00:00",
          "2017-10-01T00:00:00",
          "2017-11-01T00:00:00",
          "2017-12-01T00:00:00",
          "2018-01-01T00:00:00",
          "2018-02-01T00:00:00",
          "2018-03-01T00:00:00",
          "2018-04-01T00:00:00",
          "2018-05-01T00:00:00",
          "2018-06-01T00:00:00",
          "2018-07-01T00:00:00",
          "2018-08-01T00:00:00",
          "2018-09-01T00:00:00",
          "2018-10-01T00:00:00",
          "2018-11-01T00:00:00",
          "2018-12-01T00:00:00",
          "2019-01-01T00:00:00",
          "2019-02-01T00:00:00",
          "2019-03-01T00:00:00",
          "2019-04-01T00:00:00",
          "2019-05-01T00:00:00",
          "2019-06-01T00:00:00",
          "2019-07-01T00:00:00",
          "2019-08-01T00:00:00",
          "2019-09-01T00:00:00",
          "2019-10-01T00:00:00",
          "2019-11-01T00:00:00",
          "2019-12-01T00:00:00",
          "2020-01-01T00:00:00",
          "2020-02-01T00:00:00",
          "2020-03-01T00:00:00",
          "2020-04-01T00:00:00",
          "2020-05-01T00:00:00",
          "2020-06-01T00:00:00",
          "2020-07-01T00:00:00",
          "2020-08-01T00:00:00",
          "2020-09-01T00:00:00",
          "2020-10-01T00:00:00",
          "2020-11-01T00:00:00",
          "2020-12-01T00:00:00",
          "2021-01-01T00:00:00",
          "2021-02-01T00:00:00",
          "2021-03-01T00:00:00",
          "2021-04-01T00:00:00",
          "2021-05-01T00:00:00",
          "2021-06-01T00:00:00",
          "2021-07-01T00:00:00",
          "2021-08-01T00:00:00",
          "2021-09-01T00:00:00",
          "2021-10-01T00:00:00",
          "2021-11-01T00:00:00",
          "2021-12-01T00:00:00",
          "2022-01-01T00:00:00",
          "2022-02-01T00:00:00",
          "2022-03-01T00:00:00",
          "2022-04-01T00:00:00",
          "2022-05-01T00:00:00",
          "2022-06-01T00:00:00",
          "2022-07-01T00:00:00",
          "2022-08-01T00:00:00",
          "2022-09-01T00:00:00",
          "2022-10-01T00:00:00",
          "2022-11-01T00:00:00",
          "2022-12-01T00:00:00",
          "2023-01-01T00:00:00",
          "2023-02-01T00:00:00",
          "2023-03-01T00:00:00",
          "2023-04-01T00:00:00",
          "2023-05-01T00:00:00",
          "2023-06-01T00:00:00"
         ],
         "xaxis": "x",
         "y": [
          2592017.04,
          2348092.91,
          2894584.98,
          2163636.39,
          3210147.13,
          2534780.02244194,
          1820221.07,
          3256621.67,
          2185207.96,
          1232046.53,
          2138401.9,
          5408161.61,
          2221206.21,
          1311588.13,
          2004152.18,
          1808462.3,
          2467258.26,
          2115785.29,
          2169368.17,
          2831195.03,
          1689228.75,
          1856472.66,
          1953840.13,
          4614243.09,
          2155970.04,
          1809524.64,
          1968200.18,
          1868773.92,
          2115120.67,
          1657630.85,
          1500893.07,
          1430529.31,
          1438770.41,
          1644360.17,
          2227767.59,
          4551426.68,
          2265201.79,
          2116634.16,
          1830020.61,
          1740166.31,
          2333062.18,
          1856416.87,
          1895360.33,
          1955738.19,
          1749430.6,
          1522283.25,
          2681924.32,
          4944662.33,
          1729231.23,
          1557584.48,
          2345754.61,
          4574204.21,
          5970634.91,
          4077669.79,
          3357018.87,
          3073121.31,
          4930647.75,
          2052590.75,
          3727026.74,
          6080434.14,
          2936947.11,
          2566675.79,
          3845263.68,
          3640408.14,
          3331794.03,
          2257787.07,
          2143054.42,
          2982415.15,
          3904088.62,
          1841159.26,
          3826672.51,
          4101338.13,
          1985988.92,
          2328955.97,
          2240477.51,
          2394403.39,
          2275736.56,
          1713451.84,
          2497213.4,
          1953652.61,
          3745685.68,
          1359967.69,
          4112404.03,
          2913744.15,
          1622113.58,
          1728206.02,
          2325654.24,
          1918474.98,
          2443940.14,
          1748262.3
         ],
         "yaxis": "y"
        },
        {
         "hovertemplate": "variable=Label<br>Date=%{x}<br>value=%{y}<extra></extra>",
         "legendgroup": "Label",
         "line": {
          "color": "#EF553B",
          "dash": "solid"
         },
         "marker": {
          "symbol": "circle"
         },
         "mode": "lines",
         "name": "Label",
         "orientation": "v",
         "showlegend": true,
         "type": "scatter",
         "x": [
          "2016-01-01T00:00:00",
          "2016-02-01T00:00:00",
          "2016-03-01T00:00:00",
          "2016-04-01T00:00:00",
          "2016-05-01T00:00:00",
          "2016-06-01T00:00:00",
          "2016-07-01T00:00:00",
          "2016-08-01T00:00:00",
          "2016-09-01T00:00:00",
          "2016-10-01T00:00:00",
          "2016-11-01T00:00:00",
          "2016-12-01T00:00:00",
          "2017-01-01T00:00:00",
          "2017-02-01T00:00:00",
          "2017-03-01T00:00:00",
          "2017-04-01T00:00:00",
          "2017-05-01T00:00:00",
          "2017-06-01T00:00:00",
          "2017-07-01T00:00:00",
          "2017-08-01T00:00:00",
          "2017-09-01T00:00:00",
          "2017-10-01T00:00:00",
          "2017-11-01T00:00:00",
          "2017-12-01T00:00:00",
          "2018-01-01T00:00:00",
          "2018-02-01T00:00:00",
          "2018-03-01T00:00:00",
          "2018-04-01T00:00:00",
          "2018-05-01T00:00:00",
          "2018-06-01T00:00:00",
          "2018-07-01T00:00:00",
          "2018-08-01T00:00:00",
          "2018-09-01T00:00:00",
          "2018-10-01T00:00:00",
          "2018-11-01T00:00:00",
          "2018-12-01T00:00:00",
          "2019-01-01T00:00:00",
          "2019-02-01T00:00:00",
          "2019-03-01T00:00:00",
          "2019-04-01T00:00:00",
          "2019-05-01T00:00:00",
          "2019-06-01T00:00:00",
          "2019-07-01T00:00:00",
          "2019-08-01T00:00:00",
          "2019-09-01T00:00:00",
          "2019-10-01T00:00:00",
          "2019-11-01T00:00:00",
          "2019-12-01T00:00:00",
          "2020-01-01T00:00:00",
          "2020-02-01T00:00:00",
          "2020-03-01T00:00:00",
          "2020-04-01T00:00:00",
          "2020-05-01T00:00:00",
          "2020-06-01T00:00:00",
          "2020-07-01T00:00:00",
          "2020-08-01T00:00:00",
          "2020-09-01T00:00:00",
          "2020-10-01T00:00:00",
          "2020-11-01T00:00:00",
          "2020-12-01T00:00:00",
          "2021-01-01T00:00:00",
          "2021-02-01T00:00:00",
          "2021-03-01T00:00:00",
          "2021-04-01T00:00:00",
          "2021-05-01T00:00:00",
          "2021-06-01T00:00:00",
          "2021-07-01T00:00:00",
          "2021-08-01T00:00:00",
          "2021-09-01T00:00:00",
          "2021-10-01T00:00:00",
          "2021-11-01T00:00:00",
          "2021-12-01T00:00:00",
          "2022-01-01T00:00:00",
          "2022-02-01T00:00:00",
          "2022-03-01T00:00:00",
          "2022-04-01T00:00:00",
          "2022-05-01T00:00:00",
          "2022-06-01T00:00:00",
          "2022-07-01T00:00:00",
          "2022-08-01T00:00:00",
          "2022-09-01T00:00:00",
          "2022-10-01T00:00:00",
          "2022-11-01T00:00:00",
          "2022-12-01T00:00:00",
          "2023-01-01T00:00:00",
          "2023-02-01T00:00:00",
          "2023-03-01T00:00:00",
          "2023-04-01T00:00:00",
          "2023-05-01T00:00:00",
          "2023-06-01T00:00:00"
         ],
         "xaxis": "x",
         "y": [
          2431281.117229173,
          2431281.117229173,
          2431281.117229173,
          2431281.117229173,
          2431281.117229173,
          2431281.117229173,
          2431281.117229173,
          2431281.117229173,
          2431281.117229173,
          2431281.117229173,
          2431281.117229173,
          4950043.232412927,
          2431281.117229173,
          2431281.117229173,
          2431281.117229173,
          2431281.117229173,
          2431281.117229173,
          2431281.117229173,
          2431281.117229173,
          2431281.117229173,
          2431281.117229173,
          2431281.117229173,
          2431281.117229173,
          4950043.232412927,
          2431281.117229173,
          2431281.117229173,
          2431281.117229173,
          2431281.117229173,
          2431281.117229173,
          2431281.117229173,
          2431281.117229173,
          2431281.117229173,
          2431281.117229173,
          2431281.117229173,
          2431281.117229173,
          4950043.232412927,
          2431281.117229173,
          2431281.117229173,
          2431281.117229173,
          2431281.117229173,
          2431281.117229173,
          2431281.117229173,
          2431281.117229173,
          2431281.117229173,
          2431281.117229173,
          2431281.117229173,
          2431281.117229173,
          4950043.232412927,
          2431281.117229173,
          2431281.117229173,
          2431281.117229173,
          2431281.117229173,
          2431281.117229173,
          2431281.117229173,
          2431281.117229173,
          2431281.117229173,
          2431281.117229173,
          2431281.117229173,
          2431281.117229173,
          4950043.232412927,
          2431281.117229173,
          2431281.117229173,
          2431281.117229173,
          2431281.117229173,
          2431281.117229173,
          2431281.117229173,
          2431281.117229173,
          2431281.117229173,
          2431281.117229173,
          2431281.117229173,
          2431281.117229173,
          4950043.232412927,
          2431281.117229173,
          2431281.117229173,
          2431281.117229173,
          2431281.117229173,
          2431281.117229173,
          2431281.117229173,
          2431281.117229173,
          2431281.117229173,
          2431281.117229173,
          2431281.117229173,
          2431281.117229173,
          4950043.232412927,
          2431281.117229173,
          2431281.117229173,
          2431281.117229173,
          2431281.117229173,
          2431281.117229173,
          2431281.117229173
         ],
         "yaxis": "y"
        }
       ],
       "layout": {
        "legend": {
         "title": {
          "text": "variable"
         },
         "tracegroupgap": 0
        },
        "margin": {
         "t": 60
        },
        "shapes": [
         {
          "fillcolor": "grey",
          "line": {
           "width": 0
          },
          "opacity": 0.25,
          "type": "rect",
          "x0": "2022-05-01",
          "x1": "2023-07-01",
          "xref": "x",
          "y0": 0,
          "y1": 1,
          "yref": "y domain"
         }
        ],
        "template": {
         "data": {
          "bar": [
           {
            "error_x": {
             "color": "#f2f5fa"
            },
            "error_y": {
             "color": "#f2f5fa"
            },
            "marker": {
             "line": {
              "color": "rgb(17,17,17)",
              "width": 0.5
             },
             "pattern": {
              "fillmode": "overlay",
              "size": 10,
              "solidity": 0.2
             }
            },
            "type": "bar"
           }
          ],
          "barpolar": [
           {
            "marker": {
             "line": {
              "color": "rgb(17,17,17)",
              "width": 0.5
             },
             "pattern": {
              "fillmode": "overlay",
              "size": 10,
              "solidity": 0.2
             }
            },
            "type": "barpolar"
           }
          ],
          "carpet": [
           {
            "aaxis": {
             "endlinecolor": "#A2B1C6",
             "gridcolor": "#506784",
             "linecolor": "#506784",
             "minorgridcolor": "#506784",
             "startlinecolor": "#A2B1C6"
            },
            "baxis": {
             "endlinecolor": "#A2B1C6",
             "gridcolor": "#506784",
             "linecolor": "#506784",
             "minorgridcolor": "#506784",
             "startlinecolor": "#A2B1C6"
            },
            "type": "carpet"
           }
          ],
          "choropleth": [
           {
            "colorbar": {
             "outlinewidth": 0,
             "ticks": ""
            },
            "type": "choropleth"
           }
          ],
          "contour": [
           {
            "colorbar": {
             "outlinewidth": 0,
             "ticks": ""
            },
            "colorscale": [
             [
              0,
              "#0d0887"
             ],
             [
              0.1111111111111111,
              "#46039f"
             ],
             [
              0.2222222222222222,
              "#7201a8"
             ],
             [
              0.3333333333333333,
              "#9c179e"
             ],
             [
              0.4444444444444444,
              "#bd3786"
             ],
             [
              0.5555555555555556,
              "#d8576b"
             ],
             [
              0.6666666666666666,
              "#ed7953"
             ],
             [
              0.7777777777777778,
              "#fb9f3a"
             ],
             [
              0.8888888888888888,
              "#fdca26"
             ],
             [
              1,
              "#f0f921"
             ]
            ],
            "type": "contour"
           }
          ],
          "contourcarpet": [
           {
            "colorbar": {
             "outlinewidth": 0,
             "ticks": ""
            },
            "type": "contourcarpet"
           }
          ],
          "heatmap": [
           {
            "colorbar": {
             "outlinewidth": 0,
             "ticks": ""
            },
            "colorscale": [
             [
              0,
              "#0d0887"
             ],
             [
              0.1111111111111111,
              "#46039f"
             ],
             [
              0.2222222222222222,
              "#7201a8"
             ],
             [
              0.3333333333333333,
              "#9c179e"
             ],
             [
              0.4444444444444444,
              "#bd3786"
             ],
             [
              0.5555555555555556,
              "#d8576b"
             ],
             [
              0.6666666666666666,
              "#ed7953"
             ],
             [
              0.7777777777777778,
              "#fb9f3a"
             ],
             [
              0.8888888888888888,
              "#fdca26"
             ],
             [
              1,
              "#f0f921"
             ]
            ],
            "type": "heatmap"
           }
          ],
          "heatmapgl": [
           {
            "colorbar": {
             "outlinewidth": 0,
             "ticks": ""
            },
            "colorscale": [
             [
              0,
              "#0d0887"
             ],
             [
              0.1111111111111111,
              "#46039f"
             ],
             [
              0.2222222222222222,
              "#7201a8"
             ],
             [
              0.3333333333333333,
              "#9c179e"
             ],
             [
              0.4444444444444444,
              "#bd3786"
             ],
             [
              0.5555555555555556,
              "#d8576b"
             ],
             [
              0.6666666666666666,
              "#ed7953"
             ],
             [
              0.7777777777777778,
              "#fb9f3a"
             ],
             [
              0.8888888888888888,
              "#fdca26"
             ],
             [
              1,
              "#f0f921"
             ]
            ],
            "type": "heatmapgl"
           }
          ],
          "histogram": [
           {
            "marker": {
             "pattern": {
              "fillmode": "overlay",
              "size": 10,
              "solidity": 0.2
             }
            },
            "type": "histogram"
           }
          ],
          "histogram2d": [
           {
            "colorbar": {
             "outlinewidth": 0,
             "ticks": ""
            },
            "colorscale": [
             [
              0,
              "#0d0887"
             ],
             [
              0.1111111111111111,
              "#46039f"
             ],
             [
              0.2222222222222222,
              "#7201a8"
             ],
             [
              0.3333333333333333,
              "#9c179e"
             ],
             [
              0.4444444444444444,
              "#bd3786"
             ],
             [
              0.5555555555555556,
              "#d8576b"
             ],
             [
              0.6666666666666666,
              "#ed7953"
             ],
             [
              0.7777777777777778,
              "#fb9f3a"
             ],
             [
              0.8888888888888888,
              "#fdca26"
             ],
             [
              1,
              "#f0f921"
             ]
            ],
            "type": "histogram2d"
           }
          ],
          "histogram2dcontour": [
           {
            "colorbar": {
             "outlinewidth": 0,
             "ticks": ""
            },
            "colorscale": [
             [
              0,
              "#0d0887"
             ],
             [
              0.1111111111111111,
              "#46039f"
             ],
             [
              0.2222222222222222,
              "#7201a8"
             ],
             [
              0.3333333333333333,
              "#9c179e"
             ],
             [
              0.4444444444444444,
              "#bd3786"
             ],
             [
              0.5555555555555556,
              "#d8576b"
             ],
             [
              0.6666666666666666,
              "#ed7953"
             ],
             [
              0.7777777777777778,
              "#fb9f3a"
             ],
             [
              0.8888888888888888,
              "#fdca26"
             ],
             [
              1,
              "#f0f921"
             ]
            ],
            "type": "histogram2dcontour"
           }
          ],
          "mesh3d": [
           {
            "colorbar": {
             "outlinewidth": 0,
             "ticks": ""
            },
            "type": "mesh3d"
           }
          ],
          "parcoords": [
           {
            "line": {
             "colorbar": {
              "outlinewidth": 0,
              "ticks": ""
             }
            },
            "type": "parcoords"
           }
          ],
          "pie": [
           {
            "automargin": true,
            "type": "pie"
           }
          ],
          "scatter": [
           {
            "marker": {
             "line": {
              "color": "#283442"
             }
            },
            "type": "scatter"
           }
          ],
          "scatter3d": [
           {
            "line": {
             "colorbar": {
              "outlinewidth": 0,
              "ticks": ""
             }
            },
            "marker": {
             "colorbar": {
              "outlinewidth": 0,
              "ticks": ""
             }
            },
            "type": "scatter3d"
           }
          ],
          "scattercarpet": [
           {
            "marker": {
             "colorbar": {
              "outlinewidth": 0,
              "ticks": ""
             }
            },
            "type": "scattercarpet"
           }
          ],
          "scattergeo": [
           {
            "marker": {
             "colorbar": {
              "outlinewidth": 0,
              "ticks": ""
             }
            },
            "type": "scattergeo"
           }
          ],
          "scattergl": [
           {
            "marker": {
             "line": {
              "color": "#283442"
             }
            },
            "type": "scattergl"
           }
          ],
          "scattermapbox": [
           {
            "marker": {
             "colorbar": {
              "outlinewidth": 0,
              "ticks": ""
             }
            },
            "type": "scattermapbox"
           }
          ],
          "scatterpolar": [
           {
            "marker": {
             "colorbar": {
              "outlinewidth": 0,
              "ticks": ""
             }
            },
            "type": "scatterpolar"
           }
          ],
          "scatterpolargl": [
           {
            "marker": {
             "colorbar": {
              "outlinewidth": 0,
              "ticks": ""
             }
            },
            "type": "scatterpolargl"
           }
          ],
          "scatterternary": [
           {
            "marker": {
             "colorbar": {
              "outlinewidth": 0,
              "ticks": ""
             }
            },
            "type": "scatterternary"
           }
          ],
          "surface": [
           {
            "colorbar": {
             "outlinewidth": 0,
             "ticks": ""
            },
            "colorscale": [
             [
              0,
              "#0d0887"
             ],
             [
              0.1111111111111111,
              "#46039f"
             ],
             [
              0.2222222222222222,
              "#7201a8"
             ],
             [
              0.3333333333333333,
              "#9c179e"
             ],
             [
              0.4444444444444444,
              "#bd3786"
             ],
             [
              0.5555555555555556,
              "#d8576b"
             ],
             [
              0.6666666666666666,
              "#ed7953"
             ],
             [
              0.7777777777777778,
              "#fb9f3a"
             ],
             [
              0.8888888888888888,
              "#fdca26"
             ],
             [
              1,
              "#f0f921"
             ]
            ],
            "type": "surface"
           }
          ],
          "table": [
           {
            "cells": {
             "fill": {
              "color": "#506784"
             },
             "line": {
              "color": "rgb(17,17,17)"
             }
            },
            "header": {
             "fill": {
              "color": "#2a3f5f"
             },
             "line": {
              "color": "rgb(17,17,17)"
             }
            },
            "type": "table"
           }
          ]
         },
         "layout": {
          "annotationdefaults": {
           "arrowcolor": "#f2f5fa",
           "arrowhead": 0,
           "arrowwidth": 1
          },
          "autotypenumbers": "strict",
          "coloraxis": {
           "colorbar": {
            "outlinewidth": 0,
            "ticks": ""
           }
          },
          "colorscale": {
           "diverging": [
            [
             0,
             "#8e0152"
            ],
            [
             0.1,
             "#c51b7d"
            ],
            [
             0.2,
             "#de77ae"
            ],
            [
             0.3,
             "#f1b6da"
            ],
            [
             0.4,
             "#fde0ef"
            ],
            [
             0.5,
             "#f7f7f7"
            ],
            [
             0.6,
             "#e6f5d0"
            ],
            [
             0.7,
             "#b8e186"
            ],
            [
             0.8,
             "#7fbc41"
            ],
            [
             0.9,
             "#4d9221"
            ],
            [
             1,
             "#276419"
            ]
           ],
           "sequential": [
            [
             0,
             "#0d0887"
            ],
            [
             0.1111111111111111,
             "#46039f"
            ],
            [
             0.2222222222222222,
             "#7201a8"
            ],
            [
             0.3333333333333333,
             "#9c179e"
            ],
            [
             0.4444444444444444,
             "#bd3786"
            ],
            [
             0.5555555555555556,
             "#d8576b"
            ],
            [
             0.6666666666666666,
             "#ed7953"
            ],
            [
             0.7777777777777778,
             "#fb9f3a"
            ],
            [
             0.8888888888888888,
             "#fdca26"
            ],
            [
             1,
             "#f0f921"
            ]
           ],
           "sequentialminus": [
            [
             0,
             "#0d0887"
            ],
            [
             0.1111111111111111,
             "#46039f"
            ],
            [
             0.2222222222222222,
             "#7201a8"
            ],
            [
             0.3333333333333333,
             "#9c179e"
            ],
            [
             0.4444444444444444,
             "#bd3786"
            ],
            [
             0.5555555555555556,
             "#d8576b"
            ],
            [
             0.6666666666666666,
             "#ed7953"
            ],
            [
             0.7777777777777778,
             "#fb9f3a"
            ],
            [
             0.8888888888888888,
             "#fdca26"
            ],
            [
             1,
             "#f0f921"
            ]
           ]
          },
          "colorway": [
           "#636efa",
           "#EF553B",
           "#00cc96",
           "#ab63fa",
           "#FFA15A",
           "#19d3f3",
           "#FF6692",
           "#B6E880",
           "#FF97FF",
           "#FECB52"
          ],
          "font": {
           "color": "#f2f5fa"
          },
          "geo": {
           "bgcolor": "rgb(17,17,17)",
           "lakecolor": "rgb(17,17,17)",
           "landcolor": "rgb(17,17,17)",
           "showlakes": true,
           "showland": true,
           "subunitcolor": "#506784"
          },
          "hoverlabel": {
           "align": "left"
          },
          "hovermode": "closest",
          "mapbox": {
           "style": "dark"
          },
          "paper_bgcolor": "rgb(17,17,17)",
          "plot_bgcolor": "rgb(17,17,17)",
          "polar": {
           "angularaxis": {
            "gridcolor": "#506784",
            "linecolor": "#506784",
            "ticks": ""
           },
           "bgcolor": "rgb(17,17,17)",
           "radialaxis": {
            "gridcolor": "#506784",
            "linecolor": "#506784",
            "ticks": ""
           }
          },
          "scene": {
           "xaxis": {
            "backgroundcolor": "rgb(17,17,17)",
            "gridcolor": "#506784",
            "gridwidth": 2,
            "linecolor": "#506784",
            "showbackground": true,
            "ticks": "",
            "zerolinecolor": "#C8D4E3"
           },
           "yaxis": {
            "backgroundcolor": "rgb(17,17,17)",
            "gridcolor": "#506784",
            "gridwidth": 2,
            "linecolor": "#506784",
            "showbackground": true,
            "ticks": "",
            "zerolinecolor": "#C8D4E3"
           },
           "zaxis": {
            "backgroundcolor": "rgb(17,17,17)",
            "gridcolor": "#506784",
            "gridwidth": 2,
            "linecolor": "#506784",
            "showbackground": true,
            "ticks": "",
            "zerolinecolor": "#C8D4E3"
           }
          },
          "shapedefaults": {
           "line": {
            "color": "#f2f5fa"
           }
          },
          "sliderdefaults": {
           "bgcolor": "#C8D4E3",
           "bordercolor": "rgb(17,17,17)",
           "borderwidth": 1,
           "tickwidth": 0
          },
          "ternary": {
           "aaxis": {
            "gridcolor": "#506784",
            "linecolor": "#506784",
            "ticks": ""
           },
           "baxis": {
            "gridcolor": "#506784",
            "linecolor": "#506784",
            "ticks": ""
           },
           "bgcolor": "rgb(17,17,17)",
           "caxis": {
            "gridcolor": "#506784",
            "linecolor": "#506784",
            "ticks": ""
           }
          },
          "title": {
           "x": 0.05
          },
          "updatemenudefaults": {
           "bgcolor": "#506784",
           "borderwidth": 0
          },
          "xaxis": {
           "automargin": true,
           "gridcolor": "#283442",
           "linecolor": "#506784",
           "ticks": "",
           "title": {
            "standoff": 15
           },
           "zerolinecolor": "#283442",
           "zerolinewidth": 2
          },
          "yaxis": {
           "automargin": true,
           "gridcolor": "#283442",
           "linecolor": "#506784",
           "ticks": "",
           "title": {
            "standoff": 15
           },
           "zerolinecolor": "#283442",
           "zerolinewidth": 2
          }
         }
        },
        "xaxis": {
         "anchor": "y",
         "domain": [
          0,
          1
         ],
         "title": {
          "text": "Date"
         }
        },
        "yaxis": {
         "anchor": "x",
         "domain": [
          0,
          1
         ],
         "title": {
          "text": "value"
         }
        }
       }
      }
     },
     "metadata": {},
     "output_type": "display_data"
    }
   ],
   "source": [
    "# generate predictions on the original dataset\n",
    "predictions = predict_model(best, data=df_200_155)\n",
    "# add a date column in the dataset\n",
    "predictions['Date'] = pd.date_range(start='2016-01-01', end = '2023-06-01', freq = 'MS')\n",
    "# line plot\n",
    "fig = px.line(predictions, x='Date', y=[\"NET_SALES\", \"Label\"], template = 'plotly_dark')\n",
    "# add a vertical rectange for test-set separation\n",
    "fig.add_vrect(x0=\"2022-05-01\", x1=\"2023-07-01\", fillcolor=\"grey\", opacity=0.25, line_width=0)\n",
    "fig.show()"
   ]
  },
  {
   "cell_type": "markdown",
   "metadata": {},
   "source": [
    "The test era above is depicted by the greyish backdrop near the conclusion - May 2022 and on.\n",
    "\n",
    "Let’s now finish the model by training the best model, which is Extreme Gradient Boosting, on the complete dataset (this time, including the test set)."
   ]
  },
  {
   "cell_type": "code",
   "execution_count": 41,
   "metadata": {},
   "outputs": [],
   "source": [
    "final_best = finalize_model(best)"
   ]
  },
  {
   "cell_type": "markdown",
   "metadata": {},
   "source": [
    "Now that we’ve trained our model on the complete dataset (2016 to Jul 2023), Let’s forecast 5 months into the future through the end of 2023. To utilize our final model to make future predictions, we’ll need to first make a dataset with the Month, Year, and Series columns for future dates."
   ]
  },
  {
   "cell_type": "code",
   "execution_count": 49,
   "metadata": {},
   "outputs": [
    {
     "data": {
      "text/html": [
       "<div>\n",
       "<style scoped>\n",
       "    .dataframe tbody tr th:only-of-type {\n",
       "        vertical-align: middle;\n",
       "    }\n",
       "\n",
       "    .dataframe tbody tr th {\n",
       "        vertical-align: top;\n",
       "    }\n",
       "\n",
       "    .dataframe thead th {\n",
       "        text-align: right;\n",
       "    }\n",
       "</style>\n",
       "<table border=\"1\" class=\"dataframe\">\n",
       "  <thead>\n",
       "    <tr style=\"text-align: right;\">\n",
       "      <th></th>\n",
       "      <th>Month</th>\n",
       "      <th>Year</th>\n",
       "      <th>Series</th>\n",
       "    </tr>\n",
       "  </thead>\n",
       "  <tbody>\n",
       "    <tr>\n",
       "      <th>0</th>\n",
       "      <td>7</td>\n",
       "      <td>2023</td>\n",
       "      <td>145</td>\n",
       "    </tr>\n",
       "    <tr>\n",
       "      <th>1</th>\n",
       "      <td>8</td>\n",
       "      <td>2023</td>\n",
       "      <td>146</td>\n",
       "    </tr>\n",
       "    <tr>\n",
       "      <th>2</th>\n",
       "      <td>9</td>\n",
       "      <td>2023</td>\n",
       "      <td>147</td>\n",
       "    </tr>\n",
       "    <tr>\n",
       "      <th>3</th>\n",
       "      <td>10</td>\n",
       "      <td>2023</td>\n",
       "      <td>148</td>\n",
       "    </tr>\n",
       "    <tr>\n",
       "      <th>4</th>\n",
       "      <td>11</td>\n",
       "      <td>2023</td>\n",
       "      <td>149</td>\n",
       "    </tr>\n",
       "  </tbody>\n",
       "</table>\n",
       "</div>"
      ],
      "text/plain": [
       "   Month  Year  Series\n",
       "0      7  2023     145\n",
       "1      8  2023     146\n",
       "2      9  2023     147\n",
       "3     10  2023     148\n",
       "4     11  2023     149"
      ]
     },
     "execution_count": 49,
     "metadata": {},
     "output_type": "execute_result"
    }
   ],
   "source": [
    "future_dates = pd.date_range(start = '2023-07-01', end = '2025-12-01', freq = 'MS')\n",
    "future_df = pd.DataFrame()\n",
    "future_df['Month'] = [i.month for i in future_dates]\n",
    "future_df['Year'] = [i.year for i in future_dates]    \n",
    "future_df['Series'] = np.arange(145, (145+len(future_dates)))\n",
    "future_df.head()"
   ]
  },
  {
   "cell_type": "code",
   "execution_count": 50,
   "metadata": {},
   "outputs": [
    {
     "data": {
      "text/html": [
       "<div>\n",
       "<style scoped>\n",
       "    .dataframe tbody tr th:only-of-type {\n",
       "        vertical-align: middle;\n",
       "    }\n",
       "\n",
       "    .dataframe tbody tr th {\n",
       "        vertical-align: top;\n",
       "    }\n",
       "\n",
       "    .dataframe thead th {\n",
       "        text-align: right;\n",
       "    }\n",
       "</style>\n",
       "<table border=\"1\" class=\"dataframe\">\n",
       "  <thead>\n",
       "    <tr style=\"text-align: right;\">\n",
       "      <th></th>\n",
       "      <th>Month</th>\n",
       "      <th>Year</th>\n",
       "      <th>Series</th>\n",
       "      <th>Label</th>\n",
       "    </tr>\n",
       "  </thead>\n",
       "  <tbody>\n",
       "    <tr>\n",
       "      <th>0</th>\n",
       "      <td>7</td>\n",
       "      <td>2023</td>\n",
       "      <td>145</td>\n",
       "      <td>2229935.00</td>\n",
       "    </tr>\n",
       "    <tr>\n",
       "      <th>1</th>\n",
       "      <td>8</td>\n",
       "      <td>2023</td>\n",
       "      <td>146</td>\n",
       "      <td>2619022.75</td>\n",
       "    </tr>\n",
       "    <tr>\n",
       "      <th>2</th>\n",
       "      <td>9</td>\n",
       "      <td>2023</td>\n",
       "      <td>147</td>\n",
       "      <td>3053146.50</td>\n",
       "    </tr>\n",
       "    <tr>\n",
       "      <th>3</th>\n",
       "      <td>10</td>\n",
       "      <td>2023</td>\n",
       "      <td>148</td>\n",
       "      <td>1879930.50</td>\n",
       "    </tr>\n",
       "    <tr>\n",
       "      <th>4</th>\n",
       "      <td>11</td>\n",
       "      <td>2023</td>\n",
       "      <td>149</td>\n",
       "      <td>2904365.75</td>\n",
       "    </tr>\n",
       "  </tbody>\n",
       "</table>\n",
       "</div>"
      ],
      "text/plain": [
       "   Month  Year  Series       Label\n",
       "0      7  2023     145  2229935.00\n",
       "1      8  2023     146  2619022.75\n",
       "2      9  2023     147  3053146.50\n",
       "3     10  2023     148  1879930.50\n",
       "4     11  2023     149  2904365.75"
      ]
     },
     "execution_count": 50,
     "metadata": {},
     "output_type": "execute_result"
    }
   ],
   "source": [
    "predictions_future = predict_model(final_best, data=future_df)\n",
    "predictions_future.head()"
   ]
  },
  {
   "cell_type": "code",
   "execution_count": 51,
   "metadata": {},
   "outputs": [
    {
     "data": {
      "application/vnd.plotly.v1+json": {
       "config": {
        "plotlyServerURL": "https://plot.ly"
       },
       "data": [
        {
         "hovertemplate": "variable=NET_SALES<br>index=%{x}<br>value=%{y}<extra></extra>",
         "legendgroup": "NET_SALES",
         "line": {
          "color": "#636efa",
          "dash": "solid"
         },
         "marker": {
          "symbol": "circle"
         },
         "mode": "lines",
         "name": "NET_SALES",
         "orientation": "v",
         "showlegend": true,
         "type": "scatter",
         "x": [
          "2016-01-01T00:00:00",
          "2016-02-01T00:00:00",
          "2016-03-01T00:00:00",
          "2016-04-01T00:00:00",
          "2016-05-01T00:00:00",
          "2016-06-01T00:00:00",
          "2016-07-01T00:00:00",
          "2016-08-01T00:00:00",
          "2016-09-01T00:00:00",
          "2016-10-01T00:00:00",
          "2016-11-01T00:00:00",
          "2016-12-01T00:00:00",
          "2017-01-01T00:00:00",
          "2017-02-01T00:00:00",
          "2017-03-01T00:00:00",
          "2017-04-01T00:00:00",
          "2017-05-01T00:00:00",
          "2017-06-01T00:00:00",
          "2017-07-01T00:00:00",
          "2017-08-01T00:00:00",
          "2017-09-01T00:00:00",
          "2017-10-01T00:00:00",
          "2017-11-01T00:00:00",
          "2017-12-01T00:00:00",
          "2018-01-01T00:00:00",
          "2018-02-01T00:00:00",
          "2018-03-01T00:00:00",
          "2018-04-01T00:00:00",
          "2018-05-01T00:00:00",
          "2018-06-01T00:00:00",
          "2018-07-01T00:00:00",
          "2018-08-01T00:00:00",
          "2018-09-01T00:00:00",
          "2018-10-01T00:00:00",
          "2018-11-01T00:00:00",
          "2018-12-01T00:00:00",
          "2019-01-01T00:00:00",
          "2019-02-01T00:00:00",
          "2019-03-01T00:00:00",
          "2019-04-01T00:00:00",
          "2019-05-01T00:00:00",
          "2019-06-01T00:00:00",
          "2019-07-01T00:00:00",
          "2019-08-01T00:00:00",
          "2019-09-01T00:00:00",
          "2019-10-01T00:00:00",
          "2019-11-01T00:00:00",
          "2019-12-01T00:00:00",
          "2020-01-01T00:00:00",
          "2020-02-01T00:00:00",
          "2020-03-01T00:00:00",
          "2020-04-01T00:00:00",
          "2020-05-01T00:00:00",
          "2020-06-01T00:00:00",
          "2020-07-01T00:00:00",
          "2020-08-01T00:00:00",
          "2020-09-01T00:00:00",
          "2020-10-01T00:00:00",
          "2020-11-01T00:00:00",
          "2020-12-01T00:00:00",
          "2021-01-01T00:00:00",
          "2021-02-01T00:00:00",
          "2021-03-01T00:00:00",
          "2021-04-01T00:00:00",
          "2021-05-01T00:00:00",
          "2021-06-01T00:00:00",
          "2021-07-01T00:00:00",
          "2021-08-01T00:00:00",
          "2021-09-01T00:00:00",
          "2021-10-01T00:00:00",
          "2021-11-01T00:00:00",
          "2021-12-01T00:00:00",
          "2022-01-01T00:00:00",
          "2022-02-01T00:00:00",
          "2022-03-01T00:00:00",
          "2022-04-01T00:00:00",
          "2022-05-01T00:00:00",
          "2022-06-01T00:00:00",
          "2022-07-01T00:00:00",
          "2022-08-01T00:00:00",
          "2022-09-01T00:00:00",
          "2022-10-01T00:00:00",
          "2022-11-01T00:00:00",
          "2022-12-01T00:00:00",
          "2023-01-01T00:00:00",
          "2023-02-01T00:00:00",
          "2023-03-01T00:00:00",
          "2023-04-01T00:00:00",
          "2023-05-01T00:00:00",
          "2023-06-01T00:00:00",
          "2023-07-01T00:00:00",
          "2023-08-01T00:00:00",
          "2023-09-01T00:00:00",
          "2023-10-01T00:00:00",
          "2023-11-01T00:00:00",
          "2023-12-01T00:00:00",
          "2024-01-01T00:00:00",
          "2024-02-01T00:00:00",
          "2024-03-01T00:00:00",
          "2024-04-01T00:00:00",
          "2024-05-01T00:00:00",
          "2024-06-01T00:00:00",
          "2024-07-01T00:00:00",
          "2024-08-01T00:00:00",
          "2024-09-01T00:00:00",
          "2024-10-01T00:00:00",
          "2024-11-01T00:00:00",
          "2024-12-01T00:00:00",
          "2025-01-01T00:00:00",
          "2025-02-01T00:00:00",
          "2025-03-01T00:00:00",
          "2025-04-01T00:00:00",
          "2025-05-01T00:00:00",
          "2025-06-01T00:00:00",
          "2025-07-01T00:00:00",
          "2025-08-01T00:00:00",
          "2025-09-01T00:00:00",
          "2025-10-01T00:00:00",
          "2025-11-01T00:00:00",
          "2025-12-01T00:00:00"
         ],
         "xaxis": "x",
         "y": [
          2592017.0399999996,
          2348092.91,
          2894584.9800000004,
          2163636.39,
          3210147.13,
          2534780.022441941,
          1820221.0699999998,
          3256621.67,
          2185207.9599999995,
          1232046.53,
          2138401.9,
          5408161.609999999,
          2221206.2100000004,
          1311588.13,
          2004152.18,
          1808462.2999999998,
          2467258.26,
          2115785.29,
          2169368.17,
          2831195.0300000003,
          1689228.7500000002,
          1856472.6600000001,
          1953840.1299999997,
          4614243.090000001,
          2155970.04,
          1809524.64,
          1968200.1800000002,
          1868773.9200000002,
          2115120.67,
          1657630.8499999999,
          1500893.07,
          1430529.3099999998,
          1438770.41,
          1644360.17,
          2227767.59,
          4551426.680000001,
          2265201.7900000005,
          2116634.1599999997,
          1830020.61,
          1740166.3100000003,
          2333062.1799999997,
          1856416.87,
          1895360.33,
          1955738.19,
          1749430.6000000003,
          1522283.25,
          2681924.32,
          4944662.330000001,
          1729231.23,
          1557584.4800000002,
          2345754.61,
          4574204.21,
          5970634.910000001,
          4077669.79,
          3357018.87,
          3073121.3099999996,
          4930647.75,
          2052590.75,
          3727026.7400000007,
          6080434.140000001,
          2936947.11,
          2566675.7899999996,
          3845263.6799999997,
          3640408.14,
          3331794.0300000003,
          2257787.07,
          2143054.42,
          2982415.150000001,
          3904088.6200000006,
          1841159.2599999998,
          3826672.51,
          4101338.13,
          1985988.9199999997,
          2328955.9699999993,
          2240477.51,
          2394403.39,
          2275736.56,
          1713451.8400000003,
          2497213.4,
          1953652.6099999996,
          3745685.6799999992,
          1359967.6899999997,
          4112404.0300000003,
          2913744.15,
          1622113.58,
          1728206.02,
          2325654.2399999998,
          1918474.98,
          2443940.1399999997,
          1748262.2999999998,
          null,
          null,
          null,
          null,
          null,
          null,
          null,
          null,
          null,
          null,
          null,
          null,
          null,
          null,
          null,
          null,
          null,
          null,
          null,
          null,
          null,
          null,
          null,
          null,
          null,
          null,
          null,
          null,
          null,
          null
         ],
         "yaxis": "y"
        },
        {
         "hovertemplate": "variable=Label<br>index=%{x}<br>value=%{y}<extra></extra>",
         "legendgroup": "Label",
         "line": {
          "color": "#EF553B",
          "dash": "solid"
         },
         "marker": {
          "symbol": "circle"
         },
         "mode": "lines",
         "name": "Label",
         "orientation": "v",
         "showlegend": true,
         "type": "scatter",
         "x": [
          "2016-01-01T00:00:00",
          "2016-02-01T00:00:00",
          "2016-03-01T00:00:00",
          "2016-04-01T00:00:00",
          "2016-05-01T00:00:00",
          "2016-06-01T00:00:00",
          "2016-07-01T00:00:00",
          "2016-08-01T00:00:00",
          "2016-09-01T00:00:00",
          "2016-10-01T00:00:00",
          "2016-11-01T00:00:00",
          "2016-12-01T00:00:00",
          "2017-01-01T00:00:00",
          "2017-02-01T00:00:00",
          "2017-03-01T00:00:00",
          "2017-04-01T00:00:00",
          "2017-05-01T00:00:00",
          "2017-06-01T00:00:00",
          "2017-07-01T00:00:00",
          "2017-08-01T00:00:00",
          "2017-09-01T00:00:00",
          "2017-10-01T00:00:00",
          "2017-11-01T00:00:00",
          "2017-12-01T00:00:00",
          "2018-01-01T00:00:00",
          "2018-02-01T00:00:00",
          "2018-03-01T00:00:00",
          "2018-04-01T00:00:00",
          "2018-05-01T00:00:00",
          "2018-06-01T00:00:00",
          "2018-07-01T00:00:00",
          "2018-08-01T00:00:00",
          "2018-09-01T00:00:00",
          "2018-10-01T00:00:00",
          "2018-11-01T00:00:00",
          "2018-12-01T00:00:00",
          "2019-01-01T00:00:00",
          "2019-02-01T00:00:00",
          "2019-03-01T00:00:00",
          "2019-04-01T00:00:00",
          "2019-05-01T00:00:00",
          "2019-06-01T00:00:00",
          "2019-07-01T00:00:00",
          "2019-08-01T00:00:00",
          "2019-09-01T00:00:00",
          "2019-10-01T00:00:00",
          "2019-11-01T00:00:00",
          "2019-12-01T00:00:00",
          "2020-01-01T00:00:00",
          "2020-02-01T00:00:00",
          "2020-03-01T00:00:00",
          "2020-04-01T00:00:00",
          "2020-05-01T00:00:00",
          "2020-06-01T00:00:00",
          "2020-07-01T00:00:00",
          "2020-08-01T00:00:00",
          "2020-09-01T00:00:00",
          "2020-10-01T00:00:00",
          "2020-11-01T00:00:00",
          "2020-12-01T00:00:00",
          "2021-01-01T00:00:00",
          "2021-02-01T00:00:00",
          "2021-03-01T00:00:00",
          "2021-04-01T00:00:00",
          "2021-05-01T00:00:00",
          "2021-06-01T00:00:00",
          "2021-07-01T00:00:00",
          "2021-08-01T00:00:00",
          "2021-09-01T00:00:00",
          "2021-10-01T00:00:00",
          "2021-11-01T00:00:00",
          "2021-12-01T00:00:00",
          "2022-01-01T00:00:00",
          "2022-02-01T00:00:00",
          "2022-03-01T00:00:00",
          "2022-04-01T00:00:00",
          "2022-05-01T00:00:00",
          "2022-06-01T00:00:00",
          "2022-07-01T00:00:00",
          "2022-08-01T00:00:00",
          "2022-09-01T00:00:00",
          "2022-10-01T00:00:00",
          "2022-11-01T00:00:00",
          "2022-12-01T00:00:00",
          "2023-01-01T00:00:00",
          "2023-02-01T00:00:00",
          "2023-03-01T00:00:00",
          "2023-04-01T00:00:00",
          "2023-05-01T00:00:00",
          "2023-06-01T00:00:00",
          "2023-07-01T00:00:00",
          "2023-08-01T00:00:00",
          "2023-09-01T00:00:00",
          "2023-10-01T00:00:00",
          "2023-11-01T00:00:00",
          "2023-12-01T00:00:00",
          "2024-01-01T00:00:00",
          "2024-02-01T00:00:00",
          "2024-03-01T00:00:00",
          "2024-04-01T00:00:00",
          "2024-05-01T00:00:00",
          "2024-06-01T00:00:00",
          "2024-07-01T00:00:00",
          "2024-08-01T00:00:00",
          "2024-09-01T00:00:00",
          "2024-10-01T00:00:00",
          "2024-11-01T00:00:00",
          "2024-12-01T00:00:00",
          "2025-01-01T00:00:00",
          "2025-02-01T00:00:00",
          "2025-03-01T00:00:00",
          "2025-04-01T00:00:00",
          "2025-05-01T00:00:00",
          "2025-06-01T00:00:00",
          "2025-07-01T00:00:00",
          "2025-08-01T00:00:00",
          "2025-09-01T00:00:00",
          "2025-10-01T00:00:00",
          "2025-11-01T00:00:00",
          "2025-12-01T00:00:00"
         ],
         "xaxis": "x",
         "y": [
          null,
          null,
          null,
          null,
          null,
          null,
          null,
          null,
          null,
          null,
          null,
          null,
          null,
          null,
          null,
          null,
          null,
          null,
          null,
          null,
          null,
          null,
          null,
          null,
          null,
          null,
          null,
          null,
          null,
          null,
          null,
          null,
          null,
          null,
          null,
          null,
          null,
          null,
          null,
          null,
          null,
          null,
          null,
          null,
          null,
          null,
          null,
          null,
          null,
          null,
          null,
          null,
          null,
          null,
          null,
          null,
          null,
          null,
          null,
          null,
          null,
          null,
          null,
          null,
          null,
          null,
          null,
          null,
          null,
          null,
          null,
          null,
          null,
          null,
          null,
          null,
          null,
          null,
          null,
          null,
          null,
          null,
          null,
          null,
          null,
          null,
          null,
          null,
          null,
          null,
          2229935,
          2619022.75,
          3053146.5,
          1879930.5,
          2904365.75,
          3552221,
          2127954.25,
          2380268.75,
          2321820.75,
          2380268.75,
          2420717.25,
          2229935,
          2229935,
          2619022.75,
          3053146.5,
          1879930.5,
          2904365.75,
          3552221,
          2127954.25,
          2380268.75,
          2321820.75,
          2380268.75,
          2420717.25,
          2229935,
          2229935,
          2619022.75,
          3053146.5,
          1879930.5,
          2904365.75,
          3552221
         ],
         "yaxis": "y"
        }
       ],
       "layout": {
        "legend": {
         "title": {
          "text": "variable"
         },
         "tracegroupgap": 0
        },
        "margin": {
         "t": 60
        },
        "template": {
         "data": {
          "bar": [
           {
            "error_x": {
             "color": "#f2f5fa"
            },
            "error_y": {
             "color": "#f2f5fa"
            },
            "marker": {
             "line": {
              "color": "rgb(17,17,17)",
              "width": 0.5
             },
             "pattern": {
              "fillmode": "overlay",
              "size": 10,
              "solidity": 0.2
             }
            },
            "type": "bar"
           }
          ],
          "barpolar": [
           {
            "marker": {
             "line": {
              "color": "rgb(17,17,17)",
              "width": 0.5
             },
             "pattern": {
              "fillmode": "overlay",
              "size": 10,
              "solidity": 0.2
             }
            },
            "type": "barpolar"
           }
          ],
          "carpet": [
           {
            "aaxis": {
             "endlinecolor": "#A2B1C6",
             "gridcolor": "#506784",
             "linecolor": "#506784",
             "minorgridcolor": "#506784",
             "startlinecolor": "#A2B1C6"
            },
            "baxis": {
             "endlinecolor": "#A2B1C6",
             "gridcolor": "#506784",
             "linecolor": "#506784",
             "minorgridcolor": "#506784",
             "startlinecolor": "#A2B1C6"
            },
            "type": "carpet"
           }
          ],
          "choropleth": [
           {
            "colorbar": {
             "outlinewidth": 0,
             "ticks": ""
            },
            "type": "choropleth"
           }
          ],
          "contour": [
           {
            "colorbar": {
             "outlinewidth": 0,
             "ticks": ""
            },
            "colorscale": [
             [
              0,
              "#0d0887"
             ],
             [
              0.1111111111111111,
              "#46039f"
             ],
             [
              0.2222222222222222,
              "#7201a8"
             ],
             [
              0.3333333333333333,
              "#9c179e"
             ],
             [
              0.4444444444444444,
              "#bd3786"
             ],
             [
              0.5555555555555556,
              "#d8576b"
             ],
             [
              0.6666666666666666,
              "#ed7953"
             ],
             [
              0.7777777777777778,
              "#fb9f3a"
             ],
             [
              0.8888888888888888,
              "#fdca26"
             ],
             [
              1,
              "#f0f921"
             ]
            ],
            "type": "contour"
           }
          ],
          "contourcarpet": [
           {
            "colorbar": {
             "outlinewidth": 0,
             "ticks": ""
            },
            "type": "contourcarpet"
           }
          ],
          "heatmap": [
           {
            "colorbar": {
             "outlinewidth": 0,
             "ticks": ""
            },
            "colorscale": [
             [
              0,
              "#0d0887"
             ],
             [
              0.1111111111111111,
              "#46039f"
             ],
             [
              0.2222222222222222,
              "#7201a8"
             ],
             [
              0.3333333333333333,
              "#9c179e"
             ],
             [
              0.4444444444444444,
              "#bd3786"
             ],
             [
              0.5555555555555556,
              "#d8576b"
             ],
             [
              0.6666666666666666,
              "#ed7953"
             ],
             [
              0.7777777777777778,
              "#fb9f3a"
             ],
             [
              0.8888888888888888,
              "#fdca26"
             ],
             [
              1,
              "#f0f921"
             ]
            ],
            "type": "heatmap"
           }
          ],
          "heatmapgl": [
           {
            "colorbar": {
             "outlinewidth": 0,
             "ticks": ""
            },
            "colorscale": [
             [
              0,
              "#0d0887"
             ],
             [
              0.1111111111111111,
              "#46039f"
             ],
             [
              0.2222222222222222,
              "#7201a8"
             ],
             [
              0.3333333333333333,
              "#9c179e"
             ],
             [
              0.4444444444444444,
              "#bd3786"
             ],
             [
              0.5555555555555556,
              "#d8576b"
             ],
             [
              0.6666666666666666,
              "#ed7953"
             ],
             [
              0.7777777777777778,
              "#fb9f3a"
             ],
             [
              0.8888888888888888,
              "#fdca26"
             ],
             [
              1,
              "#f0f921"
             ]
            ],
            "type": "heatmapgl"
           }
          ],
          "histogram": [
           {
            "marker": {
             "pattern": {
              "fillmode": "overlay",
              "size": 10,
              "solidity": 0.2
             }
            },
            "type": "histogram"
           }
          ],
          "histogram2d": [
           {
            "colorbar": {
             "outlinewidth": 0,
             "ticks": ""
            },
            "colorscale": [
             [
              0,
              "#0d0887"
             ],
             [
              0.1111111111111111,
              "#46039f"
             ],
             [
              0.2222222222222222,
              "#7201a8"
             ],
             [
              0.3333333333333333,
              "#9c179e"
             ],
             [
              0.4444444444444444,
              "#bd3786"
             ],
             [
              0.5555555555555556,
              "#d8576b"
             ],
             [
              0.6666666666666666,
              "#ed7953"
             ],
             [
              0.7777777777777778,
              "#fb9f3a"
             ],
             [
              0.8888888888888888,
              "#fdca26"
             ],
             [
              1,
              "#f0f921"
             ]
            ],
            "type": "histogram2d"
           }
          ],
          "histogram2dcontour": [
           {
            "colorbar": {
             "outlinewidth": 0,
             "ticks": ""
            },
            "colorscale": [
             [
              0,
              "#0d0887"
             ],
             [
              0.1111111111111111,
              "#46039f"
             ],
             [
              0.2222222222222222,
              "#7201a8"
             ],
             [
              0.3333333333333333,
              "#9c179e"
             ],
             [
              0.4444444444444444,
              "#bd3786"
             ],
             [
              0.5555555555555556,
              "#d8576b"
             ],
             [
              0.6666666666666666,
              "#ed7953"
             ],
             [
              0.7777777777777778,
              "#fb9f3a"
             ],
             [
              0.8888888888888888,
              "#fdca26"
             ],
             [
              1,
              "#f0f921"
             ]
            ],
            "type": "histogram2dcontour"
           }
          ],
          "mesh3d": [
           {
            "colorbar": {
             "outlinewidth": 0,
             "ticks": ""
            },
            "type": "mesh3d"
           }
          ],
          "parcoords": [
           {
            "line": {
             "colorbar": {
              "outlinewidth": 0,
              "ticks": ""
             }
            },
            "type": "parcoords"
           }
          ],
          "pie": [
           {
            "automargin": true,
            "type": "pie"
           }
          ],
          "scatter": [
           {
            "marker": {
             "line": {
              "color": "#283442"
             }
            },
            "type": "scatter"
           }
          ],
          "scatter3d": [
           {
            "line": {
             "colorbar": {
              "outlinewidth": 0,
              "ticks": ""
             }
            },
            "marker": {
             "colorbar": {
              "outlinewidth": 0,
              "ticks": ""
             }
            },
            "type": "scatter3d"
           }
          ],
          "scattercarpet": [
           {
            "marker": {
             "colorbar": {
              "outlinewidth": 0,
              "ticks": ""
             }
            },
            "type": "scattercarpet"
           }
          ],
          "scattergeo": [
           {
            "marker": {
             "colorbar": {
              "outlinewidth": 0,
              "ticks": ""
             }
            },
            "type": "scattergeo"
           }
          ],
          "scattergl": [
           {
            "marker": {
             "line": {
              "color": "#283442"
             }
            },
            "type": "scattergl"
           }
          ],
          "scattermapbox": [
           {
            "marker": {
             "colorbar": {
              "outlinewidth": 0,
              "ticks": ""
             }
            },
            "type": "scattermapbox"
           }
          ],
          "scatterpolar": [
           {
            "marker": {
             "colorbar": {
              "outlinewidth": 0,
              "ticks": ""
             }
            },
            "type": "scatterpolar"
           }
          ],
          "scatterpolargl": [
           {
            "marker": {
             "colorbar": {
              "outlinewidth": 0,
              "ticks": ""
             }
            },
            "type": "scatterpolargl"
           }
          ],
          "scatterternary": [
           {
            "marker": {
             "colorbar": {
              "outlinewidth": 0,
              "ticks": ""
             }
            },
            "type": "scatterternary"
           }
          ],
          "surface": [
           {
            "colorbar": {
             "outlinewidth": 0,
             "ticks": ""
            },
            "colorscale": [
             [
              0,
              "#0d0887"
             ],
             [
              0.1111111111111111,
              "#46039f"
             ],
             [
              0.2222222222222222,
              "#7201a8"
             ],
             [
              0.3333333333333333,
              "#9c179e"
             ],
             [
              0.4444444444444444,
              "#bd3786"
             ],
             [
              0.5555555555555556,
              "#d8576b"
             ],
             [
              0.6666666666666666,
              "#ed7953"
             ],
             [
              0.7777777777777778,
              "#fb9f3a"
             ],
             [
              0.8888888888888888,
              "#fdca26"
             ],
             [
              1,
              "#f0f921"
             ]
            ],
            "type": "surface"
           }
          ],
          "table": [
           {
            "cells": {
             "fill": {
              "color": "#506784"
             },
             "line": {
              "color": "rgb(17,17,17)"
             }
            },
            "header": {
             "fill": {
              "color": "#2a3f5f"
             },
             "line": {
              "color": "rgb(17,17,17)"
             }
            },
            "type": "table"
           }
          ]
         },
         "layout": {
          "annotationdefaults": {
           "arrowcolor": "#f2f5fa",
           "arrowhead": 0,
           "arrowwidth": 1
          },
          "autotypenumbers": "strict",
          "coloraxis": {
           "colorbar": {
            "outlinewidth": 0,
            "ticks": ""
           }
          },
          "colorscale": {
           "diverging": [
            [
             0,
             "#8e0152"
            ],
            [
             0.1,
             "#c51b7d"
            ],
            [
             0.2,
             "#de77ae"
            ],
            [
             0.3,
             "#f1b6da"
            ],
            [
             0.4,
             "#fde0ef"
            ],
            [
             0.5,
             "#f7f7f7"
            ],
            [
             0.6,
             "#e6f5d0"
            ],
            [
             0.7,
             "#b8e186"
            ],
            [
             0.8,
             "#7fbc41"
            ],
            [
             0.9,
             "#4d9221"
            ],
            [
             1,
             "#276419"
            ]
           ],
           "sequential": [
            [
             0,
             "#0d0887"
            ],
            [
             0.1111111111111111,
             "#46039f"
            ],
            [
             0.2222222222222222,
             "#7201a8"
            ],
            [
             0.3333333333333333,
             "#9c179e"
            ],
            [
             0.4444444444444444,
             "#bd3786"
            ],
            [
             0.5555555555555556,
             "#d8576b"
            ],
            [
             0.6666666666666666,
             "#ed7953"
            ],
            [
             0.7777777777777778,
             "#fb9f3a"
            ],
            [
             0.8888888888888888,
             "#fdca26"
            ],
            [
             1,
             "#f0f921"
            ]
           ],
           "sequentialminus": [
            [
             0,
             "#0d0887"
            ],
            [
             0.1111111111111111,
             "#46039f"
            ],
            [
             0.2222222222222222,
             "#7201a8"
            ],
            [
             0.3333333333333333,
             "#9c179e"
            ],
            [
             0.4444444444444444,
             "#bd3786"
            ],
            [
             0.5555555555555556,
             "#d8576b"
            ],
            [
             0.6666666666666666,
             "#ed7953"
            ],
            [
             0.7777777777777778,
             "#fb9f3a"
            ],
            [
             0.8888888888888888,
             "#fdca26"
            ],
            [
             1,
             "#f0f921"
            ]
           ]
          },
          "colorway": [
           "#636efa",
           "#EF553B",
           "#00cc96",
           "#ab63fa",
           "#FFA15A",
           "#19d3f3",
           "#FF6692",
           "#B6E880",
           "#FF97FF",
           "#FECB52"
          ],
          "font": {
           "color": "#f2f5fa"
          },
          "geo": {
           "bgcolor": "rgb(17,17,17)",
           "lakecolor": "rgb(17,17,17)",
           "landcolor": "rgb(17,17,17)",
           "showlakes": true,
           "showland": true,
           "subunitcolor": "#506784"
          },
          "hoverlabel": {
           "align": "left"
          },
          "hovermode": "closest",
          "mapbox": {
           "style": "dark"
          },
          "paper_bgcolor": "rgb(17,17,17)",
          "plot_bgcolor": "rgb(17,17,17)",
          "polar": {
           "angularaxis": {
            "gridcolor": "#506784",
            "linecolor": "#506784",
            "ticks": ""
           },
           "bgcolor": "rgb(17,17,17)",
           "radialaxis": {
            "gridcolor": "#506784",
            "linecolor": "#506784",
            "ticks": ""
           }
          },
          "scene": {
           "xaxis": {
            "backgroundcolor": "rgb(17,17,17)",
            "gridcolor": "#506784",
            "gridwidth": 2,
            "linecolor": "#506784",
            "showbackground": true,
            "ticks": "",
            "zerolinecolor": "#C8D4E3"
           },
           "yaxis": {
            "backgroundcolor": "rgb(17,17,17)",
            "gridcolor": "#506784",
            "gridwidth": 2,
            "linecolor": "#506784",
            "showbackground": true,
            "ticks": "",
            "zerolinecolor": "#C8D4E3"
           },
           "zaxis": {
            "backgroundcolor": "rgb(17,17,17)",
            "gridcolor": "#506784",
            "gridwidth": 2,
            "linecolor": "#506784",
            "showbackground": true,
            "ticks": "",
            "zerolinecolor": "#C8D4E3"
           }
          },
          "shapedefaults": {
           "line": {
            "color": "#f2f5fa"
           }
          },
          "sliderdefaults": {
           "bgcolor": "#C8D4E3",
           "bordercolor": "rgb(17,17,17)",
           "borderwidth": 1,
           "tickwidth": 0
          },
          "ternary": {
           "aaxis": {
            "gridcolor": "#506784",
            "linecolor": "#506784",
            "ticks": ""
           },
           "baxis": {
            "gridcolor": "#506784",
            "linecolor": "#506784",
            "ticks": ""
           },
           "bgcolor": "rgb(17,17,17)",
           "caxis": {
            "gridcolor": "#506784",
            "linecolor": "#506784",
            "ticks": ""
           }
          },
          "title": {
           "x": 0.05
          },
          "updatemenudefaults": {
           "bgcolor": "#506784",
           "borderwidth": 0
          },
          "xaxis": {
           "automargin": true,
           "gridcolor": "#283442",
           "linecolor": "#506784",
           "ticks": "",
           "title": {
            "standoff": 15
           },
           "zerolinecolor": "#283442",
           "zerolinewidth": 2
          },
          "yaxis": {
           "automargin": true,
           "gridcolor": "#283442",
           "linecolor": "#506784",
           "ticks": "",
           "title": {
            "standoff": 15
           },
           "zerolinecolor": "#283442",
           "zerolinewidth": 2
          }
         }
        },
        "xaxis": {
         "anchor": "y",
         "domain": [
          0,
          1
         ],
         "title": {
          "text": "index"
         }
        },
        "yaxis": {
         "anchor": "x",
         "domain": [
          0,
          1
         ],
         "title": {
          "text": "value"
         }
        }
       }
      }
     },
     "metadata": {},
     "output_type": "display_data"
    }
   ],
   "source": [
    "concat_df = pd.concat([df_200_155,predictions_future], axis=0)\n",
    "concat_df_i = pd.date_range(start='2016-01-01', end = '2025-12-01', freq = 'MS')\n",
    "concat_df.set_index(concat_df_i, inplace=True)\n",
    "fig = px.line(concat_df, x=concat_df.index, y=[\"NET_SALES\", \"Label\"], template = 'plotly_dark')\n",
    "fig.show()"
   ]
  },
  {
   "cell_type": "code",
   "execution_count": 56,
   "metadata": {},
   "outputs": [],
   "source": [
    "predictions_future.to_csv('python200155.csv')"
   ]
  },
  {
   "cell_type": "markdown",
   "metadata": {},
   "source": [
    "###############\n",
    "### Phase 2 ###\n",
    "###############\n",
    "\n",
    "Forecast for multiple series"
   ]
  },
  {
   "cell_type": "code",
   "execution_count": 75,
   "metadata": {},
   "outputs": [
    {
     "name": "stdout",
     "output_type": "stream",
     "text": [
      "      DEP_ENT      MONTH    NET_SALES  BUDGET_AMOUNT  FORECAST\n",
      "0     240_155 2017-02-01   4153796.71      4198000.0       NaN\n",
      "1     240_155 2017-03-01   5940741.71      4892400.0       NaN\n",
      "2     240_155 2017-04-01   4789757.73      5580200.0       NaN\n",
      "3     240_155 2017-05-01   6356822.97      5298000.0       NaN\n",
      "4     240_155 2017-06-01   5756533.29      4678000.0       NaN\n",
      "...       ...        ...          ...            ...       ...\n",
      "1260  210_155 2016-07-01   6283148.80     11311652.0       NaN\n",
      "1261  210_155 2016-08-01   5626725.62     11326527.0       NaN\n",
      "1262  210_155 2016-09-01  10283086.45     11377763.0       NaN\n",
      "1263  210_155 2016-10-01   6239512.66     11377763.0       NaN\n",
      "1264  210_155 2016-11-01  16467966.49     11690688.0       NaN\n",
      "\n",
      "[1265 rows x 5 columns]\n",
      "DEP_ENT                  object\n",
      "MONTH            datetime64[ns]\n",
      "NET_SALES               float64\n",
      "BUDGET_AMOUNT           float64\n",
      "FORECAST                float64\n",
      "dtype: object\n"
     ]
    }
   ],
   "source": [
    "# head and tail\n",
    "print(result_df)\n",
    "print(result_df.dtypes)"
   ]
  },
  {
   "cell_type": "code",
   "execution_count": 76,
   "metadata": {},
   "outputs": [
    {
     "name": "stdout",
     "output_type": "stream",
     "text": [
      "      DEP_ENT      MONTH    NET_SALES\n",
      "0     240_155 2017-02-01   4153796.71\n",
      "1     240_155 2017-03-01   5940741.71\n",
      "2     240_155 2017-04-01   4789757.73\n",
      "3     240_155 2017-05-01   6356822.97\n",
      "4     240_155 2017-06-01   5756533.29\n",
      "...       ...        ...          ...\n",
      "1260  210_155 2016-07-01   6283148.80\n",
      "1261  210_155 2016-08-01   5626725.62\n",
      "1262  210_155 2016-09-01  10283086.45\n",
      "1263  210_155 2016-10-01   6239512.66\n",
      "1264  210_155 2016-11-01  16467966.49\n",
      "\n",
      "[1183 rows x 3 columns]\n",
      "DEP_ENT              object\n",
      "MONTH        datetime64[ns]\n",
      "NET_SALES           float64\n",
      "dtype: object\n"
     ]
    }
   ],
   "source": [
    "df_all = result_df[result_df['MONTH'] <= pd.Timestamp(2023,6,1)] \n",
    "\"\"\"\n",
    "ABOVE: we have data beyond july '23, but we want to compare with \n",
    "some models that only had through june. No way to check model accuracy beyond the daya we have\n",
    "\"\"\"\n",
    "df_all = df_all[[\"DEP_ENT\", \"MONTH\", \"NET_SALES\"]]\n",
    "print(df_all)\n",
    "print(df_all.dtypes)"
   ]
  },
  {
   "cell_type": "code",
   "execution_count": 77,
   "metadata": {},
   "outputs": [
    {
     "name": "stdout",
     "output_type": "stream",
     "text": [
      "   DEP_ENT      MONTH   NET_SALES  Month  Year\n",
      "0  240_155 2017-02-01  4153796.71      2  2017\n",
      "1  240_155 2017-03-01  5940741.71      3  2017\n",
      "2  240_155 2017-04-01  4789757.73      4  2017\n",
      "3  240_155 2017-05-01  6356822.97      5  2017\n",
      "4  240_155 2017-06-01  5756533.29      6  2017\n",
      "DEP_ENT              object\n",
      "MONTH        datetime64[ns]\n",
      "NET_SALES           float64\n",
      "Month                 int64\n",
      "Year                  int64\n",
      "dtype: object\n"
     ]
    }
   ],
   "source": [
    "# ML Can't deal with dates directly so we need to extract some basic properties\n",
    "\n",
    "# extract month and year from dates\n",
    "df_all['Month'] = [i.month for i in df_all['MONTH']]\n",
    "df_all['Year'] = [i.year for i in df_all['MONTH']]\n",
    "# create a sequence of numbers\n",
    "#df_all['Series'] = np.arange(1,len(df_all)+1)\n",
    "print(df_all.head())\n",
    "print(df_all.dtypes)"
   ]
  },
  {
   "cell_type": "code",
   "execution_count": 78,
   "metadata": {},
   "outputs": [
    {
     "data": {
      "text/plain": [
       "14"
      ]
     },
     "execution_count": 78,
     "metadata": {},
     "output_type": "execute_result"
    }
   ],
   "source": [
    "# check the unique time_series - 14 different department-entity combinations\n",
    "df_all['DEP_ENT'].nunique()"
   ]
  },
  {
   "cell_type": "code",
   "execution_count": 79,
   "metadata": {},
   "outputs": [
    {
     "data": {
      "application/vnd.plotly.v1+json": {
       "config": {
        "plotlyServerURL": "https://plot.ly"
       },
       "data": [
        {
         "hovertemplate": "variable=NET_SALES<br>MONTH=%{x}<br>value=%{y}<extra></extra>",
         "legendgroup": "NET_SALES",
         "line": {
          "color": "#636efa",
          "dash": "solid"
         },
         "marker": {
          "symbol": "circle"
         },
         "mode": "lines",
         "name": "NET_SALES",
         "orientation": "v",
         "showlegend": true,
         "type": "scatter",
         "x": [
          "2018-10-01T00:00:00",
          "2018-11-01T00:00:00",
          "2018-12-01T00:00:00",
          "2019-01-01T00:00:00",
          "2019-02-01T00:00:00",
          "2019-03-01T00:00:00",
          "2019-05-01T00:00:00",
          "2019-06-01T00:00:00",
          "2019-07-01T00:00:00",
          "2019-08-01T00:00:00",
          "2019-09-01T00:00:00",
          "2019-10-01T00:00:00",
          "2019-11-01T00:00:00",
          "2019-12-01T00:00:00",
          "2020-01-01T00:00:00",
          "2020-02-01T00:00:00",
          "2020-03-01T00:00:00",
          "2020-04-01T00:00:00",
          "2020-05-01T00:00:00",
          "2020-06-01T00:00:00",
          "2020-07-01T00:00:00",
          "2020-08-01T00:00:00",
          "2020-09-01T00:00:00",
          "2020-10-01T00:00:00",
          "2020-11-01T00:00:00",
          "2020-12-01T00:00:00",
          "2021-01-01T00:00:00",
          "2021-02-01T00:00:00",
          "2021-03-01T00:00:00",
          "2021-04-01T00:00:00",
          "2021-05-01T00:00:00",
          "2021-06-01T00:00:00",
          "2021-07-01T00:00:00",
          "2021-08-01T00:00:00",
          "2021-09-01T00:00:00",
          "2021-10-01T00:00:00",
          "2021-11-01T00:00:00",
          "2021-12-01T00:00:00",
          "2022-01-01T00:00:00",
          "2022-02-01T00:00:00",
          "2022-03-01T00:00:00",
          "2022-04-01T00:00:00",
          "2022-05-01T00:00:00",
          "2022-06-01T00:00:00",
          "2022-07-01T00:00:00",
          "2022-08-01T00:00:00",
          "2022-09-01T00:00:00",
          "2022-10-01T00:00:00",
          "2022-11-01T00:00:00",
          "2022-12-01T00:00:00",
          "2023-01-01T00:00:00",
          "2023-02-01T00:00:00",
          "2023-03-01T00:00:00",
          "2023-04-01T00:00:00",
          "2023-05-01T00:00:00",
          "2023-06-01T00:00:00"
         ],
         "xaxis": "x",
         "y": [
          103228.19114817186,
          19609.01910497516,
          21662.432031636326,
          10917.917663223161,
          110.39062908539393,
          110.1648036238018,
          339.44302732269483,
          9254.460935458626,
          1189.798711503839,
          20763.416041546327,
          9908.782749594986,
          28445.434735125593,
          27473.087324297776,
          4919.903384112011,
          6935.081118215906,
          420.94808390952966,
          3531.8306052725375,
          10647.764419034775,
          30145.12469458286,
          1374.3462275854401,
          20856.638695548598,
          25018.60298127614,
          51940.49181006181,
          50428.587517806816,
          100505.13060318341,
          -131606.6656679906,
          -5414.364504776253,
          2069.730149862757,
          66151.19819646979,
          49516.824501701594,
          25018.84331337305,
          17602.007033408834,
          3817.9477856890517,
          58626.08360614466,
          68719.91793384096,
          29762.54185989773,
          37482.06814310037,
          90571.42639579845,
          -9139.935283939216,
          177.13213718794148,
          4753.975411851484,
          737.8646253021792,
          25433.041007299762,
          63138.43080071582,
          29452.663716374052,
          -947.672727272724,
          16702.2015388433,
          39532.49243589091,
          620.6630951177644,
          64822.65195670235,
          -2676.4388415322846,
          -26077.655298870814,
          4612.897547683964,
          71894.3372427524,
          61415.926585095025,
          85823.0045910555
         ],
         "yaxis": "y"
        },
        {
         "hovertemplate": "variable=moving_average<br>MONTH=%{x}<br>value=%{y}<extra></extra>",
         "legendgroup": "moving_average",
         "line": {
          "color": "#EF553B",
          "dash": "solid"
         },
         "marker": {
          "symbol": "circle"
         },
         "mode": "lines",
         "name": "moving_average",
         "orientation": "v",
         "showlegend": true,
         "type": "scatter",
         "x": [
          "2018-10-01T00:00:00",
          "2018-11-01T00:00:00",
          "2018-12-01T00:00:00",
          "2019-01-01T00:00:00",
          "2019-02-01T00:00:00",
          "2019-03-01T00:00:00",
          "2019-05-01T00:00:00",
          "2019-06-01T00:00:00",
          "2019-07-01T00:00:00",
          "2019-08-01T00:00:00",
          "2019-09-01T00:00:00",
          "2019-10-01T00:00:00",
          "2019-11-01T00:00:00",
          "2019-12-01T00:00:00",
          "2020-01-01T00:00:00",
          "2020-02-01T00:00:00",
          "2020-03-01T00:00:00",
          "2020-04-01T00:00:00",
          "2020-05-01T00:00:00",
          "2020-06-01T00:00:00",
          "2020-07-01T00:00:00",
          "2020-08-01T00:00:00",
          "2020-09-01T00:00:00",
          "2020-10-01T00:00:00",
          "2020-11-01T00:00:00",
          "2020-12-01T00:00:00",
          "2021-01-01T00:00:00",
          "2021-02-01T00:00:00",
          "2021-03-01T00:00:00",
          "2021-04-01T00:00:00",
          "2021-05-01T00:00:00",
          "2021-06-01T00:00:00",
          "2021-07-01T00:00:00",
          "2021-08-01T00:00:00",
          "2021-09-01T00:00:00",
          "2021-10-01T00:00:00",
          "2021-11-01T00:00:00",
          "2021-12-01T00:00:00",
          "2022-01-01T00:00:00",
          "2022-02-01T00:00:00",
          "2022-03-01T00:00:00",
          "2022-04-01T00:00:00",
          "2022-05-01T00:00:00",
          "2022-06-01T00:00:00",
          "2022-07-01T00:00:00",
          "2022-08-01T00:00:00",
          "2022-09-01T00:00:00",
          "2022-10-01T00:00:00",
          "2022-11-01T00:00:00",
          "2022-12-01T00:00:00",
          "2023-01-01T00:00:00",
          "2023-02-01T00:00:00",
          "2023-03-01T00:00:00",
          "2023-04-01T00:00:00",
          "2023-05-01T00:00:00",
          "2023-06-01T00:00:00"
         ],
         "xaxis": "x",
         "y": [
          null,
          null,
          null,
          null,
          null,
          null,
          null,
          null,
          null,
          null,
          null,
          null,
          null,
          null,
          null,
          null,
          null,
          null,
          null,
          null,
          null,
          null,
          null,
          null,
          null,
          null,
          null,
          null,
          null,
          18015.123724047426,
          15408.145462887462,
          15341.245060501918,
          14746.428918970341,
          16336.701117067725,
          18623.685360559575,
          19612.09792910204,
          20850.1854329613,
          23560.75094830596,
          23216.42648179119,
          22530.217018312578,
          22358.39010705446,
          21434.804436727016,
          21366.80289282708,
          23307.420473380538,
          24058.00655998581,
          24012.385866279736,
          24451.398230732095,
          25414.22249796063,
          24430.07377797846,
          26545.017302282362,
          25760.581384379664,
          24057.372775041433,
          22479.78629962884,
          23195.31129046036,
          21892.337823190745,
          29139.99349849228
         ],
         "yaxis": "y"
        }
       ],
       "layout": {
        "legend": {
         "title": {
          "text": "variable"
         },
         "tracegroupgap": 0
        },
        "template": {
         "data": {
          "bar": [
           {
            "error_x": {
             "color": "#f2f5fa"
            },
            "error_y": {
             "color": "#f2f5fa"
            },
            "marker": {
             "line": {
              "color": "rgb(17,17,17)",
              "width": 0.5
             },
             "pattern": {
              "fillmode": "overlay",
              "size": 10,
              "solidity": 0.2
             }
            },
            "type": "bar"
           }
          ],
          "barpolar": [
           {
            "marker": {
             "line": {
              "color": "rgb(17,17,17)",
              "width": 0.5
             },
             "pattern": {
              "fillmode": "overlay",
              "size": 10,
              "solidity": 0.2
             }
            },
            "type": "barpolar"
           }
          ],
          "carpet": [
           {
            "aaxis": {
             "endlinecolor": "#A2B1C6",
             "gridcolor": "#506784",
             "linecolor": "#506784",
             "minorgridcolor": "#506784",
             "startlinecolor": "#A2B1C6"
            },
            "baxis": {
             "endlinecolor": "#A2B1C6",
             "gridcolor": "#506784",
             "linecolor": "#506784",
             "minorgridcolor": "#506784",
             "startlinecolor": "#A2B1C6"
            },
            "type": "carpet"
           }
          ],
          "choropleth": [
           {
            "colorbar": {
             "outlinewidth": 0,
             "ticks": ""
            },
            "type": "choropleth"
           }
          ],
          "contour": [
           {
            "colorbar": {
             "outlinewidth": 0,
             "ticks": ""
            },
            "colorscale": [
             [
              0,
              "#0d0887"
             ],
             [
              0.1111111111111111,
              "#46039f"
             ],
             [
              0.2222222222222222,
              "#7201a8"
             ],
             [
              0.3333333333333333,
              "#9c179e"
             ],
             [
              0.4444444444444444,
              "#bd3786"
             ],
             [
              0.5555555555555556,
              "#d8576b"
             ],
             [
              0.6666666666666666,
              "#ed7953"
             ],
             [
              0.7777777777777778,
              "#fb9f3a"
             ],
             [
              0.8888888888888888,
              "#fdca26"
             ],
             [
              1,
              "#f0f921"
             ]
            ],
            "type": "contour"
           }
          ],
          "contourcarpet": [
           {
            "colorbar": {
             "outlinewidth": 0,
             "ticks": ""
            },
            "type": "contourcarpet"
           }
          ],
          "heatmap": [
           {
            "colorbar": {
             "outlinewidth": 0,
             "ticks": ""
            },
            "colorscale": [
             [
              0,
              "#0d0887"
             ],
             [
              0.1111111111111111,
              "#46039f"
             ],
             [
              0.2222222222222222,
              "#7201a8"
             ],
             [
              0.3333333333333333,
              "#9c179e"
             ],
             [
              0.4444444444444444,
              "#bd3786"
             ],
             [
              0.5555555555555556,
              "#d8576b"
             ],
             [
              0.6666666666666666,
              "#ed7953"
             ],
             [
              0.7777777777777778,
              "#fb9f3a"
             ],
             [
              0.8888888888888888,
              "#fdca26"
             ],
             [
              1,
              "#f0f921"
             ]
            ],
            "type": "heatmap"
           }
          ],
          "heatmapgl": [
           {
            "colorbar": {
             "outlinewidth": 0,
             "ticks": ""
            },
            "colorscale": [
             [
              0,
              "#0d0887"
             ],
             [
              0.1111111111111111,
              "#46039f"
             ],
             [
              0.2222222222222222,
              "#7201a8"
             ],
             [
              0.3333333333333333,
              "#9c179e"
             ],
             [
              0.4444444444444444,
              "#bd3786"
             ],
             [
              0.5555555555555556,
              "#d8576b"
             ],
             [
              0.6666666666666666,
              "#ed7953"
             ],
             [
              0.7777777777777778,
              "#fb9f3a"
             ],
             [
              0.8888888888888888,
              "#fdca26"
             ],
             [
              1,
              "#f0f921"
             ]
            ],
            "type": "heatmapgl"
           }
          ],
          "histogram": [
           {
            "marker": {
             "pattern": {
              "fillmode": "overlay",
              "size": 10,
              "solidity": 0.2
             }
            },
            "type": "histogram"
           }
          ],
          "histogram2d": [
           {
            "colorbar": {
             "outlinewidth": 0,
             "ticks": ""
            },
            "colorscale": [
             [
              0,
              "#0d0887"
             ],
             [
              0.1111111111111111,
              "#46039f"
             ],
             [
              0.2222222222222222,
              "#7201a8"
             ],
             [
              0.3333333333333333,
              "#9c179e"
             ],
             [
              0.4444444444444444,
              "#bd3786"
             ],
             [
              0.5555555555555556,
              "#d8576b"
             ],
             [
              0.6666666666666666,
              "#ed7953"
             ],
             [
              0.7777777777777778,
              "#fb9f3a"
             ],
             [
              0.8888888888888888,
              "#fdca26"
             ],
             [
              1,
              "#f0f921"
             ]
            ],
            "type": "histogram2d"
           }
          ],
          "histogram2dcontour": [
           {
            "colorbar": {
             "outlinewidth": 0,
             "ticks": ""
            },
            "colorscale": [
             [
              0,
              "#0d0887"
             ],
             [
              0.1111111111111111,
              "#46039f"
             ],
             [
              0.2222222222222222,
              "#7201a8"
             ],
             [
              0.3333333333333333,
              "#9c179e"
             ],
             [
              0.4444444444444444,
              "#bd3786"
             ],
             [
              0.5555555555555556,
              "#d8576b"
             ],
             [
              0.6666666666666666,
              "#ed7953"
             ],
             [
              0.7777777777777778,
              "#fb9f3a"
             ],
             [
              0.8888888888888888,
              "#fdca26"
             ],
             [
              1,
              "#f0f921"
             ]
            ],
            "type": "histogram2dcontour"
           }
          ],
          "mesh3d": [
           {
            "colorbar": {
             "outlinewidth": 0,
             "ticks": ""
            },
            "type": "mesh3d"
           }
          ],
          "parcoords": [
           {
            "line": {
             "colorbar": {
              "outlinewidth": 0,
              "ticks": ""
             }
            },
            "type": "parcoords"
           }
          ],
          "pie": [
           {
            "automargin": true,
            "type": "pie"
           }
          ],
          "scatter": [
           {
            "marker": {
             "line": {
              "color": "#283442"
             }
            },
            "type": "scatter"
           }
          ],
          "scatter3d": [
           {
            "line": {
             "colorbar": {
              "outlinewidth": 0,
              "ticks": ""
             }
            },
            "marker": {
             "colorbar": {
              "outlinewidth": 0,
              "ticks": ""
             }
            },
            "type": "scatter3d"
           }
          ],
          "scattercarpet": [
           {
            "marker": {
             "colorbar": {
              "outlinewidth": 0,
              "ticks": ""
             }
            },
            "type": "scattercarpet"
           }
          ],
          "scattergeo": [
           {
            "marker": {
             "colorbar": {
              "outlinewidth": 0,
              "ticks": ""
             }
            },
            "type": "scattergeo"
           }
          ],
          "scattergl": [
           {
            "marker": {
             "line": {
              "color": "#283442"
             }
            },
            "type": "scattergl"
           }
          ],
          "scattermapbox": [
           {
            "marker": {
             "colorbar": {
              "outlinewidth": 0,
              "ticks": ""
             }
            },
            "type": "scattermapbox"
           }
          ],
          "scatterpolar": [
           {
            "marker": {
             "colorbar": {
              "outlinewidth": 0,
              "ticks": ""
             }
            },
            "type": "scatterpolar"
           }
          ],
          "scatterpolargl": [
           {
            "marker": {
             "colorbar": {
              "outlinewidth": 0,
              "ticks": ""
             }
            },
            "type": "scatterpolargl"
           }
          ],
          "scatterternary": [
           {
            "marker": {
             "colorbar": {
              "outlinewidth": 0,
              "ticks": ""
             }
            },
            "type": "scatterternary"
           }
          ],
          "surface": [
           {
            "colorbar": {
             "outlinewidth": 0,
             "ticks": ""
            },
            "colorscale": [
             [
              0,
              "#0d0887"
             ],
             [
              0.1111111111111111,
              "#46039f"
             ],
             [
              0.2222222222222222,
              "#7201a8"
             ],
             [
              0.3333333333333333,
              "#9c179e"
             ],
             [
              0.4444444444444444,
              "#bd3786"
             ],
             [
              0.5555555555555556,
              "#d8576b"
             ],
             [
              0.6666666666666666,
              "#ed7953"
             ],
             [
              0.7777777777777778,
              "#fb9f3a"
             ],
             [
              0.8888888888888888,
              "#fdca26"
             ],
             [
              1,
              "#f0f921"
             ]
            ],
            "type": "surface"
           }
          ],
          "table": [
           {
            "cells": {
             "fill": {
              "color": "#506784"
             },
             "line": {
              "color": "rgb(17,17,17)"
             }
            },
            "header": {
             "fill": {
              "color": "#2a3f5f"
             },
             "line": {
              "color": "rgb(17,17,17)"
             }
            },
            "type": "table"
           }
          ]
         },
         "layout": {
          "annotationdefaults": {
           "arrowcolor": "#f2f5fa",
           "arrowhead": 0,
           "arrowwidth": 1
          },
          "autotypenumbers": "strict",
          "coloraxis": {
           "colorbar": {
            "outlinewidth": 0,
            "ticks": ""
           }
          },
          "colorscale": {
           "diverging": [
            [
             0,
             "#8e0152"
            ],
            [
             0.1,
             "#c51b7d"
            ],
            [
             0.2,
             "#de77ae"
            ],
            [
             0.3,
             "#f1b6da"
            ],
            [
             0.4,
             "#fde0ef"
            ],
            [
             0.5,
             "#f7f7f7"
            ],
            [
             0.6,
             "#e6f5d0"
            ],
            [
             0.7,
             "#b8e186"
            ],
            [
             0.8,
             "#7fbc41"
            ],
            [
             0.9,
             "#4d9221"
            ],
            [
             1,
             "#276419"
            ]
           ],
           "sequential": [
            [
             0,
             "#0d0887"
            ],
            [
             0.1111111111111111,
             "#46039f"
            ],
            [
             0.2222222222222222,
             "#7201a8"
            ],
            [
             0.3333333333333333,
             "#9c179e"
            ],
            [
             0.4444444444444444,
             "#bd3786"
            ],
            [
             0.5555555555555556,
             "#d8576b"
            ],
            [
             0.6666666666666666,
             "#ed7953"
            ],
            [
             0.7777777777777778,
             "#fb9f3a"
            ],
            [
             0.8888888888888888,
             "#fdca26"
            ],
            [
             1,
             "#f0f921"
            ]
           ],
           "sequentialminus": [
            [
             0,
             "#0d0887"
            ],
            [
             0.1111111111111111,
             "#46039f"
            ],
            [
             0.2222222222222222,
             "#7201a8"
            ],
            [
             0.3333333333333333,
             "#9c179e"
            ],
            [
             0.4444444444444444,
             "#bd3786"
            ],
            [
             0.5555555555555556,
             "#d8576b"
            ],
            [
             0.6666666666666666,
             "#ed7953"
            ],
            [
             0.7777777777777778,
             "#fb9f3a"
            ],
            [
             0.8888888888888888,
             "#fdca26"
            ],
            [
             1,
             "#f0f921"
            ]
           ]
          },
          "colorway": [
           "#636efa",
           "#EF553B",
           "#00cc96",
           "#ab63fa",
           "#FFA15A",
           "#19d3f3",
           "#FF6692",
           "#B6E880",
           "#FF97FF",
           "#FECB52"
          ],
          "font": {
           "color": "#f2f5fa"
          },
          "geo": {
           "bgcolor": "rgb(17,17,17)",
           "lakecolor": "rgb(17,17,17)",
           "landcolor": "rgb(17,17,17)",
           "showlakes": true,
           "showland": true,
           "subunitcolor": "#506784"
          },
          "hoverlabel": {
           "align": "left"
          },
          "hovermode": "closest",
          "mapbox": {
           "style": "dark"
          },
          "paper_bgcolor": "rgb(17,17,17)",
          "plot_bgcolor": "rgb(17,17,17)",
          "polar": {
           "angularaxis": {
            "gridcolor": "#506784",
            "linecolor": "#506784",
            "ticks": ""
           },
           "bgcolor": "rgb(17,17,17)",
           "radialaxis": {
            "gridcolor": "#506784",
            "linecolor": "#506784",
            "ticks": ""
           }
          },
          "scene": {
           "xaxis": {
            "backgroundcolor": "rgb(17,17,17)",
            "gridcolor": "#506784",
            "gridwidth": 2,
            "linecolor": "#506784",
            "showbackground": true,
            "ticks": "",
            "zerolinecolor": "#C8D4E3"
           },
           "yaxis": {
            "backgroundcolor": "rgb(17,17,17)",
            "gridcolor": "#506784",
            "gridwidth": 2,
            "linecolor": "#506784",
            "showbackground": true,
            "ticks": "",
            "zerolinecolor": "#C8D4E3"
           },
           "zaxis": {
            "backgroundcolor": "rgb(17,17,17)",
            "gridcolor": "#506784",
            "gridwidth": 2,
            "linecolor": "#506784",
            "showbackground": true,
            "ticks": "",
            "zerolinecolor": "#C8D4E3"
           }
          },
          "shapedefaults": {
           "line": {
            "color": "#f2f5fa"
           }
          },
          "sliderdefaults": {
           "bgcolor": "#C8D4E3",
           "bordercolor": "rgb(17,17,17)",
           "borderwidth": 1,
           "tickwidth": 0
          },
          "ternary": {
           "aaxis": {
            "gridcolor": "#506784",
            "linecolor": "#506784",
            "ticks": ""
           },
           "baxis": {
            "gridcolor": "#506784",
            "linecolor": "#506784",
            "ticks": ""
           },
           "bgcolor": "rgb(17,17,17)",
           "caxis": {
            "gridcolor": "#506784",
            "linecolor": "#506784",
            "ticks": ""
           }
          },
          "title": {
           "x": 0.05
          },
          "updatemenudefaults": {
           "bgcolor": "#506784",
           "borderwidth": 0
          },
          "xaxis": {
           "automargin": true,
           "gridcolor": "#283442",
           "linecolor": "#506784",
           "ticks": "",
           "title": {
            "standoff": 15
           },
           "zerolinecolor": "#283442",
           "zerolinewidth": 2
          },
          "yaxis": {
           "automargin": true,
           "gridcolor": "#283442",
           "linecolor": "#506784",
           "ticks": "",
           "title": {
            "standoff": 15
           },
           "zerolinecolor": "#283442",
           "zerolinewidth": 2
          }
         }
        },
        "title": {
         "text": "250_165"
        },
        "xaxis": {
         "anchor": "y",
         "domain": [
          0,
          1
         ],
         "title": {
          "text": "MONTH"
         }
        },
        "yaxis": {
         "anchor": "x",
         "domain": [
          0,
          1
         ],
         "title": {
          "text": "value"
         }
        }
       }
      }
     },
     "metadata": {},
     "output_type": "display_data"
    }
   ],
   "source": [
    "# plot multiple time series with moving avgs in a loop - just a test\n",
    "\n",
    "for i in df_all['DEP_ENT'].unique():\n",
    "    subset = df_all[df_all['DEP_ENT'] == i]\n",
    "    subset['moving_average'] = subset['NET_SALES'].rolling(30).mean()\n",
    "    fig = px.line(subset, x=\"MONTH\", y=[\"NET_SALES\",\"moving_average\"], title = i, template = 'plotly_dark')\n",
    "    \n",
    "fig.show()"
   ]
  },
  {
   "cell_type": "code",
   "execution_count": 67,
   "metadata": {},
   "outputs": [],
   "source": [
    "from tqdm import tqdm"
   ]
  },
  {
   "cell_type": "code",
   "execution_count": 83,
   "metadata": {},
   "outputs": [
    {
     "name": "stderr",
     "output_type": "stream",
     "text": [
      "  0%|          | 0/14 [00:00<?, ?it/s]\n"
     ]
    },
    {
     "ename": "AttributeError",
     "evalue": "'Simple_Imputer' object has no attribute 'fill_value_categorical'",
     "output_type": "error",
     "traceback": [
      "\u001b[1;31m---------------------------------------------------------------------------\u001b[0m",
      "\u001b[1;31mAttributeError\u001b[0m                            Traceback (most recent call last)",
      "\u001b[1;32m~\\AppData\\Local\\Temp\\ipykernel_18372\\354915978.py\u001b[0m in \u001b[0;36m<module>\u001b[1;34m\u001b[0m\n\u001b[0;32m      9\u001b[0m \u001b[1;33m\u001b[0m\u001b[0m\n\u001b[0;32m     10\u001b[0m     \u001b[1;31m# initialize setup from pycaret.regression\u001b[0m\u001b[1;33m\u001b[0m\u001b[1;33m\u001b[0m\u001b[0m\n\u001b[1;32m---> 11\u001b[1;33m     s = setup(df_subset, target = 'NET_SALES', train_size = 0.8,\n\u001b[0m\u001b[0;32m     12\u001b[0m               \u001b[0mdata_split_shuffle\u001b[0m \u001b[1;33m=\u001b[0m \u001b[1;32mFalse\u001b[0m\u001b[1;33m,\u001b[0m \u001b[0mfold_strategy\u001b[0m \u001b[1;33m=\u001b[0m \u001b[1;34m'timeseries'\u001b[0m\u001b[1;33m,\u001b[0m \u001b[0mfold\u001b[0m \u001b[1;33m=\u001b[0m \u001b[1;36m3\u001b[0m\u001b[1;33m,\u001b[0m\u001b[1;33m\u001b[0m\u001b[1;33m\u001b[0m\u001b[0m\n\u001b[0;32m     13\u001b[0m               \u001b[0mignore_features\u001b[0m \u001b[1;33m=\u001b[0m \u001b[1;33m[\u001b[0m\u001b[1;34m'MONTH'\u001b[0m\u001b[1;33m,\u001b[0m \u001b[1;34m'DEP_ENT'\u001b[0m\u001b[1;33m]\u001b[0m\u001b[1;33m,\u001b[0m\u001b[1;33m\u001b[0m\u001b[1;33m\u001b[0m\u001b[0m\n",
      "\u001b[1;32mc:\\Users\\crudek\\Anaconda3\\lib\\site-packages\\pycaret\\regression.py\u001b[0m in \u001b[0;36msetup\u001b[1;34m(data, target, train_size, test_data, preprocess, imputation_type, iterative_imputation_iters, categorical_features, categorical_imputation, categorical_iterative_imputer, ordinal_features, high_cardinality_features, high_cardinality_method, numeric_features, numeric_imputation, numeric_iterative_imputer, date_features, ignore_features, normalize, normalize_method, transformation, transformation_method, handle_unknown_categorical, unknown_categorical_method, pca, pca_method, pca_components, ignore_low_variance, combine_rare_levels, rare_level_threshold, bin_numeric_features, remove_outliers, outliers_threshold, remove_multicollinearity, multicollinearity_threshold, remove_perfect_collinearity, create_clusters, cluster_iter, polynomial_features, polynomial_degree, trigonometry_features, polynomial_threshold, group_features, group_names, feature_selection, feature_selection_threshold, feature_selection_method, feature_interaction, feature_ratio, interaction_threshold, transform_target, transform_target_method, data_split_shuffle, data_split_stratify, fold_strategy, fold, fold_shuffle, fold_groups, n_jobs, use_gpu, custom_pipeline, html, session_id, log_experiment, experiment_name, log_plots, log_profile, log_data, silent, verbose, profile, profile_kwargs)\u001b[0m\n\u001b[0;32m    569\u001b[0m         \u001b[0mlog_plots\u001b[0m \u001b[1;33m=\u001b[0m \u001b[1;33m[\u001b[0m\u001b[1;34m\"residuals\"\u001b[0m\u001b[1;33m,\u001b[0m \u001b[1;34m\"error\"\u001b[0m\u001b[1;33m,\u001b[0m \u001b[1;34m\"feature\"\u001b[0m\u001b[1;33m]\u001b[0m\u001b[1;33m\u001b[0m\u001b[1;33m\u001b[0m\u001b[0m\n\u001b[0;32m    570\u001b[0m \u001b[1;33m\u001b[0m\u001b[0m\n\u001b[1;32m--> 571\u001b[1;33m     return pycaret.internal.tabular.setup(\n\u001b[0m\u001b[0;32m    572\u001b[0m         \u001b[0mml_usecase\u001b[0m\u001b[1;33m=\u001b[0m\u001b[1;34m\"regression\"\u001b[0m\u001b[1;33m,\u001b[0m\u001b[1;33m\u001b[0m\u001b[1;33m\u001b[0m\u001b[0m\n\u001b[0;32m    573\u001b[0m         \u001b[0mavailable_plots\u001b[0m\u001b[1;33m=\u001b[0m\u001b[0mavailable_plots\u001b[0m\u001b[1;33m,\u001b[0m\u001b[1;33m\u001b[0m\u001b[1;33m\u001b[0m\u001b[0m\n",
      "\u001b[1;32mc:\\Users\\crudek\\Anaconda3\\lib\\site-packages\\pycaret\\internal\\tabular.py\u001b[0m in \u001b[0;36msetup\u001b[1;34m(data, target, ml_usecase, available_plots, train_size, test_data, preprocess, imputation_type, iterative_imputation_iters, categorical_features, categorical_imputation, categorical_iterative_imputer, ordinal_features, high_cardinality_features, high_cardinality_method, numeric_features, numeric_imputation, numeric_iterative_imputer, date_features, ignore_features, normalize, normalize_method, transformation, transformation_method, handle_unknown_categorical, unknown_categorical_method, pca, pca_method, pca_components, ignore_low_variance, combine_rare_levels, rare_level_threshold, bin_numeric_features, remove_outliers, outliers_threshold, remove_multicollinearity, multicollinearity_threshold, remove_perfect_collinearity, create_clusters, cluster_iter, polynomial_features, polynomial_degree, trigonometry_features, polynomial_threshold, group_features, group_names, feature_selection, feature_selection_threshold, feature_selection_method, feature_interaction, feature_ratio, interaction_threshold, fix_imbalance, fix_imbalance_method, transform_target, transform_target_method, data_split_shuffle, data_split_stratify, fold_strategy, fold, fold_shuffle, fold_groups, n_jobs, use_gpu, custom_pipeline, html, session_id, log_experiment, experiment_name, log_plots, log_profile, log_data, silent, verbose, profile, profile_kwargs, display)\u001b[0m\n\u001b[0;32m   1748\u001b[0m     \u001b[0mlogger\u001b[0m\u001b[1;33m.\u001b[0m\u001b[0minfo\u001b[0m\u001b[1;33m(\u001b[0m\u001b[1;34mf\"display_container: {len(display_container)}\"\u001b[0m\u001b[1;33m)\u001b[0m\u001b[1;33m\u001b[0m\u001b[1;33m\u001b[0m\u001b[0m\n\u001b[0;32m   1749\u001b[0m \u001b[1;33m\u001b[0m\u001b[0m\n\u001b[1;32m-> 1750\u001b[1;33m     \u001b[0mlogger\u001b[0m\u001b[1;33m.\u001b[0m\u001b[0minfo\u001b[0m\u001b[1;33m(\u001b[0m\u001b[0mstr\u001b[0m\u001b[1;33m(\u001b[0m\u001b[0mprep_pipe\u001b[0m\u001b[1;33m)\u001b[0m\u001b[1;33m)\u001b[0m\u001b[1;33m\u001b[0m\u001b[1;33m\u001b[0m\u001b[0m\n\u001b[0m\u001b[0;32m   1751\u001b[0m     \u001b[0mlogger\u001b[0m\u001b[1;33m.\u001b[0m\u001b[0minfo\u001b[0m\u001b[1;33m(\u001b[0m\u001b[1;34m\"setup() succesfully completed......................................\"\u001b[0m\u001b[1;33m)\u001b[0m\u001b[1;33m\u001b[0m\u001b[1;33m\u001b[0m\u001b[0m\n\u001b[0;32m   1752\u001b[0m \u001b[1;33m\u001b[0m\u001b[0m\n",
      "\u001b[1;32mc:\\Users\\crudek\\Anaconda3\\lib\\site-packages\\sklearn\\base.py\u001b[0m in \u001b[0;36m__repr__\u001b[1;34m(self, N_CHAR_MAX)\u001b[0m\n\u001b[0;32m    277\u001b[0m         )\n\u001b[0;32m    278\u001b[0m \u001b[1;33m\u001b[0m\u001b[0m\n\u001b[1;32m--> 279\u001b[1;33m         \u001b[0mrepr_\u001b[0m \u001b[1;33m=\u001b[0m \u001b[0mpp\u001b[0m\u001b[1;33m.\u001b[0m\u001b[0mpformat\u001b[0m\u001b[1;33m(\u001b[0m\u001b[0mself\u001b[0m\u001b[1;33m)\u001b[0m\u001b[1;33m\u001b[0m\u001b[1;33m\u001b[0m\u001b[0m\n\u001b[0m\u001b[0;32m    280\u001b[0m \u001b[1;33m\u001b[0m\u001b[0m\n\u001b[0;32m    281\u001b[0m         \u001b[1;31m# Use bruteforce ellipsis when there are a lot of non-blank characters\u001b[0m\u001b[1;33m\u001b[0m\u001b[1;33m\u001b[0m\u001b[0m\n",
      "\u001b[1;32mc:\\Users\\crudek\\Anaconda3\\lib\\pprint.py\u001b[0m in \u001b[0;36mpformat\u001b[1;34m(self, object)\u001b[0m\n\u001b[0;32m    151\u001b[0m     \u001b[1;32mdef\u001b[0m \u001b[0mpformat\u001b[0m\u001b[1;33m(\u001b[0m\u001b[0mself\u001b[0m\u001b[1;33m,\u001b[0m \u001b[0mobject\u001b[0m\u001b[1;33m)\u001b[0m\u001b[1;33m:\u001b[0m\u001b[1;33m\u001b[0m\u001b[1;33m\u001b[0m\u001b[0m\n\u001b[0;32m    152\u001b[0m         \u001b[0msio\u001b[0m \u001b[1;33m=\u001b[0m \u001b[0m_StringIO\u001b[0m\u001b[1;33m(\u001b[0m\u001b[1;33m)\u001b[0m\u001b[1;33m\u001b[0m\u001b[1;33m\u001b[0m\u001b[0m\n\u001b[1;32m--> 153\u001b[1;33m         \u001b[0mself\u001b[0m\u001b[1;33m.\u001b[0m\u001b[0m_format\u001b[0m\u001b[1;33m(\u001b[0m\u001b[0mobject\u001b[0m\u001b[1;33m,\u001b[0m \u001b[0msio\u001b[0m\u001b[1;33m,\u001b[0m \u001b[1;36m0\u001b[0m\u001b[1;33m,\u001b[0m \u001b[1;36m0\u001b[0m\u001b[1;33m,\u001b[0m \u001b[1;33m{\u001b[0m\u001b[1;33m}\u001b[0m\u001b[1;33m,\u001b[0m \u001b[1;36m0\u001b[0m\u001b[1;33m)\u001b[0m\u001b[1;33m\u001b[0m\u001b[1;33m\u001b[0m\u001b[0m\n\u001b[0m\u001b[0;32m    154\u001b[0m         \u001b[1;32mreturn\u001b[0m \u001b[0msio\u001b[0m\u001b[1;33m.\u001b[0m\u001b[0mgetvalue\u001b[0m\u001b[1;33m(\u001b[0m\u001b[1;33m)\u001b[0m\u001b[1;33m\u001b[0m\u001b[1;33m\u001b[0m\u001b[0m\n\u001b[0;32m    155\u001b[0m \u001b[1;33m\u001b[0m\u001b[0m\n",
      "\u001b[1;32mc:\\Users\\crudek\\Anaconda3\\lib\\pprint.py\u001b[0m in \u001b[0;36m_format\u001b[1;34m(self, object, stream, indent, allowance, context, level)\u001b[0m\n\u001b[0;32m    168\u001b[0m             \u001b[0mself\u001b[0m\u001b[1;33m.\u001b[0m\u001b[0m_readable\u001b[0m \u001b[1;33m=\u001b[0m \u001b[1;32mFalse\u001b[0m\u001b[1;33m\u001b[0m\u001b[1;33m\u001b[0m\u001b[0m\n\u001b[0;32m    169\u001b[0m             \u001b[1;32mreturn\u001b[0m\u001b[1;33m\u001b[0m\u001b[1;33m\u001b[0m\u001b[0m\n\u001b[1;32m--> 170\u001b[1;33m         \u001b[0mrep\u001b[0m \u001b[1;33m=\u001b[0m \u001b[0mself\u001b[0m\u001b[1;33m.\u001b[0m\u001b[0m_repr\u001b[0m\u001b[1;33m(\u001b[0m\u001b[0mobject\u001b[0m\u001b[1;33m,\u001b[0m \u001b[0mcontext\u001b[0m\u001b[1;33m,\u001b[0m \u001b[0mlevel\u001b[0m\u001b[1;33m)\u001b[0m\u001b[1;33m\u001b[0m\u001b[1;33m\u001b[0m\u001b[0m\n\u001b[0m\u001b[0;32m    171\u001b[0m         \u001b[0mmax_width\u001b[0m \u001b[1;33m=\u001b[0m \u001b[0mself\u001b[0m\u001b[1;33m.\u001b[0m\u001b[0m_width\u001b[0m \u001b[1;33m-\u001b[0m \u001b[0mindent\u001b[0m \u001b[1;33m-\u001b[0m \u001b[0mallowance\u001b[0m\u001b[1;33m\u001b[0m\u001b[1;33m\u001b[0m\u001b[0m\n\u001b[0;32m    172\u001b[0m         \u001b[1;32mif\u001b[0m \u001b[0mlen\u001b[0m\u001b[1;33m(\u001b[0m\u001b[0mrep\u001b[0m\u001b[1;33m)\u001b[0m \u001b[1;33m>\u001b[0m \u001b[0mmax_width\u001b[0m\u001b[1;33m:\u001b[0m\u001b[1;33m\u001b[0m\u001b[1;33m\u001b[0m\u001b[0m\n",
      "\u001b[1;32mc:\\Users\\crudek\\Anaconda3\\lib\\pprint.py\u001b[0m in \u001b[0;36m_repr\u001b[1;34m(self, object, context, level)\u001b[0m\n\u001b[0;32m    429\u001b[0m \u001b[1;33m\u001b[0m\u001b[0m\n\u001b[0;32m    430\u001b[0m     \u001b[1;32mdef\u001b[0m \u001b[0m_repr\u001b[0m\u001b[1;33m(\u001b[0m\u001b[0mself\u001b[0m\u001b[1;33m,\u001b[0m \u001b[0mobject\u001b[0m\u001b[1;33m,\u001b[0m \u001b[0mcontext\u001b[0m\u001b[1;33m,\u001b[0m \u001b[0mlevel\u001b[0m\u001b[1;33m)\u001b[0m\u001b[1;33m:\u001b[0m\u001b[1;33m\u001b[0m\u001b[1;33m\u001b[0m\u001b[0m\n\u001b[1;32m--> 431\u001b[1;33m         repr, readable, recursive = self.format(object, context.copy(),\n\u001b[0m\u001b[0;32m    432\u001b[0m                                                 self._depth, level)\n\u001b[0;32m    433\u001b[0m         \u001b[1;32mif\u001b[0m \u001b[1;32mnot\u001b[0m \u001b[0mreadable\u001b[0m\u001b[1;33m:\u001b[0m\u001b[1;33m\u001b[0m\u001b[1;33m\u001b[0m\u001b[0m\n",
      "\u001b[1;32mc:\\Users\\crudek\\Anaconda3\\lib\\site-packages\\sklearn\\utils\\_pprint.py\u001b[0m in \u001b[0;36mformat\u001b[1;34m(self, object, context, maxlevels, level)\u001b[0m\n\u001b[0;32m    187\u001b[0m \u001b[1;33m\u001b[0m\u001b[0m\n\u001b[0;32m    188\u001b[0m     \u001b[1;32mdef\u001b[0m \u001b[0mformat\u001b[0m\u001b[1;33m(\u001b[0m\u001b[0mself\u001b[0m\u001b[1;33m,\u001b[0m \u001b[0mobject\u001b[0m\u001b[1;33m,\u001b[0m \u001b[0mcontext\u001b[0m\u001b[1;33m,\u001b[0m \u001b[0mmaxlevels\u001b[0m\u001b[1;33m,\u001b[0m \u001b[0mlevel\u001b[0m\u001b[1;33m)\u001b[0m\u001b[1;33m:\u001b[0m\u001b[1;33m\u001b[0m\u001b[1;33m\u001b[0m\u001b[0m\n\u001b[1;32m--> 189\u001b[1;33m         return _safe_repr(\n\u001b[0m\u001b[0;32m    190\u001b[0m             \u001b[0mobject\u001b[0m\u001b[1;33m,\u001b[0m \u001b[0mcontext\u001b[0m\u001b[1;33m,\u001b[0m \u001b[0mmaxlevels\u001b[0m\u001b[1;33m,\u001b[0m \u001b[0mlevel\u001b[0m\u001b[1;33m,\u001b[0m \u001b[0mchanged_only\u001b[0m\u001b[1;33m=\u001b[0m\u001b[0mself\u001b[0m\u001b[1;33m.\u001b[0m\u001b[0m_changed_only\u001b[0m\u001b[1;33m\u001b[0m\u001b[1;33m\u001b[0m\u001b[0m\n\u001b[0;32m    191\u001b[0m         )\n",
      "\u001b[1;32mc:\\Users\\crudek\\Anaconda3\\lib\\site-packages\\sklearn\\utils\\_pprint.py\u001b[0m in \u001b[0;36m_safe_repr\u001b[1;34m(object, context, maxlevels, level, changed_only)\u001b[0m\n\u001b[0;32m    450\u001b[0m                 \u001b[0mk\u001b[0m\u001b[1;33m,\u001b[0m \u001b[0mcontext\u001b[0m\u001b[1;33m,\u001b[0m \u001b[0mmaxlevels\u001b[0m\u001b[1;33m,\u001b[0m \u001b[0mlevel\u001b[0m\u001b[1;33m,\u001b[0m \u001b[0mchanged_only\u001b[0m\u001b[1;33m=\u001b[0m\u001b[0mchanged_only\u001b[0m\u001b[1;33m\u001b[0m\u001b[1;33m\u001b[0m\u001b[0m\n\u001b[0;32m    451\u001b[0m             )\n\u001b[1;32m--> 452\u001b[1;33m             vrepr, vreadable, vrecur = saferepr(\n\u001b[0m\u001b[0;32m    453\u001b[0m                 \u001b[0mv\u001b[0m\u001b[1;33m,\u001b[0m \u001b[0mcontext\u001b[0m\u001b[1;33m,\u001b[0m \u001b[0mmaxlevels\u001b[0m\u001b[1;33m,\u001b[0m \u001b[0mlevel\u001b[0m\u001b[1;33m,\u001b[0m \u001b[0mchanged_only\u001b[0m\u001b[1;33m=\u001b[0m\u001b[0mchanged_only\u001b[0m\u001b[1;33m\u001b[0m\u001b[1;33m\u001b[0m\u001b[0m\n\u001b[0;32m    454\u001b[0m             )\n",
      "\u001b[1;32mc:\\Users\\crudek\\Anaconda3\\lib\\site-packages\\sklearn\\utils\\_pprint.py\u001b[0m in \u001b[0;36m_safe_repr\u001b[1;34m(object, context, maxlevels, level, changed_only)\u001b[0m\n\u001b[0;32m    417\u001b[0m         \u001b[0mlevel\u001b[0m \u001b[1;33m+=\u001b[0m \u001b[1;36m1\u001b[0m\u001b[1;33m\u001b[0m\u001b[1;33m\u001b[0m\u001b[0m\n\u001b[0;32m    418\u001b[0m         \u001b[1;32mfor\u001b[0m \u001b[0mo\u001b[0m \u001b[1;32min\u001b[0m \u001b[0mobject\u001b[0m\u001b[1;33m:\u001b[0m\u001b[1;33m\u001b[0m\u001b[1;33m\u001b[0m\u001b[0m\n\u001b[1;32m--> 419\u001b[1;33m             orepr, oreadable, orecur = _safe_repr(\n\u001b[0m\u001b[0;32m    420\u001b[0m                 \u001b[0mo\u001b[0m\u001b[1;33m,\u001b[0m \u001b[0mcontext\u001b[0m\u001b[1;33m,\u001b[0m \u001b[0mmaxlevels\u001b[0m\u001b[1;33m,\u001b[0m \u001b[0mlevel\u001b[0m\u001b[1;33m,\u001b[0m \u001b[0mchanged_only\u001b[0m\u001b[1;33m=\u001b[0m\u001b[0mchanged_only\u001b[0m\u001b[1;33m\u001b[0m\u001b[1;33m\u001b[0m\u001b[0m\n\u001b[0;32m    421\u001b[0m             )\n",
      "\u001b[1;32mc:\\Users\\crudek\\Anaconda3\\lib\\site-packages\\sklearn\\utils\\_pprint.py\u001b[0m in \u001b[0;36m_safe_repr\u001b[1;34m(object, context, maxlevels, level, changed_only)\u001b[0m\n\u001b[0;32m    417\u001b[0m         \u001b[0mlevel\u001b[0m \u001b[1;33m+=\u001b[0m \u001b[1;36m1\u001b[0m\u001b[1;33m\u001b[0m\u001b[1;33m\u001b[0m\u001b[0m\n\u001b[0;32m    418\u001b[0m         \u001b[1;32mfor\u001b[0m \u001b[0mo\u001b[0m \u001b[1;32min\u001b[0m \u001b[0mobject\u001b[0m\u001b[1;33m:\u001b[0m\u001b[1;33m\u001b[0m\u001b[1;33m\u001b[0m\u001b[0m\n\u001b[1;32m--> 419\u001b[1;33m             orepr, oreadable, orecur = _safe_repr(\n\u001b[0m\u001b[0;32m    420\u001b[0m                 \u001b[0mo\u001b[0m\u001b[1;33m,\u001b[0m \u001b[0mcontext\u001b[0m\u001b[1;33m,\u001b[0m \u001b[0mmaxlevels\u001b[0m\u001b[1;33m,\u001b[0m \u001b[0mlevel\u001b[0m\u001b[1;33m,\u001b[0m \u001b[0mchanged_only\u001b[0m\u001b[1;33m=\u001b[0m\u001b[0mchanged_only\u001b[0m\u001b[1;33m\u001b[0m\u001b[1;33m\u001b[0m\u001b[0m\n\u001b[0;32m    421\u001b[0m             )\n",
      "\u001b[1;32mc:\\Users\\crudek\\Anaconda3\\lib\\site-packages\\sklearn\\utils\\_pprint.py\u001b[0m in \u001b[0;36m_safe_repr\u001b[1;34m(object, context, maxlevels, level, changed_only)\u001b[0m\n\u001b[0;32m    440\u001b[0m             \u001b[0mparams\u001b[0m \u001b[1;33m=\u001b[0m \u001b[0m_changed_params\u001b[0m\u001b[1;33m(\u001b[0m\u001b[0mobject\u001b[0m\u001b[1;33m)\u001b[0m\u001b[1;33m\u001b[0m\u001b[1;33m\u001b[0m\u001b[0m\n\u001b[0;32m    441\u001b[0m         \u001b[1;32melse\u001b[0m\u001b[1;33m:\u001b[0m\u001b[1;33m\u001b[0m\u001b[1;33m\u001b[0m\u001b[0m\n\u001b[1;32m--> 442\u001b[1;33m             \u001b[0mparams\u001b[0m \u001b[1;33m=\u001b[0m \u001b[0mobject\u001b[0m\u001b[1;33m.\u001b[0m\u001b[0mget_params\u001b[0m\u001b[1;33m(\u001b[0m\u001b[0mdeep\u001b[0m\u001b[1;33m=\u001b[0m\u001b[1;32mFalse\u001b[0m\u001b[1;33m)\u001b[0m\u001b[1;33m\u001b[0m\u001b[1;33m\u001b[0m\u001b[0m\n\u001b[0m\u001b[0;32m    443\u001b[0m         \u001b[0mcomponents\u001b[0m \u001b[1;33m=\u001b[0m \u001b[1;33m[\u001b[0m\u001b[1;33m]\u001b[0m\u001b[1;33m\u001b[0m\u001b[1;33m\u001b[0m\u001b[0m\n\u001b[0;32m    444\u001b[0m         \u001b[0mappend\u001b[0m \u001b[1;33m=\u001b[0m \u001b[0mcomponents\u001b[0m\u001b[1;33m.\u001b[0m\u001b[0mappend\u001b[0m\u001b[1;33m\u001b[0m\u001b[1;33m\u001b[0m\u001b[0m\n",
      "\u001b[1;32mc:\\Users\\crudek\\Anaconda3\\lib\\site-packages\\sklearn\\base.py\u001b[0m in \u001b[0;36mget_params\u001b[1;34m(self, deep)\u001b[0m\n\u001b[0;32m    208\u001b[0m         \u001b[0mout\u001b[0m \u001b[1;33m=\u001b[0m \u001b[0mdict\u001b[0m\u001b[1;33m(\u001b[0m\u001b[1;33m)\u001b[0m\u001b[1;33m\u001b[0m\u001b[1;33m\u001b[0m\u001b[0m\n\u001b[0;32m    209\u001b[0m         \u001b[1;32mfor\u001b[0m \u001b[0mkey\u001b[0m \u001b[1;32min\u001b[0m \u001b[0mself\u001b[0m\u001b[1;33m.\u001b[0m\u001b[0m_get_param_names\u001b[0m\u001b[1;33m(\u001b[0m\u001b[1;33m)\u001b[0m\u001b[1;33m:\u001b[0m\u001b[1;33m\u001b[0m\u001b[1;33m\u001b[0m\u001b[0m\n\u001b[1;32m--> 210\u001b[1;33m             \u001b[0mvalue\u001b[0m \u001b[1;33m=\u001b[0m \u001b[0mgetattr\u001b[0m\u001b[1;33m(\u001b[0m\u001b[0mself\u001b[0m\u001b[1;33m,\u001b[0m \u001b[0mkey\u001b[0m\u001b[1;33m)\u001b[0m\u001b[1;33m\u001b[0m\u001b[1;33m\u001b[0m\u001b[0m\n\u001b[0m\u001b[0;32m    211\u001b[0m             \u001b[1;32mif\u001b[0m \u001b[0mdeep\u001b[0m \u001b[1;32mand\u001b[0m \u001b[0mhasattr\u001b[0m\u001b[1;33m(\u001b[0m\u001b[0mvalue\u001b[0m\u001b[1;33m,\u001b[0m \u001b[1;34m\"get_params\"\u001b[0m\u001b[1;33m)\u001b[0m\u001b[1;33m:\u001b[0m\u001b[1;33m\u001b[0m\u001b[1;33m\u001b[0m\u001b[0m\n\u001b[0;32m    212\u001b[0m                 \u001b[0mdeep_items\u001b[0m \u001b[1;33m=\u001b[0m \u001b[0mvalue\u001b[0m\u001b[1;33m.\u001b[0m\u001b[0mget_params\u001b[0m\u001b[1;33m(\u001b[0m\u001b[1;33m)\u001b[0m\u001b[1;33m.\u001b[0m\u001b[0mitems\u001b[0m\u001b[1;33m(\u001b[0m\u001b[1;33m)\u001b[0m\u001b[1;33m\u001b[0m\u001b[1;33m\u001b[0m\u001b[0m\n",
      "\u001b[1;31mAttributeError\u001b[0m: 'Simple_Imputer' object has no attribute 'fill_value_categorical'"
     ]
    }
   ],
   "source": [
    "all_ts = df_all['DEP_ENT'].unique()\n",
    "\n",
    "all_results = []\n",
    "final_model = {}\n",
    "\n",
    "for i in tqdm(all_ts):\n",
    "    \n",
    "    df_subset = df_all[df_all['DEP_ENT'] == i]\n",
    "    \n",
    "    # initialize setup from pycaret.regression\n",
    "    s = setup(df_subset, target = 'NET_SALES', train_size = 0.8,\n",
    "              data_split_shuffle = False, fold_strategy = 'timeseries', fold = 3,\n",
    "              ignore_features = ['MONTH', 'DEP_ENT'],\n",
    "              numeric_features = ['Year'],\n",
    "              categorical_features = ['Month'],\n",
    "              silent = True, verbose = False, session_id = 123)\n",
    "    \n",
    "    # compare all models and select best one based on MAE\n",
    "    best_model = compare_models(sort = 'MAE', verbose=False)\n",
    "    \n",
    "    # capture the compare result grid and store best model in list\n",
    "    p = pull().iloc[0:1]\n",
    "    p['DEP_ENT'] = str(i)\n",
    "    all_results.append(p)\n",
    "    \n",
    "    # finalize model i.e. fit on entire data including test set\n",
    "    f = finalize_model(best_model)\n",
    "    \n",
    "    # attach final model to a dictionary\n",
    "    final_model[i] = f\n",
    "    \n",
    "    # save transformation pipeline and model as pickle file \n",
    "    save_model(f, model_name='trained_models/' + str(i), verbose=False)"
   ]
  }
 ],
 "metadata": {
  "kernelspec": {
   "display_name": "base",
   "language": "python",
   "name": "python3"
  },
  "language_info": {
   "codemirror_mode": {
    "name": "ipython",
    "version": 3
   },
   "file_extension": ".py",
   "mimetype": "text/x-python",
   "name": "python",
   "nbconvert_exporter": "python",
   "pygments_lexer": "ipython3",
   "version": "3.9.13"
  },
  "orig_nbformat": 4
 },
 "nbformat": 4,
 "nbformat_minor": 2
}
