{
 "cells": [
  {
   "cell_type": "code",
   "execution_count": 1,
   "metadata": {},
   "outputs": [],
   "source": [
    "# Use a numerical optimization method to find the value of discounts\n",
    "from scipy.optimize import minimize_scalar"
   ]
  },
  {
   "cell_type": "code",
   "execution_count": 2,
   "metadata": {},
   "outputs": [
    {
     "name": "stdout",
     "output_type": "stream",
     "text": [
      "Discounts to achieve a 25% contribution margin: 126818.33415159561\n"
     ]
    }
   ],
   "source": [
    "# Given variables\n",
    "units = 600\n",
    "gross = 335970\n",
    "i_cost = 96996\n",
    "o_cost = 28495\n",
    "cm_target = 0.25  # Target contribution margin\n",
    "\n",
    "# Define a function to calculate the contribution margin based on discounts\n",
    "def calculate_cm(discounts):\n",
    "    net = gross - discounts\n",
    "    gp = net - i_cost - o_cost\n",
    "    se = ((net / units) * 0.15) * units\n",
    "    cm = gp - se\n",
    "    cm_percent = cm / net\n",
    "    return cm_percent\n",
    "\n",
    "# Define the objective function to minimize the difference between cm and cm_target\n",
    "def objective_function(discounts):\n",
    "    return abs(calculate_cm(discounts) - cm_target)\n",
    "\n",
    "# Set bounds for discounts (e.g., between 0 and gross to ensure it's not negative)\n",
    "bounds = (0, gross)\n",
    "\n",
    "# Find the value of discounts that achieves the target contribution margin\n",
    "result = minimize_scalar(objective_function, bounds=bounds, method='bounded')\n",
    "discounts_to_achieve_cm_target = result.x\n",
    "\n",
    "print(\"Discounts to achieve a 25% contribution margin:\", discounts_to_achieve_cm_target)"
   ]
  }
 ],
 "metadata": {
  "kernelspec": {
   "display_name": "newpycaret",
   "language": "python",
   "name": "python3"
  },
  "language_info": {
   "codemirror_mode": {
    "name": "ipython",
    "version": 3
   },
   "file_extension": ".py",
   "mimetype": "text/x-python",
   "name": "python",
   "nbconvert_exporter": "python",
   "pygments_lexer": "ipython3",
   "version": "3.9.13"
  },
  "orig_nbformat": 4
 },
 "nbformat": 4,
 "nbformat_minor": 2
}
