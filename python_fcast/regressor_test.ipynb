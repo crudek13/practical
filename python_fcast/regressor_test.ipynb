{
 "cells": [
  {
   "cell_type": "code",
   "execution_count": 1,
   "metadata": {},
   "outputs": [],
   "source": [
    "from autots.datasets import load_monthly\n",
    "from autots.evaluator.auto_ts import fake_regressor\n",
    "from autots import AutoTS"
   ]
  },
  {
   "cell_type": "code",
   "execution_count": 2,
   "metadata": {},
   "outputs": [],
   "source": [
    "long = False\n",
    "df = load_monthly(long=long)\n",
    "forecast_length = 14\n",
    "model = AutoTS(\n",
    "    forecast_length=forecast_length,\n",
    "    frequency='infer',\n",
    "    validation_method=\"backwards\",\n",
    "    max_generations=2,\n",
    ")"
   ]
  },
  {
   "cell_type": "code",
   "execution_count": 3,
   "metadata": {},
   "outputs": [
    {
     "name": "stdout",
     "output_type": "stream",
     "text": [
      "Data frequency is: MS, used frequency is: MS\n"
     ]
    }
   ],
   "source": [
    "future_regressor_train2d, future_regressor_forecast2d = fake_regressor(\n",
    "    df,\n",
    "    dimensions=4,\n",
    "    forecast_length=forecast_length,\n",
    "    date_col='datetime' if long else None,\n",
    "    value_col='value' if long else None,\n",
    "    id_col='series_id' if long else None,\n",
    "    drop_most_recent=model.drop_most_recent,\n",
    "    aggfunc=model.aggfunc,\n",
    "    verbose=model.verbose,\n",
    ")"
   ]
  },
  {
   "cell_type": "code",
   "execution_count": null,
   "metadata": {},
   "outputs": [],
   "source": [
    "model = model.fit(\n",
    "    df,\n",
    "    future_regressor=future_regressor_train2d,\n",
    "    date_col='datetime' if long else None,\n",
    "    value_col='value' if long else None,\n",
    "    id_col='series_id' if long else None,\n",
    ")"
   ]
  },
  {
   "cell_type": "code",
   "execution_count": 5,
   "metadata": {},
   "outputs": [
    {
     "name": "stdout",
     "output_type": "stream",
     "text": [
      "Initiated AutoTS object with best model: \n",
      "ARDL\n",
      "{'fillna': 'akima', 'transformations': {'0': 'RobustScaler'}, 'transformation_params': {'0': {}}}\n",
      "{'lags': 3, 'trend': 'c', 'order': 0, 'causal': False, 'regression_type': None}\n",
      "Validation: 0, 1, 2, 3\n",
      "SMAPE: 13.271020755844612, 11.463364165858255, 8.945061395896428, 11.213041685348527\n",
      "MAE: 5.5815612913826005, 4.61797294853798, 3.5713932990473785, 3.586223866020979\n",
      "SPL: 1.2491806558789962, 2.1597620254066054, 1.1810221304238913, 1.3082980532380095\n"
     ]
    }
   ],
   "source": [
    "prediction = model.predict(future_regressor=future_regressor_forecast2d, verbose=0)\n",
    "forecasts_df = prediction.forecast\n",
    "\n",
    "print(model)"
   ]
  },
  {
   "cell_type": "code",
   "execution_count": 6,
   "metadata": {},
   "outputs": [
    {
     "data": {
      "text/html": [
       "<div>\n",
       "<style scoped>\n",
       "    .dataframe tbody tr th:only-of-type {\n",
       "        vertical-align: middle;\n",
       "    }\n",
       "\n",
       "    .dataframe tbody tr th {\n",
       "        vertical-align: top;\n",
       "    }\n",
       "\n",
       "    .dataframe thead th {\n",
       "        text-align: right;\n",
       "    }\n",
       "</style>\n",
       "<table border=\"1\" class=\"dataframe\">\n",
       "  <thead>\n",
       "    <tr style=\"text-align: right;\">\n",
       "      <th></th>\n",
       "      <th>0</th>\n",
       "      <th>1</th>\n",
       "      <th>2</th>\n",
       "      <th>3</th>\n",
       "    </tr>\n",
       "  </thead>\n",
       "  <tbody>\n",
       "    <tr>\n",
       "      <th>2020-10-01</th>\n",
       "      <td>64</td>\n",
       "      <td>71</td>\n",
       "      <td>43</td>\n",
       "      <td>68</td>\n",
       "    </tr>\n",
       "    <tr>\n",
       "      <th>2020-11-01</th>\n",
       "      <td>70</td>\n",
       "      <td>59</td>\n",
       "      <td>67</td>\n",
       "      <td>51</td>\n",
       "    </tr>\n",
       "    <tr>\n",
       "      <th>2020-12-01</th>\n",
       "      <td>93</td>\n",
       "      <td>27</td>\n",
       "      <td>81</td>\n",
       "      <td>68</td>\n",
       "    </tr>\n",
       "    <tr>\n",
       "      <th>2021-01-01</th>\n",
       "      <td>58</td>\n",
       "      <td>42</td>\n",
       "      <td>54</td>\n",
       "      <td>86</td>\n",
       "    </tr>\n",
       "    <tr>\n",
       "      <th>2021-02-01</th>\n",
       "      <td>88</td>\n",
       "      <td>3</td>\n",
       "      <td>52</td>\n",
       "      <td>48</td>\n",
       "    </tr>\n",
       "  </tbody>\n",
       "</table>\n",
       "</div>"
      ],
      "text/plain": [
       "             0   1   2   3\n",
       "2020-10-01  64  71  43  68\n",
       "2020-11-01  70  59  67  51\n",
       "2020-12-01  93  27  81  68\n",
       "2021-01-01  58  42  54  86\n",
       "2021-02-01  88   3  52  48"
      ]
     },
     "execution_count": 6,
     "metadata": {},
     "output_type": "execute_result"
    }
   ],
   "source": [
    "future_regressor_forecast2d.tail()"
   ]
  },
  {
   "cell_type": "code",
   "execution_count": 7,
   "metadata": {},
   "outputs": [
    {
     "data": {
      "text/html": [
       "<div>\n",
       "<style scoped>\n",
       "    .dataframe tbody tr th:only-of-type {\n",
       "        vertical-align: middle;\n",
       "    }\n",
       "\n",
       "    .dataframe tbody tr th {\n",
       "        vertical-align: top;\n",
       "    }\n",
       "\n",
       "    .dataframe thead th {\n",
       "        text-align: right;\n",
       "    }\n",
       "</style>\n",
       "<table border=\"1\" class=\"dataframe\">\n",
       "  <thead>\n",
       "    <tr style=\"text-align: right;\">\n",
       "      <th></th>\n",
       "      <th>0</th>\n",
       "      <th>1</th>\n",
       "      <th>2</th>\n",
       "      <th>3</th>\n",
       "    </tr>\n",
       "    <tr>\n",
       "      <th>datetime</th>\n",
       "      <th></th>\n",
       "      <th></th>\n",
       "      <th></th>\n",
       "      <th></th>\n",
       "    </tr>\n",
       "  </thead>\n",
       "  <tbody>\n",
       "    <tr>\n",
       "      <th>2019-08-01</th>\n",
       "      <td>33</td>\n",
       "      <td>62</td>\n",
       "      <td>60</td>\n",
       "      <td>15</td>\n",
       "    </tr>\n",
       "    <tr>\n",
       "      <th>2019-09-01</th>\n",
       "      <td>91</td>\n",
       "      <td>88</td>\n",
       "      <td>86</td>\n",
       "      <td>19</td>\n",
       "    </tr>\n",
       "    <tr>\n",
       "      <th>2019-10-01</th>\n",
       "      <td>51</td>\n",
       "      <td>45</td>\n",
       "      <td>66</td>\n",
       "      <td>88</td>\n",
       "    </tr>\n",
       "    <tr>\n",
       "      <th>2019-11-01</th>\n",
       "      <td>98</td>\n",
       "      <td>99</td>\n",
       "      <td>24</td>\n",
       "      <td>64</td>\n",
       "    </tr>\n",
       "    <tr>\n",
       "      <th>2019-12-01</th>\n",
       "      <td>49</td>\n",
       "      <td>11</td>\n",
       "      <td>9</td>\n",
       "      <td>0</td>\n",
       "    </tr>\n",
       "  </tbody>\n",
       "</table>\n",
       "</div>"
      ],
      "text/plain": [
       "             0   1   2   3\n",
       "datetime                  \n",
       "2019-08-01  33  62  60  15\n",
       "2019-09-01  91  88  86  19\n",
       "2019-10-01  51  45  66  88\n",
       "2019-11-01  98  99  24  64\n",
       "2019-12-01  49  11   9   0"
      ]
     },
     "execution_count": 7,
     "metadata": {},
     "output_type": "execute_result"
    }
   ],
   "source": [
    "future_regressor_train2d.tail()"
   ]
  }
 ],
 "metadata": {
  "kernelspec": {
   "display_name": "newpycaret",
   "language": "python",
   "name": "python3"
  },
  "language_info": {
   "codemirror_mode": {
    "name": "ipython",
    "version": 3
   },
   "file_extension": ".py",
   "mimetype": "text/x-python",
   "name": "python",
   "nbconvert_exporter": "python",
   "pygments_lexer": "ipython3",
   "version": "3.9.13"
  },
  "orig_nbformat": 4
 },
 "nbformat": 4,
 "nbformat_minor": 2
}
