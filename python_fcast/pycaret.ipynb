{
 "cells": [
  {
   "cell_type": "markdown",
   "metadata": {},
   "source": [
    "use newpycaret env"
   ]
  },
  {
   "cell_type": "code",
   "execution_count": 5,
   "metadata": {},
   "outputs": [],
   "source": [
    "# Packages\n",
    "import snowflake.connector\n",
    "import pandas as pd\n",
    "import os\n",
    "import numpy as np\n",
    "import xlsxwriter\n",
    "import matplotlib.pyplot as plt\n",
    "from datetime import datetime, timedelta\n",
    "from sklearn.impute import SimpleImputer\n",
    "from tqdm import tqdm\n",
    "\n",
    "# import the regression module from pycaret   \n",
    "#import pycaret.regression as pycr\n",
    "\n",
    "# import the time seris module from pycaret\n",
    "import pycaret.time_series as pycts"
   ]
  },
  {
   "cell_type": "markdown",
   "metadata": {},
   "source": [
    "2. Load Data\n",
    "_______________________________________________________________\n",
    "\n",
    "### To Do: copy and paste in to a new chunk, enter credentials and run to save in environment. Then delete chunk\n",
    "%env snowflakeuser=<your_snowflake_username> <br>\n",
    "%env snowflakepass=<your_snowflake_password>"
   ]
  },
  {
   "cell_type": "code",
   "execution_count": 3,
   "metadata": {},
   "outputs": [],
   "source": [
    "# Query Snowflake\n",
    "\n",
    "# Snowflake connection parameters\n",
    "connection_params = {\n",
    "    \"user\": os.environ['snowflakeuser'],\n",
    "    \"password\": os.environ['snowflakepass'],\n",
    "    \"account\": \"zib52348.us-east-1\",\n",
    "    \"role\": \"ACCOUNTADMIN\",\n",
    "    \"warehouse\": \"REPORTING\",\n",
    "    \"database\": \"ANALYTICS\",\n",
    "    \"schema\": \"FORECASTING\",\n",
    "}\n",
    "\n",
    "# Establish a connection to Snowflake\n",
    "conn = snowflake.connector.connect(**connection_params)\n",
    "\n",
    "with open('net_sales_query.sql', 'r') as query:\n",
    "    # connection == the connection to your database, in your case prob_db\n",
    "    df_in = pd.read_sql_query(query.read(),conn)\n",
    "\n",
    "# Close the connection\n",
    "conn.close()"
   ]
  },
  {
   "cell_type": "code",
   "execution_count": 4,
   "metadata": {},
   "outputs": [
    {
     "name": "stdout",
     "output_type": "stream",
     "text": [
      "DEP_ENT              object\n",
      "MONTH        datetime64[ns]\n",
      "NET_SALES           float64\n",
      "dtype: object\n",
      "-----\n",
      "14\n",
      "-----\n",
      "DEP_ENT\n",
      "160_155    84\n",
      "170_155    84\n",
      "200_155    84\n",
      "200_310    84\n",
      "210_155    84\n",
      "210_165    84\n",
      "210_310    84\n",
      "220_155    84\n",
      "220_310    78\n",
      "240_155    84\n",
      "250_155    84\n",
      "250_165    50\n",
      "250_310    84\n",
      "260_155    47\n",
      "dtype: int64\n",
      "-----\n",
      "DEP_ENT      0\n",
      "MONTH        0\n",
      "NET_SALES    0\n",
      "dtype: int64\n"
     ]
    }
   ],
   "source": [
    "### 1. Data prep ###\n",
    "\n",
    "df = df_in\n",
    "\n",
    "# convert month field to date\n",
    "df[\"MONTH\"] = pd.to_datetime(df[\"MONTH\"])\n",
    "\n",
    "# ***** ADJUSTABLE ***** #\n",
    "# current params - want to get forecasts for 2023 (Jan - Dec) so holding out data \n",
    "df = df[df['MONTH'] <= pd.Timestamp(2022,12,1)]\n",
    "\n",
    "# Some random months will have data that we want to remove (* Want to test without July though)\n",
    "df = df[[\"DEP_ENT\", \"MONTH\", \"NET_SALES\"]] # select fields of interest\n",
    "df = df.sort_values(['DEP_ENT', 'MONTH']) # reorder dataframe\n",
    "\n",
    "\n",
    "### 2. Spot checks ###\n",
    "\n",
    "# check data types\n",
    "print(df.dtypes)\n",
    "print(\"-----\")\n",
    "\n",
    "# check the unique time_series. 14 different department-entity combinations\n",
    "print(df['DEP_ENT'].nunique())\n",
    "print(\"-----\")\n",
    "\n",
    "# check how many months for each dep-ent. 3 dep-ent do not have all months of data\n",
    "print(df.groupby(['DEP_ENT']).size())\n",
    "print(\"-----\")\n",
    "\n",
    "# check for nulls. No nulls\n",
    "print(df.isnull().sum())"
   ]
  },
  {
   "cell_type": "markdown",
   "metadata": {},
   "source": [
    "# Multiple Series with Pycaret\n",
    "Pycaret 3.04 time series documentation: https://pycaret.readthedocs.io/en/stable/api/time_series.html\n",
    "\n",
    "* could do with regression as well: https://pycaret.readthedocs.io/en/stable/api/regression.html"
   ]
  },
  {
   "cell_type": "code",
   "execution_count": 8,
   "metadata": {},
   "outputs": [],
   "source": [
    "### Additional data prep ###\n",
    "\n",
    "# create series\n",
    "df_s = df.set_index(['DEP_ENT','MONTH'])['NET_SALES']\n",
    "# convert back to dataframe\n",
    "df_d = df_s.to_frame()\n",
    "# impute\n",
    "mean_imputer = SimpleImputer(strategy='mean')\n",
    "df_d['NET_SALES'] = mean_imputer.fit_transform(df_d['NET_SALES'].values.reshape(-1,1))\n",
    "#reset index\n",
    "df_d.reset_index(inplace=True)"
   ]
  },
  {
   "cell_type": "code",
   "execution_count": null,
   "metadata": {},
   "outputs": [],
   "source": [
    "### Time Series Loop ###\n",
    "\n",
    "# Create empty dataframes\n",
    "all_results_ts = pd.DataFrame()\n",
    "all_predictions_ts = pd.DataFrame()\n",
    "\n",
    "# list of each dep-ent\n",
    "all_ts_ts = df_d['DEP_ENT'].unique()\n",
    "\n",
    "for i in tqdm(all_ts_ts):\n",
    "    \n",
    "    # temp df for a dep-ent\n",
    "    df_subset = df_d[df_d['DEP_ENT'] == i]\n",
    "    \n",
    "    # trim\n",
    "    df_subset_trim = df_subset[['MONTH', 'NET_SALES']] \n",
    "    \n",
    "    # create series\n",
    "    df_subset_s = df_subset_trim.set_index('MONTH')['NET_SALES']\n",
    "    \n",
    "    # set frequency of series\n",
    "    df_subset_s = df_subset_s.asfreq('MS') \n",
    "\n",
    "    # test and train\n",
    "    ts_train = round(len(df_subset_trim.index) * .8) # 80% train\n",
    "    ts_test = len(df_subset_trim.index) - round(len(df_subset_trim.index) * .8) # 20% test\n",
    "    \n",
    "    # initialize setup\n",
    "    #s = pycts.setup(df_subset_s, numeric_imputation_target = \"mean\", fh = ts_test, session_id = 123)\n",
    "    s = pycts.setup(df_subset_s, fh=12, numeric_imputation_target = \"mean\", session_id = 123)\n",
    "\n",
    "    # model training and selection\n",
    "    best_model = pycts.compare_models(sort = 'MAPE', exclude = [\"naive\", \"grand_means\", \"croston\", ])\n",
    "    #best_model = pycts.compare_models(sort = 'MAPE', include = [\"arima\", \"auto_arima\", \"ets\", ])\n",
    "    \n",
    "    # plot trained model\n",
    "    pycts.plot_model(best_model, plot = 'forecast')\n",
    "    \n",
    "    # capture the compare result grid and store best model in list\n",
    "    p = pycts.pull().iloc[0:1]\n",
    "    p['DEP_ENT'] = str(i)\n",
    "    \n",
    "    all_results_ts = all_results_ts.append(p)\n",
    "    \n",
    "    ### Predict future periods ###\n",
    "    \n",
    "    # max date from original dataset\n",
    "    max_timestamp = df_subset_trim['MONTH'].max()\n",
    "    \n",
    "    # create dataframe for future dates, in this case the rest of 2023. This is not for predicting but to join back up with predictions\n",
    "    #next_dates = [max_timestamp.replace(day=1) + pd.DateOffset(months=i) for i in range(1, 7)] # Need to change range based on how many periods ahead you want to predict\n",
    "    \n",
    "    next_dates = [max_timestamp.replace(day=1) + pd.DateOffset(months=i) for i in range(1, 13)] # *** CHANGE IF WANT TO FORECAST DIFFERENT THAN 12 ***\n",
    "    \n",
    "    new_dates_df = pd.DataFrame({'MONTH': next_dates})\n",
    "    new_dates_df[\"MONTH\"] = pd.to_datetime(new_dates_df[\"MONTH\"]) \n",
    "    \n",
    "    # predict in unseen future\n",
    "    #predictions = pycts.predict_model(best_model, fh=6) # Need to change range fh for how many periods ahead you want to predict\n",
    "    \n",
    "    predictions = pycts.predict_model(best_model, fh=12) # *** CHANGE IF WANT TO FORECAST DIFFERENT THAN 12 ***\n",
    "    \n",
    "    pred_temp = predictions.reset_index()\n",
    "    \n",
    "    pred_comb = pd.concat([pd.DataFrame({'MONTH': next_dates}), pred_temp['y_pred']], axis = 1)\n",
    "    pred_comb['DEP_ENT'] = i # add dep\n",
    "    pred_comb.rename(columns = {'y_pred':'PRED'}, inplace = True)\n",
    "    \n",
    "    # append to master dataframe\n",
    "    all_predictions_ts = all_predictions_ts.append(pred_comb)"
   ]
  },
  {
   "cell_type": "markdown",
   "metadata": {},
   "source": [
    "* Error above - 26_155 didnt have enough data\n",
    "Merge data"
   ]
  },
  {
   "cell_type": "code",
   "execution_count": 18,
   "metadata": {},
   "outputs": [],
   "source": [
    "# join the model info (just name for now)\n",
    "model_names = all_results_ts[['Model', 'DEP_ENT']]\n",
    "merged = pd.merge(all_predictions_ts, model_names, on =['DEP_ENT'])"
   ]
  },
  {
   "cell_type": "code",
   "execution_count": 19,
   "metadata": {},
   "outputs": [],
   "source": [
    "#initial sales pull\n",
    "sales = df_in\n",
    "# select cols\n",
    "sales = sales[[\"DEP_ENT\", \"MONTH\", \"NET_SALES\"]]\n",
    "# only include sales data for the full months we have\n",
    "first_of_month = datetime.today().replace(day=1).date()\n",
    "sales = sales[sales['MONTH'] < pd.to_datetime(first_of_month)]\n",
    "\n",
    "# combine prediction data and original sales data\n",
    "merged2 = pd.merge(merged, sales, how = 'left', on =['DEP_ENT', 'MONTH'])"
   ]
  },
  {
   "cell_type": "code",
   "execution_count": 21,
   "metadata": {},
   "outputs": [],
   "source": [
    "### Budget ###\n",
    "\n",
    "# Establish a connection to Snowflake\n",
    "conn = snowflake.connector.connect(**connection_params)\n",
    "\n",
    "with open('budget_query.sql', 'r') as query:\n",
    "    # connection == the connection to your database, in your case prob_db\n",
    "    budg = pd.read_sql_query(query.read(),conn)\n",
    "\n",
    "# Close the connection\n",
    "conn.close()\n",
    "\n",
    "# convert month to datetime\n",
    "budg[\"MONTH\"] = pd.to_datetime(budg[\"MONTH\"])\n",
    "# select cols\n",
    "budg = budg[[\"MONTH\", \"BUDGET_AMOUNT\", \"DEP_ENT\"]]"
   ]
  },
  {
   "cell_type": "code",
   "execution_count": 22,
   "metadata": {},
   "outputs": [],
   "source": [
    "# combine prediction/sales data with budget data\n",
    "merged3 = pd.merge(merged2, budg, how = 'left', on =['DEP_ENT', 'MONTH'])"
   ]
  },
  {
   "cell_type": "code",
   "execution_count": 23,
   "metadata": {},
   "outputs": [],
   "source": [
    "# write csv\n",
    "merged3.to_csv('pycaret_results.csv')"
   ]
  }
 ],
 "metadata": {
  "kernelspec": {
   "display_name": "newpycaret",
   "language": "python",
   "name": "python3"
  },
  "language_info": {
   "codemirror_mode": {
    "name": "ipython",
    "version": 3
   },
   "file_extension": ".py",
   "mimetype": "text/x-python",
   "name": "python",
   "nbconvert_exporter": "python",
   "pygments_lexer": "ipython3",
   "version": "3.9.13"
  },
  "orig_nbformat": 4
 },
 "nbformat": 4,
 "nbformat_minor": 2
}
