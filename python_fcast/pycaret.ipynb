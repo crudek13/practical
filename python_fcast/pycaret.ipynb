{
 "cells": [
  {
   "cell_type": "markdown",
   "metadata": {},
   "source": [
    "use newpycaret env"
   ]
  },
  {
   "cell_type": "code",
   "execution_count": 5,
   "metadata": {},
   "outputs": [],
   "source": [
    "# Packages\n",
    "import snowflake.connector\n",
    "import pandas as pd\n",
    "import os\n",
    "import numpy as np\n",
    "import xlsxwriter\n",
    "import matplotlib.pyplot as plt\n",
    "from datetime import datetime, timedelta\n",
    "from sklearn.impute import SimpleImputer\n",
    "from tqdm import tqdm\n",
    "\n",
    "# import the regression module from pycaret   \n",
    "#import pycaret.regression as pycr\n",
    "\n",
    "# import the time seris module from pycaret\n",
    "import pycaret.time_series as pycts"
   ]
  },
  {
   "cell_type": "markdown",
   "metadata": {},
   "source": [
    "2. Load Data\n",
    "_______________________________________________________________\n",
    "\n",
    "### To Do: copy and paste in to a new chunk, enter credentials and run to save in environment. Then delete chunk\n",
    "%env snowflakeuser=<your_snowflake_username> <br>\n",
    "%env snowflakepass=<your_snowflake_password>"
   ]
  },
  {
   "cell_type": "code",
   "execution_count": 3,
   "metadata": {},
   "outputs": [],
   "source": [
    "# Query Snowflake\n",
    "\n",
    "# Snowflake connection parameters\n",
    "connection_params = {\n",
    "    \"user\": os.environ['snowflakeuser'],\n",
    "    \"password\": os.environ['snowflakepass'],\n",
    "    \"account\": \"zib52348.us-east-1\",\n",
    "    \"role\": \"ACCOUNTADMIN\",\n",
    "    \"warehouse\": \"REPORTING\",\n",
    "    \"database\": \"ANALYTICS\",\n",
    "    \"schema\": \"FORECASTING\",\n",
    "}\n",
    "\n",
    "# Establish a connection to Snowflake\n",
    "conn = snowflake.connector.connect(**connection_params)\n",
    "\n",
    "with open('net_sales_query.sql', 'r') as query:\n",
    "    # connection == the connection to your database, in your case prob_db\n",
    "    df_in = pd.read_sql_query(query.read(),conn)\n",
    "\n",
    "# Close the connection\n",
    "conn.close()"
   ]
  },
  {
   "cell_type": "code",
   "execution_count": 4,
   "metadata": {},
   "outputs": [
    {
     "name": "stdout",
     "output_type": "stream",
     "text": [
      "DEP_ENT              object\n",
      "MONTH        datetime64[ns]\n",
      "NET_SALES           float64\n",
      "dtype: object\n",
      "-----\n",
      "14\n",
      "-----\n",
      "DEP_ENT\n",
      "160_155    84\n",
      "170_155    84\n",
      "200_155    84\n",
      "200_310    84\n",
      "210_155    84\n",
      "210_165    84\n",
      "210_310    84\n",
      "220_155    84\n",
      "220_310    78\n",
      "240_155    84\n",
      "250_155    84\n",
      "250_165    50\n",
      "250_310    84\n",
      "260_155    47\n",
      "dtype: int64\n",
      "-----\n",
      "DEP_ENT      0\n",
      "MONTH        0\n",
      "NET_SALES    0\n",
      "dtype: int64\n"
     ]
    }
   ],
   "source": [
    "### 1. Data prep ###\n",
    "\n",
    "df = df_in\n",
    "\n",
    "# convert month field to date\n",
    "df[\"MONTH\"] = pd.to_datetime(df[\"MONTH\"])\n",
    "\n",
    "# ***** ADJUSTABLE ***** #\n",
    "# current params - want to get forecasts for 2023 (Jan - Dec) so holding out data \n",
    "df = df[df['MONTH'] <= pd.Timestamp(2022,12,1)]\n",
    "\n",
    "# Some random months will have data that we want to remove (* Want to test without July though)\n",
    "df = df[[\"DEP_ENT\", \"MONTH\", \"NET_SALES\"]] # select fields of interest\n",
    "df = df.sort_values(['DEP_ENT', 'MONTH']) # reorder dataframe\n",
    "\n",
    "\n",
    "### 2. Spot checks ###\n",
    "\n",
    "# check data types\n",
    "print(df.dtypes)\n",
    "print(\"-----\")\n",
    "\n",
    "# check the unique time_series. 14 different department-entity combinations\n",
    "print(df['DEP_ENT'].nunique())\n",
    "print(\"-----\")\n",
    "\n",
    "# check how many months for each dep-ent. 3 dep-ent do not have all months of data\n",
    "print(df.groupby(['DEP_ENT']).size())\n",
    "print(\"-----\")\n",
    "\n",
    "# check for nulls. No nulls\n",
    "print(df.isnull().sum())"
   ]
  },
  {
   "cell_type": "markdown",
   "metadata": {},
   "source": [
    "# Multiple Series with Pycaret\n",
    "Pycaret 3.04 time series documentation: https://pycaret.readthedocs.io/en/stable/api/time_series.html\n",
    "\n",
    "* could do with regression as well: https://pycaret.readthedocs.io/en/stable/api/regression.html"
   ]
  },
  {
   "cell_type": "code",
   "execution_count": 8,
   "metadata": {},
   "outputs": [],
   "source": [
    "### Additional data prep ###\n",
    "\n",
    "# create series\n",
    "df_s = df.set_index(['DEP_ENT','MONTH'])['NET_SALES']\n",
    "# convert back to dataframe\n",
    "df_d = df_s.to_frame()\n",
    "# impute\n",
    "mean_imputer = SimpleImputer(strategy='mean')\n",
    "df_d['NET_SALES'] = mean_imputer.fit_transform(df_d['NET_SALES'].values.reshape(-1,1))\n",
    "#reset index\n",
    "df_d.reset_index(inplace=True)"
   ]
  },
  {
   "cell_type": "code",
   "execution_count": 13,
   "metadata": {},
   "outputs": [
    {
     "name": "stderr",
     "output_type": "stream",
     "text": [
      "  0%|          | 0/14 [00:00<?, ?it/s]"
     ]
    },
    {
     "data": {
      "text/html": [
       "<style type=\"text/css\">\n",
       "#T_1da06_row28_col1, #T_1da06_row31_col1 {\n",
       "  background-color: lightgreen;\n",
       "}\n",
       "</style>\n",
       "<table id=\"T_1da06\">\n",
       "  <thead>\n",
       "    <tr>\n",
       "      <th class=\"blank level0\" >&nbsp;</th>\n",
       "      <th id=\"T_1da06_level0_col0\" class=\"col_heading level0 col0\" >Description</th>\n",
       "      <th id=\"T_1da06_level0_col1\" class=\"col_heading level0 col1\" >Value</th>\n",
       "    </tr>\n",
       "  </thead>\n",
       "  <tbody>\n",
       "    <tr>\n",
       "      <th id=\"T_1da06_level0_row0\" class=\"row_heading level0 row0\" >0</th>\n",
       "      <td id=\"T_1da06_row0_col0\" class=\"data row0 col0\" >session_id</td>\n",
       "      <td id=\"T_1da06_row0_col1\" class=\"data row0 col1\" >123</td>\n",
       "    </tr>\n",
       "    <tr>\n",
       "      <th id=\"T_1da06_level0_row1\" class=\"row_heading level0 row1\" >1</th>\n",
       "      <td id=\"T_1da06_row1_col0\" class=\"data row1 col0\" >Target</td>\n",
       "      <td id=\"T_1da06_row1_col1\" class=\"data row1 col1\" >NET_SALES</td>\n",
       "    </tr>\n",
       "    <tr>\n",
       "      <th id=\"T_1da06_level0_row2\" class=\"row_heading level0 row2\" >2</th>\n",
       "      <td id=\"T_1da06_row2_col0\" class=\"data row2 col0\" >Approach</td>\n",
       "      <td id=\"T_1da06_row2_col1\" class=\"data row2 col1\" >Univariate</td>\n",
       "    </tr>\n",
       "    <tr>\n",
       "      <th id=\"T_1da06_level0_row3\" class=\"row_heading level0 row3\" >3</th>\n",
       "      <td id=\"T_1da06_row3_col0\" class=\"data row3 col0\" >Exogenous Variables</td>\n",
       "      <td id=\"T_1da06_row3_col1\" class=\"data row3 col1\" >Not Present</td>\n",
       "    </tr>\n",
       "    <tr>\n",
       "      <th id=\"T_1da06_level0_row4\" class=\"row_heading level0 row4\" >4</th>\n",
       "      <td id=\"T_1da06_row4_col0\" class=\"data row4 col0\" >Original data shape</td>\n",
       "      <td id=\"T_1da06_row4_col1\" class=\"data row4 col1\" >(84, 1)</td>\n",
       "    </tr>\n",
       "    <tr>\n",
       "      <th id=\"T_1da06_level0_row5\" class=\"row_heading level0 row5\" >5</th>\n",
       "      <td id=\"T_1da06_row5_col0\" class=\"data row5 col0\" >Transformed data shape</td>\n",
       "      <td id=\"T_1da06_row5_col1\" class=\"data row5 col1\" >(84, 1)</td>\n",
       "    </tr>\n",
       "    <tr>\n",
       "      <th id=\"T_1da06_level0_row6\" class=\"row_heading level0 row6\" >6</th>\n",
       "      <td id=\"T_1da06_row6_col0\" class=\"data row6 col0\" >Transformed train set shape</td>\n",
       "      <td id=\"T_1da06_row6_col1\" class=\"data row6 col1\" >(72, 1)</td>\n",
       "    </tr>\n",
       "    <tr>\n",
       "      <th id=\"T_1da06_level0_row7\" class=\"row_heading level0 row7\" >7</th>\n",
       "      <td id=\"T_1da06_row7_col0\" class=\"data row7 col0\" >Transformed test set shape</td>\n",
       "      <td id=\"T_1da06_row7_col1\" class=\"data row7 col1\" >(12, 1)</td>\n",
       "    </tr>\n",
       "    <tr>\n",
       "      <th id=\"T_1da06_level0_row8\" class=\"row_heading level0 row8\" >8</th>\n",
       "      <td id=\"T_1da06_row8_col0\" class=\"data row8 col0\" >Rows with missing values</td>\n",
       "      <td id=\"T_1da06_row8_col1\" class=\"data row8 col1\" >0.0%</td>\n",
       "    </tr>\n",
       "    <tr>\n",
       "      <th id=\"T_1da06_level0_row9\" class=\"row_heading level0 row9\" >9</th>\n",
       "      <td id=\"T_1da06_row9_col0\" class=\"data row9 col0\" >Fold Generator</td>\n",
       "      <td id=\"T_1da06_row9_col1\" class=\"data row9 col1\" >ExpandingWindowSplitter</td>\n",
       "    </tr>\n",
       "    <tr>\n",
       "      <th id=\"T_1da06_level0_row10\" class=\"row_heading level0 row10\" >10</th>\n",
       "      <td id=\"T_1da06_row10_col0\" class=\"data row10 col0\" >Fold Number</td>\n",
       "      <td id=\"T_1da06_row10_col1\" class=\"data row10 col1\" >3</td>\n",
       "    </tr>\n",
       "    <tr>\n",
       "      <th id=\"T_1da06_level0_row11\" class=\"row_heading level0 row11\" >11</th>\n",
       "      <td id=\"T_1da06_row11_col0\" class=\"data row11 col0\" >Enforce Prediction Interval</td>\n",
       "      <td id=\"T_1da06_row11_col1\" class=\"data row11 col1\" >False</td>\n",
       "    </tr>\n",
       "    <tr>\n",
       "      <th id=\"T_1da06_level0_row12\" class=\"row_heading level0 row12\" >12</th>\n",
       "      <td id=\"T_1da06_row12_col0\" class=\"data row12 col0\" >Splits used for hyperparameters</td>\n",
       "      <td id=\"T_1da06_row12_col1\" class=\"data row12 col1\" >all</td>\n",
       "    </tr>\n",
       "    <tr>\n",
       "      <th id=\"T_1da06_level0_row13\" class=\"row_heading level0 row13\" >13</th>\n",
       "      <td id=\"T_1da06_row13_col0\" class=\"data row13 col0\" >User Defined Seasonal Period(s)</td>\n",
       "      <td id=\"T_1da06_row13_col1\" class=\"data row13 col1\" >None</td>\n",
       "    </tr>\n",
       "    <tr>\n",
       "      <th id=\"T_1da06_level0_row14\" class=\"row_heading level0 row14\" >14</th>\n",
       "      <td id=\"T_1da06_row14_col0\" class=\"data row14 col0\" >Ignore Seasonality Test</td>\n",
       "      <td id=\"T_1da06_row14_col1\" class=\"data row14 col1\" >False</td>\n",
       "    </tr>\n",
       "    <tr>\n",
       "      <th id=\"T_1da06_level0_row15\" class=\"row_heading level0 row15\" >15</th>\n",
       "      <td id=\"T_1da06_row15_col0\" class=\"data row15 col0\" >Seasonality Detection Algo</td>\n",
       "      <td id=\"T_1da06_row15_col1\" class=\"data row15 col1\" >auto</td>\n",
       "    </tr>\n",
       "    <tr>\n",
       "      <th id=\"T_1da06_level0_row16\" class=\"row_heading level0 row16\" >16</th>\n",
       "      <td id=\"T_1da06_row16_col0\" class=\"data row16 col0\" >Max Period to Consider</td>\n",
       "      <td id=\"T_1da06_row16_col1\" class=\"data row16 col1\" >60</td>\n",
       "    </tr>\n",
       "    <tr>\n",
       "      <th id=\"T_1da06_level0_row17\" class=\"row_heading level0 row17\" >17</th>\n",
       "      <td id=\"T_1da06_row17_col0\" class=\"data row17 col0\" >Seasonal Period(s) Tested</td>\n",
       "      <td id=\"T_1da06_row17_col1\" class=\"data row17 col1\" >[]</td>\n",
       "    </tr>\n",
       "    <tr>\n",
       "      <th id=\"T_1da06_level0_row18\" class=\"row_heading level0 row18\" >18</th>\n",
       "      <td id=\"T_1da06_row18_col0\" class=\"data row18 col0\" >Significant Seasonal Period(s)</td>\n",
       "      <td id=\"T_1da06_row18_col1\" class=\"data row18 col1\" >[1]</td>\n",
       "    </tr>\n",
       "    <tr>\n",
       "      <th id=\"T_1da06_level0_row19\" class=\"row_heading level0 row19\" >19</th>\n",
       "      <td id=\"T_1da06_row19_col0\" class=\"data row19 col0\" >Significant Seasonal Period(s) without Harmonics</td>\n",
       "      <td id=\"T_1da06_row19_col1\" class=\"data row19 col1\" >[1]</td>\n",
       "    </tr>\n",
       "    <tr>\n",
       "      <th id=\"T_1da06_level0_row20\" class=\"row_heading level0 row20\" >20</th>\n",
       "      <td id=\"T_1da06_row20_col0\" class=\"data row20 col0\" >Remove Harmonics</td>\n",
       "      <td id=\"T_1da06_row20_col1\" class=\"data row20 col1\" >False</td>\n",
       "    </tr>\n",
       "    <tr>\n",
       "      <th id=\"T_1da06_level0_row21\" class=\"row_heading level0 row21\" >21</th>\n",
       "      <td id=\"T_1da06_row21_col0\" class=\"data row21 col0\" >Harmonics Order Method</td>\n",
       "      <td id=\"T_1da06_row21_col1\" class=\"data row21 col1\" >harmonic_max</td>\n",
       "    </tr>\n",
       "    <tr>\n",
       "      <th id=\"T_1da06_level0_row22\" class=\"row_heading level0 row22\" >22</th>\n",
       "      <td id=\"T_1da06_row22_col0\" class=\"data row22 col0\" >Num Seasonalities to Use</td>\n",
       "      <td id=\"T_1da06_row22_col1\" class=\"data row22 col1\" >1</td>\n",
       "    </tr>\n",
       "    <tr>\n",
       "      <th id=\"T_1da06_level0_row23\" class=\"row_heading level0 row23\" >23</th>\n",
       "      <td id=\"T_1da06_row23_col0\" class=\"data row23 col0\" >All Seasonalities to Use</td>\n",
       "      <td id=\"T_1da06_row23_col1\" class=\"data row23 col1\" >[1]</td>\n",
       "    </tr>\n",
       "    <tr>\n",
       "      <th id=\"T_1da06_level0_row24\" class=\"row_heading level0 row24\" >24</th>\n",
       "      <td id=\"T_1da06_row24_col0\" class=\"data row24 col0\" >Primary Seasonality</td>\n",
       "      <td id=\"T_1da06_row24_col1\" class=\"data row24 col1\" >1</td>\n",
       "    </tr>\n",
       "    <tr>\n",
       "      <th id=\"T_1da06_level0_row25\" class=\"row_heading level0 row25\" >25</th>\n",
       "      <td id=\"T_1da06_row25_col0\" class=\"data row25 col0\" >Seasonality Present</td>\n",
       "      <td id=\"T_1da06_row25_col1\" class=\"data row25 col1\" >False</td>\n",
       "    </tr>\n",
       "    <tr>\n",
       "      <th id=\"T_1da06_level0_row26\" class=\"row_heading level0 row26\" >26</th>\n",
       "      <td id=\"T_1da06_row26_col0\" class=\"data row26 col0\" >Seasonality Type</td>\n",
       "      <td id=\"T_1da06_row26_col1\" class=\"data row26 col1\" >None</td>\n",
       "    </tr>\n",
       "    <tr>\n",
       "      <th id=\"T_1da06_level0_row27\" class=\"row_heading level0 row27\" >27</th>\n",
       "      <td id=\"T_1da06_row27_col0\" class=\"data row27 col0\" >Target Strictly Positive</td>\n",
       "      <td id=\"T_1da06_row27_col1\" class=\"data row27 col1\" >True</td>\n",
       "    </tr>\n",
       "    <tr>\n",
       "      <th id=\"T_1da06_level0_row28\" class=\"row_heading level0 row28\" >28</th>\n",
       "      <td id=\"T_1da06_row28_col0\" class=\"data row28 col0\" >Target White Noise</td>\n",
       "      <td id=\"T_1da06_row28_col1\" class=\"data row28 col1\" >Yes</td>\n",
       "    </tr>\n",
       "    <tr>\n",
       "      <th id=\"T_1da06_level0_row29\" class=\"row_heading level0 row29\" >29</th>\n",
       "      <td id=\"T_1da06_row29_col0\" class=\"data row29 col0\" >Recommended d</td>\n",
       "      <td id=\"T_1da06_row29_col1\" class=\"data row29 col1\" >0</td>\n",
       "    </tr>\n",
       "    <tr>\n",
       "      <th id=\"T_1da06_level0_row30\" class=\"row_heading level0 row30\" >30</th>\n",
       "      <td id=\"T_1da06_row30_col0\" class=\"data row30 col0\" >Recommended Seasonal D</td>\n",
       "      <td id=\"T_1da06_row30_col1\" class=\"data row30 col1\" >0</td>\n",
       "    </tr>\n",
       "    <tr>\n",
       "      <th id=\"T_1da06_level0_row31\" class=\"row_heading level0 row31\" >31</th>\n",
       "      <td id=\"T_1da06_row31_col0\" class=\"data row31 col0\" >Preprocess</td>\n",
       "      <td id=\"T_1da06_row31_col1\" class=\"data row31 col1\" >True</td>\n",
       "    </tr>\n",
       "    <tr>\n",
       "      <th id=\"T_1da06_level0_row32\" class=\"row_heading level0 row32\" >32</th>\n",
       "      <td id=\"T_1da06_row32_col0\" class=\"data row32 col0\" >Numerical Imputation (Target)</td>\n",
       "      <td id=\"T_1da06_row32_col1\" class=\"data row32 col1\" >mean</td>\n",
       "    </tr>\n",
       "    <tr>\n",
       "      <th id=\"T_1da06_level0_row33\" class=\"row_heading level0 row33\" >33</th>\n",
       "      <td id=\"T_1da06_row33_col0\" class=\"data row33 col0\" >Transformation (Target)</td>\n",
       "      <td id=\"T_1da06_row33_col1\" class=\"data row33 col1\" >None</td>\n",
       "    </tr>\n",
       "    <tr>\n",
       "      <th id=\"T_1da06_level0_row34\" class=\"row_heading level0 row34\" >34</th>\n",
       "      <td id=\"T_1da06_row34_col0\" class=\"data row34 col0\" >Scaling (Target)</td>\n",
       "      <td id=\"T_1da06_row34_col1\" class=\"data row34 col1\" >None</td>\n",
       "    </tr>\n",
       "    <tr>\n",
       "      <th id=\"T_1da06_level0_row35\" class=\"row_heading level0 row35\" >35</th>\n",
       "      <td id=\"T_1da06_row35_col0\" class=\"data row35 col0\" >Feature Engineering (Target) - Reduced Regression</td>\n",
       "      <td id=\"T_1da06_row35_col1\" class=\"data row35 col1\" >False</td>\n",
       "    </tr>\n",
       "    <tr>\n",
       "      <th id=\"T_1da06_level0_row36\" class=\"row_heading level0 row36\" >36</th>\n",
       "      <td id=\"T_1da06_row36_col0\" class=\"data row36 col0\" >CPU Jobs</td>\n",
       "      <td id=\"T_1da06_row36_col1\" class=\"data row36 col1\" >-1</td>\n",
       "    </tr>\n",
       "    <tr>\n",
       "      <th id=\"T_1da06_level0_row37\" class=\"row_heading level0 row37\" >37</th>\n",
       "      <td id=\"T_1da06_row37_col0\" class=\"data row37 col0\" >Use GPU</td>\n",
       "      <td id=\"T_1da06_row37_col1\" class=\"data row37 col1\" >False</td>\n",
       "    </tr>\n",
       "    <tr>\n",
       "      <th id=\"T_1da06_level0_row38\" class=\"row_heading level0 row38\" >38</th>\n",
       "      <td id=\"T_1da06_row38_col0\" class=\"data row38 col0\" >Log Experiment</td>\n",
       "      <td id=\"T_1da06_row38_col1\" class=\"data row38 col1\" >False</td>\n",
       "    </tr>\n",
       "    <tr>\n",
       "      <th id=\"T_1da06_level0_row39\" class=\"row_heading level0 row39\" >39</th>\n",
       "      <td id=\"T_1da06_row39_col0\" class=\"data row39 col0\" >Experiment Name</td>\n",
       "      <td id=\"T_1da06_row39_col1\" class=\"data row39 col1\" >ts-default-name</td>\n",
       "    </tr>\n",
       "    <tr>\n",
       "      <th id=\"T_1da06_level0_row40\" class=\"row_heading level0 row40\" >40</th>\n",
       "      <td id=\"T_1da06_row40_col0\" class=\"data row40 col0\" >USI</td>\n",
       "      <td id=\"T_1da06_row40_col1\" class=\"data row40 col1\" >a410</td>\n",
       "    </tr>\n",
       "  </tbody>\n",
       "</table>\n"
      ],
      "text/plain": [
       "<pandas.io.formats.style.Styler at 0x1a6c22f0100>"
      ]
     },
     "metadata": {},
     "output_type": "display_data"
    },
    {
     "data": {
      "text/html": [],
      "text/plain": [
       "<IPython.core.display.HTML object>"
      ]
     },
     "metadata": {},
     "output_type": "display_data"
    },
    {
     "data": {
      "text/html": [
       "<style type=\"text/css\">\n",
       "#T_6a94f th {\n",
       "  text-align: left;\n",
       "}\n",
       "#T_6a94f_row0_col0, #T_6a94f_row1_col0, #T_6a94f_row1_col1, #T_6a94f_row1_col2, #T_6a94f_row1_col3, #T_6a94f_row1_col4, #T_6a94f_row1_col5, #T_6a94f_row1_col6, #T_6a94f_row1_col7, #T_6a94f_row2_col0, #T_6a94f_row2_col1, #T_6a94f_row2_col2, #T_6a94f_row2_col3, #T_6a94f_row2_col4, #T_6a94f_row2_col5, #T_6a94f_row2_col6, #T_6a94f_row2_col7, #T_6a94f_row3_col0, #T_6a94f_row3_col1, #T_6a94f_row3_col2, #T_6a94f_row3_col3, #T_6a94f_row3_col4, #T_6a94f_row3_col5, #T_6a94f_row3_col6, #T_6a94f_row3_col7, #T_6a94f_row4_col0, #T_6a94f_row4_col1, #T_6a94f_row4_col2, #T_6a94f_row4_col3, #T_6a94f_row4_col4, #T_6a94f_row4_col5, #T_6a94f_row4_col6, #T_6a94f_row4_col7, #T_6a94f_row5_col0, #T_6a94f_row5_col1, #T_6a94f_row5_col2, #T_6a94f_row5_col3, #T_6a94f_row5_col4, #T_6a94f_row5_col5, #T_6a94f_row5_col6, #T_6a94f_row5_col7, #T_6a94f_row6_col0, #T_6a94f_row6_col1, #T_6a94f_row6_col2, #T_6a94f_row6_col3, #T_6a94f_row6_col4, #T_6a94f_row6_col5, #T_6a94f_row6_col6, #T_6a94f_row6_col7, #T_6a94f_row7_col0, #T_6a94f_row7_col1, #T_6a94f_row7_col2, #T_6a94f_row7_col3, #T_6a94f_row7_col4, #T_6a94f_row7_col5, #T_6a94f_row7_col6, #T_6a94f_row7_col7, #T_6a94f_row8_col0, #T_6a94f_row8_col1, #T_6a94f_row8_col2, #T_6a94f_row8_col3, #T_6a94f_row8_col4, #T_6a94f_row8_col5, #T_6a94f_row8_col6, #T_6a94f_row8_col7, #T_6a94f_row9_col0, #T_6a94f_row9_col1, #T_6a94f_row9_col2, #T_6a94f_row9_col3, #T_6a94f_row9_col4, #T_6a94f_row9_col5, #T_6a94f_row9_col6, #T_6a94f_row9_col7, #T_6a94f_row10_col0, #T_6a94f_row10_col1, #T_6a94f_row10_col2, #T_6a94f_row10_col3, #T_6a94f_row10_col4, #T_6a94f_row10_col5, #T_6a94f_row10_col6, #T_6a94f_row10_col7, #T_6a94f_row11_col0, #T_6a94f_row11_col1, #T_6a94f_row11_col2, #T_6a94f_row11_col3, #T_6a94f_row11_col4, #T_6a94f_row11_col5, #T_6a94f_row11_col6, #T_6a94f_row11_col7, #T_6a94f_row12_col0, #T_6a94f_row12_col1, #T_6a94f_row12_col2, #T_6a94f_row12_col3, #T_6a94f_row12_col4, #T_6a94f_row12_col5, #T_6a94f_row12_col6, #T_6a94f_row12_col7, #T_6a94f_row13_col0, #T_6a94f_row13_col1, #T_6a94f_row13_col2, #T_6a94f_row13_col3, #T_6a94f_row13_col4, #T_6a94f_row13_col5, #T_6a94f_row13_col6, #T_6a94f_row13_col7, #T_6a94f_row14_col0, #T_6a94f_row14_col1, #T_6a94f_row14_col2, #T_6a94f_row14_col3, #T_6a94f_row14_col4, #T_6a94f_row14_col5, #T_6a94f_row14_col6, #T_6a94f_row14_col7, #T_6a94f_row15_col0, #T_6a94f_row15_col1, #T_6a94f_row15_col2, #T_6a94f_row15_col3, #T_6a94f_row15_col4, #T_6a94f_row15_col5, #T_6a94f_row15_col6, #T_6a94f_row15_col7, #T_6a94f_row16_col0, #T_6a94f_row16_col1, #T_6a94f_row16_col2, #T_6a94f_row16_col3, #T_6a94f_row16_col4, #T_6a94f_row16_col5, #T_6a94f_row16_col6, #T_6a94f_row16_col7, #T_6a94f_row17_col0, #T_6a94f_row17_col1, #T_6a94f_row17_col2, #T_6a94f_row17_col3, #T_6a94f_row17_col4, #T_6a94f_row17_col5, #T_6a94f_row17_col6, #T_6a94f_row17_col7, #T_6a94f_row18_col0, #T_6a94f_row18_col1, #T_6a94f_row18_col2, #T_6a94f_row18_col3, #T_6a94f_row18_col4, #T_6a94f_row18_col5, #T_6a94f_row18_col6, #T_6a94f_row18_col7, #T_6a94f_row19_col0, #T_6a94f_row19_col1, #T_6a94f_row19_col2, #T_6a94f_row19_col3, #T_6a94f_row19_col4, #T_6a94f_row19_col5, #T_6a94f_row19_col6, #T_6a94f_row19_col7, #T_6a94f_row20_col0, #T_6a94f_row20_col1, #T_6a94f_row20_col2, #T_6a94f_row20_col3, #T_6a94f_row20_col4, #T_6a94f_row20_col5, #T_6a94f_row20_col6, #T_6a94f_row20_col7, #T_6a94f_row21_col0, #T_6a94f_row21_col1, #T_6a94f_row21_col2, #T_6a94f_row21_col3, #T_6a94f_row21_col4, #T_6a94f_row21_col5, #T_6a94f_row21_col6, #T_6a94f_row21_col7 {\n",
       "  text-align: left;\n",
       "}\n",
       "#T_6a94f_row0_col1, #T_6a94f_row0_col2, #T_6a94f_row0_col3, #T_6a94f_row0_col4, #T_6a94f_row0_col5, #T_6a94f_row0_col6, #T_6a94f_row0_col7 {\n",
       "  text-align: left;\n",
       "  background-color: yellow;\n",
       "}\n",
       "#T_6a94f_row0_col8, #T_6a94f_row1_col8, #T_6a94f_row2_col8, #T_6a94f_row3_col8, #T_6a94f_row4_col8, #T_6a94f_row5_col8, #T_6a94f_row6_col8, #T_6a94f_row7_col8, #T_6a94f_row8_col8, #T_6a94f_row9_col8, #T_6a94f_row10_col8, #T_6a94f_row11_col8, #T_6a94f_row12_col8, #T_6a94f_row13_col8, #T_6a94f_row14_col8, #T_6a94f_row15_col8, #T_6a94f_row16_col8, #T_6a94f_row17_col8, #T_6a94f_row18_col8, #T_6a94f_row19_col8, #T_6a94f_row21_col8 {\n",
       "  text-align: left;\n",
       "  background-color: lightgrey;\n",
       "}\n",
       "#T_6a94f_row20_col8 {\n",
       "  text-align: left;\n",
       "  background-color: yellow;\n",
       "  background-color: lightgrey;\n",
       "}\n",
       "</style>\n",
       "<table id=\"T_6a94f\">\n",
       "  <thead>\n",
       "    <tr>\n",
       "      <th class=\"blank level0\" >&nbsp;</th>\n",
       "      <th id=\"T_6a94f_level0_col0\" class=\"col_heading level0 col0\" >Model</th>\n",
       "      <th id=\"T_6a94f_level0_col1\" class=\"col_heading level0 col1\" >MASE</th>\n",
       "      <th id=\"T_6a94f_level0_col2\" class=\"col_heading level0 col2\" >RMSSE</th>\n",
       "      <th id=\"T_6a94f_level0_col3\" class=\"col_heading level0 col3\" >MAE</th>\n",
       "      <th id=\"T_6a94f_level0_col4\" class=\"col_heading level0 col4\" >RMSE</th>\n",
       "      <th id=\"T_6a94f_level0_col5\" class=\"col_heading level0 col5\" >MAPE</th>\n",
       "      <th id=\"T_6a94f_level0_col6\" class=\"col_heading level0 col6\" >SMAPE</th>\n",
       "      <th id=\"T_6a94f_level0_col7\" class=\"col_heading level0 col7\" >R2</th>\n",
       "      <th id=\"T_6a94f_level0_col8\" class=\"col_heading level0 col8\" >TT (Sec)</th>\n",
       "    </tr>\n",
       "  </thead>\n",
       "  <tbody>\n",
       "    <tr>\n",
       "      <th id=\"T_6a94f_level0_row0\" class=\"row_heading level0 row0\" >auto_arima</th>\n",
       "      <td id=\"T_6a94f_row0_col0\" class=\"data row0 col0\" >Auto ARIMA</td>\n",
       "      <td id=\"T_6a94f_row0_col1\" class=\"data row0 col1\" >0.8269</td>\n",
       "      <td id=\"T_6a94f_row0_col2\" class=\"data row0 col2\" >0.8019</td>\n",
       "      <td id=\"T_6a94f_row0_col3\" class=\"data row0 col3\" >1050726.2749</td>\n",
       "      <td id=\"T_6a94f_row0_col4\" class=\"data row0 col4\" >1301393.0242</td>\n",
       "      <td id=\"T_6a94f_row0_col5\" class=\"data row0 col5\" >0.8359</td>\n",
       "      <td id=\"T_6a94f_row0_col6\" class=\"data row0 col6\" >0.4476</td>\n",
       "      <td id=\"T_6a94f_row0_col7\" class=\"data row0 col7\" >-0.6113</td>\n",
       "      <td id=\"T_6a94f_row0_col8\" class=\"data row0 col8\" >0.8800</td>\n",
       "    </tr>\n",
       "    <tr>\n",
       "      <th id=\"T_6a94f_level0_row1\" class=\"row_heading level0 row1\" >arima</th>\n",
       "      <td id=\"T_6a94f_row1_col0\" class=\"data row1 col0\" >ARIMA</td>\n",
       "      <td id=\"T_6a94f_row1_col1\" class=\"data row1 col1\" >0.8361</td>\n",
       "      <td id=\"T_6a94f_row1_col2\" class=\"data row1 col2\" >0.8097</td>\n",
       "      <td id=\"T_6a94f_row1_col3\" class=\"data row1 col3\" >1062904.8315</td>\n",
       "      <td id=\"T_6a94f_row1_col4\" class=\"data row1 col4\" >1314337.4607</td>\n",
       "      <td id=\"T_6a94f_row1_col5\" class=\"data row1 col5\" >0.8466</td>\n",
       "      <td id=\"T_6a94f_row1_col6\" class=\"data row1 col6\" >0.4515</td>\n",
       "      <td id=\"T_6a94f_row1_col7\" class=\"data row1 col7\" >-0.6535</td>\n",
       "      <td id=\"T_6a94f_row1_col8\" class=\"data row1 col8\" >0.8467</td>\n",
       "    </tr>\n",
       "    <tr>\n",
       "      <th id=\"T_6a94f_level0_row2\" class=\"row_heading level0 row2\" >polytrend</th>\n",
       "      <td id=\"T_6a94f_row2_col0\" class=\"data row2 col0\" >Polynomial Trend Forecaster</td>\n",
       "      <td id=\"T_6a94f_row2_col1\" class=\"data row2 col1\" >1.0438</td>\n",
       "      <td id=\"T_6a94f_row2_col2\" class=\"data row2 col2\" >0.9633</td>\n",
       "      <td id=\"T_6a94f_row2_col3\" class=\"data row2 col3\" >1339894.2434</td>\n",
       "      <td id=\"T_6a94f_row2_col4\" class=\"data row2 col4\" >1569133.3983</td>\n",
       "      <td id=\"T_6a94f_row2_col5\" class=\"data row2 col5\" >1.1036</td>\n",
       "      <td id=\"T_6a94f_row2_col6\" class=\"data row2 col6\" >0.5241</td>\n",
       "      <td id=\"T_6a94f_row2_col7\" class=\"data row2 col7\" >-1.7843</td>\n",
       "      <td id=\"T_6a94f_row2_col8\" class=\"data row2 col8\" >1.0300</td>\n",
       "    </tr>\n",
       "    <tr>\n",
       "      <th id=\"T_6a94f_level0_row3\" class=\"row_heading level0 row3\" >gbr_cds_dt</th>\n",
       "      <td id=\"T_6a94f_row3_col0\" class=\"data row3 col0\" >Gradient Boosting w/ Cond. Deseasonalize & Detrending</td>\n",
       "      <td id=\"T_6a94f_row3_col1\" class=\"data row3 col1\" >1.0805</td>\n",
       "      <td id=\"T_6a94f_row3_col2\" class=\"data row3 col2\" >1.0483</td>\n",
       "      <td id=\"T_6a94f_row3_col3\" class=\"data row3 col3\" >1385230.2809</td>\n",
       "      <td id=\"T_6a94f_row3_col4\" class=\"data row3 col4\" >1710670.3708</td>\n",
       "      <td id=\"T_6a94f_row3_col5\" class=\"data row3 col5\" >1.1046</td>\n",
       "      <td id=\"T_6a94f_row3_col6\" class=\"data row3 col6\" >0.5220</td>\n",
       "      <td id=\"T_6a94f_row3_col7\" class=\"data row3 col7\" >-2.3625</td>\n",
       "      <td id=\"T_6a94f_row3_col8\" class=\"data row3 col8\" >0.0900</td>\n",
       "    </tr>\n",
       "    <tr>\n",
       "      <th id=\"T_6a94f_level0_row4\" class=\"row_heading level0 row4\" >huber_cds_dt</th>\n",
       "      <td id=\"T_6a94f_row4_col0\" class=\"data row4 col0\" >Huber w/ Cond. Deseasonalize & Detrending</td>\n",
       "      <td id=\"T_6a94f_row4_col1\" class=\"data row4 col1\" >1.0441</td>\n",
       "      <td id=\"T_6a94f_row4_col2\" class=\"data row4 col2\" >0.9635</td>\n",
       "      <td id=\"T_6a94f_row4_col3\" class=\"data row4 col3\" >1340480.5478</td>\n",
       "      <td id=\"T_6a94f_row4_col4\" class=\"data row4 col4\" >1569563.7466</td>\n",
       "      <td id=\"T_6a94f_row4_col5\" class=\"data row4 col5\" >1.1047</td>\n",
       "      <td id=\"T_6a94f_row4_col6\" class=\"data row4 col6\" >0.5240</td>\n",
       "      <td id=\"T_6a94f_row4_col7\" class=\"data row4 col7\" >-1.7929</td>\n",
       "      <td id=\"T_6a94f_row4_col8\" class=\"data row4 col8\" >0.0767</td>\n",
       "    </tr>\n",
       "    <tr>\n",
       "      <th id=\"T_6a94f_level0_row5\" class=\"row_heading level0 row5\" >rf_cds_dt</th>\n",
       "      <td id=\"T_6a94f_row5_col0\" class=\"data row5 col0\" >Random Forest w/ Cond. Deseasonalize & Detrending</td>\n",
       "      <td id=\"T_6a94f_row5_col1\" class=\"data row5 col1\" >1.1839</td>\n",
       "      <td id=\"T_6a94f_row5_col2\" class=\"data row5 col2\" >1.0985</td>\n",
       "      <td id=\"T_6a94f_row5_col3\" class=\"data row5 col3\" >1524289.2788</td>\n",
       "      <td id=\"T_6a94f_row5_col4\" class=\"data row5 col4\" >1798450.8500</td>\n",
       "      <td id=\"T_6a94f_row5_col5\" class=\"data row5 col5\" >1.1068</td>\n",
       "      <td id=\"T_6a94f_row5_col6\" class=\"data row5 col6\" >0.6066</td>\n",
       "      <td id=\"T_6a94f_row5_col7\" class=\"data row5 col7\" >-2.7834</td>\n",
       "      <td id=\"T_6a94f_row5_col8\" class=\"data row5 col8\" >0.1900</td>\n",
       "    </tr>\n",
       "    <tr>\n",
       "      <th id=\"T_6a94f_level0_row6\" class=\"row_heading level0 row6\" >br_cds_dt</th>\n",
       "      <td id=\"T_6a94f_row6_col0\" class=\"data row6 col0\" >Bayesian Ridge w/ Cond. Deseasonalize & Detrending</td>\n",
       "      <td id=\"T_6a94f_row6_col1\" class=\"data row6 col1\" >1.0487</td>\n",
       "      <td id=\"T_6a94f_row6_col2\" class=\"data row6 col2\" >0.9648</td>\n",
       "      <td id=\"T_6a94f_row6_col3\" class=\"data row6 col3\" >1346755.5098</td>\n",
       "      <td id=\"T_6a94f_row6_col4\" class=\"data row6 col4\" >1571943.4278</td>\n",
       "      <td id=\"T_6a94f_row6_col5\" class=\"data row6 col5\" >1.1147</td>\n",
       "      <td id=\"T_6a94f_row6_col6\" class=\"data row6 col6\" >0.5253</td>\n",
       "      <td id=\"T_6a94f_row6_col7\" class=\"data row6 col7\" >-1.8210</td>\n",
       "      <td id=\"T_6a94f_row6_col8\" class=\"data row6 col8\" >0.1267</td>\n",
       "    </tr>\n",
       "    <tr>\n",
       "      <th id=\"T_6a94f_level0_row7\" class=\"row_heading level0 row7\" >en_cds_dt</th>\n",
       "      <td id=\"T_6a94f_row7_col0\" class=\"data row7 col0\" >Elastic Net w/ Cond. Deseasonalize & Detrending</td>\n",
       "      <td id=\"T_6a94f_row7_col1\" class=\"data row7 col1\" >1.0530</td>\n",
       "      <td id=\"T_6a94f_row7_col2\" class=\"data row7 col2\" >0.9681</td>\n",
       "      <td id=\"T_6a94f_row7_col3\" class=\"data row7 col3\" >1352377.9911</td>\n",
       "      <td id=\"T_6a94f_row7_col4\" class=\"data row7 col4\" >1577265.2655</td>\n",
       "      <td id=\"T_6a94f_row7_col5\" class=\"data row7 col5\" >1.1189</td>\n",
       "      <td id=\"T_6a94f_row7_col6\" class=\"data row7 col6\" >0.5269</td>\n",
       "      <td id=\"T_6a94f_row7_col7\" class=\"data row7 col7\" >-1.8437</td>\n",
       "      <td id=\"T_6a94f_row7_col8\" class=\"data row7 col8\" >0.1333</td>\n",
       "    </tr>\n",
       "    <tr>\n",
       "      <th id=\"T_6a94f_level0_row8\" class=\"row_heading level0 row8\" >ridge_cds_dt</th>\n",
       "      <td id=\"T_6a94f_row8_col0\" class=\"data row8 col0\" >Ridge w/ Cond. Deseasonalize & Detrending</td>\n",
       "      <td id=\"T_6a94f_row8_col1\" class=\"data row8 col1\" >1.0530</td>\n",
       "      <td id=\"T_6a94f_row8_col2\" class=\"data row8 col2\" >0.9681</td>\n",
       "      <td id=\"T_6a94f_row8_col3\" class=\"data row8 col3\" >1352377.9911</td>\n",
       "      <td id=\"T_6a94f_row8_col4\" class=\"data row8 col4\" >1577265.2655</td>\n",
       "      <td id=\"T_6a94f_row8_col5\" class=\"data row8 col5\" >1.1189</td>\n",
       "      <td id=\"T_6a94f_row8_col6\" class=\"data row8 col6\" >0.5269</td>\n",
       "      <td id=\"T_6a94f_row8_col7\" class=\"data row8 col7\" >-1.8437</td>\n",
       "      <td id=\"T_6a94f_row8_col8\" class=\"data row8 col8\" >0.1367</td>\n",
       "    </tr>\n",
       "    <tr>\n",
       "      <th id=\"T_6a94f_level0_row9\" class=\"row_heading level0 row9\" >lr_cds_dt</th>\n",
       "      <td id=\"T_6a94f_row9_col0\" class=\"data row9 col0\" >Linear w/ Cond. Deseasonalize & Detrending</td>\n",
       "      <td id=\"T_6a94f_row9_col1\" class=\"data row9 col1\" >1.0530</td>\n",
       "      <td id=\"T_6a94f_row9_col2\" class=\"data row9 col2\" >0.9681</td>\n",
       "      <td id=\"T_6a94f_row9_col3\" class=\"data row9 col3\" >1352377.9911</td>\n",
       "      <td id=\"T_6a94f_row9_col4\" class=\"data row9 col4\" >1577265.2655</td>\n",
       "      <td id=\"T_6a94f_row9_col5\" class=\"data row9 col5\" >1.1189</td>\n",
       "      <td id=\"T_6a94f_row9_col6\" class=\"data row9 col6\" >0.5269</td>\n",
       "      <td id=\"T_6a94f_row9_col7\" class=\"data row9 col7\" >-1.8437</td>\n",
       "      <td id=\"T_6a94f_row9_col8\" class=\"data row9 col8\" >0.1400</td>\n",
       "    </tr>\n",
       "    <tr>\n",
       "      <th id=\"T_6a94f_level0_row10\" class=\"row_heading level0 row10\" >omp_cds_dt</th>\n",
       "      <td id=\"T_6a94f_row10_col0\" class=\"data row10 col0\" >Orthogonal Matching Pursuit w/ Cond. Deseasonalize & Detrending</td>\n",
       "      <td id=\"T_6a94f_row10_col1\" class=\"data row10 col1\" >1.0530</td>\n",
       "      <td id=\"T_6a94f_row10_col2\" class=\"data row10 col2\" >0.9681</td>\n",
       "      <td id=\"T_6a94f_row10_col3\" class=\"data row10 col3\" >1352377.9911</td>\n",
       "      <td id=\"T_6a94f_row10_col4\" class=\"data row10 col4\" >1577265.2655</td>\n",
       "      <td id=\"T_6a94f_row10_col5\" class=\"data row10 col5\" >1.1189</td>\n",
       "      <td id=\"T_6a94f_row10_col6\" class=\"data row10 col6\" >0.5269</td>\n",
       "      <td id=\"T_6a94f_row10_col7\" class=\"data row10 col7\" >-1.8437</td>\n",
       "      <td id=\"T_6a94f_row10_col8\" class=\"data row10 col8\" >0.0767</td>\n",
       "    </tr>\n",
       "    <tr>\n",
       "      <th id=\"T_6a94f_level0_row11\" class=\"row_heading level0 row11\" >lasso_cds_dt</th>\n",
       "      <td id=\"T_6a94f_row11_col0\" class=\"data row11 col0\" >Lasso w/ Cond. Deseasonalize & Detrending</td>\n",
       "      <td id=\"T_6a94f_row11_col1\" class=\"data row11 col1\" >1.0530</td>\n",
       "      <td id=\"T_6a94f_row11_col2\" class=\"data row11 col2\" >0.9681</td>\n",
       "      <td id=\"T_6a94f_row11_col3\" class=\"data row11 col3\" >1352377.9911</td>\n",
       "      <td id=\"T_6a94f_row11_col4\" class=\"data row11 col4\" >1577265.2655</td>\n",
       "      <td id=\"T_6a94f_row11_col5\" class=\"data row11 col5\" >1.1189</td>\n",
       "      <td id=\"T_6a94f_row11_col6\" class=\"data row11 col6\" >0.5269</td>\n",
       "      <td id=\"T_6a94f_row11_col7\" class=\"data row11 col7\" >-1.8437</td>\n",
       "      <td id=\"T_6a94f_row11_col8\" class=\"data row11 col8\" >0.1367</td>\n",
       "    </tr>\n",
       "    <tr>\n",
       "      <th id=\"T_6a94f_level0_row12\" class=\"row_heading level0 row12\" >llar_cds_dt</th>\n",
       "      <td id=\"T_6a94f_row12_col0\" class=\"data row12 col0\" >Lasso Least Angular Regressor w/ Cond. Deseasonalize & Detrending</td>\n",
       "      <td id=\"T_6a94f_row12_col1\" class=\"data row12 col1\" >1.0530</td>\n",
       "      <td id=\"T_6a94f_row12_col2\" class=\"data row12 col2\" >0.9681</td>\n",
       "      <td id=\"T_6a94f_row12_col3\" class=\"data row12 col3\" >1352377.9911</td>\n",
       "      <td id=\"T_6a94f_row12_col4\" class=\"data row12 col4\" >1577265.2655</td>\n",
       "      <td id=\"T_6a94f_row12_col5\" class=\"data row12 col5\" >1.1189</td>\n",
       "      <td id=\"T_6a94f_row12_col6\" class=\"data row12 col6\" >0.5269</td>\n",
       "      <td id=\"T_6a94f_row12_col7\" class=\"data row12 col7\" >-1.8437</td>\n",
       "      <td id=\"T_6a94f_row12_col8\" class=\"data row12 col8\" >0.1367</td>\n",
       "    </tr>\n",
       "    <tr>\n",
       "      <th id=\"T_6a94f_level0_row13\" class=\"row_heading level0 row13\" >lightgbm_cds_dt</th>\n",
       "      <td id=\"T_6a94f_row13_col0\" class=\"data row13 col0\" >Light Gradient Boosting w/ Cond. Deseasonalize & Detrending</td>\n",
       "      <td id=\"T_6a94f_row13_col1\" class=\"data row13 col1\" >1.0494</td>\n",
       "      <td id=\"T_6a94f_row13_col2\" class=\"data row13 col2\" >0.9304</td>\n",
       "      <td id=\"T_6a94f_row13_col3\" class=\"data row13 col3\" >1348173.6194</td>\n",
       "      <td id=\"T_6a94f_row13_col4\" class=\"data row13 col4\" >1518044.1183</td>\n",
       "      <td id=\"T_6a94f_row13_col5\" class=\"data row13 col5\" >1.1415</td>\n",
       "      <td id=\"T_6a94f_row13_col6\" class=\"data row13 col6\" >0.5272</td>\n",
       "      <td id=\"T_6a94f_row13_col7\" class=\"data row13 col7\" >-1.7394</td>\n",
       "      <td id=\"T_6a94f_row13_col8\" class=\"data row13 col8\" >0.1933</td>\n",
       "    </tr>\n",
       "    <tr>\n",
       "      <th id=\"T_6a94f_level0_row14\" class=\"row_heading level0 row14\" >theta</th>\n",
       "      <td id=\"T_6a94f_row14_col0\" class=\"data row14 col0\" >Theta Forecaster</td>\n",
       "      <td id=\"T_6a94f_row14_col1\" class=\"data row14 col1\" >1.0502</td>\n",
       "      <td id=\"T_6a94f_row14_col2\" class=\"data row14 col2\" >0.9597</td>\n",
       "      <td id=\"T_6a94f_row14_col3\" class=\"data row14 col3\" >1349987.1742</td>\n",
       "      <td id=\"T_6a94f_row14_col4\" class=\"data row14 col4\" >1565532.6557</td>\n",
       "      <td id=\"T_6a94f_row14_col5\" class=\"data row14 col5\" >1.1431</td>\n",
       "      <td id=\"T_6a94f_row14_col6\" class=\"data row14 col6\" >0.5235</td>\n",
       "      <td id=\"T_6a94f_row14_col7\" class=\"data row14 col7\" >-1.9053</td>\n",
       "      <td id=\"T_6a94f_row14_col8\" class=\"data row14 col8\" >0.7633</td>\n",
       "    </tr>\n",
       "    <tr>\n",
       "      <th id=\"T_6a94f_level0_row15\" class=\"row_heading level0 row15\" >knn_cds_dt</th>\n",
       "      <td id=\"T_6a94f_row15_col0\" class=\"data row15 col0\" >K Neighbors w/ Cond. Deseasonalize & Detrending</td>\n",
       "      <td id=\"T_6a94f_row15_col1\" class=\"data row15 col1\" >1.1045</td>\n",
       "      <td id=\"T_6a94f_row15_col2\" class=\"data row15 col2\" >1.0137</td>\n",
       "      <td id=\"T_6a94f_row15_col3\" class=\"data row15 col3\" >1423183.4017</td>\n",
       "      <td id=\"T_6a94f_row15_col4\" class=\"data row15 col4\" >1659423.9182</td>\n",
       "      <td id=\"T_6a94f_row15_col5\" class=\"data row15 col5\" >1.2098</td>\n",
       "      <td id=\"T_6a94f_row15_col6\" class=\"data row15 col6\" >0.5351</td>\n",
       "      <td id=\"T_6a94f_row15_col7\" class=\"data row15 col7\" >-2.4173</td>\n",
       "      <td id=\"T_6a94f_row15_col8\" class=\"data row15 col8\" >0.1600</td>\n",
       "    </tr>\n",
       "    <tr>\n",
       "      <th id=\"T_6a94f_level0_row16\" class=\"row_heading level0 row16\" >et_cds_dt</th>\n",
       "      <td id=\"T_6a94f_row16_col0\" class=\"data row16 col0\" >Extra Trees w/ Cond. Deseasonalize & Detrending</td>\n",
       "      <td id=\"T_6a94f_row16_col1\" class=\"data row16 col1\" >1.2628</td>\n",
       "      <td id=\"T_6a94f_row16_col2\" class=\"data row16 col2\" >1.1690</td>\n",
       "      <td id=\"T_6a94f_row16_col3\" class=\"data row16 col3\" >1624448.4928</td>\n",
       "      <td id=\"T_6a94f_row16_col4\" class=\"data row16 col4\" >1910724.6135</td>\n",
       "      <td id=\"T_6a94f_row16_col5\" class=\"data row16 col5\" >1.2554</td>\n",
       "      <td id=\"T_6a94f_row16_col6\" class=\"data row16 col6\" >0.6033</td>\n",
       "      <td id=\"T_6a94f_row16_col7\" class=\"data row16 col7\" >-3.5790</td>\n",
       "      <td id=\"T_6a94f_row16_col8\" class=\"data row16 col8\" >0.1933</td>\n",
       "    </tr>\n",
       "    <tr>\n",
       "      <th id=\"T_6a94f_level0_row17\" class=\"row_heading level0 row17\" >xgboost_cds_dt</th>\n",
       "      <td id=\"T_6a94f_row17_col0\" class=\"data row17 col0\" >Extreme Gradient Boosting w/ Cond. Deseasonalize & Detrending</td>\n",
       "      <td id=\"T_6a94f_row17_col1\" class=\"data row17 col1\" >1.1817</td>\n",
       "      <td id=\"T_6a94f_row17_col2\" class=\"data row17 col2\" >1.1627</td>\n",
       "      <td id=\"T_6a94f_row17_col3\" class=\"data row17 col3\" >1513359.4054</td>\n",
       "      <td id=\"T_6a94f_row17_col4\" class=\"data row17 col4\" >1896964.2792</td>\n",
       "      <td id=\"T_6a94f_row17_col5\" class=\"data row17 col5\" >1.3703</td>\n",
       "      <td id=\"T_6a94f_row17_col6\" class=\"data row17 col6\" >0.6315</td>\n",
       "      <td id=\"T_6a94f_row17_col7\" class=\"data row17 col7\" >-3.4847</td>\n",
       "      <td id=\"T_6a94f_row17_col8\" class=\"data row17 col8\" >0.4833</td>\n",
       "    </tr>\n",
       "    <tr>\n",
       "      <th id=\"T_6a94f_level0_row18\" class=\"row_heading level0 row18\" >exp_smooth</th>\n",
       "      <td id=\"T_6a94f_row18_col0\" class=\"data row18 col0\" >Exponential Smoothing</td>\n",
       "      <td id=\"T_6a94f_row18_col1\" class=\"data row18 col1\" >1.2537</td>\n",
       "      <td id=\"T_6a94f_row18_col2\" class=\"data row18 col2\" >1.0898</td>\n",
       "      <td id=\"T_6a94f_row18_col3\" class=\"data row18 col3\" >1622188.8650</td>\n",
       "      <td id=\"T_6a94f_row18_col4\" class=\"data row18 col4\" >1784418.0480</td>\n",
       "      <td id=\"T_6a94f_row18_col5\" class=\"data row18 col5\" >1.3775</td>\n",
       "      <td id=\"T_6a94f_row18_col6\" class=\"data row18 col6\" >0.5767</td>\n",
       "      <td id=\"T_6a94f_row18_col7\" class=\"data row18 col7\" >-3.5492</td>\n",
       "      <td id=\"T_6a94f_row18_col8\" class=\"data row18 col8\" >0.8333</td>\n",
       "    </tr>\n",
       "    <tr>\n",
       "      <th id=\"T_6a94f_level0_row19\" class=\"row_heading level0 row19\" >ets</th>\n",
       "      <td id=\"T_6a94f_row19_col0\" class=\"data row19 col0\" >ETS</td>\n",
       "      <td id=\"T_6a94f_row19_col1\" class=\"data row19 col1\" >1.2576</td>\n",
       "      <td id=\"T_6a94f_row19_col2\" class=\"data row19 col2\" >1.0963</td>\n",
       "      <td id=\"T_6a94f_row19_col3\" class=\"data row19 col3\" >1627267.1985</td>\n",
       "      <td id=\"T_6a94f_row19_col4\" class=\"data row19 col4\" >1794971.5079</td>\n",
       "      <td id=\"T_6a94f_row19_col5\" class=\"data row19 col5\" >1.3788</td>\n",
       "      <td id=\"T_6a94f_row19_col6\" class=\"data row19 col6\" >0.5779</td>\n",
       "      <td id=\"T_6a94f_row19_col7\" class=\"data row19 col7\" >-3.5894</td>\n",
       "      <td id=\"T_6a94f_row19_col8\" class=\"data row19 col8\" >0.8433</td>\n",
       "    </tr>\n",
       "    <tr>\n",
       "      <th id=\"T_6a94f_level0_row20\" class=\"row_heading level0 row20\" >dt_cds_dt</th>\n",
       "      <td id=\"T_6a94f_row20_col0\" class=\"data row20 col0\" >Decision Tree w/ Cond. Deseasonalize & Detrending</td>\n",
       "      <td id=\"T_6a94f_row20_col1\" class=\"data row20 col1\" >1.2751</td>\n",
       "      <td id=\"T_6a94f_row20_col2\" class=\"data row20 col2\" >1.2941</td>\n",
       "      <td id=\"T_6a94f_row20_col3\" class=\"data row20 col3\" >1638462.2743</td>\n",
       "      <td id=\"T_6a94f_row20_col4\" class=\"data row20 col4\" >2119332.2304</td>\n",
       "      <td id=\"T_6a94f_row20_col5\" class=\"data row20 col5\" >1.4450</td>\n",
       "      <td id=\"T_6a94f_row20_col6\" class=\"data row20 col6\" >0.5907</td>\n",
       "      <td id=\"T_6a94f_row20_col7\" class=\"data row20 col7\" >-4.4743</td>\n",
       "      <td id=\"T_6a94f_row20_col8\" class=\"data row20 col8\" >0.0700</td>\n",
       "    </tr>\n",
       "    <tr>\n",
       "      <th id=\"T_6a94f_level0_row21\" class=\"row_heading level0 row21\" >ada_cds_dt</th>\n",
       "      <td id=\"T_6a94f_row21_col0\" class=\"data row21 col0\" >AdaBoost w/ Cond. Deseasonalize & Detrending</td>\n",
       "      <td id=\"T_6a94f_row21_col1\" class=\"data row21 col1\" >1.4983</td>\n",
       "      <td id=\"T_6a94f_row21_col2\" class=\"data row21 col2\" >1.3465</td>\n",
       "      <td id=\"T_6a94f_row21_col3\" class=\"data row21 col3\" >1940901.1263</td>\n",
       "      <td id=\"T_6a94f_row21_col4\" class=\"data row21 col4\" >2209777.4585</td>\n",
       "      <td id=\"T_6a94f_row21_col5\" class=\"data row21 col5\" >1.7816</td>\n",
       "      <td id=\"T_6a94f_row21_col6\" class=\"data row21 col6\" >0.6307</td>\n",
       "      <td id=\"T_6a94f_row21_col7\" class=\"data row21 col7\" >-6.5258</td>\n",
       "      <td id=\"T_6a94f_row21_col8\" class=\"data row21 col8\" >0.0933</td>\n",
       "    </tr>\n",
       "  </tbody>\n",
       "</table>\n"
      ],
      "text/plain": [
       "<pandas.io.formats.style.Styler at 0x1a6bd1de1f0>"
      ]
     },
     "metadata": {},
     "output_type": "display_data"
    },
    {
     "data": {
      "text/html": [],
      "text/plain": [
       "<IPython.core.display.HTML object>"
      ]
     },
     "metadata": {},
     "output_type": "display_data"
    },
    {
     "data": {
      "application/vnd.plotly.v1+json": {
       "config": {
        "plotlyServerURL": "https://plot.ly"
       },
       "data": [
        {
         "line": {
          "color": "#1f77b4"
         },
         "marker": {
          "size": 5
         },
         "mode": "lines+markers",
         "name": "Forecast | Auto ARIMA",
         "showlegend": true,
         "type": "scatter",
         "x": [
          "2022-01-01T00:00:00",
          "2022-02-01T00:00:00",
          "2022-03-01T00:00:00",
          "2022-04-01T00:00:00",
          "2022-05-01T00:00:00",
          "2022-06-01T00:00:00",
          "2022-07-01T00:00:00",
          "2022-08-01T00:00:00",
          "2022-09-01T00:00:00",
          "2022-10-01T00:00:00",
          "2022-11-01T00:00:00",
          "2022-12-01T00:00:00"
         ],
         "y": [
          2545478.5632,
          2545478.5632,
          2545478.5632,
          2545478.5632,
          2545478.5632,
          2545478.5632,
          2545478.5632,
          2545478.5632,
          2545478.5632,
          2545478.5632,
          2545478.5632,
          2545478.5632
         ]
        },
        {
         "line": {
          "width": 0
         },
         "marker": {
          "color": "#68BBE3"
         },
         "mode": "lines",
         "name": "Lower Interval",
         "showlegend": false,
         "type": "scatter",
         "x": [
          "2022-01-01T00:00:00",
          "2022-02-01T00:00:00",
          "2022-03-01T00:00:00",
          "2022-04-01T00:00:00",
          "2022-05-01T00:00:00",
          "2022-06-01T00:00:00",
          "2022-07-01T00:00:00",
          "2022-08-01T00:00:00",
          "2022-09-01T00:00:00",
          "2022-10-01T00:00:00",
          "2022-11-01T00:00:00",
          "2022-12-01T00:00:00"
         ],
         "y": [
          413600.8539,
          413600.8539,
          413600.8539,
          413600.8539,
          413600.8539,
          413600.8539,
          413600.8539,
          413600.8539,
          413600.8539,
          413600.8539,
          413600.8539,
          413600.8539
         ]
        },
        {
         "fill": "tonexty",
         "fillcolor": "rgba(104,187,227,0.5)",
         "line": {
          "width": 0
         },
         "marker": {
          "color": "#68BBE3"
         },
         "mode": "lines",
         "name": "Prediction Interval | Auto ARIMA",
         "showlegend": true,
         "type": "scatter",
         "x": [
          "2022-01-01T00:00:00",
          "2022-02-01T00:00:00",
          "2022-03-01T00:00:00",
          "2022-04-01T00:00:00",
          "2022-05-01T00:00:00",
          "2022-06-01T00:00:00",
          "2022-07-01T00:00:00",
          "2022-08-01T00:00:00",
          "2022-09-01T00:00:00",
          "2022-10-01T00:00:00",
          "2022-11-01T00:00:00",
          "2022-12-01T00:00:00"
         ],
         "y": [
          4677356.2725,
          4677356.2725,
          4677356.2725,
          4677356.2725,
          4677356.2725,
          4677356.2725,
          4677356.2725,
          4677356.2725,
          4677356.2725,
          4677356.2725,
          4677356.2725,
          4677356.2725
         ]
        },
        {
         "marker": {
          "color": "#3f3f3f",
          "size": 5
         },
         "mode": "lines+markers",
         "name": "Original",
         "showlegend": true,
         "type": "scatter",
         "x": [
          "2016-01-01T00:00:00",
          "2016-02-01T00:00:00",
          "2016-03-01T00:00:00",
          "2016-04-01T00:00:00",
          "2016-05-01T00:00:00",
          "2016-06-01T00:00:00",
          "2016-07-01T00:00:00",
          "2016-08-01T00:00:00",
          "2016-09-01T00:00:00",
          "2016-10-01T00:00:00",
          "2016-11-01T00:00:00",
          "2016-12-01T00:00:00",
          "2017-01-01T00:00:00",
          "2017-02-01T00:00:00",
          "2017-03-01T00:00:00",
          "2017-04-01T00:00:00",
          "2017-05-01T00:00:00",
          "2017-06-01T00:00:00",
          "2017-07-01T00:00:00",
          "2017-08-01T00:00:00",
          "2017-09-01T00:00:00",
          "2017-10-01T00:00:00",
          "2017-11-01T00:00:00",
          "2017-12-01T00:00:00",
          "2018-01-01T00:00:00",
          "2018-02-01T00:00:00",
          "2018-03-01T00:00:00",
          "2018-04-01T00:00:00",
          "2018-05-01T00:00:00",
          "2018-06-01T00:00:00",
          "2018-07-01T00:00:00",
          "2018-08-01T00:00:00",
          "2018-09-01T00:00:00",
          "2018-10-01T00:00:00",
          "2018-11-01T00:00:00",
          "2018-12-01T00:00:00",
          "2019-01-01T00:00:00",
          "2019-02-01T00:00:00",
          "2019-03-01T00:00:00",
          "2019-04-01T00:00:00",
          "2019-05-01T00:00:00",
          "2019-06-01T00:00:00",
          "2019-07-01T00:00:00",
          "2019-08-01T00:00:00",
          "2019-09-01T00:00:00",
          "2019-10-01T00:00:00",
          "2019-11-01T00:00:00",
          "2019-12-01T00:00:00",
          "2020-01-01T00:00:00",
          "2020-02-01T00:00:00",
          "2020-03-01T00:00:00",
          "2020-04-01T00:00:00",
          "2020-05-01T00:00:00",
          "2020-06-01T00:00:00",
          "2020-07-01T00:00:00",
          "2020-08-01T00:00:00",
          "2020-09-01T00:00:00",
          "2020-10-01T00:00:00",
          "2020-11-01T00:00:00",
          "2020-12-01T00:00:00",
          "2021-01-01T00:00:00",
          "2021-02-01T00:00:00",
          "2021-03-01T00:00:00",
          "2021-04-01T00:00:00",
          "2021-05-01T00:00:00",
          "2021-06-01T00:00:00",
          "2021-07-01T00:00:00",
          "2021-08-01T00:00:00",
          "2021-09-01T00:00:00",
          "2021-10-01T00:00:00",
          "2021-11-01T00:00:00",
          "2021-12-01T00:00:00",
          "2022-01-01T00:00:00",
          "2022-02-01T00:00:00",
          "2022-03-01T00:00:00",
          "2022-04-01T00:00:00",
          "2022-05-01T00:00:00",
          "2022-06-01T00:00:00",
          "2022-07-01T00:00:00",
          "2022-08-01T00:00:00",
          "2022-09-01T00:00:00",
          "2022-10-01T00:00:00",
          "2022-11-01T00:00:00",
          "2022-12-01T00:00:00"
         ],
         "y": [
          1076855.07,
          1305615.57,
          1774890.8699999999,
          852505.2300000002,
          3399714.4999999995,
          1790391.7,
          2031853.38,
          2814765.6700000004,
          1841877.01,
          1765562.42,
          3749318.49,
          1618833.26,
          2629869,
          5179593.64,
          2193553.44,
          4171031.8100000005,
          2119525.2199999997,
          3508167.9000000004,
          2957970.5200000005,
          6268703.35,
          3512832.7199999997,
          1152439.6800000002,
          2104794.3899999997,
          2844600.43,
          1931032.72,
          1530956.05,
          827656.62,
          2626379.2800000003,
          3665062.789999999,
          2277555.2900000005,
          3112857.0599999996,
          2903536.9799999995,
          3059898.2699999996,
          2613242.41,
          2259003.0199999996,
          6203890.19,
          1382350.4900000002,
          286782.76999999996,
          378435.39999999997,
          777248.4299999999,
          1859274.14,
          1008955.0300000001,
          2978090.35,
          1872471.0700000003,
          2371841.5300000003,
          1449057.7599999998,
          2528551.81,
          2630136.52,
          1851173.7899999998,
          1253972.1500000001,
          1311327.6600000001,
          3240286.8200000008,
          2024522.5999999996,
          2433237.66,
          2810435.58,
          2394048.09,
          1590849.65,
          3884262.83,
          3459080.1699999995,
          1996903.1500000001,
          5327598.8100000005,
          1130944.29,
          5035752.4399999995,
          1776966.5000000002,
          2315630.25,
          5564576.09,
          4189142.0399999996,
          2568260.2600000002,
          1944002.8800000001,
          4448633.850000001,
          2048084.43,
          3475233.3100000005,
          1879024.05,
          3381362.1799999997,
          4701960.42,
          2716010.2300000004,
          3033480.75,
          2327011.2399999998,
          3528076.6699999995,
          1966859.18,
          2672275.26,
          2745284.1799999997,
          2967981.2799999993,
          3144129.17
         ]
        }
       ],
       "layout": {
        "showlegend": true,
        "template": {
         "data": {
          "bar": [
           {
            "error_x": {
             "color": "rgb(51,51,51)"
            },
            "error_y": {
             "color": "rgb(51,51,51)"
            },
            "marker": {
             "line": {
              "color": "rgb(237,237,237)",
              "width": 0.5
             },
             "pattern": {
              "fillmode": "overlay",
              "size": 10,
              "solidity": 0.2
             }
            },
            "type": "bar"
           }
          ],
          "barpolar": [
           {
            "marker": {
             "line": {
              "color": "rgb(237,237,237)",
              "width": 0.5
             },
             "pattern": {
              "fillmode": "overlay",
              "size": 10,
              "solidity": 0.2
             }
            },
            "type": "barpolar"
           }
          ],
          "carpet": [
           {
            "aaxis": {
             "endlinecolor": "rgb(51,51,51)",
             "gridcolor": "white",
             "linecolor": "white",
             "minorgridcolor": "white",
             "startlinecolor": "rgb(51,51,51)"
            },
            "baxis": {
             "endlinecolor": "rgb(51,51,51)",
             "gridcolor": "white",
             "linecolor": "white",
             "minorgridcolor": "white",
             "startlinecolor": "rgb(51,51,51)"
            },
            "type": "carpet"
           }
          ],
          "choropleth": [
           {
            "colorbar": {
             "outlinewidth": 0,
             "tickcolor": "rgb(237,237,237)",
             "ticklen": 6,
             "ticks": "inside"
            },
            "type": "choropleth"
           }
          ],
          "contour": [
           {
            "colorbar": {
             "outlinewidth": 0,
             "tickcolor": "rgb(237,237,237)",
             "ticklen": 6,
             "ticks": "inside"
            },
            "colorscale": [
             [
              0,
              "rgb(20,44,66)"
             ],
             [
              1,
              "rgb(90,179,244)"
             ]
            ],
            "type": "contour"
           }
          ],
          "contourcarpet": [
           {
            "colorbar": {
             "outlinewidth": 0,
             "tickcolor": "rgb(237,237,237)",
             "ticklen": 6,
             "ticks": "inside"
            },
            "type": "contourcarpet"
           }
          ],
          "heatmap": [
           {
            "colorbar": {
             "outlinewidth": 0,
             "tickcolor": "rgb(237,237,237)",
             "ticklen": 6,
             "ticks": "inside"
            },
            "colorscale": [
             [
              0,
              "rgb(20,44,66)"
             ],
             [
              1,
              "rgb(90,179,244)"
             ]
            ],
            "type": "heatmap"
           }
          ],
          "heatmapgl": [
           {
            "colorbar": {
             "outlinewidth": 0,
             "tickcolor": "rgb(237,237,237)",
             "ticklen": 6,
             "ticks": "inside"
            },
            "colorscale": [
             [
              0,
              "rgb(20,44,66)"
             ],
             [
              1,
              "rgb(90,179,244)"
             ]
            ],
            "type": "heatmapgl"
           }
          ],
          "histogram": [
           {
            "marker": {
             "pattern": {
              "fillmode": "overlay",
              "size": 10,
              "solidity": 0.2
             }
            },
            "type": "histogram"
           }
          ],
          "histogram2d": [
           {
            "colorbar": {
             "outlinewidth": 0,
             "tickcolor": "rgb(237,237,237)",
             "ticklen": 6,
             "ticks": "inside"
            },
            "colorscale": [
             [
              0,
              "rgb(20,44,66)"
             ],
             [
              1,
              "rgb(90,179,244)"
             ]
            ],
            "type": "histogram2d"
           }
          ],
          "histogram2dcontour": [
           {
            "colorbar": {
             "outlinewidth": 0,
             "tickcolor": "rgb(237,237,237)",
             "ticklen": 6,
             "ticks": "inside"
            },
            "colorscale": [
             [
              0,
              "rgb(20,44,66)"
             ],
             [
              1,
              "rgb(90,179,244)"
             ]
            ],
            "type": "histogram2dcontour"
           }
          ],
          "mesh3d": [
           {
            "colorbar": {
             "outlinewidth": 0,
             "tickcolor": "rgb(237,237,237)",
             "ticklen": 6,
             "ticks": "inside"
            },
            "type": "mesh3d"
           }
          ],
          "parcoords": [
           {
            "line": {
             "colorbar": {
              "outlinewidth": 0,
              "tickcolor": "rgb(237,237,237)",
              "ticklen": 6,
              "ticks": "inside"
             }
            },
            "type": "parcoords"
           }
          ],
          "pie": [
           {
            "automargin": true,
            "type": "pie"
           }
          ],
          "scatter": [
           {
            "fillpattern": {
             "fillmode": "overlay",
             "size": 10,
             "solidity": 0.2
            },
            "type": "scatter"
           }
          ],
          "scatter3d": [
           {
            "line": {
             "colorbar": {
              "outlinewidth": 0,
              "tickcolor": "rgb(237,237,237)",
              "ticklen": 6,
              "ticks": "inside"
             }
            },
            "marker": {
             "colorbar": {
              "outlinewidth": 0,
              "tickcolor": "rgb(237,237,237)",
              "ticklen": 6,
              "ticks": "inside"
             }
            },
            "type": "scatter3d"
           }
          ],
          "scattercarpet": [
           {
            "marker": {
             "colorbar": {
              "outlinewidth": 0,
              "tickcolor": "rgb(237,237,237)",
              "ticklen": 6,
              "ticks": "inside"
             }
            },
            "type": "scattercarpet"
           }
          ],
          "scattergeo": [
           {
            "marker": {
             "colorbar": {
              "outlinewidth": 0,
              "tickcolor": "rgb(237,237,237)",
              "ticklen": 6,
              "ticks": "inside"
             }
            },
            "type": "scattergeo"
           }
          ],
          "scattergl": [
           {
            "marker": {
             "colorbar": {
              "outlinewidth": 0,
              "tickcolor": "rgb(237,237,237)",
              "ticklen": 6,
              "ticks": "inside"
             }
            },
            "type": "scattergl"
           }
          ],
          "scattermapbox": [
           {
            "marker": {
             "colorbar": {
              "outlinewidth": 0,
              "tickcolor": "rgb(237,237,237)",
              "ticklen": 6,
              "ticks": "inside"
             }
            },
            "type": "scattermapbox"
           }
          ],
          "scatterpolar": [
           {
            "marker": {
             "colorbar": {
              "outlinewidth": 0,
              "tickcolor": "rgb(237,237,237)",
              "ticklen": 6,
              "ticks": "inside"
             }
            },
            "type": "scatterpolar"
           }
          ],
          "scatterpolargl": [
           {
            "marker": {
             "colorbar": {
              "outlinewidth": 0,
              "tickcolor": "rgb(237,237,237)",
              "ticklen": 6,
              "ticks": "inside"
             }
            },
            "type": "scatterpolargl"
           }
          ],
          "scatterternary": [
           {
            "marker": {
             "colorbar": {
              "outlinewidth": 0,
              "tickcolor": "rgb(237,237,237)",
              "ticklen": 6,
              "ticks": "inside"
             }
            },
            "type": "scatterternary"
           }
          ],
          "surface": [
           {
            "colorbar": {
             "outlinewidth": 0,
             "tickcolor": "rgb(237,237,237)",
             "ticklen": 6,
             "ticks": "inside"
            },
            "colorscale": [
             [
              0,
              "rgb(20,44,66)"
             ],
             [
              1,
              "rgb(90,179,244)"
             ]
            ],
            "type": "surface"
           }
          ],
          "table": [
           {
            "cells": {
             "fill": {
              "color": "rgb(237,237,237)"
             },
             "line": {
              "color": "white"
             }
            },
            "header": {
             "fill": {
              "color": "rgb(217,217,217)"
             },
             "line": {
              "color": "white"
             }
            },
            "type": "table"
           }
          ]
         },
         "layout": {
          "annotationdefaults": {
           "arrowhead": 0,
           "arrowwidth": 1
          },
          "autotypenumbers": "strict",
          "coloraxis": {
           "colorbar": {
            "outlinewidth": 0,
            "tickcolor": "rgb(237,237,237)",
            "ticklen": 6,
            "ticks": "inside"
           }
          },
          "colorscale": {
           "sequential": [
            [
             0,
             "rgb(20,44,66)"
            ],
            [
             1,
             "rgb(90,179,244)"
            ]
           ],
           "sequentialminus": [
            [
             0,
             "rgb(20,44,66)"
            ],
            [
             1,
             "rgb(90,179,244)"
            ]
           ]
          },
          "colorway": [
           "#F8766D",
           "#A3A500",
           "#00BF7D",
           "#00B0F6",
           "#E76BF3"
          ],
          "font": {
           "color": "rgb(51,51,51)"
          },
          "geo": {
           "bgcolor": "white",
           "lakecolor": "white",
           "landcolor": "rgb(237,237,237)",
           "showlakes": true,
           "showland": true,
           "subunitcolor": "white"
          },
          "hoverlabel": {
           "align": "left"
          },
          "hovermode": "closest",
          "paper_bgcolor": "white",
          "plot_bgcolor": "rgb(237,237,237)",
          "polar": {
           "angularaxis": {
            "gridcolor": "white",
            "linecolor": "white",
            "showgrid": true,
            "tickcolor": "rgb(51,51,51)",
            "ticks": "outside"
           },
           "bgcolor": "rgb(237,237,237)",
           "radialaxis": {
            "gridcolor": "white",
            "linecolor": "white",
            "showgrid": true,
            "tickcolor": "rgb(51,51,51)",
            "ticks": "outside"
           }
          },
          "scene": {
           "xaxis": {
            "backgroundcolor": "rgb(237,237,237)",
            "gridcolor": "white",
            "gridwidth": 2,
            "linecolor": "white",
            "showbackground": true,
            "showgrid": true,
            "tickcolor": "rgb(51,51,51)",
            "ticks": "outside",
            "zerolinecolor": "white"
           },
           "yaxis": {
            "backgroundcolor": "rgb(237,237,237)",
            "gridcolor": "white",
            "gridwidth": 2,
            "linecolor": "white",
            "showbackground": true,
            "showgrid": true,
            "tickcolor": "rgb(51,51,51)",
            "ticks": "outside",
            "zerolinecolor": "white"
           },
           "zaxis": {
            "backgroundcolor": "rgb(237,237,237)",
            "gridcolor": "white",
            "gridwidth": 2,
            "linecolor": "white",
            "showbackground": true,
            "showgrid": true,
            "tickcolor": "rgb(51,51,51)",
            "ticks": "outside",
            "zerolinecolor": "white"
           }
          },
          "shapedefaults": {
           "fillcolor": "black",
           "line": {
            "width": 0
           },
           "opacity": 0.3
          },
          "ternary": {
           "aaxis": {
            "gridcolor": "white",
            "linecolor": "white",
            "showgrid": true,
            "tickcolor": "rgb(51,51,51)",
            "ticks": "outside"
           },
           "baxis": {
            "gridcolor": "white",
            "linecolor": "white",
            "showgrid": true,
            "tickcolor": "rgb(51,51,51)",
            "ticks": "outside"
           },
           "bgcolor": "rgb(237,237,237)",
           "caxis": {
            "gridcolor": "white",
            "linecolor": "white",
            "showgrid": true,
            "tickcolor": "rgb(51,51,51)",
            "ticks": "outside"
           }
          },
          "xaxis": {
           "automargin": true,
           "gridcolor": "white",
           "linecolor": "white",
           "showgrid": true,
           "tickcolor": "rgb(51,51,51)",
           "ticks": "outside",
           "title": {
            "standoff": 15
           },
           "zerolinecolor": "white"
          },
          "yaxis": {
           "automargin": true,
           "gridcolor": "white",
           "linecolor": "white",
           "showgrid": true,
           "tickcolor": "rgb(51,51,51)",
           "ticks": "outside",
           "title": {
            "standoff": 15
           },
           "zerolinecolor": "white"
          }
         }
        },
        "title": {
         "text": "Actual vs. 'Out-of-Sample' Forecast | NET_SALES"
        },
        "xaxis": {
         "title": {
          "text": "Time"
         }
        },
        "yaxis": {
         "title": {
          "text": "Values"
         }
        }
       }
      }
     },
     "metadata": {},
     "output_type": "display_data"
    },
    {
     "data": {
      "text/html": [
       "<style type=\"text/css\">\n",
       "</style>\n",
       "<table id=\"T_5401f\">\n",
       "  <thead>\n",
       "    <tr>\n",
       "      <th class=\"blank level0\" >&nbsp;</th>\n",
       "      <th id=\"T_5401f_level0_col0\" class=\"col_heading level0 col0\" >Model</th>\n",
       "      <th id=\"T_5401f_level0_col1\" class=\"col_heading level0 col1\" >MASE</th>\n",
       "      <th id=\"T_5401f_level0_col2\" class=\"col_heading level0 col2\" >RMSSE</th>\n",
       "      <th id=\"T_5401f_level0_col3\" class=\"col_heading level0 col3\" >MAE</th>\n",
       "      <th id=\"T_5401f_level0_col4\" class=\"col_heading level0 col4\" >RMSE</th>\n",
       "      <th id=\"T_5401f_level0_col5\" class=\"col_heading level0 col5\" >MAPE</th>\n",
       "      <th id=\"T_5401f_level0_col6\" class=\"col_heading level0 col6\" >SMAPE</th>\n",
       "      <th id=\"T_5401f_level0_col7\" class=\"col_heading level0 col7\" >R2</th>\n",
       "    </tr>\n",
       "  </thead>\n",
       "  <tbody>\n",
       "    <tr>\n",
       "      <th id=\"T_5401f_level0_row0\" class=\"row_heading level0 row0\" >0</th>\n",
       "      <td id=\"T_5401f_row0_col0\" class=\"data row0 col0\" >Auto ARIMA</td>\n",
       "      <td id=\"T_5401f_row0_col1\" class=\"data row0 col1\" >0.4405</td>\n",
       "      <td id=\"T_5401f_row0_col2\" class=\"data row0 col2\" >0.4535</td>\n",
       "      <td id=\"T_5401f_row0_col3\" class=\"data row0 col3\" >620399.5242</td>\n",
       "      <td id=\"T_5401f_row0_col4\" class=\"data row0 col4\" >816569.1645</td>\n",
       "      <td id=\"T_5401f_row0_col5\" class=\"data row0 col5\" >0.2003</td>\n",
       "      <td id=\"T_5401f_row0_col6\" class=\"data row0 col6\" >0.2146</td>\n",
       "      <td id=\"T_5401f_row0_col7\" class=\"data row0 col7\" >-0.2699</td>\n",
       "    </tr>\n",
       "  </tbody>\n",
       "</table>\n"
      ],
      "text/plain": [
       "<pandas.io.formats.style.Styler at 0x1a6c02196a0>"
      ]
     },
     "metadata": {},
     "output_type": "display_data"
    },
    {
     "name": "stderr",
     "output_type": "stream",
     "text": [
      "  7%|▋         | 1/14 [00:28<06:08, 28.38s/it]"
     ]
    },
    {
     "data": {
      "text/html": [
       "<style type=\"text/css\">\n",
       "#T_bfb1a_row25_col1, #T_bfb1a_row31_col1 {\n",
       "  background-color: lightgreen;\n",
       "}\n",
       "</style>\n",
       "<table id=\"T_bfb1a\">\n",
       "  <thead>\n",
       "    <tr>\n",
       "      <th class=\"blank level0\" >&nbsp;</th>\n",
       "      <th id=\"T_bfb1a_level0_col0\" class=\"col_heading level0 col0\" >Description</th>\n",
       "      <th id=\"T_bfb1a_level0_col1\" class=\"col_heading level0 col1\" >Value</th>\n",
       "    </tr>\n",
       "  </thead>\n",
       "  <tbody>\n",
       "    <tr>\n",
       "      <th id=\"T_bfb1a_level0_row0\" class=\"row_heading level0 row0\" >0</th>\n",
       "      <td id=\"T_bfb1a_row0_col0\" class=\"data row0 col0\" >session_id</td>\n",
       "      <td id=\"T_bfb1a_row0_col1\" class=\"data row0 col1\" >123</td>\n",
       "    </tr>\n",
       "    <tr>\n",
       "      <th id=\"T_bfb1a_level0_row1\" class=\"row_heading level0 row1\" >1</th>\n",
       "      <td id=\"T_bfb1a_row1_col0\" class=\"data row1 col0\" >Target</td>\n",
       "      <td id=\"T_bfb1a_row1_col1\" class=\"data row1 col1\" >NET_SALES</td>\n",
       "    </tr>\n",
       "    <tr>\n",
       "      <th id=\"T_bfb1a_level0_row2\" class=\"row_heading level0 row2\" >2</th>\n",
       "      <td id=\"T_bfb1a_row2_col0\" class=\"data row2 col0\" >Approach</td>\n",
       "      <td id=\"T_bfb1a_row2_col1\" class=\"data row2 col1\" >Univariate</td>\n",
       "    </tr>\n",
       "    <tr>\n",
       "      <th id=\"T_bfb1a_level0_row3\" class=\"row_heading level0 row3\" >3</th>\n",
       "      <td id=\"T_bfb1a_row3_col0\" class=\"data row3 col0\" >Exogenous Variables</td>\n",
       "      <td id=\"T_bfb1a_row3_col1\" class=\"data row3 col1\" >Not Present</td>\n",
       "    </tr>\n",
       "    <tr>\n",
       "      <th id=\"T_bfb1a_level0_row4\" class=\"row_heading level0 row4\" >4</th>\n",
       "      <td id=\"T_bfb1a_row4_col0\" class=\"data row4 col0\" >Original data shape</td>\n",
       "      <td id=\"T_bfb1a_row4_col1\" class=\"data row4 col1\" >(84, 1)</td>\n",
       "    </tr>\n",
       "    <tr>\n",
       "      <th id=\"T_bfb1a_level0_row5\" class=\"row_heading level0 row5\" >5</th>\n",
       "      <td id=\"T_bfb1a_row5_col0\" class=\"data row5 col0\" >Transformed data shape</td>\n",
       "      <td id=\"T_bfb1a_row5_col1\" class=\"data row5 col1\" >(84, 1)</td>\n",
       "    </tr>\n",
       "    <tr>\n",
       "      <th id=\"T_bfb1a_level0_row6\" class=\"row_heading level0 row6\" >6</th>\n",
       "      <td id=\"T_bfb1a_row6_col0\" class=\"data row6 col0\" >Transformed train set shape</td>\n",
       "      <td id=\"T_bfb1a_row6_col1\" class=\"data row6 col1\" >(72, 1)</td>\n",
       "    </tr>\n",
       "    <tr>\n",
       "      <th id=\"T_bfb1a_level0_row7\" class=\"row_heading level0 row7\" >7</th>\n",
       "      <td id=\"T_bfb1a_row7_col0\" class=\"data row7 col0\" >Transformed test set shape</td>\n",
       "      <td id=\"T_bfb1a_row7_col1\" class=\"data row7 col1\" >(12, 1)</td>\n",
       "    </tr>\n",
       "    <tr>\n",
       "      <th id=\"T_bfb1a_level0_row8\" class=\"row_heading level0 row8\" >8</th>\n",
       "      <td id=\"T_bfb1a_row8_col0\" class=\"data row8 col0\" >Rows with missing values</td>\n",
       "      <td id=\"T_bfb1a_row8_col1\" class=\"data row8 col1\" >0.0%</td>\n",
       "    </tr>\n",
       "    <tr>\n",
       "      <th id=\"T_bfb1a_level0_row9\" class=\"row_heading level0 row9\" >9</th>\n",
       "      <td id=\"T_bfb1a_row9_col0\" class=\"data row9 col0\" >Fold Generator</td>\n",
       "      <td id=\"T_bfb1a_row9_col1\" class=\"data row9 col1\" >ExpandingWindowSplitter</td>\n",
       "    </tr>\n",
       "    <tr>\n",
       "      <th id=\"T_bfb1a_level0_row10\" class=\"row_heading level0 row10\" >10</th>\n",
       "      <td id=\"T_bfb1a_row10_col0\" class=\"data row10 col0\" >Fold Number</td>\n",
       "      <td id=\"T_bfb1a_row10_col1\" class=\"data row10 col1\" >3</td>\n",
       "    </tr>\n",
       "    <tr>\n",
       "      <th id=\"T_bfb1a_level0_row11\" class=\"row_heading level0 row11\" >11</th>\n",
       "      <td id=\"T_bfb1a_row11_col0\" class=\"data row11 col0\" >Enforce Prediction Interval</td>\n",
       "      <td id=\"T_bfb1a_row11_col1\" class=\"data row11 col1\" >False</td>\n",
       "    </tr>\n",
       "    <tr>\n",
       "      <th id=\"T_bfb1a_level0_row12\" class=\"row_heading level0 row12\" >12</th>\n",
       "      <td id=\"T_bfb1a_row12_col0\" class=\"data row12 col0\" >Splits used for hyperparameters</td>\n",
       "      <td id=\"T_bfb1a_row12_col1\" class=\"data row12 col1\" >all</td>\n",
       "    </tr>\n",
       "    <tr>\n",
       "      <th id=\"T_bfb1a_level0_row13\" class=\"row_heading level0 row13\" >13</th>\n",
       "      <td id=\"T_bfb1a_row13_col0\" class=\"data row13 col0\" >User Defined Seasonal Period(s)</td>\n",
       "      <td id=\"T_bfb1a_row13_col1\" class=\"data row13 col1\" >None</td>\n",
       "    </tr>\n",
       "    <tr>\n",
       "      <th id=\"T_bfb1a_level0_row14\" class=\"row_heading level0 row14\" >14</th>\n",
       "      <td id=\"T_bfb1a_row14_col0\" class=\"data row14 col0\" >Ignore Seasonality Test</td>\n",
       "      <td id=\"T_bfb1a_row14_col1\" class=\"data row14 col1\" >False</td>\n",
       "    </tr>\n",
       "    <tr>\n",
       "      <th id=\"T_bfb1a_level0_row15\" class=\"row_heading level0 row15\" >15</th>\n",
       "      <td id=\"T_bfb1a_row15_col0\" class=\"data row15 col0\" >Seasonality Detection Algo</td>\n",
       "      <td id=\"T_bfb1a_row15_col1\" class=\"data row15 col1\" >auto</td>\n",
       "    </tr>\n",
       "    <tr>\n",
       "      <th id=\"T_bfb1a_level0_row16\" class=\"row_heading level0 row16\" >16</th>\n",
       "      <td id=\"T_bfb1a_row16_col0\" class=\"data row16 col0\" >Max Period to Consider</td>\n",
       "      <td id=\"T_bfb1a_row16_col1\" class=\"data row16 col1\" >60</td>\n",
       "    </tr>\n",
       "    <tr>\n",
       "      <th id=\"T_bfb1a_level0_row17\" class=\"row_heading level0 row17\" >17</th>\n",
       "      <td id=\"T_bfb1a_row17_col0\" class=\"data row17 col0\" >Seasonal Period(s) Tested</td>\n",
       "      <td id=\"T_bfb1a_row17_col1\" class=\"data row17 col1\" >[2, 3]</td>\n",
       "    </tr>\n",
       "    <tr>\n",
       "      <th id=\"T_bfb1a_level0_row18\" class=\"row_heading level0 row18\" >18</th>\n",
       "      <td id=\"T_bfb1a_row18_col0\" class=\"data row18 col0\" >Significant Seasonal Period(s)</td>\n",
       "      <td id=\"T_bfb1a_row18_col1\" class=\"data row18 col1\" >[2, 3]</td>\n",
       "    </tr>\n",
       "    <tr>\n",
       "      <th id=\"T_bfb1a_level0_row19\" class=\"row_heading level0 row19\" >19</th>\n",
       "      <td id=\"T_bfb1a_row19_col0\" class=\"data row19 col0\" >Significant Seasonal Period(s) without Harmonics</td>\n",
       "      <td id=\"T_bfb1a_row19_col1\" class=\"data row19 col1\" >[2, 3]</td>\n",
       "    </tr>\n",
       "    <tr>\n",
       "      <th id=\"T_bfb1a_level0_row20\" class=\"row_heading level0 row20\" >20</th>\n",
       "      <td id=\"T_bfb1a_row20_col0\" class=\"data row20 col0\" >Remove Harmonics</td>\n",
       "      <td id=\"T_bfb1a_row20_col1\" class=\"data row20 col1\" >False</td>\n",
       "    </tr>\n",
       "    <tr>\n",
       "      <th id=\"T_bfb1a_level0_row21\" class=\"row_heading level0 row21\" >21</th>\n",
       "      <td id=\"T_bfb1a_row21_col0\" class=\"data row21 col0\" >Harmonics Order Method</td>\n",
       "      <td id=\"T_bfb1a_row21_col1\" class=\"data row21 col1\" >harmonic_max</td>\n",
       "    </tr>\n",
       "    <tr>\n",
       "      <th id=\"T_bfb1a_level0_row22\" class=\"row_heading level0 row22\" >22</th>\n",
       "      <td id=\"T_bfb1a_row22_col0\" class=\"data row22 col0\" >Num Seasonalities to Use</td>\n",
       "      <td id=\"T_bfb1a_row22_col1\" class=\"data row22 col1\" >1</td>\n",
       "    </tr>\n",
       "    <tr>\n",
       "      <th id=\"T_bfb1a_level0_row23\" class=\"row_heading level0 row23\" >23</th>\n",
       "      <td id=\"T_bfb1a_row23_col0\" class=\"data row23 col0\" >All Seasonalities to Use</td>\n",
       "      <td id=\"T_bfb1a_row23_col1\" class=\"data row23 col1\" >[2]</td>\n",
       "    </tr>\n",
       "    <tr>\n",
       "      <th id=\"T_bfb1a_level0_row24\" class=\"row_heading level0 row24\" >24</th>\n",
       "      <td id=\"T_bfb1a_row24_col0\" class=\"data row24 col0\" >Primary Seasonality</td>\n",
       "      <td id=\"T_bfb1a_row24_col1\" class=\"data row24 col1\" >2</td>\n",
       "    </tr>\n",
       "    <tr>\n",
       "      <th id=\"T_bfb1a_level0_row25\" class=\"row_heading level0 row25\" >25</th>\n",
       "      <td id=\"T_bfb1a_row25_col0\" class=\"data row25 col0\" >Seasonality Present</td>\n",
       "      <td id=\"T_bfb1a_row25_col1\" class=\"data row25 col1\" >True</td>\n",
       "    </tr>\n",
       "    <tr>\n",
       "      <th id=\"T_bfb1a_level0_row26\" class=\"row_heading level0 row26\" >26</th>\n",
       "      <td id=\"T_bfb1a_row26_col0\" class=\"data row26 col0\" >Seasonality Type</td>\n",
       "      <td id=\"T_bfb1a_row26_col1\" class=\"data row26 col1\" >mul</td>\n",
       "    </tr>\n",
       "    <tr>\n",
       "      <th id=\"T_bfb1a_level0_row27\" class=\"row_heading level0 row27\" >27</th>\n",
       "      <td id=\"T_bfb1a_row27_col0\" class=\"data row27 col0\" >Target Strictly Positive</td>\n",
       "      <td id=\"T_bfb1a_row27_col1\" class=\"data row27 col1\" >True</td>\n",
       "    </tr>\n",
       "    <tr>\n",
       "      <th id=\"T_bfb1a_level0_row28\" class=\"row_heading level0 row28\" >28</th>\n",
       "      <td id=\"T_bfb1a_row28_col0\" class=\"data row28 col0\" >Target White Noise</td>\n",
       "      <td id=\"T_bfb1a_row28_col1\" class=\"data row28 col1\" >No</td>\n",
       "    </tr>\n",
       "    <tr>\n",
       "      <th id=\"T_bfb1a_level0_row29\" class=\"row_heading level0 row29\" >29</th>\n",
       "      <td id=\"T_bfb1a_row29_col0\" class=\"data row29 col0\" >Recommended d</td>\n",
       "      <td id=\"T_bfb1a_row29_col1\" class=\"data row29 col1\" >0</td>\n",
       "    </tr>\n",
       "    <tr>\n",
       "      <th id=\"T_bfb1a_level0_row30\" class=\"row_heading level0 row30\" >30</th>\n",
       "      <td id=\"T_bfb1a_row30_col0\" class=\"data row30 col0\" >Recommended Seasonal D</td>\n",
       "      <td id=\"T_bfb1a_row30_col1\" class=\"data row30 col1\" >0</td>\n",
       "    </tr>\n",
       "    <tr>\n",
       "      <th id=\"T_bfb1a_level0_row31\" class=\"row_heading level0 row31\" >31</th>\n",
       "      <td id=\"T_bfb1a_row31_col0\" class=\"data row31 col0\" >Preprocess</td>\n",
       "      <td id=\"T_bfb1a_row31_col1\" class=\"data row31 col1\" >True</td>\n",
       "    </tr>\n",
       "    <tr>\n",
       "      <th id=\"T_bfb1a_level0_row32\" class=\"row_heading level0 row32\" >32</th>\n",
       "      <td id=\"T_bfb1a_row32_col0\" class=\"data row32 col0\" >Numerical Imputation (Target)</td>\n",
       "      <td id=\"T_bfb1a_row32_col1\" class=\"data row32 col1\" >mean</td>\n",
       "    </tr>\n",
       "    <tr>\n",
       "      <th id=\"T_bfb1a_level0_row33\" class=\"row_heading level0 row33\" >33</th>\n",
       "      <td id=\"T_bfb1a_row33_col0\" class=\"data row33 col0\" >Transformation (Target)</td>\n",
       "      <td id=\"T_bfb1a_row33_col1\" class=\"data row33 col1\" >None</td>\n",
       "    </tr>\n",
       "    <tr>\n",
       "      <th id=\"T_bfb1a_level0_row34\" class=\"row_heading level0 row34\" >34</th>\n",
       "      <td id=\"T_bfb1a_row34_col0\" class=\"data row34 col0\" >Scaling (Target)</td>\n",
       "      <td id=\"T_bfb1a_row34_col1\" class=\"data row34 col1\" >None</td>\n",
       "    </tr>\n",
       "    <tr>\n",
       "      <th id=\"T_bfb1a_level0_row35\" class=\"row_heading level0 row35\" >35</th>\n",
       "      <td id=\"T_bfb1a_row35_col0\" class=\"data row35 col0\" >Feature Engineering (Target) - Reduced Regression</td>\n",
       "      <td id=\"T_bfb1a_row35_col1\" class=\"data row35 col1\" >False</td>\n",
       "    </tr>\n",
       "    <tr>\n",
       "      <th id=\"T_bfb1a_level0_row36\" class=\"row_heading level0 row36\" >36</th>\n",
       "      <td id=\"T_bfb1a_row36_col0\" class=\"data row36 col0\" >CPU Jobs</td>\n",
       "      <td id=\"T_bfb1a_row36_col1\" class=\"data row36 col1\" >-1</td>\n",
       "    </tr>\n",
       "    <tr>\n",
       "      <th id=\"T_bfb1a_level0_row37\" class=\"row_heading level0 row37\" >37</th>\n",
       "      <td id=\"T_bfb1a_row37_col0\" class=\"data row37 col0\" >Use GPU</td>\n",
       "      <td id=\"T_bfb1a_row37_col1\" class=\"data row37 col1\" >False</td>\n",
       "    </tr>\n",
       "    <tr>\n",
       "      <th id=\"T_bfb1a_level0_row38\" class=\"row_heading level0 row38\" >38</th>\n",
       "      <td id=\"T_bfb1a_row38_col0\" class=\"data row38 col0\" >Log Experiment</td>\n",
       "      <td id=\"T_bfb1a_row38_col1\" class=\"data row38 col1\" >False</td>\n",
       "    </tr>\n",
       "    <tr>\n",
       "      <th id=\"T_bfb1a_level0_row39\" class=\"row_heading level0 row39\" >39</th>\n",
       "      <td id=\"T_bfb1a_row39_col0\" class=\"data row39 col0\" >Experiment Name</td>\n",
       "      <td id=\"T_bfb1a_row39_col1\" class=\"data row39 col1\" >ts-default-name</td>\n",
       "    </tr>\n",
       "    <tr>\n",
       "      <th id=\"T_bfb1a_level0_row40\" class=\"row_heading level0 row40\" >40</th>\n",
       "      <td id=\"T_bfb1a_row40_col0\" class=\"data row40 col0\" >USI</td>\n",
       "      <td id=\"T_bfb1a_row40_col1\" class=\"data row40 col1\" >9033</td>\n",
       "    </tr>\n",
       "  </tbody>\n",
       "</table>\n"
      ],
      "text/plain": [
       "<pandas.io.formats.style.Styler at 0x1a6c01b70a0>"
      ]
     },
     "metadata": {},
     "output_type": "display_data"
    },
    {
     "data": {
      "text/html": [],
      "text/plain": [
       "<IPython.core.display.HTML object>"
      ]
     },
     "metadata": {},
     "output_type": "display_data"
    },
    {
     "data": {
      "text/html": [
       "<style type=\"text/css\">\n",
       "#T_416da th {\n",
       "  text-align: left;\n",
       "}\n",
       "#T_416da_row0_col0, #T_416da_row1_col0, #T_416da_row1_col1, #T_416da_row1_col2, #T_416da_row1_col3, #T_416da_row1_col4, #T_416da_row1_col5, #T_416da_row1_col6, #T_416da_row1_col7, #T_416da_row2_col0, #T_416da_row2_col1, #T_416da_row2_col2, #T_416da_row2_col3, #T_416da_row2_col4, #T_416da_row2_col5, #T_416da_row2_col6, #T_416da_row2_col7, #T_416da_row3_col0, #T_416da_row3_col1, #T_416da_row3_col2, #T_416da_row3_col3, #T_416da_row3_col4, #T_416da_row3_col5, #T_416da_row3_col6, #T_416da_row3_col7, #T_416da_row4_col0, #T_416da_row4_col1, #T_416da_row4_col2, #T_416da_row4_col3, #T_416da_row4_col4, #T_416da_row4_col5, #T_416da_row4_col6, #T_416da_row4_col7, #T_416da_row5_col0, #T_416da_row5_col1, #T_416da_row5_col2, #T_416da_row5_col3, #T_416da_row5_col4, #T_416da_row5_col5, #T_416da_row5_col6, #T_416da_row5_col7, #T_416da_row6_col0, #T_416da_row6_col1, #T_416da_row6_col2, #T_416da_row6_col3, #T_416da_row6_col4, #T_416da_row6_col5, #T_416da_row6_col6, #T_416da_row6_col7, #T_416da_row7_col0, #T_416da_row7_col1, #T_416da_row7_col2, #T_416da_row7_col3, #T_416da_row7_col4, #T_416da_row7_col5, #T_416da_row7_col6, #T_416da_row7_col7, #T_416da_row8_col0, #T_416da_row8_col1, #T_416da_row8_col2, #T_416da_row8_col3, #T_416da_row8_col4, #T_416da_row8_col5, #T_416da_row8_col6, #T_416da_row8_col7, #T_416da_row9_col0, #T_416da_row9_col1, #T_416da_row9_col2, #T_416da_row9_col3, #T_416da_row9_col4, #T_416da_row9_col5, #T_416da_row9_col6, #T_416da_row9_col7, #T_416da_row10_col0, #T_416da_row10_col1, #T_416da_row10_col2, #T_416da_row10_col3, #T_416da_row10_col4, #T_416da_row10_col5, #T_416da_row10_col6, #T_416da_row10_col7, #T_416da_row11_col0, #T_416da_row11_col1, #T_416da_row11_col2, #T_416da_row11_col3, #T_416da_row11_col4, #T_416da_row11_col5, #T_416da_row11_col6, #T_416da_row11_col7, #T_416da_row12_col0, #T_416da_row12_col1, #T_416da_row12_col2, #T_416da_row12_col3, #T_416da_row12_col4, #T_416da_row12_col5, #T_416da_row12_col6, #T_416da_row12_col7, #T_416da_row13_col0, #T_416da_row13_col1, #T_416da_row13_col2, #T_416da_row13_col3, #T_416da_row13_col4, #T_416da_row13_col5, #T_416da_row13_col6, #T_416da_row13_col7, #T_416da_row14_col0, #T_416da_row14_col1, #T_416da_row14_col2, #T_416da_row14_col3, #T_416da_row14_col4, #T_416da_row14_col5, #T_416da_row14_col6, #T_416da_row14_col7, #T_416da_row15_col0, #T_416da_row15_col1, #T_416da_row15_col2, #T_416da_row15_col3, #T_416da_row15_col4, #T_416da_row15_col5, #T_416da_row15_col6, #T_416da_row15_col7, #T_416da_row16_col0, #T_416da_row16_col1, #T_416da_row16_col2, #T_416da_row16_col3, #T_416da_row16_col4, #T_416da_row16_col5, #T_416da_row16_col6, #T_416da_row16_col7, #T_416da_row17_col0, #T_416da_row17_col1, #T_416da_row17_col2, #T_416da_row17_col3, #T_416da_row17_col4, #T_416da_row17_col5, #T_416da_row17_col6, #T_416da_row17_col7, #T_416da_row18_col0, #T_416da_row18_col1, #T_416da_row18_col2, #T_416da_row18_col3, #T_416da_row18_col4, #T_416da_row18_col5, #T_416da_row18_col6, #T_416da_row18_col7, #T_416da_row19_col0, #T_416da_row19_col1, #T_416da_row19_col2, #T_416da_row19_col3, #T_416da_row19_col4, #T_416da_row19_col5, #T_416da_row19_col6, #T_416da_row19_col7, #T_416da_row20_col0, #T_416da_row20_col1, #T_416da_row20_col2, #T_416da_row20_col3, #T_416da_row20_col4, #T_416da_row20_col5, #T_416da_row20_col6, #T_416da_row20_col7, #T_416da_row21_col0, #T_416da_row21_col1, #T_416da_row21_col2, #T_416da_row21_col3, #T_416da_row21_col4, #T_416da_row21_col5, #T_416da_row21_col6, #T_416da_row21_col7, #T_416da_row22_col0, #T_416da_row22_col1, #T_416da_row22_col2, #T_416da_row22_col3, #T_416da_row22_col4, #T_416da_row22_col5, #T_416da_row22_col6, #T_416da_row22_col7, #T_416da_row23_col0, #T_416da_row23_col1, #T_416da_row23_col2, #T_416da_row23_col3, #T_416da_row23_col4, #T_416da_row23_col5, #T_416da_row23_col6, #T_416da_row23_col7 {\n",
       "  text-align: left;\n",
       "}\n",
       "#T_416da_row0_col1, #T_416da_row0_col2, #T_416da_row0_col3, #T_416da_row0_col4, #T_416da_row0_col5, #T_416da_row0_col6, #T_416da_row0_col7 {\n",
       "  text-align: left;\n",
       "  background-color: yellow;\n",
       "}\n",
       "#T_416da_row0_col8, #T_416da_row1_col8, #T_416da_row2_col8, #T_416da_row3_col8, #T_416da_row4_col8, #T_416da_row5_col8, #T_416da_row6_col8, #T_416da_row7_col8, #T_416da_row8_col8, #T_416da_row9_col8, #T_416da_row10_col8, #T_416da_row12_col8, #T_416da_row13_col8, #T_416da_row14_col8, #T_416da_row15_col8, #T_416da_row16_col8, #T_416da_row17_col8, #T_416da_row18_col8, #T_416da_row19_col8, #T_416da_row20_col8, #T_416da_row21_col8, #T_416da_row22_col8, #T_416da_row23_col8 {\n",
       "  text-align: left;\n",
       "  background-color: lightgrey;\n",
       "}\n",
       "#T_416da_row11_col8 {\n",
       "  text-align: left;\n",
       "  background-color: yellow;\n",
       "  background-color: lightgrey;\n",
       "}\n",
       "</style>\n",
       "<table id=\"T_416da\">\n",
       "  <thead>\n",
       "    <tr>\n",
       "      <th class=\"blank level0\" >&nbsp;</th>\n",
       "      <th id=\"T_416da_level0_col0\" class=\"col_heading level0 col0\" >Model</th>\n",
       "      <th id=\"T_416da_level0_col1\" class=\"col_heading level0 col1\" >MASE</th>\n",
       "      <th id=\"T_416da_level0_col2\" class=\"col_heading level0 col2\" >RMSSE</th>\n",
       "      <th id=\"T_416da_level0_col3\" class=\"col_heading level0 col3\" >MAE</th>\n",
       "      <th id=\"T_416da_level0_col4\" class=\"col_heading level0 col4\" >RMSE</th>\n",
       "      <th id=\"T_416da_level0_col5\" class=\"col_heading level0 col5\" >MAPE</th>\n",
       "      <th id=\"T_416da_level0_col6\" class=\"col_heading level0 col6\" >SMAPE</th>\n",
       "      <th id=\"T_416da_level0_col7\" class=\"col_heading level0 col7\" >R2</th>\n",
       "      <th id=\"T_416da_level0_col8\" class=\"col_heading level0 col8\" >TT (Sec)</th>\n",
       "    </tr>\n",
       "  </thead>\n",
       "  <tbody>\n",
       "    <tr>\n",
       "      <th id=\"T_416da_level0_row0\" class=\"row_heading level0 row0\" >auto_arima</th>\n",
       "      <td id=\"T_416da_row0_col0\" class=\"data row0 col0\" >Auto ARIMA</td>\n",
       "      <td id=\"T_416da_row0_col1\" class=\"data row0 col1\" >1.4250</td>\n",
       "      <td id=\"T_416da_row0_col2\" class=\"data row0 col2\" >1.3630</td>\n",
       "      <td id=\"T_416da_row0_col3\" class=\"data row0 col3\" >897557.9381</td>\n",
       "      <td id=\"T_416da_row0_col4\" class=\"data row0 col4\" >1086251.9565</td>\n",
       "      <td id=\"T_416da_row0_col5\" class=\"data row0 col5\" >0.3276</td>\n",
       "      <td id=\"T_416da_row0_col6\" class=\"data row0 col6\" >0.2677</td>\n",
       "      <td id=\"T_416da_row0_col7\" class=\"data row0 col7\" >-2.1373</td>\n",
       "      <td id=\"T_416da_row0_col8\" class=\"data row0 col8\" >0.2967</td>\n",
       "    </tr>\n",
       "    <tr>\n",
       "      <th id=\"T_416da_level0_row1\" class=\"row_heading level0 row1\" >theta</th>\n",
       "      <td id=\"T_416da_row1_col0\" class=\"data row1 col0\" >Theta Forecaster</td>\n",
       "      <td id=\"T_416da_row1_col1\" class=\"data row1 col1\" >1.5971</td>\n",
       "      <td id=\"T_416da_row1_col2\" class=\"data row1 col2\" >1.5436</td>\n",
       "      <td id=\"T_416da_row1_col3\" class=\"data row1 col3\" >1005427.2993</td>\n",
       "      <td id=\"T_416da_row1_col4\" class=\"data row1 col4\" >1228365.6060</td>\n",
       "      <td id=\"T_416da_row1_col5\" class=\"data row1 col5\" >0.3557</td>\n",
       "      <td id=\"T_416da_row1_col6\" class=\"data row1 col6\" >0.3024</td>\n",
       "      <td id=\"T_416da_row1_col7\" class=\"data row1 col7\" >-2.4060</td>\n",
       "      <td id=\"T_416da_row1_col8\" class=\"data row1 col8\" >0.0333</td>\n",
       "    </tr>\n",
       "    <tr>\n",
       "      <th id=\"T_416da_level0_row2\" class=\"row_heading level0 row2\" >xgboost_cds_dt</th>\n",
       "      <td id=\"T_416da_row2_col0\" class=\"data row2 col0\" >Extreme Gradient Boosting w/ Cond. Deseasonalize & Detrending</td>\n",
       "      <td id=\"T_416da_row2_col1\" class=\"data row2 col1\" >1.6292</td>\n",
       "      <td id=\"T_416da_row2_col2\" class=\"data row2 col2\" >1.5551</td>\n",
       "      <td id=\"T_416da_row2_col3\" class=\"data row2 col3\" >1029211.8140</td>\n",
       "      <td id=\"T_416da_row2_col4\" class=\"data row2 col4\" >1245073.7152</td>\n",
       "      <td id=\"T_416da_row2_col5\" class=\"data row2 col5\" >0.3681</td>\n",
       "      <td id=\"T_416da_row2_col6\" class=\"data row2 col6\" >0.3025</td>\n",
       "      <td id=\"T_416da_row2_col7\" class=\"data row2 col7\" >-3.7996</td>\n",
       "      <td id=\"T_416da_row2_col8\" class=\"data row2 col8\" >0.5133</td>\n",
       "    </tr>\n",
       "    <tr>\n",
       "      <th id=\"T_416da_level0_row3\" class=\"row_heading level0 row3\" >lightgbm_cds_dt</th>\n",
       "      <td id=\"T_416da_row3_col0\" class=\"data row3 col0\" >Light Gradient Boosting w/ Cond. Deseasonalize & Detrending</td>\n",
       "      <td id=\"T_416da_row3_col1\" class=\"data row3 col1\" >1.6557</td>\n",
       "      <td id=\"T_416da_row3_col2\" class=\"data row3 col2\" >1.5670</td>\n",
       "      <td id=\"T_416da_row3_col3\" class=\"data row3 col3\" >1041451.7377</td>\n",
       "      <td id=\"T_416da_row3_col4\" class=\"data row3 col4\" >1246053.8027</td>\n",
       "      <td id=\"T_416da_row3_col5\" class=\"data row3 col5\" >0.3774</td>\n",
       "      <td id=\"T_416da_row3_col6\" class=\"data row3 col6\" >0.3081</td>\n",
       "      <td id=\"T_416da_row3_col7\" class=\"data row3 col7\" >-2.6678</td>\n",
       "      <td id=\"T_416da_row3_col8\" class=\"data row3 col8\" >0.2000</td>\n",
       "    </tr>\n",
       "    <tr>\n",
       "      <th id=\"T_416da_level0_row4\" class=\"row_heading level0 row4\" >omp_cds_dt</th>\n",
       "      <td id=\"T_416da_row4_col0\" class=\"data row4 col0\" >Orthogonal Matching Pursuit w/ Cond. Deseasonalize & Detrending</td>\n",
       "      <td id=\"T_416da_row4_col1\" class=\"data row4 col1\" >1.6168</td>\n",
       "      <td id=\"T_416da_row4_col2\" class=\"data row4 col2\" >1.5341</td>\n",
       "      <td id=\"T_416da_row4_col3\" class=\"data row4 col3\" >1014828.7998</td>\n",
       "      <td id=\"T_416da_row4_col4\" class=\"data row4 col4\" >1218464.3773</td>\n",
       "      <td id=\"T_416da_row4_col5\" class=\"data row4 col5\" >0.3802</td>\n",
       "      <td id=\"T_416da_row4_col6\" class=\"data row4 col6\" >0.2926</td>\n",
       "      <td id=\"T_416da_row4_col7\" class=\"data row4 col7\" >-2.9101</td>\n",
       "      <td id=\"T_416da_row4_col8\" class=\"data row4 col8\" >0.0800</td>\n",
       "    </tr>\n",
       "    <tr>\n",
       "      <th id=\"T_416da_level0_row5\" class=\"row_heading level0 row5\" >lr_cds_dt</th>\n",
       "      <td id=\"T_416da_row5_col0\" class=\"data row5 col0\" >Linear w/ Cond. Deseasonalize & Detrending</td>\n",
       "      <td id=\"T_416da_row5_col1\" class=\"data row5 col1\" >1.6291</td>\n",
       "      <td id=\"T_416da_row5_col2\" class=\"data row5 col2\" >1.5405</td>\n",
       "      <td id=\"T_416da_row5_col3\" class=\"data row5 col3\" >1022786.5114</td>\n",
       "      <td id=\"T_416da_row5_col4\" class=\"data row5 col4\" >1223420.0892</td>\n",
       "      <td id=\"T_416da_row5_col5\" class=\"data row5 col5\" >0.3809</td>\n",
       "      <td id=\"T_416da_row5_col6\" class=\"data row5 col6\" >0.2960</td>\n",
       "      <td id=\"T_416da_row5_col7\" class=\"data row5 col7\" >-2.8689</td>\n",
       "      <td id=\"T_416da_row5_col8\" class=\"data row5 col8\" >0.0867</td>\n",
       "    </tr>\n",
       "    <tr>\n",
       "      <th id=\"T_416da_level0_row6\" class=\"row_heading level0 row6\" >en_cds_dt</th>\n",
       "      <td id=\"T_416da_row6_col0\" class=\"data row6 col0\" >Elastic Net w/ Cond. Deseasonalize & Detrending</td>\n",
       "      <td id=\"T_416da_row6_col1\" class=\"data row6 col1\" >1.6291</td>\n",
       "      <td id=\"T_416da_row6_col2\" class=\"data row6 col2\" >1.5405</td>\n",
       "      <td id=\"T_416da_row6_col3\" class=\"data row6 col3\" >1022786.5114</td>\n",
       "      <td id=\"T_416da_row6_col4\" class=\"data row6 col4\" >1223420.0892</td>\n",
       "      <td id=\"T_416da_row6_col5\" class=\"data row6 col5\" >0.3809</td>\n",
       "      <td id=\"T_416da_row6_col6\" class=\"data row6 col6\" >0.2960</td>\n",
       "      <td id=\"T_416da_row6_col7\" class=\"data row6 col7\" >-2.8689</td>\n",
       "      <td id=\"T_416da_row6_col8\" class=\"data row6 col8\" >0.0833</td>\n",
       "    </tr>\n",
       "    <tr>\n",
       "      <th id=\"T_416da_level0_row7\" class=\"row_heading level0 row7\" >ridge_cds_dt</th>\n",
       "      <td id=\"T_416da_row7_col0\" class=\"data row7 col0\" >Ridge w/ Cond. Deseasonalize & Detrending</td>\n",
       "      <td id=\"T_416da_row7_col1\" class=\"data row7 col1\" >1.6291</td>\n",
       "      <td id=\"T_416da_row7_col2\" class=\"data row7 col2\" >1.5405</td>\n",
       "      <td id=\"T_416da_row7_col3\" class=\"data row7 col3\" >1022786.5114</td>\n",
       "      <td id=\"T_416da_row7_col4\" class=\"data row7 col4\" >1223420.0892</td>\n",
       "      <td id=\"T_416da_row7_col5\" class=\"data row7 col5\" >0.3809</td>\n",
       "      <td id=\"T_416da_row7_col6\" class=\"data row7 col6\" >0.2960</td>\n",
       "      <td id=\"T_416da_row7_col7\" class=\"data row7 col7\" >-2.8689</td>\n",
       "      <td id=\"T_416da_row7_col8\" class=\"data row7 col8\" >0.0833</td>\n",
       "    </tr>\n",
       "    <tr>\n",
       "      <th id=\"T_416da_level0_row8\" class=\"row_heading level0 row8\" >lasso_cds_dt</th>\n",
       "      <td id=\"T_416da_row8_col0\" class=\"data row8 col0\" >Lasso w/ Cond. Deseasonalize & Detrending</td>\n",
       "      <td id=\"T_416da_row8_col1\" class=\"data row8 col1\" >1.6291</td>\n",
       "      <td id=\"T_416da_row8_col2\" class=\"data row8 col2\" >1.5405</td>\n",
       "      <td id=\"T_416da_row8_col3\" class=\"data row8 col3\" >1022786.5114</td>\n",
       "      <td id=\"T_416da_row8_col4\" class=\"data row8 col4\" >1223420.0892</td>\n",
       "      <td id=\"T_416da_row8_col5\" class=\"data row8 col5\" >0.3809</td>\n",
       "      <td id=\"T_416da_row8_col6\" class=\"data row8 col6\" >0.2960</td>\n",
       "      <td id=\"T_416da_row8_col7\" class=\"data row8 col7\" >-2.8689</td>\n",
       "      <td id=\"T_416da_row8_col8\" class=\"data row8 col8\" >0.0800</td>\n",
       "    </tr>\n",
       "    <tr>\n",
       "      <th id=\"T_416da_level0_row9\" class=\"row_heading level0 row9\" >llar_cds_dt</th>\n",
       "      <td id=\"T_416da_row9_col0\" class=\"data row9 col0\" >Lasso Least Angular Regressor w/ Cond. Deseasonalize & Detrending</td>\n",
       "      <td id=\"T_416da_row9_col1\" class=\"data row9 col1\" >1.6291</td>\n",
       "      <td id=\"T_416da_row9_col2\" class=\"data row9 col2\" >1.5405</td>\n",
       "      <td id=\"T_416da_row9_col3\" class=\"data row9 col3\" >1022786.5114</td>\n",
       "      <td id=\"T_416da_row9_col4\" class=\"data row9 col4\" >1223420.0892</td>\n",
       "      <td id=\"T_416da_row9_col5\" class=\"data row9 col5\" >0.3809</td>\n",
       "      <td id=\"T_416da_row9_col6\" class=\"data row9 col6\" >0.2960</td>\n",
       "      <td id=\"T_416da_row9_col7\" class=\"data row9 col7\" >-2.8689</td>\n",
       "      <td id=\"T_416da_row9_col8\" class=\"data row9 col8\" >0.0800</td>\n",
       "    </tr>\n",
       "    <tr>\n",
       "      <th id=\"T_416da_level0_row10\" class=\"row_heading level0 row10\" >rf_cds_dt</th>\n",
       "      <td id=\"T_416da_row10_col0\" class=\"data row10 col0\" >Random Forest w/ Cond. Deseasonalize & Detrending</td>\n",
       "      <td id=\"T_416da_row10_col1\" class=\"data row10 col1\" >1.6722</td>\n",
       "      <td id=\"T_416da_row10_col2\" class=\"data row10 col2\" >1.5770</td>\n",
       "      <td id=\"T_416da_row10_col3\" class=\"data row10 col3\" >1051186.7574</td>\n",
       "      <td id=\"T_416da_row10_col4\" class=\"data row10 col4\" >1252289.0505</td>\n",
       "      <td id=\"T_416da_row10_col5\" class=\"data row10 col5\" >0.3814</td>\n",
       "      <td id=\"T_416da_row10_col6\" class=\"data row10 col6\" >0.3107</td>\n",
       "      <td id=\"T_416da_row10_col7\" class=\"data row10 col7\" >-2.6755</td>\n",
       "      <td id=\"T_416da_row10_col8\" class=\"data row10 col8\" >0.2033</td>\n",
       "    </tr>\n",
       "    <tr>\n",
       "      <th id=\"T_416da_level0_row11\" class=\"row_heading level0 row11\" >polytrend</th>\n",
       "      <td id=\"T_416da_row11_col0\" class=\"data row11 col0\" >Polynomial Trend Forecaster</td>\n",
       "      <td id=\"T_416da_row11_col1\" class=\"data row11 col1\" >1.6102</td>\n",
       "      <td id=\"T_416da_row11_col2\" class=\"data row11 col2\" >1.5361</td>\n",
       "      <td id=\"T_416da_row11_col3\" class=\"data row11 col3\" >1009520.7821</td>\n",
       "      <td id=\"T_416da_row11_col4\" class=\"data row11 col4\" >1219152.4338</td>\n",
       "      <td id=\"T_416da_row11_col5\" class=\"data row11 col5\" >0.3825</td>\n",
       "      <td id=\"T_416da_row11_col6\" class=\"data row11 col6\" >0.2900</td>\n",
       "      <td id=\"T_416da_row11_col7\" class=\"data row11 col7\" >-2.9365</td>\n",
       "      <td id=\"T_416da_row11_col8\" class=\"data row11 col8\" >0.0167</td>\n",
       "    </tr>\n",
       "    <tr>\n",
       "      <th id=\"T_416da_level0_row12\" class=\"row_heading level0 row12\" >ada_cds_dt</th>\n",
       "      <td id=\"T_416da_row12_col0\" class=\"data row12 col0\" >AdaBoost w/ Cond. Deseasonalize & Detrending</td>\n",
       "      <td id=\"T_416da_row12_col1\" class=\"data row12 col1\" >1.6354</td>\n",
       "      <td id=\"T_416da_row12_col2\" class=\"data row12 col2\" >1.4991</td>\n",
       "      <td id=\"T_416da_row12_col3\" class=\"data row12 col3\" >1026118.9512</td>\n",
       "      <td id=\"T_416da_row12_col4\" class=\"data row12 col4\" >1189257.4885</td>\n",
       "      <td id=\"T_416da_row12_col5\" class=\"data row12 col5\" >0.3825</td>\n",
       "      <td id=\"T_416da_row12_col6\" class=\"data row12 col6\" >0.2988</td>\n",
       "      <td id=\"T_416da_row12_col7\" class=\"data row12 col7\" >-2.7229</td>\n",
       "      <td id=\"T_416da_row12_col8\" class=\"data row12 col8\" >0.1100</td>\n",
       "    </tr>\n",
       "    <tr>\n",
       "      <th id=\"T_416da_level0_row13\" class=\"row_heading level0 row13\" >huber_cds_dt</th>\n",
       "      <td id=\"T_416da_row13_col0\" class=\"data row13 col0\" >Huber w/ Cond. Deseasonalize & Detrending</td>\n",
       "      <td id=\"T_416da_row13_col1\" class=\"data row13 col1\" >1.6294</td>\n",
       "      <td id=\"T_416da_row13_col2\" class=\"data row13 col2\" >1.5427</td>\n",
       "      <td id=\"T_416da_row13_col3\" class=\"data row13 col3\" >1022784.1427</td>\n",
       "      <td id=\"T_416da_row13_col4\" class=\"data row13 col4\" >1224976.6763</td>\n",
       "      <td id=\"T_416da_row13_col5\" class=\"data row13 col5\" >0.3828</td>\n",
       "      <td id=\"T_416da_row13_col6\" class=\"data row13 col6\" >0.2950</td>\n",
       "      <td id=\"T_416da_row13_col7\" class=\"data row13 col7\" >-2.9124</td>\n",
       "      <td id=\"T_416da_row13_col8\" class=\"data row13 col8\" >0.0867</td>\n",
       "    </tr>\n",
       "    <tr>\n",
       "      <th id=\"T_416da_level0_row14\" class=\"row_heading level0 row14\" >br_cds_dt</th>\n",
       "      <td id=\"T_416da_row14_col0\" class=\"data row14 col0\" >Bayesian Ridge w/ Cond. Deseasonalize & Detrending</td>\n",
       "      <td id=\"T_416da_row14_col1\" class=\"data row14 col1\" >1.6335</td>\n",
       "      <td id=\"T_416da_row14_col2\" class=\"data row14 col2\" >1.5418</td>\n",
       "      <td id=\"T_416da_row14_col3\" class=\"data row14 col3\" >1025290.7700</td>\n",
       "      <td id=\"T_416da_row14_col4\" class=\"data row14 col4\" >1224308.3983</td>\n",
       "      <td id=\"T_416da_row14_col5\" class=\"data row14 col5\" >0.3831</td>\n",
       "      <td id=\"T_416da_row14_col6\" class=\"data row14 col6\" >0.2960</td>\n",
       "      <td id=\"T_416da_row14_col7\" class=\"data row14 col7\" >-2.9004</td>\n",
       "      <td id=\"T_416da_row14_col8\" class=\"data row14 col8\" >0.0833</td>\n",
       "    </tr>\n",
       "    <tr>\n",
       "      <th id=\"T_416da_level0_row15\" class=\"row_heading level0 row15\" >snaive</th>\n",
       "      <td id=\"T_416da_row15_col0\" class=\"data row15 col0\" >Seasonal Naive Forecaster</td>\n",
       "      <td id=\"T_416da_row15_col1\" class=\"data row15 col1\" >1.7926</td>\n",
       "      <td id=\"T_416da_row15_col2\" class=\"data row15 col2\" >1.6574</td>\n",
       "      <td id=\"T_416da_row15_col3\" class=\"data row15 col3\" >1134360.7444</td>\n",
       "      <td id=\"T_416da_row15_col4\" class=\"data row15 col4\" >1325330.1399</td>\n",
       "      <td id=\"T_416da_row15_col5\" class=\"data row15 col5\" >0.3837</td>\n",
       "      <td id=\"T_416da_row15_col6\" class=\"data row15 col6\" >0.3616</td>\n",
       "      <td id=\"T_416da_row15_col7\" class=\"data row15 col7\" >-3.0980</td>\n",
       "      <td id=\"T_416da_row15_col8\" class=\"data row15 col8\" >0.0300</td>\n",
       "    </tr>\n",
       "    <tr>\n",
       "      <th id=\"T_416da_level0_row16\" class=\"row_heading level0 row16\" >exp_smooth</th>\n",
       "      <td id=\"T_416da_row16_col0\" class=\"data row16 col0\" >Exponential Smoothing</td>\n",
       "      <td id=\"T_416da_row16_col1\" class=\"data row16 col1\" >1.8888</td>\n",
       "      <td id=\"T_416da_row16_col2\" class=\"data row16 col2\" >1.7593</td>\n",
       "      <td id=\"T_416da_row16_col3\" class=\"data row16 col3\" >1200728.2200</td>\n",
       "      <td id=\"T_416da_row16_col4\" class=\"data row16 col4\" >1413032.8079</td>\n",
       "      <td id=\"T_416da_row16_col5\" class=\"data row16 col5\" >0.3861</td>\n",
       "      <td id=\"T_416da_row16_col6\" class=\"data row16 col6\" >0.3793</td>\n",
       "      <td id=\"T_416da_row16_col7\" class=\"data row16 col7\" >-4.4093</td>\n",
       "      <td id=\"T_416da_row16_col8\" class=\"data row16 col8\" >0.0600</td>\n",
       "    </tr>\n",
       "    <tr>\n",
       "      <th id=\"T_416da_level0_row17\" class=\"row_heading level0 row17\" >stlf</th>\n",
       "      <td id=\"T_416da_row17_col0\" class=\"data row17 col0\" >STLF</td>\n",
       "      <td id=\"T_416da_row17_col1\" class=\"data row17 col1\" >1.9043</td>\n",
       "      <td id=\"T_416da_row17_col2\" class=\"data row17 col2\" >1.7540</td>\n",
       "      <td id=\"T_416da_row17_col3\" class=\"data row17 col3\" >1208232.2920</td>\n",
       "      <td id=\"T_416da_row17_col4\" class=\"data row17 col4\" >1407011.9396</td>\n",
       "      <td id=\"T_416da_row17_col5\" class=\"data row17 col5\" >0.3967</td>\n",
       "      <td id=\"T_416da_row17_col6\" class=\"data row17 col6\" >0.3749</td>\n",
       "      <td id=\"T_416da_row17_col7\" class=\"data row17 col7\" >-4.5132</td>\n",
       "      <td id=\"T_416da_row17_col8\" class=\"data row17 col8\" >0.0333</td>\n",
       "    </tr>\n",
       "    <tr>\n",
       "      <th id=\"T_416da_level0_row18\" class=\"row_heading level0 row18\" >et_cds_dt</th>\n",
       "      <td id=\"T_416da_row18_col0\" class=\"data row18 col0\" >Extra Trees w/ Cond. Deseasonalize & Detrending</td>\n",
       "      <td id=\"T_416da_row18_col1\" class=\"data row18 col1\" >1.8064</td>\n",
       "      <td id=\"T_416da_row18_col2\" class=\"data row18 col2\" >1.6976</td>\n",
       "      <td id=\"T_416da_row18_col3\" class=\"data row18 col3\" >1138177.5993</td>\n",
       "      <td id=\"T_416da_row18_col4\" class=\"data row18 col4\" >1352260.8563</td>\n",
       "      <td id=\"T_416da_row18_col5\" class=\"data row18 col5\" >0.3982</td>\n",
       "      <td id=\"T_416da_row18_col6\" class=\"data row18 col6\" >0.3365</td>\n",
       "      <td id=\"T_416da_row18_col7\" class=\"data row18 col7\" >-3.2990</td>\n",
       "      <td id=\"T_416da_row18_col8\" class=\"data row18 col8\" >0.2300</td>\n",
       "    </tr>\n",
       "    <tr>\n",
       "      <th id=\"T_416da_level0_row19\" class=\"row_heading level0 row19\" >arima</th>\n",
       "      <td id=\"T_416da_row19_col0\" class=\"data row19 col0\" >ARIMA</td>\n",
       "      <td id=\"T_416da_row19_col1\" class=\"data row19 col1\" >1.9065</td>\n",
       "      <td id=\"T_416da_row19_col2\" class=\"data row19 col2\" >1.7647</td>\n",
       "      <td id=\"T_416da_row19_col3\" class=\"data row19 col3\" >1208280.1408</td>\n",
       "      <td id=\"T_416da_row19_col4\" class=\"data row19 col4\" >1413648.8941</td>\n",
       "      <td id=\"T_416da_row19_col5\" class=\"data row19 col5\" >0.4002</td>\n",
       "      <td id=\"T_416da_row19_col6\" class=\"data row19 col6\" >0.3872</td>\n",
       "      <td id=\"T_416da_row19_col7\" class=\"data row19 col7\" >-3.9490</td>\n",
       "      <td id=\"T_416da_row19_col8\" class=\"data row19 col8\" >0.0533</td>\n",
       "    </tr>\n",
       "    <tr>\n",
       "      <th id=\"T_416da_level0_row20\" class=\"row_heading level0 row20\" >ets</th>\n",
       "      <td id=\"T_416da_row20_col0\" class=\"data row20 col0\" >ETS</td>\n",
       "      <td id=\"T_416da_row20_col1\" class=\"data row20 col1\" >2.0135</td>\n",
       "      <td id=\"T_416da_row20_col2\" class=\"data row20 col2\" >1.8491</td>\n",
       "      <td id=\"T_416da_row20_col3\" class=\"data row20 col3\" >1280456.6308</td>\n",
       "      <td id=\"T_416da_row20_col4\" class=\"data row20 col4\" >1485959.9048</td>\n",
       "      <td id=\"T_416da_row20_col5\" class=\"data row20 col5\" >0.4109</td>\n",
       "      <td id=\"T_416da_row20_col6\" class=\"data row20 col6\" >0.4065</td>\n",
       "      <td id=\"T_416da_row20_col7\" class=\"data row20 col7\" >-5.2469</td>\n",
       "      <td id=\"T_416da_row20_col8\" class=\"data row20 col8\" >0.0467</td>\n",
       "    </tr>\n",
       "    <tr>\n",
       "      <th id=\"T_416da_level0_row21\" class=\"row_heading level0 row21\" >knn_cds_dt</th>\n",
       "      <td id=\"T_416da_row21_col0\" class=\"data row21 col0\" >K Neighbors w/ Cond. Deseasonalize & Detrending</td>\n",
       "      <td id=\"T_416da_row21_col1\" class=\"data row21 col1\" >1.8345</td>\n",
       "      <td id=\"T_416da_row21_col2\" class=\"data row21 col2\" >1.7385</td>\n",
       "      <td id=\"T_416da_row21_col3\" class=\"data row21 col3\" >1153150.2463</td>\n",
       "      <td id=\"T_416da_row21_col4\" class=\"data row21 col4\" >1382052.1434</td>\n",
       "      <td id=\"T_416da_row21_col5\" class=\"data row21 col5\" >0.4174</td>\n",
       "      <td id=\"T_416da_row21_col6\" class=\"data row21 col6\" >0.3379</td>\n",
       "      <td id=\"T_416da_row21_col7\" class=\"data row21 col7\" >-3.5619</td>\n",
       "      <td id=\"T_416da_row21_col8\" class=\"data row21 col8\" >0.1733</td>\n",
       "    </tr>\n",
       "    <tr>\n",
       "      <th id=\"T_416da_level0_row22\" class=\"row_heading level0 row22\" >gbr_cds_dt</th>\n",
       "      <td id=\"T_416da_row22_col0\" class=\"data row22 col0\" >Gradient Boosting w/ Cond. Deseasonalize & Detrending</td>\n",
       "      <td id=\"T_416da_row22_col1\" class=\"data row22 col1\" >2.0149</td>\n",
       "      <td id=\"T_416da_row22_col2\" class=\"data row22 col2\" >1.8792</td>\n",
       "      <td id=\"T_416da_row22_col3\" class=\"data row22 col3\" >1268928.3119</td>\n",
       "      <td id=\"T_416da_row22_col4\" class=\"data row22 col4\" >1495917.7165</td>\n",
       "      <td id=\"T_416da_row22_col5\" class=\"data row22 col5\" >0.4482</td>\n",
       "      <td id=\"T_416da_row22_col6\" class=\"data row22 col6\" >0.3803</td>\n",
       "      <td id=\"T_416da_row22_col7\" class=\"data row22 col7\" >-4.1484</td>\n",
       "      <td id=\"T_416da_row22_col8\" class=\"data row22 col8\" >0.0933</td>\n",
       "    </tr>\n",
       "    <tr>\n",
       "      <th id=\"T_416da_level0_row23\" class=\"row_heading level0 row23\" >dt_cds_dt</th>\n",
       "      <td id=\"T_416da_row23_col0\" class=\"data row23 col0\" >Decision Tree w/ Cond. Deseasonalize & Detrending</td>\n",
       "      <td id=\"T_416da_row23_col1\" class=\"data row23 col1\" >2.1794</td>\n",
       "      <td id=\"T_416da_row23_col2\" class=\"data row23 col2\" >1.9943</td>\n",
       "      <td id=\"T_416da_row23_col3\" class=\"data row23 col3\" >1378636.0458</td>\n",
       "      <td id=\"T_416da_row23_col4\" class=\"data row23 col4\" >1593619.8829</td>\n",
       "      <td id=\"T_416da_row23_col5\" class=\"data row23 col5\" >0.4666</td>\n",
       "      <td id=\"T_416da_row23_col6\" class=\"data row23 col6\" >0.4170</td>\n",
       "      <td id=\"T_416da_row23_col7\" class=\"data row23 col7\" >-5.1075</td>\n",
       "      <td id=\"T_416da_row23_col8\" class=\"data row23 col8\" >0.0800</td>\n",
       "    </tr>\n",
       "  </tbody>\n",
       "</table>\n"
      ],
      "text/plain": [
       "<pandas.io.formats.style.Styler at 0x1a6bf4f9cd0>"
      ]
     },
     "metadata": {},
     "output_type": "display_data"
    },
    {
     "data": {
      "text/html": [],
      "text/plain": [
       "<IPython.core.display.HTML object>"
      ]
     },
     "metadata": {},
     "output_type": "display_data"
    },
    {
     "data": {
      "application/vnd.plotly.v1+json": {
       "config": {
        "plotlyServerURL": "https://plot.ly"
       },
       "data": [
        {
         "line": {
          "color": "#1f77b4"
         },
         "marker": {
          "size": 5
         },
         "mode": "lines+markers",
         "name": "Forecast | Auto ARIMA",
         "showlegend": true,
         "type": "scatter",
         "x": [
          "2022-01-01T00:00:00",
          "2022-02-01T00:00:00",
          "2022-03-01T00:00:00",
          "2022-04-01T00:00:00",
          "2022-05-01T00:00:00",
          "2022-06-01T00:00:00",
          "2022-07-01T00:00:00",
          "2022-08-01T00:00:00",
          "2022-09-01T00:00:00",
          "2022-10-01T00:00:00",
          "2022-11-01T00:00:00",
          "2022-12-01T00:00:00"
         ],
         "y": [
          3795074.8731,
          3987849.0094,
          3446897.4769,
          3436114.828,
          3657680.7431,
          3608218.2204,
          3476036.5287,
          3481329.7432,
          3526401.6526,
          3509415.9186,
          3476979.3718,
          3476028.328
         ]
        },
        {
         "line": {
          "width": 0
         },
         "marker": {
          "color": "#68BBE3"
         },
         "mode": "lines",
         "name": "Lower Interval",
         "showlegend": false,
         "type": "scatter",
         "x": [
          "2022-01-01T00:00:00",
          "2022-02-01T00:00:00",
          "2022-03-01T00:00:00",
          "2022-04-01T00:00:00",
          "2022-05-01T00:00:00",
          "2022-06-01T00:00:00",
          "2022-07-01T00:00:00",
          "2022-08-01T00:00:00",
          "2022-09-01T00:00:00",
          "2022-10-01T00:00:00",
          "2022-11-01T00:00:00",
          "2022-12-01T00:00:00"
         ],
         "y": [
          2528124.1758,
          2676651.7409,
          2003026.6508,
          1959818.4652,
          2180144.8681,
          2126027.7322,
          1970456.6037,
          1970863.5277,
          2015871.9092,
          1997834.9491,
          1962982.1075,
          1961293.9855
         ]
        },
        {
         "fill": "tonexty",
         "fillcolor": "rgba(104,187,227,0.5)",
         "line": {
          "width": 0
         },
         "marker": {
          "color": "#68BBE3"
         },
         "mode": "lines",
         "name": "Prediction Interval | Auto ARIMA",
         "showlegend": true,
         "type": "scatter",
         "x": [
          "2022-01-01T00:00:00",
          "2022-02-01T00:00:00",
          "2022-03-01T00:00:00",
          "2022-04-01T00:00:00",
          "2022-05-01T00:00:00",
          "2022-06-01T00:00:00",
          "2022-07-01T00:00:00",
          "2022-08-01T00:00:00",
          "2022-09-01T00:00:00",
          "2022-10-01T00:00:00",
          "2022-11-01T00:00:00",
          "2022-12-01T00:00:00"
         ],
         "y": [
          5062025.5704,
          5299046.2779,
          4890768.3029,
          4912411.1907,
          5135216.618,
          5090408.7087,
          4981616.4538,
          4991795.9587,
          5036931.396,
          5020996.8881,
          4990976.6361,
          4990762.6705
         ]
        },
        {
         "marker": {
          "color": "#3f3f3f",
          "size": 5
         },
         "mode": "lines+markers",
         "name": "Original",
         "showlegend": true,
         "type": "scatter",
         "x": [
          "2016-01-01T00:00:00",
          "2016-02-01T00:00:00",
          "2016-03-01T00:00:00",
          "2016-04-01T00:00:00",
          "2016-05-01T00:00:00",
          "2016-06-01T00:00:00",
          "2016-07-01T00:00:00",
          "2016-08-01T00:00:00",
          "2016-09-01T00:00:00",
          "2016-10-01T00:00:00",
          "2016-11-01T00:00:00",
          "2016-12-01T00:00:00",
          "2017-01-01T00:00:00",
          "2017-02-01T00:00:00",
          "2017-03-01T00:00:00",
          "2017-04-01T00:00:00",
          "2017-05-01T00:00:00",
          "2017-06-01T00:00:00",
          "2017-07-01T00:00:00",
          "2017-08-01T00:00:00",
          "2017-09-01T00:00:00",
          "2017-10-01T00:00:00",
          "2017-11-01T00:00:00",
          "2017-12-01T00:00:00",
          "2018-01-01T00:00:00",
          "2018-02-01T00:00:00",
          "2018-03-01T00:00:00",
          "2018-04-01T00:00:00",
          "2018-05-01T00:00:00",
          "2018-06-01T00:00:00",
          "2018-07-01T00:00:00",
          "2018-08-01T00:00:00",
          "2018-09-01T00:00:00",
          "2018-10-01T00:00:00",
          "2018-11-01T00:00:00",
          "2018-12-01T00:00:00",
          "2019-01-01T00:00:00",
          "2019-02-01T00:00:00",
          "2019-03-01T00:00:00",
          "2019-04-01T00:00:00",
          "2019-05-01T00:00:00",
          "2019-06-01T00:00:00",
          "2019-07-01T00:00:00",
          "2019-08-01T00:00:00",
          "2019-09-01T00:00:00",
          "2019-10-01T00:00:00",
          "2019-11-01T00:00:00",
          "2019-12-01T00:00:00",
          "2020-01-01T00:00:00",
          "2020-02-01T00:00:00",
          "2020-03-01T00:00:00",
          "2020-04-01T00:00:00",
          "2020-05-01T00:00:00",
          "2020-06-01T00:00:00",
          "2020-07-01T00:00:00",
          "2020-08-01T00:00:00",
          "2020-09-01T00:00:00",
          "2020-10-01T00:00:00",
          "2020-11-01T00:00:00",
          "2020-12-01T00:00:00",
          "2021-01-01T00:00:00",
          "2021-02-01T00:00:00",
          "2021-03-01T00:00:00",
          "2021-04-01T00:00:00",
          "2021-05-01T00:00:00",
          "2021-06-01T00:00:00",
          "2021-07-01T00:00:00",
          "2021-08-01T00:00:00",
          "2021-09-01T00:00:00",
          "2021-10-01T00:00:00",
          "2021-11-01T00:00:00",
          "2021-12-01T00:00:00",
          "2022-01-01T00:00:00",
          "2022-02-01T00:00:00",
          "2022-03-01T00:00:00",
          "2022-04-01T00:00:00",
          "2022-05-01T00:00:00",
          "2022-06-01T00:00:00",
          "2022-07-01T00:00:00",
          "2022-08-01T00:00:00",
          "2022-09-01T00:00:00",
          "2022-10-01T00:00:00",
          "2022-11-01T00:00:00",
          "2022-12-01T00:00:00"
         ],
         "y": [
          2963987.5400000005,
          4135754.8100000005,
          3052080.8299999996,
          3527779.66,
          2538105.0700000003,
          3836732.4600000004,
          3546292.87,
          3006098.02,
          2214960.1200000006,
          3622618.369999999,
          2449593.76,
          2926362.79,
          2942862.4499999997,
          3226126.9999999995,
          3248775.11,
          4683576.55,
          3318853.0700000008,
          4449689.390000001,
          3501548.3000000003,
          2973947.2800000003,
          3218460.49,
          2309005.39,
          3601390.1500000004,
          3072097.6,
          3046730.1,
          2804014.4599999995,
          3814881.76,
          4975129.8100000005,
          5056420.35,
          4719631.49,
          4142844.3499999996,
          4319522.739999999,
          4005606.01,
          4783577.399999999,
          3850446.9000000004,
          2777941.519999999,
          4148781.4699999993,
          3493117.9299999997,
          4272339.43,
          4253481.260000001,
          3896907.25,
          3890287.8099999996,
          4526267,
          3224091.580000001,
          3605808.25,
          4154501.8299999996,
          3429007.88,
          3977904.0699999994,
          3686947.6399999997,
          2414781.1100000003,
          2999681.6599999997,
          2530878.0300000003,
          1359308.41,
          2089747.42,
          2376793.68,
          1709943.6,
          2632877.6099999994,
          2883570.5999999996,
          1822321.08,
          3283748.01,
          3062804.3400000003,
          3846285.0400000005,
          2885204.2699999996,
          2800581.0099999993,
          3267598.17,
          4376178.739999999,
          3419050.4200000004,
          6344553.93,
          4252322.529999999,
          2761222.5799999996,
          5165607.75,
          2887961.27,
          4263894.45,
          5322633.46,
          5970346.059999998,
          3558280.81,
          4948782.79,
          4599633.339999999,
          2639258.7100000004,
          6151421.990000001,
          2512948.7100000004,
          3721864.7600000007,
          3725361.9699999997,
          2784634.76
         ]
        }
       ],
       "layout": {
        "showlegend": true,
        "template": {
         "data": {
          "bar": [
           {
            "error_x": {
             "color": "rgb(51,51,51)"
            },
            "error_y": {
             "color": "rgb(51,51,51)"
            },
            "marker": {
             "line": {
              "color": "rgb(237,237,237)",
              "width": 0.5
             },
             "pattern": {
              "fillmode": "overlay",
              "size": 10,
              "solidity": 0.2
             }
            },
            "type": "bar"
           }
          ],
          "barpolar": [
           {
            "marker": {
             "line": {
              "color": "rgb(237,237,237)",
              "width": 0.5
             },
             "pattern": {
              "fillmode": "overlay",
              "size": 10,
              "solidity": 0.2
             }
            },
            "type": "barpolar"
           }
          ],
          "carpet": [
           {
            "aaxis": {
             "endlinecolor": "rgb(51,51,51)",
             "gridcolor": "white",
             "linecolor": "white",
             "minorgridcolor": "white",
             "startlinecolor": "rgb(51,51,51)"
            },
            "baxis": {
             "endlinecolor": "rgb(51,51,51)",
             "gridcolor": "white",
             "linecolor": "white",
             "minorgridcolor": "white",
             "startlinecolor": "rgb(51,51,51)"
            },
            "type": "carpet"
           }
          ],
          "choropleth": [
           {
            "colorbar": {
             "outlinewidth": 0,
             "tickcolor": "rgb(237,237,237)",
             "ticklen": 6,
             "ticks": "inside"
            },
            "type": "choropleth"
           }
          ],
          "contour": [
           {
            "colorbar": {
             "outlinewidth": 0,
             "tickcolor": "rgb(237,237,237)",
             "ticklen": 6,
             "ticks": "inside"
            },
            "colorscale": [
             [
              0,
              "rgb(20,44,66)"
             ],
             [
              1,
              "rgb(90,179,244)"
             ]
            ],
            "type": "contour"
           }
          ],
          "contourcarpet": [
           {
            "colorbar": {
             "outlinewidth": 0,
             "tickcolor": "rgb(237,237,237)",
             "ticklen": 6,
             "ticks": "inside"
            },
            "type": "contourcarpet"
           }
          ],
          "heatmap": [
           {
            "colorbar": {
             "outlinewidth": 0,
             "tickcolor": "rgb(237,237,237)",
             "ticklen": 6,
             "ticks": "inside"
            },
            "colorscale": [
             [
              0,
              "rgb(20,44,66)"
             ],
             [
              1,
              "rgb(90,179,244)"
             ]
            ],
            "type": "heatmap"
           }
          ],
          "heatmapgl": [
           {
            "colorbar": {
             "outlinewidth": 0,
             "tickcolor": "rgb(237,237,237)",
             "ticklen": 6,
             "ticks": "inside"
            },
            "colorscale": [
             [
              0,
              "rgb(20,44,66)"
             ],
             [
              1,
              "rgb(90,179,244)"
             ]
            ],
            "type": "heatmapgl"
           }
          ],
          "histogram": [
           {
            "marker": {
             "pattern": {
              "fillmode": "overlay",
              "size": 10,
              "solidity": 0.2
             }
            },
            "type": "histogram"
           }
          ],
          "histogram2d": [
           {
            "colorbar": {
             "outlinewidth": 0,
             "tickcolor": "rgb(237,237,237)",
             "ticklen": 6,
             "ticks": "inside"
            },
            "colorscale": [
             [
              0,
              "rgb(20,44,66)"
             ],
             [
              1,
              "rgb(90,179,244)"
             ]
            ],
            "type": "histogram2d"
           }
          ],
          "histogram2dcontour": [
           {
            "colorbar": {
             "outlinewidth": 0,
             "tickcolor": "rgb(237,237,237)",
             "ticklen": 6,
             "ticks": "inside"
            },
            "colorscale": [
             [
              0,
              "rgb(20,44,66)"
             ],
             [
              1,
              "rgb(90,179,244)"
             ]
            ],
            "type": "histogram2dcontour"
           }
          ],
          "mesh3d": [
           {
            "colorbar": {
             "outlinewidth": 0,
             "tickcolor": "rgb(237,237,237)",
             "ticklen": 6,
             "ticks": "inside"
            },
            "type": "mesh3d"
           }
          ],
          "parcoords": [
           {
            "line": {
             "colorbar": {
              "outlinewidth": 0,
              "tickcolor": "rgb(237,237,237)",
              "ticklen": 6,
              "ticks": "inside"
             }
            },
            "type": "parcoords"
           }
          ],
          "pie": [
           {
            "automargin": true,
            "type": "pie"
           }
          ],
          "scatter": [
           {
            "fillpattern": {
             "fillmode": "overlay",
             "size": 10,
             "solidity": 0.2
            },
            "type": "scatter"
           }
          ],
          "scatter3d": [
           {
            "line": {
             "colorbar": {
              "outlinewidth": 0,
              "tickcolor": "rgb(237,237,237)",
              "ticklen": 6,
              "ticks": "inside"
             }
            },
            "marker": {
             "colorbar": {
              "outlinewidth": 0,
              "tickcolor": "rgb(237,237,237)",
              "ticklen": 6,
              "ticks": "inside"
             }
            },
            "type": "scatter3d"
           }
          ],
          "scattercarpet": [
           {
            "marker": {
             "colorbar": {
              "outlinewidth": 0,
              "tickcolor": "rgb(237,237,237)",
              "ticklen": 6,
              "ticks": "inside"
             }
            },
            "type": "scattercarpet"
           }
          ],
          "scattergeo": [
           {
            "marker": {
             "colorbar": {
              "outlinewidth": 0,
              "tickcolor": "rgb(237,237,237)",
              "ticklen": 6,
              "ticks": "inside"
             }
            },
            "type": "scattergeo"
           }
          ],
          "scattergl": [
           {
            "marker": {
             "colorbar": {
              "outlinewidth": 0,
              "tickcolor": "rgb(237,237,237)",
              "ticklen": 6,
              "ticks": "inside"
             }
            },
            "type": "scattergl"
           }
          ],
          "scattermapbox": [
           {
            "marker": {
             "colorbar": {
              "outlinewidth": 0,
              "tickcolor": "rgb(237,237,237)",
              "ticklen": 6,
              "ticks": "inside"
             }
            },
            "type": "scattermapbox"
           }
          ],
          "scatterpolar": [
           {
            "marker": {
             "colorbar": {
              "outlinewidth": 0,
              "tickcolor": "rgb(237,237,237)",
              "ticklen": 6,
              "ticks": "inside"
             }
            },
            "type": "scatterpolar"
           }
          ],
          "scatterpolargl": [
           {
            "marker": {
             "colorbar": {
              "outlinewidth": 0,
              "tickcolor": "rgb(237,237,237)",
              "ticklen": 6,
              "ticks": "inside"
             }
            },
            "type": "scatterpolargl"
           }
          ],
          "scatterternary": [
           {
            "marker": {
             "colorbar": {
              "outlinewidth": 0,
              "tickcolor": "rgb(237,237,237)",
              "ticklen": 6,
              "ticks": "inside"
             }
            },
            "type": "scatterternary"
           }
          ],
          "surface": [
           {
            "colorbar": {
             "outlinewidth": 0,
             "tickcolor": "rgb(237,237,237)",
             "ticklen": 6,
             "ticks": "inside"
            },
            "colorscale": [
             [
              0,
              "rgb(20,44,66)"
             ],
             [
              1,
              "rgb(90,179,244)"
             ]
            ],
            "type": "surface"
           }
          ],
          "table": [
           {
            "cells": {
             "fill": {
              "color": "rgb(237,237,237)"
             },
             "line": {
              "color": "white"
             }
            },
            "header": {
             "fill": {
              "color": "rgb(217,217,217)"
             },
             "line": {
              "color": "white"
             }
            },
            "type": "table"
           }
          ]
         },
         "layout": {
          "annotationdefaults": {
           "arrowhead": 0,
           "arrowwidth": 1
          },
          "autotypenumbers": "strict",
          "coloraxis": {
           "colorbar": {
            "outlinewidth": 0,
            "tickcolor": "rgb(237,237,237)",
            "ticklen": 6,
            "ticks": "inside"
           }
          },
          "colorscale": {
           "sequential": [
            [
             0,
             "rgb(20,44,66)"
            ],
            [
             1,
             "rgb(90,179,244)"
            ]
           ],
           "sequentialminus": [
            [
             0,
             "rgb(20,44,66)"
            ],
            [
             1,
             "rgb(90,179,244)"
            ]
           ]
          },
          "colorway": [
           "#F8766D",
           "#A3A500",
           "#00BF7D",
           "#00B0F6",
           "#E76BF3"
          ],
          "font": {
           "color": "rgb(51,51,51)"
          },
          "geo": {
           "bgcolor": "white",
           "lakecolor": "white",
           "landcolor": "rgb(237,237,237)",
           "showlakes": true,
           "showland": true,
           "subunitcolor": "white"
          },
          "hoverlabel": {
           "align": "left"
          },
          "hovermode": "closest",
          "paper_bgcolor": "white",
          "plot_bgcolor": "rgb(237,237,237)",
          "polar": {
           "angularaxis": {
            "gridcolor": "white",
            "linecolor": "white",
            "showgrid": true,
            "tickcolor": "rgb(51,51,51)",
            "ticks": "outside"
           },
           "bgcolor": "rgb(237,237,237)",
           "radialaxis": {
            "gridcolor": "white",
            "linecolor": "white",
            "showgrid": true,
            "tickcolor": "rgb(51,51,51)",
            "ticks": "outside"
           }
          },
          "scene": {
           "xaxis": {
            "backgroundcolor": "rgb(237,237,237)",
            "gridcolor": "white",
            "gridwidth": 2,
            "linecolor": "white",
            "showbackground": true,
            "showgrid": true,
            "tickcolor": "rgb(51,51,51)",
            "ticks": "outside",
            "zerolinecolor": "white"
           },
           "yaxis": {
            "backgroundcolor": "rgb(237,237,237)",
            "gridcolor": "white",
            "gridwidth": 2,
            "linecolor": "white",
            "showbackground": true,
            "showgrid": true,
            "tickcolor": "rgb(51,51,51)",
            "ticks": "outside",
            "zerolinecolor": "white"
           },
           "zaxis": {
            "backgroundcolor": "rgb(237,237,237)",
            "gridcolor": "white",
            "gridwidth": 2,
            "linecolor": "white",
            "showbackground": true,
            "showgrid": true,
            "tickcolor": "rgb(51,51,51)",
            "ticks": "outside",
            "zerolinecolor": "white"
           }
          },
          "shapedefaults": {
           "fillcolor": "black",
           "line": {
            "width": 0
           },
           "opacity": 0.3
          },
          "ternary": {
           "aaxis": {
            "gridcolor": "white",
            "linecolor": "white",
            "showgrid": true,
            "tickcolor": "rgb(51,51,51)",
            "ticks": "outside"
           },
           "baxis": {
            "gridcolor": "white",
            "linecolor": "white",
            "showgrid": true,
            "tickcolor": "rgb(51,51,51)",
            "ticks": "outside"
           },
           "bgcolor": "rgb(237,237,237)",
           "caxis": {
            "gridcolor": "white",
            "linecolor": "white",
            "showgrid": true,
            "tickcolor": "rgb(51,51,51)",
            "ticks": "outside"
           }
          },
          "xaxis": {
           "automargin": true,
           "gridcolor": "white",
           "linecolor": "white",
           "showgrid": true,
           "tickcolor": "rgb(51,51,51)",
           "ticks": "outside",
           "title": {
            "standoff": 15
           },
           "zerolinecolor": "white"
          },
          "yaxis": {
           "automargin": true,
           "gridcolor": "white",
           "linecolor": "white",
           "showgrid": true,
           "tickcolor": "rgb(51,51,51)",
           "ticks": "outside",
           "title": {
            "standoff": 15
           },
           "zerolinecolor": "white"
          }
         }
        },
        "title": {
         "text": "Actual vs. 'Out-of-Sample' Forecast | NET_SALES"
        },
        "xaxis": {
         "title": {
          "text": "Time"
         }
        },
        "yaxis": {
         "title": {
          "text": "Values"
         }
        }
       }
      }
     },
     "metadata": {},
     "output_type": "display_data"
    },
    {
     "data": {
      "text/html": [
       "<style type=\"text/css\">\n",
       "</style>\n",
       "<table id=\"T_be802\">\n",
       "  <thead>\n",
       "    <tr>\n",
       "      <th class=\"blank level0\" >&nbsp;</th>\n",
       "      <th id=\"T_be802_level0_col0\" class=\"col_heading level0 col0\" >Model</th>\n",
       "      <th id=\"T_be802_level0_col1\" class=\"col_heading level0 col1\" >MASE</th>\n",
       "      <th id=\"T_be802_level0_col2\" class=\"col_heading level0 col2\" >RMSSE</th>\n",
       "      <th id=\"T_be802_level0_col3\" class=\"col_heading level0 col3\" >MAE</th>\n",
       "      <th id=\"T_be802_level0_col4\" class=\"col_heading level0 col4\" >RMSE</th>\n",
       "      <th id=\"T_be802_level0_col5\" class=\"col_heading level0 col5\" >MAPE</th>\n",
       "      <th id=\"T_be802_level0_col6\" class=\"col_heading level0 col6\" >SMAPE</th>\n",
       "      <th id=\"T_be802_level0_col7\" class=\"col_heading level0 col7\" >R2</th>\n",
       "    </tr>\n",
       "  </thead>\n",
       "  <tbody>\n",
       "    <tr>\n",
       "      <th id=\"T_be802_level0_row0\" class=\"row_heading level0 row0\" >0</th>\n",
       "      <td id=\"T_be802_row0_col0\" class=\"data row0 col0\" >Auto ARIMA</td>\n",
       "      <td id=\"T_be802_row0_col1\" class=\"data row0 col1\" >1.4581</td>\n",
       "      <td id=\"T_be802_row0_col2\" class=\"data row0 col2\" >1.3985</td>\n",
       "      <td id=\"T_be802_row0_col3\" class=\"data row0 col3\" >1033690.3146</td>\n",
       "      <td id=\"T_be802_row0_col4\" class=\"data row0 col4\" >1306252.1809</td>\n",
       "      <td id=\"T_be802_row0_col5\" class=\"data row0 col5\" >0.2351</td>\n",
       "      <td id=\"T_be802_row0_col6\" class=\"data row0 col6\" >0.2523</td>\n",
       "      <td id=\"T_be802_row0_col7\" class=\"data row0 col7\" >-0.1992</td>\n",
       "    </tr>\n",
       "  </tbody>\n",
       "</table>\n"
      ],
      "text/plain": [
       "<pandas.io.formats.style.Styler at 0x1a6bd17a6d0>"
      ]
     },
     "metadata": {},
     "output_type": "display_data"
    },
    {
     "name": "stderr",
     "output_type": "stream",
     "text": [
      " 14%|█▍        | 2/14 [00:44<04:16, 21.34s/it]"
     ]
    },
    {
     "data": {
      "text/html": [
       "<style type=\"text/css\">\n",
       "#T_01467_row25_col1, #T_01467_row31_col1 {\n",
       "  background-color: lightgreen;\n",
       "}\n",
       "</style>\n",
       "<table id=\"T_01467\">\n",
       "  <thead>\n",
       "    <tr>\n",
       "      <th class=\"blank level0\" >&nbsp;</th>\n",
       "      <th id=\"T_01467_level0_col0\" class=\"col_heading level0 col0\" >Description</th>\n",
       "      <th id=\"T_01467_level0_col1\" class=\"col_heading level0 col1\" >Value</th>\n",
       "    </tr>\n",
       "  </thead>\n",
       "  <tbody>\n",
       "    <tr>\n",
       "      <th id=\"T_01467_level0_row0\" class=\"row_heading level0 row0\" >0</th>\n",
       "      <td id=\"T_01467_row0_col0\" class=\"data row0 col0\" >session_id</td>\n",
       "      <td id=\"T_01467_row0_col1\" class=\"data row0 col1\" >123</td>\n",
       "    </tr>\n",
       "    <tr>\n",
       "      <th id=\"T_01467_level0_row1\" class=\"row_heading level0 row1\" >1</th>\n",
       "      <td id=\"T_01467_row1_col0\" class=\"data row1 col0\" >Target</td>\n",
       "      <td id=\"T_01467_row1_col1\" class=\"data row1 col1\" >NET_SALES</td>\n",
       "    </tr>\n",
       "    <tr>\n",
       "      <th id=\"T_01467_level0_row2\" class=\"row_heading level0 row2\" >2</th>\n",
       "      <td id=\"T_01467_row2_col0\" class=\"data row2 col0\" >Approach</td>\n",
       "      <td id=\"T_01467_row2_col1\" class=\"data row2 col1\" >Univariate</td>\n",
       "    </tr>\n",
       "    <tr>\n",
       "      <th id=\"T_01467_level0_row3\" class=\"row_heading level0 row3\" >3</th>\n",
       "      <td id=\"T_01467_row3_col0\" class=\"data row3 col0\" >Exogenous Variables</td>\n",
       "      <td id=\"T_01467_row3_col1\" class=\"data row3 col1\" >Not Present</td>\n",
       "    </tr>\n",
       "    <tr>\n",
       "      <th id=\"T_01467_level0_row4\" class=\"row_heading level0 row4\" >4</th>\n",
       "      <td id=\"T_01467_row4_col0\" class=\"data row4 col0\" >Original data shape</td>\n",
       "      <td id=\"T_01467_row4_col1\" class=\"data row4 col1\" >(84, 1)</td>\n",
       "    </tr>\n",
       "    <tr>\n",
       "      <th id=\"T_01467_level0_row5\" class=\"row_heading level0 row5\" >5</th>\n",
       "      <td id=\"T_01467_row5_col0\" class=\"data row5 col0\" >Transformed data shape</td>\n",
       "      <td id=\"T_01467_row5_col1\" class=\"data row5 col1\" >(84, 1)</td>\n",
       "    </tr>\n",
       "    <tr>\n",
       "      <th id=\"T_01467_level0_row6\" class=\"row_heading level0 row6\" >6</th>\n",
       "      <td id=\"T_01467_row6_col0\" class=\"data row6 col0\" >Transformed train set shape</td>\n",
       "      <td id=\"T_01467_row6_col1\" class=\"data row6 col1\" >(72, 1)</td>\n",
       "    </tr>\n",
       "    <tr>\n",
       "      <th id=\"T_01467_level0_row7\" class=\"row_heading level0 row7\" >7</th>\n",
       "      <td id=\"T_01467_row7_col0\" class=\"data row7 col0\" >Transformed test set shape</td>\n",
       "      <td id=\"T_01467_row7_col1\" class=\"data row7 col1\" >(12, 1)</td>\n",
       "    </tr>\n",
       "    <tr>\n",
       "      <th id=\"T_01467_level0_row8\" class=\"row_heading level0 row8\" >8</th>\n",
       "      <td id=\"T_01467_row8_col0\" class=\"data row8 col0\" >Rows with missing values</td>\n",
       "      <td id=\"T_01467_row8_col1\" class=\"data row8 col1\" >0.0%</td>\n",
       "    </tr>\n",
       "    <tr>\n",
       "      <th id=\"T_01467_level0_row9\" class=\"row_heading level0 row9\" >9</th>\n",
       "      <td id=\"T_01467_row9_col0\" class=\"data row9 col0\" >Fold Generator</td>\n",
       "      <td id=\"T_01467_row9_col1\" class=\"data row9 col1\" >ExpandingWindowSplitter</td>\n",
       "    </tr>\n",
       "    <tr>\n",
       "      <th id=\"T_01467_level0_row10\" class=\"row_heading level0 row10\" >10</th>\n",
       "      <td id=\"T_01467_row10_col0\" class=\"data row10 col0\" >Fold Number</td>\n",
       "      <td id=\"T_01467_row10_col1\" class=\"data row10 col1\" >3</td>\n",
       "    </tr>\n",
       "    <tr>\n",
       "      <th id=\"T_01467_level0_row11\" class=\"row_heading level0 row11\" >11</th>\n",
       "      <td id=\"T_01467_row11_col0\" class=\"data row11 col0\" >Enforce Prediction Interval</td>\n",
       "      <td id=\"T_01467_row11_col1\" class=\"data row11 col1\" >False</td>\n",
       "    </tr>\n",
       "    <tr>\n",
       "      <th id=\"T_01467_level0_row12\" class=\"row_heading level0 row12\" >12</th>\n",
       "      <td id=\"T_01467_row12_col0\" class=\"data row12 col0\" >Splits used for hyperparameters</td>\n",
       "      <td id=\"T_01467_row12_col1\" class=\"data row12 col1\" >all</td>\n",
       "    </tr>\n",
       "    <tr>\n",
       "      <th id=\"T_01467_level0_row13\" class=\"row_heading level0 row13\" >13</th>\n",
       "      <td id=\"T_01467_row13_col0\" class=\"data row13 col0\" >User Defined Seasonal Period(s)</td>\n",
       "      <td id=\"T_01467_row13_col1\" class=\"data row13 col1\" >None</td>\n",
       "    </tr>\n",
       "    <tr>\n",
       "      <th id=\"T_01467_level0_row14\" class=\"row_heading level0 row14\" >14</th>\n",
       "      <td id=\"T_01467_row14_col0\" class=\"data row14 col0\" >Ignore Seasonality Test</td>\n",
       "      <td id=\"T_01467_row14_col1\" class=\"data row14 col1\" >False</td>\n",
       "    </tr>\n",
       "    <tr>\n",
       "      <th id=\"T_01467_level0_row15\" class=\"row_heading level0 row15\" >15</th>\n",
       "      <td id=\"T_01467_row15_col0\" class=\"data row15 col0\" >Seasonality Detection Algo</td>\n",
       "      <td id=\"T_01467_row15_col1\" class=\"data row15 col1\" >auto</td>\n",
       "    </tr>\n",
       "    <tr>\n",
       "      <th id=\"T_01467_level0_row16\" class=\"row_heading level0 row16\" >16</th>\n",
       "      <td id=\"T_01467_row16_col0\" class=\"data row16 col0\" >Max Period to Consider</td>\n",
       "      <td id=\"T_01467_row16_col1\" class=\"data row16 col1\" >60</td>\n",
       "    </tr>\n",
       "    <tr>\n",
       "      <th id=\"T_01467_level0_row17\" class=\"row_heading level0 row17\" >17</th>\n",
       "      <td id=\"T_01467_row17_col0\" class=\"data row17 col0\" >Seasonal Period(s) Tested</td>\n",
       "      <td id=\"T_01467_row17_col1\" class=\"data row17 col1\" >[12, 24]</td>\n",
       "    </tr>\n",
       "    <tr>\n",
       "      <th id=\"T_01467_level0_row18\" class=\"row_heading level0 row18\" >18</th>\n",
       "      <td id=\"T_01467_row18_col0\" class=\"data row18 col0\" >Significant Seasonal Period(s)</td>\n",
       "      <td id=\"T_01467_row18_col1\" class=\"data row18 col1\" >[12, 24]</td>\n",
       "    </tr>\n",
       "    <tr>\n",
       "      <th id=\"T_01467_level0_row19\" class=\"row_heading level0 row19\" >19</th>\n",
       "      <td id=\"T_01467_row19_col0\" class=\"data row19 col0\" >Significant Seasonal Period(s) without Harmonics</td>\n",
       "      <td id=\"T_01467_row19_col1\" class=\"data row19 col1\" >[24]</td>\n",
       "    </tr>\n",
       "    <tr>\n",
       "      <th id=\"T_01467_level0_row20\" class=\"row_heading level0 row20\" >20</th>\n",
       "      <td id=\"T_01467_row20_col0\" class=\"data row20 col0\" >Remove Harmonics</td>\n",
       "      <td id=\"T_01467_row20_col1\" class=\"data row20 col1\" >False</td>\n",
       "    </tr>\n",
       "    <tr>\n",
       "      <th id=\"T_01467_level0_row21\" class=\"row_heading level0 row21\" >21</th>\n",
       "      <td id=\"T_01467_row21_col0\" class=\"data row21 col0\" >Harmonics Order Method</td>\n",
       "      <td id=\"T_01467_row21_col1\" class=\"data row21 col1\" >harmonic_max</td>\n",
       "    </tr>\n",
       "    <tr>\n",
       "      <th id=\"T_01467_level0_row22\" class=\"row_heading level0 row22\" >22</th>\n",
       "      <td id=\"T_01467_row22_col0\" class=\"data row22 col0\" >Num Seasonalities to Use</td>\n",
       "      <td id=\"T_01467_row22_col1\" class=\"data row22 col1\" >1</td>\n",
       "    </tr>\n",
       "    <tr>\n",
       "      <th id=\"T_01467_level0_row23\" class=\"row_heading level0 row23\" >23</th>\n",
       "      <td id=\"T_01467_row23_col0\" class=\"data row23 col0\" >All Seasonalities to Use</td>\n",
       "      <td id=\"T_01467_row23_col1\" class=\"data row23 col1\" >[12]</td>\n",
       "    </tr>\n",
       "    <tr>\n",
       "      <th id=\"T_01467_level0_row24\" class=\"row_heading level0 row24\" >24</th>\n",
       "      <td id=\"T_01467_row24_col0\" class=\"data row24 col0\" >Primary Seasonality</td>\n",
       "      <td id=\"T_01467_row24_col1\" class=\"data row24 col1\" >12</td>\n",
       "    </tr>\n",
       "    <tr>\n",
       "      <th id=\"T_01467_level0_row25\" class=\"row_heading level0 row25\" >25</th>\n",
       "      <td id=\"T_01467_row25_col0\" class=\"data row25 col0\" >Seasonality Present</td>\n",
       "      <td id=\"T_01467_row25_col1\" class=\"data row25 col1\" >True</td>\n",
       "    </tr>\n",
       "    <tr>\n",
       "      <th id=\"T_01467_level0_row26\" class=\"row_heading level0 row26\" >26</th>\n",
       "      <td id=\"T_01467_row26_col0\" class=\"data row26 col0\" >Seasonality Type</td>\n",
       "      <td id=\"T_01467_row26_col1\" class=\"data row26 col1\" >mul</td>\n",
       "    </tr>\n",
       "    <tr>\n",
       "      <th id=\"T_01467_level0_row27\" class=\"row_heading level0 row27\" >27</th>\n",
       "      <td id=\"T_01467_row27_col0\" class=\"data row27 col0\" >Target Strictly Positive</td>\n",
       "      <td id=\"T_01467_row27_col1\" class=\"data row27 col1\" >True</td>\n",
       "    </tr>\n",
       "    <tr>\n",
       "      <th id=\"T_01467_level0_row28\" class=\"row_heading level0 row28\" >28</th>\n",
       "      <td id=\"T_01467_row28_col0\" class=\"data row28 col0\" >Target White Noise</td>\n",
       "      <td id=\"T_01467_row28_col1\" class=\"data row28 col1\" >No</td>\n",
       "    </tr>\n",
       "    <tr>\n",
       "      <th id=\"T_01467_level0_row29\" class=\"row_heading level0 row29\" >29</th>\n",
       "      <td id=\"T_01467_row29_col0\" class=\"data row29 col0\" >Recommended d</td>\n",
       "      <td id=\"T_01467_row29_col1\" class=\"data row29 col1\" >1</td>\n",
       "    </tr>\n",
       "    <tr>\n",
       "      <th id=\"T_01467_level0_row30\" class=\"row_heading level0 row30\" >30</th>\n",
       "      <td id=\"T_01467_row30_col0\" class=\"data row30 col0\" >Recommended Seasonal D</td>\n",
       "      <td id=\"T_01467_row30_col1\" class=\"data row30 col1\" >0</td>\n",
       "    </tr>\n",
       "    <tr>\n",
       "      <th id=\"T_01467_level0_row31\" class=\"row_heading level0 row31\" >31</th>\n",
       "      <td id=\"T_01467_row31_col0\" class=\"data row31 col0\" >Preprocess</td>\n",
       "      <td id=\"T_01467_row31_col1\" class=\"data row31 col1\" >True</td>\n",
       "    </tr>\n",
       "    <tr>\n",
       "      <th id=\"T_01467_level0_row32\" class=\"row_heading level0 row32\" >32</th>\n",
       "      <td id=\"T_01467_row32_col0\" class=\"data row32 col0\" >Numerical Imputation (Target)</td>\n",
       "      <td id=\"T_01467_row32_col1\" class=\"data row32 col1\" >mean</td>\n",
       "    </tr>\n",
       "    <tr>\n",
       "      <th id=\"T_01467_level0_row33\" class=\"row_heading level0 row33\" >33</th>\n",
       "      <td id=\"T_01467_row33_col0\" class=\"data row33 col0\" >Transformation (Target)</td>\n",
       "      <td id=\"T_01467_row33_col1\" class=\"data row33 col1\" >None</td>\n",
       "    </tr>\n",
       "    <tr>\n",
       "      <th id=\"T_01467_level0_row34\" class=\"row_heading level0 row34\" >34</th>\n",
       "      <td id=\"T_01467_row34_col0\" class=\"data row34 col0\" >Scaling (Target)</td>\n",
       "      <td id=\"T_01467_row34_col1\" class=\"data row34 col1\" >None</td>\n",
       "    </tr>\n",
       "    <tr>\n",
       "      <th id=\"T_01467_level0_row35\" class=\"row_heading level0 row35\" >35</th>\n",
       "      <td id=\"T_01467_row35_col0\" class=\"data row35 col0\" >Feature Engineering (Target) - Reduced Regression</td>\n",
       "      <td id=\"T_01467_row35_col1\" class=\"data row35 col1\" >False</td>\n",
       "    </tr>\n",
       "    <tr>\n",
       "      <th id=\"T_01467_level0_row36\" class=\"row_heading level0 row36\" >36</th>\n",
       "      <td id=\"T_01467_row36_col0\" class=\"data row36 col0\" >CPU Jobs</td>\n",
       "      <td id=\"T_01467_row36_col1\" class=\"data row36 col1\" >-1</td>\n",
       "    </tr>\n",
       "    <tr>\n",
       "      <th id=\"T_01467_level0_row37\" class=\"row_heading level0 row37\" >37</th>\n",
       "      <td id=\"T_01467_row37_col0\" class=\"data row37 col0\" >Use GPU</td>\n",
       "      <td id=\"T_01467_row37_col1\" class=\"data row37 col1\" >False</td>\n",
       "    </tr>\n",
       "    <tr>\n",
       "      <th id=\"T_01467_level0_row38\" class=\"row_heading level0 row38\" >38</th>\n",
       "      <td id=\"T_01467_row38_col0\" class=\"data row38 col0\" >Log Experiment</td>\n",
       "      <td id=\"T_01467_row38_col1\" class=\"data row38 col1\" >False</td>\n",
       "    </tr>\n",
       "    <tr>\n",
       "      <th id=\"T_01467_level0_row39\" class=\"row_heading level0 row39\" >39</th>\n",
       "      <td id=\"T_01467_row39_col0\" class=\"data row39 col0\" >Experiment Name</td>\n",
       "      <td id=\"T_01467_row39_col1\" class=\"data row39 col1\" >ts-default-name</td>\n",
       "    </tr>\n",
       "    <tr>\n",
       "      <th id=\"T_01467_level0_row40\" class=\"row_heading level0 row40\" >40</th>\n",
       "      <td id=\"T_01467_row40_col0\" class=\"data row40 col0\" >USI</td>\n",
       "      <td id=\"T_01467_row40_col1\" class=\"data row40 col1\" >9e8e</td>\n",
       "    </tr>\n",
       "  </tbody>\n",
       "</table>\n"
      ],
      "text/plain": [
       "<pandas.io.formats.style.Styler at 0x1a6c022cbe0>"
      ]
     },
     "metadata": {},
     "output_type": "display_data"
    },
    {
     "data": {
      "text/html": [],
      "text/plain": [
       "<IPython.core.display.HTML object>"
      ]
     },
     "metadata": {},
     "output_type": "display_data"
    },
    {
     "data": {
      "text/html": [
       "<style type=\"text/css\">\n",
       "#T_567d2 th {\n",
       "  text-align: left;\n",
       "}\n",
       "#T_567d2_row0_col0, #T_567d2_row1_col0, #T_567d2_row1_col1, #T_567d2_row1_col2, #T_567d2_row1_col3, #T_567d2_row1_col4, #T_567d2_row1_col5, #T_567d2_row1_col6, #T_567d2_row1_col7, #T_567d2_row2_col0, #T_567d2_row2_col1, #T_567d2_row2_col2, #T_567d2_row2_col3, #T_567d2_row2_col4, #T_567d2_row2_col5, #T_567d2_row2_col6, #T_567d2_row2_col7, #T_567d2_row3_col0, #T_567d2_row3_col1, #T_567d2_row3_col2, #T_567d2_row3_col3, #T_567d2_row3_col4, #T_567d2_row3_col5, #T_567d2_row3_col6, #T_567d2_row3_col7, #T_567d2_row4_col0, #T_567d2_row4_col1, #T_567d2_row4_col2, #T_567d2_row4_col3, #T_567d2_row4_col4, #T_567d2_row4_col5, #T_567d2_row4_col6, #T_567d2_row4_col7, #T_567d2_row5_col0, #T_567d2_row5_col1, #T_567d2_row5_col2, #T_567d2_row5_col3, #T_567d2_row5_col4, #T_567d2_row5_col5, #T_567d2_row5_col6, #T_567d2_row5_col7, #T_567d2_row6_col0, #T_567d2_row6_col1, #T_567d2_row6_col2, #T_567d2_row6_col3, #T_567d2_row6_col4, #T_567d2_row6_col5, #T_567d2_row6_col6, #T_567d2_row6_col7, #T_567d2_row7_col0, #T_567d2_row7_col1, #T_567d2_row7_col2, #T_567d2_row7_col3, #T_567d2_row7_col4, #T_567d2_row7_col5, #T_567d2_row7_col6, #T_567d2_row7_col7, #T_567d2_row8_col0, #T_567d2_row8_col1, #T_567d2_row8_col2, #T_567d2_row8_col3, #T_567d2_row8_col4, #T_567d2_row8_col5, #T_567d2_row8_col6, #T_567d2_row8_col7, #T_567d2_row9_col0, #T_567d2_row9_col1, #T_567d2_row9_col2, #T_567d2_row9_col3, #T_567d2_row9_col4, #T_567d2_row9_col5, #T_567d2_row9_col6, #T_567d2_row9_col7, #T_567d2_row10_col0, #T_567d2_row10_col1, #T_567d2_row10_col2, #T_567d2_row10_col3, #T_567d2_row10_col4, #T_567d2_row10_col5, #T_567d2_row10_col6, #T_567d2_row10_col7, #T_567d2_row11_col0, #T_567d2_row11_col1, #T_567d2_row11_col2, #T_567d2_row11_col3, #T_567d2_row11_col4, #T_567d2_row11_col5, #T_567d2_row11_col6, #T_567d2_row11_col7, #T_567d2_row12_col0, #T_567d2_row12_col1, #T_567d2_row12_col2, #T_567d2_row12_col3, #T_567d2_row12_col4, #T_567d2_row12_col5, #T_567d2_row12_col6, #T_567d2_row12_col7, #T_567d2_row13_col0, #T_567d2_row13_col1, #T_567d2_row13_col2, #T_567d2_row13_col3, #T_567d2_row13_col4, #T_567d2_row13_col5, #T_567d2_row13_col6, #T_567d2_row13_col7, #T_567d2_row14_col0, #T_567d2_row14_col1, #T_567d2_row14_col2, #T_567d2_row14_col3, #T_567d2_row14_col4, #T_567d2_row14_col5, #T_567d2_row14_col6, #T_567d2_row14_col7, #T_567d2_row15_col0, #T_567d2_row15_col1, #T_567d2_row15_col2, #T_567d2_row15_col3, #T_567d2_row15_col4, #T_567d2_row15_col5, #T_567d2_row15_col6, #T_567d2_row15_col7, #T_567d2_row16_col0, #T_567d2_row16_col1, #T_567d2_row16_col2, #T_567d2_row16_col3, #T_567d2_row16_col4, #T_567d2_row16_col5, #T_567d2_row16_col6, #T_567d2_row16_col7, #T_567d2_row17_col0, #T_567d2_row17_col1, #T_567d2_row17_col2, #T_567d2_row17_col3, #T_567d2_row17_col4, #T_567d2_row17_col5, #T_567d2_row17_col6, #T_567d2_row17_col7, #T_567d2_row18_col0, #T_567d2_row18_col1, #T_567d2_row18_col2, #T_567d2_row18_col3, #T_567d2_row18_col4, #T_567d2_row18_col5, #T_567d2_row18_col6, #T_567d2_row18_col7, #T_567d2_row19_col0, #T_567d2_row19_col1, #T_567d2_row19_col2, #T_567d2_row19_col3, #T_567d2_row19_col4, #T_567d2_row19_col5, #T_567d2_row19_col6, #T_567d2_row19_col7, #T_567d2_row20_col0, #T_567d2_row20_col1, #T_567d2_row20_col2, #T_567d2_row20_col3, #T_567d2_row20_col4, #T_567d2_row20_col5, #T_567d2_row20_col6, #T_567d2_row20_col7, #T_567d2_row21_col0, #T_567d2_row21_col1, #T_567d2_row21_col2, #T_567d2_row21_col3, #T_567d2_row21_col4, #T_567d2_row21_col5, #T_567d2_row21_col6, #T_567d2_row21_col7, #T_567d2_row22_col0, #T_567d2_row22_col1, #T_567d2_row22_col2, #T_567d2_row22_col3, #T_567d2_row22_col4, #T_567d2_row22_col5, #T_567d2_row22_col6, #T_567d2_row22_col7, #T_567d2_row23_col0, #T_567d2_row23_col1, #T_567d2_row23_col2, #T_567d2_row23_col3, #T_567d2_row23_col4, #T_567d2_row23_col5, #T_567d2_row23_col6, #T_567d2_row23_col7 {\n",
       "  text-align: left;\n",
       "}\n",
       "#T_567d2_row0_col1, #T_567d2_row0_col2, #T_567d2_row0_col3, #T_567d2_row0_col4, #T_567d2_row0_col5, #T_567d2_row0_col6, #T_567d2_row0_col7 {\n",
       "  text-align: left;\n",
       "  background-color: yellow;\n",
       "}\n",
       "#T_567d2_row0_col8, #T_567d2_row1_col8, #T_567d2_row3_col8, #T_567d2_row4_col8, #T_567d2_row5_col8, #T_567d2_row6_col8, #T_567d2_row7_col8, #T_567d2_row8_col8, #T_567d2_row9_col8, #T_567d2_row10_col8, #T_567d2_row11_col8, #T_567d2_row12_col8, #T_567d2_row13_col8, #T_567d2_row14_col8, #T_567d2_row15_col8, #T_567d2_row16_col8, #T_567d2_row17_col8, #T_567d2_row18_col8, #T_567d2_row19_col8, #T_567d2_row20_col8, #T_567d2_row21_col8, #T_567d2_row22_col8, #T_567d2_row23_col8 {\n",
       "  text-align: left;\n",
       "  background-color: lightgrey;\n",
       "}\n",
       "#T_567d2_row2_col8 {\n",
       "  text-align: left;\n",
       "  background-color: yellow;\n",
       "  background-color: lightgrey;\n",
       "}\n",
       "</style>\n",
       "<table id=\"T_567d2\">\n",
       "  <thead>\n",
       "    <tr>\n",
       "      <th class=\"blank level0\" >&nbsp;</th>\n",
       "      <th id=\"T_567d2_level0_col0\" class=\"col_heading level0 col0\" >Model</th>\n",
       "      <th id=\"T_567d2_level0_col1\" class=\"col_heading level0 col1\" >MASE</th>\n",
       "      <th id=\"T_567d2_level0_col2\" class=\"col_heading level0 col2\" >RMSSE</th>\n",
       "      <th id=\"T_567d2_level0_col3\" class=\"col_heading level0 col3\" >MAE</th>\n",
       "      <th id=\"T_567d2_level0_col4\" class=\"col_heading level0 col4\" >RMSE</th>\n",
       "      <th id=\"T_567d2_level0_col5\" class=\"col_heading level0 col5\" >MAPE</th>\n",
       "      <th id=\"T_567d2_level0_col6\" class=\"col_heading level0 col6\" >SMAPE</th>\n",
       "      <th id=\"T_567d2_level0_col7\" class=\"col_heading level0 col7\" >R2</th>\n",
       "      <th id=\"T_567d2_level0_col8\" class=\"col_heading level0 col8\" >TT (Sec)</th>\n",
       "    </tr>\n",
       "  </thead>\n",
       "  <tbody>\n",
       "    <tr>\n",
       "      <th id=\"T_567d2_level0_row0\" class=\"row_heading level0 row0\" >ets</th>\n",
       "      <td id=\"T_567d2_row0_col0\" class=\"data row0 col0\" >ETS</td>\n",
       "      <td id=\"T_567d2_row0_col1\" class=\"data row0 col1\" >1.7039</td>\n",
       "      <td id=\"T_567d2_row0_col2\" class=\"data row0 col2\" >1.7516</td>\n",
       "      <td id=\"T_567d2_row0_col3\" class=\"data row0 col3\" >775296.3733</td>\n",
       "      <td id=\"T_567d2_row0_col4\" class=\"data row0 col4\" >1003066.1056</td>\n",
       "      <td id=\"T_567d2_row0_col5\" class=\"data row0 col5\" >0.2363</td>\n",
       "      <td id=\"T_567d2_row0_col6\" class=\"data row0 col6\" >0.2766</td>\n",
       "      <td id=\"T_567d2_row0_col7\" class=\"data row0 col7\" >0.1209</td>\n",
       "      <td id=\"T_567d2_row0_col8\" class=\"data row0 col8\" >0.0600</td>\n",
       "    </tr>\n",
       "    <tr>\n",
       "      <th id=\"T_567d2_level0_row1\" class=\"row_heading level0 row1\" >theta</th>\n",
       "      <td id=\"T_567d2_row1_col0\" class=\"data row1 col0\" >Theta Forecaster</td>\n",
       "      <td id=\"T_567d2_row1_col1\" class=\"data row1 col1\" >1.9184</td>\n",
       "      <td id=\"T_567d2_row1_col2\" class=\"data row1 col2\" >1.9038</td>\n",
       "      <td id=\"T_567d2_row1_col3\" class=\"data row1 col3\" >902748.3539</td>\n",
       "      <td id=\"T_567d2_row1_col4\" class=\"data row1 col4\" >1176315.5894</td>\n",
       "      <td id=\"T_567d2_row1_col5\" class=\"data row1 col5\" >0.2652</td>\n",
       "      <td id=\"T_567d2_row1_col6\" class=\"data row1 col6\" >0.2889</td>\n",
       "      <td id=\"T_567d2_row1_col7\" class=\"data row1 col7\" >-0.5369</td>\n",
       "      <td id=\"T_567d2_row1_col8\" class=\"data row1 col8\" >0.0300</td>\n",
       "    </tr>\n",
       "    <tr>\n",
       "      <th id=\"T_567d2_level0_row2\" class=\"row_heading level0 row2\" >polytrend</th>\n",
       "      <td id=\"T_567d2_row2_col0\" class=\"data row2 col0\" >Polynomial Trend Forecaster</td>\n",
       "      <td id=\"T_567d2_row2_col1\" class=\"data row2 col1\" >2.0622</td>\n",
       "      <td id=\"T_567d2_row2_col2\" class=\"data row2 col2\" >2.2202</td>\n",
       "      <td id=\"T_567d2_row2_col3\" class=\"data row2 col3\" >932636.6831</td>\n",
       "      <td id=\"T_567d2_row2_col4\" class=\"data row2 col4\" >1266844.5048</td>\n",
       "      <td id=\"T_567d2_row2_col5\" class=\"data row2 col5\" >0.2681</td>\n",
       "      <td id=\"T_567d2_row2_col6\" class=\"data row2 col6\" >0.3026</td>\n",
       "      <td id=\"T_567d2_row2_col7\" class=\"data row2 col7\" >-0.3958</td>\n",
       "      <td id=\"T_567d2_row2_col8\" class=\"data row2 col8\" >0.0233</td>\n",
       "    </tr>\n",
       "    <tr>\n",
       "      <th id=\"T_567d2_level0_row3\" class=\"row_heading level0 row3\" >br_cds_dt</th>\n",
       "      <td id=\"T_567d2_row3_col0\" class=\"data row3 col0\" >Bayesian Ridge w/ Cond. Deseasonalize & Detrending</td>\n",
       "      <td id=\"T_567d2_row3_col1\" class=\"data row3 col1\" >2.2270</td>\n",
       "      <td id=\"T_567d2_row3_col2\" class=\"data row3 col2\" >2.1228</td>\n",
       "      <td id=\"T_567d2_row3_col3\" class=\"data row3 col3\" >1001041.7135</td>\n",
       "      <td id=\"T_567d2_row3_col4\" class=\"data row3 col4\" >1222064.0515</td>\n",
       "      <td id=\"T_567d2_row3_col5\" class=\"data row3 col5\" >0.2989</td>\n",
       "      <td id=\"T_567d2_row3_col6\" class=\"data row3 col6\" >0.3798</td>\n",
       "      <td id=\"T_567d2_row3_col7\" class=\"data row3 col7\" >-0.3169</td>\n",
       "      <td id=\"T_567d2_row3_col8\" class=\"data row3 col8\" >0.1200</td>\n",
       "    </tr>\n",
       "    <tr>\n",
       "      <th id=\"T_567d2_level0_row4\" class=\"row_heading level0 row4\" >snaive</th>\n",
       "      <td id=\"T_567d2_row4_col0\" class=\"data row4 col0\" >Seasonal Naive Forecaster</td>\n",
       "      <td id=\"T_567d2_row4_col1\" class=\"data row4 col1\" >2.0631</td>\n",
       "      <td id=\"T_567d2_row4_col2\" class=\"data row4 col2\" >1.8998</td>\n",
       "      <td id=\"T_567d2_row4_col3\" class=\"data row4 col3\" >994582.1911</td>\n",
       "      <td id=\"T_567d2_row4_col4\" class=\"data row4 col4\" >1190315.2471</td>\n",
       "      <td id=\"T_567d2_row4_col5\" class=\"data row4 col5\" >0.3025</td>\n",
       "      <td id=\"T_567d2_row4_col6\" class=\"data row4 col6\" >0.3293</td>\n",
       "      <td id=\"T_567d2_row4_col7\" class=\"data row4 col7\" >-0.7098</td>\n",
       "      <td id=\"T_567d2_row4_col8\" class=\"data row4 col8\" >0.0467</td>\n",
       "    </tr>\n",
       "    <tr>\n",
       "      <th id=\"T_567d2_level0_row5\" class=\"row_heading level0 row5\" >knn_cds_dt</th>\n",
       "      <td id=\"T_567d2_row5_col0\" class=\"data row5 col0\" >K Neighbors w/ Cond. Deseasonalize & Detrending</td>\n",
       "      <td id=\"T_567d2_row5_col1\" class=\"data row5 col1\" >2.1734</td>\n",
       "      <td id=\"T_567d2_row5_col2\" class=\"data row5 col2\" >2.0400</td>\n",
       "      <td id=\"T_567d2_row5_col3\" class=\"data row5 col3\" >990194.9687</td>\n",
       "      <td id=\"T_567d2_row5_col4\" class=\"data row5 col4\" >1178863.8396</td>\n",
       "      <td id=\"T_567d2_row5_col5\" class=\"data row5 col5\" >0.3058</td>\n",
       "      <td id=\"T_567d2_row5_col6\" class=\"data row5 col6\" >0.3783</td>\n",
       "      <td id=\"T_567d2_row5_col7\" class=\"data row5 col7\" >-0.2268</td>\n",
       "      <td id=\"T_567d2_row5_col8\" class=\"data row5 col8\" >0.2267</td>\n",
       "    </tr>\n",
       "    <tr>\n",
       "      <th id=\"T_567d2_level0_row6\" class=\"row_heading level0 row6\" >gbr_cds_dt</th>\n",
       "      <td id=\"T_567d2_row6_col0\" class=\"data row6 col0\" >Gradient Boosting w/ Cond. Deseasonalize & Detrending</td>\n",
       "      <td id=\"T_567d2_row6_col1\" class=\"data row6 col1\" >2.1984</td>\n",
       "      <td id=\"T_567d2_row6_col2\" class=\"data row6 col2\" >2.1185</td>\n",
       "      <td id=\"T_567d2_row6_col3\" class=\"data row6 col3\" >998141.7710</td>\n",
       "      <td id=\"T_567d2_row6_col4\" class=\"data row6 col4\" >1222535.4310</td>\n",
       "      <td id=\"T_567d2_row6_col5\" class=\"data row6 col5\" >0.3089</td>\n",
       "      <td id=\"T_567d2_row6_col6\" class=\"data row6 col6\" >0.3977</td>\n",
       "      <td id=\"T_567d2_row6_col7\" class=\"data row6 col7\" >-0.3198</td>\n",
       "      <td id=\"T_567d2_row6_col8\" class=\"data row6 col8\" >0.1300</td>\n",
       "    </tr>\n",
       "    <tr>\n",
       "      <th id=\"T_567d2_level0_row7\" class=\"row_heading level0 row7\" >ada_cds_dt</th>\n",
       "      <td id=\"T_567d2_row7_col0\" class=\"data row7 col0\" >AdaBoost w/ Cond. Deseasonalize & Detrending</td>\n",
       "      <td id=\"T_567d2_row7_col1\" class=\"data row7 col1\" >2.2517</td>\n",
       "      <td id=\"T_567d2_row7_col2\" class=\"data row7 col2\" >2.1396</td>\n",
       "      <td id=\"T_567d2_row7_col3\" class=\"data row7 col3\" >1014426.3500</td>\n",
       "      <td id=\"T_567d2_row7_col4\" class=\"data row7 col4\" >1227948.4722</td>\n",
       "      <td id=\"T_567d2_row7_col5\" class=\"data row7 col5\" >0.3094</td>\n",
       "      <td id=\"T_567d2_row7_col6\" class=\"data row7 col6\" >0.3927</td>\n",
       "      <td id=\"T_567d2_row7_col7\" class=\"data row7 col7\" >-0.3191</td>\n",
       "      <td id=\"T_567d2_row7_col8\" class=\"data row7 col8\" >0.1467</td>\n",
       "    </tr>\n",
       "    <tr>\n",
       "      <th id=\"T_567d2_level0_row8\" class=\"row_heading level0 row8\" >omp_cds_dt</th>\n",
       "      <td id=\"T_567d2_row8_col0\" class=\"data row8 col0\" >Orthogonal Matching Pursuit w/ Cond. Deseasonalize & Detrending</td>\n",
       "      <td id=\"T_567d2_row8_col1\" class=\"data row8 col1\" >2.2555</td>\n",
       "      <td id=\"T_567d2_row8_col2\" class=\"data row8 col2\" >2.1218</td>\n",
       "      <td id=\"T_567d2_row8_col3\" class=\"data row8 col3\" >1017054.6039</td>\n",
       "      <td id=\"T_567d2_row8_col4\" class=\"data row8 col4\" >1216517.1591</td>\n",
       "      <td id=\"T_567d2_row8_col5\" class=\"data row8 col5\" >0.3094</td>\n",
       "      <td id=\"T_567d2_row8_col6\" class=\"data row8 col6\" >0.3858</td>\n",
       "      <td id=\"T_567d2_row8_col7\" class=\"data row8 col7\" >-0.2945</td>\n",
       "      <td id=\"T_567d2_row8_col8\" class=\"data row8 col8\" >0.1233</td>\n",
       "    </tr>\n",
       "    <tr>\n",
       "      <th id=\"T_567d2_level0_row9\" class=\"row_heading level0 row9\" >lightgbm_cds_dt</th>\n",
       "      <td id=\"T_567d2_row9_col0\" class=\"data row9 col0\" >Light Gradient Boosting w/ Cond. Deseasonalize & Detrending</td>\n",
       "      <td id=\"T_567d2_row9_col1\" class=\"data row9 col1\" >2.2805</td>\n",
       "      <td id=\"T_567d2_row9_col2\" class=\"data row9 col2\" >2.1272</td>\n",
       "      <td id=\"T_567d2_row9_col3\" class=\"data row9 col3\" >1038202.3838</td>\n",
       "      <td id=\"T_567d2_row9_col4\" class=\"data row9 col4\" >1227156.5254</td>\n",
       "      <td id=\"T_567d2_row9_col5\" class=\"data row9 col5\" >0.3188</td>\n",
       "      <td id=\"T_567d2_row9_col6\" class=\"data row9 col6\" >0.3900</td>\n",
       "      <td id=\"T_567d2_row9_col7\" class=\"data row9 col7\" >-0.3329</td>\n",
       "      <td id=\"T_567d2_row9_col8\" class=\"data row9 col8\" >0.2500</td>\n",
       "    </tr>\n",
       "    <tr>\n",
       "      <th id=\"T_567d2_level0_row10\" class=\"row_heading level0 row10\" >rf_cds_dt</th>\n",
       "      <td id=\"T_567d2_row10_col0\" class=\"data row10 col0\" >Random Forest w/ Cond. Deseasonalize & Detrending</td>\n",
       "      <td id=\"T_567d2_row10_col1\" class=\"data row10 col1\" >2.2958</td>\n",
       "      <td id=\"T_567d2_row10_col2\" class=\"data row10 col2\" >2.1590</td>\n",
       "      <td id=\"T_567d2_row10_col3\" class=\"data row10 col3\" >1040020.5933</td>\n",
       "      <td id=\"T_567d2_row10_col4\" class=\"data row10 col4\" >1238330.2112</td>\n",
       "      <td id=\"T_567d2_row10_col5\" class=\"data row10 col5\" >0.3190</td>\n",
       "      <td id=\"T_567d2_row10_col6\" class=\"data row10 col6\" >0.4015</td>\n",
       "      <td id=\"T_567d2_row10_col7\" class=\"data row10 col7\" >-0.3410</td>\n",
       "      <td id=\"T_567d2_row10_col8\" class=\"data row10 col8\" >0.2667</td>\n",
       "    </tr>\n",
       "    <tr>\n",
       "      <th id=\"T_567d2_level0_row11\" class=\"row_heading level0 row11\" >et_cds_dt</th>\n",
       "      <td id=\"T_567d2_row11_col0\" class=\"data row11 col0\" >Extra Trees w/ Cond. Deseasonalize & Detrending</td>\n",
       "      <td id=\"T_567d2_row11_col1\" class=\"data row11 col1\" >2.3287</td>\n",
       "      <td id=\"T_567d2_row11_col2\" class=\"data row11 col2\" >2.1779</td>\n",
       "      <td id=\"T_567d2_row11_col3\" class=\"data row11 col3\" >1057003.3220</td>\n",
       "      <td id=\"T_567d2_row11_col4\" class=\"data row11 col4\" >1251525.3081</td>\n",
       "      <td id=\"T_567d2_row11_col5\" class=\"data row11 col5\" >0.3249</td>\n",
       "      <td id=\"T_567d2_row11_col6\" class=\"data row11 col6\" >0.4054</td>\n",
       "      <td id=\"T_567d2_row11_col7\" class=\"data row11 col7\" >-0.3763</td>\n",
       "      <td id=\"T_567d2_row11_col8\" class=\"data row11 col8\" >0.2533</td>\n",
       "    </tr>\n",
       "    <tr>\n",
       "      <th id=\"T_567d2_level0_row12\" class=\"row_heading level0 row12\" >xgboost_cds_dt</th>\n",
       "      <td id=\"T_567d2_row12_col0\" class=\"data row12 col0\" >Extreme Gradient Boosting w/ Cond. Deseasonalize & Detrending</td>\n",
       "      <td id=\"T_567d2_row12_col1\" class=\"data row12 col1\" >2.2419</td>\n",
       "      <td id=\"T_567d2_row12_col2\" class=\"data row12 col2\" >2.1950</td>\n",
       "      <td id=\"T_567d2_row12_col3\" class=\"data row12 col3\" >1032343.8812</td>\n",
       "      <td id=\"T_567d2_row12_col4\" class=\"data row12 col4\" >1277962.0205</td>\n",
       "      <td id=\"T_567d2_row12_col5\" class=\"data row12 col5\" >0.3250</td>\n",
       "      <td id=\"T_567d2_row12_col6\" class=\"data row12 col6\" >0.4218</td>\n",
       "      <td id=\"T_567d2_row12_col7\" class=\"data row12 col7\" >-0.4630</td>\n",
       "      <td id=\"T_567d2_row12_col8\" class=\"data row12 col8\" >0.5700</td>\n",
       "    </tr>\n",
       "    <tr>\n",
       "      <th id=\"T_567d2_level0_row13\" class=\"row_heading level0 row13\" >huber_cds_dt</th>\n",
       "      <td id=\"T_567d2_row13_col0\" class=\"data row13 col0\" >Huber w/ Cond. Deseasonalize & Detrending</td>\n",
       "      <td id=\"T_567d2_row13_col1\" class=\"data row13 col1\" >2.3078</td>\n",
       "      <td id=\"T_567d2_row13_col2\" class=\"data row13 col2\" >2.2484</td>\n",
       "      <td id=\"T_567d2_row13_col3\" class=\"data row13 col3\" >1034016.8538</td>\n",
       "      <td id=\"T_567d2_row13_col4\" class=\"data row13 col4\" >1281194.5021</td>\n",
       "      <td id=\"T_567d2_row13_col5\" class=\"data row13 col5\" >0.3303</td>\n",
       "      <td id=\"T_567d2_row13_col6\" class=\"data row13 col6\" >0.4273</td>\n",
       "      <td id=\"T_567d2_row13_col7\" class=\"data row13 col7\" >-0.4206</td>\n",
       "      <td id=\"T_567d2_row13_col8\" class=\"data row13 col8\" >0.1333</td>\n",
       "    </tr>\n",
       "    <tr>\n",
       "      <th id=\"T_567d2_level0_row14\" class=\"row_heading level0 row14\" >arima</th>\n",
       "      <td id=\"T_567d2_row14_col0\" class=\"data row14 col0\" >ARIMA</td>\n",
       "      <td id=\"T_567d2_row14_col1\" class=\"data row14 col1\" >2.2369</td>\n",
       "      <td id=\"T_567d2_row14_col2\" class=\"data row14 col2\" >2.0612</td>\n",
       "      <td id=\"T_567d2_row14_col3\" class=\"data row14 col3\" >1074576.9459</td>\n",
       "      <td id=\"T_567d2_row14_col4\" class=\"data row14 col4\" >1286158.7946</td>\n",
       "      <td id=\"T_567d2_row14_col5\" class=\"data row14 col5\" >0.3346</td>\n",
       "      <td id=\"T_567d2_row14_col6\" class=\"data row14 col6\" >0.3633</td>\n",
       "      <td id=\"T_567d2_row14_col7\" class=\"data row14 col7\" >-0.8850</td>\n",
       "      <td id=\"T_567d2_row14_col8\" class=\"data row14 col8\" >0.0400</td>\n",
       "    </tr>\n",
       "    <tr>\n",
       "      <th id=\"T_567d2_level0_row15\" class=\"row_heading level0 row15\" >dt_cds_dt</th>\n",
       "      <td id=\"T_567d2_row15_col0\" class=\"data row15 col0\" >Decision Tree w/ Cond. Deseasonalize & Detrending</td>\n",
       "      <td id=\"T_567d2_row15_col1\" class=\"data row15 col1\" >2.3987</td>\n",
       "      <td id=\"T_567d2_row15_col2\" class=\"data row15 col2\" >2.3203</td>\n",
       "      <td id=\"T_567d2_row15_col3\" class=\"data row15 col3\" >1136029.3231</td>\n",
       "      <td id=\"T_567d2_row15_col4\" class=\"data row15 col4\" >1419529.9427</td>\n",
       "      <td id=\"T_567d2_row15_col5\" class=\"data row15 col5\" >0.3642</td>\n",
       "      <td id=\"T_567d2_row15_col6\" class=\"data row15 col6\" >0.4347</td>\n",
       "      <td id=\"T_567d2_row15_col7\" class=\"data row15 col7\" >-1.0762</td>\n",
       "      <td id=\"T_567d2_row15_col8\" class=\"data row15 col8\" >0.1167</td>\n",
       "    </tr>\n",
       "    <tr>\n",
       "      <th id=\"T_567d2_level0_row16\" class=\"row_heading level0 row16\" >auto_arima</th>\n",
       "      <td id=\"T_567d2_row16_col0\" class=\"data row16 col0\" >Auto ARIMA</td>\n",
       "      <td id=\"T_567d2_row16_col1\" class=\"data row16 col1\" >2.3595</td>\n",
       "      <td id=\"T_567d2_row16_col2\" class=\"data row16 col2\" >2.2373</td>\n",
       "      <td id=\"T_567d2_row16_col3\" class=\"data row16 col3\" >1200444.3355</td>\n",
       "      <td id=\"T_567d2_row16_col4\" class=\"data row16 col4\" >1488443.9868</td>\n",
       "      <td id=\"T_567d2_row16_col5\" class=\"data row16 col5\" >0.3708</td>\n",
       "      <td id=\"T_567d2_row16_col6\" class=\"data row16 col6\" >0.3400</td>\n",
       "      <td id=\"T_567d2_row16_col7\" class=\"data row16 col7\" >-2.2046</td>\n",
       "      <td id=\"T_567d2_row16_col8\" class=\"data row16 col8\" >0.3100</td>\n",
       "    </tr>\n",
       "    <tr>\n",
       "      <th id=\"T_567d2_level0_row17\" class=\"row_heading level0 row17\" >stlf</th>\n",
       "      <td id=\"T_567d2_row17_col0\" class=\"data row17 col0\" >STLF</td>\n",
       "      <td id=\"T_567d2_row17_col1\" class=\"data row17 col1\" >2.4252</td>\n",
       "      <td id=\"T_567d2_row17_col2\" class=\"data row17 col2\" >2.1688</td>\n",
       "      <td id=\"T_567d2_row17_col3\" class=\"data row17 col3\" >1190181.2998</td>\n",
       "      <td id=\"T_567d2_row17_col4\" class=\"data row17 col4\" >1385353.4669</td>\n",
       "      <td id=\"T_567d2_row17_col5\" class=\"data row17 col5\" >0.3914</td>\n",
       "      <td id=\"T_567d2_row17_col6\" class=\"data row17 col6\" >0.3964</td>\n",
       "      <td id=\"T_567d2_row17_col7\" class=\"data row17 col7\" >-1.3420</td>\n",
       "      <td id=\"T_567d2_row17_col8\" class=\"data row17 col8\" >0.0333</td>\n",
       "    </tr>\n",
       "    <tr>\n",
       "      <th id=\"T_567d2_level0_row18\" class=\"row_heading level0 row18\" >lr_cds_dt</th>\n",
       "      <td id=\"T_567d2_row18_col0\" class=\"data row18 col0\" >Linear w/ Cond. Deseasonalize & Detrending</td>\n",
       "      <td id=\"T_567d2_row18_col1\" class=\"data row18 col1\" >2.5795</td>\n",
       "      <td id=\"T_567d2_row18_col2\" class=\"data row18 col2\" >2.4481</td>\n",
       "      <td id=\"T_567d2_row18_col3\" class=\"data row18 col3\" >1174505.7061</td>\n",
       "      <td id=\"T_567d2_row18_col4\" class=\"data row18 col4\" >1418108.4210</td>\n",
       "      <td id=\"T_567d2_row18_col5\" class=\"data row18 col5\" >0.3921</td>\n",
       "      <td id=\"T_567d2_row18_col6\" class=\"data row18 col6\" >0.5297</td>\n",
       "      <td id=\"T_567d2_row18_col7\" class=\"data row18 col7\" >-0.7943</td>\n",
       "      <td id=\"T_567d2_row18_col8\" class=\"data row18 col8\" >0.1167</td>\n",
       "    </tr>\n",
       "    <tr>\n",
       "      <th id=\"T_567d2_level0_row19\" class=\"row_heading level0 row19\" >en_cds_dt</th>\n",
       "      <td id=\"T_567d2_row19_col0\" class=\"data row19 col0\" >Elastic Net w/ Cond. Deseasonalize & Detrending</td>\n",
       "      <td id=\"T_567d2_row19_col1\" class=\"data row19 col1\" >2.5795</td>\n",
       "      <td id=\"T_567d2_row19_col2\" class=\"data row19 col2\" >2.4481</td>\n",
       "      <td id=\"T_567d2_row19_col3\" class=\"data row19 col3\" >1174505.7061</td>\n",
       "      <td id=\"T_567d2_row19_col4\" class=\"data row19 col4\" >1418108.4209</td>\n",
       "      <td id=\"T_567d2_row19_col5\" class=\"data row19 col5\" >0.3921</td>\n",
       "      <td id=\"T_567d2_row19_col6\" class=\"data row19 col6\" >0.5297</td>\n",
       "      <td id=\"T_567d2_row19_col7\" class=\"data row19 col7\" >-0.7943</td>\n",
       "      <td id=\"T_567d2_row19_col8\" class=\"data row19 col8\" >0.1267</td>\n",
       "    </tr>\n",
       "    <tr>\n",
       "      <th id=\"T_567d2_level0_row20\" class=\"row_heading level0 row20\" >ridge_cds_dt</th>\n",
       "      <td id=\"T_567d2_row20_col0\" class=\"data row20 col0\" >Ridge w/ Cond. Deseasonalize & Detrending</td>\n",
       "      <td id=\"T_567d2_row20_col1\" class=\"data row20 col1\" >2.5795</td>\n",
       "      <td id=\"T_567d2_row20_col2\" class=\"data row20 col2\" >2.4481</td>\n",
       "      <td id=\"T_567d2_row20_col3\" class=\"data row20 col3\" >1174505.7061</td>\n",
       "      <td id=\"T_567d2_row20_col4\" class=\"data row20 col4\" >1418108.4210</td>\n",
       "      <td id=\"T_567d2_row20_col5\" class=\"data row20 col5\" >0.3921</td>\n",
       "      <td id=\"T_567d2_row20_col6\" class=\"data row20 col6\" >0.5297</td>\n",
       "      <td id=\"T_567d2_row20_col7\" class=\"data row20 col7\" >-0.7943</td>\n",
       "      <td id=\"T_567d2_row20_col8\" class=\"data row20 col8\" >0.1133</td>\n",
       "    </tr>\n",
       "    <tr>\n",
       "      <th id=\"T_567d2_level0_row21\" class=\"row_heading level0 row21\" >lasso_cds_dt</th>\n",
       "      <td id=\"T_567d2_row21_col0\" class=\"data row21 col0\" >Lasso w/ Cond. Deseasonalize & Detrending</td>\n",
       "      <td id=\"T_567d2_row21_col1\" class=\"data row21 col1\" >2.5795</td>\n",
       "      <td id=\"T_567d2_row21_col2\" class=\"data row21 col2\" >2.4481</td>\n",
       "      <td id=\"T_567d2_row21_col3\" class=\"data row21 col3\" >1174505.7061</td>\n",
       "      <td id=\"T_567d2_row21_col4\" class=\"data row21 col4\" >1418108.4209</td>\n",
       "      <td id=\"T_567d2_row21_col5\" class=\"data row21 col5\" >0.3921</td>\n",
       "      <td id=\"T_567d2_row21_col6\" class=\"data row21 col6\" >0.5297</td>\n",
       "      <td id=\"T_567d2_row21_col7\" class=\"data row21 col7\" >-0.7943</td>\n",
       "      <td id=\"T_567d2_row21_col8\" class=\"data row21 col8\" >0.1133</td>\n",
       "    </tr>\n",
       "    <tr>\n",
       "      <th id=\"T_567d2_level0_row22\" class=\"row_heading level0 row22\" >llar_cds_dt</th>\n",
       "      <td id=\"T_567d2_row22_col0\" class=\"data row22 col0\" >Lasso Least Angular Regressor w/ Cond. Deseasonalize & Detrending</td>\n",
       "      <td id=\"T_567d2_row22_col1\" class=\"data row22 col1\" >2.5795</td>\n",
       "      <td id=\"T_567d2_row22_col2\" class=\"data row22 col2\" >2.4481</td>\n",
       "      <td id=\"T_567d2_row22_col3\" class=\"data row22 col3\" >1174505.7061</td>\n",
       "      <td id=\"T_567d2_row22_col4\" class=\"data row22 col4\" >1418108.4209</td>\n",
       "      <td id=\"T_567d2_row22_col5\" class=\"data row22 col5\" >0.3921</td>\n",
       "      <td id=\"T_567d2_row22_col6\" class=\"data row22 col6\" >0.5297</td>\n",
       "      <td id=\"T_567d2_row22_col7\" class=\"data row22 col7\" >-0.7943</td>\n",
       "      <td id=\"T_567d2_row22_col8\" class=\"data row22 col8\" >0.1167</td>\n",
       "    </tr>\n",
       "    <tr>\n",
       "      <th id=\"T_567d2_level0_row23\" class=\"row_heading level0 row23\" >exp_smooth</th>\n",
       "      <td id=\"T_567d2_row23_col0\" class=\"data row23 col0\" >Exponential Smoothing</td>\n",
       "      <td id=\"T_567d2_row23_col1\" class=\"data row23 col1\" >23.3051</td>\n",
       "      <td id=\"T_567d2_row23_col2\" class=\"data row23 col2\" >29.6194</td>\n",
       "      <td id=\"T_567d2_row23_col3\" class=\"data row23 col3\" >10680089.7071</td>\n",
       "      <td id=\"T_567d2_row23_col4\" class=\"data row23 col4\" >16726151.5360</td>\n",
       "      <td id=\"T_567d2_row23_col5\" class=\"data row23 col5\" >4.9847</td>\n",
       "      <td id=\"T_567d2_row23_col6\" class=\"data row23 col6\" >0.7331</td>\n",
       "      <td id=\"T_567d2_row23_col7\" class=\"data row23 col7\" >-1000.9543</td>\n",
       "      <td id=\"T_567d2_row23_col8\" class=\"data row23 col8\" >0.0567</td>\n",
       "    </tr>\n",
       "  </tbody>\n",
       "</table>\n"
      ],
      "text/plain": [
       "<pandas.io.formats.style.Styler at 0x1a6bd1be1c0>"
      ]
     },
     "metadata": {},
     "output_type": "display_data"
    },
    {
     "data": {
      "text/html": [],
      "text/plain": [
       "<IPython.core.display.HTML object>"
      ]
     },
     "metadata": {},
     "output_type": "display_data"
    },
    {
     "data": {
      "application/vnd.plotly.v1+json": {
       "config": {
        "plotlyServerURL": "https://plot.ly"
       },
       "data": [
        {
         "line": {
          "color": "#1f77b4"
         },
         "marker": {
          "size": 5
         },
         "mode": "lines+markers",
         "name": "Forecast | ETS",
         "showlegend": true,
         "type": "scatter",
         "x": [
          "2022-01-01T00:00:00",
          "2022-02-01T00:00:00",
          "2022-03-01T00:00:00",
          "2022-04-01T00:00:00",
          "2022-05-01T00:00:00",
          "2022-06-01T00:00:00",
          "2022-07-01T00:00:00",
          "2022-08-01T00:00:00",
          "2022-09-01T00:00:00",
          "2022-10-01T00:00:00",
          "2022-11-01T00:00:00",
          "2022-12-01T00:00:00"
         ],
         "y": [
          2172645.2525,
          1920246.1866,
          2525463.5689,
          2570132.4375,
          2748812.8667,
          2082419.0014,
          2040873.4912,
          2430898.2977,
          2829157.4388,
          1400268.7866,
          2586512.9838,
          3409158.7445
         ]
        },
        {
         "line": {
          "width": 0
         },
         "marker": {
          "color": "#68BBE3"
         },
         "mode": "lines",
         "name": "Lower Interval",
         "showlegend": false,
         "type": "scatter",
         "x": [
          "2022-01-01T00:00:00",
          "2022-02-01T00:00:00",
          "2022-03-01T00:00:00",
          "2022-04-01T00:00:00",
          "2022-05-01T00:00:00",
          "2022-06-01T00:00:00",
          "2022-07-01T00:00:00",
          "2022-08-01T00:00:00",
          "2022-09-01T00:00:00",
          "2022-10-01T00:00:00",
          "2022-11-01T00:00:00",
          "2022-12-01T00:00:00"
         ],
         "y": [
          1063822.9084,
          796950.9711,
          1080222.0767,
          999220.0718,
          983025.7131,
          500587.619,
          224616.582,
          315272.7404,
          291095.0286,
          -242828.1505,
          -161985.2903,
          -276355.275
         ]
        },
        {
         "fill": "tonexty",
         "fillcolor": "rgba(104,187,227,0.5)",
         "line": {
          "width": 0
         },
         "marker": {
          "color": "#68BBE3"
         },
         "mode": "lines",
         "name": "Prediction Interval | ETS",
         "showlegend": true,
         "type": "scatter",
         "x": [
          "2022-01-01T00:00:00",
          "2022-02-01T00:00:00",
          "2022-03-01T00:00:00",
          "2022-04-01T00:00:00",
          "2022-05-01T00:00:00",
          "2022-06-01T00:00:00",
          "2022-07-01T00:00:00",
          "2022-08-01T00:00:00",
          "2022-09-01T00:00:00",
          "2022-10-01T00:00:00",
          "2022-11-01T00:00:00",
          "2022-12-01T00:00:00"
         ],
         "y": [
          3272643.2182,
          3193016.2664,
          4062227.2556,
          4350805.815,
          4688953.1914,
          3799464.7753,
          3950684.7337,
          4635993.1746,
          5437944.7009,
          2994934.1821,
          5458189.526,
          7192526.9452
         ]
        },
        {
         "marker": {
          "color": "#3f3f3f",
          "size": 5
         },
         "mode": "lines+markers",
         "name": "Original",
         "showlegend": true,
         "type": "scatter",
         "x": [
          "2016-01-01T00:00:00",
          "2016-02-01T00:00:00",
          "2016-03-01T00:00:00",
          "2016-04-01T00:00:00",
          "2016-05-01T00:00:00",
          "2016-06-01T00:00:00",
          "2016-07-01T00:00:00",
          "2016-08-01T00:00:00",
          "2016-09-01T00:00:00",
          "2016-10-01T00:00:00",
          "2016-11-01T00:00:00",
          "2016-12-01T00:00:00",
          "2017-01-01T00:00:00",
          "2017-02-01T00:00:00",
          "2017-03-01T00:00:00",
          "2017-04-01T00:00:00",
          "2017-05-01T00:00:00",
          "2017-06-01T00:00:00",
          "2017-07-01T00:00:00",
          "2017-08-01T00:00:00",
          "2017-09-01T00:00:00",
          "2017-10-01T00:00:00",
          "2017-11-01T00:00:00",
          "2017-12-01T00:00:00",
          "2018-01-01T00:00:00",
          "2018-02-01T00:00:00",
          "2018-03-01T00:00:00",
          "2018-04-01T00:00:00",
          "2018-05-01T00:00:00",
          "2018-06-01T00:00:00",
          "2018-07-01T00:00:00",
          "2018-08-01T00:00:00",
          "2018-09-01T00:00:00",
          "2018-10-01T00:00:00",
          "2018-11-01T00:00:00",
          "2018-12-01T00:00:00",
          "2019-01-01T00:00:00",
          "2019-02-01T00:00:00",
          "2019-03-01T00:00:00",
          "2019-04-01T00:00:00",
          "2019-05-01T00:00:00",
          "2019-06-01T00:00:00",
          "2019-07-01T00:00:00",
          "2019-08-01T00:00:00",
          "2019-09-01T00:00:00",
          "2019-10-01T00:00:00",
          "2019-11-01T00:00:00",
          "2019-12-01T00:00:00",
          "2020-01-01T00:00:00",
          "2020-02-01T00:00:00",
          "2020-03-01T00:00:00",
          "2020-04-01T00:00:00",
          "2020-05-01T00:00:00",
          "2020-06-01T00:00:00",
          "2020-07-01T00:00:00",
          "2020-08-01T00:00:00",
          "2020-09-01T00:00:00",
          "2020-10-01T00:00:00",
          "2020-11-01T00:00:00",
          "2020-12-01T00:00:00",
          "2021-01-01T00:00:00",
          "2021-02-01T00:00:00",
          "2021-03-01T00:00:00",
          "2021-04-01T00:00:00",
          "2021-05-01T00:00:00",
          "2021-06-01T00:00:00",
          "2021-07-01T00:00:00",
          "2021-08-01T00:00:00",
          "2021-09-01T00:00:00",
          "2021-10-01T00:00:00",
          "2021-11-01T00:00:00",
          "2021-12-01T00:00:00",
          "2022-01-01T00:00:00",
          "2022-02-01T00:00:00",
          "2022-03-01T00:00:00",
          "2022-04-01T00:00:00",
          "2022-05-01T00:00:00",
          "2022-06-01T00:00:00",
          "2022-07-01T00:00:00",
          "2022-08-01T00:00:00",
          "2022-09-01T00:00:00",
          "2022-10-01T00:00:00",
          "2022-11-01T00:00:00",
          "2022-12-01T00:00:00"
         ],
         "y": [
          2592017.04,
          2348092.909999999,
          2894584.98,
          2163636.3899999997,
          3210147.1300000004,
          2534780.022441941,
          1820221.07,
          3256621.67,
          2185207.96,
          1232046.5299999998,
          2138401.9,
          5408161.610000001,
          2221206.21,
          1311588.1300000004,
          2004152.1800000002,
          1808462.3,
          2467258.2600000002,
          2115785.2899999996,
          2169368.17,
          2831195.0300000003,
          1689228.75,
          1856472.6600000001,
          1953840.1300000001,
          4614243.09,
          2155970.04,
          1809524.6399999997,
          1968200.1800000002,
          1868773.92,
          2115120.67,
          1657630.85,
          1500893.07,
          1430529.31,
          1438770.4099999997,
          1644360.1699999997,
          2227767.5899999994,
          4551426.680000001,
          2265201.79,
          2116634.16,
          1830020.6099999999,
          1740166.31,
          2333062.18,
          1856416.87,
          1895360.3299999998,
          1955738.19,
          1749430.5999999999,
          1522283.25,
          2681924.32,
          4944662.33,
          1729231.2299999997,
          1557584.48,
          2345754.61,
          4574204.210000001,
          5970634.91,
          4077669.79,
          3357018.8699999996,
          3073121.31,
          4930647.75,
          2052590.75,
          3727026.7399999998,
          6080434.140000001,
          2936947.11,
          2566675.7899999996,
          3845263.6799999997,
          3640408.1399999997,
          3331794.0300000007,
          2257787.07,
          2143054.42,
          2982415.1499999994,
          3904088.6199999996,
          1841159.26,
          3826672.5100000002,
          4101338.13,
          1985988.9199999995,
          2328955.97,
          2240477.51,
          2394403.39,
          2275736.56,
          1713451.84,
          2497213.4000000004,
          1953652.6099999996,
          3745685.68,
          1359967.69,
          4112404.0300000003,
          2913744.15
         ]
        }
       ],
       "layout": {
        "showlegend": true,
        "template": {
         "data": {
          "bar": [
           {
            "error_x": {
             "color": "rgb(51,51,51)"
            },
            "error_y": {
             "color": "rgb(51,51,51)"
            },
            "marker": {
             "line": {
              "color": "rgb(237,237,237)",
              "width": 0.5
             },
             "pattern": {
              "fillmode": "overlay",
              "size": 10,
              "solidity": 0.2
             }
            },
            "type": "bar"
           }
          ],
          "barpolar": [
           {
            "marker": {
             "line": {
              "color": "rgb(237,237,237)",
              "width": 0.5
             },
             "pattern": {
              "fillmode": "overlay",
              "size": 10,
              "solidity": 0.2
             }
            },
            "type": "barpolar"
           }
          ],
          "carpet": [
           {
            "aaxis": {
             "endlinecolor": "rgb(51,51,51)",
             "gridcolor": "white",
             "linecolor": "white",
             "minorgridcolor": "white",
             "startlinecolor": "rgb(51,51,51)"
            },
            "baxis": {
             "endlinecolor": "rgb(51,51,51)",
             "gridcolor": "white",
             "linecolor": "white",
             "minorgridcolor": "white",
             "startlinecolor": "rgb(51,51,51)"
            },
            "type": "carpet"
           }
          ],
          "choropleth": [
           {
            "colorbar": {
             "outlinewidth": 0,
             "tickcolor": "rgb(237,237,237)",
             "ticklen": 6,
             "ticks": "inside"
            },
            "type": "choropleth"
           }
          ],
          "contour": [
           {
            "colorbar": {
             "outlinewidth": 0,
             "tickcolor": "rgb(237,237,237)",
             "ticklen": 6,
             "ticks": "inside"
            },
            "colorscale": [
             [
              0,
              "rgb(20,44,66)"
             ],
             [
              1,
              "rgb(90,179,244)"
             ]
            ],
            "type": "contour"
           }
          ],
          "contourcarpet": [
           {
            "colorbar": {
             "outlinewidth": 0,
             "tickcolor": "rgb(237,237,237)",
             "ticklen": 6,
             "ticks": "inside"
            },
            "type": "contourcarpet"
           }
          ],
          "heatmap": [
           {
            "colorbar": {
             "outlinewidth": 0,
             "tickcolor": "rgb(237,237,237)",
             "ticklen": 6,
             "ticks": "inside"
            },
            "colorscale": [
             [
              0,
              "rgb(20,44,66)"
             ],
             [
              1,
              "rgb(90,179,244)"
             ]
            ],
            "type": "heatmap"
           }
          ],
          "heatmapgl": [
           {
            "colorbar": {
             "outlinewidth": 0,
             "tickcolor": "rgb(237,237,237)",
             "ticklen": 6,
             "ticks": "inside"
            },
            "colorscale": [
             [
              0,
              "rgb(20,44,66)"
             ],
             [
              1,
              "rgb(90,179,244)"
             ]
            ],
            "type": "heatmapgl"
           }
          ],
          "histogram": [
           {
            "marker": {
             "pattern": {
              "fillmode": "overlay",
              "size": 10,
              "solidity": 0.2
             }
            },
            "type": "histogram"
           }
          ],
          "histogram2d": [
           {
            "colorbar": {
             "outlinewidth": 0,
             "tickcolor": "rgb(237,237,237)",
             "ticklen": 6,
             "ticks": "inside"
            },
            "colorscale": [
             [
              0,
              "rgb(20,44,66)"
             ],
             [
              1,
              "rgb(90,179,244)"
             ]
            ],
            "type": "histogram2d"
           }
          ],
          "histogram2dcontour": [
           {
            "colorbar": {
             "outlinewidth": 0,
             "tickcolor": "rgb(237,237,237)",
             "ticklen": 6,
             "ticks": "inside"
            },
            "colorscale": [
             [
              0,
              "rgb(20,44,66)"
             ],
             [
              1,
              "rgb(90,179,244)"
             ]
            ],
            "type": "histogram2dcontour"
           }
          ],
          "mesh3d": [
           {
            "colorbar": {
             "outlinewidth": 0,
             "tickcolor": "rgb(237,237,237)",
             "ticklen": 6,
             "ticks": "inside"
            },
            "type": "mesh3d"
           }
          ],
          "parcoords": [
           {
            "line": {
             "colorbar": {
              "outlinewidth": 0,
              "tickcolor": "rgb(237,237,237)",
              "ticklen": 6,
              "ticks": "inside"
             }
            },
            "type": "parcoords"
           }
          ],
          "pie": [
           {
            "automargin": true,
            "type": "pie"
           }
          ],
          "scatter": [
           {
            "fillpattern": {
             "fillmode": "overlay",
             "size": 10,
             "solidity": 0.2
            },
            "type": "scatter"
           }
          ],
          "scatter3d": [
           {
            "line": {
             "colorbar": {
              "outlinewidth": 0,
              "tickcolor": "rgb(237,237,237)",
              "ticklen": 6,
              "ticks": "inside"
             }
            },
            "marker": {
             "colorbar": {
              "outlinewidth": 0,
              "tickcolor": "rgb(237,237,237)",
              "ticklen": 6,
              "ticks": "inside"
             }
            },
            "type": "scatter3d"
           }
          ],
          "scattercarpet": [
           {
            "marker": {
             "colorbar": {
              "outlinewidth": 0,
              "tickcolor": "rgb(237,237,237)",
              "ticklen": 6,
              "ticks": "inside"
             }
            },
            "type": "scattercarpet"
           }
          ],
          "scattergeo": [
           {
            "marker": {
             "colorbar": {
              "outlinewidth": 0,
              "tickcolor": "rgb(237,237,237)",
              "ticklen": 6,
              "ticks": "inside"
             }
            },
            "type": "scattergeo"
           }
          ],
          "scattergl": [
           {
            "marker": {
             "colorbar": {
              "outlinewidth": 0,
              "tickcolor": "rgb(237,237,237)",
              "ticklen": 6,
              "ticks": "inside"
             }
            },
            "type": "scattergl"
           }
          ],
          "scattermapbox": [
           {
            "marker": {
             "colorbar": {
              "outlinewidth": 0,
              "tickcolor": "rgb(237,237,237)",
              "ticklen": 6,
              "ticks": "inside"
             }
            },
            "type": "scattermapbox"
           }
          ],
          "scatterpolar": [
           {
            "marker": {
             "colorbar": {
              "outlinewidth": 0,
              "tickcolor": "rgb(237,237,237)",
              "ticklen": 6,
              "ticks": "inside"
             }
            },
            "type": "scatterpolar"
           }
          ],
          "scatterpolargl": [
           {
            "marker": {
             "colorbar": {
              "outlinewidth": 0,
              "tickcolor": "rgb(237,237,237)",
              "ticklen": 6,
              "ticks": "inside"
             }
            },
            "type": "scatterpolargl"
           }
          ],
          "scatterternary": [
           {
            "marker": {
             "colorbar": {
              "outlinewidth": 0,
              "tickcolor": "rgb(237,237,237)",
              "ticklen": 6,
              "ticks": "inside"
             }
            },
            "type": "scatterternary"
           }
          ],
          "surface": [
           {
            "colorbar": {
             "outlinewidth": 0,
             "tickcolor": "rgb(237,237,237)",
             "ticklen": 6,
             "ticks": "inside"
            },
            "colorscale": [
             [
              0,
              "rgb(20,44,66)"
             ],
             [
              1,
              "rgb(90,179,244)"
             ]
            ],
            "type": "surface"
           }
          ],
          "table": [
           {
            "cells": {
             "fill": {
              "color": "rgb(237,237,237)"
             },
             "line": {
              "color": "white"
             }
            },
            "header": {
             "fill": {
              "color": "rgb(217,217,217)"
             },
             "line": {
              "color": "white"
             }
            },
            "type": "table"
           }
          ]
         },
         "layout": {
          "annotationdefaults": {
           "arrowhead": 0,
           "arrowwidth": 1
          },
          "autotypenumbers": "strict",
          "coloraxis": {
           "colorbar": {
            "outlinewidth": 0,
            "tickcolor": "rgb(237,237,237)",
            "ticklen": 6,
            "ticks": "inside"
           }
          },
          "colorscale": {
           "sequential": [
            [
             0,
             "rgb(20,44,66)"
            ],
            [
             1,
             "rgb(90,179,244)"
            ]
           ],
           "sequentialminus": [
            [
             0,
             "rgb(20,44,66)"
            ],
            [
             1,
             "rgb(90,179,244)"
            ]
           ]
          },
          "colorway": [
           "#F8766D",
           "#A3A500",
           "#00BF7D",
           "#00B0F6",
           "#E76BF3"
          ],
          "font": {
           "color": "rgb(51,51,51)"
          },
          "geo": {
           "bgcolor": "white",
           "lakecolor": "white",
           "landcolor": "rgb(237,237,237)",
           "showlakes": true,
           "showland": true,
           "subunitcolor": "white"
          },
          "hoverlabel": {
           "align": "left"
          },
          "hovermode": "closest",
          "paper_bgcolor": "white",
          "plot_bgcolor": "rgb(237,237,237)",
          "polar": {
           "angularaxis": {
            "gridcolor": "white",
            "linecolor": "white",
            "showgrid": true,
            "tickcolor": "rgb(51,51,51)",
            "ticks": "outside"
           },
           "bgcolor": "rgb(237,237,237)",
           "radialaxis": {
            "gridcolor": "white",
            "linecolor": "white",
            "showgrid": true,
            "tickcolor": "rgb(51,51,51)",
            "ticks": "outside"
           }
          },
          "scene": {
           "xaxis": {
            "backgroundcolor": "rgb(237,237,237)",
            "gridcolor": "white",
            "gridwidth": 2,
            "linecolor": "white",
            "showbackground": true,
            "showgrid": true,
            "tickcolor": "rgb(51,51,51)",
            "ticks": "outside",
            "zerolinecolor": "white"
           },
           "yaxis": {
            "backgroundcolor": "rgb(237,237,237)",
            "gridcolor": "white",
            "gridwidth": 2,
            "linecolor": "white",
            "showbackground": true,
            "showgrid": true,
            "tickcolor": "rgb(51,51,51)",
            "ticks": "outside",
            "zerolinecolor": "white"
           },
           "zaxis": {
            "backgroundcolor": "rgb(237,237,237)",
            "gridcolor": "white",
            "gridwidth": 2,
            "linecolor": "white",
            "showbackground": true,
            "showgrid": true,
            "tickcolor": "rgb(51,51,51)",
            "ticks": "outside",
            "zerolinecolor": "white"
           }
          },
          "shapedefaults": {
           "fillcolor": "black",
           "line": {
            "width": 0
           },
           "opacity": 0.3
          },
          "ternary": {
           "aaxis": {
            "gridcolor": "white",
            "linecolor": "white",
            "showgrid": true,
            "tickcolor": "rgb(51,51,51)",
            "ticks": "outside"
           },
           "baxis": {
            "gridcolor": "white",
            "linecolor": "white",
            "showgrid": true,
            "tickcolor": "rgb(51,51,51)",
            "ticks": "outside"
           },
           "bgcolor": "rgb(237,237,237)",
           "caxis": {
            "gridcolor": "white",
            "linecolor": "white",
            "showgrid": true,
            "tickcolor": "rgb(51,51,51)",
            "ticks": "outside"
           }
          },
          "xaxis": {
           "automargin": true,
           "gridcolor": "white",
           "linecolor": "white",
           "showgrid": true,
           "tickcolor": "rgb(51,51,51)",
           "ticks": "outside",
           "title": {
            "standoff": 15
           },
           "zerolinecolor": "white"
          },
          "yaxis": {
           "automargin": true,
           "gridcolor": "white",
           "linecolor": "white",
           "showgrid": true,
           "tickcolor": "rgb(51,51,51)",
           "ticks": "outside",
           "title": {
            "standoff": 15
           },
           "zerolinecolor": "white"
          }
         }
        },
        "title": {
         "text": "Actual vs. 'Out-of-Sample' Forecast | NET_SALES"
        },
        "xaxis": {
         "title": {
          "text": "Time"
         }
        },
        "yaxis": {
         "title": {
          "text": "Values"
         }
        }
       }
      }
     },
     "metadata": {},
     "output_type": "display_data"
    },
    {
     "data": {
      "text/html": [
       "<style type=\"text/css\">\n",
       "</style>\n",
       "<table id=\"T_9ee6c\">\n",
       "  <thead>\n",
       "    <tr>\n",
       "      <th class=\"blank level0\" >&nbsp;</th>\n",
       "      <th id=\"T_9ee6c_level0_col0\" class=\"col_heading level0 col0\" >Model</th>\n",
       "      <th id=\"T_9ee6c_level0_col1\" class=\"col_heading level0 col1\" >MASE</th>\n",
       "      <th id=\"T_9ee6c_level0_col2\" class=\"col_heading level0 col2\" >RMSSE</th>\n",
       "      <th id=\"T_9ee6c_level0_col3\" class=\"col_heading level0 col3\" >MAE</th>\n",
       "      <th id=\"T_9ee6c_level0_col4\" class=\"col_heading level0 col4\" >RMSE</th>\n",
       "      <th id=\"T_9ee6c_level0_col5\" class=\"col_heading level0 col5\" >MAPE</th>\n",
       "      <th id=\"T_9ee6c_level0_col6\" class=\"col_heading level0 col6\" >SMAPE</th>\n",
       "      <th id=\"T_9ee6c_level0_col7\" class=\"col_heading level0 col7\" >R2</th>\n",
       "    </tr>\n",
       "  </thead>\n",
       "  <tbody>\n",
       "    <tr>\n",
       "      <th id=\"T_9ee6c_level0_row0\" class=\"row_heading level0 row0\" >0</th>\n",
       "      <td id=\"T_9ee6c_row0_col0\" class=\"data row0 col0\" >ETS</td>\n",
       "      <td id=\"T_9ee6c_row0_col1\" class=\"data row0 col1\" >0.6203</td>\n",
       "      <td id=\"T_9ee6c_row0_col2\" class=\"data row0 col2\" >0.5515</td>\n",
       "      <td id=\"T_9ee6c_row0_col3\" class=\"data row0 col3\" >484153.7721</td>\n",
       "      <td id=\"T_9ee6c_row0_col4\" class=\"data row0 col4\" >614095.3267</td>\n",
       "      <td id=\"T_9ee6c_row0_col5\" class=\"data row0 col5\" >0.1780</td>\n",
       "      <td id=\"T_9ee6c_row0_col6\" class=\"data row0 col6\" >0.1829</td>\n",
       "      <td id=\"T_9ee6c_row0_col7\" class=\"data row0 col7\" >0.3482</td>\n",
       "    </tr>\n",
       "  </tbody>\n",
       "</table>\n"
      ],
      "text/plain": [
       "<pandas.io.formats.style.Styler at 0x1a6c0131d90>"
      ]
     },
     "metadata": {},
     "output_type": "display_data"
    },
    {
     "name": "stderr",
     "output_type": "stream",
     "text": [
      " 21%|██▏       | 3/14 [01:01<03:30, 19.12s/it]"
     ]
    },
    {
     "data": {
      "text/html": [
       "<style type=\"text/css\">\n",
       "#T_9129e_row25_col1, #T_9129e_row31_col1 {\n",
       "  background-color: lightgreen;\n",
       "}\n",
       "</style>\n",
       "<table id=\"T_9129e\">\n",
       "  <thead>\n",
       "    <tr>\n",
       "      <th class=\"blank level0\" >&nbsp;</th>\n",
       "      <th id=\"T_9129e_level0_col0\" class=\"col_heading level0 col0\" >Description</th>\n",
       "      <th id=\"T_9129e_level0_col1\" class=\"col_heading level0 col1\" >Value</th>\n",
       "    </tr>\n",
       "  </thead>\n",
       "  <tbody>\n",
       "    <tr>\n",
       "      <th id=\"T_9129e_level0_row0\" class=\"row_heading level0 row0\" >0</th>\n",
       "      <td id=\"T_9129e_row0_col0\" class=\"data row0 col0\" >session_id</td>\n",
       "      <td id=\"T_9129e_row0_col1\" class=\"data row0 col1\" >123</td>\n",
       "    </tr>\n",
       "    <tr>\n",
       "      <th id=\"T_9129e_level0_row1\" class=\"row_heading level0 row1\" >1</th>\n",
       "      <td id=\"T_9129e_row1_col0\" class=\"data row1 col0\" >Target</td>\n",
       "      <td id=\"T_9129e_row1_col1\" class=\"data row1 col1\" >NET_SALES</td>\n",
       "    </tr>\n",
       "    <tr>\n",
       "      <th id=\"T_9129e_level0_row2\" class=\"row_heading level0 row2\" >2</th>\n",
       "      <td id=\"T_9129e_row2_col0\" class=\"data row2 col0\" >Approach</td>\n",
       "      <td id=\"T_9129e_row2_col1\" class=\"data row2 col1\" >Univariate</td>\n",
       "    </tr>\n",
       "    <tr>\n",
       "      <th id=\"T_9129e_level0_row3\" class=\"row_heading level0 row3\" >3</th>\n",
       "      <td id=\"T_9129e_row3_col0\" class=\"data row3 col0\" >Exogenous Variables</td>\n",
       "      <td id=\"T_9129e_row3_col1\" class=\"data row3 col1\" >Not Present</td>\n",
       "    </tr>\n",
       "    <tr>\n",
       "      <th id=\"T_9129e_level0_row4\" class=\"row_heading level0 row4\" >4</th>\n",
       "      <td id=\"T_9129e_row4_col0\" class=\"data row4 col0\" >Original data shape</td>\n",
       "      <td id=\"T_9129e_row4_col1\" class=\"data row4 col1\" >(84, 1)</td>\n",
       "    </tr>\n",
       "    <tr>\n",
       "      <th id=\"T_9129e_level0_row5\" class=\"row_heading level0 row5\" >5</th>\n",
       "      <td id=\"T_9129e_row5_col0\" class=\"data row5 col0\" >Transformed data shape</td>\n",
       "      <td id=\"T_9129e_row5_col1\" class=\"data row5 col1\" >(84, 1)</td>\n",
       "    </tr>\n",
       "    <tr>\n",
       "      <th id=\"T_9129e_level0_row6\" class=\"row_heading level0 row6\" >6</th>\n",
       "      <td id=\"T_9129e_row6_col0\" class=\"data row6 col0\" >Transformed train set shape</td>\n",
       "      <td id=\"T_9129e_row6_col1\" class=\"data row6 col1\" >(72, 1)</td>\n",
       "    </tr>\n",
       "    <tr>\n",
       "      <th id=\"T_9129e_level0_row7\" class=\"row_heading level0 row7\" >7</th>\n",
       "      <td id=\"T_9129e_row7_col0\" class=\"data row7 col0\" >Transformed test set shape</td>\n",
       "      <td id=\"T_9129e_row7_col1\" class=\"data row7 col1\" >(12, 1)</td>\n",
       "    </tr>\n",
       "    <tr>\n",
       "      <th id=\"T_9129e_level0_row8\" class=\"row_heading level0 row8\" >8</th>\n",
       "      <td id=\"T_9129e_row8_col0\" class=\"data row8 col0\" >Rows with missing values</td>\n",
       "      <td id=\"T_9129e_row8_col1\" class=\"data row8 col1\" >0.0%</td>\n",
       "    </tr>\n",
       "    <tr>\n",
       "      <th id=\"T_9129e_level0_row9\" class=\"row_heading level0 row9\" >9</th>\n",
       "      <td id=\"T_9129e_row9_col0\" class=\"data row9 col0\" >Fold Generator</td>\n",
       "      <td id=\"T_9129e_row9_col1\" class=\"data row9 col1\" >ExpandingWindowSplitter</td>\n",
       "    </tr>\n",
       "    <tr>\n",
       "      <th id=\"T_9129e_level0_row10\" class=\"row_heading level0 row10\" >10</th>\n",
       "      <td id=\"T_9129e_row10_col0\" class=\"data row10 col0\" >Fold Number</td>\n",
       "      <td id=\"T_9129e_row10_col1\" class=\"data row10 col1\" >3</td>\n",
       "    </tr>\n",
       "    <tr>\n",
       "      <th id=\"T_9129e_level0_row11\" class=\"row_heading level0 row11\" >11</th>\n",
       "      <td id=\"T_9129e_row11_col0\" class=\"data row11 col0\" >Enforce Prediction Interval</td>\n",
       "      <td id=\"T_9129e_row11_col1\" class=\"data row11 col1\" >False</td>\n",
       "    </tr>\n",
       "    <tr>\n",
       "      <th id=\"T_9129e_level0_row12\" class=\"row_heading level0 row12\" >12</th>\n",
       "      <td id=\"T_9129e_row12_col0\" class=\"data row12 col0\" >Splits used for hyperparameters</td>\n",
       "      <td id=\"T_9129e_row12_col1\" class=\"data row12 col1\" >all</td>\n",
       "    </tr>\n",
       "    <tr>\n",
       "      <th id=\"T_9129e_level0_row13\" class=\"row_heading level0 row13\" >13</th>\n",
       "      <td id=\"T_9129e_row13_col0\" class=\"data row13 col0\" >User Defined Seasonal Period(s)</td>\n",
       "      <td id=\"T_9129e_row13_col1\" class=\"data row13 col1\" >None</td>\n",
       "    </tr>\n",
       "    <tr>\n",
       "      <th id=\"T_9129e_level0_row14\" class=\"row_heading level0 row14\" >14</th>\n",
       "      <td id=\"T_9129e_row14_col0\" class=\"data row14 col0\" >Ignore Seasonality Test</td>\n",
       "      <td id=\"T_9129e_row14_col1\" class=\"data row14 col1\" >False</td>\n",
       "    </tr>\n",
       "    <tr>\n",
       "      <th id=\"T_9129e_level0_row15\" class=\"row_heading level0 row15\" >15</th>\n",
       "      <td id=\"T_9129e_row15_col0\" class=\"data row15 col0\" >Seasonality Detection Algo</td>\n",
       "      <td id=\"T_9129e_row15_col1\" class=\"data row15 col1\" >auto</td>\n",
       "    </tr>\n",
       "    <tr>\n",
       "      <th id=\"T_9129e_level0_row16\" class=\"row_heading level0 row16\" >16</th>\n",
       "      <td id=\"T_9129e_row16_col0\" class=\"data row16 col0\" >Max Period to Consider</td>\n",
       "      <td id=\"T_9129e_row16_col1\" class=\"data row16 col1\" >60</td>\n",
       "    </tr>\n",
       "    <tr>\n",
       "      <th id=\"T_9129e_level0_row17\" class=\"row_heading level0 row17\" >17</th>\n",
       "      <td id=\"T_9129e_row17_col0\" class=\"data row17 col0\" >Seasonal Period(s) Tested</td>\n",
       "      <td id=\"T_9129e_row17_col1\" class=\"data row17 col1\" >[12, 5]</td>\n",
       "    </tr>\n",
       "    <tr>\n",
       "      <th id=\"T_9129e_level0_row18\" class=\"row_heading level0 row18\" >18</th>\n",
       "      <td id=\"T_9129e_row18_col0\" class=\"data row18 col0\" >Significant Seasonal Period(s)</td>\n",
       "      <td id=\"T_9129e_row18_col1\" class=\"data row18 col1\" >[12, 5]</td>\n",
       "    </tr>\n",
       "    <tr>\n",
       "      <th id=\"T_9129e_level0_row19\" class=\"row_heading level0 row19\" >19</th>\n",
       "      <td id=\"T_9129e_row19_col0\" class=\"data row19 col0\" >Significant Seasonal Period(s) without Harmonics</td>\n",
       "      <td id=\"T_9129e_row19_col1\" class=\"data row19 col1\" >[12, 5]</td>\n",
       "    </tr>\n",
       "    <tr>\n",
       "      <th id=\"T_9129e_level0_row20\" class=\"row_heading level0 row20\" >20</th>\n",
       "      <td id=\"T_9129e_row20_col0\" class=\"data row20 col0\" >Remove Harmonics</td>\n",
       "      <td id=\"T_9129e_row20_col1\" class=\"data row20 col1\" >False</td>\n",
       "    </tr>\n",
       "    <tr>\n",
       "      <th id=\"T_9129e_level0_row21\" class=\"row_heading level0 row21\" >21</th>\n",
       "      <td id=\"T_9129e_row21_col0\" class=\"data row21 col0\" >Harmonics Order Method</td>\n",
       "      <td id=\"T_9129e_row21_col1\" class=\"data row21 col1\" >harmonic_max</td>\n",
       "    </tr>\n",
       "    <tr>\n",
       "      <th id=\"T_9129e_level0_row22\" class=\"row_heading level0 row22\" >22</th>\n",
       "      <td id=\"T_9129e_row22_col0\" class=\"data row22 col0\" >Num Seasonalities to Use</td>\n",
       "      <td id=\"T_9129e_row22_col1\" class=\"data row22 col1\" >1</td>\n",
       "    </tr>\n",
       "    <tr>\n",
       "      <th id=\"T_9129e_level0_row23\" class=\"row_heading level0 row23\" >23</th>\n",
       "      <td id=\"T_9129e_row23_col0\" class=\"data row23 col0\" >All Seasonalities to Use</td>\n",
       "      <td id=\"T_9129e_row23_col1\" class=\"data row23 col1\" >[12]</td>\n",
       "    </tr>\n",
       "    <tr>\n",
       "      <th id=\"T_9129e_level0_row24\" class=\"row_heading level0 row24\" >24</th>\n",
       "      <td id=\"T_9129e_row24_col0\" class=\"data row24 col0\" >Primary Seasonality</td>\n",
       "      <td id=\"T_9129e_row24_col1\" class=\"data row24 col1\" >12</td>\n",
       "    </tr>\n",
       "    <tr>\n",
       "      <th id=\"T_9129e_level0_row25\" class=\"row_heading level0 row25\" >25</th>\n",
       "      <td id=\"T_9129e_row25_col0\" class=\"data row25 col0\" >Seasonality Present</td>\n",
       "      <td id=\"T_9129e_row25_col1\" class=\"data row25 col1\" >True</td>\n",
       "    </tr>\n",
       "    <tr>\n",
       "      <th id=\"T_9129e_level0_row26\" class=\"row_heading level0 row26\" >26</th>\n",
       "      <td id=\"T_9129e_row26_col0\" class=\"data row26 col0\" >Seasonality Type</td>\n",
       "      <td id=\"T_9129e_row26_col1\" class=\"data row26 col1\" >mul</td>\n",
       "    </tr>\n",
       "    <tr>\n",
       "      <th id=\"T_9129e_level0_row27\" class=\"row_heading level0 row27\" >27</th>\n",
       "      <td id=\"T_9129e_row27_col0\" class=\"data row27 col0\" >Target Strictly Positive</td>\n",
       "      <td id=\"T_9129e_row27_col1\" class=\"data row27 col1\" >True</td>\n",
       "    </tr>\n",
       "    <tr>\n",
       "      <th id=\"T_9129e_level0_row28\" class=\"row_heading level0 row28\" >28</th>\n",
       "      <td id=\"T_9129e_row28_col0\" class=\"data row28 col0\" >Target White Noise</td>\n",
       "      <td id=\"T_9129e_row28_col1\" class=\"data row28 col1\" >No</td>\n",
       "    </tr>\n",
       "    <tr>\n",
       "      <th id=\"T_9129e_level0_row29\" class=\"row_heading level0 row29\" >29</th>\n",
       "      <td id=\"T_9129e_row29_col0\" class=\"data row29 col0\" >Recommended d</td>\n",
       "      <td id=\"T_9129e_row29_col1\" class=\"data row29 col1\" >1</td>\n",
       "    </tr>\n",
       "    <tr>\n",
       "      <th id=\"T_9129e_level0_row30\" class=\"row_heading level0 row30\" >30</th>\n",
       "      <td id=\"T_9129e_row30_col0\" class=\"data row30 col0\" >Recommended Seasonal D</td>\n",
       "      <td id=\"T_9129e_row30_col1\" class=\"data row30 col1\" >0</td>\n",
       "    </tr>\n",
       "    <tr>\n",
       "      <th id=\"T_9129e_level0_row31\" class=\"row_heading level0 row31\" >31</th>\n",
       "      <td id=\"T_9129e_row31_col0\" class=\"data row31 col0\" >Preprocess</td>\n",
       "      <td id=\"T_9129e_row31_col1\" class=\"data row31 col1\" >True</td>\n",
       "    </tr>\n",
       "    <tr>\n",
       "      <th id=\"T_9129e_level0_row32\" class=\"row_heading level0 row32\" >32</th>\n",
       "      <td id=\"T_9129e_row32_col0\" class=\"data row32 col0\" >Numerical Imputation (Target)</td>\n",
       "      <td id=\"T_9129e_row32_col1\" class=\"data row32 col1\" >mean</td>\n",
       "    </tr>\n",
       "    <tr>\n",
       "      <th id=\"T_9129e_level0_row33\" class=\"row_heading level0 row33\" >33</th>\n",
       "      <td id=\"T_9129e_row33_col0\" class=\"data row33 col0\" >Transformation (Target)</td>\n",
       "      <td id=\"T_9129e_row33_col1\" class=\"data row33 col1\" >None</td>\n",
       "    </tr>\n",
       "    <tr>\n",
       "      <th id=\"T_9129e_level0_row34\" class=\"row_heading level0 row34\" >34</th>\n",
       "      <td id=\"T_9129e_row34_col0\" class=\"data row34 col0\" >Scaling (Target)</td>\n",
       "      <td id=\"T_9129e_row34_col1\" class=\"data row34 col1\" >None</td>\n",
       "    </tr>\n",
       "    <tr>\n",
       "      <th id=\"T_9129e_level0_row35\" class=\"row_heading level0 row35\" >35</th>\n",
       "      <td id=\"T_9129e_row35_col0\" class=\"data row35 col0\" >Feature Engineering (Target) - Reduced Regression</td>\n",
       "      <td id=\"T_9129e_row35_col1\" class=\"data row35 col1\" >False</td>\n",
       "    </tr>\n",
       "    <tr>\n",
       "      <th id=\"T_9129e_level0_row36\" class=\"row_heading level0 row36\" >36</th>\n",
       "      <td id=\"T_9129e_row36_col0\" class=\"data row36 col0\" >CPU Jobs</td>\n",
       "      <td id=\"T_9129e_row36_col1\" class=\"data row36 col1\" >-1</td>\n",
       "    </tr>\n",
       "    <tr>\n",
       "      <th id=\"T_9129e_level0_row37\" class=\"row_heading level0 row37\" >37</th>\n",
       "      <td id=\"T_9129e_row37_col0\" class=\"data row37 col0\" >Use GPU</td>\n",
       "      <td id=\"T_9129e_row37_col1\" class=\"data row37 col1\" >False</td>\n",
       "    </tr>\n",
       "    <tr>\n",
       "      <th id=\"T_9129e_level0_row38\" class=\"row_heading level0 row38\" >38</th>\n",
       "      <td id=\"T_9129e_row38_col0\" class=\"data row38 col0\" >Log Experiment</td>\n",
       "      <td id=\"T_9129e_row38_col1\" class=\"data row38 col1\" >False</td>\n",
       "    </tr>\n",
       "    <tr>\n",
       "      <th id=\"T_9129e_level0_row39\" class=\"row_heading level0 row39\" >39</th>\n",
       "      <td id=\"T_9129e_row39_col0\" class=\"data row39 col0\" >Experiment Name</td>\n",
       "      <td id=\"T_9129e_row39_col1\" class=\"data row39 col1\" >ts-default-name</td>\n",
       "    </tr>\n",
       "    <tr>\n",
       "      <th id=\"T_9129e_level0_row40\" class=\"row_heading level0 row40\" >40</th>\n",
       "      <td id=\"T_9129e_row40_col0\" class=\"data row40 col0\" >USI</td>\n",
       "      <td id=\"T_9129e_row40_col1\" class=\"data row40 col1\" >6ffa</td>\n",
       "    </tr>\n",
       "  </tbody>\n",
       "</table>\n"
      ],
      "text/plain": [
       "<pandas.io.formats.style.Styler at 0x1a6c00b8d00>"
      ]
     },
     "metadata": {},
     "output_type": "display_data"
    },
    {
     "data": {
      "text/html": [],
      "text/plain": [
       "<IPython.core.display.HTML object>"
      ]
     },
     "metadata": {},
     "output_type": "display_data"
    },
    {
     "data": {
      "text/html": [
       "<style type=\"text/css\">\n",
       "#T_4251c th {\n",
       "  text-align: left;\n",
       "}\n",
       "#T_4251c_row0_col0, #T_4251c_row0_col1, #T_4251c_row0_col3, #T_4251c_row0_col6, #T_4251c_row0_col7, #T_4251c_row1_col0, #T_4251c_row1_col2, #T_4251c_row1_col4, #T_4251c_row1_col5, #T_4251c_row1_col7, #T_4251c_row2_col0, #T_4251c_row2_col1, #T_4251c_row2_col2, #T_4251c_row2_col3, #T_4251c_row2_col4, #T_4251c_row2_col5, #T_4251c_row2_col6, #T_4251c_row3_col0, #T_4251c_row3_col1, #T_4251c_row3_col2, #T_4251c_row3_col3, #T_4251c_row3_col4, #T_4251c_row3_col5, #T_4251c_row3_col6, #T_4251c_row3_col7, #T_4251c_row4_col0, #T_4251c_row4_col1, #T_4251c_row4_col2, #T_4251c_row4_col3, #T_4251c_row4_col4, #T_4251c_row4_col5, #T_4251c_row4_col6, #T_4251c_row4_col7, #T_4251c_row5_col0, #T_4251c_row5_col1, #T_4251c_row5_col2, #T_4251c_row5_col3, #T_4251c_row5_col4, #T_4251c_row5_col5, #T_4251c_row5_col6, #T_4251c_row5_col7, #T_4251c_row6_col0, #T_4251c_row6_col1, #T_4251c_row6_col2, #T_4251c_row6_col3, #T_4251c_row6_col4, #T_4251c_row6_col5, #T_4251c_row6_col6, #T_4251c_row6_col7, #T_4251c_row7_col0, #T_4251c_row7_col1, #T_4251c_row7_col2, #T_4251c_row7_col3, #T_4251c_row7_col4, #T_4251c_row7_col5, #T_4251c_row7_col6, #T_4251c_row7_col7, #T_4251c_row8_col0, #T_4251c_row8_col1, #T_4251c_row8_col2, #T_4251c_row8_col3, #T_4251c_row8_col4, #T_4251c_row8_col5, #T_4251c_row8_col6, #T_4251c_row8_col7, #T_4251c_row9_col0, #T_4251c_row9_col1, #T_4251c_row9_col2, #T_4251c_row9_col3, #T_4251c_row9_col4, #T_4251c_row9_col5, #T_4251c_row9_col6, #T_4251c_row9_col7, #T_4251c_row10_col0, #T_4251c_row10_col1, #T_4251c_row10_col2, #T_4251c_row10_col3, #T_4251c_row10_col4, #T_4251c_row10_col5, #T_4251c_row10_col6, #T_4251c_row10_col7, #T_4251c_row11_col0, #T_4251c_row11_col1, #T_4251c_row11_col2, #T_4251c_row11_col3, #T_4251c_row11_col4, #T_4251c_row11_col5, #T_4251c_row11_col6, #T_4251c_row11_col7, #T_4251c_row12_col0, #T_4251c_row12_col1, #T_4251c_row12_col2, #T_4251c_row12_col3, #T_4251c_row12_col4, #T_4251c_row12_col5, #T_4251c_row12_col6, #T_4251c_row12_col7, #T_4251c_row13_col0, #T_4251c_row13_col1, #T_4251c_row13_col2, #T_4251c_row13_col3, #T_4251c_row13_col4, #T_4251c_row13_col5, #T_4251c_row13_col6, #T_4251c_row13_col7, #T_4251c_row14_col0, #T_4251c_row14_col1, #T_4251c_row14_col2, #T_4251c_row14_col3, #T_4251c_row14_col4, #T_4251c_row14_col5, #T_4251c_row14_col6, #T_4251c_row14_col7, #T_4251c_row15_col0, #T_4251c_row15_col1, #T_4251c_row15_col2, #T_4251c_row15_col3, #T_4251c_row15_col4, #T_4251c_row15_col5, #T_4251c_row15_col6, #T_4251c_row15_col7, #T_4251c_row16_col0, #T_4251c_row16_col1, #T_4251c_row16_col2, #T_4251c_row16_col3, #T_4251c_row16_col4, #T_4251c_row16_col5, #T_4251c_row16_col6, #T_4251c_row16_col7, #T_4251c_row17_col0, #T_4251c_row17_col1, #T_4251c_row17_col2, #T_4251c_row17_col3, #T_4251c_row17_col4, #T_4251c_row17_col5, #T_4251c_row17_col6, #T_4251c_row17_col7, #T_4251c_row18_col0, #T_4251c_row18_col1, #T_4251c_row18_col2, #T_4251c_row18_col3, #T_4251c_row18_col4, #T_4251c_row18_col5, #T_4251c_row18_col6, #T_4251c_row18_col7, #T_4251c_row19_col0, #T_4251c_row19_col1, #T_4251c_row19_col2, #T_4251c_row19_col3, #T_4251c_row19_col4, #T_4251c_row19_col5, #T_4251c_row19_col6, #T_4251c_row19_col7, #T_4251c_row20_col0, #T_4251c_row20_col1, #T_4251c_row20_col2, #T_4251c_row20_col3, #T_4251c_row20_col4, #T_4251c_row20_col5, #T_4251c_row20_col6, #T_4251c_row20_col7, #T_4251c_row21_col0, #T_4251c_row21_col1, #T_4251c_row21_col2, #T_4251c_row21_col3, #T_4251c_row21_col4, #T_4251c_row21_col5, #T_4251c_row21_col6, #T_4251c_row21_col7, #T_4251c_row22_col0, #T_4251c_row22_col1, #T_4251c_row22_col2, #T_4251c_row22_col3, #T_4251c_row22_col4, #T_4251c_row22_col5, #T_4251c_row22_col6, #T_4251c_row22_col7, #T_4251c_row23_col0, #T_4251c_row23_col1, #T_4251c_row23_col2, #T_4251c_row23_col3, #T_4251c_row23_col4, #T_4251c_row23_col5, #T_4251c_row23_col6, #T_4251c_row23_col7 {\n",
       "  text-align: left;\n",
       "}\n",
       "#T_4251c_row0_col2, #T_4251c_row0_col4, #T_4251c_row0_col5, #T_4251c_row1_col1, #T_4251c_row1_col3, #T_4251c_row1_col6, #T_4251c_row2_col7 {\n",
       "  text-align: left;\n",
       "  background-color: yellow;\n",
       "}\n",
       "#T_4251c_row0_col8, #T_4251c_row1_col8, #T_4251c_row2_col8, #T_4251c_row3_col8, #T_4251c_row5_col8, #T_4251c_row6_col8, #T_4251c_row7_col8, #T_4251c_row8_col8, #T_4251c_row9_col8, #T_4251c_row10_col8, #T_4251c_row11_col8, #T_4251c_row12_col8, #T_4251c_row13_col8, #T_4251c_row14_col8, #T_4251c_row15_col8, #T_4251c_row16_col8, #T_4251c_row17_col8, #T_4251c_row18_col8, #T_4251c_row19_col8, #T_4251c_row20_col8, #T_4251c_row21_col8, #T_4251c_row22_col8, #T_4251c_row23_col8 {\n",
       "  text-align: left;\n",
       "  background-color: lightgrey;\n",
       "}\n",
       "#T_4251c_row4_col8 {\n",
       "  text-align: left;\n",
       "  background-color: yellow;\n",
       "  background-color: lightgrey;\n",
       "}\n",
       "</style>\n",
       "<table id=\"T_4251c\">\n",
       "  <thead>\n",
       "    <tr>\n",
       "      <th class=\"blank level0\" >&nbsp;</th>\n",
       "      <th id=\"T_4251c_level0_col0\" class=\"col_heading level0 col0\" >Model</th>\n",
       "      <th id=\"T_4251c_level0_col1\" class=\"col_heading level0 col1\" >MASE</th>\n",
       "      <th id=\"T_4251c_level0_col2\" class=\"col_heading level0 col2\" >RMSSE</th>\n",
       "      <th id=\"T_4251c_level0_col3\" class=\"col_heading level0 col3\" >MAE</th>\n",
       "      <th id=\"T_4251c_level0_col4\" class=\"col_heading level0 col4\" >RMSE</th>\n",
       "      <th id=\"T_4251c_level0_col5\" class=\"col_heading level0 col5\" >MAPE</th>\n",
       "      <th id=\"T_4251c_level0_col6\" class=\"col_heading level0 col6\" >SMAPE</th>\n",
       "      <th id=\"T_4251c_level0_col7\" class=\"col_heading level0 col7\" >R2</th>\n",
       "      <th id=\"T_4251c_level0_col8\" class=\"col_heading level0 col8\" >TT (Sec)</th>\n",
       "    </tr>\n",
       "  </thead>\n",
       "  <tbody>\n",
       "    <tr>\n",
       "      <th id=\"T_4251c_level0_row0\" class=\"row_heading level0 row0\" >snaive</th>\n",
       "      <td id=\"T_4251c_row0_col0\" class=\"data row0 col0\" >Seasonal Naive Forecaster</td>\n",
       "      <td id=\"T_4251c_row0_col1\" class=\"data row0 col1\" >1.2744</td>\n",
       "      <td id=\"T_4251c_row0_col2\" class=\"data row0 col2\" >1.0399</td>\n",
       "      <td id=\"T_4251c_row0_col3\" class=\"data row0 col3\" >143273.4681</td>\n",
       "      <td id=\"T_4251c_row0_col4\" class=\"data row0 col4\" >187177.8690</td>\n",
       "      <td id=\"T_4251c_row0_col5\" class=\"data row0 col5\" >0.3404</td>\n",
       "      <td id=\"T_4251c_row0_col6\" class=\"data row0 col6\" >0.3971</td>\n",
       "      <td id=\"T_4251c_row0_col7\" class=\"data row0 col7\" >-0.1389</td>\n",
       "      <td id=\"T_4251c_row0_col8\" class=\"data row0 col8\" >0.0467</td>\n",
       "    </tr>\n",
       "    <tr>\n",
       "      <th id=\"T_4251c_level0_row1\" class=\"row_heading level0 row1\" >ada_cds_dt</th>\n",
       "      <td id=\"T_4251c_row1_col0\" class=\"data row1 col0\" >AdaBoost w/ Cond. Deseasonalize & Detrending</td>\n",
       "      <td id=\"T_4251c_row1_col1\" class=\"data row1 col1\" >1.2330</td>\n",
       "      <td id=\"T_4251c_row1_col2\" class=\"data row1 col2\" >1.1068</td>\n",
       "      <td id=\"T_4251c_row1_col3\" class=\"data row1 col3\" >138126.5565</td>\n",
       "      <td id=\"T_4251c_row1_col4\" class=\"data row1 col4\" >199746.3656</td>\n",
       "      <td id=\"T_4251c_row1_col5\" class=\"data row1 col5\" >0.3531</td>\n",
       "      <td id=\"T_4251c_row1_col6\" class=\"data row1 col6\" >0.3081</td>\n",
       "      <td id=\"T_4251c_row1_col7\" class=\"data row1 col7\" >-0.2013</td>\n",
       "      <td id=\"T_4251c_row1_col8\" class=\"data row1 col8\" >0.1400</td>\n",
       "    </tr>\n",
       "    <tr>\n",
       "      <th id=\"T_4251c_level0_row2\" class=\"row_heading level0 row2\" >knn_cds_dt</th>\n",
       "      <td id=\"T_4251c_row2_col0\" class=\"data row2 col0\" >K Neighbors w/ Cond. Deseasonalize & Detrending</td>\n",
       "      <td id=\"T_4251c_row2_col1\" class=\"data row2 col1\" >1.3043</td>\n",
       "      <td id=\"T_4251c_row2_col2\" class=\"data row2 col2\" >1.0674</td>\n",
       "      <td id=\"T_4251c_row2_col3\" class=\"data row2 col3\" >145781.5195</td>\n",
       "      <td id=\"T_4251c_row2_col4\" class=\"data row2 col4\" >192633.3658</td>\n",
       "      <td id=\"T_4251c_row2_col5\" class=\"data row2 col5\" >0.3951</td>\n",
       "      <td id=\"T_4251c_row2_col6\" class=\"data row2 col6\" >0.3315</td>\n",
       "      <td id=\"T_4251c_row2_col7\" class=\"data row2 col7\" >-0.0974</td>\n",
       "      <td id=\"T_4251c_row2_col8\" class=\"data row2 col8\" >0.2233</td>\n",
       "    </tr>\n",
       "    <tr>\n",
       "      <th id=\"T_4251c_level0_row3\" class=\"row_heading level0 row3\" >rf_cds_dt</th>\n",
       "      <td id=\"T_4251c_row3_col0\" class=\"data row3 col0\" >Random Forest w/ Cond. Deseasonalize & Detrending</td>\n",
       "      <td id=\"T_4251c_row3_col1\" class=\"data row3 col1\" >1.3075</td>\n",
       "      <td id=\"T_4251c_row3_col2\" class=\"data row3 col2\" >1.0874</td>\n",
       "      <td id=\"T_4251c_row3_col3\" class=\"data row3 col3\" >146514.5890</td>\n",
       "      <td id=\"T_4251c_row3_col4\" class=\"data row3 col4\" >196649.5083</td>\n",
       "      <td id=\"T_4251c_row3_col5\" class=\"data row3 col5\" >0.3988</td>\n",
       "      <td id=\"T_4251c_row3_col6\" class=\"data row3 col6\" >0.3303</td>\n",
       "      <td id=\"T_4251c_row3_col7\" class=\"data row3 col7\" >-0.1776</td>\n",
       "      <td id=\"T_4251c_row3_col8\" class=\"data row3 col8\" >0.2667</td>\n",
       "    </tr>\n",
       "    <tr>\n",
       "      <th id=\"T_4251c_level0_row4\" class=\"row_heading level0 row4\" >polytrend</th>\n",
       "      <td id=\"T_4251c_row4_col0\" class=\"data row4 col0\" >Polynomial Trend Forecaster</td>\n",
       "      <td id=\"T_4251c_row4_col1\" class=\"data row4 col1\" >1.3121</td>\n",
       "      <td id=\"T_4251c_row4_col2\" class=\"data row4 col2\" >1.0722</td>\n",
       "      <td id=\"T_4251c_row4_col3\" class=\"data row4 col3\" >146680.2601</td>\n",
       "      <td id=\"T_4251c_row4_col4\" class=\"data row4 col4\" >193420.0843</td>\n",
       "      <td id=\"T_4251c_row4_col5\" class=\"data row4 col5\" >0.4087</td>\n",
       "      <td id=\"T_4251c_row4_col6\" class=\"data row4 col6\" >0.3377</td>\n",
       "      <td id=\"T_4251c_row4_col7\" class=\"data row4 col7\" >-0.1140</td>\n",
       "      <td id=\"T_4251c_row4_col8\" class=\"data row4 col8\" >0.0233</td>\n",
       "    </tr>\n",
       "    <tr>\n",
       "      <th id=\"T_4251c_level0_row5\" class=\"row_heading level0 row5\" >stlf</th>\n",
       "      <td id=\"T_4251c_row5_col0\" class=\"data row5 col0\" >STLF</td>\n",
       "      <td id=\"T_4251c_row5_col1\" class=\"data row5 col1\" >1.2908</td>\n",
       "      <td id=\"T_4251c_row5_col2\" class=\"data row5 col2\" >1.0660</td>\n",
       "      <td id=\"T_4251c_row5_col3\" class=\"data row5 col3\" >146090.1220</td>\n",
       "      <td id=\"T_4251c_row5_col4\" class=\"data row5 col4\" >194336.9492</td>\n",
       "      <td id=\"T_4251c_row5_col5\" class=\"data row5 col5\" >0.4115</td>\n",
       "      <td id=\"T_4251c_row5_col6\" class=\"data row5 col6\" >0.3370</td>\n",
       "      <td id=\"T_4251c_row5_col7\" class=\"data row5 col7\" >-0.2857</td>\n",
       "      <td id=\"T_4251c_row5_col8\" class=\"data row5 col8\" >0.0333</td>\n",
       "    </tr>\n",
       "    <tr>\n",
       "      <th id=\"T_4251c_level0_row6\" class=\"row_heading level0 row6\" >lightgbm_cds_dt</th>\n",
       "      <td id=\"T_4251c_row6_col0\" class=\"data row6 col0\" >Light Gradient Boosting w/ Cond. Deseasonalize & Detrending</td>\n",
       "      <td id=\"T_4251c_row6_col1\" class=\"data row6 col1\" >1.4021</td>\n",
       "      <td id=\"T_4251c_row6_col2\" class=\"data row6 col2\" >1.1554</td>\n",
       "      <td id=\"T_4251c_row6_col3\" class=\"data row6 col3\" >157605.5978</td>\n",
       "      <td id=\"T_4251c_row6_col4\" class=\"data row6 col4\" >208900.8217</td>\n",
       "      <td id=\"T_4251c_row6_col5\" class=\"data row6 col5\" >0.4202</td>\n",
       "      <td id=\"T_4251c_row6_col6\" class=\"data row6 col6\" >0.3536</td>\n",
       "      <td id=\"T_4251c_row6_col7\" class=\"data row6 col7\" >-0.3982</td>\n",
       "      <td id=\"T_4251c_row6_col8\" class=\"data row6 col8\" >0.2800</td>\n",
       "    </tr>\n",
       "    <tr>\n",
       "      <th id=\"T_4251c_level0_row7\" class=\"row_heading level0 row7\" >dt_cds_dt</th>\n",
       "      <td id=\"T_4251c_row7_col0\" class=\"data row7 col0\" >Decision Tree w/ Cond. Deseasonalize & Detrending</td>\n",
       "      <td id=\"T_4251c_row7_col1\" class=\"data row7 col1\" >1.3858</td>\n",
       "      <td id=\"T_4251c_row7_col2\" class=\"data row7 col2\" >1.2541</td>\n",
       "      <td id=\"T_4251c_row7_col3\" class=\"data row7 col3\" >156623.0997</td>\n",
       "      <td id=\"T_4251c_row7_col4\" class=\"data row7 col4\" >228786.7228</td>\n",
       "      <td id=\"T_4251c_row7_col5\" class=\"data row7 col5\" >0.4204</td>\n",
       "      <td id=\"T_4251c_row7_col6\" class=\"data row7 col6\" >0.3390</td>\n",
       "      <td id=\"T_4251c_row7_col7\" class=\"data row7 col7\" >-0.9382</td>\n",
       "      <td id=\"T_4251c_row7_col8\" class=\"data row7 col8\" >0.1200</td>\n",
       "    </tr>\n",
       "    <tr>\n",
       "      <th id=\"T_4251c_level0_row8\" class=\"row_heading level0 row8\" >gbr_cds_dt</th>\n",
       "      <td id=\"T_4251c_row8_col0\" class=\"data row8 col0\" >Gradient Boosting w/ Cond. Deseasonalize & Detrending</td>\n",
       "      <td id=\"T_4251c_row8_col1\" class=\"data row8 col1\" >1.4333</td>\n",
       "      <td id=\"T_4251c_row8_col2\" class=\"data row8 col2\" >1.1799</td>\n",
       "      <td id=\"T_4251c_row8_col3\" class=\"data row8 col3\" >161858.1630</td>\n",
       "      <td id=\"T_4251c_row8_col4\" class=\"data row8 col4\" >214293.5227</td>\n",
       "      <td id=\"T_4251c_row8_col5\" class=\"data row8 col5\" >0.4363</td>\n",
       "      <td id=\"T_4251c_row8_col6\" class=\"data row8 col6\" >0.3489</td>\n",
       "      <td id=\"T_4251c_row8_col7\" class=\"data row8 col7\" >-0.5586</td>\n",
       "      <td id=\"T_4251c_row8_col8\" class=\"data row8 col8\" >0.1300</td>\n",
       "    </tr>\n",
       "    <tr>\n",
       "      <th id=\"T_4251c_level0_row9\" class=\"row_heading level0 row9\" >omp_cds_dt</th>\n",
       "      <td id=\"T_4251c_row9_col0\" class=\"data row9 col0\" >Orthogonal Matching Pursuit w/ Cond. Deseasonalize & Detrending</td>\n",
       "      <td id=\"T_4251c_row9_col1\" class=\"data row9 col1\" >1.4886</td>\n",
       "      <td id=\"T_4251c_row9_col2\" class=\"data row9 col2\" >1.1440</td>\n",
       "      <td id=\"T_4251c_row9_col3\" class=\"data row9 col3\" >166488.0184</td>\n",
       "      <td id=\"T_4251c_row9_col4\" class=\"data row9 col4\" >206998.6676</td>\n",
       "      <td id=\"T_4251c_row9_col5\" class=\"data row9 col5\" >0.4742</td>\n",
       "      <td id=\"T_4251c_row9_col6\" class=\"data row9 col6\" >0.3861</td>\n",
       "      <td id=\"T_4251c_row9_col7\" class=\"data row9 col7\" >-0.2774</td>\n",
       "      <td id=\"T_4251c_row9_col8\" class=\"data row9 col8\" >0.1200</td>\n",
       "    </tr>\n",
       "    <tr>\n",
       "      <th id=\"T_4251c_level0_row10\" class=\"row_heading level0 row10\" >ets</th>\n",
       "      <td id=\"T_4251c_row10_col0\" class=\"data row10 col0\" >ETS</td>\n",
       "      <td id=\"T_4251c_row10_col1\" class=\"data row10 col1\" >1.5028</td>\n",
       "      <td id=\"T_4251c_row10_col2\" class=\"data row10 col2\" >1.1535</td>\n",
       "      <td id=\"T_4251c_row10_col3\" class=\"data row10 col3\" >170153.9543</td>\n",
       "      <td id=\"T_4251c_row10_col4\" class=\"data row10 col4\" >212706.5421</td>\n",
       "      <td id=\"T_4251c_row10_col5\" class=\"data row10 col5\" >0.4798</td>\n",
       "      <td id=\"T_4251c_row10_col6\" class=\"data row10 col6\" >0.3766</td>\n",
       "      <td id=\"T_4251c_row10_col7\" class=\"data row10 col7\" >-0.7111</td>\n",
       "      <td id=\"T_4251c_row10_col8\" class=\"data row10 col8\" >0.0833</td>\n",
       "    </tr>\n",
       "    <tr>\n",
       "      <th id=\"T_4251c_level0_row11\" class=\"row_heading level0 row11\" >et_cds_dt</th>\n",
       "      <td id=\"T_4251c_row11_col0\" class=\"data row11 col0\" >Extra Trees w/ Cond. Deseasonalize & Detrending</td>\n",
       "      <td id=\"T_4251c_row11_col1\" class=\"data row11 col1\" >1.5065</td>\n",
       "      <td id=\"T_4251c_row11_col2\" class=\"data row11 col2\" >1.1936</td>\n",
       "      <td id=\"T_4251c_row11_col3\" class=\"data row11 col3\" >169717.7186</td>\n",
       "      <td id=\"T_4251c_row11_col4\" class=\"data row11 col4\" >217371.1369</td>\n",
       "      <td id=\"T_4251c_row11_col5\" class=\"data row11 col5\" >0.4809</td>\n",
       "      <td id=\"T_4251c_row11_col6\" class=\"data row11 col6\" >0.3752</td>\n",
       "      <td id=\"T_4251c_row11_col7\" class=\"data row11 col7\" >-0.5322</td>\n",
       "      <td id=\"T_4251c_row11_col8\" class=\"data row11 col8\" >0.2600</td>\n",
       "    </tr>\n",
       "    <tr>\n",
       "      <th id=\"T_4251c_level0_row12\" class=\"row_heading level0 row12\" >xgboost_cds_dt</th>\n",
       "      <td id=\"T_4251c_row12_col0\" class=\"data row12 col0\" >Extreme Gradient Boosting w/ Cond. Deseasonalize & Detrending</td>\n",
       "      <td id=\"T_4251c_row12_col1\" class=\"data row12 col1\" >1.6244</td>\n",
       "      <td id=\"T_4251c_row12_col2\" class=\"data row12 col2\" >1.3634</td>\n",
       "      <td id=\"T_4251c_row12_col3\" class=\"data row12 col3\" >183081.6904</td>\n",
       "      <td id=\"T_4251c_row12_col4\" class=\"data row12 col4\" >248372.4507</td>\n",
       "      <td id=\"T_4251c_row12_col5\" class=\"data row12 col5\" >0.4972</td>\n",
       "      <td id=\"T_4251c_row12_col6\" class=\"data row12 col6\" >0.3725</td>\n",
       "      <td id=\"T_4251c_row12_col7\" class=\"data row12 col7\" >-1.2256</td>\n",
       "      <td id=\"T_4251c_row12_col8\" class=\"data row12 col8\" >0.5467</td>\n",
       "    </tr>\n",
       "    <tr>\n",
       "      <th id=\"T_4251c_level0_row13\" class=\"row_heading level0 row13\" >theta</th>\n",
       "      <td id=\"T_4251c_row13_col0\" class=\"data row13 col0\" >Theta Forecaster</td>\n",
       "      <td id=\"T_4251c_row13_col1\" class=\"data row13 col1\" >2.0263</td>\n",
       "      <td id=\"T_4251c_row13_col2\" class=\"data row13 col2\" >1.4748</td>\n",
       "      <td id=\"T_4251c_row13_col3\" class=\"data row13 col3\" >228807.2645</td>\n",
       "      <td id=\"T_4251c_row13_col4\" class=\"data row13 col4\" >273185.1374</td>\n",
       "      <td id=\"T_4251c_row13_col5\" class=\"data row13 col5\" >0.7587</td>\n",
       "      <td id=\"T_4251c_row13_col6\" class=\"data row13 col6\" >0.4687</td>\n",
       "      <td id=\"T_4251c_row13_col7\" class=\"data row13 col7\" >-2.0956</td>\n",
       "      <td id=\"T_4251c_row13_col8\" class=\"data row13 col8\" >0.0267</td>\n",
       "    </tr>\n",
       "    <tr>\n",
       "      <th id=\"T_4251c_level0_row14\" class=\"row_heading level0 row14\" >arima</th>\n",
       "      <td id=\"T_4251c_row14_col0\" class=\"data row14 col0\" >ARIMA</td>\n",
       "      <td id=\"T_4251c_row14_col1\" class=\"data row14 col1\" >2.7880</td>\n",
       "      <td id=\"T_4251c_row14_col2\" class=\"data row14 col2\" >1.9037</td>\n",
       "      <td id=\"T_4251c_row14_col3\" class=\"data row14 col3\" >316382.3229</td>\n",
       "      <td id=\"T_4251c_row14_col4\" class=\"data row14 col4\" >354107.8298</td>\n",
       "      <td id=\"T_4251c_row14_col5\" class=\"data row14 col5\" >1.0293</td>\n",
       "      <td id=\"T_4251c_row14_col6\" class=\"data row14 col6\" >0.5737</td>\n",
       "      <td id=\"T_4251c_row14_col7\" class=\"data row14 col7\" >-4.7732</td>\n",
       "      <td id=\"T_4251c_row14_col8\" class=\"data row14 col8\" >0.0400</td>\n",
       "    </tr>\n",
       "    <tr>\n",
       "      <th id=\"T_4251c_level0_row15\" class=\"row_heading level0 row15\" >br_cds_dt</th>\n",
       "      <td id=\"T_4251c_row15_col0\" class=\"data row15 col0\" >Bayesian Ridge w/ Cond. Deseasonalize & Detrending</td>\n",
       "      <td id=\"T_4251c_row15_col1\" class=\"data row15 col1\" >3.2263</td>\n",
       "      <td id=\"T_4251c_row15_col2\" class=\"data row15 col2\" >2.4431</td>\n",
       "      <td id=\"T_4251c_row15_col3\" class=\"data row15 col3\" >365413.1132</td>\n",
       "      <td id=\"T_4251c_row15_col4\" class=\"data row15 col4\" >455816.2162</td>\n",
       "      <td id=\"T_4251c_row15_col5\" class=\"data row15 col5\" >1.1828</td>\n",
       "      <td id=\"T_4251c_row15_col6\" class=\"data row15 col6\" >0.7254</td>\n",
       "      <td id=\"T_4251c_row15_col7\" class=\"data row15 col7\" >-9.8052</td>\n",
       "      <td id=\"T_4251c_row15_col8\" class=\"data row15 col8\" >0.1267</td>\n",
       "    </tr>\n",
       "    <tr>\n",
       "      <th id=\"T_4251c_level0_row16\" class=\"row_heading level0 row16\" >auto_arima</th>\n",
       "      <td id=\"T_4251c_row16_col0\" class=\"data row16 col0\" >Auto ARIMA</td>\n",
       "      <td id=\"T_4251c_row16_col1\" class=\"data row16 col1\" >3.2380</td>\n",
       "      <td id=\"T_4251c_row16_col2\" class=\"data row16 col2\" >2.1809</td>\n",
       "      <td id=\"T_4251c_row16_col3\" class=\"data row16 col3\" >367564.5672</td>\n",
       "      <td id=\"T_4251c_row16_col4\" class=\"data row16 col4\" >407178.7454</td>\n",
       "      <td id=\"T_4251c_row16_col5\" class=\"data row16 col5\" >1.2051</td>\n",
       "      <td id=\"T_4251c_row16_col6\" class=\"data row16 col6\" >0.6069</td>\n",
       "      <td id=\"T_4251c_row16_col7\" class=\"data row16 col7\" >-7.4620</td>\n",
       "      <td id=\"T_4251c_row16_col8\" class=\"data row16 col8\" >0.2033</td>\n",
       "    </tr>\n",
       "    <tr>\n",
       "      <th id=\"T_4251c_level0_row17\" class=\"row_heading level0 row17\" >huber_cds_dt</th>\n",
       "      <td id=\"T_4251c_row17_col0\" class=\"data row17 col0\" >Huber w/ Cond. Deseasonalize & Detrending</td>\n",
       "      <td id=\"T_4251c_row17_col1\" class=\"data row17 col1\" >4.8164</td>\n",
       "      <td id=\"T_4251c_row17_col2\" class=\"data row17 col2\" >3.7301</td>\n",
       "      <td id=\"T_4251c_row17_col3\" class=\"data row17 col3\" >544781.8196</td>\n",
       "      <td id=\"T_4251c_row17_col4\" class=\"data row17 col4\" >696791.7117</td>\n",
       "      <td id=\"T_4251c_row17_col5\" class=\"data row17 col5\" >1.7460</td>\n",
       "      <td id=\"T_4251c_row17_col6\" class=\"data row17 col6\" >0.8901</td>\n",
       "      <td id=\"T_4251c_row17_col7\" class=\"data row17 col7\" >-25.1133</td>\n",
       "      <td id=\"T_4251c_row17_col8\" class=\"data row17 col8\" >0.1300</td>\n",
       "    </tr>\n",
       "    <tr>\n",
       "      <th id=\"T_4251c_level0_row18\" class=\"row_heading level0 row18\" >lr_cds_dt</th>\n",
       "      <td id=\"T_4251c_row18_col0\" class=\"data row18 col0\" >Linear w/ Cond. Deseasonalize & Detrending</td>\n",
       "      <td id=\"T_4251c_row18_col1\" class=\"data row18 col1\" >7.1529</td>\n",
       "      <td id=\"T_4251c_row18_col2\" class=\"data row18 col2\" >5.8598</td>\n",
       "      <td id=\"T_4251c_row18_col3\" class=\"data row18 col3\" >811372.2321</td>\n",
       "      <td id=\"T_4251c_row18_col4\" class=\"data row18 col4\" >1108103.2974</td>\n",
       "      <td id=\"T_4251c_row18_col5\" class=\"data row18 col5\" >2.6428</td>\n",
       "      <td id=\"T_4251c_row18_col6\" class=\"data row18 col6\" >0.9000</td>\n",
       "      <td id=\"T_4251c_row18_col7\" class=\"data row18 col7\" >-91.1607</td>\n",
       "      <td id=\"T_4251c_row18_col8\" class=\"data row18 col8\" >0.1233</td>\n",
       "    </tr>\n",
       "    <tr>\n",
       "      <th id=\"T_4251c_level0_row19\" class=\"row_heading level0 row19\" >en_cds_dt</th>\n",
       "      <td id=\"T_4251c_row19_col0\" class=\"data row19 col0\" >Elastic Net w/ Cond. Deseasonalize & Detrending</td>\n",
       "      <td id=\"T_4251c_row19_col1\" class=\"data row19 col1\" >7.1529</td>\n",
       "      <td id=\"T_4251c_row19_col2\" class=\"data row19 col2\" >5.8598</td>\n",
       "      <td id=\"T_4251c_row19_col3\" class=\"data row19 col3\" >811372.2282</td>\n",
       "      <td id=\"T_4251c_row19_col4\" class=\"data row19 col4\" >1108103.2909</td>\n",
       "      <td id=\"T_4251c_row19_col5\" class=\"data row19 col5\" >2.6428</td>\n",
       "      <td id=\"T_4251c_row19_col6\" class=\"data row19 col6\" >0.9000</td>\n",
       "      <td id=\"T_4251c_row19_col7\" class=\"data row19 col7\" >-91.1607</td>\n",
       "      <td id=\"T_4251c_row19_col8\" class=\"data row19 col8\" >0.1133</td>\n",
       "    </tr>\n",
       "    <tr>\n",
       "      <th id=\"T_4251c_level0_row20\" class=\"row_heading level0 row20\" >ridge_cds_dt</th>\n",
       "      <td id=\"T_4251c_row20_col0\" class=\"data row20 col0\" >Ridge w/ Cond. Deseasonalize & Detrending</td>\n",
       "      <td id=\"T_4251c_row20_col1\" class=\"data row20 col1\" >7.1529</td>\n",
       "      <td id=\"T_4251c_row20_col2\" class=\"data row20 col2\" >5.8598</td>\n",
       "      <td id=\"T_4251c_row20_col3\" class=\"data row20 col3\" >811372.2319</td>\n",
       "      <td id=\"T_4251c_row20_col4\" class=\"data row20 col4\" >1108103.2971</td>\n",
       "      <td id=\"T_4251c_row20_col5\" class=\"data row20 col5\" >2.6428</td>\n",
       "      <td id=\"T_4251c_row20_col6\" class=\"data row20 col6\" >0.9000</td>\n",
       "      <td id=\"T_4251c_row20_col7\" class=\"data row20 col7\" >-91.1607</td>\n",
       "      <td id=\"T_4251c_row20_col8\" class=\"data row20 col8\" >0.1200</td>\n",
       "    </tr>\n",
       "    <tr>\n",
       "      <th id=\"T_4251c_level0_row21\" class=\"row_heading level0 row21\" >lasso_cds_dt</th>\n",
       "      <td id=\"T_4251c_row21_col0\" class=\"data row21 col0\" >Lasso w/ Cond. Deseasonalize & Detrending</td>\n",
       "      <td id=\"T_4251c_row21_col1\" class=\"data row21 col1\" >7.1529</td>\n",
       "      <td id=\"T_4251c_row21_col2\" class=\"data row21 col2\" >5.8598</td>\n",
       "      <td id=\"T_4251c_row21_col3\" class=\"data row21 col3\" >811372.2291</td>\n",
       "      <td id=\"T_4251c_row21_col4\" class=\"data row21 col4\" >1108103.2925</td>\n",
       "      <td id=\"T_4251c_row21_col5\" class=\"data row21 col5\" >2.6428</td>\n",
       "      <td id=\"T_4251c_row21_col6\" class=\"data row21 col6\" >0.9000</td>\n",
       "      <td id=\"T_4251c_row21_col7\" class=\"data row21 col7\" >-91.1607</td>\n",
       "      <td id=\"T_4251c_row21_col8\" class=\"data row21 col8\" >0.1200</td>\n",
       "    </tr>\n",
       "    <tr>\n",
       "      <th id=\"T_4251c_level0_row22\" class=\"row_heading level0 row22\" >llar_cds_dt</th>\n",
       "      <td id=\"T_4251c_row22_col0\" class=\"data row22 col0\" >Lasso Least Angular Regressor w/ Cond. Deseasonalize & Detrending</td>\n",
       "      <td id=\"T_4251c_row22_col1\" class=\"data row22 col1\" >7.1529</td>\n",
       "      <td id=\"T_4251c_row22_col2\" class=\"data row22 col2\" >5.8598</td>\n",
       "      <td id=\"T_4251c_row22_col3\" class=\"data row22 col3\" >811372.2291</td>\n",
       "      <td id=\"T_4251c_row22_col4\" class=\"data row22 col4\" >1108103.2925</td>\n",
       "      <td id=\"T_4251c_row22_col5\" class=\"data row22 col5\" >2.6428</td>\n",
       "      <td id=\"T_4251c_row22_col6\" class=\"data row22 col6\" >0.9000</td>\n",
       "      <td id=\"T_4251c_row22_col7\" class=\"data row22 col7\" >-91.1607</td>\n",
       "      <td id=\"T_4251c_row22_col8\" class=\"data row22 col8\" >0.1133</td>\n",
       "    </tr>\n",
       "    <tr>\n",
       "      <th id=\"T_4251c_level0_row23\" class=\"row_heading level0 row23\" >exp_smooth</th>\n",
       "      <td id=\"T_4251c_row23_col0\" class=\"data row23 col0\" >Exponential Smoothing</td>\n",
       "      <td id=\"T_4251c_row23_col1\" class=\"data row23 col1\" >7.9765</td>\n",
       "      <td id=\"T_4251c_row23_col2\" class=\"data row23 col2\" >5.3788</td>\n",
       "      <td id=\"T_4251c_row23_col3\" class=\"data row23 col3\" >897139.3054</td>\n",
       "      <td id=\"T_4251c_row23_col4\" class=\"data row23 col4\" >1004043.0682</td>\n",
       "      <td id=\"T_4251c_row23_col5\" class=\"data row23 col5\" >2.8789</td>\n",
       "      <td id=\"T_4251c_row23_col6\" class=\"data row23 col6\" >0.8362</td>\n",
       "      <td id=\"T_4251c_row23_col7\" class=\"data row23 col7\" >-60.3111</td>\n",
       "      <td id=\"T_4251c_row23_col8\" class=\"data row23 col8\" >0.0600</td>\n",
       "    </tr>\n",
       "  </tbody>\n",
       "</table>\n"
      ],
      "text/plain": [
       "<pandas.io.formats.style.Styler at 0x1a6bcd69f10>"
      ]
     },
     "metadata": {},
     "output_type": "display_data"
    },
    {
     "data": {
      "text/html": [],
      "text/plain": [
       "<IPython.core.display.HTML object>"
      ]
     },
     "metadata": {},
     "output_type": "display_data"
    },
    {
     "data": {
      "application/vnd.plotly.v1+json": {
       "config": {
        "plotlyServerURL": "https://plot.ly"
       },
       "data": [
        {
         "line": {
          "color": "#1f77b4"
         },
         "marker": {
          "size": 5
         },
         "mode": "lines+markers",
         "name": "Forecast | Seasonal Naive Forecaster",
         "showlegend": true,
         "type": "scatter",
         "x": [
          "2022-01-01T00:00:00",
          "2022-02-01T00:00:00",
          "2022-03-01T00:00:00",
          "2022-04-01T00:00:00",
          "2022-05-01T00:00:00",
          "2022-06-01T00:00:00",
          "2022-07-01T00:00:00",
          "2022-08-01T00:00:00",
          "2022-09-01T00:00:00",
          "2022-10-01T00:00:00",
          "2022-11-01T00:00:00",
          "2022-12-01T00:00:00"
         ],
         "y": [
          413746.1122,
          391050.5831,
          533340.2465,
          624154.662,
          677179.2247,
          226458.9576,
          269819.95,
          425862.5261,
          672520.1492,
          265349.7883,
          417237.8058,
          571900.7222
         ]
        },
        {
         "line": {
          "width": 0
         },
         "marker": {
          "color": "#68BBE3"
         },
         "mode": "lines",
         "name": "Lower Interval",
         "showlegend": false,
         "type": "scatter",
         "x": [
          "2022-01-01T00:00:00",
          "2022-02-01T00:00:00",
          "2022-03-01T00:00:00",
          "2022-04-01T00:00:00",
          "2022-05-01T00:00:00",
          "2022-06-01T00:00:00",
          "2022-07-01T00:00:00",
          "2022-08-01T00:00:00",
          "2022-09-01T00:00:00",
          "2022-10-01T00:00:00",
          "2022-11-01T00:00:00",
          "2022-12-01T00:00:00"
         ],
         "y": [
          95759.7854,
          73064.2562,
          215353.9196,
          306168.3351,
          359192.8978,
          -91527.3693,
          -48166.3769,
          107876.1992,
          354533.8223,
          -52636.5386,
          99251.4789,
          253914.3954
         ]
        },
        {
         "fill": "tonexty",
         "fillcolor": "rgba(104,187,227,0.5)",
         "line": {
          "width": 0
         },
         "marker": {
          "color": "#68BBE3"
         },
         "mode": "lines",
         "name": "Prediction Interval | Seasonal Naive Forecaster",
         "showlegend": true,
         "type": "scatter",
         "x": [
          "2022-01-01T00:00:00",
          "2022-02-01T00:00:00",
          "2022-03-01T00:00:00",
          "2022-04-01T00:00:00",
          "2022-05-01T00:00:00",
          "2022-06-01T00:00:00",
          "2022-07-01T00:00:00",
          "2022-08-01T00:00:00",
          "2022-09-01T00:00:00",
          "2022-10-01T00:00:00",
          "2022-11-01T00:00:00",
          "2022-12-01T00:00:00"
         ],
         "y": [
          731732.4391,
          709036.91,
          851326.5734,
          942140.9889,
          995165.5516,
          544445.2844,
          587806.2769,
          743848.8529,
          990506.4761,
          583336.1152,
          735224.1326,
          889887.0491
         ]
        },
        {
         "marker": {
          "color": "#3f3f3f",
          "size": 5
         },
         "mode": "lines+markers",
         "name": "Original",
         "showlegend": true,
         "type": "scatter",
         "x": [
          "2016-01-01T00:00:00",
          "2016-02-01T00:00:00",
          "2016-03-01T00:00:00",
          "2016-04-01T00:00:00",
          "2016-05-01T00:00:00",
          "2016-06-01T00:00:00",
          "2016-07-01T00:00:00",
          "2016-08-01T00:00:00",
          "2016-09-01T00:00:00",
          "2016-10-01T00:00:00",
          "2016-11-01T00:00:00",
          "2016-12-01T00:00:00",
          "2017-01-01T00:00:00",
          "2017-02-01T00:00:00",
          "2017-03-01T00:00:00",
          "2017-04-01T00:00:00",
          "2017-05-01T00:00:00",
          "2017-06-01T00:00:00",
          "2017-07-01T00:00:00",
          "2017-08-01T00:00:00",
          "2017-09-01T00:00:00",
          "2017-10-01T00:00:00",
          "2017-11-01T00:00:00",
          "2017-12-01T00:00:00",
          "2018-01-01T00:00:00",
          "2018-02-01T00:00:00",
          "2018-03-01T00:00:00",
          "2018-04-01T00:00:00",
          "2018-05-01T00:00:00",
          "2018-06-01T00:00:00",
          "2018-07-01T00:00:00",
          "2018-08-01T00:00:00",
          "2018-09-01T00:00:00",
          "2018-10-01T00:00:00",
          "2018-11-01T00:00:00",
          "2018-12-01T00:00:00",
          "2019-01-01T00:00:00",
          "2019-02-01T00:00:00",
          "2019-03-01T00:00:00",
          "2019-04-01T00:00:00",
          "2019-05-01T00:00:00",
          "2019-06-01T00:00:00",
          "2019-07-01T00:00:00",
          "2019-08-01T00:00:00",
          "2019-09-01T00:00:00",
          "2019-10-01T00:00:00",
          "2019-11-01T00:00:00",
          "2019-12-01T00:00:00",
          "2020-01-01T00:00:00",
          "2020-02-01T00:00:00",
          "2020-03-01T00:00:00",
          "2020-04-01T00:00:00",
          "2020-05-01T00:00:00",
          "2020-06-01T00:00:00",
          "2020-07-01T00:00:00",
          "2020-08-01T00:00:00",
          "2020-09-01T00:00:00",
          "2020-10-01T00:00:00",
          "2020-11-01T00:00:00",
          "2020-12-01T00:00:00",
          "2021-01-01T00:00:00",
          "2021-02-01T00:00:00",
          "2021-03-01T00:00:00",
          "2021-04-01T00:00:00",
          "2021-05-01T00:00:00",
          "2021-06-01T00:00:00",
          "2021-07-01T00:00:00",
          "2021-08-01T00:00:00",
          "2021-09-01T00:00:00",
          "2021-10-01T00:00:00",
          "2021-11-01T00:00:00",
          "2021-12-01T00:00:00",
          "2022-01-01T00:00:00",
          "2022-02-01T00:00:00",
          "2022-03-01T00:00:00",
          "2022-04-01T00:00:00",
          "2022-05-01T00:00:00",
          "2022-06-01T00:00:00",
          "2022-07-01T00:00:00",
          "2022-08-01T00:00:00",
          "2022-09-01T00:00:00",
          "2022-10-01T00:00:00",
          "2022-11-01T00:00:00",
          "2022-12-01T00:00:00"
         ],
         "y": [
          39129.60294011676,
          46143.8408131129,
          36359.259807549985,
          27159.842641160132,
          36951.86040952913,
          51933.39465011118,
          33025.33838657281,
          49900.44519496466,
          51427.617011529386,
          44447.028384445635,
          41110.73374636112,
          77016.69148302561,
          43145.636634400595,
          27453.24031716988,
          45400.007587253436,
          38958.8336706394,
          64377.78021978027,
          56748.83340763857,
          53101.67653618397,
          48363.955920205895,
          57433.394088279565,
          38372.4231972407,
          42728.44201483797,
          65733.9656378761,
          45363.043651109176,
          51864.9935128122,
          179491.75669328333,
          378123.37289581896,
          411387.24465928576,
          250181.13104948355,
          250379.3526275706,
          264824.26149006374,
          232537.4065798597,
          211502.72008679487,
          205072.00305227016,
          708775.9656652361,
          316270.85136027006,
          182601.2322202784,
          272135.63934924745,
          271039.71073141485,
          325315.7104637338,
          228102.24477700412,
          273378.5255920552,
          235563.15989654645,
          319304.71074380167,
          232758.69072787667,
          262485.7783520828,
          853304.7156308856,
          254506.52939375394,
          168753.48273773462,
          295055.35234398325,
          575809.6760533564,
          980578.6625351305,
          439612.4046771732,
          388875.814600571,
          344603.65817314846,
          295909.4601817212,
          362919.60857548355,
          415857.85086731234,
          924583.3333333338,
          413746.11224329844,
          391050.5830789702,
          533340.2464871653,
          624154.6620231122,
          677179.2246925647,
          226458.95757374883,
          269819.9500040319,
          425862.52606255026,
          672520.1491945086,
          265349.7883017091,
          417237.8057641075,
          571900.7222483905,
          317539.7802197803,
          304473.3406472849,
          244767.2884691066,
          369670.46474358963,
          218998.56876166773,
          201265.16001580414,
          245233.8608331396,
          219711.2874228094,
          362698.9917506873,
          110217.05052277543,
          442799.63235294126,
          221944.75622330254
         ]
        }
       ],
       "layout": {
        "showlegend": true,
        "template": {
         "data": {
          "bar": [
           {
            "error_x": {
             "color": "rgb(51,51,51)"
            },
            "error_y": {
             "color": "rgb(51,51,51)"
            },
            "marker": {
             "line": {
              "color": "rgb(237,237,237)",
              "width": 0.5
             },
             "pattern": {
              "fillmode": "overlay",
              "size": 10,
              "solidity": 0.2
             }
            },
            "type": "bar"
           }
          ],
          "barpolar": [
           {
            "marker": {
             "line": {
              "color": "rgb(237,237,237)",
              "width": 0.5
             },
             "pattern": {
              "fillmode": "overlay",
              "size": 10,
              "solidity": 0.2
             }
            },
            "type": "barpolar"
           }
          ],
          "carpet": [
           {
            "aaxis": {
             "endlinecolor": "rgb(51,51,51)",
             "gridcolor": "white",
             "linecolor": "white",
             "minorgridcolor": "white",
             "startlinecolor": "rgb(51,51,51)"
            },
            "baxis": {
             "endlinecolor": "rgb(51,51,51)",
             "gridcolor": "white",
             "linecolor": "white",
             "minorgridcolor": "white",
             "startlinecolor": "rgb(51,51,51)"
            },
            "type": "carpet"
           }
          ],
          "choropleth": [
           {
            "colorbar": {
             "outlinewidth": 0,
             "tickcolor": "rgb(237,237,237)",
             "ticklen": 6,
             "ticks": "inside"
            },
            "type": "choropleth"
           }
          ],
          "contour": [
           {
            "colorbar": {
             "outlinewidth": 0,
             "tickcolor": "rgb(237,237,237)",
             "ticklen": 6,
             "ticks": "inside"
            },
            "colorscale": [
             [
              0,
              "rgb(20,44,66)"
             ],
             [
              1,
              "rgb(90,179,244)"
             ]
            ],
            "type": "contour"
           }
          ],
          "contourcarpet": [
           {
            "colorbar": {
             "outlinewidth": 0,
             "tickcolor": "rgb(237,237,237)",
             "ticklen": 6,
             "ticks": "inside"
            },
            "type": "contourcarpet"
           }
          ],
          "heatmap": [
           {
            "colorbar": {
             "outlinewidth": 0,
             "tickcolor": "rgb(237,237,237)",
             "ticklen": 6,
             "ticks": "inside"
            },
            "colorscale": [
             [
              0,
              "rgb(20,44,66)"
             ],
             [
              1,
              "rgb(90,179,244)"
             ]
            ],
            "type": "heatmap"
           }
          ],
          "heatmapgl": [
           {
            "colorbar": {
             "outlinewidth": 0,
             "tickcolor": "rgb(237,237,237)",
             "ticklen": 6,
             "ticks": "inside"
            },
            "colorscale": [
             [
              0,
              "rgb(20,44,66)"
             ],
             [
              1,
              "rgb(90,179,244)"
             ]
            ],
            "type": "heatmapgl"
           }
          ],
          "histogram": [
           {
            "marker": {
             "pattern": {
              "fillmode": "overlay",
              "size": 10,
              "solidity": 0.2
             }
            },
            "type": "histogram"
           }
          ],
          "histogram2d": [
           {
            "colorbar": {
             "outlinewidth": 0,
             "tickcolor": "rgb(237,237,237)",
             "ticklen": 6,
             "ticks": "inside"
            },
            "colorscale": [
             [
              0,
              "rgb(20,44,66)"
             ],
             [
              1,
              "rgb(90,179,244)"
             ]
            ],
            "type": "histogram2d"
           }
          ],
          "histogram2dcontour": [
           {
            "colorbar": {
             "outlinewidth": 0,
             "tickcolor": "rgb(237,237,237)",
             "ticklen": 6,
             "ticks": "inside"
            },
            "colorscale": [
             [
              0,
              "rgb(20,44,66)"
             ],
             [
              1,
              "rgb(90,179,244)"
             ]
            ],
            "type": "histogram2dcontour"
           }
          ],
          "mesh3d": [
           {
            "colorbar": {
             "outlinewidth": 0,
             "tickcolor": "rgb(237,237,237)",
             "ticklen": 6,
             "ticks": "inside"
            },
            "type": "mesh3d"
           }
          ],
          "parcoords": [
           {
            "line": {
             "colorbar": {
              "outlinewidth": 0,
              "tickcolor": "rgb(237,237,237)",
              "ticklen": 6,
              "ticks": "inside"
             }
            },
            "type": "parcoords"
           }
          ],
          "pie": [
           {
            "automargin": true,
            "type": "pie"
           }
          ],
          "scatter": [
           {
            "fillpattern": {
             "fillmode": "overlay",
             "size": 10,
             "solidity": 0.2
            },
            "type": "scatter"
           }
          ],
          "scatter3d": [
           {
            "line": {
             "colorbar": {
              "outlinewidth": 0,
              "tickcolor": "rgb(237,237,237)",
              "ticklen": 6,
              "ticks": "inside"
             }
            },
            "marker": {
             "colorbar": {
              "outlinewidth": 0,
              "tickcolor": "rgb(237,237,237)",
              "ticklen": 6,
              "ticks": "inside"
             }
            },
            "type": "scatter3d"
           }
          ],
          "scattercarpet": [
           {
            "marker": {
             "colorbar": {
              "outlinewidth": 0,
              "tickcolor": "rgb(237,237,237)",
              "ticklen": 6,
              "ticks": "inside"
             }
            },
            "type": "scattercarpet"
           }
          ],
          "scattergeo": [
           {
            "marker": {
             "colorbar": {
              "outlinewidth": 0,
              "tickcolor": "rgb(237,237,237)",
              "ticklen": 6,
              "ticks": "inside"
             }
            },
            "type": "scattergeo"
           }
          ],
          "scattergl": [
           {
            "marker": {
             "colorbar": {
              "outlinewidth": 0,
              "tickcolor": "rgb(237,237,237)",
              "ticklen": 6,
              "ticks": "inside"
             }
            },
            "type": "scattergl"
           }
          ],
          "scattermapbox": [
           {
            "marker": {
             "colorbar": {
              "outlinewidth": 0,
              "tickcolor": "rgb(237,237,237)",
              "ticklen": 6,
              "ticks": "inside"
             }
            },
            "type": "scattermapbox"
           }
          ],
          "scatterpolar": [
           {
            "marker": {
             "colorbar": {
              "outlinewidth": 0,
              "tickcolor": "rgb(237,237,237)",
              "ticklen": 6,
              "ticks": "inside"
             }
            },
            "type": "scatterpolar"
           }
          ],
          "scatterpolargl": [
           {
            "marker": {
             "colorbar": {
              "outlinewidth": 0,
              "tickcolor": "rgb(237,237,237)",
              "ticklen": 6,
              "ticks": "inside"
             }
            },
            "type": "scatterpolargl"
           }
          ],
          "scatterternary": [
           {
            "marker": {
             "colorbar": {
              "outlinewidth": 0,
              "tickcolor": "rgb(237,237,237)",
              "ticklen": 6,
              "ticks": "inside"
             }
            },
            "type": "scatterternary"
           }
          ],
          "surface": [
           {
            "colorbar": {
             "outlinewidth": 0,
             "tickcolor": "rgb(237,237,237)",
             "ticklen": 6,
             "ticks": "inside"
            },
            "colorscale": [
             [
              0,
              "rgb(20,44,66)"
             ],
             [
              1,
              "rgb(90,179,244)"
             ]
            ],
            "type": "surface"
           }
          ],
          "table": [
           {
            "cells": {
             "fill": {
              "color": "rgb(237,237,237)"
             },
             "line": {
              "color": "white"
             }
            },
            "header": {
             "fill": {
              "color": "rgb(217,217,217)"
             },
             "line": {
              "color": "white"
             }
            },
            "type": "table"
           }
          ]
         },
         "layout": {
          "annotationdefaults": {
           "arrowhead": 0,
           "arrowwidth": 1
          },
          "autotypenumbers": "strict",
          "coloraxis": {
           "colorbar": {
            "outlinewidth": 0,
            "tickcolor": "rgb(237,237,237)",
            "ticklen": 6,
            "ticks": "inside"
           }
          },
          "colorscale": {
           "sequential": [
            [
             0,
             "rgb(20,44,66)"
            ],
            [
             1,
             "rgb(90,179,244)"
            ]
           ],
           "sequentialminus": [
            [
             0,
             "rgb(20,44,66)"
            ],
            [
             1,
             "rgb(90,179,244)"
            ]
           ]
          },
          "colorway": [
           "#F8766D",
           "#A3A500",
           "#00BF7D",
           "#00B0F6",
           "#E76BF3"
          ],
          "font": {
           "color": "rgb(51,51,51)"
          },
          "geo": {
           "bgcolor": "white",
           "lakecolor": "white",
           "landcolor": "rgb(237,237,237)",
           "showlakes": true,
           "showland": true,
           "subunitcolor": "white"
          },
          "hoverlabel": {
           "align": "left"
          },
          "hovermode": "closest",
          "paper_bgcolor": "white",
          "plot_bgcolor": "rgb(237,237,237)",
          "polar": {
           "angularaxis": {
            "gridcolor": "white",
            "linecolor": "white",
            "showgrid": true,
            "tickcolor": "rgb(51,51,51)",
            "ticks": "outside"
           },
           "bgcolor": "rgb(237,237,237)",
           "radialaxis": {
            "gridcolor": "white",
            "linecolor": "white",
            "showgrid": true,
            "tickcolor": "rgb(51,51,51)",
            "ticks": "outside"
           }
          },
          "scene": {
           "xaxis": {
            "backgroundcolor": "rgb(237,237,237)",
            "gridcolor": "white",
            "gridwidth": 2,
            "linecolor": "white",
            "showbackground": true,
            "showgrid": true,
            "tickcolor": "rgb(51,51,51)",
            "ticks": "outside",
            "zerolinecolor": "white"
           },
           "yaxis": {
            "backgroundcolor": "rgb(237,237,237)",
            "gridcolor": "white",
            "gridwidth": 2,
            "linecolor": "white",
            "showbackground": true,
            "showgrid": true,
            "tickcolor": "rgb(51,51,51)",
            "ticks": "outside",
            "zerolinecolor": "white"
           },
           "zaxis": {
            "backgroundcolor": "rgb(237,237,237)",
            "gridcolor": "white",
            "gridwidth": 2,
            "linecolor": "white",
            "showbackground": true,
            "showgrid": true,
            "tickcolor": "rgb(51,51,51)",
            "ticks": "outside",
            "zerolinecolor": "white"
           }
          },
          "shapedefaults": {
           "fillcolor": "black",
           "line": {
            "width": 0
           },
           "opacity": 0.3
          },
          "ternary": {
           "aaxis": {
            "gridcolor": "white",
            "linecolor": "white",
            "showgrid": true,
            "tickcolor": "rgb(51,51,51)",
            "ticks": "outside"
           },
           "baxis": {
            "gridcolor": "white",
            "linecolor": "white",
            "showgrid": true,
            "tickcolor": "rgb(51,51,51)",
            "ticks": "outside"
           },
           "bgcolor": "rgb(237,237,237)",
           "caxis": {
            "gridcolor": "white",
            "linecolor": "white",
            "showgrid": true,
            "tickcolor": "rgb(51,51,51)",
            "ticks": "outside"
           }
          },
          "xaxis": {
           "automargin": true,
           "gridcolor": "white",
           "linecolor": "white",
           "showgrid": true,
           "tickcolor": "rgb(51,51,51)",
           "ticks": "outside",
           "title": {
            "standoff": 15
           },
           "zerolinecolor": "white"
          },
          "yaxis": {
           "automargin": true,
           "gridcolor": "white",
           "linecolor": "white",
           "showgrid": true,
           "tickcolor": "rgb(51,51,51)",
           "ticks": "outside",
           "title": {
            "standoff": 15
           },
           "zerolinecolor": "white"
          }
         }
        },
        "title": {
         "text": "Actual vs. 'Out-of-Sample' Forecast | NET_SALES"
        },
        "xaxis": {
         "title": {
          "text": "Time"
         }
        },
        "yaxis": {
         "title": {
          "text": "Values"
         }
        }
       }
      }
     },
     "metadata": {},
     "output_type": "display_data"
    },
    {
     "data": {
      "text/html": [
       "<style type=\"text/css\">\n",
       "</style>\n",
       "<table id=\"T_7063a\">\n",
       "  <thead>\n",
       "    <tr>\n",
       "      <th class=\"blank level0\" >&nbsp;</th>\n",
       "      <th id=\"T_7063a_level0_col0\" class=\"col_heading level0 col0\" >Model</th>\n",
       "      <th id=\"T_7063a_level0_col1\" class=\"col_heading level0 col1\" >MASE</th>\n",
       "      <th id=\"T_7063a_level0_col2\" class=\"col_heading level0 col2\" >RMSSE</th>\n",
       "      <th id=\"T_7063a_level0_col3\" class=\"col_heading level0 col3\" >MAE</th>\n",
       "      <th id=\"T_7063a_level0_col4\" class=\"col_heading level0 col4\" >RMSE</th>\n",
       "      <th id=\"T_7063a_level0_col5\" class=\"col_heading level0 col5\" >MAPE</th>\n",
       "      <th id=\"T_7063a_level0_col6\" class=\"col_heading level0 col6\" >SMAPE</th>\n",
       "      <th id=\"T_7063a_level0_col7\" class=\"col_heading level0 col7\" >R2</th>\n",
       "    </tr>\n",
       "  </thead>\n",
       "  <tbody>\n",
       "    <tr>\n",
       "      <th id=\"T_7063a_level0_row0\" class=\"row_heading level0 row0\" >0</th>\n",
       "      <td id=\"T_7063a_row0_col0\" class=\"data row0 col0\" >Seasonal Naive Forecaster</td>\n",
       "      <td id=\"T_7063a_row0_col1\" class=\"data row0 col1\" >1.4455</td>\n",
       "      <td id=\"T_7063a_row0_col2\" class=\"data row0 col2\" >1.2146</td>\n",
       "      <td id=\"T_7063a_row0_col3\" class=\"data row0 col3\" >190035.3499</td>\n",
       "      <td id=\"T_7063a_row0_col4\" class=\"data row0 col4\" >234810.7016</td>\n",
       "      <td id=\"T_7063a_row0_col5\" class=\"data row0 col5\" >0.8006</td>\n",
       "      <td id=\"T_7063a_row0_col6\" class=\"data row0 col6\" >0.5005</td>\n",
       "      <td id=\"T_7063a_row0_col7\" class=\"data row0 col7\" >-6.2908</td>\n",
       "    </tr>\n",
       "  </tbody>\n",
       "</table>\n"
      ],
      "text/plain": [
       "<pandas.io.formats.style.Styler at 0x1a6bd221f70>"
      ]
     },
     "metadata": {},
     "output_type": "display_data"
    },
    {
     "name": "stderr",
     "output_type": "stream",
     "text": [
      " 29%|██▊       | 4/14 [01:17<02:59, 17.96s/it]"
     ]
    },
    {
     "data": {
      "text/html": [
       "<style type=\"text/css\">\n",
       "#T_91d96_row25_col1, #T_91d96_row31_col1 {\n",
       "  background-color: lightgreen;\n",
       "}\n",
       "</style>\n",
       "<table id=\"T_91d96\">\n",
       "  <thead>\n",
       "    <tr>\n",
       "      <th class=\"blank level0\" >&nbsp;</th>\n",
       "      <th id=\"T_91d96_level0_col0\" class=\"col_heading level0 col0\" >Description</th>\n",
       "      <th id=\"T_91d96_level0_col1\" class=\"col_heading level0 col1\" >Value</th>\n",
       "    </tr>\n",
       "  </thead>\n",
       "  <tbody>\n",
       "    <tr>\n",
       "      <th id=\"T_91d96_level0_row0\" class=\"row_heading level0 row0\" >0</th>\n",
       "      <td id=\"T_91d96_row0_col0\" class=\"data row0 col0\" >session_id</td>\n",
       "      <td id=\"T_91d96_row0_col1\" class=\"data row0 col1\" >123</td>\n",
       "    </tr>\n",
       "    <tr>\n",
       "      <th id=\"T_91d96_level0_row1\" class=\"row_heading level0 row1\" >1</th>\n",
       "      <td id=\"T_91d96_row1_col0\" class=\"data row1 col0\" >Target</td>\n",
       "      <td id=\"T_91d96_row1_col1\" class=\"data row1 col1\" >NET_SALES</td>\n",
       "    </tr>\n",
       "    <tr>\n",
       "      <th id=\"T_91d96_level0_row2\" class=\"row_heading level0 row2\" >2</th>\n",
       "      <td id=\"T_91d96_row2_col0\" class=\"data row2 col0\" >Approach</td>\n",
       "      <td id=\"T_91d96_row2_col1\" class=\"data row2 col1\" >Univariate</td>\n",
       "    </tr>\n",
       "    <tr>\n",
       "      <th id=\"T_91d96_level0_row3\" class=\"row_heading level0 row3\" >3</th>\n",
       "      <td id=\"T_91d96_row3_col0\" class=\"data row3 col0\" >Exogenous Variables</td>\n",
       "      <td id=\"T_91d96_row3_col1\" class=\"data row3 col1\" >Not Present</td>\n",
       "    </tr>\n",
       "    <tr>\n",
       "      <th id=\"T_91d96_level0_row4\" class=\"row_heading level0 row4\" >4</th>\n",
       "      <td id=\"T_91d96_row4_col0\" class=\"data row4 col0\" >Original data shape</td>\n",
       "      <td id=\"T_91d96_row4_col1\" class=\"data row4 col1\" >(84, 1)</td>\n",
       "    </tr>\n",
       "    <tr>\n",
       "      <th id=\"T_91d96_level0_row5\" class=\"row_heading level0 row5\" >5</th>\n",
       "      <td id=\"T_91d96_row5_col0\" class=\"data row5 col0\" >Transformed data shape</td>\n",
       "      <td id=\"T_91d96_row5_col1\" class=\"data row5 col1\" >(84, 1)</td>\n",
       "    </tr>\n",
       "    <tr>\n",
       "      <th id=\"T_91d96_level0_row6\" class=\"row_heading level0 row6\" >6</th>\n",
       "      <td id=\"T_91d96_row6_col0\" class=\"data row6 col0\" >Transformed train set shape</td>\n",
       "      <td id=\"T_91d96_row6_col1\" class=\"data row6 col1\" >(72, 1)</td>\n",
       "    </tr>\n",
       "    <tr>\n",
       "      <th id=\"T_91d96_level0_row7\" class=\"row_heading level0 row7\" >7</th>\n",
       "      <td id=\"T_91d96_row7_col0\" class=\"data row7 col0\" >Transformed test set shape</td>\n",
       "      <td id=\"T_91d96_row7_col1\" class=\"data row7 col1\" >(12, 1)</td>\n",
       "    </tr>\n",
       "    <tr>\n",
       "      <th id=\"T_91d96_level0_row8\" class=\"row_heading level0 row8\" >8</th>\n",
       "      <td id=\"T_91d96_row8_col0\" class=\"data row8 col0\" >Rows with missing values</td>\n",
       "      <td id=\"T_91d96_row8_col1\" class=\"data row8 col1\" >0.0%</td>\n",
       "    </tr>\n",
       "    <tr>\n",
       "      <th id=\"T_91d96_level0_row9\" class=\"row_heading level0 row9\" >9</th>\n",
       "      <td id=\"T_91d96_row9_col0\" class=\"data row9 col0\" >Fold Generator</td>\n",
       "      <td id=\"T_91d96_row9_col1\" class=\"data row9 col1\" >ExpandingWindowSplitter</td>\n",
       "    </tr>\n",
       "    <tr>\n",
       "      <th id=\"T_91d96_level0_row10\" class=\"row_heading level0 row10\" >10</th>\n",
       "      <td id=\"T_91d96_row10_col0\" class=\"data row10 col0\" >Fold Number</td>\n",
       "      <td id=\"T_91d96_row10_col1\" class=\"data row10 col1\" >3</td>\n",
       "    </tr>\n",
       "    <tr>\n",
       "      <th id=\"T_91d96_level0_row11\" class=\"row_heading level0 row11\" >11</th>\n",
       "      <td id=\"T_91d96_row11_col0\" class=\"data row11 col0\" >Enforce Prediction Interval</td>\n",
       "      <td id=\"T_91d96_row11_col1\" class=\"data row11 col1\" >False</td>\n",
       "    </tr>\n",
       "    <tr>\n",
       "      <th id=\"T_91d96_level0_row12\" class=\"row_heading level0 row12\" >12</th>\n",
       "      <td id=\"T_91d96_row12_col0\" class=\"data row12 col0\" >Splits used for hyperparameters</td>\n",
       "      <td id=\"T_91d96_row12_col1\" class=\"data row12 col1\" >all</td>\n",
       "    </tr>\n",
       "    <tr>\n",
       "      <th id=\"T_91d96_level0_row13\" class=\"row_heading level0 row13\" >13</th>\n",
       "      <td id=\"T_91d96_row13_col0\" class=\"data row13 col0\" >User Defined Seasonal Period(s)</td>\n",
       "      <td id=\"T_91d96_row13_col1\" class=\"data row13 col1\" >None</td>\n",
       "    </tr>\n",
       "    <tr>\n",
       "      <th id=\"T_91d96_level0_row14\" class=\"row_heading level0 row14\" >14</th>\n",
       "      <td id=\"T_91d96_row14_col0\" class=\"data row14 col0\" >Ignore Seasonality Test</td>\n",
       "      <td id=\"T_91d96_row14_col1\" class=\"data row14 col1\" >False</td>\n",
       "    </tr>\n",
       "    <tr>\n",
       "      <th id=\"T_91d96_level0_row15\" class=\"row_heading level0 row15\" >15</th>\n",
       "      <td id=\"T_91d96_row15_col0\" class=\"data row15 col0\" >Seasonality Detection Algo</td>\n",
       "      <td id=\"T_91d96_row15_col1\" class=\"data row15 col1\" >auto</td>\n",
       "    </tr>\n",
       "    <tr>\n",
       "      <th id=\"T_91d96_level0_row16\" class=\"row_heading level0 row16\" >16</th>\n",
       "      <td id=\"T_91d96_row16_col0\" class=\"data row16 col0\" >Max Period to Consider</td>\n",
       "      <td id=\"T_91d96_row16_col1\" class=\"data row16 col1\" >60</td>\n",
       "    </tr>\n",
       "    <tr>\n",
       "      <th id=\"T_91d96_level0_row17\" class=\"row_heading level0 row17\" >17</th>\n",
       "      <td id=\"T_91d96_row17_col0\" class=\"data row17 col0\" >Seasonal Period(s) Tested</td>\n",
       "      <td id=\"T_91d96_row17_col1\" class=\"data row17 col1\" >[7, 12]</td>\n",
       "    </tr>\n",
       "    <tr>\n",
       "      <th id=\"T_91d96_level0_row18\" class=\"row_heading level0 row18\" >18</th>\n",
       "      <td id=\"T_91d96_row18_col0\" class=\"data row18 col0\" >Significant Seasonal Period(s)</td>\n",
       "      <td id=\"T_91d96_row18_col1\" class=\"data row18 col1\" >[7, 12]</td>\n",
       "    </tr>\n",
       "    <tr>\n",
       "      <th id=\"T_91d96_level0_row19\" class=\"row_heading level0 row19\" >19</th>\n",
       "      <td id=\"T_91d96_row19_col0\" class=\"data row19 col0\" >Significant Seasonal Period(s) without Harmonics</td>\n",
       "      <td id=\"T_91d96_row19_col1\" class=\"data row19 col1\" >[7, 12]</td>\n",
       "    </tr>\n",
       "    <tr>\n",
       "      <th id=\"T_91d96_level0_row20\" class=\"row_heading level0 row20\" >20</th>\n",
       "      <td id=\"T_91d96_row20_col0\" class=\"data row20 col0\" >Remove Harmonics</td>\n",
       "      <td id=\"T_91d96_row20_col1\" class=\"data row20 col1\" >False</td>\n",
       "    </tr>\n",
       "    <tr>\n",
       "      <th id=\"T_91d96_level0_row21\" class=\"row_heading level0 row21\" >21</th>\n",
       "      <td id=\"T_91d96_row21_col0\" class=\"data row21 col0\" >Harmonics Order Method</td>\n",
       "      <td id=\"T_91d96_row21_col1\" class=\"data row21 col1\" >harmonic_max</td>\n",
       "    </tr>\n",
       "    <tr>\n",
       "      <th id=\"T_91d96_level0_row22\" class=\"row_heading level0 row22\" >22</th>\n",
       "      <td id=\"T_91d96_row22_col0\" class=\"data row22 col0\" >Num Seasonalities to Use</td>\n",
       "      <td id=\"T_91d96_row22_col1\" class=\"data row22 col1\" >1</td>\n",
       "    </tr>\n",
       "    <tr>\n",
       "      <th id=\"T_91d96_level0_row23\" class=\"row_heading level0 row23\" >23</th>\n",
       "      <td id=\"T_91d96_row23_col0\" class=\"data row23 col0\" >All Seasonalities to Use</td>\n",
       "      <td id=\"T_91d96_row23_col1\" class=\"data row23 col1\" >[7]</td>\n",
       "    </tr>\n",
       "    <tr>\n",
       "      <th id=\"T_91d96_level0_row24\" class=\"row_heading level0 row24\" >24</th>\n",
       "      <td id=\"T_91d96_row24_col0\" class=\"data row24 col0\" >Primary Seasonality</td>\n",
       "      <td id=\"T_91d96_row24_col1\" class=\"data row24 col1\" >7</td>\n",
       "    </tr>\n",
       "    <tr>\n",
       "      <th id=\"T_91d96_level0_row25\" class=\"row_heading level0 row25\" >25</th>\n",
       "      <td id=\"T_91d96_row25_col0\" class=\"data row25 col0\" >Seasonality Present</td>\n",
       "      <td id=\"T_91d96_row25_col1\" class=\"data row25 col1\" >True</td>\n",
       "    </tr>\n",
       "    <tr>\n",
       "      <th id=\"T_91d96_level0_row26\" class=\"row_heading level0 row26\" >26</th>\n",
       "      <td id=\"T_91d96_row26_col0\" class=\"data row26 col0\" >Seasonality Type</td>\n",
       "      <td id=\"T_91d96_row26_col1\" class=\"data row26 col1\" >mul</td>\n",
       "    </tr>\n",
       "    <tr>\n",
       "      <th id=\"T_91d96_level0_row27\" class=\"row_heading level0 row27\" >27</th>\n",
       "      <td id=\"T_91d96_row27_col0\" class=\"data row27 col0\" >Target Strictly Positive</td>\n",
       "      <td id=\"T_91d96_row27_col1\" class=\"data row27 col1\" >True</td>\n",
       "    </tr>\n",
       "    <tr>\n",
       "      <th id=\"T_91d96_level0_row28\" class=\"row_heading level0 row28\" >28</th>\n",
       "      <td id=\"T_91d96_row28_col0\" class=\"data row28 col0\" >Target White Noise</td>\n",
       "      <td id=\"T_91d96_row28_col1\" class=\"data row28 col1\" >No</td>\n",
       "    </tr>\n",
       "    <tr>\n",
       "      <th id=\"T_91d96_level0_row29\" class=\"row_heading level0 row29\" >29</th>\n",
       "      <td id=\"T_91d96_row29_col0\" class=\"data row29 col0\" >Recommended d</td>\n",
       "      <td id=\"T_91d96_row29_col1\" class=\"data row29 col1\" >0</td>\n",
       "    </tr>\n",
       "    <tr>\n",
       "      <th id=\"T_91d96_level0_row30\" class=\"row_heading level0 row30\" >30</th>\n",
       "      <td id=\"T_91d96_row30_col0\" class=\"data row30 col0\" >Recommended Seasonal D</td>\n",
       "      <td id=\"T_91d96_row30_col1\" class=\"data row30 col1\" >0</td>\n",
       "    </tr>\n",
       "    <tr>\n",
       "      <th id=\"T_91d96_level0_row31\" class=\"row_heading level0 row31\" >31</th>\n",
       "      <td id=\"T_91d96_row31_col0\" class=\"data row31 col0\" >Preprocess</td>\n",
       "      <td id=\"T_91d96_row31_col1\" class=\"data row31 col1\" >True</td>\n",
       "    </tr>\n",
       "    <tr>\n",
       "      <th id=\"T_91d96_level0_row32\" class=\"row_heading level0 row32\" >32</th>\n",
       "      <td id=\"T_91d96_row32_col0\" class=\"data row32 col0\" >Numerical Imputation (Target)</td>\n",
       "      <td id=\"T_91d96_row32_col1\" class=\"data row32 col1\" >mean</td>\n",
       "    </tr>\n",
       "    <tr>\n",
       "      <th id=\"T_91d96_level0_row33\" class=\"row_heading level0 row33\" >33</th>\n",
       "      <td id=\"T_91d96_row33_col0\" class=\"data row33 col0\" >Transformation (Target)</td>\n",
       "      <td id=\"T_91d96_row33_col1\" class=\"data row33 col1\" >None</td>\n",
       "    </tr>\n",
       "    <tr>\n",
       "      <th id=\"T_91d96_level0_row34\" class=\"row_heading level0 row34\" >34</th>\n",
       "      <td id=\"T_91d96_row34_col0\" class=\"data row34 col0\" >Scaling (Target)</td>\n",
       "      <td id=\"T_91d96_row34_col1\" class=\"data row34 col1\" >None</td>\n",
       "    </tr>\n",
       "    <tr>\n",
       "      <th id=\"T_91d96_level0_row35\" class=\"row_heading level0 row35\" >35</th>\n",
       "      <td id=\"T_91d96_row35_col0\" class=\"data row35 col0\" >Feature Engineering (Target) - Reduced Regression</td>\n",
       "      <td id=\"T_91d96_row35_col1\" class=\"data row35 col1\" >False</td>\n",
       "    </tr>\n",
       "    <tr>\n",
       "      <th id=\"T_91d96_level0_row36\" class=\"row_heading level0 row36\" >36</th>\n",
       "      <td id=\"T_91d96_row36_col0\" class=\"data row36 col0\" >CPU Jobs</td>\n",
       "      <td id=\"T_91d96_row36_col1\" class=\"data row36 col1\" >-1</td>\n",
       "    </tr>\n",
       "    <tr>\n",
       "      <th id=\"T_91d96_level0_row37\" class=\"row_heading level0 row37\" >37</th>\n",
       "      <td id=\"T_91d96_row37_col0\" class=\"data row37 col0\" >Use GPU</td>\n",
       "      <td id=\"T_91d96_row37_col1\" class=\"data row37 col1\" >False</td>\n",
       "    </tr>\n",
       "    <tr>\n",
       "      <th id=\"T_91d96_level0_row38\" class=\"row_heading level0 row38\" >38</th>\n",
       "      <td id=\"T_91d96_row38_col0\" class=\"data row38 col0\" >Log Experiment</td>\n",
       "      <td id=\"T_91d96_row38_col1\" class=\"data row38 col1\" >False</td>\n",
       "    </tr>\n",
       "    <tr>\n",
       "      <th id=\"T_91d96_level0_row39\" class=\"row_heading level0 row39\" >39</th>\n",
       "      <td id=\"T_91d96_row39_col0\" class=\"data row39 col0\" >Experiment Name</td>\n",
       "      <td id=\"T_91d96_row39_col1\" class=\"data row39 col1\" >ts-default-name</td>\n",
       "    </tr>\n",
       "    <tr>\n",
       "      <th id=\"T_91d96_level0_row40\" class=\"row_heading level0 row40\" >40</th>\n",
       "      <td id=\"T_91d96_row40_col0\" class=\"data row40 col0\" >USI</td>\n",
       "      <td id=\"T_91d96_row40_col1\" class=\"data row40 col1\" >8574</td>\n",
       "    </tr>\n",
       "  </tbody>\n",
       "</table>\n"
      ],
      "text/plain": [
       "<pandas.io.formats.style.Styler at 0x1a6bd2315b0>"
      ]
     },
     "metadata": {},
     "output_type": "display_data"
    },
    {
     "data": {
      "text/html": [],
      "text/plain": [
       "<IPython.core.display.HTML object>"
      ]
     },
     "metadata": {},
     "output_type": "display_data"
    },
    {
     "data": {
      "text/html": [
       "<style type=\"text/css\">\n",
       "#T_3e00d th {\n",
       "  text-align: left;\n",
       "}\n",
       "#T_3e00d_row0_col0, #T_3e00d_row0_col1, #T_3e00d_row0_col2, #T_3e00d_row0_col3, #T_3e00d_row0_col4, #T_3e00d_row0_col6, #T_3e00d_row0_col7, #T_3e00d_row1_col0, #T_3e00d_row1_col1, #T_3e00d_row1_col2, #T_3e00d_row1_col3, #T_3e00d_row1_col4, #T_3e00d_row1_col5, #T_3e00d_row1_col6, #T_3e00d_row1_col7, #T_3e00d_row2_col0, #T_3e00d_row2_col1, #T_3e00d_row2_col2, #T_3e00d_row2_col3, #T_3e00d_row2_col4, #T_3e00d_row2_col5, #T_3e00d_row2_col6, #T_3e00d_row2_col7, #T_3e00d_row3_col0, #T_3e00d_row3_col1, #T_3e00d_row3_col2, #T_3e00d_row3_col3, #T_3e00d_row3_col4, #T_3e00d_row3_col5, #T_3e00d_row3_col6, #T_3e00d_row3_col7, #T_3e00d_row4_col0, #T_3e00d_row4_col1, #T_3e00d_row4_col2, #T_3e00d_row4_col3, #T_3e00d_row4_col4, #T_3e00d_row4_col5, #T_3e00d_row4_col6, #T_3e00d_row4_col7, #T_3e00d_row5_col0, #T_3e00d_row5_col1, #T_3e00d_row5_col2, #T_3e00d_row5_col3, #T_3e00d_row5_col4, #T_3e00d_row5_col5, #T_3e00d_row5_col6, #T_3e00d_row5_col7, #T_3e00d_row6_col0, #T_3e00d_row6_col1, #T_3e00d_row6_col2, #T_3e00d_row6_col3, #T_3e00d_row6_col4, #T_3e00d_row6_col5, #T_3e00d_row6_col6, #T_3e00d_row6_col7, #T_3e00d_row7_col0, #T_3e00d_row7_col1, #T_3e00d_row7_col2, #T_3e00d_row7_col3, #T_3e00d_row7_col4, #T_3e00d_row7_col5, #T_3e00d_row7_col6, #T_3e00d_row7_col7, #T_3e00d_row8_col0, #T_3e00d_row8_col5, #T_3e00d_row9_col0, #T_3e00d_row9_col1, #T_3e00d_row9_col2, #T_3e00d_row9_col3, #T_3e00d_row9_col4, #T_3e00d_row9_col5, #T_3e00d_row9_col6, #T_3e00d_row9_col7, #T_3e00d_row10_col0, #T_3e00d_row10_col1, #T_3e00d_row10_col2, #T_3e00d_row10_col3, #T_3e00d_row10_col4, #T_3e00d_row10_col5, #T_3e00d_row10_col6, #T_3e00d_row10_col7, #T_3e00d_row11_col0, #T_3e00d_row11_col1, #T_3e00d_row11_col2, #T_3e00d_row11_col3, #T_3e00d_row11_col4, #T_3e00d_row11_col5, #T_3e00d_row11_col6, #T_3e00d_row11_col7, #T_3e00d_row12_col0, #T_3e00d_row12_col1, #T_3e00d_row12_col2, #T_3e00d_row12_col3, #T_3e00d_row12_col4, #T_3e00d_row12_col5, #T_3e00d_row12_col6, #T_3e00d_row12_col7, #T_3e00d_row13_col0, #T_3e00d_row13_col1, #T_3e00d_row13_col2, #T_3e00d_row13_col3, #T_3e00d_row13_col4, #T_3e00d_row13_col5, #T_3e00d_row13_col6, #T_3e00d_row13_col7, #T_3e00d_row14_col0, #T_3e00d_row14_col1, #T_3e00d_row14_col2, #T_3e00d_row14_col3, #T_3e00d_row14_col4, #T_3e00d_row14_col5, #T_3e00d_row14_col6, #T_3e00d_row14_col7, #T_3e00d_row15_col0, #T_3e00d_row15_col1, #T_3e00d_row15_col2, #T_3e00d_row15_col3, #T_3e00d_row15_col4, #T_3e00d_row15_col5, #T_3e00d_row15_col6, #T_3e00d_row15_col7, #T_3e00d_row16_col0, #T_3e00d_row16_col1, #T_3e00d_row16_col2, #T_3e00d_row16_col3, #T_3e00d_row16_col4, #T_3e00d_row16_col5, #T_3e00d_row16_col6, #T_3e00d_row16_col7, #T_3e00d_row17_col0, #T_3e00d_row17_col1, #T_3e00d_row17_col2, #T_3e00d_row17_col3, #T_3e00d_row17_col4, #T_3e00d_row17_col5, #T_3e00d_row17_col6, #T_3e00d_row17_col7, #T_3e00d_row18_col0, #T_3e00d_row18_col1, #T_3e00d_row18_col2, #T_3e00d_row18_col3, #T_3e00d_row18_col4, #T_3e00d_row18_col5, #T_3e00d_row18_col6, #T_3e00d_row18_col7, #T_3e00d_row19_col0, #T_3e00d_row19_col1, #T_3e00d_row19_col2, #T_3e00d_row19_col3, #T_3e00d_row19_col4, #T_3e00d_row19_col5, #T_3e00d_row19_col6, #T_3e00d_row19_col7, #T_3e00d_row20_col0, #T_3e00d_row20_col1, #T_3e00d_row20_col2, #T_3e00d_row20_col3, #T_3e00d_row20_col4, #T_3e00d_row20_col5, #T_3e00d_row20_col6, #T_3e00d_row20_col7, #T_3e00d_row21_col0, #T_3e00d_row21_col1, #T_3e00d_row21_col2, #T_3e00d_row21_col3, #T_3e00d_row21_col4, #T_3e00d_row21_col5, #T_3e00d_row21_col6, #T_3e00d_row21_col7, #T_3e00d_row22_col0, #T_3e00d_row22_col1, #T_3e00d_row22_col2, #T_3e00d_row22_col3, #T_3e00d_row22_col4, #T_3e00d_row22_col5, #T_3e00d_row22_col6, #T_3e00d_row22_col7, #T_3e00d_row23_col0, #T_3e00d_row23_col1, #T_3e00d_row23_col2, #T_3e00d_row23_col3, #T_3e00d_row23_col4, #T_3e00d_row23_col5, #T_3e00d_row23_col6, #T_3e00d_row23_col7 {\n",
       "  text-align: left;\n",
       "}\n",
       "#T_3e00d_row0_col5, #T_3e00d_row8_col1, #T_3e00d_row8_col2, #T_3e00d_row8_col3, #T_3e00d_row8_col4, #T_3e00d_row8_col6, #T_3e00d_row8_col7 {\n",
       "  text-align: left;\n",
       "  background-color: yellow;\n",
       "}\n",
       "#T_3e00d_row0_col8, #T_3e00d_row1_col8, #T_3e00d_row2_col8, #T_3e00d_row3_col8, #T_3e00d_row4_col8, #T_3e00d_row5_col8, #T_3e00d_row6_col8, #T_3e00d_row7_col8, #T_3e00d_row9_col8, #T_3e00d_row10_col8, #T_3e00d_row11_col8, #T_3e00d_row12_col8, #T_3e00d_row13_col8, #T_3e00d_row14_col8, #T_3e00d_row15_col8, #T_3e00d_row16_col8, #T_3e00d_row17_col8, #T_3e00d_row18_col8, #T_3e00d_row19_col8, #T_3e00d_row20_col8, #T_3e00d_row21_col8, #T_3e00d_row22_col8, #T_3e00d_row23_col8 {\n",
       "  text-align: left;\n",
       "  background-color: lightgrey;\n",
       "}\n",
       "#T_3e00d_row8_col8 {\n",
       "  text-align: left;\n",
       "  background-color: yellow;\n",
       "  background-color: lightgrey;\n",
       "}\n",
       "</style>\n",
       "<table id=\"T_3e00d\">\n",
       "  <thead>\n",
       "    <tr>\n",
       "      <th class=\"blank level0\" >&nbsp;</th>\n",
       "      <th id=\"T_3e00d_level0_col0\" class=\"col_heading level0 col0\" >Model</th>\n",
       "      <th id=\"T_3e00d_level0_col1\" class=\"col_heading level0 col1\" >MASE</th>\n",
       "      <th id=\"T_3e00d_level0_col2\" class=\"col_heading level0 col2\" >RMSSE</th>\n",
       "      <th id=\"T_3e00d_level0_col3\" class=\"col_heading level0 col3\" >MAE</th>\n",
       "      <th id=\"T_3e00d_level0_col4\" class=\"col_heading level0 col4\" >RMSE</th>\n",
       "      <th id=\"T_3e00d_level0_col5\" class=\"col_heading level0 col5\" >MAPE</th>\n",
       "      <th id=\"T_3e00d_level0_col6\" class=\"col_heading level0 col6\" >SMAPE</th>\n",
       "      <th id=\"T_3e00d_level0_col7\" class=\"col_heading level0 col7\" >R2</th>\n",
       "      <th id=\"T_3e00d_level0_col8\" class=\"col_heading level0 col8\" >TT (Sec)</th>\n",
       "    </tr>\n",
       "  </thead>\n",
       "  <tbody>\n",
       "    <tr>\n",
       "      <th id=\"T_3e00d_level0_row0\" class=\"row_heading level0 row0\" >dt_cds_dt</th>\n",
       "      <td id=\"T_3e00d_row0_col0\" class=\"data row0 col0\" >Decision Tree w/ Cond. Deseasonalize & Detrending</td>\n",
       "      <td id=\"T_3e00d_row0_col1\" class=\"data row0 col1\" >1.2522</td>\n",
       "      <td id=\"T_3e00d_row0_col2\" class=\"data row0 col2\" >1.1589</td>\n",
       "      <td id=\"T_3e00d_row0_col3\" class=\"data row0 col3\" >4043154.4272</td>\n",
       "      <td id=\"T_3e00d_row0_col4\" class=\"data row0 col4\" >5078639.2853</td>\n",
       "      <td id=\"T_3e00d_row0_col5\" class=\"data row0 col5\" >2.0841</td>\n",
       "      <td id=\"T_3e00d_row0_col6\" class=\"data row0 col6\" >0.7726</td>\n",
       "      <td id=\"T_3e00d_row0_col7\" class=\"data row0 col7\" >-3.0554</td>\n",
       "      <td id=\"T_3e00d_row0_col8\" class=\"data row0 col8\" >0.1067</td>\n",
       "    </tr>\n",
       "    <tr>\n",
       "      <th id=\"T_3e00d_level0_row1\" class=\"row_heading level0 row1\" >omp_cds_dt</th>\n",
       "      <td id=\"T_3e00d_row1_col0\" class=\"data row1 col0\" >Orthogonal Matching Pursuit w/ Cond. Deseasonalize & Detrending</td>\n",
       "      <td id=\"T_3e00d_row1_col1\" class=\"data row1 col1\" >0.9888</td>\n",
       "      <td id=\"T_3e00d_row1_col2\" class=\"data row1 col2\" >0.9405</td>\n",
       "      <td id=\"T_3e00d_row1_col3\" class=\"data row1 col3\" >3182473.1275</td>\n",
       "      <td id=\"T_3e00d_row1_col4\" class=\"data row1 col4\" >4108322.5237</td>\n",
       "      <td id=\"T_3e00d_row1_col5\" class=\"data row1 col5\" >2.2821</td>\n",
       "      <td id=\"T_3e00d_row1_col6\" class=\"data row1 col6\" >0.6217</td>\n",
       "      <td id=\"T_3e00d_row1_col7\" class=\"data row1 col7\" >-1.3629</td>\n",
       "      <td id=\"T_3e00d_row1_col8\" class=\"data row1 col8\" >0.1033</td>\n",
       "    </tr>\n",
       "    <tr>\n",
       "      <th id=\"T_3e00d_level0_row2\" class=\"row_heading level0 row2\" >gbr_cds_dt</th>\n",
       "      <td id=\"T_3e00d_row2_col0\" class=\"data row2 col0\" >Gradient Boosting w/ Cond. Deseasonalize & Detrending</td>\n",
       "      <td id=\"T_3e00d_row2_col1\" class=\"data row2 col1\" >0.9826</td>\n",
       "      <td id=\"T_3e00d_row2_col2\" class=\"data row2 col2\" >0.9279</td>\n",
       "      <td id=\"T_3e00d_row2_col3\" class=\"data row2 col3\" >3186360.9365</td>\n",
       "      <td id=\"T_3e00d_row2_col4\" class=\"data row2 col4\" >4089805.9790</td>\n",
       "      <td id=\"T_3e00d_row2_col5\" class=\"data row2 col5\" >2.6299</td>\n",
       "      <td id=\"T_3e00d_row2_col6\" class=\"data row2 col6\" >0.6202</td>\n",
       "      <td id=\"T_3e00d_row2_col7\" class=\"data row2 col7\" >-2.1924</td>\n",
       "      <td id=\"T_3e00d_row2_col8\" class=\"data row2 col8\" >0.1133</td>\n",
       "    </tr>\n",
       "    <tr>\n",
       "      <th id=\"T_3e00d_level0_row3\" class=\"row_heading level0 row3\" >lightgbm_cds_dt</th>\n",
       "      <td id=\"T_3e00d_row3_col0\" class=\"data row3 col0\" >Light Gradient Boosting w/ Cond. Deseasonalize & Detrending</td>\n",
       "      <td id=\"T_3e00d_row3_col1\" class=\"data row3 col1\" >1.0450</td>\n",
       "      <td id=\"T_3e00d_row3_col2\" class=\"data row3 col2\" >0.9989</td>\n",
       "      <td id=\"T_3e00d_row3_col3\" class=\"data row3 col3\" >3363387.6713</td>\n",
       "      <td id=\"T_3e00d_row3_col4\" class=\"data row3 col4\" >4363862.5067</td>\n",
       "      <td id=\"T_3e00d_row3_col5\" class=\"data row3 col5\" >2.6313</td>\n",
       "      <td id=\"T_3e00d_row3_col6\" class=\"data row3 col6\" >0.6598</td>\n",
       "      <td id=\"T_3e00d_row3_col7\" class=\"data row3 col7\" >-1.6733</td>\n",
       "      <td id=\"T_3e00d_row3_col8\" class=\"data row3 col8\" >0.2500</td>\n",
       "    </tr>\n",
       "    <tr>\n",
       "      <th id=\"T_3e00d_level0_row4\" class=\"row_heading level0 row4\" >exp_smooth</th>\n",
       "      <td id=\"T_3e00d_row4_col0\" class=\"data row4 col0\" >Exponential Smoothing</td>\n",
       "      <td id=\"T_3e00d_row4_col1\" class=\"data row4 col1\" >0.9390</td>\n",
       "      <td id=\"T_3e00d_row4_col2\" class=\"data row4 col2\" >0.9207</td>\n",
       "      <td id=\"T_3e00d_row4_col3\" class=\"data row4 col3\" >3018712.0812</td>\n",
       "      <td id=\"T_3e00d_row4_col4\" class=\"data row4 col4\" >4017163.5560</td>\n",
       "      <td id=\"T_3e00d_row4_col5\" class=\"data row4 col5\" >2.7981</td>\n",
       "      <td id=\"T_3e00d_row4_col6\" class=\"data row4 col6\" >0.5668</td>\n",
       "      <td id=\"T_3e00d_row4_col7\" class=\"data row4 col7\" >-1.1845</td>\n",
       "      <td id=\"T_3e00d_row4_col8\" class=\"data row4 col8\" >0.0633</td>\n",
       "    </tr>\n",
       "    <tr>\n",
       "      <th id=\"T_3e00d_level0_row5\" class=\"row_heading level0 row5\" >rf_cds_dt</th>\n",
       "      <td id=\"T_3e00d_row5_col0\" class=\"data row5 col0\" >Random Forest w/ Cond. Deseasonalize & Detrending</td>\n",
       "      <td id=\"T_3e00d_row5_col1\" class=\"data row5 col1\" >0.9068</td>\n",
       "      <td id=\"T_3e00d_row5_col2\" class=\"data row5 col2\" >0.8875</td>\n",
       "      <td id=\"T_3e00d_row5_col3\" class=\"data row5 col3\" >2919351.2222</td>\n",
       "      <td id=\"T_3e00d_row5_col4\" class=\"data row5 col4\" >3894490.0024</td>\n",
       "      <td id=\"T_3e00d_row5_col5\" class=\"data row5 col5\" >2.8278</td>\n",
       "      <td id=\"T_3e00d_row5_col6\" class=\"data row5 col6\" >0.5666</td>\n",
       "      <td id=\"T_3e00d_row5_col7\" class=\"data row5 col7\" >-1.4481</td>\n",
       "      <td id=\"T_3e00d_row5_col8\" class=\"data row5 col8\" >0.2467</td>\n",
       "    </tr>\n",
       "    <tr>\n",
       "      <th id=\"T_3e00d_level0_row6\" class=\"row_heading level0 row6\" >xgboost_cds_dt</th>\n",
       "      <td id=\"T_3e00d_row6_col0\" class=\"data row6 col0\" >Extreme Gradient Boosting w/ Cond. Deseasonalize & Detrending</td>\n",
       "      <td id=\"T_3e00d_row6_col1\" class=\"data row6 col1\" >1.1298</td>\n",
       "      <td id=\"T_3e00d_row6_col2\" class=\"data row6 col2\" >1.0773</td>\n",
       "      <td id=\"T_3e00d_row6_col3\" class=\"data row6 col3\" >3636539.5869</td>\n",
       "      <td id=\"T_3e00d_row6_col4\" class=\"data row6 col4\" >4725226.1198</td>\n",
       "      <td id=\"T_3e00d_row6_col5\" class=\"data row6 col5\" >2.8762</td>\n",
       "      <td id=\"T_3e00d_row6_col6\" class=\"data row6 col6\" >0.6874</td>\n",
       "      <td id=\"T_3e00d_row6_col7\" class=\"data row6 col7\" >-2.5497</td>\n",
       "      <td id=\"T_3e00d_row6_col8\" class=\"data row6 col8\" >0.5000</td>\n",
       "    </tr>\n",
       "    <tr>\n",
       "      <th id=\"T_3e00d_level0_row7\" class=\"row_heading level0 row7\" >br_cds_dt</th>\n",
       "      <td id=\"T_3e00d_row7_col0\" class=\"data row7 col0\" >Bayesian Ridge w/ Cond. Deseasonalize & Detrending</td>\n",
       "      <td id=\"T_3e00d_row7_col1\" class=\"data row7 col1\" >0.9442</td>\n",
       "      <td id=\"T_3e00d_row7_col2\" class=\"data row7 col2\" >0.8884</td>\n",
       "      <td id=\"T_3e00d_row7_col3\" class=\"data row7 col3\" >3047927.2073</td>\n",
       "      <td id=\"T_3e00d_row7_col4\" class=\"data row7 col4\" >3894392.9412</td>\n",
       "      <td id=\"T_3e00d_row7_col5\" class=\"data row7 col5\" >3.1800</td>\n",
       "      <td id=\"T_3e00d_row7_col6\" class=\"data row7 col6\" >0.5969</td>\n",
       "      <td id=\"T_3e00d_row7_col7\" class=\"data row7 col7\" >-1.3813</td>\n",
       "      <td id=\"T_3e00d_row7_col8\" class=\"data row7 col8\" >0.0967</td>\n",
       "    </tr>\n",
       "    <tr>\n",
       "      <th id=\"T_3e00d_level0_row8\" class=\"row_heading level0 row8\" >polytrend</th>\n",
       "      <td id=\"T_3e00d_row8_col0\" class=\"data row8 col0\" >Polynomial Trend Forecaster</td>\n",
       "      <td id=\"T_3e00d_row8_col1\" class=\"data row8 col1\" >0.7733</td>\n",
       "      <td id=\"T_3e00d_row8_col2\" class=\"data row8 col2\" >0.7243</td>\n",
       "      <td id=\"T_3e00d_row8_col3\" class=\"data row8 col3\" >2478329.7128</td>\n",
       "      <td id=\"T_3e00d_row8_col4\" class=\"data row8 col4\" >3152049.9015</td>\n",
       "      <td id=\"T_3e00d_row8_col5\" class=\"data row8 col5\" >3.2891</td>\n",
       "      <td id=\"T_3e00d_row8_col6\" class=\"data row8 col6\" >0.4578</td>\n",
       "      <td id=\"T_3e00d_row8_col7\" class=\"data row8 col7\" >-0.2480</td>\n",
       "      <td id=\"T_3e00d_row8_col8\" class=\"data row8 col8\" >0.0267</td>\n",
       "    </tr>\n",
       "    <tr>\n",
       "      <th id=\"T_3e00d_level0_row9\" class=\"row_heading level0 row9\" >et_cds_dt</th>\n",
       "      <td id=\"T_3e00d_row9_col0\" class=\"data row9 col0\" >Extra Trees w/ Cond. Deseasonalize & Detrending</td>\n",
       "      <td id=\"T_3e00d_row9_col1\" class=\"data row9 col1\" >0.9274</td>\n",
       "      <td id=\"T_3e00d_row9_col2\" class=\"data row9 col2\" >0.8765</td>\n",
       "      <td id=\"T_3e00d_row9_col3\" class=\"data row9 col3\" >2992740.4277</td>\n",
       "      <td id=\"T_3e00d_row9_col4\" class=\"data row9 col4\" >3850088.6835</td>\n",
       "      <td id=\"T_3e00d_row9_col5\" class=\"data row9 col5\" >3.3316</td>\n",
       "      <td id=\"T_3e00d_row9_col6\" class=\"data row9 col6\" >0.5741</td>\n",
       "      <td id=\"T_3e00d_row9_col7\" class=\"data row9 col7\" >-1.4855</td>\n",
       "      <td id=\"T_3e00d_row9_col8\" class=\"data row9 col8\" >0.2600</td>\n",
       "    </tr>\n",
       "    <tr>\n",
       "      <th id=\"T_3e00d_level0_row10\" class=\"row_heading level0 row10\" >theta</th>\n",
       "      <td id=\"T_3e00d_row10_col0\" class=\"data row10 col0\" >Theta Forecaster</td>\n",
       "      <td id=\"T_3e00d_row10_col1\" class=\"data row10 col1\" >1.0078</td>\n",
       "      <td id=\"T_3e00d_row10_col2\" class=\"data row10 col2\" >0.9023</td>\n",
       "      <td id=\"T_3e00d_row10_col3\" class=\"data row10 col3\" >3233359.6892</td>\n",
       "      <td id=\"T_3e00d_row10_col4\" class=\"data row10 col4\" >3934485.4277</td>\n",
       "      <td id=\"T_3e00d_row10_col5\" class=\"data row10 col5\" >3.4012</td>\n",
       "      <td id=\"T_3e00d_row10_col6\" class=\"data row10 col6\" >0.5628</td>\n",
       "      <td id=\"T_3e00d_row10_col7\" class=\"data row10 col7\" >-1.0488</td>\n",
       "      <td id=\"T_3e00d_row10_col8\" class=\"data row10 col8\" >0.0300</td>\n",
       "    </tr>\n",
       "    <tr>\n",
       "      <th id=\"T_3e00d_level0_row11\" class=\"row_heading level0 row11\" >ada_cds_dt</th>\n",
       "      <td id=\"T_3e00d_row11_col0\" class=\"data row11 col0\" >AdaBoost w/ Cond. Deseasonalize & Detrending</td>\n",
       "      <td id=\"T_3e00d_row11_col1\" class=\"data row11 col1\" >0.8444</td>\n",
       "      <td id=\"T_3e00d_row11_col2\" class=\"data row11 col2\" >0.8547</td>\n",
       "      <td id=\"T_3e00d_row11_col3\" class=\"data row11 col3\" >2721790.1104</td>\n",
       "      <td id=\"T_3e00d_row11_col4\" class=\"data row11 col4\" >3751018.7967</td>\n",
       "      <td id=\"T_3e00d_row11_col5\" class=\"data row11 col5\" >3.4296</td>\n",
       "      <td id=\"T_3e00d_row11_col6\" class=\"data row11 col6\" >0.5247</td>\n",
       "      <td id=\"T_3e00d_row11_col7\" class=\"data row11 col7\" >-1.2926</td>\n",
       "      <td id=\"T_3e00d_row11_col8\" class=\"data row11 col8\" >0.1333</td>\n",
       "    </tr>\n",
       "    <tr>\n",
       "      <th id=\"T_3e00d_level0_row12\" class=\"row_heading level0 row12\" >huber_cds_dt</th>\n",
       "      <td id=\"T_3e00d_row12_col0\" class=\"data row12 col0\" >Huber w/ Cond. Deseasonalize & Detrending</td>\n",
       "      <td id=\"T_3e00d_row12_col1\" class=\"data row12 col1\" >0.9457</td>\n",
       "      <td id=\"T_3e00d_row12_col2\" class=\"data row12 col2\" >0.8587</td>\n",
       "      <td id=\"T_3e00d_row12_col3\" class=\"data row12 col3\" >3065245.7908</td>\n",
       "      <td id=\"T_3e00d_row12_col4\" class=\"data row12 col4\" >3775229.9016</td>\n",
       "      <td id=\"T_3e00d_row12_col5\" class=\"data row12 col5\" >3.6075</td>\n",
       "      <td id=\"T_3e00d_row12_col6\" class=\"data row12 col6\" >0.5977</td>\n",
       "      <td id=\"T_3e00d_row12_col7\" class=\"data row12 col7\" >-1.4806</td>\n",
       "      <td id=\"T_3e00d_row12_col8\" class=\"data row12 col8\" >0.1167</td>\n",
       "    </tr>\n",
       "    <tr>\n",
       "      <th id=\"T_3e00d_level0_row13\" class=\"row_heading level0 row13\" >knn_cds_dt</th>\n",
       "      <td id=\"T_3e00d_row13_col0\" class=\"data row13 col0\" >K Neighbors w/ Cond. Deseasonalize & Detrending</td>\n",
       "      <td id=\"T_3e00d_row13_col1\" class=\"data row13 col1\" >0.8820</td>\n",
       "      <td id=\"T_3e00d_row13_col2\" class=\"data row13 col2\" >0.8005</td>\n",
       "      <td id=\"T_3e00d_row13_col3\" class=\"data row13 col3\" >2864069.1778</td>\n",
       "      <td id=\"T_3e00d_row13_col4\" class=\"data row13 col4\" >3525105.6843</td>\n",
       "      <td id=\"T_3e00d_row13_col5\" class=\"data row13 col5\" >3.6724</td>\n",
       "      <td id=\"T_3e00d_row13_col6\" class=\"data row13 col6\" >0.5521</td>\n",
       "      <td id=\"T_3e00d_row13_col7\" class=\"data row13 col7\" >-1.2877</td>\n",
       "      <td id=\"T_3e00d_row13_col8\" class=\"data row13 col8\" >0.2033</td>\n",
       "    </tr>\n",
       "    <tr>\n",
       "      <th id=\"T_3e00d_level0_row14\" class=\"row_heading level0 row14\" >lasso_cds_dt</th>\n",
       "      <td id=\"T_3e00d_row14_col0\" class=\"data row14 col0\" >Lasso w/ Cond. Deseasonalize & Detrending</td>\n",
       "      <td id=\"T_3e00d_row14_col1\" class=\"data row14 col1\" >0.9672</td>\n",
       "      <td id=\"T_3e00d_row14_col2\" class=\"data row14 col2\" >0.8831</td>\n",
       "      <td id=\"T_3e00d_row14_col3\" class=\"data row14 col3\" >3137788.0041</td>\n",
       "      <td id=\"T_3e00d_row14_col4\" class=\"data row14 col4\" >3888005.8260</td>\n",
       "      <td id=\"T_3e00d_row14_col5\" class=\"data row14 col5\" >3.7151</td>\n",
       "      <td id=\"T_3e00d_row14_col6\" class=\"data row14 col6\" >0.6082</td>\n",
       "      <td id=\"T_3e00d_row14_col7\" class=\"data row14 col7\" >-1.7772</td>\n",
       "      <td id=\"T_3e00d_row14_col8\" class=\"data row14 col8\" >0.1000</td>\n",
       "    </tr>\n",
       "    <tr>\n",
       "      <th id=\"T_3e00d_level0_row15\" class=\"row_heading level0 row15\" >lr_cds_dt</th>\n",
       "      <td id=\"T_3e00d_row15_col0\" class=\"data row15 col0\" >Linear w/ Cond. Deseasonalize & Detrending</td>\n",
       "      <td id=\"T_3e00d_row15_col1\" class=\"data row15 col1\" >0.9672</td>\n",
       "      <td id=\"T_3e00d_row15_col2\" class=\"data row15 col2\" >0.8831</td>\n",
       "      <td id=\"T_3e00d_row15_col3\" class=\"data row15 col3\" >3137788.0041</td>\n",
       "      <td id=\"T_3e00d_row15_col4\" class=\"data row15 col4\" >3888005.8260</td>\n",
       "      <td id=\"T_3e00d_row15_col5\" class=\"data row15 col5\" >3.7151</td>\n",
       "      <td id=\"T_3e00d_row15_col6\" class=\"data row15 col6\" >0.6082</td>\n",
       "      <td id=\"T_3e00d_row15_col7\" class=\"data row15 col7\" >-1.7772</td>\n",
       "      <td id=\"T_3e00d_row15_col8\" class=\"data row15 col8\" >0.1067</td>\n",
       "    </tr>\n",
       "    <tr>\n",
       "      <th id=\"T_3e00d_level0_row16\" class=\"row_heading level0 row16\" >en_cds_dt</th>\n",
       "      <td id=\"T_3e00d_row16_col0\" class=\"data row16 col0\" >Elastic Net w/ Cond. Deseasonalize & Detrending</td>\n",
       "      <td id=\"T_3e00d_row16_col1\" class=\"data row16 col1\" >0.9672</td>\n",
       "      <td id=\"T_3e00d_row16_col2\" class=\"data row16 col2\" >0.8831</td>\n",
       "      <td id=\"T_3e00d_row16_col3\" class=\"data row16 col3\" >3137788.0041</td>\n",
       "      <td id=\"T_3e00d_row16_col4\" class=\"data row16 col4\" >3888005.8260</td>\n",
       "      <td id=\"T_3e00d_row16_col5\" class=\"data row16 col5\" >3.7151</td>\n",
       "      <td id=\"T_3e00d_row16_col6\" class=\"data row16 col6\" >0.6082</td>\n",
       "      <td id=\"T_3e00d_row16_col7\" class=\"data row16 col7\" >-1.7772</td>\n",
       "      <td id=\"T_3e00d_row16_col8\" class=\"data row16 col8\" >0.1033</td>\n",
       "    </tr>\n",
       "    <tr>\n",
       "      <th id=\"T_3e00d_level0_row17\" class=\"row_heading level0 row17\" >ridge_cds_dt</th>\n",
       "      <td id=\"T_3e00d_row17_col0\" class=\"data row17 col0\" >Ridge w/ Cond. Deseasonalize & Detrending</td>\n",
       "      <td id=\"T_3e00d_row17_col1\" class=\"data row17 col1\" >0.9672</td>\n",
       "      <td id=\"T_3e00d_row17_col2\" class=\"data row17 col2\" >0.8831</td>\n",
       "      <td id=\"T_3e00d_row17_col3\" class=\"data row17 col3\" >3137788.0041</td>\n",
       "      <td id=\"T_3e00d_row17_col4\" class=\"data row17 col4\" >3888005.8260</td>\n",
       "      <td id=\"T_3e00d_row17_col5\" class=\"data row17 col5\" >3.7151</td>\n",
       "      <td id=\"T_3e00d_row17_col6\" class=\"data row17 col6\" >0.6082</td>\n",
       "      <td id=\"T_3e00d_row17_col7\" class=\"data row17 col7\" >-1.7772</td>\n",
       "      <td id=\"T_3e00d_row17_col8\" class=\"data row17 col8\" >0.1000</td>\n",
       "    </tr>\n",
       "    <tr>\n",
       "      <th id=\"T_3e00d_level0_row18\" class=\"row_heading level0 row18\" >llar_cds_dt</th>\n",
       "      <td id=\"T_3e00d_row18_col0\" class=\"data row18 col0\" >Lasso Least Angular Regressor w/ Cond. Deseasonalize & Detrending</td>\n",
       "      <td id=\"T_3e00d_row18_col1\" class=\"data row18 col1\" >0.9672</td>\n",
       "      <td id=\"T_3e00d_row18_col2\" class=\"data row18 col2\" >0.8831</td>\n",
       "      <td id=\"T_3e00d_row18_col3\" class=\"data row18 col3\" >3137788.0041</td>\n",
       "      <td id=\"T_3e00d_row18_col4\" class=\"data row18 col4\" >3888005.8260</td>\n",
       "      <td id=\"T_3e00d_row18_col5\" class=\"data row18 col5\" >3.7151</td>\n",
       "      <td id=\"T_3e00d_row18_col6\" class=\"data row18 col6\" >0.6082</td>\n",
       "      <td id=\"T_3e00d_row18_col7\" class=\"data row18 col7\" >-1.7772</td>\n",
       "      <td id=\"T_3e00d_row18_col8\" class=\"data row18 col8\" >0.1067</td>\n",
       "    </tr>\n",
       "    <tr>\n",
       "      <th id=\"T_3e00d_level0_row19\" class=\"row_heading level0 row19\" >arima</th>\n",
       "      <td id=\"T_3e00d_row19_col0\" class=\"data row19 col0\" >ARIMA</td>\n",
       "      <td id=\"T_3e00d_row19_col1\" class=\"data row19 col1\" >0.9065</td>\n",
       "      <td id=\"T_3e00d_row19_col2\" class=\"data row19 col2\" >0.8166</td>\n",
       "      <td id=\"T_3e00d_row19_col3\" class=\"data row19 col3\" >2909356.8598</td>\n",
       "      <td id=\"T_3e00d_row19_col4\" class=\"data row19 col4\" >3576352.9113</td>\n",
       "      <td id=\"T_3e00d_row19_col5\" class=\"data row19 col5\" >4.0104</td>\n",
       "      <td id=\"T_3e00d_row19_col6\" class=\"data row19 col6\" >0.5689</td>\n",
       "      <td id=\"T_3e00d_row19_col7\" class=\"data row19 col7\" >-0.9591</td>\n",
       "      <td id=\"T_3e00d_row19_col8\" class=\"data row19 col8\" >0.0433</td>\n",
       "    </tr>\n",
       "    <tr>\n",
       "      <th id=\"T_3e00d_level0_row20\" class=\"row_heading level0 row20\" >ets</th>\n",
       "      <td id=\"T_3e00d_row20_col0\" class=\"data row20 col0\" >ETS</td>\n",
       "      <td id=\"T_3e00d_row20_col1\" class=\"data row20 col1\" >0.9767</td>\n",
       "      <td id=\"T_3e00d_row20_col2\" class=\"data row20 col2\" >0.8850</td>\n",
       "      <td id=\"T_3e00d_row20_col3\" class=\"data row20 col3\" >3129565.7194</td>\n",
       "      <td id=\"T_3e00d_row20_col4\" class=\"data row20 col4\" >3856552.0945</td>\n",
       "      <td id=\"T_3e00d_row20_col5\" class=\"data row20 col5\" >4.1890</td>\n",
       "      <td id=\"T_3e00d_row20_col6\" class=\"data row20 col6\" >0.5491</td>\n",
       "      <td id=\"T_3e00d_row20_col7\" class=\"data row20 col7\" >-0.9360</td>\n",
       "      <td id=\"T_3e00d_row20_col8\" class=\"data row20 col8\" >0.0500</td>\n",
       "    </tr>\n",
       "    <tr>\n",
       "      <th id=\"T_3e00d_level0_row21\" class=\"row_heading level0 row21\" >snaive</th>\n",
       "      <td id=\"T_3e00d_row21_col0\" class=\"data row21 col0\" >Seasonal Naive Forecaster</td>\n",
       "      <td id=\"T_3e00d_row21_col1\" class=\"data row21 col1\" >0.8202</td>\n",
       "      <td id=\"T_3e00d_row21_col2\" class=\"data row21 col2\" >0.7654</td>\n",
       "      <td id=\"T_3e00d_row21_col3\" class=\"data row21 col3\" >2634650.4222</td>\n",
       "      <td id=\"T_3e00d_row21_col4\" class=\"data row21 col4\" >3351532.9915</td>\n",
       "      <td id=\"T_3e00d_row21_col5\" class=\"data row21 col5\" >4.4703</td>\n",
       "      <td id=\"T_3e00d_row21_col6\" class=\"data row21 col6\" >0.4776</td>\n",
       "      <td id=\"T_3e00d_row21_col7\" class=\"data row21 col7\" >-0.6970</td>\n",
       "      <td id=\"T_3e00d_row21_col8\" class=\"data row21 col8\" >0.0400</td>\n",
       "    </tr>\n",
       "    <tr>\n",
       "      <th id=\"T_3e00d_level0_row22\" class=\"row_heading level0 row22\" >auto_arima</th>\n",
       "      <td id=\"T_3e00d_row22_col0\" class=\"data row22 col0\" >Auto ARIMA</td>\n",
       "      <td id=\"T_3e00d_row22_col1\" class=\"data row22 col1\" >0.8519</td>\n",
       "      <td id=\"T_3e00d_row22_col2\" class=\"data row22 col2\" >0.7937</td>\n",
       "      <td id=\"T_3e00d_row22_col3\" class=\"data row22 col3\" >2736168.9978</td>\n",
       "      <td id=\"T_3e00d_row22_col4\" class=\"data row22 col4\" >3472742.2756</td>\n",
       "      <td id=\"T_3e00d_row22_col5\" class=\"data row22 col5\" >4.5299</td>\n",
       "      <td id=\"T_3e00d_row22_col6\" class=\"data row22 col6\" >0.5030</td>\n",
       "      <td id=\"T_3e00d_row22_col7\" class=\"data row22 col7\" >-0.7629</td>\n",
       "      <td id=\"T_3e00d_row22_col8\" class=\"data row22 col8\" >1.7233</td>\n",
       "    </tr>\n",
       "    <tr>\n",
       "      <th id=\"T_3e00d_level0_row23\" class=\"row_heading level0 row23\" >stlf</th>\n",
       "      <td id=\"T_3e00d_row23_col0\" class=\"data row23 col0\" >STLF</td>\n",
       "      <td id=\"T_3e00d_row23_col1\" class=\"data row23 col1\" >1.0682</td>\n",
       "      <td id=\"T_3e00d_row23_col2\" class=\"data row23 col2\" >0.9850</td>\n",
       "      <td id=\"T_3e00d_row23_col3\" class=\"data row23 col3\" >3430709.4027</td>\n",
       "      <td id=\"T_3e00d_row23_col4\" class=\"data row23 col4\" >4311461.5970</td>\n",
       "      <td id=\"T_3e00d_row23_col5\" class=\"data row23 col5\" >5.3447</td>\n",
       "      <td id=\"T_3e00d_row23_col6\" class=\"data row23 col6\" >0.6067</td>\n",
       "      <td id=\"T_3e00d_row23_col7\" class=\"data row23 col7\" >-1.7449</td>\n",
       "      <td id=\"T_3e00d_row23_col8\" class=\"data row23 col8\" >0.0367</td>\n",
       "    </tr>\n",
       "  </tbody>\n",
       "</table>\n"
      ],
      "text/plain": [
       "<pandas.io.formats.style.Styler at 0x1a6c024e910>"
      ]
     },
     "metadata": {},
     "output_type": "display_data"
    },
    {
     "data": {
      "text/html": [],
      "text/plain": [
       "<IPython.core.display.HTML object>"
      ]
     },
     "metadata": {},
     "output_type": "display_data"
    },
    {
     "data": {
      "application/vnd.plotly.v1+json": {
       "config": {
        "plotlyServerURL": "https://plot.ly"
       },
       "data": [
        {
         "line": {
          "color": "rgb(31, 119, 180)",
          "width": 2
         },
         "marker": {
          "color": "rgb(31, 119, 180)",
          "size": 5
         },
         "mode": "lines+markers",
         "name": "NET_SALES",
         "type": "scattergl",
         "x": [
          "2016-01-01T00:00:00",
          "2016-02-01T00:00:00",
          "2016-03-01T00:00:00",
          "2016-04-01T00:00:00",
          "2016-05-01T00:00:00",
          "2016-06-01T00:00:00",
          "2016-07-01T00:00:00",
          "2016-08-01T00:00:00",
          "2016-09-01T00:00:00",
          "2016-10-01T00:00:00",
          "2016-11-01T00:00:00",
          "2016-12-01T00:00:00",
          "2017-01-01T00:00:00",
          "2017-02-01T00:00:00",
          "2017-03-01T00:00:00",
          "2017-04-01T00:00:00",
          "2017-05-01T00:00:00",
          "2017-06-01T00:00:00",
          "2017-07-01T00:00:00",
          "2017-08-01T00:00:00",
          "2017-09-01T00:00:00",
          "2017-10-01T00:00:00",
          "2017-11-01T00:00:00",
          "2017-12-01T00:00:00",
          "2018-01-01T00:00:00",
          "2018-02-01T00:00:00",
          "2018-03-01T00:00:00",
          "2018-04-01T00:00:00",
          "2018-05-01T00:00:00",
          "2018-06-01T00:00:00",
          "2018-07-01T00:00:00",
          "2018-08-01T00:00:00",
          "2018-09-01T00:00:00",
          "2018-10-01T00:00:00",
          "2018-11-01T00:00:00",
          "2018-12-01T00:00:00",
          "2019-01-01T00:00:00",
          "2019-02-01T00:00:00",
          "2019-03-01T00:00:00",
          "2019-04-01T00:00:00",
          "2019-05-01T00:00:00",
          "2019-06-01T00:00:00",
          "2019-07-01T00:00:00",
          "2019-08-01T00:00:00",
          "2019-09-01T00:00:00",
          "2019-10-01T00:00:00",
          "2019-11-01T00:00:00",
          "2019-12-01T00:00:00",
          "2020-01-01T00:00:00",
          "2020-02-01T00:00:00",
          "2020-03-01T00:00:00",
          "2020-04-01T00:00:00",
          "2020-05-01T00:00:00",
          "2020-06-01T00:00:00",
          "2020-07-01T00:00:00",
          "2020-08-01T00:00:00",
          "2020-09-01T00:00:00",
          "2020-10-01T00:00:00",
          "2020-11-01T00:00:00",
          "2020-12-01T00:00:00",
          "2021-01-01T00:00:00",
          "2021-02-01T00:00:00",
          "2021-03-01T00:00:00",
          "2021-04-01T00:00:00",
          "2021-05-01T00:00:00",
          "2021-06-01T00:00:00",
          "2021-07-01T00:00:00",
          "2021-08-01T00:00:00",
          "2021-09-01T00:00:00",
          "2021-10-01T00:00:00",
          "2021-11-01T00:00:00",
          "2021-12-01T00:00:00",
          "2022-01-01T00:00:00",
          "2022-02-01T00:00:00",
          "2022-03-01T00:00:00",
          "2022-04-01T00:00:00",
          "2022-05-01T00:00:00",
          "2022-06-01T00:00:00",
          "2022-07-01T00:00:00",
          "2022-08-01T00:00:00",
          "2022-09-01T00:00:00",
          "2022-10-01T00:00:00",
          "2022-11-01T00:00:00",
          "2022-12-01T00:00:00"
         ],
         "xaxis": "x",
         "y": [
          617850.2400000001,
          7205068.12,
          14309761.85,
          14963514.519999998,
          5353261.799999999,
          4313279.180000001,
          6283148.799999999,
          5626725.62,
          10283086.45,
          6239512.66,
          16467966.49,
          6719381.11,
          1694443.7999999998,
          4319283.82,
          3585583.41,
          15336265.410000002,
          6788842.970000002,
          2205625.11,
          3689524.32,
          4857901.02,
          10655739.01,
          2014029.9100000006,
          11737527.919999998,
          6770589.779999999,
          1686205.6400000001,
          4852140.470000001,
          9678992.96,
          10913615.799999999,
          1464360.3199999991,
          4328053.959999999,
          3681932.2699999996,
          3147656.1500000004,
          3711753.5100000002,
          6790106.71,
          11928914.959999997,
          3357898.4499999993,
          2064315.1199999999,
          3520819.129999999,
          5685451.57,
          13840909.290000001,
          46796.18999999977,
          4810160.589999999,
          1868190.2400000005,
          6867357.89,
          4619829.199999999,
          3572095.9000000004,
          10165487.370000001,
          10365658.389999999,
          3340242.7800000003,
          3780604.64,
          6303919.930000001,
          2730543.7800000003,
          4323093.2299999995,
          4871848.600000001,
          7427116.88,
          5110918.970000001,
          7741832.2700000005,
          7374492.219999999,
          6572255.87,
          6689672.909999996,
          5166002.17,
          9261129.49,
          6578016.65,
          13399609.7,
          4543746.869999999,
          8401741.72,
          4253964.369999999,
          3571455.8699999996,
          8128995.070000001,
          1456649.66,
          8690709.709999999,
          6425749.77,
          6712500.650000002,
          6785699.820000001,
          9609902.12,
          11843504.52,
          1288321.1899999995,
          428054.3399999993,
          1231398.2000000002,
          3935815.56,
          3668997.06,
          4095727.7000000007,
          11012638.07,
          321313.77999999974
         ],
         "yaxis": "y"
        },
        {
         "line": {
          "color": "rgb(255, 127, 14)",
          "width": 2
         },
         "marker": {
          "color": "rgb(255, 127, 14)",
          "size": 5
         },
         "mode": "lines+markers",
         "name": "DecisionTreeRegressor",
         "type": "scattergl",
         "x": [
          "2016-01-01T00:00:00",
          "2016-02-01T00:00:00",
          "2016-03-01T00:00:00",
          "2016-04-01T00:00:00",
          "2016-05-01T00:00:00",
          "2016-06-01T00:00:00",
          "2016-07-01T00:00:00",
          "2016-08-01T00:00:00",
          "2016-09-01T00:00:00",
          "2016-10-01T00:00:00",
          "2016-11-01T00:00:00",
          "2016-12-01T00:00:00",
          "2017-01-01T00:00:00",
          "2017-02-01T00:00:00",
          "2017-03-01T00:00:00",
          "2017-04-01T00:00:00",
          "2017-05-01T00:00:00",
          "2017-06-01T00:00:00",
          "2017-07-01T00:00:00",
          "2017-08-01T00:00:00",
          "2017-09-01T00:00:00",
          "2017-10-01T00:00:00",
          "2017-11-01T00:00:00",
          "2017-12-01T00:00:00",
          "2018-01-01T00:00:00",
          "2018-02-01T00:00:00",
          "2018-03-01T00:00:00",
          "2018-04-01T00:00:00",
          "2018-05-01T00:00:00",
          "2018-06-01T00:00:00",
          "2018-07-01T00:00:00",
          "2018-08-01T00:00:00",
          "2018-09-01T00:00:00",
          "2018-10-01T00:00:00",
          "2018-11-01T00:00:00",
          "2018-12-01T00:00:00",
          "2019-01-01T00:00:00",
          "2019-02-01T00:00:00",
          "2019-03-01T00:00:00",
          "2019-04-01T00:00:00",
          "2019-05-01T00:00:00",
          "2019-06-01T00:00:00",
          "2019-07-01T00:00:00",
          "2019-08-01T00:00:00",
          "2019-09-01T00:00:00",
          "2019-10-01T00:00:00",
          "2019-11-01T00:00:00",
          "2019-12-01T00:00:00",
          "2020-01-01T00:00:00",
          "2020-02-01T00:00:00",
          "2020-03-01T00:00:00",
          "2020-04-01T00:00:00",
          "2020-05-01T00:00:00",
          "2020-06-01T00:00:00",
          "2020-07-01T00:00:00",
          "2020-08-01T00:00:00",
          "2020-09-01T00:00:00",
          "2020-10-01T00:00:00",
          "2020-11-01T00:00:00",
          "2020-12-01T00:00:00",
          "2021-01-01T00:00:00",
          "2021-02-01T00:00:00",
          "2021-03-01T00:00:00",
          "2021-04-01T00:00:00",
          "2021-05-01T00:00:00",
          "2021-06-01T00:00:00",
          "2021-07-01T00:00:00",
          "2021-08-01T00:00:00",
          "2021-09-01T00:00:00",
          "2021-10-01T00:00:00",
          "2021-11-01T00:00:00",
          "2021-12-01T00:00:00",
          "2022-01-01T00:00:00",
          "2022-02-01T00:00:00",
          "2022-03-01T00:00:00",
          "2022-04-01T00:00:00",
          "2022-05-01T00:00:00",
          "2022-06-01T00:00:00",
          "2022-07-01T00:00:00",
          "2022-08-01T00:00:00",
          "2022-09-01T00:00:00",
          "2022-10-01T00:00:00",
          "2022-11-01T00:00:00",
          "2022-12-01T00:00:00"
         ],
         "xaxis": "x",
         "y": [
          null,
          null,
          null,
          null,
          null,
          null,
          null,
          null,
          null,
          null,
          null,
          null,
          null,
          null,
          null,
          null,
          null,
          null,
          null,
          null,
          null,
          null,
          null,
          null,
          null,
          null,
          null,
          null,
          null,
          null,
          null,
          null,
          null,
          null,
          null,
          null,
          null,
          null,
          null,
          null,
          null,
          null,
          null,
          null,
          null,
          null,
          null,
          null,
          null,
          null,
          null,
          null,
          null,
          null,
          null,
          null,
          null,
          null,
          null,
          null,
          null,
          null,
          null,
          null,
          null,
          null,
          null,
          null,
          null,
          null,
          null,
          null,
          8466846.3704,
          2521691.2174,
          3446742.8435,
          12636957.6003,
          4736779.8905,
          7840475.9754,
          4467226.0075,
          9218883.7518,
          4724029.4921,
          1733530.7789,
          9038220.1103,
          4973408.8875
         ],
         "yaxis": "y"
        }
       ],
       "layout": {
        "showlegend": true,
        "template": {
         "data": {
          "bar": [
           {
            "error_x": {
             "color": "rgb(51,51,51)"
            },
            "error_y": {
             "color": "rgb(51,51,51)"
            },
            "marker": {
             "line": {
              "color": "rgb(237,237,237)",
              "width": 0.5
             },
             "pattern": {
              "fillmode": "overlay",
              "size": 10,
              "solidity": 0.2
             }
            },
            "type": "bar"
           }
          ],
          "barpolar": [
           {
            "marker": {
             "line": {
              "color": "rgb(237,237,237)",
              "width": 0.5
             },
             "pattern": {
              "fillmode": "overlay",
              "size": 10,
              "solidity": 0.2
             }
            },
            "type": "barpolar"
           }
          ],
          "carpet": [
           {
            "aaxis": {
             "endlinecolor": "rgb(51,51,51)",
             "gridcolor": "white",
             "linecolor": "white",
             "minorgridcolor": "white",
             "startlinecolor": "rgb(51,51,51)"
            },
            "baxis": {
             "endlinecolor": "rgb(51,51,51)",
             "gridcolor": "white",
             "linecolor": "white",
             "minorgridcolor": "white",
             "startlinecolor": "rgb(51,51,51)"
            },
            "type": "carpet"
           }
          ],
          "choropleth": [
           {
            "colorbar": {
             "outlinewidth": 0,
             "tickcolor": "rgb(237,237,237)",
             "ticklen": 6,
             "ticks": "inside"
            },
            "type": "choropleth"
           }
          ],
          "contour": [
           {
            "colorbar": {
             "outlinewidth": 0,
             "tickcolor": "rgb(237,237,237)",
             "ticklen": 6,
             "ticks": "inside"
            },
            "colorscale": [
             [
              0,
              "rgb(20,44,66)"
             ],
             [
              1,
              "rgb(90,179,244)"
             ]
            ],
            "type": "contour"
           }
          ],
          "contourcarpet": [
           {
            "colorbar": {
             "outlinewidth": 0,
             "tickcolor": "rgb(237,237,237)",
             "ticklen": 6,
             "ticks": "inside"
            },
            "type": "contourcarpet"
           }
          ],
          "heatmap": [
           {
            "colorbar": {
             "outlinewidth": 0,
             "tickcolor": "rgb(237,237,237)",
             "ticklen": 6,
             "ticks": "inside"
            },
            "colorscale": [
             [
              0,
              "rgb(20,44,66)"
             ],
             [
              1,
              "rgb(90,179,244)"
             ]
            ],
            "type": "heatmap"
           }
          ],
          "heatmapgl": [
           {
            "colorbar": {
             "outlinewidth": 0,
             "tickcolor": "rgb(237,237,237)",
             "ticklen": 6,
             "ticks": "inside"
            },
            "colorscale": [
             [
              0,
              "rgb(20,44,66)"
             ],
             [
              1,
              "rgb(90,179,244)"
             ]
            ],
            "type": "heatmapgl"
           }
          ],
          "histogram": [
           {
            "marker": {
             "pattern": {
              "fillmode": "overlay",
              "size": 10,
              "solidity": 0.2
             }
            },
            "type": "histogram"
           }
          ],
          "histogram2d": [
           {
            "colorbar": {
             "outlinewidth": 0,
             "tickcolor": "rgb(237,237,237)",
             "ticklen": 6,
             "ticks": "inside"
            },
            "colorscale": [
             [
              0,
              "rgb(20,44,66)"
             ],
             [
              1,
              "rgb(90,179,244)"
             ]
            ],
            "type": "histogram2d"
           }
          ],
          "histogram2dcontour": [
           {
            "colorbar": {
             "outlinewidth": 0,
             "tickcolor": "rgb(237,237,237)",
             "ticklen": 6,
             "ticks": "inside"
            },
            "colorscale": [
             [
              0,
              "rgb(20,44,66)"
             ],
             [
              1,
              "rgb(90,179,244)"
             ]
            ],
            "type": "histogram2dcontour"
           }
          ],
          "mesh3d": [
           {
            "colorbar": {
             "outlinewidth": 0,
             "tickcolor": "rgb(237,237,237)",
             "ticklen": 6,
             "ticks": "inside"
            },
            "type": "mesh3d"
           }
          ],
          "parcoords": [
           {
            "line": {
             "colorbar": {
              "outlinewidth": 0,
              "tickcolor": "rgb(237,237,237)",
              "ticklen": 6,
              "ticks": "inside"
             }
            },
            "type": "parcoords"
           }
          ],
          "pie": [
           {
            "automargin": true,
            "type": "pie"
           }
          ],
          "scatter": [
           {
            "fillpattern": {
             "fillmode": "overlay",
             "size": 10,
             "solidity": 0.2
            },
            "type": "scatter"
           }
          ],
          "scatter3d": [
           {
            "line": {
             "colorbar": {
              "outlinewidth": 0,
              "tickcolor": "rgb(237,237,237)",
              "ticklen": 6,
              "ticks": "inside"
             }
            },
            "marker": {
             "colorbar": {
              "outlinewidth": 0,
              "tickcolor": "rgb(237,237,237)",
              "ticklen": 6,
              "ticks": "inside"
             }
            },
            "type": "scatter3d"
           }
          ],
          "scattercarpet": [
           {
            "marker": {
             "colorbar": {
              "outlinewidth": 0,
              "tickcolor": "rgb(237,237,237)",
              "ticklen": 6,
              "ticks": "inside"
             }
            },
            "type": "scattercarpet"
           }
          ],
          "scattergeo": [
           {
            "marker": {
             "colorbar": {
              "outlinewidth": 0,
              "tickcolor": "rgb(237,237,237)",
              "ticklen": 6,
              "ticks": "inside"
             }
            },
            "type": "scattergeo"
           }
          ],
          "scattergl": [
           {
            "marker": {
             "colorbar": {
              "outlinewidth": 0,
              "tickcolor": "rgb(237,237,237)",
              "ticklen": 6,
              "ticks": "inside"
             }
            },
            "type": "scattergl"
           }
          ],
          "scattermapbox": [
           {
            "marker": {
             "colorbar": {
              "outlinewidth": 0,
              "tickcolor": "rgb(237,237,237)",
              "ticklen": 6,
              "ticks": "inside"
             }
            },
            "type": "scattermapbox"
           }
          ],
          "scatterpolar": [
           {
            "marker": {
             "colorbar": {
              "outlinewidth": 0,
              "tickcolor": "rgb(237,237,237)",
              "ticklen": 6,
              "ticks": "inside"
             }
            },
            "type": "scatterpolar"
           }
          ],
          "scatterpolargl": [
           {
            "marker": {
             "colorbar": {
              "outlinewidth": 0,
              "tickcolor": "rgb(237,237,237)",
              "ticklen": 6,
              "ticks": "inside"
             }
            },
            "type": "scatterpolargl"
           }
          ],
          "scatterternary": [
           {
            "marker": {
             "colorbar": {
              "outlinewidth": 0,
              "tickcolor": "rgb(237,237,237)",
              "ticklen": 6,
              "ticks": "inside"
             }
            },
            "type": "scatterternary"
           }
          ],
          "surface": [
           {
            "colorbar": {
             "outlinewidth": 0,
             "tickcolor": "rgb(237,237,237)",
             "ticklen": 6,
             "ticks": "inside"
            },
            "colorscale": [
             [
              0,
              "rgb(20,44,66)"
             ],
             [
              1,
              "rgb(90,179,244)"
             ]
            ],
            "type": "surface"
           }
          ],
          "table": [
           {
            "cells": {
             "fill": {
              "color": "rgb(237,237,237)"
             },
             "line": {
              "color": "white"
             }
            },
            "header": {
             "fill": {
              "color": "rgb(217,217,217)"
             },
             "line": {
              "color": "white"
             }
            },
            "type": "table"
           }
          ]
         },
         "layout": {
          "annotationdefaults": {
           "arrowhead": 0,
           "arrowwidth": 1
          },
          "autotypenumbers": "strict",
          "coloraxis": {
           "colorbar": {
            "outlinewidth": 0,
            "tickcolor": "rgb(237,237,237)",
            "ticklen": 6,
            "ticks": "inside"
           }
          },
          "colorscale": {
           "sequential": [
            [
             0,
             "rgb(20,44,66)"
            ],
            [
             1,
             "rgb(90,179,244)"
            ]
           ],
           "sequentialminus": [
            [
             0,
             "rgb(20,44,66)"
            ],
            [
             1,
             "rgb(90,179,244)"
            ]
           ]
          },
          "colorway": [
           "#F8766D",
           "#A3A500",
           "#00BF7D",
           "#00B0F6",
           "#E76BF3"
          ],
          "font": {
           "color": "rgb(51,51,51)"
          },
          "geo": {
           "bgcolor": "white",
           "lakecolor": "white",
           "landcolor": "rgb(237,237,237)",
           "showlakes": true,
           "showland": true,
           "subunitcolor": "white"
          },
          "hoverlabel": {
           "align": "left"
          },
          "hovermode": "closest",
          "paper_bgcolor": "white",
          "plot_bgcolor": "rgb(237,237,237)",
          "polar": {
           "angularaxis": {
            "gridcolor": "white",
            "linecolor": "white",
            "showgrid": true,
            "tickcolor": "rgb(51,51,51)",
            "ticks": "outside"
           },
           "bgcolor": "rgb(237,237,237)",
           "radialaxis": {
            "gridcolor": "white",
            "linecolor": "white",
            "showgrid": true,
            "tickcolor": "rgb(51,51,51)",
            "ticks": "outside"
           }
          },
          "scene": {
           "xaxis": {
            "backgroundcolor": "rgb(237,237,237)",
            "gridcolor": "white",
            "gridwidth": 2,
            "linecolor": "white",
            "showbackground": true,
            "showgrid": true,
            "tickcolor": "rgb(51,51,51)",
            "ticks": "outside",
            "zerolinecolor": "white"
           },
           "yaxis": {
            "backgroundcolor": "rgb(237,237,237)",
            "gridcolor": "white",
            "gridwidth": 2,
            "linecolor": "white",
            "showbackground": true,
            "showgrid": true,
            "tickcolor": "rgb(51,51,51)",
            "ticks": "outside",
            "zerolinecolor": "white"
           },
           "zaxis": {
            "backgroundcolor": "rgb(237,237,237)",
            "gridcolor": "white",
            "gridwidth": 2,
            "linecolor": "white",
            "showbackground": true,
            "showgrid": true,
            "tickcolor": "rgb(51,51,51)",
            "ticks": "outside",
            "zerolinecolor": "white"
           }
          },
          "shapedefaults": {
           "fillcolor": "black",
           "line": {
            "width": 0
           },
           "opacity": 0.3
          },
          "ternary": {
           "aaxis": {
            "gridcolor": "white",
            "linecolor": "white",
            "showgrid": true,
            "tickcolor": "rgb(51,51,51)",
            "ticks": "outside"
           },
           "baxis": {
            "gridcolor": "white",
            "linecolor": "white",
            "showgrid": true,
            "tickcolor": "rgb(51,51,51)",
            "ticks": "outside"
           },
           "bgcolor": "rgb(237,237,237)",
           "caxis": {
            "gridcolor": "white",
            "linecolor": "white",
            "showgrid": true,
            "tickcolor": "rgb(51,51,51)",
            "ticks": "outside"
           }
          },
          "xaxis": {
           "automargin": true,
           "gridcolor": "white",
           "linecolor": "white",
           "showgrid": true,
           "tickcolor": "rgb(51,51,51)",
           "ticks": "outside",
           "title": {
            "standoff": 15
           },
           "zerolinecolor": "white"
          },
          "yaxis": {
           "automargin": true,
           "gridcolor": "white",
           "linecolor": "white",
           "showgrid": true,
           "tickcolor": "rgb(51,51,51)",
           "ticks": "outside",
           "title": {
            "standoff": 15
           },
           "zerolinecolor": "white"
          }
         }
        },
        "title": {
         "text": "Actual vs. Forecast (Out-of-Sample)"
        },
        "xaxis": {
         "anchor": "y",
         "domain": [
          0,
          1
         ]
        },
        "yaxis": {
         "anchor": "x",
         "domain": [
          0,
          1
         ]
        }
       }
      }
     },
     "metadata": {},
     "output_type": "display_data"
    },
    {
     "data": {
      "text/html": [
       "<style type=\"text/css\">\n",
       "</style>\n",
       "<table id=\"T_2cb94\">\n",
       "  <thead>\n",
       "    <tr>\n",
       "      <th class=\"blank level0\" >&nbsp;</th>\n",
       "      <th id=\"T_2cb94_level0_col0\" class=\"col_heading level0 col0\" >Model</th>\n",
       "      <th id=\"T_2cb94_level0_col1\" class=\"col_heading level0 col1\" >MASE</th>\n",
       "      <th id=\"T_2cb94_level0_col2\" class=\"col_heading level0 col2\" >RMSSE</th>\n",
       "      <th id=\"T_2cb94_level0_col3\" class=\"col_heading level0 col3\" >MAE</th>\n",
       "      <th id=\"T_2cb94_level0_col4\" class=\"col_heading level0 col4\" >RMSE</th>\n",
       "      <th id=\"T_2cb94_level0_col5\" class=\"col_heading level0 col5\" >MAPE</th>\n",
       "      <th id=\"T_2cb94_level0_col6\" class=\"col_heading level0 col6\" >SMAPE</th>\n",
       "      <th id=\"T_2cb94_level0_col7\" class=\"col_heading level0 col7\" >R2</th>\n",
       "    </tr>\n",
       "  </thead>\n",
       "  <tbody>\n",
       "    <tr>\n",
       "      <th id=\"T_2cb94_level0_row0\" class=\"row_heading level0 row0\" >0</th>\n",
       "      <td id=\"T_2cb94_row0_col0\" class=\"data row0 col0\" >DecisionTreeRegressor</td>\n",
       "      <td id=\"T_2cb94_row0_col1\" class=\"data row0 col1\" >1.1454</td>\n",
       "      <td id=\"T_2cb94_row0_col2\" class=\"data row0 col2\" >0.9912</td>\n",
       "      <td id=\"T_2cb94_row0_col3\" class=\"data row0 col3\" >3533207.1196</td>\n",
       "      <td id=\"T_2cb94_row0_col4\" class=\"data row0 col4\" >4055081.5266</td>\n",
       "      <td id=\"T_2cb94_row0_col5\" class=\"data row0 col5\" >3.4236</td>\n",
       "      <td id=\"T_2cb94_row0_col6\" class=\"data row0 col6\" >0.8374</td>\n",
       "      <td id=\"T_2cb94_row0_col7\" class=\"data row0 col7\" >-0.0679</td>\n",
       "    </tr>\n",
       "  </tbody>\n",
       "</table>\n"
      ],
      "text/plain": [
       "<pandas.io.formats.style.Styler at 0x1a6bd168970>"
      ]
     },
     "metadata": {},
     "output_type": "display_data"
    },
    {
     "name": "stderr",
     "output_type": "stream",
     "text": [
      " 36%|███▌      | 5/14 [01:37<02:48, 18.71s/it]"
     ]
    },
    {
     "data": {
      "text/html": [
       "<style type=\"text/css\">\n",
       "#T_2466d_row25_col1, #T_2466d_row31_col1 {\n",
       "  background-color: lightgreen;\n",
       "}\n",
       "</style>\n",
       "<table id=\"T_2466d\">\n",
       "  <thead>\n",
       "    <tr>\n",
       "      <th class=\"blank level0\" >&nbsp;</th>\n",
       "      <th id=\"T_2466d_level0_col0\" class=\"col_heading level0 col0\" >Description</th>\n",
       "      <th id=\"T_2466d_level0_col1\" class=\"col_heading level0 col1\" >Value</th>\n",
       "    </tr>\n",
       "  </thead>\n",
       "  <tbody>\n",
       "    <tr>\n",
       "      <th id=\"T_2466d_level0_row0\" class=\"row_heading level0 row0\" >0</th>\n",
       "      <td id=\"T_2466d_row0_col0\" class=\"data row0 col0\" >session_id</td>\n",
       "      <td id=\"T_2466d_row0_col1\" class=\"data row0 col1\" >123</td>\n",
       "    </tr>\n",
       "    <tr>\n",
       "      <th id=\"T_2466d_level0_row1\" class=\"row_heading level0 row1\" >1</th>\n",
       "      <td id=\"T_2466d_row1_col0\" class=\"data row1 col0\" >Target</td>\n",
       "      <td id=\"T_2466d_row1_col1\" class=\"data row1 col1\" >NET_SALES</td>\n",
       "    </tr>\n",
       "    <tr>\n",
       "      <th id=\"T_2466d_level0_row2\" class=\"row_heading level0 row2\" >2</th>\n",
       "      <td id=\"T_2466d_row2_col0\" class=\"data row2 col0\" >Approach</td>\n",
       "      <td id=\"T_2466d_row2_col1\" class=\"data row2 col1\" >Univariate</td>\n",
       "    </tr>\n",
       "    <tr>\n",
       "      <th id=\"T_2466d_level0_row3\" class=\"row_heading level0 row3\" >3</th>\n",
       "      <td id=\"T_2466d_row3_col0\" class=\"data row3 col0\" >Exogenous Variables</td>\n",
       "      <td id=\"T_2466d_row3_col1\" class=\"data row3 col1\" >Not Present</td>\n",
       "    </tr>\n",
       "    <tr>\n",
       "      <th id=\"T_2466d_level0_row4\" class=\"row_heading level0 row4\" >4</th>\n",
       "      <td id=\"T_2466d_row4_col0\" class=\"data row4 col0\" >Original data shape</td>\n",
       "      <td id=\"T_2466d_row4_col1\" class=\"data row4 col1\" >(84, 1)</td>\n",
       "    </tr>\n",
       "    <tr>\n",
       "      <th id=\"T_2466d_level0_row5\" class=\"row_heading level0 row5\" >5</th>\n",
       "      <td id=\"T_2466d_row5_col0\" class=\"data row5 col0\" >Transformed data shape</td>\n",
       "      <td id=\"T_2466d_row5_col1\" class=\"data row5 col1\" >(84, 1)</td>\n",
       "    </tr>\n",
       "    <tr>\n",
       "      <th id=\"T_2466d_level0_row6\" class=\"row_heading level0 row6\" >6</th>\n",
       "      <td id=\"T_2466d_row6_col0\" class=\"data row6 col0\" >Transformed train set shape</td>\n",
       "      <td id=\"T_2466d_row6_col1\" class=\"data row6 col1\" >(72, 1)</td>\n",
       "    </tr>\n",
       "    <tr>\n",
       "      <th id=\"T_2466d_level0_row7\" class=\"row_heading level0 row7\" >7</th>\n",
       "      <td id=\"T_2466d_row7_col0\" class=\"data row7 col0\" >Transformed test set shape</td>\n",
       "      <td id=\"T_2466d_row7_col1\" class=\"data row7 col1\" >(12, 1)</td>\n",
       "    </tr>\n",
       "    <tr>\n",
       "      <th id=\"T_2466d_level0_row8\" class=\"row_heading level0 row8\" >8</th>\n",
       "      <td id=\"T_2466d_row8_col0\" class=\"data row8 col0\" >Rows with missing values</td>\n",
       "      <td id=\"T_2466d_row8_col1\" class=\"data row8 col1\" >0.0%</td>\n",
       "    </tr>\n",
       "    <tr>\n",
       "      <th id=\"T_2466d_level0_row9\" class=\"row_heading level0 row9\" >9</th>\n",
       "      <td id=\"T_2466d_row9_col0\" class=\"data row9 col0\" >Fold Generator</td>\n",
       "      <td id=\"T_2466d_row9_col1\" class=\"data row9 col1\" >ExpandingWindowSplitter</td>\n",
       "    </tr>\n",
       "    <tr>\n",
       "      <th id=\"T_2466d_level0_row10\" class=\"row_heading level0 row10\" >10</th>\n",
       "      <td id=\"T_2466d_row10_col0\" class=\"data row10 col0\" >Fold Number</td>\n",
       "      <td id=\"T_2466d_row10_col1\" class=\"data row10 col1\" >3</td>\n",
       "    </tr>\n",
       "    <tr>\n",
       "      <th id=\"T_2466d_level0_row11\" class=\"row_heading level0 row11\" >11</th>\n",
       "      <td id=\"T_2466d_row11_col0\" class=\"data row11 col0\" >Enforce Prediction Interval</td>\n",
       "      <td id=\"T_2466d_row11_col1\" class=\"data row11 col1\" >False</td>\n",
       "    </tr>\n",
       "    <tr>\n",
       "      <th id=\"T_2466d_level0_row12\" class=\"row_heading level0 row12\" >12</th>\n",
       "      <td id=\"T_2466d_row12_col0\" class=\"data row12 col0\" >Splits used for hyperparameters</td>\n",
       "      <td id=\"T_2466d_row12_col1\" class=\"data row12 col1\" >all</td>\n",
       "    </tr>\n",
       "    <tr>\n",
       "      <th id=\"T_2466d_level0_row13\" class=\"row_heading level0 row13\" >13</th>\n",
       "      <td id=\"T_2466d_row13_col0\" class=\"data row13 col0\" >User Defined Seasonal Period(s)</td>\n",
       "      <td id=\"T_2466d_row13_col1\" class=\"data row13 col1\" >None</td>\n",
       "    </tr>\n",
       "    <tr>\n",
       "      <th id=\"T_2466d_level0_row14\" class=\"row_heading level0 row14\" >14</th>\n",
       "      <td id=\"T_2466d_row14_col0\" class=\"data row14 col0\" >Ignore Seasonality Test</td>\n",
       "      <td id=\"T_2466d_row14_col1\" class=\"data row14 col1\" >False</td>\n",
       "    </tr>\n",
       "    <tr>\n",
       "      <th id=\"T_2466d_level0_row15\" class=\"row_heading level0 row15\" >15</th>\n",
       "      <td id=\"T_2466d_row15_col0\" class=\"data row15 col0\" >Seasonality Detection Algo</td>\n",
       "      <td id=\"T_2466d_row15_col1\" class=\"data row15 col1\" >auto</td>\n",
       "    </tr>\n",
       "    <tr>\n",
       "      <th id=\"T_2466d_level0_row16\" class=\"row_heading level0 row16\" >16</th>\n",
       "      <td id=\"T_2466d_row16_col0\" class=\"data row16 col0\" >Max Period to Consider</td>\n",
       "      <td id=\"T_2466d_row16_col1\" class=\"data row16 col1\" >60</td>\n",
       "    </tr>\n",
       "    <tr>\n",
       "      <th id=\"T_2466d_level0_row17\" class=\"row_heading level0 row17\" >17</th>\n",
       "      <td id=\"T_2466d_row17_col0\" class=\"data row17 col0\" >Seasonal Period(s) Tested</td>\n",
       "      <td id=\"T_2466d_row17_col1\" class=\"data row17 col1\" >[5]</td>\n",
       "    </tr>\n",
       "    <tr>\n",
       "      <th id=\"T_2466d_level0_row18\" class=\"row_heading level0 row18\" >18</th>\n",
       "      <td id=\"T_2466d_row18_col0\" class=\"data row18 col0\" >Significant Seasonal Period(s)</td>\n",
       "      <td id=\"T_2466d_row18_col1\" class=\"data row18 col1\" >[5]</td>\n",
       "    </tr>\n",
       "    <tr>\n",
       "      <th id=\"T_2466d_level0_row19\" class=\"row_heading level0 row19\" >19</th>\n",
       "      <td id=\"T_2466d_row19_col0\" class=\"data row19 col0\" >Significant Seasonal Period(s) without Harmonics</td>\n",
       "      <td id=\"T_2466d_row19_col1\" class=\"data row19 col1\" >[5]</td>\n",
       "    </tr>\n",
       "    <tr>\n",
       "      <th id=\"T_2466d_level0_row20\" class=\"row_heading level0 row20\" >20</th>\n",
       "      <td id=\"T_2466d_row20_col0\" class=\"data row20 col0\" >Remove Harmonics</td>\n",
       "      <td id=\"T_2466d_row20_col1\" class=\"data row20 col1\" >False</td>\n",
       "    </tr>\n",
       "    <tr>\n",
       "      <th id=\"T_2466d_level0_row21\" class=\"row_heading level0 row21\" >21</th>\n",
       "      <td id=\"T_2466d_row21_col0\" class=\"data row21 col0\" >Harmonics Order Method</td>\n",
       "      <td id=\"T_2466d_row21_col1\" class=\"data row21 col1\" >harmonic_max</td>\n",
       "    </tr>\n",
       "    <tr>\n",
       "      <th id=\"T_2466d_level0_row22\" class=\"row_heading level0 row22\" >22</th>\n",
       "      <td id=\"T_2466d_row22_col0\" class=\"data row22 col0\" >Num Seasonalities to Use</td>\n",
       "      <td id=\"T_2466d_row22_col1\" class=\"data row22 col1\" >1</td>\n",
       "    </tr>\n",
       "    <tr>\n",
       "      <th id=\"T_2466d_level0_row23\" class=\"row_heading level0 row23\" >23</th>\n",
       "      <td id=\"T_2466d_row23_col0\" class=\"data row23 col0\" >All Seasonalities to Use</td>\n",
       "      <td id=\"T_2466d_row23_col1\" class=\"data row23 col1\" >[5]</td>\n",
       "    </tr>\n",
       "    <tr>\n",
       "      <th id=\"T_2466d_level0_row24\" class=\"row_heading level0 row24\" >24</th>\n",
       "      <td id=\"T_2466d_row24_col0\" class=\"data row24 col0\" >Primary Seasonality</td>\n",
       "      <td id=\"T_2466d_row24_col1\" class=\"data row24 col1\" >5</td>\n",
       "    </tr>\n",
       "    <tr>\n",
       "      <th id=\"T_2466d_level0_row25\" class=\"row_heading level0 row25\" >25</th>\n",
       "      <td id=\"T_2466d_row25_col0\" class=\"data row25 col0\" >Seasonality Present</td>\n",
       "      <td id=\"T_2466d_row25_col1\" class=\"data row25 col1\" >True</td>\n",
       "    </tr>\n",
       "    <tr>\n",
       "      <th id=\"T_2466d_level0_row26\" class=\"row_heading level0 row26\" >26</th>\n",
       "      <td id=\"T_2466d_row26_col0\" class=\"data row26 col0\" >Seasonality Type</td>\n",
       "      <td id=\"T_2466d_row26_col1\" class=\"data row26 col1\" >add</td>\n",
       "    </tr>\n",
       "    <tr>\n",
       "      <th id=\"T_2466d_level0_row27\" class=\"row_heading level0 row27\" >27</th>\n",
       "      <td id=\"T_2466d_row27_col0\" class=\"data row27 col0\" >Target Strictly Positive</td>\n",
       "      <td id=\"T_2466d_row27_col1\" class=\"data row27 col1\" >False</td>\n",
       "    </tr>\n",
       "    <tr>\n",
       "      <th id=\"T_2466d_level0_row28\" class=\"row_heading level0 row28\" >28</th>\n",
       "      <td id=\"T_2466d_row28_col0\" class=\"data row28 col0\" >Target White Noise</td>\n",
       "      <td id=\"T_2466d_row28_col1\" class=\"data row28 col1\" >No</td>\n",
       "    </tr>\n",
       "    <tr>\n",
       "      <th id=\"T_2466d_level0_row29\" class=\"row_heading level0 row29\" >29</th>\n",
       "      <td id=\"T_2466d_row29_col0\" class=\"data row29 col0\" >Recommended d</td>\n",
       "      <td id=\"T_2466d_row29_col1\" class=\"data row29 col1\" >1</td>\n",
       "    </tr>\n",
       "    <tr>\n",
       "      <th id=\"T_2466d_level0_row30\" class=\"row_heading level0 row30\" >30</th>\n",
       "      <td id=\"T_2466d_row30_col0\" class=\"data row30 col0\" >Recommended Seasonal D</td>\n",
       "      <td id=\"T_2466d_row30_col1\" class=\"data row30 col1\" >0</td>\n",
       "    </tr>\n",
       "    <tr>\n",
       "      <th id=\"T_2466d_level0_row31\" class=\"row_heading level0 row31\" >31</th>\n",
       "      <td id=\"T_2466d_row31_col0\" class=\"data row31 col0\" >Preprocess</td>\n",
       "      <td id=\"T_2466d_row31_col1\" class=\"data row31 col1\" >True</td>\n",
       "    </tr>\n",
       "    <tr>\n",
       "      <th id=\"T_2466d_level0_row32\" class=\"row_heading level0 row32\" >32</th>\n",
       "      <td id=\"T_2466d_row32_col0\" class=\"data row32 col0\" >Numerical Imputation (Target)</td>\n",
       "      <td id=\"T_2466d_row32_col1\" class=\"data row32 col1\" >mean</td>\n",
       "    </tr>\n",
       "    <tr>\n",
       "      <th id=\"T_2466d_level0_row33\" class=\"row_heading level0 row33\" >33</th>\n",
       "      <td id=\"T_2466d_row33_col0\" class=\"data row33 col0\" >Transformation (Target)</td>\n",
       "      <td id=\"T_2466d_row33_col1\" class=\"data row33 col1\" >None</td>\n",
       "    </tr>\n",
       "    <tr>\n",
       "      <th id=\"T_2466d_level0_row34\" class=\"row_heading level0 row34\" >34</th>\n",
       "      <td id=\"T_2466d_row34_col0\" class=\"data row34 col0\" >Scaling (Target)</td>\n",
       "      <td id=\"T_2466d_row34_col1\" class=\"data row34 col1\" >None</td>\n",
       "    </tr>\n",
       "    <tr>\n",
       "      <th id=\"T_2466d_level0_row35\" class=\"row_heading level0 row35\" >35</th>\n",
       "      <td id=\"T_2466d_row35_col0\" class=\"data row35 col0\" >Feature Engineering (Target) - Reduced Regression</td>\n",
       "      <td id=\"T_2466d_row35_col1\" class=\"data row35 col1\" >False</td>\n",
       "    </tr>\n",
       "    <tr>\n",
       "      <th id=\"T_2466d_level0_row36\" class=\"row_heading level0 row36\" >36</th>\n",
       "      <td id=\"T_2466d_row36_col0\" class=\"data row36 col0\" >CPU Jobs</td>\n",
       "      <td id=\"T_2466d_row36_col1\" class=\"data row36 col1\" >-1</td>\n",
       "    </tr>\n",
       "    <tr>\n",
       "      <th id=\"T_2466d_level0_row37\" class=\"row_heading level0 row37\" >37</th>\n",
       "      <td id=\"T_2466d_row37_col0\" class=\"data row37 col0\" >Use GPU</td>\n",
       "      <td id=\"T_2466d_row37_col1\" class=\"data row37 col1\" >False</td>\n",
       "    </tr>\n",
       "    <tr>\n",
       "      <th id=\"T_2466d_level0_row38\" class=\"row_heading level0 row38\" >38</th>\n",
       "      <td id=\"T_2466d_row38_col0\" class=\"data row38 col0\" >Log Experiment</td>\n",
       "      <td id=\"T_2466d_row38_col1\" class=\"data row38 col1\" >False</td>\n",
       "    </tr>\n",
       "    <tr>\n",
       "      <th id=\"T_2466d_level0_row39\" class=\"row_heading level0 row39\" >39</th>\n",
       "      <td id=\"T_2466d_row39_col0\" class=\"data row39 col0\" >Experiment Name</td>\n",
       "      <td id=\"T_2466d_row39_col1\" class=\"data row39 col1\" >ts-default-name</td>\n",
       "    </tr>\n",
       "    <tr>\n",
       "      <th id=\"T_2466d_level0_row40\" class=\"row_heading level0 row40\" >40</th>\n",
       "      <td id=\"T_2466d_row40_col0\" class=\"data row40 col0\" >USI</td>\n",
       "      <td id=\"T_2466d_row40_col1\" class=\"data row40 col1\" >f363</td>\n",
       "    </tr>\n",
       "  </tbody>\n",
       "</table>\n"
      ],
      "text/plain": [
       "<pandas.io.formats.style.Styler at 0x1a6bd1b7100>"
      ]
     },
     "metadata": {},
     "output_type": "display_data"
    },
    {
     "data": {
      "text/html": [],
      "text/plain": [
       "<IPython.core.display.HTML object>"
      ]
     },
     "metadata": {},
     "output_type": "display_data"
    },
    {
     "data": {
      "text/html": [
       "<style type=\"text/css\">\n",
       "#T_67cc2 th {\n",
       "  text-align: left;\n",
       "}\n",
       "#T_67cc2_row0_col0, #T_67cc2_row0_col1, #T_67cc2_row0_col2, #T_67cc2_row0_col3, #T_67cc2_row0_col4, #T_67cc2_row0_col6, #T_67cc2_row0_col7, #T_67cc2_row1_col0, #T_67cc2_row1_col1, #T_67cc2_row1_col3, #T_67cc2_row1_col4, #T_67cc2_row1_col5, #T_67cc2_row2_col0, #T_67cc2_row2_col1, #T_67cc2_row2_col2, #T_67cc2_row2_col3, #T_67cc2_row2_col4, #T_67cc2_row2_col5, #T_67cc2_row2_col6, #T_67cc2_row2_col7, #T_67cc2_row3_col0, #T_67cc2_row3_col1, #T_67cc2_row3_col2, #T_67cc2_row3_col3, #T_67cc2_row3_col4, #T_67cc2_row3_col5, #T_67cc2_row3_col6, #T_67cc2_row3_col7, #T_67cc2_row4_col0, #T_67cc2_row4_col1, #T_67cc2_row4_col2, #T_67cc2_row4_col3, #T_67cc2_row4_col4, #T_67cc2_row4_col5, #T_67cc2_row4_col6, #T_67cc2_row4_col7, #T_67cc2_row5_col0, #T_67cc2_row5_col1, #T_67cc2_row5_col2, #T_67cc2_row5_col3, #T_67cc2_row5_col4, #T_67cc2_row5_col5, #T_67cc2_row5_col6, #T_67cc2_row5_col7, #T_67cc2_row6_col0, #T_67cc2_row6_col1, #T_67cc2_row6_col2, #T_67cc2_row6_col3, #T_67cc2_row6_col4, #T_67cc2_row6_col5, #T_67cc2_row6_col6, #T_67cc2_row6_col7, #T_67cc2_row7_col0, #T_67cc2_row7_col2, #T_67cc2_row7_col5, #T_67cc2_row7_col6, #T_67cc2_row7_col7, #T_67cc2_row8_col0, #T_67cc2_row8_col1, #T_67cc2_row8_col2, #T_67cc2_row8_col3, #T_67cc2_row8_col4, #T_67cc2_row8_col5, #T_67cc2_row8_col6, #T_67cc2_row8_col7, #T_67cc2_row9_col0, #T_67cc2_row9_col1, #T_67cc2_row9_col2, #T_67cc2_row9_col3, #T_67cc2_row9_col4, #T_67cc2_row9_col5, #T_67cc2_row9_col6, #T_67cc2_row9_col7, #T_67cc2_row10_col0, #T_67cc2_row10_col1, #T_67cc2_row10_col2, #T_67cc2_row10_col3, #T_67cc2_row10_col4, #T_67cc2_row10_col5, #T_67cc2_row10_col6, #T_67cc2_row10_col7, #T_67cc2_row11_col0, #T_67cc2_row11_col1, #T_67cc2_row11_col2, #T_67cc2_row11_col3, #T_67cc2_row11_col4, #T_67cc2_row11_col5, #T_67cc2_row11_col6, #T_67cc2_row11_col7, #T_67cc2_row12_col0, #T_67cc2_row12_col1, #T_67cc2_row12_col2, #T_67cc2_row12_col3, #T_67cc2_row12_col4, #T_67cc2_row12_col5, #T_67cc2_row12_col6, #T_67cc2_row12_col7, #T_67cc2_row13_col0, #T_67cc2_row13_col1, #T_67cc2_row13_col2, #T_67cc2_row13_col3, #T_67cc2_row13_col4, #T_67cc2_row13_col5, #T_67cc2_row13_col6, #T_67cc2_row13_col7, #T_67cc2_row14_col0, #T_67cc2_row14_col1, #T_67cc2_row14_col2, #T_67cc2_row14_col3, #T_67cc2_row14_col4, #T_67cc2_row14_col5, #T_67cc2_row14_col6, #T_67cc2_row14_col7, #T_67cc2_row15_col0, #T_67cc2_row15_col1, #T_67cc2_row15_col2, #T_67cc2_row15_col3, #T_67cc2_row15_col4, #T_67cc2_row15_col5, #T_67cc2_row15_col6, #T_67cc2_row15_col7, #T_67cc2_row16_col0, #T_67cc2_row16_col1, #T_67cc2_row16_col2, #T_67cc2_row16_col3, #T_67cc2_row16_col4, #T_67cc2_row16_col5, #T_67cc2_row16_col6, #T_67cc2_row16_col7, #T_67cc2_row17_col0, #T_67cc2_row17_col1, #T_67cc2_row17_col2, #T_67cc2_row17_col3, #T_67cc2_row17_col4, #T_67cc2_row17_col5, #T_67cc2_row17_col6, #T_67cc2_row17_col7, #T_67cc2_row18_col0, #T_67cc2_row18_col1, #T_67cc2_row18_col2, #T_67cc2_row18_col3, #T_67cc2_row18_col4, #T_67cc2_row18_col5, #T_67cc2_row18_col6, #T_67cc2_row18_col7, #T_67cc2_row19_col0, #T_67cc2_row19_col1, #T_67cc2_row19_col2, #T_67cc2_row19_col3, #T_67cc2_row19_col4, #T_67cc2_row19_col5, #T_67cc2_row19_col6, #T_67cc2_row19_col7, #T_67cc2_row20_col0, #T_67cc2_row20_col1, #T_67cc2_row20_col2, #T_67cc2_row20_col3, #T_67cc2_row20_col4, #T_67cc2_row20_col5, #T_67cc2_row20_col6, #T_67cc2_row20_col7, #T_67cc2_row21_col0, #T_67cc2_row21_col1, #T_67cc2_row21_col2, #T_67cc2_row21_col3, #T_67cc2_row21_col4, #T_67cc2_row21_col5, #T_67cc2_row21_col6, #T_67cc2_row21_col7, #T_67cc2_row22_col0, #T_67cc2_row22_col1, #T_67cc2_row22_col2, #T_67cc2_row22_col3, #T_67cc2_row22_col4, #T_67cc2_row22_col5, #T_67cc2_row22_col6, #T_67cc2_row22_col7, #T_67cc2_row23_col0, #T_67cc2_row23_col1, #T_67cc2_row23_col2, #T_67cc2_row23_col3, #T_67cc2_row23_col4, #T_67cc2_row23_col5, #T_67cc2_row23_col6, #T_67cc2_row23_col7 {\n",
       "  text-align: left;\n",
       "}\n",
       "#T_67cc2_row0_col5, #T_67cc2_row1_col2, #T_67cc2_row1_col6, #T_67cc2_row1_col7, #T_67cc2_row7_col1, #T_67cc2_row7_col3, #T_67cc2_row7_col4 {\n",
       "  text-align: left;\n",
       "  background-color: yellow;\n",
       "}\n",
       "#T_67cc2_row0_col8, #T_67cc2_row1_col8, #T_67cc2_row2_col8, #T_67cc2_row3_col8, #T_67cc2_row4_col8, #T_67cc2_row6_col8, #T_67cc2_row7_col8, #T_67cc2_row8_col8, #T_67cc2_row9_col8, #T_67cc2_row10_col8, #T_67cc2_row11_col8, #T_67cc2_row12_col8, #T_67cc2_row13_col8, #T_67cc2_row14_col8, #T_67cc2_row15_col8, #T_67cc2_row16_col8, #T_67cc2_row17_col8, #T_67cc2_row18_col8, #T_67cc2_row19_col8, #T_67cc2_row20_col8, #T_67cc2_row21_col8, #T_67cc2_row22_col8, #T_67cc2_row23_col8 {\n",
       "  text-align: left;\n",
       "  background-color: lightgrey;\n",
       "}\n",
       "#T_67cc2_row5_col8 {\n",
       "  text-align: left;\n",
       "  background-color: yellow;\n",
       "  background-color: lightgrey;\n",
       "}\n",
       "</style>\n",
       "<table id=\"T_67cc2\">\n",
       "  <thead>\n",
       "    <tr>\n",
       "      <th class=\"blank level0\" >&nbsp;</th>\n",
       "      <th id=\"T_67cc2_level0_col0\" class=\"col_heading level0 col0\" >Model</th>\n",
       "      <th id=\"T_67cc2_level0_col1\" class=\"col_heading level0 col1\" >MASE</th>\n",
       "      <th id=\"T_67cc2_level0_col2\" class=\"col_heading level0 col2\" >RMSSE</th>\n",
       "      <th id=\"T_67cc2_level0_col3\" class=\"col_heading level0 col3\" >MAE</th>\n",
       "      <th id=\"T_67cc2_level0_col4\" class=\"col_heading level0 col4\" >RMSE</th>\n",
       "      <th id=\"T_67cc2_level0_col5\" class=\"col_heading level0 col5\" >MAPE</th>\n",
       "      <th id=\"T_67cc2_level0_col6\" class=\"col_heading level0 col6\" >SMAPE</th>\n",
       "      <th id=\"T_67cc2_level0_col7\" class=\"col_heading level0 col7\" >R2</th>\n",
       "      <th id=\"T_67cc2_level0_col8\" class=\"col_heading level0 col8\" >TT (Sec)</th>\n",
       "    </tr>\n",
       "  </thead>\n",
       "  <tbody>\n",
       "    <tr>\n",
       "      <th id=\"T_67cc2_level0_row0\" class=\"row_heading level0 row0\" >exp_smooth</th>\n",
       "      <td id=\"T_67cc2_row0_col0\" class=\"data row0 col0\" >Exponential Smoothing</td>\n",
       "      <td id=\"T_67cc2_row0_col1\" class=\"data row0 col1\" >0.8401</td>\n",
       "      <td id=\"T_67cc2_row0_col2\" class=\"data row0 col2\" >0.8162</td>\n",
       "      <td id=\"T_67cc2_row0_col3\" class=\"data row0 col3\" >354312.8147</td>\n",
       "      <td id=\"T_67cc2_row0_col4\" class=\"data row0 col4\" >451863.8861</td>\n",
       "      <td id=\"T_67cc2_row0_col5\" class=\"data row0 col5\" >1.0555</td>\n",
       "      <td id=\"T_67cc2_row0_col6\" class=\"data row0 col6\" >0.7390</td>\n",
       "      <td id=\"T_67cc2_row0_col7\" class=\"data row0 col7\" >-1.0524</td>\n",
       "      <td id=\"T_67cc2_row0_col8\" class=\"data row0 col8\" >0.0633</td>\n",
       "    </tr>\n",
       "    <tr>\n",
       "      <th id=\"T_67cc2_level0_row1\" class=\"row_heading level0 row1\" >theta</th>\n",
       "      <td id=\"T_67cc2_row1_col0\" class=\"data row1 col0\" >Theta Forecaster</td>\n",
       "      <td id=\"T_67cc2_row1_col1\" class=\"data row1 col1\" >0.7810</td>\n",
       "      <td id=\"T_67cc2_row1_col2\" class=\"data row1 col2\" >0.7393</td>\n",
       "      <td id=\"T_67cc2_row1_col3\" class=\"data row1 col3\" >329520.0477</td>\n",
       "      <td id=\"T_67cc2_row1_col4\" class=\"data row1 col4\" >410786.7195</td>\n",
       "      <td id=\"T_67cc2_row1_col5\" class=\"data row1 col5\" >1.2959</td>\n",
       "      <td id=\"T_67cc2_row1_col6\" class=\"data row1 col6\" >0.6352</td>\n",
       "      <td id=\"T_67cc2_row1_col7\" class=\"data row1 col7\" >-0.4580</td>\n",
       "      <td id=\"T_67cc2_row1_col8\" class=\"data row1 col8\" >0.0300</td>\n",
       "    </tr>\n",
       "    <tr>\n",
       "      <th id=\"T_67cc2_level0_row2\" class=\"row_heading level0 row2\" >ets</th>\n",
       "      <td id=\"T_67cc2_row2_col0\" class=\"data row2 col0\" >ETS</td>\n",
       "      <td id=\"T_67cc2_row2_col1\" class=\"data row2 col1\" >0.9000</td>\n",
       "      <td id=\"T_67cc2_row2_col2\" class=\"data row2 col2\" >0.8895</td>\n",
       "      <td id=\"T_67cc2_row2_col3\" class=\"data row2 col3\" >379795.4153</td>\n",
       "      <td id=\"T_67cc2_row2_col4\" class=\"data row2 col4\" >493746.8344</td>\n",
       "      <td id=\"T_67cc2_row2_col5\" class=\"data row2 col5\" >1.3030</td>\n",
       "      <td id=\"T_67cc2_row2_col6\" class=\"data row2 col6\" >0.6981</td>\n",
       "      <td id=\"T_67cc2_row2_col7\" class=\"data row2 col7\" >-1.1867</td>\n",
       "      <td id=\"T_67cc2_row2_col8\" class=\"data row2 col8\" >0.0433</td>\n",
       "    </tr>\n",
       "    <tr>\n",
       "      <th id=\"T_67cc2_level0_row3\" class=\"row_heading level0 row3\" >huber_cds_dt</th>\n",
       "      <td id=\"T_67cc2_row3_col0\" class=\"data row3 col0\" >Huber w/ Cond. Deseasonalize & Detrending</td>\n",
       "      <td id=\"T_67cc2_row3_col1\" class=\"data row3 col1\" >0.8640</td>\n",
       "      <td id=\"T_67cc2_row3_col2\" class=\"data row3 col2\" >0.8536</td>\n",
       "      <td id=\"T_67cc2_row3_col3\" class=\"data row3 col3\" >364269.9958</td>\n",
       "      <td id=\"T_67cc2_row3_col4\" class=\"data row3 col4\" >472746.6021</td>\n",
       "      <td id=\"T_67cc2_row3_col5\" class=\"data row3 col5\" >1.3989</td>\n",
       "      <td id=\"T_67cc2_row3_col6\" class=\"data row3 col6\" >0.6487</td>\n",
       "      <td id=\"T_67cc2_row3_col7\" class=\"data row3 col7\" >-1.2691</td>\n",
       "      <td id=\"T_67cc2_row3_col8\" class=\"data row3 col8\" >0.1133</td>\n",
       "    </tr>\n",
       "    <tr>\n",
       "      <th id=\"T_67cc2_level0_row4\" class=\"row_heading level0 row4\" >et_cds_dt</th>\n",
       "      <td id=\"T_67cc2_row4_col0\" class=\"data row4 col0\" >Extra Trees w/ Cond. Deseasonalize & Detrending</td>\n",
       "      <td id=\"T_67cc2_row4_col1\" class=\"data row4 col1\" >0.9541</td>\n",
       "      <td id=\"T_67cc2_row4_col2\" class=\"data row4 col2\" >0.9097</td>\n",
       "      <td id=\"T_67cc2_row4_col3\" class=\"data row4 col3\" >402128.1129</td>\n",
       "      <td id=\"T_67cc2_row4_col4\" class=\"data row4 col4\" >503172.0999</td>\n",
       "      <td id=\"T_67cc2_row4_col5\" class=\"data row4 col5\" >1.4071</td>\n",
       "      <td id=\"T_67cc2_row4_col6\" class=\"data row4 col6\" >0.7236</td>\n",
       "      <td id=\"T_67cc2_row4_col7\" class=\"data row4 col7\" >-1.6718</td>\n",
       "      <td id=\"T_67cc2_row4_col8\" class=\"data row4 col8\" >0.2500</td>\n",
       "    </tr>\n",
       "    <tr>\n",
       "      <th id=\"T_67cc2_level0_row5\" class=\"row_heading level0 row5\" >polytrend</th>\n",
       "      <td id=\"T_67cc2_row5_col0\" class=\"data row5 col0\" >Polynomial Trend Forecaster</td>\n",
       "      <td id=\"T_67cc2_row5_col1\" class=\"data row5 col1\" >0.8279</td>\n",
       "      <td id=\"T_67cc2_row5_col2\" class=\"data row5 col2\" >0.7749</td>\n",
       "      <td id=\"T_67cc2_row5_col3\" class=\"data row5 col3\" >349218.5489</td>\n",
       "      <td id=\"T_67cc2_row5_col4\" class=\"data row5 col4\" >430259.5189</td>\n",
       "      <td id=\"T_67cc2_row5_col5\" class=\"data row5 col5\" >1.4076</td>\n",
       "      <td id=\"T_67cc2_row5_col6\" class=\"data row5 col6\" >0.6573</td>\n",
       "      <td id=\"T_67cc2_row5_col7\" class=\"data row5 col7\" >-0.6417</td>\n",
       "      <td id=\"T_67cc2_row5_col8\" class=\"data row5 col8\" >0.0267</td>\n",
       "    </tr>\n",
       "    <tr>\n",
       "      <th id=\"T_67cc2_level0_row6\" class=\"row_heading level0 row6\" >rf_cds_dt</th>\n",
       "      <td id=\"T_67cc2_row6_col0\" class=\"data row6 col0\" >Random Forest w/ Cond. Deseasonalize & Detrending</td>\n",
       "      <td id=\"T_67cc2_row6_col1\" class=\"data row6 col1\" >0.9499</td>\n",
       "      <td id=\"T_67cc2_row6_col2\" class=\"data row6 col2\" >0.9048</td>\n",
       "      <td id=\"T_67cc2_row6_col3\" class=\"data row6 col3\" >400547.0723</td>\n",
       "      <td id=\"T_67cc2_row6_col4\" class=\"data row6 col4\" >501382.2824</td>\n",
       "      <td id=\"T_67cc2_row6_col5\" class=\"data row6 col5\" >1.4099</td>\n",
       "      <td id=\"T_67cc2_row6_col6\" class=\"data row6 col6\" >0.7073</td>\n",
       "      <td id=\"T_67cc2_row6_col7\" class=\"data row6 col7\" >-1.5627</td>\n",
       "      <td id=\"T_67cc2_row6_col8\" class=\"data row6 col8\" >0.2467</td>\n",
       "    </tr>\n",
       "    <tr>\n",
       "      <th id=\"T_67cc2_level0_row7\" class=\"row_heading level0 row7\" >auto_arima</th>\n",
       "      <td id=\"T_67cc2_row7_col0\" class=\"data row7 col0\" >Auto ARIMA</td>\n",
       "      <td id=\"T_67cc2_row7_col1\" class=\"data row7 col1\" >0.7729</td>\n",
       "      <td id=\"T_67cc2_row7_col2\" class=\"data row7 col2\" >0.7399</td>\n",
       "      <td id=\"T_67cc2_row7_col3\" class=\"data row7 col3\" >325586.7817</td>\n",
       "      <td id=\"T_67cc2_row7_col4\" class=\"data row7 col4\" >408782.8273</td>\n",
       "      <td id=\"T_67cc2_row7_col5\" class=\"data row7 col5\" >1.4118</td>\n",
       "      <td id=\"T_67cc2_row7_col6\" class=\"data row7 col6\" >0.6417</td>\n",
       "      <td id=\"T_67cc2_row7_col7\" class=\"data row7 col7\" >-0.7269</td>\n",
       "      <td id=\"T_67cc2_row7_col8\" class=\"data row7 col8\" >0.2933</td>\n",
       "    </tr>\n",
       "    <tr>\n",
       "      <th id=\"T_67cc2_level0_row8\" class=\"row_heading level0 row8\" >en_cds_dt</th>\n",
       "      <td id=\"T_67cc2_row8_col0\" class=\"data row8 col0\" >Elastic Net w/ Cond. Deseasonalize & Detrending</td>\n",
       "      <td id=\"T_67cc2_row8_col1\" class=\"data row8 col1\" >0.8847</td>\n",
       "      <td id=\"T_67cc2_row8_col2\" class=\"data row8 col2\" >0.8477</td>\n",
       "      <td id=\"T_67cc2_row8_col3\" class=\"data row8 col3\" >372960.1400</td>\n",
       "      <td id=\"T_67cc2_row8_col4\" class=\"data row8 col4\" >469303.9807</td>\n",
       "      <td id=\"T_67cc2_row8_col5\" class=\"data row8 col5\" >1.4239</td>\n",
       "      <td id=\"T_67cc2_row8_col6\" class=\"data row8 col6\" >0.6711</td>\n",
       "      <td id=\"T_67cc2_row8_col7\" class=\"data row8 col7\" >-1.2694</td>\n",
       "      <td id=\"T_67cc2_row8_col8\" class=\"data row8 col8\" >0.0967</td>\n",
       "    </tr>\n",
       "    <tr>\n",
       "      <th id=\"T_67cc2_level0_row9\" class=\"row_heading level0 row9\" >lasso_cds_dt</th>\n",
       "      <td id=\"T_67cc2_row9_col0\" class=\"data row9 col0\" >Lasso w/ Cond. Deseasonalize & Detrending</td>\n",
       "      <td id=\"T_67cc2_row9_col1\" class=\"data row9 col1\" >0.8847</td>\n",
       "      <td id=\"T_67cc2_row9_col2\" class=\"data row9 col2\" >0.8477</td>\n",
       "      <td id=\"T_67cc2_row9_col3\" class=\"data row9 col3\" >372960.1400</td>\n",
       "      <td id=\"T_67cc2_row9_col4\" class=\"data row9 col4\" >469303.9807</td>\n",
       "      <td id=\"T_67cc2_row9_col5\" class=\"data row9 col5\" >1.4239</td>\n",
       "      <td id=\"T_67cc2_row9_col6\" class=\"data row9 col6\" >0.6711</td>\n",
       "      <td id=\"T_67cc2_row9_col7\" class=\"data row9 col7\" >-1.2694</td>\n",
       "      <td id=\"T_67cc2_row9_col8\" class=\"data row9 col8\" >0.1000</td>\n",
       "    </tr>\n",
       "    <tr>\n",
       "      <th id=\"T_67cc2_level0_row10\" class=\"row_heading level0 row10\" >lr_cds_dt</th>\n",
       "      <td id=\"T_67cc2_row10_col0\" class=\"data row10 col0\" >Linear w/ Cond. Deseasonalize & Detrending</td>\n",
       "      <td id=\"T_67cc2_row10_col1\" class=\"data row10 col1\" >0.8847</td>\n",
       "      <td id=\"T_67cc2_row10_col2\" class=\"data row10 col2\" >0.8477</td>\n",
       "      <td id=\"T_67cc2_row10_col3\" class=\"data row10 col3\" >372960.1400</td>\n",
       "      <td id=\"T_67cc2_row10_col4\" class=\"data row10 col4\" >469303.9807</td>\n",
       "      <td id=\"T_67cc2_row10_col5\" class=\"data row10 col5\" >1.4239</td>\n",
       "      <td id=\"T_67cc2_row10_col6\" class=\"data row10 col6\" >0.6711</td>\n",
       "      <td id=\"T_67cc2_row10_col7\" class=\"data row10 col7\" >-1.2694</td>\n",
       "      <td id=\"T_67cc2_row10_col8\" class=\"data row10 col8\" >0.1033</td>\n",
       "    </tr>\n",
       "    <tr>\n",
       "      <th id=\"T_67cc2_level0_row11\" class=\"row_heading level0 row11\" >ridge_cds_dt</th>\n",
       "      <td id=\"T_67cc2_row11_col0\" class=\"data row11 col0\" >Ridge w/ Cond. Deseasonalize & Detrending</td>\n",
       "      <td id=\"T_67cc2_row11_col1\" class=\"data row11 col1\" >0.8847</td>\n",
       "      <td id=\"T_67cc2_row11_col2\" class=\"data row11 col2\" >0.8477</td>\n",
       "      <td id=\"T_67cc2_row11_col3\" class=\"data row11 col3\" >372960.1400</td>\n",
       "      <td id=\"T_67cc2_row11_col4\" class=\"data row11 col4\" >469303.9807</td>\n",
       "      <td id=\"T_67cc2_row11_col5\" class=\"data row11 col5\" >1.4239</td>\n",
       "      <td id=\"T_67cc2_row11_col6\" class=\"data row11 col6\" >0.6711</td>\n",
       "      <td id=\"T_67cc2_row11_col7\" class=\"data row11 col7\" >-1.2694</td>\n",
       "      <td id=\"T_67cc2_row11_col8\" class=\"data row11 col8\" >0.0933</td>\n",
       "    </tr>\n",
       "    <tr>\n",
       "      <th id=\"T_67cc2_level0_row12\" class=\"row_heading level0 row12\" >llar_cds_dt</th>\n",
       "      <td id=\"T_67cc2_row12_col0\" class=\"data row12 col0\" >Lasso Least Angular Regressor w/ Cond. Deseasonalize & Detrending</td>\n",
       "      <td id=\"T_67cc2_row12_col1\" class=\"data row12 col1\" >0.8847</td>\n",
       "      <td id=\"T_67cc2_row12_col2\" class=\"data row12 col2\" >0.8477</td>\n",
       "      <td id=\"T_67cc2_row12_col3\" class=\"data row12 col3\" >372960.1400</td>\n",
       "      <td id=\"T_67cc2_row12_col4\" class=\"data row12 col4\" >469303.9807</td>\n",
       "      <td id=\"T_67cc2_row12_col5\" class=\"data row12 col5\" >1.4239</td>\n",
       "      <td id=\"T_67cc2_row12_col6\" class=\"data row12 col6\" >0.6711</td>\n",
       "      <td id=\"T_67cc2_row12_col7\" class=\"data row12 col7\" >-1.2694</td>\n",
       "      <td id=\"T_67cc2_row12_col8\" class=\"data row12 col8\" >0.0967</td>\n",
       "    </tr>\n",
       "    <tr>\n",
       "      <th id=\"T_67cc2_level0_row13\" class=\"row_heading level0 row13\" >omp_cds_dt</th>\n",
       "      <td id=\"T_67cc2_row13_col0\" class=\"data row13 col0\" >Orthogonal Matching Pursuit w/ Cond. Deseasonalize & Detrending</td>\n",
       "      <td id=\"T_67cc2_row13_col1\" class=\"data row13 col1\" >0.9213</td>\n",
       "      <td id=\"T_67cc2_row13_col2\" class=\"data row13 col2\" >0.8826</td>\n",
       "      <td id=\"T_67cc2_row13_col3\" class=\"data row13 col3\" >388483.1323</td>\n",
       "      <td id=\"T_67cc2_row13_col4\" class=\"data row13 col4\" >489041.3650</td>\n",
       "      <td id=\"T_67cc2_row13_col5\" class=\"data row13 col5\" >1.4295</td>\n",
       "      <td id=\"T_67cc2_row13_col6\" class=\"data row13 col6\" >0.6874</td>\n",
       "      <td id=\"T_67cc2_row13_col7\" class=\"data row13 col7\" >-1.3918</td>\n",
       "      <td id=\"T_67cc2_row13_col8\" class=\"data row13 col8\" >0.1033</td>\n",
       "    </tr>\n",
       "    <tr>\n",
       "      <th id=\"T_67cc2_level0_row14\" class=\"row_heading level0 row14\" >br_cds_dt</th>\n",
       "      <td id=\"T_67cc2_row14_col0\" class=\"data row14 col0\" >Bayesian Ridge w/ Cond. Deseasonalize & Detrending</td>\n",
       "      <td id=\"T_67cc2_row14_col1\" class=\"data row14 col1\" >0.9067</td>\n",
       "      <td id=\"T_67cc2_row14_col2\" class=\"data row14 col2\" >0.8721</td>\n",
       "      <td id=\"T_67cc2_row14_col3\" class=\"data row14 col3\" >382302.3860</td>\n",
       "      <td id=\"T_67cc2_row14_col4\" class=\"data row14 col4\" >483244.4045</td>\n",
       "      <td id=\"T_67cc2_row14_col5\" class=\"data row14 col5\" >1.4324</td>\n",
       "      <td id=\"T_67cc2_row14_col6\" class=\"data row14 col6\" >0.6801</td>\n",
       "      <td id=\"T_67cc2_row14_col7\" class=\"data row14 col7\" >-1.3225</td>\n",
       "      <td id=\"T_67cc2_row14_col8\" class=\"data row14 col8\" >0.0967</td>\n",
       "    </tr>\n",
       "    <tr>\n",
       "      <th id=\"T_67cc2_level0_row15\" class=\"row_heading level0 row15\" >gbr_cds_dt</th>\n",
       "      <td id=\"T_67cc2_row15_col0\" class=\"data row15 col0\" >Gradient Boosting w/ Cond. Deseasonalize & Detrending</td>\n",
       "      <td id=\"T_67cc2_row15_col1\" class=\"data row15 col1\" >0.9663</td>\n",
       "      <td id=\"T_67cc2_row15_col2\" class=\"data row15 col2\" >0.9229</td>\n",
       "      <td id=\"T_67cc2_row15_col3\" class=\"data row15 col3\" >407454.1285</td>\n",
       "      <td id=\"T_67cc2_row15_col4\" class=\"data row15 col4\" >511435.9415</td>\n",
       "      <td id=\"T_67cc2_row15_col5\" class=\"data row15 col5\" >1.4333</td>\n",
       "      <td id=\"T_67cc2_row15_col6\" class=\"data row15 col6\" >0.7104</td>\n",
       "      <td id=\"T_67cc2_row15_col7\" class=\"data row15 col7\" >-1.6123</td>\n",
       "      <td id=\"T_67cc2_row15_col8\" class=\"data row15 col8\" >0.1100</td>\n",
       "    </tr>\n",
       "    <tr>\n",
       "      <th id=\"T_67cc2_level0_row16\" class=\"row_heading level0 row16\" >lightgbm_cds_dt</th>\n",
       "      <td id=\"T_67cc2_row16_col0\" class=\"data row16 col0\" >Light Gradient Boosting w/ Cond. Deseasonalize & Detrending</td>\n",
       "      <td id=\"T_67cc2_row16_col1\" class=\"data row16 col1\" >0.9280</td>\n",
       "      <td id=\"T_67cc2_row16_col2\" class=\"data row16 col2\" >0.8902</td>\n",
       "      <td id=\"T_67cc2_row16_col3\" class=\"data row16 col3\" >391329.9550</td>\n",
       "      <td id=\"T_67cc2_row16_col4\" class=\"data row16 col4\" >493391.4865</td>\n",
       "      <td id=\"T_67cc2_row16_col5\" class=\"data row16 col5\" >1.4764</td>\n",
       "      <td id=\"T_67cc2_row16_col6\" class=\"data row16 col6\" >0.6959</td>\n",
       "      <td id=\"T_67cc2_row16_col7\" class=\"data row16 col7\" >-1.4124</td>\n",
       "      <td id=\"T_67cc2_row16_col8\" class=\"data row16 col8\" >0.1567</td>\n",
       "    </tr>\n",
       "    <tr>\n",
       "      <th id=\"T_67cc2_level0_row17\" class=\"row_heading level0 row17\" >knn_cds_dt</th>\n",
       "      <td id=\"T_67cc2_row17_col0\" class=\"data row17 col0\" >K Neighbors w/ Cond. Deseasonalize & Detrending</td>\n",
       "      <td id=\"T_67cc2_row17_col1\" class=\"data row17 col1\" >1.0525</td>\n",
       "      <td id=\"T_67cc2_row17_col2\" class=\"data row17 col2\" >0.9873</td>\n",
       "      <td id=\"T_67cc2_row17_col3\" class=\"data row17 col3\" >443709.1096</td>\n",
       "      <td id=\"T_67cc2_row17_col4\" class=\"data row17 col4\" >546321.9276</td>\n",
       "      <td id=\"T_67cc2_row17_col5\" class=\"data row17 col5\" >1.5322</td>\n",
       "      <td id=\"T_67cc2_row17_col6\" class=\"data row17 col6\" >0.7863</td>\n",
       "      <td id=\"T_67cc2_row17_col7\" class=\"data row17 col7\" >-2.0240</td>\n",
       "      <td id=\"T_67cc2_row17_col8\" class=\"data row17 col8\" >0.1967</td>\n",
       "    </tr>\n",
       "    <tr>\n",
       "      <th id=\"T_67cc2_level0_row18\" class=\"row_heading level0 row18\" >ada_cds_dt</th>\n",
       "      <td id=\"T_67cc2_row18_col0\" class=\"data row18 col0\" >AdaBoost w/ Cond. Deseasonalize & Detrending</td>\n",
       "      <td id=\"T_67cc2_row18_col1\" class=\"data row18 col1\" >0.9790</td>\n",
       "      <td id=\"T_67cc2_row18_col2\" class=\"data row18 col2\" >0.9461</td>\n",
       "      <td id=\"T_67cc2_row18_col3\" class=\"data row18 col3\" >412793.9752</td>\n",
       "      <td id=\"T_67cc2_row18_col4\" class=\"data row18 col4\" >523813.9655</td>\n",
       "      <td id=\"T_67cc2_row18_col5\" class=\"data row18 col5\" >1.5451</td>\n",
       "      <td id=\"T_67cc2_row18_col6\" class=\"data row18 col6\" >0.7108</td>\n",
       "      <td id=\"T_67cc2_row18_col7\" class=\"data row18 col7\" >-1.9635</td>\n",
       "      <td id=\"T_67cc2_row18_col8\" class=\"data row18 col8\" >0.1200</td>\n",
       "    </tr>\n",
       "    <tr>\n",
       "      <th id=\"T_67cc2_level0_row19\" class=\"row_heading level0 row19\" >snaive</th>\n",
       "      <td id=\"T_67cc2_row19_col0\" class=\"data row19 col0\" >Seasonal Naive Forecaster</td>\n",
       "      <td id=\"T_67cc2_row19_col1\" class=\"data row19 col1\" >0.9076</td>\n",
       "      <td id=\"T_67cc2_row19_col2\" class=\"data row19 col2\" >0.8701</td>\n",
       "      <td id=\"T_67cc2_row19_col3\" class=\"data row19 col3\" >382465.1998</td>\n",
       "      <td id=\"T_67cc2_row19_col4\" class=\"data row19 col4\" >480401.0914</td>\n",
       "      <td id=\"T_67cc2_row19_col5\" class=\"data row19 col5\" >1.6024</td>\n",
       "      <td id=\"T_67cc2_row19_col6\" class=\"data row19 col6\" >0.6874</td>\n",
       "      <td id=\"T_67cc2_row19_col7\" class=\"data row19 col7\" >-1.6495</td>\n",
       "      <td id=\"T_67cc2_row19_col8\" class=\"data row19 col8\" >0.0433</td>\n",
       "    </tr>\n",
       "    <tr>\n",
       "      <th id=\"T_67cc2_level0_row20\" class=\"row_heading level0 row20\" >arima</th>\n",
       "      <td id=\"T_67cc2_row20_col0\" class=\"data row20 col0\" >ARIMA</td>\n",
       "      <td id=\"T_67cc2_row20_col1\" class=\"data row20 col1\" >0.9574</td>\n",
       "      <td id=\"T_67cc2_row20_col2\" class=\"data row20 col2\" >0.9095</td>\n",
       "      <td id=\"T_67cc2_row20_col3\" class=\"data row20 col3\" >403554.7075</td>\n",
       "      <td id=\"T_67cc2_row20_col4\" class=\"data row20 col4\" >502487.3725</td>\n",
       "      <td id=\"T_67cc2_row20_col5\" class=\"data row20 col5\" >1.6492</td>\n",
       "      <td id=\"T_67cc2_row20_col6\" class=\"data row20 col6\" >0.6972</td>\n",
       "      <td id=\"T_67cc2_row20_col7\" class=\"data row20 col7\" >-1.9067</td>\n",
       "      <td id=\"T_67cc2_row20_col8\" class=\"data row20 col8\" >0.0400</td>\n",
       "    </tr>\n",
       "    <tr>\n",
       "      <th id=\"T_67cc2_level0_row21\" class=\"row_heading level0 row21\" >xgboost_cds_dt</th>\n",
       "      <td id=\"T_67cc2_row21_col0\" class=\"data row21 col0\" >Extreme Gradient Boosting w/ Cond. Deseasonalize & Detrending</td>\n",
       "      <td id=\"T_67cc2_row21_col1\" class=\"data row21 col1\" >1.1851</td>\n",
       "      <td id=\"T_67cc2_row21_col2\" class=\"data row21 col2\" >1.1321</td>\n",
       "      <td id=\"T_67cc2_row21_col3\" class=\"data row21 col3\" >499401.6816</td>\n",
       "      <td id=\"T_67cc2_row21_col4\" class=\"data row21 col4\" >625200.7544</td>\n",
       "      <td id=\"T_67cc2_row21_col5\" class=\"data row21 col5\" >1.7584</td>\n",
       "      <td id=\"T_67cc2_row21_col6\" class=\"data row21 col6\" >0.8786</td>\n",
       "      <td id=\"T_67cc2_row21_col7\" class=\"data row21 col7\" >-3.6759</td>\n",
       "      <td id=\"T_67cc2_row21_col8\" class=\"data row21 col8\" >0.5267</td>\n",
       "    </tr>\n",
       "    <tr>\n",
       "      <th id=\"T_67cc2_level0_row22\" class=\"row_heading level0 row22\" >dt_cds_dt</th>\n",
       "      <td id=\"T_67cc2_row22_col0\" class=\"data row22 col0\" >Decision Tree w/ Cond. Deseasonalize & Detrending</td>\n",
       "      <td id=\"T_67cc2_row22_col1\" class=\"data row22 col1\" >1.3147</td>\n",
       "      <td id=\"T_67cc2_row22_col2\" class=\"data row22 col2\" >1.2497</td>\n",
       "      <td id=\"T_67cc2_row22_col3\" class=\"data row22 col3\" >554496.2478</td>\n",
       "      <td id=\"T_67cc2_row22_col4\" class=\"data row22 col4\" >692934.6331</td>\n",
       "      <td id=\"T_67cc2_row22_col5\" class=\"data row22 col5\" >2.0682</td>\n",
       "      <td id=\"T_67cc2_row22_col6\" class=\"data row22 col6\" >0.9219</td>\n",
       "      <td id=\"T_67cc2_row22_col7\" class=\"data row22 col7\" >-3.5354</td>\n",
       "      <td id=\"T_67cc2_row22_col8\" class=\"data row22 col8\" >0.0933</td>\n",
       "    </tr>\n",
       "    <tr>\n",
       "      <th id=\"T_67cc2_level0_row23\" class=\"row_heading level0 row23\" >stlf</th>\n",
       "      <td id=\"T_67cc2_row23_col0\" class=\"data row23 col0\" >STLF</td>\n",
       "      <td id=\"T_67cc2_row23_col1\" class=\"data row23 col1\" >1.5920</td>\n",
       "      <td id=\"T_67cc2_row23_col2\" class=\"data row23 col2\" >1.5377</td>\n",
       "      <td id=\"T_67cc2_row23_col3\" class=\"data row23 col3\" >671169.4312</td>\n",
       "      <td id=\"T_67cc2_row23_col4\" class=\"data row23 col4\" >851225.5736</td>\n",
       "      <td id=\"T_67cc2_row23_col5\" class=\"data row23 col5\" >2.7098</td>\n",
       "      <td id=\"T_67cc2_row23_col6\" class=\"data row23 col6\" >0.8614</td>\n",
       "      <td id=\"T_67cc2_row23_col7\" class=\"data row23 col7\" >-6.5767</td>\n",
       "      <td id=\"T_67cc2_row23_col8\" class=\"data row23 col8\" >0.0333</td>\n",
       "    </tr>\n",
       "  </tbody>\n",
       "</table>\n"
      ],
      "text/plain": [
       "<pandas.io.formats.style.Styler at 0x1a6bd175eb0>"
      ]
     },
     "metadata": {},
     "output_type": "display_data"
    },
    {
     "data": {
      "text/html": [],
      "text/plain": [
       "<IPython.core.display.HTML object>"
      ]
     },
     "metadata": {},
     "output_type": "display_data"
    },
    {
     "data": {
      "application/vnd.plotly.v1+json": {
       "config": {
        "plotlyServerURL": "https://plot.ly"
       },
       "data": [
        {
         "line": {
          "color": "rgb(31, 119, 180)",
          "width": 2
         },
         "marker": {
          "color": "rgb(31, 119, 180)",
          "size": 5
         },
         "mode": "lines+markers",
         "name": "NET_SALES",
         "type": "scattergl",
         "x": [
          "2016-01-01T00:00:00",
          "2016-02-01T00:00:00",
          "2016-03-01T00:00:00",
          "2016-04-01T00:00:00",
          "2016-05-01T00:00:00",
          "2016-06-01T00:00:00",
          "2016-07-01T00:00:00",
          "2016-08-01T00:00:00",
          "2016-09-01T00:00:00",
          "2016-10-01T00:00:00",
          "2016-11-01T00:00:00",
          "2016-12-01T00:00:00",
          "2017-01-01T00:00:00",
          "2017-02-01T00:00:00",
          "2017-03-01T00:00:00",
          "2017-04-01T00:00:00",
          "2017-05-01T00:00:00",
          "2017-06-01T00:00:00",
          "2017-07-01T00:00:00",
          "2017-08-01T00:00:00",
          "2017-09-01T00:00:00",
          "2017-10-01T00:00:00",
          "2017-11-01T00:00:00",
          "2017-12-01T00:00:00",
          "2018-01-01T00:00:00",
          "2018-02-01T00:00:00",
          "2018-03-01T00:00:00",
          "2018-04-01T00:00:00",
          "2018-05-01T00:00:00",
          "2018-06-01T00:00:00",
          "2018-07-01T00:00:00",
          "2018-08-01T00:00:00",
          "2018-09-01T00:00:00",
          "2018-10-01T00:00:00",
          "2018-11-01T00:00:00",
          "2018-12-01T00:00:00",
          "2019-01-01T00:00:00",
          "2019-02-01T00:00:00",
          "2019-03-01T00:00:00",
          "2019-04-01T00:00:00",
          "2019-05-01T00:00:00",
          "2019-06-01T00:00:00",
          "2019-07-01T00:00:00",
          "2019-08-01T00:00:00",
          "2019-09-01T00:00:00",
          "2019-10-01T00:00:00",
          "2019-11-01T00:00:00",
          "2019-12-01T00:00:00",
          "2020-01-01T00:00:00",
          "2020-02-01T00:00:00",
          "2020-03-01T00:00:00",
          "2020-04-01T00:00:00",
          "2020-05-01T00:00:00",
          "2020-06-01T00:00:00",
          "2020-07-01T00:00:00",
          "2020-08-01T00:00:00",
          "2020-09-01T00:00:00",
          "2020-10-01T00:00:00",
          "2020-11-01T00:00:00",
          "2020-12-01T00:00:00",
          "2021-01-01T00:00:00",
          "2021-02-01T00:00:00",
          "2021-03-01T00:00:00",
          "2021-04-01T00:00:00",
          "2021-05-01T00:00:00",
          "2021-06-01T00:00:00",
          "2021-07-01T00:00:00",
          "2021-08-01T00:00:00",
          "2021-09-01T00:00:00",
          "2021-10-01T00:00:00",
          "2021-11-01T00:00:00",
          "2021-12-01T00:00:00",
          "2022-01-01T00:00:00",
          "2022-02-01T00:00:00",
          "2022-03-01T00:00:00",
          "2022-04-01T00:00:00",
          "2022-05-01T00:00:00",
          "2022-06-01T00:00:00",
          "2022-07-01T00:00:00",
          "2022-08-01T00:00:00",
          "2022-09-01T00:00:00",
          "2022-10-01T00:00:00",
          "2022-11-01T00:00:00",
          "2022-12-01T00:00:00"
         ],
         "xaxis": "x",
         "y": [
          384844.227807569,
          -7121.489451039991,
          366298.481228096,
          1003713.6793008938,
          342562.68724519457,
          545822.9499502177,
          335202.8036371499,
          1000974.4861366081,
          -11353.067400037253,
          1348092.3668032705,
          672112.8224062498,
          833116.1819682447,
          642657.2243829187,
          342257.4576597375,
          1233035.2817007597,
          725281.1882246038,
          363593.7267410959,
          323027.7500093527,
          212235.86474501013,
          861567.4562538636,
          618111.2337662316,
          200530.0493150677,
          1997976.010977515,
          -75651.39455965479,
          480187.9768933253,
          442284.9946712102,
          297176.3837148837,
          1717235.498071614,
          506761.52994599007,
          141816.48767873345,
          459029.35406097234,
          567787.9663933504,
          748955.5488395244,
          423008.2400042764,
          1369457.6976484307,
          999200.3000494398,
          -293150.01470662886,
          538153.58756471,
          473019.7808445824,
          1764560.0943542074,
          1053060.9323638561,
          -101332.12895218228,
          168884.07281356415,
          919804.6760740647,
          1168598.211591682,
          603506.8684695731,
          864926.9308355022,
          562365.781719656,
          221039.07810600745,
          626632.1077261574,
          486534.90071898256,
          385796.25126113853,
          286972.49978937046,
          529740.7713995758,
          -345643.44630196004,
          663599.0865297221,
          792028.840168631,
          494815.94373219914,
          555304.8351518577,
          301960.8718448067,
          103960.95656108516,
          90160.19819776023,
          430807.80602455925,
          852722.0106951887,
          396379.3168662643,
          112851.60236121705,
          121277.2832399138,
          740919.3084865287,
          330331.72065712826,
          408248.46180132136,
          401277.28303723386,
          647011.7806411115,
          181286.74444976568,
          156025.85886767154,
          157779.34939758974,
          786379.0078565711,
          298447.7183871416,
          400290.88961370906,
          53509.7638108496,
          469766.5557739544,
          45089.36435840138,
          484107.953474528,
          774791.1341352531,
          495830.83992505947
         ],
         "yaxis": "y"
        },
        {
         "line": {
          "color": "rgb(255, 127, 14)",
          "width": 2
         },
         "marker": {
          "color": "rgb(255, 127, 14)",
          "size": 5
         },
         "mode": "lines+markers",
         "name": "Exponential Smoothing",
         "type": "scattergl",
         "x": [
          "2016-01-01T00:00:00",
          "2016-02-01T00:00:00",
          "2016-03-01T00:00:00",
          "2016-04-01T00:00:00",
          "2016-05-01T00:00:00",
          "2016-06-01T00:00:00",
          "2016-07-01T00:00:00",
          "2016-08-01T00:00:00",
          "2016-09-01T00:00:00",
          "2016-10-01T00:00:00",
          "2016-11-01T00:00:00",
          "2016-12-01T00:00:00",
          "2017-01-01T00:00:00",
          "2017-02-01T00:00:00",
          "2017-03-01T00:00:00",
          "2017-04-01T00:00:00",
          "2017-05-01T00:00:00",
          "2017-06-01T00:00:00",
          "2017-07-01T00:00:00",
          "2017-08-01T00:00:00",
          "2017-09-01T00:00:00",
          "2017-10-01T00:00:00",
          "2017-11-01T00:00:00",
          "2017-12-01T00:00:00",
          "2018-01-01T00:00:00",
          "2018-02-01T00:00:00",
          "2018-03-01T00:00:00",
          "2018-04-01T00:00:00",
          "2018-05-01T00:00:00",
          "2018-06-01T00:00:00",
          "2018-07-01T00:00:00",
          "2018-08-01T00:00:00",
          "2018-09-01T00:00:00",
          "2018-10-01T00:00:00",
          "2018-11-01T00:00:00",
          "2018-12-01T00:00:00",
          "2019-01-01T00:00:00",
          "2019-02-01T00:00:00",
          "2019-03-01T00:00:00",
          "2019-04-01T00:00:00",
          "2019-05-01T00:00:00",
          "2019-06-01T00:00:00",
          "2019-07-01T00:00:00",
          "2019-08-01T00:00:00",
          "2019-09-01T00:00:00",
          "2019-10-01T00:00:00",
          "2019-11-01T00:00:00",
          "2019-12-01T00:00:00",
          "2020-01-01T00:00:00",
          "2020-02-01T00:00:00",
          "2020-03-01T00:00:00",
          "2020-04-01T00:00:00",
          "2020-05-01T00:00:00",
          "2020-06-01T00:00:00",
          "2020-07-01T00:00:00",
          "2020-08-01T00:00:00",
          "2020-09-01T00:00:00",
          "2020-10-01T00:00:00",
          "2020-11-01T00:00:00",
          "2020-12-01T00:00:00",
          "2021-01-01T00:00:00",
          "2021-02-01T00:00:00",
          "2021-03-01T00:00:00",
          "2021-04-01T00:00:00",
          "2021-05-01T00:00:00",
          "2021-06-01T00:00:00",
          "2021-07-01T00:00:00",
          "2021-08-01T00:00:00",
          "2021-09-01T00:00:00",
          "2021-10-01T00:00:00",
          "2021-11-01T00:00:00",
          "2021-12-01T00:00:00",
          "2022-01-01T00:00:00",
          "2022-02-01T00:00:00",
          "2022-03-01T00:00:00",
          "2022-04-01T00:00:00",
          "2022-05-01T00:00:00",
          "2022-06-01T00:00:00",
          "2022-07-01T00:00:00",
          "2022-08-01T00:00:00",
          "2022-09-01T00:00:00",
          "2022-10-01T00:00:00",
          "2022-11-01T00:00:00",
          "2022-12-01T00:00:00"
         ],
         "xaxis": "x",
         "y": [
          null,
          null,
          null,
          null,
          null,
          null,
          null,
          null,
          null,
          null,
          null,
          null,
          null,
          null,
          null,
          null,
          null,
          null,
          null,
          null,
          null,
          null,
          null,
          null,
          null,
          null,
          null,
          null,
          null,
          null,
          null,
          null,
          null,
          null,
          null,
          null,
          null,
          null,
          null,
          null,
          null,
          null,
          null,
          null,
          null,
          null,
          null,
          null,
          null,
          null,
          null,
          null,
          null,
          null,
          null,
          null,
          null,
          null,
          null,
          null,
          null,
          null,
          null,
          null,
          null,
          null,
          null,
          null,
          null,
          null,
          null,
          null,
          595857.2408,
          116975.5717,
          664063.9976,
          275128.6914,
          119992.021,
          587243.3299,
          108361.6608,
          655450.0867,
          266514.7806,
          111378.1102,
          578629.4191,
          99747.75
         ],
         "yaxis": "y"
        }
       ],
       "layout": {
        "showlegend": true,
        "template": {
         "data": {
          "bar": [
           {
            "error_x": {
             "color": "rgb(51,51,51)"
            },
            "error_y": {
             "color": "rgb(51,51,51)"
            },
            "marker": {
             "line": {
              "color": "rgb(237,237,237)",
              "width": 0.5
             },
             "pattern": {
              "fillmode": "overlay",
              "size": 10,
              "solidity": 0.2
             }
            },
            "type": "bar"
           }
          ],
          "barpolar": [
           {
            "marker": {
             "line": {
              "color": "rgb(237,237,237)",
              "width": 0.5
             },
             "pattern": {
              "fillmode": "overlay",
              "size": 10,
              "solidity": 0.2
             }
            },
            "type": "barpolar"
           }
          ],
          "carpet": [
           {
            "aaxis": {
             "endlinecolor": "rgb(51,51,51)",
             "gridcolor": "white",
             "linecolor": "white",
             "minorgridcolor": "white",
             "startlinecolor": "rgb(51,51,51)"
            },
            "baxis": {
             "endlinecolor": "rgb(51,51,51)",
             "gridcolor": "white",
             "linecolor": "white",
             "minorgridcolor": "white",
             "startlinecolor": "rgb(51,51,51)"
            },
            "type": "carpet"
           }
          ],
          "choropleth": [
           {
            "colorbar": {
             "outlinewidth": 0,
             "tickcolor": "rgb(237,237,237)",
             "ticklen": 6,
             "ticks": "inside"
            },
            "type": "choropleth"
           }
          ],
          "contour": [
           {
            "colorbar": {
             "outlinewidth": 0,
             "tickcolor": "rgb(237,237,237)",
             "ticklen": 6,
             "ticks": "inside"
            },
            "colorscale": [
             [
              0,
              "rgb(20,44,66)"
             ],
             [
              1,
              "rgb(90,179,244)"
             ]
            ],
            "type": "contour"
           }
          ],
          "contourcarpet": [
           {
            "colorbar": {
             "outlinewidth": 0,
             "tickcolor": "rgb(237,237,237)",
             "ticklen": 6,
             "ticks": "inside"
            },
            "type": "contourcarpet"
           }
          ],
          "heatmap": [
           {
            "colorbar": {
             "outlinewidth": 0,
             "tickcolor": "rgb(237,237,237)",
             "ticklen": 6,
             "ticks": "inside"
            },
            "colorscale": [
             [
              0,
              "rgb(20,44,66)"
             ],
             [
              1,
              "rgb(90,179,244)"
             ]
            ],
            "type": "heatmap"
           }
          ],
          "heatmapgl": [
           {
            "colorbar": {
             "outlinewidth": 0,
             "tickcolor": "rgb(237,237,237)",
             "ticklen": 6,
             "ticks": "inside"
            },
            "colorscale": [
             [
              0,
              "rgb(20,44,66)"
             ],
             [
              1,
              "rgb(90,179,244)"
             ]
            ],
            "type": "heatmapgl"
           }
          ],
          "histogram": [
           {
            "marker": {
             "pattern": {
              "fillmode": "overlay",
              "size": 10,
              "solidity": 0.2
             }
            },
            "type": "histogram"
           }
          ],
          "histogram2d": [
           {
            "colorbar": {
             "outlinewidth": 0,
             "tickcolor": "rgb(237,237,237)",
             "ticklen": 6,
             "ticks": "inside"
            },
            "colorscale": [
             [
              0,
              "rgb(20,44,66)"
             ],
             [
              1,
              "rgb(90,179,244)"
             ]
            ],
            "type": "histogram2d"
           }
          ],
          "histogram2dcontour": [
           {
            "colorbar": {
             "outlinewidth": 0,
             "tickcolor": "rgb(237,237,237)",
             "ticklen": 6,
             "ticks": "inside"
            },
            "colorscale": [
             [
              0,
              "rgb(20,44,66)"
             ],
             [
              1,
              "rgb(90,179,244)"
             ]
            ],
            "type": "histogram2dcontour"
           }
          ],
          "mesh3d": [
           {
            "colorbar": {
             "outlinewidth": 0,
             "tickcolor": "rgb(237,237,237)",
             "ticklen": 6,
             "ticks": "inside"
            },
            "type": "mesh3d"
           }
          ],
          "parcoords": [
           {
            "line": {
             "colorbar": {
              "outlinewidth": 0,
              "tickcolor": "rgb(237,237,237)",
              "ticklen": 6,
              "ticks": "inside"
             }
            },
            "type": "parcoords"
           }
          ],
          "pie": [
           {
            "automargin": true,
            "type": "pie"
           }
          ],
          "scatter": [
           {
            "fillpattern": {
             "fillmode": "overlay",
             "size": 10,
             "solidity": 0.2
            },
            "type": "scatter"
           }
          ],
          "scatter3d": [
           {
            "line": {
             "colorbar": {
              "outlinewidth": 0,
              "tickcolor": "rgb(237,237,237)",
              "ticklen": 6,
              "ticks": "inside"
             }
            },
            "marker": {
             "colorbar": {
              "outlinewidth": 0,
              "tickcolor": "rgb(237,237,237)",
              "ticklen": 6,
              "ticks": "inside"
             }
            },
            "type": "scatter3d"
           }
          ],
          "scattercarpet": [
           {
            "marker": {
             "colorbar": {
              "outlinewidth": 0,
              "tickcolor": "rgb(237,237,237)",
              "ticklen": 6,
              "ticks": "inside"
             }
            },
            "type": "scattercarpet"
           }
          ],
          "scattergeo": [
           {
            "marker": {
             "colorbar": {
              "outlinewidth": 0,
              "tickcolor": "rgb(237,237,237)",
              "ticklen": 6,
              "ticks": "inside"
             }
            },
            "type": "scattergeo"
           }
          ],
          "scattergl": [
           {
            "marker": {
             "colorbar": {
              "outlinewidth": 0,
              "tickcolor": "rgb(237,237,237)",
              "ticklen": 6,
              "ticks": "inside"
             }
            },
            "type": "scattergl"
           }
          ],
          "scattermapbox": [
           {
            "marker": {
             "colorbar": {
              "outlinewidth": 0,
              "tickcolor": "rgb(237,237,237)",
              "ticklen": 6,
              "ticks": "inside"
             }
            },
            "type": "scattermapbox"
           }
          ],
          "scatterpolar": [
           {
            "marker": {
             "colorbar": {
              "outlinewidth": 0,
              "tickcolor": "rgb(237,237,237)",
              "ticklen": 6,
              "ticks": "inside"
             }
            },
            "type": "scatterpolar"
           }
          ],
          "scatterpolargl": [
           {
            "marker": {
             "colorbar": {
              "outlinewidth": 0,
              "tickcolor": "rgb(237,237,237)",
              "ticklen": 6,
              "ticks": "inside"
             }
            },
            "type": "scatterpolargl"
           }
          ],
          "scatterternary": [
           {
            "marker": {
             "colorbar": {
              "outlinewidth": 0,
              "tickcolor": "rgb(237,237,237)",
              "ticklen": 6,
              "ticks": "inside"
             }
            },
            "type": "scatterternary"
           }
          ],
          "surface": [
           {
            "colorbar": {
             "outlinewidth": 0,
             "tickcolor": "rgb(237,237,237)",
             "ticklen": 6,
             "ticks": "inside"
            },
            "colorscale": [
             [
              0,
              "rgb(20,44,66)"
             ],
             [
              1,
              "rgb(90,179,244)"
             ]
            ],
            "type": "surface"
           }
          ],
          "table": [
           {
            "cells": {
             "fill": {
              "color": "rgb(237,237,237)"
             },
             "line": {
              "color": "white"
             }
            },
            "header": {
             "fill": {
              "color": "rgb(217,217,217)"
             },
             "line": {
              "color": "white"
             }
            },
            "type": "table"
           }
          ]
         },
         "layout": {
          "annotationdefaults": {
           "arrowhead": 0,
           "arrowwidth": 1
          },
          "autotypenumbers": "strict",
          "coloraxis": {
           "colorbar": {
            "outlinewidth": 0,
            "tickcolor": "rgb(237,237,237)",
            "ticklen": 6,
            "ticks": "inside"
           }
          },
          "colorscale": {
           "sequential": [
            [
             0,
             "rgb(20,44,66)"
            ],
            [
             1,
             "rgb(90,179,244)"
            ]
           ],
           "sequentialminus": [
            [
             0,
             "rgb(20,44,66)"
            ],
            [
             1,
             "rgb(90,179,244)"
            ]
           ]
          },
          "colorway": [
           "#F8766D",
           "#A3A500",
           "#00BF7D",
           "#00B0F6",
           "#E76BF3"
          ],
          "font": {
           "color": "rgb(51,51,51)"
          },
          "geo": {
           "bgcolor": "white",
           "lakecolor": "white",
           "landcolor": "rgb(237,237,237)",
           "showlakes": true,
           "showland": true,
           "subunitcolor": "white"
          },
          "hoverlabel": {
           "align": "left"
          },
          "hovermode": "closest",
          "paper_bgcolor": "white",
          "plot_bgcolor": "rgb(237,237,237)",
          "polar": {
           "angularaxis": {
            "gridcolor": "white",
            "linecolor": "white",
            "showgrid": true,
            "tickcolor": "rgb(51,51,51)",
            "ticks": "outside"
           },
           "bgcolor": "rgb(237,237,237)",
           "radialaxis": {
            "gridcolor": "white",
            "linecolor": "white",
            "showgrid": true,
            "tickcolor": "rgb(51,51,51)",
            "ticks": "outside"
           }
          },
          "scene": {
           "xaxis": {
            "backgroundcolor": "rgb(237,237,237)",
            "gridcolor": "white",
            "gridwidth": 2,
            "linecolor": "white",
            "showbackground": true,
            "showgrid": true,
            "tickcolor": "rgb(51,51,51)",
            "ticks": "outside",
            "zerolinecolor": "white"
           },
           "yaxis": {
            "backgroundcolor": "rgb(237,237,237)",
            "gridcolor": "white",
            "gridwidth": 2,
            "linecolor": "white",
            "showbackground": true,
            "showgrid": true,
            "tickcolor": "rgb(51,51,51)",
            "ticks": "outside",
            "zerolinecolor": "white"
           },
           "zaxis": {
            "backgroundcolor": "rgb(237,237,237)",
            "gridcolor": "white",
            "gridwidth": 2,
            "linecolor": "white",
            "showbackground": true,
            "showgrid": true,
            "tickcolor": "rgb(51,51,51)",
            "ticks": "outside",
            "zerolinecolor": "white"
           }
          },
          "shapedefaults": {
           "fillcolor": "black",
           "line": {
            "width": 0
           },
           "opacity": 0.3
          },
          "ternary": {
           "aaxis": {
            "gridcolor": "white",
            "linecolor": "white",
            "showgrid": true,
            "tickcolor": "rgb(51,51,51)",
            "ticks": "outside"
           },
           "baxis": {
            "gridcolor": "white",
            "linecolor": "white",
            "showgrid": true,
            "tickcolor": "rgb(51,51,51)",
            "ticks": "outside"
           },
           "bgcolor": "rgb(237,237,237)",
           "caxis": {
            "gridcolor": "white",
            "linecolor": "white",
            "showgrid": true,
            "tickcolor": "rgb(51,51,51)",
            "ticks": "outside"
           }
          },
          "xaxis": {
           "automargin": true,
           "gridcolor": "white",
           "linecolor": "white",
           "showgrid": true,
           "tickcolor": "rgb(51,51,51)",
           "ticks": "outside",
           "title": {
            "standoff": 15
           },
           "zerolinecolor": "white"
          },
          "yaxis": {
           "automargin": true,
           "gridcolor": "white",
           "linecolor": "white",
           "showgrid": true,
           "tickcolor": "rgb(51,51,51)",
           "ticks": "outside",
           "title": {
            "standoff": 15
           },
           "zerolinecolor": "white"
          }
         }
        },
        "title": {
         "text": "Actual vs. Forecast (Out-of-Sample)"
        },
        "xaxis": {
         "anchor": "y",
         "domain": [
          0,
          1
         ]
        },
        "yaxis": {
         "anchor": "x",
         "domain": [
          0,
          1
         ]
        }
       }
      }
     },
     "metadata": {},
     "output_type": "display_data"
    },
    {
     "data": {
      "text/html": [
       "<style type=\"text/css\">\n",
       "</style>\n",
       "<table id=\"T_08506\">\n",
       "  <thead>\n",
       "    <tr>\n",
       "      <th class=\"blank level0\" >&nbsp;</th>\n",
       "      <th id=\"T_08506_level0_col0\" class=\"col_heading level0 col0\" >Model</th>\n",
       "      <th id=\"T_08506_level0_col1\" class=\"col_heading level0 col1\" >MASE</th>\n",
       "      <th id=\"T_08506_level0_col2\" class=\"col_heading level0 col2\" >RMSSE</th>\n",
       "      <th id=\"T_08506_level0_col3\" class=\"col_heading level0 col3\" >MAE</th>\n",
       "      <th id=\"T_08506_level0_col4\" class=\"col_heading level0 col4\" >RMSE</th>\n",
       "      <th id=\"T_08506_level0_col5\" class=\"col_heading level0 col5\" >MAPE</th>\n",
       "      <th id=\"T_08506_level0_col6\" class=\"col_heading level0 col6\" >SMAPE</th>\n",
       "      <th id=\"T_08506_level0_col7\" class=\"col_heading level0 col7\" >R2</th>\n",
       "    </tr>\n",
       "  </thead>\n",
       "  <tbody>\n",
       "    <tr>\n",
       "      <th id=\"T_08506_level0_row0\" class=\"row_heading level0 row0\" >0</th>\n",
       "      <td id=\"T_08506_row0_col0\" class=\"data row0 col0\" >Exponential Smoothing</td>\n",
       "      <td id=\"T_08506_row0_col1\" class=\"data row0 col1\" >0.6900</td>\n",
       "      <td id=\"T_08506_row0_col2\" class=\"data row0 col2\" >0.6139</td>\n",
       "      <td id=\"T_08506_row0_col3\" class=\"data row0 col3\" >271958.2815</td>\n",
       "      <td id=\"T_08506_row0_col4\" class=\"data row0 col4\" >313408.3320</td>\n",
       "      <td id=\"T_08506_row0_col5\" class=\"data row0 col5\" >1.3012</td>\n",
       "      <td id=\"T_08506_row0_col6\" class=\"data row0 col6\" >0.8401</td>\n",
       "      <td id=\"T_08506_row0_col7\" class=\"data row0 col7\" >-0.6539</td>\n",
       "    </tr>\n",
       "  </tbody>\n",
       "</table>\n"
      ],
      "text/plain": [
       "<pandas.io.formats.style.Styler at 0x1a6c021b130>"
      ]
     },
     "metadata": {},
     "output_type": "display_data"
    },
    {
     "name": "stderr",
     "output_type": "stream",
     "text": [
      " 43%|████▎     | 6/14 [01:52<02:19, 17.49s/it]"
     ]
    },
    {
     "data": {
      "text/html": [
       "<style type=\"text/css\">\n",
       "#T_024ed_row25_col1, #T_024ed_row28_col1, #T_024ed_row31_col1 {\n",
       "  background-color: lightgreen;\n",
       "}\n",
       "</style>\n",
       "<table id=\"T_024ed\">\n",
       "  <thead>\n",
       "    <tr>\n",
       "      <th class=\"blank level0\" >&nbsp;</th>\n",
       "      <th id=\"T_024ed_level0_col0\" class=\"col_heading level0 col0\" >Description</th>\n",
       "      <th id=\"T_024ed_level0_col1\" class=\"col_heading level0 col1\" >Value</th>\n",
       "    </tr>\n",
       "  </thead>\n",
       "  <tbody>\n",
       "    <tr>\n",
       "      <th id=\"T_024ed_level0_row0\" class=\"row_heading level0 row0\" >0</th>\n",
       "      <td id=\"T_024ed_row0_col0\" class=\"data row0 col0\" >session_id</td>\n",
       "      <td id=\"T_024ed_row0_col1\" class=\"data row0 col1\" >123</td>\n",
       "    </tr>\n",
       "    <tr>\n",
       "      <th id=\"T_024ed_level0_row1\" class=\"row_heading level0 row1\" >1</th>\n",
       "      <td id=\"T_024ed_row1_col0\" class=\"data row1 col0\" >Target</td>\n",
       "      <td id=\"T_024ed_row1_col1\" class=\"data row1 col1\" >NET_SALES</td>\n",
       "    </tr>\n",
       "    <tr>\n",
       "      <th id=\"T_024ed_level0_row2\" class=\"row_heading level0 row2\" >2</th>\n",
       "      <td id=\"T_024ed_row2_col0\" class=\"data row2 col0\" >Approach</td>\n",
       "      <td id=\"T_024ed_row2_col1\" class=\"data row2 col1\" >Univariate</td>\n",
       "    </tr>\n",
       "    <tr>\n",
       "      <th id=\"T_024ed_level0_row3\" class=\"row_heading level0 row3\" >3</th>\n",
       "      <td id=\"T_024ed_row3_col0\" class=\"data row3 col0\" >Exogenous Variables</td>\n",
       "      <td id=\"T_024ed_row3_col1\" class=\"data row3 col1\" >Not Present</td>\n",
       "    </tr>\n",
       "    <tr>\n",
       "      <th id=\"T_024ed_level0_row4\" class=\"row_heading level0 row4\" >4</th>\n",
       "      <td id=\"T_024ed_row4_col0\" class=\"data row4 col0\" >Original data shape</td>\n",
       "      <td id=\"T_024ed_row4_col1\" class=\"data row4 col1\" >(84, 1)</td>\n",
       "    </tr>\n",
       "    <tr>\n",
       "      <th id=\"T_024ed_level0_row5\" class=\"row_heading level0 row5\" >5</th>\n",
       "      <td id=\"T_024ed_row5_col0\" class=\"data row5 col0\" >Transformed data shape</td>\n",
       "      <td id=\"T_024ed_row5_col1\" class=\"data row5 col1\" >(84, 1)</td>\n",
       "    </tr>\n",
       "    <tr>\n",
       "      <th id=\"T_024ed_level0_row6\" class=\"row_heading level0 row6\" >6</th>\n",
       "      <td id=\"T_024ed_row6_col0\" class=\"data row6 col0\" >Transformed train set shape</td>\n",
       "      <td id=\"T_024ed_row6_col1\" class=\"data row6 col1\" >(72, 1)</td>\n",
       "    </tr>\n",
       "    <tr>\n",
       "      <th id=\"T_024ed_level0_row7\" class=\"row_heading level0 row7\" >7</th>\n",
       "      <td id=\"T_024ed_row7_col0\" class=\"data row7 col0\" >Transformed test set shape</td>\n",
       "      <td id=\"T_024ed_row7_col1\" class=\"data row7 col1\" >(12, 1)</td>\n",
       "    </tr>\n",
       "    <tr>\n",
       "      <th id=\"T_024ed_level0_row8\" class=\"row_heading level0 row8\" >8</th>\n",
       "      <td id=\"T_024ed_row8_col0\" class=\"data row8 col0\" >Rows with missing values</td>\n",
       "      <td id=\"T_024ed_row8_col1\" class=\"data row8 col1\" >0.0%</td>\n",
       "    </tr>\n",
       "    <tr>\n",
       "      <th id=\"T_024ed_level0_row9\" class=\"row_heading level0 row9\" >9</th>\n",
       "      <td id=\"T_024ed_row9_col0\" class=\"data row9 col0\" >Fold Generator</td>\n",
       "      <td id=\"T_024ed_row9_col1\" class=\"data row9 col1\" >ExpandingWindowSplitter</td>\n",
       "    </tr>\n",
       "    <tr>\n",
       "      <th id=\"T_024ed_level0_row10\" class=\"row_heading level0 row10\" >10</th>\n",
       "      <td id=\"T_024ed_row10_col0\" class=\"data row10 col0\" >Fold Number</td>\n",
       "      <td id=\"T_024ed_row10_col1\" class=\"data row10 col1\" >3</td>\n",
       "    </tr>\n",
       "    <tr>\n",
       "      <th id=\"T_024ed_level0_row11\" class=\"row_heading level0 row11\" >11</th>\n",
       "      <td id=\"T_024ed_row11_col0\" class=\"data row11 col0\" >Enforce Prediction Interval</td>\n",
       "      <td id=\"T_024ed_row11_col1\" class=\"data row11 col1\" >False</td>\n",
       "    </tr>\n",
       "    <tr>\n",
       "      <th id=\"T_024ed_level0_row12\" class=\"row_heading level0 row12\" >12</th>\n",
       "      <td id=\"T_024ed_row12_col0\" class=\"data row12 col0\" >Splits used for hyperparameters</td>\n",
       "      <td id=\"T_024ed_row12_col1\" class=\"data row12 col1\" >all</td>\n",
       "    </tr>\n",
       "    <tr>\n",
       "      <th id=\"T_024ed_level0_row13\" class=\"row_heading level0 row13\" >13</th>\n",
       "      <td id=\"T_024ed_row13_col0\" class=\"data row13 col0\" >User Defined Seasonal Period(s)</td>\n",
       "      <td id=\"T_024ed_row13_col1\" class=\"data row13 col1\" >None</td>\n",
       "    </tr>\n",
       "    <tr>\n",
       "      <th id=\"T_024ed_level0_row14\" class=\"row_heading level0 row14\" >14</th>\n",
       "      <td id=\"T_024ed_row14_col0\" class=\"data row14 col0\" >Ignore Seasonality Test</td>\n",
       "      <td id=\"T_024ed_row14_col1\" class=\"data row14 col1\" >False</td>\n",
       "    </tr>\n",
       "    <tr>\n",
       "      <th id=\"T_024ed_level0_row15\" class=\"row_heading level0 row15\" >15</th>\n",
       "      <td id=\"T_024ed_row15_col0\" class=\"data row15 col0\" >Seasonality Detection Algo</td>\n",
       "      <td id=\"T_024ed_row15_col1\" class=\"data row15 col1\" >auto</td>\n",
       "    </tr>\n",
       "    <tr>\n",
       "      <th id=\"T_024ed_level0_row16\" class=\"row_heading level0 row16\" >16</th>\n",
       "      <td id=\"T_024ed_row16_col0\" class=\"data row16 col0\" >Max Period to Consider</td>\n",
       "      <td id=\"T_024ed_row16_col1\" class=\"data row16 col1\" >60</td>\n",
       "    </tr>\n",
       "    <tr>\n",
       "      <th id=\"T_024ed_level0_row17\" class=\"row_heading level0 row17\" >17</th>\n",
       "      <td id=\"T_024ed_row17_col0\" class=\"data row17 col0\" >Seasonal Period(s) Tested</td>\n",
       "      <td id=\"T_024ed_row17_col1\" class=\"data row17 col1\" >[12]</td>\n",
       "    </tr>\n",
       "    <tr>\n",
       "      <th id=\"T_024ed_level0_row18\" class=\"row_heading level0 row18\" >18</th>\n",
       "      <td id=\"T_024ed_row18_col0\" class=\"data row18 col0\" >Significant Seasonal Period(s)</td>\n",
       "      <td id=\"T_024ed_row18_col1\" class=\"data row18 col1\" >[12]</td>\n",
       "    </tr>\n",
       "    <tr>\n",
       "      <th id=\"T_024ed_level0_row19\" class=\"row_heading level0 row19\" >19</th>\n",
       "      <td id=\"T_024ed_row19_col0\" class=\"data row19 col0\" >Significant Seasonal Period(s) without Harmonics</td>\n",
       "      <td id=\"T_024ed_row19_col1\" class=\"data row19 col1\" >[12]</td>\n",
       "    </tr>\n",
       "    <tr>\n",
       "      <th id=\"T_024ed_level0_row20\" class=\"row_heading level0 row20\" >20</th>\n",
       "      <td id=\"T_024ed_row20_col0\" class=\"data row20 col0\" >Remove Harmonics</td>\n",
       "      <td id=\"T_024ed_row20_col1\" class=\"data row20 col1\" >False</td>\n",
       "    </tr>\n",
       "    <tr>\n",
       "      <th id=\"T_024ed_level0_row21\" class=\"row_heading level0 row21\" >21</th>\n",
       "      <td id=\"T_024ed_row21_col0\" class=\"data row21 col0\" >Harmonics Order Method</td>\n",
       "      <td id=\"T_024ed_row21_col1\" class=\"data row21 col1\" >harmonic_max</td>\n",
       "    </tr>\n",
       "    <tr>\n",
       "      <th id=\"T_024ed_level0_row22\" class=\"row_heading level0 row22\" >22</th>\n",
       "      <td id=\"T_024ed_row22_col0\" class=\"data row22 col0\" >Num Seasonalities to Use</td>\n",
       "      <td id=\"T_024ed_row22_col1\" class=\"data row22 col1\" >1</td>\n",
       "    </tr>\n",
       "    <tr>\n",
       "      <th id=\"T_024ed_level0_row23\" class=\"row_heading level0 row23\" >23</th>\n",
       "      <td id=\"T_024ed_row23_col0\" class=\"data row23 col0\" >All Seasonalities to Use</td>\n",
       "      <td id=\"T_024ed_row23_col1\" class=\"data row23 col1\" >[12]</td>\n",
       "    </tr>\n",
       "    <tr>\n",
       "      <th id=\"T_024ed_level0_row24\" class=\"row_heading level0 row24\" >24</th>\n",
       "      <td id=\"T_024ed_row24_col0\" class=\"data row24 col0\" >Primary Seasonality</td>\n",
       "      <td id=\"T_024ed_row24_col1\" class=\"data row24 col1\" >12</td>\n",
       "    </tr>\n",
       "    <tr>\n",
       "      <th id=\"T_024ed_level0_row25\" class=\"row_heading level0 row25\" >25</th>\n",
       "      <td id=\"T_024ed_row25_col0\" class=\"data row25 col0\" >Seasonality Present</td>\n",
       "      <td id=\"T_024ed_row25_col1\" class=\"data row25 col1\" >True</td>\n",
       "    </tr>\n",
       "    <tr>\n",
       "      <th id=\"T_024ed_level0_row26\" class=\"row_heading level0 row26\" >26</th>\n",
       "      <td id=\"T_024ed_row26_col0\" class=\"data row26 col0\" >Seasonality Type</td>\n",
       "      <td id=\"T_024ed_row26_col1\" class=\"data row26 col1\" >add</td>\n",
       "    </tr>\n",
       "    <tr>\n",
       "      <th id=\"T_024ed_level0_row27\" class=\"row_heading level0 row27\" >27</th>\n",
       "      <td id=\"T_024ed_row27_col0\" class=\"data row27 col0\" >Target Strictly Positive</td>\n",
       "      <td id=\"T_024ed_row27_col1\" class=\"data row27 col1\" >False</td>\n",
       "    </tr>\n",
       "    <tr>\n",
       "      <th id=\"T_024ed_level0_row28\" class=\"row_heading level0 row28\" >28</th>\n",
       "      <td id=\"T_024ed_row28_col0\" class=\"data row28 col0\" >Target White Noise</td>\n",
       "      <td id=\"T_024ed_row28_col1\" class=\"data row28 col1\" >Yes</td>\n",
       "    </tr>\n",
       "    <tr>\n",
       "      <th id=\"T_024ed_level0_row29\" class=\"row_heading level0 row29\" >29</th>\n",
       "      <td id=\"T_024ed_row29_col0\" class=\"data row29 col0\" >Recommended d</td>\n",
       "      <td id=\"T_024ed_row29_col1\" class=\"data row29 col1\" >1</td>\n",
       "    </tr>\n",
       "    <tr>\n",
       "      <th id=\"T_024ed_level0_row30\" class=\"row_heading level0 row30\" >30</th>\n",
       "      <td id=\"T_024ed_row30_col0\" class=\"data row30 col0\" >Recommended Seasonal D</td>\n",
       "      <td id=\"T_024ed_row30_col1\" class=\"data row30 col1\" >0</td>\n",
       "    </tr>\n",
       "    <tr>\n",
       "      <th id=\"T_024ed_level0_row31\" class=\"row_heading level0 row31\" >31</th>\n",
       "      <td id=\"T_024ed_row31_col0\" class=\"data row31 col0\" >Preprocess</td>\n",
       "      <td id=\"T_024ed_row31_col1\" class=\"data row31 col1\" >True</td>\n",
       "    </tr>\n",
       "    <tr>\n",
       "      <th id=\"T_024ed_level0_row32\" class=\"row_heading level0 row32\" >32</th>\n",
       "      <td id=\"T_024ed_row32_col0\" class=\"data row32 col0\" >Numerical Imputation (Target)</td>\n",
       "      <td id=\"T_024ed_row32_col1\" class=\"data row32 col1\" >mean</td>\n",
       "    </tr>\n",
       "    <tr>\n",
       "      <th id=\"T_024ed_level0_row33\" class=\"row_heading level0 row33\" >33</th>\n",
       "      <td id=\"T_024ed_row33_col0\" class=\"data row33 col0\" >Transformation (Target)</td>\n",
       "      <td id=\"T_024ed_row33_col1\" class=\"data row33 col1\" >None</td>\n",
       "    </tr>\n",
       "    <tr>\n",
       "      <th id=\"T_024ed_level0_row34\" class=\"row_heading level0 row34\" >34</th>\n",
       "      <td id=\"T_024ed_row34_col0\" class=\"data row34 col0\" >Scaling (Target)</td>\n",
       "      <td id=\"T_024ed_row34_col1\" class=\"data row34 col1\" >None</td>\n",
       "    </tr>\n",
       "    <tr>\n",
       "      <th id=\"T_024ed_level0_row35\" class=\"row_heading level0 row35\" >35</th>\n",
       "      <td id=\"T_024ed_row35_col0\" class=\"data row35 col0\" >Feature Engineering (Target) - Reduced Regression</td>\n",
       "      <td id=\"T_024ed_row35_col1\" class=\"data row35 col1\" >False</td>\n",
       "    </tr>\n",
       "    <tr>\n",
       "      <th id=\"T_024ed_level0_row36\" class=\"row_heading level0 row36\" >36</th>\n",
       "      <td id=\"T_024ed_row36_col0\" class=\"data row36 col0\" >CPU Jobs</td>\n",
       "      <td id=\"T_024ed_row36_col1\" class=\"data row36 col1\" >-1</td>\n",
       "    </tr>\n",
       "    <tr>\n",
       "      <th id=\"T_024ed_level0_row37\" class=\"row_heading level0 row37\" >37</th>\n",
       "      <td id=\"T_024ed_row37_col0\" class=\"data row37 col0\" >Use GPU</td>\n",
       "      <td id=\"T_024ed_row37_col1\" class=\"data row37 col1\" >False</td>\n",
       "    </tr>\n",
       "    <tr>\n",
       "      <th id=\"T_024ed_level0_row38\" class=\"row_heading level0 row38\" >38</th>\n",
       "      <td id=\"T_024ed_row38_col0\" class=\"data row38 col0\" >Log Experiment</td>\n",
       "      <td id=\"T_024ed_row38_col1\" class=\"data row38 col1\" >False</td>\n",
       "    </tr>\n",
       "    <tr>\n",
       "      <th id=\"T_024ed_level0_row39\" class=\"row_heading level0 row39\" >39</th>\n",
       "      <td id=\"T_024ed_row39_col0\" class=\"data row39 col0\" >Experiment Name</td>\n",
       "      <td id=\"T_024ed_row39_col1\" class=\"data row39 col1\" >ts-default-name</td>\n",
       "    </tr>\n",
       "    <tr>\n",
       "      <th id=\"T_024ed_level0_row40\" class=\"row_heading level0 row40\" >40</th>\n",
       "      <td id=\"T_024ed_row40_col0\" class=\"data row40 col0\" >USI</td>\n",
       "      <td id=\"T_024ed_row40_col1\" class=\"data row40 col1\" >ef24</td>\n",
       "    </tr>\n",
       "  </tbody>\n",
       "</table>\n"
      ],
      "text/plain": [
       "<pandas.io.formats.style.Styler at 0x1a6c02100d0>"
      ]
     },
     "metadata": {},
     "output_type": "display_data"
    },
    {
     "data": {
      "text/html": [],
      "text/plain": [
       "<IPython.core.display.HTML object>"
      ]
     },
     "metadata": {},
     "output_type": "display_data"
    },
    {
     "data": {
      "text/html": [
       "<style type=\"text/css\">\n",
       "#T_4691a th {\n",
       "  text-align: left;\n",
       "}\n",
       "#T_4691a_row0_col0, #T_4691a_row0_col1, #T_4691a_row0_col2, #T_4691a_row0_col3, #T_4691a_row0_col4, #T_4691a_row0_col6, #T_4691a_row0_col7, #T_4691a_row1_col0, #T_4691a_row1_col2, #T_4691a_row1_col5, #T_4691a_row1_col6, #T_4691a_row1_col7, #T_4691a_row2_col0, #T_4691a_row2_col1, #T_4691a_row2_col2, #T_4691a_row2_col3, #T_4691a_row2_col4, #T_4691a_row2_col5, #T_4691a_row2_col6, #T_4691a_row2_col7, #T_4691a_row3_col0, #T_4691a_row3_col1, #T_4691a_row3_col2, #T_4691a_row3_col3, #T_4691a_row3_col4, #T_4691a_row3_col5, #T_4691a_row3_col6, #T_4691a_row3_col7, #T_4691a_row4_col0, #T_4691a_row4_col1, #T_4691a_row4_col2, #T_4691a_row4_col3, #T_4691a_row4_col4, #T_4691a_row4_col5, #T_4691a_row4_col6, #T_4691a_row4_col7, #T_4691a_row5_col0, #T_4691a_row5_col1, #T_4691a_row5_col3, #T_4691a_row5_col4, #T_4691a_row5_col5, #T_4691a_row5_col6, #T_4691a_row5_col7, #T_4691a_row6_col0, #T_4691a_row6_col1, #T_4691a_row6_col2, #T_4691a_row6_col3, #T_4691a_row6_col4, #T_4691a_row6_col5, #T_4691a_row6_col6, #T_4691a_row6_col7, #T_4691a_row7_col0, #T_4691a_row7_col1, #T_4691a_row7_col2, #T_4691a_row7_col3, #T_4691a_row7_col4, #T_4691a_row7_col5, #T_4691a_row7_col6, #T_4691a_row7_col7, #T_4691a_row8_col0, #T_4691a_row8_col1, #T_4691a_row8_col2, #T_4691a_row8_col3, #T_4691a_row8_col4, #T_4691a_row8_col5, #T_4691a_row8_col7, #T_4691a_row9_col0, #T_4691a_row9_col1, #T_4691a_row9_col2, #T_4691a_row9_col3, #T_4691a_row9_col4, #T_4691a_row9_col5, #T_4691a_row9_col6, #T_4691a_row9_col7, #T_4691a_row10_col0, #T_4691a_row10_col1, #T_4691a_row10_col2, #T_4691a_row10_col3, #T_4691a_row10_col4, #T_4691a_row10_col5, #T_4691a_row10_col6, #T_4691a_row10_col7, #T_4691a_row11_col0, #T_4691a_row11_col1, #T_4691a_row11_col2, #T_4691a_row11_col3, #T_4691a_row11_col4, #T_4691a_row11_col5, #T_4691a_row11_col6, #T_4691a_row11_col7, #T_4691a_row12_col0, #T_4691a_row12_col1, #T_4691a_row12_col2, #T_4691a_row12_col3, #T_4691a_row12_col4, #T_4691a_row12_col5, #T_4691a_row12_col6, #T_4691a_row12_col7, #T_4691a_row13_col0, #T_4691a_row13_col1, #T_4691a_row13_col2, #T_4691a_row13_col3, #T_4691a_row13_col4, #T_4691a_row13_col5, #T_4691a_row13_col6, #T_4691a_row13_col7, #T_4691a_row14_col0, #T_4691a_row14_col1, #T_4691a_row14_col2, #T_4691a_row14_col3, #T_4691a_row14_col4, #T_4691a_row14_col5, #T_4691a_row14_col6, #T_4691a_row14_col7, #T_4691a_row15_col0, #T_4691a_row15_col1, #T_4691a_row15_col2, #T_4691a_row15_col3, #T_4691a_row15_col4, #T_4691a_row15_col5, #T_4691a_row15_col6, #T_4691a_row15_col7, #T_4691a_row16_col0, #T_4691a_row16_col1, #T_4691a_row16_col2, #T_4691a_row16_col3, #T_4691a_row16_col4, #T_4691a_row16_col5, #T_4691a_row16_col6, #T_4691a_row17_col0, #T_4691a_row17_col1, #T_4691a_row17_col2, #T_4691a_row17_col3, #T_4691a_row17_col4, #T_4691a_row17_col5, #T_4691a_row17_col6, #T_4691a_row17_col7, #T_4691a_row18_col0, #T_4691a_row18_col1, #T_4691a_row18_col2, #T_4691a_row18_col3, #T_4691a_row18_col4, #T_4691a_row18_col5, #T_4691a_row18_col6, #T_4691a_row18_col7, #T_4691a_row19_col0, #T_4691a_row19_col1, #T_4691a_row19_col2, #T_4691a_row19_col3, #T_4691a_row19_col4, #T_4691a_row19_col5, #T_4691a_row19_col6, #T_4691a_row19_col7, #T_4691a_row20_col0, #T_4691a_row20_col1, #T_4691a_row20_col2, #T_4691a_row20_col3, #T_4691a_row20_col4, #T_4691a_row20_col5, #T_4691a_row20_col6, #T_4691a_row20_col7, #T_4691a_row21_col0, #T_4691a_row21_col1, #T_4691a_row21_col2, #T_4691a_row21_col3, #T_4691a_row21_col4, #T_4691a_row21_col5, #T_4691a_row21_col6, #T_4691a_row21_col7, #T_4691a_row22_col0, #T_4691a_row22_col1, #T_4691a_row22_col2, #T_4691a_row22_col3, #T_4691a_row22_col4, #T_4691a_row22_col5, #T_4691a_row22_col6, #T_4691a_row22_col7, #T_4691a_row23_col0, #T_4691a_row23_col1, #T_4691a_row23_col2, #T_4691a_row23_col3, #T_4691a_row23_col4, #T_4691a_row23_col5, #T_4691a_row23_col6, #T_4691a_row23_col7 {\n",
       "  text-align: left;\n",
       "}\n",
       "#T_4691a_row0_col5, #T_4691a_row1_col1, #T_4691a_row1_col3, #T_4691a_row1_col4, #T_4691a_row5_col2, #T_4691a_row8_col6, #T_4691a_row16_col7 {\n",
       "  text-align: left;\n",
       "  background-color: yellow;\n",
       "}\n",
       "#T_4691a_row0_col8, #T_4691a_row1_col8, #T_4691a_row2_col8, #T_4691a_row3_col8, #T_4691a_row4_col8, #T_4691a_row5_col8, #T_4691a_row6_col8, #T_4691a_row7_col8, #T_4691a_row8_col8, #T_4691a_row9_col8, #T_4691a_row10_col8, #T_4691a_row11_col8, #T_4691a_row12_col8, #T_4691a_row13_col8, #T_4691a_row14_col8, #T_4691a_row15_col8, #T_4691a_row17_col8, #T_4691a_row18_col8, #T_4691a_row19_col8, #T_4691a_row20_col8, #T_4691a_row21_col8, #T_4691a_row22_col8, #T_4691a_row23_col8 {\n",
       "  text-align: left;\n",
       "  background-color: lightgrey;\n",
       "}\n",
       "#T_4691a_row16_col8 {\n",
       "  text-align: left;\n",
       "  background-color: yellow;\n",
       "  background-color: lightgrey;\n",
       "}\n",
       "</style>\n",
       "<table id=\"T_4691a\">\n",
       "  <thead>\n",
       "    <tr>\n",
       "      <th class=\"blank level0\" >&nbsp;</th>\n",
       "      <th id=\"T_4691a_level0_col0\" class=\"col_heading level0 col0\" >Model</th>\n",
       "      <th id=\"T_4691a_level0_col1\" class=\"col_heading level0 col1\" >MASE</th>\n",
       "      <th id=\"T_4691a_level0_col2\" class=\"col_heading level0 col2\" >RMSSE</th>\n",
       "      <th id=\"T_4691a_level0_col3\" class=\"col_heading level0 col3\" >MAE</th>\n",
       "      <th id=\"T_4691a_level0_col4\" class=\"col_heading level0 col4\" >RMSE</th>\n",
       "      <th id=\"T_4691a_level0_col5\" class=\"col_heading level0 col5\" >MAPE</th>\n",
       "      <th id=\"T_4691a_level0_col6\" class=\"col_heading level0 col6\" >SMAPE</th>\n",
       "      <th id=\"T_4691a_level0_col7\" class=\"col_heading level0 col7\" >R2</th>\n",
       "      <th id=\"T_4691a_level0_col8\" class=\"col_heading level0 col8\" >TT (Sec)</th>\n",
       "    </tr>\n",
       "  </thead>\n",
       "  <tbody>\n",
       "    <tr>\n",
       "      <th id=\"T_4691a_level0_row0\" class=\"row_heading level0 row0\" >arima</th>\n",
       "      <td id=\"T_4691a_row0_col0\" class=\"data row0 col0\" >ARIMA</td>\n",
       "      <td id=\"T_4691a_row0_col1\" class=\"data row0 col1\" >0.9002</td>\n",
       "      <td id=\"T_4691a_row0_col2\" class=\"data row0 col2\" >0.9969</td>\n",
       "      <td id=\"T_4691a_row0_col3\" class=\"data row0 col3\" >717661.2116</td>\n",
       "      <td id=\"T_4691a_row0_col4\" class=\"data row0 col4\" >1015809.1676</td>\n",
       "      <td id=\"T_4691a_row0_col5\" class=\"data row0 col5\" >1.3294</td>\n",
       "      <td id=\"T_4691a_row0_col6\" class=\"data row0 col6\" >0.8416</td>\n",
       "      <td id=\"T_4691a_row0_col7\" class=\"data row0 col7\" >-0.6255</td>\n",
       "      <td id=\"T_4691a_row0_col8\" class=\"data row0 col8\" >0.0433</td>\n",
       "    </tr>\n",
       "    <tr>\n",
       "      <th id=\"T_4691a_level0_row1\" class=\"row_heading level0 row1\" >stlf</th>\n",
       "      <td id=\"T_4691a_row1_col0\" class=\"data row1 col0\" >STLF</td>\n",
       "      <td id=\"T_4691a_row1_col1\" class=\"data row1 col1\" >0.8619</td>\n",
       "      <td id=\"T_4691a_row1_col2\" class=\"data row1 col2\" >0.9456</td>\n",
       "      <td id=\"T_4691a_row1_col3\" class=\"data row1 col3\" >685324.1178</td>\n",
       "      <td id=\"T_4691a_row1_col4\" class=\"data row1 col4\" >957861.0615</td>\n",
       "      <td id=\"T_4691a_row1_col5\" class=\"data row1 col5\" >1.3894</td>\n",
       "      <td id=\"T_4691a_row1_col6\" class=\"data row1 col6\" >0.7694</td>\n",
       "      <td id=\"T_4691a_row1_col7\" class=\"data row1 col7\" >-0.5524</td>\n",
       "      <td id=\"T_4691a_row1_col8\" class=\"data row1 col8\" >0.0400</td>\n",
       "    </tr>\n",
       "    <tr>\n",
       "      <th id=\"T_4691a_level0_row2\" class=\"row_heading level0 row2\" >exp_smooth</th>\n",
       "      <td id=\"T_4691a_row2_col0\" class=\"data row2 col0\" >Exponential Smoothing</td>\n",
       "      <td id=\"T_4691a_row2_col1\" class=\"data row2 col1\" >0.9591</td>\n",
       "      <td id=\"T_4691a_row2_col2\" class=\"data row2 col2\" >1.0301</td>\n",
       "      <td id=\"T_4691a_row2_col3\" class=\"data row2 col3\" >766819.0106</td>\n",
       "      <td id=\"T_4691a_row2_col4\" class=\"data row2 col4\" >1061851.3095</td>\n",
       "      <td id=\"T_4691a_row2_col5\" class=\"data row2 col5\" >1.4000</td>\n",
       "      <td id=\"T_4691a_row2_col6\" class=\"data row2 col6\" >0.8990</td>\n",
       "      <td id=\"T_4691a_row2_col7\" class=\"data row2 col7\" >-0.3123</td>\n",
       "      <td id=\"T_4691a_row2_col8\" class=\"data row2 col8\" >0.0633</td>\n",
       "    </tr>\n",
       "    <tr>\n",
       "      <th id=\"T_4691a_level0_row3\" class=\"row_heading level0 row3\" >auto_arima</th>\n",
       "      <td id=\"T_4691a_row3_col0\" class=\"data row3 col0\" >Auto ARIMA</td>\n",
       "      <td id=\"T_4691a_row3_col1\" class=\"data row3 col1\" >0.9580</td>\n",
       "      <td id=\"T_4691a_row3_col2\" class=\"data row3 col2\" >1.0441</td>\n",
       "      <td id=\"T_4691a_row3_col3\" class=\"data row3 col3\" >764900.0127</td>\n",
       "      <td id=\"T_4691a_row3_col4\" class=\"data row3 col4\" >1067115.1078</td>\n",
       "      <td id=\"T_4691a_row3_col5\" class=\"data row3 col5\" >1.4957</td>\n",
       "      <td id=\"T_4691a_row3_col6\" class=\"data row3 col6\" >0.8169</td>\n",
       "      <td id=\"T_4691a_row3_col7\" class=\"data row3 col7\" >-0.6753</td>\n",
       "      <td id=\"T_4691a_row3_col8\" class=\"data row3 col8\" >0.7700</td>\n",
       "    </tr>\n",
       "    <tr>\n",
       "      <th id=\"T_4691a_level0_row4\" class=\"row_heading level0 row4\" >huber_cds_dt</th>\n",
       "      <td id=\"T_4691a_row4_col0\" class=\"data row4 col0\" >Huber w/ Cond. Deseasonalize & Detrending</td>\n",
       "      <td id=\"T_4691a_row4_col1\" class=\"data row4 col1\" >1.1895</td>\n",
       "      <td id=\"T_4691a_row4_col2\" class=\"data row4 col2\" >1.3404</td>\n",
       "      <td id=\"T_4691a_row4_col3\" class=\"data row4 col3\" >951638.8921</td>\n",
       "      <td id=\"T_4691a_row4_col4\" class=\"data row4 col4\" >1376624.8733</td>\n",
       "      <td id=\"T_4691a_row4_col5\" class=\"data row4 col5\" >1.6155</td>\n",
       "      <td id=\"T_4691a_row4_col6\" class=\"data row4 col6\" >0.9054</td>\n",
       "      <td id=\"T_4691a_row4_col7\" class=\"data row4 col7\" >-0.8913</td>\n",
       "      <td id=\"T_4691a_row4_col8\" class=\"data row4 col8\" >0.1300</td>\n",
       "    </tr>\n",
       "    <tr>\n",
       "      <th id=\"T_4691a_level0_row5\" class=\"row_heading level0 row5\" >ets</th>\n",
       "      <td id=\"T_4691a_row5_col0\" class=\"data row5 col0\" >ETS</td>\n",
       "      <td id=\"T_4691a_row5_col1\" class=\"data row5 col1\" >0.8946</td>\n",
       "      <td id=\"T_4691a_row5_col2\" class=\"data row5 col2\" >0.9453</td>\n",
       "      <td id=\"T_4691a_row5_col3\" class=\"data row5 col3\" >712034.1862</td>\n",
       "      <td id=\"T_4691a_row5_col4\" class=\"data row5 col4\" >959322.9747</td>\n",
       "      <td id=\"T_4691a_row5_col5\" class=\"data row5 col5\" >1.6803</td>\n",
       "      <td id=\"T_4691a_row5_col6\" class=\"data row5 col6\" >0.7381</td>\n",
       "      <td id=\"T_4691a_row5_col7\" class=\"data row5 col7\" >-0.4258</td>\n",
       "      <td id=\"T_4691a_row5_col8\" class=\"data row5 col8\" >0.0433</td>\n",
       "    </tr>\n",
       "    <tr>\n",
       "      <th id=\"T_4691a_level0_row6\" class=\"row_heading level0 row6\" >br_cds_dt</th>\n",
       "      <td id=\"T_4691a_row6_col0\" class=\"data row6 col0\" >Bayesian Ridge w/ Cond. Deseasonalize & Detrending</td>\n",
       "      <td id=\"T_4691a_row6_col1\" class=\"data row6 col1\" >1.0477</td>\n",
       "      <td id=\"T_4691a_row6_col2\" class=\"data row6 col2\" >1.1677</td>\n",
       "      <td id=\"T_4691a_row6_col3\" class=\"data row6 col3\" >838412.2976</td>\n",
       "      <td id=\"T_4691a_row6_col4\" class=\"data row6 col4\" >1202147.0701</td>\n",
       "      <td id=\"T_4691a_row6_col5\" class=\"data row6 col5\" >1.6921</td>\n",
       "      <td id=\"T_4691a_row6_col6\" class=\"data row6 col6\" >0.8280</td>\n",
       "      <td id=\"T_4691a_row6_col7\" class=\"data row6 col7\" >-0.4519</td>\n",
       "      <td id=\"T_4691a_row6_col8\" class=\"data row6 col8\" >0.1200</td>\n",
       "    </tr>\n",
       "    <tr>\n",
       "      <th id=\"T_4691a_level0_row7\" class=\"row_heading level0 row7\" >snaive</th>\n",
       "      <td id=\"T_4691a_row7_col0\" class=\"data row7 col0\" >Seasonal Naive Forecaster</td>\n",
       "      <td id=\"T_4691a_row7_col1\" class=\"data row7 col1\" >0.9347</td>\n",
       "      <td id=\"T_4691a_row7_col2\" class=\"data row7 col2\" >0.9985</td>\n",
       "      <td id=\"T_4691a_row7_col3\" class=\"data row7 col3\" >745043.5492</td>\n",
       "      <td id=\"T_4691a_row7_col4\" class=\"data row7 col4\" >1015750.8391</td>\n",
       "      <td id=\"T_4691a_row7_col5\" class=\"data row7 col5\" >1.6985</td>\n",
       "      <td id=\"T_4691a_row7_col6\" class=\"data row7 col6\" >0.7820</td>\n",
       "      <td id=\"T_4691a_row7_col7\" class=\"data row7 col7\" >-0.5279</td>\n",
       "      <td id=\"T_4691a_row7_col8\" class=\"data row7 col8\" >0.0433</td>\n",
       "    </tr>\n",
       "    <tr>\n",
       "      <th id=\"T_4691a_level0_row8\" class=\"row_heading level0 row8\" >polytrend</th>\n",
       "      <td id=\"T_4691a_row8_col0\" class=\"data row8 col0\" >Polynomial Trend Forecaster</td>\n",
       "      <td id=\"T_4691a_row8_col1\" class=\"data row8 col1\" >1.0084</td>\n",
       "      <td id=\"T_4691a_row8_col2\" class=\"data row8 col2\" >1.0908</td>\n",
       "      <td id=\"T_4691a_row8_col3\" class=\"data row8 col3\" >810046.6719</td>\n",
       "      <td id=\"T_4691a_row8_col4\" class=\"data row8 col4\" >1130949.3834</td>\n",
       "      <td id=\"T_4691a_row8_col5\" class=\"data row8 col5\" >1.7197</td>\n",
       "      <td id=\"T_4691a_row8_col6\" class=\"data row8 col6\" >0.7031</td>\n",
       "      <td id=\"T_4691a_row8_col7\" class=\"data row8 col7\" >-0.1466</td>\n",
       "      <td id=\"T_4691a_row8_col8\" class=\"data row8 col8\" >0.0300</td>\n",
       "    </tr>\n",
       "    <tr>\n",
       "      <th id=\"T_4691a_level0_row9\" class=\"row_heading level0 row9\" >gbr_cds_dt</th>\n",
       "      <td id=\"T_4691a_row9_col0\" class=\"data row9 col0\" >Gradient Boosting w/ Cond. Deseasonalize & Detrending</td>\n",
       "      <td id=\"T_4691a_row9_col1\" class=\"data row9 col1\" >0.9944</td>\n",
       "      <td id=\"T_4691a_row9_col2\" class=\"data row9 col2\" >1.1384</td>\n",
       "      <td id=\"T_4691a_row9_col3\" class=\"data row9 col3\" >796640.0130</td>\n",
       "      <td id=\"T_4691a_row9_col4\" class=\"data row9 col4\" >1172713.9374</td>\n",
       "      <td id=\"T_4691a_row9_col5\" class=\"data row9 col5\" >1.7223</td>\n",
       "      <td id=\"T_4691a_row9_col6\" class=\"data row9 col6\" >0.7999</td>\n",
       "      <td id=\"T_4691a_row9_col7\" class=\"data row9 col7\" >-0.5267</td>\n",
       "      <td id=\"T_4691a_row9_col8\" class=\"data row9 col8\" >0.1533</td>\n",
       "    </tr>\n",
       "    <tr>\n",
       "      <th id=\"T_4691a_level0_row10\" class=\"row_heading level0 row10\" >et_cds_dt</th>\n",
       "      <td id=\"T_4691a_row10_col0\" class=\"data row10 col0\" >Extra Trees w/ Cond. Deseasonalize & Detrending</td>\n",
       "      <td id=\"T_4691a_row10_col1\" class=\"data row10 col1\" >1.0164</td>\n",
       "      <td id=\"T_4691a_row10_col2\" class=\"data row10 col2\" >1.1172</td>\n",
       "      <td id=\"T_4691a_row10_col3\" class=\"data row10 col3\" >813677.2264</td>\n",
       "      <td id=\"T_4691a_row10_col4\" class=\"data row10 col4\" >1151247.3959</td>\n",
       "      <td id=\"T_4691a_row10_col5\" class=\"data row10 col5\" >1.7532</td>\n",
       "      <td id=\"T_4691a_row10_col6\" class=\"data row10 col6\" >0.8009</td>\n",
       "      <td id=\"T_4691a_row10_col7\" class=\"data row10 col7\" >-0.3415</td>\n",
       "      <td id=\"T_4691a_row10_col8\" class=\"data row10 col8\" >0.2600</td>\n",
       "    </tr>\n",
       "    <tr>\n",
       "      <th id=\"T_4691a_level0_row11\" class=\"row_heading level0 row11\" >ada_cds_dt</th>\n",
       "      <td id=\"T_4691a_row11_col0\" class=\"data row11 col0\" >AdaBoost w/ Cond. Deseasonalize & Detrending</td>\n",
       "      <td id=\"T_4691a_row11_col1\" class=\"data row11 col1\" >0.9805</td>\n",
       "      <td id=\"T_4691a_row11_col2\" class=\"data row11 col2\" >1.1006</td>\n",
       "      <td id=\"T_4691a_row11_col3\" class=\"data row11 col3\" >784825.1370</td>\n",
       "      <td id=\"T_4691a_row11_col4\" class=\"data row11 col4\" >1136327.0015</td>\n",
       "      <td id=\"T_4691a_row11_col5\" class=\"data row11 col5\" >1.7772</td>\n",
       "      <td id=\"T_4691a_row11_col6\" class=\"data row11 col6\" >0.8185</td>\n",
       "      <td id=\"T_4691a_row11_col7\" class=\"data row11 col7\" >-0.3450</td>\n",
       "      <td id=\"T_4691a_row11_col8\" class=\"data row11 col8\" >0.1467</td>\n",
       "    </tr>\n",
       "    <tr>\n",
       "      <th id=\"T_4691a_level0_row12\" class=\"row_heading level0 row12\" >knn_cds_dt</th>\n",
       "      <td id=\"T_4691a_row12_col0\" class=\"data row12 col0\" >K Neighbors w/ Cond. Deseasonalize & Detrending</td>\n",
       "      <td id=\"T_4691a_row12_col1\" class=\"data row12 col1\" >1.1818</td>\n",
       "      <td id=\"T_4691a_row12_col2\" class=\"data row12 col2\" >1.2107</td>\n",
       "      <td id=\"T_4691a_row12_col3\" class=\"data row12 col3\" >947177.8042</td>\n",
       "      <td id=\"T_4691a_row12_col4\" class=\"data row12 col4\" >1249813.8173</td>\n",
       "      <td id=\"T_4691a_row12_col5\" class=\"data row12 col5\" >1.7927</td>\n",
       "      <td id=\"T_4691a_row12_col6\" class=\"data row12 col6\" >0.9945</td>\n",
       "      <td id=\"T_4691a_row12_col7\" class=\"data row12 col7\" >-0.5391</td>\n",
       "      <td id=\"T_4691a_row12_col8\" class=\"data row12 col8\" >0.2333</td>\n",
       "    </tr>\n",
       "    <tr>\n",
       "      <th id=\"T_4691a_level0_row13\" class=\"row_heading level0 row13\" >rf_cds_dt</th>\n",
       "      <td id=\"T_4691a_row13_col0\" class=\"data row13 col0\" >Random Forest w/ Cond. Deseasonalize & Detrending</td>\n",
       "      <td id=\"T_4691a_row13_col1\" class=\"data row13 col1\" >1.0314</td>\n",
       "      <td id=\"T_4691a_row13_col2\" class=\"data row13 col2\" >1.1458</td>\n",
       "      <td id=\"T_4691a_row13_col3\" class=\"data row13 col3\" >825534.2437</td>\n",
       "      <td id=\"T_4691a_row13_col4\" class=\"data row13 col4\" >1181661.3238</td>\n",
       "      <td id=\"T_4691a_row13_col5\" class=\"data row13 col5\" >1.8393</td>\n",
       "      <td id=\"T_4691a_row13_col6\" class=\"data row13 col6\" >0.7838</td>\n",
       "      <td id=\"T_4691a_row13_col7\" class=\"data row13 col7\" >-0.4247</td>\n",
       "      <td id=\"T_4691a_row13_col8\" class=\"data row13 col8\" >0.2700</td>\n",
       "    </tr>\n",
       "    <tr>\n",
       "      <th id=\"T_4691a_level0_row14\" class=\"row_heading level0 row14\" >lightgbm_cds_dt</th>\n",
       "      <td id=\"T_4691a_row14_col0\" class=\"data row14 col0\" >Light Gradient Boosting w/ Cond. Deseasonalize & Detrending</td>\n",
       "      <td id=\"T_4691a_row14_col1\" class=\"data row14 col1\" >1.0835</td>\n",
       "      <td id=\"T_4691a_row14_col2\" class=\"data row14 col2\" >1.1935</td>\n",
       "      <td id=\"T_4691a_row14_col3\" class=\"data row14 col3\" >868389.0263</td>\n",
       "      <td id=\"T_4691a_row14_col4\" class=\"data row14 col4\" >1232303.7999</td>\n",
       "      <td id=\"T_4691a_row14_col5\" class=\"data row14 col5\" >1.8403</td>\n",
       "      <td id=\"T_4691a_row14_col6\" class=\"data row14 col6\" >0.8543</td>\n",
       "      <td id=\"T_4691a_row14_col7\" class=\"data row14 col7\" >-0.4775</td>\n",
       "      <td id=\"T_4691a_row14_col8\" class=\"data row14 col8\" >0.2867</td>\n",
       "    </tr>\n",
       "    <tr>\n",
       "      <th id=\"T_4691a_level0_row15\" class=\"row_heading level0 row15\" >omp_cds_dt</th>\n",
       "      <td id=\"T_4691a_row15_col0\" class=\"data row15 col0\" >Orthogonal Matching Pursuit w/ Cond. Deseasonalize & Detrending</td>\n",
       "      <td id=\"T_4691a_row15_col1\" class=\"data row15 col1\" >1.0929</td>\n",
       "      <td id=\"T_4691a_row15_col2\" class=\"data row15 col2\" >1.1831</td>\n",
       "      <td id=\"T_4691a_row15_col3\" class=\"data row15 col3\" >874765.1104</td>\n",
       "      <td id=\"T_4691a_row15_col4\" class=\"data row15 col4\" >1218885.4110</td>\n",
       "      <td id=\"T_4691a_row15_col5\" class=\"data row15 col5\" >1.8491</td>\n",
       "      <td id=\"T_4691a_row15_col6\" class=\"data row15 col6\" >0.8683</td>\n",
       "      <td id=\"T_4691a_row15_col7\" class=\"data row15 col7\" >-0.4855</td>\n",
       "      <td id=\"T_4691a_row15_col8\" class=\"data row15 col8\" >0.1200</td>\n",
       "    </tr>\n",
       "    <tr>\n",
       "      <th id=\"T_4691a_level0_row16\" class=\"row_heading level0 row16\" >theta</th>\n",
       "      <td id=\"T_4691a_row16_col0\" class=\"data row16 col0\" >Theta Forecaster</td>\n",
       "      <td id=\"T_4691a_row16_col1\" class=\"data row16 col1\" >1.0174</td>\n",
       "      <td id=\"T_4691a_row16_col2\" class=\"data row16 col2\" >1.0569</td>\n",
       "      <td id=\"T_4691a_row16_col3\" class=\"data row16 col3\" >817224.5013</td>\n",
       "      <td id=\"T_4691a_row16_col4\" class=\"data row16 col4\" >1095078.7071</td>\n",
       "      <td id=\"T_4691a_row16_col5\" class=\"data row16 col5\" >1.8813</td>\n",
       "      <td id=\"T_4691a_row16_col6\" class=\"data row16 col6\" >0.7143</td>\n",
       "      <td id=\"T_4691a_row16_col7\" class=\"data row16 col7\" >-0.0724</td>\n",
       "      <td id=\"T_4691a_row16_col8\" class=\"data row16 col8\" >0.0267</td>\n",
       "    </tr>\n",
       "    <tr>\n",
       "      <th id=\"T_4691a_level0_row17\" class=\"row_heading level0 row17\" >xgboost_cds_dt</th>\n",
       "      <td id=\"T_4691a_row17_col0\" class=\"data row17 col0\" >Extreme Gradient Boosting w/ Cond. Deseasonalize & Detrending</td>\n",
       "      <td id=\"T_4691a_row17_col1\" class=\"data row17 col1\" >1.2257</td>\n",
       "      <td id=\"T_4691a_row17_col2\" class=\"data row17 col2\" >1.2946</td>\n",
       "      <td id=\"T_4691a_row17_col3\" class=\"data row17 col3\" >981060.2932</td>\n",
       "      <td id=\"T_4691a_row17_col4\" class=\"data row17 col4\" >1330820.9899</td>\n",
       "      <td id=\"T_4691a_row17_col5\" class=\"data row17 col5\" >1.9328</td>\n",
       "      <td id=\"T_4691a_row17_col6\" class=\"data row17 col6\" >0.8782</td>\n",
       "      <td id=\"T_4691a_row17_col7\" class=\"data row17 col7\" >-0.9257</td>\n",
       "      <td id=\"T_4691a_row17_col8\" class=\"data row17 col8\" >0.5133</td>\n",
       "    </tr>\n",
       "    <tr>\n",
       "      <th id=\"T_4691a_level0_row18\" class=\"row_heading level0 row18\" >dt_cds_dt</th>\n",
       "      <td id=\"T_4691a_row18_col0\" class=\"data row18 col0\" >Decision Tree w/ Cond. Deseasonalize & Detrending</td>\n",
       "      <td id=\"T_4691a_row18_col1\" class=\"data row18 col1\" >1.4016</td>\n",
       "      <td id=\"T_4691a_row18_col2\" class=\"data row18 col2\" >1.4707</td>\n",
       "      <td id=\"T_4691a_row18_col3\" class=\"data row18 col3\" >1126773.8358</td>\n",
       "      <td id=\"T_4691a_row18_col4\" class=\"data row18 col4\" >1521392.8872</td>\n",
       "      <td id=\"T_4691a_row18_col5\" class=\"data row18 col5\" >2.0531</td>\n",
       "      <td id=\"T_4691a_row18_col6\" class=\"data row18 col6\" >0.9823</td>\n",
       "      <td id=\"T_4691a_row18_col7\" class=\"data row18 col7\" >-1.3322</td>\n",
       "      <td id=\"T_4691a_row18_col8\" class=\"data row18 col8\" >0.1200</td>\n",
       "    </tr>\n",
       "    <tr>\n",
       "      <th id=\"T_4691a_level0_row19\" class=\"row_heading level0 row19\" >llar_cds_dt</th>\n",
       "      <td id=\"T_4691a_row19_col0\" class=\"data row19 col0\" >Lasso Least Angular Regressor w/ Cond. Deseasonalize & Detrending</td>\n",
       "      <td id=\"T_4691a_row19_col1\" class=\"data row19 col1\" >1.6071</td>\n",
       "      <td id=\"T_4691a_row19_col2\" class=\"data row19 col2\" >1.6627</td>\n",
       "      <td id=\"T_4691a_row19_col3\" class=\"data row19 col3\" >1287761.1831</td>\n",
       "      <td id=\"T_4691a_row19_col4\" class=\"data row19 col4\" >1709640.4823</td>\n",
       "      <td id=\"T_4691a_row19_col5\" class=\"data row19 col5\" >2.4110</td>\n",
       "      <td id=\"T_4691a_row19_col6\" class=\"data row19 col6\" >1.1301</td>\n",
       "      <td id=\"T_4691a_row19_col7\" class=\"data row19 col7\" >-1.7170</td>\n",
       "      <td id=\"T_4691a_row19_col8\" class=\"data row19 col8\" >0.1200</td>\n",
       "    </tr>\n",
       "    <tr>\n",
       "      <th id=\"T_4691a_level0_row20\" class=\"row_heading level0 row20\" >lr_cds_dt</th>\n",
       "      <td id=\"T_4691a_row20_col0\" class=\"data row20 col0\" >Linear w/ Cond. Deseasonalize & Detrending</td>\n",
       "      <td id=\"T_4691a_row20_col1\" class=\"data row20 col1\" >1.6071</td>\n",
       "      <td id=\"T_4691a_row20_col2\" class=\"data row20 col2\" >1.6627</td>\n",
       "      <td id=\"T_4691a_row20_col3\" class=\"data row20 col3\" >1287761.1832</td>\n",
       "      <td id=\"T_4691a_row20_col4\" class=\"data row20 col4\" >1709640.4824</td>\n",
       "      <td id=\"T_4691a_row20_col5\" class=\"data row20 col5\" >2.4110</td>\n",
       "      <td id=\"T_4691a_row20_col6\" class=\"data row20 col6\" >1.1301</td>\n",
       "      <td id=\"T_4691a_row20_col7\" class=\"data row20 col7\" >-1.7170</td>\n",
       "      <td id=\"T_4691a_row20_col8\" class=\"data row20 col8\" >0.1200</td>\n",
       "    </tr>\n",
       "    <tr>\n",
       "      <th id=\"T_4691a_level0_row21\" class=\"row_heading level0 row21\" >en_cds_dt</th>\n",
       "      <td id=\"T_4691a_row21_col0\" class=\"data row21 col0\" >Elastic Net w/ Cond. Deseasonalize & Detrending</td>\n",
       "      <td id=\"T_4691a_row21_col1\" class=\"data row21 col1\" >1.6071</td>\n",
       "      <td id=\"T_4691a_row21_col2\" class=\"data row21 col2\" >1.6627</td>\n",
       "      <td id=\"T_4691a_row21_col3\" class=\"data row21 col3\" >1287761.1831</td>\n",
       "      <td id=\"T_4691a_row21_col4\" class=\"data row21 col4\" >1709640.4823</td>\n",
       "      <td id=\"T_4691a_row21_col5\" class=\"data row21 col5\" >2.4110</td>\n",
       "      <td id=\"T_4691a_row21_col6\" class=\"data row21 col6\" >1.1301</td>\n",
       "      <td id=\"T_4691a_row21_col7\" class=\"data row21 col7\" >-1.7170</td>\n",
       "      <td id=\"T_4691a_row21_col8\" class=\"data row21 col8\" >0.1233</td>\n",
       "    </tr>\n",
       "    <tr>\n",
       "      <th id=\"T_4691a_level0_row22\" class=\"row_heading level0 row22\" >ridge_cds_dt</th>\n",
       "      <td id=\"T_4691a_row22_col0\" class=\"data row22 col0\" >Ridge w/ Cond. Deseasonalize & Detrending</td>\n",
       "      <td id=\"T_4691a_row22_col1\" class=\"data row22 col1\" >1.6071</td>\n",
       "      <td id=\"T_4691a_row22_col2\" class=\"data row22 col2\" >1.6627</td>\n",
       "      <td id=\"T_4691a_row22_col3\" class=\"data row22 col3\" >1287761.1832</td>\n",
       "      <td id=\"T_4691a_row22_col4\" class=\"data row22 col4\" >1709640.4824</td>\n",
       "      <td id=\"T_4691a_row22_col5\" class=\"data row22 col5\" >2.4110</td>\n",
       "      <td id=\"T_4691a_row22_col6\" class=\"data row22 col6\" >1.1301</td>\n",
       "      <td id=\"T_4691a_row22_col7\" class=\"data row22 col7\" >-1.7170</td>\n",
       "      <td id=\"T_4691a_row22_col8\" class=\"data row22 col8\" >0.1167</td>\n",
       "    </tr>\n",
       "    <tr>\n",
       "      <th id=\"T_4691a_level0_row23\" class=\"row_heading level0 row23\" >lasso_cds_dt</th>\n",
       "      <td id=\"T_4691a_row23_col0\" class=\"data row23 col0\" >Lasso w/ Cond. Deseasonalize & Detrending</td>\n",
       "      <td id=\"T_4691a_row23_col1\" class=\"data row23 col1\" >1.6071</td>\n",
       "      <td id=\"T_4691a_row23_col2\" class=\"data row23 col2\" >1.6627</td>\n",
       "      <td id=\"T_4691a_row23_col3\" class=\"data row23 col3\" >1287761.1831</td>\n",
       "      <td id=\"T_4691a_row23_col4\" class=\"data row23 col4\" >1709640.4823</td>\n",
       "      <td id=\"T_4691a_row23_col5\" class=\"data row23 col5\" >2.4110</td>\n",
       "      <td id=\"T_4691a_row23_col6\" class=\"data row23 col6\" >1.1301</td>\n",
       "      <td id=\"T_4691a_row23_col7\" class=\"data row23 col7\" >-1.7170</td>\n",
       "      <td id=\"T_4691a_row23_col8\" class=\"data row23 col8\" >0.1200</td>\n",
       "    </tr>\n",
       "  </tbody>\n",
       "</table>\n"
      ],
      "text/plain": [
       "<pandas.io.formats.style.Styler at 0x1a6c9742c70>"
      ]
     },
     "metadata": {},
     "output_type": "display_data"
    },
    {
     "data": {
      "text/html": [],
      "text/plain": [
       "<IPython.core.display.HTML object>"
      ]
     },
     "metadata": {},
     "output_type": "display_data"
    },
    {
     "data": {
      "application/vnd.plotly.v1+json": {
       "config": {
        "plotlyServerURL": "https://plot.ly"
       },
       "data": [
        {
         "line": {
          "color": "#1f77b4"
         },
         "marker": {
          "size": 5
         },
         "mode": "lines+markers",
         "name": "Forecast | ARIMA",
         "showlegend": true,
         "type": "scatter",
         "x": [
          "2022-01-01T00:00:00",
          "2022-02-01T00:00:00",
          "2022-03-01T00:00:00",
          "2022-04-01T00:00:00",
          "2022-05-01T00:00:00",
          "2022-06-01T00:00:00",
          "2022-07-01T00:00:00",
          "2022-08-01T00:00:00",
          "2022-09-01T00:00:00",
          "2022-10-01T00:00:00",
          "2022-11-01T00:00:00",
          "2022-12-01T00:00:00"
         ],
         "y": [
          148663.9154,
          450795.873,
          791185.2269,
          720533.1986,
          573687.2145,
          3545404.2228,
          3060209.564,
          -69568.6746,
          139481.7381,
          230068.9889,
          1848859.8615,
          522902.2901
         ]
        },
        {
         "line": {
          "width": 0
         },
         "marker": {
          "color": "#68BBE3"
         },
         "mode": "lines",
         "name": "Lower Interval",
         "showlegend": false,
         "type": "scatter",
         "x": [
          "2022-01-01T00:00:00",
          "2022-02-01T00:00:00",
          "2022-03-01T00:00:00",
          "2022-04-01T00:00:00",
          "2022-05-01T00:00:00",
          "2022-06-01T00:00:00",
          "2022-07-01T00:00:00",
          "2022-08-01T00:00:00",
          "2022-09-01T00:00:00",
          "2022-10-01T00:00:00",
          "2022-11-01T00:00:00",
          "2022-12-01T00:00:00"
         ],
         "y": [
          -1541934.4211,
          -1240496.7675,
          -900107.9839,
          -970760.0126,
          -1117605.9967,
          1854111.0115,
          1368916.3527,
          -1760861.8858,
          -1551811.4732,
          -1461224.2224,
          157566.6503,
          -1168390.9211
         ]
        },
        {
         "fill": "tonexty",
         "fillcolor": "rgba(104,187,227,0.5)",
         "line": {
          "width": 0
         },
         "marker": {
          "color": "#68BBE3"
         },
         "mode": "lines",
         "name": "Prediction Interval | ARIMA",
         "showlegend": true,
         "type": "scatter",
         "x": [
          "2022-01-01T00:00:00",
          "2022-02-01T00:00:00",
          "2022-03-01T00:00:00",
          "2022-04-01T00:00:00",
          "2022-05-01T00:00:00",
          "2022-06-01T00:00:00",
          "2022-07-01T00:00:00",
          "2022-08-01T00:00:00",
          "2022-09-01T00:00:00",
          "2022-10-01T00:00:00",
          "2022-11-01T00:00:00",
          "2022-12-01T00:00:00"
         ],
         "y": [
          1839262.2518,
          2142088.5135,
          2482478.4377,
          2411826.4099,
          2264980.4258,
          5236697.4341,
          4751502.7752,
          1621724.5367,
          1830774.9493,
          1921362.2001,
          3540153.0728,
          2214195.5014
         ]
        },
        {
         "marker": {
          "color": "#3f3f3f",
          "size": 5
         },
         "mode": "lines+markers",
         "name": "Original",
         "showlegend": true,
         "type": "scatter",
         "x": [
          "2016-01-01T00:00:00",
          "2016-02-01T00:00:00",
          "2016-03-01T00:00:00",
          "2016-04-01T00:00:00",
          "2016-05-01T00:00:00",
          "2016-06-01T00:00:00",
          "2016-07-01T00:00:00",
          "2016-08-01T00:00:00",
          "2016-09-01T00:00:00",
          "2016-10-01T00:00:00",
          "2016-11-01T00:00:00",
          "2016-12-01T00:00:00",
          "2017-01-01T00:00:00",
          "2017-02-01T00:00:00",
          "2017-03-01T00:00:00",
          "2017-04-01T00:00:00",
          "2017-05-01T00:00:00",
          "2017-06-01T00:00:00",
          "2017-07-01T00:00:00",
          "2017-08-01T00:00:00",
          "2017-09-01T00:00:00",
          "2017-10-01T00:00:00",
          "2017-11-01T00:00:00",
          "2017-12-01T00:00:00",
          "2018-01-01T00:00:00",
          "2018-02-01T00:00:00",
          "2018-03-01T00:00:00",
          "2018-04-01T00:00:00",
          "2018-05-01T00:00:00",
          "2018-06-01T00:00:00",
          "2018-07-01T00:00:00",
          "2018-08-01T00:00:00",
          "2018-09-01T00:00:00",
          "2018-10-01T00:00:00",
          "2018-11-01T00:00:00",
          "2018-12-01T00:00:00",
          "2019-01-01T00:00:00",
          "2019-02-01T00:00:00",
          "2019-03-01T00:00:00",
          "2019-04-01T00:00:00",
          "2019-05-01T00:00:00",
          "2019-06-01T00:00:00",
          "2019-07-01T00:00:00",
          "2019-08-01T00:00:00",
          "2019-09-01T00:00:00",
          "2019-10-01T00:00:00",
          "2019-11-01T00:00:00",
          "2019-12-01T00:00:00",
          "2020-01-01T00:00:00",
          "2020-02-01T00:00:00",
          "2020-03-01T00:00:00",
          "2020-04-01T00:00:00",
          "2020-05-01T00:00:00",
          "2020-06-01T00:00:00",
          "2020-07-01T00:00:00",
          "2020-08-01T00:00:00",
          "2020-09-01T00:00:00",
          "2020-10-01T00:00:00",
          "2020-11-01T00:00:00",
          "2020-12-01T00:00:00",
          "2021-01-01T00:00:00",
          "2021-02-01T00:00:00",
          "2021-03-01T00:00:00",
          "2021-04-01T00:00:00",
          "2021-05-01T00:00:00",
          "2021-06-01T00:00:00",
          "2021-07-01T00:00:00",
          "2021-08-01T00:00:00",
          "2021-09-01T00:00:00",
          "2021-10-01T00:00:00",
          "2021-11-01T00:00:00",
          "2021-12-01T00:00:00",
          "2022-01-01T00:00:00",
          "2022-02-01T00:00:00",
          "2022-03-01T00:00:00",
          "2022-04-01T00:00:00",
          "2022-05-01T00:00:00",
          "2022-06-01T00:00:00",
          "2022-07-01T00:00:00",
          "2022-08-01T00:00:00",
          "2022-09-01T00:00:00",
          "2022-10-01T00:00:00",
          "2022-11-01T00:00:00",
          "2022-12-01T00:00:00"
         ],
         "y": [
          1149506.0292159666,
          1402452.887184883,
          1478748.375293856,
          2400803.199139154,
          1930329.2194614038,
          1430004.1824289134,
          1272045.4277809574,
          3376684.9660300873,
          1970740.3018500458,
          2050116.2057940827,
          2462928.705771439,
          3659366.791734663,
          1891726.890973197,
          1636623.246143643,
          1900607.7572021286,
          2447646.326341356,
          2178437.01412967,
          2622122.2494999263,
          1296662.131385067,
          1871283.5852002907,
          1835042.1083580323,
          1530770.25908719,
          1499710.8241960185,
          2378796.7743955557,
          1318011.3110725926,
          1162992.7975681163,
          1594891.0820690477,
          1787268.2706679115,
          2039652.2840838903,
          4811058.84167405,
          724983.093755524,
          -27561.750866266433,
          193718.82677324946,
          1152616.0616739008,
          3050413.203125524,
          781967.3574572693,
          595224.1086015998,
          -584876.9023838143,
          924964.0101984207,
          1250241.7815520098,
          1114139.4474851356,
          4589849.273865019,
          -620481.632240641,
          955721.8224889694,
          102418.49889105847,
          913700.4168423461,
          1963447.2122734885,
          934804.0480210937,
          495382.66709813435,
          994953.9791656553,
          458594.9183286052,
          45165.105459101695,
          957920.2238365654,
          1781939.6531280398,
          2650889.7993424605,
          1271050.2613537463,
          744977.7633900912,
          525745.3823821623,
          1998459.2399541938,
          444302.82608314074,
          330947.56468333653,
          646168.0129701821,
          986932.5158701628,
          916291.2403545977,
          769445.5644482456,
          3741162.581534638,
          3255967.9229715345,
          126189.68445068011,
          335240.09705578914,
          425827.3478610632,
          2044618.2205239364,
          718660.649138797,
          27985.246370486217,
          134713.64263458987,
          225577.44326485577,
          1178495.409322115,
          412623.3409380843,
          1862912.0426708818,
          -22968.502236443568,
          -301966.9584929261,
          3873232.518071339,
          2493892.8719785027,
          -145039.25782941194,
          1168321.1519575787
         ]
        }
       ],
       "layout": {
        "showlegend": true,
        "template": {
         "data": {
          "bar": [
           {
            "error_x": {
             "color": "rgb(51,51,51)"
            },
            "error_y": {
             "color": "rgb(51,51,51)"
            },
            "marker": {
             "line": {
              "color": "rgb(237,237,237)",
              "width": 0.5
             },
             "pattern": {
              "fillmode": "overlay",
              "size": 10,
              "solidity": 0.2
             }
            },
            "type": "bar"
           }
          ],
          "barpolar": [
           {
            "marker": {
             "line": {
              "color": "rgb(237,237,237)",
              "width": 0.5
             },
             "pattern": {
              "fillmode": "overlay",
              "size": 10,
              "solidity": 0.2
             }
            },
            "type": "barpolar"
           }
          ],
          "carpet": [
           {
            "aaxis": {
             "endlinecolor": "rgb(51,51,51)",
             "gridcolor": "white",
             "linecolor": "white",
             "minorgridcolor": "white",
             "startlinecolor": "rgb(51,51,51)"
            },
            "baxis": {
             "endlinecolor": "rgb(51,51,51)",
             "gridcolor": "white",
             "linecolor": "white",
             "minorgridcolor": "white",
             "startlinecolor": "rgb(51,51,51)"
            },
            "type": "carpet"
           }
          ],
          "choropleth": [
           {
            "colorbar": {
             "outlinewidth": 0,
             "tickcolor": "rgb(237,237,237)",
             "ticklen": 6,
             "ticks": "inside"
            },
            "type": "choropleth"
           }
          ],
          "contour": [
           {
            "colorbar": {
             "outlinewidth": 0,
             "tickcolor": "rgb(237,237,237)",
             "ticklen": 6,
             "ticks": "inside"
            },
            "colorscale": [
             [
              0,
              "rgb(20,44,66)"
             ],
             [
              1,
              "rgb(90,179,244)"
             ]
            ],
            "type": "contour"
           }
          ],
          "contourcarpet": [
           {
            "colorbar": {
             "outlinewidth": 0,
             "tickcolor": "rgb(237,237,237)",
             "ticklen": 6,
             "ticks": "inside"
            },
            "type": "contourcarpet"
           }
          ],
          "heatmap": [
           {
            "colorbar": {
             "outlinewidth": 0,
             "tickcolor": "rgb(237,237,237)",
             "ticklen": 6,
             "ticks": "inside"
            },
            "colorscale": [
             [
              0,
              "rgb(20,44,66)"
             ],
             [
              1,
              "rgb(90,179,244)"
             ]
            ],
            "type": "heatmap"
           }
          ],
          "heatmapgl": [
           {
            "colorbar": {
             "outlinewidth": 0,
             "tickcolor": "rgb(237,237,237)",
             "ticklen": 6,
             "ticks": "inside"
            },
            "colorscale": [
             [
              0,
              "rgb(20,44,66)"
             ],
             [
              1,
              "rgb(90,179,244)"
             ]
            ],
            "type": "heatmapgl"
           }
          ],
          "histogram": [
           {
            "marker": {
             "pattern": {
              "fillmode": "overlay",
              "size": 10,
              "solidity": 0.2
             }
            },
            "type": "histogram"
           }
          ],
          "histogram2d": [
           {
            "colorbar": {
             "outlinewidth": 0,
             "tickcolor": "rgb(237,237,237)",
             "ticklen": 6,
             "ticks": "inside"
            },
            "colorscale": [
             [
              0,
              "rgb(20,44,66)"
             ],
             [
              1,
              "rgb(90,179,244)"
             ]
            ],
            "type": "histogram2d"
           }
          ],
          "histogram2dcontour": [
           {
            "colorbar": {
             "outlinewidth": 0,
             "tickcolor": "rgb(237,237,237)",
             "ticklen": 6,
             "ticks": "inside"
            },
            "colorscale": [
             [
              0,
              "rgb(20,44,66)"
             ],
             [
              1,
              "rgb(90,179,244)"
             ]
            ],
            "type": "histogram2dcontour"
           }
          ],
          "mesh3d": [
           {
            "colorbar": {
             "outlinewidth": 0,
             "tickcolor": "rgb(237,237,237)",
             "ticklen": 6,
             "ticks": "inside"
            },
            "type": "mesh3d"
           }
          ],
          "parcoords": [
           {
            "line": {
             "colorbar": {
              "outlinewidth": 0,
              "tickcolor": "rgb(237,237,237)",
              "ticklen": 6,
              "ticks": "inside"
             }
            },
            "type": "parcoords"
           }
          ],
          "pie": [
           {
            "automargin": true,
            "type": "pie"
           }
          ],
          "scatter": [
           {
            "fillpattern": {
             "fillmode": "overlay",
             "size": 10,
             "solidity": 0.2
            },
            "type": "scatter"
           }
          ],
          "scatter3d": [
           {
            "line": {
             "colorbar": {
              "outlinewidth": 0,
              "tickcolor": "rgb(237,237,237)",
              "ticklen": 6,
              "ticks": "inside"
             }
            },
            "marker": {
             "colorbar": {
              "outlinewidth": 0,
              "tickcolor": "rgb(237,237,237)",
              "ticklen": 6,
              "ticks": "inside"
             }
            },
            "type": "scatter3d"
           }
          ],
          "scattercarpet": [
           {
            "marker": {
             "colorbar": {
              "outlinewidth": 0,
              "tickcolor": "rgb(237,237,237)",
              "ticklen": 6,
              "ticks": "inside"
             }
            },
            "type": "scattercarpet"
           }
          ],
          "scattergeo": [
           {
            "marker": {
             "colorbar": {
              "outlinewidth": 0,
              "tickcolor": "rgb(237,237,237)",
              "ticklen": 6,
              "ticks": "inside"
             }
            },
            "type": "scattergeo"
           }
          ],
          "scattergl": [
           {
            "marker": {
             "colorbar": {
              "outlinewidth": 0,
              "tickcolor": "rgb(237,237,237)",
              "ticklen": 6,
              "ticks": "inside"
             }
            },
            "type": "scattergl"
           }
          ],
          "scattermapbox": [
           {
            "marker": {
             "colorbar": {
              "outlinewidth": 0,
              "tickcolor": "rgb(237,237,237)",
              "ticklen": 6,
              "ticks": "inside"
             }
            },
            "type": "scattermapbox"
           }
          ],
          "scatterpolar": [
           {
            "marker": {
             "colorbar": {
              "outlinewidth": 0,
              "tickcolor": "rgb(237,237,237)",
              "ticklen": 6,
              "ticks": "inside"
             }
            },
            "type": "scatterpolar"
           }
          ],
          "scatterpolargl": [
           {
            "marker": {
             "colorbar": {
              "outlinewidth": 0,
              "tickcolor": "rgb(237,237,237)",
              "ticklen": 6,
              "ticks": "inside"
             }
            },
            "type": "scatterpolargl"
           }
          ],
          "scatterternary": [
           {
            "marker": {
             "colorbar": {
              "outlinewidth": 0,
              "tickcolor": "rgb(237,237,237)",
              "ticklen": 6,
              "ticks": "inside"
             }
            },
            "type": "scatterternary"
           }
          ],
          "surface": [
           {
            "colorbar": {
             "outlinewidth": 0,
             "tickcolor": "rgb(237,237,237)",
             "ticklen": 6,
             "ticks": "inside"
            },
            "colorscale": [
             [
              0,
              "rgb(20,44,66)"
             ],
             [
              1,
              "rgb(90,179,244)"
             ]
            ],
            "type": "surface"
           }
          ],
          "table": [
           {
            "cells": {
             "fill": {
              "color": "rgb(237,237,237)"
             },
             "line": {
              "color": "white"
             }
            },
            "header": {
             "fill": {
              "color": "rgb(217,217,217)"
             },
             "line": {
              "color": "white"
             }
            },
            "type": "table"
           }
          ]
         },
         "layout": {
          "annotationdefaults": {
           "arrowhead": 0,
           "arrowwidth": 1
          },
          "autotypenumbers": "strict",
          "coloraxis": {
           "colorbar": {
            "outlinewidth": 0,
            "tickcolor": "rgb(237,237,237)",
            "ticklen": 6,
            "ticks": "inside"
           }
          },
          "colorscale": {
           "sequential": [
            [
             0,
             "rgb(20,44,66)"
            ],
            [
             1,
             "rgb(90,179,244)"
            ]
           ],
           "sequentialminus": [
            [
             0,
             "rgb(20,44,66)"
            ],
            [
             1,
             "rgb(90,179,244)"
            ]
           ]
          },
          "colorway": [
           "#F8766D",
           "#A3A500",
           "#00BF7D",
           "#00B0F6",
           "#E76BF3"
          ],
          "font": {
           "color": "rgb(51,51,51)"
          },
          "geo": {
           "bgcolor": "white",
           "lakecolor": "white",
           "landcolor": "rgb(237,237,237)",
           "showlakes": true,
           "showland": true,
           "subunitcolor": "white"
          },
          "hoverlabel": {
           "align": "left"
          },
          "hovermode": "closest",
          "paper_bgcolor": "white",
          "plot_bgcolor": "rgb(237,237,237)",
          "polar": {
           "angularaxis": {
            "gridcolor": "white",
            "linecolor": "white",
            "showgrid": true,
            "tickcolor": "rgb(51,51,51)",
            "ticks": "outside"
           },
           "bgcolor": "rgb(237,237,237)",
           "radialaxis": {
            "gridcolor": "white",
            "linecolor": "white",
            "showgrid": true,
            "tickcolor": "rgb(51,51,51)",
            "ticks": "outside"
           }
          },
          "scene": {
           "xaxis": {
            "backgroundcolor": "rgb(237,237,237)",
            "gridcolor": "white",
            "gridwidth": 2,
            "linecolor": "white",
            "showbackground": true,
            "showgrid": true,
            "tickcolor": "rgb(51,51,51)",
            "ticks": "outside",
            "zerolinecolor": "white"
           },
           "yaxis": {
            "backgroundcolor": "rgb(237,237,237)",
            "gridcolor": "white",
            "gridwidth": 2,
            "linecolor": "white",
            "showbackground": true,
            "showgrid": true,
            "tickcolor": "rgb(51,51,51)",
            "ticks": "outside",
            "zerolinecolor": "white"
           },
           "zaxis": {
            "backgroundcolor": "rgb(237,237,237)",
            "gridcolor": "white",
            "gridwidth": 2,
            "linecolor": "white",
            "showbackground": true,
            "showgrid": true,
            "tickcolor": "rgb(51,51,51)",
            "ticks": "outside",
            "zerolinecolor": "white"
           }
          },
          "shapedefaults": {
           "fillcolor": "black",
           "line": {
            "width": 0
           },
           "opacity": 0.3
          },
          "ternary": {
           "aaxis": {
            "gridcolor": "white",
            "linecolor": "white",
            "showgrid": true,
            "tickcolor": "rgb(51,51,51)",
            "ticks": "outside"
           },
           "baxis": {
            "gridcolor": "white",
            "linecolor": "white",
            "showgrid": true,
            "tickcolor": "rgb(51,51,51)",
            "ticks": "outside"
           },
           "bgcolor": "rgb(237,237,237)",
           "caxis": {
            "gridcolor": "white",
            "linecolor": "white",
            "showgrid": true,
            "tickcolor": "rgb(51,51,51)",
            "ticks": "outside"
           }
          },
          "xaxis": {
           "automargin": true,
           "gridcolor": "white",
           "linecolor": "white",
           "showgrid": true,
           "tickcolor": "rgb(51,51,51)",
           "ticks": "outside",
           "title": {
            "standoff": 15
           },
           "zerolinecolor": "white"
          },
          "yaxis": {
           "automargin": true,
           "gridcolor": "white",
           "linecolor": "white",
           "showgrid": true,
           "tickcolor": "rgb(51,51,51)",
           "ticks": "outside",
           "title": {
            "standoff": 15
           },
           "zerolinecolor": "white"
          }
         }
        },
        "title": {
         "text": "Actual vs. 'Out-of-Sample' Forecast | NET_SALES"
        },
        "xaxis": {
         "title": {
          "text": "Time"
         }
        },
        "yaxis": {
         "title": {
          "text": "Values"
         }
        }
       }
      }
     },
     "metadata": {},
     "output_type": "display_data"
    },
    {
     "data": {
      "text/html": [
       "<style type=\"text/css\">\n",
       "</style>\n",
       "<table id=\"T_418df\">\n",
       "  <thead>\n",
       "    <tr>\n",
       "      <th class=\"blank level0\" >&nbsp;</th>\n",
       "      <th id=\"T_418df_level0_col0\" class=\"col_heading level0 col0\" >Model</th>\n",
       "      <th id=\"T_418df_level0_col1\" class=\"col_heading level0 col1\" >MASE</th>\n",
       "      <th id=\"T_418df_level0_col2\" class=\"col_heading level0 col2\" >RMSSE</th>\n",
       "      <th id=\"T_418df_level0_col3\" class=\"col_heading level0 col3\" >MAE</th>\n",
       "      <th id=\"T_418df_level0_col4\" class=\"col_heading level0 col4\" >RMSE</th>\n",
       "      <th id=\"T_418df_level0_col5\" class=\"col_heading level0 col5\" >MAPE</th>\n",
       "      <th id=\"T_418df_level0_col6\" class=\"col_heading level0 col6\" >SMAPE</th>\n",
       "      <th id=\"T_418df_level0_col7\" class=\"col_heading level0 col7\" >R2</th>\n",
       "    </tr>\n",
       "  </thead>\n",
       "  <tbody>\n",
       "    <tr>\n",
       "      <th id=\"T_418df_level0_row0\" class=\"row_heading level0 row0\" >0</th>\n",
       "      <td id=\"T_418df_row0_col0\" class=\"data row0 col0\" >ARIMA</td>\n",
       "      <td id=\"T_418df_row0_col1\" class=\"data row0 col1\" >1.6542</td>\n",
       "      <td id=\"T_418df_row0_col2\" class=\"data row0 col2\" >1.6766</td>\n",
       "      <td id=\"T_418df_row0_col3\" class=\"data row0 col3\" >1271362.9952</td>\n",
       "      <td id=\"T_418df_row0_col4\" class=\"data row0 col4\" >1744487.1021</td>\n",
       "      <td id=\"T_418df_row0_col5\" class=\"data row0 col5\" >13.5020</td>\n",
       "      <td id=\"T_418df_row0_col6\" class=\"data row0 col6\" >1.2106</td>\n",
       "      <td id=\"T_418df_row0_col7\" class=\"data row0 col7\" >-1.0420</td>\n",
       "    </tr>\n",
       "  </tbody>\n",
       "</table>\n"
      ],
      "text/plain": [
       "<pandas.io.formats.style.Styler at 0x1a6c97c9a90>"
      ]
     },
     "metadata": {},
     "output_type": "display_data"
    },
    {
     "name": "stderr",
     "output_type": "stream",
     "text": [
      " 50%|█████     | 7/14 [02:10<02:03, 17.64s/it]"
     ]
    },
    {
     "data": {
      "text/html": [
       "<style type=\"text/css\">\n",
       "#T_c7f0e_row28_col1, #T_c7f0e_row31_col1 {\n",
       "  background-color: lightgreen;\n",
       "}\n",
       "</style>\n",
       "<table id=\"T_c7f0e\">\n",
       "  <thead>\n",
       "    <tr>\n",
       "      <th class=\"blank level0\" >&nbsp;</th>\n",
       "      <th id=\"T_c7f0e_level0_col0\" class=\"col_heading level0 col0\" >Description</th>\n",
       "      <th id=\"T_c7f0e_level0_col1\" class=\"col_heading level0 col1\" >Value</th>\n",
       "    </tr>\n",
       "  </thead>\n",
       "  <tbody>\n",
       "    <tr>\n",
       "      <th id=\"T_c7f0e_level0_row0\" class=\"row_heading level0 row0\" >0</th>\n",
       "      <td id=\"T_c7f0e_row0_col0\" class=\"data row0 col0\" >session_id</td>\n",
       "      <td id=\"T_c7f0e_row0_col1\" class=\"data row0 col1\" >123</td>\n",
       "    </tr>\n",
       "    <tr>\n",
       "      <th id=\"T_c7f0e_level0_row1\" class=\"row_heading level0 row1\" >1</th>\n",
       "      <td id=\"T_c7f0e_row1_col0\" class=\"data row1 col0\" >Target</td>\n",
       "      <td id=\"T_c7f0e_row1_col1\" class=\"data row1 col1\" >NET_SALES</td>\n",
       "    </tr>\n",
       "    <tr>\n",
       "      <th id=\"T_c7f0e_level0_row2\" class=\"row_heading level0 row2\" >2</th>\n",
       "      <td id=\"T_c7f0e_row2_col0\" class=\"data row2 col0\" >Approach</td>\n",
       "      <td id=\"T_c7f0e_row2_col1\" class=\"data row2 col1\" >Univariate</td>\n",
       "    </tr>\n",
       "    <tr>\n",
       "      <th id=\"T_c7f0e_level0_row3\" class=\"row_heading level0 row3\" >3</th>\n",
       "      <td id=\"T_c7f0e_row3_col0\" class=\"data row3 col0\" >Exogenous Variables</td>\n",
       "      <td id=\"T_c7f0e_row3_col1\" class=\"data row3 col1\" >Not Present</td>\n",
       "    </tr>\n",
       "    <tr>\n",
       "      <th id=\"T_c7f0e_level0_row4\" class=\"row_heading level0 row4\" >4</th>\n",
       "      <td id=\"T_c7f0e_row4_col0\" class=\"data row4 col0\" >Original data shape</td>\n",
       "      <td id=\"T_c7f0e_row4_col1\" class=\"data row4 col1\" >(84, 1)</td>\n",
       "    </tr>\n",
       "    <tr>\n",
       "      <th id=\"T_c7f0e_level0_row5\" class=\"row_heading level0 row5\" >5</th>\n",
       "      <td id=\"T_c7f0e_row5_col0\" class=\"data row5 col0\" >Transformed data shape</td>\n",
       "      <td id=\"T_c7f0e_row5_col1\" class=\"data row5 col1\" >(84, 1)</td>\n",
       "    </tr>\n",
       "    <tr>\n",
       "      <th id=\"T_c7f0e_level0_row6\" class=\"row_heading level0 row6\" >6</th>\n",
       "      <td id=\"T_c7f0e_row6_col0\" class=\"data row6 col0\" >Transformed train set shape</td>\n",
       "      <td id=\"T_c7f0e_row6_col1\" class=\"data row6 col1\" >(72, 1)</td>\n",
       "    </tr>\n",
       "    <tr>\n",
       "      <th id=\"T_c7f0e_level0_row7\" class=\"row_heading level0 row7\" >7</th>\n",
       "      <td id=\"T_c7f0e_row7_col0\" class=\"data row7 col0\" >Transformed test set shape</td>\n",
       "      <td id=\"T_c7f0e_row7_col1\" class=\"data row7 col1\" >(12, 1)</td>\n",
       "    </tr>\n",
       "    <tr>\n",
       "      <th id=\"T_c7f0e_level0_row8\" class=\"row_heading level0 row8\" >8</th>\n",
       "      <td id=\"T_c7f0e_row8_col0\" class=\"data row8 col0\" >Rows with missing values</td>\n",
       "      <td id=\"T_c7f0e_row8_col1\" class=\"data row8 col1\" >0.0%</td>\n",
       "    </tr>\n",
       "    <tr>\n",
       "      <th id=\"T_c7f0e_level0_row9\" class=\"row_heading level0 row9\" >9</th>\n",
       "      <td id=\"T_c7f0e_row9_col0\" class=\"data row9 col0\" >Fold Generator</td>\n",
       "      <td id=\"T_c7f0e_row9_col1\" class=\"data row9 col1\" >ExpandingWindowSplitter</td>\n",
       "    </tr>\n",
       "    <tr>\n",
       "      <th id=\"T_c7f0e_level0_row10\" class=\"row_heading level0 row10\" >10</th>\n",
       "      <td id=\"T_c7f0e_row10_col0\" class=\"data row10 col0\" >Fold Number</td>\n",
       "      <td id=\"T_c7f0e_row10_col1\" class=\"data row10 col1\" >3</td>\n",
       "    </tr>\n",
       "    <tr>\n",
       "      <th id=\"T_c7f0e_level0_row11\" class=\"row_heading level0 row11\" >11</th>\n",
       "      <td id=\"T_c7f0e_row11_col0\" class=\"data row11 col0\" >Enforce Prediction Interval</td>\n",
       "      <td id=\"T_c7f0e_row11_col1\" class=\"data row11 col1\" >False</td>\n",
       "    </tr>\n",
       "    <tr>\n",
       "      <th id=\"T_c7f0e_level0_row12\" class=\"row_heading level0 row12\" >12</th>\n",
       "      <td id=\"T_c7f0e_row12_col0\" class=\"data row12 col0\" >Splits used for hyperparameters</td>\n",
       "      <td id=\"T_c7f0e_row12_col1\" class=\"data row12 col1\" >all</td>\n",
       "    </tr>\n",
       "    <tr>\n",
       "      <th id=\"T_c7f0e_level0_row13\" class=\"row_heading level0 row13\" >13</th>\n",
       "      <td id=\"T_c7f0e_row13_col0\" class=\"data row13 col0\" >User Defined Seasonal Period(s)</td>\n",
       "      <td id=\"T_c7f0e_row13_col1\" class=\"data row13 col1\" >None</td>\n",
       "    </tr>\n",
       "    <tr>\n",
       "      <th id=\"T_c7f0e_level0_row14\" class=\"row_heading level0 row14\" >14</th>\n",
       "      <td id=\"T_c7f0e_row14_col0\" class=\"data row14 col0\" >Ignore Seasonality Test</td>\n",
       "      <td id=\"T_c7f0e_row14_col1\" class=\"data row14 col1\" >False</td>\n",
       "    </tr>\n",
       "    <tr>\n",
       "      <th id=\"T_c7f0e_level0_row15\" class=\"row_heading level0 row15\" >15</th>\n",
       "      <td id=\"T_c7f0e_row15_col0\" class=\"data row15 col0\" >Seasonality Detection Algo</td>\n",
       "      <td id=\"T_c7f0e_row15_col1\" class=\"data row15 col1\" >auto</td>\n",
       "    </tr>\n",
       "    <tr>\n",
       "      <th id=\"T_c7f0e_level0_row16\" class=\"row_heading level0 row16\" >16</th>\n",
       "      <td id=\"T_c7f0e_row16_col0\" class=\"data row16 col0\" >Max Period to Consider</td>\n",
       "      <td id=\"T_c7f0e_row16_col1\" class=\"data row16 col1\" >60</td>\n",
       "    </tr>\n",
       "    <tr>\n",
       "      <th id=\"T_c7f0e_level0_row17\" class=\"row_heading level0 row17\" >17</th>\n",
       "      <td id=\"T_c7f0e_row17_col0\" class=\"data row17 col0\" >Seasonal Period(s) Tested</td>\n",
       "      <td id=\"T_c7f0e_row17_col1\" class=\"data row17 col1\" >[]</td>\n",
       "    </tr>\n",
       "    <tr>\n",
       "      <th id=\"T_c7f0e_level0_row18\" class=\"row_heading level0 row18\" >18</th>\n",
       "      <td id=\"T_c7f0e_row18_col0\" class=\"data row18 col0\" >Significant Seasonal Period(s)</td>\n",
       "      <td id=\"T_c7f0e_row18_col1\" class=\"data row18 col1\" >[1]</td>\n",
       "    </tr>\n",
       "    <tr>\n",
       "      <th id=\"T_c7f0e_level0_row19\" class=\"row_heading level0 row19\" >19</th>\n",
       "      <td id=\"T_c7f0e_row19_col0\" class=\"data row19 col0\" >Significant Seasonal Period(s) without Harmonics</td>\n",
       "      <td id=\"T_c7f0e_row19_col1\" class=\"data row19 col1\" >[1]</td>\n",
       "    </tr>\n",
       "    <tr>\n",
       "      <th id=\"T_c7f0e_level0_row20\" class=\"row_heading level0 row20\" >20</th>\n",
       "      <td id=\"T_c7f0e_row20_col0\" class=\"data row20 col0\" >Remove Harmonics</td>\n",
       "      <td id=\"T_c7f0e_row20_col1\" class=\"data row20 col1\" >False</td>\n",
       "    </tr>\n",
       "    <tr>\n",
       "      <th id=\"T_c7f0e_level0_row21\" class=\"row_heading level0 row21\" >21</th>\n",
       "      <td id=\"T_c7f0e_row21_col0\" class=\"data row21 col0\" >Harmonics Order Method</td>\n",
       "      <td id=\"T_c7f0e_row21_col1\" class=\"data row21 col1\" >harmonic_max</td>\n",
       "    </tr>\n",
       "    <tr>\n",
       "      <th id=\"T_c7f0e_level0_row22\" class=\"row_heading level0 row22\" >22</th>\n",
       "      <td id=\"T_c7f0e_row22_col0\" class=\"data row22 col0\" >Num Seasonalities to Use</td>\n",
       "      <td id=\"T_c7f0e_row22_col1\" class=\"data row22 col1\" >1</td>\n",
       "    </tr>\n",
       "    <tr>\n",
       "      <th id=\"T_c7f0e_level0_row23\" class=\"row_heading level0 row23\" >23</th>\n",
       "      <td id=\"T_c7f0e_row23_col0\" class=\"data row23 col0\" >All Seasonalities to Use</td>\n",
       "      <td id=\"T_c7f0e_row23_col1\" class=\"data row23 col1\" >[1]</td>\n",
       "    </tr>\n",
       "    <tr>\n",
       "      <th id=\"T_c7f0e_level0_row24\" class=\"row_heading level0 row24\" >24</th>\n",
       "      <td id=\"T_c7f0e_row24_col0\" class=\"data row24 col0\" >Primary Seasonality</td>\n",
       "      <td id=\"T_c7f0e_row24_col1\" class=\"data row24 col1\" >1</td>\n",
       "    </tr>\n",
       "    <tr>\n",
       "      <th id=\"T_c7f0e_level0_row25\" class=\"row_heading level0 row25\" >25</th>\n",
       "      <td id=\"T_c7f0e_row25_col0\" class=\"data row25 col0\" >Seasonality Present</td>\n",
       "      <td id=\"T_c7f0e_row25_col1\" class=\"data row25 col1\" >False</td>\n",
       "    </tr>\n",
       "    <tr>\n",
       "      <th id=\"T_c7f0e_level0_row26\" class=\"row_heading level0 row26\" >26</th>\n",
       "      <td id=\"T_c7f0e_row26_col0\" class=\"data row26 col0\" >Seasonality Type</td>\n",
       "      <td id=\"T_c7f0e_row26_col1\" class=\"data row26 col1\" >None</td>\n",
       "    </tr>\n",
       "    <tr>\n",
       "      <th id=\"T_c7f0e_level0_row27\" class=\"row_heading level0 row27\" >27</th>\n",
       "      <td id=\"T_c7f0e_row27_col0\" class=\"data row27 col0\" >Target Strictly Positive</td>\n",
       "      <td id=\"T_c7f0e_row27_col1\" class=\"data row27 col1\" >False</td>\n",
       "    </tr>\n",
       "    <tr>\n",
       "      <th id=\"T_c7f0e_level0_row28\" class=\"row_heading level0 row28\" >28</th>\n",
       "      <td id=\"T_c7f0e_row28_col0\" class=\"data row28 col0\" >Target White Noise</td>\n",
       "      <td id=\"T_c7f0e_row28_col1\" class=\"data row28 col1\" >Yes</td>\n",
       "    </tr>\n",
       "    <tr>\n",
       "      <th id=\"T_c7f0e_level0_row29\" class=\"row_heading level0 row29\" >29</th>\n",
       "      <td id=\"T_c7f0e_row29_col0\" class=\"data row29 col0\" >Recommended d</td>\n",
       "      <td id=\"T_c7f0e_row29_col1\" class=\"data row29 col1\" >0</td>\n",
       "    </tr>\n",
       "    <tr>\n",
       "      <th id=\"T_c7f0e_level0_row30\" class=\"row_heading level0 row30\" >30</th>\n",
       "      <td id=\"T_c7f0e_row30_col0\" class=\"data row30 col0\" >Recommended Seasonal D</td>\n",
       "      <td id=\"T_c7f0e_row30_col1\" class=\"data row30 col1\" >0</td>\n",
       "    </tr>\n",
       "    <tr>\n",
       "      <th id=\"T_c7f0e_level0_row31\" class=\"row_heading level0 row31\" >31</th>\n",
       "      <td id=\"T_c7f0e_row31_col0\" class=\"data row31 col0\" >Preprocess</td>\n",
       "      <td id=\"T_c7f0e_row31_col1\" class=\"data row31 col1\" >True</td>\n",
       "    </tr>\n",
       "    <tr>\n",
       "      <th id=\"T_c7f0e_level0_row32\" class=\"row_heading level0 row32\" >32</th>\n",
       "      <td id=\"T_c7f0e_row32_col0\" class=\"data row32 col0\" >Numerical Imputation (Target)</td>\n",
       "      <td id=\"T_c7f0e_row32_col1\" class=\"data row32 col1\" >mean</td>\n",
       "    </tr>\n",
       "    <tr>\n",
       "      <th id=\"T_c7f0e_level0_row33\" class=\"row_heading level0 row33\" >33</th>\n",
       "      <td id=\"T_c7f0e_row33_col0\" class=\"data row33 col0\" >Transformation (Target)</td>\n",
       "      <td id=\"T_c7f0e_row33_col1\" class=\"data row33 col1\" >None</td>\n",
       "    </tr>\n",
       "    <tr>\n",
       "      <th id=\"T_c7f0e_level0_row34\" class=\"row_heading level0 row34\" >34</th>\n",
       "      <td id=\"T_c7f0e_row34_col0\" class=\"data row34 col0\" >Scaling (Target)</td>\n",
       "      <td id=\"T_c7f0e_row34_col1\" class=\"data row34 col1\" >None</td>\n",
       "    </tr>\n",
       "    <tr>\n",
       "      <th id=\"T_c7f0e_level0_row35\" class=\"row_heading level0 row35\" >35</th>\n",
       "      <td id=\"T_c7f0e_row35_col0\" class=\"data row35 col0\" >Feature Engineering (Target) - Reduced Regression</td>\n",
       "      <td id=\"T_c7f0e_row35_col1\" class=\"data row35 col1\" >False</td>\n",
       "    </tr>\n",
       "    <tr>\n",
       "      <th id=\"T_c7f0e_level0_row36\" class=\"row_heading level0 row36\" >36</th>\n",
       "      <td id=\"T_c7f0e_row36_col0\" class=\"data row36 col0\" >CPU Jobs</td>\n",
       "      <td id=\"T_c7f0e_row36_col1\" class=\"data row36 col1\" >-1</td>\n",
       "    </tr>\n",
       "    <tr>\n",
       "      <th id=\"T_c7f0e_level0_row37\" class=\"row_heading level0 row37\" >37</th>\n",
       "      <td id=\"T_c7f0e_row37_col0\" class=\"data row37 col0\" >Use GPU</td>\n",
       "      <td id=\"T_c7f0e_row37_col1\" class=\"data row37 col1\" >False</td>\n",
       "    </tr>\n",
       "    <tr>\n",
       "      <th id=\"T_c7f0e_level0_row38\" class=\"row_heading level0 row38\" >38</th>\n",
       "      <td id=\"T_c7f0e_row38_col0\" class=\"data row38 col0\" >Log Experiment</td>\n",
       "      <td id=\"T_c7f0e_row38_col1\" class=\"data row38 col1\" >False</td>\n",
       "    </tr>\n",
       "    <tr>\n",
       "      <th id=\"T_c7f0e_level0_row39\" class=\"row_heading level0 row39\" >39</th>\n",
       "      <td id=\"T_c7f0e_row39_col0\" class=\"data row39 col0\" >Experiment Name</td>\n",
       "      <td id=\"T_c7f0e_row39_col1\" class=\"data row39 col1\" >ts-default-name</td>\n",
       "    </tr>\n",
       "    <tr>\n",
       "      <th id=\"T_c7f0e_level0_row40\" class=\"row_heading level0 row40\" >40</th>\n",
       "      <td id=\"T_c7f0e_row40_col0\" class=\"data row40 col0\" >USI</td>\n",
       "      <td id=\"T_c7f0e_row40_col1\" class=\"data row40 col1\" >67f9</td>\n",
       "    </tr>\n",
       "  </tbody>\n",
       "</table>\n"
      ],
      "text/plain": [
       "<pandas.io.formats.style.Styler at 0x1a6c0238550>"
      ]
     },
     "metadata": {},
     "output_type": "display_data"
    },
    {
     "data": {
      "text/html": [],
      "text/plain": [
       "<IPython.core.display.HTML object>"
      ]
     },
     "metadata": {},
     "output_type": "display_data"
    },
    {
     "data": {
      "text/html": [
       "<style type=\"text/css\">\n",
       "#T_22cfc th {\n",
       "  text-align: left;\n",
       "}\n",
       "#T_22cfc_row0_col0, #T_22cfc_row0_col1, #T_22cfc_row0_col2, #T_22cfc_row0_col3, #T_22cfc_row0_col4, #T_22cfc_row0_col6, #T_22cfc_row0_col7, #T_22cfc_row1_col0, #T_22cfc_row1_col2, #T_22cfc_row1_col3, #T_22cfc_row1_col4, #T_22cfc_row1_col5, #T_22cfc_row1_col6, #T_22cfc_row1_col7, #T_22cfc_row2_col0, #T_22cfc_row2_col1, #T_22cfc_row2_col2, #T_22cfc_row2_col3, #T_22cfc_row2_col4, #T_22cfc_row2_col5, #T_22cfc_row2_col6, #T_22cfc_row2_col7, #T_22cfc_row3_col0, #T_22cfc_row3_col1, #T_22cfc_row3_col2, #T_22cfc_row3_col3, #T_22cfc_row3_col4, #T_22cfc_row3_col5, #T_22cfc_row3_col6, #T_22cfc_row3_col7, #T_22cfc_row4_col0, #T_22cfc_row4_col1, #T_22cfc_row4_col2, #T_22cfc_row4_col4, #T_22cfc_row4_col5, #T_22cfc_row4_col7, #T_22cfc_row5_col0, #T_22cfc_row5_col1, #T_22cfc_row5_col3, #T_22cfc_row5_col5, #T_22cfc_row5_col6, #T_22cfc_row6_col0, #T_22cfc_row6_col1, #T_22cfc_row6_col2, #T_22cfc_row6_col3, #T_22cfc_row6_col4, #T_22cfc_row6_col5, #T_22cfc_row6_col6, #T_22cfc_row6_col7, #T_22cfc_row7_col0, #T_22cfc_row7_col1, #T_22cfc_row7_col2, #T_22cfc_row7_col3, #T_22cfc_row7_col4, #T_22cfc_row7_col5, #T_22cfc_row7_col6, #T_22cfc_row7_col7, #T_22cfc_row8_col0, #T_22cfc_row8_col1, #T_22cfc_row8_col2, #T_22cfc_row8_col3, #T_22cfc_row8_col4, #T_22cfc_row8_col5, #T_22cfc_row8_col6, #T_22cfc_row8_col7, #T_22cfc_row9_col0, #T_22cfc_row9_col1, #T_22cfc_row9_col2, #T_22cfc_row9_col3, #T_22cfc_row9_col4, #T_22cfc_row9_col5, #T_22cfc_row9_col6, #T_22cfc_row9_col7, #T_22cfc_row10_col0, #T_22cfc_row10_col1, #T_22cfc_row10_col2, #T_22cfc_row10_col3, #T_22cfc_row10_col4, #T_22cfc_row10_col5, #T_22cfc_row10_col6, #T_22cfc_row10_col7, #T_22cfc_row11_col0, #T_22cfc_row11_col1, #T_22cfc_row11_col2, #T_22cfc_row11_col3, #T_22cfc_row11_col4, #T_22cfc_row11_col5, #T_22cfc_row11_col6, #T_22cfc_row11_col7, #T_22cfc_row12_col0, #T_22cfc_row12_col1, #T_22cfc_row12_col2, #T_22cfc_row12_col3, #T_22cfc_row12_col4, #T_22cfc_row12_col5, #T_22cfc_row12_col6, #T_22cfc_row12_col7, #T_22cfc_row13_col0, #T_22cfc_row13_col1, #T_22cfc_row13_col2, #T_22cfc_row13_col3, #T_22cfc_row13_col4, #T_22cfc_row13_col5, #T_22cfc_row13_col6, #T_22cfc_row13_col7, #T_22cfc_row14_col0, #T_22cfc_row14_col1, #T_22cfc_row14_col2, #T_22cfc_row14_col3, #T_22cfc_row14_col4, #T_22cfc_row14_col5, #T_22cfc_row14_col6, #T_22cfc_row14_col7, #T_22cfc_row15_col0, #T_22cfc_row15_col1, #T_22cfc_row15_col2, #T_22cfc_row15_col3, #T_22cfc_row15_col4, #T_22cfc_row15_col5, #T_22cfc_row15_col6, #T_22cfc_row15_col7, #T_22cfc_row16_col0, #T_22cfc_row16_col1, #T_22cfc_row16_col2, #T_22cfc_row16_col3, #T_22cfc_row16_col4, #T_22cfc_row16_col5, #T_22cfc_row16_col6, #T_22cfc_row16_col7, #T_22cfc_row17_col0, #T_22cfc_row17_col1, #T_22cfc_row17_col2, #T_22cfc_row17_col3, #T_22cfc_row17_col4, #T_22cfc_row17_col5, #T_22cfc_row17_col6, #T_22cfc_row17_col7, #T_22cfc_row18_col0, #T_22cfc_row18_col1, #T_22cfc_row18_col2, #T_22cfc_row18_col3, #T_22cfc_row18_col4, #T_22cfc_row18_col5, #T_22cfc_row18_col6, #T_22cfc_row18_col7, #T_22cfc_row19_col0, #T_22cfc_row19_col1, #T_22cfc_row19_col2, #T_22cfc_row19_col3, #T_22cfc_row19_col4, #T_22cfc_row19_col5, #T_22cfc_row19_col6, #T_22cfc_row19_col7, #T_22cfc_row20_col0, #T_22cfc_row20_col1, #T_22cfc_row20_col2, #T_22cfc_row20_col3, #T_22cfc_row20_col4, #T_22cfc_row20_col5, #T_22cfc_row20_col6, #T_22cfc_row20_col7, #T_22cfc_row21_col0, #T_22cfc_row21_col1, #T_22cfc_row21_col2, #T_22cfc_row21_col3, #T_22cfc_row21_col4, #T_22cfc_row21_col5, #T_22cfc_row21_col6, #T_22cfc_row21_col7 {\n",
       "  text-align: left;\n",
       "}\n",
       "#T_22cfc_row0_col5, #T_22cfc_row1_col1, #T_22cfc_row4_col3, #T_22cfc_row4_col6, #T_22cfc_row5_col2, #T_22cfc_row5_col4, #T_22cfc_row5_col7 {\n",
       "  text-align: left;\n",
       "  background-color: yellow;\n",
       "}\n",
       "#T_22cfc_row0_col8, #T_22cfc_row1_col8, #T_22cfc_row2_col8, #T_22cfc_row3_col8, #T_22cfc_row4_col8, #T_22cfc_row5_col8, #T_22cfc_row6_col8, #T_22cfc_row7_col8, #T_22cfc_row8_col8, #T_22cfc_row9_col8, #T_22cfc_row10_col8, #T_22cfc_row11_col8, #T_22cfc_row12_col8, #T_22cfc_row13_col8, #T_22cfc_row14_col8, #T_22cfc_row16_col8, #T_22cfc_row17_col8, #T_22cfc_row18_col8, #T_22cfc_row19_col8, #T_22cfc_row20_col8, #T_22cfc_row21_col8 {\n",
       "  text-align: left;\n",
       "  background-color: lightgrey;\n",
       "}\n",
       "#T_22cfc_row15_col8 {\n",
       "  text-align: left;\n",
       "  background-color: yellow;\n",
       "  background-color: lightgrey;\n",
       "}\n",
       "</style>\n",
       "<table id=\"T_22cfc\">\n",
       "  <thead>\n",
       "    <tr>\n",
       "      <th class=\"blank level0\" >&nbsp;</th>\n",
       "      <th id=\"T_22cfc_level0_col0\" class=\"col_heading level0 col0\" >Model</th>\n",
       "      <th id=\"T_22cfc_level0_col1\" class=\"col_heading level0 col1\" >MASE</th>\n",
       "      <th id=\"T_22cfc_level0_col2\" class=\"col_heading level0 col2\" >RMSSE</th>\n",
       "      <th id=\"T_22cfc_level0_col3\" class=\"col_heading level0 col3\" >MAE</th>\n",
       "      <th id=\"T_22cfc_level0_col4\" class=\"col_heading level0 col4\" >RMSE</th>\n",
       "      <th id=\"T_22cfc_level0_col5\" class=\"col_heading level0 col5\" >MAPE</th>\n",
       "      <th id=\"T_22cfc_level0_col6\" class=\"col_heading level0 col6\" >SMAPE</th>\n",
       "      <th id=\"T_22cfc_level0_col7\" class=\"col_heading level0 col7\" >R2</th>\n",
       "      <th id=\"T_22cfc_level0_col8\" class=\"col_heading level0 col8\" >TT (Sec)</th>\n",
       "    </tr>\n",
       "  </thead>\n",
       "  <tbody>\n",
       "    <tr>\n",
       "      <th id=\"T_22cfc_level0_row0\" class=\"row_heading level0 row0\" >et_cds_dt</th>\n",
       "      <td id=\"T_22cfc_row0_col0\" class=\"data row0 col0\" >Extra Trees w/ Cond. Deseasonalize & Detrending</td>\n",
       "      <td id=\"T_22cfc_row0_col1\" class=\"data row0 col1\" >0.9512</td>\n",
       "      <td id=\"T_22cfc_row0_col2\" class=\"data row0 col2\" >0.8889</td>\n",
       "      <td id=\"T_22cfc_row0_col3\" class=\"data row0 col3\" >1930690.4976</td>\n",
       "      <td id=\"T_22cfc_row0_col4\" class=\"data row0 col4\" >2620319.7921</td>\n",
       "      <td id=\"T_22cfc_row0_col5\" class=\"data row0 col5\" >5.5604</td>\n",
       "      <td id=\"T_22cfc_row0_col6\" class=\"data row0 col6\" >1.5041</td>\n",
       "      <td id=\"T_22cfc_row0_col7\" class=\"data row0 col7\" >-0.4100</td>\n",
       "      <td id=\"T_22cfc_row0_col8\" class=\"data row0 col8\" >0.2067</td>\n",
       "    </tr>\n",
       "    <tr>\n",
       "      <th id=\"T_22cfc_level0_row1\" class=\"row_heading level0 row1\" >gbr_cds_dt</th>\n",
       "      <td id=\"T_22cfc_row1_col0\" class=\"data row1 col0\" >Gradient Boosting w/ Cond. Deseasonalize & Detrending</td>\n",
       "      <td id=\"T_22cfc_row1_col1\" class=\"data row1 col1\" >0.8498</td>\n",
       "      <td id=\"T_22cfc_row1_col2\" class=\"data row1 col2\" >0.7879</td>\n",
       "      <td id=\"T_22cfc_row1_col3\" class=\"data row1 col3\" >1731786.4192</td>\n",
       "      <td id=\"T_22cfc_row1_col4\" class=\"data row1 col4\" >2350362.1153</td>\n",
       "      <td id=\"T_22cfc_row1_col5\" class=\"data row1 col5\" >6.5668</td>\n",
       "      <td id=\"T_22cfc_row1_col6\" class=\"data row1 col6\" >1.4159</td>\n",
       "      <td id=\"T_22cfc_row1_col7\" class=\"data row1 col7\" >-0.2047</td>\n",
       "      <td id=\"T_22cfc_row1_col8\" class=\"data row1 col8\" >0.0967</td>\n",
       "    </tr>\n",
       "    <tr>\n",
       "      <th id=\"T_22cfc_level0_row2\" class=\"row_heading level0 row2\" >rf_cds_dt</th>\n",
       "      <td id=\"T_22cfc_row2_col0\" class=\"data row2 col0\" >Random Forest w/ Cond. Deseasonalize & Detrending</td>\n",
       "      <td id=\"T_22cfc_row2_col1\" class=\"data row2 col1\" >0.8863</td>\n",
       "      <td id=\"T_22cfc_row2_col2\" class=\"data row2 col2\" >0.8010</td>\n",
       "      <td id=\"T_22cfc_row2_col3\" class=\"data row2 col3\" >1816372.5226</td>\n",
       "      <td id=\"T_22cfc_row2_col4\" class=\"data row2 col4\" >2402518.3695</td>\n",
       "      <td id=\"T_22cfc_row2_col5\" class=\"data row2 col5\" >7.1417</td>\n",
       "      <td id=\"T_22cfc_row2_col6\" class=\"data row2 col6\" >1.3581</td>\n",
       "      <td id=\"T_22cfc_row2_col7\" class=\"data row2 col7\" >-0.3040</td>\n",
       "      <td id=\"T_22cfc_row2_col8\" class=\"data row2 col8\" >0.2233</td>\n",
       "    </tr>\n",
       "    <tr>\n",
       "      <th id=\"T_22cfc_level0_row3\" class=\"row_heading level0 row3\" >arima</th>\n",
       "      <td id=\"T_22cfc_row3_col0\" class=\"data row3 col0\" >ARIMA</td>\n",
       "      <td id=\"T_22cfc_row3_col1\" class=\"data row3 col1\" >0.8501</td>\n",
       "      <td id=\"T_22cfc_row3_col2\" class=\"data row3 col2\" >0.7463</td>\n",
       "      <td id=\"T_22cfc_row3_col3\" class=\"data row3 col3\" >1730037.4555</td>\n",
       "      <td id=\"T_22cfc_row3_col4\" class=\"data row3 col4\" >2210640.9764</td>\n",
       "      <td id=\"T_22cfc_row3_col5\" class=\"data row3 col5\" >7.9116</td>\n",
       "      <td id=\"T_22cfc_row3_col6\" class=\"data row3 col6\" >1.3364</td>\n",
       "      <td id=\"T_22cfc_row3_col7\" class=\"data row3 col7\" >-0.0277</td>\n",
       "      <td id=\"T_22cfc_row3_col8\" class=\"data row3 col8\" >0.0400</td>\n",
       "    </tr>\n",
       "    <tr>\n",
       "      <th id=\"T_22cfc_level0_row4\" class=\"row_heading level0 row4\" >exp_smooth</th>\n",
       "      <td id=\"T_22cfc_row4_col0\" class=\"data row4 col0\" >Exponential Smoothing</td>\n",
       "      <td id=\"T_22cfc_row4_col1\" class=\"data row4 col1\" >0.8563</td>\n",
       "      <td id=\"T_22cfc_row4_col2\" class=\"data row4 col2\" >0.7494</td>\n",
       "      <td id=\"T_22cfc_row4_col3\" class=\"data row4 col3\" >1729444.8849</td>\n",
       "      <td id=\"T_22cfc_row4_col4\" class=\"data row4 col4\" >2221812.0488</td>\n",
       "      <td id=\"T_22cfc_row4_col5\" class=\"data row4 col5\" >8.2626</td>\n",
       "      <td id=\"T_22cfc_row4_col6\" class=\"data row4 col6\" >1.3326</td>\n",
       "      <td id=\"T_22cfc_row4_col7\" class=\"data row4 col7\" >-0.0403</td>\n",
       "      <td id=\"T_22cfc_row4_col8\" class=\"data row4 col8\" >0.0300</td>\n",
       "    </tr>\n",
       "    <tr>\n",
       "      <th id=\"T_22cfc_level0_row5\" class=\"row_heading level0 row5\" >auto_arima</th>\n",
       "      <td id=\"T_22cfc_row5_col0\" class=\"data row5 col0\" >Auto ARIMA</td>\n",
       "      <td id=\"T_22cfc_row5_col1\" class=\"data row5 col1\" >0.8764</td>\n",
       "      <td id=\"T_22cfc_row5_col2\" class=\"data row5 col2\" >0.7404</td>\n",
       "      <td id=\"T_22cfc_row5_col3\" class=\"data row5 col3\" >1787965.7700</td>\n",
       "      <td id=\"T_22cfc_row5_col4\" class=\"data row5 col4\" >2191850.9808</td>\n",
       "      <td id=\"T_22cfc_row5_col5\" class=\"data row5 col5\" >8.3784</td>\n",
       "      <td id=\"T_22cfc_row5_col6\" class=\"data row5 col6\" >1.3569</td>\n",
       "      <td id=\"T_22cfc_row5_col7\" class=\"data row5 col7\" >-0.0090</td>\n",
       "      <td id=\"T_22cfc_row5_col8\" class=\"data row5 col8\" >0.1500</td>\n",
       "    </tr>\n",
       "    <tr>\n",
       "      <th id=\"T_22cfc_level0_row6\" class=\"row_heading level0 row6\" >theta</th>\n",
       "      <td id=\"T_22cfc_row6_col0\" class=\"data row6 col0\" >Theta Forecaster</td>\n",
       "      <td id=\"T_22cfc_row6_col1\" class=\"data row6 col1\" >0.8771</td>\n",
       "      <td id=\"T_22cfc_row6_col2\" class=\"data row6 col2\" >0.7552</td>\n",
       "      <td id=\"T_22cfc_row6_col3\" class=\"data row6 col3\" >1787262.2748</td>\n",
       "      <td id=\"T_22cfc_row6_col4\" class=\"data row6 col4\" >2241060.7289</td>\n",
       "      <td id=\"T_22cfc_row6_col5\" class=\"data row6 col5\" >8.4655</td>\n",
       "      <td id=\"T_22cfc_row6_col6\" class=\"data row6 col6\" >1.3502</td>\n",
       "      <td id=\"T_22cfc_row6_col7\" class=\"data row6 col7\" >-0.0651</td>\n",
       "      <td id=\"T_22cfc_row6_col8\" class=\"data row6 col8\" >0.0300</td>\n",
       "    </tr>\n",
       "    <tr>\n",
       "      <th id=\"T_22cfc_level0_row7\" class=\"row_heading level0 row7\" >lightgbm_cds_dt</th>\n",
       "      <td id=\"T_22cfc_row7_col0\" class=\"data row7 col0\" >Light Gradient Boosting w/ Cond. Deseasonalize & Detrending</td>\n",
       "      <td id=\"T_22cfc_row7_col1\" class=\"data row7 col1\" >0.8904</td>\n",
       "      <td id=\"T_22cfc_row7_col2\" class=\"data row7 col2\" >0.7498</td>\n",
       "      <td id=\"T_22cfc_row7_col3\" class=\"data row7 col3\" >1815260.5565</td>\n",
       "      <td id=\"T_22cfc_row7_col4\" class=\"data row7 col4\" >2224977.5760</td>\n",
       "      <td id=\"T_22cfc_row7_col5\" class=\"data row7 col5\" >8.9112</td>\n",
       "      <td id=\"T_22cfc_row7_col6\" class=\"data row7 col6\" >1.3498</td>\n",
       "      <td id=\"T_22cfc_row7_col7\" class=\"data row7 col7\" >-0.0536</td>\n",
       "      <td id=\"T_22cfc_row7_col8\" class=\"data row7 col8\" >0.2267</td>\n",
       "    </tr>\n",
       "    <tr>\n",
       "      <th id=\"T_22cfc_level0_row8\" class=\"row_heading level0 row8\" >br_cds_dt</th>\n",
       "      <td id=\"T_22cfc_row8_col0\" class=\"data row8 col0\" >Bayesian Ridge w/ Cond. Deseasonalize & Detrending</td>\n",
       "      <td id=\"T_22cfc_row8_col1\" class=\"data row8 col1\" >0.9047</td>\n",
       "      <td id=\"T_22cfc_row8_col2\" class=\"data row8 col2\" >0.7587</td>\n",
       "      <td id=\"T_22cfc_row8_col3\" class=\"data row8 col3\" >1847988.6031</td>\n",
       "      <td id=\"T_22cfc_row8_col4\" class=\"data row8 col4\" >2254276.7679</td>\n",
       "      <td id=\"T_22cfc_row8_col5\" class=\"data row8 col5\" >9.1786</td>\n",
       "      <td id=\"T_22cfc_row8_col6\" class=\"data row8 col6\" >1.3537</td>\n",
       "      <td id=\"T_22cfc_row8_col7\" class=\"data row8 col7\" >-0.0892</td>\n",
       "      <td id=\"T_22cfc_row8_col8\" class=\"data row8 col8\" >0.0900</td>\n",
       "    </tr>\n",
       "    <tr>\n",
       "      <th id=\"T_22cfc_level0_row9\" class=\"row_heading level0 row9\" >omp_cds_dt</th>\n",
       "      <td id=\"T_22cfc_row9_col0\" class=\"data row9 col0\" >Orthogonal Matching Pursuit w/ Cond. Deseasonalize & Detrending</td>\n",
       "      <td id=\"T_22cfc_row9_col1\" class=\"data row9 col1\" >0.9046</td>\n",
       "      <td id=\"T_22cfc_row9_col2\" class=\"data row9 col2\" >0.7575</td>\n",
       "      <td id=\"T_22cfc_row9_col3\" class=\"data row9 col3\" >1847684.2560</td>\n",
       "      <td id=\"T_22cfc_row9_col4\" class=\"data row9 col4\" >2250476.0161</td>\n",
       "      <td id=\"T_22cfc_row9_col5\" class=\"data row9 col5\" >9.1955</td>\n",
       "      <td id=\"T_22cfc_row9_col6\" class=\"data row9 col6\" >1.3521</td>\n",
       "      <td id=\"T_22cfc_row9_col7\" class=\"data row9 col7\" >-0.0861</td>\n",
       "      <td id=\"T_22cfc_row9_col8\" class=\"data row9 col8\" >0.0867</td>\n",
       "    </tr>\n",
       "    <tr>\n",
       "      <th id=\"T_22cfc_level0_row10\" class=\"row_heading level0 row10\" >ridge_cds_dt</th>\n",
       "      <td id=\"T_22cfc_row10_col0\" class=\"data row10 col0\" >Ridge w/ Cond. Deseasonalize & Detrending</td>\n",
       "      <td id=\"T_22cfc_row10_col1\" class=\"data row10 col1\" >0.9046</td>\n",
       "      <td id=\"T_22cfc_row10_col2\" class=\"data row10 col2\" >0.7575</td>\n",
       "      <td id=\"T_22cfc_row10_col3\" class=\"data row10 col3\" >1847684.2560</td>\n",
       "      <td id=\"T_22cfc_row10_col4\" class=\"data row10 col4\" >2250476.0161</td>\n",
       "      <td id=\"T_22cfc_row10_col5\" class=\"data row10 col5\" >9.1955</td>\n",
       "      <td id=\"T_22cfc_row10_col6\" class=\"data row10 col6\" >1.3521</td>\n",
       "      <td id=\"T_22cfc_row10_col7\" class=\"data row10 col7\" >-0.0861</td>\n",
       "      <td id=\"T_22cfc_row10_col8\" class=\"data row10 col8\" >0.0867</td>\n",
       "    </tr>\n",
       "    <tr>\n",
       "      <th id=\"T_22cfc_level0_row11\" class=\"row_heading level0 row11\" >en_cds_dt</th>\n",
       "      <td id=\"T_22cfc_row11_col0\" class=\"data row11 col0\" >Elastic Net w/ Cond. Deseasonalize & Detrending</td>\n",
       "      <td id=\"T_22cfc_row11_col1\" class=\"data row11 col1\" >0.9046</td>\n",
       "      <td id=\"T_22cfc_row11_col2\" class=\"data row11 col2\" >0.7575</td>\n",
       "      <td id=\"T_22cfc_row11_col3\" class=\"data row11 col3\" >1847684.2560</td>\n",
       "      <td id=\"T_22cfc_row11_col4\" class=\"data row11 col4\" >2250476.0161</td>\n",
       "      <td id=\"T_22cfc_row11_col5\" class=\"data row11 col5\" >9.1955</td>\n",
       "      <td id=\"T_22cfc_row11_col6\" class=\"data row11 col6\" >1.3521</td>\n",
       "      <td id=\"T_22cfc_row11_col7\" class=\"data row11 col7\" >-0.0861</td>\n",
       "      <td id=\"T_22cfc_row11_col8\" class=\"data row11 col8\" >0.1033</td>\n",
       "    </tr>\n",
       "    <tr>\n",
       "      <th id=\"T_22cfc_level0_row12\" class=\"row_heading level0 row12\" >lr_cds_dt</th>\n",
       "      <td id=\"T_22cfc_row12_col0\" class=\"data row12 col0\" >Linear w/ Cond. Deseasonalize & Detrending</td>\n",
       "      <td id=\"T_22cfc_row12_col1\" class=\"data row12 col1\" >0.9046</td>\n",
       "      <td id=\"T_22cfc_row12_col2\" class=\"data row12 col2\" >0.7575</td>\n",
       "      <td id=\"T_22cfc_row12_col3\" class=\"data row12 col3\" >1847684.2560</td>\n",
       "      <td id=\"T_22cfc_row12_col4\" class=\"data row12 col4\" >2250476.0161</td>\n",
       "      <td id=\"T_22cfc_row12_col5\" class=\"data row12 col5\" >9.1955</td>\n",
       "      <td id=\"T_22cfc_row12_col6\" class=\"data row12 col6\" >1.3521</td>\n",
       "      <td id=\"T_22cfc_row12_col7\" class=\"data row12 col7\" >-0.0861</td>\n",
       "      <td id=\"T_22cfc_row12_col8\" class=\"data row12 col8\" >0.0833</td>\n",
       "    </tr>\n",
       "    <tr>\n",
       "      <th id=\"T_22cfc_level0_row13\" class=\"row_heading level0 row13\" >llar_cds_dt</th>\n",
       "      <td id=\"T_22cfc_row13_col0\" class=\"data row13 col0\" >Lasso Least Angular Regressor w/ Cond. Deseasonalize & Detrending</td>\n",
       "      <td id=\"T_22cfc_row13_col1\" class=\"data row13 col1\" >0.9046</td>\n",
       "      <td id=\"T_22cfc_row13_col2\" class=\"data row13 col2\" >0.7575</td>\n",
       "      <td id=\"T_22cfc_row13_col3\" class=\"data row13 col3\" >1847684.2560</td>\n",
       "      <td id=\"T_22cfc_row13_col4\" class=\"data row13 col4\" >2250476.0161</td>\n",
       "      <td id=\"T_22cfc_row13_col5\" class=\"data row13 col5\" >9.1955</td>\n",
       "      <td id=\"T_22cfc_row13_col6\" class=\"data row13 col6\" >1.3521</td>\n",
       "      <td id=\"T_22cfc_row13_col7\" class=\"data row13 col7\" >-0.0861</td>\n",
       "      <td id=\"T_22cfc_row13_col8\" class=\"data row13 col8\" >0.0867</td>\n",
       "    </tr>\n",
       "    <tr>\n",
       "      <th id=\"T_22cfc_level0_row14\" class=\"row_heading level0 row14\" >lasso_cds_dt</th>\n",
       "      <td id=\"T_22cfc_row14_col0\" class=\"data row14 col0\" >Lasso w/ Cond. Deseasonalize & Detrending</td>\n",
       "      <td id=\"T_22cfc_row14_col1\" class=\"data row14 col1\" >0.9046</td>\n",
       "      <td id=\"T_22cfc_row14_col2\" class=\"data row14 col2\" >0.7575</td>\n",
       "      <td id=\"T_22cfc_row14_col3\" class=\"data row14 col3\" >1847684.2560</td>\n",
       "      <td id=\"T_22cfc_row14_col4\" class=\"data row14 col4\" >2250476.0161</td>\n",
       "      <td id=\"T_22cfc_row14_col5\" class=\"data row14 col5\" >9.1955</td>\n",
       "      <td id=\"T_22cfc_row14_col6\" class=\"data row14 col6\" >1.3521</td>\n",
       "      <td id=\"T_22cfc_row14_col7\" class=\"data row14 col7\" >-0.0861</td>\n",
       "      <td id=\"T_22cfc_row14_col8\" class=\"data row14 col8\" >0.0833</td>\n",
       "    </tr>\n",
       "    <tr>\n",
       "      <th id=\"T_22cfc_level0_row15\" class=\"row_heading level0 row15\" >polytrend</th>\n",
       "      <td id=\"T_22cfc_row15_col0\" class=\"data row15 col0\" >Polynomial Trend Forecaster</td>\n",
       "      <td id=\"T_22cfc_row15_col1\" class=\"data row15 col1\" >0.9057</td>\n",
       "      <td id=\"T_22cfc_row15_col2\" class=\"data row15 col2\" >0.7603</td>\n",
       "      <td id=\"T_22cfc_row15_col3\" class=\"data row15 col3\" >1849373.9524</td>\n",
       "      <td id=\"T_22cfc_row15_col4\" class=\"data row15 col4\" >2259409.2781</td>\n",
       "      <td id=\"T_22cfc_row15_col5\" class=\"data row15 col5\" >9.2222</td>\n",
       "      <td id=\"T_22cfc_row15_col6\" class=\"data row15 col6\" >1.3534</td>\n",
       "      <td id=\"T_22cfc_row15_col7\" class=\"data row15 col7\" >-0.0935</td>\n",
       "      <td id=\"T_22cfc_row15_col8\" class=\"data row15 col8\" >0.0233</td>\n",
       "    </tr>\n",
       "    <tr>\n",
       "      <th id=\"T_22cfc_level0_row16\" class=\"row_heading level0 row16\" >huber_cds_dt</th>\n",
       "      <td id=\"T_22cfc_row16_col0\" class=\"data row16 col0\" >Huber w/ Cond. Deseasonalize & Detrending</td>\n",
       "      <td id=\"T_22cfc_row16_col1\" class=\"data row16 col1\" >0.9051</td>\n",
       "      <td id=\"T_22cfc_row16_col2\" class=\"data row16 col2\" >0.7572</td>\n",
       "      <td id=\"T_22cfc_row16_col3\" class=\"data row16 col3\" >1848492.3492</td>\n",
       "      <td id=\"T_22cfc_row16_col4\" class=\"data row16 col4\" >2249449.4080</td>\n",
       "      <td id=\"T_22cfc_row16_col5\" class=\"data row16 col5\" >9.2322</td>\n",
       "      <td id=\"T_22cfc_row16_col6\" class=\"data row16 col6\" >1.3523</td>\n",
       "      <td id=\"T_22cfc_row16_col7\" class=\"data row16 col7\" >-0.0844</td>\n",
       "      <td id=\"T_22cfc_row16_col8\" class=\"data row16 col8\" >0.0833</td>\n",
       "    </tr>\n",
       "    <tr>\n",
       "      <th id=\"T_22cfc_level0_row17\" class=\"row_heading level0 row17\" >ets</th>\n",
       "      <td id=\"T_22cfc_row17_col0\" class=\"data row17 col0\" >ETS</td>\n",
       "      <td id=\"T_22cfc_row17_col1\" class=\"data row17 col1\" >0.9421</td>\n",
       "      <td id=\"T_22cfc_row17_col2\" class=\"data row17 col2\" >0.7750</td>\n",
       "      <td id=\"T_22cfc_row17_col3\" class=\"data row17 col3\" >1933540.9357</td>\n",
       "      <td id=\"T_22cfc_row17_col4\" class=\"data row17 col4\" >2308660.0917</td>\n",
       "      <td id=\"T_22cfc_row17_col5\" class=\"data row17 col5\" >10.0084</td>\n",
       "      <td id=\"T_22cfc_row17_col6\" class=\"data row17 col6\" >1.3546</td>\n",
       "      <td id=\"T_22cfc_row17_col7\" class=\"data row17 col7\" >-0.1656</td>\n",
       "      <td id=\"T_22cfc_row17_col8\" class=\"data row17 col8\" >0.0433</td>\n",
       "    </tr>\n",
       "    <tr>\n",
       "      <th id=\"T_22cfc_level0_row18\" class=\"row_heading level0 row18\" >knn_cds_dt</th>\n",
       "      <td id=\"T_22cfc_row18_col0\" class=\"data row18 col0\" >K Neighbors w/ Cond. Deseasonalize & Detrending</td>\n",
       "      <td id=\"T_22cfc_row18_col1\" class=\"data row18 col1\" >1.0590</td>\n",
       "      <td id=\"T_22cfc_row18_col2\" class=\"data row18 col2\" >0.8573</td>\n",
       "      <td id=\"T_22cfc_row18_col3\" class=\"data row18 col3\" >2185163.6197</td>\n",
       "      <td id=\"T_22cfc_row18_col4\" class=\"data row18 col4\" >2576000.1098</td>\n",
       "      <td id=\"T_22cfc_row18_col5\" class=\"data row18 col5\" >11.6066</td>\n",
       "      <td id=\"T_22cfc_row18_col6\" class=\"data row18 col6\" >1.4166</td>\n",
       "      <td id=\"T_22cfc_row18_col7\" class=\"data row18 col7\" >-0.5454</td>\n",
       "      <td id=\"T_22cfc_row18_col8\" class=\"data row18 col8\" >0.1700</td>\n",
       "    </tr>\n",
       "    <tr>\n",
       "      <th id=\"T_22cfc_level0_row19\" class=\"row_heading level0 row19\" >ada_cds_dt</th>\n",
       "      <td id=\"T_22cfc_row19_col0\" class=\"data row19 col0\" >AdaBoost w/ Cond. Deseasonalize & Detrending</td>\n",
       "      <td id=\"T_22cfc_row19_col1\" class=\"data row19 col1\" >1.0492</td>\n",
       "      <td id=\"T_22cfc_row19_col2\" class=\"data row19 col2\" >0.8331</td>\n",
       "      <td id=\"T_22cfc_row19_col3\" class=\"data row19 col3\" >2161531.5881</td>\n",
       "      <td id=\"T_22cfc_row19_col4\" class=\"data row19 col4\" >2500850.3875</td>\n",
       "      <td id=\"T_22cfc_row19_col5\" class=\"data row19 col5\" >12.4453</td>\n",
       "      <td id=\"T_22cfc_row19_col6\" class=\"data row19 col6\" >1.4330</td>\n",
       "      <td id=\"T_22cfc_row19_col7\" class=\"data row19 col7\" >-0.4253</td>\n",
       "      <td id=\"T_22cfc_row19_col8\" class=\"data row19 col8\" >0.1133</td>\n",
       "    </tr>\n",
       "    <tr>\n",
       "      <th id=\"T_22cfc_level0_row20\" class=\"row_heading level0 row20\" >dt_cds_dt</th>\n",
       "      <td id=\"T_22cfc_row20_col0\" class=\"data row20 col0\" >Decision Tree w/ Cond. Deseasonalize & Detrending</td>\n",
       "      <td id=\"T_22cfc_row20_col1\" class=\"data row20 col1\" >1.2034</td>\n",
       "      <td id=\"T_22cfc_row20_col2\" class=\"data row20 col2\" >1.1087</td>\n",
       "      <td id=\"T_22cfc_row20_col3\" class=\"data row20 col3\" >2499719.9711</td>\n",
       "      <td id=\"T_22cfc_row20_col4\" class=\"data row20 col4\" >3346795.0246</td>\n",
       "      <td id=\"T_22cfc_row20_col5\" class=\"data row20 col5\" >15.6111</td>\n",
       "      <td id=\"T_22cfc_row20_col6\" class=\"data row20 col6\" >1.5758</td>\n",
       "      <td id=\"T_22cfc_row20_col7\" class=\"data row20 col7\" >-1.6390</td>\n",
       "      <td id=\"T_22cfc_row20_col8\" class=\"data row20 col8\" >0.0867</td>\n",
       "    </tr>\n",
       "    <tr>\n",
       "      <th id=\"T_22cfc_level0_row21\" class=\"row_heading level0 row21\" >xgboost_cds_dt</th>\n",
       "      <td id=\"T_22cfc_row21_col0\" class=\"data row21 col0\" >Extreme Gradient Boosting w/ Cond. Deseasonalize & Detrending</td>\n",
       "      <td id=\"T_22cfc_row21_col1\" class=\"data row21 col1\" >1.0657</td>\n",
       "      <td id=\"T_22cfc_row21_col2\" class=\"data row21 col2\" >0.9850</td>\n",
       "      <td id=\"T_22cfc_row21_col3\" class=\"data row21 col3\" >2200013.3432</td>\n",
       "      <td id=\"T_22cfc_row21_col4\" class=\"data row21 col4\" >2949340.3005</td>\n",
       "      <td id=\"T_22cfc_row21_col5\" class=\"data row21 col5\" >16.8864</td>\n",
       "      <td id=\"T_22cfc_row21_col6\" class=\"data row21 col6\" >1.5213</td>\n",
       "      <td id=\"T_22cfc_row21_col7\" class=\"data row21 col7\" >-0.9804</td>\n",
       "      <td id=\"T_22cfc_row21_col8\" class=\"data row21 col8\" >0.5000</td>\n",
       "    </tr>\n",
       "  </tbody>\n",
       "</table>\n"
      ],
      "text/plain": [
       "<pandas.io.formats.style.Styler at 0x1a6c22c3580>"
      ]
     },
     "metadata": {},
     "output_type": "display_data"
    },
    {
     "data": {
      "text/html": [],
      "text/plain": [
       "<IPython.core.display.HTML object>"
      ]
     },
     "metadata": {},
     "output_type": "display_data"
    },
    {
     "data": {
      "application/vnd.plotly.v1+json": {
       "config": {
        "plotlyServerURL": "https://plot.ly"
       },
       "data": [
        {
         "line": {
          "color": "rgb(31, 119, 180)",
          "width": 2
         },
         "marker": {
          "color": "rgb(31, 119, 180)",
          "size": 5
         },
         "mode": "lines+markers",
         "name": "NET_SALES",
         "type": "scattergl",
         "x": [
          "2016-01-01T00:00:00",
          "2016-02-01T00:00:00",
          "2016-03-01T00:00:00",
          "2016-04-01T00:00:00",
          "2016-05-01T00:00:00",
          "2016-06-01T00:00:00",
          "2016-07-01T00:00:00",
          "2016-08-01T00:00:00",
          "2016-09-01T00:00:00",
          "2016-10-01T00:00:00",
          "2016-11-01T00:00:00",
          "2016-12-01T00:00:00",
          "2017-01-01T00:00:00",
          "2017-02-01T00:00:00",
          "2017-03-01T00:00:00",
          "2017-04-01T00:00:00",
          "2017-05-01T00:00:00",
          "2017-06-01T00:00:00",
          "2017-07-01T00:00:00",
          "2017-08-01T00:00:00",
          "2017-09-01T00:00:00",
          "2017-10-01T00:00:00",
          "2017-11-01T00:00:00",
          "2017-12-01T00:00:00",
          "2018-01-01T00:00:00",
          "2018-02-01T00:00:00",
          "2018-03-01T00:00:00",
          "2018-04-01T00:00:00",
          "2018-05-01T00:00:00",
          "2018-06-01T00:00:00",
          "2018-07-01T00:00:00",
          "2018-08-01T00:00:00",
          "2018-09-01T00:00:00",
          "2018-10-01T00:00:00",
          "2018-11-01T00:00:00",
          "2018-12-01T00:00:00",
          "2019-01-01T00:00:00",
          "2019-02-01T00:00:00",
          "2019-03-01T00:00:00",
          "2019-04-01T00:00:00",
          "2019-05-01T00:00:00",
          "2019-06-01T00:00:00",
          "2019-07-01T00:00:00",
          "2019-08-01T00:00:00",
          "2019-09-01T00:00:00",
          "2019-10-01T00:00:00",
          "2019-11-01T00:00:00",
          "2019-12-01T00:00:00",
          "2020-01-01T00:00:00",
          "2020-02-01T00:00:00",
          "2020-03-01T00:00:00",
          "2020-04-01T00:00:00",
          "2020-05-01T00:00:00",
          "2020-06-01T00:00:00",
          "2020-07-01T00:00:00",
          "2020-08-01T00:00:00",
          "2020-09-01T00:00:00",
          "2020-10-01T00:00:00",
          "2020-11-01T00:00:00",
          "2020-12-01T00:00:00",
          "2021-01-01T00:00:00",
          "2021-02-01T00:00:00",
          "2021-03-01T00:00:00",
          "2021-04-01T00:00:00",
          "2021-05-01T00:00:00",
          "2021-06-01T00:00:00",
          "2021-07-01T00:00:00",
          "2021-08-01T00:00:00",
          "2021-09-01T00:00:00",
          "2021-10-01T00:00:00",
          "2021-11-01T00:00:00",
          "2021-12-01T00:00:00",
          "2022-01-01T00:00:00",
          "2022-02-01T00:00:00",
          "2022-03-01T00:00:00",
          "2022-04-01T00:00:00",
          "2022-05-01T00:00:00",
          "2022-06-01T00:00:00",
          "2022-07-01T00:00:00",
          "2022-08-01T00:00:00",
          "2022-09-01T00:00:00",
          "2022-10-01T00:00:00",
          "2022-11-01T00:00:00",
          "2022-12-01T00:00:00"
         ],
         "xaxis": "x",
         "y": [
          1514081.0899999999,
          2648281.14,
          -798354.81,
          843519.5300000001,
          324417.1,
          -112004.36,
          1666338.75,
          3732773.39,
          166350.67,
          400983.1699999999,
          430542.45999999996,
          2210876.89,
          155921.78,
          711463.5100000001,
          4531697.12,
          746586.02,
          352972.55000000005,
          -116744.57000000004,
          -213444.68,
          66657.93000000001,
          -301475.23000000004,
          6626636.82,
          1772544.8499999999,
          -323460.13,
          2565830.14,
          3130043.64,
          1119899.6099999999,
          451275.49,
          510719.32,
          -73711.36000000002,
          -194649.61000000002,
          6306854.299999999,
          42595.85999999999,
          579825.0599999999,
          223955.84000000003,
          1387318.4000000001,
          5835780.5600000005,
          69557.87999999999,
          1049008.6800000002,
          -127919.44,
          17865.180000000004,
          -96427.99999999999,
          6483317.55,
          -86617.91,
          -1337830.26,
          8006403.010000001,
          54826.169999999984,
          -228160.96999999997,
          530212.0900000001,
          1116704.51,
          4336910.399999999,
          441398.20999999996,
          -115238.44,
          152169.65,
          4559857.719999999,
          -87191.56000000001,
          388461.94000000006,
          -107382.44999999992,
          227388.99000000002,
          78751.62,
          6238039.24,
          1007308.38,
          1474221.04,
          -156298.08000000005,
          535794.3400000001,
          -35753.83,
          4075063.68,
          1280225.5200000003,
          3221520.560000001,
          2266715.4000000004,
          -476039.93,
          330030.32,
          5617364.220000001,
          747867.05,
          -170922.25,
          -156203.93,
          4875638.930000001,
          -54804.380000000005,
          -261499.55000000005,
          -131668.78999999998,
          -141299.72000000003,
          1413072.04,
          1070085.6199999999,
          -141786.75000000003
         ],
         "yaxis": "y"
        },
        {
         "line": {
          "color": "rgb(255, 127, 14)",
          "width": 2
         },
         "marker": {
          "color": "rgb(255, 127, 14)",
          "size": 5
         },
         "mode": "lines+markers",
         "name": "ExtraTreesRegressor",
         "type": "scattergl",
         "x": [
          "2016-01-01T00:00:00",
          "2016-02-01T00:00:00",
          "2016-03-01T00:00:00",
          "2016-04-01T00:00:00",
          "2016-05-01T00:00:00",
          "2016-06-01T00:00:00",
          "2016-07-01T00:00:00",
          "2016-08-01T00:00:00",
          "2016-09-01T00:00:00",
          "2016-10-01T00:00:00",
          "2016-11-01T00:00:00",
          "2016-12-01T00:00:00",
          "2017-01-01T00:00:00",
          "2017-02-01T00:00:00",
          "2017-03-01T00:00:00",
          "2017-04-01T00:00:00",
          "2017-05-01T00:00:00",
          "2017-06-01T00:00:00",
          "2017-07-01T00:00:00",
          "2017-08-01T00:00:00",
          "2017-09-01T00:00:00",
          "2017-10-01T00:00:00",
          "2017-11-01T00:00:00",
          "2017-12-01T00:00:00",
          "2018-01-01T00:00:00",
          "2018-02-01T00:00:00",
          "2018-03-01T00:00:00",
          "2018-04-01T00:00:00",
          "2018-05-01T00:00:00",
          "2018-06-01T00:00:00",
          "2018-07-01T00:00:00",
          "2018-08-01T00:00:00",
          "2018-09-01T00:00:00",
          "2018-10-01T00:00:00",
          "2018-11-01T00:00:00",
          "2018-12-01T00:00:00",
          "2019-01-01T00:00:00",
          "2019-02-01T00:00:00",
          "2019-03-01T00:00:00",
          "2019-04-01T00:00:00",
          "2019-05-01T00:00:00",
          "2019-06-01T00:00:00",
          "2019-07-01T00:00:00",
          "2019-08-01T00:00:00",
          "2019-09-01T00:00:00",
          "2019-10-01T00:00:00",
          "2019-11-01T00:00:00",
          "2019-12-01T00:00:00",
          "2020-01-01T00:00:00",
          "2020-02-01T00:00:00",
          "2020-03-01T00:00:00",
          "2020-04-01T00:00:00",
          "2020-05-01T00:00:00",
          "2020-06-01T00:00:00",
          "2020-07-01T00:00:00",
          "2020-08-01T00:00:00",
          "2020-09-01T00:00:00",
          "2020-10-01T00:00:00",
          "2020-11-01T00:00:00",
          "2020-12-01T00:00:00",
          "2021-01-01T00:00:00",
          "2021-02-01T00:00:00",
          "2021-03-01T00:00:00",
          "2021-04-01T00:00:00",
          "2021-05-01T00:00:00",
          "2021-06-01T00:00:00",
          "2021-07-01T00:00:00",
          "2021-08-01T00:00:00",
          "2021-09-01T00:00:00",
          "2021-10-01T00:00:00",
          "2021-11-01T00:00:00",
          "2021-12-01T00:00:00",
          "2022-01-01T00:00:00",
          "2022-02-01T00:00:00",
          "2022-03-01T00:00:00",
          "2022-04-01T00:00:00",
          "2022-05-01T00:00:00",
          "2022-06-01T00:00:00",
          "2022-07-01T00:00:00",
          "2022-08-01T00:00:00",
          "2022-09-01T00:00:00",
          "2022-10-01T00:00:00",
          "2022-11-01T00:00:00",
          "2022-12-01T00:00:00"
         ],
         "xaxis": "x",
         "y": [
          null,
          null,
          null,
          null,
          null,
          null,
          null,
          null,
          null,
          null,
          null,
          null,
          null,
          null,
          null,
          null,
          null,
          null,
          null,
          null,
          null,
          null,
          null,
          null,
          null,
          null,
          null,
          null,
          null,
          null,
          null,
          null,
          null,
          null,
          null,
          null,
          null,
          null,
          null,
          null,
          null,
          null,
          null,
          null,
          null,
          null,
          null,
          null,
          null,
          null,
          null,
          null,
          null,
          null,
          null,
          null,
          null,
          null,
          null,
          null,
          null,
          null,
          null,
          null,
          null,
          null,
          null,
          null,
          null,
          null,
          null,
          null,
          969611.6856,
          591776.2595,
          164814.2265,
          -42545.6167,
          820200.7562,
          2099981.3582,
          -261514.4006,
          1690326.8604,
          4387748.4168,
          704797.7032,
          2461282.4759,
          284390.503
         ],
         "yaxis": "y"
        }
       ],
       "layout": {
        "showlegend": true,
        "template": {
         "data": {
          "bar": [
           {
            "error_x": {
             "color": "rgb(51,51,51)"
            },
            "error_y": {
             "color": "rgb(51,51,51)"
            },
            "marker": {
             "line": {
              "color": "rgb(237,237,237)",
              "width": 0.5
             },
             "pattern": {
              "fillmode": "overlay",
              "size": 10,
              "solidity": 0.2
             }
            },
            "type": "bar"
           }
          ],
          "barpolar": [
           {
            "marker": {
             "line": {
              "color": "rgb(237,237,237)",
              "width": 0.5
             },
             "pattern": {
              "fillmode": "overlay",
              "size": 10,
              "solidity": 0.2
             }
            },
            "type": "barpolar"
           }
          ],
          "carpet": [
           {
            "aaxis": {
             "endlinecolor": "rgb(51,51,51)",
             "gridcolor": "white",
             "linecolor": "white",
             "minorgridcolor": "white",
             "startlinecolor": "rgb(51,51,51)"
            },
            "baxis": {
             "endlinecolor": "rgb(51,51,51)",
             "gridcolor": "white",
             "linecolor": "white",
             "minorgridcolor": "white",
             "startlinecolor": "rgb(51,51,51)"
            },
            "type": "carpet"
           }
          ],
          "choropleth": [
           {
            "colorbar": {
             "outlinewidth": 0,
             "tickcolor": "rgb(237,237,237)",
             "ticklen": 6,
             "ticks": "inside"
            },
            "type": "choropleth"
           }
          ],
          "contour": [
           {
            "colorbar": {
             "outlinewidth": 0,
             "tickcolor": "rgb(237,237,237)",
             "ticklen": 6,
             "ticks": "inside"
            },
            "colorscale": [
             [
              0,
              "rgb(20,44,66)"
             ],
             [
              1,
              "rgb(90,179,244)"
             ]
            ],
            "type": "contour"
           }
          ],
          "contourcarpet": [
           {
            "colorbar": {
             "outlinewidth": 0,
             "tickcolor": "rgb(237,237,237)",
             "ticklen": 6,
             "ticks": "inside"
            },
            "type": "contourcarpet"
           }
          ],
          "heatmap": [
           {
            "colorbar": {
             "outlinewidth": 0,
             "tickcolor": "rgb(237,237,237)",
             "ticklen": 6,
             "ticks": "inside"
            },
            "colorscale": [
             [
              0,
              "rgb(20,44,66)"
             ],
             [
              1,
              "rgb(90,179,244)"
             ]
            ],
            "type": "heatmap"
           }
          ],
          "heatmapgl": [
           {
            "colorbar": {
             "outlinewidth": 0,
             "tickcolor": "rgb(237,237,237)",
             "ticklen": 6,
             "ticks": "inside"
            },
            "colorscale": [
             [
              0,
              "rgb(20,44,66)"
             ],
             [
              1,
              "rgb(90,179,244)"
             ]
            ],
            "type": "heatmapgl"
           }
          ],
          "histogram": [
           {
            "marker": {
             "pattern": {
              "fillmode": "overlay",
              "size": 10,
              "solidity": 0.2
             }
            },
            "type": "histogram"
           }
          ],
          "histogram2d": [
           {
            "colorbar": {
             "outlinewidth": 0,
             "tickcolor": "rgb(237,237,237)",
             "ticklen": 6,
             "ticks": "inside"
            },
            "colorscale": [
             [
              0,
              "rgb(20,44,66)"
             ],
             [
              1,
              "rgb(90,179,244)"
             ]
            ],
            "type": "histogram2d"
           }
          ],
          "histogram2dcontour": [
           {
            "colorbar": {
             "outlinewidth": 0,
             "tickcolor": "rgb(237,237,237)",
             "ticklen": 6,
             "ticks": "inside"
            },
            "colorscale": [
             [
              0,
              "rgb(20,44,66)"
             ],
             [
              1,
              "rgb(90,179,244)"
             ]
            ],
            "type": "histogram2dcontour"
           }
          ],
          "mesh3d": [
           {
            "colorbar": {
             "outlinewidth": 0,
             "tickcolor": "rgb(237,237,237)",
             "ticklen": 6,
             "ticks": "inside"
            },
            "type": "mesh3d"
           }
          ],
          "parcoords": [
           {
            "line": {
             "colorbar": {
              "outlinewidth": 0,
              "tickcolor": "rgb(237,237,237)",
              "ticklen": 6,
              "ticks": "inside"
             }
            },
            "type": "parcoords"
           }
          ],
          "pie": [
           {
            "automargin": true,
            "type": "pie"
           }
          ],
          "scatter": [
           {
            "fillpattern": {
             "fillmode": "overlay",
             "size": 10,
             "solidity": 0.2
            },
            "type": "scatter"
           }
          ],
          "scatter3d": [
           {
            "line": {
             "colorbar": {
              "outlinewidth": 0,
              "tickcolor": "rgb(237,237,237)",
              "ticklen": 6,
              "ticks": "inside"
             }
            },
            "marker": {
             "colorbar": {
              "outlinewidth": 0,
              "tickcolor": "rgb(237,237,237)",
              "ticklen": 6,
              "ticks": "inside"
             }
            },
            "type": "scatter3d"
           }
          ],
          "scattercarpet": [
           {
            "marker": {
             "colorbar": {
              "outlinewidth": 0,
              "tickcolor": "rgb(237,237,237)",
              "ticklen": 6,
              "ticks": "inside"
             }
            },
            "type": "scattercarpet"
           }
          ],
          "scattergeo": [
           {
            "marker": {
             "colorbar": {
              "outlinewidth": 0,
              "tickcolor": "rgb(237,237,237)",
              "ticklen": 6,
              "ticks": "inside"
             }
            },
            "type": "scattergeo"
           }
          ],
          "scattergl": [
           {
            "marker": {
             "colorbar": {
              "outlinewidth": 0,
              "tickcolor": "rgb(237,237,237)",
              "ticklen": 6,
              "ticks": "inside"
             }
            },
            "type": "scattergl"
           }
          ],
          "scattermapbox": [
           {
            "marker": {
             "colorbar": {
              "outlinewidth": 0,
              "tickcolor": "rgb(237,237,237)",
              "ticklen": 6,
              "ticks": "inside"
             }
            },
            "type": "scattermapbox"
           }
          ],
          "scatterpolar": [
           {
            "marker": {
             "colorbar": {
              "outlinewidth": 0,
              "tickcolor": "rgb(237,237,237)",
              "ticklen": 6,
              "ticks": "inside"
             }
            },
            "type": "scatterpolar"
           }
          ],
          "scatterpolargl": [
           {
            "marker": {
             "colorbar": {
              "outlinewidth": 0,
              "tickcolor": "rgb(237,237,237)",
              "ticklen": 6,
              "ticks": "inside"
             }
            },
            "type": "scatterpolargl"
           }
          ],
          "scatterternary": [
           {
            "marker": {
             "colorbar": {
              "outlinewidth": 0,
              "tickcolor": "rgb(237,237,237)",
              "ticklen": 6,
              "ticks": "inside"
             }
            },
            "type": "scatterternary"
           }
          ],
          "surface": [
           {
            "colorbar": {
             "outlinewidth": 0,
             "tickcolor": "rgb(237,237,237)",
             "ticklen": 6,
             "ticks": "inside"
            },
            "colorscale": [
             [
              0,
              "rgb(20,44,66)"
             ],
             [
              1,
              "rgb(90,179,244)"
             ]
            ],
            "type": "surface"
           }
          ],
          "table": [
           {
            "cells": {
             "fill": {
              "color": "rgb(237,237,237)"
             },
             "line": {
              "color": "white"
             }
            },
            "header": {
             "fill": {
              "color": "rgb(217,217,217)"
             },
             "line": {
              "color": "white"
             }
            },
            "type": "table"
           }
          ]
         },
         "layout": {
          "annotationdefaults": {
           "arrowhead": 0,
           "arrowwidth": 1
          },
          "autotypenumbers": "strict",
          "coloraxis": {
           "colorbar": {
            "outlinewidth": 0,
            "tickcolor": "rgb(237,237,237)",
            "ticklen": 6,
            "ticks": "inside"
           }
          },
          "colorscale": {
           "sequential": [
            [
             0,
             "rgb(20,44,66)"
            ],
            [
             1,
             "rgb(90,179,244)"
            ]
           ],
           "sequentialminus": [
            [
             0,
             "rgb(20,44,66)"
            ],
            [
             1,
             "rgb(90,179,244)"
            ]
           ]
          },
          "colorway": [
           "#F8766D",
           "#A3A500",
           "#00BF7D",
           "#00B0F6",
           "#E76BF3"
          ],
          "font": {
           "color": "rgb(51,51,51)"
          },
          "geo": {
           "bgcolor": "white",
           "lakecolor": "white",
           "landcolor": "rgb(237,237,237)",
           "showlakes": true,
           "showland": true,
           "subunitcolor": "white"
          },
          "hoverlabel": {
           "align": "left"
          },
          "hovermode": "closest",
          "paper_bgcolor": "white",
          "plot_bgcolor": "rgb(237,237,237)",
          "polar": {
           "angularaxis": {
            "gridcolor": "white",
            "linecolor": "white",
            "showgrid": true,
            "tickcolor": "rgb(51,51,51)",
            "ticks": "outside"
           },
           "bgcolor": "rgb(237,237,237)",
           "radialaxis": {
            "gridcolor": "white",
            "linecolor": "white",
            "showgrid": true,
            "tickcolor": "rgb(51,51,51)",
            "ticks": "outside"
           }
          },
          "scene": {
           "xaxis": {
            "backgroundcolor": "rgb(237,237,237)",
            "gridcolor": "white",
            "gridwidth": 2,
            "linecolor": "white",
            "showbackground": true,
            "showgrid": true,
            "tickcolor": "rgb(51,51,51)",
            "ticks": "outside",
            "zerolinecolor": "white"
           },
           "yaxis": {
            "backgroundcolor": "rgb(237,237,237)",
            "gridcolor": "white",
            "gridwidth": 2,
            "linecolor": "white",
            "showbackground": true,
            "showgrid": true,
            "tickcolor": "rgb(51,51,51)",
            "ticks": "outside",
            "zerolinecolor": "white"
           },
           "zaxis": {
            "backgroundcolor": "rgb(237,237,237)",
            "gridcolor": "white",
            "gridwidth": 2,
            "linecolor": "white",
            "showbackground": true,
            "showgrid": true,
            "tickcolor": "rgb(51,51,51)",
            "ticks": "outside",
            "zerolinecolor": "white"
           }
          },
          "shapedefaults": {
           "fillcolor": "black",
           "line": {
            "width": 0
           },
           "opacity": 0.3
          },
          "ternary": {
           "aaxis": {
            "gridcolor": "white",
            "linecolor": "white",
            "showgrid": true,
            "tickcolor": "rgb(51,51,51)",
            "ticks": "outside"
           },
           "baxis": {
            "gridcolor": "white",
            "linecolor": "white",
            "showgrid": true,
            "tickcolor": "rgb(51,51,51)",
            "ticks": "outside"
           },
           "bgcolor": "rgb(237,237,237)",
           "caxis": {
            "gridcolor": "white",
            "linecolor": "white",
            "showgrid": true,
            "tickcolor": "rgb(51,51,51)",
            "ticks": "outside"
           }
          },
          "xaxis": {
           "automargin": true,
           "gridcolor": "white",
           "linecolor": "white",
           "showgrid": true,
           "tickcolor": "rgb(51,51,51)",
           "ticks": "outside",
           "title": {
            "standoff": 15
           },
           "zerolinecolor": "white"
          },
          "yaxis": {
           "automargin": true,
           "gridcolor": "white",
           "linecolor": "white",
           "showgrid": true,
           "tickcolor": "rgb(51,51,51)",
           "ticks": "outside",
           "title": {
            "standoff": 15
           },
           "zerolinecolor": "white"
          }
         }
        },
        "title": {
         "text": "Actual vs. Forecast (Out-of-Sample)"
        },
        "xaxis": {
         "anchor": "y",
         "domain": [
          0,
          1
         ]
        },
        "yaxis": {
         "anchor": "x",
         "domain": [
          0,
          1
         ]
        }
       }
      }
     },
     "metadata": {},
     "output_type": "display_data"
    },
    {
     "data": {
      "text/html": [
       "<style type=\"text/css\">\n",
       "</style>\n",
       "<table id=\"T_19c49\">\n",
       "  <thead>\n",
       "    <tr>\n",
       "      <th class=\"blank level0\" >&nbsp;</th>\n",
       "      <th id=\"T_19c49_level0_col0\" class=\"col_heading level0 col0\" >Model</th>\n",
       "      <th id=\"T_19c49_level0_col1\" class=\"col_heading level0 col1\" >MASE</th>\n",
       "      <th id=\"T_19c49_level0_col2\" class=\"col_heading level0 col2\" >RMSSE</th>\n",
       "      <th id=\"T_19c49_level0_col3\" class=\"col_heading level0 col3\" >MAE</th>\n",
       "      <th id=\"T_19c49_level0_col4\" class=\"col_heading level0 col4\" >RMSE</th>\n",
       "      <th id=\"T_19c49_level0_col5\" class=\"col_heading level0 col5\" >MAPE</th>\n",
       "      <th id=\"T_19c49_level0_col6\" class=\"col_heading level0 col6\" >SMAPE</th>\n",
       "      <th id=\"T_19c49_level0_col7\" class=\"col_heading level0 col7\" >R2</th>\n",
       "    </tr>\n",
       "  </thead>\n",
       "  <tbody>\n",
       "    <tr>\n",
       "      <th id=\"T_19c49_level0_row0\" class=\"row_heading level0 row0\" >0</th>\n",
       "      <td id=\"T_19c49_row0_col0\" class=\"data row0 col0\" >ExtraTreesRegressor</td>\n",
       "      <td id=\"T_19c49_row0_col1\" class=\"data row0 col1\" >0.7687</td>\n",
       "      <td id=\"T_19c49_row0_col2\" class=\"data row0 col2\" >0.7569</td>\n",
       "      <td id=\"T_19c49_row0_col3\" class=\"data row0 col3\" >1695014.0925</td>\n",
       "      <td id=\"T_19c49_row0_col4\" class=\"data row0 col4\" >2402983.1974</td>\n",
       "      <td id=\"T_19c49_row0_col5\" class=\"data row0 col5\" >7.8813</td>\n",
       "      <td id=\"T_19c49_row0_col6\" class=\"data row0 col6\" >1.3057</td>\n",
       "      <td id=\"T_19c49_row0_col7\" class=\"data row0 col7\" >-0.5116</td>\n",
       "    </tr>\n",
       "  </tbody>\n",
       "</table>\n"
      ],
      "text/plain": [
       "<pandas.io.formats.style.Styler at 0x1a6c021b1f0>"
      ]
     },
     "metadata": {},
     "output_type": "display_data"
    },
    {
     "name": "stderr",
     "output_type": "stream",
     "text": [
      " 57%|█████▋    | 8/14 [02:24<01:39, 16.61s/it]"
     ]
    },
    {
     "data": {
      "text/html": [
       "<style type=\"text/css\">\n",
       "#T_10dd5_row25_col1, #T_10dd5_row31_col1 {\n",
       "  background-color: lightgreen;\n",
       "}\n",
       "</style>\n",
       "<table id=\"T_10dd5\">\n",
       "  <thead>\n",
       "    <tr>\n",
       "      <th class=\"blank level0\" >&nbsp;</th>\n",
       "      <th id=\"T_10dd5_level0_col0\" class=\"col_heading level0 col0\" >Description</th>\n",
       "      <th id=\"T_10dd5_level0_col1\" class=\"col_heading level0 col1\" >Value</th>\n",
       "    </tr>\n",
       "  </thead>\n",
       "  <tbody>\n",
       "    <tr>\n",
       "      <th id=\"T_10dd5_level0_row0\" class=\"row_heading level0 row0\" >0</th>\n",
       "      <td id=\"T_10dd5_row0_col0\" class=\"data row0 col0\" >session_id</td>\n",
       "      <td id=\"T_10dd5_row0_col1\" class=\"data row0 col1\" >123</td>\n",
       "    </tr>\n",
       "    <tr>\n",
       "      <th id=\"T_10dd5_level0_row1\" class=\"row_heading level0 row1\" >1</th>\n",
       "      <td id=\"T_10dd5_row1_col0\" class=\"data row1 col0\" >Target</td>\n",
       "      <td id=\"T_10dd5_row1_col1\" class=\"data row1 col1\" >NET_SALES</td>\n",
       "    </tr>\n",
       "    <tr>\n",
       "      <th id=\"T_10dd5_level0_row2\" class=\"row_heading level0 row2\" >2</th>\n",
       "      <td id=\"T_10dd5_row2_col0\" class=\"data row2 col0\" >Approach</td>\n",
       "      <td id=\"T_10dd5_row2_col1\" class=\"data row2 col1\" >Univariate</td>\n",
       "    </tr>\n",
       "    <tr>\n",
       "      <th id=\"T_10dd5_level0_row3\" class=\"row_heading level0 row3\" >3</th>\n",
       "      <td id=\"T_10dd5_row3_col0\" class=\"data row3 col0\" >Exogenous Variables</td>\n",
       "      <td id=\"T_10dd5_row3_col1\" class=\"data row3 col1\" >Not Present</td>\n",
       "    </tr>\n",
       "    <tr>\n",
       "      <th id=\"T_10dd5_level0_row4\" class=\"row_heading level0 row4\" >4</th>\n",
       "      <td id=\"T_10dd5_row4_col0\" class=\"data row4 col0\" >Original data shape</td>\n",
       "      <td id=\"T_10dd5_row4_col1\" class=\"data row4 col1\" >(79, 1)</td>\n",
       "    </tr>\n",
       "    <tr>\n",
       "      <th id=\"T_10dd5_level0_row5\" class=\"row_heading level0 row5\" >5</th>\n",
       "      <td id=\"T_10dd5_row5_col0\" class=\"data row5 col0\" >Transformed data shape</td>\n",
       "      <td id=\"T_10dd5_row5_col1\" class=\"data row5 col1\" >(79, 1)</td>\n",
       "    </tr>\n",
       "    <tr>\n",
       "      <th id=\"T_10dd5_level0_row6\" class=\"row_heading level0 row6\" >6</th>\n",
       "      <td id=\"T_10dd5_row6_col0\" class=\"data row6 col0\" >Transformed train set shape</td>\n",
       "      <td id=\"T_10dd5_row6_col1\" class=\"data row6 col1\" >(67, 1)</td>\n",
       "    </tr>\n",
       "    <tr>\n",
       "      <th id=\"T_10dd5_level0_row7\" class=\"row_heading level0 row7\" >7</th>\n",
       "      <td id=\"T_10dd5_row7_col0\" class=\"data row7 col0\" >Transformed test set shape</td>\n",
       "      <td id=\"T_10dd5_row7_col1\" class=\"data row7 col1\" >(12, 1)</td>\n",
       "    </tr>\n",
       "    <tr>\n",
       "      <th id=\"T_10dd5_level0_row8\" class=\"row_heading level0 row8\" >8</th>\n",
       "      <td id=\"T_10dd5_row8_col0\" class=\"data row8 col0\" >Rows with missing values</td>\n",
       "      <td id=\"T_10dd5_row8_col1\" class=\"data row8 col1\" >1.3%</td>\n",
       "    </tr>\n",
       "    <tr>\n",
       "      <th id=\"T_10dd5_level0_row9\" class=\"row_heading level0 row9\" >9</th>\n",
       "      <td id=\"T_10dd5_row9_col0\" class=\"data row9 col0\" >Fold Generator</td>\n",
       "      <td id=\"T_10dd5_row9_col1\" class=\"data row9 col1\" >ExpandingWindowSplitter</td>\n",
       "    </tr>\n",
       "    <tr>\n",
       "      <th id=\"T_10dd5_level0_row10\" class=\"row_heading level0 row10\" >10</th>\n",
       "      <td id=\"T_10dd5_row10_col0\" class=\"data row10 col0\" >Fold Number</td>\n",
       "      <td id=\"T_10dd5_row10_col1\" class=\"data row10 col1\" >3</td>\n",
       "    </tr>\n",
       "    <tr>\n",
       "      <th id=\"T_10dd5_level0_row11\" class=\"row_heading level0 row11\" >11</th>\n",
       "      <td id=\"T_10dd5_row11_col0\" class=\"data row11 col0\" >Enforce Prediction Interval</td>\n",
       "      <td id=\"T_10dd5_row11_col1\" class=\"data row11 col1\" >False</td>\n",
       "    </tr>\n",
       "    <tr>\n",
       "      <th id=\"T_10dd5_level0_row12\" class=\"row_heading level0 row12\" >12</th>\n",
       "      <td id=\"T_10dd5_row12_col0\" class=\"data row12 col0\" >Splits used for hyperparameters</td>\n",
       "      <td id=\"T_10dd5_row12_col1\" class=\"data row12 col1\" >all</td>\n",
       "    </tr>\n",
       "    <tr>\n",
       "      <th id=\"T_10dd5_level0_row13\" class=\"row_heading level0 row13\" >13</th>\n",
       "      <td id=\"T_10dd5_row13_col0\" class=\"data row13 col0\" >User Defined Seasonal Period(s)</td>\n",
       "      <td id=\"T_10dd5_row13_col1\" class=\"data row13 col1\" >None</td>\n",
       "    </tr>\n",
       "    <tr>\n",
       "      <th id=\"T_10dd5_level0_row14\" class=\"row_heading level0 row14\" >14</th>\n",
       "      <td id=\"T_10dd5_row14_col0\" class=\"data row14 col0\" >Ignore Seasonality Test</td>\n",
       "      <td id=\"T_10dd5_row14_col1\" class=\"data row14 col1\" >False</td>\n",
       "    </tr>\n",
       "    <tr>\n",
       "      <th id=\"T_10dd5_level0_row15\" class=\"row_heading level0 row15\" >15</th>\n",
       "      <td id=\"T_10dd5_row15_col0\" class=\"data row15 col0\" >Seasonality Detection Algo</td>\n",
       "      <td id=\"T_10dd5_row15_col1\" class=\"data row15 col1\" >auto</td>\n",
       "    </tr>\n",
       "    <tr>\n",
       "      <th id=\"T_10dd5_level0_row16\" class=\"row_heading level0 row16\" >16</th>\n",
       "      <td id=\"T_10dd5_row16_col0\" class=\"data row16 col0\" >Max Period to Consider</td>\n",
       "      <td id=\"T_10dd5_row16_col1\" class=\"data row16 col1\" >60</td>\n",
       "    </tr>\n",
       "    <tr>\n",
       "      <th id=\"T_10dd5_level0_row17\" class=\"row_heading level0 row17\" >17</th>\n",
       "      <td id=\"T_10dd5_row17_col0\" class=\"data row17 col0\" >Seasonal Period(s) Tested</td>\n",
       "      <td id=\"T_10dd5_row17_col1\" class=\"data row17 col1\" >[2]</td>\n",
       "    </tr>\n",
       "    <tr>\n",
       "      <th id=\"T_10dd5_level0_row18\" class=\"row_heading level0 row18\" >18</th>\n",
       "      <td id=\"T_10dd5_row18_col0\" class=\"data row18 col0\" >Significant Seasonal Period(s)</td>\n",
       "      <td id=\"T_10dd5_row18_col1\" class=\"data row18 col1\" >[2]</td>\n",
       "    </tr>\n",
       "    <tr>\n",
       "      <th id=\"T_10dd5_level0_row19\" class=\"row_heading level0 row19\" >19</th>\n",
       "      <td id=\"T_10dd5_row19_col0\" class=\"data row19 col0\" >Significant Seasonal Period(s) without Harmonics</td>\n",
       "      <td id=\"T_10dd5_row19_col1\" class=\"data row19 col1\" >[2]</td>\n",
       "    </tr>\n",
       "    <tr>\n",
       "      <th id=\"T_10dd5_level0_row20\" class=\"row_heading level0 row20\" >20</th>\n",
       "      <td id=\"T_10dd5_row20_col0\" class=\"data row20 col0\" >Remove Harmonics</td>\n",
       "      <td id=\"T_10dd5_row20_col1\" class=\"data row20 col1\" >False</td>\n",
       "    </tr>\n",
       "    <tr>\n",
       "      <th id=\"T_10dd5_level0_row21\" class=\"row_heading level0 row21\" >21</th>\n",
       "      <td id=\"T_10dd5_row21_col0\" class=\"data row21 col0\" >Harmonics Order Method</td>\n",
       "      <td id=\"T_10dd5_row21_col1\" class=\"data row21 col1\" >harmonic_max</td>\n",
       "    </tr>\n",
       "    <tr>\n",
       "      <th id=\"T_10dd5_level0_row22\" class=\"row_heading level0 row22\" >22</th>\n",
       "      <td id=\"T_10dd5_row22_col0\" class=\"data row22 col0\" >Num Seasonalities to Use</td>\n",
       "      <td id=\"T_10dd5_row22_col1\" class=\"data row22 col1\" >1</td>\n",
       "    </tr>\n",
       "    <tr>\n",
       "      <th id=\"T_10dd5_level0_row23\" class=\"row_heading level0 row23\" >23</th>\n",
       "      <td id=\"T_10dd5_row23_col0\" class=\"data row23 col0\" >All Seasonalities to Use</td>\n",
       "      <td id=\"T_10dd5_row23_col1\" class=\"data row23 col1\" >[2]</td>\n",
       "    </tr>\n",
       "    <tr>\n",
       "      <th id=\"T_10dd5_level0_row24\" class=\"row_heading level0 row24\" >24</th>\n",
       "      <td id=\"T_10dd5_row24_col0\" class=\"data row24 col0\" >Primary Seasonality</td>\n",
       "      <td id=\"T_10dd5_row24_col1\" class=\"data row24 col1\" >2</td>\n",
       "    </tr>\n",
       "    <tr>\n",
       "      <th id=\"T_10dd5_level0_row25\" class=\"row_heading level0 row25\" >25</th>\n",
       "      <td id=\"T_10dd5_row25_col0\" class=\"data row25 col0\" >Seasonality Present</td>\n",
       "      <td id=\"T_10dd5_row25_col1\" class=\"data row25 col1\" >True</td>\n",
       "    </tr>\n",
       "    <tr>\n",
       "      <th id=\"T_10dd5_level0_row26\" class=\"row_heading level0 row26\" >26</th>\n",
       "      <td id=\"T_10dd5_row26_col0\" class=\"data row26 col0\" >Seasonality Type</td>\n",
       "      <td id=\"T_10dd5_row26_col1\" class=\"data row26 col1\" >add</td>\n",
       "    </tr>\n",
       "    <tr>\n",
       "      <th id=\"T_10dd5_level0_row27\" class=\"row_heading level0 row27\" >27</th>\n",
       "      <td id=\"T_10dd5_row27_col0\" class=\"data row27 col0\" >Target Strictly Positive</td>\n",
       "      <td id=\"T_10dd5_row27_col1\" class=\"data row27 col1\" >False</td>\n",
       "    </tr>\n",
       "    <tr>\n",
       "      <th id=\"T_10dd5_level0_row28\" class=\"row_heading level0 row28\" >28</th>\n",
       "      <td id=\"T_10dd5_row28_col0\" class=\"data row28 col0\" >Target White Noise</td>\n",
       "      <td id=\"T_10dd5_row28_col1\" class=\"data row28 col1\" >No</td>\n",
       "    </tr>\n",
       "    <tr>\n",
       "      <th id=\"T_10dd5_level0_row29\" class=\"row_heading level0 row29\" >29</th>\n",
       "      <td id=\"T_10dd5_row29_col0\" class=\"data row29 col0\" >Recommended d</td>\n",
       "      <td id=\"T_10dd5_row29_col1\" class=\"data row29 col1\" >0</td>\n",
       "    </tr>\n",
       "    <tr>\n",
       "      <th id=\"T_10dd5_level0_row30\" class=\"row_heading level0 row30\" >30</th>\n",
       "      <td id=\"T_10dd5_row30_col0\" class=\"data row30 col0\" >Recommended Seasonal D</td>\n",
       "      <td id=\"T_10dd5_row30_col1\" class=\"data row30 col1\" >0</td>\n",
       "    </tr>\n",
       "    <tr>\n",
       "      <th id=\"T_10dd5_level0_row31\" class=\"row_heading level0 row31\" >31</th>\n",
       "      <td id=\"T_10dd5_row31_col0\" class=\"data row31 col0\" >Preprocess</td>\n",
       "      <td id=\"T_10dd5_row31_col1\" class=\"data row31 col1\" >True</td>\n",
       "    </tr>\n",
       "    <tr>\n",
       "      <th id=\"T_10dd5_level0_row32\" class=\"row_heading level0 row32\" >32</th>\n",
       "      <td id=\"T_10dd5_row32_col0\" class=\"data row32 col0\" >Numerical Imputation (Target)</td>\n",
       "      <td id=\"T_10dd5_row32_col1\" class=\"data row32 col1\" >mean</td>\n",
       "    </tr>\n",
       "    <tr>\n",
       "      <th id=\"T_10dd5_level0_row33\" class=\"row_heading level0 row33\" >33</th>\n",
       "      <td id=\"T_10dd5_row33_col0\" class=\"data row33 col0\" >Transformation (Target)</td>\n",
       "      <td id=\"T_10dd5_row33_col1\" class=\"data row33 col1\" >None</td>\n",
       "    </tr>\n",
       "    <tr>\n",
       "      <th id=\"T_10dd5_level0_row34\" class=\"row_heading level0 row34\" >34</th>\n",
       "      <td id=\"T_10dd5_row34_col0\" class=\"data row34 col0\" >Scaling (Target)</td>\n",
       "      <td id=\"T_10dd5_row34_col1\" class=\"data row34 col1\" >None</td>\n",
       "    </tr>\n",
       "    <tr>\n",
       "      <th id=\"T_10dd5_level0_row35\" class=\"row_heading level0 row35\" >35</th>\n",
       "      <td id=\"T_10dd5_row35_col0\" class=\"data row35 col0\" >Feature Engineering (Target) - Reduced Regression</td>\n",
       "      <td id=\"T_10dd5_row35_col1\" class=\"data row35 col1\" >False</td>\n",
       "    </tr>\n",
       "    <tr>\n",
       "      <th id=\"T_10dd5_level0_row36\" class=\"row_heading level0 row36\" >36</th>\n",
       "      <td id=\"T_10dd5_row36_col0\" class=\"data row36 col0\" >CPU Jobs</td>\n",
       "      <td id=\"T_10dd5_row36_col1\" class=\"data row36 col1\" >-1</td>\n",
       "    </tr>\n",
       "    <tr>\n",
       "      <th id=\"T_10dd5_level0_row37\" class=\"row_heading level0 row37\" >37</th>\n",
       "      <td id=\"T_10dd5_row37_col0\" class=\"data row37 col0\" >Use GPU</td>\n",
       "      <td id=\"T_10dd5_row37_col1\" class=\"data row37 col1\" >False</td>\n",
       "    </tr>\n",
       "    <tr>\n",
       "      <th id=\"T_10dd5_level0_row38\" class=\"row_heading level0 row38\" >38</th>\n",
       "      <td id=\"T_10dd5_row38_col0\" class=\"data row38 col0\" >Log Experiment</td>\n",
       "      <td id=\"T_10dd5_row38_col1\" class=\"data row38 col1\" >False</td>\n",
       "    </tr>\n",
       "    <tr>\n",
       "      <th id=\"T_10dd5_level0_row39\" class=\"row_heading level0 row39\" >39</th>\n",
       "      <td id=\"T_10dd5_row39_col0\" class=\"data row39 col0\" >Experiment Name</td>\n",
       "      <td id=\"T_10dd5_row39_col1\" class=\"data row39 col1\" >ts-default-name</td>\n",
       "    </tr>\n",
       "    <tr>\n",
       "      <th id=\"T_10dd5_level0_row40\" class=\"row_heading level0 row40\" >40</th>\n",
       "      <td id=\"T_10dd5_row40_col0\" class=\"data row40 col0\" >USI</td>\n",
       "      <td id=\"T_10dd5_row40_col1\" class=\"data row40 col1\" >2f9f</td>\n",
       "    </tr>\n",
       "  </tbody>\n",
       "</table>\n"
      ],
      "text/plain": [
       "<pandas.io.formats.style.Styler at 0x1a6c22da250>"
      ]
     },
     "metadata": {},
     "output_type": "display_data"
    },
    {
     "data": {
      "text/html": [],
      "text/plain": [
       "<IPython.core.display.HTML object>"
      ]
     },
     "metadata": {},
     "output_type": "display_data"
    },
    {
     "data": {
      "text/html": [
       "<style type=\"text/css\">\n",
       "#T_49fbc th {\n",
       "  text-align: left;\n",
       "}\n",
       "#T_49fbc_row0_col0, #T_49fbc_row0_col1, #T_49fbc_row0_col2, #T_49fbc_row0_col3, #T_49fbc_row0_col4, #T_49fbc_row0_col6, #T_49fbc_row0_col7, #T_49fbc_row1_col0, #T_49fbc_row1_col2, #T_49fbc_row1_col4, #T_49fbc_row1_col5, #T_49fbc_row1_col6, #T_49fbc_row1_col7, #T_49fbc_row2_col0, #T_49fbc_row2_col1, #T_49fbc_row2_col2, #T_49fbc_row2_col3, #T_49fbc_row2_col4, #T_49fbc_row2_col5, #T_49fbc_row2_col6, #T_49fbc_row2_col7, #T_49fbc_row3_col0, #T_49fbc_row3_col1, #T_49fbc_row3_col2, #T_49fbc_row3_col3, #T_49fbc_row3_col4, #T_49fbc_row3_col5, #T_49fbc_row3_col6, #T_49fbc_row3_col7, #T_49fbc_row4_col0, #T_49fbc_row4_col1, #T_49fbc_row4_col2, #T_49fbc_row4_col3, #T_49fbc_row4_col4, #T_49fbc_row4_col5, #T_49fbc_row4_col6, #T_49fbc_row4_col7, #T_49fbc_row5_col0, #T_49fbc_row5_col1, #T_49fbc_row5_col2, #T_49fbc_row5_col3, #T_49fbc_row5_col4, #T_49fbc_row5_col5, #T_49fbc_row5_col6, #T_49fbc_row5_col7, #T_49fbc_row6_col0, #T_49fbc_row6_col1, #T_49fbc_row6_col3, #T_49fbc_row6_col5, #T_49fbc_row7_col0, #T_49fbc_row7_col1, #T_49fbc_row7_col3, #T_49fbc_row7_col5, #T_49fbc_row8_col0, #T_49fbc_row8_col1, #T_49fbc_row8_col3, #T_49fbc_row8_col5, #T_49fbc_row9_col0, #T_49fbc_row9_col1, #T_49fbc_row9_col3, #T_49fbc_row9_col5, #T_49fbc_row10_col0, #T_49fbc_row10_col1, #T_49fbc_row10_col3, #T_49fbc_row10_col5, #T_49fbc_row11_col0, #T_49fbc_row11_col1, #T_49fbc_row11_col2, #T_49fbc_row11_col3, #T_49fbc_row11_col4, #T_49fbc_row11_col5, #T_49fbc_row11_col6, #T_49fbc_row11_col7, #T_49fbc_row12_col0, #T_49fbc_row12_col1, #T_49fbc_row12_col2, #T_49fbc_row12_col3, #T_49fbc_row12_col4, #T_49fbc_row12_col5, #T_49fbc_row12_col6, #T_49fbc_row12_col7, #T_49fbc_row13_col0, #T_49fbc_row13_col1, #T_49fbc_row13_col2, #T_49fbc_row13_col3, #T_49fbc_row13_col4, #T_49fbc_row13_col5, #T_49fbc_row13_col6, #T_49fbc_row13_col7, #T_49fbc_row14_col0, #T_49fbc_row14_col1, #T_49fbc_row14_col2, #T_49fbc_row14_col3, #T_49fbc_row14_col4, #T_49fbc_row14_col5, #T_49fbc_row14_col6, #T_49fbc_row14_col7, #T_49fbc_row15_col0, #T_49fbc_row15_col1, #T_49fbc_row15_col2, #T_49fbc_row15_col3, #T_49fbc_row15_col4, #T_49fbc_row15_col5, #T_49fbc_row15_col6, #T_49fbc_row15_col7, #T_49fbc_row16_col0, #T_49fbc_row16_col1, #T_49fbc_row16_col2, #T_49fbc_row16_col3, #T_49fbc_row16_col4, #T_49fbc_row16_col5, #T_49fbc_row16_col6, #T_49fbc_row16_col7, #T_49fbc_row17_col0, #T_49fbc_row17_col1, #T_49fbc_row17_col2, #T_49fbc_row17_col3, #T_49fbc_row17_col4, #T_49fbc_row17_col5, #T_49fbc_row17_col6, #T_49fbc_row17_col7, #T_49fbc_row18_col0, #T_49fbc_row18_col1, #T_49fbc_row18_col2, #T_49fbc_row18_col3, #T_49fbc_row18_col4, #T_49fbc_row18_col5, #T_49fbc_row18_col6, #T_49fbc_row18_col7, #T_49fbc_row19_col0, #T_49fbc_row19_col1, #T_49fbc_row19_col2, #T_49fbc_row19_col3, #T_49fbc_row19_col4, #T_49fbc_row19_col5, #T_49fbc_row19_col6, #T_49fbc_row19_col7, #T_49fbc_row20_col0, #T_49fbc_row20_col1, #T_49fbc_row20_col2, #T_49fbc_row20_col3, #T_49fbc_row20_col4, #T_49fbc_row20_col5, #T_49fbc_row20_col6, #T_49fbc_row20_col7, #T_49fbc_row21_col0, #T_49fbc_row21_col1, #T_49fbc_row21_col2, #T_49fbc_row21_col3, #T_49fbc_row21_col4, #T_49fbc_row21_col5, #T_49fbc_row21_col6, #T_49fbc_row21_col7, #T_49fbc_row22_col0, #T_49fbc_row22_col1, #T_49fbc_row22_col2, #T_49fbc_row22_col3, #T_49fbc_row22_col4, #T_49fbc_row22_col5, #T_49fbc_row22_col6, #T_49fbc_row22_col7, #T_49fbc_row23_col0, #T_49fbc_row23_col1, #T_49fbc_row23_col2, #T_49fbc_row23_col3, #T_49fbc_row23_col4, #T_49fbc_row23_col5, #T_49fbc_row23_col6, #T_49fbc_row23_col7 {\n",
       "  text-align: left;\n",
       "}\n",
       "#T_49fbc_row0_col5, #T_49fbc_row1_col1, #T_49fbc_row1_col3, #T_49fbc_row6_col2, #T_49fbc_row6_col4, #T_49fbc_row6_col6, #T_49fbc_row6_col7, #T_49fbc_row7_col2, #T_49fbc_row7_col4, #T_49fbc_row7_col6, #T_49fbc_row7_col7, #T_49fbc_row8_col2, #T_49fbc_row8_col4, #T_49fbc_row8_col6, #T_49fbc_row8_col7, #T_49fbc_row9_col2, #T_49fbc_row9_col4, #T_49fbc_row9_col6, #T_49fbc_row9_col7, #T_49fbc_row10_col2, #T_49fbc_row10_col4, #T_49fbc_row10_col6, #T_49fbc_row10_col7 {\n",
       "  text-align: left;\n",
       "  background-color: yellow;\n",
       "}\n",
       "#T_49fbc_row0_col8, #T_49fbc_row1_col8, #T_49fbc_row2_col8, #T_49fbc_row3_col8, #T_49fbc_row4_col8, #T_49fbc_row5_col8, #T_49fbc_row6_col8, #T_49fbc_row7_col8, #T_49fbc_row8_col8, #T_49fbc_row9_col8, #T_49fbc_row10_col8, #T_49fbc_row11_col8, #T_49fbc_row12_col8, #T_49fbc_row13_col8, #T_49fbc_row14_col8, #T_49fbc_row15_col8, #T_49fbc_row16_col8, #T_49fbc_row17_col8, #T_49fbc_row18_col8, #T_49fbc_row19_col8, #T_49fbc_row21_col8, #T_49fbc_row22_col8, #T_49fbc_row23_col8 {\n",
       "  text-align: left;\n",
       "  background-color: lightgrey;\n",
       "}\n",
       "#T_49fbc_row20_col8 {\n",
       "  text-align: left;\n",
       "  background-color: yellow;\n",
       "  background-color: lightgrey;\n",
       "}\n",
       "</style>\n",
       "<table id=\"T_49fbc\">\n",
       "  <thead>\n",
       "    <tr>\n",
       "      <th class=\"blank level0\" >&nbsp;</th>\n",
       "      <th id=\"T_49fbc_level0_col0\" class=\"col_heading level0 col0\" >Model</th>\n",
       "      <th id=\"T_49fbc_level0_col1\" class=\"col_heading level0 col1\" >MASE</th>\n",
       "      <th id=\"T_49fbc_level0_col2\" class=\"col_heading level0 col2\" >RMSSE</th>\n",
       "      <th id=\"T_49fbc_level0_col3\" class=\"col_heading level0 col3\" >MAE</th>\n",
       "      <th id=\"T_49fbc_level0_col4\" class=\"col_heading level0 col4\" >RMSE</th>\n",
       "      <th id=\"T_49fbc_level0_col5\" class=\"col_heading level0 col5\" >MAPE</th>\n",
       "      <th id=\"T_49fbc_level0_col6\" class=\"col_heading level0 col6\" >SMAPE</th>\n",
       "      <th id=\"T_49fbc_level0_col7\" class=\"col_heading level0 col7\" >R2</th>\n",
       "      <th id=\"T_49fbc_level0_col8\" class=\"col_heading level0 col8\" >TT (Sec)</th>\n",
       "    </tr>\n",
       "  </thead>\n",
       "  <tbody>\n",
       "    <tr>\n",
       "      <th id=\"T_49fbc_level0_row0\" class=\"row_heading level0 row0\" >ada_cds_dt</th>\n",
       "      <td id=\"T_49fbc_row0_col0\" class=\"data row0 col0\" >AdaBoost w/ Cond. Deseasonalize & Detrending</td>\n",
       "      <td id=\"T_49fbc_row0_col1\" class=\"data row0 col1\" >0.7419</td>\n",
       "      <td id=\"T_49fbc_row0_col2\" class=\"data row0 col2\" >0.7163</td>\n",
       "      <td id=\"T_49fbc_row0_col3\" class=\"data row0 col3\" >189684.7339</td>\n",
       "      <td id=\"T_49fbc_row0_col4\" class=\"data row0 col4\" >245707.7065</td>\n",
       "      <td id=\"T_49fbc_row0_col5\" class=\"data row0 col5\" >5.1809</td>\n",
       "      <td id=\"T_49fbc_row0_col6\" class=\"data row0 col6\" >1.1752</td>\n",
       "      <td id=\"T_49fbc_row0_col7\" class=\"data row0 col7\" >-0.2612</td>\n",
       "      <td id=\"T_49fbc_row0_col8\" class=\"data row0 col8\" >0.1067</td>\n",
       "    </tr>\n",
       "    <tr>\n",
       "      <th id=\"T_49fbc_level0_row1\" class=\"row_heading level0 row1\" >huber_cds_dt</th>\n",
       "      <td id=\"T_49fbc_row1_col0\" class=\"data row1 col0\" >Huber w/ Cond. Deseasonalize & Detrending</td>\n",
       "      <td id=\"T_49fbc_row1_col1\" class=\"data row1 col1\" >0.5577</td>\n",
       "      <td id=\"T_49fbc_row1_col2\" class=\"data row1 col2\" >0.5466</td>\n",
       "      <td id=\"T_49fbc_row1_col3\" class=\"data row1 col3\" >139880.5638</td>\n",
       "      <td id=\"T_49fbc_row1_col4\" class=\"data row1 col4\" >185025.3059</td>\n",
       "      <td id=\"T_49fbc_row1_col5\" class=\"data row1 col5\" >6.1030</td>\n",
       "      <td id=\"T_49fbc_row1_col6\" class=\"data row1 col6\" >1.1289</td>\n",
       "      <td id=\"T_49fbc_row1_col7\" class=\"data row1 col7\" >0.3015</td>\n",
       "      <td id=\"T_49fbc_row1_col8\" class=\"data row1 col8\" >0.0900</td>\n",
       "    </tr>\n",
       "    <tr>\n",
       "      <th id=\"T_49fbc_level0_row2\" class=\"row_heading level0 row2\" >knn_cds_dt</th>\n",
       "      <td id=\"T_49fbc_row2_col0\" class=\"data row2 col0\" >K Neighbors w/ Cond. Deseasonalize & Detrending</td>\n",
       "      <td id=\"T_49fbc_row2_col1\" class=\"data row2 col1\" >0.7245</td>\n",
       "      <td id=\"T_49fbc_row2_col2\" class=\"data row2 col2\" >0.6552</td>\n",
       "      <td id=\"T_49fbc_row2_col3\" class=\"data row2 col3\" >181545.4680</td>\n",
       "      <td id=\"T_49fbc_row2_col4\" class=\"data row2 col4\" >221301.1755</td>\n",
       "      <td id=\"T_49fbc_row2_col5\" class=\"data row2 col5\" >6.8483</td>\n",
       "      <td id=\"T_49fbc_row2_col6\" class=\"data row2 col6\" >1.3164</td>\n",
       "      <td id=\"T_49fbc_row2_col7\" class=\"data row2 col7\" >0.0637</td>\n",
       "      <td id=\"T_49fbc_row2_col8\" class=\"data row2 col8\" >0.1867</td>\n",
       "    </tr>\n",
       "    <tr>\n",
       "      <th id=\"T_49fbc_level0_row3\" class=\"row_heading level0 row3\" >ets</th>\n",
       "      <td id=\"T_49fbc_row3_col0\" class=\"data row3 col0\" >ETS</td>\n",
       "      <td id=\"T_49fbc_row3_col1\" class=\"data row3 col1\" >0.8877</td>\n",
       "      <td id=\"T_49fbc_row3_col2\" class=\"data row3 col2\" >0.9239</td>\n",
       "      <td id=\"T_49fbc_row3_col3\" class=\"data row3 col3\" >230160.0023</td>\n",
       "      <td id=\"T_49fbc_row3_col4\" class=\"data row3 col4\" >323558.6003</td>\n",
       "      <td id=\"T_49fbc_row3_col5\" class=\"data row3 col5\" >7.4333</td>\n",
       "      <td id=\"T_49fbc_row3_col6\" class=\"data row3 col6\" >1.2975</td>\n",
       "      <td id=\"T_49fbc_row3_col7\" class=\"data row3 col7\" >-1.7234</td>\n",
       "      <td id=\"T_49fbc_row3_col8\" class=\"data row3 col8\" >0.0400</td>\n",
       "    </tr>\n",
       "    <tr>\n",
       "      <th id=\"T_49fbc_level0_row4\" class=\"row_heading level0 row4\" >snaive</th>\n",
       "      <td id=\"T_49fbc_row4_col0\" class=\"data row4 col0\" >Seasonal Naive Forecaster</td>\n",
       "      <td id=\"T_49fbc_row4_col1\" class=\"data row4 col1\" >0.9026</td>\n",
       "      <td id=\"T_49fbc_row4_col2\" class=\"data row4 col2\" >0.8543</td>\n",
       "      <td id=\"T_49fbc_row4_col3\" class=\"data row4 col3\" >234216.9534</td>\n",
       "      <td id=\"T_49fbc_row4_col4\" class=\"data row4 col4\" >297029.5889</td>\n",
       "      <td id=\"T_49fbc_row4_col5\" class=\"data row4 col5\" >8.1322</td>\n",
       "      <td id=\"T_49fbc_row4_col6\" class=\"data row4 col6\" >1.3619</td>\n",
       "      <td id=\"T_49fbc_row4_col7\" class=\"data row4 col7\" >-1.1104</td>\n",
       "      <td id=\"T_49fbc_row4_col8\" class=\"data row4 col8\" >0.0433</td>\n",
       "    </tr>\n",
       "    <tr>\n",
       "      <th id=\"T_49fbc_level0_row5\" class=\"row_heading level0 row5\" >lightgbm_cds_dt</th>\n",
       "      <td id=\"T_49fbc_row5_col0\" class=\"data row5 col0\" >Light Gradient Boosting w/ Cond. Deseasonalize & Detrending</td>\n",
       "      <td id=\"T_49fbc_row5_col1\" class=\"data row5 col1\" >0.6869</td>\n",
       "      <td id=\"T_49fbc_row5_col2\" class=\"data row5 col2\" >0.6670</td>\n",
       "      <td id=\"T_49fbc_row5_col3\" class=\"data row5 col3\" >174603.3096</td>\n",
       "      <td id=\"T_49fbc_row5_col4\" class=\"data row5 col4\" >227452.8384</td>\n",
       "      <td id=\"T_49fbc_row5_col5\" class=\"data row5 col5\" >8.3264</td>\n",
       "      <td id=\"T_49fbc_row5_col6\" class=\"data row5 col6\" >1.2858</td>\n",
       "      <td id=\"T_49fbc_row5_col7\" class=\"data row5 col7\" >-0.1091</td>\n",
       "      <td id=\"T_49fbc_row5_col8\" class=\"data row5 col8\" >0.2233</td>\n",
       "    </tr>\n",
       "    <tr>\n",
       "      <th id=\"T_49fbc_level0_row6\" class=\"row_heading level0 row6\" >ridge_cds_dt</th>\n",
       "      <td id=\"T_49fbc_row6_col0\" class=\"data row6 col0\" >Ridge w/ Cond. Deseasonalize & Detrending</td>\n",
       "      <td id=\"T_49fbc_row6_col1\" class=\"data row6 col1\" >0.5888</td>\n",
       "      <td id=\"T_49fbc_row6_col2\" class=\"data row6 col2\" >0.5460</td>\n",
       "      <td id=\"T_49fbc_row6_col3\" class=\"data row6 col3\" >147795.8042</td>\n",
       "      <td id=\"T_49fbc_row6_col4\" class=\"data row6 col4\" >184594.0451</td>\n",
       "      <td id=\"T_49fbc_row6_col5\" class=\"data row6 col5\" >9.5485</td>\n",
       "      <td id=\"T_49fbc_row6_col6\" class=\"data row6 col6\" >1.0740</td>\n",
       "      <td id=\"T_49fbc_row6_col7\" class=\"data row6 col7\" >0.3221</td>\n",
       "      <td id=\"T_49fbc_row6_col8\" class=\"data row6 col8\" >0.0900</td>\n",
       "    </tr>\n",
       "    <tr>\n",
       "      <th id=\"T_49fbc_level0_row7\" class=\"row_heading level0 row7\" >llar_cds_dt</th>\n",
       "      <td id=\"T_49fbc_row7_col0\" class=\"data row7 col0\" >Lasso Least Angular Regressor w/ Cond. Deseasonalize & Detrending</td>\n",
       "      <td id=\"T_49fbc_row7_col1\" class=\"data row7 col1\" >0.5888</td>\n",
       "      <td id=\"T_49fbc_row7_col2\" class=\"data row7 col2\" >0.5460</td>\n",
       "      <td id=\"T_49fbc_row7_col3\" class=\"data row7 col3\" >147795.8042</td>\n",
       "      <td id=\"T_49fbc_row7_col4\" class=\"data row7 col4\" >184594.0451</td>\n",
       "      <td id=\"T_49fbc_row7_col5\" class=\"data row7 col5\" >9.5485</td>\n",
       "      <td id=\"T_49fbc_row7_col6\" class=\"data row7 col6\" >1.0740</td>\n",
       "      <td id=\"T_49fbc_row7_col7\" class=\"data row7 col7\" >0.3221</td>\n",
       "      <td id=\"T_49fbc_row7_col8\" class=\"data row7 col8\" >0.0867</td>\n",
       "    </tr>\n",
       "    <tr>\n",
       "      <th id=\"T_49fbc_level0_row8\" class=\"row_heading level0 row8\" >lr_cds_dt</th>\n",
       "      <td id=\"T_49fbc_row8_col0\" class=\"data row8 col0\" >Linear w/ Cond. Deseasonalize & Detrending</td>\n",
       "      <td id=\"T_49fbc_row8_col1\" class=\"data row8 col1\" >0.5888</td>\n",
       "      <td id=\"T_49fbc_row8_col2\" class=\"data row8 col2\" >0.5460</td>\n",
       "      <td id=\"T_49fbc_row8_col3\" class=\"data row8 col3\" >147795.8042</td>\n",
       "      <td id=\"T_49fbc_row8_col4\" class=\"data row8 col4\" >184594.0451</td>\n",
       "      <td id=\"T_49fbc_row8_col5\" class=\"data row8 col5\" >9.5485</td>\n",
       "      <td id=\"T_49fbc_row8_col6\" class=\"data row8 col6\" >1.0740</td>\n",
       "      <td id=\"T_49fbc_row8_col7\" class=\"data row8 col7\" >0.3221</td>\n",
       "      <td id=\"T_49fbc_row8_col8\" class=\"data row8 col8\" >0.0933</td>\n",
       "    </tr>\n",
       "    <tr>\n",
       "      <th id=\"T_49fbc_level0_row9\" class=\"row_heading level0 row9\" >en_cds_dt</th>\n",
       "      <td id=\"T_49fbc_row9_col0\" class=\"data row9 col0\" >Elastic Net w/ Cond. Deseasonalize & Detrending</td>\n",
       "      <td id=\"T_49fbc_row9_col1\" class=\"data row9 col1\" >0.5888</td>\n",
       "      <td id=\"T_49fbc_row9_col2\" class=\"data row9 col2\" >0.5460</td>\n",
       "      <td id=\"T_49fbc_row9_col3\" class=\"data row9 col3\" >147795.8042</td>\n",
       "      <td id=\"T_49fbc_row9_col4\" class=\"data row9 col4\" >184594.0451</td>\n",
       "      <td id=\"T_49fbc_row9_col5\" class=\"data row9 col5\" >9.5485</td>\n",
       "      <td id=\"T_49fbc_row9_col6\" class=\"data row9 col6\" >1.0740</td>\n",
       "      <td id=\"T_49fbc_row9_col7\" class=\"data row9 col7\" >0.3221</td>\n",
       "      <td id=\"T_49fbc_row9_col8\" class=\"data row9 col8\" >0.0867</td>\n",
       "    </tr>\n",
       "    <tr>\n",
       "      <th id=\"T_49fbc_level0_row10\" class=\"row_heading level0 row10\" >lasso_cds_dt</th>\n",
       "      <td id=\"T_49fbc_row10_col0\" class=\"data row10 col0\" >Lasso w/ Cond. Deseasonalize & Detrending</td>\n",
       "      <td id=\"T_49fbc_row10_col1\" class=\"data row10 col1\" >0.5888</td>\n",
       "      <td id=\"T_49fbc_row10_col2\" class=\"data row10 col2\" >0.5460</td>\n",
       "      <td id=\"T_49fbc_row10_col3\" class=\"data row10 col3\" >147795.8042</td>\n",
       "      <td id=\"T_49fbc_row10_col4\" class=\"data row10 col4\" >184594.0451</td>\n",
       "      <td id=\"T_49fbc_row10_col5\" class=\"data row10 col5\" >9.5485</td>\n",
       "      <td id=\"T_49fbc_row10_col6\" class=\"data row10 col6\" >1.0740</td>\n",
       "      <td id=\"T_49fbc_row10_col7\" class=\"data row10 col7\" >0.3221</td>\n",
       "      <td id=\"T_49fbc_row10_col8\" class=\"data row10 col8\" >0.0933</td>\n",
       "    </tr>\n",
       "    <tr>\n",
       "      <th id=\"T_49fbc_level0_row11\" class=\"row_heading level0 row11\" >rf_cds_dt</th>\n",
       "      <td id=\"T_49fbc_row11_col0\" class=\"data row11 col0\" >Random Forest w/ Cond. Deseasonalize & Detrending</td>\n",
       "      <td id=\"T_49fbc_row11_col1\" class=\"data row11 col1\" >0.8216</td>\n",
       "      <td id=\"T_49fbc_row11_col2\" class=\"data row11 col2\" >0.7533</td>\n",
       "      <td id=\"T_49fbc_row11_col3\" class=\"data row11 col3\" >210829.4072</td>\n",
       "      <td id=\"T_49fbc_row11_col4\" class=\"data row11 col4\" >259189.2321</td>\n",
       "      <td id=\"T_49fbc_row11_col5\" class=\"data row11 col5\" >10.1008</td>\n",
       "      <td id=\"T_49fbc_row11_col6\" class=\"data row11 col6\" >1.2224</td>\n",
       "      <td id=\"T_49fbc_row11_col7\" class=\"data row11 col7\" >-0.4540</td>\n",
       "      <td id=\"T_49fbc_row11_col8\" class=\"data row11 col8\" >0.2500</td>\n",
       "    </tr>\n",
       "    <tr>\n",
       "      <th id=\"T_49fbc_level0_row12\" class=\"row_heading level0 row12\" >br_cds_dt</th>\n",
       "      <td id=\"T_49fbc_row12_col0\" class=\"data row12 col0\" >Bayesian Ridge w/ Cond. Deseasonalize & Detrending</td>\n",
       "      <td id=\"T_49fbc_row12_col1\" class=\"data row12 col1\" >0.6137</td>\n",
       "      <td id=\"T_49fbc_row12_col2\" class=\"data row12 col2\" >0.5659</td>\n",
       "      <td id=\"T_49fbc_row12_col3\" class=\"data row12 col3\" >154672.2781</td>\n",
       "      <td id=\"T_49fbc_row12_col4\" class=\"data row12 col4\" >191846.4925</td>\n",
       "      <td id=\"T_49fbc_row12_col5\" class=\"data row12 col5\" >10.1984</td>\n",
       "      <td id=\"T_49fbc_row12_col6\" class=\"data row12 col6\" >1.0933</td>\n",
       "      <td id=\"T_49fbc_row12_col7\" class=\"data row12 col7\" >0.2711</td>\n",
       "      <td id=\"T_49fbc_row12_col8\" class=\"data row12 col8\" >0.0867</td>\n",
       "    </tr>\n",
       "    <tr>\n",
       "      <th id=\"T_49fbc_level0_row13\" class=\"row_heading level0 row13\" >arima</th>\n",
       "      <td id=\"T_49fbc_row13_col0\" class=\"data row13 col0\" >ARIMA</td>\n",
       "      <td id=\"T_49fbc_row13_col1\" class=\"data row13 col1\" >0.9013</td>\n",
       "      <td id=\"T_49fbc_row13_col2\" class=\"data row13 col2\" >0.8351</td>\n",
       "      <td id=\"T_49fbc_row13_col3\" class=\"data row13 col3\" >234328.7840</td>\n",
       "      <td id=\"T_49fbc_row13_col4\" class=\"data row13 col4\" >290704.1211</td>\n",
       "      <td id=\"T_49fbc_row13_col5\" class=\"data row13 col5\" >10.6585</td>\n",
       "      <td id=\"T_49fbc_row13_col6\" class=\"data row13 col6\" >1.3574</td>\n",
       "      <td id=\"T_49fbc_row13_col7\" class=\"data row13 col7\" >-1.0530</td>\n",
       "      <td id=\"T_49fbc_row13_col8\" class=\"data row13 col8\" >0.0433</td>\n",
       "    </tr>\n",
       "    <tr>\n",
       "      <th id=\"T_49fbc_level0_row14\" class=\"row_heading level0 row14\" >omp_cds_dt</th>\n",
       "      <td id=\"T_49fbc_row14_col0\" class=\"data row14 col0\" >Orthogonal Matching Pursuit w/ Cond. Deseasonalize & Detrending</td>\n",
       "      <td id=\"T_49fbc_row14_col1\" class=\"data row14 col1\" >0.6407</td>\n",
       "      <td id=\"T_49fbc_row14_col2\" class=\"data row14 col2\" >0.5846</td>\n",
       "      <td id=\"T_49fbc_row14_col3\" class=\"data row14 col3\" >161991.5409</td>\n",
       "      <td id=\"T_49fbc_row14_col4\" class=\"data row14 col4\" >198951.5720</td>\n",
       "      <td id=\"T_49fbc_row14_col5\" class=\"data row14 col5\" >11.2384</td>\n",
       "      <td id=\"T_49fbc_row14_col6\" class=\"data row14 col6\" >1.0969</td>\n",
       "      <td id=\"T_49fbc_row14_col7\" class=\"data row14 col7\" >0.2051</td>\n",
       "      <td id=\"T_49fbc_row14_col8\" class=\"data row14 col8\" >0.0833</td>\n",
       "    </tr>\n",
       "    <tr>\n",
       "      <th id=\"T_49fbc_level0_row15\" class=\"row_heading level0 row15\" >stlf</th>\n",
       "      <td id=\"T_49fbc_row15_col0\" class=\"data row15 col0\" >STLF</td>\n",
       "      <td id=\"T_49fbc_row15_col1\" class=\"data row15 col1\" >1.0886</td>\n",
       "      <td id=\"T_49fbc_row15_col2\" class=\"data row15 col2\" >0.9988</td>\n",
       "      <td id=\"T_49fbc_row15_col3\" class=\"data row15 col3\" >279768.4281</td>\n",
       "      <td id=\"T_49fbc_row15_col4\" class=\"data row15 col4\" >346175.2474</td>\n",
       "      <td id=\"T_49fbc_row15_col5\" class=\"data row15 col5\" >12.1328</td>\n",
       "      <td id=\"T_49fbc_row15_col6\" class=\"data row15 col6\" >1.2214</td>\n",
       "      <td id=\"T_49fbc_row15_col7\" class=\"data row15 col7\" >-1.7762</td>\n",
       "      <td id=\"T_49fbc_row15_col8\" class=\"data row15 col8\" >0.0533</td>\n",
       "    </tr>\n",
       "    <tr>\n",
       "      <th id=\"T_49fbc_level0_row16\" class=\"row_heading level0 row16\" >gbr_cds_dt</th>\n",
       "      <td id=\"T_49fbc_row16_col0\" class=\"data row16 col0\" >Gradient Boosting w/ Cond. Deseasonalize & Detrending</td>\n",
       "      <td id=\"T_49fbc_row16_col1\" class=\"data row16 col1\" >0.8317</td>\n",
       "      <td id=\"T_49fbc_row16_col2\" class=\"data row16 col2\" >0.7804</td>\n",
       "      <td id=\"T_49fbc_row16_col3\" class=\"data row16 col3\" >215385.1738</td>\n",
       "      <td id=\"T_49fbc_row16_col4\" class=\"data row16 col4\" >270120.7051</td>\n",
       "      <td id=\"T_49fbc_row16_col5\" class=\"data row16 col5\" >12.5462</td>\n",
       "      <td id=\"T_49fbc_row16_col6\" class=\"data row16 col6\" >1.2116</td>\n",
       "      <td id=\"T_49fbc_row16_col7\" class=\"data row16 col7\" >-0.7157</td>\n",
       "      <td id=\"T_49fbc_row16_col8\" class=\"data row16 col8\" >0.1000</td>\n",
       "    </tr>\n",
       "    <tr>\n",
       "      <th id=\"T_49fbc_level0_row17\" class=\"row_heading level0 row17\" >xgboost_cds_dt</th>\n",
       "      <td id=\"T_49fbc_row17_col0\" class=\"data row17 col0\" >Extreme Gradient Boosting w/ Cond. Deseasonalize & Detrending</td>\n",
       "      <td id=\"T_49fbc_row17_col1\" class=\"data row17 col1\" >0.9928</td>\n",
       "      <td id=\"T_49fbc_row17_col2\" class=\"data row17 col2\" >0.9159</td>\n",
       "      <td id=\"T_49fbc_row17_col3\" class=\"data row17 col3\" >248223.4934</td>\n",
       "      <td id=\"T_49fbc_row17_col4\" class=\"data row17 col4\" >309674.0218</td>\n",
       "      <td id=\"T_49fbc_row17_col5\" class=\"data row17 col5\" >13.9166</td>\n",
       "      <td id=\"T_49fbc_row17_col6\" class=\"data row17 col6\" >1.3728</td>\n",
       "      <td id=\"T_49fbc_row17_col7\" class=\"data row17 col7\" >-0.9026</td>\n",
       "      <td id=\"T_49fbc_row17_col8\" class=\"data row17 col8\" >0.1500</td>\n",
       "    </tr>\n",
       "    <tr>\n",
       "      <th id=\"T_49fbc_level0_row18\" class=\"row_heading level0 row18\" >exp_smooth</th>\n",
       "      <td id=\"T_49fbc_row18_col0\" class=\"data row18 col0\" >Exponential Smoothing</td>\n",
       "      <td id=\"T_49fbc_row18_col1\" class=\"data row18 col1\" >0.7187</td>\n",
       "      <td id=\"T_49fbc_row18_col2\" class=\"data row18 col2\" >0.6771</td>\n",
       "      <td id=\"T_49fbc_row18_col3\" class=\"data row18 col3\" >183034.6474</td>\n",
       "      <td id=\"T_49fbc_row18_col4\" class=\"data row18 col4\" >231862.8162</td>\n",
       "      <td id=\"T_49fbc_row18_col5\" class=\"data row18 col5\" >16.1489</td>\n",
       "      <td id=\"T_49fbc_row18_col6\" class=\"data row18 col6\" >1.0915</td>\n",
       "      <td id=\"T_49fbc_row18_col7\" class=\"data row18 col7\" >-0.1091</td>\n",
       "      <td id=\"T_49fbc_row18_col8\" class=\"data row18 col8\" >0.0700</td>\n",
       "    </tr>\n",
       "    <tr>\n",
       "      <th id=\"T_49fbc_level0_row19\" class=\"row_heading level0 row19\" >et_cds_dt</th>\n",
       "      <td id=\"T_49fbc_row19_col0\" class=\"data row19 col0\" >Extra Trees w/ Cond. Deseasonalize & Detrending</td>\n",
       "      <td id=\"T_49fbc_row19_col1\" class=\"data row19 col1\" >0.8410</td>\n",
       "      <td id=\"T_49fbc_row19_col2\" class=\"data row19 col2\" >0.7970</td>\n",
       "      <td id=\"T_49fbc_row19_col3\" class=\"data row19 col3\" >216267.9575</td>\n",
       "      <td id=\"T_49fbc_row19_col4\" class=\"data row19 col4\" >274367.5969</td>\n",
       "      <td id=\"T_49fbc_row19_col5\" class=\"data row19 col5\" >17.5147</td>\n",
       "      <td id=\"T_49fbc_row19_col6\" class=\"data row19 col6\" >1.1893</td>\n",
       "      <td id=\"T_49fbc_row19_col7\" class=\"data row19 col7\" >-0.6240</td>\n",
       "      <td id=\"T_49fbc_row19_col8\" class=\"data row19 col8\" >0.2533</td>\n",
       "    </tr>\n",
       "    <tr>\n",
       "      <th id=\"T_49fbc_level0_row20\" class=\"row_heading level0 row20\" >polytrend</th>\n",
       "      <td id=\"T_49fbc_row20_col0\" class=\"data row20 col0\" >Polynomial Trend Forecaster</td>\n",
       "      <td id=\"T_49fbc_row20_col1\" class=\"data row20 col1\" >0.8035</td>\n",
       "      <td id=\"T_49fbc_row20_col2\" class=\"data row20 col2\" >0.6951</td>\n",
       "      <td id=\"T_49fbc_row20_col3\" class=\"data row20 col3\" >201038.5130</td>\n",
       "      <td id=\"T_49fbc_row20_col4\" class=\"data row20 col4\" >234510.0727</td>\n",
       "      <td id=\"T_49fbc_row20_col5\" class=\"data row20 col5\" >17.7295</td>\n",
       "      <td id=\"T_49fbc_row20_col6\" class=\"data row20 col6\" >1.2175</td>\n",
       "      <td id=\"T_49fbc_row20_col7\" class=\"data row20 col7\" >-0.0519</td>\n",
       "      <td id=\"T_49fbc_row20_col8\" class=\"data row20 col8\" >0.0233</td>\n",
       "    </tr>\n",
       "    <tr>\n",
       "      <th id=\"T_49fbc_level0_row21\" class=\"row_heading level0 row21\" >theta</th>\n",
       "      <td id=\"T_49fbc_row21_col0\" class=\"data row21 col0\" >Theta Forecaster</td>\n",
       "      <td id=\"T_49fbc_row21_col1\" class=\"data row21 col1\" >0.8094</td>\n",
       "      <td id=\"T_49fbc_row21_col2\" class=\"data row21 col2\" >0.6844</td>\n",
       "      <td id=\"T_49fbc_row21_col3\" class=\"data row21 col3\" >202478.9772</td>\n",
       "      <td id=\"T_49fbc_row21_col4\" class=\"data row21 col4\" >230628.9397</td>\n",
       "      <td id=\"T_49fbc_row21_col5\" class=\"data row21 col5\" >20.7492</td>\n",
       "      <td id=\"T_49fbc_row21_col6\" class=\"data row21 col6\" >1.1658</td>\n",
       "      <td id=\"T_49fbc_row21_col7\" class=\"data row21 col7\" >-0.0178</td>\n",
       "      <td id=\"T_49fbc_row21_col8\" class=\"data row21 col8\" >0.0267</td>\n",
       "    </tr>\n",
       "    <tr>\n",
       "      <th id=\"T_49fbc_level0_row22\" class=\"row_heading level0 row22\" >auto_arima</th>\n",
       "      <td id=\"T_49fbc_row22_col0\" class=\"data row22 col0\" >Auto ARIMA</td>\n",
       "      <td id=\"T_49fbc_row22_col1\" class=\"data row22 col1\" >0.9253</td>\n",
       "      <td id=\"T_49fbc_row22_col2\" class=\"data row22 col2\" >0.8548</td>\n",
       "      <td id=\"T_49fbc_row22_col3\" class=\"data row22 col3\" >240194.4328</td>\n",
       "      <td id=\"T_49fbc_row22_col4\" class=\"data row22 col4\" >297551.6194</td>\n",
       "      <td id=\"T_49fbc_row22_col5\" class=\"data row22 col5\" >26.1104</td>\n",
       "      <td id=\"T_49fbc_row22_col6\" class=\"data row22 col6\" >1.2379</td>\n",
       "      <td id=\"T_49fbc_row22_col7\" class=\"data row22 col7\" >-1.1516</td>\n",
       "      <td id=\"T_49fbc_row22_col8\" class=\"data row22 col8\" >0.3133</td>\n",
       "    </tr>\n",
       "    <tr>\n",
       "      <th id=\"T_49fbc_level0_row23\" class=\"row_heading level0 row23\" >dt_cds_dt</th>\n",
       "      <td id=\"T_49fbc_row23_col0\" class=\"data row23 col0\" >Decision Tree w/ Cond. Deseasonalize & Detrending</td>\n",
       "      <td id=\"T_49fbc_row23_col1\" class=\"data row23 col1\" >1.1831</td>\n",
       "      <td id=\"T_49fbc_row23_col2\" class=\"data row23 col2\" >1.0613</td>\n",
       "      <td id=\"T_49fbc_row23_col3\" class=\"data row23 col3\" >302216.8972</td>\n",
       "      <td id=\"T_49fbc_row23_col4\" class=\"data row23 col4\" >364802.4730</td>\n",
       "      <td id=\"T_49fbc_row23_col5\" class=\"data row23 col5\" >33.8231</td>\n",
       "      <td id=\"T_49fbc_row23_col6\" class=\"data row23 col6\" >1.4547</td>\n",
       "      <td id=\"T_49fbc_row23_col7\" class=\"data row23 col7\" >-1.9602</td>\n",
       "      <td id=\"T_49fbc_row23_col8\" class=\"data row23 col8\" >0.0867</td>\n",
       "    </tr>\n",
       "  </tbody>\n",
       "</table>\n"
      ],
      "text/plain": [
       "<pandas.io.formats.style.Styler at 0x1a6bc776fd0>"
      ]
     },
     "metadata": {},
     "output_type": "display_data"
    },
    {
     "data": {
      "text/html": [],
      "text/plain": [
       "<IPython.core.display.HTML object>"
      ]
     },
     "metadata": {},
     "output_type": "display_data"
    },
    {
     "data": {
      "application/vnd.plotly.v1+json": {
       "config": {
        "plotlyServerURL": "https://plot.ly"
       },
       "data": [
        {
         "line": {
          "color": "rgb(31, 119, 180)",
          "width": 2
         },
         "marker": {
          "color": "rgb(31, 119, 180)",
          "size": 5
         },
         "mode": "lines+markers",
         "name": "NET_SALES",
         "type": "scattergl",
         "x": [
          "2016-06-01T00:00:00",
          "2016-07-01T00:00:00",
          "2016-08-01T00:00:00",
          "2016-09-01T00:00:00",
          "2016-10-01T00:00:00",
          "2016-11-01T00:00:00",
          "2016-12-01T00:00:00",
          "2017-01-01T00:00:00",
          "2017-02-01T00:00:00",
          "2017-03-01T00:00:00",
          "2017-04-01T00:00:00",
          "2017-05-01T00:00:00",
          "2017-06-01T00:00:00",
          "2017-07-01T00:00:00",
          "2017-08-01T00:00:00",
          "2017-09-01T00:00:00",
          "2017-10-01T00:00:00",
          "2017-11-01T00:00:00",
          "2017-12-01T00:00:00",
          "2018-01-01T00:00:00",
          "2018-02-01T00:00:00",
          "2018-03-01T00:00:00",
          "2018-04-01T00:00:00",
          "2018-05-01T00:00:00",
          "2018-06-01T00:00:00",
          "2018-07-01T00:00:00",
          "2018-08-01T00:00:00",
          "2018-09-01T00:00:00",
          "2018-10-01T00:00:00",
          "2018-11-01T00:00:00",
          "2018-12-01T00:00:00",
          "2019-01-01T00:00:00",
          "2019-02-01T00:00:00",
          "2019-03-01T00:00:00",
          "2019-04-01T00:00:00",
          "2019-05-01T00:00:00",
          "2019-06-01T00:00:00",
          "2019-07-01T00:00:00",
          "2019-08-01T00:00:00",
          "2019-09-01T00:00:00",
          "2019-10-01T00:00:00",
          "2019-11-01T00:00:00",
          "2019-12-01T00:00:00",
          "2020-01-01T00:00:00",
          "2020-02-01T00:00:00",
          "2020-03-01T00:00:00",
          "2020-04-01T00:00:00",
          "2020-05-01T00:00:00",
          "2020-06-01T00:00:00",
          "2020-07-01T00:00:00",
          "2020-08-01T00:00:00",
          "2020-09-01T00:00:00",
          "2020-10-01T00:00:00",
          "2020-11-01T00:00:00",
          "2020-12-01T00:00:00",
          "2021-01-01T00:00:00",
          "2021-02-01T00:00:00",
          "2021-03-01T00:00:00",
          "2021-04-01T00:00:00",
          "2021-05-01T00:00:00",
          "2021-06-01T00:00:00",
          "2021-07-01T00:00:00",
          "2021-08-01T00:00:00",
          "2021-09-01T00:00:00",
          "2021-10-01T00:00:00",
          "2021-11-01T00:00:00",
          "2021-12-01T00:00:00",
          "2022-01-01T00:00:00",
          "2022-02-01T00:00:00",
          "2022-03-01T00:00:00",
          "2022-04-01T00:00:00",
          "2022-05-01T00:00:00",
          "2022-06-01T00:00:00",
          "2022-07-01T00:00:00",
          "2022-08-01T00:00:00",
          "2022-09-01T00:00:00",
          "2022-10-01T00:00:00",
          "2022-11-01T00:00:00",
          "2022-12-01T00:00:00"
         ],
         "xaxis": "x",
         "y": [
          -29036.092588334493,
          -24161.752649083453,
          1008089.7451642611,
          70052.27914789651,
          1149162.5903660303,
          -9460.662834963046,
          889927.7843954738,
          -434901.88384214445,
          -31013.433973772502,
          -36074.95447647953,
          441285.166029533,
          32400.058608058618,
          null,
          -43204.09136353151,
          513927.96814671793,
          -99852.02472462157,
          363807.2591641933,
          292983.3893010544,
          627064.9848402395,
          26398.974318199897,
          114818.22088874475,
          413130.18631595455,
          220146.1795050812,
          -21323.374395758612,
          -12547.751106968077,
          67736.11576542271,
          -2182.5826747487163,
          557366.9080822866,
          11286.616553006825,
          688127.6840900424,
          -9826.067314208269,
          455477.94236269,
          42169.14124895414,
          252235.59373574582,
          14467.738309352517,
          25413.087098692045,
          -29796.592087716712,
          286746.18792971753,
          624935.1970181043,
          33612.689706987236,
          431122.95379039546,
          -9334.060504712683,
          458757.0621468928,
          73588.1276791182,
          279044.73046638386,
          126007.44998507015,
          -15456.136636318735,
          -496.6563378251785,
          112018.83215919817,
          309092.8095482169,
          384142.86246461025,
          -2156.990150416126,
          431195.428400687,
          44956.86716227379,
          510512.3556581989,
          -12425.779902806084,
          926794.983172889,
          230123.32208179604,
          290432.36504669936,
          -21494.804137144725,
          378013.490222075,
          -16350.254011773242,
          380260.21651964716,
          -4406.8169192921205,
          526939.79143798,
          -47426.39057075967,
          -6943.596862929811,
          -2184.4034536891686,
          29231.95674320195,
          68433.2939787485,
          -31060.472756410272,
          63743.979464841315,
          -20047.506914263147,
          -100327.18175471264,
          92211.59227702653,
          20591.788878704545,
          57514.93017474591,
          4949.014705882357,
          190574.48814258366
         ],
         "yaxis": "y"
        },
        {
         "line": {
          "color": "rgb(255, 127, 14)",
          "width": 2
         },
         "marker": {
          "color": "rgb(255, 127, 14)",
          "size": 5
         },
         "mode": "lines+markers",
         "name": "AdaBoostRegressor",
         "type": "scattergl",
         "x": [
          "2016-06-01T00:00:00",
          "2016-07-01T00:00:00",
          "2016-08-01T00:00:00",
          "2016-09-01T00:00:00",
          "2016-10-01T00:00:00",
          "2016-11-01T00:00:00",
          "2016-12-01T00:00:00",
          "2017-01-01T00:00:00",
          "2017-02-01T00:00:00",
          "2017-03-01T00:00:00",
          "2017-04-01T00:00:00",
          "2017-05-01T00:00:00",
          "2017-06-01T00:00:00",
          "2017-07-01T00:00:00",
          "2017-08-01T00:00:00",
          "2017-09-01T00:00:00",
          "2017-10-01T00:00:00",
          "2017-11-01T00:00:00",
          "2017-12-01T00:00:00",
          "2018-01-01T00:00:00",
          "2018-02-01T00:00:00",
          "2018-03-01T00:00:00",
          "2018-04-01T00:00:00",
          "2018-05-01T00:00:00",
          "2018-06-01T00:00:00",
          "2018-07-01T00:00:00",
          "2018-08-01T00:00:00",
          "2018-09-01T00:00:00",
          "2018-10-01T00:00:00",
          "2018-11-01T00:00:00",
          "2018-12-01T00:00:00",
          "2019-01-01T00:00:00",
          "2019-02-01T00:00:00",
          "2019-03-01T00:00:00",
          "2019-04-01T00:00:00",
          "2019-05-01T00:00:00",
          "2019-06-01T00:00:00",
          "2019-07-01T00:00:00",
          "2019-08-01T00:00:00",
          "2019-09-01T00:00:00",
          "2019-10-01T00:00:00",
          "2019-11-01T00:00:00",
          "2019-12-01T00:00:00",
          "2020-01-01T00:00:00",
          "2020-02-01T00:00:00",
          "2020-03-01T00:00:00",
          "2020-04-01T00:00:00",
          "2020-05-01T00:00:00",
          "2020-06-01T00:00:00",
          "2020-07-01T00:00:00",
          "2020-08-01T00:00:00",
          "2020-09-01T00:00:00",
          "2020-10-01T00:00:00",
          "2020-11-01T00:00:00",
          "2020-12-01T00:00:00",
          "2021-01-01T00:00:00",
          "2021-02-01T00:00:00",
          "2021-03-01T00:00:00",
          "2021-04-01T00:00:00",
          "2021-05-01T00:00:00",
          "2021-06-01T00:00:00",
          "2021-07-01T00:00:00",
          "2021-08-01T00:00:00",
          "2021-09-01T00:00:00",
          "2021-10-01T00:00:00",
          "2021-11-01T00:00:00",
          "2021-12-01T00:00:00",
          "2022-01-01T00:00:00",
          "2022-02-01T00:00:00",
          "2022-03-01T00:00:00",
          "2022-04-01T00:00:00",
          "2022-05-01T00:00:00",
          "2022-06-01T00:00:00",
          "2022-07-01T00:00:00",
          "2022-08-01T00:00:00",
          "2022-09-01T00:00:00",
          "2022-10-01T00:00:00",
          "2022-11-01T00:00:00",
          "2022-12-01T00:00:00"
         ],
         "xaxis": "x",
         "y": [
          null,
          null,
          null,
          null,
          null,
          null,
          null,
          null,
          null,
          null,
          null,
          null,
          null,
          null,
          null,
          null,
          null,
          null,
          null,
          null,
          null,
          null,
          null,
          null,
          null,
          null,
          null,
          null,
          null,
          null,
          null,
          null,
          null,
          null,
          null,
          null,
          null,
          null,
          null,
          null,
          null,
          null,
          null,
          null,
          null,
          null,
          null,
          null,
          null,
          null,
          null,
          null,
          null,
          null,
          null,
          null,
          null,
          null,
          null,
          null,
          null,
          null,
          null,
          null,
          null,
          null,
          null,
          109707.2193,
          162982.7047,
          289754.422,
          200755.1036,
          21542.1241,
          267543.8828,
          52488.5831,
          292974.6537,
          51133.3346,
          297135.0933,
          49778.0862,
          295779.8449
         ],
         "yaxis": "y"
        }
       ],
       "layout": {
        "showlegend": true,
        "template": {
         "data": {
          "bar": [
           {
            "error_x": {
             "color": "rgb(51,51,51)"
            },
            "error_y": {
             "color": "rgb(51,51,51)"
            },
            "marker": {
             "line": {
              "color": "rgb(237,237,237)",
              "width": 0.5
             },
             "pattern": {
              "fillmode": "overlay",
              "size": 10,
              "solidity": 0.2
             }
            },
            "type": "bar"
           }
          ],
          "barpolar": [
           {
            "marker": {
             "line": {
              "color": "rgb(237,237,237)",
              "width": 0.5
             },
             "pattern": {
              "fillmode": "overlay",
              "size": 10,
              "solidity": 0.2
             }
            },
            "type": "barpolar"
           }
          ],
          "carpet": [
           {
            "aaxis": {
             "endlinecolor": "rgb(51,51,51)",
             "gridcolor": "white",
             "linecolor": "white",
             "minorgridcolor": "white",
             "startlinecolor": "rgb(51,51,51)"
            },
            "baxis": {
             "endlinecolor": "rgb(51,51,51)",
             "gridcolor": "white",
             "linecolor": "white",
             "minorgridcolor": "white",
             "startlinecolor": "rgb(51,51,51)"
            },
            "type": "carpet"
           }
          ],
          "choropleth": [
           {
            "colorbar": {
             "outlinewidth": 0,
             "tickcolor": "rgb(237,237,237)",
             "ticklen": 6,
             "ticks": "inside"
            },
            "type": "choropleth"
           }
          ],
          "contour": [
           {
            "colorbar": {
             "outlinewidth": 0,
             "tickcolor": "rgb(237,237,237)",
             "ticklen": 6,
             "ticks": "inside"
            },
            "colorscale": [
             [
              0,
              "rgb(20,44,66)"
             ],
             [
              1,
              "rgb(90,179,244)"
             ]
            ],
            "type": "contour"
           }
          ],
          "contourcarpet": [
           {
            "colorbar": {
             "outlinewidth": 0,
             "tickcolor": "rgb(237,237,237)",
             "ticklen": 6,
             "ticks": "inside"
            },
            "type": "contourcarpet"
           }
          ],
          "heatmap": [
           {
            "colorbar": {
             "outlinewidth": 0,
             "tickcolor": "rgb(237,237,237)",
             "ticklen": 6,
             "ticks": "inside"
            },
            "colorscale": [
             [
              0,
              "rgb(20,44,66)"
             ],
             [
              1,
              "rgb(90,179,244)"
             ]
            ],
            "type": "heatmap"
           }
          ],
          "heatmapgl": [
           {
            "colorbar": {
             "outlinewidth": 0,
             "tickcolor": "rgb(237,237,237)",
             "ticklen": 6,
             "ticks": "inside"
            },
            "colorscale": [
             [
              0,
              "rgb(20,44,66)"
             ],
             [
              1,
              "rgb(90,179,244)"
             ]
            ],
            "type": "heatmapgl"
           }
          ],
          "histogram": [
           {
            "marker": {
             "pattern": {
              "fillmode": "overlay",
              "size": 10,
              "solidity": 0.2
             }
            },
            "type": "histogram"
           }
          ],
          "histogram2d": [
           {
            "colorbar": {
             "outlinewidth": 0,
             "tickcolor": "rgb(237,237,237)",
             "ticklen": 6,
             "ticks": "inside"
            },
            "colorscale": [
             [
              0,
              "rgb(20,44,66)"
             ],
             [
              1,
              "rgb(90,179,244)"
             ]
            ],
            "type": "histogram2d"
           }
          ],
          "histogram2dcontour": [
           {
            "colorbar": {
             "outlinewidth": 0,
             "tickcolor": "rgb(237,237,237)",
             "ticklen": 6,
             "ticks": "inside"
            },
            "colorscale": [
             [
              0,
              "rgb(20,44,66)"
             ],
             [
              1,
              "rgb(90,179,244)"
             ]
            ],
            "type": "histogram2dcontour"
           }
          ],
          "mesh3d": [
           {
            "colorbar": {
             "outlinewidth": 0,
             "tickcolor": "rgb(237,237,237)",
             "ticklen": 6,
             "ticks": "inside"
            },
            "type": "mesh3d"
           }
          ],
          "parcoords": [
           {
            "line": {
             "colorbar": {
              "outlinewidth": 0,
              "tickcolor": "rgb(237,237,237)",
              "ticklen": 6,
              "ticks": "inside"
             }
            },
            "type": "parcoords"
           }
          ],
          "pie": [
           {
            "automargin": true,
            "type": "pie"
           }
          ],
          "scatter": [
           {
            "fillpattern": {
             "fillmode": "overlay",
             "size": 10,
             "solidity": 0.2
            },
            "type": "scatter"
           }
          ],
          "scatter3d": [
           {
            "line": {
             "colorbar": {
              "outlinewidth": 0,
              "tickcolor": "rgb(237,237,237)",
              "ticklen": 6,
              "ticks": "inside"
             }
            },
            "marker": {
             "colorbar": {
              "outlinewidth": 0,
              "tickcolor": "rgb(237,237,237)",
              "ticklen": 6,
              "ticks": "inside"
             }
            },
            "type": "scatter3d"
           }
          ],
          "scattercarpet": [
           {
            "marker": {
             "colorbar": {
              "outlinewidth": 0,
              "tickcolor": "rgb(237,237,237)",
              "ticklen": 6,
              "ticks": "inside"
             }
            },
            "type": "scattercarpet"
           }
          ],
          "scattergeo": [
           {
            "marker": {
             "colorbar": {
              "outlinewidth": 0,
              "tickcolor": "rgb(237,237,237)",
              "ticklen": 6,
              "ticks": "inside"
             }
            },
            "type": "scattergeo"
           }
          ],
          "scattergl": [
           {
            "marker": {
             "colorbar": {
              "outlinewidth": 0,
              "tickcolor": "rgb(237,237,237)",
              "ticklen": 6,
              "ticks": "inside"
             }
            },
            "type": "scattergl"
           }
          ],
          "scattermapbox": [
           {
            "marker": {
             "colorbar": {
              "outlinewidth": 0,
              "tickcolor": "rgb(237,237,237)",
              "ticklen": 6,
              "ticks": "inside"
             }
            },
            "type": "scattermapbox"
           }
          ],
          "scatterpolar": [
           {
            "marker": {
             "colorbar": {
              "outlinewidth": 0,
              "tickcolor": "rgb(237,237,237)",
              "ticklen": 6,
              "ticks": "inside"
             }
            },
            "type": "scatterpolar"
           }
          ],
          "scatterpolargl": [
           {
            "marker": {
             "colorbar": {
              "outlinewidth": 0,
              "tickcolor": "rgb(237,237,237)",
              "ticklen": 6,
              "ticks": "inside"
             }
            },
            "type": "scatterpolargl"
           }
          ],
          "scatterternary": [
           {
            "marker": {
             "colorbar": {
              "outlinewidth": 0,
              "tickcolor": "rgb(237,237,237)",
              "ticklen": 6,
              "ticks": "inside"
             }
            },
            "type": "scatterternary"
           }
          ],
          "surface": [
           {
            "colorbar": {
             "outlinewidth": 0,
             "tickcolor": "rgb(237,237,237)",
             "ticklen": 6,
             "ticks": "inside"
            },
            "colorscale": [
             [
              0,
              "rgb(20,44,66)"
             ],
             [
              1,
              "rgb(90,179,244)"
             ]
            ],
            "type": "surface"
           }
          ],
          "table": [
           {
            "cells": {
             "fill": {
              "color": "rgb(237,237,237)"
             },
             "line": {
              "color": "white"
             }
            },
            "header": {
             "fill": {
              "color": "rgb(217,217,217)"
             },
             "line": {
              "color": "white"
             }
            },
            "type": "table"
           }
          ]
         },
         "layout": {
          "annotationdefaults": {
           "arrowhead": 0,
           "arrowwidth": 1
          },
          "autotypenumbers": "strict",
          "coloraxis": {
           "colorbar": {
            "outlinewidth": 0,
            "tickcolor": "rgb(237,237,237)",
            "ticklen": 6,
            "ticks": "inside"
           }
          },
          "colorscale": {
           "sequential": [
            [
             0,
             "rgb(20,44,66)"
            ],
            [
             1,
             "rgb(90,179,244)"
            ]
           ],
           "sequentialminus": [
            [
             0,
             "rgb(20,44,66)"
            ],
            [
             1,
             "rgb(90,179,244)"
            ]
           ]
          },
          "colorway": [
           "#F8766D",
           "#A3A500",
           "#00BF7D",
           "#00B0F6",
           "#E76BF3"
          ],
          "font": {
           "color": "rgb(51,51,51)"
          },
          "geo": {
           "bgcolor": "white",
           "lakecolor": "white",
           "landcolor": "rgb(237,237,237)",
           "showlakes": true,
           "showland": true,
           "subunitcolor": "white"
          },
          "hoverlabel": {
           "align": "left"
          },
          "hovermode": "closest",
          "paper_bgcolor": "white",
          "plot_bgcolor": "rgb(237,237,237)",
          "polar": {
           "angularaxis": {
            "gridcolor": "white",
            "linecolor": "white",
            "showgrid": true,
            "tickcolor": "rgb(51,51,51)",
            "ticks": "outside"
           },
           "bgcolor": "rgb(237,237,237)",
           "radialaxis": {
            "gridcolor": "white",
            "linecolor": "white",
            "showgrid": true,
            "tickcolor": "rgb(51,51,51)",
            "ticks": "outside"
           }
          },
          "scene": {
           "xaxis": {
            "backgroundcolor": "rgb(237,237,237)",
            "gridcolor": "white",
            "gridwidth": 2,
            "linecolor": "white",
            "showbackground": true,
            "showgrid": true,
            "tickcolor": "rgb(51,51,51)",
            "ticks": "outside",
            "zerolinecolor": "white"
           },
           "yaxis": {
            "backgroundcolor": "rgb(237,237,237)",
            "gridcolor": "white",
            "gridwidth": 2,
            "linecolor": "white",
            "showbackground": true,
            "showgrid": true,
            "tickcolor": "rgb(51,51,51)",
            "ticks": "outside",
            "zerolinecolor": "white"
           },
           "zaxis": {
            "backgroundcolor": "rgb(237,237,237)",
            "gridcolor": "white",
            "gridwidth": 2,
            "linecolor": "white",
            "showbackground": true,
            "showgrid": true,
            "tickcolor": "rgb(51,51,51)",
            "ticks": "outside",
            "zerolinecolor": "white"
           }
          },
          "shapedefaults": {
           "fillcolor": "black",
           "line": {
            "width": 0
           },
           "opacity": 0.3
          },
          "ternary": {
           "aaxis": {
            "gridcolor": "white",
            "linecolor": "white",
            "showgrid": true,
            "tickcolor": "rgb(51,51,51)",
            "ticks": "outside"
           },
           "baxis": {
            "gridcolor": "white",
            "linecolor": "white",
            "showgrid": true,
            "tickcolor": "rgb(51,51,51)",
            "ticks": "outside"
           },
           "bgcolor": "rgb(237,237,237)",
           "caxis": {
            "gridcolor": "white",
            "linecolor": "white",
            "showgrid": true,
            "tickcolor": "rgb(51,51,51)",
            "ticks": "outside"
           }
          },
          "xaxis": {
           "automargin": true,
           "gridcolor": "white",
           "linecolor": "white",
           "showgrid": true,
           "tickcolor": "rgb(51,51,51)",
           "ticks": "outside",
           "title": {
            "standoff": 15
           },
           "zerolinecolor": "white"
          },
          "yaxis": {
           "automargin": true,
           "gridcolor": "white",
           "linecolor": "white",
           "showgrid": true,
           "tickcolor": "rgb(51,51,51)",
           "ticks": "outside",
           "title": {
            "standoff": 15
           },
           "zerolinecolor": "white"
          }
         }
        },
        "title": {
         "text": "Actual vs. Forecast (Out-of-Sample)"
        },
        "xaxis": {
         "anchor": "y",
         "domain": [
          0,
          1
         ]
        },
        "yaxis": {
         "anchor": "x",
         "domain": [
          0,
          1
         ]
        }
       }
      }
     },
     "metadata": {},
     "output_type": "display_data"
    },
    {
     "data": {
      "text/html": [
       "<style type=\"text/css\">\n",
       "</style>\n",
       "<table id=\"T_fe77b\">\n",
       "  <thead>\n",
       "    <tr>\n",
       "      <th class=\"blank level0\" >&nbsp;</th>\n",
       "      <th id=\"T_fe77b_level0_col0\" class=\"col_heading level0 col0\" >Model</th>\n",
       "      <th id=\"T_fe77b_level0_col1\" class=\"col_heading level0 col1\" >MASE</th>\n",
       "      <th id=\"T_fe77b_level0_col2\" class=\"col_heading level0 col2\" >RMSSE</th>\n",
       "      <th id=\"T_fe77b_level0_col3\" class=\"col_heading level0 col3\" >MAE</th>\n",
       "      <th id=\"T_fe77b_level0_col4\" class=\"col_heading level0 col4\" >RMSE</th>\n",
       "      <th id=\"T_fe77b_level0_col5\" class=\"col_heading level0 col5\" >MAPE</th>\n",
       "      <th id=\"T_fe77b_level0_col6\" class=\"col_heading level0 col6\" >SMAPE</th>\n",
       "      <th id=\"T_fe77b_level0_col7\" class=\"col_heading level0 col7\" >R2</th>\n",
       "    </tr>\n",
       "  </thead>\n",
       "  <tbody>\n",
       "    <tr>\n",
       "      <th id=\"T_fe77b_level0_row0\" class=\"row_heading level0 row0\" >0</th>\n",
       "      <td id=\"T_fe77b_row0_col0\" class=\"data row0 col0\" >AdaBoostRegressor</td>\n",
       "      <td id=\"T_fe77b_row0_col1\" class=\"data row0 col1\" >0.6669</td>\n",
       "      <td id=\"T_fe77b_row0_col2\" class=\"data row0 col2\" >0.5549</td>\n",
       "      <td id=\"T_fe77b_row0_col3\" class=\"data row0 col3\" >150195.6070</td>\n",
       "      <td id=\"T_fe77b_row0_col4\" class=\"data row0 col4\" >171441.7275</td>\n",
       "      <td id=\"T_fe77b_row0_col5\" class=\"data row0 col5\" >8.3720</td>\n",
       "      <td id=\"T_fe77b_row0_col6\" class=\"data row0 col6\" >1.4111</td>\n",
       "      <td id=\"T_fe77b_row0_col7\" class=\"data row0 col7\" >-5.0830</td>\n",
       "    </tr>\n",
       "  </tbody>\n",
       "</table>\n"
      ],
      "text/plain": [
       "<pandas.io.formats.style.Styler at 0x1a6c22a6460>"
      ]
     },
     "metadata": {},
     "output_type": "display_data"
    },
    {
     "name": "stderr",
     "output_type": "stream",
     "text": [
      " 64%|██████▍   | 9/14 [02:39<01:19, 15.87s/it]"
     ]
    },
    {
     "data": {
      "text/html": [
       "<style type=\"text/css\">\n",
       "#T_8a076_row25_col1, #T_8a076_row31_col1 {\n",
       "  background-color: lightgreen;\n",
       "}\n",
       "</style>\n",
       "<table id=\"T_8a076\">\n",
       "  <thead>\n",
       "    <tr>\n",
       "      <th class=\"blank level0\" >&nbsp;</th>\n",
       "      <th id=\"T_8a076_level0_col0\" class=\"col_heading level0 col0\" >Description</th>\n",
       "      <th id=\"T_8a076_level0_col1\" class=\"col_heading level0 col1\" >Value</th>\n",
       "    </tr>\n",
       "  </thead>\n",
       "  <tbody>\n",
       "    <tr>\n",
       "      <th id=\"T_8a076_level0_row0\" class=\"row_heading level0 row0\" >0</th>\n",
       "      <td id=\"T_8a076_row0_col0\" class=\"data row0 col0\" >session_id</td>\n",
       "      <td id=\"T_8a076_row0_col1\" class=\"data row0 col1\" >123</td>\n",
       "    </tr>\n",
       "    <tr>\n",
       "      <th id=\"T_8a076_level0_row1\" class=\"row_heading level0 row1\" >1</th>\n",
       "      <td id=\"T_8a076_row1_col0\" class=\"data row1 col0\" >Target</td>\n",
       "      <td id=\"T_8a076_row1_col1\" class=\"data row1 col1\" >NET_SALES</td>\n",
       "    </tr>\n",
       "    <tr>\n",
       "      <th id=\"T_8a076_level0_row2\" class=\"row_heading level0 row2\" >2</th>\n",
       "      <td id=\"T_8a076_row2_col0\" class=\"data row2 col0\" >Approach</td>\n",
       "      <td id=\"T_8a076_row2_col1\" class=\"data row2 col1\" >Univariate</td>\n",
       "    </tr>\n",
       "    <tr>\n",
       "      <th id=\"T_8a076_level0_row3\" class=\"row_heading level0 row3\" >3</th>\n",
       "      <td id=\"T_8a076_row3_col0\" class=\"data row3 col0\" >Exogenous Variables</td>\n",
       "      <td id=\"T_8a076_row3_col1\" class=\"data row3 col1\" >Not Present</td>\n",
       "    </tr>\n",
       "    <tr>\n",
       "      <th id=\"T_8a076_level0_row4\" class=\"row_heading level0 row4\" >4</th>\n",
       "      <td id=\"T_8a076_row4_col0\" class=\"data row4 col0\" >Original data shape</td>\n",
       "      <td id=\"T_8a076_row4_col1\" class=\"data row4 col1\" >(84, 1)</td>\n",
       "    </tr>\n",
       "    <tr>\n",
       "      <th id=\"T_8a076_level0_row5\" class=\"row_heading level0 row5\" >5</th>\n",
       "      <td id=\"T_8a076_row5_col0\" class=\"data row5 col0\" >Transformed data shape</td>\n",
       "      <td id=\"T_8a076_row5_col1\" class=\"data row5 col1\" >(84, 1)</td>\n",
       "    </tr>\n",
       "    <tr>\n",
       "      <th id=\"T_8a076_level0_row6\" class=\"row_heading level0 row6\" >6</th>\n",
       "      <td id=\"T_8a076_row6_col0\" class=\"data row6 col0\" >Transformed train set shape</td>\n",
       "      <td id=\"T_8a076_row6_col1\" class=\"data row6 col1\" >(72, 1)</td>\n",
       "    </tr>\n",
       "    <tr>\n",
       "      <th id=\"T_8a076_level0_row7\" class=\"row_heading level0 row7\" >7</th>\n",
       "      <td id=\"T_8a076_row7_col0\" class=\"data row7 col0\" >Transformed test set shape</td>\n",
       "      <td id=\"T_8a076_row7_col1\" class=\"data row7 col1\" >(12, 1)</td>\n",
       "    </tr>\n",
       "    <tr>\n",
       "      <th id=\"T_8a076_level0_row8\" class=\"row_heading level0 row8\" >8</th>\n",
       "      <td id=\"T_8a076_row8_col0\" class=\"data row8 col0\" >Rows with missing values</td>\n",
       "      <td id=\"T_8a076_row8_col1\" class=\"data row8 col1\" >0.0%</td>\n",
       "    </tr>\n",
       "    <tr>\n",
       "      <th id=\"T_8a076_level0_row9\" class=\"row_heading level0 row9\" >9</th>\n",
       "      <td id=\"T_8a076_row9_col0\" class=\"data row9 col0\" >Fold Generator</td>\n",
       "      <td id=\"T_8a076_row9_col1\" class=\"data row9 col1\" >ExpandingWindowSplitter</td>\n",
       "    </tr>\n",
       "    <tr>\n",
       "      <th id=\"T_8a076_level0_row10\" class=\"row_heading level0 row10\" >10</th>\n",
       "      <td id=\"T_8a076_row10_col0\" class=\"data row10 col0\" >Fold Number</td>\n",
       "      <td id=\"T_8a076_row10_col1\" class=\"data row10 col1\" >3</td>\n",
       "    </tr>\n",
       "    <tr>\n",
       "      <th id=\"T_8a076_level0_row11\" class=\"row_heading level0 row11\" >11</th>\n",
       "      <td id=\"T_8a076_row11_col0\" class=\"data row11 col0\" >Enforce Prediction Interval</td>\n",
       "      <td id=\"T_8a076_row11_col1\" class=\"data row11 col1\" >False</td>\n",
       "    </tr>\n",
       "    <tr>\n",
       "      <th id=\"T_8a076_level0_row12\" class=\"row_heading level0 row12\" >12</th>\n",
       "      <td id=\"T_8a076_row12_col0\" class=\"data row12 col0\" >Splits used for hyperparameters</td>\n",
       "      <td id=\"T_8a076_row12_col1\" class=\"data row12 col1\" >all</td>\n",
       "    </tr>\n",
       "    <tr>\n",
       "      <th id=\"T_8a076_level0_row13\" class=\"row_heading level0 row13\" >13</th>\n",
       "      <td id=\"T_8a076_row13_col0\" class=\"data row13 col0\" >User Defined Seasonal Period(s)</td>\n",
       "      <td id=\"T_8a076_row13_col1\" class=\"data row13 col1\" >None</td>\n",
       "    </tr>\n",
       "    <tr>\n",
       "      <th id=\"T_8a076_level0_row14\" class=\"row_heading level0 row14\" >14</th>\n",
       "      <td id=\"T_8a076_row14_col0\" class=\"data row14 col0\" >Ignore Seasonality Test</td>\n",
       "      <td id=\"T_8a076_row14_col1\" class=\"data row14 col1\" >False</td>\n",
       "    </tr>\n",
       "    <tr>\n",
       "      <th id=\"T_8a076_level0_row15\" class=\"row_heading level0 row15\" >15</th>\n",
       "      <td id=\"T_8a076_row15_col0\" class=\"data row15 col0\" >Seasonality Detection Algo</td>\n",
       "      <td id=\"T_8a076_row15_col1\" class=\"data row15 col1\" >auto</td>\n",
       "    </tr>\n",
       "    <tr>\n",
       "      <th id=\"T_8a076_level0_row16\" class=\"row_heading level0 row16\" >16</th>\n",
       "      <td id=\"T_8a076_row16_col0\" class=\"data row16 col0\" >Max Period to Consider</td>\n",
       "      <td id=\"T_8a076_row16_col1\" class=\"data row16 col1\" >60</td>\n",
       "    </tr>\n",
       "    <tr>\n",
       "      <th id=\"T_8a076_level0_row17\" class=\"row_heading level0 row17\" >17</th>\n",
       "      <td id=\"T_8a076_row17_col0\" class=\"data row17 col0\" >Seasonal Period(s) Tested</td>\n",
       "      <td id=\"T_8a076_row17_col1\" class=\"data row17 col1\" >[2]</td>\n",
       "    </tr>\n",
       "    <tr>\n",
       "      <th id=\"T_8a076_level0_row18\" class=\"row_heading level0 row18\" >18</th>\n",
       "      <td id=\"T_8a076_row18_col0\" class=\"data row18 col0\" >Significant Seasonal Period(s)</td>\n",
       "      <td id=\"T_8a076_row18_col1\" class=\"data row18 col1\" >[2]</td>\n",
       "    </tr>\n",
       "    <tr>\n",
       "      <th id=\"T_8a076_level0_row19\" class=\"row_heading level0 row19\" >19</th>\n",
       "      <td id=\"T_8a076_row19_col0\" class=\"data row19 col0\" >Significant Seasonal Period(s) without Harmonics</td>\n",
       "      <td id=\"T_8a076_row19_col1\" class=\"data row19 col1\" >[2]</td>\n",
       "    </tr>\n",
       "    <tr>\n",
       "      <th id=\"T_8a076_level0_row20\" class=\"row_heading level0 row20\" >20</th>\n",
       "      <td id=\"T_8a076_row20_col0\" class=\"data row20 col0\" >Remove Harmonics</td>\n",
       "      <td id=\"T_8a076_row20_col1\" class=\"data row20 col1\" >False</td>\n",
       "    </tr>\n",
       "    <tr>\n",
       "      <th id=\"T_8a076_level0_row21\" class=\"row_heading level0 row21\" >21</th>\n",
       "      <td id=\"T_8a076_row21_col0\" class=\"data row21 col0\" >Harmonics Order Method</td>\n",
       "      <td id=\"T_8a076_row21_col1\" class=\"data row21 col1\" >harmonic_max</td>\n",
       "    </tr>\n",
       "    <tr>\n",
       "      <th id=\"T_8a076_level0_row22\" class=\"row_heading level0 row22\" >22</th>\n",
       "      <td id=\"T_8a076_row22_col0\" class=\"data row22 col0\" >Num Seasonalities to Use</td>\n",
       "      <td id=\"T_8a076_row22_col1\" class=\"data row22 col1\" >1</td>\n",
       "    </tr>\n",
       "    <tr>\n",
       "      <th id=\"T_8a076_level0_row23\" class=\"row_heading level0 row23\" >23</th>\n",
       "      <td id=\"T_8a076_row23_col0\" class=\"data row23 col0\" >All Seasonalities to Use</td>\n",
       "      <td id=\"T_8a076_row23_col1\" class=\"data row23 col1\" >[2]</td>\n",
       "    </tr>\n",
       "    <tr>\n",
       "      <th id=\"T_8a076_level0_row24\" class=\"row_heading level0 row24\" >24</th>\n",
       "      <td id=\"T_8a076_row24_col0\" class=\"data row24 col0\" >Primary Seasonality</td>\n",
       "      <td id=\"T_8a076_row24_col1\" class=\"data row24 col1\" >2</td>\n",
       "    </tr>\n",
       "    <tr>\n",
       "      <th id=\"T_8a076_level0_row25\" class=\"row_heading level0 row25\" >25</th>\n",
       "      <td id=\"T_8a076_row25_col0\" class=\"data row25 col0\" >Seasonality Present</td>\n",
       "      <td id=\"T_8a076_row25_col1\" class=\"data row25 col1\" >True</td>\n",
       "    </tr>\n",
       "    <tr>\n",
       "      <th id=\"T_8a076_level0_row26\" class=\"row_heading level0 row26\" >26</th>\n",
       "      <td id=\"T_8a076_row26_col0\" class=\"data row26 col0\" >Seasonality Type</td>\n",
       "      <td id=\"T_8a076_row26_col1\" class=\"data row26 col1\" >mul</td>\n",
       "    </tr>\n",
       "    <tr>\n",
       "      <th id=\"T_8a076_level0_row27\" class=\"row_heading level0 row27\" >27</th>\n",
       "      <td id=\"T_8a076_row27_col0\" class=\"data row27 col0\" >Target Strictly Positive</td>\n",
       "      <td id=\"T_8a076_row27_col1\" class=\"data row27 col1\" >True</td>\n",
       "    </tr>\n",
       "    <tr>\n",
       "      <th id=\"T_8a076_level0_row28\" class=\"row_heading level0 row28\" >28</th>\n",
       "      <td id=\"T_8a076_row28_col0\" class=\"data row28 col0\" >Target White Noise</td>\n",
       "      <td id=\"T_8a076_row28_col1\" class=\"data row28 col1\" >No</td>\n",
       "    </tr>\n",
       "    <tr>\n",
       "      <th id=\"T_8a076_level0_row29\" class=\"row_heading level0 row29\" >29</th>\n",
       "      <td id=\"T_8a076_row29_col0\" class=\"data row29 col0\" >Recommended d</td>\n",
       "      <td id=\"T_8a076_row29_col1\" class=\"data row29 col1\" >0</td>\n",
       "    </tr>\n",
       "    <tr>\n",
       "      <th id=\"T_8a076_level0_row30\" class=\"row_heading level0 row30\" >30</th>\n",
       "      <td id=\"T_8a076_row30_col0\" class=\"data row30 col0\" >Recommended Seasonal D</td>\n",
       "      <td id=\"T_8a076_row30_col1\" class=\"data row30 col1\" >0</td>\n",
       "    </tr>\n",
       "    <tr>\n",
       "      <th id=\"T_8a076_level0_row31\" class=\"row_heading level0 row31\" >31</th>\n",
       "      <td id=\"T_8a076_row31_col0\" class=\"data row31 col0\" >Preprocess</td>\n",
       "      <td id=\"T_8a076_row31_col1\" class=\"data row31 col1\" >True</td>\n",
       "    </tr>\n",
       "    <tr>\n",
       "      <th id=\"T_8a076_level0_row32\" class=\"row_heading level0 row32\" >32</th>\n",
       "      <td id=\"T_8a076_row32_col0\" class=\"data row32 col0\" >Numerical Imputation (Target)</td>\n",
       "      <td id=\"T_8a076_row32_col1\" class=\"data row32 col1\" >mean</td>\n",
       "    </tr>\n",
       "    <tr>\n",
       "      <th id=\"T_8a076_level0_row33\" class=\"row_heading level0 row33\" >33</th>\n",
       "      <td id=\"T_8a076_row33_col0\" class=\"data row33 col0\" >Transformation (Target)</td>\n",
       "      <td id=\"T_8a076_row33_col1\" class=\"data row33 col1\" >None</td>\n",
       "    </tr>\n",
       "    <tr>\n",
       "      <th id=\"T_8a076_level0_row34\" class=\"row_heading level0 row34\" >34</th>\n",
       "      <td id=\"T_8a076_row34_col0\" class=\"data row34 col0\" >Scaling (Target)</td>\n",
       "      <td id=\"T_8a076_row34_col1\" class=\"data row34 col1\" >None</td>\n",
       "    </tr>\n",
       "    <tr>\n",
       "      <th id=\"T_8a076_level0_row35\" class=\"row_heading level0 row35\" >35</th>\n",
       "      <td id=\"T_8a076_row35_col0\" class=\"data row35 col0\" >Feature Engineering (Target) - Reduced Regression</td>\n",
       "      <td id=\"T_8a076_row35_col1\" class=\"data row35 col1\" >False</td>\n",
       "    </tr>\n",
       "    <tr>\n",
       "      <th id=\"T_8a076_level0_row36\" class=\"row_heading level0 row36\" >36</th>\n",
       "      <td id=\"T_8a076_row36_col0\" class=\"data row36 col0\" >CPU Jobs</td>\n",
       "      <td id=\"T_8a076_row36_col1\" class=\"data row36 col1\" >-1</td>\n",
       "    </tr>\n",
       "    <tr>\n",
       "      <th id=\"T_8a076_level0_row37\" class=\"row_heading level0 row37\" >37</th>\n",
       "      <td id=\"T_8a076_row37_col0\" class=\"data row37 col0\" >Use GPU</td>\n",
       "      <td id=\"T_8a076_row37_col1\" class=\"data row37 col1\" >False</td>\n",
       "    </tr>\n",
       "    <tr>\n",
       "      <th id=\"T_8a076_level0_row38\" class=\"row_heading level0 row38\" >38</th>\n",
       "      <td id=\"T_8a076_row38_col0\" class=\"data row38 col0\" >Log Experiment</td>\n",
       "      <td id=\"T_8a076_row38_col1\" class=\"data row38 col1\" >False</td>\n",
       "    </tr>\n",
       "    <tr>\n",
       "      <th id=\"T_8a076_level0_row39\" class=\"row_heading level0 row39\" >39</th>\n",
       "      <td id=\"T_8a076_row39_col0\" class=\"data row39 col0\" >Experiment Name</td>\n",
       "      <td id=\"T_8a076_row39_col1\" class=\"data row39 col1\" >ts-default-name</td>\n",
       "    </tr>\n",
       "    <tr>\n",
       "      <th id=\"T_8a076_level0_row40\" class=\"row_heading level0 row40\" >40</th>\n",
       "      <td id=\"T_8a076_row40_col0\" class=\"data row40 col0\" >USI</td>\n",
       "      <td id=\"T_8a076_row40_col1\" class=\"data row40 col1\" >4deb</td>\n",
       "    </tr>\n",
       "  </tbody>\n",
       "</table>\n"
      ],
      "text/plain": [
       "<pandas.io.formats.style.Styler at 0x1a6c239f2b0>"
      ]
     },
     "metadata": {},
     "output_type": "display_data"
    },
    {
     "data": {
      "text/html": [],
      "text/plain": [
       "<IPython.core.display.HTML object>"
      ]
     },
     "metadata": {},
     "output_type": "display_data"
    },
    {
     "data": {
      "text/html": [
       "<style type=\"text/css\">\n",
       "#T_d5cc4 th {\n",
       "  text-align: left;\n",
       "}\n",
       "#T_d5cc4_row0_col0, #T_d5cc4_row0_col1, #T_d5cc4_row0_col3, #T_d5cc4_row0_col6, #T_d5cc4_row1_col0, #T_d5cc4_row1_col2, #T_d5cc4_row1_col4, #T_d5cc4_row1_col5, #T_d5cc4_row1_col7, #T_d5cc4_row2_col0, #T_d5cc4_row2_col1, #T_d5cc4_row2_col2, #T_d5cc4_row2_col3, #T_d5cc4_row2_col4, #T_d5cc4_row2_col5, #T_d5cc4_row2_col6, #T_d5cc4_row2_col7, #T_d5cc4_row3_col0, #T_d5cc4_row3_col1, #T_d5cc4_row3_col2, #T_d5cc4_row3_col3, #T_d5cc4_row3_col4, #T_d5cc4_row3_col5, #T_d5cc4_row3_col6, #T_d5cc4_row3_col7, #T_d5cc4_row4_col0, #T_d5cc4_row4_col1, #T_d5cc4_row4_col2, #T_d5cc4_row4_col3, #T_d5cc4_row4_col4, #T_d5cc4_row4_col5, #T_d5cc4_row4_col6, #T_d5cc4_row4_col7, #T_d5cc4_row5_col0, #T_d5cc4_row5_col1, #T_d5cc4_row5_col2, #T_d5cc4_row5_col3, #T_d5cc4_row5_col4, #T_d5cc4_row5_col5, #T_d5cc4_row5_col6, #T_d5cc4_row5_col7, #T_d5cc4_row6_col0, #T_d5cc4_row6_col1, #T_d5cc4_row6_col2, #T_d5cc4_row6_col3, #T_d5cc4_row6_col4, #T_d5cc4_row6_col5, #T_d5cc4_row6_col6, #T_d5cc4_row6_col7, #T_d5cc4_row7_col0, #T_d5cc4_row7_col1, #T_d5cc4_row7_col2, #T_d5cc4_row7_col3, #T_d5cc4_row7_col4, #T_d5cc4_row7_col5, #T_d5cc4_row7_col6, #T_d5cc4_row7_col7, #T_d5cc4_row8_col0, #T_d5cc4_row8_col1, #T_d5cc4_row8_col2, #T_d5cc4_row8_col3, #T_d5cc4_row8_col4, #T_d5cc4_row8_col5, #T_d5cc4_row8_col6, #T_d5cc4_row8_col7, #T_d5cc4_row9_col0, #T_d5cc4_row9_col1, #T_d5cc4_row9_col2, #T_d5cc4_row9_col3, #T_d5cc4_row9_col4, #T_d5cc4_row9_col5, #T_d5cc4_row9_col6, #T_d5cc4_row9_col7, #T_d5cc4_row10_col0, #T_d5cc4_row10_col1, #T_d5cc4_row10_col2, #T_d5cc4_row10_col3, #T_d5cc4_row10_col4, #T_d5cc4_row10_col5, #T_d5cc4_row10_col6, #T_d5cc4_row10_col7, #T_d5cc4_row11_col0, #T_d5cc4_row11_col1, #T_d5cc4_row11_col2, #T_d5cc4_row11_col3, #T_d5cc4_row11_col4, #T_d5cc4_row11_col5, #T_d5cc4_row11_col6, #T_d5cc4_row11_col7, #T_d5cc4_row12_col0, #T_d5cc4_row12_col1, #T_d5cc4_row12_col2, #T_d5cc4_row12_col3, #T_d5cc4_row12_col4, #T_d5cc4_row12_col5, #T_d5cc4_row12_col6, #T_d5cc4_row12_col7, #T_d5cc4_row13_col0, #T_d5cc4_row13_col1, #T_d5cc4_row13_col2, #T_d5cc4_row13_col3, #T_d5cc4_row13_col4, #T_d5cc4_row13_col5, #T_d5cc4_row13_col6, #T_d5cc4_row13_col7, #T_d5cc4_row14_col0, #T_d5cc4_row14_col1, #T_d5cc4_row14_col2, #T_d5cc4_row14_col3, #T_d5cc4_row14_col4, #T_d5cc4_row14_col5, #T_d5cc4_row14_col6, #T_d5cc4_row14_col7, #T_d5cc4_row15_col0, #T_d5cc4_row15_col1, #T_d5cc4_row15_col2, #T_d5cc4_row15_col3, #T_d5cc4_row15_col4, #T_d5cc4_row15_col5, #T_d5cc4_row15_col6, #T_d5cc4_row15_col7, #T_d5cc4_row16_col0, #T_d5cc4_row16_col1, #T_d5cc4_row16_col2, #T_d5cc4_row16_col3, #T_d5cc4_row16_col4, #T_d5cc4_row16_col5, #T_d5cc4_row16_col6, #T_d5cc4_row16_col7, #T_d5cc4_row17_col0, #T_d5cc4_row17_col1, #T_d5cc4_row17_col2, #T_d5cc4_row17_col3, #T_d5cc4_row17_col4, #T_d5cc4_row17_col5, #T_d5cc4_row17_col6, #T_d5cc4_row17_col7, #T_d5cc4_row18_col0, #T_d5cc4_row18_col1, #T_d5cc4_row18_col2, #T_d5cc4_row18_col3, #T_d5cc4_row18_col4, #T_d5cc4_row18_col5, #T_d5cc4_row18_col6, #T_d5cc4_row18_col7, #T_d5cc4_row19_col0, #T_d5cc4_row19_col1, #T_d5cc4_row19_col2, #T_d5cc4_row19_col3, #T_d5cc4_row19_col4, #T_d5cc4_row19_col5, #T_d5cc4_row19_col6, #T_d5cc4_row19_col7, #T_d5cc4_row20_col0, #T_d5cc4_row20_col1, #T_d5cc4_row20_col2, #T_d5cc4_row20_col3, #T_d5cc4_row20_col4, #T_d5cc4_row20_col5, #T_d5cc4_row20_col6, #T_d5cc4_row20_col7, #T_d5cc4_row21_col0, #T_d5cc4_row21_col1, #T_d5cc4_row21_col2, #T_d5cc4_row21_col3, #T_d5cc4_row21_col4, #T_d5cc4_row21_col5, #T_d5cc4_row21_col6, #T_d5cc4_row21_col7, #T_d5cc4_row22_col0, #T_d5cc4_row22_col1, #T_d5cc4_row22_col2, #T_d5cc4_row22_col3, #T_d5cc4_row22_col4, #T_d5cc4_row22_col5, #T_d5cc4_row22_col6, #T_d5cc4_row22_col7, #T_d5cc4_row23_col0, #T_d5cc4_row23_col1, #T_d5cc4_row23_col2, #T_d5cc4_row23_col3, #T_d5cc4_row23_col4, #T_d5cc4_row23_col5, #T_d5cc4_row23_col6, #T_d5cc4_row23_col7 {\n",
       "  text-align: left;\n",
       "}\n",
       "#T_d5cc4_row0_col2, #T_d5cc4_row0_col4, #T_d5cc4_row0_col5, #T_d5cc4_row0_col7, #T_d5cc4_row1_col1, #T_d5cc4_row1_col3, #T_d5cc4_row1_col6 {\n",
       "  text-align: left;\n",
       "  background-color: yellow;\n",
       "}\n",
       "#T_d5cc4_row0_col8, #T_d5cc4_row1_col8, #T_d5cc4_row2_col8, #T_d5cc4_row3_col8, #T_d5cc4_row4_col8, #T_d5cc4_row5_col8, #T_d5cc4_row7_col8, #T_d5cc4_row8_col8, #T_d5cc4_row9_col8, #T_d5cc4_row10_col8, #T_d5cc4_row11_col8, #T_d5cc4_row12_col8, #T_d5cc4_row13_col8, #T_d5cc4_row14_col8, #T_d5cc4_row15_col8, #T_d5cc4_row16_col8, #T_d5cc4_row17_col8, #T_d5cc4_row18_col8, #T_d5cc4_row19_col8, #T_d5cc4_row20_col8, #T_d5cc4_row21_col8, #T_d5cc4_row22_col8, #T_d5cc4_row23_col8 {\n",
       "  text-align: left;\n",
       "  background-color: lightgrey;\n",
       "}\n",
       "#T_d5cc4_row6_col8 {\n",
       "  text-align: left;\n",
       "  background-color: yellow;\n",
       "  background-color: lightgrey;\n",
       "}\n",
       "</style>\n",
       "<table id=\"T_d5cc4\">\n",
       "  <thead>\n",
       "    <tr>\n",
       "      <th class=\"blank level0\" >&nbsp;</th>\n",
       "      <th id=\"T_d5cc4_level0_col0\" class=\"col_heading level0 col0\" >Model</th>\n",
       "      <th id=\"T_d5cc4_level0_col1\" class=\"col_heading level0 col1\" >MASE</th>\n",
       "      <th id=\"T_d5cc4_level0_col2\" class=\"col_heading level0 col2\" >RMSSE</th>\n",
       "      <th id=\"T_d5cc4_level0_col3\" class=\"col_heading level0 col3\" >MAE</th>\n",
       "      <th id=\"T_d5cc4_level0_col4\" class=\"col_heading level0 col4\" >RMSE</th>\n",
       "      <th id=\"T_d5cc4_level0_col5\" class=\"col_heading level0 col5\" >MAPE</th>\n",
       "      <th id=\"T_d5cc4_level0_col6\" class=\"col_heading level0 col6\" >SMAPE</th>\n",
       "      <th id=\"T_d5cc4_level0_col7\" class=\"col_heading level0 col7\" >R2</th>\n",
       "      <th id=\"T_d5cc4_level0_col8\" class=\"col_heading level0 col8\" >TT (Sec)</th>\n",
       "    </tr>\n",
       "  </thead>\n",
       "  <tbody>\n",
       "    <tr>\n",
       "      <th id=\"T_d5cc4_level0_row0\" class=\"row_heading level0 row0\" >ada_cds_dt</th>\n",
       "      <td id=\"T_d5cc4_row0_col0\" class=\"data row0 col0\" >AdaBoost w/ Cond. Deseasonalize & Detrending</td>\n",
       "      <td id=\"T_d5cc4_row0_col1\" class=\"data row0 col1\" >0.9112</td>\n",
       "      <td id=\"T_d5cc4_row0_col2\" class=\"data row0 col2\" >0.8867</td>\n",
       "      <td id=\"T_d5cc4_row0_col3\" class=\"data row0 col3\" >809698.4753</td>\n",
       "      <td id=\"T_d5cc4_row0_col4\" class=\"data row0 col4\" >983227.8222</td>\n",
       "      <td id=\"T_d5cc4_row0_col5\" class=\"data row0 col5\" >0.1791</td>\n",
       "      <td id=\"T_d5cc4_row0_col6\" class=\"data row0 col6\" >0.1807</td>\n",
       "      <td id=\"T_d5cc4_row0_col7\" class=\"data row0 col7\" >-0.4486</td>\n",
       "      <td id=\"T_d5cc4_row0_col8\" class=\"data row0 col8\" >0.1133</td>\n",
       "    </tr>\n",
       "    <tr>\n",
       "      <th id=\"T_d5cc4_level0_row1\" class=\"row_heading level0 row1\" >lightgbm_cds_dt</th>\n",
       "      <td id=\"T_d5cc4_row1_col0\" class=\"data row1 col0\" >Light Gradient Boosting w/ Cond. Deseasonalize & Detrending</td>\n",
       "      <td id=\"T_d5cc4_row1_col1\" class=\"data row1 col1\" >0.8966</td>\n",
       "      <td id=\"T_d5cc4_row1_col2\" class=\"data row1 col2\" >0.8928</td>\n",
       "      <td id=\"T_d5cc4_row1_col3\" class=\"data row1 col3\" >795259.3474</td>\n",
       "      <td id=\"T_d5cc4_row1_col4\" class=\"data row1 col4\" >988690.3758</td>\n",
       "      <td id=\"T_d5cc4_row1_col5\" class=\"data row1 col5\" >0.1849</td>\n",
       "      <td id=\"T_d5cc4_row1_col6\" class=\"data row1 col6\" >0.1763</td>\n",
       "      <td id=\"T_d5cc4_row1_col7\" class=\"data row1 col7\" >-0.4547</td>\n",
       "      <td id=\"T_d5cc4_row1_col8\" class=\"data row1 col8\" >0.2267</td>\n",
       "    </tr>\n",
       "    <tr>\n",
       "      <th id=\"T_d5cc4_level0_row2\" class=\"row_heading level0 row2\" >knn_cds_dt</th>\n",
       "      <td id=\"T_d5cc4_row2_col0\" class=\"data row2 col0\" >K Neighbors w/ Cond. Deseasonalize & Detrending</td>\n",
       "      <td id=\"T_d5cc4_row2_col1\" class=\"data row2 col1\" >1.0921</td>\n",
       "      <td id=\"T_d5cc4_row2_col2\" class=\"data row2 col2\" >1.0729</td>\n",
       "      <td id=\"T_d5cc4_row2_col3\" class=\"data row2 col3\" >972260.0070</td>\n",
       "      <td id=\"T_d5cc4_row2_col4\" class=\"data row2 col4\" >1190295.8347</td>\n",
       "      <td id=\"T_d5cc4_row2_col5\" class=\"data row2 col5\" >0.2047</td>\n",
       "      <td id=\"T_d5cc4_row2_col6\" class=\"data row2 col6\" >0.2173</td>\n",
       "      <td id=\"T_d5cc4_row2_col7\" class=\"data row2 col7\" >-1.3205</td>\n",
       "      <td id=\"T_d5cc4_row2_col8\" class=\"data row2 col8\" >0.1733</td>\n",
       "    </tr>\n",
       "    <tr>\n",
       "      <th id=\"T_d5cc4_level0_row3\" class=\"row_heading level0 row3\" >rf_cds_dt</th>\n",
       "      <td id=\"T_d5cc4_row3_col0\" class=\"data row3 col0\" >Random Forest w/ Cond. Deseasonalize & Detrending</td>\n",
       "      <td id=\"T_d5cc4_row3_col1\" class=\"data row3 col1\" >1.1187</td>\n",
       "      <td id=\"T_d5cc4_row3_col2\" class=\"data row3 col2\" >1.0570</td>\n",
       "      <td id=\"T_d5cc4_row3_col3\" class=\"data row3 col3\" >992649.9510</td>\n",
       "      <td id=\"T_d5cc4_row3_col4\" class=\"data row3 col4\" >1171061.9730</td>\n",
       "      <td id=\"T_d5cc4_row3_col5\" class=\"data row3 col5\" >0.2243</td>\n",
       "      <td id=\"T_d5cc4_row3_col6\" class=\"data row3 col6\" >0.2193</td>\n",
       "      <td id=\"T_d5cc4_row3_col7\" class=\"data row3 col7\" >-1.0584</td>\n",
       "      <td id=\"T_d5cc4_row3_col8\" class=\"data row3 col8\" >0.2600</td>\n",
       "    </tr>\n",
       "    <tr>\n",
       "      <th id=\"T_d5cc4_level0_row4\" class=\"row_heading level0 row4\" >et_cds_dt</th>\n",
       "      <td id=\"T_d5cc4_row4_col0\" class=\"data row4 col0\" >Extra Trees w/ Cond. Deseasonalize & Detrending</td>\n",
       "      <td id=\"T_d5cc4_row4_col1\" class=\"data row4 col1\" >1.2258</td>\n",
       "      <td id=\"T_d5cc4_row4_col2\" class=\"data row4 col2\" >1.1280</td>\n",
       "      <td id=\"T_d5cc4_row4_col3\" class=\"data row4 col3\" >1088380.0795</td>\n",
       "      <td id=\"T_d5cc4_row4_col4\" class=\"data row4 col4\" >1249005.3350</td>\n",
       "      <td id=\"T_d5cc4_row4_col5\" class=\"data row4 col5\" >0.2431</td>\n",
       "      <td id=\"T_d5cc4_row4_col6\" class=\"data row4 col6\" >0.2448</td>\n",
       "      <td id=\"T_d5cc4_row4_col7\" class=\"data row4 col7\" >-1.4515</td>\n",
       "      <td id=\"T_d5cc4_row4_col8\" class=\"data row4 col8\" >0.2433</td>\n",
       "    </tr>\n",
       "    <tr>\n",
       "      <th id=\"T_d5cc4_level0_row5\" class=\"row_heading level0 row5\" >gbr_cds_dt</th>\n",
       "      <td id=\"T_d5cc4_row5_col0\" class=\"data row5 col0\" >Gradient Boosting w/ Cond. Deseasonalize & Detrending</td>\n",
       "      <td id=\"T_d5cc4_row5_col1\" class=\"data row5 col1\" >1.2816</td>\n",
       "      <td id=\"T_d5cc4_row5_col2\" class=\"data row5 col2\" >1.1684</td>\n",
       "      <td id=\"T_d5cc4_row5_col3\" class=\"data row5 col3\" >1136511.3765</td>\n",
       "      <td id=\"T_d5cc4_row5_col4\" class=\"data row5 col4\" >1294575.5264</td>\n",
       "      <td id=\"T_d5cc4_row5_col5\" class=\"data row5 col5\" >0.2516</td>\n",
       "      <td id=\"T_d5cc4_row5_col6\" class=\"data row5 col6\" >0.2526</td>\n",
       "      <td id=\"T_d5cc4_row5_col7\" class=\"data row5 col7\" >-1.5087</td>\n",
       "      <td id=\"T_d5cc4_row5_col8\" class=\"data row5 col8\" >0.0933</td>\n",
       "    </tr>\n",
       "    <tr>\n",
       "      <th id=\"T_d5cc4_level0_row6\" class=\"row_heading level0 row6\" >polytrend</th>\n",
       "      <td id=\"T_d5cc4_row6_col0\" class=\"data row6 col0\" >Polynomial Trend Forecaster</td>\n",
       "      <td id=\"T_d5cc4_row6_col1\" class=\"data row6 col1\" >1.2169</td>\n",
       "      <td id=\"T_d5cc4_row6_col2\" class=\"data row6 col2\" >1.1597</td>\n",
       "      <td id=\"T_d5cc4_row6_col3\" class=\"data row6 col3\" >1078221.9872</td>\n",
       "      <td id=\"T_d5cc4_row6_col4\" class=\"data row6 col4\" >1283767.1609</td>\n",
       "      <td id=\"T_d5cc4_row6_col5\" class=\"data row6 col5\" >0.2531</td>\n",
       "      <td id=\"T_d5cc4_row6_col6\" class=\"data row6 col6\" >0.2396</td>\n",
       "      <td id=\"T_d5cc4_row6_col7\" class=\"data row6 col7\" >-1.4649</td>\n",
       "      <td id=\"T_d5cc4_row6_col8\" class=\"data row6 col8\" >0.0200</td>\n",
       "    </tr>\n",
       "    <tr>\n",
       "      <th id=\"T_d5cc4_level0_row7\" class=\"row_heading level0 row7\" >br_cds_dt</th>\n",
       "      <td id=\"T_d5cc4_row7_col0\" class=\"data row7 col0\" >Bayesian Ridge w/ Cond. Deseasonalize & Detrending</td>\n",
       "      <td id=\"T_d5cc4_row7_col1\" class=\"data row7 col1\" >1.2645</td>\n",
       "      <td id=\"T_d5cc4_row7_col2\" class=\"data row7 col2\" >1.1930</td>\n",
       "      <td id=\"T_d5cc4_row7_col3\" class=\"data row7 col3\" >1121164.4567</td>\n",
       "      <td id=\"T_d5cc4_row7_col4\" class=\"data row7 col4\" >1320918.2990</td>\n",
       "      <td id=\"T_d5cc4_row7_col5\" class=\"data row7 col5\" >0.2587</td>\n",
       "      <td id=\"T_d5cc4_row7_col6\" class=\"data row7 col6\" >0.2497</td>\n",
       "      <td id=\"T_d5cc4_row7_col7\" class=\"data row7 col7\" >-1.5928</td>\n",
       "      <td id=\"T_d5cc4_row7_col8\" class=\"data row7 col8\" >0.0833</td>\n",
       "    </tr>\n",
       "    <tr>\n",
       "      <th id=\"T_d5cc4_level0_row8\" class=\"row_heading level0 row8\" >huber_cds_dt</th>\n",
       "      <td id=\"T_d5cc4_row8_col0\" class=\"data row8 col0\" >Huber w/ Cond. Deseasonalize & Detrending</td>\n",
       "      <td id=\"T_d5cc4_row8_col1\" class=\"data row8 col1\" >1.2526</td>\n",
       "      <td id=\"T_d5cc4_row8_col2\" class=\"data row8 col2\" >1.1750</td>\n",
       "      <td id=\"T_d5cc4_row8_col3\" class=\"data row8 col3\" >1109879.7185</td>\n",
       "      <td id=\"T_d5cc4_row8_col4\" class=\"data row8 col4\" >1300609.8643</td>\n",
       "      <td id=\"T_d5cc4_row8_col5\" class=\"data row8 col5\" >0.2598</td>\n",
       "      <td id=\"T_d5cc4_row8_col6\" class=\"data row8 col6\" >0.2467</td>\n",
       "      <td id=\"T_d5cc4_row8_col7\" class=\"data row8 col7\" >-1.5259</td>\n",
       "      <td id=\"T_d5cc4_row8_col8\" class=\"data row8 col8\" >0.0933</td>\n",
       "    </tr>\n",
       "    <tr>\n",
       "      <th id=\"T_d5cc4_level0_row9\" class=\"row_heading level0 row9\" >omp_cds_dt</th>\n",
       "      <td id=\"T_d5cc4_row9_col0\" class=\"data row9 col0\" >Orthogonal Matching Pursuit w/ Cond. Deseasonalize & Detrending</td>\n",
       "      <td id=\"T_d5cc4_row9_col1\" class=\"data row9 col1\" >1.2762</td>\n",
       "      <td id=\"T_d5cc4_row9_col2\" class=\"data row9 col2\" >1.2022</td>\n",
       "      <td id=\"T_d5cc4_row9_col3\" class=\"data row9 col3\" >1131670.6305</td>\n",
       "      <td id=\"T_d5cc4_row9_col4\" class=\"data row9 col4\" >1331206.2427</td>\n",
       "      <td id=\"T_d5cc4_row9_col5\" class=\"data row9 col5\" >0.2606</td>\n",
       "      <td id=\"T_d5cc4_row9_col6\" class=\"data row9 col6\" >0.2523</td>\n",
       "      <td id=\"T_d5cc4_row9_col7\" class=\"data row9 col7\" >-1.6351</td>\n",
       "      <td id=\"T_d5cc4_row9_col8\" class=\"data row9 col8\" >0.0867</td>\n",
       "    </tr>\n",
       "    <tr>\n",
       "      <th id=\"T_d5cc4_level0_row10\" class=\"row_heading level0 row10\" >en_cds_dt</th>\n",
       "      <td id=\"T_d5cc4_row10_col0\" class=\"data row10 col0\" >Elastic Net w/ Cond. Deseasonalize & Detrending</td>\n",
       "      <td id=\"T_d5cc4_row10_col1\" class=\"data row10 col1\" >1.2797</td>\n",
       "      <td id=\"T_d5cc4_row10_col2\" class=\"data row10 col2\" >1.2041</td>\n",
       "      <td id=\"T_d5cc4_row10_col3\" class=\"data row10 col3\" >1134874.1231</td>\n",
       "      <td id=\"T_d5cc4_row10_col4\" class=\"data row10 col4\" >1333362.9372</td>\n",
       "      <td id=\"T_d5cc4_row10_col5\" class=\"data row10 col5\" >0.2609</td>\n",
       "      <td id=\"T_d5cc4_row10_col6\" class=\"data row10 col6\" >0.2531</td>\n",
       "      <td id=\"T_d5cc4_row10_col7\" class=\"data row10 col7\" >-1.6450</td>\n",
       "      <td id=\"T_d5cc4_row10_col8\" class=\"data row10 col8\" >0.0900</td>\n",
       "    </tr>\n",
       "    <tr>\n",
       "      <th id=\"T_d5cc4_level0_row11\" class=\"row_heading level0 row11\" >lasso_cds_dt</th>\n",
       "      <td id=\"T_d5cc4_row11_col0\" class=\"data row11 col0\" >Lasso w/ Cond. Deseasonalize & Detrending</td>\n",
       "      <td id=\"T_d5cc4_row11_col1\" class=\"data row11 col1\" >1.2797</td>\n",
       "      <td id=\"T_d5cc4_row11_col2\" class=\"data row11 col2\" >1.2041</td>\n",
       "      <td id=\"T_d5cc4_row11_col3\" class=\"data row11 col3\" >1134874.1231</td>\n",
       "      <td id=\"T_d5cc4_row11_col4\" class=\"data row11 col4\" >1333362.9372</td>\n",
       "      <td id=\"T_d5cc4_row11_col5\" class=\"data row11 col5\" >0.2609</td>\n",
       "      <td id=\"T_d5cc4_row11_col6\" class=\"data row11 col6\" >0.2531</td>\n",
       "      <td id=\"T_d5cc4_row11_col7\" class=\"data row11 col7\" >-1.6450</td>\n",
       "      <td id=\"T_d5cc4_row11_col8\" class=\"data row11 col8\" >0.0867</td>\n",
       "    </tr>\n",
       "    <tr>\n",
       "      <th id=\"T_d5cc4_level0_row12\" class=\"row_heading level0 row12\" >ridge_cds_dt</th>\n",
       "      <td id=\"T_d5cc4_row12_col0\" class=\"data row12 col0\" >Ridge w/ Cond. Deseasonalize & Detrending</td>\n",
       "      <td id=\"T_d5cc4_row12_col1\" class=\"data row12 col1\" >1.2797</td>\n",
       "      <td id=\"T_d5cc4_row12_col2\" class=\"data row12 col2\" >1.2041</td>\n",
       "      <td id=\"T_d5cc4_row12_col3\" class=\"data row12 col3\" >1134874.1231</td>\n",
       "      <td id=\"T_d5cc4_row12_col4\" class=\"data row12 col4\" >1333362.9372</td>\n",
       "      <td id=\"T_d5cc4_row12_col5\" class=\"data row12 col5\" >0.2609</td>\n",
       "      <td id=\"T_d5cc4_row12_col6\" class=\"data row12 col6\" >0.2531</td>\n",
       "      <td id=\"T_d5cc4_row12_col7\" class=\"data row12 col7\" >-1.6450</td>\n",
       "      <td id=\"T_d5cc4_row12_col8\" class=\"data row12 col8\" >0.0900</td>\n",
       "    </tr>\n",
       "    <tr>\n",
       "      <th id=\"T_d5cc4_level0_row13\" class=\"row_heading level0 row13\" >llar_cds_dt</th>\n",
       "      <td id=\"T_d5cc4_row13_col0\" class=\"data row13 col0\" >Lasso Least Angular Regressor w/ Cond. Deseasonalize & Detrending</td>\n",
       "      <td id=\"T_d5cc4_row13_col1\" class=\"data row13 col1\" >1.2797</td>\n",
       "      <td id=\"T_d5cc4_row13_col2\" class=\"data row13 col2\" >1.2041</td>\n",
       "      <td id=\"T_d5cc4_row13_col3\" class=\"data row13 col3\" >1134874.1231</td>\n",
       "      <td id=\"T_d5cc4_row13_col4\" class=\"data row13 col4\" >1333362.9372</td>\n",
       "      <td id=\"T_d5cc4_row13_col5\" class=\"data row13 col5\" >0.2609</td>\n",
       "      <td id=\"T_d5cc4_row13_col6\" class=\"data row13 col6\" >0.2531</td>\n",
       "      <td id=\"T_d5cc4_row13_col7\" class=\"data row13 col7\" >-1.6450</td>\n",
       "      <td id=\"T_d5cc4_row13_col8\" class=\"data row13 col8\" >0.0867</td>\n",
       "    </tr>\n",
       "    <tr>\n",
       "      <th id=\"T_d5cc4_level0_row14\" class=\"row_heading level0 row14\" >lr_cds_dt</th>\n",
       "      <td id=\"T_d5cc4_row14_col0\" class=\"data row14 col0\" >Linear w/ Cond. Deseasonalize & Detrending</td>\n",
       "      <td id=\"T_d5cc4_row14_col1\" class=\"data row14 col1\" >1.2797</td>\n",
       "      <td id=\"T_d5cc4_row14_col2\" class=\"data row14 col2\" >1.2041</td>\n",
       "      <td id=\"T_d5cc4_row14_col3\" class=\"data row14 col3\" >1134874.1231</td>\n",
       "      <td id=\"T_d5cc4_row14_col4\" class=\"data row14 col4\" >1333362.9372</td>\n",
       "      <td id=\"T_d5cc4_row14_col5\" class=\"data row14 col5\" >0.2609</td>\n",
       "      <td id=\"T_d5cc4_row14_col6\" class=\"data row14 col6\" >0.2531</td>\n",
       "      <td id=\"T_d5cc4_row14_col7\" class=\"data row14 col7\" >-1.6450</td>\n",
       "      <td id=\"T_d5cc4_row14_col8\" class=\"data row14 col8\" >0.0900</td>\n",
       "    </tr>\n",
       "    <tr>\n",
       "      <th id=\"T_d5cc4_level0_row15\" class=\"row_heading level0 row15\" >snaive</th>\n",
       "      <td id=\"T_d5cc4_row15_col0\" class=\"data row15 col0\" >Seasonal Naive Forecaster</td>\n",
       "      <td id=\"T_d5cc4_row15_col1\" class=\"data row15 col1\" >1.4347</td>\n",
       "      <td id=\"T_d5cc4_row15_col2\" class=\"data row15 col2\" >1.3389</td>\n",
       "      <td id=\"T_d5cc4_row15_col3\" class=\"data row15 col3\" >1279921.0197</td>\n",
       "      <td id=\"T_d5cc4_row15_col4\" class=\"data row15 col4\" >1485743.5178</td>\n",
       "      <td id=\"T_d5cc4_row15_col5\" class=\"data row15 col5\" >0.2716</td>\n",
       "      <td id=\"T_d5cc4_row15_col6\" class=\"data row15 col6\" >0.2998</td>\n",
       "      <td id=\"T_d5cc4_row15_col7\" class=\"data row15 col7\" >-3.0978</td>\n",
       "      <td id=\"T_d5cc4_row15_col8\" class=\"data row15 col8\" >0.0433</td>\n",
       "    </tr>\n",
       "    <tr>\n",
       "      <th id=\"T_d5cc4_level0_row16\" class=\"row_heading level0 row16\" >stlf</th>\n",
       "      <td id=\"T_d5cc4_row16_col0\" class=\"data row16 col0\" >STLF</td>\n",
       "      <td id=\"T_d5cc4_row16_col1\" class=\"data row16 col1\" >1.5718</td>\n",
       "      <td id=\"T_d5cc4_row16_col2\" class=\"data row16 col2\" >1.4216</td>\n",
       "      <td id=\"T_d5cc4_row16_col3\" class=\"data row16 col3\" >1403468.9900</td>\n",
       "      <td id=\"T_d5cc4_row16_col4\" class=\"data row16 col4\" >1577452.9552</td>\n",
       "      <td id=\"T_d5cc4_row16_col5\" class=\"data row16 col5\" >0.2942</td>\n",
       "      <td id=\"T_d5cc4_row16_col6\" class=\"data row16 col6\" >0.3386</td>\n",
       "      <td id=\"T_d5cc4_row16_col7\" class=\"data row16 col7\" >-4.1754</td>\n",
       "      <td id=\"T_d5cc4_row16_col8\" class=\"data row16 col8\" >0.0333</td>\n",
       "    </tr>\n",
       "    <tr>\n",
       "      <th id=\"T_d5cc4_level0_row17\" class=\"row_heading level0 row17\" >theta</th>\n",
       "      <td id=\"T_d5cc4_row17_col0\" class=\"data row17 col0\" >Theta Forecaster</td>\n",
       "      <td id=\"T_d5cc4_row17_col1\" class=\"data row17 col1\" >1.5812</td>\n",
       "      <td id=\"T_d5cc4_row17_col2\" class=\"data row17 col2\" >1.4263</td>\n",
       "      <td id=\"T_d5cc4_row17_col3\" class=\"data row17 col3\" >1410893.6538</td>\n",
       "      <td id=\"T_d5cc4_row17_col4\" class=\"data row17 col4\" >1583019.7835</td>\n",
       "      <td id=\"T_d5cc4_row17_col5\" class=\"data row17 col5\" >0.2951</td>\n",
       "      <td id=\"T_d5cc4_row17_col6\" class=\"data row17 col6\" >0.3344</td>\n",
       "      <td id=\"T_d5cc4_row17_col7\" class=\"data row17 col7\" >-3.7573</td>\n",
       "      <td id=\"T_d5cc4_row17_col8\" class=\"data row17 col8\" >0.0300</td>\n",
       "    </tr>\n",
       "    <tr>\n",
       "      <th id=\"T_d5cc4_level0_row18\" class=\"row_heading level0 row18\" >xgboost_cds_dt</th>\n",
       "      <td id=\"T_d5cc4_row18_col0\" class=\"data row18 col0\" >Extreme Gradient Boosting w/ Cond. Deseasonalize & Detrending</td>\n",
       "      <td id=\"T_d5cc4_row18_col1\" class=\"data row18 col1\" >1.4543</td>\n",
       "      <td id=\"T_d5cc4_row18_col2\" class=\"data row18 col2\" >1.4390</td>\n",
       "      <td id=\"T_d5cc4_row18_col3\" class=\"data row18 col3\" >1288331.1752</td>\n",
       "      <td id=\"T_d5cc4_row18_col4\" class=\"data row18 col4\" >1592027.0476</td>\n",
       "      <td id=\"T_d5cc4_row18_col5\" class=\"data row18 col5\" >0.3063</td>\n",
       "      <td id=\"T_d5cc4_row18_col6\" class=\"data row18 col6\" >0.2866</td>\n",
       "      <td id=\"T_d5cc4_row18_col7\" class=\"data row18 col7\" >-2.7986</td>\n",
       "      <td id=\"T_d5cc4_row18_col8\" class=\"data row18 col8\" >0.5067</td>\n",
       "    </tr>\n",
       "    <tr>\n",
       "      <th id=\"T_d5cc4_level0_row19\" class=\"row_heading level0 row19\" >dt_cds_dt</th>\n",
       "      <td id=\"T_d5cc4_row19_col0\" class=\"data row19 col0\" >Decision Tree w/ Cond. Deseasonalize & Detrending</td>\n",
       "      <td id=\"T_d5cc4_row19_col1\" class=\"data row19 col1\" >1.5601</td>\n",
       "      <td id=\"T_d5cc4_row19_col2\" class=\"data row19 col2\" >1.5280</td>\n",
       "      <td id=\"T_d5cc4_row19_col3\" class=\"data row19 col3\" >1383487.9780</td>\n",
       "      <td id=\"T_d5cc4_row19_col4\" class=\"data row19 col4\" >1692632.4518</td>\n",
       "      <td id=\"T_d5cc4_row19_col5\" class=\"data row19 col5\" >0.3132</td>\n",
       "      <td id=\"T_d5cc4_row19_col6\" class=\"data row19 col6\" >0.3097</td>\n",
       "      <td id=\"T_d5cc4_row19_col7\" class=\"data row19 col7\" >-3.2545</td>\n",
       "      <td id=\"T_d5cc4_row19_col8\" class=\"data row19 col8\" >0.0900</td>\n",
       "    </tr>\n",
       "    <tr>\n",
       "      <th id=\"T_d5cc4_level0_row20\" class=\"row_heading level0 row20\" >auto_arima</th>\n",
       "      <td id=\"T_d5cc4_row20_col0\" class=\"data row20 col0\" >Auto ARIMA</td>\n",
       "      <td id=\"T_d5cc4_row20_col1\" class=\"data row20 col1\" >1.5942</td>\n",
       "      <td id=\"T_d5cc4_row20_col2\" class=\"data row20 col2\" >1.4289</td>\n",
       "      <td id=\"T_d5cc4_row20_col3\" class=\"data row20 col3\" >1419197.6986</td>\n",
       "      <td id=\"T_d5cc4_row20_col4\" class=\"data row20 col4\" >1581379.6876</td>\n",
       "      <td id=\"T_d5cc4_row20_col5\" class=\"data row20 col5\" >0.3232</td>\n",
       "      <td id=\"T_d5cc4_row20_col6\" class=\"data row20 col6\" >0.3391</td>\n",
       "      <td id=\"T_d5cc4_row20_col7\" class=\"data row20 col7\" >-4.0713</td>\n",
       "      <td id=\"T_d5cc4_row20_col8\" class=\"data row20 col8\" >0.2400</td>\n",
       "    </tr>\n",
       "    <tr>\n",
       "      <th id=\"T_d5cc4_level0_row21\" class=\"row_heading level0 row21\" >arima</th>\n",
       "      <td id=\"T_d5cc4_row21_col0\" class=\"data row21 col0\" >ARIMA</td>\n",
       "      <td id=\"T_d5cc4_row21_col1\" class=\"data row21 col1\" >1.9055</td>\n",
       "      <td id=\"T_d5cc4_row21_col2\" class=\"data row21 col2\" >1.6595</td>\n",
       "      <td id=\"T_d5cc4_row21_col3\" class=\"data row21 col3\" >1701747.8570</td>\n",
       "      <td id=\"T_d5cc4_row21_col4\" class=\"data row21 col4\" >1841759.6350</td>\n",
       "      <td id=\"T_d5cc4_row21_col5\" class=\"data row21 col5\" >0.3546</td>\n",
       "      <td id=\"T_d5cc4_row21_col6\" class=\"data row21 col6\" >0.4376</td>\n",
       "      <td id=\"T_d5cc4_row21_col7\" class=\"data row21 col7\" >-6.5944</td>\n",
       "      <td id=\"T_d5cc4_row21_col8\" class=\"data row21 col8\" >0.0500</td>\n",
       "    </tr>\n",
       "    <tr>\n",
       "      <th id=\"T_d5cc4_level0_row22\" class=\"row_heading level0 row22\" >ets</th>\n",
       "      <td id=\"T_d5cc4_row22_col0\" class=\"data row22 col0\" >ETS</td>\n",
       "      <td id=\"T_d5cc4_row22_col1\" class=\"data row22 col1\" >2.3473</td>\n",
       "      <td id=\"T_d5cc4_row22_col2\" class=\"data row22 col2\" >2.0092</td>\n",
       "      <td id=\"T_d5cc4_row22_col3\" class=\"data row22 col3\" >2094744.4101</td>\n",
       "      <td id=\"T_d5cc4_row22_col4\" class=\"data row22 col4\" >2229625.4991</td>\n",
       "      <td id=\"T_d5cc4_row22_col5\" class=\"data row22 col5\" >0.4326</td>\n",
       "      <td id=\"T_d5cc4_row22_col6\" class=\"data row22 col6\" >0.5740</td>\n",
       "      <td id=\"T_d5cc4_row22_col7\" class=\"data row22 col7\" >-9.4527</td>\n",
       "      <td id=\"T_d5cc4_row22_col8\" class=\"data row22 col8\" >0.0367</td>\n",
       "    </tr>\n",
       "    <tr>\n",
       "      <th id=\"T_d5cc4_level0_row23\" class=\"row_heading level0 row23\" >exp_smooth</th>\n",
       "      <td id=\"T_d5cc4_row23_col0\" class=\"data row23 col0\" >Exponential Smoothing</td>\n",
       "      <td id=\"T_d5cc4_row23_col1\" class=\"data row23 col1\" >2.3397</td>\n",
       "      <td id=\"T_d5cc4_row23_col2\" class=\"data row23 col2\" >2.0194</td>\n",
       "      <td id=\"T_d5cc4_row23_col3\" class=\"data row23 col3\" >2085903.3791</td>\n",
       "      <td id=\"T_d5cc4_row23_col4\" class=\"data row23 col4\" >2238175.7603</td>\n",
       "      <td id=\"T_d5cc4_row23_col5\" class=\"data row23 col5\" >0.4337</td>\n",
       "      <td id=\"T_d5cc4_row23_col6\" class=\"data row23 col6\" >0.5798</td>\n",
       "      <td id=\"T_d5cc4_row23_col7\" class=\"data row23 col7\" >-9.4045</td>\n",
       "      <td id=\"T_d5cc4_row23_col8\" class=\"data row23 col8\" >0.0567</td>\n",
       "    </tr>\n",
       "  </tbody>\n",
       "</table>\n"
      ],
      "text/plain": [
       "<pandas.io.formats.style.Styler at 0x1a6bc753be0>"
      ]
     },
     "metadata": {},
     "output_type": "display_data"
    },
    {
     "data": {
      "text/html": [],
      "text/plain": [
       "<IPython.core.display.HTML object>"
      ]
     },
     "metadata": {},
     "output_type": "display_data"
    },
    {
     "data": {
      "application/vnd.plotly.v1+json": {
       "config": {
        "plotlyServerURL": "https://plot.ly"
       },
       "data": [
        {
         "line": {
          "color": "rgb(31, 119, 180)",
          "width": 2
         },
         "marker": {
          "color": "rgb(31, 119, 180)",
          "size": 5
         },
         "mode": "lines+markers",
         "name": "NET_SALES",
         "type": "scattergl",
         "x": [
          "2016-01-01T00:00:00",
          "2016-02-01T00:00:00",
          "2016-03-01T00:00:00",
          "2016-04-01T00:00:00",
          "2016-05-01T00:00:00",
          "2016-06-01T00:00:00",
          "2016-07-01T00:00:00",
          "2016-08-01T00:00:00",
          "2016-09-01T00:00:00",
          "2016-10-01T00:00:00",
          "2016-11-01T00:00:00",
          "2016-12-01T00:00:00",
          "2017-01-01T00:00:00",
          "2017-02-01T00:00:00",
          "2017-03-01T00:00:00",
          "2017-04-01T00:00:00",
          "2017-05-01T00:00:00",
          "2017-06-01T00:00:00",
          "2017-07-01T00:00:00",
          "2017-08-01T00:00:00",
          "2017-09-01T00:00:00",
          "2017-10-01T00:00:00",
          "2017-11-01T00:00:00",
          "2017-12-01T00:00:00",
          "2018-01-01T00:00:00",
          "2018-02-01T00:00:00",
          "2018-03-01T00:00:00",
          "2018-04-01T00:00:00",
          "2018-05-01T00:00:00",
          "2018-06-01T00:00:00",
          "2018-07-01T00:00:00",
          "2018-08-01T00:00:00",
          "2018-09-01T00:00:00",
          "2018-10-01T00:00:00",
          "2018-11-01T00:00:00",
          "2018-12-01T00:00:00",
          "2019-01-01T00:00:00",
          "2019-02-01T00:00:00",
          "2019-03-01T00:00:00",
          "2019-04-01T00:00:00",
          "2019-05-01T00:00:00",
          "2019-06-01T00:00:00",
          "2019-07-01T00:00:00",
          "2019-08-01T00:00:00",
          "2019-09-01T00:00:00",
          "2019-10-01T00:00:00",
          "2019-11-01T00:00:00",
          "2019-12-01T00:00:00",
          "2020-01-01T00:00:00",
          "2020-02-01T00:00:00",
          "2020-03-01T00:00:00",
          "2020-04-01T00:00:00",
          "2020-05-01T00:00:00",
          "2020-06-01T00:00:00",
          "2020-07-01T00:00:00",
          "2020-08-01T00:00:00",
          "2020-09-01T00:00:00",
          "2020-10-01T00:00:00",
          "2020-11-01T00:00:00",
          "2020-12-01T00:00:00",
          "2021-01-01T00:00:00",
          "2021-02-01T00:00:00",
          "2021-03-01T00:00:00",
          "2021-04-01T00:00:00",
          "2021-05-01T00:00:00",
          "2021-06-01T00:00:00",
          "2021-07-01T00:00:00",
          "2021-08-01T00:00:00",
          "2021-09-01T00:00:00",
          "2021-10-01T00:00:00",
          "2021-11-01T00:00:00",
          "2021-12-01T00:00:00",
          "2022-01-01T00:00:00",
          "2022-02-01T00:00:00",
          "2022-03-01T00:00:00",
          "2022-04-01T00:00:00",
          "2022-05-01T00:00:00",
          "2022-06-01T00:00:00",
          "2022-07-01T00:00:00",
          "2022-08-01T00:00:00",
          "2022-09-01T00:00:00",
          "2022-10-01T00:00:00",
          "2022-11-01T00:00:00",
          "2022-12-01T00:00:00"
         ],
         "xaxis": "x",
         "y": [
          3775553.3199999994,
          4727951.25,
          5293515.02,
          5503850.3,
          5687682.4799999995,
          4737963.89,
          3927449.409999999,
          4342977.07,
          4200946.089999999,
          4102859.1100000003,
          3448531.2199999997,
          4036868.32,
          4835069.39,
          4153796.7100000004,
          5940741.71,
          4789757.73,
          6356822.97,
          5756533.289999999,
          4351244.280000001,
          3916427.65,
          3529201.2699999996,
          4342549.03,
          3383185.1799999997,
          4494981.26,
          5275954.470000001,
          6464611.11,
          6243249.95,
          7349842.379999999,
          5667405.46,
          4663479.41,
          5172616.16,
          5033844.54,
          3920250.3000000003,
          4154365.58,
          3541917.4300000006,
          2878010.3400000003,
          4866214.61,
          4154421.6700000004,
          4696057,
          6332781.76,
          5259724.5,
          4696967.920000001,
          5031632.43,
          4808939.42,
          5002270.4799999995,
          4596602.11,
          4096456.73,
          3778045.77,
          4825513.53,
          3725242.98,
          3172627.9800000004,
          2332522.07,
          2103817.6399999997,
          3685804.6899999995,
          4848840.53,
          4030097.6600000006,
          3550238.5599999996,
          3800950.0700000003,
          4288054.02,
          3659786.3899999997,
          3407367.35,
          4137645.8499999996,
          5677764.13,
          6590332.27,
          5873667.24,
          5955513.41,
          6427354.340000002,
          6287198.050000001,
          5270732.22,
          6582708.09,
          4354804.72,
          5517683.34,
          5012922.13,
          5226840.8900000015,
          6394999.149999998,
          6291843.85,
          6525597.1899999995,
          7404317.760000001,
          5090400.670000001,
          5740884.21,
          4538964.37,
          3784391.0200000005,
          3514097.37,
          3457463.48
         ],
         "yaxis": "y"
        },
        {
         "line": {
          "color": "rgb(255, 127, 14)",
          "width": 2
         },
         "marker": {
          "color": "rgb(255, 127, 14)",
          "size": 5
         },
         "mode": "lines+markers",
         "name": "AdaBoostRegressor",
         "type": "scattergl",
         "x": [
          "2016-01-01T00:00:00",
          "2016-02-01T00:00:00",
          "2016-03-01T00:00:00",
          "2016-04-01T00:00:00",
          "2016-05-01T00:00:00",
          "2016-06-01T00:00:00",
          "2016-07-01T00:00:00",
          "2016-08-01T00:00:00",
          "2016-09-01T00:00:00",
          "2016-10-01T00:00:00",
          "2016-11-01T00:00:00",
          "2016-12-01T00:00:00",
          "2017-01-01T00:00:00",
          "2017-02-01T00:00:00",
          "2017-03-01T00:00:00",
          "2017-04-01T00:00:00",
          "2017-05-01T00:00:00",
          "2017-06-01T00:00:00",
          "2017-07-01T00:00:00",
          "2017-08-01T00:00:00",
          "2017-09-01T00:00:00",
          "2017-10-01T00:00:00",
          "2017-11-01T00:00:00",
          "2017-12-01T00:00:00",
          "2018-01-01T00:00:00",
          "2018-02-01T00:00:00",
          "2018-03-01T00:00:00",
          "2018-04-01T00:00:00",
          "2018-05-01T00:00:00",
          "2018-06-01T00:00:00",
          "2018-07-01T00:00:00",
          "2018-08-01T00:00:00",
          "2018-09-01T00:00:00",
          "2018-10-01T00:00:00",
          "2018-11-01T00:00:00",
          "2018-12-01T00:00:00",
          "2019-01-01T00:00:00",
          "2019-02-01T00:00:00",
          "2019-03-01T00:00:00",
          "2019-04-01T00:00:00",
          "2019-05-01T00:00:00",
          "2019-06-01T00:00:00",
          "2019-07-01T00:00:00",
          "2019-08-01T00:00:00",
          "2019-09-01T00:00:00",
          "2019-10-01T00:00:00",
          "2019-11-01T00:00:00",
          "2019-12-01T00:00:00",
          "2020-01-01T00:00:00",
          "2020-02-01T00:00:00",
          "2020-03-01T00:00:00",
          "2020-04-01T00:00:00",
          "2020-05-01T00:00:00",
          "2020-06-01T00:00:00",
          "2020-07-01T00:00:00",
          "2020-08-01T00:00:00",
          "2020-09-01T00:00:00",
          "2020-10-01T00:00:00",
          "2020-11-01T00:00:00",
          "2020-12-01T00:00:00",
          "2021-01-01T00:00:00",
          "2021-02-01T00:00:00",
          "2021-03-01T00:00:00",
          "2021-04-01T00:00:00",
          "2021-05-01T00:00:00",
          "2021-06-01T00:00:00",
          "2021-07-01T00:00:00",
          "2021-08-01T00:00:00",
          "2021-09-01T00:00:00",
          "2021-10-01T00:00:00",
          "2021-11-01T00:00:00",
          "2021-12-01T00:00:00",
          "2022-01-01T00:00:00",
          "2022-02-01T00:00:00",
          "2022-03-01T00:00:00",
          "2022-04-01T00:00:00",
          "2022-05-01T00:00:00",
          "2022-06-01T00:00:00",
          "2022-07-01T00:00:00",
          "2022-08-01T00:00:00",
          "2022-09-01T00:00:00",
          "2022-10-01T00:00:00",
          "2022-11-01T00:00:00",
          "2022-12-01T00:00:00"
         ],
         "xaxis": "x",
         "y": [
          null,
          null,
          null,
          null,
          null,
          null,
          null,
          null,
          null,
          null,
          null,
          null,
          null,
          null,
          null,
          null,
          null,
          null,
          null,
          null,
          null,
          null,
          null,
          null,
          null,
          null,
          null,
          null,
          null,
          null,
          null,
          null,
          null,
          null,
          null,
          null,
          null,
          null,
          null,
          null,
          null,
          null,
          null,
          null,
          null,
          null,
          null,
          null,
          null,
          null,
          null,
          null,
          null,
          null,
          null,
          null,
          null,
          null,
          null,
          null,
          null,
          null,
          null,
          null,
          null,
          null,
          null,
          null,
          null,
          null,
          null,
          null,
          5671693.6509,
          5548235.5243,
          5509901.8356,
          5552685.5311,
          5514351.8425,
          5557135.538,
          5518801.8494,
          5561585.5449,
          5523251.8562,
          5566035.5517,
          5527701.8631,
          5570485.5586
         ],
         "yaxis": "y"
        }
       ],
       "layout": {
        "showlegend": true,
        "template": {
         "data": {
          "bar": [
           {
            "error_x": {
             "color": "rgb(51,51,51)"
            },
            "error_y": {
             "color": "rgb(51,51,51)"
            },
            "marker": {
             "line": {
              "color": "rgb(237,237,237)",
              "width": 0.5
             },
             "pattern": {
              "fillmode": "overlay",
              "size": 10,
              "solidity": 0.2
             }
            },
            "type": "bar"
           }
          ],
          "barpolar": [
           {
            "marker": {
             "line": {
              "color": "rgb(237,237,237)",
              "width": 0.5
             },
             "pattern": {
              "fillmode": "overlay",
              "size": 10,
              "solidity": 0.2
             }
            },
            "type": "barpolar"
           }
          ],
          "carpet": [
           {
            "aaxis": {
             "endlinecolor": "rgb(51,51,51)",
             "gridcolor": "white",
             "linecolor": "white",
             "minorgridcolor": "white",
             "startlinecolor": "rgb(51,51,51)"
            },
            "baxis": {
             "endlinecolor": "rgb(51,51,51)",
             "gridcolor": "white",
             "linecolor": "white",
             "minorgridcolor": "white",
             "startlinecolor": "rgb(51,51,51)"
            },
            "type": "carpet"
           }
          ],
          "choropleth": [
           {
            "colorbar": {
             "outlinewidth": 0,
             "tickcolor": "rgb(237,237,237)",
             "ticklen": 6,
             "ticks": "inside"
            },
            "type": "choropleth"
           }
          ],
          "contour": [
           {
            "colorbar": {
             "outlinewidth": 0,
             "tickcolor": "rgb(237,237,237)",
             "ticklen": 6,
             "ticks": "inside"
            },
            "colorscale": [
             [
              0,
              "rgb(20,44,66)"
             ],
             [
              1,
              "rgb(90,179,244)"
             ]
            ],
            "type": "contour"
           }
          ],
          "contourcarpet": [
           {
            "colorbar": {
             "outlinewidth": 0,
             "tickcolor": "rgb(237,237,237)",
             "ticklen": 6,
             "ticks": "inside"
            },
            "type": "contourcarpet"
           }
          ],
          "heatmap": [
           {
            "colorbar": {
             "outlinewidth": 0,
             "tickcolor": "rgb(237,237,237)",
             "ticklen": 6,
             "ticks": "inside"
            },
            "colorscale": [
             [
              0,
              "rgb(20,44,66)"
             ],
             [
              1,
              "rgb(90,179,244)"
             ]
            ],
            "type": "heatmap"
           }
          ],
          "heatmapgl": [
           {
            "colorbar": {
             "outlinewidth": 0,
             "tickcolor": "rgb(237,237,237)",
             "ticklen": 6,
             "ticks": "inside"
            },
            "colorscale": [
             [
              0,
              "rgb(20,44,66)"
             ],
             [
              1,
              "rgb(90,179,244)"
             ]
            ],
            "type": "heatmapgl"
           }
          ],
          "histogram": [
           {
            "marker": {
             "pattern": {
              "fillmode": "overlay",
              "size": 10,
              "solidity": 0.2
             }
            },
            "type": "histogram"
           }
          ],
          "histogram2d": [
           {
            "colorbar": {
             "outlinewidth": 0,
             "tickcolor": "rgb(237,237,237)",
             "ticklen": 6,
             "ticks": "inside"
            },
            "colorscale": [
             [
              0,
              "rgb(20,44,66)"
             ],
             [
              1,
              "rgb(90,179,244)"
             ]
            ],
            "type": "histogram2d"
           }
          ],
          "histogram2dcontour": [
           {
            "colorbar": {
             "outlinewidth": 0,
             "tickcolor": "rgb(237,237,237)",
             "ticklen": 6,
             "ticks": "inside"
            },
            "colorscale": [
             [
              0,
              "rgb(20,44,66)"
             ],
             [
              1,
              "rgb(90,179,244)"
             ]
            ],
            "type": "histogram2dcontour"
           }
          ],
          "mesh3d": [
           {
            "colorbar": {
             "outlinewidth": 0,
             "tickcolor": "rgb(237,237,237)",
             "ticklen": 6,
             "ticks": "inside"
            },
            "type": "mesh3d"
           }
          ],
          "parcoords": [
           {
            "line": {
             "colorbar": {
              "outlinewidth": 0,
              "tickcolor": "rgb(237,237,237)",
              "ticklen": 6,
              "ticks": "inside"
             }
            },
            "type": "parcoords"
           }
          ],
          "pie": [
           {
            "automargin": true,
            "type": "pie"
           }
          ],
          "scatter": [
           {
            "fillpattern": {
             "fillmode": "overlay",
             "size": 10,
             "solidity": 0.2
            },
            "type": "scatter"
           }
          ],
          "scatter3d": [
           {
            "line": {
             "colorbar": {
              "outlinewidth": 0,
              "tickcolor": "rgb(237,237,237)",
              "ticklen": 6,
              "ticks": "inside"
             }
            },
            "marker": {
             "colorbar": {
              "outlinewidth": 0,
              "tickcolor": "rgb(237,237,237)",
              "ticklen": 6,
              "ticks": "inside"
             }
            },
            "type": "scatter3d"
           }
          ],
          "scattercarpet": [
           {
            "marker": {
             "colorbar": {
              "outlinewidth": 0,
              "tickcolor": "rgb(237,237,237)",
              "ticklen": 6,
              "ticks": "inside"
             }
            },
            "type": "scattercarpet"
           }
          ],
          "scattergeo": [
           {
            "marker": {
             "colorbar": {
              "outlinewidth": 0,
              "tickcolor": "rgb(237,237,237)",
              "ticklen": 6,
              "ticks": "inside"
             }
            },
            "type": "scattergeo"
           }
          ],
          "scattergl": [
           {
            "marker": {
             "colorbar": {
              "outlinewidth": 0,
              "tickcolor": "rgb(237,237,237)",
              "ticklen": 6,
              "ticks": "inside"
             }
            },
            "type": "scattergl"
           }
          ],
          "scattermapbox": [
           {
            "marker": {
             "colorbar": {
              "outlinewidth": 0,
              "tickcolor": "rgb(237,237,237)",
              "ticklen": 6,
              "ticks": "inside"
             }
            },
            "type": "scattermapbox"
           }
          ],
          "scatterpolar": [
           {
            "marker": {
             "colorbar": {
              "outlinewidth": 0,
              "tickcolor": "rgb(237,237,237)",
              "ticklen": 6,
              "ticks": "inside"
             }
            },
            "type": "scatterpolar"
           }
          ],
          "scatterpolargl": [
           {
            "marker": {
             "colorbar": {
              "outlinewidth": 0,
              "tickcolor": "rgb(237,237,237)",
              "ticklen": 6,
              "ticks": "inside"
             }
            },
            "type": "scatterpolargl"
           }
          ],
          "scatterternary": [
           {
            "marker": {
             "colorbar": {
              "outlinewidth": 0,
              "tickcolor": "rgb(237,237,237)",
              "ticklen": 6,
              "ticks": "inside"
             }
            },
            "type": "scatterternary"
           }
          ],
          "surface": [
           {
            "colorbar": {
             "outlinewidth": 0,
             "tickcolor": "rgb(237,237,237)",
             "ticklen": 6,
             "ticks": "inside"
            },
            "colorscale": [
             [
              0,
              "rgb(20,44,66)"
             ],
             [
              1,
              "rgb(90,179,244)"
             ]
            ],
            "type": "surface"
           }
          ],
          "table": [
           {
            "cells": {
             "fill": {
              "color": "rgb(237,237,237)"
             },
             "line": {
              "color": "white"
             }
            },
            "header": {
             "fill": {
              "color": "rgb(217,217,217)"
             },
             "line": {
              "color": "white"
             }
            },
            "type": "table"
           }
          ]
         },
         "layout": {
          "annotationdefaults": {
           "arrowhead": 0,
           "arrowwidth": 1
          },
          "autotypenumbers": "strict",
          "coloraxis": {
           "colorbar": {
            "outlinewidth": 0,
            "tickcolor": "rgb(237,237,237)",
            "ticklen": 6,
            "ticks": "inside"
           }
          },
          "colorscale": {
           "sequential": [
            [
             0,
             "rgb(20,44,66)"
            ],
            [
             1,
             "rgb(90,179,244)"
            ]
           ],
           "sequentialminus": [
            [
             0,
             "rgb(20,44,66)"
            ],
            [
             1,
             "rgb(90,179,244)"
            ]
           ]
          },
          "colorway": [
           "#F8766D",
           "#A3A500",
           "#00BF7D",
           "#00B0F6",
           "#E76BF3"
          ],
          "font": {
           "color": "rgb(51,51,51)"
          },
          "geo": {
           "bgcolor": "white",
           "lakecolor": "white",
           "landcolor": "rgb(237,237,237)",
           "showlakes": true,
           "showland": true,
           "subunitcolor": "white"
          },
          "hoverlabel": {
           "align": "left"
          },
          "hovermode": "closest",
          "paper_bgcolor": "white",
          "plot_bgcolor": "rgb(237,237,237)",
          "polar": {
           "angularaxis": {
            "gridcolor": "white",
            "linecolor": "white",
            "showgrid": true,
            "tickcolor": "rgb(51,51,51)",
            "ticks": "outside"
           },
           "bgcolor": "rgb(237,237,237)",
           "radialaxis": {
            "gridcolor": "white",
            "linecolor": "white",
            "showgrid": true,
            "tickcolor": "rgb(51,51,51)",
            "ticks": "outside"
           }
          },
          "scene": {
           "xaxis": {
            "backgroundcolor": "rgb(237,237,237)",
            "gridcolor": "white",
            "gridwidth": 2,
            "linecolor": "white",
            "showbackground": true,
            "showgrid": true,
            "tickcolor": "rgb(51,51,51)",
            "ticks": "outside",
            "zerolinecolor": "white"
           },
           "yaxis": {
            "backgroundcolor": "rgb(237,237,237)",
            "gridcolor": "white",
            "gridwidth": 2,
            "linecolor": "white",
            "showbackground": true,
            "showgrid": true,
            "tickcolor": "rgb(51,51,51)",
            "ticks": "outside",
            "zerolinecolor": "white"
           },
           "zaxis": {
            "backgroundcolor": "rgb(237,237,237)",
            "gridcolor": "white",
            "gridwidth": 2,
            "linecolor": "white",
            "showbackground": true,
            "showgrid": true,
            "tickcolor": "rgb(51,51,51)",
            "ticks": "outside",
            "zerolinecolor": "white"
           }
          },
          "shapedefaults": {
           "fillcolor": "black",
           "line": {
            "width": 0
           },
           "opacity": 0.3
          },
          "ternary": {
           "aaxis": {
            "gridcolor": "white",
            "linecolor": "white",
            "showgrid": true,
            "tickcolor": "rgb(51,51,51)",
            "ticks": "outside"
           },
           "baxis": {
            "gridcolor": "white",
            "linecolor": "white",
            "showgrid": true,
            "tickcolor": "rgb(51,51,51)",
            "ticks": "outside"
           },
           "bgcolor": "rgb(237,237,237)",
           "caxis": {
            "gridcolor": "white",
            "linecolor": "white",
            "showgrid": true,
            "tickcolor": "rgb(51,51,51)",
            "ticks": "outside"
           }
          },
          "xaxis": {
           "automargin": true,
           "gridcolor": "white",
           "linecolor": "white",
           "showgrid": true,
           "tickcolor": "rgb(51,51,51)",
           "ticks": "outside",
           "title": {
            "standoff": 15
           },
           "zerolinecolor": "white"
          },
          "yaxis": {
           "automargin": true,
           "gridcolor": "white",
           "linecolor": "white",
           "showgrid": true,
           "tickcolor": "rgb(51,51,51)",
           "ticks": "outside",
           "title": {
            "standoff": 15
           },
           "zerolinecolor": "white"
          }
         }
        },
        "title": {
         "text": "Actual vs. Forecast (Out-of-Sample)"
        },
        "xaxis": {
         "anchor": "y",
         "domain": [
          0,
          1
         ]
        },
        "yaxis": {
         "anchor": "x",
         "domain": [
          0,
          1
         ]
        }
       }
      }
     },
     "metadata": {},
     "output_type": "display_data"
    },
    {
     "data": {
      "text/html": [
       "<style type=\"text/css\">\n",
       "</style>\n",
       "<table id=\"T_e4fbc\">\n",
       "  <thead>\n",
       "    <tr>\n",
       "      <th class=\"blank level0\" >&nbsp;</th>\n",
       "      <th id=\"T_e4fbc_level0_col0\" class=\"col_heading level0 col0\" >Model</th>\n",
       "      <th id=\"T_e4fbc_level0_col1\" class=\"col_heading level0 col1\" >MASE</th>\n",
       "      <th id=\"T_e4fbc_level0_col2\" class=\"col_heading level0 col2\" >RMSSE</th>\n",
       "      <th id=\"T_e4fbc_level0_col3\" class=\"col_heading level0 col3\" >MAE</th>\n",
       "      <th id=\"T_e4fbc_level0_col4\" class=\"col_heading level0 col4\" >RMSE</th>\n",
       "      <th id=\"T_e4fbc_level0_col5\" class=\"col_heading level0 col5\" >MAPE</th>\n",
       "      <th id=\"T_e4fbc_level0_col6\" class=\"col_heading level0 col6\" >SMAPE</th>\n",
       "      <th id=\"T_e4fbc_level0_col7\" class=\"col_heading level0 col7\" >R2</th>\n",
       "    </tr>\n",
       "  </thead>\n",
       "  <tbody>\n",
       "    <tr>\n",
       "      <th id=\"T_e4fbc_level0_row0\" class=\"row_heading level0 row0\" >0</th>\n",
       "      <td id=\"T_e4fbc_row0_col0\" class=\"data row0 col0\" >AdaBoostRegressor</td>\n",
       "      <td id=\"T_e4fbc_row0_col1\" class=\"data row0 col1\" >1.1999</td>\n",
       "      <td id=\"T_e4fbc_row0_col2\" class=\"data row0 col2\" >1.1204</td>\n",
       "      <td id=\"T_e4fbc_row0_col3\" class=\"data row0 col3\" >1080258.9827</td>\n",
       "      <td id=\"T_e4fbc_row0_col4\" class=\"data row0 col4\" >1264250.3066</td>\n",
       "      <td id=\"T_e4fbc_row0_col5\" class=\"data row0 col5\" >0.2367</td>\n",
       "      <td id=\"T_e4fbc_row0_col6\" class=\"data row0 col6\" >0.2093</td>\n",
       "      <td id=\"T_e4fbc_row0_col7\" class=\"data row0 col7\" >-0.0734</td>\n",
       "    </tr>\n",
       "  </tbody>\n",
       "</table>\n"
      ],
      "text/plain": [
       "<pandas.io.formats.style.Styler at 0x1a6c02217c0>"
      ]
     },
     "metadata": {},
     "output_type": "display_data"
    },
    {
     "name": "stderr",
     "output_type": "stream",
     "text": [
      " 71%|███████▏  | 10/14 [02:54<01:02, 15.59s/it]"
     ]
    },
    {
     "data": {
      "text/html": [
       "<style type=\"text/css\">\n",
       "#T_2aada_row25_col1, #T_2aada_row31_col1 {\n",
       "  background-color: lightgreen;\n",
       "}\n",
       "</style>\n",
       "<table id=\"T_2aada\">\n",
       "  <thead>\n",
       "    <tr>\n",
       "      <th class=\"blank level0\" >&nbsp;</th>\n",
       "      <th id=\"T_2aada_level0_col0\" class=\"col_heading level0 col0\" >Description</th>\n",
       "      <th id=\"T_2aada_level0_col1\" class=\"col_heading level0 col1\" >Value</th>\n",
       "    </tr>\n",
       "  </thead>\n",
       "  <tbody>\n",
       "    <tr>\n",
       "      <th id=\"T_2aada_level0_row0\" class=\"row_heading level0 row0\" >0</th>\n",
       "      <td id=\"T_2aada_row0_col0\" class=\"data row0 col0\" >session_id</td>\n",
       "      <td id=\"T_2aada_row0_col1\" class=\"data row0 col1\" >123</td>\n",
       "    </tr>\n",
       "    <tr>\n",
       "      <th id=\"T_2aada_level0_row1\" class=\"row_heading level0 row1\" >1</th>\n",
       "      <td id=\"T_2aada_row1_col0\" class=\"data row1 col0\" >Target</td>\n",
       "      <td id=\"T_2aada_row1_col1\" class=\"data row1 col1\" >NET_SALES</td>\n",
       "    </tr>\n",
       "    <tr>\n",
       "      <th id=\"T_2aada_level0_row2\" class=\"row_heading level0 row2\" >2</th>\n",
       "      <td id=\"T_2aada_row2_col0\" class=\"data row2 col0\" >Approach</td>\n",
       "      <td id=\"T_2aada_row2_col1\" class=\"data row2 col1\" >Univariate</td>\n",
       "    </tr>\n",
       "    <tr>\n",
       "      <th id=\"T_2aada_level0_row3\" class=\"row_heading level0 row3\" >3</th>\n",
       "      <td id=\"T_2aada_row3_col0\" class=\"data row3 col0\" >Exogenous Variables</td>\n",
       "      <td id=\"T_2aada_row3_col1\" class=\"data row3 col1\" >Not Present</td>\n",
       "    </tr>\n",
       "    <tr>\n",
       "      <th id=\"T_2aada_level0_row4\" class=\"row_heading level0 row4\" >4</th>\n",
       "      <td id=\"T_2aada_row4_col0\" class=\"data row4 col0\" >Original data shape</td>\n",
       "      <td id=\"T_2aada_row4_col1\" class=\"data row4 col1\" >(84, 1)</td>\n",
       "    </tr>\n",
       "    <tr>\n",
       "      <th id=\"T_2aada_level0_row5\" class=\"row_heading level0 row5\" >5</th>\n",
       "      <td id=\"T_2aada_row5_col0\" class=\"data row5 col0\" >Transformed data shape</td>\n",
       "      <td id=\"T_2aada_row5_col1\" class=\"data row5 col1\" >(84, 1)</td>\n",
       "    </tr>\n",
       "    <tr>\n",
       "      <th id=\"T_2aada_level0_row6\" class=\"row_heading level0 row6\" >6</th>\n",
       "      <td id=\"T_2aada_row6_col0\" class=\"data row6 col0\" >Transformed train set shape</td>\n",
       "      <td id=\"T_2aada_row6_col1\" class=\"data row6 col1\" >(72, 1)</td>\n",
       "    </tr>\n",
       "    <tr>\n",
       "      <th id=\"T_2aada_level0_row7\" class=\"row_heading level0 row7\" >7</th>\n",
       "      <td id=\"T_2aada_row7_col0\" class=\"data row7 col0\" >Transformed test set shape</td>\n",
       "      <td id=\"T_2aada_row7_col1\" class=\"data row7 col1\" >(12, 1)</td>\n",
       "    </tr>\n",
       "    <tr>\n",
       "      <th id=\"T_2aada_level0_row8\" class=\"row_heading level0 row8\" >8</th>\n",
       "      <td id=\"T_2aada_row8_col0\" class=\"data row8 col0\" >Rows with missing values</td>\n",
       "      <td id=\"T_2aada_row8_col1\" class=\"data row8 col1\" >0.0%</td>\n",
       "    </tr>\n",
       "    <tr>\n",
       "      <th id=\"T_2aada_level0_row9\" class=\"row_heading level0 row9\" >9</th>\n",
       "      <td id=\"T_2aada_row9_col0\" class=\"data row9 col0\" >Fold Generator</td>\n",
       "      <td id=\"T_2aada_row9_col1\" class=\"data row9 col1\" >ExpandingWindowSplitter</td>\n",
       "    </tr>\n",
       "    <tr>\n",
       "      <th id=\"T_2aada_level0_row10\" class=\"row_heading level0 row10\" >10</th>\n",
       "      <td id=\"T_2aada_row10_col0\" class=\"data row10 col0\" >Fold Number</td>\n",
       "      <td id=\"T_2aada_row10_col1\" class=\"data row10 col1\" >3</td>\n",
       "    </tr>\n",
       "    <tr>\n",
       "      <th id=\"T_2aada_level0_row11\" class=\"row_heading level0 row11\" >11</th>\n",
       "      <td id=\"T_2aada_row11_col0\" class=\"data row11 col0\" >Enforce Prediction Interval</td>\n",
       "      <td id=\"T_2aada_row11_col1\" class=\"data row11 col1\" >False</td>\n",
       "    </tr>\n",
       "    <tr>\n",
       "      <th id=\"T_2aada_level0_row12\" class=\"row_heading level0 row12\" >12</th>\n",
       "      <td id=\"T_2aada_row12_col0\" class=\"data row12 col0\" >Splits used for hyperparameters</td>\n",
       "      <td id=\"T_2aada_row12_col1\" class=\"data row12 col1\" >all</td>\n",
       "    </tr>\n",
       "    <tr>\n",
       "      <th id=\"T_2aada_level0_row13\" class=\"row_heading level0 row13\" >13</th>\n",
       "      <td id=\"T_2aada_row13_col0\" class=\"data row13 col0\" >User Defined Seasonal Period(s)</td>\n",
       "      <td id=\"T_2aada_row13_col1\" class=\"data row13 col1\" >None</td>\n",
       "    </tr>\n",
       "    <tr>\n",
       "      <th id=\"T_2aada_level0_row14\" class=\"row_heading level0 row14\" >14</th>\n",
       "      <td id=\"T_2aada_row14_col0\" class=\"data row14 col0\" >Ignore Seasonality Test</td>\n",
       "      <td id=\"T_2aada_row14_col1\" class=\"data row14 col1\" >False</td>\n",
       "    </tr>\n",
       "    <tr>\n",
       "      <th id=\"T_2aada_level0_row15\" class=\"row_heading level0 row15\" >15</th>\n",
       "      <td id=\"T_2aada_row15_col0\" class=\"data row15 col0\" >Seasonality Detection Algo</td>\n",
       "      <td id=\"T_2aada_row15_col1\" class=\"data row15 col1\" >auto</td>\n",
       "    </tr>\n",
       "    <tr>\n",
       "      <th id=\"T_2aada_level0_row16\" class=\"row_heading level0 row16\" >16</th>\n",
       "      <td id=\"T_2aada_row16_col0\" class=\"data row16 col0\" >Max Period to Consider</td>\n",
       "      <td id=\"T_2aada_row16_col1\" class=\"data row16 col1\" >60</td>\n",
       "    </tr>\n",
       "    <tr>\n",
       "      <th id=\"T_2aada_level0_row17\" class=\"row_heading level0 row17\" >17</th>\n",
       "      <td id=\"T_2aada_row17_col0\" class=\"data row17 col0\" >Seasonal Period(s) Tested</td>\n",
       "      <td id=\"T_2aada_row17_col1\" class=\"data row17 col1\" >[12, 24]</td>\n",
       "    </tr>\n",
       "    <tr>\n",
       "      <th id=\"T_2aada_level0_row18\" class=\"row_heading level0 row18\" >18</th>\n",
       "      <td id=\"T_2aada_row18_col0\" class=\"data row18 col0\" >Significant Seasonal Period(s)</td>\n",
       "      <td id=\"T_2aada_row18_col1\" class=\"data row18 col1\" >[12, 24]</td>\n",
       "    </tr>\n",
       "    <tr>\n",
       "      <th id=\"T_2aada_level0_row19\" class=\"row_heading level0 row19\" >19</th>\n",
       "      <td id=\"T_2aada_row19_col0\" class=\"data row19 col0\" >Significant Seasonal Period(s) without Harmonics</td>\n",
       "      <td id=\"T_2aada_row19_col1\" class=\"data row19 col1\" >[24]</td>\n",
       "    </tr>\n",
       "    <tr>\n",
       "      <th id=\"T_2aada_level0_row20\" class=\"row_heading level0 row20\" >20</th>\n",
       "      <td id=\"T_2aada_row20_col0\" class=\"data row20 col0\" >Remove Harmonics</td>\n",
       "      <td id=\"T_2aada_row20_col1\" class=\"data row20 col1\" >False</td>\n",
       "    </tr>\n",
       "    <tr>\n",
       "      <th id=\"T_2aada_level0_row21\" class=\"row_heading level0 row21\" >21</th>\n",
       "      <td id=\"T_2aada_row21_col0\" class=\"data row21 col0\" >Harmonics Order Method</td>\n",
       "      <td id=\"T_2aada_row21_col1\" class=\"data row21 col1\" >harmonic_max</td>\n",
       "    </tr>\n",
       "    <tr>\n",
       "      <th id=\"T_2aada_level0_row22\" class=\"row_heading level0 row22\" >22</th>\n",
       "      <td id=\"T_2aada_row22_col0\" class=\"data row22 col0\" >Num Seasonalities to Use</td>\n",
       "      <td id=\"T_2aada_row22_col1\" class=\"data row22 col1\" >1</td>\n",
       "    </tr>\n",
       "    <tr>\n",
       "      <th id=\"T_2aada_level0_row23\" class=\"row_heading level0 row23\" >23</th>\n",
       "      <td id=\"T_2aada_row23_col0\" class=\"data row23 col0\" >All Seasonalities to Use</td>\n",
       "      <td id=\"T_2aada_row23_col1\" class=\"data row23 col1\" >[12]</td>\n",
       "    </tr>\n",
       "    <tr>\n",
       "      <th id=\"T_2aada_level0_row24\" class=\"row_heading level0 row24\" >24</th>\n",
       "      <td id=\"T_2aada_row24_col0\" class=\"data row24 col0\" >Primary Seasonality</td>\n",
       "      <td id=\"T_2aada_row24_col1\" class=\"data row24 col1\" >12</td>\n",
       "    </tr>\n",
       "    <tr>\n",
       "      <th id=\"T_2aada_level0_row25\" class=\"row_heading level0 row25\" >25</th>\n",
       "      <td id=\"T_2aada_row25_col0\" class=\"data row25 col0\" >Seasonality Present</td>\n",
       "      <td id=\"T_2aada_row25_col1\" class=\"data row25 col1\" >True</td>\n",
       "    </tr>\n",
       "    <tr>\n",
       "      <th id=\"T_2aada_level0_row26\" class=\"row_heading level0 row26\" >26</th>\n",
       "      <td id=\"T_2aada_row26_col0\" class=\"data row26 col0\" >Seasonality Type</td>\n",
       "      <td id=\"T_2aada_row26_col1\" class=\"data row26 col1\" >mul</td>\n",
       "    </tr>\n",
       "    <tr>\n",
       "      <th id=\"T_2aada_level0_row27\" class=\"row_heading level0 row27\" >27</th>\n",
       "      <td id=\"T_2aada_row27_col0\" class=\"data row27 col0\" >Target Strictly Positive</td>\n",
       "      <td id=\"T_2aada_row27_col1\" class=\"data row27 col1\" >True</td>\n",
       "    </tr>\n",
       "    <tr>\n",
       "      <th id=\"T_2aada_level0_row28\" class=\"row_heading level0 row28\" >28</th>\n",
       "      <td id=\"T_2aada_row28_col0\" class=\"data row28 col0\" >Target White Noise</td>\n",
       "      <td id=\"T_2aada_row28_col1\" class=\"data row28 col1\" >No</td>\n",
       "    </tr>\n",
       "    <tr>\n",
       "      <th id=\"T_2aada_level0_row29\" class=\"row_heading level0 row29\" >29</th>\n",
       "      <td id=\"T_2aada_row29_col0\" class=\"data row29 col0\" >Recommended d</td>\n",
       "      <td id=\"T_2aada_row29_col1\" class=\"data row29 col1\" >1</td>\n",
       "    </tr>\n",
       "    <tr>\n",
       "      <th id=\"T_2aada_level0_row30\" class=\"row_heading level0 row30\" >30</th>\n",
       "      <td id=\"T_2aada_row30_col0\" class=\"data row30 col0\" >Recommended Seasonal D</td>\n",
       "      <td id=\"T_2aada_row30_col1\" class=\"data row30 col1\" >0</td>\n",
       "    </tr>\n",
       "    <tr>\n",
       "      <th id=\"T_2aada_level0_row31\" class=\"row_heading level0 row31\" >31</th>\n",
       "      <td id=\"T_2aada_row31_col0\" class=\"data row31 col0\" >Preprocess</td>\n",
       "      <td id=\"T_2aada_row31_col1\" class=\"data row31 col1\" >True</td>\n",
       "    </tr>\n",
       "    <tr>\n",
       "      <th id=\"T_2aada_level0_row32\" class=\"row_heading level0 row32\" >32</th>\n",
       "      <td id=\"T_2aada_row32_col0\" class=\"data row32 col0\" >Numerical Imputation (Target)</td>\n",
       "      <td id=\"T_2aada_row32_col1\" class=\"data row32 col1\" >mean</td>\n",
       "    </tr>\n",
       "    <tr>\n",
       "      <th id=\"T_2aada_level0_row33\" class=\"row_heading level0 row33\" >33</th>\n",
       "      <td id=\"T_2aada_row33_col0\" class=\"data row33 col0\" >Transformation (Target)</td>\n",
       "      <td id=\"T_2aada_row33_col1\" class=\"data row33 col1\" >None</td>\n",
       "    </tr>\n",
       "    <tr>\n",
       "      <th id=\"T_2aada_level0_row34\" class=\"row_heading level0 row34\" >34</th>\n",
       "      <td id=\"T_2aada_row34_col0\" class=\"data row34 col0\" >Scaling (Target)</td>\n",
       "      <td id=\"T_2aada_row34_col1\" class=\"data row34 col1\" >None</td>\n",
       "    </tr>\n",
       "    <tr>\n",
       "      <th id=\"T_2aada_level0_row35\" class=\"row_heading level0 row35\" >35</th>\n",
       "      <td id=\"T_2aada_row35_col0\" class=\"data row35 col0\" >Feature Engineering (Target) - Reduced Regression</td>\n",
       "      <td id=\"T_2aada_row35_col1\" class=\"data row35 col1\" >False</td>\n",
       "    </tr>\n",
       "    <tr>\n",
       "      <th id=\"T_2aada_level0_row36\" class=\"row_heading level0 row36\" >36</th>\n",
       "      <td id=\"T_2aada_row36_col0\" class=\"data row36 col0\" >CPU Jobs</td>\n",
       "      <td id=\"T_2aada_row36_col1\" class=\"data row36 col1\" >-1</td>\n",
       "    </tr>\n",
       "    <tr>\n",
       "      <th id=\"T_2aada_level0_row37\" class=\"row_heading level0 row37\" >37</th>\n",
       "      <td id=\"T_2aada_row37_col0\" class=\"data row37 col0\" >Use GPU</td>\n",
       "      <td id=\"T_2aada_row37_col1\" class=\"data row37 col1\" >False</td>\n",
       "    </tr>\n",
       "    <tr>\n",
       "      <th id=\"T_2aada_level0_row38\" class=\"row_heading level0 row38\" >38</th>\n",
       "      <td id=\"T_2aada_row38_col0\" class=\"data row38 col0\" >Log Experiment</td>\n",
       "      <td id=\"T_2aada_row38_col1\" class=\"data row38 col1\" >False</td>\n",
       "    </tr>\n",
       "    <tr>\n",
       "      <th id=\"T_2aada_level0_row39\" class=\"row_heading level0 row39\" >39</th>\n",
       "      <td id=\"T_2aada_row39_col0\" class=\"data row39 col0\" >Experiment Name</td>\n",
       "      <td id=\"T_2aada_row39_col1\" class=\"data row39 col1\" >ts-default-name</td>\n",
       "    </tr>\n",
       "    <tr>\n",
       "      <th id=\"T_2aada_level0_row40\" class=\"row_heading level0 row40\" >40</th>\n",
       "      <td id=\"T_2aada_row40_col0\" class=\"data row40 col0\" >USI</td>\n",
       "      <td id=\"T_2aada_row40_col1\" class=\"data row40 col1\" >93fa</td>\n",
       "    </tr>\n",
       "  </tbody>\n",
       "</table>\n"
      ],
      "text/plain": [
       "<pandas.io.formats.style.Styler at 0x1a6c22da9d0>"
      ]
     },
     "metadata": {},
     "output_type": "display_data"
    },
    {
     "data": {
      "text/html": [],
      "text/plain": [
       "<IPython.core.display.HTML object>"
      ]
     },
     "metadata": {},
     "output_type": "display_data"
    },
    {
     "data": {
      "text/html": [
       "<style type=\"text/css\">\n",
       "#T_9a121 th {\n",
       "  text-align: left;\n",
       "}\n",
       "#T_9a121_row0_col0, #T_9a121_row0_col6, #T_9a121_row1_col0, #T_9a121_row1_col1, #T_9a121_row1_col2, #T_9a121_row1_col3, #T_9a121_row1_col4, #T_9a121_row1_col5, #T_9a121_row1_col6, #T_9a121_row1_col7, #T_9a121_row2_col0, #T_9a121_row2_col1, #T_9a121_row2_col2, #T_9a121_row2_col3, #T_9a121_row2_col4, #T_9a121_row2_col5, #T_9a121_row2_col7, #T_9a121_row3_col0, #T_9a121_row3_col1, #T_9a121_row3_col2, #T_9a121_row3_col3, #T_9a121_row3_col4, #T_9a121_row3_col5, #T_9a121_row3_col6, #T_9a121_row3_col7, #T_9a121_row4_col0, #T_9a121_row4_col1, #T_9a121_row4_col2, #T_9a121_row4_col3, #T_9a121_row4_col4, #T_9a121_row4_col5, #T_9a121_row4_col6, #T_9a121_row4_col7, #T_9a121_row5_col0, #T_9a121_row5_col1, #T_9a121_row5_col2, #T_9a121_row5_col3, #T_9a121_row5_col4, #T_9a121_row5_col5, #T_9a121_row5_col6, #T_9a121_row5_col7, #T_9a121_row6_col0, #T_9a121_row6_col1, #T_9a121_row6_col2, #T_9a121_row6_col3, #T_9a121_row6_col4, #T_9a121_row6_col5, #T_9a121_row6_col6, #T_9a121_row6_col7, #T_9a121_row7_col0, #T_9a121_row7_col1, #T_9a121_row7_col2, #T_9a121_row7_col3, #T_9a121_row7_col4, #T_9a121_row7_col5, #T_9a121_row7_col6, #T_9a121_row7_col7, #T_9a121_row8_col0, #T_9a121_row8_col1, #T_9a121_row8_col2, #T_9a121_row8_col3, #T_9a121_row8_col4, #T_9a121_row8_col5, #T_9a121_row8_col6, #T_9a121_row8_col7, #T_9a121_row9_col0, #T_9a121_row9_col1, #T_9a121_row9_col2, #T_9a121_row9_col3, #T_9a121_row9_col4, #T_9a121_row9_col5, #T_9a121_row9_col6, #T_9a121_row9_col7, #T_9a121_row10_col0, #T_9a121_row10_col1, #T_9a121_row10_col2, #T_9a121_row10_col3, #T_9a121_row10_col4, #T_9a121_row10_col5, #T_9a121_row10_col6, #T_9a121_row10_col7, #T_9a121_row11_col0, #T_9a121_row11_col1, #T_9a121_row11_col2, #T_9a121_row11_col3, #T_9a121_row11_col4, #T_9a121_row11_col5, #T_9a121_row11_col6, #T_9a121_row11_col7, #T_9a121_row12_col0, #T_9a121_row12_col1, #T_9a121_row12_col2, #T_9a121_row12_col3, #T_9a121_row12_col4, #T_9a121_row12_col5, #T_9a121_row12_col6, #T_9a121_row12_col7, #T_9a121_row13_col0, #T_9a121_row13_col1, #T_9a121_row13_col2, #T_9a121_row13_col3, #T_9a121_row13_col4, #T_9a121_row13_col5, #T_9a121_row13_col6, #T_9a121_row13_col7, #T_9a121_row14_col0, #T_9a121_row14_col1, #T_9a121_row14_col2, #T_9a121_row14_col3, #T_9a121_row14_col4, #T_9a121_row14_col5, #T_9a121_row14_col6, #T_9a121_row14_col7, #T_9a121_row15_col0, #T_9a121_row15_col1, #T_9a121_row15_col2, #T_9a121_row15_col3, #T_9a121_row15_col4, #T_9a121_row15_col5, #T_9a121_row15_col6, #T_9a121_row15_col7, #T_9a121_row16_col0, #T_9a121_row16_col1, #T_9a121_row16_col2, #T_9a121_row16_col3, #T_9a121_row16_col4, #T_9a121_row16_col5, #T_9a121_row16_col6, #T_9a121_row16_col7, #T_9a121_row17_col0, #T_9a121_row17_col1, #T_9a121_row17_col2, #T_9a121_row17_col3, #T_9a121_row17_col4, #T_9a121_row17_col5, #T_9a121_row17_col6, #T_9a121_row17_col7, #T_9a121_row18_col0, #T_9a121_row18_col1, #T_9a121_row18_col2, #T_9a121_row18_col3, #T_9a121_row18_col4, #T_9a121_row18_col5, #T_9a121_row18_col6, #T_9a121_row18_col7, #T_9a121_row19_col0, #T_9a121_row19_col1, #T_9a121_row19_col2, #T_9a121_row19_col3, #T_9a121_row19_col4, #T_9a121_row19_col5, #T_9a121_row19_col6, #T_9a121_row19_col7, #T_9a121_row20_col0, #T_9a121_row20_col1, #T_9a121_row20_col2, #T_9a121_row20_col3, #T_9a121_row20_col4, #T_9a121_row20_col5, #T_9a121_row20_col6, #T_9a121_row20_col7, #T_9a121_row21_col0, #T_9a121_row21_col1, #T_9a121_row21_col2, #T_9a121_row21_col3, #T_9a121_row21_col4, #T_9a121_row21_col5, #T_9a121_row21_col6, #T_9a121_row21_col7, #T_9a121_row22_col0, #T_9a121_row22_col1, #T_9a121_row22_col2, #T_9a121_row22_col3, #T_9a121_row22_col4, #T_9a121_row22_col5, #T_9a121_row22_col6, #T_9a121_row22_col7, #T_9a121_row23_col0, #T_9a121_row23_col1, #T_9a121_row23_col2, #T_9a121_row23_col3, #T_9a121_row23_col4, #T_9a121_row23_col5, #T_9a121_row23_col6, #T_9a121_row23_col7 {\n",
       "  text-align: left;\n",
       "}\n",
       "#T_9a121_row0_col1, #T_9a121_row0_col2, #T_9a121_row0_col3, #T_9a121_row0_col4, #T_9a121_row0_col5, #T_9a121_row0_col7, #T_9a121_row2_col6 {\n",
       "  text-align: left;\n",
       "  background-color: yellow;\n",
       "}\n",
       "#T_9a121_row0_col8, #T_9a121_row1_col8, #T_9a121_row2_col8, #T_9a121_row3_col8, #T_9a121_row4_col8, #T_9a121_row5_col8, #T_9a121_row6_col8, #T_9a121_row7_col8, #T_9a121_row8_col8, #T_9a121_row9_col8, #T_9a121_row10_col8, #T_9a121_row11_col8, #T_9a121_row12_col8, #T_9a121_row13_col8, #T_9a121_row14_col8, #T_9a121_row15_col8, #T_9a121_row16_col8, #T_9a121_row17_col8, #T_9a121_row18_col8, #T_9a121_row19_col8, #T_9a121_row21_col8, #T_9a121_row22_col8, #T_9a121_row23_col8 {\n",
       "  text-align: left;\n",
       "  background-color: lightgrey;\n",
       "}\n",
       "#T_9a121_row20_col8 {\n",
       "  text-align: left;\n",
       "  background-color: yellow;\n",
       "  background-color: lightgrey;\n",
       "}\n",
       "</style>\n",
       "<table id=\"T_9a121\">\n",
       "  <thead>\n",
       "    <tr>\n",
       "      <th class=\"blank level0\" >&nbsp;</th>\n",
       "      <th id=\"T_9a121_level0_col0\" class=\"col_heading level0 col0\" >Model</th>\n",
       "      <th id=\"T_9a121_level0_col1\" class=\"col_heading level0 col1\" >MASE</th>\n",
       "      <th id=\"T_9a121_level0_col2\" class=\"col_heading level0 col2\" >RMSSE</th>\n",
       "      <th id=\"T_9a121_level0_col3\" class=\"col_heading level0 col3\" >MAE</th>\n",
       "      <th id=\"T_9a121_level0_col4\" class=\"col_heading level0 col4\" >RMSE</th>\n",
       "      <th id=\"T_9a121_level0_col5\" class=\"col_heading level0 col5\" >MAPE</th>\n",
       "      <th id=\"T_9a121_level0_col6\" class=\"col_heading level0 col6\" >SMAPE</th>\n",
       "      <th id=\"T_9a121_level0_col7\" class=\"col_heading level0 col7\" >R2</th>\n",
       "      <th id=\"T_9a121_level0_col8\" class=\"col_heading level0 col8\" >TT (Sec)</th>\n",
       "    </tr>\n",
       "  </thead>\n",
       "  <tbody>\n",
       "    <tr>\n",
       "      <th id=\"T_9a121_level0_row0\" class=\"row_heading level0 row0\" >br_cds_dt</th>\n",
       "      <td id=\"T_9a121_row0_col0\" class=\"data row0 col0\" >Bayesian Ridge w/ Cond. Deseasonalize & Detrending</td>\n",
       "      <td id=\"T_9a121_row0_col1\" class=\"data row0 col1\" >0.9948</td>\n",
       "      <td id=\"T_9a121_row0_col2\" class=\"data row0 col2\" >0.9250</td>\n",
       "      <td id=\"T_9a121_row0_col3\" class=\"data row0 col3\" >1808125.1641</td>\n",
       "      <td id=\"T_9a121_row0_col4\" class=\"data row0 col4\" >2225854.7723</td>\n",
       "      <td id=\"T_9a121_row0_col5\" class=\"data row0 col5\" >0.2687</td>\n",
       "      <td id=\"T_9a121_row0_col6\" class=\"data row0 col6\" >0.2919</td>\n",
       "      <td id=\"T_9a121_row0_col7\" class=\"data row0 col7\" >0.1356</td>\n",
       "      <td id=\"T_9a121_row0_col8\" class=\"data row0 col8\" >0.1233</td>\n",
       "    </tr>\n",
       "    <tr>\n",
       "      <th id=\"T_9a121_level0_row1\" class=\"row_heading level0 row1\" >rf_cds_dt</th>\n",
       "      <td id=\"T_9a121_row1_col0\" class=\"data row1 col0\" >Random Forest w/ Cond. Deseasonalize & Detrending</td>\n",
       "      <td id=\"T_9a121_row1_col1\" class=\"data row1 col1\" >0.9956</td>\n",
       "      <td id=\"T_9a121_row1_col2\" class=\"data row1 col2\" >0.9617</td>\n",
       "      <td id=\"T_9a121_row1_col3\" class=\"data row1 col3\" >1808816.6841</td>\n",
       "      <td id=\"T_9a121_row1_col4\" class=\"data row1 col4\" >2312795.0083</td>\n",
       "      <td id=\"T_9a121_row1_col5\" class=\"data row1 col5\" >0.2774</td>\n",
       "      <td id=\"T_9a121_row1_col6\" class=\"data row1 col6\" >0.2995</td>\n",
       "      <td id=\"T_9a121_row1_col7\" class=\"data row1 col7\" >0.1053</td>\n",
       "      <td id=\"T_9a121_row1_col8\" class=\"data row1 col8\" >0.2767</td>\n",
       "    </tr>\n",
       "    <tr>\n",
       "      <th id=\"T_9a121_level0_row2\" class=\"row_heading level0 row2\" >knn_cds_dt</th>\n",
       "      <td id=\"T_9a121_row2_col0\" class=\"data row2 col0\" >K Neighbors w/ Cond. Deseasonalize & Detrending</td>\n",
       "      <td id=\"T_9a121_row2_col1\" class=\"data row2 col1\" >1.0065</td>\n",
       "      <td id=\"T_9a121_row2_col2\" class=\"data row2 col2\" >0.9678</td>\n",
       "      <td id=\"T_9a121_row2_col3\" class=\"data row2 col3\" >1828259.3469</td>\n",
       "      <td id=\"T_9a121_row2_col4\" class=\"data row2 col4\" >2327079.1269</td>\n",
       "      <td id=\"T_9a121_row2_col5\" class=\"data row2 col5\" >0.2810</td>\n",
       "      <td id=\"T_9a121_row2_col6\" class=\"data row2 col6\" >0.2893</td>\n",
       "      <td id=\"T_9a121_row2_col7\" class=\"data row2 col7\" >0.1040</td>\n",
       "      <td id=\"T_9a121_row2_col8\" class=\"data row2 col8\" >0.2367</td>\n",
       "    </tr>\n",
       "    <tr>\n",
       "      <th id=\"T_9a121_level0_row3\" class=\"row_heading level0 row3\" >lightgbm_cds_dt</th>\n",
       "      <td id=\"T_9a121_row3_col0\" class=\"data row3 col0\" >Light Gradient Boosting w/ Cond. Deseasonalize & Detrending</td>\n",
       "      <td id=\"T_9a121_row3_col1\" class=\"data row3 col1\" >1.0304</td>\n",
       "      <td id=\"T_9a121_row3_col2\" class=\"data row3 col2\" >0.9350</td>\n",
       "      <td id=\"T_9a121_row3_col3\" class=\"data row3 col3\" >1871390.2511</td>\n",
       "      <td id=\"T_9a121_row3_col4\" class=\"data row3 col4\" >2250251.2136</td>\n",
       "      <td id=\"T_9a121_row3_col5\" class=\"data row3 col5\" >0.2863</td>\n",
       "      <td id=\"T_9a121_row3_col6\" class=\"data row3 col6\" >0.2993</td>\n",
       "      <td id=\"T_9a121_row3_col7\" class=\"data row3 col7\" >0.0752</td>\n",
       "      <td id=\"T_9a121_row3_col8\" class=\"data row3 col8\" >0.2667</td>\n",
       "    </tr>\n",
       "    <tr>\n",
       "      <th id=\"T_9a121_level0_row4\" class=\"row_heading level0 row4\" >ada_cds_dt</th>\n",
       "      <td id=\"T_9a121_row4_col0\" class=\"data row4 col0\" >AdaBoost w/ Cond. Deseasonalize & Detrending</td>\n",
       "      <td id=\"T_9a121_row4_col1\" class=\"data row4 col1\" >1.0257</td>\n",
       "      <td id=\"T_9a121_row4_col2\" class=\"data row4 col2\" >0.9587</td>\n",
       "      <td id=\"T_9a121_row4_col3\" class=\"data row4 col3\" >1864512.9254</td>\n",
       "      <td id=\"T_9a121_row4_col4\" class=\"data row4 col4\" >2306664.4579</td>\n",
       "      <td id=\"T_9a121_row4_col5\" class=\"data row4 col5\" >0.2872</td>\n",
       "      <td id=\"T_9a121_row4_col6\" class=\"data row4 col6\" >0.3050</td>\n",
       "      <td id=\"T_9a121_row4_col7\" class=\"data row4 col7\" >0.0716</td>\n",
       "      <td id=\"T_9a121_row4_col8\" class=\"data row4 col8\" >0.1467</td>\n",
       "    </tr>\n",
       "    <tr>\n",
       "      <th id=\"T_9a121_level0_row5\" class=\"row_heading level0 row5\" >et_cds_dt</th>\n",
       "      <td id=\"T_9a121_row5_col0\" class=\"data row5 col0\" >Extra Trees w/ Cond. Deseasonalize & Detrending</td>\n",
       "      <td id=\"T_9a121_row5_col1\" class=\"data row5 col1\" >1.0537</td>\n",
       "      <td id=\"T_9a121_row5_col2\" class=\"data row5 col2\" >0.9905</td>\n",
       "      <td id=\"T_9a121_row5_col3\" class=\"data row5 col3\" >1913077.7486</td>\n",
       "      <td id=\"T_9a121_row5_col4\" class=\"data row5 col4\" >2382286.7801</td>\n",
       "      <td id=\"T_9a121_row5_col5\" class=\"data row5 col5\" >0.3009</td>\n",
       "      <td id=\"T_9a121_row5_col6\" class=\"data row5 col6\" >0.3147</td>\n",
       "      <td id=\"T_9a121_row5_col7\" class=\"data row5 col7\" >0.0303</td>\n",
       "      <td id=\"T_9a121_row5_col8\" class=\"data row5 col8\" >0.2833</td>\n",
       "    </tr>\n",
       "    <tr>\n",
       "      <th id=\"T_9a121_level0_row6\" class=\"row_heading level0 row6\" >stlf</th>\n",
       "      <td id=\"T_9a121_row6_col0\" class=\"data row6 col0\" >STLF</td>\n",
       "      <td id=\"T_9a121_row6_col1\" class=\"data row6 col1\" >1.1147</td>\n",
       "      <td id=\"T_9a121_row6_col2\" class=\"data row6 col2\" >1.0414</td>\n",
       "      <td id=\"T_9a121_row6_col3\" class=\"data row6 col3\" >2010115.5901</td>\n",
       "      <td id=\"T_9a121_row6_col4\" class=\"data row6 col4\" >2498804.2591</td>\n",
       "      <td id=\"T_9a121_row6_col5\" class=\"data row6 col5\" >0.3075</td>\n",
       "      <td id=\"T_9a121_row6_col6\" class=\"data row6 col6\" >0.3460</td>\n",
       "      <td id=\"T_9a121_row6_col7\" class=\"data row6 col7\" >0.0128</td>\n",
       "      <td id=\"T_9a121_row6_col8\" class=\"data row6 col8\" >0.0367</td>\n",
       "    </tr>\n",
       "    <tr>\n",
       "      <th id=\"T_9a121_level0_row7\" class=\"row_heading level0 row7\" >gbr_cds_dt</th>\n",
       "      <td id=\"T_9a121_row7_col0\" class=\"data row7 col0\" >Gradient Boosting w/ Cond. Deseasonalize & Detrending</td>\n",
       "      <td id=\"T_9a121_row7_col1\" class=\"data row7 col1\" >1.1056</td>\n",
       "      <td id=\"T_9a121_row7_col2\" class=\"data row7 col2\" >1.0708</td>\n",
       "      <td id=\"T_9a121_row7_col3\" class=\"data row7 col3\" >2007027.4526</td>\n",
       "      <td id=\"T_9a121_row7_col4\" class=\"data row7 col4\" >2574663.1451</td>\n",
       "      <td id=\"T_9a121_row7_col5\" class=\"data row7 col5\" >0.3081</td>\n",
       "      <td id=\"T_9a121_row7_col6\" class=\"data row7 col6\" >0.3376</td>\n",
       "      <td id=\"T_9a121_row7_col7\" class=\"data row7 col7\" >-0.1041</td>\n",
       "      <td id=\"T_9a121_row7_col8\" class=\"data row7 col8\" >0.1467</td>\n",
       "    </tr>\n",
       "    <tr>\n",
       "      <th id=\"T_9a121_level0_row8\" class=\"row_heading level0 row8\" >arima</th>\n",
       "      <td id=\"T_9a121_row8_col0\" class=\"data row8 col0\" >ARIMA</td>\n",
       "      <td id=\"T_9a121_row8_col1\" class=\"data row8 col1\" >1.1602</td>\n",
       "      <td id=\"T_9a121_row8_col2\" class=\"data row8 col2\" >1.1269</td>\n",
       "      <td id=\"T_9a121_row8_col3\" class=\"data row8 col3\" >2097606.8529</td>\n",
       "      <td id=\"T_9a121_row8_col4\" class=\"data row8 col4\" >2706819.3628</td>\n",
       "      <td id=\"T_9a121_row8_col5\" class=\"data row8 col5\" >0.3107</td>\n",
       "      <td id=\"T_9a121_row8_col6\" class=\"data row8 col6\" >0.3562</td>\n",
       "      <td id=\"T_9a121_row8_col7\" class=\"data row8 col7\" >-0.2099</td>\n",
       "      <td id=\"T_9a121_row8_col8\" class=\"data row8 col8\" >0.0433</td>\n",
       "    </tr>\n",
       "    <tr>\n",
       "      <th id=\"T_9a121_level0_row9\" class=\"row_heading level0 row9\" >huber_cds_dt</th>\n",
       "      <td id=\"T_9a121_row9_col0\" class=\"data row9 col0\" >Huber w/ Cond. Deseasonalize & Detrending</td>\n",
       "      <td id=\"T_9a121_row9_col1\" class=\"data row9 col1\" >1.1056</td>\n",
       "      <td id=\"T_9a121_row9_col2\" class=\"data row9 col2\" >1.0458</td>\n",
       "      <td id=\"T_9a121_row9_col3\" class=\"data row9 col3\" >1998103.2020</td>\n",
       "      <td id=\"T_9a121_row9_col4\" class=\"data row9 col4\" >2511082.7213</td>\n",
       "      <td id=\"T_9a121_row9_col5\" class=\"data row9 col5\" >0.3163</td>\n",
       "      <td id=\"T_9a121_row9_col6\" class=\"data row9 col6\" >0.3411</td>\n",
       "      <td id=\"T_9a121_row9_col7\" class=\"data row9 col7\" >-0.0161</td>\n",
       "      <td id=\"T_9a121_row9_col8\" class=\"data row9 col8\" >0.1467</td>\n",
       "    </tr>\n",
       "    <tr>\n",
       "      <th id=\"T_9a121_level0_row10\" class=\"row_heading level0 row10\" >omp_cds_dt</th>\n",
       "      <td id=\"T_9a121_row10_col0\" class=\"data row10 col0\" >Orthogonal Matching Pursuit w/ Cond. Deseasonalize & Detrending</td>\n",
       "      <td id=\"T_9a121_row10_col1\" class=\"data row10 col1\" >1.1454</td>\n",
       "      <td id=\"T_9a121_row10_col2\" class=\"data row10 col2\" >1.0340</td>\n",
       "      <td id=\"T_9a121_row10_col3\" class=\"data row10 col3\" >2075808.7031</td>\n",
       "      <td id=\"T_9a121_row10_col4\" class=\"data row10 col4\" >2486166.3724</td>\n",
       "      <td id=\"T_9a121_row10_col5\" class=\"data row10 col5\" >0.3201</td>\n",
       "      <td id=\"T_9a121_row10_col6\" class=\"data row10 col6\" >0.3454</td>\n",
       "      <td id=\"T_9a121_row10_col7\" class=\"data row10 col7\" >-0.0469</td>\n",
       "      <td id=\"T_9a121_row10_col8\" class=\"data row10 col8\" >0.1167</td>\n",
       "    </tr>\n",
       "    <tr>\n",
       "      <th id=\"T_9a121_level0_row11\" class=\"row_heading level0 row11\" >auto_arima</th>\n",
       "      <td id=\"T_9a121_row11_col0\" class=\"data row11 col0\" >Auto ARIMA</td>\n",
       "      <td id=\"T_9a121_row11_col1\" class=\"data row11 col1\" >1.2708</td>\n",
       "      <td id=\"T_9a121_row11_col2\" class=\"data row11 col2\" >1.1965</td>\n",
       "      <td id=\"T_9a121_row11_col3\" class=\"data row11 col3\" >2297522.5777</td>\n",
       "      <td id=\"T_9a121_row11_col4\" class=\"data row11 col4\" >2871850.2615</td>\n",
       "      <td id=\"T_9a121_row11_col5\" class=\"data row11 col5\" >0.3299</td>\n",
       "      <td id=\"T_9a121_row11_col6\" class=\"data row11 col6\" >0.3594</td>\n",
       "      <td id=\"T_9a121_row11_col7\" class=\"data row11 col7\" >-0.2482</td>\n",
       "      <td id=\"T_9a121_row11_col8\" class=\"data row11 col8\" >1.4533</td>\n",
       "    </tr>\n",
       "    <tr>\n",
       "      <th id=\"T_9a121_level0_row12\" class=\"row_heading level0 row12\" >xgboost_cds_dt</th>\n",
       "      <td id=\"T_9a121_row12_col0\" class=\"data row12 col0\" >Extreme Gradient Boosting w/ Cond. Deseasonalize & Detrending</td>\n",
       "      <td id=\"T_9a121_row12_col1\" class=\"data row12 col1\" >1.2013</td>\n",
       "      <td id=\"T_9a121_row12_col2\" class=\"data row12 col2\" >1.0842</td>\n",
       "      <td id=\"T_9a121_row12_col3\" class=\"data row12 col3\" >2179420.0360</td>\n",
       "      <td id=\"T_9a121_row12_col4\" class=\"data row12 col4\" >2606607.9096</td>\n",
       "      <td id=\"T_9a121_row12_col5\" class=\"data row12 col5\" >0.3397</td>\n",
       "      <td id=\"T_9a121_row12_col6\" class=\"data row12 col6\" >0.3620</td>\n",
       "      <td id=\"T_9a121_row12_col7\" class=\"data row12 col7\" >-0.1325</td>\n",
       "      <td id=\"T_9a121_row12_col8\" class=\"data row12 col8\" >0.5567</td>\n",
       "    </tr>\n",
       "    <tr>\n",
       "      <th id=\"T_9a121_level0_row13\" class=\"row_heading level0 row13\" >snaive</th>\n",
       "      <td id=\"T_9a121_row13_col0\" class=\"data row13 col0\" >Seasonal Naive Forecaster</td>\n",
       "      <td id=\"T_9a121_row13_col1\" class=\"data row13 col1\" >1.1968</td>\n",
       "      <td id=\"T_9a121_row13_col2\" class=\"data row13 col2\" >1.1454</td>\n",
       "      <td id=\"T_9a121_row13_col3\" class=\"data row13 col3\" >2163442.0003</td>\n",
       "      <td id=\"T_9a121_row13_col4\" class=\"data row13 col4\" >2751304.1294</td>\n",
       "      <td id=\"T_9a121_row13_col5\" class=\"data row13 col5\" >0.3400</td>\n",
       "      <td id=\"T_9a121_row13_col6\" class=\"data row13 col6\" >0.3777</td>\n",
       "      <td id=\"T_9a121_row13_col7\" class=\"data row13 col7\" >-0.2583</td>\n",
       "      <td id=\"T_9a121_row13_col8\" class=\"data row13 col8\" >0.0533</td>\n",
       "    </tr>\n",
       "    <tr>\n",
       "      <th id=\"T_9a121_level0_row14\" class=\"row_heading level0 row14\" >lasso_cds_dt</th>\n",
       "      <td id=\"T_9a121_row14_col0\" class=\"data row14 col0\" >Lasso w/ Cond. Deseasonalize & Detrending</td>\n",
       "      <td id=\"T_9a121_row14_col1\" class=\"data row14 col1\" >1.3193</td>\n",
       "      <td id=\"T_9a121_row14_col2\" class=\"data row14 col2\" >1.2077</td>\n",
       "      <td id=\"T_9a121_row14_col3\" class=\"data row14 col3\" >2377793.8192</td>\n",
       "      <td id=\"T_9a121_row14_col4\" class=\"data row14 col4\" >2897879.1105</td>\n",
       "      <td id=\"T_9a121_row14_col5\" class=\"data row14 col5\" >0.3925</td>\n",
       "      <td id=\"T_9a121_row14_col6\" class=\"data row14 col6\" >0.4247</td>\n",
       "      <td id=\"T_9a121_row14_col7\" class=\"data row14 col7\" >-0.3995</td>\n",
       "      <td id=\"T_9a121_row14_col8\" class=\"data row14 col8\" >0.1233</td>\n",
       "    </tr>\n",
       "    <tr>\n",
       "      <th id=\"T_9a121_level0_row15\" class=\"row_heading level0 row15\" >ridge_cds_dt</th>\n",
       "      <td id=\"T_9a121_row15_col0\" class=\"data row15 col0\" >Ridge w/ Cond. Deseasonalize & Detrending</td>\n",
       "      <td id=\"T_9a121_row15_col1\" class=\"data row15 col1\" >1.3193</td>\n",
       "      <td id=\"T_9a121_row15_col2\" class=\"data row15 col2\" >1.2077</td>\n",
       "      <td id=\"T_9a121_row15_col3\" class=\"data row15 col3\" >2377793.8192</td>\n",
       "      <td id=\"T_9a121_row15_col4\" class=\"data row15 col4\" >2897879.1105</td>\n",
       "      <td id=\"T_9a121_row15_col5\" class=\"data row15 col5\" >0.3925</td>\n",
       "      <td id=\"T_9a121_row15_col6\" class=\"data row15 col6\" >0.4247</td>\n",
       "      <td id=\"T_9a121_row15_col7\" class=\"data row15 col7\" >-0.3995</td>\n",
       "      <td id=\"T_9a121_row15_col8\" class=\"data row15 col8\" >0.1267</td>\n",
       "    </tr>\n",
       "    <tr>\n",
       "      <th id=\"T_9a121_level0_row16\" class=\"row_heading level0 row16\" >lr_cds_dt</th>\n",
       "      <td id=\"T_9a121_row16_col0\" class=\"data row16 col0\" >Linear w/ Cond. Deseasonalize & Detrending</td>\n",
       "      <td id=\"T_9a121_row16_col1\" class=\"data row16 col1\" >1.3193</td>\n",
       "      <td id=\"T_9a121_row16_col2\" class=\"data row16 col2\" >1.2077</td>\n",
       "      <td id=\"T_9a121_row16_col3\" class=\"data row16 col3\" >2377793.8192</td>\n",
       "      <td id=\"T_9a121_row16_col4\" class=\"data row16 col4\" >2897879.1105</td>\n",
       "      <td id=\"T_9a121_row16_col5\" class=\"data row16 col5\" >0.3925</td>\n",
       "      <td id=\"T_9a121_row16_col6\" class=\"data row16 col6\" >0.4247</td>\n",
       "      <td id=\"T_9a121_row16_col7\" class=\"data row16 col7\" >-0.3995</td>\n",
       "      <td id=\"T_9a121_row16_col8\" class=\"data row16 col8\" >0.1233</td>\n",
       "    </tr>\n",
       "    <tr>\n",
       "      <th id=\"T_9a121_level0_row17\" class=\"row_heading level0 row17\" >en_cds_dt</th>\n",
       "      <td id=\"T_9a121_row17_col0\" class=\"data row17 col0\" >Elastic Net w/ Cond. Deseasonalize & Detrending</td>\n",
       "      <td id=\"T_9a121_row17_col1\" class=\"data row17 col1\" >1.3193</td>\n",
       "      <td id=\"T_9a121_row17_col2\" class=\"data row17 col2\" >1.2077</td>\n",
       "      <td id=\"T_9a121_row17_col3\" class=\"data row17 col3\" >2377793.8192</td>\n",
       "      <td id=\"T_9a121_row17_col4\" class=\"data row17 col4\" >2897879.1105</td>\n",
       "      <td id=\"T_9a121_row17_col5\" class=\"data row17 col5\" >0.3925</td>\n",
       "      <td id=\"T_9a121_row17_col6\" class=\"data row17 col6\" >0.4247</td>\n",
       "      <td id=\"T_9a121_row17_col7\" class=\"data row17 col7\" >-0.3995</td>\n",
       "      <td id=\"T_9a121_row17_col8\" class=\"data row17 col8\" >0.1233</td>\n",
       "    </tr>\n",
       "    <tr>\n",
       "      <th id=\"T_9a121_level0_row18\" class=\"row_heading level0 row18\" >llar_cds_dt</th>\n",
       "      <td id=\"T_9a121_row18_col0\" class=\"data row18 col0\" >Lasso Least Angular Regressor w/ Cond. Deseasonalize & Detrending</td>\n",
       "      <td id=\"T_9a121_row18_col1\" class=\"data row18 col1\" >1.3193</td>\n",
       "      <td id=\"T_9a121_row18_col2\" class=\"data row18 col2\" >1.2077</td>\n",
       "      <td id=\"T_9a121_row18_col3\" class=\"data row18 col3\" >2377793.8192</td>\n",
       "      <td id=\"T_9a121_row18_col4\" class=\"data row18 col4\" >2897879.1105</td>\n",
       "      <td id=\"T_9a121_row18_col5\" class=\"data row18 col5\" >0.3925</td>\n",
       "      <td id=\"T_9a121_row18_col6\" class=\"data row18 col6\" >0.4247</td>\n",
       "      <td id=\"T_9a121_row18_col7\" class=\"data row18 col7\" >-0.3995</td>\n",
       "      <td id=\"T_9a121_row18_col8\" class=\"data row18 col8\" >0.1300</td>\n",
       "    </tr>\n",
       "    <tr>\n",
       "      <th id=\"T_9a121_level0_row19\" class=\"row_heading level0 row19\" >dt_cds_dt</th>\n",
       "      <td id=\"T_9a121_row19_col0\" class=\"data row19 col0\" >Decision Tree w/ Cond. Deseasonalize & Detrending</td>\n",
       "      <td id=\"T_9a121_row19_col1\" class=\"data row19 col1\" >1.2825</td>\n",
       "      <td id=\"T_9a121_row19_col2\" class=\"data row19 col2\" >1.2328</td>\n",
       "      <td id=\"T_9a121_row19_col3\" class=\"data row19 col3\" >2321060.9280</td>\n",
       "      <td id=\"T_9a121_row19_col4\" class=\"data row19 col4\" >2962227.9284</td>\n",
       "      <td id=\"T_9a121_row19_col5\" class=\"data row19 col5\" >0.3951</td>\n",
       "      <td id=\"T_9a121_row19_col6\" class=\"data row19 col6\" >0.4354</td>\n",
       "      <td id=\"T_9a121_row19_col7\" class=\"data row19 col7\" >-0.4519</td>\n",
       "      <td id=\"T_9a121_row19_col8\" class=\"data row19 col8\" >0.1300</td>\n",
       "    </tr>\n",
       "    <tr>\n",
       "      <th id=\"T_9a121_level0_row20\" class=\"row_heading level0 row20\" >polytrend</th>\n",
       "      <td id=\"T_9a121_row20_col0\" class=\"data row20 col0\" >Polynomial Trend Forecaster</td>\n",
       "      <td id=\"T_9a121_row20_col1\" class=\"data row20 col1\" >1.4097</td>\n",
       "      <td id=\"T_9a121_row20_col2\" class=\"data row20 col2\" >1.2365</td>\n",
       "      <td id=\"T_9a121_row20_col3\" class=\"data row20 col3\" >2539855.0928</td>\n",
       "      <td id=\"T_9a121_row20_col4\" class=\"data row20 col4\" >2966314.2804</td>\n",
       "      <td id=\"T_9a121_row20_col5\" class=\"data row20 col5\" >0.4697</td>\n",
       "      <td id=\"T_9a121_row20_col6\" class=\"data row20 col6\" >0.3793</td>\n",
       "      <td id=\"T_9a121_row20_col7\" class=\"data row20 col7\" >-0.3567</td>\n",
       "      <td id=\"T_9a121_row20_col8\" class=\"data row20 col8\" >0.0200</td>\n",
       "    </tr>\n",
       "    <tr>\n",
       "      <th id=\"T_9a121_level0_row21\" class=\"row_heading level0 row21\" >theta</th>\n",
       "      <td id=\"T_9a121_row21_col0\" class=\"data row21 col0\" >Theta Forecaster</td>\n",
       "      <td id=\"T_9a121_row21_col1\" class=\"data row21 col1\" >1.7094</td>\n",
       "      <td id=\"T_9a121_row21_col2\" class=\"data row21 col2\" >1.4813</td>\n",
       "      <td id=\"T_9a121_row21_col3\" class=\"data row21 col3\" >3051241.4815</td>\n",
       "      <td id=\"T_9a121_row21_col4\" class=\"data row21 col4\" >3545707.1918</td>\n",
       "      <td id=\"T_9a121_row21_col5\" class=\"data row21 col5\" >0.4756</td>\n",
       "      <td id=\"T_9a121_row21_col6\" class=\"data row21 col6\" >0.7569</td>\n",
       "      <td id=\"T_9a121_row21_col7\" class=\"data row21 col7\" >-1.6402</td>\n",
       "      <td id=\"T_9a121_row21_col8\" class=\"data row21 col8\" >0.0300</td>\n",
       "    </tr>\n",
       "    <tr>\n",
       "      <th id=\"T_9a121_level0_row22\" class=\"row_heading level0 row22\" >exp_smooth</th>\n",
       "      <td id=\"T_9a121_row22_col0\" class=\"data row22 col0\" >Exponential Smoothing</td>\n",
       "      <td id=\"T_9a121_row22_col1\" class=\"data row22 col1\" >1.7781</td>\n",
       "      <td id=\"T_9a121_row22_col2\" class=\"data row22 col2\" >1.5390</td>\n",
       "      <td id=\"T_9a121_row22_col3\" class=\"data row22 col3\" >3173469.8810</td>\n",
       "      <td id=\"T_9a121_row22_col4\" class=\"data row22 col4\" >3683253.9036</td>\n",
       "      <td id=\"T_9a121_row22_col5\" class=\"data row22 col5\" >0.4918</td>\n",
       "      <td id=\"T_9a121_row22_col6\" class=\"data row22 col6\" >0.8032</td>\n",
       "      <td id=\"T_9a121_row22_col7\" class=\"data row22 col7\" >-1.8386</td>\n",
       "      <td id=\"T_9a121_row22_col8\" class=\"data row22 col8\" >0.0667</td>\n",
       "    </tr>\n",
       "    <tr>\n",
       "      <th id=\"T_9a121_level0_row23\" class=\"row_heading level0 row23\" >ets</th>\n",
       "      <td id=\"T_9a121_row23_col0\" class=\"data row23 col0\" >ETS</td>\n",
       "      <td id=\"T_9a121_row23_col1\" class=\"data row23 col1\" >1.8369</td>\n",
       "      <td id=\"T_9a121_row23_col2\" class=\"data row23 col2\" >1.5524</td>\n",
       "      <td id=\"T_9a121_row23_col3\" class=\"data row23 col3\" >3282030.1106</td>\n",
       "      <td id=\"T_9a121_row23_col4\" class=\"data row23 col4\" >3716520.1068</td>\n",
       "      <td id=\"T_9a121_row23_col5\" class=\"data row23 col5\" >0.5094</td>\n",
       "      <td id=\"T_9a121_row23_col6\" class=\"data row23 col6\" >0.8266</td>\n",
       "      <td id=\"T_9a121_row23_col7\" class=\"data row23 col7\" >-2.0197</td>\n",
       "      <td id=\"T_9a121_row23_col8\" class=\"data row23 col8\" >0.0467</td>\n",
       "    </tr>\n",
       "  </tbody>\n",
       "</table>\n"
      ],
      "text/plain": [
       "<pandas.io.formats.style.Styler at 0x1a6c22ed820>"
      ]
     },
     "metadata": {},
     "output_type": "display_data"
    },
    {
     "data": {
      "text/html": [],
      "text/plain": [
       "<IPython.core.display.HTML object>"
      ]
     },
     "metadata": {},
     "output_type": "display_data"
    },
    {
     "data": {
      "application/vnd.plotly.v1+json": {
       "config": {
        "plotlyServerURL": "https://plot.ly"
       },
       "data": [
        {
         "line": {
          "color": "rgb(31, 119, 180)",
          "width": 2
         },
         "marker": {
          "color": "rgb(31, 119, 180)",
          "size": 5
         },
         "mode": "lines+markers",
         "name": "NET_SALES",
         "type": "scattergl",
         "x": [
          "2016-01-01T00:00:00",
          "2016-02-01T00:00:00",
          "2016-03-01T00:00:00",
          "2016-04-01T00:00:00",
          "2016-05-01T00:00:00",
          "2016-06-01T00:00:00",
          "2016-07-01T00:00:00",
          "2016-08-01T00:00:00",
          "2016-09-01T00:00:00",
          "2016-10-01T00:00:00",
          "2016-11-01T00:00:00",
          "2016-12-01T00:00:00",
          "2017-01-01T00:00:00",
          "2017-02-01T00:00:00",
          "2017-03-01T00:00:00",
          "2017-04-01T00:00:00",
          "2017-05-01T00:00:00",
          "2017-06-01T00:00:00",
          "2017-07-01T00:00:00",
          "2017-08-01T00:00:00",
          "2017-09-01T00:00:00",
          "2017-10-01T00:00:00",
          "2017-11-01T00:00:00",
          "2017-12-01T00:00:00",
          "2018-01-01T00:00:00",
          "2018-02-01T00:00:00",
          "2018-03-01T00:00:00",
          "2018-04-01T00:00:00",
          "2018-05-01T00:00:00",
          "2018-06-01T00:00:00",
          "2018-07-01T00:00:00",
          "2018-08-01T00:00:00",
          "2018-09-01T00:00:00",
          "2018-10-01T00:00:00",
          "2018-11-01T00:00:00",
          "2018-12-01T00:00:00",
          "2019-01-01T00:00:00",
          "2019-02-01T00:00:00",
          "2019-03-01T00:00:00",
          "2019-04-01T00:00:00",
          "2019-05-01T00:00:00",
          "2019-06-01T00:00:00",
          "2019-07-01T00:00:00",
          "2019-08-01T00:00:00",
          "2019-09-01T00:00:00",
          "2019-10-01T00:00:00",
          "2019-11-01T00:00:00",
          "2019-12-01T00:00:00",
          "2020-01-01T00:00:00",
          "2020-02-01T00:00:00",
          "2020-03-01T00:00:00",
          "2020-04-01T00:00:00",
          "2020-05-01T00:00:00",
          "2020-06-01T00:00:00",
          "2020-07-01T00:00:00",
          "2020-08-01T00:00:00",
          "2020-09-01T00:00:00",
          "2020-10-01T00:00:00",
          "2020-11-01T00:00:00",
          "2020-12-01T00:00:00",
          "2021-01-01T00:00:00",
          "2021-02-01T00:00:00",
          "2021-03-01T00:00:00",
          "2021-04-01T00:00:00",
          "2021-05-01T00:00:00",
          "2021-06-01T00:00:00",
          "2021-07-01T00:00:00",
          "2021-08-01T00:00:00",
          "2021-09-01T00:00:00",
          "2021-10-01T00:00:00",
          "2021-11-01T00:00:00",
          "2021-12-01T00:00:00",
          "2022-01-01T00:00:00",
          "2022-02-01T00:00:00",
          "2022-03-01T00:00:00",
          "2022-04-01T00:00:00",
          "2022-05-01T00:00:00",
          "2022-06-01T00:00:00",
          "2022-07-01T00:00:00",
          "2022-08-01T00:00:00",
          "2022-09-01T00:00:00",
          "2022-10-01T00:00:00",
          "2022-11-01T00:00:00",
          "2022-12-01T00:00:00"
         ],
         "xaxis": "x",
         "y": [
          3738317.3999999994,
          4384746.21,
          4657544.660000001,
          5171260.62,
          6569795.31,
          8319906.2299999995,
          5282476.85,
          6838040.700000001,
          5720205.029999998,
          8337051.26,
          7841547.939999999,
          6283787.13,
          3182033.9099999997,
          3459784.66,
          6171329.0600000005,
          5461855.05,
          6649871.82,
          3457063.38,
          3218368.38,
          7275830.840000001,
          8429271.590000002,
          13965788.639999999,
          8679321.44,
          5288124.98,
          4254794.16,
          3703937.79,
          3730400.2699999996,
          3067919.43,
          5200954.289999999,
          8029409.43,
          4870705.49,
          7790141.63,
          9201118.09,
          14773285.919999998,
          8357980.130000001,
          523319.16999999975,
          1777664.1900000002,
          3969440.2400000007,
          4309187.73,
          4664345.780000001,
          3570949.2399999998,
          7361816.289999999,
          5256380.52,
          4746102.07,
          6633068.48,
          9943877.57,
          9443771.259999998,
          4757669.63,
          3083167.25,
          4788681.57,
          3040734.37,
          3072612.54,
          9391505.34,
          9156027.1,
          5489644.100000001,
          8551918.85,
          10005964.56,
          12711989.360000001,
          9250506.15,
          4057064.9799999995,
          8855749.99,
          7448546.53,
          7649544.54,
          9341502.95,
          10640466.379999999,
          7391166.090000001,
          6556438.999999999,
          8271606.160000001,
          8400478.02,
          12729215.56,
          13526148.43,
          5335129.6,
          5831587.1899999995,
          5428107.019999999,
          5226201.46,
          5017651.62,
          9282788.74,
          5694082.470000001,
          5023800.99,
          6357307.1899999995,
          12275967.699999997,
          12020860.95,
          13245284.92,
          8211309.320000001
         ],
         "yaxis": "y"
        },
        {
         "line": {
          "color": "rgb(255, 127, 14)",
          "width": 2
         },
         "marker": {
          "color": "rgb(255, 127, 14)",
          "size": 5
         },
         "mode": "lines+markers",
         "name": "BayesianRidge",
         "type": "scattergl",
         "x": [
          "2016-01-01T00:00:00",
          "2016-02-01T00:00:00",
          "2016-03-01T00:00:00",
          "2016-04-01T00:00:00",
          "2016-05-01T00:00:00",
          "2016-06-01T00:00:00",
          "2016-07-01T00:00:00",
          "2016-08-01T00:00:00",
          "2016-09-01T00:00:00",
          "2016-10-01T00:00:00",
          "2016-11-01T00:00:00",
          "2016-12-01T00:00:00",
          "2017-01-01T00:00:00",
          "2017-02-01T00:00:00",
          "2017-03-01T00:00:00",
          "2017-04-01T00:00:00",
          "2017-05-01T00:00:00",
          "2017-06-01T00:00:00",
          "2017-07-01T00:00:00",
          "2017-08-01T00:00:00",
          "2017-09-01T00:00:00",
          "2017-10-01T00:00:00",
          "2017-11-01T00:00:00",
          "2017-12-01T00:00:00",
          "2018-01-01T00:00:00",
          "2018-02-01T00:00:00",
          "2018-03-01T00:00:00",
          "2018-04-01T00:00:00",
          "2018-05-01T00:00:00",
          "2018-06-01T00:00:00",
          "2018-07-01T00:00:00",
          "2018-08-01T00:00:00",
          "2018-09-01T00:00:00",
          "2018-10-01T00:00:00",
          "2018-11-01T00:00:00",
          "2018-12-01T00:00:00",
          "2019-01-01T00:00:00",
          "2019-02-01T00:00:00",
          "2019-03-01T00:00:00",
          "2019-04-01T00:00:00",
          "2019-05-01T00:00:00",
          "2019-06-01T00:00:00",
          "2019-07-01T00:00:00",
          "2019-08-01T00:00:00",
          "2019-09-01T00:00:00",
          "2019-10-01T00:00:00",
          "2019-11-01T00:00:00",
          "2019-12-01T00:00:00",
          "2020-01-01T00:00:00",
          "2020-02-01T00:00:00",
          "2020-03-01T00:00:00",
          "2020-04-01T00:00:00",
          "2020-05-01T00:00:00",
          "2020-06-01T00:00:00",
          "2020-07-01T00:00:00",
          "2020-08-01T00:00:00",
          "2020-09-01T00:00:00",
          "2020-10-01T00:00:00",
          "2020-11-01T00:00:00",
          "2020-12-01T00:00:00",
          "2021-01-01T00:00:00",
          "2021-02-01T00:00:00",
          "2021-03-01T00:00:00",
          "2021-04-01T00:00:00",
          "2021-05-01T00:00:00",
          "2021-06-01T00:00:00",
          "2021-07-01T00:00:00",
          "2021-08-01T00:00:00",
          "2021-09-01T00:00:00",
          "2021-10-01T00:00:00",
          "2021-11-01T00:00:00",
          "2021-12-01T00:00:00",
          "2022-01-01T00:00:00",
          "2022-02-01T00:00:00",
          "2022-03-01T00:00:00",
          "2022-04-01T00:00:00",
          "2022-05-01T00:00:00",
          "2022-06-01T00:00:00",
          "2022-07-01T00:00:00",
          "2022-08-01T00:00:00",
          "2022-09-01T00:00:00",
          "2022-10-01T00:00:00",
          "2022-11-01T00:00:00",
          "2022-12-01T00:00:00"
         ],
         "xaxis": "x",
         "y": [
          null,
          null,
          null,
          null,
          null,
          null,
          null,
          null,
          null,
          null,
          null,
          null,
          null,
          null,
          null,
          null,
          null,
          null,
          null,
          null,
          null,
          null,
          null,
          null,
          null,
          null,
          null,
          null,
          null,
          null,
          null,
          null,
          null,
          null,
          null,
          null,
          null,
          null,
          null,
          null,
          null,
          null,
          null,
          null,
          null,
          null,
          null,
          null,
          null,
          null,
          null,
          null,
          null,
          null,
          null,
          null,
          null,
          null,
          null,
          null,
          null,
          null,
          null,
          null,
          null,
          null,
          null,
          null,
          null,
          null,
          null,
          null,
          5504215.9411,
          6351196.9647,
          6467582.9997,
          5640769.2305,
          7473878.0562,
          8202670.0918,
          6974655.0551,
          8896322.266,
          10292086.8371,
          13762372.7563,
          9944849.278,
          5759815.4515
         ],
         "yaxis": "y"
        }
       ],
       "layout": {
        "showlegend": true,
        "template": {
         "data": {
          "bar": [
           {
            "error_x": {
             "color": "rgb(51,51,51)"
            },
            "error_y": {
             "color": "rgb(51,51,51)"
            },
            "marker": {
             "line": {
              "color": "rgb(237,237,237)",
              "width": 0.5
             },
             "pattern": {
              "fillmode": "overlay",
              "size": 10,
              "solidity": 0.2
             }
            },
            "type": "bar"
           }
          ],
          "barpolar": [
           {
            "marker": {
             "line": {
              "color": "rgb(237,237,237)",
              "width": 0.5
             },
             "pattern": {
              "fillmode": "overlay",
              "size": 10,
              "solidity": 0.2
             }
            },
            "type": "barpolar"
           }
          ],
          "carpet": [
           {
            "aaxis": {
             "endlinecolor": "rgb(51,51,51)",
             "gridcolor": "white",
             "linecolor": "white",
             "minorgridcolor": "white",
             "startlinecolor": "rgb(51,51,51)"
            },
            "baxis": {
             "endlinecolor": "rgb(51,51,51)",
             "gridcolor": "white",
             "linecolor": "white",
             "minorgridcolor": "white",
             "startlinecolor": "rgb(51,51,51)"
            },
            "type": "carpet"
           }
          ],
          "choropleth": [
           {
            "colorbar": {
             "outlinewidth": 0,
             "tickcolor": "rgb(237,237,237)",
             "ticklen": 6,
             "ticks": "inside"
            },
            "type": "choropleth"
           }
          ],
          "contour": [
           {
            "colorbar": {
             "outlinewidth": 0,
             "tickcolor": "rgb(237,237,237)",
             "ticklen": 6,
             "ticks": "inside"
            },
            "colorscale": [
             [
              0,
              "rgb(20,44,66)"
             ],
             [
              1,
              "rgb(90,179,244)"
             ]
            ],
            "type": "contour"
           }
          ],
          "contourcarpet": [
           {
            "colorbar": {
             "outlinewidth": 0,
             "tickcolor": "rgb(237,237,237)",
             "ticklen": 6,
             "ticks": "inside"
            },
            "type": "contourcarpet"
           }
          ],
          "heatmap": [
           {
            "colorbar": {
             "outlinewidth": 0,
             "tickcolor": "rgb(237,237,237)",
             "ticklen": 6,
             "ticks": "inside"
            },
            "colorscale": [
             [
              0,
              "rgb(20,44,66)"
             ],
             [
              1,
              "rgb(90,179,244)"
             ]
            ],
            "type": "heatmap"
           }
          ],
          "heatmapgl": [
           {
            "colorbar": {
             "outlinewidth": 0,
             "tickcolor": "rgb(237,237,237)",
             "ticklen": 6,
             "ticks": "inside"
            },
            "colorscale": [
             [
              0,
              "rgb(20,44,66)"
             ],
             [
              1,
              "rgb(90,179,244)"
             ]
            ],
            "type": "heatmapgl"
           }
          ],
          "histogram": [
           {
            "marker": {
             "pattern": {
              "fillmode": "overlay",
              "size": 10,
              "solidity": 0.2
             }
            },
            "type": "histogram"
           }
          ],
          "histogram2d": [
           {
            "colorbar": {
             "outlinewidth": 0,
             "tickcolor": "rgb(237,237,237)",
             "ticklen": 6,
             "ticks": "inside"
            },
            "colorscale": [
             [
              0,
              "rgb(20,44,66)"
             ],
             [
              1,
              "rgb(90,179,244)"
             ]
            ],
            "type": "histogram2d"
           }
          ],
          "histogram2dcontour": [
           {
            "colorbar": {
             "outlinewidth": 0,
             "tickcolor": "rgb(237,237,237)",
             "ticklen": 6,
             "ticks": "inside"
            },
            "colorscale": [
             [
              0,
              "rgb(20,44,66)"
             ],
             [
              1,
              "rgb(90,179,244)"
             ]
            ],
            "type": "histogram2dcontour"
           }
          ],
          "mesh3d": [
           {
            "colorbar": {
             "outlinewidth": 0,
             "tickcolor": "rgb(237,237,237)",
             "ticklen": 6,
             "ticks": "inside"
            },
            "type": "mesh3d"
           }
          ],
          "parcoords": [
           {
            "line": {
             "colorbar": {
              "outlinewidth": 0,
              "tickcolor": "rgb(237,237,237)",
              "ticklen": 6,
              "ticks": "inside"
             }
            },
            "type": "parcoords"
           }
          ],
          "pie": [
           {
            "automargin": true,
            "type": "pie"
           }
          ],
          "scatter": [
           {
            "fillpattern": {
             "fillmode": "overlay",
             "size": 10,
             "solidity": 0.2
            },
            "type": "scatter"
           }
          ],
          "scatter3d": [
           {
            "line": {
             "colorbar": {
              "outlinewidth": 0,
              "tickcolor": "rgb(237,237,237)",
              "ticklen": 6,
              "ticks": "inside"
             }
            },
            "marker": {
             "colorbar": {
              "outlinewidth": 0,
              "tickcolor": "rgb(237,237,237)",
              "ticklen": 6,
              "ticks": "inside"
             }
            },
            "type": "scatter3d"
           }
          ],
          "scattercarpet": [
           {
            "marker": {
             "colorbar": {
              "outlinewidth": 0,
              "tickcolor": "rgb(237,237,237)",
              "ticklen": 6,
              "ticks": "inside"
             }
            },
            "type": "scattercarpet"
           }
          ],
          "scattergeo": [
           {
            "marker": {
             "colorbar": {
              "outlinewidth": 0,
              "tickcolor": "rgb(237,237,237)",
              "ticklen": 6,
              "ticks": "inside"
             }
            },
            "type": "scattergeo"
           }
          ],
          "scattergl": [
           {
            "marker": {
             "colorbar": {
              "outlinewidth": 0,
              "tickcolor": "rgb(237,237,237)",
              "ticklen": 6,
              "ticks": "inside"
             }
            },
            "type": "scattergl"
           }
          ],
          "scattermapbox": [
           {
            "marker": {
             "colorbar": {
              "outlinewidth": 0,
              "tickcolor": "rgb(237,237,237)",
              "ticklen": 6,
              "ticks": "inside"
             }
            },
            "type": "scattermapbox"
           }
          ],
          "scatterpolar": [
           {
            "marker": {
             "colorbar": {
              "outlinewidth": 0,
              "tickcolor": "rgb(237,237,237)",
              "ticklen": 6,
              "ticks": "inside"
             }
            },
            "type": "scatterpolar"
           }
          ],
          "scatterpolargl": [
           {
            "marker": {
             "colorbar": {
              "outlinewidth": 0,
              "tickcolor": "rgb(237,237,237)",
              "ticklen": 6,
              "ticks": "inside"
             }
            },
            "type": "scatterpolargl"
           }
          ],
          "scatterternary": [
           {
            "marker": {
             "colorbar": {
              "outlinewidth": 0,
              "tickcolor": "rgb(237,237,237)",
              "ticklen": 6,
              "ticks": "inside"
             }
            },
            "type": "scatterternary"
           }
          ],
          "surface": [
           {
            "colorbar": {
             "outlinewidth": 0,
             "tickcolor": "rgb(237,237,237)",
             "ticklen": 6,
             "ticks": "inside"
            },
            "colorscale": [
             [
              0,
              "rgb(20,44,66)"
             ],
             [
              1,
              "rgb(90,179,244)"
             ]
            ],
            "type": "surface"
           }
          ],
          "table": [
           {
            "cells": {
             "fill": {
              "color": "rgb(237,237,237)"
             },
             "line": {
              "color": "white"
             }
            },
            "header": {
             "fill": {
              "color": "rgb(217,217,217)"
             },
             "line": {
              "color": "white"
             }
            },
            "type": "table"
           }
          ]
         },
         "layout": {
          "annotationdefaults": {
           "arrowhead": 0,
           "arrowwidth": 1
          },
          "autotypenumbers": "strict",
          "coloraxis": {
           "colorbar": {
            "outlinewidth": 0,
            "tickcolor": "rgb(237,237,237)",
            "ticklen": 6,
            "ticks": "inside"
           }
          },
          "colorscale": {
           "sequential": [
            [
             0,
             "rgb(20,44,66)"
            ],
            [
             1,
             "rgb(90,179,244)"
            ]
           ],
           "sequentialminus": [
            [
             0,
             "rgb(20,44,66)"
            ],
            [
             1,
             "rgb(90,179,244)"
            ]
           ]
          },
          "colorway": [
           "#F8766D",
           "#A3A500",
           "#00BF7D",
           "#00B0F6",
           "#E76BF3"
          ],
          "font": {
           "color": "rgb(51,51,51)"
          },
          "geo": {
           "bgcolor": "white",
           "lakecolor": "white",
           "landcolor": "rgb(237,237,237)",
           "showlakes": true,
           "showland": true,
           "subunitcolor": "white"
          },
          "hoverlabel": {
           "align": "left"
          },
          "hovermode": "closest",
          "paper_bgcolor": "white",
          "plot_bgcolor": "rgb(237,237,237)",
          "polar": {
           "angularaxis": {
            "gridcolor": "white",
            "linecolor": "white",
            "showgrid": true,
            "tickcolor": "rgb(51,51,51)",
            "ticks": "outside"
           },
           "bgcolor": "rgb(237,237,237)",
           "radialaxis": {
            "gridcolor": "white",
            "linecolor": "white",
            "showgrid": true,
            "tickcolor": "rgb(51,51,51)",
            "ticks": "outside"
           }
          },
          "scene": {
           "xaxis": {
            "backgroundcolor": "rgb(237,237,237)",
            "gridcolor": "white",
            "gridwidth": 2,
            "linecolor": "white",
            "showbackground": true,
            "showgrid": true,
            "tickcolor": "rgb(51,51,51)",
            "ticks": "outside",
            "zerolinecolor": "white"
           },
           "yaxis": {
            "backgroundcolor": "rgb(237,237,237)",
            "gridcolor": "white",
            "gridwidth": 2,
            "linecolor": "white",
            "showbackground": true,
            "showgrid": true,
            "tickcolor": "rgb(51,51,51)",
            "ticks": "outside",
            "zerolinecolor": "white"
           },
           "zaxis": {
            "backgroundcolor": "rgb(237,237,237)",
            "gridcolor": "white",
            "gridwidth": 2,
            "linecolor": "white",
            "showbackground": true,
            "showgrid": true,
            "tickcolor": "rgb(51,51,51)",
            "ticks": "outside",
            "zerolinecolor": "white"
           }
          },
          "shapedefaults": {
           "fillcolor": "black",
           "line": {
            "width": 0
           },
           "opacity": 0.3
          },
          "ternary": {
           "aaxis": {
            "gridcolor": "white",
            "linecolor": "white",
            "showgrid": true,
            "tickcolor": "rgb(51,51,51)",
            "ticks": "outside"
           },
           "baxis": {
            "gridcolor": "white",
            "linecolor": "white",
            "showgrid": true,
            "tickcolor": "rgb(51,51,51)",
            "ticks": "outside"
           },
           "bgcolor": "rgb(237,237,237)",
           "caxis": {
            "gridcolor": "white",
            "linecolor": "white",
            "showgrid": true,
            "tickcolor": "rgb(51,51,51)",
            "ticks": "outside"
           }
          },
          "xaxis": {
           "automargin": true,
           "gridcolor": "white",
           "linecolor": "white",
           "showgrid": true,
           "tickcolor": "rgb(51,51,51)",
           "ticks": "outside",
           "title": {
            "standoff": 15
           },
           "zerolinecolor": "white"
          },
          "yaxis": {
           "automargin": true,
           "gridcolor": "white",
           "linecolor": "white",
           "showgrid": true,
           "tickcolor": "rgb(51,51,51)",
           "ticks": "outside",
           "title": {
            "standoff": 15
           },
           "zerolinecolor": "white"
          }
         }
        },
        "title": {
         "text": "Actual vs. Forecast (Out-of-Sample)"
        },
        "xaxis": {
         "anchor": "y",
         "domain": [
          0,
          1
         ]
        },
        "yaxis": {
         "anchor": "x",
         "domain": [
          0,
          1
         ]
        }
       }
      }
     },
     "metadata": {},
     "output_type": "display_data"
    },
    {
     "data": {
      "text/html": [
       "<style type=\"text/css\">\n",
       "</style>\n",
       "<table id=\"T_14c43\">\n",
       "  <thead>\n",
       "    <tr>\n",
       "      <th class=\"blank level0\" >&nbsp;</th>\n",
       "      <th id=\"T_14c43_level0_col0\" class=\"col_heading level0 col0\" >Model</th>\n",
       "      <th id=\"T_14c43_level0_col1\" class=\"col_heading level0 col1\" >MASE</th>\n",
       "      <th id=\"T_14c43_level0_col2\" class=\"col_heading level0 col2\" >RMSSE</th>\n",
       "      <th id=\"T_14c43_level0_col3\" class=\"col_heading level0 col3\" >MAE</th>\n",
       "      <th id=\"T_14c43_level0_col4\" class=\"col_heading level0 col4\" >RMSE</th>\n",
       "      <th id=\"T_14c43_level0_col5\" class=\"col_heading level0 col5\" >MAPE</th>\n",
       "      <th id=\"T_14c43_level0_col6\" class=\"col_heading level0 col6\" >SMAPE</th>\n",
       "      <th id=\"T_14c43_level0_col7\" class=\"col_heading level0 col7\" >R2</th>\n",
       "    </tr>\n",
       "  </thead>\n",
       "  <tbody>\n",
       "    <tr>\n",
       "      <th id=\"T_14c43_level0_row0\" class=\"row_heading level0 row0\" >0</th>\n",
       "      <td id=\"T_14c43_row0_col0\" class=\"data row0 col0\" >BayesianRidge</td>\n",
       "      <td id=\"T_14c43_row0_col1\" class=\"data row0 col1\" >0.8932</td>\n",
       "      <td id=\"T_14c43_row0_col2\" class=\"data row0 col2\" >0.7509</td>\n",
       "      <td id=\"T_14c43_row0_col3\" class=\"data row0 col3\" >1783304.1642</td>\n",
       "      <td id=\"T_14c43_row0_col4\" class=\"data row0 col4\" >1970141.9954</td>\n",
       "      <td id=\"T_14c43_row0_col5\" class=\"data row0 col5\" >0.2388</td>\n",
       "      <td id=\"T_14c43_row0_col6\" class=\"data row0 col6\" >0.2271</td>\n",
       "      <td id=\"T_14c43_row0_col7\" class=\"data row0 col7\" >0.5686</td>\n",
       "    </tr>\n",
       "  </tbody>\n",
       "</table>\n"
      ],
      "text/plain": [
       "<pandas.io.formats.style.Styler at 0x1a6c97b8eb0>"
      ]
     },
     "metadata": {},
     "output_type": "display_data"
    },
    {
     "name": "stderr",
     "output_type": "stream",
     "text": [
      " 79%|███████▊  | 11/14 [03:15<00:51, 17.24s/it]"
     ]
    },
    {
     "data": {
      "text/html": [
       "<style type=\"text/css\">\n",
       "#T_8f842_row28_col1, #T_8f842_row31_col1 {\n",
       "  background-color: lightgreen;\n",
       "}\n",
       "</style>\n",
       "<table id=\"T_8f842\">\n",
       "  <thead>\n",
       "    <tr>\n",
       "      <th class=\"blank level0\" >&nbsp;</th>\n",
       "      <th id=\"T_8f842_level0_col0\" class=\"col_heading level0 col0\" >Description</th>\n",
       "      <th id=\"T_8f842_level0_col1\" class=\"col_heading level0 col1\" >Value</th>\n",
       "    </tr>\n",
       "  </thead>\n",
       "  <tbody>\n",
       "    <tr>\n",
       "      <th id=\"T_8f842_level0_row0\" class=\"row_heading level0 row0\" >0</th>\n",
       "      <td id=\"T_8f842_row0_col0\" class=\"data row0 col0\" >session_id</td>\n",
       "      <td id=\"T_8f842_row0_col1\" class=\"data row0 col1\" >123</td>\n",
       "    </tr>\n",
       "    <tr>\n",
       "      <th id=\"T_8f842_level0_row1\" class=\"row_heading level0 row1\" >1</th>\n",
       "      <td id=\"T_8f842_row1_col0\" class=\"data row1 col0\" >Target</td>\n",
       "      <td id=\"T_8f842_row1_col1\" class=\"data row1 col1\" >NET_SALES</td>\n",
       "    </tr>\n",
       "    <tr>\n",
       "      <th id=\"T_8f842_level0_row2\" class=\"row_heading level0 row2\" >2</th>\n",
       "      <td id=\"T_8f842_row2_col0\" class=\"data row2 col0\" >Approach</td>\n",
       "      <td id=\"T_8f842_row2_col1\" class=\"data row2 col1\" >Univariate</td>\n",
       "    </tr>\n",
       "    <tr>\n",
       "      <th id=\"T_8f842_level0_row3\" class=\"row_heading level0 row3\" >3</th>\n",
       "      <td id=\"T_8f842_row3_col0\" class=\"data row3 col0\" >Exogenous Variables</td>\n",
       "      <td id=\"T_8f842_row3_col1\" class=\"data row3 col1\" >Not Present</td>\n",
       "    </tr>\n",
       "    <tr>\n",
       "      <th id=\"T_8f842_level0_row4\" class=\"row_heading level0 row4\" >4</th>\n",
       "      <td id=\"T_8f842_row4_col0\" class=\"data row4 col0\" >Original data shape</td>\n",
       "      <td id=\"T_8f842_row4_col1\" class=\"data row4 col1\" >(51, 1)</td>\n",
       "    </tr>\n",
       "    <tr>\n",
       "      <th id=\"T_8f842_level0_row5\" class=\"row_heading level0 row5\" >5</th>\n",
       "      <td id=\"T_8f842_row5_col0\" class=\"data row5 col0\" >Transformed data shape</td>\n",
       "      <td id=\"T_8f842_row5_col1\" class=\"data row5 col1\" >(51, 1)</td>\n",
       "    </tr>\n",
       "    <tr>\n",
       "      <th id=\"T_8f842_level0_row6\" class=\"row_heading level0 row6\" >6</th>\n",
       "      <td id=\"T_8f842_row6_col0\" class=\"data row6 col0\" >Transformed train set shape</td>\n",
       "      <td id=\"T_8f842_row6_col1\" class=\"data row6 col1\" >(39, 1)</td>\n",
       "    </tr>\n",
       "    <tr>\n",
       "      <th id=\"T_8f842_level0_row7\" class=\"row_heading level0 row7\" >7</th>\n",
       "      <td id=\"T_8f842_row7_col0\" class=\"data row7 col0\" >Transformed test set shape</td>\n",
       "      <td id=\"T_8f842_row7_col1\" class=\"data row7 col1\" >(12, 1)</td>\n",
       "    </tr>\n",
       "    <tr>\n",
       "      <th id=\"T_8f842_level0_row8\" class=\"row_heading level0 row8\" >8</th>\n",
       "      <td id=\"T_8f842_row8_col0\" class=\"data row8 col0\" >Rows with missing values</td>\n",
       "      <td id=\"T_8f842_row8_col1\" class=\"data row8 col1\" >2.0%</td>\n",
       "    </tr>\n",
       "    <tr>\n",
       "      <th id=\"T_8f842_level0_row9\" class=\"row_heading level0 row9\" >9</th>\n",
       "      <td id=\"T_8f842_row9_col0\" class=\"data row9 col0\" >Fold Generator</td>\n",
       "      <td id=\"T_8f842_row9_col1\" class=\"data row9 col1\" >ExpandingWindowSplitter</td>\n",
       "    </tr>\n",
       "    <tr>\n",
       "      <th id=\"T_8f842_level0_row10\" class=\"row_heading level0 row10\" >10</th>\n",
       "      <td id=\"T_8f842_row10_col0\" class=\"data row10 col0\" >Fold Number</td>\n",
       "      <td id=\"T_8f842_row10_col1\" class=\"data row10 col1\" >3</td>\n",
       "    </tr>\n",
       "    <tr>\n",
       "      <th id=\"T_8f842_level0_row11\" class=\"row_heading level0 row11\" >11</th>\n",
       "      <td id=\"T_8f842_row11_col0\" class=\"data row11 col0\" >Enforce Prediction Interval</td>\n",
       "      <td id=\"T_8f842_row11_col1\" class=\"data row11 col1\" >False</td>\n",
       "    </tr>\n",
       "    <tr>\n",
       "      <th id=\"T_8f842_level0_row12\" class=\"row_heading level0 row12\" >12</th>\n",
       "      <td id=\"T_8f842_row12_col0\" class=\"data row12 col0\" >Splits used for hyperparameters</td>\n",
       "      <td id=\"T_8f842_row12_col1\" class=\"data row12 col1\" >all</td>\n",
       "    </tr>\n",
       "    <tr>\n",
       "      <th id=\"T_8f842_level0_row13\" class=\"row_heading level0 row13\" >13</th>\n",
       "      <td id=\"T_8f842_row13_col0\" class=\"data row13 col0\" >User Defined Seasonal Period(s)</td>\n",
       "      <td id=\"T_8f842_row13_col1\" class=\"data row13 col1\" >None</td>\n",
       "    </tr>\n",
       "    <tr>\n",
       "      <th id=\"T_8f842_level0_row14\" class=\"row_heading level0 row14\" >14</th>\n",
       "      <td id=\"T_8f842_row14_col0\" class=\"data row14 col0\" >Ignore Seasonality Test</td>\n",
       "      <td id=\"T_8f842_row14_col1\" class=\"data row14 col1\" >False</td>\n",
       "    </tr>\n",
       "    <tr>\n",
       "      <th id=\"T_8f842_level0_row15\" class=\"row_heading level0 row15\" >15</th>\n",
       "      <td id=\"T_8f842_row15_col0\" class=\"data row15 col0\" >Seasonality Detection Algo</td>\n",
       "      <td id=\"T_8f842_row15_col1\" class=\"data row15 col1\" >auto</td>\n",
       "    </tr>\n",
       "    <tr>\n",
       "      <th id=\"T_8f842_level0_row16\" class=\"row_heading level0 row16\" >16</th>\n",
       "      <td id=\"T_8f842_row16_col0\" class=\"data row16 col0\" >Max Period to Consider</td>\n",
       "      <td id=\"T_8f842_row16_col1\" class=\"data row16 col1\" >60</td>\n",
       "    </tr>\n",
       "    <tr>\n",
       "      <th id=\"T_8f842_level0_row17\" class=\"row_heading level0 row17\" >17</th>\n",
       "      <td id=\"T_8f842_row17_col0\" class=\"data row17 col0\" >Seasonal Period(s) Tested</td>\n",
       "      <td id=\"T_8f842_row17_col1\" class=\"data row17 col1\" >[]</td>\n",
       "    </tr>\n",
       "    <tr>\n",
       "      <th id=\"T_8f842_level0_row18\" class=\"row_heading level0 row18\" >18</th>\n",
       "      <td id=\"T_8f842_row18_col0\" class=\"data row18 col0\" >Significant Seasonal Period(s)</td>\n",
       "      <td id=\"T_8f842_row18_col1\" class=\"data row18 col1\" >[1]</td>\n",
       "    </tr>\n",
       "    <tr>\n",
       "      <th id=\"T_8f842_level0_row19\" class=\"row_heading level0 row19\" >19</th>\n",
       "      <td id=\"T_8f842_row19_col0\" class=\"data row19 col0\" >Significant Seasonal Period(s) without Harmonics</td>\n",
       "      <td id=\"T_8f842_row19_col1\" class=\"data row19 col1\" >[1]</td>\n",
       "    </tr>\n",
       "    <tr>\n",
       "      <th id=\"T_8f842_level0_row20\" class=\"row_heading level0 row20\" >20</th>\n",
       "      <td id=\"T_8f842_row20_col0\" class=\"data row20 col0\" >Remove Harmonics</td>\n",
       "      <td id=\"T_8f842_row20_col1\" class=\"data row20 col1\" >False</td>\n",
       "    </tr>\n",
       "    <tr>\n",
       "      <th id=\"T_8f842_level0_row21\" class=\"row_heading level0 row21\" >21</th>\n",
       "      <td id=\"T_8f842_row21_col0\" class=\"data row21 col0\" >Harmonics Order Method</td>\n",
       "      <td id=\"T_8f842_row21_col1\" class=\"data row21 col1\" >harmonic_max</td>\n",
       "    </tr>\n",
       "    <tr>\n",
       "      <th id=\"T_8f842_level0_row22\" class=\"row_heading level0 row22\" >22</th>\n",
       "      <td id=\"T_8f842_row22_col0\" class=\"data row22 col0\" >Num Seasonalities to Use</td>\n",
       "      <td id=\"T_8f842_row22_col1\" class=\"data row22 col1\" >1</td>\n",
       "    </tr>\n",
       "    <tr>\n",
       "      <th id=\"T_8f842_level0_row23\" class=\"row_heading level0 row23\" >23</th>\n",
       "      <td id=\"T_8f842_row23_col0\" class=\"data row23 col0\" >All Seasonalities to Use</td>\n",
       "      <td id=\"T_8f842_row23_col1\" class=\"data row23 col1\" >[1]</td>\n",
       "    </tr>\n",
       "    <tr>\n",
       "      <th id=\"T_8f842_level0_row24\" class=\"row_heading level0 row24\" >24</th>\n",
       "      <td id=\"T_8f842_row24_col0\" class=\"data row24 col0\" >Primary Seasonality</td>\n",
       "      <td id=\"T_8f842_row24_col1\" class=\"data row24 col1\" >1</td>\n",
       "    </tr>\n",
       "    <tr>\n",
       "      <th id=\"T_8f842_level0_row25\" class=\"row_heading level0 row25\" >25</th>\n",
       "      <td id=\"T_8f842_row25_col0\" class=\"data row25 col0\" >Seasonality Present</td>\n",
       "      <td id=\"T_8f842_row25_col1\" class=\"data row25 col1\" >False</td>\n",
       "    </tr>\n",
       "    <tr>\n",
       "      <th id=\"T_8f842_level0_row26\" class=\"row_heading level0 row26\" >26</th>\n",
       "      <td id=\"T_8f842_row26_col0\" class=\"data row26 col0\" >Seasonality Type</td>\n",
       "      <td id=\"T_8f842_row26_col1\" class=\"data row26 col1\" >None</td>\n",
       "    </tr>\n",
       "    <tr>\n",
       "      <th id=\"T_8f842_level0_row27\" class=\"row_heading level0 row27\" >27</th>\n",
       "      <td id=\"T_8f842_row27_col0\" class=\"data row27 col0\" >Target Strictly Positive</td>\n",
       "      <td id=\"T_8f842_row27_col1\" class=\"data row27 col1\" >False</td>\n",
       "    </tr>\n",
       "    <tr>\n",
       "      <th id=\"T_8f842_level0_row28\" class=\"row_heading level0 row28\" >28</th>\n",
       "      <td id=\"T_8f842_row28_col0\" class=\"data row28 col0\" >Target White Noise</td>\n",
       "      <td id=\"T_8f842_row28_col1\" class=\"data row28 col1\" >Yes</td>\n",
       "    </tr>\n",
       "    <tr>\n",
       "      <th id=\"T_8f842_level0_row29\" class=\"row_heading level0 row29\" >29</th>\n",
       "      <td id=\"T_8f842_row29_col0\" class=\"data row29 col0\" >Recommended d</td>\n",
       "      <td id=\"T_8f842_row29_col1\" class=\"data row29 col1\" >0</td>\n",
       "    </tr>\n",
       "    <tr>\n",
       "      <th id=\"T_8f842_level0_row30\" class=\"row_heading level0 row30\" >30</th>\n",
       "      <td id=\"T_8f842_row30_col0\" class=\"data row30 col0\" >Recommended Seasonal D</td>\n",
       "      <td id=\"T_8f842_row30_col1\" class=\"data row30 col1\" >0</td>\n",
       "    </tr>\n",
       "    <tr>\n",
       "      <th id=\"T_8f842_level0_row31\" class=\"row_heading level0 row31\" >31</th>\n",
       "      <td id=\"T_8f842_row31_col0\" class=\"data row31 col0\" >Preprocess</td>\n",
       "      <td id=\"T_8f842_row31_col1\" class=\"data row31 col1\" >True</td>\n",
       "    </tr>\n",
       "    <tr>\n",
       "      <th id=\"T_8f842_level0_row32\" class=\"row_heading level0 row32\" >32</th>\n",
       "      <td id=\"T_8f842_row32_col0\" class=\"data row32 col0\" >Numerical Imputation (Target)</td>\n",
       "      <td id=\"T_8f842_row32_col1\" class=\"data row32 col1\" >mean</td>\n",
       "    </tr>\n",
       "    <tr>\n",
       "      <th id=\"T_8f842_level0_row33\" class=\"row_heading level0 row33\" >33</th>\n",
       "      <td id=\"T_8f842_row33_col0\" class=\"data row33 col0\" >Transformation (Target)</td>\n",
       "      <td id=\"T_8f842_row33_col1\" class=\"data row33 col1\" >None</td>\n",
       "    </tr>\n",
       "    <tr>\n",
       "      <th id=\"T_8f842_level0_row34\" class=\"row_heading level0 row34\" >34</th>\n",
       "      <td id=\"T_8f842_row34_col0\" class=\"data row34 col0\" >Scaling (Target)</td>\n",
       "      <td id=\"T_8f842_row34_col1\" class=\"data row34 col1\" >None</td>\n",
       "    </tr>\n",
       "    <tr>\n",
       "      <th id=\"T_8f842_level0_row35\" class=\"row_heading level0 row35\" >35</th>\n",
       "      <td id=\"T_8f842_row35_col0\" class=\"data row35 col0\" >Feature Engineering (Target) - Reduced Regression</td>\n",
       "      <td id=\"T_8f842_row35_col1\" class=\"data row35 col1\" >False</td>\n",
       "    </tr>\n",
       "    <tr>\n",
       "      <th id=\"T_8f842_level0_row36\" class=\"row_heading level0 row36\" >36</th>\n",
       "      <td id=\"T_8f842_row36_col0\" class=\"data row36 col0\" >CPU Jobs</td>\n",
       "      <td id=\"T_8f842_row36_col1\" class=\"data row36 col1\" >-1</td>\n",
       "    </tr>\n",
       "    <tr>\n",
       "      <th id=\"T_8f842_level0_row37\" class=\"row_heading level0 row37\" >37</th>\n",
       "      <td id=\"T_8f842_row37_col0\" class=\"data row37 col0\" >Use GPU</td>\n",
       "      <td id=\"T_8f842_row37_col1\" class=\"data row37 col1\" >False</td>\n",
       "    </tr>\n",
       "    <tr>\n",
       "      <th id=\"T_8f842_level0_row38\" class=\"row_heading level0 row38\" >38</th>\n",
       "      <td id=\"T_8f842_row38_col0\" class=\"data row38 col0\" >Log Experiment</td>\n",
       "      <td id=\"T_8f842_row38_col1\" class=\"data row38 col1\" >False</td>\n",
       "    </tr>\n",
       "    <tr>\n",
       "      <th id=\"T_8f842_level0_row39\" class=\"row_heading level0 row39\" >39</th>\n",
       "      <td id=\"T_8f842_row39_col0\" class=\"data row39 col0\" >Experiment Name</td>\n",
       "      <td id=\"T_8f842_row39_col1\" class=\"data row39 col1\" >ts-default-name</td>\n",
       "    </tr>\n",
       "    <tr>\n",
       "      <th id=\"T_8f842_level0_row40\" class=\"row_heading level0 row40\" >40</th>\n",
       "      <td id=\"T_8f842_row40_col0\" class=\"data row40 col0\" >USI</td>\n",
       "      <td id=\"T_8f842_row40_col1\" class=\"data row40 col1\" >bbf6</td>\n",
       "    </tr>\n",
       "  </tbody>\n",
       "</table>\n"
      ],
      "text/plain": [
       "<pandas.io.formats.style.Styler at 0x1a6c02381f0>"
      ]
     },
     "metadata": {},
     "output_type": "display_data"
    },
    {
     "data": {
      "text/html": [],
      "text/plain": [
       "<IPython.core.display.HTML object>"
      ]
     },
     "metadata": {},
     "output_type": "display_data"
    },
    {
     "data": {
      "text/html": [
       "<style type=\"text/css\">\n",
       "#T_ef53f th {\n",
       "  text-align: left;\n",
       "}\n",
       "#T_ef53f_row0_col0, #T_ef53f_row1_col0, #T_ef53f_row1_col1, #T_ef53f_row1_col2, #T_ef53f_row1_col3, #T_ef53f_row1_col4, #T_ef53f_row1_col5, #T_ef53f_row1_col6, #T_ef53f_row1_col7, #T_ef53f_row2_col0, #T_ef53f_row2_col1, #T_ef53f_row2_col2, #T_ef53f_row2_col3, #T_ef53f_row2_col4, #T_ef53f_row2_col5, #T_ef53f_row2_col6, #T_ef53f_row2_col7, #T_ef53f_row3_col0, #T_ef53f_row3_col1, #T_ef53f_row3_col2, #T_ef53f_row3_col3, #T_ef53f_row3_col4, #T_ef53f_row3_col5, #T_ef53f_row3_col6, #T_ef53f_row3_col7, #T_ef53f_row4_col0, #T_ef53f_row4_col1, #T_ef53f_row4_col2, #T_ef53f_row4_col3, #T_ef53f_row4_col4, #T_ef53f_row4_col5, #T_ef53f_row4_col6, #T_ef53f_row4_col7, #T_ef53f_row5_col0, #T_ef53f_row5_col1, #T_ef53f_row5_col2, #T_ef53f_row5_col3, #T_ef53f_row5_col4, #T_ef53f_row5_col5, #T_ef53f_row5_col6, #T_ef53f_row5_col7, #T_ef53f_row6_col0, #T_ef53f_row6_col1, #T_ef53f_row6_col2, #T_ef53f_row6_col3, #T_ef53f_row6_col4, #T_ef53f_row6_col5, #T_ef53f_row6_col6, #T_ef53f_row6_col7, #T_ef53f_row7_col0, #T_ef53f_row7_col1, #T_ef53f_row7_col2, #T_ef53f_row7_col3, #T_ef53f_row7_col4, #T_ef53f_row7_col5, #T_ef53f_row7_col6, #T_ef53f_row7_col7, #T_ef53f_row8_col0, #T_ef53f_row8_col1, #T_ef53f_row8_col2, #T_ef53f_row8_col3, #T_ef53f_row8_col4, #T_ef53f_row8_col5, #T_ef53f_row8_col6, #T_ef53f_row8_col7, #T_ef53f_row9_col0, #T_ef53f_row9_col1, #T_ef53f_row9_col2, #T_ef53f_row9_col3, #T_ef53f_row9_col4, #T_ef53f_row9_col5, #T_ef53f_row9_col6, #T_ef53f_row9_col7, #T_ef53f_row10_col0, #T_ef53f_row10_col1, #T_ef53f_row10_col2, #T_ef53f_row10_col3, #T_ef53f_row10_col4, #T_ef53f_row10_col5, #T_ef53f_row10_col6, #T_ef53f_row10_col7, #T_ef53f_row11_col0, #T_ef53f_row11_col1, #T_ef53f_row11_col2, #T_ef53f_row11_col3, #T_ef53f_row11_col4, #T_ef53f_row11_col5, #T_ef53f_row11_col6, #T_ef53f_row11_col7, #T_ef53f_row12_col0, #T_ef53f_row12_col1, #T_ef53f_row12_col2, #T_ef53f_row12_col3, #T_ef53f_row12_col4, #T_ef53f_row12_col5, #T_ef53f_row12_col6, #T_ef53f_row12_col7, #T_ef53f_row13_col0, #T_ef53f_row13_col1, #T_ef53f_row13_col2, #T_ef53f_row13_col3, #T_ef53f_row13_col4, #T_ef53f_row13_col5, #T_ef53f_row13_col6, #T_ef53f_row13_col7, #T_ef53f_row14_col0, #T_ef53f_row14_col1, #T_ef53f_row14_col2, #T_ef53f_row14_col3, #T_ef53f_row14_col4, #T_ef53f_row14_col5, #T_ef53f_row14_col6, #T_ef53f_row14_col7, #T_ef53f_row15_col0, #T_ef53f_row15_col1, #T_ef53f_row15_col2, #T_ef53f_row15_col3, #T_ef53f_row15_col4, #T_ef53f_row15_col5, #T_ef53f_row15_col6, #T_ef53f_row15_col7, #T_ef53f_row16_col0, #T_ef53f_row16_col1, #T_ef53f_row16_col2, #T_ef53f_row16_col3, #T_ef53f_row16_col4, #T_ef53f_row16_col5, #T_ef53f_row16_col6, #T_ef53f_row16_col7, #T_ef53f_row17_col0, #T_ef53f_row17_col1, #T_ef53f_row17_col2, #T_ef53f_row17_col3, #T_ef53f_row17_col4, #T_ef53f_row17_col5, #T_ef53f_row17_col6, #T_ef53f_row17_col7, #T_ef53f_row18_col0, #T_ef53f_row18_col1, #T_ef53f_row18_col2, #T_ef53f_row18_col3, #T_ef53f_row18_col4, #T_ef53f_row18_col5, #T_ef53f_row18_col6, #T_ef53f_row18_col7, #T_ef53f_row19_col0, #T_ef53f_row19_col1, #T_ef53f_row19_col2, #T_ef53f_row19_col3, #T_ef53f_row19_col4, #T_ef53f_row19_col5, #T_ef53f_row19_col6, #T_ef53f_row19_col7, #T_ef53f_row20_col0, #T_ef53f_row20_col1, #T_ef53f_row20_col2, #T_ef53f_row20_col3, #T_ef53f_row20_col4, #T_ef53f_row20_col5, #T_ef53f_row20_col6, #T_ef53f_row20_col7 {\n",
       "  text-align: left;\n",
       "}\n",
       "#T_ef53f_row0_col1, #T_ef53f_row0_col2, #T_ef53f_row0_col3, #T_ef53f_row0_col4, #T_ef53f_row0_col5, #T_ef53f_row0_col6, #T_ef53f_row0_col7 {\n",
       "  text-align: left;\n",
       "  background-color: yellow;\n",
       "}\n",
       "#T_ef53f_row0_col8, #T_ef53f_row1_col8, #T_ef53f_row2_col8, #T_ef53f_row4_col8, #T_ef53f_row5_col8, #T_ef53f_row6_col8, #T_ef53f_row7_col8, #T_ef53f_row8_col8, #T_ef53f_row9_col8, #T_ef53f_row10_col8, #T_ef53f_row11_col8, #T_ef53f_row12_col8, #T_ef53f_row13_col8, #T_ef53f_row14_col8, #T_ef53f_row15_col8, #T_ef53f_row16_col8, #T_ef53f_row17_col8, #T_ef53f_row18_col8, #T_ef53f_row19_col8, #T_ef53f_row20_col8 {\n",
       "  text-align: left;\n",
       "  background-color: lightgrey;\n",
       "}\n",
       "#T_ef53f_row3_col8 {\n",
       "  text-align: left;\n",
       "  background-color: yellow;\n",
       "  background-color: lightgrey;\n",
       "}\n",
       "</style>\n",
       "<table id=\"T_ef53f\">\n",
       "  <thead>\n",
       "    <tr>\n",
       "      <th class=\"blank level0\" >&nbsp;</th>\n",
       "      <th id=\"T_ef53f_level0_col0\" class=\"col_heading level0 col0\" >Model</th>\n",
       "      <th id=\"T_ef53f_level0_col1\" class=\"col_heading level0 col1\" >MASE</th>\n",
       "      <th id=\"T_ef53f_level0_col2\" class=\"col_heading level0 col2\" >RMSSE</th>\n",
       "      <th id=\"T_ef53f_level0_col3\" class=\"col_heading level0 col3\" >MAE</th>\n",
       "      <th id=\"T_ef53f_level0_col4\" class=\"col_heading level0 col4\" >RMSE</th>\n",
       "      <th id=\"T_ef53f_level0_col5\" class=\"col_heading level0 col5\" >MAPE</th>\n",
       "      <th id=\"T_ef53f_level0_col6\" class=\"col_heading level0 col6\" >SMAPE</th>\n",
       "      <th id=\"T_ef53f_level0_col7\" class=\"col_heading level0 col7\" >R2</th>\n",
       "      <th id=\"T_ef53f_level0_col8\" class=\"col_heading level0 col8\" >TT (Sec)</th>\n",
       "    </tr>\n",
       "  </thead>\n",
       "  <tbody>\n",
       "    <tr>\n",
       "      <th id=\"T_ef53f_level0_row0\" class=\"row_heading level0 row0\" >arima</th>\n",
       "      <td id=\"T_ef53f_row0_col0\" class=\"data row0 col0\" >ARIMA</td>\n",
       "      <td id=\"T_ef53f_row0_col1\" class=\"data row0 col1\" >1.1436</td>\n",
       "      <td id=\"T_ef53f_row0_col2\" class=\"data row0 col2\" >0.9963</td>\n",
       "      <td id=\"T_ef53f_row0_col3\" class=\"data row0 col3\" >25300.2059</td>\n",
       "      <td id=\"T_ef53f_row0_col4\" class=\"data row0 col4\" >35286.1421</td>\n",
       "      <td id=\"T_ef53f_row0_col5\" class=\"data row0 col5\" >12.7462</td>\n",
       "      <td id=\"T_ef53f_row0_col6\" class=\"data row0 col6\" >1.0303</td>\n",
       "      <td id=\"T_ef53f_row0_col7\" class=\"data row0 col7\" >-0.4589</td>\n",
       "      <td id=\"T_ef53f_row0_col8\" class=\"data row0 col8\" >0.0567</td>\n",
       "    </tr>\n",
       "    <tr>\n",
       "      <th id=\"T_ef53f_level0_row1\" class=\"row_heading level0 row1\" >auto_arima</th>\n",
       "      <td id=\"T_ef53f_row1_col0\" class=\"data row1 col0\" >Auto ARIMA</td>\n",
       "      <td id=\"T_ef53f_row1_col1\" class=\"data row1 col1\" >1.3374</td>\n",
       "      <td id=\"T_ef53f_row1_col2\" class=\"data row1 col2\" >1.1292</td>\n",
       "      <td id=\"T_ef53f_row1_col3\" class=\"data row1 col3\" >33639.1662</td>\n",
       "      <td id=\"T_ef53f_row1_col4\" class=\"data row1 col4\" >43251.5044</td>\n",
       "      <td id=\"T_ef53f_row1_col5\" class=\"data row1 col5\" >32.5163</td>\n",
       "      <td id=\"T_ef53f_row1_col6\" class=\"data row1 col6\" >1.1309</td>\n",
       "      <td id=\"T_ef53f_row1_col7\" class=\"data row1 col7\" >-4.4522</td>\n",
       "      <td id=\"T_ef53f_row1_col8\" class=\"data row1 col8\" >0.1333</td>\n",
       "    </tr>\n",
       "    <tr>\n",
       "      <th id=\"T_ef53f_level0_row2\" class=\"row_heading level0 row2\" >ets</th>\n",
       "      <td id=\"T_ef53f_row2_col0\" class=\"data row2 col0\" >ETS</td>\n",
       "      <td id=\"T_ef53f_row2_col1\" class=\"data row2 col1\" >2.5892</td>\n",
       "      <td id=\"T_ef53f_row2_col2\" class=\"data row2 col2\" >2.0475</td>\n",
       "      <td id=\"T_ef53f_row2_col3\" class=\"data row2 col3\" >74994.8117</td>\n",
       "      <td id=\"T_ef53f_row2_col4\" class=\"data row2 col4\" >88684.4887</td>\n",
       "      <td id=\"T_ef53f_row2_col5\" class=\"data row2 col5\" >39.5121</td>\n",
       "      <td id=\"T_ef53f_row2_col6\" class=\"data row2 col6\" >1.6286</td>\n",
       "      <td id=\"T_ef53f_row2_col7\" class=\"data row2 col7\" >-74.9515</td>\n",
       "      <td id=\"T_ef53f_row2_col8\" class=\"data row2 col8\" >0.0300</td>\n",
       "    </tr>\n",
       "    <tr>\n",
       "      <th id=\"T_ef53f_level0_row3\" class=\"row_heading level0 row3\" >theta</th>\n",
       "      <td id=\"T_ef53f_row3_col0\" class=\"data row3 col0\" >Theta Forecaster</td>\n",
       "      <td id=\"T_ef53f_row3_col1\" class=\"data row3 col1\" >2.2375</td>\n",
       "      <td id=\"T_ef53f_row3_col2\" class=\"data row3 col2\" >1.8513</td>\n",
       "      <td id=\"T_ef53f_row3_col3\" class=\"data row3 col3\" >70575.2809</td>\n",
       "      <td id=\"T_ef53f_row3_col4\" class=\"data row3 col4\" >85585.3144</td>\n",
       "      <td id=\"T_ef53f_row3_col5\" class=\"data row3 col5\" >41.6883</td>\n",
       "      <td id=\"T_ef53f_row3_col6\" class=\"data row3 col6\" >1.5771</td>\n",
       "      <td id=\"T_ef53f_row3_col7\" class=\"data row3 col7\" >-80.6318</td>\n",
       "      <td id=\"T_ef53f_row3_col8\" class=\"data row3 col8\" >0.0267</td>\n",
       "    </tr>\n",
       "    <tr>\n",
       "      <th id=\"T_ef53f_level0_row4\" class=\"row_heading level0 row4\" >exp_smooth</th>\n",
       "      <td id=\"T_ef53f_row4_col0\" class=\"data row4 col0\" >Exponential Smoothing</td>\n",
       "      <td id=\"T_ef53f_row4_col1\" class=\"data row4 col1\" >2.9568</td>\n",
       "      <td id=\"T_ef53f_row4_col2\" class=\"data row4 col2\" >2.3508</td>\n",
       "      <td id=\"T_ef53f_row4_col3\" class=\"data row4 col3\" >90653.2732</td>\n",
       "      <td id=\"T_ef53f_row4_col4\" class=\"data row4 col4\" >106603.7810</td>\n",
       "      <td id=\"T_ef53f_row4_col5\" class=\"data row4 col5\" >52.9016</td>\n",
       "      <td id=\"T_ef53f_row4_col6\" class=\"data row4 col6\" >1.6354</td>\n",
       "      <td id=\"T_ef53f_row4_col7\" class=\"data row4 col7\" >-134.8732</td>\n",
       "      <td id=\"T_ef53f_row4_col8\" class=\"data row4 col8\" >0.0400</td>\n",
       "    </tr>\n",
       "    <tr>\n",
       "      <th id=\"T_ef53f_level0_row5\" class=\"row_heading level0 row5\" >polytrend</th>\n",
       "      <td id=\"T_ef53f_row5_col0\" class=\"data row5 col0\" >Polynomial Trend Forecaster</td>\n",
       "      <td id=\"T_ef53f_row5_col1\" class=\"data row5 col1\" >3.3663</td>\n",
       "      <td id=\"T_ef53f_row5_col2\" class=\"data row5 col2\" >2.7280</td>\n",
       "      <td id=\"T_ef53f_row5_col3\" class=\"data row5 col3\" >115249.1398</td>\n",
       "      <td id=\"T_ef53f_row5_col4\" class=\"data row5 col4\" >135593.7487</td>\n",
       "      <td id=\"T_ef53f_row5_col5\" class=\"data row5 col5\" >77.4335</td>\n",
       "      <td id=\"T_ef53f_row5_col6\" class=\"data row5 col6\" >1.7330</td>\n",
       "      <td id=\"T_ef53f_row5_col7\" class=\"data row5 col7\" >-287.9826</td>\n",
       "      <td id=\"T_ef53f_row5_col8\" class=\"data row5 col8\" >0.0333</td>\n",
       "    </tr>\n",
       "    <tr>\n",
       "      <th id=\"T_ef53f_level0_row6\" class=\"row_heading level0 row6\" >lightgbm_cds_dt</th>\n",
       "      <td id=\"T_ef53f_row6_col0\" class=\"data row6 col0\" >Light Gradient Boosting w/ Cond. Deseasonalize & Detrending</td>\n",
       "      <td id=\"T_ef53f_row6_col1\" class=\"data row6 col1\" >3.5282</td>\n",
       "      <td id=\"T_ef53f_row6_col2\" class=\"data row6 col2\" >2.8059</td>\n",
       "      <td id=\"T_ef53f_row6_col3\" class=\"data row6 col3\" >119657.4236</td>\n",
       "      <td id=\"T_ef53f_row6_col4\" class=\"data row6 col4\" >139178.2257</td>\n",
       "      <td id=\"T_ef53f_row6_col5\" class=\"data row6 col5\" >82.4026</td>\n",
       "      <td id=\"T_ef53f_row6_col6\" class=\"data row6 col6\" >1.8751</td>\n",
       "      <td id=\"T_ef53f_row6_col7\" class=\"data row6 col7\" >-300.0693</td>\n",
       "      <td id=\"T_ef53f_row6_col8\" class=\"data row6 col8\" >0.2033</td>\n",
       "    </tr>\n",
       "    <tr>\n",
       "      <th id=\"T_ef53f_level0_row7\" class=\"row_heading level0 row7\" >rf_cds_dt</th>\n",
       "      <td id=\"T_ef53f_row7_col0\" class=\"data row7 col0\" >Random Forest w/ Cond. Deseasonalize & Detrending</td>\n",
       "      <td id=\"T_ef53f_row7_col1\" class=\"data row7 col1\" >3.4713</td>\n",
       "      <td id=\"T_ef53f_row7_col2\" class=\"data row7 col2\" >2.7875</td>\n",
       "      <td id=\"T_ef53f_row7_col3\" class=\"data row7 col3\" >119204.1257</td>\n",
       "      <td id=\"T_ef53f_row7_col4\" class=\"data row7 col4\" >139553.5162</td>\n",
       "      <td id=\"T_ef53f_row7_col5\" class=\"data row7 col5\" >82.5079</td>\n",
       "      <td id=\"T_ef53f_row7_col6\" class=\"data row7 col6\" >1.7925</td>\n",
       "      <td id=\"T_ef53f_row7_col7\" class=\"data row7 col7\" >-298.1482</td>\n",
       "      <td id=\"T_ef53f_row7_col8\" class=\"data row7 col8\" >1.2300</td>\n",
       "    </tr>\n",
       "    <tr>\n",
       "      <th id=\"T_ef53f_level0_row8\" class=\"row_heading level0 row8\" >br_cds_dt</th>\n",
       "      <td id=\"T_ef53f_row8_col0\" class=\"data row8 col0\" >Bayesian Ridge w/ Cond. Deseasonalize & Detrending</td>\n",
       "      <td id=\"T_ef53f_row8_col1\" class=\"data row8 col1\" >3.5305</td>\n",
       "      <td id=\"T_ef53f_row8_col2\" class=\"data row8 col2\" >2.8004</td>\n",
       "      <td id=\"T_ef53f_row8_col3\" class=\"data row8 col3\" >119713.7643</td>\n",
       "      <td id=\"T_ef53f_row8_col4\" class=\"data row8 col4\" >138858.7629</td>\n",
       "      <td id=\"T_ef53f_row8_col5\" class=\"data row8 col5\" >84.5627</td>\n",
       "      <td id=\"T_ef53f_row8_col6\" class=\"data row8 col6\" >1.8685</td>\n",
       "      <td id=\"T_ef53f_row8_col7\" class=\"data row8 col7\" >-298.3896</td>\n",
       "      <td id=\"T_ef53f_row8_col8\" class=\"data row8 col8\" >0.0967</td>\n",
       "    </tr>\n",
       "    <tr>\n",
       "      <th id=\"T_ef53f_level0_row9\" class=\"row_heading level0 row9\" >lr_cds_dt</th>\n",
       "      <td id=\"T_ef53f_row9_col0\" class=\"data row9 col0\" >Linear w/ Cond. Deseasonalize & Detrending</td>\n",
       "      <td id=\"T_ef53f_row9_col1\" class=\"data row9 col1\" >3.5621</td>\n",
       "      <td id=\"T_ef53f_row9_col2\" class=\"data row9 col2\" >2.8082</td>\n",
       "      <td id=\"T_ef53f_row9_col3\" class=\"data row9 col3\" >120427.4955</td>\n",
       "      <td id=\"T_ef53f_row9_col4\" class=\"data row9 col4\" >139161.0630</td>\n",
       "      <td id=\"T_ef53f_row9_col5\" class=\"data row9 col5\" >84.8162</td>\n",
       "      <td id=\"T_ef53f_row9_col6\" class=\"data row9 col6\" >1.8523</td>\n",
       "      <td id=\"T_ef53f_row9_col7\" class=\"data row9 col7\" >-298.4164</td>\n",
       "      <td id=\"T_ef53f_row9_col8\" class=\"data row9 col8\" >0.0833</td>\n",
       "    </tr>\n",
       "    <tr>\n",
       "      <th id=\"T_ef53f_level0_row10\" class=\"row_heading level0 row10\" >ridge_cds_dt</th>\n",
       "      <td id=\"T_ef53f_row10_col0\" class=\"data row10 col0\" >Ridge w/ Cond. Deseasonalize & Detrending</td>\n",
       "      <td id=\"T_ef53f_row10_col1\" class=\"data row10 col1\" >3.5621</td>\n",
       "      <td id=\"T_ef53f_row10_col2\" class=\"data row10 col2\" >2.8082</td>\n",
       "      <td id=\"T_ef53f_row10_col3\" class=\"data row10 col3\" >120427.4955</td>\n",
       "      <td id=\"T_ef53f_row10_col4\" class=\"data row10 col4\" >139161.0630</td>\n",
       "      <td id=\"T_ef53f_row10_col5\" class=\"data row10 col5\" >84.8162</td>\n",
       "      <td id=\"T_ef53f_row10_col6\" class=\"data row10 col6\" >1.8523</td>\n",
       "      <td id=\"T_ef53f_row10_col7\" class=\"data row10 col7\" >-298.4164</td>\n",
       "      <td id=\"T_ef53f_row10_col8\" class=\"data row10 col8\" >0.0833</td>\n",
       "    </tr>\n",
       "    <tr>\n",
       "      <th id=\"T_ef53f_level0_row11\" class=\"row_heading level0 row11\" >llar_cds_dt</th>\n",
       "      <td id=\"T_ef53f_row11_col0\" class=\"data row11 col0\" >Lasso Least Angular Regressor w/ Cond. Deseasonalize & Detrending</td>\n",
       "      <td id=\"T_ef53f_row11_col1\" class=\"data row11 col1\" >3.5621</td>\n",
       "      <td id=\"T_ef53f_row11_col2\" class=\"data row11 col2\" >2.8082</td>\n",
       "      <td id=\"T_ef53f_row11_col3\" class=\"data row11 col3\" >120427.4955</td>\n",
       "      <td id=\"T_ef53f_row11_col4\" class=\"data row11 col4\" >139161.0630</td>\n",
       "      <td id=\"T_ef53f_row11_col5\" class=\"data row11 col5\" >84.8162</td>\n",
       "      <td id=\"T_ef53f_row11_col6\" class=\"data row11 col6\" >1.8523</td>\n",
       "      <td id=\"T_ef53f_row11_col7\" class=\"data row11 col7\" >-298.4164</td>\n",
       "      <td id=\"T_ef53f_row11_col8\" class=\"data row11 col8\" >0.1033</td>\n",
       "    </tr>\n",
       "    <tr>\n",
       "      <th id=\"T_ef53f_level0_row12\" class=\"row_heading level0 row12\" >lasso_cds_dt</th>\n",
       "      <td id=\"T_ef53f_row12_col0\" class=\"data row12 col0\" >Lasso w/ Cond. Deseasonalize & Detrending</td>\n",
       "      <td id=\"T_ef53f_row12_col1\" class=\"data row12 col1\" >3.5621</td>\n",
       "      <td id=\"T_ef53f_row12_col2\" class=\"data row12 col2\" >2.8082</td>\n",
       "      <td id=\"T_ef53f_row12_col3\" class=\"data row12 col3\" >120427.4955</td>\n",
       "      <td id=\"T_ef53f_row12_col4\" class=\"data row12 col4\" >139161.0630</td>\n",
       "      <td id=\"T_ef53f_row12_col5\" class=\"data row12 col5\" >84.8162</td>\n",
       "      <td id=\"T_ef53f_row12_col6\" class=\"data row12 col6\" >1.8523</td>\n",
       "      <td id=\"T_ef53f_row12_col7\" class=\"data row12 col7\" >-298.4164</td>\n",
       "      <td id=\"T_ef53f_row12_col8\" class=\"data row12 col8\" >0.0833</td>\n",
       "    </tr>\n",
       "    <tr>\n",
       "      <th id=\"T_ef53f_level0_row13\" class=\"row_heading level0 row13\" >omp_cds_dt</th>\n",
       "      <td id=\"T_ef53f_row13_col0\" class=\"data row13 col0\" >Orthogonal Matching Pursuit w/ Cond. Deseasonalize & Detrending</td>\n",
       "      <td id=\"T_ef53f_row13_col1\" class=\"data row13 col1\" >3.5621</td>\n",
       "      <td id=\"T_ef53f_row13_col2\" class=\"data row13 col2\" >2.8082</td>\n",
       "      <td id=\"T_ef53f_row13_col3\" class=\"data row13 col3\" >120427.4955</td>\n",
       "      <td id=\"T_ef53f_row13_col4\" class=\"data row13 col4\" >139161.0630</td>\n",
       "      <td id=\"T_ef53f_row13_col5\" class=\"data row13 col5\" >84.8162</td>\n",
       "      <td id=\"T_ef53f_row13_col6\" class=\"data row13 col6\" >1.8523</td>\n",
       "      <td id=\"T_ef53f_row13_col7\" class=\"data row13 col7\" >-298.4164</td>\n",
       "      <td id=\"T_ef53f_row13_col8\" class=\"data row13 col8\" >0.0867</td>\n",
       "    </tr>\n",
       "    <tr>\n",
       "      <th id=\"T_ef53f_level0_row14\" class=\"row_heading level0 row14\" >en_cds_dt</th>\n",
       "      <td id=\"T_ef53f_row14_col0\" class=\"data row14 col0\" >Elastic Net w/ Cond. Deseasonalize & Detrending</td>\n",
       "      <td id=\"T_ef53f_row14_col1\" class=\"data row14 col1\" >3.5621</td>\n",
       "      <td id=\"T_ef53f_row14_col2\" class=\"data row14 col2\" >2.8082</td>\n",
       "      <td id=\"T_ef53f_row14_col3\" class=\"data row14 col3\" >120427.4955</td>\n",
       "      <td id=\"T_ef53f_row14_col4\" class=\"data row14 col4\" >139161.0630</td>\n",
       "      <td id=\"T_ef53f_row14_col5\" class=\"data row14 col5\" >84.8162</td>\n",
       "      <td id=\"T_ef53f_row14_col6\" class=\"data row14 col6\" >1.8523</td>\n",
       "      <td id=\"T_ef53f_row14_col7\" class=\"data row14 col7\" >-298.4164</td>\n",
       "      <td id=\"T_ef53f_row14_col8\" class=\"data row14 col8\" >0.0867</td>\n",
       "    </tr>\n",
       "    <tr>\n",
       "      <th id=\"T_ef53f_level0_row15\" class=\"row_heading level0 row15\" >et_cds_dt</th>\n",
       "      <td id=\"T_ef53f_row15_col0\" class=\"data row15 col0\" >Extra Trees w/ Cond. Deseasonalize & Detrending</td>\n",
       "      <td id=\"T_ef53f_row15_col1\" class=\"data row15 col1\" >3.4098</td>\n",
       "      <td id=\"T_ef53f_row15_col2\" class=\"data row15 col2\" >2.7409</td>\n",
       "      <td id=\"T_ef53f_row15_col3\" class=\"data row15 col3\" >117853.3377</td>\n",
       "      <td id=\"T_ef53f_row15_col4\" class=\"data row15 col4\" >137829.6626</td>\n",
       "      <td id=\"T_ef53f_row15_col5\" class=\"data row15 col5\" >84.8645</td>\n",
       "      <td id=\"T_ef53f_row15_col6\" class=\"data row15 col6\" >1.7489</td>\n",
       "      <td id=\"T_ef53f_row15_col7\" class=\"data row15 col7\" >-298.4281</td>\n",
       "      <td id=\"T_ef53f_row15_col8\" class=\"data row15 col8\" >1.2233</td>\n",
       "    </tr>\n",
       "    <tr>\n",
       "      <th id=\"T_ef53f_level0_row16\" class=\"row_heading level0 row16\" >huber_cds_dt</th>\n",
       "      <td id=\"T_ef53f_row16_col0\" class=\"data row16 col0\" >Huber w/ Cond. Deseasonalize & Detrending</td>\n",
       "      <td id=\"T_ef53f_row16_col1\" class=\"data row16 col1\" >3.6254</td>\n",
       "      <td id=\"T_ef53f_row16_col2\" class=\"data row16 col2\" >2.8456</td>\n",
       "      <td id=\"T_ef53f_row16_col3\" class=\"data row16 col3\" >121579.2602</td>\n",
       "      <td id=\"T_ef53f_row16_col4\" class=\"data row16 col4\" >140548.1935</td>\n",
       "      <td id=\"T_ef53f_row16_col5\" class=\"data row16 col5\" >84.9646</td>\n",
       "      <td id=\"T_ef53f_row16_col6\" class=\"data row16 col6\" >1.9195</td>\n",
       "      <td id=\"T_ef53f_row16_col7\" class=\"data row16 col7\" >-298.5358</td>\n",
       "      <td id=\"T_ef53f_row16_col8\" class=\"data row16 col8\" >0.0933</td>\n",
       "    </tr>\n",
       "    <tr>\n",
       "      <th id=\"T_ef53f_level0_row17\" class=\"row_heading level0 row17\" >xgboost_cds_dt</th>\n",
       "      <td id=\"T_ef53f_row17_col0\" class=\"data row17 col0\" >Extreme Gradient Boosting w/ Cond. Deseasonalize & Detrending</td>\n",
       "      <td id=\"T_ef53f_row17_col1\" class=\"data row17 col1\" >3.3521</td>\n",
       "      <td id=\"T_ef53f_row17_col2\" class=\"data row17 col2\" >2.7043</td>\n",
       "      <td id=\"T_ef53f_row17_col3\" class=\"data row17 col3\" >116855.5886</td>\n",
       "      <td id=\"T_ef53f_row17_col4\" class=\"data row17 col4\" >136862.2863</td>\n",
       "      <td id=\"T_ef53f_row17_col5\" class=\"data row17 col5\" >85.3595</td>\n",
       "      <td id=\"T_ef53f_row17_col6\" class=\"data row17 col6\" >1.6441</td>\n",
       "      <td id=\"T_ef53f_row17_col7\" class=\"data row17 col7\" >-298.3913</td>\n",
       "      <td id=\"T_ef53f_row17_col8\" class=\"data row17 col8\" >1.1500</td>\n",
       "    </tr>\n",
       "    <tr>\n",
       "      <th id=\"T_ef53f_level0_row18\" class=\"row_heading level0 row18\" >dt_cds_dt</th>\n",
       "      <td id=\"T_ef53f_row18_col0\" class=\"data row18 col0\" >Decision Tree w/ Cond. Deseasonalize & Detrending</td>\n",
       "      <td id=\"T_ef53f_row18_col1\" class=\"data row18 col1\" >3.3521</td>\n",
       "      <td id=\"T_ef53f_row18_col2\" class=\"data row18 col2\" >2.7043</td>\n",
       "      <td id=\"T_ef53f_row18_col3\" class=\"data row18 col3\" >116856.2782</td>\n",
       "      <td id=\"T_ef53f_row18_col4\" class=\"data row18 col4\" >136862.9859</td>\n",
       "      <td id=\"T_ef53f_row18_col5\" class=\"data row18 col5\" >85.3596</td>\n",
       "      <td id=\"T_ef53f_row18_col6\" class=\"data row18 col6\" >1.6441</td>\n",
       "      <td id=\"T_ef53f_row18_col7\" class=\"data row18 col7\" >-298.3914</td>\n",
       "      <td id=\"T_ef53f_row18_col8\" class=\"data row18 col8\" >1.3367</td>\n",
       "    </tr>\n",
       "    <tr>\n",
       "      <th id=\"T_ef53f_level0_row19\" class=\"row_heading level0 row19\" >ada_cds_dt</th>\n",
       "      <td id=\"T_ef53f_row19_col0\" class=\"data row19 col0\" >AdaBoost w/ Cond. Deseasonalize & Detrending</td>\n",
       "      <td id=\"T_ef53f_row19_col1\" class=\"data row19 col1\" >3.3470</td>\n",
       "      <td id=\"T_ef53f_row19_col2\" class=\"data row19 col2\" >2.7176</td>\n",
       "      <td id=\"T_ef53f_row19_col3\" class=\"data row19 col3\" >116546.6266</td>\n",
       "      <td id=\"T_ef53f_row19_col4\" class=\"data row19 col4\" >136747.1952</td>\n",
       "      <td id=\"T_ef53f_row19_col5\" class=\"data row19 col5\" >85.3940</td>\n",
       "      <td id=\"T_ef53f_row19_col6\" class=\"data row19 col6\" >1.6785</td>\n",
       "      <td id=\"T_ef53f_row19_col7\" class=\"data row19 col7\" >-298.3131</td>\n",
       "      <td id=\"T_ef53f_row19_col8\" class=\"data row19 col8\" >1.1200</td>\n",
       "    </tr>\n",
       "    <tr>\n",
       "      <th id=\"T_ef53f_level0_row20\" class=\"row_heading level0 row20\" >gbr_cds_dt</th>\n",
       "      <td id=\"T_ef53f_row20_col0\" class=\"data row20 col0\" >Gradient Boosting w/ Cond. Deseasonalize & Detrending</td>\n",
       "      <td id=\"T_ef53f_row20_col1\" class=\"data row20 col1\" >3.4317</td>\n",
       "      <td id=\"T_ef53f_row20_col2\" class=\"data row20 col2\" >2.7357</td>\n",
       "      <td id=\"T_ef53f_row20_col3\" class=\"data row20 col3\" >118821.4064</td>\n",
       "      <td id=\"T_ef53f_row20_col4\" class=\"data row20 col4\" >138449.8922</td>\n",
       "      <td id=\"T_ef53f_row20_col5\" class=\"data row20 col5\" >85.4787</td>\n",
       "      <td id=\"T_ef53f_row20_col6\" class=\"data row20 col6\" >1.7620</td>\n",
       "      <td id=\"T_ef53f_row20_col7\" class=\"data row20 col7\" >-298.5857</td>\n",
       "      <td id=\"T_ef53f_row20_col8\" class=\"data row20 col8\" >1.1033</td>\n",
       "    </tr>\n",
       "  </tbody>\n",
       "</table>\n"
      ],
      "text/plain": [
       "<pandas.io.formats.style.Styler at 0x1a6bd247c70>"
      ]
     },
     "metadata": {},
     "output_type": "display_data"
    },
    {
     "data": {
      "text/html": [],
      "text/plain": [
       "<IPython.core.display.HTML object>"
      ]
     },
     "metadata": {},
     "output_type": "display_data"
    },
    {
     "data": {
      "application/vnd.plotly.v1+json": {
       "config": {
        "plotlyServerURL": "https://plot.ly"
       },
       "data": [
        {
         "line": {
          "color": "#1f77b4"
         },
         "marker": {
          "size": 5
         },
         "mode": "lines+markers",
         "name": "Forecast | ARIMA",
         "showlegend": true,
         "type": "scatter",
         "x": [
          "2022-01-01T00:00:00",
          "2022-02-01T00:00:00",
          "2022-03-01T00:00:00",
          "2022-04-01T00:00:00",
          "2022-05-01T00:00:00",
          "2022-06-01T00:00:00",
          "2022-07-01T00:00:00",
          "2022-08-01T00:00:00",
          "2022-09-01T00:00:00",
          "2022-10-01T00:00:00",
          "2022-11-01T00:00:00",
          "2022-12-01T00:00:00"
         ],
         "y": [
          24744.7016,
          21660.9182,
          21516.4523,
          21509.6845,
          21509.3674,
          21509.3526,
          21509.3519,
          21509.3519,
          21509.3519,
          21509.3519,
          21509.3519,
          21509.3519
         ]
        },
        {
         "line": {
          "width": 0
         },
         "marker": {
          "color": "#68BBE3"
         },
         "mode": "lines",
         "name": "Lower Interval",
         "showlegend": false,
         "type": "scatter",
         "x": [
          "2022-01-01T00:00:00",
          "2022-02-01T00:00:00",
          "2022-03-01T00:00:00",
          "2022-04-01T00:00:00",
          "2022-05-01T00:00:00",
          "2022-06-01T00:00:00",
          "2022-07-01T00:00:00",
          "2022-08-01T00:00:00",
          "2022-09-01T00:00:00",
          "2022-10-01T00:00:00",
          "2022-11-01T00:00:00",
          "2022-12-01T00:00:00"
         ],
         "y": [
          -33998.8637,
          -37147.0722,
          -37291.6795,
          -37298.4476,
          -37298.7646,
          -37298.7795,
          -37298.7802,
          -37298.7802,
          -37298.7802,
          -37298.7802,
          -37298.7802,
          -37298.7802
         ]
        },
        {
         "fill": "tonexty",
         "fillcolor": "rgba(104,187,227,0.5)",
         "line": {
          "width": 0
         },
         "marker": {
          "color": "#68BBE3"
         },
         "mode": "lines",
         "name": "Prediction Interval | ARIMA",
         "showlegend": true,
         "type": "scatter",
         "x": [
          "2022-01-01T00:00:00",
          "2022-02-01T00:00:00",
          "2022-03-01T00:00:00",
          "2022-04-01T00:00:00",
          "2022-05-01T00:00:00",
          "2022-06-01T00:00:00",
          "2022-07-01T00:00:00",
          "2022-08-01T00:00:00",
          "2022-09-01T00:00:00",
          "2022-10-01T00:00:00",
          "2022-11-01T00:00:00",
          "2022-12-01T00:00:00"
         ],
         "y": [
          83488.2668,
          80468.9086,
          80324.584,
          80317.8165,
          80317.4995,
          80317.4846,
          80317.4839,
          80317.4839,
          80317.4839,
          80317.4839,
          80317.4839,
          80317.4839
         ]
        },
        {
         "marker": {
          "color": "#3f3f3f",
          "size": 5
         },
         "mode": "lines+markers",
         "name": "Original",
         "showlegend": true,
         "type": "scatter",
         "x": [
          "2018-10-01T00:00:00",
          "2018-11-01T00:00:00",
          "2018-12-01T00:00:00",
          "2019-01-01T00:00:00",
          "2019-02-01T00:00:00",
          "2019-03-01T00:00:00",
          "2019-04-01T00:00:00",
          "2019-05-01T00:00:00",
          "2019-06-01T00:00:00",
          "2019-07-01T00:00:00",
          "2019-08-01T00:00:00",
          "2019-09-01T00:00:00",
          "2019-10-01T00:00:00",
          "2019-11-01T00:00:00",
          "2019-12-01T00:00:00",
          "2020-01-01T00:00:00",
          "2020-02-01T00:00:00",
          "2020-03-01T00:00:00",
          "2020-04-01T00:00:00",
          "2020-05-01T00:00:00",
          "2020-06-01T00:00:00",
          "2020-07-01T00:00:00",
          "2020-08-01T00:00:00",
          "2020-09-01T00:00:00",
          "2020-10-01T00:00:00",
          "2020-11-01T00:00:00",
          "2020-12-01T00:00:00",
          "2021-01-01T00:00:00",
          "2021-02-01T00:00:00",
          "2021-03-01T00:00:00",
          "2021-04-01T00:00:00",
          "2021-05-01T00:00:00",
          "2021-06-01T00:00:00",
          "2021-07-01T00:00:00",
          "2021-08-01T00:00:00",
          "2021-09-01T00:00:00",
          "2021-10-01T00:00:00",
          "2021-11-01T00:00:00",
          "2021-12-01T00:00:00",
          "2022-01-01T00:00:00",
          "2022-02-01T00:00:00",
          "2022-03-01T00:00:00",
          "2022-04-01T00:00:00",
          "2022-05-01T00:00:00",
          "2022-06-01T00:00:00",
          "2022-07-01T00:00:00",
          "2022-08-01T00:00:00",
          "2022-09-01T00:00:00",
          "2022-10-01T00:00:00",
          "2022-11-01T00:00:00",
          "2022-12-01T00:00:00"
         ],
         "y": [
          103228.19114817186,
          19609.01910497516,
          21662.432031636326,
          10917.917663223161,
          110.39062908539393,
          110.1648036238018,
          null,
          339.44302732269483,
          9254.460935458625,
          1189.7987115038388,
          20763.416041546327,
          9908.782749594986,
          28445.43473512559,
          27473.087324297776,
          4919.903384112011,
          6935.081118215906,
          420.94808390952966,
          3531.8306052725375,
          10647.764419034775,
          30145.12469458286,
          1374.3462275854401,
          20856.638695548594,
          25018.602981276144,
          51940.49181006181,
          50428.58751780681,
          100505.13060318341,
          -131606.66566799057,
          -5414.364504776253,
          2069.7301498627567,
          66151.19819646978,
          49516.8245017016,
          25018.84331337304,
          17602.00703340886,
          3817.947785689056,
          58626.08360614466,
          68719.91793384096,
          29762.541859897734,
          37482.068143100354,
          90571.42639579847,
          -9139.935283939216,
          177.13213718794233,
          4753.975411851485,
          737.8646253021793,
          25433.041007299777,
          63138.430800715825,
          29452.66371637406,
          -947.6727272727244,
          16702.2015388433,
          39532.492435890905,
          620.6630951177649,
          64822.65195670236
         ]
        }
       ],
       "layout": {
        "showlegend": true,
        "template": {
         "data": {
          "bar": [
           {
            "error_x": {
             "color": "rgb(51,51,51)"
            },
            "error_y": {
             "color": "rgb(51,51,51)"
            },
            "marker": {
             "line": {
              "color": "rgb(237,237,237)",
              "width": 0.5
             },
             "pattern": {
              "fillmode": "overlay",
              "size": 10,
              "solidity": 0.2
             }
            },
            "type": "bar"
           }
          ],
          "barpolar": [
           {
            "marker": {
             "line": {
              "color": "rgb(237,237,237)",
              "width": 0.5
             },
             "pattern": {
              "fillmode": "overlay",
              "size": 10,
              "solidity": 0.2
             }
            },
            "type": "barpolar"
           }
          ],
          "carpet": [
           {
            "aaxis": {
             "endlinecolor": "rgb(51,51,51)",
             "gridcolor": "white",
             "linecolor": "white",
             "minorgridcolor": "white",
             "startlinecolor": "rgb(51,51,51)"
            },
            "baxis": {
             "endlinecolor": "rgb(51,51,51)",
             "gridcolor": "white",
             "linecolor": "white",
             "minorgridcolor": "white",
             "startlinecolor": "rgb(51,51,51)"
            },
            "type": "carpet"
           }
          ],
          "choropleth": [
           {
            "colorbar": {
             "outlinewidth": 0,
             "tickcolor": "rgb(237,237,237)",
             "ticklen": 6,
             "ticks": "inside"
            },
            "type": "choropleth"
           }
          ],
          "contour": [
           {
            "colorbar": {
             "outlinewidth": 0,
             "tickcolor": "rgb(237,237,237)",
             "ticklen": 6,
             "ticks": "inside"
            },
            "colorscale": [
             [
              0,
              "rgb(20,44,66)"
             ],
             [
              1,
              "rgb(90,179,244)"
             ]
            ],
            "type": "contour"
           }
          ],
          "contourcarpet": [
           {
            "colorbar": {
             "outlinewidth": 0,
             "tickcolor": "rgb(237,237,237)",
             "ticklen": 6,
             "ticks": "inside"
            },
            "type": "contourcarpet"
           }
          ],
          "heatmap": [
           {
            "colorbar": {
             "outlinewidth": 0,
             "tickcolor": "rgb(237,237,237)",
             "ticklen": 6,
             "ticks": "inside"
            },
            "colorscale": [
             [
              0,
              "rgb(20,44,66)"
             ],
             [
              1,
              "rgb(90,179,244)"
             ]
            ],
            "type": "heatmap"
           }
          ],
          "heatmapgl": [
           {
            "colorbar": {
             "outlinewidth": 0,
             "tickcolor": "rgb(237,237,237)",
             "ticklen": 6,
             "ticks": "inside"
            },
            "colorscale": [
             [
              0,
              "rgb(20,44,66)"
             ],
             [
              1,
              "rgb(90,179,244)"
             ]
            ],
            "type": "heatmapgl"
           }
          ],
          "histogram": [
           {
            "marker": {
             "pattern": {
              "fillmode": "overlay",
              "size": 10,
              "solidity": 0.2
             }
            },
            "type": "histogram"
           }
          ],
          "histogram2d": [
           {
            "colorbar": {
             "outlinewidth": 0,
             "tickcolor": "rgb(237,237,237)",
             "ticklen": 6,
             "ticks": "inside"
            },
            "colorscale": [
             [
              0,
              "rgb(20,44,66)"
             ],
             [
              1,
              "rgb(90,179,244)"
             ]
            ],
            "type": "histogram2d"
           }
          ],
          "histogram2dcontour": [
           {
            "colorbar": {
             "outlinewidth": 0,
             "tickcolor": "rgb(237,237,237)",
             "ticklen": 6,
             "ticks": "inside"
            },
            "colorscale": [
             [
              0,
              "rgb(20,44,66)"
             ],
             [
              1,
              "rgb(90,179,244)"
             ]
            ],
            "type": "histogram2dcontour"
           }
          ],
          "mesh3d": [
           {
            "colorbar": {
             "outlinewidth": 0,
             "tickcolor": "rgb(237,237,237)",
             "ticklen": 6,
             "ticks": "inside"
            },
            "type": "mesh3d"
           }
          ],
          "parcoords": [
           {
            "line": {
             "colorbar": {
              "outlinewidth": 0,
              "tickcolor": "rgb(237,237,237)",
              "ticklen": 6,
              "ticks": "inside"
             }
            },
            "type": "parcoords"
           }
          ],
          "pie": [
           {
            "automargin": true,
            "type": "pie"
           }
          ],
          "scatter": [
           {
            "fillpattern": {
             "fillmode": "overlay",
             "size": 10,
             "solidity": 0.2
            },
            "type": "scatter"
           }
          ],
          "scatter3d": [
           {
            "line": {
             "colorbar": {
              "outlinewidth": 0,
              "tickcolor": "rgb(237,237,237)",
              "ticklen": 6,
              "ticks": "inside"
             }
            },
            "marker": {
             "colorbar": {
              "outlinewidth": 0,
              "tickcolor": "rgb(237,237,237)",
              "ticklen": 6,
              "ticks": "inside"
             }
            },
            "type": "scatter3d"
           }
          ],
          "scattercarpet": [
           {
            "marker": {
             "colorbar": {
              "outlinewidth": 0,
              "tickcolor": "rgb(237,237,237)",
              "ticklen": 6,
              "ticks": "inside"
             }
            },
            "type": "scattercarpet"
           }
          ],
          "scattergeo": [
           {
            "marker": {
             "colorbar": {
              "outlinewidth": 0,
              "tickcolor": "rgb(237,237,237)",
              "ticklen": 6,
              "ticks": "inside"
             }
            },
            "type": "scattergeo"
           }
          ],
          "scattergl": [
           {
            "marker": {
             "colorbar": {
              "outlinewidth": 0,
              "tickcolor": "rgb(237,237,237)",
              "ticklen": 6,
              "ticks": "inside"
             }
            },
            "type": "scattergl"
           }
          ],
          "scattermapbox": [
           {
            "marker": {
             "colorbar": {
              "outlinewidth": 0,
              "tickcolor": "rgb(237,237,237)",
              "ticklen": 6,
              "ticks": "inside"
             }
            },
            "type": "scattermapbox"
           }
          ],
          "scatterpolar": [
           {
            "marker": {
             "colorbar": {
              "outlinewidth": 0,
              "tickcolor": "rgb(237,237,237)",
              "ticklen": 6,
              "ticks": "inside"
             }
            },
            "type": "scatterpolar"
           }
          ],
          "scatterpolargl": [
           {
            "marker": {
             "colorbar": {
              "outlinewidth": 0,
              "tickcolor": "rgb(237,237,237)",
              "ticklen": 6,
              "ticks": "inside"
             }
            },
            "type": "scatterpolargl"
           }
          ],
          "scatterternary": [
           {
            "marker": {
             "colorbar": {
              "outlinewidth": 0,
              "tickcolor": "rgb(237,237,237)",
              "ticklen": 6,
              "ticks": "inside"
             }
            },
            "type": "scatterternary"
           }
          ],
          "surface": [
           {
            "colorbar": {
             "outlinewidth": 0,
             "tickcolor": "rgb(237,237,237)",
             "ticklen": 6,
             "ticks": "inside"
            },
            "colorscale": [
             [
              0,
              "rgb(20,44,66)"
             ],
             [
              1,
              "rgb(90,179,244)"
             ]
            ],
            "type": "surface"
           }
          ],
          "table": [
           {
            "cells": {
             "fill": {
              "color": "rgb(237,237,237)"
             },
             "line": {
              "color": "white"
             }
            },
            "header": {
             "fill": {
              "color": "rgb(217,217,217)"
             },
             "line": {
              "color": "white"
             }
            },
            "type": "table"
           }
          ]
         },
         "layout": {
          "annotationdefaults": {
           "arrowhead": 0,
           "arrowwidth": 1
          },
          "autotypenumbers": "strict",
          "coloraxis": {
           "colorbar": {
            "outlinewidth": 0,
            "tickcolor": "rgb(237,237,237)",
            "ticklen": 6,
            "ticks": "inside"
           }
          },
          "colorscale": {
           "sequential": [
            [
             0,
             "rgb(20,44,66)"
            ],
            [
             1,
             "rgb(90,179,244)"
            ]
           ],
           "sequentialminus": [
            [
             0,
             "rgb(20,44,66)"
            ],
            [
             1,
             "rgb(90,179,244)"
            ]
           ]
          },
          "colorway": [
           "#F8766D",
           "#A3A500",
           "#00BF7D",
           "#00B0F6",
           "#E76BF3"
          ],
          "font": {
           "color": "rgb(51,51,51)"
          },
          "geo": {
           "bgcolor": "white",
           "lakecolor": "white",
           "landcolor": "rgb(237,237,237)",
           "showlakes": true,
           "showland": true,
           "subunitcolor": "white"
          },
          "hoverlabel": {
           "align": "left"
          },
          "hovermode": "closest",
          "paper_bgcolor": "white",
          "plot_bgcolor": "rgb(237,237,237)",
          "polar": {
           "angularaxis": {
            "gridcolor": "white",
            "linecolor": "white",
            "showgrid": true,
            "tickcolor": "rgb(51,51,51)",
            "ticks": "outside"
           },
           "bgcolor": "rgb(237,237,237)",
           "radialaxis": {
            "gridcolor": "white",
            "linecolor": "white",
            "showgrid": true,
            "tickcolor": "rgb(51,51,51)",
            "ticks": "outside"
           }
          },
          "scene": {
           "xaxis": {
            "backgroundcolor": "rgb(237,237,237)",
            "gridcolor": "white",
            "gridwidth": 2,
            "linecolor": "white",
            "showbackground": true,
            "showgrid": true,
            "tickcolor": "rgb(51,51,51)",
            "ticks": "outside",
            "zerolinecolor": "white"
           },
           "yaxis": {
            "backgroundcolor": "rgb(237,237,237)",
            "gridcolor": "white",
            "gridwidth": 2,
            "linecolor": "white",
            "showbackground": true,
            "showgrid": true,
            "tickcolor": "rgb(51,51,51)",
            "ticks": "outside",
            "zerolinecolor": "white"
           },
           "zaxis": {
            "backgroundcolor": "rgb(237,237,237)",
            "gridcolor": "white",
            "gridwidth": 2,
            "linecolor": "white",
            "showbackground": true,
            "showgrid": true,
            "tickcolor": "rgb(51,51,51)",
            "ticks": "outside",
            "zerolinecolor": "white"
           }
          },
          "shapedefaults": {
           "fillcolor": "black",
           "line": {
            "width": 0
           },
           "opacity": 0.3
          },
          "ternary": {
           "aaxis": {
            "gridcolor": "white",
            "linecolor": "white",
            "showgrid": true,
            "tickcolor": "rgb(51,51,51)",
            "ticks": "outside"
           },
           "baxis": {
            "gridcolor": "white",
            "linecolor": "white",
            "showgrid": true,
            "tickcolor": "rgb(51,51,51)",
            "ticks": "outside"
           },
           "bgcolor": "rgb(237,237,237)",
           "caxis": {
            "gridcolor": "white",
            "linecolor": "white",
            "showgrid": true,
            "tickcolor": "rgb(51,51,51)",
            "ticks": "outside"
           }
          },
          "xaxis": {
           "automargin": true,
           "gridcolor": "white",
           "linecolor": "white",
           "showgrid": true,
           "tickcolor": "rgb(51,51,51)",
           "ticks": "outside",
           "title": {
            "standoff": 15
           },
           "zerolinecolor": "white"
          },
          "yaxis": {
           "automargin": true,
           "gridcolor": "white",
           "linecolor": "white",
           "showgrid": true,
           "tickcolor": "rgb(51,51,51)",
           "ticks": "outside",
           "title": {
            "standoff": 15
           },
           "zerolinecolor": "white"
          }
         }
        },
        "title": {
         "text": "Actual vs. 'Out-of-Sample' Forecast | NET_SALES"
        },
        "xaxis": {
         "title": {
          "text": "Time"
         }
        },
        "yaxis": {
         "title": {
          "text": "Values"
         }
        }
       }
      }
     },
     "metadata": {},
     "output_type": "display_data"
    },
    {
     "data": {
      "text/html": [
       "<style type=\"text/css\">\n",
       "</style>\n",
       "<table id=\"T_776bc\">\n",
       "  <thead>\n",
       "    <tr>\n",
       "      <th class=\"blank level0\" >&nbsp;</th>\n",
       "      <th id=\"T_776bc_level0_col0\" class=\"col_heading level0 col0\" >Model</th>\n",
       "      <th id=\"T_776bc_level0_col1\" class=\"col_heading level0 col1\" >MASE</th>\n",
       "      <th id=\"T_776bc_level0_col2\" class=\"col_heading level0 col2\" >RMSSE</th>\n",
       "      <th id=\"T_776bc_level0_col3\" class=\"col_heading level0 col3\" >MAE</th>\n",
       "      <th id=\"T_776bc_level0_col4\" class=\"col_heading level0 col4\" >RMSE</th>\n",
       "      <th id=\"T_776bc_level0_col5\" class=\"col_heading level0 col5\" >MAPE</th>\n",
       "      <th id=\"T_776bc_level0_col6\" class=\"col_heading level0 col6\" >SMAPE</th>\n",
       "      <th id=\"T_776bc_level0_col7\" class=\"col_heading level0 col7\" >R2</th>\n",
       "    </tr>\n",
       "  </thead>\n",
       "  <tbody>\n",
       "    <tr>\n",
       "      <th id=\"T_776bc_level0_row0\" class=\"row_heading level0 row0\" >0</th>\n",
       "      <td id=\"T_776bc_row0_col0\" class=\"data row0 col0\" >ARIMA</td>\n",
       "      <td id=\"T_776bc_row0_col1\" class=\"data row0 col1\" >0.7586</td>\n",
       "      <td id=\"T_776bc_row0_col2\" class=\"data row0 col2\" >0.4874</td>\n",
       "      <td id=\"T_776bc_row0_col3\" class=\"data row0 col3\" >21324.0073</td>\n",
       "      <td id=\"T_776bc_row0_col4\" class=\"data row0 col4\" >24661.5117</td>\n",
       "      <td id=\"T_776bc_row0_col5\" class=\"data row0 col5\" >18.0433</td>\n",
       "      <td id=\"T_776bc_row0_col6\" class=\"data row0 col6\" >1.1922</td>\n",
       "      <td id=\"T_776bc_row0_col7\" class=\"data row0 col7\" >-0.0368</td>\n",
       "    </tr>\n",
       "  </tbody>\n",
       "</table>\n"
      ],
      "text/plain": [
       "<pandas.io.formats.style.Styler at 0x1a6c00b8d30>"
      ]
     },
     "metadata": {},
     "output_type": "display_data"
    },
    {
     "name": "stderr",
     "output_type": "stream",
     "text": [
      " 86%|████████▌ | 12/14 [03:52<00:46, 23.34s/it]"
     ]
    },
    {
     "data": {
      "text/html": [
       "<style type=\"text/css\">\n",
       "#T_00ce5_row25_col1, #T_00ce5_row31_col1 {\n",
       "  background-color: lightgreen;\n",
       "}\n",
       "</style>\n",
       "<table id=\"T_00ce5\">\n",
       "  <thead>\n",
       "    <tr>\n",
       "      <th class=\"blank level0\" >&nbsp;</th>\n",
       "      <th id=\"T_00ce5_level0_col0\" class=\"col_heading level0 col0\" >Description</th>\n",
       "      <th id=\"T_00ce5_level0_col1\" class=\"col_heading level0 col1\" >Value</th>\n",
       "    </tr>\n",
       "  </thead>\n",
       "  <tbody>\n",
       "    <tr>\n",
       "      <th id=\"T_00ce5_level0_row0\" class=\"row_heading level0 row0\" >0</th>\n",
       "      <td id=\"T_00ce5_row0_col0\" class=\"data row0 col0\" >session_id</td>\n",
       "      <td id=\"T_00ce5_row0_col1\" class=\"data row0 col1\" >123</td>\n",
       "    </tr>\n",
       "    <tr>\n",
       "      <th id=\"T_00ce5_level0_row1\" class=\"row_heading level0 row1\" >1</th>\n",
       "      <td id=\"T_00ce5_row1_col0\" class=\"data row1 col0\" >Target</td>\n",
       "      <td id=\"T_00ce5_row1_col1\" class=\"data row1 col1\" >NET_SALES</td>\n",
       "    </tr>\n",
       "    <tr>\n",
       "      <th id=\"T_00ce5_level0_row2\" class=\"row_heading level0 row2\" >2</th>\n",
       "      <td id=\"T_00ce5_row2_col0\" class=\"data row2 col0\" >Approach</td>\n",
       "      <td id=\"T_00ce5_row2_col1\" class=\"data row2 col1\" >Univariate</td>\n",
       "    </tr>\n",
       "    <tr>\n",
       "      <th id=\"T_00ce5_level0_row3\" class=\"row_heading level0 row3\" >3</th>\n",
       "      <td id=\"T_00ce5_row3_col0\" class=\"data row3 col0\" >Exogenous Variables</td>\n",
       "      <td id=\"T_00ce5_row3_col1\" class=\"data row3 col1\" >Not Present</td>\n",
       "    </tr>\n",
       "    <tr>\n",
       "      <th id=\"T_00ce5_level0_row4\" class=\"row_heading level0 row4\" >4</th>\n",
       "      <td id=\"T_00ce5_row4_col0\" class=\"data row4 col0\" >Original data shape</td>\n",
       "      <td id=\"T_00ce5_row4_col1\" class=\"data row4 col1\" >(84, 1)</td>\n",
       "    </tr>\n",
       "    <tr>\n",
       "      <th id=\"T_00ce5_level0_row5\" class=\"row_heading level0 row5\" >5</th>\n",
       "      <td id=\"T_00ce5_row5_col0\" class=\"data row5 col0\" >Transformed data shape</td>\n",
       "      <td id=\"T_00ce5_row5_col1\" class=\"data row5 col1\" >(84, 1)</td>\n",
       "    </tr>\n",
       "    <tr>\n",
       "      <th id=\"T_00ce5_level0_row6\" class=\"row_heading level0 row6\" >6</th>\n",
       "      <td id=\"T_00ce5_row6_col0\" class=\"data row6 col0\" >Transformed train set shape</td>\n",
       "      <td id=\"T_00ce5_row6_col1\" class=\"data row6 col1\" >(72, 1)</td>\n",
       "    </tr>\n",
       "    <tr>\n",
       "      <th id=\"T_00ce5_level0_row7\" class=\"row_heading level0 row7\" >7</th>\n",
       "      <td id=\"T_00ce5_row7_col0\" class=\"data row7 col0\" >Transformed test set shape</td>\n",
       "      <td id=\"T_00ce5_row7_col1\" class=\"data row7 col1\" >(12, 1)</td>\n",
       "    </tr>\n",
       "    <tr>\n",
       "      <th id=\"T_00ce5_level0_row8\" class=\"row_heading level0 row8\" >8</th>\n",
       "      <td id=\"T_00ce5_row8_col0\" class=\"data row8 col0\" >Rows with missing values</td>\n",
       "      <td id=\"T_00ce5_row8_col1\" class=\"data row8 col1\" >0.0%</td>\n",
       "    </tr>\n",
       "    <tr>\n",
       "      <th id=\"T_00ce5_level0_row9\" class=\"row_heading level0 row9\" >9</th>\n",
       "      <td id=\"T_00ce5_row9_col0\" class=\"data row9 col0\" >Fold Generator</td>\n",
       "      <td id=\"T_00ce5_row9_col1\" class=\"data row9 col1\" >ExpandingWindowSplitter</td>\n",
       "    </tr>\n",
       "    <tr>\n",
       "      <th id=\"T_00ce5_level0_row10\" class=\"row_heading level0 row10\" >10</th>\n",
       "      <td id=\"T_00ce5_row10_col0\" class=\"data row10 col0\" >Fold Number</td>\n",
       "      <td id=\"T_00ce5_row10_col1\" class=\"data row10 col1\" >3</td>\n",
       "    </tr>\n",
       "    <tr>\n",
       "      <th id=\"T_00ce5_level0_row11\" class=\"row_heading level0 row11\" >11</th>\n",
       "      <td id=\"T_00ce5_row11_col0\" class=\"data row11 col0\" >Enforce Prediction Interval</td>\n",
       "      <td id=\"T_00ce5_row11_col1\" class=\"data row11 col1\" >False</td>\n",
       "    </tr>\n",
       "    <tr>\n",
       "      <th id=\"T_00ce5_level0_row12\" class=\"row_heading level0 row12\" >12</th>\n",
       "      <td id=\"T_00ce5_row12_col0\" class=\"data row12 col0\" >Splits used for hyperparameters</td>\n",
       "      <td id=\"T_00ce5_row12_col1\" class=\"data row12 col1\" >all</td>\n",
       "    </tr>\n",
       "    <tr>\n",
       "      <th id=\"T_00ce5_level0_row13\" class=\"row_heading level0 row13\" >13</th>\n",
       "      <td id=\"T_00ce5_row13_col0\" class=\"data row13 col0\" >User Defined Seasonal Period(s)</td>\n",
       "      <td id=\"T_00ce5_row13_col1\" class=\"data row13 col1\" >None</td>\n",
       "    </tr>\n",
       "    <tr>\n",
       "      <th id=\"T_00ce5_level0_row14\" class=\"row_heading level0 row14\" >14</th>\n",
       "      <td id=\"T_00ce5_row14_col0\" class=\"data row14 col0\" >Ignore Seasonality Test</td>\n",
       "      <td id=\"T_00ce5_row14_col1\" class=\"data row14 col1\" >False</td>\n",
       "    </tr>\n",
       "    <tr>\n",
       "      <th id=\"T_00ce5_level0_row15\" class=\"row_heading level0 row15\" >15</th>\n",
       "      <td id=\"T_00ce5_row15_col0\" class=\"data row15 col0\" >Seasonality Detection Algo</td>\n",
       "      <td id=\"T_00ce5_row15_col1\" class=\"data row15 col1\" >auto</td>\n",
       "    </tr>\n",
       "    <tr>\n",
       "      <th id=\"T_00ce5_level0_row16\" class=\"row_heading level0 row16\" >16</th>\n",
       "      <td id=\"T_00ce5_row16_col0\" class=\"data row16 col0\" >Max Period to Consider</td>\n",
       "      <td id=\"T_00ce5_row16_col1\" class=\"data row16 col1\" >60</td>\n",
       "    </tr>\n",
       "    <tr>\n",
       "      <th id=\"T_00ce5_level0_row17\" class=\"row_heading level0 row17\" >17</th>\n",
       "      <td id=\"T_00ce5_row17_col0\" class=\"data row17 col0\" >Seasonal Period(s) Tested</td>\n",
       "      <td id=\"T_00ce5_row17_col1\" class=\"data row17 col1\" >[12, 24]</td>\n",
       "    </tr>\n",
       "    <tr>\n",
       "      <th id=\"T_00ce5_level0_row18\" class=\"row_heading level0 row18\" >18</th>\n",
       "      <td id=\"T_00ce5_row18_col0\" class=\"data row18 col0\" >Significant Seasonal Period(s)</td>\n",
       "      <td id=\"T_00ce5_row18_col1\" class=\"data row18 col1\" >[12, 24]</td>\n",
       "    </tr>\n",
       "    <tr>\n",
       "      <th id=\"T_00ce5_level0_row19\" class=\"row_heading level0 row19\" >19</th>\n",
       "      <td id=\"T_00ce5_row19_col0\" class=\"data row19 col0\" >Significant Seasonal Period(s) without Harmonics</td>\n",
       "      <td id=\"T_00ce5_row19_col1\" class=\"data row19 col1\" >[24]</td>\n",
       "    </tr>\n",
       "    <tr>\n",
       "      <th id=\"T_00ce5_level0_row20\" class=\"row_heading level0 row20\" >20</th>\n",
       "      <td id=\"T_00ce5_row20_col0\" class=\"data row20 col0\" >Remove Harmonics</td>\n",
       "      <td id=\"T_00ce5_row20_col1\" class=\"data row20 col1\" >False</td>\n",
       "    </tr>\n",
       "    <tr>\n",
       "      <th id=\"T_00ce5_level0_row21\" class=\"row_heading level0 row21\" >21</th>\n",
       "      <td id=\"T_00ce5_row21_col0\" class=\"data row21 col0\" >Harmonics Order Method</td>\n",
       "      <td id=\"T_00ce5_row21_col1\" class=\"data row21 col1\" >harmonic_max</td>\n",
       "    </tr>\n",
       "    <tr>\n",
       "      <th id=\"T_00ce5_level0_row22\" class=\"row_heading level0 row22\" >22</th>\n",
       "      <td id=\"T_00ce5_row22_col0\" class=\"data row22 col0\" >Num Seasonalities to Use</td>\n",
       "      <td id=\"T_00ce5_row22_col1\" class=\"data row22 col1\" >1</td>\n",
       "    </tr>\n",
       "    <tr>\n",
       "      <th id=\"T_00ce5_level0_row23\" class=\"row_heading level0 row23\" >23</th>\n",
       "      <td id=\"T_00ce5_row23_col0\" class=\"data row23 col0\" >All Seasonalities to Use</td>\n",
       "      <td id=\"T_00ce5_row23_col1\" class=\"data row23 col1\" >[12]</td>\n",
       "    </tr>\n",
       "    <tr>\n",
       "      <th id=\"T_00ce5_level0_row24\" class=\"row_heading level0 row24\" >24</th>\n",
       "      <td id=\"T_00ce5_row24_col0\" class=\"data row24 col0\" >Primary Seasonality</td>\n",
       "      <td id=\"T_00ce5_row24_col1\" class=\"data row24 col1\" >12</td>\n",
       "    </tr>\n",
       "    <tr>\n",
       "      <th id=\"T_00ce5_level0_row25\" class=\"row_heading level0 row25\" >25</th>\n",
       "      <td id=\"T_00ce5_row25_col0\" class=\"data row25 col0\" >Seasonality Present</td>\n",
       "      <td id=\"T_00ce5_row25_col1\" class=\"data row25 col1\" >True</td>\n",
       "    </tr>\n",
       "    <tr>\n",
       "      <th id=\"T_00ce5_level0_row26\" class=\"row_heading level0 row26\" >26</th>\n",
       "      <td id=\"T_00ce5_row26_col0\" class=\"data row26 col0\" >Seasonality Type</td>\n",
       "      <td id=\"T_00ce5_row26_col1\" class=\"data row26 col1\" >mul</td>\n",
       "    </tr>\n",
       "    <tr>\n",
       "      <th id=\"T_00ce5_level0_row27\" class=\"row_heading level0 row27\" >27</th>\n",
       "      <td id=\"T_00ce5_row27_col0\" class=\"data row27 col0\" >Target Strictly Positive</td>\n",
       "      <td id=\"T_00ce5_row27_col1\" class=\"data row27 col1\" >True</td>\n",
       "    </tr>\n",
       "    <tr>\n",
       "      <th id=\"T_00ce5_level0_row28\" class=\"row_heading level0 row28\" >28</th>\n",
       "      <td id=\"T_00ce5_row28_col0\" class=\"data row28 col0\" >Target White Noise</td>\n",
       "      <td id=\"T_00ce5_row28_col1\" class=\"data row28 col1\" >No</td>\n",
       "    </tr>\n",
       "    <tr>\n",
       "      <th id=\"T_00ce5_level0_row29\" class=\"row_heading level0 row29\" >29</th>\n",
       "      <td id=\"T_00ce5_row29_col0\" class=\"data row29 col0\" >Recommended d</td>\n",
       "      <td id=\"T_00ce5_row29_col1\" class=\"data row29 col1\" >0</td>\n",
       "    </tr>\n",
       "    <tr>\n",
       "      <th id=\"T_00ce5_level0_row30\" class=\"row_heading level0 row30\" >30</th>\n",
       "      <td id=\"T_00ce5_row30_col0\" class=\"data row30 col0\" >Recommended Seasonal D</td>\n",
       "      <td id=\"T_00ce5_row30_col1\" class=\"data row30 col1\" >1</td>\n",
       "    </tr>\n",
       "    <tr>\n",
       "      <th id=\"T_00ce5_level0_row31\" class=\"row_heading level0 row31\" >31</th>\n",
       "      <td id=\"T_00ce5_row31_col0\" class=\"data row31 col0\" >Preprocess</td>\n",
       "      <td id=\"T_00ce5_row31_col1\" class=\"data row31 col1\" >True</td>\n",
       "    </tr>\n",
       "    <tr>\n",
       "      <th id=\"T_00ce5_level0_row32\" class=\"row_heading level0 row32\" >32</th>\n",
       "      <td id=\"T_00ce5_row32_col0\" class=\"data row32 col0\" >Numerical Imputation (Target)</td>\n",
       "      <td id=\"T_00ce5_row32_col1\" class=\"data row32 col1\" >mean</td>\n",
       "    </tr>\n",
       "    <tr>\n",
       "      <th id=\"T_00ce5_level0_row33\" class=\"row_heading level0 row33\" >33</th>\n",
       "      <td id=\"T_00ce5_row33_col0\" class=\"data row33 col0\" >Transformation (Target)</td>\n",
       "      <td id=\"T_00ce5_row33_col1\" class=\"data row33 col1\" >None</td>\n",
       "    </tr>\n",
       "    <tr>\n",
       "      <th id=\"T_00ce5_level0_row34\" class=\"row_heading level0 row34\" >34</th>\n",
       "      <td id=\"T_00ce5_row34_col0\" class=\"data row34 col0\" >Scaling (Target)</td>\n",
       "      <td id=\"T_00ce5_row34_col1\" class=\"data row34 col1\" >None</td>\n",
       "    </tr>\n",
       "    <tr>\n",
       "      <th id=\"T_00ce5_level0_row35\" class=\"row_heading level0 row35\" >35</th>\n",
       "      <td id=\"T_00ce5_row35_col0\" class=\"data row35 col0\" >Feature Engineering (Target) - Reduced Regression</td>\n",
       "      <td id=\"T_00ce5_row35_col1\" class=\"data row35 col1\" >False</td>\n",
       "    </tr>\n",
       "    <tr>\n",
       "      <th id=\"T_00ce5_level0_row36\" class=\"row_heading level0 row36\" >36</th>\n",
       "      <td id=\"T_00ce5_row36_col0\" class=\"data row36 col0\" >CPU Jobs</td>\n",
       "      <td id=\"T_00ce5_row36_col1\" class=\"data row36 col1\" >-1</td>\n",
       "    </tr>\n",
       "    <tr>\n",
       "      <th id=\"T_00ce5_level0_row37\" class=\"row_heading level0 row37\" >37</th>\n",
       "      <td id=\"T_00ce5_row37_col0\" class=\"data row37 col0\" >Use GPU</td>\n",
       "      <td id=\"T_00ce5_row37_col1\" class=\"data row37 col1\" >False</td>\n",
       "    </tr>\n",
       "    <tr>\n",
       "      <th id=\"T_00ce5_level0_row38\" class=\"row_heading level0 row38\" >38</th>\n",
       "      <td id=\"T_00ce5_row38_col0\" class=\"data row38 col0\" >Log Experiment</td>\n",
       "      <td id=\"T_00ce5_row38_col1\" class=\"data row38 col1\" >False</td>\n",
       "    </tr>\n",
       "    <tr>\n",
       "      <th id=\"T_00ce5_level0_row39\" class=\"row_heading level0 row39\" >39</th>\n",
       "      <td id=\"T_00ce5_row39_col0\" class=\"data row39 col0\" >Experiment Name</td>\n",
       "      <td id=\"T_00ce5_row39_col1\" class=\"data row39 col1\" >ts-default-name</td>\n",
       "    </tr>\n",
       "    <tr>\n",
       "      <th id=\"T_00ce5_level0_row40\" class=\"row_heading level0 row40\" >40</th>\n",
       "      <td id=\"T_00ce5_row40_col0\" class=\"data row40 col0\" >USI</td>\n",
       "      <td id=\"T_00ce5_row40_col1\" class=\"data row40 col1\" >0f2c</td>\n",
       "    </tr>\n",
       "  </tbody>\n",
       "</table>\n"
      ],
      "text/plain": [
       "<pandas.io.formats.style.Styler at 0x1a6c23056d0>"
      ]
     },
     "metadata": {},
     "output_type": "display_data"
    },
    {
     "data": {
      "text/html": [],
      "text/plain": [
       "<IPython.core.display.HTML object>"
      ]
     },
     "metadata": {},
     "output_type": "display_data"
    },
    {
     "data": {
      "text/html": [
       "<style type=\"text/css\">\n",
       "#T_d3dce th {\n",
       "  text-align: left;\n",
       "}\n",
       "#T_d3dce_row0_col0, #T_d3dce_row0_col1, #T_d3dce_row0_col2, #T_d3dce_row0_col3, #T_d3dce_row0_col4, #T_d3dce_row0_col6, #T_d3dce_row0_col7, #T_d3dce_row1_col0, #T_d3dce_row1_col1, #T_d3dce_row1_col2, #T_d3dce_row1_col3, #T_d3dce_row1_col4, #T_d3dce_row1_col5, #T_d3dce_row1_col6, #T_d3dce_row1_col7, #T_d3dce_row2_col0, #T_d3dce_row2_col1, #T_d3dce_row2_col3, #T_d3dce_row2_col5, #T_d3dce_row2_col6, #T_d3dce_row3_col0, #T_d3dce_row3_col2, #T_d3dce_row3_col4, #T_d3dce_row3_col5, #T_d3dce_row3_col7, #T_d3dce_row4_col0, #T_d3dce_row4_col1, #T_d3dce_row4_col2, #T_d3dce_row4_col3, #T_d3dce_row4_col4, #T_d3dce_row4_col5, #T_d3dce_row4_col6, #T_d3dce_row4_col7, #T_d3dce_row5_col0, #T_d3dce_row5_col1, #T_d3dce_row5_col2, #T_d3dce_row5_col3, #T_d3dce_row5_col4, #T_d3dce_row5_col5, #T_d3dce_row5_col6, #T_d3dce_row5_col7, #T_d3dce_row6_col0, #T_d3dce_row6_col1, #T_d3dce_row6_col2, #T_d3dce_row6_col3, #T_d3dce_row6_col4, #T_d3dce_row6_col5, #T_d3dce_row6_col6, #T_d3dce_row6_col7, #T_d3dce_row7_col0, #T_d3dce_row7_col1, #T_d3dce_row7_col2, #T_d3dce_row7_col3, #T_d3dce_row7_col4, #T_d3dce_row7_col5, #T_d3dce_row7_col6, #T_d3dce_row7_col7, #T_d3dce_row8_col0, #T_d3dce_row8_col1, #T_d3dce_row8_col2, #T_d3dce_row8_col3, #T_d3dce_row8_col4, #T_d3dce_row8_col5, #T_d3dce_row8_col6, #T_d3dce_row8_col7, #T_d3dce_row9_col0, #T_d3dce_row9_col1, #T_d3dce_row9_col2, #T_d3dce_row9_col3, #T_d3dce_row9_col4, #T_d3dce_row9_col5, #T_d3dce_row9_col6, #T_d3dce_row9_col7, #T_d3dce_row10_col0, #T_d3dce_row10_col1, #T_d3dce_row10_col2, #T_d3dce_row10_col3, #T_d3dce_row10_col4, #T_d3dce_row10_col5, #T_d3dce_row10_col6, #T_d3dce_row10_col7, #T_d3dce_row11_col0, #T_d3dce_row11_col1, #T_d3dce_row11_col2, #T_d3dce_row11_col3, #T_d3dce_row11_col4, #T_d3dce_row11_col5, #T_d3dce_row11_col6, #T_d3dce_row11_col7, #T_d3dce_row12_col0, #T_d3dce_row12_col1, #T_d3dce_row12_col2, #T_d3dce_row12_col3, #T_d3dce_row12_col4, #T_d3dce_row12_col5, #T_d3dce_row12_col6, #T_d3dce_row12_col7, #T_d3dce_row13_col0, #T_d3dce_row13_col1, #T_d3dce_row13_col2, #T_d3dce_row13_col3, #T_d3dce_row13_col4, #T_d3dce_row13_col5, #T_d3dce_row13_col6, #T_d3dce_row13_col7, #T_d3dce_row14_col0, #T_d3dce_row14_col1, #T_d3dce_row14_col2, #T_d3dce_row14_col3, #T_d3dce_row14_col4, #T_d3dce_row14_col5, #T_d3dce_row14_col6, #T_d3dce_row14_col7, #T_d3dce_row15_col0, #T_d3dce_row15_col1, #T_d3dce_row15_col2, #T_d3dce_row15_col3, #T_d3dce_row15_col4, #T_d3dce_row15_col5, #T_d3dce_row15_col6, #T_d3dce_row15_col7, #T_d3dce_row16_col0, #T_d3dce_row16_col1, #T_d3dce_row16_col2, #T_d3dce_row16_col3, #T_d3dce_row16_col4, #T_d3dce_row16_col5, #T_d3dce_row16_col6, #T_d3dce_row16_col7, #T_d3dce_row17_col0, #T_d3dce_row17_col1, #T_d3dce_row17_col2, #T_d3dce_row17_col3, #T_d3dce_row17_col4, #T_d3dce_row17_col5, #T_d3dce_row17_col6, #T_d3dce_row17_col7, #T_d3dce_row18_col0, #T_d3dce_row18_col1, #T_d3dce_row18_col2, #T_d3dce_row18_col3, #T_d3dce_row18_col4, #T_d3dce_row18_col5, #T_d3dce_row18_col6, #T_d3dce_row18_col7, #T_d3dce_row19_col0, #T_d3dce_row19_col1, #T_d3dce_row19_col2, #T_d3dce_row19_col3, #T_d3dce_row19_col4, #T_d3dce_row19_col5, #T_d3dce_row19_col6, #T_d3dce_row19_col7, #T_d3dce_row20_col0, #T_d3dce_row20_col1, #T_d3dce_row20_col2, #T_d3dce_row20_col3, #T_d3dce_row20_col4, #T_d3dce_row20_col5, #T_d3dce_row20_col6, #T_d3dce_row20_col7, #T_d3dce_row21_col0, #T_d3dce_row21_col1, #T_d3dce_row21_col2, #T_d3dce_row21_col3, #T_d3dce_row21_col4, #T_d3dce_row21_col5, #T_d3dce_row21_col6, #T_d3dce_row21_col7, #T_d3dce_row22_col0, #T_d3dce_row22_col1, #T_d3dce_row22_col2, #T_d3dce_row22_col3, #T_d3dce_row22_col4, #T_d3dce_row22_col5, #T_d3dce_row22_col6, #T_d3dce_row22_col7, #T_d3dce_row23_col0, #T_d3dce_row23_col1, #T_d3dce_row23_col2, #T_d3dce_row23_col3, #T_d3dce_row23_col4, #T_d3dce_row23_col5, #T_d3dce_row23_col6, #T_d3dce_row23_col7 {\n",
       "  text-align: left;\n",
       "}\n",
       "#T_d3dce_row0_col5, #T_d3dce_row2_col2, #T_d3dce_row2_col4, #T_d3dce_row2_col7, #T_d3dce_row3_col1, #T_d3dce_row3_col3, #T_d3dce_row3_col6 {\n",
       "  text-align: left;\n",
       "  background-color: yellow;\n",
       "}\n",
       "#T_d3dce_row0_col8, #T_d3dce_row1_col8, #T_d3dce_row2_col8, #T_d3dce_row3_col8, #T_d3dce_row4_col8, #T_d3dce_row5_col8, #T_d3dce_row6_col8, #T_d3dce_row7_col8, #T_d3dce_row8_col8, #T_d3dce_row9_col8, #T_d3dce_row10_col8, #T_d3dce_row11_col8, #T_d3dce_row12_col8, #T_d3dce_row13_col8, #T_d3dce_row14_col8, #T_d3dce_row15_col8, #T_d3dce_row17_col8, #T_d3dce_row18_col8, #T_d3dce_row19_col8, #T_d3dce_row20_col8, #T_d3dce_row21_col8, #T_d3dce_row22_col8, #T_d3dce_row23_col8 {\n",
       "  text-align: left;\n",
       "  background-color: lightgrey;\n",
       "}\n",
       "#T_d3dce_row16_col8 {\n",
       "  text-align: left;\n",
       "  background-color: yellow;\n",
       "  background-color: lightgrey;\n",
       "}\n",
       "</style>\n",
       "<table id=\"T_d3dce\">\n",
       "  <thead>\n",
       "    <tr>\n",
       "      <th class=\"blank level0\" >&nbsp;</th>\n",
       "      <th id=\"T_d3dce_level0_col0\" class=\"col_heading level0 col0\" >Model</th>\n",
       "      <th id=\"T_d3dce_level0_col1\" class=\"col_heading level0 col1\" >MASE</th>\n",
       "      <th id=\"T_d3dce_level0_col2\" class=\"col_heading level0 col2\" >RMSSE</th>\n",
       "      <th id=\"T_d3dce_level0_col3\" class=\"col_heading level0 col3\" >MAE</th>\n",
       "      <th id=\"T_d3dce_level0_col4\" class=\"col_heading level0 col4\" >RMSE</th>\n",
       "      <th id=\"T_d3dce_level0_col5\" class=\"col_heading level0 col5\" >MAPE</th>\n",
       "      <th id=\"T_d3dce_level0_col6\" class=\"col_heading level0 col6\" >SMAPE</th>\n",
       "      <th id=\"T_d3dce_level0_col7\" class=\"col_heading level0 col7\" >R2</th>\n",
       "      <th id=\"T_d3dce_level0_col8\" class=\"col_heading level0 col8\" >TT (Sec)</th>\n",
       "    </tr>\n",
       "  </thead>\n",
       "  <tbody>\n",
       "    <tr>\n",
       "      <th id=\"T_d3dce_level0_row0\" class=\"row_heading level0 row0\" >snaive</th>\n",
       "      <td id=\"T_d3dce_row0_col0\" class=\"data row0 col0\" >Seasonal Naive Forecaster</td>\n",
       "      <td id=\"T_d3dce_row0_col1\" class=\"data row0 col1\" >1.1404</td>\n",
       "      <td id=\"T_d3dce_row0_col2\" class=\"data row0 col2\" >1.1202</td>\n",
       "      <td id=\"T_d3dce_row0_col3\" class=\"data row0 col3\" >235253.2089</td>\n",
       "      <td id=\"T_d3dce_row0_col4\" class=\"data row0 col4\" >285035.5118</td>\n",
       "      <td id=\"T_d3dce_row0_col5\" class=\"data row0 col5\" >33.2292</td>\n",
       "      <td id=\"T_d3dce_row0_col6\" class=\"data row0 col6\" >0.6875</td>\n",
       "      <td id=\"T_d3dce_row0_col7\" class=\"data row0 col7\" >0.2163</td>\n",
       "      <td id=\"T_d3dce_row0_col8\" class=\"data row0 col8\" >0.0467</td>\n",
       "    </tr>\n",
       "    <tr>\n",
       "      <th id=\"T_d3dce_level0_row1\" class=\"row_heading level0 row1\" >arima</th>\n",
       "      <td id=\"T_d3dce_row1_col0\" class=\"data row1 col0\" >ARIMA</td>\n",
       "      <td id=\"T_d3dce_row1_col1\" class=\"data row1 col1\" >1.1772</td>\n",
       "      <td id=\"T_d3dce_row1_col2\" class=\"data row1 col2\" >1.1622</td>\n",
       "      <td id=\"T_d3dce_row1_col3\" class=\"data row1 col3\" >242439.9851</td>\n",
       "      <td id=\"T_d3dce_row1_col4\" class=\"data row1 col4\" >295122.0235</td>\n",
       "      <td id=\"T_d3dce_row1_col5\" class=\"data row1 col5\" >33.2697</td>\n",
       "      <td id=\"T_d3dce_row1_col6\" class=\"data row1 col6\" >0.7555</td>\n",
       "      <td id=\"T_d3dce_row1_col7\" class=\"data row1 col7\" >0.1820</td>\n",
       "      <td id=\"T_d3dce_row1_col8\" class=\"data row1 col8\" >0.0433</td>\n",
       "    </tr>\n",
       "    <tr>\n",
       "      <th id=\"T_d3dce_level0_row2\" class=\"row_heading level0 row2\" >auto_arima</th>\n",
       "      <td id=\"T_d3dce_row2_col0\" class=\"data row2 col0\" >Auto ARIMA</td>\n",
       "      <td id=\"T_d3dce_row2_col1\" class=\"data row2 col1\" >0.9066</td>\n",
       "      <td id=\"T_d3dce_row2_col2\" class=\"data row2 col2\" >0.9055</td>\n",
       "      <td id=\"T_d3dce_row2_col3\" class=\"data row2 col3\" >186977.2438</td>\n",
       "      <td id=\"T_d3dce_row2_col4\" class=\"data row2 col4\" >230448.9618</td>\n",
       "      <td id=\"T_d3dce_row2_col5\" class=\"data row2 col5\" >34.0300</td>\n",
       "      <td id=\"T_d3dce_row2_col6\" class=\"data row2 col6\" >0.5760</td>\n",
       "      <td id=\"T_d3dce_row2_col7\" class=\"data row2 col7\" >0.4860</td>\n",
       "      <td id=\"T_d3dce_row2_col8\" class=\"data row2 col8\" >0.9800</td>\n",
       "    </tr>\n",
       "    <tr>\n",
       "      <th id=\"T_d3dce_level0_row3\" class=\"row_heading level0 row3\" >theta</th>\n",
       "      <td id=\"T_d3dce_row3_col0\" class=\"data row3 col0\" >Theta Forecaster</td>\n",
       "      <td id=\"T_d3dce_row3_col1\" class=\"data row3 col1\" >0.8978</td>\n",
       "      <td id=\"T_d3dce_row3_col2\" class=\"data row3 col2\" >1.0049</td>\n",
       "      <td id=\"T_d3dce_row3_col3\" class=\"data row3 col3\" >184175.3197</td>\n",
       "      <td id=\"T_d3dce_row3_col4\" class=\"data row3 col4\" >253030.9731</td>\n",
       "      <td id=\"T_d3dce_row3_col5\" class=\"data row3 col5\" >35.2769</td>\n",
       "      <td id=\"T_d3dce_row3_col6\" class=\"data row3 col6\" >0.5134</td>\n",
       "      <td id=\"T_d3dce_row3_col7\" class=\"data row3 col7\" >0.4281</td>\n",
       "      <td id=\"T_d3dce_row3_col8\" class=\"data row3 col8\" >0.0300</td>\n",
       "    </tr>\n",
       "    <tr>\n",
       "      <th id=\"T_d3dce_level0_row4\" class=\"row_heading level0 row4\" >dt_cds_dt</th>\n",
       "      <td id=\"T_d3dce_row4_col0\" class=\"data row4 col0\" >Decision Tree w/ Cond. Deseasonalize & Detrending</td>\n",
       "      <td id=\"T_d3dce_row4_col1\" class=\"data row4 col1\" >1.0471</td>\n",
       "      <td id=\"T_d3dce_row4_col2\" class=\"data row4 col2\" >1.0723</td>\n",
       "      <td id=\"T_d3dce_row4_col3\" class=\"data row4 col3\" >215985.6677</td>\n",
       "      <td id=\"T_d3dce_row4_col4\" class=\"data row4 col4\" >272497.7411</td>\n",
       "      <td id=\"T_d3dce_row4_col5\" class=\"data row4 col5\" >36.1851</td>\n",
       "      <td id=\"T_d3dce_row4_col6\" class=\"data row4 col6\" >0.6328</td>\n",
       "      <td id=\"T_d3dce_row4_col7\" class=\"data row4 col7\" >0.2933</td>\n",
       "      <td id=\"T_d3dce_row4_col8\" class=\"data row4 col8\" >0.1133</td>\n",
       "    </tr>\n",
       "    <tr>\n",
       "      <th id=\"T_d3dce_level0_row5\" class=\"row_heading level0 row5\" >ada_cds_dt</th>\n",
       "      <td id=\"T_d3dce_row5_col0\" class=\"data row5 col0\" >AdaBoost w/ Cond. Deseasonalize & Detrending</td>\n",
       "      <td id=\"T_d3dce_row5_col1\" class=\"data row5 col1\" >0.9397</td>\n",
       "      <td id=\"T_d3dce_row5_col2\" class=\"data row5 col2\" >1.0145</td>\n",
       "      <td id=\"T_d3dce_row5_col3\" class=\"data row5 col3\" >193522.4645</td>\n",
       "      <td id=\"T_d3dce_row5_col4\" class=\"data row5 col4\" >256898.6564</td>\n",
       "      <td id=\"T_d3dce_row5_col5\" class=\"data row5 col5\" >39.9866</td>\n",
       "      <td id=\"T_d3dce_row5_col6\" class=\"data row5 col6\" >0.5253</td>\n",
       "      <td id=\"T_d3dce_row5_col7\" class=\"data row5 col7\" >0.3860</td>\n",
       "      <td id=\"T_d3dce_row5_col8\" class=\"data row5 col8\" >0.1467</td>\n",
       "    </tr>\n",
       "    <tr>\n",
       "      <th id=\"T_d3dce_level0_row6\" class=\"row_heading level0 row6\" >omp_cds_dt</th>\n",
       "      <td id=\"T_d3dce_row6_col0\" class=\"data row6 col0\" >Orthogonal Matching Pursuit w/ Cond. Deseasonalize & Detrending</td>\n",
       "      <td id=\"T_d3dce_row6_col1\" class=\"data row6 col1\" >0.9501</td>\n",
       "      <td id=\"T_d3dce_row6_col2\" class=\"data row6 col2\" >1.0233</td>\n",
       "      <td id=\"T_d3dce_row6_col3\" class=\"data row6 col3\" >195396.4318</td>\n",
       "      <td id=\"T_d3dce_row6_col4\" class=\"data row6 col4\" >259125.8505</td>\n",
       "      <td id=\"T_d3dce_row6_col5\" class=\"data row6 col5\" >40.0933</td>\n",
       "      <td id=\"T_d3dce_row6_col6\" class=\"data row6 col6\" >0.5374</td>\n",
       "      <td id=\"T_d3dce_row6_col7\" class=\"data row6 col7\" >0.3697</td>\n",
       "      <td id=\"T_d3dce_row6_col8\" class=\"data row6 col8\" >0.1167</td>\n",
       "    </tr>\n",
       "    <tr>\n",
       "      <th id=\"T_d3dce_level0_row7\" class=\"row_heading level0 row7\" >stlf</th>\n",
       "      <td id=\"T_d3dce_row7_col0\" class=\"data row7 col0\" >STLF</td>\n",
       "      <td id=\"T_d3dce_row7_col1\" class=\"data row7 col1\" >1.2569</td>\n",
       "      <td id=\"T_d3dce_row7_col2\" class=\"data row7 col2\" >1.2160</td>\n",
       "      <td id=\"T_d3dce_row7_col3\" class=\"data row7 col3\" >257577.3311</td>\n",
       "      <td id=\"T_d3dce_row7_col4\" class=\"data row7 col4\" >307365.0046</td>\n",
       "      <td id=\"T_d3dce_row7_col5\" class=\"data row7 col5\" >40.4817</td>\n",
       "      <td id=\"T_d3dce_row7_col6\" class=\"data row7 col6\" >0.7976</td>\n",
       "      <td id=\"T_d3dce_row7_col7\" class=\"data row7 col7\" >0.1341</td>\n",
       "      <td id=\"T_d3dce_row7_col8\" class=\"data row7 col8\" >0.0367</td>\n",
       "    </tr>\n",
       "    <tr>\n",
       "      <th id=\"T_d3dce_level0_row8\" class=\"row_heading level0 row8\" >lightgbm_cds_dt</th>\n",
       "      <td id=\"T_d3dce_row8_col0\" class=\"data row8 col0\" >Light Gradient Boosting w/ Cond. Deseasonalize & Detrending</td>\n",
       "      <td id=\"T_d3dce_row8_col1\" class=\"data row8 col1\" >0.9005</td>\n",
       "      <td id=\"T_d3dce_row8_col2\" class=\"data row8 col2\" >0.9938</td>\n",
       "      <td id=\"T_d3dce_row8_col3\" class=\"data row8 col3\" >185361.9319</td>\n",
       "      <td id=\"T_d3dce_row8_col4\" class=\"data row8 col4\" >251785.5191</td>\n",
       "      <td id=\"T_d3dce_row8_col5\" class=\"data row8 col5\" >40.7671</td>\n",
       "      <td id=\"T_d3dce_row8_col6\" class=\"data row8 col6\" >0.5213</td>\n",
       "      <td id=\"T_d3dce_row8_col7\" class=\"data row8 col7\" >0.4155</td>\n",
       "      <td id=\"T_d3dce_row8_col8\" class=\"data row8 col8\" >0.2533</td>\n",
       "    </tr>\n",
       "    <tr>\n",
       "      <th id=\"T_d3dce_level0_row9\" class=\"row_heading level0 row9\" >br_cds_dt</th>\n",
       "      <td id=\"T_d3dce_row9_col0\" class=\"data row9 col0\" >Bayesian Ridge w/ Cond. Deseasonalize & Detrending</td>\n",
       "      <td id=\"T_d3dce_row9_col1\" class=\"data row9 col1\" >0.9449</td>\n",
       "      <td id=\"T_d3dce_row9_col2\" class=\"data row9 col2\" >1.0071</td>\n",
       "      <td id=\"T_d3dce_row9_col3\" class=\"data row9 col3\" >194806.1775</td>\n",
       "      <td id=\"T_d3dce_row9_col4\" class=\"data row9 col4\" >255258.7798</td>\n",
       "      <td id=\"T_d3dce_row9_col5\" class=\"data row9 col5\" >40.9852</td>\n",
       "      <td id=\"T_d3dce_row9_col6\" class=\"data row9 col6\" >0.5415</td>\n",
       "      <td id=\"T_d3dce_row9_col7\" class=\"data row9 col7\" >0.3966</td>\n",
       "      <td id=\"T_d3dce_row9_col8\" class=\"data row9 col8\" >0.1267</td>\n",
       "    </tr>\n",
       "    <tr>\n",
       "      <th id=\"T_d3dce_level0_row10\" class=\"row_heading level0 row10\" >exp_smooth</th>\n",
       "      <td id=\"T_d3dce_row10_col0\" class=\"data row10 col0\" >Exponential Smoothing</td>\n",
       "      <td id=\"T_d3dce_row10_col1\" class=\"data row10 col1\" >0.9101</td>\n",
       "      <td id=\"T_d3dce_row10_col2\" class=\"data row10 col2\" >1.0355</td>\n",
       "      <td id=\"T_d3dce_row10_col3\" class=\"data row10 col3\" >186669.2270</td>\n",
       "      <td id=\"T_d3dce_row10_col4\" class=\"data row10 col4\" >260770.1424</td>\n",
       "      <td id=\"T_d3dce_row10_col5\" class=\"data row10 col5\" >41.4445</td>\n",
       "      <td id=\"T_d3dce_row10_col6\" class=\"data row10 col6\" >0.5214</td>\n",
       "      <td id=\"T_d3dce_row10_col7\" class=\"data row10 col7\" >0.3919</td>\n",
       "      <td id=\"T_d3dce_row10_col8\" class=\"data row10 col8\" >0.0633</td>\n",
       "    </tr>\n",
       "    <tr>\n",
       "      <th id=\"T_d3dce_level0_row11\" class=\"row_heading level0 row11\" >rf_cds_dt</th>\n",
       "      <td id=\"T_d3dce_row11_col0\" class=\"data row11 col0\" >Random Forest w/ Cond. Deseasonalize & Detrending</td>\n",
       "      <td id=\"T_d3dce_row11_col1\" class=\"data row11 col1\" >0.9701</td>\n",
       "      <td id=\"T_d3dce_row11_col2\" class=\"data row11 col2\" >1.0595</td>\n",
       "      <td id=\"T_d3dce_row11_col3\" class=\"data row11 col3\" >199700.0984</td>\n",
       "      <td id=\"T_d3dce_row11_col4\" class=\"data row11 col4\" >268050.2390</td>\n",
       "      <td id=\"T_d3dce_row11_col5\" class=\"data row11 col5\" >43.5170</td>\n",
       "      <td id=\"T_d3dce_row11_col6\" class=\"data row11 col6\" >0.5331</td>\n",
       "      <td id=\"T_d3dce_row11_col7\" class=\"data row11 col7\" >0.3322</td>\n",
       "      <td id=\"T_d3dce_row11_col8\" class=\"data row11 col8\" >0.2633</td>\n",
       "    </tr>\n",
       "    <tr>\n",
       "      <th id=\"T_d3dce_level0_row12\" class=\"row_heading level0 row12\" >et_cds_dt</th>\n",
       "      <td id=\"T_d3dce_row12_col0\" class=\"data row12 col0\" >Extra Trees w/ Cond. Deseasonalize & Detrending</td>\n",
       "      <td id=\"T_d3dce_row12_col1\" class=\"data row12 col1\" >0.9789</td>\n",
       "      <td id=\"T_d3dce_row12_col2\" class=\"data row12 col2\" >1.0428</td>\n",
       "      <td id=\"T_d3dce_row12_col3\" class=\"data row12 col3\" >201579.7027</td>\n",
       "      <td id=\"T_d3dce_row12_col4\" class=\"data row12 col4\" >264034.9703</td>\n",
       "      <td id=\"T_d3dce_row12_col5\" class=\"data row12 col5\" >43.8171</td>\n",
       "      <td id=\"T_d3dce_row12_col6\" class=\"data row12 col6\" >0.5484</td>\n",
       "      <td id=\"T_d3dce_row12_col7\" class=\"data row12 col7\" >0.3504</td>\n",
       "      <td id=\"T_d3dce_row12_col8\" class=\"data row12 col8\" >0.2567</td>\n",
       "    </tr>\n",
       "    <tr>\n",
       "      <th id=\"T_d3dce_level0_row13\" class=\"row_heading level0 row13\" >knn_cds_dt</th>\n",
       "      <td id=\"T_d3dce_row13_col0\" class=\"data row13 col0\" >K Neighbors w/ Cond. Deseasonalize & Detrending</td>\n",
       "      <td id=\"T_d3dce_row13_col1\" class=\"data row13 col1\" >0.9686</td>\n",
       "      <td id=\"T_d3dce_row13_col2\" class=\"data row13 col2\" >1.0602</td>\n",
       "      <td id=\"T_d3dce_row13_col3\" class=\"data row13 col3\" >199780.0280</td>\n",
       "      <td id=\"T_d3dce_row13_col4\" class=\"data row13 col4\" >268558.5872</td>\n",
       "      <td id=\"T_d3dce_row13_col5\" class=\"data row13 col5\" >46.4352</td>\n",
       "      <td id=\"T_d3dce_row13_col6\" class=\"data row13 col6\" >0.5337</td>\n",
       "      <td id=\"T_d3dce_row13_col7\" class=\"data row13 col7\" >0.3346</td>\n",
       "      <td id=\"T_d3dce_row13_col8\" class=\"data row13 col8\" >0.2333</td>\n",
       "    </tr>\n",
       "    <tr>\n",
       "      <th id=\"T_d3dce_level0_row14\" class=\"row_heading level0 row14\" >gbr_cds_dt</th>\n",
       "      <td id=\"T_d3dce_row14_col0\" class=\"data row14 col0\" >Gradient Boosting w/ Cond. Deseasonalize & Detrending</td>\n",
       "      <td id=\"T_d3dce_row14_col1\" class=\"data row14 col1\" >0.9966</td>\n",
       "      <td id=\"T_d3dce_row14_col2\" class=\"data row14 col2\" >1.0341</td>\n",
       "      <td id=\"T_d3dce_row14_col3\" class=\"data row14 col3\" >204721.3569</td>\n",
       "      <td id=\"T_d3dce_row14_col4\" class=\"data row14 col4\" >261267.5493</td>\n",
       "      <td id=\"T_d3dce_row14_col5\" class=\"data row14 col5\" >53.0892</td>\n",
       "      <td id=\"T_d3dce_row14_col6\" class=\"data row14 col6\" >0.5484</td>\n",
       "      <td id=\"T_d3dce_row14_col7\" class=\"data row14 col7\" >0.3538</td>\n",
       "      <td id=\"T_d3dce_row14_col8\" class=\"data row14 col8\" >0.1400</td>\n",
       "    </tr>\n",
       "    <tr>\n",
       "      <th id=\"T_d3dce_level0_row15\" class=\"row_heading level0 row15\" >xgboost_cds_dt</th>\n",
       "      <td id=\"T_d3dce_row15_col0\" class=\"data row15 col0\" >Extreme Gradient Boosting w/ Cond. Deseasonalize & Detrending</td>\n",
       "      <td id=\"T_d3dce_row15_col1\" class=\"data row15 col1\" >0.9909</td>\n",
       "      <td id=\"T_d3dce_row15_col2\" class=\"data row15 col2\" >1.1033</td>\n",
       "      <td id=\"T_d3dce_row15_col3\" class=\"data row15 col3\" >203397.5507</td>\n",
       "      <td id=\"T_d3dce_row15_col4\" class=\"data row15 col4\" >278496.6884</td>\n",
       "      <td id=\"T_d3dce_row15_col5\" class=\"data row15 col5\" >54.2314</td>\n",
       "      <td id=\"T_d3dce_row15_col6\" class=\"data row15 col6\" >0.5172</td>\n",
       "      <td id=\"T_d3dce_row15_col7\" class=\"data row15 col7\" >0.2752</td>\n",
       "      <td id=\"T_d3dce_row15_col8\" class=\"data row15 col8\" >0.5300</td>\n",
       "    </tr>\n",
       "    <tr>\n",
       "      <th id=\"T_d3dce_level0_row16\" class=\"row_heading level0 row16\" >polytrend</th>\n",
       "      <td id=\"T_d3dce_row16_col0\" class=\"data row16 col0\" >Polynomial Trend Forecaster</td>\n",
       "      <td id=\"T_d3dce_row16_col1\" class=\"data row16 col1\" >1.2529</td>\n",
       "      <td id=\"T_d3dce_row16_col2\" class=\"data row16 col2\" >1.4269</td>\n",
       "      <td id=\"T_d3dce_row16_col3\" class=\"data row16 col3\" >256882.2120</td>\n",
       "      <td id=\"T_d3dce_row16_col4\" class=\"data row16 col4\" >361349.7074</td>\n",
       "      <td id=\"T_d3dce_row16_col5\" class=\"data row16 col5\" >58.4925</td>\n",
       "      <td id=\"T_d3dce_row16_col6\" class=\"data row16 col6\" >0.5915</td>\n",
       "      <td id=\"T_d3dce_row16_col7\" class=\"data row16 col7\" >-0.2353</td>\n",
       "      <td id=\"T_d3dce_row16_col8\" class=\"data row16 col8\" >0.0267</td>\n",
       "    </tr>\n",
       "    <tr>\n",
       "      <th id=\"T_d3dce_level0_row17\" class=\"row_heading level0 row17\" >ets</th>\n",
       "      <td id=\"T_d3dce_row17_col0\" class=\"data row17 col0\" >ETS</td>\n",
       "      <td id=\"T_d3dce_row17_col1\" class=\"data row17 col1\" >1.7549</td>\n",
       "      <td id=\"T_d3dce_row17_col2\" class=\"data row17 col2\" >1.8890</td>\n",
       "      <td id=\"T_d3dce_row17_col3\" class=\"data row17 col3\" >359268.6860</td>\n",
       "      <td id=\"T_d3dce_row17_col4\" class=\"data row17 col4\" >476598.5803</td>\n",
       "      <td id=\"T_d3dce_row17_col5\" class=\"data row17 col5\" >62.3904</td>\n",
       "      <td id=\"T_d3dce_row17_col6\" class=\"data row17 col6\" >0.8603</td>\n",
       "      <td id=\"T_d3dce_row17_col7\" class=\"data row17 col7\" >-1.0772</td>\n",
       "      <td id=\"T_d3dce_row17_col8\" class=\"data row17 col8\" >0.0633</td>\n",
       "    </tr>\n",
       "    <tr>\n",
       "      <th id=\"T_d3dce_level0_row18\" class=\"row_heading level0 row18\" >huber_cds_dt</th>\n",
       "      <td id=\"T_d3dce_row18_col0\" class=\"data row18 col0\" >Huber w/ Cond. Deseasonalize & Detrending</td>\n",
       "      <td id=\"T_d3dce_row18_col1\" class=\"data row18 col1\" >1.1590</td>\n",
       "      <td id=\"T_d3dce_row18_col2\" class=\"data row18 col2\" >1.1910</td>\n",
       "      <td id=\"T_d3dce_row18_col3\" class=\"data row18 col3\" >238642.7616</td>\n",
       "      <td id=\"T_d3dce_row18_col4\" class=\"data row18 col4\" >302383.9178</td>\n",
       "      <td id=\"T_d3dce_row18_col5\" class=\"data row18 col5\" >71.6145</td>\n",
       "      <td id=\"T_d3dce_row18_col6\" class=\"data row18 col6\" >0.6314</td>\n",
       "      <td id=\"T_d3dce_row18_col7\" class=\"data row18 col7\" >0.0615</td>\n",
       "      <td id=\"T_d3dce_row18_col8\" class=\"data row18 col8\" >0.1200</td>\n",
       "    </tr>\n",
       "    <tr>\n",
       "      <th id=\"T_d3dce_level0_row19\" class=\"row_heading level0 row19\" >ridge_cds_dt</th>\n",
       "      <td id=\"T_d3dce_row19_col0\" class=\"data row19 col0\" >Ridge w/ Cond. Deseasonalize & Detrending</td>\n",
       "      <td id=\"T_d3dce_row19_col1\" class=\"data row19 col1\" >2.3465</td>\n",
       "      <td id=\"T_d3dce_row19_col2\" class=\"data row19 col2\" >2.3389</td>\n",
       "      <td id=\"T_d3dce_row19_col3\" class=\"data row19 col3\" >480633.1173</td>\n",
       "      <td id=\"T_d3dce_row19_col4\" class=\"data row19 col4\" >594406.0092</td>\n",
       "      <td id=\"T_d3dce_row19_col5\" class=\"data row19 col5\" >134.8433</td>\n",
       "      <td id=\"T_d3dce_row19_col6\" class=\"data row19 col6\" >0.9100</td>\n",
       "      <td id=\"T_d3dce_row19_col7\" class=\"data row19 col7\" >-5.2594</td>\n",
       "      <td id=\"T_d3dce_row19_col8\" class=\"data row19 col8\" >0.1200</td>\n",
       "    </tr>\n",
       "    <tr>\n",
       "      <th id=\"T_d3dce_level0_row20\" class=\"row_heading level0 row20\" >lasso_cds_dt</th>\n",
       "      <td id=\"T_d3dce_row20_col0\" class=\"data row20 col0\" >Lasso w/ Cond. Deseasonalize & Detrending</td>\n",
       "      <td id=\"T_d3dce_row20_col1\" class=\"data row20 col1\" >2.3465</td>\n",
       "      <td id=\"T_d3dce_row20_col2\" class=\"data row20 col2\" >2.3389</td>\n",
       "      <td id=\"T_d3dce_row20_col3\" class=\"data row20 col3\" >480633.1163</td>\n",
       "      <td id=\"T_d3dce_row20_col4\" class=\"data row20 col4\" >594406.0080</td>\n",
       "      <td id=\"T_d3dce_row20_col5\" class=\"data row20 col5\" >134.8433</td>\n",
       "      <td id=\"T_d3dce_row20_col6\" class=\"data row20 col6\" >0.9100</td>\n",
       "      <td id=\"T_d3dce_row20_col7\" class=\"data row20 col7\" >-5.2594</td>\n",
       "      <td id=\"T_d3dce_row20_col8\" class=\"data row20 col8\" >0.1200</td>\n",
       "    </tr>\n",
       "    <tr>\n",
       "      <th id=\"T_d3dce_level0_row21\" class=\"row_heading level0 row21\" >llar_cds_dt</th>\n",
       "      <td id=\"T_d3dce_row21_col0\" class=\"data row21 col0\" >Lasso Least Angular Regressor w/ Cond. Deseasonalize & Detrending</td>\n",
       "      <td id=\"T_d3dce_row21_col1\" class=\"data row21 col1\" >2.3465</td>\n",
       "      <td id=\"T_d3dce_row21_col2\" class=\"data row21 col2\" >2.3389</td>\n",
       "      <td id=\"T_d3dce_row21_col3\" class=\"data row21 col3\" >480633.1163</td>\n",
       "      <td id=\"T_d3dce_row21_col4\" class=\"data row21 col4\" >594406.0080</td>\n",
       "      <td id=\"T_d3dce_row21_col5\" class=\"data row21 col5\" >134.8433</td>\n",
       "      <td id=\"T_d3dce_row21_col6\" class=\"data row21 col6\" >0.9100</td>\n",
       "      <td id=\"T_d3dce_row21_col7\" class=\"data row21 col7\" >-5.2594</td>\n",
       "      <td id=\"T_d3dce_row21_col8\" class=\"data row21 col8\" >0.1200</td>\n",
       "    </tr>\n",
       "    <tr>\n",
       "      <th id=\"T_d3dce_level0_row22\" class=\"row_heading level0 row22\" >lr_cds_dt</th>\n",
       "      <td id=\"T_d3dce_row22_col0\" class=\"data row22 col0\" >Linear w/ Cond. Deseasonalize & Detrending</td>\n",
       "      <td id=\"T_d3dce_row22_col1\" class=\"data row22 col1\" >2.3465</td>\n",
       "      <td id=\"T_d3dce_row22_col2\" class=\"data row22 col2\" >2.3389</td>\n",
       "      <td id=\"T_d3dce_row22_col3\" class=\"data row22 col3\" >480633.1174</td>\n",
       "      <td id=\"T_d3dce_row22_col4\" class=\"data row22 col4\" >594406.0093</td>\n",
       "      <td id=\"T_d3dce_row22_col5\" class=\"data row22 col5\" >134.8433</td>\n",
       "      <td id=\"T_d3dce_row22_col6\" class=\"data row22 col6\" >0.9100</td>\n",
       "      <td id=\"T_d3dce_row22_col7\" class=\"data row22 col7\" >-5.2594</td>\n",
       "      <td id=\"T_d3dce_row22_col8\" class=\"data row22 col8\" >0.1200</td>\n",
       "    </tr>\n",
       "    <tr>\n",
       "      <th id=\"T_d3dce_level0_row23\" class=\"row_heading level0 row23\" >en_cds_dt</th>\n",
       "      <td id=\"T_d3dce_row23_col0\" class=\"data row23 col0\" >Elastic Net w/ Cond. Deseasonalize & Detrending</td>\n",
       "      <td id=\"T_d3dce_row23_col1\" class=\"data row23 col1\" >2.3465</td>\n",
       "      <td id=\"T_d3dce_row23_col2\" class=\"data row23 col2\" >2.3389</td>\n",
       "      <td id=\"T_d3dce_row23_col3\" class=\"data row23 col3\" >480633.1165</td>\n",
       "      <td id=\"T_d3dce_row23_col4\" class=\"data row23 col4\" >594406.0083</td>\n",
       "      <td id=\"T_d3dce_row23_col5\" class=\"data row23 col5\" >134.8433</td>\n",
       "      <td id=\"T_d3dce_row23_col6\" class=\"data row23 col6\" >0.9100</td>\n",
       "      <td id=\"T_d3dce_row23_col7\" class=\"data row23 col7\" >-5.2594</td>\n",
       "      <td id=\"T_d3dce_row23_col8\" class=\"data row23 col8\" >0.1200</td>\n",
       "    </tr>\n",
       "  </tbody>\n",
       "</table>\n"
      ],
      "text/plain": [
       "<pandas.io.formats.style.Styler at 0x1a6bd221850>"
      ]
     },
     "metadata": {},
     "output_type": "display_data"
    },
    {
     "data": {
      "text/html": [],
      "text/plain": [
       "<IPython.core.display.HTML object>"
      ]
     },
     "metadata": {},
     "output_type": "display_data"
    },
    {
     "data": {
      "application/vnd.plotly.v1+json": {
       "config": {
        "plotlyServerURL": "https://plot.ly"
       },
       "data": [
        {
         "line": {
          "color": "#1f77b4"
         },
         "marker": {
          "size": 5
         },
         "mode": "lines+markers",
         "name": "Forecast | Seasonal Naive Forecaster",
         "showlegend": true,
         "type": "scatter",
         "x": [
          "2022-01-01T00:00:00",
          "2022-02-01T00:00:00",
          "2022-03-01T00:00:00",
          "2022-04-01T00:00:00",
          "2022-05-01T00:00:00",
          "2022-06-01T00:00:00",
          "2022-07-01T00:00:00",
          "2022-08-01T00:00:00",
          "2022-09-01T00:00:00",
          "2022-10-01T00:00:00",
          "2022-11-01T00:00:00",
          "2022-12-01T00:00:00"
         ],
         "y": [
          497090.4608,
          357653.7738,
          742523.6509,
          299952.3618,
          425150.3464,
          546067.285,
          476545.2023,
          138693.0793,
          451415.7313,
          1343923.1379,
          743611.6223,
          444982.0903
         ]
        },
        {
         "line": {
          "width": 0
         },
         "marker": {
          "color": "#68BBE3"
         },
         "mode": "lines",
         "name": "Lower Interval",
         "showlegend": false,
         "type": "scatter",
         "x": [
          "2022-01-01T00:00:00",
          "2022-02-01T00:00:00",
          "2022-03-01T00:00:00",
          "2022-04-01T00:00:00",
          "2022-05-01T00:00:00",
          "2022-06-01T00:00:00",
          "2022-07-01T00:00:00",
          "2022-08-01T00:00:00",
          "2022-09-01T00:00:00",
          "2022-10-01T00:00:00",
          "2022-11-01T00:00:00",
          "2022-12-01T00:00:00"
         ],
         "y": [
          44624.8916,
          -94811.7953,
          290058.0817,
          -152513.2073,
          -27315.2227,
          93601.7159,
          24079.6332,
          -313772.4899,
          -1049.8378,
          891457.5687,
          291146.0532,
          -7483.4789
         ]
        },
        {
         "fill": "tonexty",
         "fillcolor": "rgba(104,187,227,0.5)",
         "line": {
          "width": 0
         },
         "marker": {
          "color": "#68BBE3"
         },
         "mode": "lines",
         "name": "Prediction Interval | Seasonal Naive Forecaster",
         "showlegend": true,
         "type": "scatter",
         "x": [
          "2022-01-01T00:00:00",
          "2022-02-01T00:00:00",
          "2022-03-01T00:00:00",
          "2022-04-01T00:00:00",
          "2022-05-01T00:00:00",
          "2022-06-01T00:00:00",
          "2022-07-01T00:00:00",
          "2022-08-01T00:00:00",
          "2022-09-01T00:00:00",
          "2022-10-01T00:00:00",
          "2022-11-01T00:00:00",
          "2022-12-01T00:00:00"
         ],
         "y": [
          949556.0299,
          810119.3429,
          1194989.22,
          752417.931,
          877615.9156,
          998532.8542,
          929010.7714,
          591158.6484,
          903881.3004,
          1796388.707,
          1196077.1914,
          897447.6594
         ]
        },
        {
         "marker": {
          "color": "#3f3f3f",
          "size": 5
         },
         "mode": "lines+markers",
         "name": "Original",
         "showlegend": true,
         "type": "scatter",
         "x": [
          "2016-01-01T00:00:00",
          "2016-02-01T00:00:00",
          "2016-03-01T00:00:00",
          "2016-04-01T00:00:00",
          "2016-05-01T00:00:00",
          "2016-06-01T00:00:00",
          "2016-07-01T00:00:00",
          "2016-08-01T00:00:00",
          "2016-09-01T00:00:00",
          "2016-10-01T00:00:00",
          "2016-11-01T00:00:00",
          "2016-12-01T00:00:00",
          "2017-01-01T00:00:00",
          "2017-02-01T00:00:00",
          "2017-03-01T00:00:00",
          "2017-04-01T00:00:00",
          "2017-05-01T00:00:00",
          "2017-06-01T00:00:00",
          "2017-07-01T00:00:00",
          "2017-08-01T00:00:00",
          "2017-09-01T00:00:00",
          "2017-10-01T00:00:00",
          "2017-11-01T00:00:00",
          "2017-12-01T00:00:00",
          "2018-01-01T00:00:00",
          "2018-02-01T00:00:00",
          "2018-03-01T00:00:00",
          "2018-04-01T00:00:00",
          "2018-05-01T00:00:00",
          "2018-06-01T00:00:00",
          "2018-07-01T00:00:00",
          "2018-08-01T00:00:00",
          "2018-09-01T00:00:00",
          "2018-10-01T00:00:00",
          "2018-11-01T00:00:00",
          "2018-12-01T00:00:00",
          "2019-01-01T00:00:00",
          "2019-02-01T00:00:00",
          "2019-03-01T00:00:00",
          "2019-04-01T00:00:00",
          "2019-05-01T00:00:00",
          "2019-06-01T00:00:00",
          "2019-07-01T00:00:00",
          "2019-08-01T00:00:00",
          "2019-09-01T00:00:00",
          "2019-10-01T00:00:00",
          "2019-11-01T00:00:00",
          "2019-12-01T00:00:00",
          "2020-01-01T00:00:00",
          "2020-02-01T00:00:00",
          "2020-03-01T00:00:00",
          "2020-04-01T00:00:00",
          "2020-05-01T00:00:00",
          "2020-06-01T00:00:00",
          "2020-07-01T00:00:00",
          "2020-08-01T00:00:00",
          "2020-09-01T00:00:00",
          "2020-10-01T00:00:00",
          "2020-11-01T00:00:00",
          "2020-12-01T00:00:00",
          "2021-01-01T00:00:00",
          "2021-02-01T00:00:00",
          "2021-03-01T00:00:00",
          "2021-04-01T00:00:00",
          "2021-05-01T00:00:00",
          "2021-06-01T00:00:00",
          "2021-07-01T00:00:00",
          "2021-08-01T00:00:00",
          "2021-09-01T00:00:00",
          "2021-10-01T00:00:00",
          "2021-11-01T00:00:00",
          "2021-12-01T00:00:00",
          "2022-01-01T00:00:00",
          "2022-02-01T00:00:00",
          "2022-03-01T00:00:00",
          "2022-04-01T00:00:00",
          "2022-05-01T00:00:00",
          "2022-06-01T00:00:00",
          "2022-07-01T00:00:00",
          "2022-08-01T00:00:00",
          "2022-09-01T00:00:00",
          "2022-10-01T00:00:00",
          "2022-11-01T00:00:00",
          "2022-12-01T00:00:00"
         ],
         "y": [
          252036.34070764584,
          344959.1029274923,
          322884.0716099165,
          460515.89971536613,
          304651.66026611417,
          329344.04614087485,
          335205.1527573667,
          739624.2696845215,
          505605.17086126667,
          726230.8244425803,
          710349.1542845352,
          364885.00482057635,
          349233.66855919163,
          518245.0966567505,
          189010.49160470147,
          289238.80900982325,
          196530.70624835292,
          701333.6264779366,
          276221.67228716187,
          148877.89814269682,
          243177.94879705433,
          997840.7914229636,
          491198.8717602636,
          340478.6935116283,
          288606.7515735033,
          187199.48246351277,
          317363.4544011207,
          368366.05145371414,
          488426.17059489386,
          316912.5007480748,
          269033.871364063,
          433758.9629862528,
          244886.39751906626,
          1384020.1803967773,
          897884.5532949262,
          308692.4836269832,
          85322.2953992861,
          48641.78480489587,
          290965.13239395386,
          263662.9645518518,
          188014.42322087428,
          569867.7415446781,
          215301.62825822158,
          161933.8143397154,
          185965.73428174984,
          1027427.3693408268,
          627376.3051467009,
          263.6405559318111,
          243485.63849279538,
          150738.57345927574,
          111182.76182143831,
          334022.39589102706,
          344061.66058297764,
          414916.60624083044,
          432226.0280954735,
          641689.0863656722,
          772663.3496327454,
          1712637.0182602452,
          529171.7997086347,
          207955.19763740583,
          497090.4607673747,
          357653.77379276196,
          742523.6508611391,
          299952.36182048783,
          425150.3464475976,
          546067.2850215319,
          476545.20229336206,
          138693.07926704842,
          451415.7312816328,
          1343923.1378688964,
          743611.6223120871,
          444982.0902606363,
          564825.2556781697,
          375292.9617372983,
          431654.9147737135,
          359187.4845729137,
          333334.23569774185,
          487800.4447206539,
          233365.34716779337,
          496460.9238880624,
          305159.74715857056,
          2041909.2890831318,
          658874.1129389683,
          319284.29452054645
         ]
        }
       ],
       "layout": {
        "showlegend": true,
        "template": {
         "data": {
          "bar": [
           {
            "error_x": {
             "color": "rgb(51,51,51)"
            },
            "error_y": {
             "color": "rgb(51,51,51)"
            },
            "marker": {
             "line": {
              "color": "rgb(237,237,237)",
              "width": 0.5
             },
             "pattern": {
              "fillmode": "overlay",
              "size": 10,
              "solidity": 0.2
             }
            },
            "type": "bar"
           }
          ],
          "barpolar": [
           {
            "marker": {
             "line": {
              "color": "rgb(237,237,237)",
              "width": 0.5
             },
             "pattern": {
              "fillmode": "overlay",
              "size": 10,
              "solidity": 0.2
             }
            },
            "type": "barpolar"
           }
          ],
          "carpet": [
           {
            "aaxis": {
             "endlinecolor": "rgb(51,51,51)",
             "gridcolor": "white",
             "linecolor": "white",
             "minorgridcolor": "white",
             "startlinecolor": "rgb(51,51,51)"
            },
            "baxis": {
             "endlinecolor": "rgb(51,51,51)",
             "gridcolor": "white",
             "linecolor": "white",
             "minorgridcolor": "white",
             "startlinecolor": "rgb(51,51,51)"
            },
            "type": "carpet"
           }
          ],
          "choropleth": [
           {
            "colorbar": {
             "outlinewidth": 0,
             "tickcolor": "rgb(237,237,237)",
             "ticklen": 6,
             "ticks": "inside"
            },
            "type": "choropleth"
           }
          ],
          "contour": [
           {
            "colorbar": {
             "outlinewidth": 0,
             "tickcolor": "rgb(237,237,237)",
             "ticklen": 6,
             "ticks": "inside"
            },
            "colorscale": [
             [
              0,
              "rgb(20,44,66)"
             ],
             [
              1,
              "rgb(90,179,244)"
             ]
            ],
            "type": "contour"
           }
          ],
          "contourcarpet": [
           {
            "colorbar": {
             "outlinewidth": 0,
             "tickcolor": "rgb(237,237,237)",
             "ticklen": 6,
             "ticks": "inside"
            },
            "type": "contourcarpet"
           }
          ],
          "heatmap": [
           {
            "colorbar": {
             "outlinewidth": 0,
             "tickcolor": "rgb(237,237,237)",
             "ticklen": 6,
             "ticks": "inside"
            },
            "colorscale": [
             [
              0,
              "rgb(20,44,66)"
             ],
             [
              1,
              "rgb(90,179,244)"
             ]
            ],
            "type": "heatmap"
           }
          ],
          "heatmapgl": [
           {
            "colorbar": {
             "outlinewidth": 0,
             "tickcolor": "rgb(237,237,237)",
             "ticklen": 6,
             "ticks": "inside"
            },
            "colorscale": [
             [
              0,
              "rgb(20,44,66)"
             ],
             [
              1,
              "rgb(90,179,244)"
             ]
            ],
            "type": "heatmapgl"
           }
          ],
          "histogram": [
           {
            "marker": {
             "pattern": {
              "fillmode": "overlay",
              "size": 10,
              "solidity": 0.2
             }
            },
            "type": "histogram"
           }
          ],
          "histogram2d": [
           {
            "colorbar": {
             "outlinewidth": 0,
             "tickcolor": "rgb(237,237,237)",
             "ticklen": 6,
             "ticks": "inside"
            },
            "colorscale": [
             [
              0,
              "rgb(20,44,66)"
             ],
             [
              1,
              "rgb(90,179,244)"
             ]
            ],
            "type": "histogram2d"
           }
          ],
          "histogram2dcontour": [
           {
            "colorbar": {
             "outlinewidth": 0,
             "tickcolor": "rgb(237,237,237)",
             "ticklen": 6,
             "ticks": "inside"
            },
            "colorscale": [
             [
              0,
              "rgb(20,44,66)"
             ],
             [
              1,
              "rgb(90,179,244)"
             ]
            ],
            "type": "histogram2dcontour"
           }
          ],
          "mesh3d": [
           {
            "colorbar": {
             "outlinewidth": 0,
             "tickcolor": "rgb(237,237,237)",
             "ticklen": 6,
             "ticks": "inside"
            },
            "type": "mesh3d"
           }
          ],
          "parcoords": [
           {
            "line": {
             "colorbar": {
              "outlinewidth": 0,
              "tickcolor": "rgb(237,237,237)",
              "ticklen": 6,
              "ticks": "inside"
             }
            },
            "type": "parcoords"
           }
          ],
          "pie": [
           {
            "automargin": true,
            "type": "pie"
           }
          ],
          "scatter": [
           {
            "fillpattern": {
             "fillmode": "overlay",
             "size": 10,
             "solidity": 0.2
            },
            "type": "scatter"
           }
          ],
          "scatter3d": [
           {
            "line": {
             "colorbar": {
              "outlinewidth": 0,
              "tickcolor": "rgb(237,237,237)",
              "ticklen": 6,
              "ticks": "inside"
             }
            },
            "marker": {
             "colorbar": {
              "outlinewidth": 0,
              "tickcolor": "rgb(237,237,237)",
              "ticklen": 6,
              "ticks": "inside"
             }
            },
            "type": "scatter3d"
           }
          ],
          "scattercarpet": [
           {
            "marker": {
             "colorbar": {
              "outlinewidth": 0,
              "tickcolor": "rgb(237,237,237)",
              "ticklen": 6,
              "ticks": "inside"
             }
            },
            "type": "scattercarpet"
           }
          ],
          "scattergeo": [
           {
            "marker": {
             "colorbar": {
              "outlinewidth": 0,
              "tickcolor": "rgb(237,237,237)",
              "ticklen": 6,
              "ticks": "inside"
             }
            },
            "type": "scattergeo"
           }
          ],
          "scattergl": [
           {
            "marker": {
             "colorbar": {
              "outlinewidth": 0,
              "tickcolor": "rgb(237,237,237)",
              "ticklen": 6,
              "ticks": "inside"
             }
            },
            "type": "scattergl"
           }
          ],
          "scattermapbox": [
           {
            "marker": {
             "colorbar": {
              "outlinewidth": 0,
              "tickcolor": "rgb(237,237,237)",
              "ticklen": 6,
              "ticks": "inside"
             }
            },
            "type": "scattermapbox"
           }
          ],
          "scatterpolar": [
           {
            "marker": {
             "colorbar": {
              "outlinewidth": 0,
              "tickcolor": "rgb(237,237,237)",
              "ticklen": 6,
              "ticks": "inside"
             }
            },
            "type": "scatterpolar"
           }
          ],
          "scatterpolargl": [
           {
            "marker": {
             "colorbar": {
              "outlinewidth": 0,
              "tickcolor": "rgb(237,237,237)",
              "ticklen": 6,
              "ticks": "inside"
             }
            },
            "type": "scatterpolargl"
           }
          ],
          "scatterternary": [
           {
            "marker": {
             "colorbar": {
              "outlinewidth": 0,
              "tickcolor": "rgb(237,237,237)",
              "ticklen": 6,
              "ticks": "inside"
             }
            },
            "type": "scatterternary"
           }
          ],
          "surface": [
           {
            "colorbar": {
             "outlinewidth": 0,
             "tickcolor": "rgb(237,237,237)",
             "ticklen": 6,
             "ticks": "inside"
            },
            "colorscale": [
             [
              0,
              "rgb(20,44,66)"
             ],
             [
              1,
              "rgb(90,179,244)"
             ]
            ],
            "type": "surface"
           }
          ],
          "table": [
           {
            "cells": {
             "fill": {
              "color": "rgb(237,237,237)"
             },
             "line": {
              "color": "white"
             }
            },
            "header": {
             "fill": {
              "color": "rgb(217,217,217)"
             },
             "line": {
              "color": "white"
             }
            },
            "type": "table"
           }
          ]
         },
         "layout": {
          "annotationdefaults": {
           "arrowhead": 0,
           "arrowwidth": 1
          },
          "autotypenumbers": "strict",
          "coloraxis": {
           "colorbar": {
            "outlinewidth": 0,
            "tickcolor": "rgb(237,237,237)",
            "ticklen": 6,
            "ticks": "inside"
           }
          },
          "colorscale": {
           "sequential": [
            [
             0,
             "rgb(20,44,66)"
            ],
            [
             1,
             "rgb(90,179,244)"
            ]
           ],
           "sequentialminus": [
            [
             0,
             "rgb(20,44,66)"
            ],
            [
             1,
             "rgb(90,179,244)"
            ]
           ]
          },
          "colorway": [
           "#F8766D",
           "#A3A500",
           "#00BF7D",
           "#00B0F6",
           "#E76BF3"
          ],
          "font": {
           "color": "rgb(51,51,51)"
          },
          "geo": {
           "bgcolor": "white",
           "lakecolor": "white",
           "landcolor": "rgb(237,237,237)",
           "showlakes": true,
           "showland": true,
           "subunitcolor": "white"
          },
          "hoverlabel": {
           "align": "left"
          },
          "hovermode": "closest",
          "paper_bgcolor": "white",
          "plot_bgcolor": "rgb(237,237,237)",
          "polar": {
           "angularaxis": {
            "gridcolor": "white",
            "linecolor": "white",
            "showgrid": true,
            "tickcolor": "rgb(51,51,51)",
            "ticks": "outside"
           },
           "bgcolor": "rgb(237,237,237)",
           "radialaxis": {
            "gridcolor": "white",
            "linecolor": "white",
            "showgrid": true,
            "tickcolor": "rgb(51,51,51)",
            "ticks": "outside"
           }
          },
          "scene": {
           "xaxis": {
            "backgroundcolor": "rgb(237,237,237)",
            "gridcolor": "white",
            "gridwidth": 2,
            "linecolor": "white",
            "showbackground": true,
            "showgrid": true,
            "tickcolor": "rgb(51,51,51)",
            "ticks": "outside",
            "zerolinecolor": "white"
           },
           "yaxis": {
            "backgroundcolor": "rgb(237,237,237)",
            "gridcolor": "white",
            "gridwidth": 2,
            "linecolor": "white",
            "showbackground": true,
            "showgrid": true,
            "tickcolor": "rgb(51,51,51)",
            "ticks": "outside",
            "zerolinecolor": "white"
           },
           "zaxis": {
            "backgroundcolor": "rgb(237,237,237)",
            "gridcolor": "white",
            "gridwidth": 2,
            "linecolor": "white",
            "showbackground": true,
            "showgrid": true,
            "tickcolor": "rgb(51,51,51)",
            "ticks": "outside",
            "zerolinecolor": "white"
           }
          },
          "shapedefaults": {
           "fillcolor": "black",
           "line": {
            "width": 0
           },
           "opacity": 0.3
          },
          "ternary": {
           "aaxis": {
            "gridcolor": "white",
            "linecolor": "white",
            "showgrid": true,
            "tickcolor": "rgb(51,51,51)",
            "ticks": "outside"
           },
           "baxis": {
            "gridcolor": "white",
            "linecolor": "white",
            "showgrid": true,
            "tickcolor": "rgb(51,51,51)",
            "ticks": "outside"
           },
           "bgcolor": "rgb(237,237,237)",
           "caxis": {
            "gridcolor": "white",
            "linecolor": "white",
            "showgrid": true,
            "tickcolor": "rgb(51,51,51)",
            "ticks": "outside"
           }
          },
          "xaxis": {
           "automargin": true,
           "gridcolor": "white",
           "linecolor": "white",
           "showgrid": true,
           "tickcolor": "rgb(51,51,51)",
           "ticks": "outside",
           "title": {
            "standoff": 15
           },
           "zerolinecolor": "white"
          },
          "yaxis": {
           "automargin": true,
           "gridcolor": "white",
           "linecolor": "white",
           "showgrid": true,
           "tickcolor": "rgb(51,51,51)",
           "ticks": "outside",
           "title": {
            "standoff": 15
           },
           "zerolinecolor": "white"
          }
         }
        },
        "title": {
         "text": "Actual vs. 'Out-of-Sample' Forecast | NET_SALES"
        },
        "xaxis": {
         "title": {
          "text": "Time"
         }
        },
        "yaxis": {
         "title": {
          "text": "Values"
         }
        }
       }
      }
     },
     "metadata": {},
     "output_type": "display_data"
    },
    {
     "data": {
      "text/html": [
       "<style type=\"text/css\">\n",
       "</style>\n",
       "<table id=\"T_badec\">\n",
       "  <thead>\n",
       "    <tr>\n",
       "      <th class=\"blank level0\" >&nbsp;</th>\n",
       "      <th id=\"T_badec_level0_col0\" class=\"col_heading level0 col0\" >Model</th>\n",
       "      <th id=\"T_badec_level0_col1\" class=\"col_heading level0 col1\" >MASE</th>\n",
       "      <th id=\"T_badec_level0_col2\" class=\"col_heading level0 col2\" >RMSSE</th>\n",
       "      <th id=\"T_badec_level0_col3\" class=\"col_heading level0 col3\" >MAE</th>\n",
       "      <th id=\"T_badec_level0_col4\" class=\"col_heading level0 col4\" >RMSE</th>\n",
       "      <th id=\"T_badec_level0_col5\" class=\"col_heading level0 col5\" >MAPE</th>\n",
       "      <th id=\"T_badec_level0_col6\" class=\"col_heading level0 col6\" >SMAPE</th>\n",
       "      <th id=\"T_badec_level0_col7\" class=\"col_heading level0 col7\" >R2</th>\n",
       "    </tr>\n",
       "  </thead>\n",
       "  <tbody>\n",
       "    <tr>\n",
       "      <th id=\"T_badec_level0_row0\" class=\"row_heading level0 row0\" >0</th>\n",
       "      <td id=\"T_badec_row0_col0\" class=\"data row0 col0\" >Seasonal Naive Forecaster</td>\n",
       "      <td id=\"T_badec_row0_col1\" class=\"data row0 col1\" >0.8471</td>\n",
       "      <td id=\"T_badec_row0_col2\" class=\"data row0 col2\" >0.9593</td>\n",
       "      <td id=\"T_badec_row0_col3\" class=\"data row0 col3\" >188432.1611</td>\n",
       "      <td id=\"T_badec_row0_col4\" class=\"data row0 col4\" >263875.3922</td>\n",
       "      <td id=\"T_badec_row0_col5\" class=\"data row0 col5\" >0.3794</td>\n",
       "      <td id=\"T_badec_row0_col6\" class=\"data row0 col6\" >0.3583</td>\n",
       "      <td id=\"T_badec_row0_col7\" class=\"data row0 col7\" >0.6769</td>\n",
       "    </tr>\n",
       "  </tbody>\n",
       "</table>\n"
      ],
      "text/plain": [
       "<pandas.io.formats.style.Styler at 0x1a6c967f4f0>"
      ]
     },
     "metadata": {},
     "output_type": "display_data"
    },
    {
     "name": "stderr",
     "output_type": "stream",
     "text": [
      " 93%|█████████▎| 13/14 [04:11<00:19, 19.33s/it]\n"
     ]
    },
    {
     "ename": "ValueError",
     "evalue": "Not Enough Data Points, set a lower number of folds or fh",
     "output_type": "error",
     "traceback": [
      "\u001b[1;31m---------------------------------------------------------------------------\u001b[0m",
      "\u001b[1;31mValueError\u001b[0m                                Traceback (most recent call last)",
      "Cell \u001b[1;32mIn[13], line 30\u001b[0m\n\u001b[0;32m     26\u001b[0m ts_test \u001b[39m=\u001b[39m \u001b[39mlen\u001b[39m(df_subset_trim\u001b[39m.\u001b[39mindex) \u001b[39m-\u001b[39m \u001b[39mround\u001b[39m(\u001b[39mlen\u001b[39m(df_subset_trim\u001b[39m.\u001b[39mindex) \u001b[39m*\u001b[39m \u001b[39m.8\u001b[39m) \u001b[39m# 20% test\u001b[39;00m\n\u001b[0;32m     28\u001b[0m \u001b[39m# initialize setup\u001b[39;00m\n\u001b[0;32m     29\u001b[0m \u001b[39m#s = pycts.setup(df_subset_s, numeric_imputation_target = \"mean\", fh = ts_test, session_id = 123)\u001b[39;00m\n\u001b[1;32m---> 30\u001b[0m s \u001b[39m=\u001b[39m pycts\u001b[39m.\u001b[39;49msetup(df_subset_s, fh\u001b[39m=\u001b[39;49m\u001b[39m12\u001b[39;49m, numeric_imputation_target \u001b[39m=\u001b[39;49m \u001b[39m\"\u001b[39;49m\u001b[39mmean\u001b[39;49m\u001b[39m\"\u001b[39;49m, session_id \u001b[39m=\u001b[39;49m \u001b[39m123\u001b[39;49m)\n\u001b[0;32m     32\u001b[0m \u001b[39m# model training and selection\u001b[39;00m\n\u001b[0;32m     33\u001b[0m best_model \u001b[39m=\u001b[39m pycts\u001b[39m.\u001b[39mcompare_models(sort \u001b[39m=\u001b[39m \u001b[39m'\u001b[39m\u001b[39mMAPE\u001b[39m\u001b[39m'\u001b[39m, exclude \u001b[39m=\u001b[39m [\u001b[39m\"\u001b[39m\u001b[39mnaive\u001b[39m\u001b[39m\"\u001b[39m, \u001b[39m\"\u001b[39m\u001b[39mgrand_means\u001b[39m\u001b[39m\"\u001b[39m, \u001b[39m\"\u001b[39m\u001b[39mcroston\u001b[39m\u001b[39m\"\u001b[39m, ])\n",
      "File \u001b[1;32mc:\\Users\\crudek\\AppData\\Local\\anaconda3\\envs\\newpycaret\\lib\\site-packages\\pycaret\\time_series\\forecasting\\functional.py:590\u001b[0m, in \u001b[0;36msetup\u001b[1;34m(data, data_func, target, index, ignore_features, numeric_imputation_target, numeric_imputation_exogenous, transform_target, transform_exogenous, fe_target_rr, fe_exogenous, scale_target, scale_exogenous, fold_strategy, fold, fh, hyperparameter_split, seasonal_period, ignore_seasonality_test, sp_detection, max_sp_to_consider, remove_harmonics, harmonic_order_method, num_sps_to_use, seasonality_type, point_alpha, coverage, enforce_exogenous, n_jobs, use_gpu, custom_pipeline, html, session_id, system_log, log_experiment, experiment_name, log_plots, log_profile, log_data, verbose, profile, profile_kwargs, fig_kwargs)\u001b[0m\n\u001b[0;32m    588\u001b[0m exp \u001b[39m=\u001b[39m _EXPERIMENT_CLASS()\n\u001b[0;32m    589\u001b[0m set_current_experiment(exp)\n\u001b[1;32m--> 590\u001b[0m \u001b[39mreturn\u001b[39;00m exp\u001b[39m.\u001b[39;49msetup(\n\u001b[0;32m    591\u001b[0m     data\u001b[39m=\u001b[39;49mdata,\n\u001b[0;32m    592\u001b[0m     data_func\u001b[39m=\u001b[39;49mdata_func,\n\u001b[0;32m    593\u001b[0m     target\u001b[39m=\u001b[39;49mtarget,\n\u001b[0;32m    594\u001b[0m     index\u001b[39m=\u001b[39;49mindex,\n\u001b[0;32m    595\u001b[0m     ignore_features\u001b[39m=\u001b[39;49mignore_features,\n\u001b[0;32m    596\u001b[0m     numeric_imputation_target\u001b[39m=\u001b[39;49mnumeric_imputation_target,\n\u001b[0;32m    597\u001b[0m     numeric_imputation_exogenous\u001b[39m=\u001b[39;49mnumeric_imputation_exogenous,\n\u001b[0;32m    598\u001b[0m     transform_target\u001b[39m=\u001b[39;49mtransform_target,\n\u001b[0;32m    599\u001b[0m     transform_exogenous\u001b[39m=\u001b[39;49mtransform_exogenous,\n\u001b[0;32m    600\u001b[0m     scale_target\u001b[39m=\u001b[39;49mscale_target,\n\u001b[0;32m    601\u001b[0m     scale_exogenous\u001b[39m=\u001b[39;49mscale_exogenous,\n\u001b[0;32m    602\u001b[0m     fe_target_rr\u001b[39m=\u001b[39;49mfe_target_rr,\n\u001b[0;32m    603\u001b[0m     fe_exogenous\u001b[39m=\u001b[39;49mfe_exogenous,\n\u001b[0;32m    604\u001b[0m     fold_strategy\u001b[39m=\u001b[39;49mfold_strategy,\n\u001b[0;32m    605\u001b[0m     fold\u001b[39m=\u001b[39;49mfold,\n\u001b[0;32m    606\u001b[0m     fh\u001b[39m=\u001b[39;49mfh,\n\u001b[0;32m    607\u001b[0m     hyperparameter_split\u001b[39m=\u001b[39;49mhyperparameter_split,\n\u001b[0;32m    608\u001b[0m     seasonal_period\u001b[39m=\u001b[39;49mseasonal_period,\n\u001b[0;32m    609\u001b[0m     ignore_seasonality_test\u001b[39m=\u001b[39;49mignore_seasonality_test,\n\u001b[0;32m    610\u001b[0m     sp_detection\u001b[39m=\u001b[39;49msp_detection,\n\u001b[0;32m    611\u001b[0m     max_sp_to_consider\u001b[39m=\u001b[39;49mmax_sp_to_consider,\n\u001b[0;32m    612\u001b[0m     remove_harmonics\u001b[39m=\u001b[39;49mremove_harmonics,\n\u001b[0;32m    613\u001b[0m     harmonic_order_method\u001b[39m=\u001b[39;49mharmonic_order_method,\n\u001b[0;32m    614\u001b[0m     num_sps_to_use\u001b[39m=\u001b[39;49mnum_sps_to_use,\n\u001b[0;32m    615\u001b[0m     seasonality_type\u001b[39m=\u001b[39;49mseasonality_type,\n\u001b[0;32m    616\u001b[0m     point_alpha\u001b[39m=\u001b[39;49mpoint_alpha,\n\u001b[0;32m    617\u001b[0m     coverage\u001b[39m=\u001b[39;49mcoverage,\n\u001b[0;32m    618\u001b[0m     enforce_exogenous\u001b[39m=\u001b[39;49menforce_exogenous,\n\u001b[0;32m    619\u001b[0m     n_jobs\u001b[39m=\u001b[39;49mn_jobs,\n\u001b[0;32m    620\u001b[0m     use_gpu\u001b[39m=\u001b[39;49muse_gpu,\n\u001b[0;32m    621\u001b[0m     custom_pipeline\u001b[39m=\u001b[39;49mcustom_pipeline,\n\u001b[0;32m    622\u001b[0m     html\u001b[39m=\u001b[39;49mhtml,\n\u001b[0;32m    623\u001b[0m     session_id\u001b[39m=\u001b[39;49msession_id,\n\u001b[0;32m    624\u001b[0m     system_log\u001b[39m=\u001b[39;49msystem_log,\n\u001b[0;32m    625\u001b[0m     log_experiment\u001b[39m=\u001b[39;49mlog_experiment,\n\u001b[0;32m    626\u001b[0m     experiment_name\u001b[39m=\u001b[39;49mexperiment_name,\n\u001b[0;32m    627\u001b[0m     log_plots\u001b[39m=\u001b[39;49mlog_plots,\n\u001b[0;32m    628\u001b[0m     log_profile\u001b[39m=\u001b[39;49mlog_profile,\n\u001b[0;32m    629\u001b[0m     log_data\u001b[39m=\u001b[39;49mlog_data,\n\u001b[0;32m    630\u001b[0m     verbose\u001b[39m=\u001b[39;49mverbose,\n\u001b[0;32m    631\u001b[0m     profile\u001b[39m=\u001b[39;49mprofile,\n\u001b[0;32m    632\u001b[0m     profile_kwargs\u001b[39m=\u001b[39;49mprofile_kwargs,\n\u001b[0;32m    633\u001b[0m     fig_kwargs\u001b[39m=\u001b[39;49mfig_kwargs,\n\u001b[0;32m    634\u001b[0m )\n",
      "File \u001b[1;32mc:\\Users\\crudek\\AppData\\Local\\anaconda3\\envs\\newpycaret\\lib\\site-packages\\pycaret\\time_series\\forecasting\\oop.py:2095\u001b[0m, in \u001b[0;36mTSForecastingExperiment.setup\u001b[1;34m(self, data, data_func, target, index, ignore_features, numeric_imputation_target, numeric_imputation_exogenous, transform_target, transform_exogenous, scale_target, scale_exogenous, fe_target_rr, fe_exogenous, fold_strategy, fold, fh, hyperparameter_split, seasonal_period, ignore_seasonality_test, sp_detection, max_sp_to_consider, remove_harmonics, harmonic_order_method, num_sps_to_use, seasonality_type, point_alpha, coverage, enforce_exogenous, n_jobs, use_gpu, custom_pipeline, html, session_id, system_log, log_experiment, experiment_name, experiment_custom_tags, log_plots, log_profile, log_data, engine, verbose, profile, profile_kwargs, fig_kwargs)\u001b[0m\n\u001b[0;32m   2091\u001b[0m \u001b[39m# Features to be ignored (are not read by self.dataset, self.X, etc...)\u001b[39;00m\n\u001b[0;32m   2092\u001b[0m \u001b[39mself\u001b[39m\u001b[39m.\u001b[39m_fxs \u001b[39m=\u001b[39m {\u001b[39m\"\u001b[39m\u001b[39mIgnore\u001b[39m\u001b[39m\"\u001b[39m: ignore_features \u001b[39mor\u001b[39;00m []}\n\u001b[0;32m   2094\u001b[0m (\n\u001b[1;32m-> 2095\u001b[0m     \u001b[39mself\u001b[39;49m\u001b[39m.\u001b[39;49m_initialize_setup(\n\u001b[0;32m   2096\u001b[0m         n_jobs\u001b[39m=\u001b[39;49mn_jobs,\n\u001b[0;32m   2097\u001b[0m         use_gpu\u001b[39m=\u001b[39;49muse_gpu,\n\u001b[0;32m   2098\u001b[0m         html\u001b[39m=\u001b[39;49mhtml,\n\u001b[0;32m   2099\u001b[0m         session_id\u001b[39m=\u001b[39;49msession_id,\n\u001b[0;32m   2100\u001b[0m         system_log\u001b[39m=\u001b[39;49msystem_log,\n\u001b[0;32m   2101\u001b[0m         log_experiment\u001b[39m=\u001b[39;49mlog_experiment,\n\u001b[0;32m   2102\u001b[0m         experiment_name\u001b[39m=\u001b[39;49mexperiment_name,\n\u001b[0;32m   2103\u001b[0m         memory\u001b[39m=\u001b[39;49m\u001b[39mTrue\u001b[39;49;00m,\n\u001b[0;32m   2104\u001b[0m         verbose\u001b[39m=\u001b[39;49mverbose,\n\u001b[0;32m   2105\u001b[0m     )\n\u001b[0;32m   2106\u001b[0m     \u001b[39m.\u001b[39;49m_check_clean_and_set_data(data)\n\u001b[0;32m   2107\u001b[0m     \u001b[39m.\u001b[39;49m_check_and_clean_index(index\u001b[39m=\u001b[39;49mindex, seasonal_period\u001b[39m=\u001b[39;49mseasonal_period)\n\u001b[0;32m   2108\u001b[0m     \u001b[39m.\u001b[39;49m_check_and_set_targets(target\u001b[39m=\u001b[39;49mtarget)\n\u001b[0;32m   2109\u001b[0m     \u001b[39m.\u001b[39;49m_set_exogenous_names()\n\u001b[0;32m   2110\u001b[0m     \u001b[39m.\u001b[39;49m_check_and_set_forecasting_types()\n\u001b[0;32m   2111\u001b[0m     \u001b[39m.\u001b[39;49m_check_and_set_fh(fh\u001b[39m=\u001b[39;49mfh)\n\u001b[0;32m   2112\u001b[0m     \u001b[39m.\u001b[39;49m_set_point_alpha_intervals_enforce_pi(\n\u001b[0;32m   2113\u001b[0m         point_alpha\u001b[39m=\u001b[39;49mpoint_alpha, coverage\u001b[39m=\u001b[39;49mcoverage\n\u001b[0;32m   2114\u001b[0m     )\n\u001b[0;32m   2115\u001b[0m     \u001b[39m.\u001b[39;49m_setup_train_test_split()\n\u001b[0;32m   2116\u001b[0m     \u001b[39m.\u001b[39;49m_set_fold_generator()\n\u001b[0;32m   2117\u001b[0m     \u001b[39m.\u001b[39m_set_should_preprocess_data()\n\u001b[0;32m   2118\u001b[0m     \u001b[39m.\u001b[39m_set_missingness()\n\u001b[0;32m   2119\u001b[0m     \u001b[39m.\u001b[39m_initialize_pipeline()\n\u001b[0;32m   2120\u001b[0m     \u001b[39m##################################################################\u001b[39;00m\n\u001b[0;32m   2121\u001b[0m     \u001b[39m# Do these after the preprocessing pipeline has been setup.\u001b[39;00m\n\u001b[0;32m   2122\u001b[0m     \u001b[39m# Since the model will see transformed data, these parameters\u001b[39;00m\n\u001b[0;32m   2123\u001b[0m     \u001b[39m# should also be derived from the transformed data.\u001b[39;00m\n\u001b[0;32m   2124\u001b[0m     \u001b[39m##################################################################\u001b[39;00m\n\u001b[0;32m   2125\u001b[0m     \u001b[39m.\u001b[39m_check_and_set_seasonal_period()\n\u001b[0;32m   2126\u001b[0m     \u001b[39m.\u001b[39m_set_seasonal_type(seasonality_type\u001b[39m=\u001b[39mseasonality_type)\n\u001b[0;32m   2127\u001b[0m     \u001b[39m.\u001b[39m_perform_setup_eda()\n\u001b[0;32m   2128\u001b[0m     \u001b[39m.\u001b[39m_setup_display_container()\n\u001b[0;32m   2129\u001b[0m     \u001b[39m.\u001b[39m_profile(profile, profile_kwargs)\n\u001b[0;32m   2130\u001b[0m     \u001b[39m.\u001b[39m_set_exp_model_engines(\n\u001b[0;32m   2131\u001b[0m         container_default_engines\u001b[39m=\u001b[39mget_container_default_engines(),\n\u001b[0;32m   2132\u001b[0m         engine\u001b[39m=\u001b[39mengine,\n\u001b[0;32m   2133\u001b[0m     )\n\u001b[0;32m   2134\u001b[0m     \u001b[39m.\u001b[39m_set_all_models()\n\u001b[0;32m   2135\u001b[0m     \u001b[39m.\u001b[39m_set_all_metrics()\n\u001b[0;32m   2136\u001b[0m )\n\u001b[0;32m   2138\u001b[0m runtime \u001b[39m=\u001b[39m np\u001b[39m.\u001b[39marray(time\u001b[39m.\u001b[39mtime() \u001b[39m-\u001b[39m runtime_start)\u001b[39m.\u001b[39mround(\u001b[39m2\u001b[39m)\n\u001b[0;32m   2140\u001b[0m \u001b[39mself\u001b[39m\u001b[39m.\u001b[39m_set_up_logging(\n\u001b[0;32m   2141\u001b[0m     runtime,\n\u001b[0;32m   2142\u001b[0m     log_data,\n\u001b[0;32m   2143\u001b[0m     log_profile,\n\u001b[0;32m   2144\u001b[0m     experiment_custom_tags\u001b[39m=\u001b[39mexperiment_custom_tags,\n\u001b[0;32m   2145\u001b[0m )\n",
      "File \u001b[1;32mc:\\Users\\crudek\\AppData\\Local\\anaconda3\\envs\\newpycaret\\lib\\site-packages\\pycaret\\time_series\\forecasting\\oop.py:987\u001b[0m, in \u001b[0;36mTSForecastingExperiment._set_fold_generator\u001b[1;34m(self)\u001b[0m\n\u001b[0;32m    984\u001b[0m \u001b[39mif\u001b[39;00m \u001b[39mself\u001b[39m\u001b[39m.\u001b[39mfold_strategy \u001b[39min\u001b[39;00m possible_time_series_fold_strategies:\n\u001b[0;32m    985\u001b[0m     \u001b[39m# Number of folds\u001b[39;00m\n\u001b[0;32m    986\u001b[0m     \u001b[39mself\u001b[39m\u001b[39m.\u001b[39mfold_param \u001b[39m=\u001b[39m \u001b[39mself\u001b[39m\u001b[39m.\u001b[39mfold\n\u001b[1;32m--> 987\u001b[0m     \u001b[39mself\u001b[39m\u001b[39m.\u001b[39mfold_generator \u001b[39m=\u001b[39m \u001b[39mself\u001b[39;49m\u001b[39m.\u001b[39;49mget_fold_generator(fold\u001b[39m=\u001b[39;49m\u001b[39mself\u001b[39;49m\u001b[39m.\u001b[39;49mfold_param)\n\u001b[0;32m    988\u001b[0m \u001b[39melse\u001b[39;00m:\n\u001b[0;32m    989\u001b[0m     \u001b[39mself\u001b[39m\u001b[39m.\u001b[39mfold_generator \u001b[39m=\u001b[39m \u001b[39mself\u001b[39m\u001b[39m.\u001b[39mfold_strategy\n",
      "File \u001b[1;32mc:\\Users\\crudek\\AppData\\Local\\anaconda3\\envs\\newpycaret\\lib\\site-packages\\pycaret\\time_series\\forecasting\\oop.py:5168\u001b[0m, in \u001b[0;36mTSForecastingExperiment.get_fold_generator\u001b[1;34m(self, fold, fold_strategy)\u001b[0m\n\u001b[0;32m   5165\u001b[0m initial_window \u001b[39m=\u001b[39m y_size \u001b[39m-\u001b[39m ((fold \u001b[39m-\u001b[39m \u001b[39m1\u001b[39m) \u001b[39m*\u001b[39m step_length \u001b[39m+\u001b[39m \u001b[39m1\u001b[39m \u001b[39m*\u001b[39m fh_max_length)\n\u001b[0;32m   5167\u001b[0m \u001b[39mif\u001b[39;00m initial_window \u001b[39m<\u001b[39m \u001b[39m1\u001b[39m:\n\u001b[1;32m-> 5168\u001b[0m     \u001b[39mraise\u001b[39;00m \u001b[39mValueError\u001b[39;00m(\n\u001b[0;32m   5169\u001b[0m         \u001b[39m\"\u001b[39m\u001b[39mNot Enough Data Points, set a lower number of folds or fh\u001b[39m\u001b[39m\"\u001b[39m\n\u001b[0;32m   5170\u001b[0m     )\n\u001b[0;32m   5172\u001b[0m \u001b[39m# If None, get the strategy defined in the setup (e.g. `expanding`, 'sliding`, etc.)\u001b[39;00m\n\u001b[0;32m   5173\u001b[0m \u001b[39mif\u001b[39;00m fold_strategy \u001b[39mis\u001b[39;00m \u001b[39mNone\u001b[39;00m:\n",
      "\u001b[1;31mValueError\u001b[0m: Not Enough Data Points, set a lower number of folds or fh"
     ]
    }
   ],
   "source": [
    "### Time Series Loop ###\n",
    "\n",
    "# Create empty dataframes\n",
    "all_results_ts = pd.DataFrame()\n",
    "all_predictions_ts = pd.DataFrame()\n",
    "\n",
    "# list of each dep-ent\n",
    "all_ts_ts = df_d['DEP_ENT'].unique()\n",
    "\n",
    "for i in tqdm(all_ts_ts):\n",
    "    \n",
    "    # temp df for a dep-ent\n",
    "    df_subset = df_d[df_d['DEP_ENT'] == i]\n",
    "    \n",
    "    # trim\n",
    "    df_subset_trim = df_subset[['MONTH', 'NET_SALES']] \n",
    "    \n",
    "    # create series\n",
    "    df_subset_s = df_subset_trim.set_index('MONTH')['NET_SALES']\n",
    "    \n",
    "    # set frequency of series\n",
    "    df_subset_s = df_subset_s.asfreq('MS') \n",
    "\n",
    "    # test and train\n",
    "    ts_train = round(len(df_subset_trim.index) * .8) # 80% train\n",
    "    ts_test = len(df_subset_trim.index) - round(len(df_subset_trim.index) * .8) # 20% test\n",
    "    \n",
    "    # initialize setup\n",
    "    #s = pycts.setup(df_subset_s, numeric_imputation_target = \"mean\", fh = ts_test, session_id = 123)\n",
    "    s = pycts.setup(df_subset_s, fh=12, numeric_imputation_target = \"mean\", session_id = 123)\n",
    "\n",
    "    # model training and selection\n",
    "    best_model = pycts.compare_models(sort = 'MAPE', exclude = [\"naive\", \"grand_means\", \"croston\", ])\n",
    "    #best_model = pycts.compare_models(sort = 'MAPE', include = [\"arima\", \"auto_arima\", \"ets\", ])\n",
    "    \n",
    "    # plot trained model\n",
    "    pycts.plot_model(best_model, plot = 'forecast')\n",
    "    \n",
    "    # capture the compare result grid and store best model in list\n",
    "    p = pycts.pull().iloc[0:1]\n",
    "    p['DEP_ENT'] = str(i)\n",
    "    \n",
    "    all_results_ts = all_results_ts.append(p)\n",
    "    \n",
    "    ### Predict future periods ###\n",
    "    \n",
    "    # max date from original dataset\n",
    "    max_timestamp = df_subset_trim['MONTH'].max()\n",
    "    \n",
    "    # create dataframe for future dates, in this case the rest of 2023. This is not for predicting but to join back up with predictions\n",
    "    #next_dates = [max_timestamp.replace(day=1) + pd.DateOffset(months=i) for i in range(1, 7)] # Need to change range based on how many periods ahead you want to predict\n",
    "    \n",
    "    next_dates = [max_timestamp.replace(day=1) + pd.DateOffset(months=i) for i in range(1, 13)] # *** CHANGE IF WANT TO FORECAST DIFFERENT THAN 12 ***\n",
    "    \n",
    "    new_dates_df = pd.DataFrame({'MONTH': next_dates})\n",
    "    new_dates_df[\"MONTH\"] = pd.to_datetime(new_dates_df[\"MONTH\"]) \n",
    "    \n",
    "    # predict in unseen future\n",
    "    #predictions = pycts.predict_model(best_model, fh=6) # Need to change range fh for how many periods ahead you want to predict\n",
    "    \n",
    "    predictions = pycts.predict_model(best_model, fh=12) # *** CHANGE IF WANT TO FORECAST DIFFERENT THAN 12 ***\n",
    "    \n",
    "    pred_temp = predictions.reset_index()\n",
    "    \n",
    "    pred_comb = pd.concat([pd.DataFrame({'MONTH': next_dates}), pred_temp['y_pred']], axis = 1)\n",
    "    pred_comb['DEP_ENT'] = i # add dep\n",
    "    pred_comb.rename(columns = {'y_pred':'PRED'}, inplace = True)\n",
    "    \n",
    "    # append to master dataframe\n",
    "    all_predictions_ts = all_predictions_ts.append(pred_comb)"
   ]
  },
  {
   "cell_type": "markdown",
   "metadata": {},
   "source": [
    "* Error above - 26_155 didnt have enough data\n",
    "Merge data"
   ]
  },
  {
   "cell_type": "code",
   "execution_count": 18,
   "metadata": {},
   "outputs": [],
   "source": [
    "# join the model info (just name for now)\n",
    "model_names = all_results_ts[['Model', 'DEP_ENT']]\n",
    "merged = pd.merge(all_predictions_ts, model_names, on =['DEP_ENT'])"
   ]
  },
  {
   "cell_type": "code",
   "execution_count": 19,
   "metadata": {},
   "outputs": [],
   "source": [
    "#initial sales pull\n",
    "sales = df_in\n",
    "# select cols\n",
    "sales = sales[[\"DEP_ENT\", \"MONTH\", \"NET_SALES\"]]\n",
    "# only include sales data for the full months we have\n",
    "first_of_month = datetime.today().replace(day=1).date()\n",
    "sales = sales[sales['MONTH'] < pd.to_datetime(first_of_month)]\n",
    "\n",
    "# combine prediction data and original sales data\n",
    "merged2 = pd.merge(merged, sales, how = 'left', on =['DEP_ENT', 'MONTH'])"
   ]
  },
  {
   "cell_type": "code",
   "execution_count": 21,
   "metadata": {},
   "outputs": [],
   "source": [
    "### Budget ###\n",
    "\n",
    "# Establish a connection to Snowflake\n",
    "conn = snowflake.connector.connect(**connection_params)\n",
    "\n",
    "with open('budget_query.sql', 'r') as query:\n",
    "    # connection == the connection to your database, in your case prob_db\n",
    "    budg = pd.read_sql_query(query.read(),conn)\n",
    "\n",
    "# Close the connection\n",
    "conn.close()\n",
    "\n",
    "# convert month to datetime\n",
    "budg[\"MONTH\"] = pd.to_datetime(budg[\"MONTH\"])\n",
    "# select cols\n",
    "budg = budg[[\"MONTH\", \"BUDGET_AMOUNT\", \"DEP_ENT\"]]"
   ]
  },
  {
   "cell_type": "code",
   "execution_count": 22,
   "metadata": {},
   "outputs": [],
   "source": [
    "# combine prediction/sales data with budget data\n",
    "merged3 = pd.merge(merged2, budg, how = 'left', on =['DEP_ENT', 'MONTH'])"
   ]
  },
  {
   "cell_type": "code",
   "execution_count": 23,
   "metadata": {},
   "outputs": [],
   "source": [
    "# write csv\n",
    "merged3.to_csv('pycaret_results.csv')"
   ]
  }
 ],
 "metadata": {
  "kernelspec": {
   "display_name": "newpycaret",
   "language": "python",
   "name": "python3"
  },
  "language_info": {
   "codemirror_mode": {
    "name": "ipython",
    "version": 3
   },
   "file_extension": ".py",
   "mimetype": "text/x-python",
   "name": "python",
   "nbconvert_exporter": "python",
   "pygments_lexer": "ipython3",
   "version": "3.9.13"
  },
  "orig_nbformat": 4
 },
 "nbformat": 4,
 "nbformat_minor": 2
}
