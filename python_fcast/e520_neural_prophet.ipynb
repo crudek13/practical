{
 "cells": [
  {
   "cell_type": "markdown",
   "metadata": {},
   "source": [
    "# Neural Prohpet\n",
    "newpycaret env\n",
    "\n",
    "https://github.com/ourownstory/neural_prophet\n",
    "https://neuralprophet.com/how-to-guides/feature-guides/global_local_modeling.html\n"
   ]
  },
  {
   "cell_type": "code",
   "execution_count": 18,
   "metadata": {},
   "outputs": [],
   "source": [
    "# Packages\n",
    "import pandas as pd\n",
    "import numpy as np\n",
    "import matplotlib.pyplot as plt\n",
    "import snowflake.connector\n",
    "import os\n",
    "from sklearn.impute import SimpleImputer\n",
    "from neuralprophet import NeuralProphet, set_log_level\n",
    "from datetime import datetime, timedelta\n",
    "from dateutil import relativedelta\n",
    "from autots import AutoTS"
   ]
  },
  {
   "cell_type": "markdown",
   "metadata": {},
   "source": [
    "2. Load Data\n",
    "_______________________________________________________________\n",
    "\n",
    "### To Do: copy and paste in to a new chunk, enter credentials and run to save in environment. Then delete chunk\n",
    "%env snowflakeuser=<your_snowflake_username> <br>\n",
    "%env snowflakepass=<your_snowflake_password>"
   ]
  },
  {
   "cell_type": "code",
   "execution_count": 2,
   "metadata": {},
   "outputs": [
    {
     "name": "stdout",
     "output_type": "stream",
     "text": [
      "env: snowflakeuser=Crudek\n",
      "env: snowflakepass=Vitamix22!\n"
     ]
    }
   ],
   "source": [
    "%env snowflakeuser=Crudek\n",
    "%env snowflakepass=Vitamix22!"
   ]
  },
  {
   "cell_type": "code",
   "execution_count": 5,
   "metadata": {},
   "outputs": [
    {
     "name": "stderr",
     "output_type": "stream",
     "text": [
      "WARNING - (py.warnings._showwarnmsg) - C:\\Users\\crudek\\AppData\\Local\\Temp\\ipykernel_3696\\566721061.py:19: UserWarning: pandas only supports SQLAlchemy connectable (engine/connection) or database string URI or sqlite3 DBAPI2 connection. Other DBAPI2 objects are not tested. Please consider using SQLAlchemy.\n",
      "  df_initial = pd.read_sql_query(query.read(), conn)\n",
      "\n"
     ]
    }
   ],
   "source": [
    "# Query Snowflake\n",
    "\n",
    "# Snowflake connection parameters\n",
    "connection_params = {\n",
    "    \"user\": os.environ['snowflakeuser'],\n",
    "    \"password\": os.environ['snowflakepass'],\n",
    "    \"account\": \"zib52348.us-east-1\",\n",
    "    \"role\": \"ACCOUNTADMIN\",\n",
    "    \"warehouse\": \"REPORTING\",\n",
    "    \"database\": \"ANALYTICS\",\n",
    "    \"schema\": \"SALES\",\n",
    "}\n",
    "\n",
    "# Establish a connection to Snowflake\n",
    "conn = snowflake.connector.connect(**connection_params)\n",
    "\n",
    "with open('costco_e520_query.sql', 'r') as query:\n",
    "    # connection == the connection to your database, in your case prob_db\n",
    "    df_initial = pd.read_sql_query(query.read(), conn)\n",
    "\n",
    "# Close the connection\n",
    "conn.close()"
   ]
  },
  {
   "cell_type": "code",
   "execution_count": 6,
   "metadata": {},
   "outputs": [
    {
     "data": {
      "text/html": [
       "<div>\n",
       "<style scoped>\n",
       "    .dataframe tbody tr th:only-of-type {\n",
       "        vertical-align: middle;\n",
       "    }\n",
       "\n",
       "    .dataframe tbody tr th {\n",
       "        vertical-align: top;\n",
       "    }\n",
       "\n",
       "    .dataframe thead th {\n",
       "        text-align: right;\n",
       "    }\n",
       "</style>\n",
       "<table border=\"1\" class=\"dataframe\">\n",
       "  <thead>\n",
       "    <tr style=\"text-align: right;\">\n",
       "      <th></th>\n",
       "      <th>MONTH</th>\n",
       "      <th>UNITS</th>\n",
       "    </tr>\n",
       "  </thead>\n",
       "  <tbody>\n",
       "    <tr>\n",
       "      <th>0</th>\n",
       "      <td>2022-12-01</td>\n",
       "      <td>25628.0</td>\n",
       "    </tr>\n",
       "    <tr>\n",
       "      <th>1</th>\n",
       "      <td>2023-02-01</td>\n",
       "      <td>8201.0</td>\n",
       "    </tr>\n",
       "    <tr>\n",
       "      <th>2</th>\n",
       "      <td>2022-11-01</td>\n",
       "      <td>21570.0</td>\n",
       "    </tr>\n",
       "    <tr>\n",
       "      <th>3</th>\n",
       "      <td>2023-06-01</td>\n",
       "      <td>2990.0</td>\n",
       "    </tr>\n",
       "    <tr>\n",
       "      <th>4</th>\n",
       "      <td>2022-09-01</td>\n",
       "      <td>4794.0</td>\n",
       "    </tr>\n",
       "    <tr>\n",
       "      <th>5</th>\n",
       "      <td>2022-10-01</td>\n",
       "      <td>9913.0</td>\n",
       "    </tr>\n",
       "    <tr>\n",
       "      <th>6</th>\n",
       "      <td>2023-09-01</td>\n",
       "      <td>3855.0</td>\n",
       "    </tr>\n",
       "    <tr>\n",
       "      <th>7</th>\n",
       "      <td>2023-08-01</td>\n",
       "      <td>5905.0</td>\n",
       "    </tr>\n",
       "    <tr>\n",
       "      <th>8</th>\n",
       "      <td>2023-05-01</td>\n",
       "      <td>14365.0</td>\n",
       "    </tr>\n",
       "    <tr>\n",
       "      <th>9</th>\n",
       "      <td>2022-08-01</td>\n",
       "      <td>3027.0</td>\n",
       "    </tr>\n",
       "    <tr>\n",
       "      <th>10</th>\n",
       "      <td>2023-10-01</td>\n",
       "      <td>9106.0</td>\n",
       "    </tr>\n",
       "    <tr>\n",
       "      <th>11</th>\n",
       "      <td>2023-03-01</td>\n",
       "      <td>5210.0</td>\n",
       "    </tr>\n",
       "    <tr>\n",
       "      <th>12</th>\n",
       "      <td>2023-07-01</td>\n",
       "      <td>10731.0</td>\n",
       "    </tr>\n",
       "    <tr>\n",
       "      <th>13</th>\n",
       "      <td>2023-01-01</td>\n",
       "      <td>6350.0</td>\n",
       "    </tr>\n",
       "    <tr>\n",
       "      <th>14</th>\n",
       "      <td>2023-04-01</td>\n",
       "      <td>22825.0</td>\n",
       "    </tr>\n",
       "  </tbody>\n",
       "</table>\n",
       "</div>"
      ],
      "text/plain": [
       "         MONTH    UNITS\n",
       "0   2022-12-01  25628.0\n",
       "1   2023-02-01   8201.0\n",
       "2   2022-11-01  21570.0\n",
       "3   2023-06-01   2990.0\n",
       "4   2022-09-01   4794.0\n",
       "5   2022-10-01   9913.0\n",
       "6   2023-09-01   3855.0\n",
       "7   2023-08-01   5905.0\n",
       "8   2023-05-01  14365.0\n",
       "9   2022-08-01   3027.0\n",
       "10  2023-10-01   9106.0\n",
       "11  2023-03-01   5210.0\n",
       "12  2023-07-01  10731.0\n",
       "13  2023-01-01   6350.0\n",
       "14  2023-04-01  22825.0"
      ]
     },
     "execution_count": 6,
     "metadata": {},
     "output_type": "execute_result"
    }
   ],
   "source": [
    "df_initial"
   ]
  },
  {
   "cell_type": "code",
   "execution_count": 9,
   "metadata": {},
   "outputs": [],
   "source": [
    "# create copy of df_d\n",
    "df = df_initial.copy(deep=True)\n",
    "\n",
    "# convert month field to date\n",
    "df[\"MONTH\"] = pd.to_datetime(df[\"MONTH\"])\n",
    "\n",
    "# Some random months will have data that we want to remove (* Want to test without July though)\n",
    "df = df.sort_values(['MONTH'])  # reorder dataframe\n",
    "\n",
    "# create series\n",
    "df_s = df.set_index(['MONTH'])['UNITS']\n",
    "# convert back to dataframe\n",
    "df_d = df_s.to_frame()\n",
    "#reset index\n",
    "df_d.reset_index(inplace=True)\n",
    "\n",
    "df_d2 = df_d[df_d['MONTH'] < '2023-10-01']"
   ]
  },
  {
   "cell_type": "code",
   "execution_count": 16,
   "metadata": {},
   "outputs": [
    {
     "name": "stderr",
     "output_type": "stream",
     "text": [
      "WARNING - (NP.forecaster.fit) - When Global modeling with local normalization, metrics are displayed in normalized scale.\n",
      "INFO - (NP.df_utils._infer_frequency) - Major frequency MS corresponds to [92.857]% of the data.\n",
      "INFO - (NP.df_utils._infer_frequency) - Defined frequency is equal to major frequency - MS\n",
      "INFO - (NP.config.init_data_params) - Setting normalization to global as only one dataframe provided for training.\n",
      "INFO - (NP.utils.set_auto_seasonalities) - Disabling yearly seasonality. Run NeuralProphet with yearly_seasonality=True to override this.\n",
      "INFO - (NP.utils.set_auto_seasonalities) - Disabling weekly seasonality. Run NeuralProphet with weekly_seasonality=True to override this.\n",
      "INFO - (NP.utils.set_auto_seasonalities) - Disabling daily seasonality. Run NeuralProphet with daily_seasonality=True to override this.\n",
      "INFO - (NP.config.set_auto_batch_epoch) - Auto-set batch_size to 14\n",
      "INFO - (NP.config.set_auto_batch_epoch) - Auto-set epochs to 1000\n",
      "WARNING - (NP.config.set_lr_finder_args) - Learning rate finder: The number of batches (1) is too small than the required number for the learning rate finder (201). The results might not be optimal.\n",
      "Missing logger folder: c:\\Users\\crudek\\Github\\practical\\python_fcast\\lightning_logs\n"
     ]
    },
    {
     "data": {
      "application/vnd.jupyter.widget-view+json": {
       "model_id": "2980301ab1b8485abfc32eb026bba7d9",
       "version_major": 2,
       "version_minor": 0
      },
      "text/plain": [
       "Finding best initial lr:   0%|          | 0/201 [00:00<?, ?it/s]"
      ]
     },
     "metadata": {},
     "output_type": "display_data"
    },
    {
     "data": {
      "application/vnd.jupyter.widget-view+json": {
       "model_id": "4bd2d213a0724dbe945c12d6949231ab",
       "version_major": 2,
       "version_minor": 0
      },
      "text/plain": [
       "Training: 0it [00:00, ?it/s]"
      ]
     },
     "metadata": {},
     "output_type": "display_data"
    },
    {
     "name": "stderr",
     "output_type": "stream",
     "text": [
      "INFO - (NP.df_utils._infer_frequency) - Major frequency MS corresponds to [92.857]% of the data.\n",
      "INFO - (NP.df_utils._infer_frequency) - Defined frequency is equal to major frequency - MS\n",
      "INFO - (NP.df_utils.return_df_in_original_format) - Returning df with no ID column\n",
      "INFO - (NP.df_utils._infer_frequency) - Major frequency MS corresponds to [94.118]% of the data.\n",
      "INFO - (NP.df_utils._infer_frequency) - Defined frequency is equal to major frequency - MS\n",
      "INFO - (NP.df_utils._infer_frequency) - Major frequency MS corresponds to [94.118]% of the data.\n",
      "INFO - (NP.df_utils._infer_frequency) - Defined frequency is equal to major frequency - MS\n"
     ]
    },
    {
     "data": {
      "application/vnd.jupyter.widget-view+json": {
       "model_id": "f97b01a9fe6f4b7bb6e08e36a1a5da4b",
       "version_major": 2,
       "version_minor": 0
      },
      "text/plain": [
       "Predicting: 1it [00:00, ?it/s]"
      ]
     },
     "metadata": {},
     "output_type": "display_data"
    },
    {
     "name": "stderr",
     "output_type": "stream",
     "text": [
      "INFO - (NP.df_utils.return_df_in_original_format) - Returning df with no ID column\n"
     ]
    }
   ],
   "source": [
    "data = df_d2.rename(columns={'MONTH': 'ds', 'UNITS': 'y'})\n",
    "    \n",
    "# Initialize and train the model\n",
    "model = NeuralProphet()\n",
    "model.fit(data, freq=\"MS\")\n",
    "\n",
    "# Create a dataframe with future dates for prediction\n",
    "future = model.make_future_dataframe(data, periods=3, n_historic_predictions=len(data))\n",
    "    \n",
    "# Make predictions for the next 12 periods\n",
    "forecast = model.predict(future)"
   ]
  },
  {
   "cell_type": "code",
   "execution_count": 19,
   "metadata": {},
   "outputs": [
    {
     "name": "stdout",
     "output_type": "stream",
     "text": [
      "Using 6 cpus for n_jobs.\n",
      "Data frequency is: MS, used frequency is: MS\n",
      "Too many training validations for length of data provided, decreasing num_validations to 3\n",
      "Model Number: 1 with model ARIMA in generation 0 of 10\n",
      "Model Number: 2 with model AverageValueNaive in generation 0 of 10\n",
      "Model Number: 3 with model AverageValueNaive in generation 0 of 10\n",
      "Model Number: 4 with model AverageValueNaive in generation 0 of 10\n",
      "Model Number: 5 with model DatepartRegression in generation 0 of 10\n",
      "Model Number: 6 with model DatepartRegression in generation 0 of 10\n",
      "Model Number: 7 with model DatepartRegression in generation 0 of 10\n",
      "Model Number: 8 with model DatepartRegression in generation 0 of 10\n",
      "Template Eval Error: ImportError('Tensorflow not available, install with pip install tensorflow.') in model 8 in generation 0: DatepartRegression\n",
      "Model Number: 9 with model ETS in generation 0 of 10\n",
      "Model Number: 10 with model ETS in generation 0 of 10\n",
      "ETS error ValueError('Cannot compute initial seasonals using heuristic method with less than two full seasonal cycles in the data.')\n",
      "ETS failed on y with ValueError('Cannot compute initial seasonals using heuristic method with less than two full seasonal cycles in the data.')\n",
      "Model Number: 11 with model GLM in generation 0 of 10"
     ]
    },
    {
     "name": "stderr",
     "output_type": "stream",
     "text": [
      "WARNING - (py.warnings._showwarnmsg) - c:\\Users\\crudek\\AppData\\Local\\anaconda3\\envs\\newpycaret\\lib\\site-packages\\statsmodels\\genmod\\generalized_linear_model.py:1257: PerfectSeparationWarning: Perfect separation or prediction detected, parameter may not be identified\n",
      "  warnings.warn(msg, category=PerfectSeparationWarning)\n",
      "\n"
     ]
    },
    {
     "name": "stdout",
     "output_type": "stream",
     "text": [
      "\n"
     ]
    },
    {
     "name": "stderr",
     "output_type": "stream",
     "text": [
      "WARNING - (py.warnings._showwarnmsg) - c:\\Users\\crudek\\AppData\\Local\\anaconda3\\envs\\newpycaret\\lib\\site-packages\\statsmodels\\genmod\\generalized_linear_model.py:1257: PerfectSeparationWarning: Perfect separation or prediction detected, parameter may not be identified\n",
      "  warnings.warn(msg, category=PerfectSeparationWarning)\n",
      "\n",
      "WARNING - (py.warnings._showwarnmsg) - c:\\Users\\crudek\\AppData\\Local\\anaconda3\\envs\\newpycaret\\lib\\site-packages\\statsmodels\\genmod\\generalized_linear_model.py:1257: PerfectSeparationWarning: Perfect separation or prediction detected, parameter may not be identified\n",
      "  warnings.warn(msg, category=PerfectSeparationWarning)\n",
      "\n"
     ]
    },
    {
     "name": "stdout",
     "output_type": "stream",
     "text": [
      "Model Number: 12 with model GLM in generation 0 of 10\n",
      "Model Number: 13 with model GLS in generation 0 of 10\n",
      "Model Number: 14 with model GLS in generation 0 of 10\n",
      "Model Number: 15 with model LastValueNaive in generation 0 of 10\n",
      "Model Number: 16 with model LastValueNaive in generation 0 of 10\n",
      "Model Number: 17 with model LastValueNaive in generation 0 of 10\n",
      "Model Number: 18 with model LastValueNaive in generation 0 of 10\n",
      "Model Number: 19 with model SeasonalNaive in generation 0 of 10\n"
     ]
    },
    {
     "name": "stderr",
     "output_type": "stream",
     "text": [
      "WARNING - (py.warnings._showwarnmsg) - c:\\Users\\crudek\\AppData\\Local\\anaconda3\\envs\\newpycaret\\lib\\site-packages\\autots\\tools\\probabilistic.py:67: RuntimeWarning: invalid value encountered in divide\n",
      "  (prior_mu / prior_sigma**2) + ((n * data_mu) / prior_sigma**2)\n",
      "\n",
      "WARNING - (py.warnings._showwarnmsg) - c:\\Users\\crudek\\AppData\\Local\\anaconda3\\envs\\newpycaret\\lib\\site-packages\\autots\\tools\\probabilistic.py:68: RuntimeWarning: divide by zero encountered in divide\n",
      "  ) / ((1 / prior_sigma**2) + (n / prior_sigma**2))\n",
      "\n"
     ]
    },
    {
     "name": "stdout",
     "output_type": "stream",
     "text": [
      "Model Number: 20 with model SeasonalNaive in generation 0 of 10\n",
      "Model Number: 21 with model SeasonalNaive in generation 0 of 10\n",
      "Model Number: 22 with model UnobservedComponents in generation 0 of 10\n",
      "Model Number: 23 with model UnobservedComponents in generation 0 of 10\n",
      "Model Number: 24 with model UnobservedComponents in generation 0 of 10\n",
      "Model Number: 25 with model ConstantNaive in generation 0 of 10\n",
      "Model Number: 26 with model FBProphet in generation 0 of 10\n",
      "Model Number: 27 with model DatepartRegression in generation 0 of 10\n",
      "Template Eval Error: ValueError(\"regression_type='User' but no future_regressor passed\") in model 27 in generation 0: DatepartRegression\n",
      "Model Number: 28 with model SeasonalNaive in generation 0 of 10\n",
      "Model Number: 29 with model DatepartRegression in generation 0 of 10\n",
      "Model Number: 30 with model UnobservedComponents in generation 0 of 10\n",
      "Model Number: 31 with model UnobservedComponents in generation 0 of 10\n",
      "Model Number: 32 with model ETS in generation 0 of 10\n",
      "ETS error ValueError('Cannot compute initial seasonals using heuristic method with less than two full seasonal cycles in the data.')\n",
      "ETS failed on y with ValueError('Cannot compute initial seasonals using heuristic method with less than two full seasonal cycles in the data.')\n",
      "Model Number: 33 with model ARDL in generation 0 of 10\n",
      "Model Number: 34 with model UnivariateMotif in generation 0 of 10\n",
      "Template Eval Error: ValueError('window shape cannot be larger than input array shape') in model 34 in generation 0: UnivariateMotif\n",
      "Model Number: 35 with model UnivariateMotif in generation 0 of 10\n",
      "Template Eval Error: ValueError('window shape cannot be larger than input array shape') in model 35 in generation 0: UnivariateMotif\n",
      "Model Number: 36 with model FBProphet in generation 0 of 10\n"
     ]
    },
    {
     "name": "stderr",
     "output_type": "stream",
     "text": [
      "14:56:28 - cmdstanpy - INFO - Chain [1] start processing\n",
      "14:56:28 - cmdstanpy - INFO - Chain [1] done processing\n"
     ]
    },
    {
     "name": "stdout",
     "output_type": "stream",
     "text": [
      "Model Number: 37 with model SeasonalNaive in generation 0 of 10\n",
      "Model Number: 38 with model DatepartRegression in generation 0 of 10\n",
      "Model Number: 39 with model Theta in generation 0 of 10\n",
      "Template Eval Error: ValueError('x must have 2 complete cycles requires 24 observations. x only has 11 observation(s)') in model 39 in generation 0: Theta\n",
      "Model Number: 40 with model UnivariateRegression in generation 0 of 10\n",
      "Template Eval Error: ValueError('Input X contains NaN.\\nDecisionTreeRegressor does not accept missing values encoded as NaN natively. For supervised learning, you might want to consider sklearn.ensemble.HistGradientBoostingClassifier and Regressor which accept missing values encoded as NaNs natively. Alternatively, it is possible to preprocess the data, for instance by using an imputer transformer in a pipeline or drop samples with missing values. See https://scikit-learn.org/stable/modules/impute.html You can find a list of all estimators that handle NaN values at the following page: https://scikit-learn.org/stable/modules/impute.html#estimators-that-handle-nan-values') in model 40 in generation 0: UnivariateRegression\n",
      "Model Number: 41 with model ARCH in generation 0 of 10\n",
      "Template Eval Error: ImportError('`arch` package must be installed from pip') in model 41 in generation 0: ARCH\n",
      "Model Number: 42 with model SeasonalityMotif in generation 0 of 10\n",
      "Template Eval Error: ValueError('kth(=9) out of bounds (4)') in model 42 in generation 0: SeasonalityMotif\n",
      "Model Number: 43 with model ETS in generation 0 of 10\n",
      "Model Number: 44 with model NeuralProphet in generation 0 of 10\n",
      "Template Eval Error: TypeError(\"__init__() got an unexpected keyword argument 'num_hidden_layers'\") in model 44 in generation 0: NeuralProphet\n",
      "Model Number: 45 with model MLEnsemble in generation 0 of 10\n",
      "Template Eval Error: ValueError('num_validations/num_indices too high for this dataset') in model 45 in generation 0: MLEnsemble\n",
      "Model Number: 46 with model UnobservedComponents in generation 0 of 10\n",
      "Model Number: 47 with model KalmanStateSpace in generation 0 of 10\n",
      "Model Number: 48 with model ARCH in generation 0 of 10\n",
      "Template Eval Error: Exception('Transformer RegressionFilter failed on fit') in model 48 in generation 0: ARCH\n",
      "Model Number: 49 with model ARIMA in generation 0 of 10\n",
      "Template Eval Error: ValueError(\"regression_type='User' but future_regressor not supplied\") in model 49 in generation 0: ARIMA\n",
      "Model Number: 50 with model UnivariateRegression in generation 0 of 10\n",
      "Template Eval Error: Exception('Transformer DatepartRegression failed on fit') in model 50 in generation 0: UnivariateRegression\n",
      "Model Number: 51 with model ARDL in generation 0 of 10\n",
      "Model Number: 52 with model GLS in generation 0 of 10\n",
      "Template Eval Error: Exception('Transformer RegressionFilter failed on fit') in model 52 in generation 0: GLS\n",
      "Model Number: 53 with model DatepartRegression in generation 0 of 10\n",
      "Template Eval Error: Exception('Transformer RegressionFilter failed on fit') in model 53 in generation 0: DatepartRegression\n",
      "Model Number: 54 with model Theta in generation 0 of 10\n"
     ]
    },
    {
     "name": "stderr",
     "output_type": "stream",
     "text": [
      "WARNING - (py.warnings._showwarnmsg) - c:\\Users\\crudek\\AppData\\Local\\anaconda3\\envs\\newpycaret\\lib\\site-packages\\statsmodels\\genmod\\families\\family.py:1650: RuntimeWarning: invalid value encountered in log\n",
      "  endog * np.log(endog / mu) + (mu - endog))\n",
      "\n",
      "WARNING - (py.warnings._showwarnmsg) - c:\\Users\\crudek\\AppData\\Local\\anaconda3\\envs\\newpycaret\\lib\\site-packages\\statsmodels\\genmod\\families\\family.py:1650: RuntimeWarning: divide by zero encountered in divide\n",
      "  endog * np.log(endog / mu) + (mu - endog))\n",
      "\n",
      "WARNING - (py.warnings._showwarnmsg) - c:\\Users\\crudek\\AppData\\Local\\anaconda3\\envs\\newpycaret\\lib\\site-packages\\statsmodels\\genmod\\generalized_linear_model.py:813: RuntimeWarning: divide by zero encountered in divide\n",
      "  return np.sum(resid / self.family.variance(mu)) / self.df_resid\n",
      "\n",
      "WARNING - (py.warnings._showwarnmsg) - c:\\Users\\crudek\\AppData\\Local\\anaconda3\\envs\\newpycaret\\lib\\site-packages\\statsmodels\\genmod\\families\\family.py:143: RuntimeWarning: divide by zero encountered in divide\n",
      "  return 1. / (self.link.deriv(mu)**2 * self.variance(mu))\n",
      "\n"
     ]
    },
    {
     "name": "stdout",
     "output_type": "stream",
     "text": [
      "Model Number: 55 with model GLM in generation 0 of 10\n",
      "Template Eval Error: ValueError('NaN, inf or invalid value detected in weights, estimation infeasible.') in model 55 in generation 0: GLM\n",
      "Model Number: 56 with model AverageValueNaive in generation 0 of 10\n",
      "Model Number: 57 with model FBProphet in generation 0 of 10\n"
     ]
    },
    {
     "name": "stderr",
     "output_type": "stream",
     "text": [
      "WARNING - (py.warnings._showwarnmsg) - c:\\Users\\crudek\\AppData\\Local\\anaconda3\\envs\\newpycaret\\lib\\site-packages\\autots\\tools\\probabilistic.py:67: RuntimeWarning: invalid value encountered in divide\n",
      "  (prior_mu / prior_sigma**2) + ((n * data_mu) / prior_sigma**2)\n",
      "\n",
      "WARNING - (py.warnings._showwarnmsg) - c:\\Users\\crudek\\AppData\\Local\\anaconda3\\envs\\newpycaret\\lib\\site-packages\\autots\\tools\\probabilistic.py:68: RuntimeWarning: divide by zero encountered in divide\n",
      "  ) / ((1 / prior_sigma**2) + (n / prior_sigma**2))\n",
      "\n"
     ]
    },
    {
     "name": "stdout",
     "output_type": "stream",
     "text": [
      "Model Number: 58 with model ConstantNaive in generation 0 of 10\n",
      "Template Eval Error: Exception('Transformer HolidayTransformer failed on fit') in model 58 in generation 0: ConstantNaive\n",
      "Model Number: 59 with model MetricMotif in generation 0 of 10\n",
      "Template Eval Error: ValueError('window shape cannot be larger than input array shape') in model 59 in generation 0: MetricMotif\n",
      "Model Number: 60 with model UnivariateMotif in generation 0 of 10\n",
      "Template Eval Error: ValueError('window shape cannot be larger than input array shape') in model 60 in generation 0: UnivariateMotif\n",
      "Model Number: 61 with model LastValueNaive in generation 0 of 10\n",
      "Template Eval Error: Exception('Transformer AlignLastValue failed on fit') in model 61 in generation 0: LastValueNaive\n",
      "Model Number: 62 with model SeasonalNaive in generation 0 of 10\n",
      "Model Number: 63 with model SeasonalityMotif in generation 0 of 10\n",
      "Model Number: 64 with model ARDL in generation 0 of 10\n",
      "Template Eval Error: ValueError(\"ARDL series y failed with error ValueError('The number of regressors (48) including deterministics, lags of the endog, lags of the exogenous, and fixed regressors is larger than the sample available for estimation (10).') exog train             weekend  quarter      epoch  month_1  month_2  month_3  month_4  \\\\\\nds                                                                            \\n2022-08-01        0        3  2459792.5      0.0      0.0      0.0      0.0   \\n2022-09-01        0        3  2459823.5      0.0      0.0      0.0      0.0   \\n2022-10-01        1        4  2459853.5      0.0      0.0      0.0      0.0   \\n2022-11-01        0        4  2459884.5      0.0      0.0      0.0      0.0   \\n2022-12-01        0        4  2459914.5      0.0      0.0      0.0      0.0   \\n2023-01-01        1        1  2459945.5      1.0      0.0      0.0      0.0   \\n2023-02-01        0        1  2459976.5      0.0      1.0      0.0      0.0   \\n2023-03-01        0        1  2460004.5      0.0      0.0      1.0      0.0   \\n2023-04-01        1        2  2460035.5      0.0      0.0      0.0      1.0   \\n2023-05-01        0        2  2460065.5      0.0      0.0      0.0      0.0   \\n2023-06-01        0        2  2460096.5      0.0      0.0      0.0      0.0   \\n\\n            month_5  month_6  month_7  ...  month_11  month_12  weekday_0  \\\\\\nds                                     ...                                  \\n2022-08-01      0.0      0.0      0.0  ...       0.0       0.0        1.0   \\n2022-09-01      0.0      0.0      0.0  ...       0.0       0.0        0.0   \\n2022-10-01      0.0      0.0      0.0  ...       0.0       0.0        0.0   \\n2022-11-01      0.0      0.0      0.0  ...       1.0       0.0        0.0   \\n2022-12-01      0.0      0.0      0.0  ...       0.0       1.0        0.0   \\n2023-01-01      0.0      0.0      0.0  ...       0.0       0.0        0.0   \\n2023-02-01      0.0      0.0      0.0  ...       0.0       0.0        0.0   \\n2023-03-01      0.0      0.0      0.0  ...       0.0       0.0        0.0   \\n2023-04-01      0.0      0.0      0.0  ...       0.0       0.0        0.0   \\n2023-05-01      1.0      0.0      0.0  ...       0.0       0.0        1.0   \\n2023-06-01      0.0      1.0      0.0  ...       0.0       0.0        0.0   \\n\\n            weekday_1  weekday_2  weekday_3  weekday_4  weekday_5  weekday_6  \\\\\\nds                                                                             \\n2022-08-01        0.0        0.0        0.0        0.0        0.0        0.0   \\n2022-09-01        0.0        0.0        1.0        0.0        0.0        0.0   \\n2022-10-01        0.0        0.0        0.0        0.0        1.0        0.0   \\n2022-11-01        1.0        0.0        0.0        0.0        0.0        0.0   \\n2022-12-01        0.0        0.0        1.0        0.0        0.0        0.0   \\n2023-01-01        0.0        0.0        0.0        0.0        0.0        1.0   \\n2023-02-01        0.0        1.0        0.0        0.0        0.0        0.0   \\n2023-03-01        0.0        1.0        0.0        0.0        0.0        0.0   \\n2023-04-01        0.0        0.0        0.0        0.0        1.0        0.0   \\n2023-05-01        0.0        0.0        0.0        0.0        0.0        0.0   \\n2023-06-01        0.0        0.0        1.0        0.0        0.0        0.0   \\n\\n               phase  \\nds                    \\n2022-08-01  0.151187  \\n2022-09-01  0.292373  \\n2022-10-01  0.367633  \\n2022-11-01  0.561603  \\n2022-12-01  0.628538  \\n2023-01-01  0.766082  \\n2023-02-01  0.860949  \\n2023-03-01  0.723677  \\n2023-04-01  0.818447  \\n2023-05-01  0.838222  \\n2023-06-01  0.930980  \\n\\n[11 rows x 23 columns] and predict             weekend  quarter      epoch  month_1  month_2  month_3  month_4  \\\\\\n2023-07-01        1        3  2460126.5      0.0      0.0      0.0      0.0   \\n2023-08-01        0        3  2460157.5      0.0      0.0      0.0      0.0   \\n2023-09-01        0        3  2460188.5      0.0      0.0      0.0      0.0   \\n\\n            month_5  month_6  month_7  ...  month_11  month_12  weekday_0  \\\\\\n2023-07-01      0.0      0.0      1.0  ...       0.0       0.0        0.0   \\n2023-08-01      0.0      0.0      0.0  ...       0.0       0.0        0.0   \\n2023-09-01      0.0      0.0      0.0  ...       0.0       0.0        0.0   \\n\\n            weekday_1  weekday_2  weekday_3  weekday_4  weekday_5  weekday_6  \\\\\\n2023-07-01        0.0        0.0        0.0        0.0        1.0        0.0   \\n2023-08-01        1.0        0.0        0.0        0.0        0.0        0.0   \\n2023-09-01        0.0        0.0        0.0        1.0        0.0        0.0   \\n\\n               phase  \\n2023-07-01  0.960562  \\n2023-08-01  0.999965  \\n2023-09-01  0.954690  \\n\\n[3 rows x 23 columns]\") in model 64 in generation 0: ARDL\n",
      "Model Number: 65 with model MetricMotif in generation 0 of 10\n",
      "Template Eval Error: Exception('Transformer RegressionFilter failed on fit') in model 65 in generation 0: MetricMotif\n",
      "Model Number: 66 with model GLS in generation 0 of 10\n",
      "Model Number: 67 with model AverageValueNaive in generation 0 of 10\n",
      "Template Eval Error: Exception('Transformer AlignLastValue failed on inverse') in model 67 in generation 0: AverageValueNaive\n",
      "Model Number: 68 with model UnivariateMotif in generation 0 of 10\n",
      "Template Eval Error: ValueError('window shape cannot be larger than input array shape') in model 68 in generation 0: UnivariateMotif\n",
      "Model Number: 69 with model ARIMA in generation 0 of 10\n",
      "Template Eval Error: ValueError(\"regression_type='User' but future_regressor not supplied\") in model 69 in generation 0: ARIMA\n",
      "Model Number: 70 with model DatepartRegression in generation 0 of 10\n",
      "Template Eval Error: Exception('Transformer RegressionFilter failed on fit') in model 70 in generation 0: DatepartRegression\n",
      "Model Number: 71 with model GLM in generation 0 of 10\n"
     ]
    },
    {
     "name": "stderr",
     "output_type": "stream",
     "text": [
      "WARNING - (py.warnings._showwarnmsg) - c:\\Users\\crudek\\AppData\\Local\\anaconda3\\envs\\newpycaret\\lib\\site-packages\\statsmodels\\genmod\\generalized_linear_model.py:307: DomainWarning: The InversePower link function does not respect the domain of the Gamma family.\n",
      "  warnings.warn((f\"The {type(family.link).__name__} link function \"\n",
      "\n"
     ]
    },
    {
     "name": "stdout",
     "output_type": "stream",
     "text": [
      "Model Number: 72 with model MLEnsemble in generation 0 of 10\n",
      "Template Eval Error: Exception('Transformer RegressionFilter failed on fit') in model 72 in generation 0: MLEnsemble\n",
      "Model Number: 73 with model GLM in generation 0 of 10\n",
      "Model Number: 74 with model FBProphet in generation 0 of 10\n",
      "Template Eval Error: ValueError(\"regression_type='User' but no future_regressor passed\") in model 74 in generation 0: FBProphet\n",
      "Model Number: 75 with model SeasonalityMotif in generation 0 of 10\n",
      "Template Eval Error: Exception('Transformer Detrend failed on fit') in model 75 in generation 0: SeasonalityMotif\n",
      "Model Number: 76 with model ARDL in generation 0 of 10\n",
      "Model Number: 77 with model KalmanStateSpace in generation 0 of 10\n",
      "Model Number: 78 with model UnivariateRegression in generation 0 of 10\n",
      "Template Eval Error: ValueError('Input X contains NaN.\\nRegressorChain does not accept missing values encoded as NaN natively. For supervised learning, you might want to consider sklearn.ensemble.HistGradientBoostingClassifier and Regressor which accept missing values encoded as NaNs natively. Alternatively, it is possible to preprocess the data, for instance by using an imputer transformer in a pipeline or drop samples with missing values. See https://scikit-learn.org/stable/modules/impute.html You can find a list of all estimators that handle NaN values at the following page: https://scikit-learn.org/stable/modules/impute.html#estimators-that-handle-nan-values') in model 78 in generation 0: UnivariateRegression\n",
      "Model Number: 79 with model Theta in generation 0 of 10\n",
      "Model Number: 80 with model UnivariateMotif in generation 0 of 10\n",
      "Template Eval Error: ValueError('window shape cannot be larger than input array shape') in model 80 in generation 0: UnivariateMotif\n",
      "Model Number: 81 with model GLM in generation 0 of 10\n",
      "Template Eval Error: Exception('Transformer AlignLastValue failed on fit') in model 81 in generation 0: GLM\n",
      "Model Number: 82 with model Theta in generation 0 of 10\n",
      "Template Eval Error: Exception('Transformer ScipyFilter failed on fit') in model 82 in generation 0: Theta\n",
      "Model Number: 83 with model DatepartRegression in generation 0 of 10\n",
      "Model Number: 84 with model Theta in generation 0 of 10\n",
      "Model Number: 85 with model LastValueNaive in generation 0 of 10\n",
      "Model Number: 86 with model GLM in generation 0 of 10\n",
      "Template Eval Error: Exception('Transformer RegressionFilter failed on fit') in model 86 in generation 0: GLM\n",
      "Model Number: 87 with model GLS in generation 0 of 10\n",
      "Model Number: 88 with model AverageValueNaive in generation 0 of 10\n",
      "Model Number: 89 with model UnobservedComponents in generation 0 of 10\n",
      "Model Number: 90 with model SeasonalityMotif in generation 0 of 10\n",
      "Template Eval Error: ValueError('kth(=19) out of bounds (11)') in model 90 in generation 0: SeasonalityMotif\n",
      "Model Number: 91 with model KalmanStateSpace in generation 0 of 10\n",
      "Model Number: 92 with model KalmanStateSpace in generation 0 of 10\n",
      "Model Number: 93 with model AverageValueNaive in generation 0 of 10\n",
      "Model Number: 94 with model ARCH in generation 0 of 10\n",
      "Template Eval Error: ImportError('`arch` package must be installed from pip') in model 94 in generation 0: ARCH\n",
      "Model Number: 95 with model ARIMA in generation 0 of 10\n",
      "Model Number: 96 with model DatepartRegression in generation 0 of 10\n",
      "Template Eval Error: Exception('Transformer RegressionFilter failed on fit') in model 96 in generation 0: DatepartRegression\n",
      "Model Number: 97 with model SeasonalNaive in generation 0 of 10\n"
     ]
    },
    {
     "name": "stderr",
     "output_type": "stream",
     "text": [
      "14:57:05 - cmdstanpy - INFO - Chain [1] start processing\n"
     ]
    },
    {
     "name": "stdout",
     "output_type": "stream",
     "text": [
      "Model Number: 98 with model FBProphet in generation 0 of 10\n"
     ]
    },
    {
     "name": "stderr",
     "output_type": "stream",
     "text": [
      "14:57:05 - cmdstanpy - INFO - Chain [1] done processing\n"
     ]
    },
    {
     "name": "stdout",
     "output_type": "stream",
     "text": [
      "Model Number: 99 with model LastValueNaive in generation 0 of 10\n",
      "Model Number: 100 with model Theta in generation 0 of 10\n",
      "Model Number: 101 with model SeasonalNaive in generation 0 of 10\n",
      "Model Number: 102 with model AverageValueNaive in generation 0 of 10\n",
      "Template Eval Error: Exception('Transformer ScipyFilter failed on fit') in model 102 in generation 0: AverageValueNaive\n",
      "Model Number: 103 with model KalmanStateSpace in generation 0 of 10\n",
      "Model Number: 104 with model MLEnsemble in generation 0 of 10\n",
      "Template Eval Error: ValueError('num_validations/num_indices too high for this dataset') in model 104 in generation 0: MLEnsemble\n",
      "Model Number: 105 with model UnobservedComponents in generation 0 of 10\n",
      "Model Number: 106 with model ETS in generation 0 of 10\n",
      "Template Eval Error: Exception('Transformer AlignLastValue failed on fit') in model 106 in generation 0: ETS\n",
      "Model Number: 107 with model ETS in generation 0 of 10\n",
      "Model Number: 108 with model SeasonalNaive in generation 0 of 10\n",
      "Template Eval Error: Exception('Transformer RegressionFilter failed on fit') in model 108 in generation 0: SeasonalNaive\n",
      "Model Number: 109 with model GLS in generation 0 of 10\n",
      "Model Number: 110 with model ARIMA in generation 0 of 10\n",
      "Model Number: 111 with model Theta in generation 0 of 10\n",
      "Template Eval Error: ValueError('x must have 2 complete cycles requires 24 observations. x only has 11 observation(s)') in model 111 in generation 0: Theta\n",
      "Model Number: 112 with model ARIMA in generation 0 of 10\n",
      "Model Number: 113 with model ARIMA in generation 0 of 10\n",
      "Model Number: 114 with model SeasonalityMotif in generation 0 of 10\n",
      "Model Number: 115 with model ARIMA in generation 0 of 10\n",
      "Template Eval Error: ValueError(\"regression_type='User' but future_regressor not supplied\") in model 115 in generation 0: ARIMA\n",
      "Model Number: 116 with model AverageValueNaive in generation 0 of 10\n",
      "Model Number: 117 with model ARCH in generation 0 of 10\n",
      "Template Eval Error: Exception('Transformer RegressionFilter failed on fit') in model 117 in generation 0: ARCH\n",
      "Model Number: 118 with model Theta in generation 0 of 10\n",
      "Template Eval Error: Exception('Transformer RegressionFilter failed on fit') in model 118 in generation 0: Theta\n",
      "Model Number: 119 with model SeasonalNaive in generation 0 of 10\n",
      "Model Number: 120 with model FBProphet in generation 0 of 10\n"
     ]
    },
    {
     "name": "stderr",
     "output_type": "stream",
     "text": [
      "14:57:07 - cmdstanpy - INFO - Chain [1] start processing\n",
      "14:57:07 - cmdstanpy - INFO - Chain [1] done processing\n"
     ]
    },
    {
     "name": "stdout",
     "output_type": "stream",
     "text": [
      "Model Number: 121 with model UnobservedComponents in generation 0 of 10\n",
      "Template Eval Error: Exception('Transformer RegressionFilter failed on fit') in model 121 in generation 0: UnobservedComponents\n",
      "Model Number: 122 with model KalmanStateSpace in generation 0 of 10\n",
      "Model Number: 123 with model UnivariateMotif in generation 0 of 10\n",
      "Template Eval Error: ValueError('window shape cannot be larger than input array shape') in model 123 in generation 0: UnivariateMotif\n",
      "Model Number: 124 with model ConstantNaive in generation 0 of 10\n",
      "Model Number: 125 with model ARDL in generation 0 of 10\n",
      "Template Eval Error: ValueError(\"regression_type='User' but future_regressor not supplied\") in model 125 in generation 0: ARDL\n",
      "Model Number: 126 with model ARIMA in generation 0 of 10\n",
      "Model Number: 127 with model MetricMotif in generation 0 of 10\n",
      "Template Eval Error: ValueError('window shape cannot be larger than input array shape') in model 127 in generation 0: MetricMotif\n",
      "Model Number: 128 with model MLEnsemble in generation 0 of 10\n",
      "Template Eval Error: ValueError('all the input array dimensions for the concatenation axis must match exactly, but along dimension 2, the array at index 0 has size 1 and the array at index 1 has size 21') in model 128 in generation 0: MLEnsemble\n",
      "Model Number: 129 with model SeasonalNaive in generation 0 of 10\n",
      "Template Eval Error: Exception('Transformer STLFilter failed on fit') in model 129 in generation 0: SeasonalNaive\n",
      "Model Number: 130 with model UnivariateRegression in generation 0 of 10\n",
      "Template Eval Error: ValueError('Input X contains NaN.\\nMLPRegressor does not accept missing values encoded as NaN natively. For supervised learning, you might want to consider sklearn.ensemble.HistGradientBoostingClassifier and Regressor which accept missing values encoded as NaNs natively. Alternatively, it is possible to preprocess the data, for instance by using an imputer transformer in a pipeline or drop samples with missing values. See https://scikit-learn.org/stable/modules/impute.html You can find a list of all estimators that handle NaN values at the following page: https://scikit-learn.org/stable/modules/impute.html#estimators-that-handle-nan-values') in model 130 in generation 0: UnivariateRegression\n",
      "Model Number: 131 with model NeuralProphet in generation 0 of 10\n",
      "Template Eval Error: ValueError(\"regression_type='User' but no future_regressor passed\") in model 131 in generation 0: NeuralProphet\n",
      "Model Number: 132 with model LastValueNaive in generation 0 of 10\n",
      "Template Eval Error: Exception('Transformer RegressionFilter failed on fit') in model 132 in generation 0: LastValueNaive\n",
      "Model Number: 133 with model KalmanStateSpace in generation 0 of 10\n"
     ]
    },
    {
     "name": "stderr",
     "output_type": "stream",
     "text": [
      "14:57:08 - cmdstanpy - INFO - Chain [1] start processing\n"
     ]
    },
    {
     "name": "stdout",
     "output_type": "stream",
     "text": [
      "Model Number: 134 with model ARCH in generation 0 of 10\n",
      "Template Eval Error: ImportError('`arch` package must be installed from pip') in model 134 in generation 0: ARCH\n",
      "Model Number: 135 with model MLEnsemble in generation 0 of 10\n",
      "Template Eval Error: ValueError('num_validations/num_indices too high for this dataset') in model 135 in generation 0: MLEnsemble\n",
      "Model Number: 136 with model FBProphet in generation 0 of 10\n"
     ]
    },
    {
     "name": "stderr",
     "output_type": "stream",
     "text": [
      "14:57:08 - cmdstanpy - INFO - Chain [1] done processing\n"
     ]
    },
    {
     "name": "stdout",
     "output_type": "stream",
     "text": [
      "Model Number: 137 with model FBProphet in generation 0 of 10\n",
      "Template Eval Error: Exception('Transformer RegressionFilter failed on fit') in model 137 in generation 0: FBProphet\n",
      "Model Number: 138 with model UnobservedComponents in generation 0 of 10\n",
      "Template Eval Error: Exception('Transformer RegressionFilter failed on fit') in model 138 in generation 0: UnobservedComponents\n",
      "Model Number: 139 with model UnobservedComponents in generation 0 of 10\n",
      "Template Eval Error: ValueError(\"regression_type='User' but no future_regressor supplied\") in model 139 in generation 0: UnobservedComponents\n",
      "Model Number: 140 with model MLEnsemble in generation 0 of 10\n",
      "Template Eval Error: Exception('Transformer RegressionFilter failed on fit') in model 140 in generation 0: MLEnsemble\n",
      "Model Number: 141 with model UnobservedComponents in generation 0 of 10\n",
      "Template Eval Error: ValueError(\"regression_type='User' but no future_regressor supplied\") in model 141 in generation 0: UnobservedComponents\n",
      "Model Number: 142 with model NeuralProphet in generation 0 of 10\n",
      "Template Eval Error: TypeError(\"__init__() got an unexpected keyword argument 'num_hidden_layers'\") in model 142 in generation 0: NeuralProphet\n",
      "Model Number: 143 with model UnivariateRegression in generation 0 of 10\n",
      "Template Eval Error: ValueError(\"regression_type='User' but not future_regressor supplied.\") in model 143 in generation 0: UnivariateRegression\n",
      "Model Number: 144 with model Theta in generation 0 of 10\n",
      "Model Number: 145 with model DatepartRegression in generation 0 of 10\n",
      "Template Eval Error: ValueError(\"regression_type='User' but no future_regressor passed\") in model 145 in generation 0: DatepartRegression\n",
      "Model Number: 146 with model ConstantNaive in generation 0 of 10\n",
      "Model Number: 147 with model GLS in generation 0 of 10\n",
      "New Generation: 1 of 10\n"
     ]
    },
    {
     "name": "stderr",
     "output_type": "stream",
     "text": [
      "WARNING - (py.warnings._showwarnmsg) - c:\\Users\\crudek\\AppData\\Local\\anaconda3\\envs\\newpycaret\\lib\\site-packages\\statsmodels\\genmod\\generalized_linear_model.py:1257: PerfectSeparationWarning: Perfect separation or prediction detected, parameter may not be identified\n",
      "  warnings.warn(msg, category=PerfectSeparationWarning)\n",
      "\n"
     ]
    },
    {
     "name": "stdout",
     "output_type": "stream",
     "text": [
      "Model Number: 148 with model GLM in generation 1 of 10\n",
      "Model Number: 149 with model ETS in generation 1 of 10\n",
      "ETS error ValueError('Can only dampen the trend component')\n",
      "ETS failed on y with ValueError('Can only dampen the trend component')\n"
     ]
    },
    {
     "name": "stderr",
     "output_type": "stream",
     "text": [
      "WARNING - (py.warnings._showwarnmsg) - c:\\Users\\crudek\\AppData\\Local\\anaconda3\\envs\\newpycaret\\lib\\site-packages\\statsmodels\\genmod\\families\\family.py:1367: ValueWarning: Negative binomial dispersion parameter alpha not set. Using default value alpha=1.0.\n",
      "  warnings.warn(\"Negative binomial dispersion parameter alpha not \"\n",
      "\n",
      "WARNING - (py.warnings._showwarnmsg) - c:\\Users\\crudek\\AppData\\Local\\anaconda3\\envs\\newpycaret\\lib\\site-packages\\statsmodels\\genmod\\families\\family.py:1406: RuntimeWarning: invalid value encountered in log\n",
      "  resid_dev -= endog_alpha * np.log(endog_alpha / mu_alpha)\n",
      "\n"
     ]
    },
    {
     "name": "stdout",
     "output_type": "stream",
     "text": [
      "Model Number: 150 with model FBProphet in generation 1 of 10\n",
      "Template Eval Error: Exception('Transformer RegressionFilter failed on fit') in model 150 in generation 1: FBProphet\n",
      "Model Number: 151 with model GLM in generation 1 of 10\n",
      "Template Eval Error: ValueError('The first guess on the deviance function returned a nan.  This could be a boundary  problem and should be reported.') in model 151 in generation 1: GLM\n",
      "Model Number: 152 with model ETS in generation 1 of 10\n",
      "Model Number: 153 with model SeasonalNaive in generation 1 of 10\n",
      "Model Number: 154 with model FBProphet in generation 1 of 10\n"
     ]
    },
    {
     "name": "stderr",
     "output_type": "stream",
     "text": [
      "14:57:09 - cmdstanpy - INFO - Chain [1] start processing\n",
      "14:57:09 - cmdstanpy - INFO - Chain [1] done processing\n"
     ]
    },
    {
     "name": "stdout",
     "output_type": "stream",
     "text": [
      "Model Number: 155 with model Theta in generation 1 of 10\n",
      "Model Number: 156 with model UnobservedComponents in generation 1 of 10\n",
      "Template Eval Error: Exception('Transformer LocalLinearTrend failed on fit') in model 156 in generation 1: UnobservedComponents\n",
      "Model Number: 157 with model ARIMA in generation 1 of 10\n",
      "Model Number: 158 with model UnobservedComponents in generation 1 of 10\n",
      "Model Number: 159 with model LastValueNaive in generation 1 of 10\n"
     ]
    },
    {
     "name": "stderr",
     "output_type": "stream",
     "text": [
      "WARNING - (py.warnings._showwarnmsg) - c:\\Users\\crudek\\AppData\\Local\\anaconda3\\envs\\newpycaret\\lib\\site-packages\\statsmodels\\genmod\\families\\links.py:198: RuntimeWarning: overflow encountered in exp\n",
      "  t = np.exp(-z)\n",
      "\n"
     ]
    },
    {
     "name": "stdout",
     "output_type": "stream",
     "text": [
      "Model Number: 160 with model GLM in generation 1 of 10\n",
      "Model Number: 161 with model ETS in generation 1 of 10\n",
      "Model Number: 162 with model Theta in generation 1 of 10\n",
      "Model Number: 163 with model UnobservedComponents in generation 1 of 10\n",
      "Model Number: 164 with model AverageValueNaive in generation 1 of 10\n",
      "Model Number: 165 with model Theta in generation 1 of 10\n"
     ]
    },
    {
     "name": "stderr",
     "output_type": "stream",
     "text": [
      "WARNING - (py.warnings._showwarnmsg) - c:\\Users\\crudek\\AppData\\Local\\anaconda3\\envs\\newpycaret\\lib\\site-packages\\sklearn\\decomposition\\_fastica.py:708: FutureWarning: Starting in v1.3, whiten=True should be specified as whiten='arbitrary-variance' (its current behaviour). This behavior is deprecated in 1.1 and will raise ValueError in 1.3.\n",
      "  return self._fit_transform(X, compute_sources=True)\n",
      "\n"
     ]
    },
    {
     "name": "stdout",
     "output_type": "stream",
     "text": [
      "Model Number: 166 with model GLS in generation 1 of 10\n",
      "Template Eval Error: Exception('Transformer AlignLastValue failed on inverse') in model 166 in generation 1: GLS\n",
      "Model Number: 167 with model ARIMA in generation 1 of 10\n",
      "Model Number: 168 with model Theta in generation 1 of 10\n",
      "Model Number: 169 with model AverageValueNaive in generation 1 of 10\n",
      "Model Number: 170 with model SeasonalityMotif in generation 1 of 10\n",
      "Model Number: 171 with model AverageValueNaive in generation 1 of 10\n",
      "Model Number: 172 with model DatepartRegression in generation 1 of 10\n",
      "Template Eval Error: ValueError(\"regression_type='User' but no future_regressor passed\") in model 172 in generation 1: DatepartRegression\n",
      "Model Number: 173 with model UnobservedComponents in generation 1 of 10\n"
     ]
    },
    {
     "name": "stderr",
     "output_type": "stream",
     "text": [
      "WARNING - (py.warnings._showwarnmsg) - c:\\Users\\crudek\\AppData\\Local\\anaconda3\\envs\\newpycaret\\lib\\site-packages\\autots\\tools\\probabilistic.py:67: RuntimeWarning: divide by zero encountered in divide\n",
      "  (prior_mu / prior_sigma**2) + ((n * data_mu) / prior_sigma**2)\n",
      "\n",
      "WARNING - (py.warnings._showwarnmsg) - c:\\Users\\crudek\\AppData\\Local\\anaconda3\\envs\\newpycaret\\lib\\site-packages\\autots\\tools\\probabilistic.py:68: RuntimeWarning: divide by zero encountered in divide\n",
      "  ) / ((1 / prior_sigma**2) + (n / prior_sigma**2))\n",
      "\n",
      "WARNING - (py.warnings._showwarnmsg) - c:\\Users\\crudek\\AppData\\Local\\anaconda3\\envs\\newpycaret\\lib\\site-packages\\autots\\tools\\probabilistic.py:66: RuntimeWarning: invalid value encountered in divide\n",
      "  post_mu = (\n",
      "\n"
     ]
    },
    {
     "name": "stdout",
     "output_type": "stream",
     "text": [
      "Model Number: 174 with model ETS in generation 1 of 10\n",
      "Model Number: 175 with model AverageValueNaive in generation 1 of 10\n",
      "Model Number: 176 with model AverageValueNaive in generation 1 of 10\n",
      "Model Number: 177 with model ETS in generation 1 of 10\n",
      "Model Number: 178 with model Theta in generation 1 of 10\n",
      "Model Number: 179 with model SeasonalityMotif in generation 1 of 10\n",
      "Model Number: 180 with model SeasonalNaive in generation 1 of 10\n",
      "Model Number: 181 with model SeasonalNaive in generation 1 of 10\n",
      "Template Eval Error: Exception('Transformer BTCD failed on fit') in model 181 in generation 1: SeasonalNaive\n",
      "Model Number: 182 with model DatepartRegression in generation 1 of 10\n",
      "Template Eval Error: ValueError(\"regression_type='User' but no future_regressor passed\") in model 182 in generation 1: DatepartRegression\n",
      "Model Number: 183 with model UnobservedComponents in generation 1 of 10\n",
      "Model Number: 184 with model ARIMA in generation 1 of 10\n",
      "Template Eval Error: ValueError(\"regression_type='User' but future_regressor not supplied\") in model 184 in generation 1: ARIMA\n",
      "Model Number: 185 with model AverageValueNaive in generation 1 of 10\n",
      "Model Number: 186 with model AverageValueNaive in generation 1 of 10\n",
      "Model Number: 187 with model LastValueNaive in generation 1 of 10\n"
     ]
    },
    {
     "name": "stderr",
     "output_type": "stream",
     "text": [
      "WARNING - (py.warnings._showwarnmsg) - c:\\Users\\crudek\\AppData\\Local\\anaconda3\\envs\\newpycaret\\lib\\site-packages\\sklearn\\decomposition\\_fastica.py:708: FutureWarning: Starting in v1.3, whiten=True should be specified as whiten='arbitrary-variance' (its current behaviour). This behavior is deprecated in 1.1 and will raise ValueError in 1.3.\n",
      "  return self._fit_transform(X, compute_sources=True)\n",
      "\n",
      "WARNING - (py.warnings._showwarnmsg) - c:\\Users\\crudek\\AppData\\Local\\anaconda3\\envs\\newpycaret\\lib\\site-packages\\sklearn\\decomposition\\_fastica.py:708: FutureWarning: Starting in v1.3, whiten=True should be specified as whiten='arbitrary-variance' (its current behaviour). This behavior is deprecated in 1.1 and will raise ValueError in 1.3.\n",
      "  return self._fit_transform(X, compute_sources=True)\n",
      "\n"
     ]
    },
    {
     "name": "stdout",
     "output_type": "stream",
     "text": [
      "Model Number: 188 with model ARIMA in generation 1 of 10\n",
      "Template Eval Error: Exception('Transformer Detrend failed on fit') in model 188 in generation 1: ARIMA\n",
      "Model Number: 189 with model GLS in generation 1 of 10\n",
      "Template Eval Error: Exception('Transformer AlignLastValue failed on inverse') in model 189 in generation 1: GLS\n",
      "Model Number: 190 with model UnobservedComponents in generation 1 of 10\n",
      "Model Number: 191 with model GLS in generation 1 of 10\n",
      "Model Number: 192 with model DatepartRegression in generation 1 of 10\n",
      "Template Eval Error: Exception('Transformer BTCD failed on fit') in model 192 in generation 1: DatepartRegression\n",
      "Model Number: 193 with model DatepartRegression in generation 1 of 10\n",
      "Template Eval Error: Exception('Transformer AlignLastValue failed on fit') in model 193 in generation 1: DatepartRegression\n",
      "Model Number: 194 with model GLS in generation 1 of 10\n",
      "Model Number: 195 with model FBProphet in generation 1 of 10\n",
      "Model Number: 196 with model GLS in generation 1 of 10\n",
      "Model Number: 197 with model DatepartRegression in generation 1 of 10\n"
     ]
    },
    {
     "name": "stderr",
     "output_type": "stream",
     "text": [
      "WARNING - (py.warnings._showwarnmsg) - c:\\Users\\crudek\\AppData\\Local\\anaconda3\\envs\\newpycaret\\lib\\site-packages\\sklearn\\decomposition\\_fastica.py:708: FutureWarning: Starting in v1.3, whiten=True should be specified as whiten='arbitrary-variance' (its current behaviour). This behavior is deprecated in 1.1 and will raise ValueError in 1.3.\n",
      "  return self._fit_transform(X, compute_sources=True)\n",
      "\n"
     ]
    },
    {
     "name": "stdout",
     "output_type": "stream",
     "text": [
      "Model Number: 198 with model AverageValueNaive in generation 1 of 10\n",
      "Model Number: 199 with model Theta in generation 1 of 10\n",
      "Model Number: 200 with model ConstantNaive in generation 1 of 10\n",
      "Model Number: 201 with model AverageValueNaive in generation 1 of 10\n",
      "Model Number: 202 with model UnobservedComponents in generation 1 of 10\n",
      "Template Eval Error: ValueError(\"regression_type='User' but no future_regressor supplied\") in model 202 in generation 1: UnobservedComponents\n"
     ]
    },
    {
     "name": "stderr",
     "output_type": "stream",
     "text": [
      "WARNING - (py.warnings._showwarnmsg) - c:\\Users\\crudek\\AppData\\Local\\anaconda3\\envs\\newpycaret\\lib\\site-packages\\statsmodels\\genmod\\generalized_linear_model.py:307: DomainWarning: The InversePower link function does not respect the domain of the Gamma family.\n",
      "  warnings.warn((f\"The {type(family.link).__name__} link function \"\n",
      "\n"
     ]
    },
    {
     "name": "stdout",
     "output_type": "stream",
     "text": [
      "Model Number: 203 with model ARDL in generation 1 of 10\n",
      "Template Eval Error: Exception('Transformer RegressionFilter failed on fit') in model 203 in generation 1: ARDL\n",
      "Model Number: 204 with model KalmanStateSpace in generation 1 of 10\n",
      "Template Eval Error: Exception('Transformer RegressionFilter failed on fit') in model 204 in generation 1: KalmanStateSpace\n",
      "Model Number: 205 with model ARDL in generation 1 of 10\n",
      "Template Eval Error: ValueError(\"ARDL series y failed with error ValueError('The number of regressors (28) including deterministics, lags of the endog, lags of the exogenous, and fixed regressors is larger than the sample available for estimation (10).') exog train             seasonalitycommonfourier_0  seasonalitycommonfourier_1  \\\\\\nds                                                                   \\n2022-08-01                   -0.875019                    0.531317   \\n2022-09-01                   -0.507430                   -0.485029   \\n2022-10-01                   -0.016127                   -0.999480   \\n2022-11-01                    0.494403                   -0.511131   \\n2022-12-01                    0.858953                    0.475599   \\n2023-01-01                    0.999991                    0.999963   \\n2023-02-01                    0.863325                    0.490660   \\n2023-03-01                    0.531317                   -0.435405   \\n2023-04-01                    0.026876                   -0.998555   \\n2023-05-01                   -0.469915                   -0.558361   \\n2023-06-01                   -0.853398                    0.456575   \\n\\n            seasonalitycommonfourier_2  seasonalitycommonfourier_3  \\\\\\nds                                                                   \\n2022-08-01                   -0.054805                   -0.484089   \\n2022-09-01                    0.999667                   -0.861693   \\n2022-10-01                    0.048363                   -0.999870   \\n2022-11-01                   -0.999813                   -0.869233   \\n2022-12-01                   -0.041919                   -0.512055   \\n2023-01-01                    0.999917                   -0.004301   \\n2023-02-01                   -0.016127                    0.504648   \\n2023-03-01                   -0.993993                    0.847173   \\n2023-04-01                   -0.080549                    0.999639   \\n2023-05-01                    0.994678                    0.882712   \\n2023-06-01                    0.074117                    0.521260   \\n\\n            seasonalitycommonfourier_4  seasonalitycommonfourier_5  \\\\\\nds                                                                   \\n2022-08-01                    0.847173                   -0.998497   \\n2022-09-01                    0.874498                   -0.025801   \\n2022-10-01                    0.032249                    0.998830   \\n2022-11-01                   -0.859503                    0.019352   \\n2022-12-01                   -0.879662                   -0.999121   \\n2023-01-01                   -0.008601                   -0.012901   \\n2023-02-01                    0.871351                    0.999870   \\n2023-03-01                    0.900235                    0.109446   \\n2023-04-01                    0.053732                   -0.996751   \\n2023-05-01                   -0.829598                   -0.103031   \\n2023-06-01                   -0.889685                    0.997250   \\n\\n            seasonalitycommonfourier_6  seasonalitycommonfourier_7  \\\\\\nds                                                                   \\n2022-08-01                    0.612380                   -0.249981   \\n2022-09-01                    0.501861                   -0.496271   \\n2022-10-01                    0.386405                   -0.701382   \\n2022-11-01                    0.260376                   -0.864408   \\n2022-12-01                    0.133990                   -0.964094   \\n2023-01-01                    0.001075                   -0.999998   \\n2023-02-01                   -0.131859                   -0.965227   \\n2023-03-01                   -0.249981                   -0.875019   \\n2023-04-01                   -0.376467                   -0.716546   \\n2023-05-01                   -0.492533                   -0.514823   \\n2023-06-01                   -0.603845                   -0.270742   \\n\\n            seasonalitycommonfourier_8  seasonalitycommonfourier_9  ...  \\\\\\nds                                                                  ...   \\n2022-08-01                   -0.918547                   -0.875019  ...   \\n2022-09-01                   -0.999979                   -0.507430  ...   \\n2022-10-01                   -0.928441                   -0.016127  ...   \\n2022-11-01                   -0.710520                    0.494403  ...   \\n2022-12-01                   -0.392347                    0.858953  ...   \\n2023-01-01                   -0.003225                    0.999991  ...   \\n2023-02-01                    0.386405                    0.863325  ...   \\n2023-03-01                    0.687457                    0.531317  ...   \\n2023-04-01                    0.915978                    0.026876  ...   \\n2023-05-01                    0.999667                   -0.469915  ...   \\n2023-06-01                    0.930818                   -0.853398  ...   \\n\\n            seasonalitycommonfourier_17  seasonalitycommonfourier_18  \\\\\\nds                                                                     \\n2022-08-01                     0.968251                     0.395312   \\n2022-09-01                     0.868168                     0.006451   \\n2022-10-01                     0.712786                    -0.371481   \\n2022-11-01                     0.502791                    -0.703677   \\n2022-12-01                     0.265563                    -0.919817   \\n2023-01-01                     0.002150                    -0.999995   \\n2023-02-01                    -0.261414                    -0.922329   \\n2023-03-01                    -0.484089                    -0.726225   \\n2023-04-01                    -0.697540                    -0.401229   \\n2023-05-01                    -0.857296                    -0.025801   \\n2023-06-01                    -0.962652                     0.365484   \\n\\n            seasonalitycommonfourier_19  seasonalitycommonfourier_20  \\\\\\nds                                                                     \\n2022-08-01                    -0.484089                    -0.988204   \\n2022-09-01                    -0.861693                    -0.871351   \\n2022-10-01                    -0.999870                    -0.401229   \\n2022-11-01                    -0.869233                     0.251022   \\n2022-12-01                    -0.512055                     0.782597   \\n2023-01-01                    -0.004301                     0.999986   \\n2023-02-01                     0.504648                     0.789245   \\n2023-03-01                     0.847173                     0.302670   \\n2023-04-01                     0.999639                    -0.351432   \\n2023-05-01                     0.882712                    -0.843728   \\n2023-06-01                     0.521260                    -0.995005   \\n\\n            seasonalitycommonfourier_21  seasonalitycommonfourier_22  \\\\\\nds                                                                     \\n2022-08-01                    -0.726225                     0.098753   \\n2022-09-01                    -0.012901                     0.858402   \\n2022-10-01                     0.689796                     0.934311   \\n2022-11-01                     0.999953                     0.269707   \\n2022-12-01                     0.721775                    -0.589176   \\n2023-01-01                     0.006451                    -0.999972   \\n2023-02-01                    -0.712786                    -0.601271   \\n2023-03-01                    -0.998497                     0.196540   \\n2023-04-01                    -0.735034                     0.904864   \\n2023-05-01                    -0.051584                     0.894542   \\n2023-06-01                     0.680398                     0.173295   \\n\\n            seasonalitycommonfourier_23  seasonalitycommonfourier_24  \\\\\\nds                                                                     \\n2022-08-01                     0.847173                     0.938832   \\n2022-09-01                     0.874498                     0.019352   \\n2022-10-01                     0.032249                    -0.909388   \\n2022-11-01                    -0.859503                    -0.717295   \\n2022-12-01                    -0.879662                     0.353445   \\n2023-01-01                    -0.008601                     0.999953   \\n2023-02-01                     0.871351                     0.371481   \\n2023-03-01                     0.900235                    -0.646623   \\n2023-04-01                     0.053732                    -0.945320   \\n2023-05-01                    -0.829598                    -0.077334   \\n2023-06-01                    -0.889685                     0.901169   \\n\\n            seasonalitycommonfourier_25  epoch  \\nds                                              \\n2022-08-01                     0.302670  14258  \\n2022-09-01                    -0.855075  14258  \\n2022-10-01                    -0.735034  14259  \\n2022-11-01                     0.485969  14259  \\n2022-12-01                     0.974378  14259  \\n2023-01-01                     0.010751  14259  \\n2023-02-01                    -0.969317  14259  \\n2023-03-01                    -0.576948  14259  \\n2023-04-01                     0.658031  14259  \\n2023-05-01                     0.905777  14259  \\n2023-06-01                    -0.198648  14259  \\n\\n[11 rows x 27 columns] and predict             seasonalitycommonfourier_0  seasonalitycommonfourier_1  \\\\\\n2023-07-01                   -0.999480                    0.997920   \\n2023-08-01                   -0.877093                    0.538584   \\n2023-09-01                   -0.511131                   -0.477489   \\n\\n            seasonalitycommonfourier_2  seasonalitycommonfourier_3  \\\\\\n2023-07-01                   -0.995322                    0.032249   \\n2023-08-01                   -0.067683                   -0.480321   \\n2023-09-01                    0.999251                   -0.859503   \\n\\n            seasonalitycommonfourier_4  seasonalitycommonfourier_5  \\\\\\n2023-07-01                   -0.064464                    0.096613   \\n2023-08-01                    0.842572                   -0.997707   \\n2023-09-01                    0.878637                   -0.038696   \\n\\n            seasonalitycommonfourier_6  seasonalitycommonfourier_7  \\\\\\n2023-07-01                   -0.701382                   -0.016127   \\n2023-08-01                   -0.789905                    0.247898   \\n2023-09-01                   -0.864408                    0.494403   \\n\\n            seasonalitycommonfourier_8  seasonalitycommonfourier_9  ...  \\\\\\n2023-07-01                    0.724004                   -0.999480  ...   \\n2023-08-01                    0.398272                   -0.877093  ...   \\n2023-09-01                    0.009676                   -0.511131  ...   \\n\\n            seasonalitycommonfourier_17  seasonalitycommonfourier_18  \\\\\\n2023-07-01                    -0.999870                     0.689796   \\n2023-08-01                    -0.968786                     0.917267   \\n2023-09-01                    -0.869233                     0.999953   \\n\\n            seasonalitycommonfourier_19  seasonalitycommonfourier_20  \\\\\\n2023-07-01                     0.032249                    -0.735034   \\n2023-08-01                    -0.480321                    -0.158452   \\n2023-09-01                    -0.859503                     0.485969   \\n\\n            seasonalitycommonfourier_21  seasonalitycommonfourier_22  \\\\\\n2023-07-01                     0.998830                    -0.666089   \\n2023-08-01                     0.730644                    -0.995827   \\n2023-09-01                     0.019352                    -0.519424   \\n\\n            seasonalitycommonfourier_23  seasonalitycommonfourier_24  \\\\\\n2023-07-01                    -0.064464                     0.756517   \\n2023-08-01                     0.842572                    -0.335276   \\n2023-09-01                     0.878637                    -0.999579   \\n\\n            seasonalitycommonfourier_25  epoch  \\n2023-07-01                    -0.996751  14260  \\n2023-08-01                    -0.312900  14260  \\n2023-09-01                     0.849450  14260  \\n\\n[3 rows x 27 columns]\") in model 205 in generation 1: ARDL\n",
      "Model Number: 206 with model GLM in generation 1 of 10\n"
     ]
    },
    {
     "name": "stderr",
     "output_type": "stream",
     "text": [
      "WARNING - (py.warnings._showwarnmsg) - c:\\Users\\crudek\\AppData\\Local\\anaconda3\\envs\\newpycaret\\lib\\site-packages\\sklearn\\decomposition\\_fastica.py:708: FutureWarning: Starting in v1.3, whiten=True should be specified as whiten='arbitrary-variance' (its current behaviour). This behavior is deprecated in 1.1 and will raise ValueError in 1.3.\n",
      "  return self._fit_transform(X, compute_sources=True)\n",
      "\n"
     ]
    },
    {
     "name": "stdout",
     "output_type": "stream",
     "text": [
      "Model Number: 207 with model ETS in generation 1 of 10\n"
     ]
    },
    {
     "name": "stderr",
     "output_type": "stream",
     "text": [
      "WARNING - (py.warnings._showwarnmsg) - c:\\Users\\crudek\\AppData\\Local\\anaconda3\\envs\\newpycaret\\lib\\site-packages\\statsmodels\\genmod\\generalized_linear_model.py:1257: PerfectSeparationWarning: Perfect separation or prediction detected, parameter may not be identified\n",
      "  warnings.warn(msg, category=PerfectSeparationWarning)\n",
      "\n",
      "WARNING - (py.warnings._showwarnmsg) - c:\\Users\\crudek\\AppData\\Local\\anaconda3\\envs\\newpycaret\\lib\\site-packages\\statsmodels\\genmod\\generalized_linear_model.py:1257: PerfectSeparationWarning: Perfect separation or prediction detected, parameter may not be identified\n",
      "  warnings.warn(msg, category=PerfectSeparationWarning)\n",
      "\n",
      "WARNING - (py.warnings._showwarnmsg) - c:\\Users\\crudek\\AppData\\Local\\anaconda3\\envs\\newpycaret\\lib\\site-packages\\statsmodels\\genmod\\generalized_linear_model.py:1257: PerfectSeparationWarning: Perfect separation or prediction detected, parameter may not be identified\n",
      "  warnings.warn(msg, category=PerfectSeparationWarning)\n",
      "\n"
     ]
    },
    {
     "name": "stdout",
     "output_type": "stream",
     "text": [
      "Model Number: 208 with model GLM in generation 1 of 10\n",
      "Model Number: 209 with model GLM in generation 1 of 10\n",
      "Model Number: 210 with model DatepartRegression in generation 1 of 10\n"
     ]
    },
    {
     "name": "stderr",
     "output_type": "stream",
     "text": [
      "WARNING - (py.warnings._showwarnmsg) - c:\\Users\\crudek\\AppData\\Local\\anaconda3\\envs\\newpycaret\\lib\\site-packages\\sklearn\\svm\\_base.py:1244: ConvergenceWarning: Liblinear failed to converge, increase the number of iterations.\n",
      "  warnings.warn(\n",
      "\n"
     ]
    },
    {
     "name": "stdout",
     "output_type": "stream",
     "text": [
      "Model Number: 211 with model GLS in generation 1 of 10\n",
      "Template Eval Error: Exception('Transformer Detrend failed on fit') in model 211 in generation 1: GLS\n",
      "Model Number: 212 with model UnobservedComponents in generation 1 of 10\n",
      "Model Number: 213 with model ETS in generation 1 of 10\n",
      "ETS error ValueError('endog must be strictly positive when usingmultiplicative trend or seasonal components.')\n",
      "ETS failed on y with ValueError('endog must be strictly positive when usingmultiplicative trend or seasonal components.')\n",
      "Model Number: 214 with model KalmanStateSpace in generation 1 of 10\n",
      "Model Number: 215 with model GLS in generation 1 of 10\n",
      "Model Number: 216 with model DatepartRegression in generation 1 of 10\n",
      "Template Eval Error: ValueError(\"regression_type='User' but no future_regressor passed\") in model 216 in generation 1: DatepartRegression\n",
      "Model Number: 217 with model AverageValueNaive in generation 1 of 10\n",
      "Model Number: 218 with model GLS in generation 1 of 10\n",
      "Model Number: 219 with model UnobservedComponents in generation 1 of 10\n",
      "Model Number: 220 with model UnobservedComponents in generation 1 of 10\n",
      "Model Number: 221 with model DatepartRegression in generation 1 of 10\n",
      "Model Number: 222 with model GLM in generation 1 of 10\n"
     ]
    },
    {
     "name": "stderr",
     "output_type": "stream",
     "text": [
      "WARNING - (py.warnings._showwarnmsg) - c:\\Users\\crudek\\AppData\\Local\\anaconda3\\envs\\newpycaret\\lib\\site-packages\\statsmodels\\genmod\\generalized_linear_model.py:307: DomainWarning: The InversePower link function does not respect the domain of the Gamma family.\n",
      "  warnings.warn((f\"The {type(family.link).__name__} link function \"\n",
      "\n",
      "WARNING - (py.warnings._showwarnmsg) - c:\\Users\\crudek\\AppData\\Local\\anaconda3\\envs\\newpycaret\\lib\\site-packages\\statsmodels\\genmod\\generalized_linear_model.py:813: RuntimeWarning: divide by zero encountered in double_scalars\n",
      "  return np.sum(resid / self.family.variance(mu)) / self.df_resid\n",
      "\n"
     ]
    },
    {
     "name": "stdout",
     "output_type": "stream",
     "text": [
      "Model Number: 223 with model FBProphet in generation 1 of 10\n",
      "Template Eval Error: Exception('Transformer RegressionFilter failed on fit') in model 223 in generation 1: FBProphet\n",
      "Model Number: 224 with model ARDL in generation 1 of 10\n",
      "Template Eval Error: Exception('Transformer BTCD failed on fit') in model 224 in generation 1: ARDL\n",
      "Model Number: 225 with model SeasonalNaive in generation 1 of 10\n",
      "Model Number: 226 with model KalmanStateSpace in generation 1 of 10\n"
     ]
    },
    {
     "name": "stderr",
     "output_type": "stream",
     "text": [
      "WARNING - (py.warnings._showwarnmsg) - c:\\Users\\crudek\\AppData\\Local\\anaconda3\\envs\\newpycaret\\lib\\site-packages\\sklearn\\svm\\_base.py:1244: ConvergenceWarning: Liblinear failed to converge, increase the number of iterations.\n",
      "  warnings.warn(\n",
      "\n"
     ]
    },
    {
     "name": "stdout",
     "output_type": "stream",
     "text": [
      "Model Number: 227 with model SeasonalityMotif in generation 1 of 10\n",
      "Template Eval Error: ValueError('window shape cannot be larger than input array shape') in model 227 in generation 1: SeasonalityMotif\n",
      "Model Number: 228 with model GLS in generation 1 of 10\n",
      "Template Eval Error: Exception('Transformer RegressionFilter failed on fit') in model 228 in generation 1: GLS\n",
      "Model Number: 229 with model AverageValueNaive in generation 1 of 10\n",
      "Model Number: 230 with model Theta in generation 1 of 10\n"
     ]
    },
    {
     "name": "stderr",
     "output_type": "stream",
     "text": [
      "WARNING - (py.warnings._showwarnmsg) - c:\\Users\\crudek\\AppData\\Local\\anaconda3\\envs\\newpycaret\\lib\\site-packages\\autots\\tools\\probabilistic.py:67: RuntimeWarning: invalid value encountered in divide\n",
      "  (prior_mu / prior_sigma**2) + ((n * data_mu) / prior_sigma**2)\n",
      "\n",
      "WARNING - (py.warnings._showwarnmsg) - c:\\Users\\crudek\\AppData\\Local\\anaconda3\\envs\\newpycaret\\lib\\site-packages\\autots\\tools\\probabilistic.py:68: RuntimeWarning: divide by zero encountered in divide\n",
      "  ) / ((1 / prior_sigma**2) + (n / prior_sigma**2))\n",
      "\n"
     ]
    },
    {
     "name": "stdout",
     "output_type": "stream",
     "text": [
      "Model Number: 231 with model DatepartRegression in generation 1 of 10\n",
      "Model Number: 232 with model ETS in generation 1 of 10\n",
      "Model Number: 233 with model KalmanStateSpace in generation 1 of 10\n",
      "Model Number: 234 with model LastValueNaive in generation 1 of 10\n",
      "Model Number: 235 with model GLS in generation 1 of 10\n",
      "Model Number: 236 with model AverageValueNaive in generation 1 of 10\n",
      "Model Number: 237 with model KalmanStateSpace in generation 1 of 10\n",
      "Model Number: 238 with model ARDL in generation 1 of 10\n",
      "Template Eval Error: ValueError(\"regression_type='User' but future_regressor not supplied\") in model 238 in generation 1: ARDL\n",
      "Model Number: 239 with model FBProphet in generation 1 of 10\n"
     ]
    },
    {
     "name": "stderr",
     "output_type": "stream",
     "text": [
      "14:57:13 - cmdstanpy - INFO - Chain [1] start processing\n",
      "14:57:13 - cmdstanpy - INFO - Chain [1] done processing\n",
      "WARNING - (py.warnings._showwarnmsg) - c:\\Users\\crudek\\AppData\\Local\\anaconda3\\envs\\newpycaret\\lib\\site-packages\\autots\\tools\\window_functions.py:468: RuntimeWarning: invalid value encountered in divide\n",
      "  slope = (sxy - sx * sy) / (sx2 - sx**2)\n",
      "\n"
     ]
    },
    {
     "name": "stdout",
     "output_type": "stream",
     "text": [
      "Model Number: 240 with model DatepartRegression in generation 1 of 10\n",
      "Template Eval Error: ValueError('Input y contains NaN.') in model 240 in generation 1: DatepartRegression\n",
      "Model Number: 241 with model Theta in generation 1 of 10\n",
      "Model Number: 242 with model GLS in generation 1 of 10\n",
      "Model Number: 243 with model ConstantNaive in generation 1 of 10\n",
      "Model Number: 244 with model GLM in generation 1 of 10\n",
      "Model Number: 245 with model ConstantNaive in generation 1 of 10\n",
      "Model Number: 246 with model ARDL in generation 1 of 10\n",
      "Model Number: 247 with model DatepartRegression in generation 1 of 10\n",
      "Model Number: 248 with model ARIMA in generation 1 of 10\n",
      "Model Number: 249 with model ARIMA in generation 1 of 10\n",
      "Template Eval Error: Exception('Transformer RegressionFilter failed on fit') in model 249 in generation 1: ARIMA\n",
      "Model Number: 250 with model GLM in generation 1 of 10\n",
      "Model Number: 251 with model GLS in generation 1 of 10\n",
      "Model Number: 252 with model ARIMA in generation 1 of 10\n",
      "New Generation: 2 of 10\n",
      "Model Number: 253 with model GLS in generation 2 of 10\n"
     ]
    },
    {
     "name": "stderr",
     "output_type": "stream",
     "text": [
      "WARNING - (py.warnings._showwarnmsg) - c:\\Users\\crudek\\AppData\\Local\\anaconda3\\envs\\newpycaret\\lib\\site-packages\\statsmodels\\genmod\\generalized_linear_model.py:1257: PerfectSeparationWarning: Perfect separation or prediction detected, parameter may not be identified\n",
      "  warnings.warn(msg, category=PerfectSeparationWarning)\n",
      "\n"
     ]
    },
    {
     "name": "stdout",
     "output_type": "stream",
     "text": [
      "Model Number: 254 with model GLM in generation 2 of 10\n"
     ]
    },
    {
     "name": "stderr",
     "output_type": "stream",
     "text": [
      "WARNING - (py.warnings._showwarnmsg) - c:\\Users\\crudek\\AppData\\Local\\anaconda3\\envs\\newpycaret\\lib\\site-packages\\statsmodels\\genmod\\generalized_linear_model.py:1257: PerfectSeparationWarning: Perfect separation or prediction detected, parameter may not be identified\n",
      "  warnings.warn(msg, category=PerfectSeparationWarning)\n",
      "\n"
     ]
    },
    {
     "name": "stdout",
     "output_type": "stream",
     "text": [
      "Model Number: 255 with model GLM in generation 2 of 10\n",
      "Model Number: 256 with model GLM in generation 2 of 10\n",
      "Template Eval Error: Exception('Transformer AlignLastValue failed on inverse') in model 256 in generation 2: GLM\n",
      "Model Number: 257 with model ETS in generation 2 of 10\n",
      "Template Eval Error: Exception('Transformer Cointegration failed on fit') in model 257 in generation 2: ETS\n",
      "Model Number: 258 with model AverageValueNaive in generation 2 of 10\n",
      "Model Number: 259 with model UnobservedComponents in generation 2 of 10\n",
      "Model Number: 260 with model DatepartRegression in generation 2 of 10\n",
      "Model Number: 261 with model Theta in generation 2 of 10\n",
      "Model Number: 262 with model ARDL in generation 2 of 10\n",
      "Model Number: 263 with model Theta in generation 2 of 10\n",
      "Model Number: 264 with model FBProphet in generation 2 of 10\n"
     ]
    },
    {
     "name": "stderr",
     "output_type": "stream",
     "text": [
      "14:57:14 - cmdstanpy - INFO - Chain [1] start processing\n",
      "14:57:14 - cmdstanpy - INFO - Chain [1] done processing\n"
     ]
    },
    {
     "name": "stdout",
     "output_type": "stream",
     "text": [
      "Model Number: 265 with model GLS in generation 2 of 10\n",
      "Model Number: 266 with model DatepartRegression in generation 2 of 10\n",
      "Template Eval Error: Exception('Transformer RegressionFilter failed on fit') in model 266 in generation 2: DatepartRegression\n",
      "Model Number: 267 with model SeasonalityMotif in generation 2 of 10\n",
      "Model Number: 268 with model AverageValueNaive in generation 2 of 10\n",
      "Template Eval Error: Exception('Transformer AlignLastValue failed on fit') in model 268 in generation 2: AverageValueNaive\n",
      "Model Number: 269 with model GLM in generation 2 of 10\n",
      "Model Number: 270 with model FBProphet in generation 2 of 10\n"
     ]
    },
    {
     "name": "stderr",
     "output_type": "stream",
     "text": [
      "14:57:15 - cmdstanpy - INFO - Chain [1] start processing\n",
      "14:57:15 - cmdstanpy - INFO - Chain [1] done processing\n",
      "WARNING - (py.warnings._showwarnmsg) - c:\\Users\\crudek\\AppData\\Local\\anaconda3\\envs\\newpycaret\\lib\\site-packages\\autots\\tools\\probabilistic.py:67: RuntimeWarning: divide by zero encountered in divide\n",
      "  (prior_mu / prior_sigma**2) + ((n * data_mu) / prior_sigma**2)\n",
      "\n",
      "WARNING - (py.warnings._showwarnmsg) - c:\\Users\\crudek\\AppData\\Local\\anaconda3\\envs\\newpycaret\\lib\\site-packages\\autots\\tools\\probabilistic.py:68: RuntimeWarning: divide by zero encountered in divide\n",
      "  ) / ((1 / prior_sigma**2) + (n / prior_sigma**2))\n",
      "\n",
      "WARNING - (py.warnings._showwarnmsg) - c:\\Users\\crudek\\AppData\\Local\\anaconda3\\envs\\newpycaret\\lib\\site-packages\\autots\\tools\\probabilistic.py:66: RuntimeWarning: invalid value encountered in divide\n",
      "  post_mu = (\n",
      "\n"
     ]
    },
    {
     "name": "stdout",
     "output_type": "stream",
     "text": [
      "Model Number: 271 with model DatepartRegression in generation 2 of 10\n",
      "Model Number: 272 with model SeasonalityMotif in generation 2 of 10\n",
      "Model Number: 273 with model UnobservedComponents in generation 2 of 10\n"
     ]
    },
    {
     "name": "stderr",
     "output_type": "stream",
     "text": [
      "WARNING - (py.warnings._showwarnmsg) - c:\\Users\\crudek\\AppData\\Local\\anaconda3\\envs\\newpycaret\\lib\\site-packages\\sklearn\\svm\\_base.py:1244: ConvergenceWarning: Liblinear failed to converge, increase the number of iterations.\n",
      "  warnings.warn(\n",
      "\n"
     ]
    },
    {
     "name": "stdout",
     "output_type": "stream",
     "text": [
      "Model Number: 274 with model LastValueNaive in generation 2 of 10\n",
      "Template Eval Error: Exception('Transformer Detrend failed on fit') in model 274 in generation 2: LastValueNaive\n",
      "Model Number: 275 with model DatepartRegression in generation 2 of 10\n",
      "Model Number: 276 with model ETS in generation 2 of 10\n"
     ]
    },
    {
     "name": "stderr",
     "output_type": "stream",
     "text": [
      "WARNING - (py.warnings._showwarnmsg) - c:\\Users\\crudek\\AppData\\Local\\anaconda3\\envs\\newpycaret\\lib\\site-packages\\sklearn\\linear_model\\_coordinate_descent.py:631: ConvergenceWarning: Objective did not converge. You might want to increase the number of iterations, check the scale of the features or consider increasing regularisation. Duality gap: 0.000e+00, tolerance: 0.000e+00\n",
      "  model = cd_fast.enet_coordinate_descent(\n",
      "\n"
     ]
    },
    {
     "name": "stdout",
     "output_type": "stream",
     "text": [
      "Model Number: 277 with model Theta in generation 2 of 10\n",
      "Model Number: 278 with model ARIMA in generation 2 of 10\n",
      "Model Number: 279 with model AverageValueNaive in generation 2 of 10\n",
      "Model Number: 280 with model ETS in generation 2 of 10\n",
      "ETS error ValueError('Cannot compute initial seasonals using heuristic method with less than two full seasonal cycles in the data.')\n",
      "ETS failed on y with ValueError('Cannot compute initial seasonals using heuristic method with less than two full seasonal cycles in the data.')\n",
      "Model Number: 281 with model FBProphet in generation 2 of 10\n",
      "Template Eval Error: ValueError(\"regression_type='User' but no future_regressor passed\") in model 281 in generation 2: FBProphet\n",
      "Model Number: 282 with model GLS in generation 2 of 10\n",
      "Model Number: 283 with model ARDL in generation 2 of 10\n",
      "Model Number: 284 with model ETS in generation 2 of 10\n",
      "Model Number: 285 with model SeasonalNaive in generation 2 of 10\n",
      "Model Number: 286 with model KalmanStateSpace in generation 2 of 10\n",
      "Model Number: 287 with model Theta in generation 2 of 10\n",
      "Model Number: 288 with model KalmanStateSpace in generation 2 of 10\n",
      "Template Eval Error: Exception('Transformer Detrend failed on fit') in model 288 in generation 2: KalmanStateSpace\n",
      "Model Number: 289 with model Theta in generation 2 of 10\n",
      "Model Number: 290 with model UnobservedComponents in generation 2 of 10\n"
     ]
    },
    {
     "name": "stderr",
     "output_type": "stream",
     "text": [
      "WARNING - (py.warnings._showwarnmsg) - c:\\Users\\crudek\\AppData\\Local\\anaconda3\\envs\\newpycaret\\lib\\site-packages\\statsmodels\\regression\\linear_model.py:1716: RuntimeWarning: divide by zero encountered in double_scalars\n",
      "  return np.dot(wresid, wresid) / self.df_resid\n",
      "\n"
     ]
    },
    {
     "name": "stdout",
     "output_type": "stream",
     "text": [
      "Model Number: 291 with model ARDL in generation 2 of 10\n",
      "Model Number: 292 with model LastValueNaive in generation 2 of 10\n",
      "Model Number: 293 with model LastValueNaive in generation 2 of 10\n",
      "Model Number: 294 with model AverageValueNaive in generation 2 of 10\n",
      "Model Number: 295 with model DatepartRegression in generation 2 of 10\n",
      "Model Number: 296 with model UnobservedComponents in generation 2 of 10\n",
      "Model Number: 297 with model GLS in generation 2 of 10\n",
      "Model Number: 298 with model Theta in generation 2 of 10\n",
      "Model Number: 299 with model SeasonalNaive in generation 2 of 10\n",
      "Model Number: 300 with model Theta in generation 2 of 10\n",
      "Model Number: 301 with model KalmanStateSpace in generation 2 of 10\n",
      "Template Eval Error: Exception('Transformer AlignLastValue failed on inverse') in model 301 in generation 2: KalmanStateSpace\n",
      "Model Number: 302 with model SeasonalityMotif in generation 2 of 10\n",
      "Model Number: 303 with model ARIMA in generation 2 of 10\n",
      "Model Number: 304 with model DatepartRegression in generation 2 of 10\n",
      "Template Eval Error: ValueError(\"regression_type='User' but no future_regressor passed\") in model 304 in generation 2: DatepartRegression\n",
      "Model Number: 305 with model LastValueNaive in generation 2 of 10\n",
      "Model Number: 306 with model GLS in generation 2 of 10\n"
     ]
    },
    {
     "name": "stderr",
     "output_type": "stream",
     "text": [
      "WARNING - (py.warnings._showwarnmsg) - c:\\Users\\crudek\\AppData\\Local\\anaconda3\\envs\\newpycaret\\lib\\site-packages\\statsmodels\\genmod\\families\\family.py:445: RuntimeWarning: divide by zero encountered in divide\n",
      "  endog_mu = self._clean(endog / mu)\n",
      "\n",
      "WARNING - (py.warnings._showwarnmsg) - c:\\Users\\crudek\\AppData\\Local\\anaconda3\\envs\\newpycaret\\lib\\site-packages\\statsmodels\\genmod\\families\\family.py:143: RuntimeWarning: divide by zero encountered in divide\n",
      "  return 1. / (self.link.deriv(mu)**2 * self.variance(mu))\n",
      "\n"
     ]
    },
    {
     "name": "stdout",
     "output_type": "stream",
     "text": [
      "Model Number: 307 with model GLM in generation 2 of 10\n",
      "Template Eval Error: ValueError('NaN, inf or invalid value detected in weights, estimation infeasible.') in model 307 in generation 2: GLM\n",
      "Model Number: 308 with model GLM in generation 2 of 10\n",
      "Model Number: 309 with model AverageValueNaive in generation 2 of 10\n",
      "Model Number: 310 with model ARIMA in generation 2 of 10\n",
      "Model Number: 311 with model UnobservedComponents in generation 2 of 10\n",
      "Model Number: 312 with model ETS in generation 2 of 10\n",
      "Template Eval Error: Exception('Transformer Cointegration failed on fit') in model 312 in generation 2: ETS\n",
      "Model Number: 313 with model UnobservedComponents in generation 2 of 10\n"
     ]
    },
    {
     "name": "stderr",
     "output_type": "stream",
     "text": [
      "WARNING - (py.warnings._showwarnmsg) - c:\\Users\\crudek\\AppData\\Local\\anaconda3\\envs\\newpycaret\\lib\\site-packages\\sklearn\\neural_network\\_multilayer_perceptron.py:686: ConvergenceWarning: Stochastic Optimizer: Maximum iterations (250) reached and the optimization hasn't converged yet.\n",
      "  warnings.warn(\n",
      "\n"
     ]
    },
    {
     "name": "stdout",
     "output_type": "stream",
     "text": [
      "Model Number: 314 with model KalmanStateSpace in generation 2 of 10\n",
      "Model Number: 315 with model UnobservedComponents in generation 2 of 10\n",
      "Model Number: 316 with model DatepartRegression in generation 2 of 10\n",
      "Model Number: 317 with model AverageValueNaive in generation 2 of 10\n",
      "Model Number: 318 with model LastValueNaive in generation 2 of 10\n",
      "Model Number: 319 with model UnobservedComponents in generation 2 of 10\n",
      "Model Number: 320 with model LastValueNaive in generation 2 of 10\n",
      "Model Number: 321 with model GLS in generation 2 of 10\n",
      "Model Number: 322 with model GLS in generation 2 of 10\n",
      "Model Number: 323 with model DatepartRegression in generation 2 of 10\n",
      "Template Eval Error: ValueError(\"regression_type='User' but no future_regressor passed\") in model 323 in generation 2: DatepartRegression\n",
      "Model Number: 324 with model SeasonalNaive in generation 2 of 10\n",
      "Model Number: 325 with model FBProphet in generation 2 of 10\n"
     ]
    },
    {
     "name": "stderr",
     "output_type": "stream",
     "text": [
      "14:57:20 - cmdstanpy - INFO - Chain [1] start processing\n",
      "14:57:20 - cmdstanpy - INFO - Chain [1] done processing\n",
      "WARNING - (py.warnings._showwarnmsg) - c:\\Users\\crudek\\AppData\\Local\\anaconda3\\envs\\newpycaret\\lib\\site-packages\\autots\\tools\\probabilistic.py:67: RuntimeWarning: invalid value encountered in divide\n",
      "  (prior_mu / prior_sigma**2) + ((n * data_mu) / prior_sigma**2)\n",
      "\n",
      "WARNING - (py.warnings._showwarnmsg) - c:\\Users\\crudek\\AppData\\Local\\anaconda3\\envs\\newpycaret\\lib\\site-packages\\autots\\tools\\probabilistic.py:67: RuntimeWarning: divide by zero encountered in divide\n",
      "  (prior_mu / prior_sigma**2) + ((n * data_mu) / prior_sigma**2)\n",
      "\n",
      "WARNING - (py.warnings._showwarnmsg) - c:\\Users\\crudek\\AppData\\Local\\anaconda3\\envs\\newpycaret\\lib\\site-packages\\autots\\tools\\probabilistic.py:68: RuntimeWarning: divide by zero encountered in divide\n",
      "  ) / ((1 / prior_sigma**2) + (n / prior_sigma**2))\n",
      "\n"
     ]
    },
    {
     "name": "stdout",
     "output_type": "stream",
     "text": [
      "Model Number: 326 with model ARDL in generation 2 of 10\n",
      "Template Eval Error: ValueError(\"regression_type='User' but future_regressor not supplied\") in model 326 in generation 2: ARDL\n",
      "Model Number: 327 with model DatepartRegression in generation 2 of 10\n",
      "Template Eval Error: Exception('Transformer RegressionFilter failed on fit') in model 327 in generation 2: DatepartRegression\n",
      "Model Number: 328 with model FBProphet in generation 2 of 10\n",
      "Template Eval Error: Exception('Transformer RegressionFilter failed on fit') in model 328 in generation 2: FBProphet\n",
      "Model Number: 329 with model DatepartRegression in generation 2 of 10\n",
      "Model Number: 330 with model DatepartRegression in generation 2 of 10\n",
      "Model Number: 331 with model GLS in generation 2 of 10\n",
      "Model Number: 332 with model GLS in generation 2 of 10\n"
     ]
    },
    {
     "name": "stderr",
     "output_type": "stream",
     "text": [
      "WARNING - (py.warnings._showwarnmsg) - c:\\Users\\crudek\\AppData\\Local\\anaconda3\\envs\\newpycaret\\lib\\site-packages\\statsmodels\\genmod\\families\\family.py:445: RuntimeWarning: divide by zero encountered in divide\n",
      "  endog_mu = self._clean(endog / mu)\n",
      "\n",
      "WARNING - (py.warnings._showwarnmsg) - c:\\Users\\crudek\\AppData\\Local\\anaconda3\\envs\\newpycaret\\lib\\site-packages\\statsmodels\\genmod\\families\\family.py:143: RuntimeWarning: divide by zero encountered in divide\n",
      "  return 1. / (self.link.deriv(mu)**2 * self.variance(mu))\n",
      "\n"
     ]
    },
    {
     "name": "stdout",
     "output_type": "stream",
     "text": [
      "Model Number: 333 with model GLM in generation 2 of 10\n",
      "Template Eval Error: ValueError('NaN, inf or invalid value detected in weights, estimation infeasible.') in model 333 in generation 2: GLM\n",
      "Model Number: 334 with model GLS in generation 2 of 10\n",
      "Model Number: 335 with model KalmanStateSpace in generation 2 of 10\n",
      "Model Number: 336 with model UnobservedComponents in generation 2 of 10\n",
      "Template Eval Error: Exception('Transformer RegressionFilter failed on fit') in model 336 in generation 2: UnobservedComponents\n",
      "Model Number: 337 with model UnobservedComponents in generation 2 of 10\n"
     ]
    },
    {
     "name": "stderr",
     "output_type": "stream",
     "text": [
      "WARNING - (py.warnings._showwarnmsg) - c:\\Users\\crudek\\AppData\\Local\\anaconda3\\envs\\newpycaret\\lib\\site-packages\\statsmodels\\genmod\\families\\family.py:445: RuntimeWarning: divide by zero encountered in divide\n",
      "  endog_mu = self._clean(endog / mu)\n",
      "\n"
     ]
    },
    {
     "name": "stdout",
     "output_type": "stream",
     "text": [
      "Model Number: 338 with model GLM in generation 2 of 10\n"
     ]
    },
    {
     "name": "stderr",
     "output_type": "stream",
     "text": [
      "WARNING - (py.warnings._showwarnmsg) - c:\\Users\\crudek\\AppData\\Local\\anaconda3\\envs\\newpycaret\\lib\\site-packages\\statsmodels\\genmod\\families\\family.py:143: RuntimeWarning: divide by zero encountered in divide\n",
      "  return 1. / (self.link.deriv(mu)**2 * self.variance(mu))\n",
      "\n"
     ]
    },
    {
     "name": "stdout",
     "output_type": "stream",
     "text": [
      "Template Eval Error: ValueError('NaN, inf or invalid value detected in weights, estimation infeasible.') in model 338 in generation 2: GLM\n",
      "Model Number: 339 with model FBProphet in generation 2 of 10\n",
      "Model Number: 340 with model GLM in generation 2 of 10\n",
      "Template Eval Error: Exception('Transformer ScipyFilter failed on fit') in model 340 in generation 2: GLM\n",
      "Model Number: 341 with model SeasonalNaive in generation 2 of 10\n",
      "Template Eval Error: Exception('Transformer ScipyFilter failed on fit') in model 341 in generation 2: SeasonalNaive\n",
      "Model Number: 342 with model DatepartRegression in generation 2 of 10\n",
      "Model Number: 343 with model LastValueNaive in generation 2 of 10\n",
      "Model Number: 344 with model ARIMA in generation 2 of 10\n",
      "Model Number: 345 with model AverageValueNaive in generation 2 of 10\n",
      "Template Eval Error: Exception('Transformer AlignLastValue failed on inverse') in model 345 in generation 2: AverageValueNaive\n",
      "Model Number: 346 with model ETS in generation 2 of 10\n",
      "ETS error ValueError('endog must be strictly positive when usingmultiplicative trend or seasonal components.')\n",
      "ETS failed on y with ValueError('endog must be strictly positive when usingmultiplicative trend or seasonal components.')\n"
     ]
    },
    {
     "name": "stderr",
     "output_type": "stream",
     "text": [
      "WARNING - (py.warnings._showwarnmsg) - c:\\Users\\crudek\\AppData\\Local\\anaconda3\\envs\\newpycaret\\lib\\site-packages\\statsmodels\\genmod\\families\\links.py:198: RuntimeWarning: overflow encountered in exp\n",
      "  t = np.exp(-z)\n",
      "\n"
     ]
    },
    {
     "name": "stdout",
     "output_type": "stream",
     "text": [
      "Model Number: 347 with model SeasonalityMotif in generation 2 of 10\n",
      "Template Eval Error: ValueError('kth(=4) out of bounds (4)') in model 347 in generation 2: SeasonalityMotif\n",
      "Model Number: 348 with model GLM in generation 2 of 10\n",
      "Template Eval Error: Exception('Transformer AlignLastValue failed on inverse') in model 348 in generation 2: GLM\n",
      "Model Number: 349 with model ARDL in generation 2 of 10\n",
      "Model Number: 350 with model AverageValueNaive in generation 2 of 10\n",
      "Model Number: 351 with model LastValueNaive in generation 2 of 10\n",
      "Model Number: 352 with model AverageValueNaive in generation 2 of 10\n",
      "Model Number: 353 with model UnobservedComponents in generation 2 of 10\n",
      "Model Number: 354 with model GLS in generation 2 of 10\n",
      "Model Number: 355 with model KalmanStateSpace in generation 2 of 10\n",
      "Model Number: 356 with model GLM in generation 2 of 10\n",
      "Template Eval Error: Exception('Transformer PowerTransformer failed on fit') in model 356 in generation 2: GLM\n",
      "Model Number: 357 with model UnobservedComponents in generation 2 of 10\n",
      "Template Eval Error: Exception('Transformer AlignLastValue failed on inverse') in model 357 in generation 2: UnobservedComponents\n",
      "New Generation: 3 of 10\n",
      "Model Number: 358 with model FBProphet in generation 3 of 10\n",
      "Template Eval Error: Exception('Transformer RegressionFilter failed on fit') in model 358 in generation 3: FBProphet\n",
      "Model Number: 359 with model GLM in generation 3 of 10\n",
      "Model Number: 360 with model SeasonalityMotif in generation 3 of 10\n",
      "Template Eval Error: ValueError('kth(=19) out of bounds (11)') in model 360 in generation 3: SeasonalityMotif\n",
      "Model Number: 361 with model UnobservedComponents in generation 3 of 10\n",
      "Template Eval Error: Exception('Transformer bkfilter failed on fit') in model 361 in generation 3: UnobservedComponents\n",
      "Model Number: 362 with model Theta in generation 3 of 10\n",
      "Model Number: 363 with model ARDL in generation 3 of 10\n",
      "Model Number: 364 with model DatepartRegression in generation 3 of 10\n",
      "Model Number: 365 with model UnobservedComponents in generation 3 of 10\n",
      "Model Number: 366 with model LastValueNaive in generation 3 of 10\n",
      "Model Number: 367 with model LastValueNaive in generation 3 of 10\n",
      "Model Number: 368 with model ConstantNaive in generation 3 of 10\n",
      "Template Eval Error: Exception('Transformer RegressionFilter failed on fit') in model 368 in generation 3: ConstantNaive\n",
      "Model Number: 369 with model UnobservedComponents in generation 3 of 10\n",
      "Model Number: 370 with model UnobservedComponents in generation 3 of 10\n",
      "Model Number: 371 with model ConstantNaive in generation 3 of 10\n",
      "Model Number: 372 with model AverageValueNaive in generation 3 of 10\n",
      "Model Number: 373 with model KalmanStateSpace in generation 3 of 10\n"
     ]
    },
    {
     "name": "stderr",
     "output_type": "stream",
     "text": [
      "WARNING - (py.warnings._showwarnmsg) - c:\\Users\\crudek\\AppData\\Local\\anaconda3\\envs\\newpycaret\\lib\\site-packages\\sklearn\\svm\\_base.py:1244: ConvergenceWarning: Liblinear failed to converge, increase the number of iterations.\n",
      "  warnings.warn(\n",
      "\n"
     ]
    },
    {
     "name": "stdout",
     "output_type": "stream",
     "text": [
      "Model Number: 374 with model DatepartRegression in generation 3 of 10\n"
     ]
    },
    {
     "name": "stderr",
     "output_type": "stream",
     "text": [
      "WARNING - (py.warnings._showwarnmsg) - c:\\Users\\crudek\\AppData\\Local\\anaconda3\\envs\\newpycaret\\lib\\site-packages\\sklearn\\neighbors\\_regression.py:494: UserWarning: One or more samples have no neighbors within specified radius; predicting NaN.\n",
      "  warnings.warn(empty_warning_msg)\n",
      "\n",
      "WARNING - (py.warnings._showwarnmsg) - c:\\Users\\crudek\\AppData\\Local\\anaconda3\\envs\\newpycaret\\lib\\site-packages\\autots\\tools\\probabilistic.py:67: RuntimeWarning: invalid value encountered in divide\n",
      "  (prior_mu / prior_sigma**2) + ((n * data_mu) / prior_sigma**2)\n",
      "\n",
      "WARNING - (py.warnings._showwarnmsg) - c:\\Users\\crudek\\AppData\\Local\\anaconda3\\envs\\newpycaret\\lib\\site-packages\\autots\\tools\\probabilistic.py:68: RuntimeWarning: divide by zero encountered in divide\n",
      "  ) / ((1 / prior_sigma**2) + (n / prior_sigma**2))\n",
      "\n"
     ]
    },
    {
     "name": "stdout",
     "output_type": "stream",
     "text": [
      "Model Number: 375 with model DatepartRegression in generation 3 of 10\n",
      "Template Eval Error: ValueError('Model DatepartRegression returned NaN for one or more series. fail_on_forecast_nan=True') in model 375 in generation 3: DatepartRegression\n",
      "Model Number: 376 with model Theta in generation 3 of 10\n",
      "Template Eval Error: Exception('Transformer RegressionFilter failed on fit') in model 376 in generation 3: Theta\n",
      "Model Number: 377 with model DatepartRegression in generation 3 of 10\n",
      "Model Number: 378 with model GLM in generation 3 of 10\n",
      "Template Eval Error: ValueError('regression_type=user and no future_regressor passed') in model 378 in generation 3: GLM\n",
      "Model Number: 379 with model LastValueNaive in generation 3 of 10\n",
      "Template Eval Error: Exception('Transformer Detrend failed on fit') in model 379 in generation 3: LastValueNaive\n",
      "Model Number: 380 with model UnobservedComponents in generation 3 of 10\n",
      "Template Eval Error: Exception('Transformer RegressionFilter failed on fit') in model 380 in generation 3: UnobservedComponents\n",
      "Model Number: 381 with model SeasonalityMotif in generation 3 of 10\n",
      "Template Eval Error: Exception('Transformer RegressionFilter failed on fit') in model 381 in generation 3: SeasonalityMotif\n",
      "Model Number: 382 with model SeasonalNaive in generation 3 of 10\n",
      "Model Number: 383 with model ETS in generation 3 of 10\n",
      "ETS error ValueError('Can only dampen the trend component')\n",
      "ETS failed on y with ValueError('Can only dampen the trend component')\n",
      "Model Number: 384 with model UnobservedComponents in generation 3 of 10\n",
      "Model Number: 385 with model ConstantNaive in generation 3 of 10\n",
      "Model Number: 386 with model KalmanStateSpace in generation 3 of 10\n",
      "Model Number: 387 with model DatepartRegression in generation 3 of 10\n",
      "Model Number: 388 with model GLM in generation 3 of 10\n",
      "Model Number: 389 with model SeasonalityMotif in generation 3 of 10\n",
      "Template Eval Error: ValueError('kth(=4) out of bounds (4)') in model 389 in generation 3: SeasonalityMotif\n",
      "Model Number: 390 with model LastValueNaive in generation 3 of 10\n",
      "Model Number: 391 with model AverageValueNaive in generation 3 of 10\n",
      "Model Number: 392 with model DatepartRegression in generation 3 of 10\n",
      "Model Number: 393 with model LastValueNaive in generation 3 of 10\n",
      "Model Number: 394 with model Theta in generation 3 of 10\n",
      "Model Number: 395 with model LastValueNaive in generation 3 of 10\n",
      "Model Number: 396 with model ETS in generation 3 of 10\n",
      "ETS error ValueError('Can only dampen the trend component')\n",
      "ETS failed on y with ValueError('Can only dampen the trend component')\n",
      "Model Number: 397 with model Theta in generation 3 of 10\n",
      "Template Eval Error: Exception('Transformer RegressionFilter failed on fit') in model 397 in generation 3: Theta\n",
      "Model Number: 398 with model DatepartRegression in generation 3 of 10\n"
     ]
    },
    {
     "name": "stderr",
     "output_type": "stream",
     "text": [
      "WARNING - (py.warnings._showwarnmsg) - c:\\Users\\crudek\\AppData\\Local\\anaconda3\\envs\\newpycaret\\lib\\site-packages\\autots\\tools\\probabilistic.py:67: RuntimeWarning: invalid value encountered in divide\n",
      "  (prior_mu / prior_sigma**2) + ((n * data_mu) / prior_sigma**2)\n",
      "\n",
      "WARNING - (py.warnings._showwarnmsg) - c:\\Users\\crudek\\AppData\\Local\\anaconda3\\envs\\newpycaret\\lib\\site-packages\\autots\\tools\\probabilistic.py:68: RuntimeWarning: divide by zero encountered in divide\n",
      "  ) / ((1 / prior_sigma**2) + (n / prior_sigma**2))\n",
      "\n"
     ]
    },
    {
     "name": "stdout",
     "output_type": "stream",
     "text": [
      "Model Number: 399 with model GLS in generation 3 of 10\n",
      "Template Eval Error: Exception('Transformer PowerTransformer failed on fit') in model 399 in generation 3: GLS\n",
      "Model Number: 400 with model DatepartRegression in generation 3 of 10\n",
      "Model Number: 401 with model ETS in generation 3 of 10\n",
      "Template Eval Error: Exception('Transformer RegressionFilter failed on fit') in model 401 in generation 3: ETS\n",
      "Model Number: 402 with model ARDL in generation 3 of 10\n",
      "Model Number: 403 with model GLM in generation 3 of 10\n",
      "Model Number: 404 with model GLS in generation 3 of 10\n",
      "Model Number: 405 with model SeasonalNaive in generation 3 of 10\n",
      "Model Number: 406 with model SeasonalityMotif in generation 3 of 10\n",
      "Template Eval Error: ValueError('window shape cannot be larger than input array shape') in model 406 in generation 3: SeasonalityMotif\n",
      "Model Number: 407 with model LastValueNaive in generation 3 of 10\n",
      "Model Number: 408 with model AverageValueNaive in generation 3 of 10\n",
      "Model Number: 409 with model Theta in generation 3 of 10\n",
      "Model Number: 410 with model FBProphet in generation 3 of 10\n"
     ]
    },
    {
     "name": "stderr",
     "output_type": "stream",
     "text": [
      "14:57:26 - cmdstanpy - INFO - Chain [1] start processing\n",
      "14:57:27 - cmdstanpy - INFO - Chain [1] done processing\n"
     ]
    },
    {
     "name": "stdout",
     "output_type": "stream",
     "text": [
      "Model Number: 411 with model UnobservedComponents in generation 3 of 10\n",
      "Template Eval Error: Exception('Transformer RegressionFilter failed on fit') in model 411 in generation 3: UnobservedComponents\n",
      "Model Number: 412 with model DatepartRegression in generation 3 of 10\n",
      "Model Number: 413 with model ARDL in generation 3 of 10\n",
      "Template Eval Error: Exception('Transformer LocalLinearTrend failed on fit') in model 413 in generation 3: ARDL\n",
      "Model Number: 414 with model ARDL in generation 3 of 10\n",
      "Template Eval Error: ValueError(\"ARDL series y failed with error ValueError('The number of regressors (553) including deterministics, lags of the endog, lags of the exogenous, and fixed regressors is larger than the sample available for estimation (9).') exog train             dp0  dp1        dp2  dp3  dp4  dp5  dp6  dp7  dp8  dp9  ...  \\\\\\nds                                                                  ...   \\n2022-08-01  1.0  0.0  2459792.5  0.0  0.0  0.0  0.0  0.0  0.0  0.0  ...   \\n2022-09-01  1.0  0.0  2459823.5  0.0  0.0  0.0  0.0  0.0  0.0  0.0  ...   \\n2022-10-01  1.0  1.0  2459853.5  0.0  0.0  0.0  0.0  0.0  0.0  0.0  ...   \\n2022-11-01  1.0  0.0  2459884.5  0.0  0.0  0.0  0.0  0.0  0.0  0.0  ...   \\n2022-12-01  1.0  0.0  2459914.5  0.0  0.0  0.0  0.0  0.0  0.0  0.0  ...   \\n2023-01-01  1.0  1.0  2459945.5  1.0  0.0  0.0  0.0  0.0  0.0  0.0  ...   \\n2023-02-01  1.0  0.0  2459976.5  0.0  1.0  0.0  0.0  0.0  0.0  0.0  ...   \\n2023-03-01  1.0  0.0  2460004.5  0.0  0.0  1.0  0.0  0.0  0.0  0.0  ...   \\n2023-04-01  1.0  1.0  2460035.5  0.0  0.0  0.0  1.0  0.0  0.0  0.0  ...   \\n2023-05-01  1.0  0.0  2460065.5  0.0  0.0  0.0  0.0  1.0  0.0  0.0  ...   \\n2023-06-01  1.0  0.0  2460096.5  0.0  0.0  0.0  0.0  0.0  1.0  0.0  ...   \\n\\n            dp265  dp266  dp267  dp268  dp269  dp270  dp271  dp272  dp273  \\\\\\nds                                                                          \\n2022-08-01    0.0    0.0    0.0    0.0    0.0    0.0    0.0    0.0    0.0   \\n2022-09-01    1.0    0.0    0.0    0.0    0.0    0.0    0.0    0.0    0.0   \\n2022-10-01    0.0    0.0    0.0    0.0    0.0    0.0    0.0    1.0    0.0   \\n2022-11-01    0.0    0.0    0.0    0.0    0.0    0.0    0.0    0.0    0.0   \\n2022-12-01    1.0    0.0    0.0    0.0    0.0    0.0    0.0    0.0    0.0   \\n2023-01-01    0.0    0.0    0.0    0.0    0.0    0.0    0.0    0.0    0.0   \\n2023-02-01    0.0    0.0    0.0    0.0    0.0    0.0    0.0    0.0    0.0   \\n2023-03-01    0.0    0.0    0.0    0.0    0.0    0.0    0.0    0.0    0.0   \\n2023-04-01    0.0    0.0    0.0    0.0    0.0    0.0    0.0    1.0    0.0   \\n2023-05-01    0.0    0.0    0.0    0.0    0.0    0.0    0.0    0.0    0.0   \\n2023-06-01    1.0    0.0    0.0    0.0    0.0    0.0    0.0    0.0    0.0   \\n\\n            dp274  \\nds                 \\n2022-08-01    0.0  \\n2022-09-01    0.0  \\n2022-10-01    0.0  \\n2022-11-01    0.0  \\n2022-12-01    0.0  \\n2023-01-01    1.0  \\n2023-02-01    0.0  \\n2023-03-01    0.0  \\n2023-04-01    0.0  \\n2023-05-01    0.0  \\n2023-06-01    0.0  \\n\\n[11 rows x 275 columns] and predict             dp0  dp1        dp2  dp3  dp4  dp5  dp6  dp7  dp8  dp9  ...  \\\\\\n2023-07-01  1.0  1.0  2460126.5  0.0  0.0  0.0  0.0  0.0  0.0  1.0  ...   \\n2023-08-01  1.0  0.0  2460157.5  0.0  0.0  0.0  0.0  0.0  0.0  0.0  ...   \\n2023-09-01  1.0  0.0  2460188.5  0.0  0.0  0.0  0.0  0.0  0.0  0.0  ...   \\n\\n            dp265  dp266  dp267  dp268  dp269  dp270  dp271  dp272  dp273  \\\\\\n2023-07-01    0.0    0.0    0.0    0.0    0.0    0.0    0.0    1.0    0.0   \\n2023-08-01    0.0    0.0    0.0    0.0    0.0    0.0    0.0    0.0    0.0   \\n2023-09-01    0.0    0.0    0.0    0.0    1.0    0.0    0.0    0.0    0.0   \\n\\n            dp274  \\n2023-07-01    0.0  \\n2023-08-01    0.0  \\n2023-09-01    0.0  \\n\\n[3 rows x 275 columns]\") in model 414 in generation 3: ARDL\n",
      "Model Number: 415 with model UnobservedComponents in generation 3 of 10\n",
      "Template Eval Error: Exception('Transformer bkfilter failed on fit') in model 415 in generation 3: UnobservedComponents\n",
      "Model Number: 416 with model SeasonalNaive in generation 3 of 10\n",
      "Model Number: 417 with model AverageValueNaive in generation 3 of 10\n",
      "Model Number: 418 with model AverageValueNaive in generation 3 of 10\n",
      "Model Number: 419 with model DatepartRegression in generation 3 of 10\n",
      "Template Eval Error: ImportError('Tensorflow not available, install with pip install tensorflow.') in model 419 in generation 3: DatepartRegression\n",
      "Model Number: 420 with model ETS in generation 3 of 10\n",
      "Model Number: 421 with model GLS in generation 3 of 10\n",
      "Model Number: 422 with model Theta in generation 3 of 10\n",
      "Model Number: 423 with model ConstantNaive in generation 3 of 10\n",
      "Model Number: 424 with model GLM in generation 3 of 10\n"
     ]
    },
    {
     "name": "stderr",
     "output_type": "stream",
     "text": [
      "WARNING - (py.warnings._showwarnmsg) - c:\\Users\\crudek\\AppData\\Local\\anaconda3\\envs\\newpycaret\\lib\\site-packages\\statsmodels\\genmod\\families\\family.py:445: RuntimeWarning: divide by zero encountered in divide\n",
      "  endog_mu = self._clean(endog / mu)\n",
      "\n",
      "WARNING - (py.warnings._showwarnmsg) - c:\\Users\\crudek\\AppData\\Local\\anaconda3\\envs\\newpycaret\\lib\\site-packages\\statsmodels\\genmod\\families\\family.py:143: RuntimeWarning: divide by zero encountered in divide\n",
      "  return 1. / (self.link.deriv(mu)**2 * self.variance(mu))\n",
      "\n"
     ]
    },
    {
     "name": "stdout",
     "output_type": "stream",
     "text": [
      "Template Eval Error: ValueError('NaN, inf or invalid value detected in weights, estimation infeasible.') in model 424 in generation 3: GLM\n",
      "Model Number: 425 with model ETS in generation 3 of 10\n",
      "Model Number: 426 with model GLM in generation 3 of 10\n",
      "Model Number: 427 with model UnobservedComponents in generation 3 of 10\n",
      "Template Eval Error: Exception('Transformer BTCD failed on fit') in model 427 in generation 3: UnobservedComponents\n",
      "Model Number: 428 with model GLS in generation 3 of 10\n",
      "Model Number: 429 with model GLM in generation 3 of 10\n",
      "Model Number: 430 with model UnobservedComponents in generation 3 of 10\n"
     ]
    },
    {
     "name": "stderr",
     "output_type": "stream",
     "text": [
      "WARNING - (py.warnings._showwarnmsg) - c:\\Users\\crudek\\AppData\\Local\\anaconda3\\envs\\newpycaret\\lib\\site-packages\\statsmodels\\genmod\\generalized_linear_model.py:307: DomainWarning: The InversePower link function does not respect the domain of the Gamma family.\n",
      "  warnings.warn((f\"The {type(family.link).__name__} link function \"\n",
      "\n"
     ]
    },
    {
     "name": "stdout",
     "output_type": "stream",
     "text": [
      "Model Number: 431 with model GLM in generation 3 of 10\n",
      "Model Number: 432 with model KalmanStateSpace in generation 3 of 10\n",
      "Model Number: 433 with model GLM in generation 3 of 10\n"
     ]
    },
    {
     "name": "stderr",
     "output_type": "stream",
     "text": [
      "WARNING - (py.warnings._showwarnmsg) - c:\\Users\\crudek\\AppData\\Local\\anaconda3\\envs\\newpycaret\\lib\\site-packages\\statsmodels\\genmod\\families\\family.py:1367: ValueWarning: Negative binomial dispersion parameter alpha not set. Using default value alpha=1.0.\n",
      "  warnings.warn(\"Negative binomial dispersion parameter alpha not \"\n",
      "\n"
     ]
    },
    {
     "name": "stdout",
     "output_type": "stream",
     "text": [
      "Model Number: 434 with model FBProphet in generation 3 of 10\n"
     ]
    },
    {
     "name": "stderr",
     "output_type": "stream",
     "text": [
      "14:57:27 - cmdstanpy - INFO - Chain [1] start processing\n",
      "14:57:28 - cmdstanpy - INFO - Chain [1] done processing\n"
     ]
    },
    {
     "name": "stdout",
     "output_type": "stream",
     "text": [
      "Model Number: 435 with model UnobservedComponents in generation 3 of 10\n",
      "Template Eval Error: Exception('Transformer RegressionFilter failed on fit') in model 435 in generation 3: UnobservedComponents\n",
      "Model Number: 436 with model AverageValueNaive in generation 3 of 10\n",
      "Model Number: 437 with model AverageValueNaive in generation 3 of 10\n",
      "Model Number: 438 with model ETS in generation 3 of 10\n",
      "ETS error ValueError('endog must be strictly positive when usingmultiplicative trend or seasonal components.')\n",
      "ETS failed on y with ValueError('endog must be strictly positive when usingmultiplicative trend or seasonal components.')\n",
      "Model Number: 439 with model UnobservedComponents in generation 3 of 10\n",
      "Template Eval Error: Exception('Transformer BTCD failed on fit') in model 439 in generation 3: UnobservedComponents\n",
      "Model Number: 440 with model UnobservedComponents in generation 3 of 10\n",
      "Model Number: 441 with model DatepartRegression in generation 3 of 10\n",
      "Template Eval Error: Exception('Transformer RegressionFilter failed on fit') in model 441 in generation 3: DatepartRegression\n",
      "Model Number: 442 with model LastValueNaive in generation 3 of 10\n"
     ]
    },
    {
     "name": "stderr",
     "output_type": "stream",
     "text": [
      "WARNING - (py.warnings._showwarnmsg) - c:\\Users\\crudek\\AppData\\Local\\anaconda3\\envs\\newpycaret\\lib\\site-packages\\sklearn\\decomposition\\_fastica.py:708: FutureWarning: Starting in v1.3, whiten=True should be specified as whiten='arbitrary-variance' (its current behaviour). This behavior is deprecated in 1.1 and will raise ValueError in 1.3.\n",
      "  return self._fit_transform(X, compute_sources=True)\n",
      "\n"
     ]
    },
    {
     "name": "stdout",
     "output_type": "stream",
     "text": [
      "Model Number: 443 with model UnobservedComponents in generation 3 of 10\n",
      "Model Number: 444 with model LastValueNaive in generation 3 of 10\n",
      "Model Number: 445 with model GLS in generation 3 of 10\n",
      "Model Number: 446 with model ARIMA in generation 3 of 10\n",
      "Template Eval Error: Exception('Transformer Detrend failed on fit') in model 446 in generation 3: ARIMA\n",
      "Model Number: 447 with model Theta in generation 3 of 10\n",
      "Model Number: 448 with model Theta in generation 3 of 10\n",
      "Template Eval Error: Exception('Transformer LocalLinearTrend failed on fit') in model 448 in generation 3: Theta\n",
      "Model Number: 449 with model ARIMA in generation 3 of 10\n",
      "Model Number: 450 with model GLS in generation 3 of 10\n",
      "Model Number: 451 with model GLS in generation 3 of 10\n",
      "Model Number: 452 with model GLS in generation 3 of 10\n"
     ]
    },
    {
     "name": "stderr",
     "output_type": "stream",
     "text": [
      "WARNING - (py.warnings._showwarnmsg) - c:\\Users\\crudek\\AppData\\Local\\anaconda3\\envs\\newpycaret\\lib\\site-packages\\statsmodels\\genmod\\families\\links.py:198: RuntimeWarning: overflow encountered in exp\n",
      "  t = np.exp(-z)\n",
      "\n"
     ]
    },
    {
     "name": "stdout",
     "output_type": "stream",
     "text": [
      "Model Number: 453 with model SeasonalityMotif in generation 3 of 10\n",
      "Template Eval Error: ValueError('window shape cannot be larger than input array shape') in model 453 in generation 3: SeasonalityMotif\n",
      "Model Number: 454 with model GLM in generation 3 of 10\n",
      "Model Number: 455 with model SeasonalNaive in generation 3 of 10\n",
      "Template Eval Error: Exception('Transformer RegressionFilter failed on fit') in model 455 in generation 3: SeasonalNaive\n",
      "Model Number: 456 with model DatepartRegression in generation 3 of 10\n",
      "Model Number: 457 with model SeasonalityMotif in generation 3 of 10\n",
      "Template Eval Error: ValueError('kth(=4) out of bounds (4)') in model 457 in generation 3: SeasonalityMotif\n",
      "Model Number: 458 with model ETS in generation 3 of 10\n",
      "Model Number: 459 with model GLS in generation 3 of 10\n",
      "Template Eval Error: Exception('Transformer RegressionFilter failed on fit') in model 459 in generation 3: GLS\n",
      "Model Number: 460 with model SeasonalityMotif in generation 3 of 10\n",
      "Template Eval Error: ValueError('window shape cannot be larger than input array shape') in model 460 in generation 3: SeasonalityMotif\n",
      "Model Number: 461 with model GLS in generation 3 of 10\n"
     ]
    },
    {
     "name": "stderr",
     "output_type": "stream",
     "text": [
      "WARNING - (py.warnings._showwarnmsg) - c:\\Users\\crudek\\AppData\\Local\\anaconda3\\envs\\newpycaret\\lib\\site-packages\\statsmodels\\genmod\\families\\links.py:198: RuntimeWarning: overflow encountered in exp\n",
      "  t = np.exp(-z)\n",
      "\n"
     ]
    },
    {
     "name": "stdout",
     "output_type": "stream",
     "text": [
      "Model Number: 462 with model GLM in generation 3 of 10\n",
      "New Generation: 4 of 10\n",
      "Model Number: 463 with model AverageValueNaive in generation 4 of 10\n",
      "Model Number: 464 with model LastValueNaive in generation 4 of 10\n",
      "Model Number: 465 with model KalmanStateSpace in generation 4 of 10\n",
      "Model Number: 466 with model UnobservedComponents in generation 4 of 10\n",
      "Model Number: 467 with model GLS in generation 4 of 10\n",
      "Model Number: 468 with model LastValueNaive in generation 4 of 10\n",
      "Template Eval Error: Exception('Transformer RegressionFilter failed on fit') in model 468 in generation 4: LastValueNaive\n",
      "Model Number: 469 with model AverageValueNaive in generation 4 of 10\n",
      "Model Number: 470 with model ETS in generation 4 of 10\n",
      "Model Number: 471 with model GLS in generation 4 of 10\n",
      "Model Number: 472 with model SeasonalityMotif in generation 4 of 10\n",
      "Template Eval Error: ValueError('window shape cannot be larger than input array shape') in model 472 in generation 4: SeasonalityMotif\n",
      "Model Number: 473 with model SeasonalNaive in generation 4 of 10\n",
      "Model Number: 474 with model DatepartRegression in generation 4 of 10\n",
      "Template Eval Error: ValueError(\"regression_type='User' but no future_regressor passed\") in model 474 in generation 4: DatepartRegression\n",
      "Model Number: 475 with model Theta in generation 4 of 10\n",
      "Model Number: 476 with model ConstantNaive in generation 4 of 10\n",
      "Model Number: 477 with model Theta in generation 4 of 10\n"
     ]
    },
    {
     "name": "stderr",
     "output_type": "stream",
     "text": [
      "WARNING - (py.warnings._showwarnmsg) - c:\\Users\\crudek\\AppData\\Local\\anaconda3\\envs\\newpycaret\\lib\\site-packages\\autots\\tools\\probabilistic.py:67: RuntimeWarning: invalid value encountered in divide\n",
      "  (prior_mu / prior_sigma**2) + ((n * data_mu) / prior_sigma**2)\n",
      "\n",
      "WARNING - (py.warnings._showwarnmsg) - c:\\Users\\crudek\\AppData\\Local\\anaconda3\\envs\\newpycaret\\lib\\site-packages\\autots\\tools\\probabilistic.py:68: RuntimeWarning: divide by zero encountered in divide\n",
      "  ) / ((1 / prior_sigma**2) + (n / prior_sigma**2))\n",
      "\n"
     ]
    },
    {
     "name": "stdout",
     "output_type": "stream",
     "text": [
      "Template Eval Error: Exception('Transformer AlignLastValue failed on inverse') in model 477 in generation 4: Theta\n",
      "Model Number: 478 with model SeasonalNaive in generation 4 of 10\n",
      "Model Number: 479 with model LastValueNaive in generation 4 of 10\n",
      "Model Number: 480 with model Theta in generation 4 of 10\n",
      "Model Number: 481 with model GLS in generation 4 of 10\n",
      "Template Eval Error: Exception('Transformer RegressionFilter failed on fit') in model 481 in generation 4: GLS\n",
      "Model Number: 482 with model ARDL in generation 4 of 10\n",
      "Template Eval Error: ValueError(\"regression_type='User' but future_regressor not supplied\") in model 482 in generation 4: ARDL\n",
      "Model Number: 483 with model LastValueNaive in generation 4 of 10\n",
      "Model Number: 484 with model ETS in generation 4 of 10\n",
      "Model Number: 485 with model UnobservedComponents in generation 4 of 10\n",
      "Model Number: 486 with model DatepartRegression in generation 4 of 10\n",
      "Model Number: 487 with model DatepartRegression in generation 4 of 10\n",
      "Template Eval Error: ValueError(\"regression_type='User' but no future_regressor passed\") in model 487 in generation 4: DatepartRegression\n",
      "Model Number: 488 with model DatepartRegression in generation 4 of 10\n",
      "Model Number: 489 with model UnobservedComponents in generation 4 of 10\n",
      "Model Number: 490 with model UnobservedComponents in generation 4 of 10\n",
      "Template Eval Error: Exception('Transformer Detrend failed on fit') in model 490 in generation 4: UnobservedComponents\n",
      "Model Number: 491 with model LastValueNaive in generation 4 of 10\n",
      "Template Eval Error: Exception('Transformer Cointegration failed on fit') in model 491 in generation 4: LastValueNaive\n",
      "Model Number: 492 with model SeasonalityMotif in generation 4 of 10\n",
      "Template Eval Error: ValueError(\"Model returned NaN due to a preprocessing transformer {'fillna': 'time', 'transformations': {'0': 'SeasonalDifference', '1': 'AlignLastValue'}, 'transformation_params': {'0': {'lag_1': 49, 'method': 'Median'}, '1': {'rows': 1, 'lag': 1, 'method': 'multiplicative', 'strength': 1.0, 'first_value_only': False}}}. fail_on_forecast_nan=True\") in model 492 in generation 4: SeasonalityMotif\n",
      "Model Number: 493 with model GLS in generation 4 of 10\n",
      "Model Number: 494 with model AverageValueNaive in generation 4 of 10\n",
      "Model Number: 495 with model GLS in generation 4 of 10\n",
      "Model Number: 496 with model ARDL in generation 4 of 10\n",
      "Model Number: 497 with model UnobservedComponents in generation 4 of 10\n",
      "Model Number: 498 with model DatepartRegression in generation 4 of 10\n",
      "Model Number: 499 with model ConstantNaive in generation 4 of 10\n",
      "Model Number: 500 with model GLS in generation 4 of 10\n",
      "Model Number: 501 with model SeasonalNaive in generation 4 of 10\n",
      "Model Number: 502 with model LastValueNaive in generation 4 of 10\n",
      "Template Eval Error: Exception('Transformer RegressionFilter failed on fit') in model 502 in generation 4: LastValueNaive\n",
      "Model Number: 503 with model KalmanStateSpace in generation 4 of 10\n",
      "Template Eval Error: Exception('Transformer DatepartRegression failed on fit') in model 503 in generation 4: KalmanStateSpace\n",
      "Model Number: 504 with model SeasonalNaive in generation 4 of 10\n",
      "Model Number: 505 with model UnobservedComponents in generation 4 of 10\n",
      "Model Number: 506 with model ETS in generation 4 of 10\n",
      "Model Number: 507 with model ETS in generation 4 of 10\n",
      "ETS error ValueError('Can only dampen the trend component')\n",
      "ETS failed on y with ValueError('Can only dampen the trend component')\n",
      "Model Number: 508 with model KalmanStateSpace in generation 4 of 10\n",
      "Model Number: 509 with model KalmanStateSpace in generation 4 of 10\n",
      "Model Number: 510 with model UnobservedComponents in generation 4 of 10\n"
     ]
    },
    {
     "name": "stderr",
     "output_type": "stream",
     "text": [
      "WARNING - (py.warnings._showwarnmsg) - c:\\Users\\crudek\\AppData\\Local\\anaconda3\\envs\\newpycaret\\lib\\site-packages\\sklearn\\svm\\_base.py:1244: ConvergenceWarning: Liblinear failed to converge, increase the number of iterations.\n",
      "  warnings.warn(\n",
      "\n"
     ]
    },
    {
     "name": "stdout",
     "output_type": "stream",
     "text": [
      "Template Eval Error: ValueError(\"regression_type='User' but no future_regressor supplied\") in model 510 in generation 4: UnobservedComponents\n",
      "Model Number: 511 with model DatepartRegression in generation 4 of 10\n",
      "Model Number: 512 with model KalmanStateSpace in generation 4 of 10\n",
      "Model Number: 513 with model GLM in generation 4 of 10\n",
      "Template Eval Error: Exception('Transformer RegressionFilter failed on fit') in model 513 in generation 4: GLM\n",
      "Model Number: 514 with model GLM in generation 4 of 10\n",
      "Model Number: 515 with model ARDL in generation 4 of 10\n",
      "Model Number: 516 with model FBProphet in generation 4 of 10\n",
      "Template Eval Error: ValueError(\"regression_type='User' but no future_regressor passed\") in model 516 in generation 4: FBProphet\n",
      "Model Number: 517 with model ETS in generation 4 of 10\n",
      "Model Number: 518 with model SeasonalityMotif in generation 4 of 10\n",
      "Template Eval Error: ValueError('window shape cannot be larger than input array shape') in model 518 in generation 4: SeasonalityMotif\n",
      "Model Number: 519 with model ARIMA in generation 4 of 10\n"
     ]
    },
    {
     "name": "stderr",
     "output_type": "stream",
     "text": [
      "WARNING - (py.warnings._showwarnmsg) - c:\\Users\\crudek\\AppData\\Local\\anaconda3\\envs\\newpycaret\\lib\\site-packages\\statsmodels\\genmod\\generalized_linear_model.py:813: RuntimeWarning: divide by zero encountered in double_scalars\n",
      "  return np.sum(resid / self.family.variance(mu)) / self.df_resid\n",
      "\n"
     ]
    },
    {
     "name": "stdout",
     "output_type": "stream",
     "text": [
      "Model Number: 520 with model GLM in generation 4 of 10\n",
      "Model Number: 521 with model LastValueNaive in generation 4 of 10\n",
      "Model Number: 522 with model UnobservedComponents in generation 4 of 10\n",
      "Template Eval Error: ValueError(\"regression_type='User' but no future_regressor supplied\") in model 522 in generation 4: UnobservedComponents\n",
      "Model Number: 523 with model ETS in generation 4 of 10\n",
      "Model Number: 524 with model UnobservedComponents in generation 4 of 10\n"
     ]
    },
    {
     "name": "stderr",
     "output_type": "stream",
     "text": [
      "WARNING - (py.warnings._showwarnmsg) - c:\\Users\\crudek\\AppData\\Local\\anaconda3\\envs\\newpycaret\\lib\\site-packages\\statsmodels\\genmod\\generalized_linear_model.py:813: RuntimeWarning: divide by zero encountered in double_scalars\n",
      "  return np.sum(resid / self.family.variance(mu)) / self.df_resid\n",
      "\n"
     ]
    },
    {
     "name": "stdout",
     "output_type": "stream",
     "text": [
      "Model Number: 525 with model SeasonalityMotif in generation 4 of 10\n",
      "Template Eval Error: ValueError('kth(=4) out of bounds (4)') in model 525 in generation 4: SeasonalityMotif\n",
      "Model Number: 526 with model GLM in generation 4 of 10\n",
      "Model Number: 527 with model SeasonalityMotif in generation 4 of 10\n",
      "Template Eval Error: ValueError('kth(=4) out of bounds (4)') in model 527 in generation 4: SeasonalityMotif\n",
      "Model Number: 528 with model GLM in generation 4 of 10\n",
      "Model Number: 529 with model SeasonalNaive in generation 4 of 10\n"
     ]
    },
    {
     "name": "stderr",
     "output_type": "stream",
     "text": [
      "WARNING - (py.warnings._showwarnmsg) - c:\\Users\\crudek\\AppData\\Local\\anaconda3\\envs\\newpycaret\\lib\\site-packages\\sklearn\\decomposition\\_fastica.py:708: FutureWarning: Starting in v1.3, whiten=True should be specified as whiten='arbitrary-variance' (its current behaviour). This behavior is deprecated in 1.1 and will raise ValueError in 1.3.\n",
      "  return self._fit_transform(X, compute_sources=True)\n",
      "\n"
     ]
    },
    {
     "name": "stdout",
     "output_type": "stream",
     "text": [
      "Model Number: 530 with model DatepartRegression in generation 4 of 10\n",
      "Template Eval Error: Exception('Transformer Cointegration failed on fit') in model 530 in generation 4: DatepartRegression\n",
      "Model Number: 531 with model AverageValueNaive in generation 4 of 10\n",
      "Model Number: 532 with model FBProphet in generation 4 of 10\n"
     ]
    },
    {
     "name": "stderr",
     "output_type": "stream",
     "text": [
      "14:57:31 - cmdstanpy - INFO - Chain [1] start processing\n",
      "14:57:32 - cmdstanpy - INFO - Chain [1] done processing\n",
      "WARNING - (py.warnings._showwarnmsg) - c:\\Users\\crudek\\AppData\\Local\\anaconda3\\envs\\newpycaret\\lib\\site-packages\\autots\\tools\\probabilistic.py:67: RuntimeWarning: invalid value encountered in divide\n",
      "  (prior_mu / prior_sigma**2) + ((n * data_mu) / prior_sigma**2)\n",
      "\n",
      "WARNING - (py.warnings._showwarnmsg) - c:\\Users\\crudek\\AppData\\Local\\anaconda3\\envs\\newpycaret\\lib\\site-packages\\autots\\tools\\probabilistic.py:68: RuntimeWarning: divide by zero encountered in divide\n",
      "  ) / ((1 / prior_sigma**2) + (n / prior_sigma**2))\n",
      "\n"
     ]
    },
    {
     "name": "stdout",
     "output_type": "stream",
     "text": [
      "Model Number: 533 with model SeasonalNaive in generation 4 of 10\n",
      "Model Number: 534 with model UnobservedComponents in generation 4 of 10\n",
      "Model Number: 535 with model ARDL in generation 4 of 10\n",
      "Model Number: 536 with model FBProphet in generation 4 of 10\n"
     ]
    },
    {
     "name": "stderr",
     "output_type": "stream",
     "text": [
      "14:57:32 - cmdstanpy - INFO - Chain [1] start processing\n",
      "14:57:32 - cmdstanpy - INFO - Chain [1] done processing\n"
     ]
    },
    {
     "name": "stdout",
     "output_type": "stream",
     "text": [
      "Model Number: 537 with model SeasonalityMotif in generation 4 of 10\n",
      "Template Eval Error: ValueError('kth(=4) out of bounds (4)') in model 537 in generation 4: SeasonalityMotif\n",
      "Model Number: 538 with model Theta in generation 4 of 10\n",
      "Model Number: 539 with model ARDL in generation 4 of 10\n",
      "Model Number: 540 with model LastValueNaive in generation 4 of 10\n",
      "Template Eval Error: Exception('Transformer BTCD failed on fit') in model 540 in generation 4: LastValueNaive\n",
      "Model Number: 541 with model AverageValueNaive in generation 4 of 10\n",
      "Model Number: 542 with model DatepartRegression in generation 4 of 10\n",
      "Model Number: 543 with model SeasonalityMotif in generation 4 of 10\n",
      "Template Eval Error: ValueError('window shape cannot be larger than input array shape') in model 543 in generation 4: SeasonalityMotif\n",
      "Model Number: 544 with model GLS in generation 4 of 10\n",
      "Template Eval Error: Exception('Transformer Cointegration failed on fit') in model 544 in generation 4: GLS\n",
      "Model Number: 545 with model DatepartRegression in generation 4 of 10\n",
      "Template Eval Error: ValueError(\"regression_type='User' but no future_regressor passed\") in model 545 in generation 4: DatepartRegression\n",
      "Model Number: 546 with model LastValueNaive in generation 4 of 10\n",
      "Model Number: 547 with model SeasonalNaive in generation 4 of 10\n",
      "Model Number: 548 with model GLS in generation 4 of 10\n",
      "Model Number: 549 with model SeasonalityMotif in generation 4 of 10\n",
      "Template Eval Error: ValueError('window shape cannot be larger than input array shape') in model 549 in generation 4: SeasonalityMotif\n",
      "Model Number: 550 with model SeasonalNaive in generation 4 of 10\n",
      "Model Number: 551 with model UnobservedComponents in generation 4 of 10\n",
      "Model Number: 552 with model AverageValueNaive in generation 4 of 10\n",
      "Model Number: 553 with model LastValueNaive in generation 4 of 10\n",
      "Model Number: 554 with model AverageValueNaive in generation 4 of 10\n",
      "Model Number: 555 with model Theta in generation 4 of 10\n"
     ]
    },
    {
     "name": "stderr",
     "output_type": "stream",
     "text": [
      "WARNING - (py.warnings._showwarnmsg) - c:\\Users\\crudek\\AppData\\Local\\anaconda3\\envs\\newpycaret\\lib\\site-packages\\autots\\tools\\probabilistic.py:67: RuntimeWarning: invalid value encountered in divide\n",
      "  (prior_mu / prior_sigma**2) + ((n * data_mu) / prior_sigma**2)\n",
      "\n"
     ]
    },
    {
     "name": "stdout",
     "output_type": "stream",
     "text": [
      "Model Number: 556 with model ETS in generation 4 of 10\n"
     ]
    },
    {
     "name": "stderr",
     "output_type": "stream",
     "text": [
      "WARNING - (py.warnings._showwarnmsg) - c:\\Users\\crudek\\AppData\\Local\\anaconda3\\envs\\newpycaret\\lib\\site-packages\\autots\\tools\\probabilistic.py:68: RuntimeWarning: divide by zero encountered in divide\n",
      "  ) / ((1 / prior_sigma**2) + (n / prior_sigma**2))\n",
      "\n"
     ]
    },
    {
     "name": "stdout",
     "output_type": "stream",
     "text": [
      "Model Number: 557 with model UnobservedComponents in generation 4 of 10\n",
      "Template Eval Error: ValueError(\"regression_type='User' but no future_regressor supplied\") in model 557 in generation 4: UnobservedComponents\n",
      "Model Number: 558 with model GLM in generation 4 of 10\n",
      "Model Number: 559 with model AverageValueNaive in generation 4 of 10\n",
      "Template Eval Error: Exception('Transformer RegressionFilter failed on fit') in model 559 in generation 4: AverageValueNaive\n",
      "Model Number: 560 with model ConstantNaive in generation 4 of 10\n",
      "Template Eval Error: ValueError(\"Model returned NaN due to a preprocessing transformer {'fillna': 'rolling_mean_24', 'transformations': {'0': 'SeasonalDifference', '1': 'MinMaxScaler', '2': 'AlignLastValue', '3': 'AlignLastValue'}, 'transformation_params': {'0': {'lag_1': 12, 'method': 'LastValue'}, '1': {}, '2': {'rows': 1, 'lag': 1, 'method': 'additive', 'strength': 1.0, 'first_value_only': False}, '3': {'rows': 1, 'lag': 1, 'method': 'multiplicative', 'strength': 0.9, 'first_value_only': False}}}. fail_on_forecast_nan=True\") in model 560 in generation 4: ConstantNaive\n",
      "Model Number: 561 with model FBProphet in generation 4 of 10\n"
     ]
    },
    {
     "name": "stderr",
     "output_type": "stream",
     "text": [
      "14:57:33 - cmdstanpy - INFO - Chain [1] start processing\n",
      "14:57:33 - cmdstanpy - INFO - Chain [1] done processing\n"
     ]
    },
    {
     "name": "stdout",
     "output_type": "stream",
     "text": [
      "Model Number: 562 with model SeasonalityMotif in generation 4 of 10\n",
      "Template Eval Error: ValueError('kth(=4) out of bounds (4)') in model 562 in generation 4: SeasonalityMotif\n",
      "Model Number: 563 with model KalmanStateSpace in generation 4 of 10\n",
      "Model Number: 564 with model ETS in generation 4 of 10\n",
      "Model Number: 565 with model UnobservedComponents in generation 4 of 10\n",
      "Template Eval Error: Exception('Transformer Detrend failed on fit') in model 565 in generation 4: UnobservedComponents\n",
      "Model Number: 566 with model ARIMA in generation 4 of 10\n",
      "Model Number: 567 with model DatepartRegression in generation 4 of 10\n",
      "New Generation: 5 of 10\n"
     ]
    },
    {
     "name": "stderr",
     "output_type": "stream",
     "text": [
      "WARNING - (py.warnings._showwarnmsg) - c:\\Users\\crudek\\AppData\\Local\\anaconda3\\envs\\newpycaret\\lib\\site-packages\\sklearn\\svm\\_base.py:1244: ConvergenceWarning: Liblinear failed to converge, increase the number of iterations.\n",
      "  warnings.warn(\n",
      "\n"
     ]
    },
    {
     "name": "stdout",
     "output_type": "stream",
     "text": [
      "Model Number: 568 with model ETS in generation 5 of 10\n"
     ]
    },
    {
     "name": "stderr",
     "output_type": "stream",
     "text": [
      "WARNING - (py.warnings._showwarnmsg) - c:\\Users\\crudek\\AppData\\Local\\anaconda3\\envs\\newpycaret\\lib\\site-packages\\sklearn\\svm\\_base.py:1244: ConvergenceWarning: Liblinear failed to converge, increase the number of iterations.\n",
      "  warnings.warn(\n",
      "\n"
     ]
    },
    {
     "name": "stdout",
     "output_type": "stream",
     "text": [
      "Model Number: 569 with model SeasonalityMotif in generation 5 of 10\n",
      "Template Eval Error: ValueError('kth(=4) out of bounds (4)') in model 569 in generation 5: SeasonalityMotif\n",
      "Model Number: 570 with model SeasonalityMotif in generation 5 of 10\n",
      "Template Eval Error: ValueError('kth(=4) out of bounds (4)') in model 570 in generation 5: SeasonalityMotif\n",
      "Model Number: 571 with model DatepartRegression in generation 5 of 10\n",
      "Model Number: 572 with model GLS in generation 5 of 10\n",
      "Model Number: 573 with model ARIMA in generation 5 of 10\n",
      "Model Number: 574 with model AverageValueNaive in generation 5 of 10\n",
      "Model Number: 575 with model Theta in generation 5 of 10\n",
      "Template Eval Error: Exception('Transformer RegressionFilter failed on fit') in model 575 in generation 5: Theta\n",
      "Model Number: 576 with model ETS in generation 5 of 10\n",
      "Model Number: 577 with model AverageValueNaive in generation 5 of 10\n",
      "Model Number: 578 with model Theta in generation 5 of 10\n",
      "Model Number: 579 with model LastValueNaive in generation 5 of 10\n"
     ]
    },
    {
     "name": "stderr",
     "output_type": "stream",
     "text": [
      "WARNING - (py.warnings._showwarnmsg) - c:\\Users\\crudek\\AppData\\Local\\anaconda3\\envs\\newpycaret\\lib\\site-packages\\statsmodels\\genmod\\generalized_linear_model.py:1257: PerfectSeparationWarning: Perfect separation or prediction detected, parameter may not be identified\n",
      "  warnings.warn(msg, category=PerfectSeparationWarning)\n",
      "\n"
     ]
    },
    {
     "name": "stdout",
     "output_type": "stream",
     "text": [
      "Model Number: 580 with model GLM in generation 5 of 10\n"
     ]
    },
    {
     "name": "stderr",
     "output_type": "stream",
     "text": [
      "WARNING - (py.warnings._showwarnmsg) - c:\\Users\\crudek\\AppData\\Local\\anaconda3\\envs\\newpycaret\\lib\\site-packages\\statsmodels\\genmod\\generalized_linear_model.py:1257: PerfectSeparationWarning: Perfect separation or prediction detected, parameter may not be identified\n",
      "  warnings.warn(msg, category=PerfectSeparationWarning)\n",
      "\n",
      "WARNING - (py.warnings._showwarnmsg) - c:\\Users\\crudek\\AppData\\Local\\anaconda3\\envs\\newpycaret\\lib\\site-packages\\numpy\\core\\fromnumeric.py:3432: RuntimeWarning: Mean of empty slice.\n",
      "  return _methods._mean(a, axis=axis, dtype=dtype,\n",
      "\n",
      "WARNING - (py.warnings._showwarnmsg) - c:\\Users\\crudek\\AppData\\Local\\anaconda3\\envs\\newpycaret\\lib\\site-packages\\numpy\\core\\_methods.py:190: RuntimeWarning: invalid value encountered in double_scalars\n",
      "  ret = ret.dtype.type(ret / rcount)\n",
      "\n"
     ]
    },
    {
     "name": "stdout",
     "output_type": "stream",
     "text": [
      "Model Number: 581 with model FBProphet in generation 5 of 10\n"
     ]
    },
    {
     "name": "stderr",
     "output_type": "stream",
     "text": [
      "WARNING - (py.warnings._showwarnmsg) - c:\\Users\\crudek\\AppData\\Local\\anaconda3\\envs\\newpycaret\\lib\\site-packages\\numpy\\core\\_methods.py:265: RuntimeWarning: Degrees of freedom <= 0 for slice\n",
      "  ret = _var(a, axis=axis, dtype=dtype, out=out, ddof=ddof,\n",
      "\n",
      "WARNING - (py.warnings._showwarnmsg) - c:\\Users\\crudek\\AppData\\Local\\anaconda3\\envs\\newpycaret\\lib\\site-packages\\numpy\\core\\_methods.py:223: RuntimeWarning: invalid value encountered in divide\n",
      "  arrmean = um.true_divide(arrmean, div, out=arrmean, casting='unsafe',\n",
      "\n",
      "WARNING - (py.warnings._showwarnmsg) - c:\\Users\\crudek\\AppData\\Local\\anaconda3\\envs\\newpycaret\\lib\\site-packages\\numpy\\core\\_methods.py:257: RuntimeWarning: invalid value encountered in double_scalars\n",
      "  ret = ret.dtype.type(ret / rcount)\n",
      "\n",
      "WARNING - (py.warnings._showwarnmsg) - c:\\Users\\crudek\\AppData\\Local\\anaconda3\\envs\\newpycaret\\lib\\site-packages\\autots\\tools\\thresholding.py:359: RuntimeWarning: invalid value encountered in divide\n",
      "  return abs(self.e_s - self.epsilon) / (self.mean_e_s + self.sd_e_s)\n",
      "\n"
     ]
    },
    {
     "name": "stdout",
     "output_type": "stream",
     "text": [
      "No anomalies detected.\n",
      "Model Number: 582 with model UnobservedComponents in generation 5 of 10\n",
      "Model Number: 583 with model GLM in generation 5 of 10\n",
      "Template Eval Error: ValueError('regression_type=user and no future_regressor passed') in model 583 in generation 5: GLM\n",
      "Model Number: 584 with model DatepartRegression in generation 5 of 10\n",
      "Template Eval Error: ImportError('Tensorflow not available, install with pip install tensorflow.') in model 584 in generation 5: DatepartRegression\n",
      "Model Number: 585 with model ETS in generation 5 of 10\n",
      "Template Eval Error: Exception('Transformer ScipyFilter failed on fit') in model 585 in generation 5: ETS\n",
      "Model Number: 586 with model SeasonalNaive in generation 5 of 10\n",
      "Model Number: 587 with model UnobservedComponents in generation 5 of 10\n",
      "Template Eval Error: Exception('Transformer Cointegration failed on fit') in model 587 in generation 5: UnobservedComponents\n",
      "Model Number: 588 with model AverageValueNaive in generation 5 of 10\n",
      "Template Eval Error: Exception('Transformer RegressionFilter failed on fit') in model 588 in generation 5: AverageValueNaive\n",
      "Model Number: 589 with model UnobservedComponents in generation 5 of 10\n",
      "Template Eval Error: Exception('Transformer STLFilter failed on fit') in model 589 in generation 5: UnobservedComponents\n",
      "Model Number: 590 with model UnobservedComponents in generation 5 of 10\n",
      "Model Number: 591 with model ETS in generation 5 of 10\n",
      "Model Number: 592 with model KalmanStateSpace in generation 5 of 10\n",
      "Model Number: 593 with model AverageValueNaive in generation 5 of 10\n",
      "Template Eval Error: Exception('Transformer RegressionFilter failed on fit') in model 593 in generation 5: AverageValueNaive\n",
      "Model Number: 594 with model GLS in generation 5 of 10\n",
      "Model Number: 595 with model AverageValueNaive in generation 5 of 10\n",
      "Model Number: 596 with model ARIMA in generation 5 of 10\n",
      "Model Number: 597 with model ETS in generation 5 of 10\n",
      "ETS error ValueError('Can only dampen the trend component')\n",
      "ETS failed on y with ValueError('Can only dampen the trend component')\n",
      "Model Number: 598 with model DatepartRegression in generation 5 of 10\n",
      "Model Number: 599 with model SeasonalNaive in generation 5 of 10\n",
      "Model Number: 600 with model UnobservedComponents in generation 5 of 10\n",
      "Model Number: 601 with model DatepartRegression in generation 5 of 10\n",
      "Model Number: 602 with model Theta in generation 5 of 10\n",
      "Model Number: 603 with model ConstantNaive in generation 5 of 10\n",
      "Model Number: 604 with model GLM in generation 5 of 10\n"
     ]
    },
    {
     "name": "stderr",
     "output_type": "stream",
     "text": [
      "WARNING - (py.warnings._showwarnmsg) - c:\\Users\\crudek\\AppData\\Local\\anaconda3\\envs\\newpycaret\\lib\\site-packages\\statsmodels\\genmod\\generalized_linear_model.py:1257: PerfectSeparationWarning: Perfect separation or prediction detected, parameter may not be identified\n",
      "  warnings.warn(msg, category=PerfectSeparationWarning)\n",
      "\n"
     ]
    },
    {
     "name": "stdout",
     "output_type": "stream",
     "text": [
      "Model Number: 605 with model AverageValueNaive in generation 5 of 10\n",
      "Model Number: 606 with model UnobservedComponents in generation 5 of 10\n",
      "Model Number: 607 with model AverageValueNaive in generation 5 of 10\n",
      "Model Number: 608 with model DatepartRegression in generation 5 of 10\n"
     ]
    },
    {
     "name": "stderr",
     "output_type": "stream",
     "text": [
      "WARNING - (py.warnings._showwarnmsg) - c:\\Users\\crudek\\AppData\\Local\\anaconda3\\envs\\newpycaret\\lib\\site-packages\\sklearn\\neural_network\\_multilayer_perceptron.py:541: ConvergenceWarning: lbfgs failed to converge (status=1):\n",
      "STOP: TOTAL NO. of ITERATIONS REACHED LIMIT.\n",
      "\n",
      "Increase the number of iterations (max_iter) or scale the data as shown in:\n",
      "    https://scikit-learn.org/stable/modules/preprocessing.html\n",
      "  self.n_iter_ = _check_optimize_result(\"lbfgs\", opt_res, self.max_iter)\n",
      "\n"
     ]
    },
    {
     "name": "stdout",
     "output_type": "stream",
     "text": [
      "Model Number: 609 with model DatepartRegression in generation 5 of 10\n",
      "Model Number: 610 with model FBProphet in generation 5 of 10\n"
     ]
    },
    {
     "name": "stderr",
     "output_type": "stream",
     "text": [
      "14:57:36 - cmdstanpy - INFO - Chain [1] start processing\n",
      "14:57:36 - cmdstanpy - INFO - Chain [1] done processing\n"
     ]
    },
    {
     "name": "stdout",
     "output_type": "stream",
     "text": [
      "Model Number: 611 with model DatepartRegression in generation 5 of 10\n",
      "Model Number: 612 with model AverageValueNaive in generation 5 of 10\n",
      "Model Number: 613 with model AverageValueNaive in generation 5 of 10\n",
      "Model Number: 614 with model ARDL in generation 5 of 10\n",
      "Model Number: 615 with model ETS in generation 5 of 10\n",
      "Model Number: 616 with model UnobservedComponents in generation 5 of 10\n",
      "Template Eval Error: Exception('Transformer Cointegration failed on fit') in model 616 in generation 5: UnobservedComponents\n",
      "Model Number: 617 with model ARDL in generation 5 of 10\n",
      "Model Number: 618 with model AverageValueNaive in generation 5 of 10\n",
      "Template Eval Error: Exception('Transformer ScipyFilter failed on fit') in model 618 in generation 5: AverageValueNaive\n",
      "Model Number: 619 with model GLM in generation 5 of 10\n",
      "Template Eval Error: ValueError('regression_type=user and no future_regressor passed') in model 619 in generation 5: GLM\n",
      "Model Number: 620 with model GLM in generation 5 of 10\n",
      "Model Number: 621 with model DatepartRegression in generation 5 of 10\n",
      "Model Number: 622 with model ETS in generation 5 of 10\n",
      "Model Number: 623 with model SeasonalNaive in generation 5 of 10\n",
      "Model Number: 624 with model SeasonalityMotif in generation 5 of 10\n",
      "Template Eval Error: ValueError('window shape cannot be larger than input array shape') in model 624 in generation 5: SeasonalityMotif\n",
      "Model Number: 625 with model UnobservedComponents in generation 5 of 10\n",
      "Model Number: 626 with model Theta in generation 5 of 10\n",
      "Model Number: 627 with model UnobservedComponents in generation 5 of 10\n",
      "Model Number: 628 with model ARDL in generation 5 of 10\n",
      "Model Number: 629 with model ARIMA in generation 5 of 10\n",
      "Model Number: 630 with model ETS in generation 5 of 10\n",
      "ETS error ValueError('Can only dampen the trend component')\n",
      "ETS failed on y with ValueError('Can only dampen the trend component')\n",
      "Model Number: 631 with model LastValueNaive in generation 5 of 10\n",
      "Model Number: 632 with model KalmanStateSpace in generation 5 of 10\n",
      "Model Number: 633 with model UnobservedComponents in generation 5 of 10\n",
      "Model Number: 634 with model UnobservedComponents in generation 5 of 10\n",
      "Model Number: 635 with model KalmanStateSpace in generation 5 of 10\n"
     ]
    },
    {
     "name": "stderr",
     "output_type": "stream",
     "text": [
      "WARNING - (py.warnings._showwarnmsg) - c:\\Users\\crudek\\AppData\\Local\\anaconda3\\envs\\newpycaret\\lib\\site-packages\\statsmodels\\genmod\\families\\family.py:445: RuntimeWarning: divide by zero encountered in divide\n",
      "  endog_mu = self._clean(endog / mu)\n",
      "\n",
      "WARNING - (py.warnings._showwarnmsg) - c:\\Users\\crudek\\AppData\\Local\\anaconda3\\envs\\newpycaret\\lib\\site-packages\\statsmodels\\genmod\\families\\family.py:143: RuntimeWarning: divide by zero encountered in divide\n",
      "  return 1. / (self.link.deriv(mu)**2 * self.variance(mu))\n",
      "\n"
     ]
    },
    {
     "name": "stdout",
     "output_type": "stream",
     "text": [
      "Model Number: 636 with model GLM in generation 5 of 10\n",
      "Template Eval Error: ValueError('NaN, inf or invalid value detected in weights, estimation infeasible.') in model 636 in generation 5: GLM\n",
      "Model Number: 637 with model LastValueNaive in generation 5 of 10\n",
      "Model Number: 638 with model LastValueNaive in generation 5 of 10\n",
      "Model Number: 639 with model UnobservedComponents in generation 5 of 10\n",
      "Model Number: 640 with model LastValueNaive in generation 5 of 10\n",
      "Model Number: 641 with model ETS in generation 5 of 10\n",
      "Model Number: 642 with model SeasonalNaive in generation 5 of 10\n",
      "Model Number: 643 with model LastValueNaive in generation 5 of 10\n",
      "Model Number: 644 with model GLS in generation 5 of 10\n",
      "Model Number: 645 with model ARIMA in generation 5 of 10\n",
      "Model Number: 646 with model GLS in generation 5 of 10\n",
      "Model Number: 647 with model SeasonalNaive in generation 5 of 10\n",
      "Model Number: 648 with model ARDL in generation 5 of 10\n",
      "Model Number: 649 with model ARIMA in generation 5 of 10\n",
      "Model Number: 650 with model SeasonalNaive in generation 5 of 10\n",
      "Model Number: 651 with model LastValueNaive in generation 5 of 10\n",
      "New Generation: 6 of 10\n",
      "Model Number: 652 with model Theta in generation 6 of 10\n",
      "Model Number: 653 with model UnobservedComponents in generation 6 of 10\n",
      "Model Number: 654 with model ARIMA in generation 6 of 10\n",
      "Model Number: 655 with model UnobservedComponents in generation 6 of 10\n",
      "Model Number: 656 with model ETS in generation 6 of 10\n",
      "Model Number: 657 with model ETS in generation 6 of 10\n",
      "Model Number: 658 with model KalmanStateSpace in generation 6 of 10\n",
      "Template Eval Error: Exception('Transformer RegressionFilter failed on fit') in model 658 in generation 6: KalmanStateSpace\n",
      "Model Number: 659 with model LastValueNaive in generation 6 of 10\n"
     ]
    },
    {
     "name": "stderr",
     "output_type": "stream",
     "text": [
      "WARNING - (py.warnings._showwarnmsg) - c:\\Users\\crudek\\AppData\\Local\\anaconda3\\envs\\newpycaret\\lib\\site-packages\\statsmodels\\genmod\\families\\family.py:445: RuntimeWarning: divide by zero encountered in divide\n",
      "  endog_mu = self._clean(endog / mu)\n",
      "\n",
      "WARNING - (py.warnings._showwarnmsg) - c:\\Users\\crudek\\AppData\\Local\\anaconda3\\envs\\newpycaret\\lib\\site-packages\\statsmodels\\genmod\\families\\family.py:143: RuntimeWarning: divide by zero encountered in divide\n",
      "  return 1. / (self.link.deriv(mu)**2 * self.variance(mu))\n",
      "\n"
     ]
    },
    {
     "name": "stdout",
     "output_type": "stream",
     "text": [
      "Model Number: 660 with model GLM in generation 6 of 10\n",
      "Template Eval Error: ValueError('NaN, inf or invalid value detected in weights, estimation infeasible.') in model 660 in generation 6: GLM\n",
      "Model Number: 661 with model ARIMA in generation 6 of 10\n"
     ]
    },
    {
     "name": "stderr",
     "output_type": "stream",
     "text": [
      "WARNING - (py.warnings._showwarnmsg) - c:\\Users\\crudek\\AppData\\Local\\anaconda3\\envs\\newpycaret\\lib\\site-packages\\statsmodels\\genmod\\generalized_linear_model.py:813: RuntimeWarning: divide by zero encountered in double_scalars\n",
      "  return np.sum(resid / self.family.variance(mu)) / self.df_resid\n",
      "\n"
     ]
    },
    {
     "name": "stdout",
     "output_type": "stream",
     "text": [
      "Model Number: 662 with model GLM in generation 6 of 10\n",
      "Model Number: 663 with model DatepartRegression in generation 6 of 10\n",
      "Model Number: 664 with model KalmanStateSpace in generation 6 of 10\n",
      "Model Number: 665 with model UnobservedComponents in generation 6 of 10\n",
      "Model Number: 666 with model ARIMA in generation 6 of 10\n",
      "Model Number: 667 with model AverageValueNaive in generation 6 of 10\n",
      "Template Eval Error: Exception('Transformer ScipyFilter failed on fit') in model 667 in generation 6: AverageValueNaive\n",
      "Model Number: 668 with model UnobservedComponents in generation 6 of 10\n",
      "Template Eval Error: LinAlgError('Singular matrix') in model 668 in generation 6: UnobservedComponents\n",
      "Model Number: 669 with model DatepartRegression in generation 6 of 10\n"
     ]
    },
    {
     "name": "stderr",
     "output_type": "stream",
     "text": [
      "WARNING - (py.warnings._showwarnmsg) - c:\\Users\\crudek\\AppData\\Local\\anaconda3\\envs\\newpycaret\\lib\\site-packages\\sklearn\\decomposition\\_fastica.py:708: FutureWarning: Starting in v1.3, whiten=True should be specified as whiten='arbitrary-variance' (its current behaviour). This behavior is deprecated in 1.1 and will raise ValueError in 1.3.\n",
      "  return self._fit_transform(X, compute_sources=True)\n",
      "\n"
     ]
    },
    {
     "name": "stdout",
     "output_type": "stream",
     "text": [
      "Model Number: 670 with model AverageValueNaive in generation 6 of 10\n",
      "Model Number: 671 with model AverageValueNaive in generation 6 of 10\n",
      "Model Number: 672 with model ARIMA in generation 6 of 10\n",
      "Model Number: 673 with model GLS in generation 6 of 10\n",
      "Model Number: 674 with model SeasonalNaive in generation 6 of 10\n",
      "Model Number: 675 with model DatepartRegression in generation 6 of 10\n",
      "Template Eval Error: ImportError('Tensorflow not available, install with pip install tensorflow.') in model 675 in generation 6: DatepartRegression\n",
      "Model Number: 676 with model LastValueNaive in generation 6 of 10\n",
      "Model Number: 677 with model GLS in generation 6 of 10\n",
      "Model Number: 678 with model AverageValueNaive in generation 6 of 10\n",
      "Template Eval Error: Exception('Transformer RegressionFilter failed on fit') in model 678 in generation 6: AverageValueNaive\n",
      "Model Number: 679 with model ConstantNaive in generation 6 of 10\n",
      "Model Number: 680 with model ETS in generation 6 of 10\n",
      "Model Number: 681 with model KalmanStateSpace in generation 6 of 10\n",
      "Model Number: 682 with model AverageValueNaive in generation 6 of 10\n"
     ]
    },
    {
     "name": "stderr",
     "output_type": "stream",
     "text": [
      "WARNING - (py.warnings._showwarnmsg) - c:\\Users\\crudek\\AppData\\Local\\anaconda3\\envs\\newpycaret\\lib\\site-packages\\sklearn\\decomposition\\_fastica.py:708: FutureWarning: Starting in v1.3, whiten=True should be specified as whiten='arbitrary-variance' (its current behaviour). This behavior is deprecated in 1.1 and will raise ValueError in 1.3.\n",
      "  return self._fit_transform(X, compute_sources=True)\n",
      "\n"
     ]
    },
    {
     "name": "stdout",
     "output_type": "stream",
     "text": [
      "Model Number: 683 with model KalmanStateSpace in generation 6 of 10\n",
      "Template Eval Error: Exception('Transformer Detrend failed on fit') in model 683 in generation 6: KalmanStateSpace\n",
      "Model Number: 684 with model GLS in generation 6 of 10\n",
      "Model Number: 685 with model UnobservedComponents in generation 6 of 10\n",
      "Model Number: 686 with model ETS in generation 6 of 10\n",
      "Model Number: 687 with model LastValueNaive in generation 6 of 10\n",
      "Template Eval Error: Exception('Transformer PowerTransformer failed on fit') in model 687 in generation 6: LastValueNaive\n",
      "Model Number: 688 with model ARDL in generation 6 of 10\n",
      "Model Number: 689 with model ARDL in generation 6 of 10\n",
      "Model Number: 690 with model FBProphet in generation 6 of 10\n"
     ]
    },
    {
     "name": "stderr",
     "output_type": "stream",
     "text": [
      "14:57:59 - cmdstanpy - INFO - Chain [1] start processing\n",
      "14:58:00 - cmdstanpy - INFO - Chain [1] done processing\n"
     ]
    },
    {
     "name": "stdout",
     "output_type": "stream",
     "text": [
      "Model Number: 691 with model UnobservedComponents in generation 6 of 10\n"
     ]
    },
    {
     "name": "stderr",
     "output_type": "stream",
     "text": [
      "WARNING - (py.warnings._showwarnmsg) - c:\\Users\\crudek\\AppData\\Local\\anaconda3\\envs\\newpycaret\\lib\\site-packages\\statsmodels\\genmod\\families\\family.py:1367: ValueWarning: Negative binomial dispersion parameter alpha not set. Using default value alpha=1.0.\n",
      "  warnings.warn(\"Negative binomial dispersion parameter alpha not \"\n",
      "\n"
     ]
    },
    {
     "name": "stdout",
     "output_type": "stream",
     "text": [
      "Model Number: 692 with model DatepartRegression in generation 6 of 10\n",
      "Template Eval Error: Exception('Transformer RegressionFilter failed on fit') in model 692 in generation 6: DatepartRegression\n",
      "Model Number: 693 with model GLM in generation 6 of 10\n",
      "Model Number: 694 with model KalmanStateSpace in generation 6 of 10\n"
     ]
    },
    {
     "name": "stderr",
     "output_type": "stream",
     "text": [
      "WARNING - (py.warnings._showwarnmsg) - c:\\Users\\crudek\\AppData\\Local\\anaconda3\\envs\\newpycaret\\lib\\site-packages\\autots\\tools\\probabilistic.py:67: RuntimeWarning: invalid value encountered in divide\n",
      "  (prior_mu / prior_sigma**2) + ((n * data_mu) / prior_sigma**2)\n",
      "\n",
      "WARNING - (py.warnings._showwarnmsg) - c:\\Users\\crudek\\AppData\\Local\\anaconda3\\envs\\newpycaret\\lib\\site-packages\\autots\\tools\\probabilistic.py:68: RuntimeWarning: divide by zero encountered in divide\n",
      "  ) / ((1 / prior_sigma**2) + (n / prior_sigma**2))\n",
      "\n"
     ]
    },
    {
     "name": "stdout",
     "output_type": "stream",
     "text": [
      "Model Number: 695 with model DatepartRegression in generation 6 of 10\n",
      "Model Number: 696 with model GLM in generation 6 of 10\n",
      "Template Eval Error: Exception('Transformer Cointegration failed on fit') in model 696 in generation 6: GLM\n",
      "Model Number: 697 with model DatepartRegression in generation 6 of 10\n",
      "Template Eval Error: ValueError(\"regression_type='User' but no future_regressor passed\") in model 697 in generation 6: DatepartRegression\n",
      "Model Number: 698 with model LastValueNaive in generation 6 of 10\n",
      "Model Number: 699 with model SeasonalNaive in generation 6 of 10\n",
      "Model Number: 700 with model ConstantNaive in generation 6 of 10\n",
      "Model Number: 701 with model Theta in generation 6 of 10\n",
      "Model Number: 702 with model ETS in generation 6 of 10\n",
      "Model Number: 703 with model UnobservedComponents in generation 6 of 10\n",
      "Model Number: 704 with model DatepartRegression in generation 6 of 10\n",
      "Template Eval Error: ValueError(\"regression_type='User' but no future_regressor passed\") in model 704 in generation 6: DatepartRegression\n",
      "Model Number: 705 with model ConstantNaive in generation 6 of 10\n",
      "Model Number: 706 with model GLM in generation 6 of 10\n",
      "Template Eval Error: Exception('Transformer RegressionFilter failed on fit') in model 706 in generation 6: GLM\n",
      "Model Number: 707 with model DatepartRegression in generation 6 of 10\n",
      "Model Number: 708 with model SeasonalityMotif in generation 6 of 10\n",
      "Template Eval Error: ValueError('kth(=19) out of bounds (11)') in model 708 in generation 6: SeasonalityMotif\n",
      "Model Number: 709 with model UnobservedComponents in generation 6 of 10\n",
      "Model Number: 710 with model SeasonalNaive in generation 6 of 10\n",
      "Model Number: 711 with model GLM in generation 6 of 10\n",
      "Template Eval Error: Exception('Transformer RegressionFilter failed on fit') in model 711 in generation 6: GLM\n",
      "Model Number: 712 with model SeasonalityMotif in generation 6 of 10\n"
     ]
    },
    {
     "name": "stderr",
     "output_type": "stream",
     "text": [
      "WARNING - (py.warnings._showwarnmsg) - c:\\Users\\crudek\\AppData\\Local\\anaconda3\\envs\\newpycaret\\lib\\site-packages\\statsmodels\\genmod\\generalized_linear_model.py:1257: PerfectSeparationWarning: Perfect separation or prediction detected, parameter may not be identified\n",
      "  warnings.warn(msg, category=PerfectSeparationWarning)\n",
      "\n",
      "WARNING - (py.warnings._showwarnmsg) - c:\\Users\\crudek\\AppData\\Local\\anaconda3\\envs\\newpycaret\\lib\\site-packages\\statsmodels\\genmod\\generalized_linear_model.py:1257: PerfectSeparationWarning: Perfect separation or prediction detected, parameter may not be identified\n",
      "  warnings.warn(msg, category=PerfectSeparationWarning)\n",
      "\n"
     ]
    },
    {
     "name": "stdout",
     "output_type": "stream",
     "text": [
      "Model Number: 713 with model GLM in generation 6 of 10\n",
      "Model Number: 714 with model SeasonalNaive in generation 6 of 10\n"
     ]
    },
    {
     "name": "stderr",
     "output_type": "stream",
     "text": [
      "WARNING - (py.warnings._showwarnmsg) - c:\\Users\\crudek\\AppData\\Local\\anaconda3\\envs\\newpycaret\\lib\\site-packages\\autots\\tools\\probabilistic.py:67: RuntimeWarning: invalid value encountered in divide\n",
      "  (prior_mu / prior_sigma**2) + ((n * data_mu) / prior_sigma**2)\n",
      "\n",
      "WARNING - (py.warnings._showwarnmsg) - c:\\Users\\crudek\\AppData\\Local\\anaconda3\\envs\\newpycaret\\lib\\site-packages\\autots\\tools\\probabilistic.py:68: RuntimeWarning: divide by zero encountered in divide\n",
      "  ) / ((1 / prior_sigma**2) + (n / prior_sigma**2))\n",
      "\n"
     ]
    },
    {
     "name": "stdout",
     "output_type": "stream",
     "text": [
      "Model Number: 715 with model SeasonalityMotif in generation 6 of 10\n",
      "Template Eval Error: ValueError('kth(=9) out of bounds (4)') in model 715 in generation 6: SeasonalityMotif\n",
      "Model Number: 716 with model DatepartRegression in generation 6 of 10\n",
      "Model Number: 717 with model GLS in generation 6 of 10\n",
      "Model Number: 718 with model SeasonalityMotif in generation 6 of 10\n",
      "Template Eval Error: Exception('Transformer RegressionFilter failed on fit') in model 718 in generation 6: SeasonalityMotif\n",
      "Model Number: 719 with model GLS in generation 6 of 10\n",
      "Model Number: 720 with model ETS in generation 6 of 10\n",
      "Model Number: 721 with model LastValueNaive in generation 6 of 10\n",
      "Model Number: 722 with model KalmanStateSpace in generation 6 of 10\n",
      "Model Number: 723 with model AverageValueNaive in generation 6 of 10\n",
      "Model Number: 724 with model SeasonalNaive in generation 6 of 10\n",
      "Model Number: 725 with model SeasonalNaive in generation 6 of 10\n",
      "Model Number: 726 with model LastValueNaive in generation 6 of 10\n",
      "Model Number: 727 with model LastValueNaive in generation 6 of 10\n",
      "Template Eval Error: Exception('Transformer RegressionFilter failed on fit') in model 727 in generation 6: LastValueNaive\n",
      "Model Number: 728 with model Theta in generation 6 of 10\n",
      "Template Eval Error: Exception('Transformer Cointegration failed on fit') in model 728 in generation 6: Theta\n",
      "Model Number: 729 with model FBProphet in generation 6 of 10\n",
      "Template Eval Error: ValueError(\"regression_type='User' but no future_regressor passed\") in model 729 in generation 6: FBProphet\n",
      "Model Number: 730 with model GLS in generation 6 of 10\n",
      "Model Number: 731 with model UnobservedComponents in generation 6 of 10\n",
      "Model Number: 732 with model ARIMA in generation 6 of 10\n",
      "Model Number: 733 with model SeasonalityMotif in generation 6 of 10\n",
      "Template Eval Error: ValueError('kth(=9) out of bounds (4)') in model 733 in generation 6: SeasonalityMotif\n",
      "Model Number: 734 with model DatepartRegression in generation 6 of 10\n",
      "Model Number: 735 with model LastValueNaive in generation 6 of 10\n",
      "New Generation: 7 of 10\n",
      "Model Number: 736 with model SeasonalityMotif in generation 7 of 10\n",
      "Template Eval Error: ValueError('kth(=4) out of bounds (4)') in model 736 in generation 7: SeasonalityMotif\n",
      "Model Number: 737 with model LastValueNaive in generation 7 of 10\n",
      "Model Number: 738 with model KalmanStateSpace in generation 7 of 10\n",
      "Model Number: 739 with model ARDL in generation 7 of 10\n",
      "Model Number: 740 with model KalmanStateSpace in generation 7 of 10\n",
      "Model Number: 741 with model ARDL in generation 7 of 10\n",
      "Model Number: 742 with model LastValueNaive in generation 7 of 10\n",
      "Template Eval Error: Exception('Transformer DatepartRegression failed on fit') in model 742 in generation 7: LastValueNaive\n",
      "Model Number: 743 with model SeasonalNaive in generation 7 of 10\n",
      "Model Number: 744 with model ETS in generation 7 of 10\n",
      "ETS error ValueError('endog must be strictly positive when usingmultiplicative trend or seasonal components.')\n",
      "ETS failed on y with ValueError('endog must be strictly positive when usingmultiplicative trend or seasonal components.')\n"
     ]
    },
    {
     "name": "stderr",
     "output_type": "stream",
     "text": [
      "WARNING - (py.warnings._showwarnmsg) - c:\\Users\\crudek\\AppData\\Local\\anaconda3\\envs\\newpycaret\\lib\\site-packages\\statsmodels\\genmod\\families\\family.py:445: RuntimeWarning: divide by zero encountered in divide\n",
      "  endog_mu = self._clean(endog / mu)\n",
      "\n",
      "WARNING - (py.warnings._showwarnmsg) - c:\\Users\\crudek\\AppData\\Local\\anaconda3\\envs\\newpycaret\\lib\\site-packages\\statsmodels\\genmod\\families\\family.py:143: RuntimeWarning: divide by zero encountered in divide\n",
      "  return 1. / (self.link.deriv(mu)**2 * self.variance(mu))\n",
      "\n",
      "WARNING - (py.warnings._showwarnmsg) - c:\\Users\\crudek\\AppData\\Local\\anaconda3\\envs\\newpycaret\\lib\\site-packages\\statsmodels\\genmod\\families\\family.py:1367: ValueWarning: Negative binomial dispersion parameter alpha not set. Using default value alpha=1.0.\n",
      "  warnings.warn(\"Negative binomial dispersion parameter alpha not \"\n",
      "\n",
      "WARNING - (py.warnings._showwarnmsg) - c:\\Users\\crudek\\AppData\\Local\\anaconda3\\envs\\newpycaret\\lib\\site-packages\\statsmodels\\genmod\\families\\family.py:1402: RuntimeWarning: divide by zero encountered in divide\n",
      "  endog_mu = self._clean(endog / mu)\n",
      "\n",
      "WARNING - (py.warnings._showwarnmsg) - c:\\Users\\crudek\\AppData\\Local\\anaconda3\\envs\\newpycaret\\lib\\site-packages\\statsmodels\\genmod\\families\\links.py:527: RuntimeWarning: overflow encountered in exp\n",
      "  return np.exp(z)\n",
      "\n",
      "WARNING - (py.warnings._showwarnmsg) - c:\\Users\\crudek\\AppData\\Local\\anaconda3\\envs\\newpycaret\\lib\\site-packages\\statsmodels\\genmod\\families\\family.py:1406: RuntimeWarning: divide by zero encountered in log\n",
      "  resid_dev -= endog_alpha * np.log(endog_alpha / mu_alpha)\n",
      "\n",
      "WARNING - (py.warnings._showwarnmsg) - c:\\Users\\crudek\\AppData\\Local\\anaconda3\\envs\\newpycaret\\lib\\site-packages\\statsmodels\\genmod\\families\\family.py:143: RuntimeWarning: invalid value encountered in multiply\n",
      "  return 1. / (self.link.deriv(mu)**2 * self.variance(mu))\n",
      "\n",
      "WARNING - (py.warnings._showwarnmsg) - c:\\Users\\crudek\\AppData\\Local\\anaconda3\\envs\\newpycaret\\lib\\site-packages\\statsmodels\\genmod\\generalized_linear_model.py:1243: RuntimeWarning: invalid value encountered in multiply\n",
      "  wlsendog = (lin_pred + self.family.link.deriv(mu) * (self.endog-mu)\n",
      "\n"
     ]
    },
    {
     "name": "stdout",
     "output_type": "stream",
     "text": [
      "Model Number: 745 with model GLM in generation 7 of 10\n",
      "Template Eval Error: ValueError('NaN, inf or invalid value detected in weights, estimation infeasible.') in model 745 in generation 7: GLM\n",
      "Model Number: 746 with model GLM in generation 7 of 10\n",
      "Template Eval Error: ValueError('NaN, inf or invalid value detected in weights, estimation infeasible.') in model 746 in generation 7: GLM\n",
      "Model Number: 747 with model LastValueNaive in generation 7 of 10\n",
      "Model Number: 748 with model LastValueNaive in generation 7 of 10\n",
      "Model Number: 749 with model DatepartRegression in generation 7 of 10\n",
      "Model Number: 750 with model AverageValueNaive in generation 7 of 10\n",
      "Model Number: 751 with model DatepartRegression in generation 7 of 10\n",
      "Template Eval Error: ValueError(\"regression_type='User' but no future_regressor passed\") in model 751 in generation 7: DatepartRegression\n",
      "Model Number: 752 with model ETS in generation 7 of 10\n",
      "ETS error ValueError('Can only dampen the trend component')\n",
      "ETS failed on y with ValueError('Can only dampen the trend component')\n",
      "Model Number: 753 with model Theta in generation 7 of 10\n",
      "Model Number: 754 with model KalmanStateSpace in generation 7 of 10\n",
      "Model Number: 755 with model LastValueNaive in generation 7 of 10\n",
      "Model Number: 756 with model SeasonalNaive in generation 7 of 10\n",
      "Model Number: 757 with model UnobservedComponents in generation 7 of 10\n",
      "Model Number: 758 with model DatepartRegression in generation 7 of 10\n",
      "Template Eval Error: ValueError(\"regression_type='User' but no future_regressor passed\") in model 758 in generation 7: DatepartRegression\n",
      "Model Number: 759 with model ConstantNaive in generation 7 of 10\n"
     ]
    },
    {
     "name": "stderr",
     "output_type": "stream",
     "text": [
      "WARNING - (py.warnings._showwarnmsg) - c:\\Users\\crudek\\AppData\\Local\\anaconda3\\envs\\newpycaret\\lib\\site-packages\\sklearn\\decomposition\\_fastica.py:708: FutureWarning: Starting in v1.3, whiten=True should be specified as whiten='arbitrary-variance' (its current behaviour). This behavior is deprecated in 1.1 and will raise ValueError in 1.3.\n",
      "  return self._fit_transform(X, compute_sources=True)\n",
      "\n"
     ]
    },
    {
     "name": "stdout",
     "output_type": "stream",
     "text": [
      "Model Number: 760 with model AverageValueNaive in generation 7 of 10\n",
      "Model Number: 761 with model KalmanStateSpace in generation 7 of 10\n",
      "Model Number: 762 with model DatepartRegression in generation 7 of 10\n"
     ]
    },
    {
     "name": "stderr",
     "output_type": "stream",
     "text": [
      "WARNING - (py.warnings._showwarnmsg) - c:\\Users\\crudek\\AppData\\Local\\anaconda3\\envs\\newpycaret\\lib\\site-packages\\statsmodels\\genmod\\generalized_linear_model.py:1257: PerfectSeparationWarning: Perfect separation or prediction detected, parameter may not be identified\n",
      "  warnings.warn(msg, category=PerfectSeparationWarning)\n",
      "\n"
     ]
    },
    {
     "name": "stdout",
     "output_type": "stream",
     "text": [
      "Model Number: 763 with model GLM in generation 7 of 10\n",
      "Model Number: 764 with model AverageValueNaive in generation 7 of 10\n",
      "Model Number: 765 with model UnobservedComponents in generation 7 of 10\n"
     ]
    },
    {
     "name": "stderr",
     "output_type": "stream",
     "text": [
      "WARNING - (py.warnings._showwarnmsg) - c:\\Users\\crudek\\AppData\\Local\\anaconda3\\envs\\newpycaret\\lib\\site-packages\\statsmodels\\genmod\\generalized_linear_model.py:1257: PerfectSeparationWarning: Perfect separation or prediction detected, parameter may not be identified\n",
      "  warnings.warn(msg, category=PerfectSeparationWarning)\n",
      "\n",
      "WARNING - (py.warnings._showwarnmsg) - c:\\Users\\crudek\\AppData\\Local\\anaconda3\\envs\\newpycaret\\lib\\site-packages\\autots\\tools\\probabilistic.py:67: RuntimeWarning: divide by zero encountered in divide\n",
      "  (prior_mu / prior_sigma**2) + ((n * data_mu) / prior_sigma**2)\n",
      "\n",
      "WARNING - (py.warnings._showwarnmsg) - c:\\Users\\crudek\\AppData\\Local\\anaconda3\\envs\\newpycaret\\lib\\site-packages\\autots\\tools\\probabilistic.py:68: RuntimeWarning: divide by zero encountered in divide\n",
      "  ) / ((1 / prior_sigma**2) + (n / prior_sigma**2))\n",
      "\n",
      "WARNING - (py.warnings._showwarnmsg) - c:\\Users\\crudek\\AppData\\Local\\anaconda3\\envs\\newpycaret\\lib\\site-packages\\autots\\tools\\probabilistic.py:66: RuntimeWarning: invalid value encountered in divide\n",
      "  post_mu = (\n",
      "\n"
     ]
    },
    {
     "name": "stdout",
     "output_type": "stream",
     "text": [
      "Model Number: 766 with model DatepartRegression in generation 7 of 10\n",
      "Template Eval Error: Exception('Transformer RegressionFilter failed on fit') in model 766 in generation 7: DatepartRegression\n",
      "Model Number: 767 with model GLM in generation 7 of 10\n"
     ]
    },
    {
     "name": "stderr",
     "output_type": "stream",
     "text": [
      "WARNING - (py.warnings._showwarnmsg) - c:\\Users\\crudek\\AppData\\Local\\anaconda3\\envs\\newpycaret\\lib\\site-packages\\sklearn\\decomposition\\_fastica.py:708: FutureWarning: Starting in v1.3, whiten=True should be specified as whiten='arbitrary-variance' (its current behaviour). This behavior is deprecated in 1.1 and will raise ValueError in 1.3.\n",
      "  return self._fit_transform(X, compute_sources=True)\n",
      "\n",
      "WARNING - (py.warnings._showwarnmsg) - c:\\Users\\crudek\\AppData\\Local\\anaconda3\\envs\\newpycaret\\lib\\site-packages\\sklearn\\decomposition\\_fastica.py:620: RuntimeWarning: divide by zero encountered in divide\n",
      "  K = (u / d).T[:n_components]  # see (6.33) p.140\n",
      "\n"
     ]
    },
    {
     "name": "stdout",
     "output_type": "stream",
     "text": [
      "Model Number: 768 with model FBProphet in generation 7 of 10\n",
      "Template Eval Error: Exception('Transformer FastICA failed on fit') in model 768 in generation 7: FBProphet\n",
      "Model Number: 769 with model AverageValueNaive in generation 7 of 10\n",
      "Model Number: 770 with model SeasonalNaive in generation 7 of 10\n",
      "Model Number: 771 with model GLM in generation 7 of 10\n",
      "Template Eval Error: ValueError('regression_type=user and no future_regressor passed') in model 771 in generation 7: GLM\n",
      "Model Number: 772 with model LastValueNaive in generation 7 of 10\n",
      "Model Number: 773 with model KalmanStateSpace in generation 7 of 10\n",
      "Model Number: 774 with model UnobservedComponents in generation 7 of 10\n",
      "Template Eval Error: Exception('Transformer ScipyFilter failed on fit') in model 774 in generation 7: UnobservedComponents\n",
      "Model Number: 775 with model LastValueNaive in generation 7 of 10\n",
      "Model Number: 776 with model LastValueNaive in generation 7 of 10\n",
      "Model Number: 777 with model ETS in generation 7 of 10\n",
      "Model Number: 778 with model Theta in generation 7 of 10\n",
      "Model Number: 779 with model ETS in generation 7 of 10\n",
      "Model Number: 780 with model DatepartRegression in generation 7 of 10\n"
     ]
    },
    {
     "name": "stderr",
     "output_type": "stream",
     "text": [
      "WARNING - (py.warnings._showwarnmsg) - c:\\Users\\crudek\\AppData\\Local\\anaconda3\\envs\\newpycaret\\lib\\site-packages\\statsmodels\\genmod\\generalized_linear_model.py:307: DomainWarning: The InversePower link function does not respect the domain of the Gamma family.\n",
      "  warnings.warn((f\"The {type(family.link).__name__} link function \"\n",
      "\n",
      "WARNING - (py.warnings._showwarnmsg) - c:\\Users\\crudek\\AppData\\Local\\anaconda3\\envs\\newpycaret\\lib\\site-packages\\statsmodels\\genmod\\generalized_linear_model.py:813: RuntimeWarning: divide by zero encountered in double_scalars\n",
      "  return np.sum(resid / self.family.variance(mu)) / self.df_resid\n",
      "\n"
     ]
    },
    {
     "name": "stdout",
     "output_type": "stream",
     "text": [
      "Model Number: 781 with model GLM in generation 7 of 10\n",
      "Model Number: 782 with model SeasonalNaive in generation 7 of 10\n",
      "Model Number: 783 with model ConstantNaive in generation 7 of 10\n",
      "Model Number: 784 with model FBProphet in generation 7 of 10\n"
     ]
    },
    {
     "name": "stderr",
     "output_type": "stream",
     "text": [
      "14:58:23 - cmdstanpy - INFO - Chain [1] start processing\n",
      "14:58:23 - cmdstanpy - INFO - Chain [1] done processing\n"
     ]
    },
    {
     "name": "stdout",
     "output_type": "stream",
     "text": [
      "Model Number: 785 with model Theta in generation 7 of 10\n"
     ]
    },
    {
     "name": "stderr",
     "output_type": "stream",
     "text": [
      "WARNING - (py.warnings._showwarnmsg) - c:\\Users\\crudek\\AppData\\Local\\anaconda3\\envs\\newpycaret\\lib\\site-packages\\statsmodels\\genmod\\generalized_linear_model.py:813: RuntimeWarning: divide by zero encountered in double_scalars\n",
      "  return np.sum(resid / self.family.variance(mu)) / self.df_resid\n",
      "\n"
     ]
    },
    {
     "name": "stdout",
     "output_type": "stream",
     "text": [
      "Model Number: 786 with model DatepartRegression in generation 7 of 10\n",
      "Template Eval Error: Exception('Transformer RegressionFilter failed on fit') in model 786 in generation 7: DatepartRegression\n",
      "Model Number: 787 with model GLM in generation 7 of 10\n"
     ]
    },
    {
     "name": "stderr",
     "output_type": "stream",
     "text": [
      "WARNING - (py.warnings._showwarnmsg) - c:\\Users\\crudek\\AppData\\Local\\anaconda3\\envs\\newpycaret\\lib\\site-packages\\sklearn\\decomposition\\_fastica.py:708: FutureWarning: Starting in v1.3, whiten=True should be specified as whiten='arbitrary-variance' (its current behaviour). This behavior is deprecated in 1.1 and will raise ValueError in 1.3.\n",
      "  return self._fit_transform(X, compute_sources=True)\n",
      "\n"
     ]
    },
    {
     "name": "stdout",
     "output_type": "stream",
     "text": [
      "Model Number: 788 with model AverageValueNaive in generation 7 of 10\n",
      "Model Number: 789 with model UnobservedComponents in generation 7 of 10\n",
      "Model Number: 790 with model ConstantNaive in generation 7 of 10\n",
      "Model Number: 791 with model ETS in generation 7 of 10\n",
      "Model Number: 792 with model UnobservedComponents in generation 7 of 10\n",
      "Model Number: 793 with model SeasonalNaive in generation 7 of 10\n",
      "Model Number: 794 with model UnobservedComponents in generation 7 of 10\n",
      "Model Number: 795 with model AverageValueNaive in generation 7 of 10\n",
      "Model Number: 796 with model DatepartRegression in generation 7 of 10\n"
     ]
    },
    {
     "name": "stderr",
     "output_type": "stream",
     "text": [
      "WARNING - (py.warnings._showwarnmsg) - c:\\Users\\crudek\\AppData\\Local\\anaconda3\\envs\\newpycaret\\lib\\site-packages\\sklearn\\decomposition\\_fastica.py:708: FutureWarning: Starting in v1.3, whiten=True should be specified as whiten='arbitrary-variance' (its current behaviour). This behavior is deprecated in 1.1 and will raise ValueError in 1.3.\n",
      "  return self._fit_transform(X, compute_sources=True)\n",
      "\n"
     ]
    },
    {
     "name": "stdout",
     "output_type": "stream",
     "text": [
      "Model Number: 797 with model AverageValueNaive in generation 7 of 10\n",
      "Model Number: 798 with model ETS in generation 7 of 10\n",
      "Template Eval Error: Exception('Transformer AlignLastValue failed on fit') in model 798 in generation 7: ETS\n",
      "Model Number: 799 with model GLS in generation 7 of 10\n",
      "Template Eval Error: Exception('Transformer STLFilter failed on fit') in model 799 in generation 7: GLS\n",
      "Model Number: 800 with model SeasonalNaive in generation 7 of 10\n",
      "Model Number: 801 with model UnobservedComponents in generation 7 of 10\n"
     ]
    },
    {
     "name": "stderr",
     "output_type": "stream",
     "text": [
      "WARNING - (py.warnings._showwarnmsg) - c:\\Users\\crudek\\AppData\\Local\\anaconda3\\envs\\newpycaret\\lib\\site-packages\\sklearn\\decomposition\\_fastica.py:708: FutureWarning: Starting in v1.3, whiten=True should be specified as whiten='arbitrary-variance' (its current behaviour). This behavior is deprecated in 1.1 and will raise ValueError in 1.3.\n",
      "  return self._fit_transform(X, compute_sources=True)\n",
      "\n"
     ]
    },
    {
     "name": "stdout",
     "output_type": "stream",
     "text": [
      "Model Number: 802 with model SeasonalNaive in generation 7 of 10\n",
      "Template Eval Error: Exception('Transformer RegressionFilter failed on fit') in model 802 in generation 7: SeasonalNaive\n",
      "Model Number: 803 with model KalmanStateSpace in generation 7 of 10\n",
      "Model Number: 804 with model ConstantNaive in generation 7 of 10\n",
      "Template Eval Error: Exception('Transformer ScipyFilter failed on fit') in model 804 in generation 7: ConstantNaive\n",
      "Model Number: 805 with model Theta in generation 7 of 10\n",
      "Model Number: 806 with model ConstantNaive in generation 7 of 10\n",
      "Model Number: 807 with model ETS in generation 7 of 10\n",
      "Model Number: 808 with model SeasonalityMotif in generation 7 of 10\n",
      "Template Eval Error: ValueError('window shape cannot be larger than input array shape') in model 808 in generation 7: SeasonalityMotif\n",
      "Model Number: 809 with model UnobservedComponents in generation 7 of 10\n",
      "Model Number: 810 with model Theta in generation 7 of 10\n",
      "Model Number: 811 with model DatepartRegression in generation 7 of 10\n",
      "Model Number: 812 with model DatepartRegression in generation 7 of 10\n",
      "Model Number: 813 with model AverageValueNaive in generation 7 of 10\n",
      "Model Number: 814 with model ETS in generation 7 of 10\n",
      "Model Number: 815 with model SeasonalityMotif in generation 7 of 10\n",
      "Template Eval Error: ValueError('kth(=9) out of bounds (4)') in model 815 in generation 7: SeasonalityMotif\n",
      "Model Number: 816 with model SeasonalNaive in generation 7 of 10\n",
      "Model Number: 817 with model UnobservedComponents in generation 7 of 10\n",
      "Model Number: 818 with model GLM in generation 7 of 10\n"
     ]
    },
    {
     "name": "stderr",
     "output_type": "stream",
     "text": [
      "WARNING - (py.warnings._showwarnmsg) - c:\\Users\\crudek\\AppData\\Local\\anaconda3\\envs\\newpycaret\\lib\\site-packages\\statsmodels\\genmod\\generalized_linear_model.py:1257: PerfectSeparationWarning: Perfect separation or prediction detected, parameter may not be identified\n",
      "  warnings.warn(msg, category=PerfectSeparationWarning)\n",
      "\n"
     ]
    },
    {
     "name": "stdout",
     "output_type": "stream",
     "text": [
      "Model Number: 819 with model ETS in generation 7 of 10\n",
      "New Generation: 8 of 10\n",
      "Model Number: 820 with model UnobservedComponents in generation 8 of 10\n",
      "Model Number: 821 with model LastValueNaive in generation 8 of 10\n",
      "Model Number: 822 with model UnobservedComponents in generation 8 of 10\n"
     ]
    },
    {
     "name": "stderr",
     "output_type": "stream",
     "text": [
      "WARNING - (py.warnings._showwarnmsg) - c:\\Users\\crudek\\AppData\\Local\\anaconda3\\envs\\newpycaret\\lib\\site-packages\\statsmodels\\genmod\\generalized_linear_model.py:813: RuntimeWarning: divide by zero encountered in double_scalars\n",
      "  return np.sum(resid / self.family.variance(mu)) / self.df_resid\n",
      "\n",
      "WARNING - (py.warnings._showwarnmsg) - c:\\Users\\crudek\\AppData\\Local\\anaconda3\\envs\\newpycaret\\lib\\site-packages\\statsmodels\\genmod\\families\\family.py:1650: RuntimeWarning: invalid value encountered in log\n",
      "  endog * np.log(endog / mu) + (mu - endog))\n",
      "\n"
     ]
    },
    {
     "name": "stdout",
     "output_type": "stream",
     "text": [
      "Model Number: 823 with model GLM in generation 8 of 10\n",
      "Template Eval Error: ValueError('The first guess on the deviance function returned a nan.  This could be a boundary  problem and should be reported.') in model 823 in generation 8: GLM\n",
      "Model Number: 824 with model UnobservedComponents in generation 8 of 10\n",
      "Template Eval Error: Exception('Transformer RegressionFilter failed on fit') in model 824 in generation 8: UnobservedComponents\n",
      "Model Number: 825 with model GLS in generation 8 of 10\n",
      "Model Number: 826 with model AverageValueNaive in generation 8 of 10\n",
      "Model Number: 827 with model ETS in generation 8 of 10\n",
      "Model Number: 828 with model ConstantNaive in generation 8 of 10\n"
     ]
    },
    {
     "name": "stderr",
     "output_type": "stream",
     "text": [
      "WARNING - (py.warnings._showwarnmsg) - c:\\Users\\crudek\\AppData\\Local\\anaconda3\\envs\\newpycaret\\lib\\site-packages\\sklearn\\svm\\_base.py:1244: ConvergenceWarning: Liblinear failed to converge, increase the number of iterations.\n",
      "  warnings.warn(\n",
      "\n"
     ]
    },
    {
     "name": "stdout",
     "output_type": "stream",
     "text": [
      "Model Number: 829 with model ETS in generation 8 of 10\n",
      "Template Eval Error: Exception('Transformer RegressionFilter failed on fit') in model 829 in generation 8: ETS\n",
      "Model Number: 830 with model UnobservedComponents in generation 8 of 10\n",
      "Model Number: 831 with model ARIMA in generation 8 of 10\n",
      "Model Number: 832 with model UnobservedComponents in generation 8 of 10\n",
      "Model Number: 833 with model SeasonalityMotif in generation 8 of 10\n",
      "Template Eval Error: Exception('Transformer RegressionFilter failed on fit') in model 833 in generation 8: SeasonalityMotif\n",
      "Model Number: 834 with model GLM in generation 8 of 10\n",
      "Model Number: 835 with model SeasonalNaive in generation 8 of 10\n",
      "Model Number: 836 with model AverageValueNaive in generation 8 of 10\n",
      "Model Number: 837 with model GLS in generation 8 of 10\n",
      "Model Number: 838 with model LastValueNaive in generation 8 of 10\n",
      "Template Eval Error: Exception('Transformer AlignLastValue failed on fit') in model 838 in generation 8: LastValueNaive\n",
      "Model Number: 839 with model GLM in generation 8 of 10\n",
      "Template Eval Error: ValueError('regression_type=user and no future_regressor passed') in model 839 in generation 8: GLM\n",
      "Model Number: 840 with model Theta in generation 8 of 10\n",
      "Template Eval Error: ValueError('x must have 2 complete cycles requires 24 observations. x only has 11 observation(s)') in model 840 in generation 8: Theta\n",
      "Model Number: 841 with model KalmanStateSpace in generation 8 of 10\n",
      "Model Number: 842 with model DatepartRegression in generation 8 of 10\n",
      "Model Number: 843 with model AverageValueNaive in generation 8 of 10\n",
      "Model Number: 844 with model GLS in generation 8 of 10\n",
      "Model Number: 845 with model KalmanStateSpace in generation 8 of 10\n",
      "Model Number: 846 with model ARDL in generation 8 of 10\n",
      "Template Eval Error: ValueError(\"regression_type='User' but future_regressor not supplied\") in model 846 in generation 8: ARDL\n",
      "Model Number: 847 with model AverageValueNaive in generation 8 of 10\n",
      "Model Number: 848 with model DatepartRegression in generation 8 of 10\n",
      "Template Eval Error: Exception('Transformer RegressionFilter failed on fit') in model 848 in generation 8: DatepartRegression\n",
      "Model Number: 849 with model ETS in generation 8 of 10\n",
      "ETS error ValueError('Can only dampen the trend component')\n",
      "ETS failed on y with ValueError('Can only dampen the trend component')\n"
     ]
    },
    {
     "name": "stderr",
     "output_type": "stream",
     "text": [
      "WARNING - (py.warnings._showwarnmsg) - c:\\Users\\crudek\\AppData\\Local\\anaconda3\\envs\\newpycaret\\lib\\site-packages\\sklearn\\decomposition\\_fastica.py:708: FutureWarning: Starting in v1.3, whiten=True should be specified as whiten='arbitrary-variance' (its current behaviour). This behavior is deprecated in 1.1 and will raise ValueError in 1.3.\n",
      "  return self._fit_transform(X, compute_sources=True)\n",
      "\n"
     ]
    },
    {
     "name": "stdout",
     "output_type": "stream",
     "text": [
      "Model Number: 850 with model AverageValueNaive in generation 8 of 10\n",
      "Model Number: 851 with model SeasonalNaive in generation 8 of 10\n",
      "Template Eval Error: Exception('Transformer LocalLinearTrend failed on fit') in model 851 in generation 8: SeasonalNaive\n",
      "Model Number: 852 with model SeasonalNaive in generation 8 of 10\n",
      "Model Number: 853 with model KalmanStateSpace in generation 8 of 10\n",
      "Model Number: 854 with model UnobservedComponents in generation 8 of 10\n",
      "Model Number: 855 with model KalmanStateSpace in generation 8 of 10\n",
      "Model Number: 856 with model GLS in generation 8 of 10\n",
      "Model Number: 857 with model ConstantNaive in generation 8 of 10\n"
     ]
    },
    {
     "name": "stderr",
     "output_type": "stream",
     "text": [
      "WARNING - (py.warnings._showwarnmsg) - c:\\Users\\crudek\\AppData\\Local\\anaconda3\\envs\\newpycaret\\lib\\site-packages\\statsmodels\\genmod\\generalized_linear_model.py:813: RuntimeWarning: invalid value encountered in double_scalars\n",
      "  return np.sum(resid / self.family.variance(mu)) / self.df_resid\n",
      "\n"
     ]
    },
    {
     "name": "stdout",
     "output_type": "stream",
     "text": [
      "Template Eval Error: Exception('Transformer RegressionFilter failed on fit') in model 857 in generation 8: ConstantNaive\n",
      "Model Number: 858 with model UnobservedComponents in generation 8 of 10\n",
      "Template Eval Error: Exception('Transformer RegressionFilter failed on fit') in model 858 in generation 8: UnobservedComponents\n",
      "Model Number: 859 with model GLM in generation 8 of 10\n",
      "Template Eval Error: ValueError('The first guess on the deviance function returned a nan.  This could be a boundary  problem and should be reported.') in model 859 in generation 8: GLM\n",
      "Model Number: 860 with model Theta in generation 8 of 10\n",
      "Template Eval Error: Exception('Transformer RegressionFilter failed on fit') in model 860 in generation 8: Theta\n",
      "Model Number: 861 with model LastValueNaive in generation 8 of 10\n",
      "Model Number: 862 with model ARDL in generation 8 of 10\n",
      "Model Number: 863 with model SeasonalNaive in generation 8 of 10\n",
      "Model Number: 864 with model SeasonalNaive in generation 8 of 10\n",
      "Model Number: 865 with model UnobservedComponents in generation 8 of 10\n",
      "Model Number: 866 with model Theta in generation 8 of 10\n",
      "Model Number: 867 with model AverageValueNaive in generation 8 of 10\n",
      "Model Number: 868 with model Theta in generation 8 of 10\n",
      "Model Number: 869 with model GLS in generation 8 of 10\n",
      "Model Number: 870 with model KalmanStateSpace in generation 8 of 10\n"
     ]
    },
    {
     "name": "stderr",
     "output_type": "stream",
     "text": [
      "WARNING - (py.warnings._showwarnmsg) - c:\\Users\\crudek\\AppData\\Local\\anaconda3\\envs\\newpycaret\\lib\\site-packages\\statsmodels\\genmod\\generalized_linear_model.py:813: RuntimeWarning: divide by zero encountered in double_scalars\n",
      "  return np.sum(resid / self.family.variance(mu)) / self.df_resid\n",
      "\n"
     ]
    },
    {
     "name": "stdout",
     "output_type": "stream",
     "text": [
      "Model Number: 871 with model GLM in generation 8 of 10\n",
      "Model Number: 872 with model SeasonalityMotif in generation 8 of 10\n",
      "Model Number: 873 with model GLS in generation 8 of 10\n",
      "Model Number: 874 with model SeasonalityMotif in generation 8 of 10\n",
      "Model Number: 875 with model DatepartRegression in generation 8 of 10\n",
      "Template Eval Error: ImportError('Tensorflow not available, install with pip install tensorflow.') in model 875 in generation 8: DatepartRegression\n",
      "Model Number: 876 with model AverageValueNaive in generation 8 of 10\n",
      "Model Number: 877 with model DatepartRegression in generation 8 of 10\n",
      "Model Number: 878 with model ETS in generation 8 of 10\n",
      "Model Number: 879 with model KalmanStateSpace in generation 8 of 10\n",
      "Model Number: 880 with model Theta in generation 8 of 10\n",
      "Model Number: 881 with model LastValueNaive in generation 8 of 10\n",
      "Model Number: 882 with model DatepartRegression in generation 8 of 10\n",
      "Template Eval Error: Exception('Transformer RegressionFilter failed on fit') in model 882 in generation 8: DatepartRegression\n",
      "Model Number: 883 with model DatepartRegression in generation 8 of 10\n",
      "Template Eval Error: Exception('Transformer RegressionFilter failed on fit') in model 883 in generation 8: DatepartRegression\n",
      "Model Number: 884 with model ARDL in generation 8 of 10\n",
      "Model Number: 885 with model SeasonalityMotif in generation 8 of 10\n",
      "Template Eval Error: ValueError('window shape cannot be larger than input array shape') in model 885 in generation 8: SeasonalityMotif\n",
      "Model Number: 886 with model KalmanStateSpace in generation 8 of 10\n",
      "Model Number: 887 with model ARDL in generation 8 of 10\n",
      "Model Number: 888 with model SeasonalNaive in generation 8 of 10\n",
      "Model Number: 889 with model ARIMA in generation 8 of 10\n",
      "Model Number: 890 with model KalmanStateSpace in generation 8 of 10\n",
      "Model Number: 891 with model AverageValueNaive in generation 8 of 10\n",
      "Model Number: 892 with model DatepartRegression in generation 8 of 10\n",
      "Template Eval Error: Exception('Transformer BTCD failed on fit') in model 892 in generation 8: DatepartRegression\n",
      "Model Number: 893 with model UnobservedComponents in generation 8 of 10\n",
      "Model Number: 894 with model SeasonalNaive in generation 8 of 10\n",
      "Template Eval Error: Exception('Transformer ScipyFilter failed on fit') in model 894 in generation 8: SeasonalNaive\n",
      "Model Number: 895 with model DatepartRegression in generation 8 of 10\n",
      "Template Eval Error: ImportError('Tensorflow not available, install with pip install tensorflow.') in model 895 in generation 8: DatepartRegression\n",
      "Model Number: 896 with model DatepartRegression in generation 8 of 10\n",
      "Model Number: 897 with model ETS in generation 8 of 10\n",
      "Model Number: 898 with model LastValueNaive in generation 8 of 10\n",
      "Model Number: 899 with model DatepartRegression in generation 8 of 10\n",
      "Template Eval Error: Exception('Transformer BTCD failed on fit') in model 899 in generation 8: DatepartRegression\n",
      "Model Number: 900 with model SeasonalNaive in generation 8 of 10\n",
      "Model Number: 901 with model GLM in generation 8 of 10\n",
      "Template Eval Error: Exception('Transformer RegressionFilter failed on fit') in model 901 in generation 8: GLM\n",
      "Model Number: 902 with model LastValueNaive in generation 8 of 10\n",
      "Model Number: 903 with model KalmanStateSpace in generation 8 of 10\n",
      "Template Eval Error: Exception('Transformer AlignLastValue failed on fit') in model 903 in generation 8: KalmanStateSpace\n",
      "New Generation: 9 of 10\n",
      "Model Number: 904 with model ConstantNaive in generation 9 of 10\n",
      "Model Number: 905 with model LastValueNaive in generation 9 of 10\n"
     ]
    },
    {
     "name": "stderr",
     "output_type": "stream",
     "text": [
      "WARNING - (py.warnings._showwarnmsg) - c:\\Users\\crudek\\AppData\\Local\\anaconda3\\envs\\newpycaret\\lib\\site-packages\\statsmodels\\genmod\\families\\links.py:198: RuntimeWarning: overflow encountered in exp\n",
      "  t = np.exp(-z)\n",
      "\n"
     ]
    },
    {
     "name": "stdout",
     "output_type": "stream",
     "text": [
      "Model Number: 906 with model GLM in generation 9 of 10\n",
      "Model Number: 907 with model AverageValueNaive in generation 9 of 10\n",
      "Model Number: 908 with model ARIMA in generation 9 of 10\n",
      "Model Number: 909 with model LastValueNaive in generation 9 of 10\n",
      "Model Number: 910 with model KalmanStateSpace in generation 9 of 10\n",
      "Model Number: 911 with model UnobservedComponents in generation 9 of 10\n",
      "Template Eval Error: ValueError(\"regression_type='User' but no future_regressor supplied\") in model 911 in generation 9: UnobservedComponents\n",
      "Model Number: 912 with model KalmanStateSpace in generation 9 of 10\n",
      "Model Number: 913 with model SeasonalityMotif in generation 9 of 10\n",
      "Model Number: 914 with model KalmanStateSpace in generation 9 of 10\n",
      "Template Eval Error: Exception('Transformer AlignLastValue failed on inverse') in model 914 in generation 9: KalmanStateSpace\n",
      "Model Number: 915 with model Theta in generation 9 of 10\n",
      "Model Number: 916 with model SeasonalNaive in generation 9 of 10\n",
      "Model Number: 917 with model SeasonalityMotif in generation 9 of 10\n",
      "Template Eval Error: ValueError('kth(=9) out of bounds (2)') in model 917 in generation 9: SeasonalityMotif\n",
      "Model Number: 918 with model LastValueNaive in generation 9 of 10\n",
      "Model Number: 919 with model ETS in generation 9 of 10\n",
      "ETS error ValueError('Can only dampen the trend component')\n",
      "ETS failed on y with ValueError('Can only dampen the trend component')\n",
      "Model Number: 920 with model Theta in generation 9 of 10\n",
      "Model Number: 921 with model FBProphet in generation 9 of 10\n"
     ]
    },
    {
     "name": "stderr",
     "output_type": "stream",
     "text": [
      "14:58:48 - cmdstanpy - INFO - Chain [1] start processing\n",
      "14:58:48 - cmdstanpy - INFO - Chain [1] done processing\n",
      "14:58:48 - cmdstanpy - INFO - Chain [1] start processing\n",
      "14:58:48 - cmdstanpy - INFO - Chain [1] done processing\n"
     ]
    },
    {
     "name": "stdout",
     "output_type": "stream",
     "text": [
      "Model Number: 922 with model SeasonalityMotif in generation 9 of 10\n",
      "Template Eval Error: ValueError('kth(=4) out of bounds (4)') in model 922 in generation 9: SeasonalityMotif\n",
      "Model Number: 923 with model FBProphet in generation 9 of 10\n",
      "Model Number: 924 with model LastValueNaive in generation 9 of 10\n",
      "Model Number: 925 with model ETS in generation 9 of 10\n",
      "Template Eval Error: Exception('Transformer STLFilter failed on fit') in model 925 in generation 9: ETS\n",
      "Model Number: 926 with model Theta in generation 9 of 10\n",
      "Template Eval Error: Exception('Transformer Cointegration failed on fit') in model 926 in generation 9: Theta\n",
      "Model Number: 927 with model SeasonalityMotif in generation 9 of 10\n",
      "Template Eval Error: ValueError('kth(=4) out of bounds (2)') in model 927 in generation 9: SeasonalityMotif\n",
      "Model Number: 928 with model KalmanStateSpace in generation 9 of 10\n",
      "Model Number: 929 with model SeasonalNaive in generation 9 of 10\n",
      "Model Number: 930 with model GLS in generation 9 of 10\n"
     ]
    },
    {
     "name": "stderr",
     "output_type": "stream",
     "text": [
      "WARNING - (py.warnings._showwarnmsg) - c:\\Users\\crudek\\AppData\\Local\\anaconda3\\envs\\newpycaret\\lib\\site-packages\\sklearn\\neural_network\\_base.py:174: RuntimeWarning: overflow encountered in square\n",
      "  return ((y_true - y_pred) ** 2).mean() / 2\n",
      "\n",
      "WARNING - (py.warnings._showwarnmsg) - c:\\Users\\crudek\\AppData\\Local\\anaconda3\\envs\\newpycaret\\lib\\site-packages\\sklearn\\utils\\extmath.py:189: RuntimeWarning: overflow encountered in matmul\n",
      "  ret = a @ b\n",
      "\n",
      "WARNING - (py.warnings._showwarnmsg) - c:\\Users\\crudek\\AppData\\Local\\anaconda3\\envs\\newpycaret\\lib\\site-packages\\sklearn\\utils\\extmath.py:189: RuntimeWarning: invalid value encountered in matmul\n",
      "  ret = a @ b\n",
      "\n",
      "WARNING - (py.warnings._showwarnmsg) - c:\\Users\\crudek\\AppData\\Local\\anaconda3\\envs\\newpycaret\\lib\\site-packages\\sklearn\\neural_network\\_multilayer_perceptron.py:686: ConvergenceWarning: Stochastic Optimizer: Maximum iterations (250) reached and the optimization hasn't converged yet.\n",
      "  warnings.warn(\n",
      "\n",
      "WARNING - (py.warnings._showwarnmsg) - c:\\Users\\crudek\\AppData\\Local\\anaconda3\\envs\\newpycaret\\lib\\site-packages\\sklearn\\svm\\_base.py:1244: ConvergenceWarning: Liblinear failed to converge, increase the number of iterations.\n",
      "  warnings.warn(\n",
      "\n"
     ]
    },
    {
     "name": "stdout",
     "output_type": "stream",
     "text": [
      "Model Number: 931 with model DatepartRegression in generation 9 of 10\n",
      "Template Eval Error: ValueError('Solver produced non-finite parameter weights. The input data may contain large values and need to be preprocessed.') in model 931 in generation 9: DatepartRegression\n",
      "Model Number: 932 with model DatepartRegression in generation 9 of 10\n",
      "Model Number: 933 with model UnobservedComponents in generation 9 of 10\n",
      "Template Eval Error: ValueError(\"regression_type='User' but no future_regressor supplied\") in model 933 in generation 9: UnobservedComponents\n",
      "Model Number: 934 with model ConstantNaive in generation 9 of 10\n",
      "Model Number: 935 with model GLS in generation 9 of 10\n",
      "Model Number: 936 with model UnobservedComponents in generation 9 of 10\n"
     ]
    },
    {
     "name": "stderr",
     "output_type": "stream",
     "text": [
      "WARNING - (py.warnings._showwarnmsg) - c:\\Users\\crudek\\AppData\\Local\\anaconda3\\envs\\newpycaret\\lib\\site-packages\\sklearn\\decomposition\\_fastica.py:708: FutureWarning: Starting in v1.3, whiten=True should be specified as whiten='arbitrary-variance' (its current behaviour). This behavior is deprecated in 1.1 and will raise ValueError in 1.3.\n",
      "  return self._fit_transform(X, compute_sources=True)\n",
      "\n"
     ]
    },
    {
     "name": "stdout",
     "output_type": "stream",
     "text": [
      "Model Number: 937 with model AverageValueNaive in generation 9 of 10\n",
      "Model Number: 938 with model AverageValueNaive in generation 9 of 10\n",
      "Model Number: 939 with model GLS in generation 9 of 10\n",
      "Model Number: 940 with model DatepartRegression in generation 9 of 10\n"
     ]
    },
    {
     "name": "stderr",
     "output_type": "stream",
     "text": [
      "WARNING - (py.warnings._showwarnmsg) - c:\\Users\\crudek\\AppData\\Local\\anaconda3\\envs\\newpycaret\\lib\\site-packages\\sklearn\\svm\\_base.py:1244: ConvergenceWarning: Liblinear failed to converge, increase the number of iterations.\n",
      "  warnings.warn(\n",
      "\n"
     ]
    },
    {
     "name": "stdout",
     "output_type": "stream",
     "text": [
      "Model Number: 941 with model DatepartRegression in generation 9 of 10\n",
      "Model Number: 942 with model ARIMA in generation 9 of 10\n"
     ]
    },
    {
     "name": "stderr",
     "output_type": "stream",
     "text": [
      "WARNING - (py.warnings._showwarnmsg) - c:\\Users\\crudek\\AppData\\Local\\anaconda3\\envs\\newpycaret\\lib\\site-packages\\statsmodels\\genmod\\generalized_linear_model.py:307: DomainWarning: The InversePower link function does not respect the domain of the Gamma family.\n",
      "  warnings.warn((f\"The {type(family.link).__name__} link function \"\n",
      "\n",
      "WARNING - (py.warnings._showwarnmsg) - c:\\Users\\crudek\\AppData\\Local\\anaconda3\\envs\\newpycaret\\lib\\site-packages\\statsmodels\\genmod\\generalized_linear_model.py:813: RuntimeWarning: divide by zero encountered in double_scalars\n",
      "  return np.sum(resid / self.family.variance(mu)) / self.df_resid\n",
      "\n"
     ]
    },
    {
     "name": "stdout",
     "output_type": "stream",
     "text": [
      "Model Number: 943 with model GLM in generation 9 of 10\n",
      "Model Number: 944 with model GLS in generation 9 of 10\n",
      "Model Number: 945 with model SeasonalityMotif in generation 9 of 10\n",
      "Model Number: 946 with model SeasonalNaive in generation 9 of 10\n",
      "Model Number: 947 with model AverageValueNaive in generation 9 of 10\n",
      "Template Eval Error: Exception('Transformer RegressionFilter failed on fit') in model 947 in generation 9: AverageValueNaive\n",
      "Model Number: 948 with model AverageValueNaive in generation 9 of 10\n",
      "Model Number: 949 with model UnobservedComponents in generation 9 of 10\n",
      "Model Number: 950 with model Theta in generation 9 of 10\n",
      "Template Eval Error: ValueError('x must have 2 complete cycles requires 24 observations. x only has 11 observation(s)') in model 950 in generation 9: Theta\n",
      "Model Number: 951 with model LastValueNaive in generation 9 of 10\n"
     ]
    },
    {
     "name": "stderr",
     "output_type": "stream",
     "text": [
      "WARNING - (py.warnings._showwarnmsg) - c:\\Users\\crudek\\AppData\\Local\\anaconda3\\envs\\newpycaret\\lib\\site-packages\\autots\\tools\\window_functions.py:468: RuntimeWarning: invalid value encountered in divide\n",
      "  slope = (sxy - sx * sy) / (sx2 - sx**2)\n",
      "\n",
      "WARNING - (py.warnings._showwarnmsg) - c:\\Users\\crudek\\AppData\\Local\\anaconda3\\envs\\newpycaret\\lib\\site-packages\\numpy\\lib\\nanfunctions.py:1559: RuntimeWarning: All-NaN slice encountered\n",
      "  r, k = function_base._ureduce(a,\n",
      "\n",
      "WARNING - (py.warnings._showwarnmsg) - c:\\Users\\crudek\\AppData\\Local\\anaconda3\\envs\\newpycaret\\lib\\site-packages\\sklearn\\decomposition\\_fastica.py:708: FutureWarning: Starting in v1.3, whiten=True should be specified as whiten='arbitrary-variance' (its current behaviour). This behavior is deprecated in 1.1 and will raise ValueError in 1.3.\n",
      "  return self._fit_transform(X, compute_sources=True)\n",
      "\n"
     ]
    },
    {
     "name": "stdout",
     "output_type": "stream",
     "text": [
      "Model Number: 952 with model GLM in generation 9 of 10\n",
      "Template Eval Error: Exception('Transformer QuantileTransformer failed on fit') in model 952 in generation 9: GLM\n",
      "Model Number: 953 with model KalmanStateSpace in generation 9 of 10\n",
      "Model Number: 954 with model ETS in generation 9 of 10\n",
      "Model Number: 955 with model Theta in generation 9 of 10\n"
     ]
    },
    {
     "name": "stderr",
     "output_type": "stream",
     "text": [
      "WARNING - (py.warnings._showwarnmsg) - c:\\Users\\crudek\\AppData\\Local\\anaconda3\\envs\\newpycaret\\lib\\site-packages\\sklearn\\svm\\_base.py:1244: ConvergenceWarning: Liblinear failed to converge, increase the number of iterations.\n",
      "  warnings.warn(\n",
      "\n"
     ]
    },
    {
     "name": "stdout",
     "output_type": "stream",
     "text": [
      "Model Number: 956 with model DatepartRegression in generation 9 of 10\n",
      "Model Number: 957 with model ConstantNaive in generation 9 of 10\n",
      "Model Number: 958 with model UnobservedComponents in generation 9 of 10\n",
      "Model Number: 959 with model Theta in generation 9 of 10\n",
      "Model Number: 960 with model AverageValueNaive in generation 9 of 10\n"
     ]
    },
    {
     "name": "stderr",
     "output_type": "stream",
     "text": [
      "WARNING - (py.warnings._showwarnmsg) - c:\\Users\\crudek\\AppData\\Local\\anaconda3\\envs\\newpycaret\\lib\\site-packages\\statsmodels\\genmod\\families\\family.py:445: RuntimeWarning: divide by zero encountered in divide\n",
      "  endog_mu = self._clean(endog / mu)\n",
      "\n",
      "WARNING - (py.warnings._showwarnmsg) - c:\\Users\\crudek\\AppData\\Local\\anaconda3\\envs\\newpycaret\\lib\\site-packages\\statsmodels\\genmod\\families\\family.py:143: RuntimeWarning: divide by zero encountered in divide\n",
      "  return 1. / (self.link.deriv(mu)**2 * self.variance(mu))\n",
      "\n"
     ]
    },
    {
     "name": "stdout",
     "output_type": "stream",
     "text": [
      "Model Number: 961 with model GLM in generation 9 of 10\n",
      "Template Eval Error: ValueError('NaN, inf or invalid value detected in weights, estimation infeasible.') in model 961 in generation 9: GLM\n",
      "Model Number: 962 with model DatepartRegression in generation 9 of 10\n",
      "Template Eval Error: ImportError('Tensorflow not available, install with pip install tensorflow.') in model 962 in generation 9: DatepartRegression\n",
      "Model Number: 963 with model SeasonalityMotif in generation 9 of 10\n",
      "Template Eval Error: ValueError('kth(=4) out of bounds (4)') in model 963 in generation 9: SeasonalityMotif\n",
      "Model Number: 964 with model ETS in generation 9 of 10\n",
      "ETS error ValueError('Can only dampen the trend component')\n",
      "ETS failed on y with ValueError('Can only dampen the trend component')\n"
     ]
    },
    {
     "name": "stderr",
     "output_type": "stream",
     "text": [
      "WARNING - (py.warnings._showwarnmsg) - c:\\Users\\crudek\\AppData\\Local\\anaconda3\\envs\\newpycaret\\lib\\site-packages\\autots\\tools\\probabilistic.py:67: RuntimeWarning: invalid value encountered in divide\n",
      "  (prior_mu / prior_sigma**2) + ((n * data_mu) / prior_sigma**2)\n",
      "\n",
      "WARNING - (py.warnings._showwarnmsg) - c:\\Users\\crudek\\AppData\\Local\\anaconda3\\envs\\newpycaret\\lib\\site-packages\\autots\\tools\\probabilistic.py:67: RuntimeWarning: divide by zero encountered in divide\n",
      "  (prior_mu / prior_sigma**2) + ((n * data_mu) / prior_sigma**2)\n",
      "\n",
      "WARNING - (py.warnings._showwarnmsg) - c:\\Users\\crudek\\AppData\\Local\\anaconda3\\envs\\newpycaret\\lib\\site-packages\\autots\\tools\\probabilistic.py:68: RuntimeWarning: divide by zero encountered in divide\n",
      "  ) / ((1 / prior_sigma**2) + (n / prior_sigma**2))\n",
      "\n"
     ]
    },
    {
     "name": "stdout",
     "output_type": "stream",
     "text": [
      "Model Number: 965 with model DatepartRegression in generation 9 of 10\n",
      "Model Number: 966 with model ARDL in generation 9 of 10\n"
     ]
    },
    {
     "name": "stderr",
     "output_type": "stream",
     "text": [
      "WARNING - (py.warnings._showwarnmsg) - c:\\Users\\crudek\\AppData\\Local\\anaconda3\\envs\\newpycaret\\lib\\site-packages\\autots\\tools\\probabilistic.py:67: RuntimeWarning: divide by zero encountered in divide\n",
      "  (prior_mu / prior_sigma**2) + ((n * data_mu) / prior_sigma**2)\n",
      "\n",
      "WARNING - (py.warnings._showwarnmsg) - c:\\Users\\crudek\\AppData\\Local\\anaconda3\\envs\\newpycaret\\lib\\site-packages\\autots\\tools\\probabilistic.py:68: RuntimeWarning: divide by zero encountered in divide\n",
      "  ) / ((1 / prior_sigma**2) + (n / prior_sigma**2))\n",
      "\n",
      "WARNING - (py.warnings._showwarnmsg) - c:\\Users\\crudek\\AppData\\Local\\anaconda3\\envs\\newpycaret\\lib\\site-packages\\autots\\tools\\probabilistic.py:66: RuntimeWarning: invalid value encountered in divide\n",
      "  post_mu = (\n",
      "\n"
     ]
    },
    {
     "name": "stdout",
     "output_type": "stream",
     "text": [
      "Model Number: 967 with model GLM in generation 9 of 10\n",
      "Model Number: 968 with model GLM in generation 9 of 10\n",
      "Template Eval Error: ValueError('regression_type=user and no future_regressor passed') in model 968 in generation 9: GLM\n",
      "Model Number: 969 with model FBProphet in generation 9 of 10\n"
     ]
    },
    {
     "name": "stderr",
     "output_type": "stream",
     "text": [
      "14:58:50 - cmdstanpy - INFO - Chain [1] start processing\n",
      "14:58:50 - cmdstanpy - INFO - Chain [1] done processing\n"
     ]
    },
    {
     "name": "stdout",
     "output_type": "stream",
     "text": [
      "Model Number: 970 with model AverageValueNaive in generation 9 of 10\n",
      "Model Number: 971 with model ETS in generation 9 of 10\n",
      "ETS error ValueError('Can only dampen the trend component')\n",
      "ETS failed on y with ValueError('Can only dampen the trend component')\n",
      "Model Number: 972 with model ARIMA in generation 9 of 10\n",
      "Model Number: 973 with model AverageValueNaive in generation 9 of 10\n",
      "Template Eval Error: ValueError(\"Model returned NaN due to a preprocessing transformer {'fillna': 'rolling_mean', 'transformations': {'0': 'RollingMeanTransformer', '1': 'Detrend', '2': 'AlignLastValue'}, 'transformation_params': {'0': {'fixed': True, 'window': 364}, '1': {'model': 'Linear', 'phi': 1, 'window': None, 'transform_dict': {'fillna': None, 'transformations': {'0': 'Discretize'}, 'transformation_params': {'0': {'discretization': 'center', 'n_bins': 20}}}}, '2': {'rows': 4, 'lag': 28, 'method': 'additive', 'strength': 1.0, 'first_value_only': False}}}. fail_on_forecast_nan=True\") in model 973 in generation 9: AverageValueNaive\n",
      "Model Number: 974 with model DatepartRegression in generation 9 of 10\n",
      "Model Number: 975 with model ETS in generation 9 of 10\n",
      "Template Eval Error: Exception('Transformer BTCD failed on fit') in model 975 in generation 9: ETS\n",
      "Model Number: 976 with model UnobservedComponents in generation 9 of 10\n",
      "Model Number: 977 with model GLM in generation 9 of 10\n",
      "Template Eval Error: ValueError('regression_type=user and no future_regressor passed') in model 977 in generation 9: GLM\n"
     ]
    },
    {
     "name": "stderr",
     "output_type": "stream",
     "text": [
      "WARNING - (py.warnings._showwarnmsg) - c:\\Users\\crudek\\AppData\\Local\\anaconda3\\envs\\newpycaret\\lib\\site-packages\\sklearn\\decomposition\\_fastica.py:708: FutureWarning: Starting in v1.3, whiten=True should be specified as whiten='arbitrary-variance' (its current behaviour). This behavior is deprecated in 1.1 and will raise ValueError in 1.3.\n",
      "  return self._fit_transform(X, compute_sources=True)\n",
      "\n"
     ]
    },
    {
     "name": "stdout",
     "output_type": "stream",
     "text": [
      "Model Number: 978 with model AverageValueNaive in generation 9 of 10\n",
      "Model Number: 979 with model DatepartRegression in generation 9 of 10\n"
     ]
    },
    {
     "name": "stderr",
     "output_type": "stream",
     "text": [
      "WARNING - (py.warnings._showwarnmsg) - c:\\Users\\crudek\\AppData\\Local\\anaconda3\\envs\\newpycaret\\lib\\site-packages\\statsmodels\\genmod\\generalized_linear_model.py:813: RuntimeWarning: invalid value encountered in double_scalars\n",
      "  return np.sum(resid / self.family.variance(mu)) / self.df_resid\n",
      "\n"
     ]
    },
    {
     "name": "stdout",
     "output_type": "stream",
     "text": [
      "Model Number: 980 with model GLM in generation 9 of 10\n",
      "Template Eval Error: ValueError('The first guess on the deviance function returned a nan.  This could be a boundary  problem and should be reported.') in model 980 in generation 9: GLM\n",
      "Model Number: 981 with model UnobservedComponents in generation 9 of 10\n"
     ]
    },
    {
     "name": "stderr",
     "output_type": "stream",
     "text": [
      "WARNING - (py.warnings._showwarnmsg) - c:\\Users\\crudek\\AppData\\Local\\anaconda3\\envs\\newpycaret\\lib\\site-packages\\statsmodels\\genmod\\generalized_linear_model.py:307: DomainWarning: The InversePower link function does not respect the domain of the Gamma family.\n",
      "  warnings.warn((f\"The {type(family.link).__name__} link function \"\n",
      "\n",
      "WARNING - (py.warnings._showwarnmsg) - c:\\Users\\crudek\\AppData\\Local\\anaconda3\\envs\\newpycaret\\lib\\site-packages\\statsmodels\\genmod\\generalized_linear_model.py:813: RuntimeWarning: divide by zero encountered in double_scalars\n",
      "  return np.sum(resid / self.family.variance(mu)) / self.df_resid\n",
      "\n"
     ]
    },
    {
     "name": "stdout",
     "output_type": "stream",
     "text": [
      "Model Number: 982 with model GLM in generation 9 of 10\n"
     ]
    },
    {
     "name": "stderr",
     "output_type": "stream",
     "text": [
      "WARNING - (py.warnings._showwarnmsg) - c:\\Users\\crudek\\AppData\\Local\\anaconda3\\envs\\newpycaret\\lib\\site-packages\\sklearn\\decomposition\\_fastica.py:708: FutureWarning: Starting in v1.3, whiten=True should be specified as whiten='arbitrary-variance' (its current behaviour). This behavior is deprecated in 1.1 and will raise ValueError in 1.3.\n",
      "  return self._fit_transform(X, compute_sources=True)\n",
      "\n"
     ]
    },
    {
     "name": "stdout",
     "output_type": "stream",
     "text": [
      "Model Number: 983 with model AverageValueNaive in generation 9 of 10\n",
      "Model Number: 984 with model DatepartRegression in generation 9 of 10\n",
      "Model Number: 985 with model GLS in generation 9 of 10\n"
     ]
    },
    {
     "name": "stderr",
     "output_type": "stream",
     "text": [
      "WARNING - (py.warnings._showwarnmsg) - c:\\Users\\crudek\\AppData\\Local\\anaconda3\\envs\\newpycaret\\lib\\site-packages\\autots\\tools\\probabilistic.py:67: RuntimeWarning: invalid value encountered in divide\n",
      "  (prior_mu / prior_sigma**2) + ((n * data_mu) / prior_sigma**2)\n",
      "\n",
      "WARNING - (py.warnings._showwarnmsg) - c:\\Users\\crudek\\AppData\\Local\\anaconda3\\envs\\newpycaret\\lib\\site-packages\\autots\\tools\\probabilistic.py:68: RuntimeWarning: divide by zero encountered in divide\n",
      "  ) / ((1 / prior_sigma**2) + (n / prior_sigma**2))\n",
      "\n"
     ]
    },
    {
     "name": "stdout",
     "output_type": "stream",
     "text": [
      "Model Number: 986 with model SeasonalNaive in generation 9 of 10\n",
      "Model Number: 987 with model UnobservedComponents in generation 9 of 10\n",
      "New Generation: 10 of 10\n",
      "Model Number: 988 with model GLS in generation 10 of 10\n",
      "Model Number: 989 with model ETS in generation 10 of 10\n"
     ]
    },
    {
     "name": "stderr",
     "output_type": "stream",
     "text": [
      "WARNING - (py.warnings._showwarnmsg) - c:\\Users\\crudek\\AppData\\Local\\anaconda3\\envs\\newpycaret\\lib\\site-packages\\sklearn\\svm\\_base.py:1244: ConvergenceWarning: Liblinear failed to converge, increase the number of iterations.\n",
      "  warnings.warn(\n",
      "\n"
     ]
    },
    {
     "name": "stdout",
     "output_type": "stream",
     "text": [
      "Model Number: 990 with model SeasonalityMotif in generation 10 of 10\n",
      "Template Eval Error: Exception('Transformer RegressionFilter failed on fit') in model 990 in generation 10: SeasonalityMotif\n",
      "Model Number: 991 with model AverageValueNaive in generation 10 of 10\n",
      "Model Number: 992 with model SeasonalNaive in generation 10 of 10\n",
      "Template Eval Error: Exception('Transformer AnomalyRemoval failed on fit') in model 992 in generation 10: SeasonalNaive\n",
      "Model Number: 993 with model AverageValueNaive in generation 10 of 10\n"
     ]
    },
    {
     "name": "stderr",
     "output_type": "stream",
     "text": [
      "WARNING - (py.warnings._showwarnmsg) - c:\\Users\\crudek\\AppData\\Local\\anaconda3\\envs\\newpycaret\\lib\\site-packages\\sklearn\\neural_network\\_multilayer_perceptron.py:541: ConvergenceWarning: lbfgs failed to converge (status=2):\n",
      "ABNORMAL_TERMINATION_IN_LNSRCH.\n",
      "\n",
      "Increase the number of iterations (max_iter) or scale the data as shown in:\n",
      "    https://scikit-learn.org/stable/modules/preprocessing.html\n",
      "  self.n_iter_ = _check_optimize_result(\"lbfgs\", opt_res, self.max_iter)\n",
      "\n"
     ]
    },
    {
     "name": "stdout",
     "output_type": "stream",
     "text": [
      "Template Eval Error: Exception('Transformer RegressionFilter failed on fit') in model 993 in generation 10: AverageValueNaive\n",
      "Model Number: 994 with model Theta in generation 10 of 10\n",
      "Model Number: 995 with model GLM in generation 10 of 10\n",
      "Template Eval Error: Exception('Transformer RegressionFilter failed on fit') in model 995 in generation 10: GLM\n",
      "Model Number: 996 with model GLM in generation 10 of 10\n",
      "Model Number: 997 with model AverageValueNaive in generation 10 of 10\n",
      "Template Eval Error: Exception('Transformer RegressionFilter failed on fit') in model 997 in generation 10: AverageValueNaive\n",
      "Model Number: 998 with model KalmanStateSpace in generation 10 of 10\n"
     ]
    },
    {
     "name": "stderr",
     "output_type": "stream",
     "text": [
      "WARNING - (py.warnings._showwarnmsg) - c:\\Users\\crudek\\AppData\\Local\\anaconda3\\envs\\newpycaret\\lib\\site-packages\\statsmodels\\genmod\\generalized_linear_model.py:1257: PerfectSeparationWarning: Perfect separation or prediction detected, parameter may not be identified\n",
      "  warnings.warn(msg, category=PerfectSeparationWarning)\n",
      "\n",
      "WARNING - (py.warnings._showwarnmsg) - c:\\Users\\crudek\\AppData\\Local\\anaconda3\\envs\\newpycaret\\lib\\site-packages\\autots\\tools\\probabilistic.py:67: RuntimeWarning: divide by zero encountered in divide\n",
      "  (prior_mu / prior_sigma**2) + ((n * data_mu) / prior_sigma**2)\n",
      "\n",
      "WARNING - (py.warnings._showwarnmsg) - c:\\Users\\crudek\\AppData\\Local\\anaconda3\\envs\\newpycaret\\lib\\site-packages\\autots\\tools\\probabilistic.py:68: RuntimeWarning: divide by zero encountered in divide\n",
      "  ) / ((1 / prior_sigma**2) + (n / prior_sigma**2))\n",
      "\n",
      "WARNING - (py.warnings._showwarnmsg) - c:\\Users\\crudek\\AppData\\Local\\anaconda3\\envs\\newpycaret\\lib\\site-packages\\autots\\tools\\probabilistic.py:66: RuntimeWarning: invalid value encountered in divide\n",
      "  post_mu = (\n",
      "\n"
     ]
    },
    {
     "name": "stdout",
     "output_type": "stream",
     "text": [
      "Model Number: 999 with model GLM in generation 10 of 10\n",
      "Model Number: 1000 with model KalmanStateSpace in generation 10 of 10\n",
      "Model Number: 1001 with model ARDL in generation 10 of 10\n",
      "Template Eval Error: Exception('Transformer BTCD failed on fit') in model 1001 in generation 10: ARDL\n",
      "Model Number: 1002 with model GLM in generation 10 of 10\n",
      "Template Eval Error: Exception('Transformer LocalLinearTrend failed on fit') in model 1002 in generation 10: GLM\n",
      "Model Number: 1003 with model LastValueNaive in generation 10 of 10\n",
      "Model Number: 1004 with model SeasonalityMotif in generation 10 of 10\n",
      "Template Eval Error: ValueError('kth(=4) out of bounds (2)') in model 1004 in generation 10: SeasonalityMotif\n",
      "Model Number: 1005 with model UnobservedComponents in generation 10 of 10\n",
      "Model Number: 1006 with model UnobservedComponents in generation 10 of 10\n",
      "Model Number: 1007 with model UnobservedComponents in generation 10 of 10\n",
      "Model Number: 1008 with model SeasonalityMotif in generation 10 of 10\n",
      "Template Eval Error: ValueError('kth(=4) out of bounds (2)') in model 1008 in generation 10: SeasonalityMotif\n",
      "Model Number: 1009 with model DatepartRegression in generation 10 of 10\n",
      "Template Eval Error: Exception('Transformer BTCD failed on fit') in model 1009 in generation 10: DatepartRegression\n",
      "Model Number: 1010 with model GLM in generation 10 of 10\n",
      "Template Eval Error: Exception('Transformer LocalLinearTrend failed on fit') in model 1010 in generation 10: GLM\n",
      "Model Number: 1011 with model KalmanStateSpace in generation 10 of 10\n"
     ]
    },
    {
     "name": "stderr",
     "output_type": "stream",
     "text": [
      "WARNING - (py.warnings._showwarnmsg) - c:\\Users\\crudek\\AppData\\Local\\anaconda3\\envs\\newpycaret\\lib\\site-packages\\sklearn\\svm\\_base.py:1244: ConvergenceWarning: Liblinear failed to converge, increase the number of iterations.\n",
      "  warnings.warn(\n",
      "\n"
     ]
    },
    {
     "name": "stdout",
     "output_type": "stream",
     "text": [
      "Model Number: 1012 with model DatepartRegression in generation 10 of 10\n"
     ]
    },
    {
     "name": "stderr",
     "output_type": "stream",
     "text": [
      "WARNING - (py.warnings._showwarnmsg) - c:\\Users\\crudek\\AppData\\Local\\anaconda3\\envs\\newpycaret\\lib\\site-packages\\sklearn\\decomposition\\_fastica.py:708: FutureWarning: Starting in v1.3, whiten=True should be specified as whiten='arbitrary-variance' (its current behaviour). This behavior is deprecated in 1.1 and will raise ValueError in 1.3.\n",
      "  return self._fit_transform(X, compute_sources=True)\n",
      "\n"
     ]
    },
    {
     "name": "stdout",
     "output_type": "stream",
     "text": [
      "Model Number: 1013 with model GLS in generation 10 of 10\n"
     ]
    },
    {
     "name": "stderr",
     "output_type": "stream",
     "text": [
      "WARNING - (py.warnings._showwarnmsg) - c:\\Users\\crudek\\AppData\\Local\\anaconda3\\envs\\newpycaret\\lib\\site-packages\\statsmodels\\genmod\\generalized_linear_model.py:813: RuntimeWarning: divide by zero encountered in double_scalars\n",
      "  return np.sum(resid / self.family.variance(mu)) / self.df_resid\n",
      "\n"
     ]
    },
    {
     "name": "stdout",
     "output_type": "stream",
     "text": [
      "Model Number: 1014 with model GLM in generation 10 of 10\n",
      "Template Eval Error: Exception('Transformer AlignLastValue failed on inverse') in model 1014 in generation 10: GLM\n",
      "Model Number: 1015 with model Theta in generation 10 of 10\n",
      "Model Number: 1016 with model GLM in generation 10 of 10\n",
      "Template Eval Error: ValueError('regression_type=user and no future_regressor passed') in model 1016 in generation 10: GLM\n",
      "Model Number: 1017 with model DatepartRegression in generation 10 of 10\n"
     ]
    },
    {
     "name": "stderr",
     "output_type": "stream",
     "text": [
      "WARNING - (py.warnings._showwarnmsg) - c:\\Users\\crudek\\AppData\\Local\\anaconda3\\envs\\newpycaret\\lib\\site-packages\\statsmodels\\genmod\\families\\family.py:1650: RuntimeWarning: invalid value encountered in log\n",
      "  endog * np.log(endog / mu) + (mu - endog))\n",
      "\n"
     ]
    },
    {
     "name": "stdout",
     "output_type": "stream",
     "text": [
      "Model Number: 1018 with model GLM in generation 10 of 10\n",
      "Model Number: 1019 with model SeasonalityMotif in generation 10 of 10\n",
      "Template Eval Error: Exception('Transformer Detrend failed on fit') in model 1019 in generation 10: SeasonalityMotif\n",
      "Model Number: 1020 with model LastValueNaive in generation 10 of 10\n",
      "Model Number: 1021 with model KalmanStateSpace in generation 10 of 10\n"
     ]
    },
    {
     "name": "stderr",
     "output_type": "stream",
     "text": [
      "WARNING - (py.warnings._showwarnmsg) - c:\\Users\\crudek\\AppData\\Local\\anaconda3\\envs\\newpycaret\\lib\\site-packages\\statsmodels\\genmod\\generalized_linear_model.py:1257: PerfectSeparationWarning: Perfect separation or prediction detected, parameter may not be identified\n",
      "  warnings.warn(msg, category=PerfectSeparationWarning)\n",
      "\n"
     ]
    },
    {
     "name": "stdout",
     "output_type": "stream",
     "text": [
      "Model Number: 1022 with model GLM in generation 10 of 10\n",
      "Model Number: 1023 with model DatepartRegression in generation 10 of 10\n",
      "Model Number: 1024 with model LastValueNaive in generation 10 of 10\n",
      "Model Number: 1025 with model Theta in generation 10 of 10\n",
      "Model Number: 1026 with model KalmanStateSpace in generation 10 of 10\n",
      "Model Number: 1027 with model ETS in generation 10 of 10\n",
      "Template Eval Error: Exception('Transformer LocalLinearTrend failed on fit') in model 1027 in generation 10: ETS\n",
      "Model Number: 1028 with model KalmanStateSpace in generation 10 of 10\n",
      "Model Number: 1029 with model LastValueNaive in generation 10 of 10\n",
      "Model Number: 1030 with model ARDL in generation 10 of 10\n",
      "Model Number: 1031 with model ETS in generation 10 of 10\n",
      "Model Number: 1032 with model ETS in generation 10 of 10\n",
      "Model Number: 1033 with model DatepartRegression in generation 10 of 10\n",
      "Model Number: 1034 with model KalmanStateSpace in generation 10 of 10\n",
      "Template Eval Error: Exception('Transformer AlignLastValue failed on inverse') in model 1034 in generation 10: KalmanStateSpace\n",
      "Model Number: 1035 with model AverageValueNaive in generation 10 of 10\n",
      "Template Eval Error: Exception('Transformer RegressionFilter failed on fit') in model 1035 in generation 10: AverageValueNaive\n",
      "Model Number: 1036 with model KalmanStateSpace in generation 10 of 10\n",
      "Template Eval Error: Exception('Transformer RegressionFilter failed on fit') in model 1036 in generation 10: KalmanStateSpace\n",
      "Model Number: 1037 with model UnobservedComponents in generation 10 of 10\n"
     ]
    },
    {
     "name": "stderr",
     "output_type": "stream",
     "text": [
      "WARNING - (py.warnings._showwarnmsg) - c:\\Users\\crudek\\AppData\\Local\\anaconda3\\envs\\newpycaret\\lib\\site-packages\\statsmodels\\genmod\\families\\family.py:445: RuntimeWarning: divide by zero encountered in divide\n",
      "  endog_mu = self._clean(endog / mu)\n",
      "\n",
      "WARNING - (py.warnings._showwarnmsg) - c:\\Users\\crudek\\AppData\\Local\\anaconda3\\envs\\newpycaret\\lib\\site-packages\\statsmodels\\genmod\\families\\family.py:143: RuntimeWarning: divide by zero encountered in divide\n",
      "  return 1. / (self.link.deriv(mu)**2 * self.variance(mu))\n",
      "\n",
      "WARNING - (py.warnings._showwarnmsg) - c:\\Users\\crudek\\AppData\\Local\\anaconda3\\envs\\newpycaret\\lib\\site-packages\\autots\\tools\\probabilistic.py:67: RuntimeWarning: invalid value encountered in divide\n",
      "  (prior_mu / prior_sigma**2) + ((n * data_mu) / prior_sigma**2)\n",
      "\n",
      "WARNING - (py.warnings._showwarnmsg) - c:\\Users\\crudek\\AppData\\Local\\anaconda3\\envs\\newpycaret\\lib\\site-packages\\autots\\tools\\probabilistic.py:68: RuntimeWarning: divide by zero encountered in divide\n",
      "  ) / ((1 / prior_sigma**2) + (n / prior_sigma**2))\n",
      "\n"
     ]
    },
    {
     "name": "stdout",
     "output_type": "stream",
     "text": [
      "Model Number: 1038 with model DatepartRegression in generation 10 of 10\n",
      "Template Eval Error: Exception('Transformer RegressionFilter failed on fit') in model 1038 in generation 10: DatepartRegression\n",
      "Model Number: 1039 with model GLM in generation 10 of 10\n",
      "Template Eval Error: ValueError('NaN, inf or invalid value detected in weights, estimation infeasible.') in model 1039 in generation 10: GLM\n",
      "Model Number: 1040 with model SeasonalNaive in generation 10 of 10\n",
      "Template Eval Error: Exception('Transformer DatepartRegression failed on fit') in model 1040 in generation 10: SeasonalNaive\n",
      "Model Number: 1041 with model SeasonalNaive in generation 10 of 10\n",
      "Model Number: 1042 with model ETS in generation 10 of 10\n",
      "ETS error ValueError('Can only dampen the trend component')\n",
      "ETS failed on y with ValueError('Can only dampen the trend component')\n",
      "Model Number: 1043 with model LastValueNaive in generation 10 of 10\n",
      "Template Eval Error: Exception('Transformer LocalLinearTrend failed on fit') in model 1043 in generation 10: LastValueNaive\n",
      "Model Number: 1044 with model DatepartRegression in generation 10 of 10\n",
      "Model Number: 1045 with model UnobservedComponents in generation 10 of 10\n",
      "Model Number: 1046 with model SeasonalityMotif in generation 10 of 10\n",
      "Template Eval Error: ValueError('kth(=4) out of bounds (4)') in model 1046 in generation 10: SeasonalityMotif\n",
      "Model Number: 1047 with model AverageValueNaive in generation 10 of 10\n",
      "Model Number: 1048 with model DatepartRegression in generation 10 of 10\n",
      "Model Number: 1049 with model KalmanStateSpace in generation 10 of 10\n",
      "Model Number: 1050 with model SeasonalNaive in generation 10 of 10\n",
      "Model Number: 1051 with model Ensemble in generation 11 of Ensembles\n"
     ]
    },
    {
     "name": "stderr",
     "output_type": "stream",
     "text": [
      "WARNING - (py.warnings._showwarnmsg) - c:\\Users\\crudek\\AppData\\Local\\anaconda3\\envs\\newpycaret\\lib\\site-packages\\statsmodels\\genmod\\generalized_linear_model.py:813: RuntimeWarning: divide by zero encountered in double_scalars\n",
      "  return np.sum(resid / self.family.variance(mu)) / self.df_resid\n",
      "\n",
      "WARNING - (py.warnings._showwarnmsg) - c:\\Users\\crudek\\AppData\\Local\\anaconda3\\envs\\newpycaret\\lib\\site-packages\\statsmodels\\genmod\\generalized_linear_model.py:1257: PerfectSeparationWarning: Perfect separation or prediction detected, parameter may not be identified\n",
      "  warnings.warn(msg, category=PerfectSeparationWarning)\n",
      "\n",
      "WARNING - (py.warnings._showwarnmsg) - c:\\Users\\crudek\\AppData\\Local\\anaconda3\\envs\\newpycaret\\lib\\site-packages\\statsmodels\\genmod\\generalized_linear_model.py:1257: PerfectSeparationWarning: Perfect separation or prediction detected, parameter may not be identified\n",
      "  warnings.warn(msg, category=PerfectSeparationWarning)\n",
      "\n"
     ]
    },
    {
     "name": "stdout",
     "output_type": "stream",
     "text": [
      "Model Number: 1052 with model Ensemble in generation 11 of Ensembles\n"
     ]
    },
    {
     "name": "stderr",
     "output_type": "stream",
     "text": [
      "WARNING - (py.warnings._showwarnmsg) - c:\\Users\\crudek\\AppData\\Local\\anaconda3\\envs\\newpycaret\\lib\\site-packages\\statsmodels\\genmod\\generalized_linear_model.py:813: RuntimeWarning: divide by zero encountered in double_scalars\n",
      "  return np.sum(resid / self.family.variance(mu)) / self.df_resid\n",
      "\n",
      "WARNING - (py.warnings._showwarnmsg) - c:\\Users\\crudek\\AppData\\Local\\anaconda3\\envs\\newpycaret\\lib\\site-packages\\statsmodels\\genmod\\generalized_linear_model.py:1257: PerfectSeparationWarning: Perfect separation or prediction detected, parameter may not be identified\n",
      "  warnings.warn(msg, category=PerfectSeparationWarning)\n",
      "\n",
      "WARNING - (py.warnings._showwarnmsg) - c:\\Users\\crudek\\AppData\\Local\\anaconda3\\envs\\newpycaret\\lib\\site-packages\\statsmodels\\genmod\\generalized_linear_model.py:1257: PerfectSeparationWarning: Perfect separation or prediction detected, parameter may not be identified\n",
      "  warnings.warn(msg, category=PerfectSeparationWarning)\n",
      "\n",
      "WARNING - (py.warnings._showwarnmsg) - c:\\Users\\crudek\\AppData\\Local\\anaconda3\\envs\\newpycaret\\lib\\site-packages\\statsmodels\\genmod\\generalized_linear_model.py:1257: PerfectSeparationWarning: Perfect separation or prediction detected, parameter may not be identified\n",
      "  warnings.warn(msg, category=PerfectSeparationWarning)\n",
      "\n",
      "WARNING - (py.warnings._showwarnmsg) - c:\\Users\\crudek\\AppData\\Local\\anaconda3\\envs\\newpycaret\\lib\\site-packages\\statsmodels\\genmod\\generalized_linear_model.py:1257: PerfectSeparationWarning: Perfect separation or prediction detected, parameter may not be identified\n",
      "  warnings.warn(msg, category=PerfectSeparationWarning)\n",
      "\n"
     ]
    },
    {
     "name": "stdout",
     "output_type": "stream",
     "text": [
      "Model Number: 1053 with model Ensemble in generation 11 of Ensembles\n"
     ]
    },
    {
     "name": "stderr",
     "output_type": "stream",
     "text": [
      "WARNING - (py.warnings._showwarnmsg) - c:\\Users\\crudek\\AppData\\Local\\anaconda3\\envs\\newpycaret\\lib\\site-packages\\statsmodels\\genmod\\generalized_linear_model.py:813: RuntimeWarning: divide by zero encountered in double_scalars\n",
      "  return np.sum(resid / self.family.variance(mu)) / self.df_resid\n",
      "\n"
     ]
    },
    {
     "name": "stdout",
     "output_type": "stream",
     "text": [
      "Model Number: 1054 with model Ensemble in generation 11 of Ensembles\n"
     ]
    },
    {
     "name": "stderr",
     "output_type": "stream",
     "text": [
      "WARNING - (py.warnings._showwarnmsg) - c:\\Users\\crudek\\AppData\\Local\\anaconda3\\envs\\newpycaret\\lib\\site-packages\\statsmodels\\genmod\\generalized_linear_model.py:813: RuntimeWarning: divide by zero encountered in double_scalars\n",
      "  return np.sum(resid / self.family.variance(mu)) / self.df_resid\n",
      "\n"
     ]
    },
    {
     "name": "stdout",
     "output_type": "stream",
     "text": [
      "Model Number: 1055 with model Ensemble in generation 11 of Ensembles\n"
     ]
    },
    {
     "name": "stderr",
     "output_type": "stream",
     "text": [
      "WARNING - (py.warnings._showwarnmsg) - c:\\Users\\crudek\\AppData\\Local\\anaconda3\\envs\\newpycaret\\lib\\site-packages\\statsmodels\\genmod\\generalized_linear_model.py:813: RuntimeWarning: divide by zero encountered in double_scalars\n",
      "  return np.sum(resid / self.family.variance(mu)) / self.df_resid\n",
      "\n"
     ]
    },
    {
     "name": "stdout",
     "output_type": "stream",
     "text": [
      "Model Number: 1056 with model Ensemble in generation 11 of Ensembles\n"
     ]
    },
    {
     "name": "stderr",
     "output_type": "stream",
     "text": [
      "WARNING - (py.warnings._showwarnmsg) - c:\\Users\\crudek\\AppData\\Local\\anaconda3\\envs\\newpycaret\\lib\\site-packages\\statsmodels\\genmod\\generalized_linear_model.py:813: RuntimeWarning: divide by zero encountered in double_scalars\n",
      "  return np.sum(resid / self.family.variance(mu)) / self.df_resid\n",
      "\n"
     ]
    },
    {
     "name": "stdout",
     "output_type": "stream",
     "text": [
      "Model Number: 1057 with model Ensemble in generation 11 of Ensembles\n"
     ]
    },
    {
     "name": "stderr",
     "output_type": "stream",
     "text": [
      "WARNING - (py.warnings._showwarnmsg) - c:\\Users\\crudek\\AppData\\Local\\anaconda3\\envs\\newpycaret\\lib\\site-packages\\statsmodels\\genmod\\generalized_linear_model.py:813: RuntimeWarning: divide by zero encountered in double_scalars\n",
      "  return np.sum(resid / self.family.variance(mu)) / self.df_resid\n",
      "\n",
      "WARNING - (py.warnings._showwarnmsg) - c:\\Users\\crudek\\AppData\\Local\\anaconda3\\envs\\newpycaret\\lib\\site-packages\\statsmodels\\genmod\\generalized_linear_model.py:813: RuntimeWarning: divide by zero encountered in double_scalars\n",
      "  return np.sum(resid / self.family.variance(mu)) / self.df_resid\n",
      "\n"
     ]
    },
    {
     "name": "stdout",
     "output_type": "stream",
     "text": [
      "Model Number: 1058 with model Ensemble in generation 11 of Ensembles\n",
      "Validation Round: 1\n",
      "Model Number: 1 of 143 with model Ensemble for Validation 1\n"
     ]
    },
    {
     "name": "stderr",
     "output_type": "stream",
     "text": [
      "WARNING - (py.warnings._showwarnmsg) - c:\\Users\\crudek\\AppData\\Local\\anaconda3\\envs\\newpycaret\\lib\\site-packages\\statsmodels\\genmod\\generalized_linear_model.py:813: RuntimeWarning: divide by zero encountered in double_scalars\n",
      "  return np.sum(resid / self.family.variance(mu)) / self.df_resid\n",
      "\n"
     ]
    },
    {
     "name": "stdout",
     "output_type": "stream",
     "text": [
      "📈 1 - Ensemble with avg smape 76.5: \n",
      "Model Number: 2 of 143 with model Ensemble for Validation 1\n"
     ]
    },
    {
     "name": "stderr",
     "output_type": "stream",
     "text": [
      "WARNING - (py.warnings._showwarnmsg) - c:\\Users\\crudek\\AppData\\Local\\anaconda3\\envs\\newpycaret\\lib\\site-packages\\statsmodels\\genmod\\generalized_linear_model.py:813: RuntimeWarning: divide by zero encountered in double_scalars\n",
      "  return np.sum(resid / self.family.variance(mu)) / self.df_resid\n",
      "\n",
      "WARNING - (py.warnings._showwarnmsg) - c:\\Users\\crudek\\AppData\\Local\\anaconda3\\envs\\newpycaret\\lib\\site-packages\\statsmodels\\genmod\\generalized_linear_model.py:1257: PerfectSeparationWarning: Perfect separation or prediction detected, parameter may not be identified\n",
      "  warnings.warn(msg, category=PerfectSeparationWarning)\n",
      "\n",
      "WARNING - (py.warnings._showwarnmsg) - c:\\Users\\crudek\\AppData\\Local\\anaconda3\\envs\\newpycaret\\lib\\site-packages\\statsmodels\\genmod\\generalized_linear_model.py:1257: PerfectSeparationWarning: Perfect separation or prediction detected, parameter may not be identified\n",
      "  warnings.warn(msg, category=PerfectSeparationWarning)\n",
      "\n"
     ]
    },
    {
     "name": "stdout",
     "output_type": "stream",
     "text": [
      "2 - Ensemble with avg smape 91.89: \n",
      "Model Number: 3 of 143 with model Ensemble for Validation 1\n"
     ]
    },
    {
     "name": "stderr",
     "output_type": "stream",
     "text": [
      "WARNING - (py.warnings._showwarnmsg) - c:\\Users\\crudek\\AppData\\Local\\anaconda3\\envs\\newpycaret\\lib\\site-packages\\statsmodels\\genmod\\generalized_linear_model.py:813: RuntimeWarning: divide by zero encountered in double_scalars\n",
      "  return np.sum(resid / self.family.variance(mu)) / self.df_resid\n",
      "\n",
      "WARNING - (py.warnings._showwarnmsg) - c:\\Users\\crudek\\AppData\\Local\\anaconda3\\envs\\newpycaret\\lib\\site-packages\\statsmodels\\genmod\\generalized_linear_model.py:1257: PerfectSeparationWarning: Perfect separation or prediction detected, parameter may not be identified\n",
      "  warnings.warn(msg, category=PerfectSeparationWarning)\n",
      "\n"
     ]
    },
    {
     "name": "stdout",
     "output_type": "stream",
     "text": [
      "3 - Ensemble with avg smape 89.65: \n",
      "Model Number: 4 of 143 with model Ensemble for Validation 1\n"
     ]
    },
    {
     "name": "stderr",
     "output_type": "stream",
     "text": [
      "WARNING - (py.warnings._showwarnmsg) - c:\\Users\\crudek\\AppData\\Local\\anaconda3\\envs\\newpycaret\\lib\\site-packages\\statsmodels\\genmod\\generalized_linear_model.py:813: RuntimeWarning: divide by zero encountered in double_scalars\n",
      "  return np.sum(resid / self.family.variance(mu)) / self.df_resid\n",
      "\n"
     ]
    },
    {
     "name": "stdout",
     "output_type": "stream",
     "text": [
      "4 - Ensemble with avg smape 83.55: \n",
      "Model Number: 5 of 143 with model Ensemble for Validation 1\n"
     ]
    },
    {
     "name": "stderr",
     "output_type": "stream",
     "text": [
      "WARNING - (py.warnings._showwarnmsg) - c:\\Users\\crudek\\AppData\\Local\\anaconda3\\envs\\newpycaret\\lib\\site-packages\\statsmodels\\genmod\\generalized_linear_model.py:813: RuntimeWarning: divide by zero encountered in double_scalars\n",
      "  return np.sum(resid / self.family.variance(mu)) / self.df_resid\n",
      "\n",
      "WARNING - (py.warnings._showwarnmsg) - c:\\Users\\crudek\\AppData\\Local\\anaconda3\\envs\\newpycaret\\lib\\site-packages\\statsmodels\\genmod\\generalized_linear_model.py:813: RuntimeWarning: divide by zero encountered in double_scalars\n",
      "  return np.sum(resid / self.family.variance(mu)) / self.df_resid\n",
      "\n"
     ]
    },
    {
     "name": "stdout",
     "output_type": "stream",
     "text": [
      "5 - Ensemble with avg smape 83.1: \n",
      "Model Number: 6 of 143 with model Ensemble for Validation 1\n",
      "6 - Ensemble with avg smape 83.1: \n",
      "Model Number: 7 of 143 with model DatepartRegression for Validation 1\n",
      "📈 7 - DatepartRegression with avg smape 74.29: \n",
      "Model Number: 8 of 143 with model Ensemble for Validation 1\n"
     ]
    },
    {
     "name": "stderr",
     "output_type": "stream",
     "text": [
      "WARNING - (py.warnings._showwarnmsg) - c:\\Users\\crudek\\AppData\\Local\\anaconda3\\envs\\newpycaret\\lib\\site-packages\\statsmodels\\genmod\\generalized_linear_model.py:813: RuntimeWarning: divide by zero encountered in double_scalars\n",
      "  return np.sum(resid / self.family.variance(mu)) / self.df_resid\n",
      "\n"
     ]
    },
    {
     "name": "stdout",
     "output_type": "stream",
     "text": [
      "8 - Ensemble with avg smape 82.03: \n",
      "Model Number: 9 of 143 with model Ensemble for Validation 1\n"
     ]
    },
    {
     "name": "stderr",
     "output_type": "stream",
     "text": [
      "WARNING - (py.warnings._showwarnmsg) - c:\\Users\\crudek\\AppData\\Local\\anaconda3\\envs\\newpycaret\\lib\\site-packages\\statsmodels\\genmod\\generalized_linear_model.py:813: RuntimeWarning: divide by zero encountered in double_scalars\n",
      "  return np.sum(resid / self.family.variance(mu)) / self.df_resid\n",
      "\n",
      "WARNING - (py.warnings._showwarnmsg) - c:\\Users\\crudek\\AppData\\Local\\anaconda3\\envs\\newpycaret\\lib\\site-packages\\statsmodels\\genmod\\generalized_linear_model.py:813: RuntimeWarning: divide by zero encountered in double_scalars\n",
      "  return np.sum(resid / self.family.variance(mu)) / self.df_resid\n",
      "\n"
     ]
    },
    {
     "name": "stdout",
     "output_type": "stream",
     "text": [
      "9 - Ensemble with avg smape 89.75: \n",
      "Model Number: 10 of 143 with model GLM for Validation 1\n",
      "10 - GLM with avg smape 91.35: \n",
      "Model Number: 11 of 143 with model GLM for Validation 1\n"
     ]
    },
    {
     "name": "stderr",
     "output_type": "stream",
     "text": [
      "WARNING - (py.warnings._showwarnmsg) - c:\\Users\\crudek\\AppData\\Local\\anaconda3\\envs\\newpycaret\\lib\\site-packages\\statsmodels\\genmod\\generalized_linear_model.py:1257: PerfectSeparationWarning: Perfect separation or prediction detected, parameter may not be identified\n",
      "  warnings.warn(msg, category=PerfectSeparationWarning)\n",
      "\n"
     ]
    },
    {
     "name": "stdout",
     "output_type": "stream",
     "text": [
      "11 - GLM with avg smape 84.74: \n",
      "Model Number: 12 of 143 with model GLM for Validation 1\n"
     ]
    },
    {
     "name": "stderr",
     "output_type": "stream",
     "text": [
      "WARNING - (py.warnings._showwarnmsg) - c:\\Users\\crudek\\AppData\\Local\\anaconda3\\envs\\newpycaret\\lib\\site-packages\\statsmodels\\genmod\\generalized_linear_model.py:1257: PerfectSeparationWarning: Perfect separation or prediction detected, parameter may not be identified\n",
      "  warnings.warn(msg, category=PerfectSeparationWarning)\n",
      "\n"
     ]
    },
    {
     "name": "stdout",
     "output_type": "stream",
     "text": [
      "12 - GLM with avg smape 93.89: \n",
      "Model Number: 13 of 143 with model GLM for Validation 1\n"
     ]
    },
    {
     "name": "stderr",
     "output_type": "stream",
     "text": [
      "WARNING - (py.warnings._showwarnmsg) - c:\\Users\\crudek\\AppData\\Local\\anaconda3\\envs\\newpycaret\\lib\\site-packages\\statsmodels\\genmod\\generalized_linear_model.py:813: RuntimeWarning: divide by zero encountered in double_scalars\n",
      "  return np.sum(resid / self.family.variance(mu)) / self.df_resid\n",
      "\n"
     ]
    },
    {
     "name": "stdout",
     "output_type": "stream",
     "text": [
      "13 - GLM with avg smape 93.89: \n",
      "Model Number: 14 of 143 with model GLM for Validation 1\n"
     ]
    },
    {
     "name": "stderr",
     "output_type": "stream",
     "text": [
      "WARNING - (py.warnings._showwarnmsg) - c:\\Users\\crudek\\AppData\\Local\\anaconda3\\envs\\newpycaret\\lib\\site-packages\\statsmodels\\genmod\\generalized_linear_model.py:307: DomainWarning: The InversePower link function does not respect the domain of the Gamma family.\n",
      "  warnings.warn((f\"The {type(family.link).__name__} link function \"\n",
      "\n"
     ]
    },
    {
     "name": "stdout",
     "output_type": "stream",
     "text": [
      "14 - GLM with avg smape 94.14: \n",
      "Model Number: 15 of 143 with model GLM for Validation 1\n"
     ]
    },
    {
     "name": "stderr",
     "output_type": "stream",
     "text": [
      "WARNING - (py.warnings._showwarnmsg) - c:\\Users\\crudek\\AppData\\Local\\anaconda3\\envs\\newpycaret\\lib\\site-packages\\statsmodels\\genmod\\generalized_linear_model.py:813: RuntimeWarning: divide by zero encountered in double_scalars\n",
      "  return np.sum(resid / self.family.variance(mu)) / self.df_resid\n",
      "\n",
      "WARNING - (py.warnings._showwarnmsg) - c:\\Users\\crudek\\AppData\\Local\\anaconda3\\envs\\newpycaret\\lib\\site-packages\\statsmodels\\genmod\\generalized_linear_model.py:307: DomainWarning: The InversePower link function does not respect the domain of the Gamma family.\n",
      "  warnings.warn((f\"The {type(family.link).__name__} link function \"\n",
      "\n"
     ]
    },
    {
     "name": "stdout",
     "output_type": "stream",
     "text": [
      "15 - GLM with avg smape 89.23: \n",
      "Model Number: 16 of 143 with model GLM for Validation 1\n"
     ]
    },
    {
     "name": "stderr",
     "output_type": "stream",
     "text": [
      "WARNING - (py.warnings._showwarnmsg) - c:\\Users\\crudek\\AppData\\Local\\anaconda3\\envs\\newpycaret\\lib\\site-packages\\statsmodels\\genmod\\generalized_linear_model.py:813: RuntimeWarning: divide by zero encountered in double_scalars\n",
      "  return np.sum(resid / self.family.variance(mu)) / self.df_resid\n",
      "\n"
     ]
    },
    {
     "name": "stdout",
     "output_type": "stream",
     "text": [
      "16 - GLM with avg smape 93.83: \n",
      "Model Number: 17 of 143 with model KalmanStateSpace for Validation 1\n",
      "17 - KalmanStateSpace with avg smape 74.88: \n",
      "Model Number: 18 of 143 with model KalmanStateSpace for Validation 1\n",
      "18 - KalmanStateSpace with avg smape 74.86: \n",
      "Model Number: 19 of 143 with model KalmanStateSpace for Validation 1\n",
      "19 - KalmanStateSpace with avg smape 74.86: \n",
      "Model Number: 20 of 143 with model DatepartRegression for Validation 1\n",
      "20 - DatepartRegression with avg smape 91.12: \n",
      "Model Number: 21 of 143 with model DatepartRegression for Validation 1\n",
      "📈 21 - DatepartRegression with avg smape 64.53: \n",
      "Model Number: 22 of 143 with model DatepartRegression for Validation 1\n",
      "22 - DatepartRegression with avg smape 64.53: \n",
      "Model Number: 23 of 143 with model GLM for Validation 1\n"
     ]
    },
    {
     "name": "stderr",
     "output_type": "stream",
     "text": [
      "WARNING - (py.warnings._showwarnmsg) - c:\\Users\\crudek\\AppData\\Local\\anaconda3\\envs\\newpycaret\\lib\\site-packages\\sklearn\\svm\\_base.py:1244: ConvergenceWarning: Liblinear failed to converge, increase the number of iterations.\n",
      "  warnings.warn(\n",
      "\n"
     ]
    },
    {
     "name": "stdout",
     "output_type": "stream",
     "text": [
      "23 - GLM with avg smape 86.6: \n",
      "Model Number: 24 of 143 with model DatepartRegression for Validation 1\n",
      "24 - DatepartRegression with avg smape 72.48: \n",
      "Model Number: 25 of 143 with model LastValueNaive for Validation 1\n",
      "25 - LastValueNaive with avg smape 93.39: \n",
      "Model Number: 26 of 143 with model LastValueNaive for Validation 1\n",
      "26 - LastValueNaive with avg smape 93.39: \n",
      "Model Number: 27 of 143 with model KalmanStateSpace for Validation 1\n",
      "27 - KalmanStateSpace with avg smape 69.05: \n",
      "Model Number: 28 of 143 with model KalmanStateSpace for Validation 1\n",
      "28 - KalmanStateSpace with avg smape 69.44: \n",
      "Model Number: 29 of 143 with model DatepartRegression for Validation 1\n",
      "29 - DatepartRegression with avg smape 74.05: \n",
      "Model Number: 30 of 143 with model DatepartRegression for Validation 1\n",
      "30 - DatepartRegression with avg smape 74.05: \n",
      "Model Number: 31 of 143 with model AverageValueNaive for Validation 1\n",
      "31 - AverageValueNaive with avg smape 78.45: \n",
      "Model Number: 32 of 143 with model AverageValueNaive for Validation 1\n",
      "32 - AverageValueNaive with avg smape 78.45: \n",
      "Model Number: 33 of 143 with model UnobservedComponents for Validation 1\n"
     ]
    },
    {
     "name": "stderr",
     "output_type": "stream",
     "text": [
      "WARNING - (py.warnings._showwarnmsg) - c:\\Users\\crudek\\AppData\\Local\\anaconda3\\envs\\newpycaret\\lib\\site-packages\\statsmodels\\genmod\\generalized_linear_model.py:813: RuntimeWarning: divide by zero encountered in double_scalars\n",
      "  return np.sum(resid / self.family.variance(mu)) / self.df_resid\n",
      "\n"
     ]
    },
    {
     "name": "stdout",
     "output_type": "stream",
     "text": [
      "33 - UnobservedComponents with avg smape 196.17: \n",
      "Model Number: 34 of 143 with model GLM for Validation 1\n",
      "34 - GLM with avg smape 91.49: \n",
      "Model Number: 35 of 143 with model DatepartRegression for Validation 1\n",
      "35 - DatepartRegression with avg smape 76.15: \n",
      "Model Number: 36 of 143 with model DatepartRegression for Validation 1\n",
      "36 - DatepartRegression with avg smape 76.15: \n",
      "Model Number: 37 of 143 with model ETS for Validation 1\n",
      "37 - ETS with avg smape 87.77: \n",
      "Model Number: 38 of 143 with model ETS for Validation 1\n",
      "38 - ETS with avg smape 78.72: \n",
      "Model Number: 39 of 143 with model LastValueNaive for Validation 1\n",
      "39 - LastValueNaive with avg smape 104.64: \n",
      "Model Number: 40 of 143 with model UnobservedComponents for Validation 1\n",
      "40 - UnobservedComponents with avg smape 104.59: \n",
      "Model Number: 41 of 143 with model LastValueNaive for Validation 1\n",
      "41 - LastValueNaive with avg smape 104.59: \n",
      "Model Number: 42 of 143 with model LastValueNaive for Validation 1\n",
      "42 - LastValueNaive with avg smape 104.59: \n",
      "Model Number: 43 of 143 with model LastValueNaive for Validation 1\n",
      "43 - LastValueNaive with avg smape 104.59: \n",
      "Model Number: 44 of 143 with model UnobservedComponents for Validation 1\n",
      "44 - UnobservedComponents with avg smape 185.09: \n",
      "Model Number: 45 of 143 with model LastValueNaive for Validation 1\n",
      "45 - LastValueNaive with avg smape 104.41: \n",
      "Model Number: 46 of 143 with model LastValueNaive for Validation 1\n",
      "46 - LastValueNaive with avg smape 87.42: \n",
      "Model Number: 47 of 143 with model ARDL for Validation 1\n",
      "47 - ARDL with avg smape 97.26: \n",
      "Model Number: 48 of 143 with model ETS for Validation 1\n",
      "ETS error ValueError('Can only dampen the trend component')\n",
      "ETS failed on y with ValueError('Can only dampen the trend component')\n"
     ]
    },
    {
     "name": "stderr",
     "output_type": "stream",
     "text": [
      "WARNING - (py.warnings._showwarnmsg) - c:\\Users\\crudek\\AppData\\Local\\anaconda3\\envs\\newpycaret\\lib\\site-packages\\sklearn\\decomposition\\_fastica.py:708: FutureWarning: Starting in v1.3, whiten=True should be specified as whiten='arbitrary-variance' (its current behaviour). This behavior is deprecated in 1.1 and will raise ValueError in 1.3.\n",
      "  return self._fit_transform(X, compute_sources=True)\n",
      "\n"
     ]
    },
    {
     "name": "stdout",
     "output_type": "stream",
     "text": [
      "48 - ETS with avg smape 89.69: \n",
      "Model Number: 49 of 143 with model AverageValueNaive for Validation 1\n",
      "49 - AverageValueNaive with avg smape 74.08: \n",
      "Model Number: 50 of 143 with model AverageValueNaive for Validation 1\n"
     ]
    },
    {
     "name": "stderr",
     "output_type": "stream",
     "text": [
      "WARNING - (py.warnings._showwarnmsg) - c:\\Users\\crudek\\AppData\\Local\\anaconda3\\envs\\newpycaret\\lib\\site-packages\\sklearn\\decomposition\\_fastica.py:708: FutureWarning: Starting in v1.3, whiten=True should be specified as whiten='arbitrary-variance' (its current behaviour). This behavior is deprecated in 1.1 and will raise ValueError in 1.3.\n",
      "  return self._fit_transform(X, compute_sources=True)\n",
      "\n"
     ]
    },
    {
     "name": "stdout",
     "output_type": "stream",
     "text": [
      "50 - AverageValueNaive with avg smape 74.08: \n",
      "Model Number: 51 of 143 with model AverageValueNaive for Validation 1\n",
      "📈 51 - AverageValueNaive with avg smape 61.29: \n",
      "Model Number: 52 of 143 with model GLS for Validation 1\n",
      "52 - GLS with avg smape 88.68: \n",
      "Model Number: 53 of 143 with model SeasonalNaive for Validation 1\n",
      "53 - SeasonalNaive with avg smape 111.73: \n",
      "Model Number: 54 of 143 with model SeasonalNaive for Validation 1\n",
      "54 - SeasonalNaive with avg smape 111.73: \n",
      "Model Number: 55 of 143 with model GLS for Validation 1\n"
     ]
    },
    {
     "name": "stderr",
     "output_type": "stream",
     "text": [
      "WARNING - (py.warnings._showwarnmsg) - c:\\Users\\crudek\\AppData\\Local\\anaconda3\\envs\\newpycaret\\lib\\site-packages\\sklearn\\decomposition\\_fastica.py:708: FutureWarning: Starting in v1.3, whiten=True should be specified as whiten='arbitrary-variance' (its current behaviour). This behavior is deprecated in 1.1 and will raise ValueError in 1.3.\n",
      "  return self._fit_transform(X, compute_sources=True)\n",
      "\n"
     ]
    },
    {
     "name": "stdout",
     "output_type": "stream",
     "text": [
      "55 - GLS with avg smape 94.35: \n",
      "Model Number: 56 of 143 with model AverageValueNaive for Validation 1\n",
      "56 - AverageValueNaive with avg smape 63.19: \n",
      "Model Number: 57 of 143 with model GLS for Validation 1\n",
      "57 - GLS with avg smape 90.5: \n",
      "Model Number: 58 of 143 with model ARDL for Validation 1\n",
      "58 - ARDL with avg smape 78.72: \n",
      "Model Number: 59 of 143 with model KalmanStateSpace for Validation 1\n",
      "59 - KalmanStateSpace with avg smape 85.53: \n",
      "Model Number: 60 of 143 with model AverageValueNaive for Validation 1\n",
      "60 - AverageValueNaive with avg smape 74.08: \n",
      "Model Number: 61 of 143 with model UnobservedComponents for Validation 1\n",
      "61 - UnobservedComponents with avg smape 68.49: \n",
      "Model Number: 62 of 143 with model ETS for Validation 1\n",
      "ETS error ValueError('Can only dampen the trend component')\n",
      "ETS failed on y with ValueError('Can only dampen the trend component')\n",
      "62 - ETS with avg smape 84.43: \n",
      "Model Number: 63 of 143 with model ETS for Validation 1\n"
     ]
    },
    {
     "name": "stderr",
     "output_type": "stream",
     "text": [
      "WARNING - (py.warnings._showwarnmsg) - c:\\Users\\crudek\\AppData\\Local\\anaconda3\\envs\\newpycaret\\lib\\site-packages\\sklearn\\decomposition\\_fastica.py:708: FutureWarning: Starting in v1.3, whiten=True should be specified as whiten='arbitrary-variance' (its current behaviour). This behavior is deprecated in 1.1 and will raise ValueError in 1.3.\n",
      "  return self._fit_transform(X, compute_sources=True)\n",
      "\n"
     ]
    },
    {
     "name": "stdout",
     "output_type": "stream",
     "text": [
      "63 - ETS with avg smape 80.39: \n",
      "Model Number: 64 of 143 with model AverageValueNaive for Validation 1\n"
     ]
    },
    {
     "name": "stderr",
     "output_type": "stream",
     "text": [
      "WARNING - (py.warnings._showwarnmsg) - c:\\Users\\crudek\\AppData\\Local\\anaconda3\\envs\\newpycaret\\lib\\site-packages\\sklearn\\decomposition\\_fastica.py:708: FutureWarning: Starting in v1.3, whiten=True should be specified as whiten='arbitrary-variance' (its current behaviour). This behavior is deprecated in 1.1 and will raise ValueError in 1.3.\n",
      "  return self._fit_transform(X, compute_sources=True)\n",
      "\n"
     ]
    },
    {
     "name": "stdout",
     "output_type": "stream",
     "text": [
      "64 - AverageValueNaive with avg smape 84.96: \n",
      "Model Number: 65 of 143 with model AverageValueNaive for Validation 1\n",
      "65 - AverageValueNaive with avg smape 84.54: \n",
      "Model Number: 66 of 143 with model KalmanStateSpace for Validation 1\n",
      "66 - KalmanStateSpace with avg smape 72.99: \n",
      "Model Number: 67 of 143 with model KalmanStateSpace for Validation 1\n",
      "67 - KalmanStateSpace with avg smape 75.06: \n",
      "Model Number: 68 of 143 with model SeasonalityMotif for Validation 1\n",
      "Template Eval Error: ValueError('kth(=4) out of bounds (1)') in model 68 in generation 0: SeasonalityMotif\n",
      "Model Number: 69 of 143 with model GLS for Validation 1\n",
      "69 - GLS with avg smape 84.92: \n",
      "Model Number: 70 of 143 with model GLS for Validation 1\n",
      "70 - GLS with avg smape 84.92: \n",
      "Model Number: 71 of 143 with model GLS for Validation 1\n",
      "71 - GLS with avg smape 84.93: \n",
      "Model Number: 72 of 143 with model GLS for Validation 1\n",
      "72 - GLS with avg smape 84.97: \n",
      "Model Number: 73 of 143 with model SeasonalityMotif for Validation 1\n",
      "Template Eval Error: ValueError('window shape cannot be larger than input array shape') in model 73 in generation 0: SeasonalityMotif\n",
      "Model Number: 74 of 143 with model GLS for Validation 1\n",
      "74 - GLS with avg smape 84.48: \n",
      "Model Number: 75 of 143 with model Theta for Validation 1\n",
      "75 - Theta with avg smape 91.3: \n",
      "Model Number: 76 of 143 with model Theta for Validation 1\n",
      "76 - Theta with avg smape 91.3: \n",
      "Model Number: 77 of 143 with model Theta for Validation 1\n",
      "77 - Theta with avg smape 91.3: \n",
      "Model Number: 78 of 143 with model SeasonalNaive for Validation 1\n",
      "78 - SeasonalNaive with avg smape 118.39: \n",
      "Model Number: 79 of 143 with model SeasonalNaive for Validation 1\n",
      "79 - SeasonalNaive with avg smape 118.39: \n",
      "Model Number: 80 of 143 with model SeasonalNaive for Validation 1\n",
      "80 - SeasonalNaive with avg smape 118.39: \n",
      "Model Number: 81 of 143 with model ETS for Validation 1\n",
      "81 - ETS with avg smape 85.83: \n",
      "Model Number: 82 of 143 with model LastValueNaive for Validation 1\n",
      "82 - LastValueNaive with avg smape 89.72: \n",
      "Model Number: 83 of 143 with model UnobservedComponents for Validation 1\n",
      "83 - UnobservedComponents with avg smape 84.72: \n",
      "Model Number: 84 of 143 with model UnobservedComponents for Validation 1\n",
      "Template Eval Error: ValueError(\"'shape' elements cannot be negative\") in model 84 in generation 0: UnobservedComponents\n",
      "Model Number: 85 of 143 with model KalmanStateSpace for Validation 1\n",
      "85 - KalmanStateSpace with avg smape 62.36: \n",
      "Model Number: 86 of 143 with model UnobservedComponents for Validation 1\n",
      "86 - UnobservedComponents with avg smape 91.52: \n",
      "Model Number: 87 of 143 with model UnobservedComponents for Validation 1\n",
      "87 - UnobservedComponents with avg smape 91.52: \n",
      "Model Number: 88 of 143 with model UnobservedComponents for Validation 1\n",
      "88 - UnobservedComponents with avg smape 91.52: \n",
      "Model Number: 89 of 143 with model Theta for Validation 1\n",
      "89 - Theta with avg smape 91.49: \n",
      "Model Number: 90 of 143 with model Theta for Validation 1\n",
      "90 - Theta with avg smape 91.49: \n",
      "Model Number: 91 of 143 with model GLS for Validation 1\n",
      "91 - GLS with avg smape 84.12: \n",
      "Model Number: 92 of 143 with model Theta for Validation 1\n",
      "92 - Theta with avg smape 91.59: \n",
      "Model Number: 93 of 143 with model ETS for Validation 1\n",
      "93 - ETS with avg smape 91.12: \n",
      "Model Number: 94 of 143 with model ETS for Validation 1\n",
      "94 - ETS with avg smape 91.12: \n",
      "Model Number: 95 of 143 with model ETS for Validation 1\n",
      "95 - ETS with avg smape 91.12: \n",
      "Model Number: 96 of 143 with model SeasonalNaive for Validation 1\n",
      "96 - SeasonalNaive with avg smape 95.45: \n",
      "Model Number: 97 of 143 with model SeasonalNaive for Validation 1\n",
      "97 - SeasonalNaive with avg smape 114.07: \n",
      "Model Number: 98 of 143 with model SeasonalNaive for Validation 1\n",
      "98 - SeasonalNaive with avg smape 114.07: \n",
      "Model Number: 99 of 143 with model ConstantNaive for Validation 1\n",
      "99 - ConstantNaive with avg smape 84.11: \n",
      "Model Number: 100 of 143 with model SeasonalNaive for Validation 1\n",
      "100 - SeasonalNaive with avg smape 87.33: \n",
      "Model Number: 101 of 143 with model ConstantNaive for Validation 1\n",
      "101 - ConstantNaive with avg smape 84.44: \n",
      "Model Number: 102 of 143 with model ARDL for Validation 1\n",
      "102 - ARDL with avg smape 79.88: \n",
      "Model Number: 103 of 143 with model SeasonalityMotif for Validation 1\n",
      "Template Eval Error: ValueError('window shape cannot be larger than input array shape') in model 103 in generation 0: SeasonalityMotif\n",
      "Model Number: 104 of 143 with model Theta for Validation 1\n",
      "104 - Theta with avg smape 82.55: \n",
      "Model Number: 105 of 143 with model ARDL for Validation 1\n",
      "105 - ARDL with avg smape 93.41: \n",
      "Model Number: 106 of 143 with model ARIMA for Validation 1\n",
      "106 - ARIMA with avg smape 74.35: \n",
      "Model Number: 107 of 143 with model ARIMA for Validation 1\n",
      "107 - ARIMA with avg smape 91.45: \n",
      "Model Number: 108 of 143 with model FBProphet for Validation 1\n"
     ]
    },
    {
     "name": "stderr",
     "output_type": "stream",
     "text": [
      "14:58:59 - cmdstanpy - INFO - Chain [1] start processing\n",
      "14:58:59 - cmdstanpy - INFO - Chain [1] done processing\n"
     ]
    },
    {
     "name": "stdout",
     "output_type": "stream",
     "text": [
      "108 - FBProphet with avg smape 90.63: \n",
      "Model Number: 109 of 143 with model SeasonalityMotif for Validation 1\n",
      "Template Eval Error: ValueError('kth(=4) out of bounds (1)') in model 109 in generation 0: SeasonalityMotif\n",
      "Model Number: 110 of 143 with model ARIMA for Validation 1\n",
      "110 - ARIMA with avg smape 72.06: \n",
      "Model Number: 111 of 143 with model FBProphet for Validation 1\n"
     ]
    },
    {
     "name": "stderr",
     "output_type": "stream",
     "text": [
      "14:59:00 - cmdstanpy - INFO - Chain [1] start processing\n",
      "14:59:00 - cmdstanpy - INFO - Chain [1] done processing\n"
     ]
    },
    {
     "name": "stdout",
     "output_type": "stream",
     "text": [
      "111 - FBProphet with avg smape 69.88: \n",
      "Model Number: 112 of 143 with model ConstantNaive for Validation 1\n",
      "112 - ConstantNaive with avg smape 82.92: \n",
      "Model Number: 113 of 143 with model ARIMA for Validation 1\n",
      "113 - ARIMA with avg smape 71.85: \n",
      "Model Number: 114 of 143 with model ARDL for Validation 1\n",
      "114 - ARDL with avg smape 70.55: \n",
      "Model Number: 115 of 143 with model ConstantNaive for Validation 1\n",
      "115 - ConstantNaive with avg smape 114.41: \n",
      "Model Number: 116 of 143 with model Theta for Validation 1\n",
      "116 - Theta with avg smape 91.3: \n",
      "Model Number: 117 of 143 with model Theta for Validation 1\n",
      "117 - Theta with avg smape 91.2: \n",
      "Model Number: 118 of 143 with model ARIMA for Validation 1\n",
      "118 - ARIMA with avg smape 75.97: \n",
      "Model Number: 119 of 143 with model ConstantNaive for Validation 1\n",
      "119 - ConstantNaive with avg smape 97.42: \n",
      "Model Number: 120 of 143 with model ARDL for Validation 1\n",
      "120 - ARDL with avg smape 75.96: \n",
      "Model Number: 121 of 143 with model ARIMA for Validation 1\n",
      "121 - ARIMA with avg smape 92.78: \n",
      "Model Number: 122 of 143 with model SeasonalityMotif for Validation 1\n",
      "Template Eval Error: ValueError('window shape cannot be larger than input array shape') in model 122 in generation 0: SeasonalityMotif\n",
      "Model Number: 123 of 143 with model SeasonalityMotif for Validation 1\n",
      "Template Eval Error: ValueError('kth(=4) out of bounds (1)') in model 123 in generation 0: SeasonalityMotif\n",
      "Model Number: 124 of 143 with model ARIMA for Validation 1\n",
      "124 - ARIMA with avg smape 87.19: \n",
      "Model Number: 125 of 143 with model ARDL for Validation 1\n",
      "125 - ARDL with avg smape 90.87: \n",
      "Model Number: 126 of 143 with model ARIMA for Validation 1\n",
      "126 - ARIMA with avg smape 82.53: \n",
      "Model Number: 127 of 143 with model SeasonalityMotif for Validation 1\n",
      "Template Eval Error: ValueError('window shape cannot be larger than input array shape') in model 127 in generation 0: SeasonalityMotif\n",
      "Model Number: 128 of 143 with model ARIMA for Validation 1\n",
      "128 - ARIMA with avg smape 92.13: \n",
      "Model Number: 129 of 143 with model ARDL for Validation 1\n"
     ]
    },
    {
     "name": "stderr",
     "output_type": "stream",
     "text": [
      "WARNING - (py.warnings._showwarnmsg) - c:\\Users\\crudek\\AppData\\Local\\anaconda3\\envs\\newpycaret\\lib\\site-packages\\statsmodels\\regression\\linear_model.py:1716: RuntimeWarning: divide by zero encountered in double_scalars\n",
      "  return np.dot(wresid, wresid) / self.df_resid\n",
      "\n"
     ]
    },
    {
     "name": "stdout",
     "output_type": "stream",
     "text": [
      "129 - ARDL with avg smape 86.54: \n",
      "Model Number: 130 of 143 with model SeasonalityMotif for Validation 1\n",
      "Template Eval Error: ValueError('window shape cannot be larger than input array shape') in model 130 in generation 0: SeasonalityMotif\n",
      "Model Number: 131 of 143 with model ConstantNaive for Validation 1\n",
      "131 - ConstantNaive with avg smape 94.93: \n",
      "Model Number: 132 of 143 with model ConstantNaive for Validation 1\n",
      "132 - ConstantNaive with avg smape 94.93: \n",
      "Model Number: 133 of 143 with model ARDL for Validation 1\n"
     ]
    },
    {
     "name": "stderr",
     "output_type": "stream",
     "text": [
      "WARNING - (py.warnings._showwarnmsg) - c:\\Users\\crudek\\AppData\\Local\\anaconda3\\envs\\newpycaret\\lib\\site-packages\\statsmodels\\regression\\linear_model.py:1716: RuntimeWarning: divide by zero encountered in double_scalars\n",
      "  return np.dot(wresid, wresid) / self.df_resid\n",
      "\n"
     ]
    },
    {
     "name": "stdout",
     "output_type": "stream",
     "text": [
      "133 - ARDL with avg smape 96.87: \n",
      "Model Number: 134 of 143 with model FBProphet for Validation 1\n"
     ]
    },
    {
     "name": "stderr",
     "output_type": "stream",
     "text": [
      "14:59:02 - cmdstanpy - INFO - Chain [1] start processing\n",
      "14:59:02 - cmdstanpy - INFO - Chain [1] done processing\n"
     ]
    },
    {
     "name": "stdout",
     "output_type": "stream",
     "text": [
      "134 - FBProphet with avg smape 91.23: \n",
      "Model Number: 135 of 143 with model ConstantNaive for Validation 1\n"
     ]
    },
    {
     "name": "stderr",
     "output_type": "stream",
     "text": [
      "14:59:03 - cmdstanpy - INFO - Chain [1] start processing\n"
     ]
    },
    {
     "name": "stdout",
     "output_type": "stream",
     "text": [
      "135 - ConstantNaive with avg smape 94.93: \n",
      "Model Number: 136 of 143 with model FBProphet for Validation 1\n"
     ]
    },
    {
     "name": "stderr",
     "output_type": "stream",
     "text": [
      "14:59:03 - cmdstanpy - INFO - Chain [1] done processing\n"
     ]
    },
    {
     "name": "stdout",
     "output_type": "stream",
     "text": [
      "136 - FBProphet with avg smape 72.52: \n",
      "Model Number: 137 of 143 with model ConstantNaive for Validation 1\n",
      "137 - ConstantNaive with avg smape 94.93: \n",
      "Model Number: 138 of 143 with model SeasonalityMotif for Validation 1\n",
      "Template Eval Error: ValueError('kth(=4) out of bounds (1)') in model 138 in generation 0: SeasonalityMotif\n",
      "Model Number: 139 of 143 with model FBProphet for Validation 1\n"
     ]
    },
    {
     "name": "stderr",
     "output_type": "stream",
     "text": [
      "14:59:03 - cmdstanpy - INFO - Chain [1] start processing\n",
      "14:59:03 - cmdstanpy - INFO - Chain [1] done processing\n",
      "14:59:03 - cmdstanpy - INFO - Chain [1] start processing\n"
     ]
    },
    {
     "name": "stdout",
     "output_type": "stream",
     "text": [
      "139 - FBProphet with avg smape 66.72: \n",
      "Model Number: 140 of 143 with model FBProphet for Validation 1\n"
     ]
    },
    {
     "name": "stderr",
     "output_type": "stream",
     "text": [
      "14:59:04 - cmdstanpy - INFO - Chain [1] done processing\n",
      "14:59:04 - cmdstanpy - INFO - Chain [1] start processing\n",
      "14:59:04 - cmdstanpy - INFO - Chain [1] done processing\n"
     ]
    },
    {
     "name": "stdout",
     "output_type": "stream",
     "text": [
      "140 - FBProphet with avg smape 81.65: \n",
      "Model Number: 141 of 143 with model FBProphet for Validation 1\n"
     ]
    },
    {
     "name": "stderr",
     "output_type": "stream",
     "text": [
      "14:59:04 - cmdstanpy - INFO - Chain [1] start processing\n"
     ]
    },
    {
     "name": "stdout",
     "output_type": "stream",
     "text": [
      "141 - FBProphet with avg smape 65.82: \n",
      "Model Number: 142 of 143 with model FBProphet for Validation 1\n"
     ]
    },
    {
     "name": "stderr",
     "output_type": "stream",
     "text": [
      "14:59:04 - cmdstanpy - INFO - Chain [1] done processing\n",
      "14:59:04 - cmdstanpy - INFO - Chain [1] start processing\n"
     ]
    },
    {
     "name": "stdout",
     "output_type": "stream",
     "text": [
      "142 - FBProphet with avg smape 67.93: \n",
      "Model Number: 143 of 143 with model FBProphet for Validation 1\n"
     ]
    },
    {
     "name": "stderr",
     "output_type": "stream",
     "text": [
      "14:59:04 - cmdstanpy - INFO - Chain [1] done processing\n"
     ]
    },
    {
     "name": "stdout",
     "output_type": "stream",
     "text": [
      "143 - FBProphet with avg smape 66.82: \n",
      "Validation Round: 2\n",
      "Model Number: 1 of 143 with model Ensemble for Validation 2\n"
     ]
    },
    {
     "name": "stderr",
     "output_type": "stream",
     "text": [
      "WARNING - (py.warnings._showwarnmsg) - c:\\Users\\crudek\\AppData\\Local\\anaconda3\\envs\\newpycaret\\lib\\site-packages\\statsmodels\\genmod\\generalized_linear_model.py:813: RuntimeWarning: divide by zero encountered in double_scalars\n",
      "  return np.sum(resid / self.family.variance(mu)) / self.df_resid\n",
      "\n"
     ]
    },
    {
     "name": "stdout",
     "output_type": "stream",
     "text": [
      "📈 1 - Ensemble with avg smape 87.15: \n",
      "Model Number: 2 of 143 with model Ensemble for Validation 2\n"
     ]
    },
    {
     "name": "stderr",
     "output_type": "stream",
     "text": [
      "WARNING - (py.warnings._showwarnmsg) - c:\\Users\\crudek\\AppData\\Local\\anaconda3\\envs\\newpycaret\\lib\\site-packages\\statsmodels\\genmod\\generalized_linear_model.py:813: RuntimeWarning: divide by zero encountered in double_scalars\n",
      "  return np.sum(resid / self.family.variance(mu)) / self.df_resid\n",
      "\n",
      "WARNING - (py.warnings._showwarnmsg) - c:\\Users\\crudek\\AppData\\Local\\anaconda3\\envs\\newpycaret\\lib\\site-packages\\statsmodels\\genmod\\generalized_linear_model.py:1257: PerfectSeparationWarning: Perfect separation or prediction detected, parameter may not be identified\n",
      "  warnings.warn(msg, category=PerfectSeparationWarning)\n",
      "\n",
      "WARNING - (py.warnings._showwarnmsg) - c:\\Users\\crudek\\AppData\\Local\\anaconda3\\envs\\newpycaret\\lib\\site-packages\\statsmodels\\genmod\\generalized_linear_model.py:1257: PerfectSeparationWarning: Perfect separation or prediction detected, parameter may not be identified\n",
      "  warnings.warn(msg, category=PerfectSeparationWarning)\n",
      "\n",
      "WARNING - (py.warnings._showwarnmsg) - c:\\Users\\crudek\\AppData\\Local\\anaconda3\\envs\\newpycaret\\lib\\site-packages\\statsmodels\\genmod\\generalized_linear_model.py:1257: PerfectSeparationWarning: Perfect separation or prediction detected, parameter may not be identified\n",
      "  warnings.warn(msg, category=PerfectSeparationWarning)\n",
      "\n",
      "WARNING - (py.warnings._showwarnmsg) - c:\\Users\\crudek\\AppData\\Local\\anaconda3\\envs\\newpycaret\\lib\\site-packages\\statsmodels\\genmod\\generalized_linear_model.py:1257: PerfectSeparationWarning: Perfect separation or prediction detected, parameter may not be identified\n",
      "  warnings.warn(msg, category=PerfectSeparationWarning)\n",
      "\n"
     ]
    },
    {
     "name": "stdout",
     "output_type": "stream",
     "text": [
      "📈 2 - Ensemble with avg smape 63.57: \n",
      "Model Number: 3 of 143 with model Ensemble for Validation 2\n"
     ]
    },
    {
     "name": "stderr",
     "output_type": "stream",
     "text": [
      "WARNING - (py.warnings._showwarnmsg) - c:\\Users\\crudek\\AppData\\Local\\anaconda3\\envs\\newpycaret\\lib\\site-packages\\statsmodels\\genmod\\generalized_linear_model.py:813: RuntimeWarning: divide by zero encountered in double_scalars\n",
      "  return np.sum(resid / self.family.variance(mu)) / self.df_resid\n",
      "\n",
      "WARNING - (py.warnings._showwarnmsg) - c:\\Users\\crudek\\AppData\\Local\\anaconda3\\envs\\newpycaret\\lib\\site-packages\\statsmodels\\genmod\\generalized_linear_model.py:1257: PerfectSeparationWarning: Perfect separation or prediction detected, parameter may not be identified\n",
      "  warnings.warn(msg, category=PerfectSeparationWarning)\n",
      "\n",
      "WARNING - (py.warnings._showwarnmsg) - c:\\Users\\crudek\\AppData\\Local\\anaconda3\\envs\\newpycaret\\lib\\site-packages\\statsmodels\\genmod\\generalized_linear_model.py:1257: PerfectSeparationWarning: Perfect separation or prediction detected, parameter may not be identified\n",
      "  warnings.warn(msg, category=PerfectSeparationWarning)\n",
      "\n"
     ]
    },
    {
     "name": "stdout",
     "output_type": "stream",
     "text": [
      "3 - Ensemble with avg smape 65.17: \n",
      "Model Number: 4 of 143 with model Ensemble for Validation 2\n"
     ]
    },
    {
     "name": "stderr",
     "output_type": "stream",
     "text": [
      "WARNING - (py.warnings._showwarnmsg) - c:\\Users\\crudek\\AppData\\Local\\anaconda3\\envs\\newpycaret\\lib\\site-packages\\statsmodels\\genmod\\generalized_linear_model.py:813: RuntimeWarning: divide by zero encountered in double_scalars\n",
      "  return np.sum(resid / self.family.variance(mu)) / self.df_resid\n",
      "\n"
     ]
    },
    {
     "name": "stdout",
     "output_type": "stream",
     "text": [
      "📈 4 - Ensemble with avg smape 47.07: \n",
      "Model Number: 5 of 143 with model Ensemble for Validation 2\n"
     ]
    },
    {
     "name": "stderr",
     "output_type": "stream",
     "text": [
      "WARNING - (py.warnings._showwarnmsg) - c:\\Users\\crudek\\AppData\\Local\\anaconda3\\envs\\newpycaret\\lib\\site-packages\\statsmodels\\genmod\\generalized_linear_model.py:813: RuntimeWarning: divide by zero encountered in double_scalars\n",
      "  return np.sum(resid / self.family.variance(mu)) / self.df_resid\n",
      "\n",
      "WARNING - (py.warnings._showwarnmsg) - c:\\Users\\crudek\\AppData\\Local\\anaconda3\\envs\\newpycaret\\lib\\site-packages\\statsmodels\\genmod\\generalized_linear_model.py:813: RuntimeWarning: divide by zero encountered in double_scalars\n",
      "  return np.sum(resid / self.family.variance(mu)) / self.df_resid\n",
      "\n"
     ]
    },
    {
     "name": "stdout",
     "output_type": "stream",
     "text": [
      "📈 5 - Ensemble with avg smape 45.76: \n",
      "Model Number: 6 of 143 with model Ensemble for Validation 2\n",
      "6 - Ensemble with avg smape 45.76: \n",
      "Model Number: 7 of 143 with model DatepartRegression for Validation 2\n",
      "7 - DatepartRegression with avg smape 72.01: \n",
      "Model Number: 8 of 143 with model Ensemble for Validation 2\n"
     ]
    },
    {
     "name": "stderr",
     "output_type": "stream",
     "text": [
      "WARNING - (py.warnings._showwarnmsg) - c:\\Users\\crudek\\AppData\\Local\\anaconda3\\envs\\newpycaret\\lib\\site-packages\\statsmodels\\genmod\\generalized_linear_model.py:813: RuntimeWarning: divide by zero encountered in double_scalars\n",
      "  return np.sum(resid / self.family.variance(mu)) / self.df_resid\n",
      "\n"
     ]
    },
    {
     "name": "stdout",
     "output_type": "stream",
     "text": [
      "📈 8 - Ensemble with avg smape 40.41: \n",
      "Model Number: 9 of 143 with model Ensemble for Validation 2\n"
     ]
    },
    {
     "name": "stderr",
     "output_type": "stream",
     "text": [
      "WARNING - (py.warnings._showwarnmsg) - c:\\Users\\crudek\\AppData\\Local\\anaconda3\\envs\\newpycaret\\lib\\site-packages\\statsmodels\\genmod\\generalized_linear_model.py:813: RuntimeWarning: divide by zero encountered in double_scalars\n",
      "  return np.sum(resid / self.family.variance(mu)) / self.df_resid\n",
      "\n",
      "WARNING - (py.warnings._showwarnmsg) - c:\\Users\\crudek\\AppData\\Local\\anaconda3\\envs\\newpycaret\\lib\\site-packages\\statsmodels\\genmod\\generalized_linear_model.py:813: RuntimeWarning: divide by zero encountered in double_scalars\n",
      "  return np.sum(resid / self.family.variance(mu)) / self.df_resid\n",
      "\n"
     ]
    },
    {
     "name": "stdout",
     "output_type": "stream",
     "text": [
      "9 - Ensemble with avg smape 48.87: \n",
      "Model Number: 10 of 143 with model GLM for Validation 2\n",
      "10 - GLM with avg smape 60.2: \n",
      "Model Number: 11 of 143 with model GLM for Validation 2\n"
     ]
    },
    {
     "name": "stderr",
     "output_type": "stream",
     "text": [
      "WARNING - (py.warnings._showwarnmsg) - c:\\Users\\crudek\\AppData\\Local\\anaconda3\\envs\\newpycaret\\lib\\site-packages\\statsmodels\\genmod\\generalized_linear_model.py:1257: PerfectSeparationWarning: Perfect separation or prediction detected, parameter may not be identified\n",
      "  warnings.warn(msg, category=PerfectSeparationWarning)\n",
      "\n",
      "WARNING - (py.warnings._showwarnmsg) - c:\\Users\\crudek\\AppData\\Local\\anaconda3\\envs\\newpycaret\\lib\\site-packages\\statsmodels\\genmod\\generalized_linear_model.py:1257: PerfectSeparationWarning: Perfect separation or prediction detected, parameter may not be identified\n",
      "  warnings.warn(msg, category=PerfectSeparationWarning)\n",
      "\n"
     ]
    },
    {
     "name": "stdout",
     "output_type": "stream",
     "text": [
      "11 - GLM with avg smape 87.15: \n",
      "Model Number: 12 of 143 with model GLM for Validation 2\n"
     ]
    },
    {
     "name": "stderr",
     "output_type": "stream",
     "text": [
      "WARNING - (py.warnings._showwarnmsg) - c:\\Users\\crudek\\AppData\\Local\\anaconda3\\envs\\newpycaret\\lib\\site-packages\\statsmodels\\genmod\\generalized_linear_model.py:1257: PerfectSeparationWarning: Perfect separation or prediction detected, parameter may not be identified\n",
      "  warnings.warn(msg, category=PerfectSeparationWarning)\n",
      "\n",
      "WARNING - (py.warnings._showwarnmsg) - c:\\Users\\crudek\\AppData\\Local\\anaconda3\\envs\\newpycaret\\lib\\site-packages\\statsmodels\\genmod\\generalized_linear_model.py:1257: PerfectSeparationWarning: Perfect separation or prediction detected, parameter may not be identified\n",
      "  warnings.warn(msg, category=PerfectSeparationWarning)\n",
      "\n"
     ]
    },
    {
     "name": "stdout",
     "output_type": "stream",
     "text": [
      "12 - GLM with avg smape 63.57: \n",
      "Model Number: 13 of 143 with model GLM for Validation 2\n"
     ]
    },
    {
     "name": "stderr",
     "output_type": "stream",
     "text": [
      "WARNING - (py.warnings._showwarnmsg) - c:\\Users\\crudek\\AppData\\Local\\anaconda3\\envs\\newpycaret\\lib\\site-packages\\statsmodels\\genmod\\generalized_linear_model.py:813: RuntimeWarning: divide by zero encountered in double_scalars\n",
      "  return np.sum(resid / self.family.variance(mu)) / self.df_resid\n",
      "\n"
     ]
    },
    {
     "name": "stdout",
     "output_type": "stream",
     "text": [
      "13 - GLM with avg smape 63.57: \n",
      "Model Number: 14 of 143 with model GLM for Validation 2\n"
     ]
    },
    {
     "name": "stderr",
     "output_type": "stream",
     "text": [
      "WARNING - (py.warnings._showwarnmsg) - c:\\Users\\crudek\\AppData\\Local\\anaconda3\\envs\\newpycaret\\lib\\site-packages\\statsmodels\\genmod\\generalized_linear_model.py:307: DomainWarning: The InversePower link function does not respect the domain of the Gamma family.\n",
      "  warnings.warn((f\"The {type(family.link).__name__} link function \"\n",
      "\n",
      "WARNING - (py.warnings._showwarnmsg) - c:\\Users\\crudek\\AppData\\Local\\anaconda3\\envs\\newpycaret\\lib\\site-packages\\statsmodels\\genmod\\generalized_linear_model.py:813: RuntimeWarning: divide by zero encountered in double_scalars\n",
      "  return np.sum(resid / self.family.variance(mu)) / self.df_resid\n",
      "\n"
     ]
    },
    {
     "name": "stdout",
     "output_type": "stream",
     "text": [
      "14 - GLM with avg smape 110.67: \n",
      "Model Number: 15 of 143 with model GLM for Validation 2\n"
     ]
    },
    {
     "name": "stderr",
     "output_type": "stream",
     "text": [
      "WARNING - (py.warnings._showwarnmsg) - c:\\Users\\crudek\\AppData\\Local\\anaconda3\\envs\\newpycaret\\lib\\site-packages\\statsmodels\\genmod\\generalized_linear_model.py:307: DomainWarning: The InversePower link function does not respect the domain of the Gamma family.\n",
      "  warnings.warn((f\"The {type(family.link).__name__} link function \"\n",
      "\n",
      "WARNING - (py.warnings._showwarnmsg) - c:\\Users\\crudek\\AppData\\Local\\anaconda3\\envs\\newpycaret\\lib\\site-packages\\statsmodels\\genmod\\generalized_linear_model.py:813: RuntimeWarning: divide by zero encountered in double_scalars\n",
      "  return np.sum(resid / self.family.variance(mu)) / self.df_resid\n",
      "\n"
     ]
    },
    {
     "name": "stdout",
     "output_type": "stream",
     "text": [
      "15 - GLM with avg smape 49.51: \n",
      "Model Number: 16 of 143 with model GLM for Validation 2\n",
      "16 - GLM with avg smape 78.25: \n",
      "Model Number: 17 of 143 with model KalmanStateSpace for Validation 2\n",
      "📈 17 - KalmanStateSpace with avg smape 18.86: \n",
      "Model Number: 18 of 143 with model KalmanStateSpace for Validation 2\n",
      "📈 18 - KalmanStateSpace with avg smape 18.84: \n",
      "Model Number: 19 of 143 with model KalmanStateSpace for Validation 2\n",
      "19 - KalmanStateSpace with avg smape 18.84: \n",
      "Model Number: 20 of 143 with model DatepartRegression for Validation 2\n",
      "20 - DatepartRegression with avg smape 29.56: \n",
      "Model Number: 21 of 143 with model DatepartRegression for Validation 2\n",
      "21 - DatepartRegression with avg smape 58.88: \n",
      "Model Number: 22 of 143 with model DatepartRegression for Validation 2\n",
      "22 - DatepartRegression with avg smape 58.88: \n",
      "Model Number: 23 of 143 with model GLM for Validation 2\n"
     ]
    },
    {
     "name": "stderr",
     "output_type": "stream",
     "text": [
      "WARNING - (py.warnings._showwarnmsg) - c:\\Users\\crudek\\AppData\\Local\\anaconda3\\envs\\newpycaret\\lib\\site-packages\\sklearn\\svm\\_base.py:1244: ConvergenceWarning: Liblinear failed to converge, increase the number of iterations.\n",
      "  warnings.warn(\n",
      "\n"
     ]
    },
    {
     "name": "stdout",
     "output_type": "stream",
     "text": [
      "📈 23 - GLM with avg smape 16.23: \n",
      "Model Number: 24 of 143 with model DatepartRegression for Validation 2\n",
      "24 - DatepartRegression with avg smape 104.05: \n",
      "Model Number: 25 of 143 with model LastValueNaive for Validation 2\n",
      "25 - LastValueNaive with avg smape 63.14: \n",
      "Model Number: 26 of 143 with model LastValueNaive for Validation 2\n",
      "26 - LastValueNaive with avg smape 63.14: \n",
      "Model Number: 27 of 143 with model KalmanStateSpace for Validation 2\n",
      "27 - KalmanStateSpace with avg smape 66.43: \n",
      "Model Number: 28 of 143 with model KalmanStateSpace for Validation 2\n",
      "28 - KalmanStateSpace with avg smape 66.43: \n",
      "Model Number: 29 of 143 with model DatepartRegression for Validation 2\n",
      "29 - DatepartRegression with avg smape 118.67: \n",
      "Model Number: 30 of 143 with model DatepartRegression for Validation 2\n",
      "30 - DatepartRegression with avg smape 118.67: \n",
      "Model Number: 31 of 143 with model AverageValueNaive for Validation 2\n",
      "31 - AverageValueNaive with avg smape 45.1: \n",
      "Model Number: 32 of 143 with model AverageValueNaive for Validation 2\n",
      "32 - AverageValueNaive with avg smape 45.13: \n",
      "Model Number: 33 of 143 with model UnobservedComponents for Validation 2\n"
     ]
    },
    {
     "name": "stderr",
     "output_type": "stream",
     "text": [
      "WARNING - (py.warnings._showwarnmsg) - c:\\Users\\crudek\\AppData\\Local\\anaconda3\\envs\\newpycaret\\lib\\site-packages\\statsmodels\\genmod\\generalized_linear_model.py:813: RuntimeWarning: divide by zero encountered in double_scalars\n",
      "  return np.sum(resid / self.family.variance(mu)) / self.df_resid\n",
      "\n"
     ]
    },
    {
     "name": "stdout",
     "output_type": "stream",
     "text": [
      "33 - UnobservedComponents with avg smape 141.54: \n",
      "Model Number: 34 of 143 with model GLM for Validation 2\n",
      "34 - GLM with avg smape 48.75: \n",
      "Model Number: 35 of 143 with model DatepartRegression for Validation 2\n",
      "35 - DatepartRegression with avg smape 72.01: \n",
      "Model Number: 36 of 143 with model DatepartRegression for Validation 2\n",
      "36 - DatepartRegression with avg smape 72.01: \n",
      "Model Number: 37 of 143 with model ETS for Validation 2\n",
      "37 - ETS with avg smape 41.09: \n",
      "Model Number: 38 of 143 with model ETS for Validation 2\n",
      "38 - ETS with avg smape 137.36: \n",
      "Model Number: 39 of 143 with model LastValueNaive for Validation 2\n",
      "39 - LastValueNaive with avg smape 103.54: \n",
      "Model Number: 40 of 143 with model UnobservedComponents for Validation 2\n",
      "40 - UnobservedComponents with avg smape 103.43: \n",
      "Model Number: 41 of 143 with model LastValueNaive for Validation 2\n",
      "41 - LastValueNaive with avg smape 103.43: \n",
      "Model Number: 42 of 143 with model LastValueNaive for Validation 2\n",
      "42 - LastValueNaive with avg smape 103.43: \n",
      "Model Number: 43 of 143 with model LastValueNaive for Validation 2\n",
      "43 - LastValueNaive with avg smape 103.43: \n",
      "Model Number: 44 of 143 with model UnobservedComponents for Validation 2\n",
      "44 - UnobservedComponents with avg smape 135.91: \n",
      "Model Number: 45 of 143 with model LastValueNaive for Validation 2\n",
      "45 - LastValueNaive with avg smape 115.37: \n",
      "Model Number: 46 of 143 with model LastValueNaive for Validation 2\n",
      "46 - LastValueNaive with avg smape 113.23: \n",
      "Model Number: 47 of 143 with model ARDL for Validation 2\n",
      "47 - ARDL with avg smape 115.36: \n",
      "Model Number: 48 of 143 with model ETS for Validation 2\n",
      "ETS error ValueError('Can only dampen the trend component')\n",
      "ETS failed on y with ValueError('Can only dampen the trend component')\n"
     ]
    },
    {
     "name": "stderr",
     "output_type": "stream",
     "text": [
      "WARNING - (py.warnings._showwarnmsg) - c:\\Users\\crudek\\AppData\\Local\\anaconda3\\envs\\newpycaret\\lib\\site-packages\\sklearn\\decomposition\\_fastica.py:708: FutureWarning: Starting in v1.3, whiten=True should be specified as whiten='arbitrary-variance' (its current behaviour). This behavior is deprecated in 1.1 and will raise ValueError in 1.3.\n",
      "  return self._fit_transform(X, compute_sources=True)\n",
      "\n"
     ]
    },
    {
     "name": "stdout",
     "output_type": "stream",
     "text": [
      "48 - ETS with avg smape 21.52: \n",
      "Model Number: 49 of 143 with model AverageValueNaive for Validation 2\n",
      "49 - AverageValueNaive with avg smape 118.67: \n",
      "Model Number: 50 of 143 with model AverageValueNaive for Validation 2\n"
     ]
    },
    {
     "name": "stderr",
     "output_type": "stream",
     "text": [
      "WARNING - (py.warnings._showwarnmsg) - c:\\Users\\crudek\\AppData\\Local\\anaconda3\\envs\\newpycaret\\lib\\site-packages\\sklearn\\decomposition\\_fastica.py:708: FutureWarning: Starting in v1.3, whiten=True should be specified as whiten='arbitrary-variance' (its current behaviour). This behavior is deprecated in 1.1 and will raise ValueError in 1.3.\n",
      "  return self._fit_transform(X, compute_sources=True)\n",
      "\n"
     ]
    },
    {
     "name": "stdout",
     "output_type": "stream",
     "text": [
      "50 - AverageValueNaive with avg smape 118.67: \n",
      "Model Number: 51 of 143 with model AverageValueNaive for Validation 2\n",
      "51 - AverageValueNaive with avg smape 117.81: \n",
      "Model Number: 52 of 143 with model GLS for Validation 2\n",
      "52 - GLS with avg smape 21.95: \n",
      "Model Number: 53 of 143 with model SeasonalNaive for Validation 2\n",
      "53 - SeasonalNaive with avg smape 51.45: \n",
      "Model Number: 54 of 143 with model SeasonalNaive for Validation 2\n",
      "54 - SeasonalNaive with avg smape 51.45: \n",
      "Model Number: 55 of 143 with model GLS for Validation 2\n"
     ]
    },
    {
     "name": "stderr",
     "output_type": "stream",
     "text": [
      "WARNING - (py.warnings._showwarnmsg) - c:\\Users\\crudek\\AppData\\Local\\anaconda3\\envs\\newpycaret\\lib\\site-packages\\sklearn\\decomposition\\_fastica.py:708: FutureWarning: Starting in v1.3, whiten=True should be specified as whiten='arbitrary-variance' (its current behaviour). This behavior is deprecated in 1.1 and will raise ValueError in 1.3.\n",
      "  return self._fit_transform(X, compute_sources=True)\n",
      "\n"
     ]
    },
    {
     "name": "stdout",
     "output_type": "stream",
     "text": [
      "55 - GLS with avg smape 68.53: \n",
      "Model Number: 56 of 143 with model AverageValueNaive for Validation 2\n",
      "56 - AverageValueNaive with avg smape 118.59: \n",
      "Model Number: 57 of 143 with model GLS for Validation 2\n",
      "📈 57 - GLS with avg smape 16.07: \n",
      "Model Number: 58 of 143 with model ARDL for Validation 2\n",
      "58 - ARDL with avg smape 66.43: \n",
      "Model Number: 59 of 143 with model KalmanStateSpace for Validation 2\n",
      "59 - KalmanStateSpace with avg smape 38.16: \n",
      "Model Number: 60 of 143 with model AverageValueNaive for Validation 2\n",
      "60 - AverageValueNaive with avg smape 118.67: \n",
      "Model Number: 61 of 143 with model UnobservedComponents for Validation 2\n",
      "61 - UnobservedComponents with avg smape 93.54: \n",
      "Model Number: 62 of 143 with model ETS for Validation 2\n",
      "ETS error ValueError('Can only dampen the trend component')\n",
      "ETS failed on y with ValueError('Can only dampen the trend component')\n",
      "62 - ETS with avg smape 35.04: \n",
      "Model Number: 63 of 143 with model ETS for Validation 2\n"
     ]
    },
    {
     "name": "stderr",
     "output_type": "stream",
     "text": [
      "WARNING - (py.warnings._showwarnmsg) - c:\\Users\\crudek\\AppData\\Local\\anaconda3\\envs\\newpycaret\\lib\\site-packages\\sklearn\\decomposition\\_fastica.py:708: FutureWarning: Starting in v1.3, whiten=True should be specified as whiten='arbitrary-variance' (its current behaviour). This behavior is deprecated in 1.1 and will raise ValueError in 1.3.\n",
      "  return self._fit_transform(X, compute_sources=True)\n",
      "\n"
     ]
    },
    {
     "name": "stdout",
     "output_type": "stream",
     "text": [
      "63 - ETS with avg smape 103.53: \n",
      "Model Number: 64 of 143 with model AverageValueNaive for Validation 2\n"
     ]
    },
    {
     "name": "stderr",
     "output_type": "stream",
     "text": [
      "WARNING - (py.warnings._showwarnmsg) - c:\\Users\\crudek\\AppData\\Local\\anaconda3\\envs\\newpycaret\\lib\\site-packages\\sklearn\\decomposition\\_fastica.py:708: FutureWarning: Starting in v1.3, whiten=True should be specified as whiten='arbitrary-variance' (its current behaviour). This behavior is deprecated in 1.1 and will raise ValueError in 1.3.\n",
      "  return self._fit_transform(X, compute_sources=True)\n",
      "\n"
     ]
    },
    {
     "name": "stdout",
     "output_type": "stream",
     "text": [
      "64 - AverageValueNaive with avg smape 41.6: \n",
      "Model Number: 65 of 143 with model AverageValueNaive for Validation 2\n",
      "65 - AverageValueNaive with avg smape 41.6: \n",
      "Model Number: 66 of 143 with model KalmanStateSpace for Validation 2\n",
      "66 - KalmanStateSpace with avg smape 97.68: \n",
      "Model Number: 67 of 143 with model KalmanStateSpace for Validation 2\n",
      "67 - KalmanStateSpace with avg smape 56.78: \n",
      "Model Number: 68 of 143 with model SeasonalityMotif for Validation 2\n",
      "Template Eval Error: ValueError('window shape cannot be larger than input array shape') in model 68 in generation 0: SeasonalityMotif\n",
      "Model Number: 69 of 143 with model GLS for Validation 2\n",
      "69 - GLS with avg smape 42.36: \n",
      "Model Number: 70 of 143 with model GLS for Validation 2\n",
      "70 - GLS with avg smape 42.36: \n",
      "Model Number: 71 of 143 with model GLS for Validation 2\n",
      "71 - GLS with avg smape 42.36: \n",
      "Model Number: 72 of 143 with model GLS for Validation 2\n",
      "72 - GLS with avg smape 41.57: \n",
      "Model Number: 73 of 143 with model SeasonalityMotif for Validation 2\n",
      "Template Eval Error: ValueError('window shape cannot be larger than input array shape') in model 73 in generation 0: SeasonalityMotif\n",
      "Model Number: 74 of 143 with model GLS for Validation 2\n",
      "74 - GLS with avg smape 42.42: \n",
      "Model Number: 75 of 143 with model Theta for Validation 2\n",
      "75 - Theta with avg smape 118.67: \n",
      "Model Number: 76 of 143 with model Theta for Validation 2\n",
      "76 - Theta with avg smape 118.67: \n",
      "Model Number: 77 of 143 with model Theta for Validation 2\n",
      "77 - Theta with avg smape 118.67: \n",
      "Model Number: 78 of 143 with model SeasonalNaive for Validation 2\n",
      "78 - SeasonalNaive with avg smape 61.84: \n",
      "Model Number: 79 of 143 with model SeasonalNaive for Validation 2\n",
      "79 - SeasonalNaive with avg smape 61.84: \n",
      "Model Number: 80 of 143 with model SeasonalNaive for Validation 2\n",
      "80 - SeasonalNaive with avg smape 61.84: \n",
      "Model Number: 81 of 143 with model ETS for Validation 2\n",
      "81 - ETS with avg smape 118.09: \n",
      "Model Number: 82 of 143 with model LastValueNaive for Validation 2\n",
      "82 - LastValueNaive with avg smape 108.68: \n",
      "Model Number: 83 of 143 with model UnobservedComponents for Validation 2\n",
      "83 - UnobservedComponents with avg smape 41.62: \n",
      "Model Number: 84 of 143 with model UnobservedComponents for Validation 2\n",
      "Template Eval Error: ValueError(\"'shape' elements cannot be negative\") in model 84 in generation 0: UnobservedComponents\n",
      "Model Number: 85 of 143 with model KalmanStateSpace for Validation 2\n",
      "85 - KalmanStateSpace with avg smape 100.02: \n",
      "Model Number: 86 of 143 with model UnobservedComponents for Validation 2\n",
      "86 - UnobservedComponents with avg smape 118.67: \n",
      "Model Number: 87 of 143 with model UnobservedComponents for Validation 2\n",
      "87 - UnobservedComponents with avg smape 118.67: \n",
      "Model Number: 88 of 143 with model UnobservedComponents for Validation 2\n",
      "88 - UnobservedComponents with avg smape 118.67: \n",
      "Model Number: 89 of 143 with model Theta for Validation 2\n",
      "89 - Theta with avg smape 118.67: \n",
      "Model Number: 90 of 143 with model Theta for Validation 2\n",
      "90 - Theta with avg smape 118.67: \n",
      "Model Number: 91 of 143 with model GLS for Validation 2\n",
      "91 - GLS with avg smape 41.64: \n",
      "Model Number: 92 of 143 with model Theta for Validation 2\n",
      "92 - Theta with avg smape 118.67: \n",
      "Model Number: 93 of 143 with model ETS for Validation 2\n",
      "93 - ETS with avg smape 118.67: \n",
      "Model Number: 94 of 143 with model ETS for Validation 2\n",
      "94 - ETS with avg smape 118.67: \n",
      "Model Number: 95 of 143 with model ETS for Validation 2\n",
      "95 - ETS with avg smape 118.67: \n",
      "Model Number: 96 of 143 with model SeasonalNaive for Validation 2\n",
      "96 - SeasonalNaive with avg smape 18.63: \n",
      "Model Number: 97 of 143 with model SeasonalNaive for Validation 2\n",
      "97 - SeasonalNaive with avg smape 61.84: \n",
      "Model Number: 98 of 143 with model SeasonalNaive for Validation 2\n",
      "98 - SeasonalNaive with avg smape 61.84: \n",
      "Model Number: 99 of 143 with model ConstantNaive for Validation 2\n",
      "99 - ConstantNaive with avg smape 41.64: \n",
      "Model Number: 100 of 143 with model SeasonalNaive for Validation 2\n",
      "100 - SeasonalNaive with avg smape 25.06: \n",
      "Model Number: 101 of 143 with model ConstantNaive for Validation 2\n",
      "101 - ConstantNaive with avg smape 41.64: \n",
      "Model Number: 102 of 143 with model ARDL for Validation 2\n",
      "Template Eval Error: ValueError(\"ARDL series y failed with error ValueError('The number of regressors (5) including deterministics, lags of the endog, lags of the exogenous, and fixed regressors is larger than the sample available for estimation (3).') exog train             HolidayFlag_US\\nds                        \\n2022-08-01             0.0\\n2022-09-01             0.0\\n2022-10-01             0.0\\n2022-11-01             0.0\\n2022-12-01             0.0 and predict             HolidayFlag_US\\n2023-01-01             1.0\\n2023-02-01             0.0\\n2023-03-01             0.0\") in model 102 in generation 0: ARDL\n",
      "Model Number: 103 of 143 with model SeasonalityMotif for Validation 2\n",
      "Template Eval Error: ValueError('window shape cannot be larger than input array shape') in model 103 in generation 0: SeasonalityMotif\n",
      "Model Number: 104 of 143 with model Theta for Validation 2\n",
      "104 - Theta with avg smape 115.59: \n",
      "Model Number: 105 of 143 with model ARDL for Validation 2\n",
      "105 - ARDL with avg smape 118.67: \n",
      "Model Number: 106 of 143 with model ARIMA for Validation 2\n",
      "106 - ARIMA with avg smape 100.25: \n",
      "Model Number: 107 of 143 with model ARIMA for Validation 2\n",
      "107 - ARIMA with avg smape 118.67: \n",
      "Model Number: 108 of 143 with model FBProphet for Validation 2\n"
     ]
    },
    {
     "name": "stderr",
     "output_type": "stream",
     "text": [
      "14:59:10 - cmdstanpy - INFO - Chain [1] start processing\n",
      "14:59:10 - cmdstanpy - INFO - Chain [1] done processing\n"
     ]
    },
    {
     "name": "stdout",
     "output_type": "stream",
     "text": [
      "108 - FBProphet with avg smape 119.33: \n",
      "Model Number: 109 of 143 with model SeasonalityMotif for Validation 2\n",
      "Template Eval Error: ValueError('window shape cannot be larger than input array shape') in model 109 in generation 0: SeasonalityMotif\n",
      "Model Number: 110 of 143 with model ARIMA for Validation 2\n",
      "110 - ARIMA with avg smape 66.43: \n",
      "Model Number: 111 of 143 with model FBProphet for Validation 2\n"
     ]
    },
    {
     "name": "stderr",
     "output_type": "stream",
     "text": [
      "14:59:10 - cmdstanpy - INFO - Chain [1] start processing\n",
      "14:59:10 - cmdstanpy - INFO - Chain [1] done processing\n"
     ]
    },
    {
     "name": "stdout",
     "output_type": "stream",
     "text": [
      "111 - FBProphet with avg smape 118.67: \n",
      "Model Number: 112 of 143 with model ConstantNaive for Validation 2\n",
      "📈 112 - ConstantNaive with avg smape 15.72: \n",
      "Model Number: 113 of 143 with model ARIMA for Validation 2\n",
      "113 - ARIMA with avg smape 66.43: \n",
      "Model Number: 114 of 143 with model ARDL for Validation 2\n",
      "114 - ARDL with avg smape 99.64: \n",
      "Model Number: 115 of 143 with model ConstantNaive for Validation 2\n",
      "115 - ConstantNaive with avg smape 51.45: \n",
      "Model Number: 116 of 143 with model Theta for Validation 2\n",
      "116 - Theta with avg smape 118.67: \n",
      "Model Number: 117 of 143 with model Theta for Validation 2\n",
      "117 - Theta with avg smape 117.0: \n",
      "Model Number: 118 of 143 with model ARIMA for Validation 2\n",
      "118 - ARIMA with avg smape 81.08: \n",
      "Model Number: 119 of 143 with model ConstantNaive for Validation 2\n",
      "119 - ConstantNaive with avg smape 56.34: \n",
      "Model Number: 120 of 143 with model ARDL for Validation 2\n",
      "Template Eval Error: ValueError(\"ARDL series y failed with error ValueError('The number of regressors (5) including deterministics, lags of the endog, lags of the exogenous, and fixed regressors is larger than the sample available for estimation (4).') exog train             HolidayFlag_US\\nds                        \\n2022-08-01             0.0\\n2022-09-01             0.0\\n2022-10-01             0.0\\n2022-11-01             0.0\\n2022-12-01             0.0 and predict             HolidayFlag_US\\n2023-01-01             1.0\\n2023-02-01             0.0\\n2023-03-01             0.0\") in model 120 in generation 0: ARDL\n",
      "Model Number: 121 of 143 with model ARIMA for Validation 2\n",
      "121 - ARIMA with avg smape 131.67: \n",
      "Model Number: 122 of 143 with model SeasonalityMotif for Validation 2\n",
      "Template Eval Error: ValueError('window shape cannot be larger than input array shape') in model 122 in generation 0: SeasonalityMotif\n",
      "Model Number: 123 of 143 with model SeasonalityMotif for Validation 2\n",
      "Template Eval Error: ValueError('window shape cannot be larger than input array shape') in model 123 in generation 0: SeasonalityMotif\n",
      "Model Number: 124 of 143 with model ARIMA for Validation 2\n",
      "124 - ARIMA with avg smape 121.48: \n",
      "Model Number: 125 of 143 with model ARDL for Validation 2\n",
      "125 - ARDL with avg smape 118.67: \n",
      "Model Number: 126 of 143 with model ARIMA for Validation 2\n",
      "126 - ARIMA with avg smape 86.91: \n",
      "Model Number: 127 of 143 with model SeasonalityMotif for Validation 2\n",
      "Template Eval Error: Exception('Transformer AlignLastValue failed on fit') in model 127 in generation 0: SeasonalityMotif\n",
      "Model Number: 128 of 143 with model ARIMA for Validation 2\n",
      "128 - ARIMA with avg smape 124.08: \n",
      "Model Number: 129 of 143 with model ARDL for Validation 2\n",
      "Template Eval Error: ValueError(\"ARDL series y failed with error ValueError('The number of regressors (6) including deterministics, lags of the endog, lags of the exogenous, and fixed regressors is larger than the sample available for estimation (3).') exog train             HolidayFlag_US\\nds                        \\n2022-08-01             0.0\\n2022-09-01             0.0\\n2022-10-01             0.0\\n2022-11-01             0.0\\n2022-12-01             0.0 and predict             HolidayFlag_US\\n2023-01-01             1.0\\n2023-02-01             0.0\\n2023-03-01             0.0\") in model 129 in generation 0: ARDL\n",
      "Model Number: 130 of 143 with model SeasonalityMotif for Validation 2\n",
      "Template Eval Error: ValueError('window shape cannot be larger than input array shape') in model 130 in generation 0: SeasonalityMotif\n",
      "Model Number: 131 of 143 with model ConstantNaive for Validation 2\n",
      "131 - ConstantNaive with avg smape 72.01: \n",
      "Model Number: 132 of 143 with model ConstantNaive for Validation 2\n",
      "132 - ConstantNaive with avg smape 72.01: \n",
      "Model Number: 133 of 143 with model ARDL for Validation 2\n",
      "Template Eval Error: ValueError(\"ARDL series y failed with error ValueError('The number of regressors (5) including deterministics, lags of the endog, lags of the exogenous, and fixed regressors is larger than the sample available for estimation (2).') exog train             HolidayFlag_US\\nds                        \\n2022-08-01             0.0\\n2022-09-01             0.0\\n2022-10-01             0.0\\n2022-11-01             0.0\\n2022-12-01             0.0 and predict             HolidayFlag_US\\n2023-01-01             1.0\\n2023-02-01             0.0\\n2023-03-01             0.0\") in model 133 in generation 0: ARDL\n",
      "Model Number: 134 of 143 with model FBProphet for Validation 2\n"
     ]
    },
    {
     "name": "stderr",
     "output_type": "stream",
     "text": [
      "14:59:13 - cmdstanpy - INFO - Chain [1] start processing\n",
      "14:59:13 - cmdstanpy - INFO - Chain [1] done processing\n"
     ]
    },
    {
     "name": "stdout",
     "output_type": "stream",
     "text": [
      "134 - FBProphet with avg smape 119.0: \n",
      "Model Number: 135 of 143 with model ConstantNaive for Validation 2\n",
      "135 - ConstantNaive with avg smape 72.01: \n",
      "Model Number: 136 of 143 with model FBProphet for Validation 2\n"
     ]
    },
    {
     "name": "stderr",
     "output_type": "stream",
     "text": [
      "14:59:14 - cmdstanpy - INFO - Chain [1] start processing\n",
      "14:59:14 - cmdstanpy - INFO - Chain [1] done processing\n"
     ]
    },
    {
     "name": "stdout",
     "output_type": "stream",
     "text": [
      "136 - FBProphet with avg smape 119.01: \n",
      "Model Number: 137 of 143 with model ConstantNaive for Validation 2\n",
      "📈 137 - ConstantNaive with avg smape 13.71: \n",
      "Model Number: 138 of 143 with model SeasonalityMotif for Validation 2\n",
      "Template Eval Error: ValueError('window shape cannot be larger than input array shape') in model 138 in generation 0: SeasonalityMotif\n",
      "Model Number: 139 of 143 with model FBProphet for Validation 2\n"
     ]
    },
    {
     "name": "stderr",
     "output_type": "stream",
     "text": [
      "14:59:14 - cmdstanpy - INFO - Chain [1] start processing\n",
      "14:59:14 - cmdstanpy - INFO - Chain [1] done processing\n"
     ]
    },
    {
     "name": "stdout",
     "output_type": "stream",
     "text": [
      "139 - FBProphet with avg smape 66.43: \n",
      "Model Number: 140 of 143 with model FBProphet for Validation 2\n"
     ]
    },
    {
     "name": "stderr",
     "output_type": "stream",
     "text": [
      "14:59:14 - cmdstanpy - INFO - Chain [1] start processing\n",
      "14:59:14 - cmdstanpy - INFO - Chain [1] done processing\n",
      "14:59:15 - cmdstanpy - INFO - Chain [1] start processing\n",
      "14:59:15 - cmdstanpy - INFO - Chain [1] done processing\n"
     ]
    },
    {
     "name": "stdout",
     "output_type": "stream",
     "text": [
      "140 - FBProphet with avg smape 104.54: \n",
      "Model Number: 141 of 143 with model FBProphet for Validation 2\n"
     ]
    },
    {
     "name": "stderr",
     "output_type": "stream",
     "text": [
      "14:59:15 - cmdstanpy - INFO - Chain [1] start processing\n",
      "14:59:15 - cmdstanpy - INFO - Chain [1] done processing\n"
     ]
    },
    {
     "name": "stdout",
     "output_type": "stream",
     "text": [
      "141 - FBProphet with avg smape 66.43: \n",
      "Model Number: 142 of 143 with model FBProphet for Validation 2\n"
     ]
    },
    {
     "name": "stderr",
     "output_type": "stream",
     "text": [
      "14:59:15 - cmdstanpy - INFO - Chain [1] start processing\n"
     ]
    },
    {
     "name": "stdout",
     "output_type": "stream",
     "text": [
      "142 - FBProphet with avg smape 119.01: \n",
      "Model Number: 143 of 143 with model FBProphet for Validation 2\n"
     ]
    },
    {
     "name": "stderr",
     "output_type": "stream",
     "text": [
      "14:59:15 - cmdstanpy - INFO - Chain [1] done processing\n"
     ]
    },
    {
     "name": "stdout",
     "output_type": "stream",
     "text": [
      "143 - FBProphet with avg smape 64.28: \n",
      "Validation Round: 3\n",
      "Model Number: 1 of 143 with model Ensemble for Validation 3\n",
      "Template Eval Error: ValueError('Need at least 3 dates to infer frequency') in model 1 in generation 0: Ensemble\n",
      "Model Number: 2 of 143 with model Ensemble for Validation 3\n",
      "Template Eval Error: ValueError('Need at least 3 dates to infer frequency') in model 2 in generation 0: Ensemble\n",
      "Model Number: 3 of 143 with model Ensemble for Validation 3\n",
      "Template Eval Error: ValueError('Need at least 3 dates to infer frequency') in model 3 in generation 0: Ensemble\n",
      "Model Number: 4 of 143 with model Ensemble for Validation 3\n",
      "Template Eval Error: ValueError('Need at least 3 dates to infer frequency') in model 4 in generation 0: Ensemble\n",
      "Model Number: 5 of 143 with model Ensemble for Validation 3\n",
      "Template Eval Error: ValueError('Need at least 3 dates to infer frequency') in model 5 in generation 0: Ensemble\n",
      "Model Number: 6 of 143 with model Ensemble for Validation 3\n",
      "Template Eval Error: ValueError('Need at least 3 dates to infer frequency') in model 6 in generation 0: Ensemble\n",
      "Model Number: 7 of 143 with model DatepartRegression for Validation 3\n",
      "Template Eval Error: ValueError('Need at least 3 dates to infer frequency') in model 7 in generation 0: DatepartRegression\n",
      "Model Number: 8 of 143 with model Ensemble for Validation 3\n",
      "Template Eval Error: ValueError('Need at least 3 dates to infer frequency') in model 8 in generation 0: Ensemble\n",
      "Model Number: 9 of 143 with model Ensemble for Validation 3\n",
      "Template Eval Error: ValueError('Need at least 3 dates to infer frequency') in model 9 in generation 0: Ensemble\n",
      "Model Number: 10 of 143 with model GLM for Validation 3\n",
      "Template Eval Error: ValueError('Need at least 3 dates to infer frequency') in model 10 in generation 0: GLM\n",
      "Model Number: 11 of 143 with model GLM for Validation 3\n",
      "Template Eval Error: ValueError('Need at least 3 dates to infer frequency') in model 11 in generation 0: GLM\n",
      "Model Number: 12 of 143 with model GLM for Validation 3\n",
      "Template Eval Error: ValueError('Need at least 3 dates to infer frequency') in model 12 in generation 0: GLM\n",
      "Model Number: 13 of 143 with model GLM for Validation 3\n",
      "Template Eval Error: ValueError('Need at least 3 dates to infer frequency') in model 13 in generation 0: GLM\n",
      "Model Number: 14 of 143 with model GLM for Validation 3\n",
      "Template Eval Error: ValueError('Need at least 3 dates to infer frequency') in model 14 in generation 0: GLM\n",
      "Model Number: 15 of 143 with model GLM for Validation 3\n",
      "Template Eval Error: ValueError('Need at least 3 dates to infer frequency') in model 15 in generation 0: GLM\n",
      "Model Number: 16 of 143 with model GLM for Validation 3\n",
      "Template Eval Error: ValueError('Need at least 3 dates to infer frequency') in model 16 in generation 0: GLM\n",
      "Model Number: 17 of 143 with model KalmanStateSpace for Validation 3\n",
      "Template Eval Error: ValueError('Need at least 3 dates to infer frequency') in model 17 in generation 0: KalmanStateSpace\n",
      "Model Number: 18 of 143 with model KalmanStateSpace for Validation 3\n",
      "Template Eval Error: ValueError('Need at least 3 dates to infer frequency') in model 18 in generation 0: KalmanStateSpace\n",
      "Model Number: 19 of 143 with model KalmanStateSpace for Validation 3\n",
      "Template Eval Error: ValueError('Need at least 3 dates to infer frequency') in model 19 in generation 0: KalmanStateSpace\n",
      "Model Number: 20 of 143 with model DatepartRegression for Validation 3\n",
      "Template Eval Error: ValueError('Need at least 3 dates to infer frequency') in model 20 in generation 0: DatepartRegression\n",
      "Model Number: 21 of 143 with model DatepartRegression for Validation 3\n",
      "Template Eval Error: ValueError('Need at least 3 dates to infer frequency') in model 21 in generation 0: DatepartRegression\n",
      "Model Number: 22 of 143 with model DatepartRegression for Validation 3\n",
      "Template Eval Error: ValueError('Need at least 3 dates to infer frequency') in model 22 in generation 0: DatepartRegression\n",
      "Model Number: 23 of 143 with model GLM for Validation 3\n",
      "Template Eval Error: ValueError('Need at least 3 dates to infer frequency') in model 23 in generation 0: GLM\n",
      "Model Number: 24 of 143 with model DatepartRegression for Validation 3\n",
      "Template Eval Error: ValueError('Need at least 3 dates to infer frequency') in model 24 in generation 0: DatepartRegression\n",
      "Model Number: 25 of 143 with model LastValueNaive for Validation 3\n",
      "Template Eval Error: ValueError('Need at least 3 dates to infer frequency') in model 25 in generation 0: LastValueNaive\n",
      "Model Number: 26 of 143 with model LastValueNaive for Validation 3\n",
      "Template Eval Error: ValueError('Need at least 3 dates to infer frequency') in model 26 in generation 0: LastValueNaive\n",
      "Model Number: 27 of 143 with model KalmanStateSpace for Validation 3\n",
      "Template Eval Error: ValueError('Need at least 3 dates to infer frequency') in model 27 in generation 0: KalmanStateSpace\n",
      "Model Number: 28 of 143 with model KalmanStateSpace for Validation 3\n",
      "Template Eval Error: ValueError('Need at least 3 dates to infer frequency') in model 28 in generation 0: KalmanStateSpace\n",
      "Model Number: 29 of 143 with model DatepartRegression for Validation 3\n",
      "Template Eval Error: ValueError('Need at least 3 dates to infer frequency') in model 29 in generation 0: DatepartRegression\n",
      "Model Number: 30 of 143 with model DatepartRegression for Validation 3\n",
      "Template Eval Error: ValueError('Need at least 3 dates to infer frequency') in model 30 in generation 0: DatepartRegression\n",
      "Model Number: 31 of 143 with model AverageValueNaive for Validation 3\n",
      "Template Eval Error: ValueError('Need at least 3 dates to infer frequency') in model 31 in generation 0: AverageValueNaive\n",
      "Model Number: 32 of 143 with model AverageValueNaive for Validation 3\n",
      "Template Eval Error: ValueError('Need at least 3 dates to infer frequency') in model 32 in generation 0: AverageValueNaive\n",
      "Model Number: 33 of 143 with model UnobservedComponents for Validation 3\n",
      "Template Eval Error: ValueError('Need at least 3 dates to infer frequency') in model 33 in generation 0: UnobservedComponents\n",
      "Model Number: 34 of 143 with model GLM for Validation 3\n",
      "Template Eval Error: ValueError('Need at least 3 dates to infer frequency') in model 34 in generation 0: GLM\n",
      "Model Number: 35 of 143 with model DatepartRegression for Validation 3\n",
      "Template Eval Error: ValueError('Need at least 3 dates to infer frequency') in model 35 in generation 0: DatepartRegression\n",
      "Model Number: 36 of 143 with model DatepartRegression for Validation 3\n",
      "Template Eval Error: ValueError('Need at least 3 dates to infer frequency') in model 36 in generation 0: DatepartRegression\n",
      "Model Number: 37 of 143 with model ETS for Validation 3\n",
      "Template Eval Error: ValueError('Need at least 3 dates to infer frequency') in model 37 in generation 0: ETS\n",
      "Model Number: 38 of 143 with model ETS for Validation 3\n",
      "Template Eval Error: ValueError('Need at least 3 dates to infer frequency') in model 38 in generation 0: ETS\n",
      "Model Number: 39 of 143 with model LastValueNaive for Validation 3\n",
      "Template Eval Error: ValueError('Need at least 3 dates to infer frequency') in model 39 in generation 0: LastValueNaive\n",
      "Model Number: 40 of 143 with model UnobservedComponents for Validation 3\n",
      "Template Eval Error: ValueError('Need at least 3 dates to infer frequency') in model 40 in generation 0: UnobservedComponents\n",
      "Model Number: 41 of 143 with model LastValueNaive for Validation 3\n",
      "Template Eval Error: ValueError('Need at least 3 dates to infer frequency') in model 41 in generation 0: LastValueNaive\n",
      "Model Number: 42 of 143 with model LastValueNaive for Validation 3\n",
      "Template Eval Error: ValueError('Need at least 3 dates to infer frequency') in model 42 in generation 0: LastValueNaive\n",
      "Model Number: 43 of 143 with model LastValueNaive for Validation 3\n",
      "Template Eval Error: ValueError('Need at least 3 dates to infer frequency') in model 43 in generation 0: LastValueNaive\n",
      "Model Number: 44 of 143 with model UnobservedComponents for Validation 3\n",
      "Template Eval Error: ValueError('Need at least 3 dates to infer frequency') in model 44 in generation 0: UnobservedComponents\n",
      "Model Number: 45 of 143 with model LastValueNaive for Validation 3\n",
      "Template Eval Error: ValueError('Need at least 3 dates to infer frequency') in model 45 in generation 0: LastValueNaive\n",
      "Model Number: 46 of 143 with model LastValueNaive for Validation 3\n",
      "Template Eval Error: ValueError('Need at least 3 dates to infer frequency') in model 46 in generation 0: LastValueNaive\n",
      "Model Number: 47 of 143 with model ARDL for Validation 3\n",
      "Template Eval Error: ValueError('Need at least 3 dates to infer frequency') in model 47 in generation 0: ARDL\n",
      "Model Number: 48 of 143 with model ETS for Validation 3\n",
      "Template Eval Error: ValueError('Need at least 3 dates to infer frequency') in model 48 in generation 0: ETS\n",
      "Model Number: 49 of 143 with model AverageValueNaive for Validation 3\n",
      "Template Eval Error: ValueError('Need at least 3 dates to infer frequency') in model 49 in generation 0: AverageValueNaive\n",
      "Model Number: 50 of 143 with model AverageValueNaive for Validation 3\n",
      "Template Eval Error: ValueError('Need at least 3 dates to infer frequency') in model 50 in generation 0: AverageValueNaive\n",
      "Model Number: 51 of 143 with model AverageValueNaive for Validation 3\n",
      "Template Eval Error: ValueError('Need at least 3 dates to infer frequency') in model 51 in generation 0: AverageValueNaive\n",
      "Model Number: 52 of 143 with model GLS for Validation 3\n",
      "Template Eval Error: ValueError('Need at least 3 dates to infer frequency') in model 52 in generation 0: GLS\n",
      "Model Number: 53 of 143 with model SeasonalNaive for Validation 3\n",
      "Template Eval Error: ValueError('Need at least 3 dates to infer frequency') in model 53 in generation 0: SeasonalNaive\n",
      "Model Number: 54 of 143 with model SeasonalNaive for Validation 3\n",
      "Template Eval Error: ValueError('Need at least 3 dates to infer frequency') in model 54 in generation 0: SeasonalNaive\n",
      "Model Number: 55 of 143 with model GLS for Validation 3\n",
      "Template Eval Error: ValueError('Need at least 3 dates to infer frequency') in model 55 in generation 0: GLS\n",
      "Model Number: 56 of 143 with model AverageValueNaive for Validation 3\n",
      "Template Eval Error: ValueError('Need at least 3 dates to infer frequency') in model 56 in generation 0: AverageValueNaive\n",
      "Model Number: 57 of 143 with model GLS for Validation 3\n",
      "Template Eval Error: ValueError('Need at least 3 dates to infer frequency') in model 57 in generation 0: GLS\n",
      "Model Number: 58 of 143 with model ARDL for Validation 3\n",
      "Template Eval Error: ValueError('Need at least 3 dates to infer frequency') in model 58 in generation 0: ARDL\n",
      "Model Number: 59 of 143 with model KalmanStateSpace for Validation 3\n",
      "Template Eval Error: ValueError('Need at least 3 dates to infer frequency') in model 59 in generation 0: KalmanStateSpace\n",
      "Model Number: 60 of 143 with model AverageValueNaive for Validation 3\n",
      "Template Eval Error: ValueError('Need at least 3 dates to infer frequency') in model 60 in generation 0: AverageValueNaive\n",
      "Model Number: 61 of 143 with model UnobservedComponents for Validation 3\n",
      "Template Eval Error: ValueError('Need at least 3 dates to infer frequency') in model 61 in generation 0: UnobservedComponents\n",
      "Model Number: 62 of 143 with model ETS for Validation 3\n",
      "Template Eval Error: ValueError('Need at least 3 dates to infer frequency') in model 62 in generation 0: ETS\n",
      "Model Number: 63 of 143 with model ETS for Validation 3\n",
      "Template Eval Error: ValueError('Need at least 3 dates to infer frequency') in model 63 in generation 0: ETS\n",
      "Model Number: 64 of 143 with model AverageValueNaive for Validation 3\n",
      "Template Eval Error: ValueError('Need at least 3 dates to infer frequency') in model 64 in generation 0: AverageValueNaive\n",
      "Model Number: 65 of 143 with model AverageValueNaive for Validation 3\n",
      "Template Eval Error: ValueError('Need at least 3 dates to infer frequency') in model 65 in generation 0: AverageValueNaive\n",
      "Model Number: 66 of 143 with model KalmanStateSpace for Validation 3\n",
      "Template Eval Error: ValueError('Need at least 3 dates to infer frequency') in model 66 in generation 0: KalmanStateSpace\n",
      "Model Number: 67 of 143 with model KalmanStateSpace for Validation 3\n",
      "Template Eval Error: ValueError('Need at least 3 dates to infer frequency') in model 67 in generation 0: KalmanStateSpace\n",
      "Model Number: 68 of 143 with model SeasonalityMotif for Validation 3\n",
      "Template Eval Error: ValueError('Need at least 3 dates to infer frequency') in model 68 in generation 0: SeasonalityMotif\n",
      "Model Number: 69 of 143 with model GLS for Validation 3\n",
      "Template Eval Error: ValueError('Need at least 3 dates to infer frequency') in model 69 in generation 0: GLS\n",
      "Model Number: 70 of 143 with model GLS for Validation 3\n",
      "Template Eval Error: ValueError('Need at least 3 dates to infer frequency') in model 70 in generation 0: GLS\n",
      "Model Number: 71 of 143 with model GLS for Validation 3\n",
      "Template Eval Error: ValueError('Need at least 3 dates to infer frequency') in model 71 in generation 0: GLS\n",
      "Model Number: 72 of 143 with model GLS for Validation 3\n",
      "Template Eval Error: ValueError('Need at least 3 dates to infer frequency') in model 72 in generation 0: GLS\n",
      "Model Number: 73 of 143 with model SeasonalityMotif for Validation 3\n",
      "Template Eval Error: ValueError('Need at least 3 dates to infer frequency') in model 73 in generation 0: SeasonalityMotif\n",
      "Model Number: 74 of 143 with model GLS for Validation 3\n",
      "Template Eval Error: ValueError('Need at least 3 dates to infer frequency') in model 74 in generation 0: GLS\n",
      "Model Number: 75 of 143 with model Theta for Validation 3\n",
      "Template Eval Error: ValueError('Need at least 3 dates to infer frequency') in model 75 in generation 0: Theta\n",
      "Model Number: 76 of 143 with model Theta for Validation 3\n",
      "Template Eval Error: ValueError('Need at least 3 dates to infer frequency') in model 76 in generation 0: Theta\n",
      "Model Number: 77 of 143 with model Theta for Validation 3\n",
      "Template Eval Error: ValueError('Need at least 3 dates to infer frequency') in model 77 in generation 0: Theta\n",
      "Model Number: 78 of 143 with model SeasonalNaive for Validation 3\n",
      "Template Eval Error: ValueError('Need at least 3 dates to infer frequency') in model 78 in generation 0: SeasonalNaive\n",
      "Model Number: 79 of 143 with model SeasonalNaive for Validation 3\n",
      "Template Eval Error: ValueError('Need at least 3 dates to infer frequency') in model 79 in generation 0: SeasonalNaive\n",
      "Model Number: 80 of 143 with model SeasonalNaive for Validation 3\n",
      "Template Eval Error: ValueError('Need at least 3 dates to infer frequency') in model 80 in generation 0: SeasonalNaive\n",
      "Model Number: 81 of 143 with model ETS for Validation 3\n",
      "Template Eval Error: ValueError('Need at least 3 dates to infer frequency') in model 81 in generation 0: ETS\n",
      "Model Number: 82 of 143 with model LastValueNaive for Validation 3\n",
      "Template Eval Error: ValueError('Need at least 3 dates to infer frequency') in model 82 in generation 0: LastValueNaive\n",
      "Model Number: 83 of 143 with model UnobservedComponents for Validation 3\n",
      "Template Eval Error: ValueError('Need at least 3 dates to infer frequency') in model 83 in generation 0: UnobservedComponents\n",
      "Model Number: 84 of 143 with model UnobservedComponents for Validation 3\n",
      "Template Eval Error: ValueError('Need at least 3 dates to infer frequency') in model 84 in generation 0: UnobservedComponents\n",
      "Model Number: 85 of 143 with model KalmanStateSpace for Validation 3\n",
      "Template Eval Error: ValueError('Need at least 3 dates to infer frequency') in model 85 in generation 0: KalmanStateSpace\n",
      "Model Number: 86 of 143 with model UnobservedComponents for Validation 3\n",
      "Template Eval Error: ValueError('Need at least 3 dates to infer frequency') in model 86 in generation 0: UnobservedComponents\n",
      "Model Number: 87 of 143 with model UnobservedComponents for Validation 3\n",
      "Template Eval Error: ValueError('Need at least 3 dates to infer frequency') in model 87 in generation 0: UnobservedComponents\n",
      "Model Number: 88 of 143 with model UnobservedComponents for Validation 3\n",
      "Template Eval Error: ValueError('Need at least 3 dates to infer frequency') in model 88 in generation 0: UnobservedComponents\n",
      "Model Number: 89 of 143 with model Theta for Validation 3\n",
      "Template Eval Error: ValueError('Need at least 3 dates to infer frequency') in model 89 in generation 0: Theta\n",
      "Model Number: 90 of 143 with model Theta for Validation 3\n",
      "Template Eval Error: ValueError('Need at least 3 dates to infer frequency') in model 90 in generation 0: Theta\n",
      "Model Number: 91 of 143 with model GLS for Validation 3\n",
      "Template Eval Error: ValueError('Need at least 3 dates to infer frequency') in model 91 in generation 0: GLS\n",
      "Model Number: 92 of 143 with model Theta for Validation 3\n",
      "Template Eval Error: ValueError('Need at least 3 dates to infer frequency') in model 92 in generation 0: Theta\n",
      "Model Number: 93 of 143 with model ETS for Validation 3\n",
      "Template Eval Error: ValueError('Need at least 3 dates to infer frequency') in model 93 in generation 0: ETS\n",
      "Model Number: 94 of 143 with model ETS for Validation 3\n",
      "Template Eval Error: ValueError('Need at least 3 dates to infer frequency') in model 94 in generation 0: ETS\n",
      "Model Number: 95 of 143 with model ETS for Validation 3\n",
      "Template Eval Error: ValueError('Need at least 3 dates to infer frequency') in model 95 in generation 0: ETS\n",
      "Model Number: 96 of 143 with model SeasonalNaive for Validation 3\n",
      "Template Eval Error: ValueError('Need at least 3 dates to infer frequency') in model 96 in generation 0: SeasonalNaive\n",
      "Model Number: 97 of 143 with model SeasonalNaive for Validation 3\n",
      "Template Eval Error: ValueError('Need at least 3 dates to infer frequency') in model 97 in generation 0: SeasonalNaive\n",
      "Model Number: 98 of 143 with model SeasonalNaive for Validation 3\n",
      "Template Eval Error: ValueError('Need at least 3 dates to infer frequency') in model 98 in generation 0: SeasonalNaive\n",
      "Model Number: 99 of 143 with model ConstantNaive for Validation 3\n",
      "Template Eval Error: ValueError('Need at least 3 dates to infer frequency') in model 99 in generation 0: ConstantNaive\n",
      "Model Number: 100 of 143 with model SeasonalNaive for Validation 3\n",
      "Template Eval Error: ValueError('Need at least 3 dates to infer frequency') in model 100 in generation 0: SeasonalNaive\n",
      "Model Number: 101 of 143 with model ConstantNaive for Validation 3\n",
      "Template Eval Error: ValueError('Need at least 3 dates to infer frequency') in model 101 in generation 0: ConstantNaive\n",
      "Model Number: 102 of 143 with model ARDL for Validation 3\n",
      "Template Eval Error: ValueError('Need at least 3 dates to infer frequency') in model 102 in generation 0: ARDL\n",
      "Model Number: 103 of 143 with model SeasonalityMotif for Validation 3\n",
      "Template Eval Error: ValueError('Need at least 3 dates to infer frequency') in model 103 in generation 0: SeasonalityMotif\n",
      "Model Number: 104 of 143 with model Theta for Validation 3\n",
      "Template Eval Error: ValueError('Need at least 3 dates to infer frequency') in model 104 in generation 0: Theta\n",
      "Model Number: 105 of 143 with model ARDL for Validation 3\n",
      "Template Eval Error: ValueError('Need at least 3 dates to infer frequency') in model 105 in generation 0: ARDL\n",
      "Model Number: 106 of 143 with model ARIMA for Validation 3\n",
      "Template Eval Error: ValueError('Need at least 3 dates to infer frequency') in model 106 in generation 0: ARIMA\n",
      "Model Number: 107 of 143 with model ARIMA for Validation 3\n",
      "Template Eval Error: ValueError('Need at least 3 dates to infer frequency') in model 107 in generation 0: ARIMA\n",
      "Model Number: 108 of 143 with model FBProphet for Validation 3\n",
      "Template Eval Error: ValueError('Need at least 3 dates to infer frequency') in model 108 in generation 0: FBProphet\n",
      "Model Number: 109 of 143 with model SeasonalityMotif for Validation 3\n",
      "Template Eval Error: ValueError('Need at least 3 dates to infer frequency') in model 109 in generation 0: SeasonalityMotif\n",
      "Model Number: 110 of 143 with model ARIMA for Validation 3\n",
      "Template Eval Error: ValueError('Need at least 3 dates to infer frequency') in model 110 in generation 0: ARIMA\n",
      "Model Number: 111 of 143 with model FBProphet for Validation 3\n",
      "Template Eval Error: ValueError('Need at least 3 dates to infer frequency') in model 111 in generation 0: FBProphet\n",
      "Model Number: 112 of 143 with model ConstantNaive for Validation 3\n",
      "Template Eval Error: ValueError('Need at least 3 dates to infer frequency') in model 112 in generation 0: ConstantNaive\n",
      "Model Number: 113 of 143 with model ARIMA for Validation 3\n",
      "Template Eval Error: ValueError('Need at least 3 dates to infer frequency') in model 113 in generation 0: ARIMA\n",
      "Model Number: 114 of 143 with model ARDL for Validation 3\n",
      "Template Eval Error: ValueError('Need at least 3 dates to infer frequency') in model 114 in generation 0: ARDL\n",
      "Model Number: 115 of 143 with model ConstantNaive for Validation 3\n",
      "Template Eval Error: ValueError('Need at least 3 dates to infer frequency') in model 115 in generation 0: ConstantNaive\n",
      "Model Number: 116 of 143 with model Theta for Validation 3\n",
      "Template Eval Error: ValueError('Need at least 3 dates to infer frequency') in model 116 in generation 0: Theta\n",
      "Model Number: 117 of 143 with model Theta for Validation 3\n",
      "Template Eval Error: ValueError('Need at least 3 dates to infer frequency') in model 117 in generation 0: Theta\n",
      "Model Number: 118 of 143 with model ARIMA for Validation 3\n",
      "Template Eval Error: ValueError('Need at least 3 dates to infer frequency') in model 118 in generation 0: ARIMA\n",
      "Model Number: 119 of 143 with model ConstantNaive for Validation 3\n",
      "Template Eval Error: ValueError('Need at least 3 dates to infer frequency') in model 119 in generation 0: ConstantNaive\n",
      "Model Number: 120 of 143 with model ARDL for Validation 3\n",
      "Template Eval Error: ValueError('Need at least 3 dates to infer frequency') in model 120 in generation 0: ARDL\n",
      "Model Number: 121 of 143 with model ARIMA for Validation 3\n",
      "Template Eval Error: ValueError('Need at least 3 dates to infer frequency') in model 121 in generation 0: ARIMA\n",
      "Model Number: 122 of 143 with model SeasonalityMotif for Validation 3\n",
      "Template Eval Error: ValueError('Need at least 3 dates to infer frequency') in model 122 in generation 0: SeasonalityMotif\n",
      "Model Number: 123 of 143 with model SeasonalityMotif for Validation 3\n",
      "Template Eval Error: ValueError('Need at least 3 dates to infer frequency') in model 123 in generation 0: SeasonalityMotif\n",
      "Model Number: 124 of 143 with model ARIMA for Validation 3\n",
      "Template Eval Error: ValueError('Need at least 3 dates to infer frequency') in model 124 in generation 0: ARIMA\n",
      "Model Number: 125 of 143 with model ARDL for Validation 3\n",
      "Template Eval Error: ValueError('Need at least 3 dates to infer frequency') in model 125 in generation 0: ARDL\n",
      "Model Number: 126 of 143 with model ARIMA for Validation 3\n",
      "Template Eval Error: ValueError('Need at least 3 dates to infer frequency') in model 126 in generation 0: ARIMA\n",
      "Model Number: 127 of 143 with model SeasonalityMotif for Validation 3\n",
      "Template Eval Error: ValueError('Need at least 3 dates to infer frequency') in model 127 in generation 0: SeasonalityMotif\n",
      "Model Number: 128 of 143 with model ARIMA for Validation 3\n",
      "Template Eval Error: ValueError('Need at least 3 dates to infer frequency') in model 128 in generation 0: ARIMA\n",
      "Model Number: 129 of 143 with model ARDL for Validation 3\n",
      "Template Eval Error: ValueError('Need at least 3 dates to infer frequency') in model 129 in generation 0: ARDL\n",
      "Model Number: 130 of 143 with model SeasonalityMotif for Validation 3\n",
      "Template Eval Error: ValueError('Need at least 3 dates to infer frequency') in model 130 in generation 0: SeasonalityMotif\n",
      "Model Number: 131 of 143 with model ConstantNaive for Validation 3\n",
      "Template Eval Error: ValueError('Need at least 3 dates to infer frequency') in model 131 in generation 0: ConstantNaive\n",
      "Model Number: 132 of 143 with model ConstantNaive for Validation 3\n",
      "Template Eval Error: ValueError('Need at least 3 dates to infer frequency') in model 132 in generation 0: ConstantNaive\n",
      "Model Number: 133 of 143 with model ARDL for Validation 3\n",
      "Template Eval Error: ValueError('Need at least 3 dates to infer frequency') in model 133 in generation 0: ARDL\n",
      "Model Number: 134 of 143 with model FBProphet for Validation 3\n",
      "Template Eval Error: ValueError('Need at least 3 dates to infer frequency') in model 134 in generation 0: FBProphet\n",
      "Model Number: 135 of 143 with model ConstantNaive for Validation 3\n",
      "Template Eval Error: ValueError('Need at least 3 dates to infer frequency') in model 135 in generation 0: ConstantNaive\n",
      "Model Number: 136 of 143 with model FBProphet for Validation 3\n",
      "Template Eval Error: ValueError('Need at least 3 dates to infer frequency') in model 136 in generation 0: FBProphet\n",
      "Model Number: 137 of 143 with model ConstantNaive for Validation 3\n",
      "Template Eval Error: ValueError('Need at least 3 dates to infer frequency') in model 137 in generation 0: ConstantNaive\n",
      "Model Number: 138 of 143 with model SeasonalityMotif for Validation 3\n",
      "Template Eval Error: ValueError('Need at least 3 dates to infer frequency') in model 138 in generation 0: SeasonalityMotif\n",
      "Model Number: 139 of 143 with model FBProphet for Validation 3\n",
      "Template Eval Error: ValueError('Need at least 3 dates to infer frequency') in model 139 in generation 0: FBProphet\n",
      "Model Number: 140 of 143 with model FBProphet for Validation 3\n",
      "Template Eval Error: ValueError('Need at least 3 dates to infer frequency') in model 140 in generation 0: FBProphet\n",
      "Model Number: 141 of 143 with model FBProphet for Validation 3\n",
      "Template Eval Error: ValueError('Need at least 3 dates to infer frequency') in model 141 in generation 0: FBProphet\n",
      "Model Number: 142 of 143 with model FBProphet for Validation 3\n",
      "Template Eval Error: ValueError('Need at least 3 dates to infer frequency') in model 142 in generation 0: FBProphet\n",
      "Model Number: 143 of 143 with model FBProphet for Validation 3\n",
      "Template Eval Error: ValueError('Need at least 3 dates to infer frequency') in model 143 in generation 0: FBProphet\n",
      "Generation 0 had all new models fail\n"
     ]
    },
    {
     "name": "stderr",
     "output_type": "stream",
     "text": [
      "WARNING - (py.warnings._showwarnmsg) - c:\\Users\\crudek\\AppData\\Local\\anaconda3\\envs\\newpycaret\\lib\\site-packages\\autots\\models\\ensemble.py:1021: FutureWarning: The default dtype for empty Series will be 'object' instead of 'float64' in a future version. Specify a dtype explicitly to silence this warning.\n",
      "  cur_mods = pd.Series(models_pos).value_counts()\n",
      "\n",
      "WARNING - (py.warnings._showwarnmsg) - c:\\Users\\crudek\\AppData\\Local\\anaconda3\\envs\\newpycaret\\lib\\site-packages\\autots\\models\\ensemble.py:1021: FutureWarning: The default dtype for empty Series will be 'object' instead of 'float64' in a future version. Specify a dtype explicitly to silence this warning.\n",
      "  cur_mods = pd.Series(models_pos).value_counts()\n",
      "\n",
      "WARNING - (py.warnings._showwarnmsg) - c:\\Users\\crudek\\AppData\\Local\\anaconda3\\envs\\newpycaret\\lib\\site-packages\\autots\\models\\ensemble.py:1021: FutureWarning: The default dtype for empty Series will be 'object' instead of 'float64' in a future version. Specify a dtype explicitly to silence this warning.\n",
      "  cur_mods = pd.Series(models_pos).value_counts()\n",
      "\n"
     ]
    },
    {
     "name": "stdout",
     "output_type": "stream",
     "text": [
      "Model Number: 1488 with model Ensemble in generation 12 of Ensembles\n",
      "Template Eval Error: ValueError('BestN failed, no component models available.') in model 1488 in generation 12: Ensemble\n",
      "Model Number: 1489 with model Ensemble in generation 12 of Ensembles\n",
      "Template Eval Error: ValueError('BestN failed, no component models available.') in model 1489 in generation 12: Ensemble\n",
      "Model Number: 1490 with model Ensemble in generation 12 of Ensembles\n",
      "Template Eval Error: ValueError('BestN failed, no component models available.') in model 1490 in generation 12: Ensemble\n",
      "Generation 12 had all new models fail\n",
      "Validation Round: 1\n",
      "Model Number: 1 of 3 with model Ensemble for Validation 1\n",
      "Template Eval Error: ValueError('BestN failed, no component models available.') in model 1 in generation 0: Ensemble\n",
      "Model Number: 2 of 3 with model Ensemble for Validation 1\n",
      "Template Eval Error: ValueError('BestN failed, no component models available.') in model 2 in generation 0: Ensemble\n",
      "Model Number: 3 of 3 with model Ensemble for Validation 1\n",
      "Template Eval Error: ValueError('BestN failed, no component models available.') in model 3 in generation 0: Ensemble\n",
      "Generation 0 had all new models fail\n",
      "Validation Round: 2\n",
      "Model Number: 1 of 3 with model Ensemble for Validation 2\n",
      "Template Eval Error: ValueError('BestN failed, no component models available.') in model 1 in generation 0: Ensemble\n",
      "Model Number: 2 of 3 with model Ensemble for Validation 2\n",
      "Template Eval Error: ValueError('BestN failed, no component models available.') in model 2 in generation 0: Ensemble\n",
      "Model Number: 3 of 3 with model Ensemble for Validation 2\n",
      "Template Eval Error: ValueError('BestN failed, no component models available.') in model 3 in generation 0: Ensemble\n",
      "Generation 0 had all new models fail\n",
      "Validation Round: 3\n",
      "Model Number: 1 of 3 with model Ensemble for Validation 3\n",
      "Template Eval Error: ValueError('Need at least 3 dates to infer frequency') in model 1 in generation 0: Ensemble\n",
      "Model Number: 2 of 3 with model Ensemble for Validation 3\n",
      "Template Eval Error: ValueError('Need at least 3 dates to infer frequency') in model 2 in generation 0: Ensemble\n",
      "Model Number: 3 of 3 with model Ensemble for Validation 3\n",
      "Template Eval Error: ValueError('Need at least 3 dates to infer frequency') in model 3 in generation 0: Ensemble\n",
      "Generation 0 had all new models fail\n",
      "your validation results are questionable, perhaps bad data and too many validations\n"
     ]
    }
   ],
   "source": [
    "# model\n",
    "model = AutoTS(\n",
    "    forecast_length = 3,\n",
    "    frequency = 'infer',\n",
    "    ensemble = 'simple', \n",
    "    models_mode = 'deep',\n",
    "    model_list = 'univariate',\n",
    "    max_generations = 10,\n",
    "    num_validations = 10,\n",
    "    no_negatives = True,\n",
    "    n_jobs = 'auto'\n",
    ")\n",
    "\n",
    "model = model.fit(\n",
    "    data,\n",
    "    date_col = 'ds',\n",
    "    value_col = 'y',\n",
    ")\n",
    "\n",
    "# print(model)\n",
    "\n",
    "# create prediction\n",
    "prediction = model.predict(forecast_length=3)\n",
    "\n",
    "# temp fcast dataframe\n",
    "temp_fcasts = prediction.forecast"
   ]
  },
  {
   "cell_type": "code",
   "execution_count": 20,
   "metadata": {},
   "outputs": [
    {
     "data": {
      "text/html": [
       "<div>\n",
       "<style scoped>\n",
       "    .dataframe tbody tr th:only-of-type {\n",
       "        vertical-align: middle;\n",
       "    }\n",
       "\n",
       "    .dataframe tbody tr th {\n",
       "        vertical-align: top;\n",
       "    }\n",
       "\n",
       "    .dataframe thead th {\n",
       "        text-align: right;\n",
       "    }\n",
       "</style>\n",
       "<table border=\"1\" class=\"dataframe\">\n",
       "  <thead>\n",
       "    <tr style=\"text-align: right;\">\n",
       "      <th></th>\n",
       "      <th>y</th>\n",
       "    </tr>\n",
       "  </thead>\n",
       "  <tbody>\n",
       "    <tr>\n",
       "      <th>2023-10-01</th>\n",
       "      <td>5765.746141</td>\n",
       "    </tr>\n",
       "    <tr>\n",
       "      <th>2023-11-01</th>\n",
       "      <td>10346.619397</td>\n",
       "    </tr>\n",
       "    <tr>\n",
       "      <th>2023-12-01</th>\n",
       "      <td>12986.400000</td>\n",
       "    </tr>\n",
       "  </tbody>\n",
       "</table>\n",
       "</div>"
      ],
      "text/plain": [
       "                       y\n",
       "2023-10-01   5765.746141\n",
       "2023-11-01  10346.619397\n",
       "2023-12-01  12986.400000"
      ]
     },
     "execution_count": 20,
     "metadata": {},
     "output_type": "execute_result"
    }
   ],
   "source": [
    "temp_fcasts"
   ]
  }
 ],
 "metadata": {
  "kernelspec": {
   "display_name": "newpycaret",
   "language": "python",
   "name": "python3"
  },
  "language_info": {
   "codemirror_mode": {
    "name": "ipython",
    "version": 3
   },
   "file_extension": ".py",
   "mimetype": "text/x-python",
   "name": "python",
   "nbconvert_exporter": "python",
   "pygments_lexer": "ipython3",
   "version": "3.9.13"
  }
 },
 "nbformat": 4,
 "nbformat_minor": 2
}
