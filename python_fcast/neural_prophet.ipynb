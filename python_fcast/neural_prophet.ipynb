{
 "cells": [
  {
   "cell_type": "markdown",
   "metadata": {},
   "source": [
    "# Neural Prohpet\n",
    "newpycaret env\n",
    "\n",
    "https://github.com/ourownstory/neural_prophet\n",
    "https://neuralprophet.com/how-to-guides/feature-guides/global_local_modeling.html\n"
   ]
  },
  {
   "cell_type": "code",
   "execution_count": 5,
   "metadata": {},
   "outputs": [],
   "source": [
    "# Packages\n",
    "import pandas as pd\n",
    "import numpy as np\n",
    "import matplotlib.pyplot as plt\n",
    "import snowflake.connector\n",
    "import os\n",
    "from sklearn.impute import SimpleImputer\n",
    "from neuralprophet import NeuralProphet, set_log_level\n",
    "from datetime import datetime, timedelta\n",
    "from dateutil import relativedelta"
   ]
  },
  {
   "cell_type": "markdown",
   "metadata": {},
   "source": [
    "2. Load Data\n",
    "_______________________________________________________________\n",
    "\n",
    "### To Do: copy and paste in to a new chunk, enter credentials and run to save in environment. Then delete chunk\n",
    "%env snowflakeuser=<your_snowflake_username> <br>\n",
    "%env snowflakepass=<your_snowflake_password>"
   ]
  },
  {
   "cell_type": "code",
   "execution_count": 3,
   "metadata": {},
   "outputs": [
    {
     "name": "stderr",
     "output_type": "stream",
     "text": [
      "WARNING - (py.warnings._showwarnmsg) - C:\\Users\\crudek\\AppData\\Local\\Temp\\ipykernel_10272\\2623517584.py:19: UserWarning: pandas only supports SQLAlchemy connectable (engine/connection) or database string URI or sqlite3 DBAPI2 connection. Other DBAPI2 objects are not tested. Please consider using SQLAlchemy.\n",
      "  df_initial = pd.read_sql_query(query.read(), conn)\n",
      "\n"
     ]
    }
   ],
   "source": [
    "# Query Snowflake\n",
    "\n",
    "# Snowflake connection parameters\n",
    "connection_params = {\n",
    "    \"user\": os.environ['snowflakeuser'],\n",
    "    \"password\": os.environ['snowflakepass'],\n",
    "    \"account\": \"zib52348.us-east-1\",\n",
    "    \"role\": \"ACCOUNTADMIN\",\n",
    "    \"warehouse\": \"REPORTING\",\n",
    "    \"database\": \"ANALYTICS\",\n",
    "    \"schema\": \"FORECASTING\",\n",
    "}\n",
    "\n",
    "# Establish a connection to Snowflake\n",
    "conn = snowflake.connector.connect(**connection_params)\n",
    "\n",
    "with open('net_sales_query.sql', 'r') as query:\n",
    "    # connection == the connection to your database, in your case prob_db\n",
    "    df_initial = pd.read_sql_query(query.read(), conn)\n",
    "\n",
    "# Close the connection\n",
    "conn.close()"
   ]
  },
  {
   "cell_type": "code",
   "execution_count": 48,
   "metadata": {},
   "outputs": [],
   "source": [
    "##### INITIAL VARIABLE DECLARATION #####\n",
    "\n",
    "# Get the current date\n",
    "current_date = pd.to_datetime(datetime.today().date())\n",
    "\n",
    "# Calculate the first day of the current month\n",
    "first_day_of_current_month = pd.to_datetime(current_date.replace(day=1))\n",
    "\n",
    "# Calculate the first day of the next month\n",
    "first_day_of_next_month = datetime(current_date.year, current_date.month + 1, 1)\n",
    "\n",
    "# Calculate the first day of the last month\n",
    "last_day_of_last_month = first_day_of_current_month - timedelta(days=1)\n",
    "first_day_of_last_month = last_day_of_last_month.replace(day=1)\n",
    "\n",
    "\n",
    "\n",
    "\n",
    "### MANUAL INPUTS ###\n",
    "\n",
    "# how much data do you want to keep to train models. \n",
    "end_of_data = first_day_of_last_month # the default which is the max date this should ever be because it would include all months that have full data\n",
    "#end_of_data = pd.to_datetime('2022-12-01')\n",
    "\n",
    "# forecast horizon = how many months in to the future you want to forecast. So, we will forecast this many months past the above end_of_data\n",
    "fh = 15\n",
    "\n",
    "\n",
    "\n",
    "\n",
    "### FORECAST HORIZON (FH) DATAFRAME ###\n",
    "\n",
    "end_of_data_next_month = end_of_data + relativedelta.relativedelta(months=1, day=1)\n",
    "end_of_data_df = pd.DataFrame({'end_of_data': [end_of_data_next_month]})\n",
    "end_of_data_df['end_of_data'] = pd.to_datetime(end_of_data_df['end_of_data'])\n",
    "\n",
    "# Create a date range for the next 12 months\n",
    "next_12_months = pd.date_range(start=end_of_data_df['end_of_data'].iloc[0], periods=fh, freq='MS')\n",
    "\n",
    "fh_dates_df = pd.DataFrame({'MONTH': next_12_months})\n",
    "\n",
    "\n",
    "\n",
    "\n",
    "### INITIAL DATA PREPARATION ###\n",
    "\n",
    "# create copy of df_d\n",
    "df = df_initial.copy(deep=True)\n",
    "\n",
    "# convert month field to date\n",
    "df[\"MONTH\"] = pd.to_datetime(df[\"MONTH\"])\n",
    "\n",
    "# Some random months will have data that we want to remove (* Want to test without July though)\n",
    "df = df[[\"DEP_ENT\", \"MONTH\", \"NET_SALES\"]]  # select fields of interest\n",
    "df = df.sort_values(['DEP_ENT', 'MONTH'])  # reorder dataframe\n",
    "\n",
    "# remove data after the 'end of data' setting above\n",
    "df_sub = df[df['MONTH'] <= end_of_data]\n",
    "\n",
    "# create series\n",
    "df_s = df_sub.set_index(['DEP_ENT','MONTH'])['NET_SALES']\n",
    "# convert back to dataframe\n",
    "df_d = df_s.to_frame()\n",
    "#reset index\n",
    "df_d.reset_index(inplace=True)\n",
    "\n",
    "\n",
    "\n",
    "\n",
    "### IMPUTE MISSIG VALUES WITH MONTH AND MEAN OR 0 ###\n",
    "\n",
    "# list of each dep-ent\n",
    "all_dep_ent = df_d['DEP_ENT'].unique()\n",
    "\n",
    "# Create empty dataframe\n",
    "df_subset_all = pd.DataFrame()\n",
    "\n",
    "for i in all_dep_ent:\n",
    "    \n",
    "    temp_subset = df_d[df_d['DEP_ENT'] == i]\n",
    "    \n",
    "    # Define the minimum and maximum dates\n",
    "    min_date = min(temp_subset['MONTH'])\n",
    "    max_date = end_of_data # max(temp_subset['MONTH'])\n",
    "\n",
    "    # Generate a list of dates for each month in between\n",
    "    date_range = []\n",
    "    current_month = min_date.replace(day=1)\n",
    "    while current_month <= max_date:\n",
    "        date_range.append(current_month)\n",
    "        current_month = current_month + timedelta(days=32)\n",
    "        current_month = current_month.replace(day=1)\n",
    "\n",
    "    # Create a DataFrame from the list of dates\n",
    "    date_range_df = pd.DataFrame({'MONTH': date_range})\n",
    "\n",
    "    df_merged = pd.merge(date_range_df, temp_subset, on='MONTH', how='left')\n",
    "\n",
    "    #Finding the mean of the column having NaN\n",
    "    mean_value = df_merged['NET_SALES'].mean()\n",
    "    \n",
    "    # Replace NaNs in column S2 with the\n",
    "    # mean of values in the same column\n",
    "    # could use mean or 0\n",
    "    df_merged['NET_SALES'].fillna(value=0, inplace=True)\n",
    "    \n",
    "    df_merged['DEP_ENT'] = i\n",
    "\n",
    "    df_subset_all = pd.concat([df_subset_all,df_merged])\n",
    "\n",
    "# change negatives to 0\n",
    "df_subset_all.loc[df_subset_all['NET_SALES'] < 0, 'NET_SALES'] = 0\n",
    "\n",
    "\n",
    "### FILL DATES THROUGH END OF FORECAST HORIZON ###\n",
    "\n",
    "# Create empty dataframe\n",
    "df_subset_all2 = pd.DataFrame()\n",
    "\n",
    "for i in all_dep_ent:\n",
    "    # filter to one dep_ent\n",
    "    temp_subset2 = df_subset_all[df_subset_all['DEP_ENT'] == i]\n",
    "    # temp result\n",
    "    temp_result2 = pd.merge(temp_subset2, fh_dates_df, on='MONTH', how='outer')\n",
    "    temp_result2['DEP_ENT'] = i\n",
    "    \n",
    "    # combine for all dep_ents\n",
    "    df_subset_all2 = pd.concat([df_subset_all2,temp_result2])\n",
    "\n",
    "# rename columns for prophet\n",
    "df_rename = df_subset_all2.copy()\n",
    "df_rename.rename(columns={'MONTH': 'ds', 'NET_SALES': 'y', 'DEP_ENT': 'ID'}, inplace=True)"
   ]
  },
  {
   "cell_type": "code",
   "execution_count": 49,
   "metadata": {},
   "outputs": [
    {
     "data": {
      "application/vnd.jupyter.widget-view+json": {
       "model_id": "85063f1c3b7f430390547a520bf46b24",
       "version_major": 2,
       "version_minor": 0
      },
      "text/plain": [
       "Finding best initial lr:   0%|          | 0/207 [00:00<?, ?it/s]"
      ]
     },
     "metadata": {},
     "output_type": "display_data"
    },
    {
     "data": {
      "application/vnd.jupyter.widget-view+json": {
       "model_id": "f71dfaf735a9492fbd5d4abf1782604a",
       "version_major": 2,
       "version_minor": 0
      },
      "text/plain": [
       "Training: 0it [00:00, ?it/s]"
      ]
     },
     "metadata": {},
     "output_type": "display_data"
    },
    {
     "data": {
      "application/vnd.jupyter.widget-view+json": {
       "model_id": "aa8cbebce3bf4c788f28163e8da9ac11",
       "version_major": 2,
       "version_minor": 0
      },
      "text/plain": [
       "Predicting: 6it [00:00, ?it/s]"
      ]
     },
     "metadata": {},
     "output_type": "display_data"
    },
    {
     "data": {
      "application/vnd.jupyter.widget-view+json": {
       "model_id": "93792f82f1d84aaab66c34d59101626d",
       "version_major": 2,
       "version_minor": 0
      },
      "text/plain": [
       "Finding best initial lr:   0%|          | 0/207 [00:00<?, ?it/s]"
      ]
     },
     "metadata": {},
     "output_type": "display_data"
    },
    {
     "data": {
      "application/vnd.jupyter.widget-view+json": {
       "model_id": "82f18a6f673e4e208337fa710a86e48f",
       "version_major": 2,
       "version_minor": 0
      },
      "text/plain": [
       "Training: 0it [00:00, ?it/s]"
      ]
     },
     "metadata": {},
     "output_type": "display_data"
    },
    {
     "data": {
      "application/vnd.jupyter.widget-view+json": {
       "model_id": "d3555b60c2fe4492bdce43e386df780d",
       "version_major": 2,
       "version_minor": 0
      },
      "text/plain": [
       "Predicting: 6it [00:00, ?it/s]"
      ]
     },
     "metadata": {},
     "output_type": "display_data"
    },
    {
     "data": {
      "application/vnd.jupyter.widget-view+json": {
       "model_id": "c56aa2d8398247588aaca16f86e8e914",
       "version_major": 2,
       "version_minor": 0
      },
      "text/plain": [
       "Finding best initial lr:   0%|          | 0/207 [00:00<?, ?it/s]"
      ]
     },
     "metadata": {},
     "output_type": "display_data"
    },
    {
     "data": {
      "application/vnd.jupyter.widget-view+json": {
       "model_id": "5a50a1a12c0b4c27b64cb2db9ad3cf79",
       "version_major": 2,
       "version_minor": 0
      },
      "text/plain": [
       "Training: 0it [00:00, ?it/s]"
      ]
     },
     "metadata": {},
     "output_type": "display_data"
    },
    {
     "data": {
      "application/vnd.jupyter.widget-view+json": {
       "model_id": "0f49a6ca20004745a0b7966ae887dbc5",
       "version_major": 2,
       "version_minor": 0
      },
      "text/plain": [
       "Predicting: 6it [00:00, ?it/s]"
      ]
     },
     "metadata": {},
     "output_type": "display_data"
    },
    {
     "data": {
      "application/vnd.jupyter.widget-view+json": {
       "model_id": "7f095ed574c846b0844d65830daf6fd8",
       "version_major": 2,
       "version_minor": 0
      },
      "text/plain": [
       "Finding best initial lr:   0%|          | 0/207 [00:00<?, ?it/s]"
      ]
     },
     "metadata": {},
     "output_type": "display_data"
    },
    {
     "data": {
      "application/vnd.jupyter.widget-view+json": {
       "model_id": "2bfb05ad923f41fcb13ccb4c8a379d8d",
       "version_major": 2,
       "version_minor": 0
      },
      "text/plain": [
       "Training: 0it [00:00, ?it/s]"
      ]
     },
     "metadata": {},
     "output_type": "display_data"
    },
    {
     "data": {
      "application/vnd.jupyter.widget-view+json": {
       "model_id": "53d93f5ce12a45c9a694c92dcbc864bf",
       "version_major": 2,
       "version_minor": 0
      },
      "text/plain": [
       "Predicting: 6it [00:00, ?it/s]"
      ]
     },
     "metadata": {},
     "output_type": "display_data"
    },
    {
     "data": {
      "application/vnd.jupyter.widget-view+json": {
       "model_id": "168857b5cdba4eff8b105d7c6d618bd4",
       "version_major": 2,
       "version_minor": 0
      },
      "text/plain": [
       "Finding best initial lr:   0%|          | 0/207 [00:00<?, ?it/s]"
      ]
     },
     "metadata": {},
     "output_type": "display_data"
    },
    {
     "data": {
      "application/vnd.jupyter.widget-view+json": {
       "model_id": "81b50e010d5d46caa9218aafc555c26f",
       "version_major": 2,
       "version_minor": 0
      },
      "text/plain": [
       "Training: 0it [00:00, ?it/s]"
      ]
     },
     "metadata": {},
     "output_type": "display_data"
    },
    {
     "data": {
      "application/vnd.jupyter.widget-view+json": {
       "model_id": "8743e0c2013c4bfe935297ae894fcf0c",
       "version_major": 2,
       "version_minor": 0
      },
      "text/plain": [
       "Predicting: 6it [00:00, ?it/s]"
      ]
     },
     "metadata": {},
     "output_type": "display_data"
    },
    {
     "data": {
      "application/vnd.jupyter.widget-view+json": {
       "model_id": "0828209834e747569905c3f2ed248018",
       "version_major": 2,
       "version_minor": 0
      },
      "text/plain": [
       "Finding best initial lr:   0%|          | 0/207 [00:00<?, ?it/s]"
      ]
     },
     "metadata": {},
     "output_type": "display_data"
    },
    {
     "data": {
      "application/vnd.jupyter.widget-view+json": {
       "model_id": "8080180a679f42b4ba86a19ec10202aa",
       "version_major": 2,
       "version_minor": 0
      },
      "text/plain": [
       "Training: 0it [00:00, ?it/s]"
      ]
     },
     "metadata": {},
     "output_type": "display_data"
    },
    {
     "data": {
      "application/vnd.jupyter.widget-view+json": {
       "model_id": "a9f16ac2071b42f08666da6990fd1256",
       "version_major": 2,
       "version_minor": 0
      },
      "text/plain": [
       "Predicting: 6it [00:00, ?it/s]"
      ]
     },
     "metadata": {},
     "output_type": "display_data"
    },
    {
     "data": {
      "application/vnd.jupyter.widget-view+json": {
       "model_id": "00157aa4280a423a9224e2afcbb4d593",
       "version_major": 2,
       "version_minor": 0
      },
      "text/plain": [
       "Finding best initial lr:   0%|          | 0/207 [00:00<?, ?it/s]"
      ]
     },
     "metadata": {},
     "output_type": "display_data"
    },
    {
     "data": {
      "application/vnd.jupyter.widget-view+json": {
       "model_id": "3107ed1f51f9456bacdb1f30a636583e",
       "version_major": 2,
       "version_minor": 0
      },
      "text/plain": [
       "Training: 0it [00:00, ?it/s]"
      ]
     },
     "metadata": {},
     "output_type": "display_data"
    },
    {
     "data": {
      "application/vnd.jupyter.widget-view+json": {
       "model_id": "eba155dafe2f4e68b7dd16dcf3ee80a3",
       "version_major": 2,
       "version_minor": 0
      },
      "text/plain": [
       "Predicting: 6it [00:00, ?it/s]"
      ]
     },
     "metadata": {},
     "output_type": "display_data"
    },
    {
     "data": {
      "application/vnd.jupyter.widget-view+json": {
       "model_id": "b5cc76e471eb4dbb9ab083d64f0133d8",
       "version_major": 2,
       "version_minor": 0
      },
      "text/plain": [
       "Finding best initial lr:   0%|          | 0/207 [00:00<?, ?it/s]"
      ]
     },
     "metadata": {},
     "output_type": "display_data"
    },
    {
     "data": {
      "application/vnd.jupyter.widget-view+json": {
       "model_id": "d89fd2da274b438cba14eaea0ea3c3da",
       "version_major": 2,
       "version_minor": 0
      },
      "text/plain": [
       "Training: 0it [00:00, ?it/s]"
      ]
     },
     "metadata": {},
     "output_type": "display_data"
    },
    {
     "data": {
      "application/vnd.jupyter.widget-view+json": {
       "model_id": "394f12f6a38342a0acb4c72f5a66cab4",
       "version_major": 2,
       "version_minor": 0
      },
      "text/plain": [
       "Predicting: 6it [00:00, ?it/s]"
      ]
     },
     "metadata": {},
     "output_type": "display_data"
    },
    {
     "data": {
      "application/vnd.jupyter.widget-view+json": {
       "model_id": "f7aefc44cbb541e2b5998cc63aad18f1",
       "version_major": 2,
       "version_minor": 0
      },
      "text/plain": [
       "Finding best initial lr:   0%|          | 0/206 [00:00<?, ?it/s]"
      ]
     },
     "metadata": {},
     "output_type": "display_data"
    },
    {
     "data": {
      "application/vnd.jupyter.widget-view+json": {
       "model_id": "a56c1f9b78b344dea0f412a603c6f563",
       "version_major": 2,
       "version_minor": 0
      },
      "text/plain": [
       "Training: 0it [00:00, ?it/s]"
      ]
     },
     "metadata": {},
     "output_type": "display_data"
    },
    {
     "data": {
      "application/vnd.jupyter.widget-view+json": {
       "model_id": "71c3616dd11c4f4cb9d4920e5360762e",
       "version_major": 2,
       "version_minor": 0
      },
      "text/plain": [
       "Predicting: 6it [00:00, ?it/s]"
      ]
     },
     "metadata": {},
     "output_type": "display_data"
    },
    {
     "data": {
      "application/vnd.jupyter.widget-view+json": {
       "model_id": "152525ee33bf4255a2edeb3fd32963d1",
       "version_major": 2,
       "version_minor": 0
      },
      "text/plain": [
       "Finding best initial lr:   0%|          | 0/207 [00:00<?, ?it/s]"
      ]
     },
     "metadata": {},
     "output_type": "display_data"
    },
    {
     "data": {
      "application/vnd.jupyter.widget-view+json": {
       "model_id": "a87c863161594a69a2de39e6255bf1d7",
       "version_major": 2,
       "version_minor": 0
      },
      "text/plain": [
       "Training: 0it [00:00, ?it/s]"
      ]
     },
     "metadata": {},
     "output_type": "display_data"
    },
    {
     "data": {
      "application/vnd.jupyter.widget-view+json": {
       "model_id": "674d96db6998412098ac8cc83bcd8c34",
       "version_major": 2,
       "version_minor": 0
      },
      "text/plain": [
       "Predicting: 6it [00:00, ?it/s]"
      ]
     },
     "metadata": {},
     "output_type": "display_data"
    },
    {
     "data": {
      "application/vnd.jupyter.widget-view+json": {
       "model_id": "494c4e5f5f9b4a42a7321738d4724b8f",
       "version_major": 2,
       "version_minor": 0
      },
      "text/plain": [
       "Finding best initial lr:   0%|          | 0/207 [00:00<?, ?it/s]"
      ]
     },
     "metadata": {},
     "output_type": "display_data"
    },
    {
     "data": {
      "application/vnd.jupyter.widget-view+json": {
       "model_id": "fd92e418cfbc4f26bd3886e83310ec30",
       "version_major": 2,
       "version_minor": 0
      },
      "text/plain": [
       "Training: 0it [00:00, ?it/s]"
      ]
     },
     "metadata": {},
     "output_type": "display_data"
    },
    {
     "data": {
      "application/vnd.jupyter.widget-view+json": {
       "model_id": "f3a796d1b7d44753aa726ad6c7bc2d83",
       "version_major": 2,
       "version_minor": 0
      },
      "text/plain": [
       "Predicting: 6it [00:00, ?it/s]"
      ]
     },
     "metadata": {},
     "output_type": "display_data"
    },
    {
     "data": {
      "application/vnd.jupyter.widget-view+json": {
       "model_id": "b8021dc5093d4d5db7628a0036ccdbda",
       "version_major": 2,
       "version_minor": 0
      },
      "text/plain": [
       "Finding best initial lr:   0%|          | 0/205 [00:00<?, ?it/s]"
      ]
     },
     "metadata": {},
     "output_type": "display_data"
    },
    {
     "data": {
      "application/vnd.jupyter.widget-view+json": {
       "model_id": "e796e39e93154354bf5d62a0c61935c5",
       "version_major": 2,
       "version_minor": 0
      },
      "text/plain": [
       "Training: 0it [00:00, ?it/s]"
      ]
     },
     "metadata": {},
     "output_type": "display_data"
    },
    {
     "data": {
      "application/vnd.jupyter.widget-view+json": {
       "model_id": "11f2b11c06be476292b0e02221176a2d",
       "version_major": 2,
       "version_minor": 0
      },
      "text/plain": [
       "Predicting: 4it [00:00, ?it/s]"
      ]
     },
     "metadata": {},
     "output_type": "display_data"
    },
    {
     "data": {
      "application/vnd.jupyter.widget-view+json": {
       "model_id": "117fd558ea834338bc5c5a96f52acc23",
       "version_major": 2,
       "version_minor": 0
      },
      "text/plain": [
       "Finding best initial lr:   0%|          | 0/207 [00:00<?, ?it/s]"
      ]
     },
     "metadata": {},
     "output_type": "display_data"
    },
    {
     "data": {
      "application/vnd.jupyter.widget-view+json": {
       "model_id": "f47b2612fa1943e59513e7929f3c71c4",
       "version_major": 2,
       "version_minor": 0
      },
      "text/plain": [
       "Training: 0it [00:00, ?it/s]"
      ]
     },
     "metadata": {},
     "output_type": "display_data"
    },
    {
     "data": {
      "application/vnd.jupyter.widget-view+json": {
       "model_id": "61ded80452d0424d84559585189d0f2b",
       "version_major": 2,
       "version_minor": 0
      },
      "text/plain": [
       "Predicting: 6it [00:00, ?it/s]"
      ]
     },
     "metadata": {},
     "output_type": "display_data"
    },
    {
     "data": {
      "application/vnd.jupyter.widget-view+json": {
       "model_id": "5e041fc79db94b119e082b1c5e4fca15",
       "version_major": 2,
       "version_minor": 0
      },
      "text/plain": [
       "Finding best initial lr:   0%|          | 0/204 [00:00<?, ?it/s]"
      ]
     },
     "metadata": {},
     "output_type": "display_data"
    },
    {
     "data": {
      "application/vnd.jupyter.widget-view+json": {
       "model_id": "74f9a5f6e0c940b19a0e3d168fb13924",
       "version_major": 2,
       "version_minor": 0
      },
      "text/plain": [
       "Training: 0it [00:00, ?it/s]"
      ]
     },
     "metadata": {},
     "output_type": "display_data"
    },
    {
     "data": {
      "application/vnd.jupyter.widget-view+json": {
       "model_id": "c9f3858a960a4d48a63b778470ff5cf4",
       "version_major": 2,
       "version_minor": 0
      },
      "text/plain": [
       "Predicting: 4it [00:00, ?it/s]"
      ]
     },
     "metadata": {},
     "output_type": "display_data"
    }
   ],
   "source": [
    "# Disable logging messages unless there is an error\n",
    "set_log_level(\"ERROR\")\n",
    "\n",
    "# Initialize a dictionary to store individual models and forecasts\n",
    "id_models = {}\n",
    "id_forecasts = {}\n",
    "\n",
    "# Group data by ID\n",
    "grouped = df_rename.groupby('ID')\n",
    "\n",
    "# Loop through each group (ID) and create models and forecasts\n",
    "for group_name, group_data in grouped:\n",
    "    group_data = group_data.rename(columns={'ds': 'ds', 'y': 'y'})\n",
    "    group_data_trim = group_data[group_data['ds'] <= end_of_data]\n",
    "    \n",
    "    # Initialize and train the model\n",
    "    model = NeuralProphet()\n",
    "    model.fit(group_data_trim, freq=\"MS\")\n",
    "    \n",
    "    # Store the model for the current ID\n",
    "    id_models[group_name] = model\n",
    "    \n",
    "    # Create a dataframe with future dates for prediction\n",
    "    future = model.make_future_dataframe(group_data_trim, periods=fh, n_historic_predictions=len(group_data_trim))\n",
    "    \n",
    "    # Make predictions for the next 12 periods\n",
    "    forecast = model.predict(future)\n",
    "    \n",
    "    # Store the forecast for the current ID\n",
    "    id_forecasts[group_name] = forecast"
   ]
  },
  {
   "cell_type": "code",
   "execution_count": 50,
   "metadata": {},
   "outputs": [],
   "source": [
    "# Initialize a dataframe to store final predictions\n",
    "all_np_preds = pd.DataFrame()\n",
    "\n",
    "# Loop through each group (ID) and get final pred\n",
    "for group_name, group_data in grouped:\n",
    "    \n",
    "    # create temp table with fcasts for id (dep-ent)\n",
    "    temp_fcast = id_forecasts[group_name]\n",
    "    \n",
    "    # filter to just the predictions in the future\n",
    "    temp_fcast = temp_fcast.tail(fh)[[\"ds\", \"yhat1\"]]\n",
    "    \n",
    "    # add id (dep-ent)\n",
    "    temp_fcast['ID'] = group_name\n",
    "\n",
    "    # create master list of predictions    \n",
    "    all_np_preds = pd.concat([all_np_preds, temp_fcast])"
   ]
  },
  {
   "cell_type": "code",
   "execution_count": 51,
   "metadata": {},
   "outputs": [
    {
     "name": "stderr",
     "output_type": "stream",
     "text": [
      "WARNING - (py.warnings._showwarnmsg) - C:\\Users\\crudek\\AppData\\Local\\Temp\\ipykernel_10272\\3950419347.py:10: SettingWithCopyWarning: \n",
      "A value is trying to be set on a copy of a slice from a DataFrame.\n",
      "Try using .loc[row_indexer,col_indexer] = value instead\n",
      "\n",
      "See the caveats in the documentation: https://pandas.pydata.org/pandas-docs/stable/user_guide/indexing.html#returning-a-view-versus-a-copy\n",
      "  sales[\"MONTH\"] = pd.to_datetime(sales[\"MONTH\"])\n",
      "\n"
     ]
    }
   ],
   "source": [
    "### AFTER THE LOOP ###\n",
    "\n",
    "# rename index col\n",
    "all_np_preds.rename(columns={'ds': 'MONTH', 'yhat1': 'PRED', 'ID': 'DEP_ENT' }, inplace=True)\n",
    "\n",
    "# initial sales pull\n",
    "sales = df_initial\n",
    "# select cols\n",
    "sales = sales[[\"DEP_ENT\", \"MONTH\", \"NET_SALES\"]]\n",
    "sales[\"MONTH\"] = pd.to_datetime(sales[\"MONTH\"])\n",
    "# only include sales data for the full months we have\n",
    "sales = sales[sales['MONTH'] <  pd.to_datetime(first_day_of_current_month)]\n",
    "\n",
    "# combine prediction data and original sales data\n",
    "merged = pd.merge(all_np_preds, sales, how='left', on=['DEP_ENT', 'MONTH'])"
   ]
  },
  {
   "cell_type": "code",
   "execution_count": 52,
   "metadata": {},
   "outputs": [
    {
     "name": "stderr",
     "output_type": "stream",
     "text": [
      "WARNING - (py.warnings._showwarnmsg) - C:\\Users\\crudek\\AppData\\Local\\Temp\\ipykernel_10272\\690824450.py:8: UserWarning: pandas only supports SQLAlchemy connectable (engine/connection) or database string URI or sqlite3 DBAPI2 connection. Other DBAPI2 objects are not tested. Please consider using SQLAlchemy.\n",
      "  budg = pd.read_sql_query(query.read(), conn)\n",
      "\n"
     ]
    }
   ],
   "source": [
    "### BUDGET ###\n",
    "\n",
    "# Establish a connection to Snowflake\n",
    "conn = snowflake.connector.connect(**connection_params)\n",
    "\n",
    "with open('budget_query.sql', 'r') as query:\n",
    "    # connection == the connection to your database, in your case prob_db\n",
    "    budg = pd.read_sql_query(query.read(), conn)\n",
    "\n",
    "# Close the connection\n",
    "conn.close()\n",
    "\n",
    "# convert month to datetime\n",
    "budg[\"MONTH\"] = pd.to_datetime(budg[\"MONTH\"])\n",
    "# select cols\n",
    "budg = budg[[\"MONTH\", \"BUDGET_AMOUNT\", \"DEP_ENT\"]]"
   ]
  },
  {
   "cell_type": "code",
   "execution_count": 53,
   "metadata": {},
   "outputs": [],
   "source": [
    "# combine prediction/sales data with budget data\n",
    "merged2 = pd.merge(merged, budg, how='left', on=['DEP_ENT', 'MONTH'])\n",
    "\n",
    "# write csv\n",
    "merged2.to_csv('np_pred.csv')"
   ]
  },
  {
   "cell_type": "code",
   "execution_count": 55,
   "metadata": {},
   "outputs": [
    {
     "ename": "TypeError",
     "evalue": "filter() got an unexpected keyword argument 'DEP_ENT'",
     "output_type": "error",
     "traceback": [
      "\u001b[1;31m---------------------------------------------------------------------------\u001b[0m",
      "\u001b[1;31mTypeError\u001b[0m                                 Traceback (most recent call last)",
      "\u001b[1;32mc:\\Users\\crudek\\Github\\practical\\python_fcast\\neural_prophet.ipynb Cell 11\u001b[0m line \u001b[0;36m1\n\u001b[1;32m----> <a href='vscode-notebook-cell:/c%3A/Users/crudek/Github/practical/python_fcast/neural_prophet.ipynb#X34sZmlsZQ%3D%3D?line=0'>1</a>\u001b[0m sales\u001b[39m.\u001b[39;49mfilter(DEP_ENT \u001b[39m=\u001b[39;49m [\u001b[39m'\u001b[39;49m\u001b[39m220_155\u001b[39;49m\u001b[39m'\u001b[39;49m, \u001b[39m'\u001b[39;49m\u001b[39m220_310\u001b[39;49m\u001b[39m'\u001b[39;49m])\n",
      "\u001b[1;31mTypeError\u001b[0m: filter() got an unexpected keyword argument 'DEP_ENT'"
     ]
    }
   ],
   "source": [
    "sales.filter(DEP_ENT = ['220_155', '220_310'])"
   ]
  },
  {
   "cell_type": "code",
   "execution_count": 64,
   "metadata": {},
   "outputs": [],
   "source": [
    "a_220_155 = sales[sales['DEP_ENT'] == '220_155'].sort_values(by=['MONTH'])"
   ]
  },
  {
   "cell_type": "code",
   "execution_count": 65,
   "metadata": {},
   "outputs": [
    {
     "data": {
      "image/png": "[encoded data removed]",
      "text/plain": [
       "<Figure size 640x480 with 1 Axes>"
      ]
     },
     "metadata": {},
     "output_type": "display_data"
    }
   ],
   "source": [
    "plt.plot(a_220_155['MONTH'], a_220_155['NET_SALES'])\n",
    "plt.show()"
   ]
  },
  {
   "cell_type": "code",
   "execution_count": 67,
   "metadata": {},
   "outputs": [],
   "source": [
    "sales.to_csv('sales.csv')"
   ]
  }
 ],
 "metadata": {
  "kernelspec": {
   "display_name": "newpycaret",
   "language": "python",
   "name": "python3"
  },
  "language_info": {
   "codemirror_mode": {
    "name": "ipython",
    "version": 3
   },
   "file_extension": ".py",
   "mimetype": "text/x-python",
   "name": "python",
   "nbconvert_exporter": "python",
   "pygments_lexer": "ipython3",
   "version": "3.9.13"
  }
 },
 "nbformat": 4,
 "nbformat_minor": 2
}
