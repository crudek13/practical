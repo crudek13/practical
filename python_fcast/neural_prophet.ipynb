{
 "cells": [
  {
   "cell_type": "markdown",
   "metadata": {},
   "source": [
    "use newpycaret environment"
   ]
  },
  {
   "cell_type": "code",
   "execution_count": 2,
   "metadata": {},
   "outputs": [],
   "source": [
    "# Packages\n",
    "import pandas as pd\n",
    "import numpy as np\n",
    "import snowflake.connector\n",
    "import os\n",
    "from sklearn.impute import SimpleImputer\n",
    "from neuralprophet import NeuralProphet, set_log_level\n",
    "from datetime import datetime"
   ]
  },
  {
   "cell_type": "markdown",
   "metadata": {},
   "source": [
    "2. Load Data\n",
    "_______________________________________________________________\n",
    "\n",
    "### To Do: copy and paste in to a new chunk, enter credentials and run to save in environment. Then delete chunk\n",
    "%env snowflakeuser=<your_snowflake_username> <br>\n",
    "%env snowflakepass=<your_snowflake_password>"
   ]
  },
  {
   "cell_type": "code",
   "execution_count": 4,
   "metadata": {},
   "outputs": [
    {
     "name": "stderr",
     "output_type": "stream",
     "text": [
      "WARNING - (py.warnings._showwarnmsg) - C:\\Users\\crudek\\AppData\\Local\\Temp\\ipykernel_20156\\3034601435.py:19: UserWarning: pandas only supports SQLAlchemy connectable (engine/connection) or database string URI or sqlite3 DBAPI2 connection. Other DBAPI2 objects are not tested. Please consider using SQLAlchemy.\n",
      "  df_in = pd.read_sql_query(query.read(),conn)\n",
      "\n"
     ]
    }
   ],
   "source": [
    "# Query Snowflake\n",
    "\n",
    "# Snowflake connection parameters\n",
    "connection_params = {\n",
    "    \"user\": os.environ['snowflakeuser'],\n",
    "    \"password\": os.environ['snowflakepass'],\n",
    "    \"account\": \"zib52348.us-east-1\",\n",
    "    \"role\": \"ACCOUNTADMIN\",\n",
    "    \"warehouse\": \"REPORTING\",\n",
    "    \"database\": \"ANALYTICS\",\n",
    "    \"schema\": \"FORECASTING\",\n",
    "}\n",
    "\n",
    "# Establish a connection to Snowflake\n",
    "conn = snowflake.connector.connect(**connection_params)\n",
    "\n",
    "with open('net_sales_query.sql', 'r') as query:\n",
    "    # connection == the connection to your database, in your case prob_db\n",
    "    df_in = pd.read_sql_query(query.read(),conn)\n",
    "\n",
    "# Close the connection\n",
    "conn.close()"
   ]
  },
  {
   "cell_type": "code",
   "execution_count": 5,
   "metadata": {},
   "outputs": [
    {
     "name": "stdout",
     "output_type": "stream",
     "text": [
      "DEP_ENT              object\n",
      "MONTH        datetime64[ns]\n",
      "NET_SALES           float64\n",
      "dtype: object\n",
      "-----\n",
      "14\n",
      "-----\n",
      "DEP_ENT\n",
      "160_155    84\n",
      "170_155    84\n",
      "200_155    84\n",
      "200_310    84\n",
      "210_155    84\n",
      "210_165    84\n",
      "210_310    84\n",
      "220_155    84\n",
      "220_310    78\n",
      "240_155    84\n",
      "250_155    84\n",
      "250_165    50\n",
      "250_310    84\n",
      "260_155    47\n",
      "dtype: int64\n",
      "-----\n",
      "DEP_ENT      0\n",
      "MONTH        0\n",
      "NET_SALES    0\n",
      "dtype: int64\n"
     ]
    }
   ],
   "source": [
    "### 1. Data prep ###\n",
    "\n",
    "df = df_in\n",
    "\n",
    "# convert month field to date\n",
    "df[\"MONTH\"] = pd.to_datetime(df[\"MONTH\"])\n",
    "\n",
    "# ***** ADJUSTABLE ***** #\n",
    "# current params - want to get forecasts for 2023 (Jan - Dec) so holding out data \n",
    "df = df[df['MONTH'] <= pd.Timestamp(2022,12,1)]\n",
    "\n",
    "# Some random months will have data that we want to remove (* Want to test without July though)\n",
    "df = df[[\"DEP_ENT\", \"MONTH\", \"NET_SALES\"]] # select fields of interest\n",
    "df = df.sort_values(['DEP_ENT', 'MONTH']) # reorder dataframe\n",
    "\n",
    "\n",
    "### 2. Spot checks ###\n",
    "\n",
    "# check data types\n",
    "print(df.dtypes)\n",
    "print(\"-----\")\n",
    "\n",
    "# check the unique time_series. 14 different department-entity combinations\n",
    "print(df['DEP_ENT'].nunique())\n",
    "print(\"-----\")\n",
    "\n",
    "# check how many months for each dep-ent. 3 dep-ent do not have all months of data\n",
    "print(df.groupby(['DEP_ENT']).size())\n",
    "print(\"-----\")\n",
    "\n",
    "# check for nulls. No nulls\n",
    "print(df.isnull().sum())"
   ]
  },
  {
   "cell_type": "markdown",
   "metadata": {},
   "source": [
    "# Multiple Series with Neural Prophet\n",
    "https://neuralprophet.com/tutorials/tutorial09.html"
   ]
  },
  {
   "cell_type": "code",
   "execution_count": 7,
   "metadata": {},
   "outputs": [],
   "source": [
    "### Additional data prep ###\n",
    "\n",
    "# create series\n",
    "df_s = df.set_index(['DEP_ENT','MONTH'])['NET_SALES']\n",
    "# convert back to dataframe\n",
    "df_d = df_s.to_frame()\n",
    "# impute\n",
    "mean_imputer = SimpleImputer(strategy='mean')\n",
    "df_d['NET_SALES'] = mean_imputer.fit_transform(df_d['NET_SALES'].values.reshape(-1,1))\n",
    "#reset index\n",
    "df_d.reset_index(inplace=True)\n",
    "# rename cols\n",
    "df_d.rename(columns={'MONTH': 'ds', 'NET_SALES': 'y', 'DEP_ENT': 'ID'}, inplace=True)"
   ]
  },
  {
   "cell_type": "code",
   "execution_count": 10,
   "metadata": {},
   "outputs": [
    {
     "name": "stderr",
     "output_type": "stream",
     "text": [
      "Missing logger folder: c:\\Users\\crudek\\Github\\practical\\python_fcast\\lightning_logs\n"
     ]
    },
    {
     "data": {
      "application/vnd.jupyter.widget-view+json": {
       "model_id": "8c2708dff359448c93bba9414f25cc7c",
       "version_major": 2,
       "version_minor": 0
      },
      "text/plain": [
       "Finding best initial lr:   0%|          | 0/206 [00:00<?, ?it/s]"
      ]
     },
     "metadata": {},
     "output_type": "display_data"
    },
    {
     "data": {
      "application/vnd.jupyter.widget-view+json": {
       "model_id": "70ea6acb5d4a4014910b189e6cc78ec2",
       "version_major": 2,
       "version_minor": 0
      },
      "text/plain": [
       "Training: 0it [00:00, ?it/s]"
      ]
     },
     "metadata": {},
     "output_type": "display_data"
    },
    {
     "name": "stderr",
     "output_type": "stream",
     "text": [
      "WARNING - (py.warnings._showwarnmsg) - c:\\Users\\crudek\\AppData\\Local\\anaconda3\\envs\\newpycaret\\lib\\site-packages\\pytorch_lightning\\trainer\\call.py:48: UserWarning: Detected KeyboardInterrupt, attempting graceful shutdown...\n",
      "  rank_zero_warn(\"Detected KeyboardInterrupt, attempting graceful shutdown...\")\n",
      "\n"
     ]
    },
    {
     "data": {
      "application/vnd.jupyter.widget-view+json": {
       "model_id": "ed0151b480b54385b06bcb1caa33db1b",
       "version_major": 2,
       "version_minor": 0
      },
      "text/plain": [
       "Predicting: 1it [00:00, ?it/s]"
      ]
     },
     "metadata": {},
     "output_type": "display_data"
    },
    {
     "data": {
      "application/vnd.jupyter.widget-view+json": {
       "model_id": "c1f1d1f4b32a4cafb7a539046715c4bd",
       "version_major": 2,
       "version_minor": 0
      },
      "text/plain": [
       "Finding best initial lr:   0%|          | 0/206 [00:00<?, ?it/s]"
      ]
     },
     "metadata": {},
     "output_type": "display_data"
    },
    {
     "data": {
      "application/vnd.jupyter.widget-view+json": {
       "model_id": "fe881350407740a99fa3b1a74784e898",
       "version_major": 2,
       "version_minor": 0
      },
      "text/plain": [
       "Training: 0it [00:00, ?it/s]"
      ]
     },
     "metadata": {},
     "output_type": "display_data"
    },
    {
     "data": {
      "application/vnd.jupyter.widget-view+json": {
       "model_id": "119ce98b59494ce0a9821d6e7c992647",
       "version_major": 2,
       "version_minor": 0
      },
      "text/plain": [
       "Predicting: 6it [00:00, ?it/s]"
      ]
     },
     "metadata": {},
     "output_type": "display_data"
    },
    {
     "data": {
      "application/vnd.jupyter.widget-view+json": {
       "model_id": "ee4b2131626441e19e8270314dc4ab2a",
       "version_major": 2,
       "version_minor": 0
      },
      "text/plain": [
       "Finding best initial lr:   0%|          | 0/206 [00:00<?, ?it/s]"
      ]
     },
     "metadata": {},
     "output_type": "display_data"
    },
    {
     "data": {
      "application/vnd.jupyter.widget-view+json": {
       "model_id": "4a9b4a7c98c14ef3807c1f6b8ef801cd",
       "version_major": 2,
       "version_minor": 0
      },
      "text/plain": [
       "Training: 0it [00:00, ?it/s]"
      ]
     },
     "metadata": {},
     "output_type": "display_data"
    },
    {
     "data": {
      "application/vnd.jupyter.widget-view+json": {
       "model_id": "66a68b00e5b84469be6b0911679a9215",
       "version_major": 2,
       "version_minor": 0
      },
      "text/plain": [
       "Predicting: 6it [00:00, ?it/s]"
      ]
     },
     "metadata": {},
     "output_type": "display_data"
    },
    {
     "data": {
      "application/vnd.jupyter.widget-view+json": {
       "model_id": "1819ea396d3340bfa391d67eb5b8fc3d",
       "version_major": 2,
       "version_minor": 0
      },
      "text/plain": [
       "Finding best initial lr:   0%|          | 0/206 [00:00<?, ?it/s]"
      ]
     },
     "metadata": {},
     "output_type": "display_data"
    },
    {
     "data": {
      "application/vnd.jupyter.widget-view+json": {
       "model_id": "26fce46702a141cbaad322a97ee1753b",
       "version_major": 2,
       "version_minor": 0
      },
      "text/plain": [
       "Training: 0it [00:00, ?it/s]"
      ]
     },
     "metadata": {},
     "output_type": "display_data"
    },
    {
     "data": {
      "application/vnd.jupyter.widget-view+json": {
       "model_id": "ad389a448e6845038bdcd7eacc931b30",
       "version_major": 2,
       "version_minor": 0
      },
      "text/plain": [
       "Predicting: 6it [00:00, ?it/s]"
      ]
     },
     "metadata": {},
     "output_type": "display_data"
    },
    {
     "data": {
      "application/vnd.jupyter.widget-view+json": {
       "model_id": "87103655d782425bab06ef009cec1b3d",
       "version_major": 2,
       "version_minor": 0
      },
      "text/plain": [
       "Finding best initial lr:   0%|          | 0/206 [00:00<?, ?it/s]"
      ]
     },
     "metadata": {},
     "output_type": "display_data"
    },
    {
     "data": {
      "application/vnd.jupyter.widget-view+json": {
       "model_id": "39e06b8d03ee4489a21775b15cd7813f",
       "version_major": 2,
       "version_minor": 0
      },
      "text/plain": [
       "Training: 0it [00:00, ?it/s]"
      ]
     },
     "metadata": {},
     "output_type": "display_data"
    },
    {
     "data": {
      "application/vnd.jupyter.widget-view+json": {
       "model_id": "3e7439ddd846493897d97fac0c61f276",
       "version_major": 2,
       "version_minor": 0
      },
      "text/plain": [
       "Predicting: 6it [00:00, ?it/s]"
      ]
     },
     "metadata": {},
     "output_type": "display_data"
    },
    {
     "data": {
      "application/vnd.jupyter.widget-view+json": {
       "model_id": "b02b73ceadfa4d67906c8e6d050b473f",
       "version_major": 2,
       "version_minor": 0
      },
      "text/plain": [
       "Finding best initial lr:   0%|          | 0/206 [00:00<?, ?it/s]"
      ]
     },
     "metadata": {},
     "output_type": "display_data"
    },
    {
     "data": {
      "application/vnd.jupyter.widget-view+json": {
       "model_id": "cce2e3b566b34c3491eae0e8ccf4a418",
       "version_major": 2,
       "version_minor": 0
      },
      "text/plain": [
       "Training: 0it [00:00, ?it/s]"
      ]
     },
     "metadata": {},
     "output_type": "display_data"
    },
    {
     "data": {
      "application/vnd.jupyter.widget-view+json": {
       "model_id": "d4c92da4ba3246599dadd24121f444b3",
       "version_major": 2,
       "version_minor": 0
      },
      "text/plain": [
       "Predicting: 6it [00:00, ?it/s]"
      ]
     },
     "metadata": {},
     "output_type": "display_data"
    },
    {
     "data": {
      "application/vnd.jupyter.widget-view+json": {
       "model_id": "824cabae06844a4785d204fb2af9d031",
       "version_major": 2,
       "version_minor": 0
      },
      "text/plain": [
       "Finding best initial lr:   0%|          | 0/206 [00:00<?, ?it/s]"
      ]
     },
     "metadata": {},
     "output_type": "display_data"
    },
    {
     "data": {
      "application/vnd.jupyter.widget-view+json": {
       "model_id": "366994014c454ef18b2cfa6a6663a40b",
       "version_major": 2,
       "version_minor": 0
      },
      "text/plain": [
       "Training: 0it [00:00, ?it/s]"
      ]
     },
     "metadata": {},
     "output_type": "display_data"
    },
    {
     "data": {
      "application/vnd.jupyter.widget-view+json": {
       "model_id": "0231dd660fc04a4abc83b268dcbf865d",
       "version_major": 2,
       "version_minor": 0
      },
      "text/plain": [
       "Predicting: 6it [00:00, ?it/s]"
      ]
     },
     "metadata": {},
     "output_type": "display_data"
    },
    {
     "data": {
      "application/vnd.jupyter.widget-view+json": {
       "model_id": "a97c7369c6ce4bad8ec66e8da5eb13da",
       "version_major": 2,
       "version_minor": 0
      },
      "text/plain": [
       "Finding best initial lr:   0%|          | 0/206 [00:00<?, ?it/s]"
      ]
     },
     "metadata": {},
     "output_type": "display_data"
    },
    {
     "data": {
      "application/vnd.jupyter.widget-view+json": {
       "model_id": "64ac5f41b7914a35bbfb95ffa016acf8",
       "version_major": 2,
       "version_minor": 0
      },
      "text/plain": [
       "Training: 0it [00:00, ?it/s]"
      ]
     },
     "metadata": {},
     "output_type": "display_data"
    },
    {
     "data": {
      "application/vnd.jupyter.widget-view+json": {
       "model_id": "38ff26f1e7254fd3acfe03b4327e669b",
       "version_major": 2,
       "version_minor": 0
      },
      "text/plain": [
       "Predicting: 6it [00:00, ?it/s]"
      ]
     },
     "metadata": {},
     "output_type": "display_data"
    },
    {
     "data": {
      "application/vnd.jupyter.widget-view+json": {
       "model_id": "adbb76ad9a124c959a6019cc05e635d2",
       "version_major": 2,
       "version_minor": 0
      },
      "text/plain": [
       "Finding best initial lr:   0%|          | 0/206 [00:00<?, ?it/s]"
      ]
     },
     "metadata": {},
     "output_type": "display_data"
    },
    {
     "data": {
      "application/vnd.jupyter.widget-view+json": {
       "model_id": "7d166e4f2f35466b89410a389f4d8aa7",
       "version_major": 2,
       "version_minor": 0
      },
      "text/plain": [
       "Training: 0it [00:00, ?it/s]"
      ]
     },
     "metadata": {},
     "output_type": "display_data"
    },
    {
     "data": {
      "application/vnd.jupyter.widget-view+json": {
       "model_id": "e275d3a0bc024f5bae19adc9a7a93bf3",
       "version_major": 2,
       "version_minor": 0
      },
      "text/plain": [
       "Predicting: 5it [00:00, ?it/s]"
      ]
     },
     "metadata": {},
     "output_type": "display_data"
    },
    {
     "data": {
      "application/vnd.jupyter.widget-view+json": {
       "model_id": "e3c1ecc8bf1c45deaf523356bcadf8a7",
       "version_major": 2,
       "version_minor": 0
      },
      "text/plain": [
       "Finding best initial lr:   0%|          | 0/206 [00:00<?, ?it/s]"
      ]
     },
     "metadata": {},
     "output_type": "display_data"
    },
    {
     "data": {
      "application/vnd.jupyter.widget-view+json": {
       "model_id": "8f3972a28fdc49bfae2cfef050714e2b",
       "version_major": 2,
       "version_minor": 0
      },
      "text/plain": [
       "Training: 0it [00:00, ?it/s]"
      ]
     },
     "metadata": {},
     "output_type": "display_data"
    },
    {
     "data": {
      "application/vnd.jupyter.widget-view+json": {
       "model_id": "4e215c14a3074d6a871246db7c730918",
       "version_major": 2,
       "version_minor": 0
      },
      "text/plain": [
       "Predicting: 6it [00:00, ?it/s]"
      ]
     },
     "metadata": {},
     "output_type": "display_data"
    },
    {
     "data": {
      "application/vnd.jupyter.widget-view+json": {
       "model_id": "4abd7501d9944e9ab4a33de86a27aa91",
       "version_major": 2,
       "version_minor": 0
      },
      "text/plain": [
       "Finding best initial lr:   0%|          | 0/206 [00:00<?, ?it/s]"
      ]
     },
     "metadata": {},
     "output_type": "display_data"
    },
    {
     "data": {
      "application/vnd.jupyter.widget-view+json": {
       "model_id": "12d8860396b945749d608aa55936cdb7",
       "version_major": 2,
       "version_minor": 0
      },
      "text/plain": [
       "Training: 0it [00:00, ?it/s]"
      ]
     },
     "metadata": {},
     "output_type": "display_data"
    },
    {
     "data": {
      "application/vnd.jupyter.widget-view+json": {
       "model_id": "5810e778ab3e4e88a9a1ec17b28094a4",
       "version_major": 2,
       "version_minor": 0
      },
      "text/plain": [
       "Predicting: 6it [00:00, ?it/s]"
      ]
     },
     "metadata": {},
     "output_type": "display_data"
    },
    {
     "data": {
      "application/vnd.jupyter.widget-view+json": {
       "model_id": "cf5413f3b59846849406d4e5a509da31",
       "version_major": 2,
       "version_minor": 0
      },
      "text/plain": [
       "Finding best initial lr:   0%|          | 0/204 [00:00<?, ?it/s]"
      ]
     },
     "metadata": {},
     "output_type": "display_data"
    },
    {
     "data": {
      "application/vnd.jupyter.widget-view+json": {
       "model_id": "fc6de597286345fabf7ca3824e7f7428",
       "version_major": 2,
       "version_minor": 0
      },
      "text/plain": [
       "Training: 0it [00:00, ?it/s]"
      ]
     },
     "metadata": {},
     "output_type": "display_data"
    },
    {
     "data": {
      "application/vnd.jupyter.widget-view+json": {
       "model_id": "181fb11e9a1643d3805d88a3f89f1b4e",
       "version_major": 2,
       "version_minor": 0
      },
      "text/plain": [
       "Predicting: 4it [00:00, ?it/s]"
      ]
     },
     "metadata": {},
     "output_type": "display_data"
    },
    {
     "data": {
      "application/vnd.jupyter.widget-view+json": {
       "model_id": "e4c1220332db496cbe49d8e5a464db2e",
       "version_major": 2,
       "version_minor": 0
      },
      "text/plain": [
       "Finding best initial lr:   0%|          | 0/206 [00:00<?, ?it/s]"
      ]
     },
     "metadata": {},
     "output_type": "display_data"
    },
    {
     "data": {
      "application/vnd.jupyter.widget-view+json": {
       "model_id": "e9cbe6462abc48c6b4b3d0fc71b6fb20",
       "version_major": 2,
       "version_minor": 0
      },
      "text/plain": [
       "Training: 0it [00:00, ?it/s]"
      ]
     },
     "metadata": {},
     "output_type": "display_data"
    },
    {
     "data": {
      "application/vnd.jupyter.widget-view+json": {
       "model_id": "3d1b6429825043708c3ce90ad8b809bb",
       "version_major": 2,
       "version_minor": 0
      },
      "text/plain": [
       "Predicting: 6it [00:00, ?it/s]"
      ]
     },
     "metadata": {},
     "output_type": "display_data"
    },
    {
     "data": {
      "application/vnd.jupyter.widget-view+json": {
       "model_id": "d4349a0e52ed468d9158a6b393a62ac6",
       "version_major": 2,
       "version_minor": 0
      },
      "text/plain": [
       "Finding best initial lr:   0%|          | 0/204 [00:00<?, ?it/s]"
      ]
     },
     "metadata": {},
     "output_type": "display_data"
    },
    {
     "data": {
      "application/vnd.jupyter.widget-view+json": {
       "model_id": "dba57a9557e4450f8132d151472623cf",
       "version_major": 2,
       "version_minor": 0
      },
      "text/plain": [
       "Training: 0it [00:00, ?it/s]"
      ]
     },
     "metadata": {},
     "output_type": "display_data"
    },
    {
     "data": {
      "application/vnd.jupyter.widget-view+json": {
       "model_id": "d3a54e43e37c414ea13cbd5347cd767d",
       "version_major": 2,
       "version_minor": 0
      },
      "text/plain": [
       "Predicting: 3it [00:00, ?it/s]"
      ]
     },
     "metadata": {},
     "output_type": "display_data"
    }
   ],
   "source": [
    "# Disable logging messages unless there is an error\n",
    "set_log_level(\"ERROR\")\n",
    "\n",
    "# Declare number of forecasting periods ahead\n",
    "fh = 12\n",
    "\n",
    "# confidence intervals\n",
    "confidence_level = 0.9\n",
    "boundaries = round((1 - confidence_level) / 2, 2)\n",
    "# NeuralProphet only accepts quantiles value in between 0 and 1\n",
    "quantiles = [boundaries, confidence_level + boundaries]\n",
    "\n",
    "# Initialize a dictionary to store individual models and forecasts\n",
    "id_models = {}\n",
    "id_forecasts = {}\n",
    "\n",
    "# Group data by ID\n",
    "grouped = df_d.groupby('ID')\n",
    "\n",
    "# Loop through each group (ID) and create models and forecasts\n",
    "for group_name, group_data in grouped:\n",
    "    group_data = group_data.rename(columns={'ds': 'ds', 'y': 'y'})\n",
    "    \n",
    "    # Initialize and train the model\n",
    "    model = NeuralProphet(\n",
    "        quantiles=quantiles,\n",
    "    )\n",
    "    model.fit(group_data, freq=\"MS\")\n",
    "    \n",
    "    # Store the model for the current ID\n",
    "    id_models[group_name] = model\n",
    "    \n",
    "    # Create a dataframe with future dates for prediction\n",
    "    future = model.make_future_dataframe(group_data, periods=fh, n_historic_predictions=len(group_data))\n",
    "    \n",
    "    # Make predictions for the next 12 periods\n",
    "    forecast = model.predict(future)\n",
    "    \n",
    "    # Store the forecast for the current ID\n",
    "    id_forecasts[group_name] = forecast"
   ]
  },
  {
   "cell_type": "code",
   "execution_count": 9,
   "metadata": {},
   "outputs": [],
   "source": [
    "# Initialize a dataframe to store final predictions\n",
    "all_np_preds = pd.DataFrame()\n",
    "\n",
    "# Loop through each group (ID) and get final pred\n",
    "for group_name, group_data in grouped:\n",
    "    \n",
    "    # create temp table with fcasts for id (dep-ent)\n",
    "    temp_fcast = id_forecasts[group_name]\n",
    "    \n",
    "    # filter to just the predictions in the future\n",
    "    temp_fcast = temp_fcast.tail(fh)[[\"ds\", \"yhat1\", \"yhat1 5.0%\", \"yhat1 95.0%\"]]\n",
    "    \n",
    "    # add id (dep-ent)\n",
    "    temp_fcast['ID'] = group_name\n",
    "\n",
    "    # create master list of predictions    \n",
    "    all_np_preds = pd.concat([all_np_preds, temp_fcast])"
   ]
  },
  {
   "cell_type": "code",
   "execution_count": 53,
   "metadata": {},
   "outputs": [],
   "source": [
    "#initial sales pull\n",
    "sales = df_in\n",
    "# rename cols\n",
    "sales.rename(columns={'MONTH': 'ds', 'NET_SALES': 'y', 'DEP_ENT': 'ID'}, inplace=True)\n",
    "# select cols\n",
    "sales = sales[[\"ID\", \"y\", \"ds\"]]\n",
    "# only include sales data for the full months we have\n",
    "first_of_month = datetime.today().replace(day=1).date()\n",
    "sales = sales[sales['ds'] < pd.to_datetime(first_of_month)]\n",
    "\n",
    "# combine prediction data and original sales data\n",
    "merged = pd.merge(all_np_preds, sales, how = 'left', on =['ID', 'ds'])"
   ]
  },
  {
   "cell_type": "code",
   "execution_count": 63,
   "metadata": {},
   "outputs": [
    {
     "name": "stderr",
     "output_type": "stream",
     "text": [
      "WARNING - (py.warnings._showwarnmsg) - C:\\Users\\crudek\\AppData\\Local\\Temp\\ipykernel_18820\\2100724144.py:8: UserWarning: pandas only supports SQLAlchemy connectable (engine/connection) or database string URI or sqlite3 DBAPI2 connection. Other DBAPI2 objects are not tested. Please consider using SQLAlchemy.\n",
      "  budg = pd.read_sql_query(query.read(),conn)\n",
      "\n"
     ]
    }
   ],
   "source": [
    "### Budget ###\n",
    "\n",
    "# Establish a connection to Snowflake\n",
    "conn = snowflake.connector.connect(**connection_params)\n",
    "\n",
    "with open('budget_query.sql', 'r') as query:\n",
    "    # connection == the connection to your database, in your case prob_db\n",
    "    budg = pd.read_sql_query(query.read(),conn)\n",
    "\n",
    "# Close the connection\n",
    "conn.close()\n",
    "\n",
    "# convert month to datetime\n",
    "budg[\"MONTH\"] = pd.to_datetime(budg[\"MONTH\"])\n",
    "# select cols\n",
    "budg = budg[[\"MONTH\", \"BUDGET_AMOUNT\", \"DEP_ENT\"]]\n",
    "# rename cols\n",
    "budg.rename(columns={'MONTH': 'ds', 'DEP_ENT': 'ID'}, inplace=True)"
   ]
  },
  {
   "cell_type": "code",
   "execution_count": 64,
   "metadata": {},
   "outputs": [],
   "source": [
    "# combine prediction/sales data with budget data\n",
    "merged2 = pd.merge(merged, budg, how = 'left', on =['ID', 'ds'])"
   ]
  },
  {
   "cell_type": "code",
   "execution_count": 65,
   "metadata": {},
   "outputs": [],
   "source": [
    "# write csv\n",
    "merged2.to_csv('neuro_prophet_results.csv')"
   ]
  }
 ],
 "metadata": {
  "kernelspec": {
   "display_name": "newpycaret",
   "language": "python",
   "name": "python3"
  },
  "language_info": {
   "codemirror_mode": {
    "name": "ipython",
    "version": 3
   },
   "file_extension": ".py",
   "mimetype": "text/x-python",
   "name": "python",
   "nbconvert_exporter": "python",
   "pygments_lexer": "ipython3",
   "version": "3.9.13"
  },
  "orig_nbformat": 4
 },
 "nbformat": 4,
 "nbformat_minor": 2
}
