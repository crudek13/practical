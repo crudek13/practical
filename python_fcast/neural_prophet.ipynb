{
 "cells": [
  {
   "cell_type": "markdown",
   "metadata": {},
   "source": [
    "# Neural Prohpet\n",
    "newpycaret env\n",
    "\n",
    "https://github.com/ourownstory/neural_prophet\n",
    "https://neuralprophet.com/how-to-guides/feature-guides/global_local_modeling.html\n"
   ]
  },
  {
   "cell_type": "code",
   "execution_count": 2,
   "metadata": {},
   "outputs": [
    {
     "name": "stderr",
     "output_type": "stream",
     "text": [
      "c:\\Users\\crudek\\AppData\\Local\\anaconda3\\envs\\newpycaret\\lib\\site-packages\\plotly_resampler\\aggregation\\aggregators.py:25: UserWarning: Could not import lttbc; will use a (slower) python alternative.\n",
      "  warnings.warn(\"Could not import lttbc; will use a (slower) python alternative.\")\n"
     ]
    }
   ],
   "source": [
    "# Packages\n",
    "import pandas as pd\n",
    "import numpy as np\n",
    "import matplotlib.pyplot as plt\n",
    "import snowflake.connector\n",
    "import os\n",
    "from sklearn.impute import SimpleImputer\n",
    "from neuralprophet import NeuralProphet, set_log_level\n",
    "from datetime import datetime, timedelta\n",
    "from dateutil import relativedelta"
   ]
  },
  {
   "cell_type": "markdown",
   "metadata": {},
   "source": [
    "2. Load Data\n",
    "_______________________________________________________________\n",
    "\n",
    "### To Do: copy and paste in to a new chunk, enter credentials and run to save in environment. Then delete chunk\n",
    "%env snowflakeuser=<your_snowflake_username> <br>\n",
    "%env snowflakepass=<your_snowflake_password>"
   ]
  },
  {
   "cell_type": "code",
   "execution_count": 4,
   "metadata": {},
   "outputs": [
    {
     "name": "stderr",
     "output_type": "stream",
     "text": [
      "WARNING - (py.warnings._showwarnmsg) - C:\\Users\\crudek\\AppData\\Local\\Temp\\ipykernel_8432\\2623517584.py:19: UserWarning: pandas only supports SQLAlchemy connectable (engine/connection) or database string URI or sqlite3 DBAPI2 connection. Other DBAPI2 objects are not tested. Please consider using SQLAlchemy.\n",
      "  df_initial = pd.read_sql_query(query.read(), conn)\n",
      "\n"
     ]
    }
   ],
   "source": [
    "# Query Snowflake\n",
    "\n",
    "# Snowflake connection parameters\n",
    "connection_params = {\n",
    "    \"user\": os.environ['snowflakeuser'],\n",
    "    \"password\": os.environ['snowflakepass'],\n",
    "    \"account\": \"zib52348.us-east-1\",\n",
    "    \"role\": \"ACCOUNTADMIN\",\n",
    "    \"warehouse\": \"REPORTING\",\n",
    "    \"database\": \"ANALYTICS\",\n",
    "    \"schema\": \"FORECASTING\",\n",
    "}\n",
    "\n",
    "# Establish a connection to Snowflake\n",
    "conn = snowflake.connector.connect(**connection_params)\n",
    "\n",
    "with open('net_sales_query.sql', 'r') as query:\n",
    "    # connection == the connection to your database, in your case prob_db\n",
    "    df_initial = pd.read_sql_query(query.read(), conn)\n",
    "\n",
    "# Close the connection\n",
    "conn.close()"
   ]
  },
  {
   "cell_type": "code",
   "execution_count": 5,
   "metadata": {},
   "outputs": [],
   "source": [
    "##### INITIAL VARIABLE DECLARATION #####\n",
    "\n",
    "# Get the current date\n",
    "current_date = pd.to_datetime(datetime.today().date())\n",
    "\n",
    "# Calculate the first day of the current month\n",
    "first_day_of_current_month = pd.to_datetime(current_date.replace(day=1))\n",
    "\n",
    "# Calculate the first day of the next month\n",
    "first_day_of_next_month = datetime(current_date.year, current_date.month + 1, 1)\n",
    "\n",
    "# Calculate the first day of the last month\n",
    "last_day_of_last_month = first_day_of_current_month - timedelta(days=1)\n",
    "first_day_of_last_month = last_day_of_last_month.replace(day=1)\n",
    "\n",
    "\n",
    "\n",
    "\n",
    "### MANUAL INPUTS ###\n",
    "\n",
    "# how much data do you want to keep to train models. \n",
    "end_of_data = first_day_of_last_month # the default which is the max date this should ever be because it would include all months that have full data\n",
    "#end_of_data = pd.to_datetime('2022-12-01')\n",
    "\n",
    "# forecast horizon = how many months in to the future you want to forecast. So, we will forecast this many months past the above end_of_data\n",
    "fh = 15\n",
    "\n",
    "\n",
    "\n",
    "\n",
    "### FORECAST HORIZON (FH) DATAFRAME ###\n",
    "\n",
    "end_of_data_next_month = end_of_data + relativedelta.relativedelta(months=1, day=1)\n",
    "end_of_data_df = pd.DataFrame({'end_of_data': [end_of_data_next_month]})\n",
    "end_of_data_df['end_of_data'] = pd.to_datetime(end_of_data_df['end_of_data'])\n",
    "\n",
    "# Create a date range for the next 12 months\n",
    "next_12_months = pd.date_range(start=end_of_data_df['end_of_data'].iloc[0], periods=fh, freq='MS')\n",
    "\n",
    "fh_dates_df = pd.DataFrame({'MONTH': next_12_months})\n",
    "\n",
    "\n",
    "\n",
    "\n",
    "### INITIAL DATA PREPARATION ###\n",
    "\n",
    "# create copy of df_d\n",
    "df = df_initial.copy(deep=True)\n",
    "\n",
    "# convert month field to date\n",
    "df[\"MONTH\"] = pd.to_datetime(df[\"MONTH\"])\n",
    "\n",
    "# Some random months will have data that we want to remove (* Want to test without July though)\n",
    "df = df[[\"DEP_ENT\", \"MONTH\", \"NET_SALES\"]]  # select fields of interest\n",
    "df = df.sort_values(['DEP_ENT', 'MONTH'])  # reorder dataframe\n",
    "\n",
    "# remove data after the 'end of data' setting above\n",
    "df_sub = df[df['MONTH'] <= end_of_data]\n",
    "\n",
    "# create series\n",
    "df_s = df_sub.set_index(['DEP_ENT','MONTH'])['NET_SALES']\n",
    "# convert back to dataframe\n",
    "df_d = df_s.to_frame()\n",
    "#reset index\n",
    "df_d.reset_index(inplace=True)\n",
    "\n",
    "\n",
    "\n",
    "\n",
    "### IMPUTE MISSIG VALUES WITH MONTH AND MEAN OR 0 ###\n",
    "\n",
    "# list of each dep-ent\n",
    "all_dep_ent = df_d['DEP_ENT'].unique()\n",
    "\n",
    "# Create empty dataframe\n",
    "df_subset_all = pd.DataFrame()\n",
    "\n",
    "for i in all_dep_ent:\n",
    "    \n",
    "    temp_subset = df_d[df_d['DEP_ENT'] == i]\n",
    "    \n",
    "    # Define the minimum and maximum dates\n",
    "    min_date = min(temp_subset['MONTH'])\n",
    "    max_date = end_of_data # max(temp_subset['MONTH'])\n",
    "\n",
    "    # Generate a list of dates for each month in between\n",
    "    date_range = []\n",
    "    current_month = min_date.replace(day=1)\n",
    "    while current_month <= max_date:\n",
    "        date_range.append(current_month)\n",
    "        current_month = current_month + timedelta(days=32)\n",
    "        current_month = current_month.replace(day=1)\n",
    "\n",
    "    # Create a DataFrame from the list of dates\n",
    "    date_range_df = pd.DataFrame({'MONTH': date_range})\n",
    "\n",
    "    df_merged = pd.merge(date_range_df, temp_subset, on='MONTH', how='left')\n",
    "\n",
    "    #Finding the mean of the column having NaN\n",
    "    mean_value = df_merged['NET_SALES'].mean()\n",
    "    \n",
    "    # Replace NaNs in column S2 with the\n",
    "    # mean of values in the same column\n",
    "    # could use mean or 0\n",
    "    df_merged['NET_SALES'].fillna(value=0, inplace=True)\n",
    "    \n",
    "    df_merged['DEP_ENT'] = i\n",
    "\n",
    "    df_subset_all = pd.concat([df_subset_all,df_merged])\n",
    "\n",
    "# change negatives to 0\n",
    "df_subset_all.loc[df_subset_all['NET_SALES'] < 0, 'NET_SALES'] = 0\n",
    "\n",
    "\n",
    "### FILL DATES THROUGH END OF FORECAST HORIZON ###\n",
    "\n",
    "# Create empty dataframe\n",
    "df_subset_all2 = pd.DataFrame()\n",
    "\n",
    "for i in all_dep_ent:\n",
    "    # filter to one dep_ent\n",
    "    temp_subset2 = df_subset_all[df_subset_all['DEP_ENT'] == i]\n",
    "    # temp result\n",
    "    temp_result2 = pd.merge(temp_subset2, fh_dates_df, on='MONTH', how='outer')\n",
    "    temp_result2['DEP_ENT'] = i\n",
    "    \n",
    "    # combine for all dep_ents\n",
    "    df_subset_all2 = pd.concat([df_subset_all2,temp_result2])\n",
    "\n",
    "# rename columns for prophet\n",
    "df_rename = df_subset_all2.copy()\n",
    "df_rename.rename(columns={'MONTH': 'ds', 'NET_SALES': 'y', 'DEP_ENT': 'ID'}, inplace=True)"
   ]
  },
  {
   "cell_type": "code",
   "execution_count": 6,
   "metadata": {},
   "outputs": [
    {
     "name": "stderr",
     "output_type": "stream",
     "text": [
      "Missing logger folder: c:\\Users\\crudek\\Github\\practical\\python_fcast\\lightning_logs\n"
     ]
    },
    {
     "data": {
      "application/vnd.jupyter.widget-view+json": {
       "model_id": "668d77c9fad94e29bf72fca1474de696",
       "version_major": 2,
       "version_minor": 0
      },
      "text/plain": [
       "Finding best initial lr:   0%|          | 0/207 [00:00<?, ?it/s]"
      ]
     },
     "metadata": {},
     "output_type": "display_data"
    },
    {
     "data": {
      "application/vnd.jupyter.widget-view+json": {
       "model_id": "4ed39f55630e4c9e9aa5b550543f2047",
       "version_major": 2,
       "version_minor": 0
      },
      "text/plain": [
       "Training: 0it [00:00, ?it/s]"
      ]
     },
     "metadata": {},
     "output_type": "display_data"
    },
    {
     "data": {
      "application/vnd.jupyter.widget-view+json": {
       "model_id": "cf390b4eba1f476dba121c3914bf0f43",
       "version_major": 2,
       "version_minor": 0
      },
      "text/plain": [
       "Predicting: 6it [00:00, ?it/s]"
      ]
     },
     "metadata": {},
     "output_type": "display_data"
    },
    {
     "data": {
      "application/vnd.jupyter.widget-view+json": {
       "model_id": "7bdf9855bcaa4a28a51dd71b007f74b5",
       "version_major": 2,
       "version_minor": 0
      },
      "text/plain": [
       "Finding best initial lr:   0%|          | 0/207 [00:00<?, ?it/s]"
      ]
     },
     "metadata": {},
     "output_type": "display_data"
    },
    {
     "data": {
      "application/vnd.jupyter.widget-view+json": {
       "model_id": "93074a8ce6ff4f1f877c690977226a92",
       "version_major": 2,
       "version_minor": 0
      },
      "text/plain": [
       "Training: 0it [00:00, ?it/s]"
      ]
     },
     "metadata": {},
     "output_type": "display_data"
    },
    {
     "data": {
      "application/vnd.jupyter.widget-view+json": {
       "model_id": "58b92493f1d44829a5aa95cd5f95e7c6",
       "version_major": 2,
       "version_minor": 0
      },
      "text/plain": [
       "Predicting: 6it [00:00, ?it/s]"
      ]
     },
     "metadata": {},
     "output_type": "display_data"
    },
    {
     "data": {
      "application/vnd.jupyter.widget-view+json": {
       "model_id": "0490e06abaa94a3485ed89a0df464658",
       "version_major": 2,
       "version_minor": 0
      },
      "text/plain": [
       "Finding best initial lr:   0%|          | 0/207 [00:00<?, ?it/s]"
      ]
     },
     "metadata": {},
     "output_type": "display_data"
    },
    {
     "data": {
      "application/vnd.jupyter.widget-view+json": {
       "model_id": "c6c4ab6684a24612ac0ee390eae65d4a",
       "version_major": 2,
       "version_minor": 0
      },
      "text/plain": [
       "Training: 0it [00:00, ?it/s]"
      ]
     },
     "metadata": {},
     "output_type": "display_data"
    },
    {
     "data": {
      "application/vnd.jupyter.widget-view+json": {
       "model_id": "18c0040028524210bb0b8880700d07a6",
       "version_major": 2,
       "version_minor": 0
      },
      "text/plain": [
       "Predicting: 6it [00:00, ?it/s]"
      ]
     },
     "metadata": {},
     "output_type": "display_data"
    },
    {
     "data": {
      "application/vnd.jupyter.widget-view+json": {
       "model_id": "6f6b73e8abee497f9cd578343e7cf129",
       "version_major": 2,
       "version_minor": 0
      },
      "text/plain": [
       "Finding best initial lr:   0%|          | 0/207 [00:00<?, ?it/s]"
      ]
     },
     "metadata": {},
     "output_type": "display_data"
    },
    {
     "data": {
      "application/vnd.jupyter.widget-view+json": {
       "model_id": "cad45fd68f154587a853ab4a159bf4e9",
       "version_major": 2,
       "version_minor": 0
      },
      "text/plain": [
       "Training: 0it [00:00, ?it/s]"
      ]
     },
     "metadata": {},
     "output_type": "display_data"
    },
    {
     "data": {
      "application/vnd.jupyter.widget-view+json": {
       "model_id": "d2a46b8414cb48658205bfb931bccba6",
       "version_major": 2,
       "version_minor": 0
      },
      "text/plain": [
       "Predicting: 6it [00:00, ?it/s]"
      ]
     },
     "metadata": {},
     "output_type": "display_data"
    },
    {
     "data": {
      "application/vnd.jupyter.widget-view+json": {
       "model_id": "f0e0df9082364fe89c4e8299a0814f39",
       "version_major": 2,
       "version_minor": 0
      },
      "text/plain": [
       "Finding best initial lr:   0%|          | 0/207 [00:00<?, ?it/s]"
      ]
     },
     "metadata": {},
     "output_type": "display_data"
    },
    {
     "data": {
      "application/vnd.jupyter.widget-view+json": {
       "model_id": "b804cf58b78244b3b52940c648b8f31e",
       "version_major": 2,
       "version_minor": 0
      },
      "text/plain": [
       "Training: 0it [00:00, ?it/s]"
      ]
     },
     "metadata": {},
     "output_type": "display_data"
    },
    {
     "data": {
      "application/vnd.jupyter.widget-view+json": {
       "model_id": "ea9b91dcefe344d8a6e8eddda8471041",
       "version_major": 2,
       "version_minor": 0
      },
      "text/plain": [
       "Predicting: 6it [00:00, ?it/s]"
      ]
     },
     "metadata": {},
     "output_type": "display_data"
    },
    {
     "data": {
      "application/vnd.jupyter.widget-view+json": {
       "model_id": "af1b0200236045b0ac9676b2f68c1d46",
       "version_major": 2,
       "version_minor": 0
      },
      "text/plain": [
       "Finding best initial lr:   0%|          | 0/207 [00:00<?, ?it/s]"
      ]
     },
     "metadata": {},
     "output_type": "display_data"
    },
    {
     "data": {
      "application/vnd.jupyter.widget-view+json": {
       "model_id": "078ecbd656be4e4a9eacd2620d5ce18c",
       "version_major": 2,
       "version_minor": 0
      },
      "text/plain": [
       "Training: 0it [00:00, ?it/s]"
      ]
     },
     "metadata": {},
     "output_type": "display_data"
    },
    {
     "data": {
      "application/vnd.jupyter.widget-view+json": {
       "model_id": "47a93410f2434afcb10398e00e5307b9",
       "version_major": 2,
       "version_minor": 0
      },
      "text/plain": [
       "Predicting: 6it [00:00, ?it/s]"
      ]
     },
     "metadata": {},
     "output_type": "display_data"
    },
    {
     "data": {
      "application/vnd.jupyter.widget-view+json": {
       "model_id": "d68d7aae1e7d4ca5a8d99e2875eea8ea",
       "version_major": 2,
       "version_minor": 0
      },
      "text/plain": [
       "Finding best initial lr:   0%|          | 0/207 [00:00<?, ?it/s]"
      ]
     },
     "metadata": {},
     "output_type": "display_data"
    },
    {
     "data": {
      "application/vnd.jupyter.widget-view+json": {
       "model_id": "d043c35966d04c20ac3f972bcdade490",
       "version_major": 2,
       "version_minor": 0
      },
      "text/plain": [
       "Training: 0it [00:00, ?it/s]"
      ]
     },
     "metadata": {},
     "output_type": "display_data"
    },
    {
     "data": {
      "application/vnd.jupyter.widget-view+json": {
       "model_id": "89e6206d6fdc410786731a124344e9ac",
       "version_major": 2,
       "version_minor": 0
      },
      "text/plain": [
       "Predicting: 6it [00:00, ?it/s]"
      ]
     },
     "metadata": {},
     "output_type": "display_data"
    },
    {
     "data": {
      "application/vnd.jupyter.widget-view+json": {
       "model_id": "d16083e323c647f4ab9d470777eba725",
       "version_major": 2,
       "version_minor": 0
      },
      "text/plain": [
       "Finding best initial lr:   0%|          | 0/207 [00:00<?, ?it/s]"
      ]
     },
     "metadata": {},
     "output_type": "display_data"
    },
    {
     "data": {
      "application/vnd.jupyter.widget-view+json": {
       "model_id": "2157be1da92347c3844d64f4dbeeda11",
       "version_major": 2,
       "version_minor": 0
      },
      "text/plain": [
       "Training: 0it [00:00, ?it/s]"
      ]
     },
     "metadata": {},
     "output_type": "display_data"
    },
    {
     "data": {
      "application/vnd.jupyter.widget-view+json": {
       "model_id": "ba48d2d35f914817aa39d1f4ad97fb73",
       "version_major": 2,
       "version_minor": 0
      },
      "text/plain": [
       "Predicting: 6it [00:00, ?it/s]"
      ]
     },
     "metadata": {},
     "output_type": "display_data"
    },
    {
     "data": {
      "application/vnd.jupyter.widget-view+json": {
       "model_id": "c29685f9473649fd9babc517a00eb0a4",
       "version_major": 2,
       "version_minor": 0
      },
      "text/plain": [
       "Finding best initial lr:   0%|          | 0/206 [00:00<?, ?it/s]"
      ]
     },
     "metadata": {},
     "output_type": "display_data"
    },
    {
     "data": {
      "application/vnd.jupyter.widget-view+json": {
       "model_id": "e45e7ea09392465b9f03c5c8670ba9ec",
       "version_major": 2,
       "version_minor": 0
      },
      "text/plain": [
       "Training: 0it [00:00, ?it/s]"
      ]
     },
     "metadata": {},
     "output_type": "display_data"
    },
    {
     "data": {
      "application/vnd.jupyter.widget-view+json": {
       "model_id": "1a626165a61644e189882ee4b9dcde1c",
       "version_major": 2,
       "version_minor": 0
      },
      "text/plain": [
       "Predicting: 6it [00:00, ?it/s]"
      ]
     },
     "metadata": {},
     "output_type": "display_data"
    },
    {
     "data": {
      "application/vnd.jupyter.widget-view+json": {
       "model_id": "c16a741ddea24f9e9b7591d94ee46fe5",
       "version_major": 2,
       "version_minor": 0
      },
      "text/plain": [
       "Finding best initial lr:   0%|          | 0/207 [00:00<?, ?it/s]"
      ]
     },
     "metadata": {},
     "output_type": "display_data"
    },
    {
     "data": {
      "application/vnd.jupyter.widget-view+json": {
       "model_id": "2660a7db9bcb427a8eafb281129c4f75",
       "version_major": 2,
       "version_minor": 0
      },
      "text/plain": [
       "Training: 0it [00:00, ?it/s]"
      ]
     },
     "metadata": {},
     "output_type": "display_data"
    },
    {
     "data": {
      "application/vnd.jupyter.widget-view+json": {
       "model_id": "f7e1b8099a59452793670eeec7fc0717",
       "version_major": 2,
       "version_minor": 0
      },
      "text/plain": [
       "Predicting: 6it [00:00, ?it/s]"
      ]
     },
     "metadata": {},
     "output_type": "display_data"
    },
    {
     "data": {
      "application/vnd.jupyter.widget-view+json": {
       "model_id": "92591993a2d343c19e567f4de4ab1d6c",
       "version_major": 2,
       "version_minor": 0
      },
      "text/plain": [
       "Finding best initial lr:   0%|          | 0/207 [00:00<?, ?it/s]"
      ]
     },
     "metadata": {},
     "output_type": "display_data"
    },
    {
     "data": {
      "application/vnd.jupyter.widget-view+json": {
       "model_id": "fb6f741f3c5a43159a87a11c6b39c31e",
       "version_major": 2,
       "version_minor": 0
      },
      "text/plain": [
       "Training: 0it [00:00, ?it/s]"
      ]
     },
     "metadata": {},
     "output_type": "display_data"
    },
    {
     "data": {
      "application/vnd.jupyter.widget-view+json": {
       "model_id": "681f7f4cc9ca48b790476d2693e71a36",
       "version_major": 2,
       "version_minor": 0
      },
      "text/plain": [
       "Predicting: 6it [00:00, ?it/s]"
      ]
     },
     "metadata": {},
     "output_type": "display_data"
    },
    {
     "data": {
      "application/vnd.jupyter.widget-view+json": {
       "model_id": "e3dc44ffe5ff4cdc9f4224afd3342ef7",
       "version_major": 2,
       "version_minor": 0
      },
      "text/plain": [
       "Finding best initial lr:   0%|          | 0/205 [00:00<?, ?it/s]"
      ]
     },
     "metadata": {},
     "output_type": "display_data"
    },
    {
     "data": {
      "application/vnd.jupyter.widget-view+json": {
       "model_id": "536ea7e3bb934dc8aebddc99ba721b96",
       "version_major": 2,
       "version_minor": 0
      },
      "text/plain": [
       "Training: 0it [00:00, ?it/s]"
      ]
     },
     "metadata": {},
     "output_type": "display_data"
    },
    {
     "data": {
      "application/vnd.jupyter.widget-view+json": {
       "model_id": "dbd03cd499a244fe9bb12d7bb39cb9a6",
       "version_major": 2,
       "version_minor": 0
      },
      "text/plain": [
       "Predicting: 4it [00:00, ?it/s]"
      ]
     },
     "metadata": {},
     "output_type": "display_data"
    },
    {
     "data": {
      "application/vnd.jupyter.widget-view+json": {
       "model_id": "48b4f6d935ec4319ad5965797d5a0a59",
       "version_major": 2,
       "version_minor": 0
      },
      "text/plain": [
       "Finding best initial lr:   0%|          | 0/207 [00:00<?, ?it/s]"
      ]
     },
     "metadata": {},
     "output_type": "display_data"
    },
    {
     "data": {
      "application/vnd.jupyter.widget-view+json": {
       "model_id": "9758585428f84845bc3010ea70565d00",
       "version_major": 2,
       "version_minor": 0
      },
      "text/plain": [
       "Training: 0it [00:00, ?it/s]"
      ]
     },
     "metadata": {},
     "output_type": "display_data"
    },
    {
     "data": {
      "application/vnd.jupyter.widget-view+json": {
       "model_id": "43e00d8ddcd6414da66eecc9ad26d125",
       "version_major": 2,
       "version_minor": 0
      },
      "text/plain": [
       "Predicting: 6it [00:00, ?it/s]"
      ]
     },
     "metadata": {},
     "output_type": "display_data"
    },
    {
     "data": {
      "application/vnd.jupyter.widget-view+json": {
       "model_id": "57e720eb6fb3469dbd9effdb650c76c0",
       "version_major": 2,
       "version_minor": 0
      },
      "text/plain": [
       "Finding best initial lr:   0%|          | 0/204 [00:00<?, ?it/s]"
      ]
     },
     "metadata": {},
     "output_type": "display_data"
    },
    {
     "data": {
      "application/vnd.jupyter.widget-view+json": {
       "model_id": "8f98c689f065499582de6cdedf0c8ee0",
       "version_major": 2,
       "version_minor": 0
      },
      "text/plain": [
       "Training: 0it [00:00, ?it/s]"
      ]
     },
     "metadata": {},
     "output_type": "display_data"
    },
    {
     "data": {
      "application/vnd.jupyter.widget-view+json": {
       "model_id": "ed271867e69c408787406125e52fb89f",
       "version_major": 2,
       "version_minor": 0
      },
      "text/plain": [
       "Predicting: 4it [00:00, ?it/s]"
      ]
     },
     "metadata": {},
     "output_type": "display_data"
    }
   ],
   "source": [
    "# Disable logging messages unless there is an error\n",
    "set_log_level(\"ERROR\")\n",
    "\n",
    "# Initialize a dictionary to store individual models and forecasts\n",
    "id_models = {}\n",
    "id_forecasts = {}\n",
    "\n",
    "# Group data by ID\n",
    "grouped = df_rename.groupby('ID')\n",
    "\n",
    "# Loop through each group (ID) and create models and forecasts\n",
    "for group_name, group_data in grouped:\n",
    "    group_data = group_data.rename(columns={'ds': 'ds', 'y': 'y'})\n",
    "    group_data_trim = group_data[group_data['ds'] <= end_of_data]\n",
    "    \n",
    "    # Initialize and train the model\n",
    "    model = NeuralProphet()\n",
    "    model.fit(group_data_trim, freq=\"MS\")\n",
    "    \n",
    "    # Store the model for the current ID\n",
    "    id_models[group_name] = model\n",
    "    \n",
    "    # Create a dataframe with future dates for prediction\n",
    "    future = model.make_future_dataframe(group_data_trim, periods=fh, n_historic_predictions=len(group_data_trim))\n",
    "    \n",
    "    # Make predictions for the next 12 periods\n",
    "    forecast = model.predict(future)\n",
    "    \n",
    "    # Store the forecast for the current ID\n",
    "    id_forecasts[group_name] = forecast"
   ]
  },
  {
   "cell_type": "code",
   "execution_count": 7,
   "metadata": {},
   "outputs": [],
   "source": [
    "# Initialize a dataframe to store final predictions\n",
    "all_np_preds = pd.DataFrame()\n",
    "\n",
    "# Loop through each group (ID) and get final pred\n",
    "for group_name, group_data in grouped:\n",
    "    \n",
    "    # create temp table with fcasts for id (dep-ent)\n",
    "    temp_fcast = id_forecasts[group_name]\n",
    "    \n",
    "    # filter to just the predictions in the future\n",
    "    temp_fcast = temp_fcast.tail(fh)[[\"ds\", \"yhat1\"]]\n",
    "    \n",
    "    # add id (dep-ent)\n",
    "    temp_fcast['ID'] = group_name\n",
    "\n",
    "    # create master list of predictions    \n",
    "    all_np_preds = pd.concat([all_np_preds, temp_fcast])"
   ]
  },
  {
   "cell_type": "code",
   "execution_count": 8,
   "metadata": {},
   "outputs": [
    {
     "name": "stderr",
     "output_type": "stream",
     "text": [
      "WARNING - (py.warnings._showwarnmsg) - C:\\Users\\crudek\\AppData\\Local\\Temp\\ipykernel_8432\\3950419347.py:10: SettingWithCopyWarning: \n",
      "A value is trying to be set on a copy of a slice from a DataFrame.\n",
      "Try using .loc[row_indexer,col_indexer] = value instead\n",
      "\n",
      "See the caveats in the documentation: https://pandas.pydata.org/pandas-docs/stable/user_guide/indexing.html#returning-a-view-versus-a-copy\n",
      "  sales[\"MONTH\"] = pd.to_datetime(sales[\"MONTH\"])\n",
      "\n"
     ]
    }
   ],
   "source": [
    "### AFTER THE LOOP ###\n",
    "\n",
    "# rename index col\n",
    "all_np_preds.rename(columns={'ds': 'MONTH', 'yhat1': 'PRED', 'ID': 'DEP_ENT' }, inplace=True)\n",
    "\n",
    "# initial sales pull\n",
    "sales = df_initial\n",
    "# select cols\n",
    "sales = sales[[\"DEP_ENT\", \"MONTH\", \"NET_SALES\"]]\n",
    "sales[\"MONTH\"] = pd.to_datetime(sales[\"MONTH\"])\n",
    "# only include sales data for the full months we have\n",
    "sales = sales[sales['MONTH'] <  pd.to_datetime(first_day_of_current_month)]\n",
    "\n",
    "# combine prediction data and original sales data\n",
    "merged = pd.merge(all_np_preds, sales, how='left', on=['DEP_ENT', 'MONTH'])"
   ]
  },
  {
   "cell_type": "code",
   "execution_count": 9,
   "metadata": {},
   "outputs": [
    {
     "name": "stderr",
     "output_type": "stream",
     "text": [
      "WARNING - (py.warnings._showwarnmsg) - C:\\Users\\crudek\\AppData\\Local\\Temp\\ipykernel_8432\\690824450.py:8: UserWarning: pandas only supports SQLAlchemy connectable (engine/connection) or database string URI or sqlite3 DBAPI2 connection. Other DBAPI2 objects are not tested. Please consider using SQLAlchemy.\n",
      "  budg = pd.read_sql_query(query.read(), conn)\n",
      "\n"
     ]
    }
   ],
   "source": [
    "### BUDGET ###\n",
    "\n",
    "# Establish a connection to Snowflake\n",
    "conn = snowflake.connector.connect(**connection_params)\n",
    "\n",
    "with open('budget_query.sql', 'r') as query:\n",
    "    # connection == the connection to your database, in your case prob_db\n",
    "    budg = pd.read_sql_query(query.read(), conn)\n",
    "\n",
    "# Close the connection\n",
    "conn.close()\n",
    "\n",
    "# convert month to datetime\n",
    "budg[\"MONTH\"] = pd.to_datetime(budg[\"MONTH\"])\n",
    "# select cols\n",
    "budg = budg[[\"MONTH\", \"BUDGET_AMOUNT\", \"DEP_ENT\"]]"
   ]
  },
  {
   "cell_type": "code",
   "execution_count": 10,
   "metadata": {},
   "outputs": [],
   "source": [
    "# combine prediction/sales data with budget data\n",
    "merged2 = pd.merge(merged, budg, how='left', on=['DEP_ENT', 'MONTH'])\n",
    "\n",
    "# write csv\n",
    "merged2.to_csv('np_pred.csv')"
   ]
  },
  {
   "cell_type": "code",
   "execution_count": 67,
   "metadata": {},
   "outputs": [],
   "source": [
    "sales.to_csv('sales.csv')"
   ]
  }
 ],
 "metadata": {
  "kernelspec": {
   "display_name": "newpycaret",
   "language": "python",
   "name": "python3"
  },
  "language_info": {
   "codemirror_mode": {
    "name": "ipython",
    "version": 3
   },
   "file_extension": ".py",
   "mimetype": "text/x-python",
   "name": "python",
   "nbconvert_exporter": "python",
   "pygments_lexer": "ipython3",
   "version": "3.9.13"
  }
 },
 "nbformat": 4,
 "nbformat_minor": 2
}
