{
 "cells": [
  {
   "cell_type": "markdown",
   "metadata": {},
   "source": [
    "# Vitamix Forecasting Models"
   ]
  },
  {
   "cell_type": "markdown",
   "metadata": {},
   "source": [
    "# Global\n",
    "    * Data Load and Preparation"
   ]
  },
  {
   "cell_type": "code",
   "execution_count": 25,
   "metadata": {},
   "outputs": [],
   "source": [
    "# Packages\n",
    "import snowflake.connector\n",
    "import pandas as pd\n",
    "import os\n",
    "import numpy as np\n",
    "import xlsxwriter\n",
    "import matplotlib.pyplot as plt\n",
    "from datetime import datetime, timedelta\n",
    "\n",
    "from tqdm import tqdm\n",
    "\n",
    "# import the regression module from pycaret   \n",
    "import pycaret.regression as pycr\n",
    "\n",
    "# import the time seris module from pycaret\n",
    "\n",
    "import pycaret.time_series as pycts"
   ]
  },
  {
   "cell_type": "markdown",
   "metadata": {},
   "source": [
    "# copy and paste in to a new chunk, enter credentials and run to save in environment. Then delete chunk\n",
    "%env snowflakeuser=<your_snowflake_username>\n",
    "%env snowflakepass=<your_snowflake_password>"
   ]
  },
  {
   "cell_type": "code",
   "execution_count": 3,
   "metadata": {},
   "outputs": [
    {
     "name": "stdout",
     "output_type": "stream",
     "text": [
      "   DEP_ENT       MONTH     NET_SALES  BUDGET_AMOUNT  FORECAST\n",
      "0  210_310  2020-09-01  7.449778e+05      1330384.0       NaN\n",
      "1  210_310  2020-10-01  5.257454e+05       936992.0       NaN\n",
      "2  210_310  2020-11-01  1.998459e+06      1681287.0       NaN\n",
      "3  210_310  2020-12-01  4.443028e+05       734573.0       NaN\n",
      "4  210_310  2021-01-01  3.309476e+05            NaN       NaN\n"
     ]
    }
   ],
   "source": [
    "# Query Snowflake\n",
    "\n",
    "def snowflake_to_pandas(connection_params, query):\n",
    "    try:\n",
    "        # Establish a connection to Snowflake\n",
    "        conn = snowflake.connector.connect(**connection_params)\n",
    "\n",
    "        # Execute the SQL query and fetch the results into a DataFrame\n",
    "        df = pd.read_sql_query(query, conn)\n",
    "\n",
    "        # Close the connection\n",
    "        conn.close()\n",
    "\n",
    "        return df\n",
    "    except Exception as e:\n",
    "        print(f\"Error: {e}\")\n",
    "        return None\n",
    "\n",
    "# Snowflake connection parameters\n",
    "connection_params = {\n",
    "    \"user\": os.environ['snowflakeuser'],\n",
    "    \"password\": os.environ['snowflakepass'],\n",
    "    \"account\": \"zib52348.us-east-1\",\n",
    "    \"role\": \"ACCOUNTADMIN\",\n",
    "    \"warehouse\": \"REPORTING\",\n",
    "    \"database\": \"ANALYTICS\",\n",
    "    \"schema\": \"FORECASTING\",\n",
    "}\n",
    "\n",
    "# SQL command \n",
    "query = 'SELECT * FROM \"ANALYTICS\".\"FORECASTING\".\"sales_fcast_combined_v\"'\n",
    "\n",
    "# Call the function to retrieve the data into a Pandas DataFrame\n",
    "result_df = snowflake_to_pandas(connection_params, query)\n",
    "\n",
    "if result_df is not None:\n",
    "    print(result_df.head())  # Display the first few rows of the DataFrame\n",
    "else:\n",
    "    print(\"Failed to retrieve data from Snowflake.\")"
   ]
  },
  {
   "cell_type": "markdown",
   "metadata": {},
   "source": [
    "###############\n",
    "#### NOTES ####\n",
    "###############\n",
    "\n",
    "*Change the date below to forecast all of 2023 (8/15/23)"
   ]
  },
  {
   "cell_type": "code",
   "execution_count": 36,
   "metadata": {},
   "outputs": [],
   "source": [
    "### Data prep ###\n",
    "\n",
    "result_df[\"MONTH\"] = pd.to_datetime(result_df[\"MONTH\"]) # convert month field to date\n",
    "#df_all = result_df[result_df['MONTH'] <= pd.Timestamp(2023,6,1)] # we have data through July '23 when we are training these models. \n",
    "\n",
    "df_all = result_df[result_df['MONTH'] <= pd.Timestamp(2022,12,1)] # CHANGE FOR 2023\n",
    "\n",
    "#Some random months will have data that we want to remove (* Want to test without July though)\n",
    "df_all = df_all[[\"DEP_ENT\", \"MONTH\", \"NET_SALES\"]] # select fields of interest\n",
    "df_all = df_all.sort_values(['DEP_ENT', 'MONTH']) # reorder dataframe"
   ]
  },
  {
   "cell_type": "code",
   "execution_count": 37,
   "metadata": {},
   "outputs": [
    {
     "name": "stdout",
     "output_type": "stream",
     "text": [
      "14\n",
      "-----\n",
      "DEP_ENT\n",
      "160_155    84\n",
      "170_155    84\n",
      "200_155    84\n",
      "200_310    84\n",
      "210_155    84\n",
      "210_165    84\n",
      "210_310    84\n",
      "220_155    84\n",
      "220_310    78\n",
      "240_155    84\n",
      "250_155    84\n",
      "250_165    50\n",
      "250_310    84\n",
      "260_155    47\n",
      "dtype: int64\n",
      "-----\n",
      "DEP_ENT      0\n",
      "MONTH        0\n",
      "NET_SALES    0\n",
      "dtype: int64\n"
     ]
    }
   ],
   "source": [
    "### Spot checks ###\n",
    "\n",
    "# check the unique time_series. 14 different department-entity combinations\n",
    "print(df_all['DEP_ENT'].nunique())\n",
    "print(\"-----\")\n",
    "\n",
    "# check how many months for each dep-ent. 3 dep-ent do not have all months of data\n",
    "print(df_all.groupby(['DEP_ENT']).size())\n",
    "print(\"-----\")\n",
    "\n",
    "# check for nulls. No nulls\n",
    "print(df_all.isnull().sum())"
   ]
  },
  {
   "cell_type": "markdown",
   "metadata": {},
   "source": [
    "# Finished with global data work above\n",
    "__________________________________________________________________________________________________________________________________________________________________________________________________\n",
    "\n",
    "### 1\n",
    "# Time Series Forecasting with PyCaret Regression\n",
    "\n",
    "Pycaret 3.04 regression documentation: https://pycaret.readthedocs.io/en/stable/api/regression.html"
   ]
  },
  {
   "cell_type": "code",
   "execution_count": 6,
   "metadata": {},
   "outputs": [],
   "source": [
    "### Data Prep for Regression ###\n",
    "\n",
    "df_all_rg = df_all\n",
    "\n",
    "# extract month and year from dates\n",
    "df_all_rg['Month'] = [i.month for i in df_all_rg['MONTH']]\n",
    "df_all_rg['Year'] = [i.year for i in df_all_rg['MONTH']]\n",
    "\n",
    "# create a sequence of numbers\n",
    "df_all_rg['Series'] = np.arange(1,len(df_all_rg)+1)"
   ]
  },
  {
   "cell_type": "markdown",
   "metadata": {},
   "source": [
    "# Notes on below TS loop\n",
    "* Manual changes:\n",
    "  * periods to forecast ahead using the next_dates variable "
   ]
  },
  {
   "cell_type": "code",
   "execution_count": null,
   "metadata": {},
   "outputs": [],
   "source": [
    "### Regression Loop ###\n",
    "\n",
    "# Create empty dataframes\n",
    "all_results_rg = pd.DataFrame()\n",
    "all_predictions_rg = pd.DataFrame()\n",
    "\n",
    "# list of each dep-ent\n",
    "all_ts_rg = df_all_rg['DEP_ENT'].unique()\n",
    "\n",
    "for i in tqdm(all_ts_rg):\n",
    "    \n",
    "    # temp df for a dep-ent\n",
    "    df_subset = df_all_rg[df_all_rg['DEP_ENT'] == i]\n",
    "    \n",
    "    # trim\n",
    "    df_subset_trim = df_subset[['Series', 'Year', 'Month', 'NET_SALES']] \n",
    "    \n",
    "    # initialize setup\n",
    "    s = pycr.setup(data = df_subset_trim, target = 'NET_SALES', session_id = 123)\n",
    "    \n",
    "    # model training and selection\n",
    "    best_model = pycr.compare_models()\n",
    "    \n",
    "    # capture the compare result grid and store best model in list\n",
    "    p = pycr.pull().iloc[0:1]\n",
    "    p['DEP_ENT'] = str(i)\n",
    "    \n",
    "    all_results_rg = all_results_rg.append(p)\n",
    "    \n",
    "    ### New data to predict ###\n",
    "\n",
    "    # max date from original dataset\n",
    "    max_timestamp = df_subset['MONTH'].max()\n",
    "\n",
    "    # create dataframe for future dates, in this case the rest of 2023\n",
    "    next_dates = [max_timestamp.replace(day=1) + pd.DateOffset(months=i) for i in range(1, 7)] # Need to change range based on how many periods ahead you want to predict\n",
    "    new_dates_df = pd.DataFrame({'MONTH': next_dates})\n",
    "    new_dates_df[\"MONTH\"] = pd.to_datetime(new_dates_df[\"MONTH\"]) \n",
    "\n",
    "    # extract month and year from dates\n",
    "    new_dates_df['Month'] = [i.month for i in new_dates_df['MONTH']]\n",
    "    new_dates_df['Year'] = [i.year for i in new_dates_df['MONTH']]\n",
    "\n",
    "    # create a sequence of numbers\n",
    "    new_dates_df['Series'] = np.arange(1,len(new_dates_df)+1)\n",
    "\n",
    "    # select cols\n",
    "    new_dates_df = new_dates_df[['Series', 'Year', 'Month']] \n",
    "    \n",
    "    # predict on new data\n",
    "    predictions = pycr.predict_model(best_model, data = new_dates_df)\n",
    "    \n",
    "    ### Combine predictions in to all_predictions dataframe ###\n",
    "    \n",
    "    pred_temp = predictions.reset_index()\n",
    "    \n",
    "    pred_comb = pd.concat([pd.DataFrame({'MONTH': next_dates}), pred_temp['prediction_label']], axis = 1)\n",
    "    pred_comb['DEP_ENT'] = i # add dep\n",
    "    pred_comb.rename(columns = {'prediction_label':'PRED'}, inplace = True)\n",
    "    \n",
    "    # append to master dataframe\n",
    "    all_predictions_rg = all_predictions_rg.append(pred_comb)"
   ]
  },
  {
   "cell_type": "code",
   "execution_count": 12,
   "metadata": {},
   "outputs": [],
   "source": [
    "### Write Regression to Excel ###\n",
    "\n",
    "# Create a Pandas Excel writer using XlsxWriter\n",
    "rg_writer = pd.ExcelWriter('regression.xlsx', engine='xlsxwriter')\n",
    "\n",
    "# sheet 1\n",
    "all_results_rg.to_excel(rg_writer, sheet_name='results', index=False)\n",
    "# sheet 2\n",
    "all_predictions_rg.to_excel(rg_writer, sheet_name='predictions', index=False)\n",
    "\n",
    "# Save Data to File\n",
    "rg_writer.save()"
   ]
  },
  {
   "cell_type": "markdown",
   "metadata": {},
   "source": [
    "__________________________________________________________________________________________________________________________________________________________________________________________________\n",
    "\n",
    "### 2\n",
    "# Time Series Forecasting with PyCaret Time Series\n",
    "\n",
    "Pycaret 3.04 time series documentation: https://pycaret.readthedocs.io/en/stable/api/time_series.html"
   ]
  },
  {
   "cell_type": "code",
   "execution_count": 38,
   "metadata": {},
   "outputs": [],
   "source": [
    "### Data Prep for Time Series Anlysis ###\n",
    "\n",
    "df_all_ts = df_all\n",
    "\n",
    "# create time series dataset\n",
    "df_all_ts = df_all_ts[[\"DEP_ENT\", \"MONTH\", \"NET_SALES\"]]"
   ]
  },
  {
   "cell_type": "markdown",
   "metadata": {},
   "source": [
    "# Notes on below TS loop\n",
    "* Manual changes:\n",
    "  * periods to include in the dates dataset created using next_dates\n",
    "  * forecast horizon (fh) in predict_model function"
   ]
  },
  {
   "cell_type": "markdown",
   "metadata": {},
   "source": [
    "###############\n",
    "#### NOTES ####\n",
    "###############\n",
    "\n",
    "*When changing dataset to forecast all of 2023, we also need to chnage the dates and fh for thew two notes above (8/15/23)"
   ]
  },
  {
   "cell_type": "code",
   "execution_count": 44,
   "metadata": {},
   "outputs": [
    {
     "name": "stderr",
     "output_type": "stream",
     "text": [
      "  0%|          | 0/14 [00:00<?, ?it/s]"
     ]
    },
    {
     "data": {
      "text/html": [
       "<style type=\"text/css\">\n",
       "#T_2bda7_row28_col1, #T_2bda7_row31_col1 {\n",
       "  background-color: lightgreen;\n",
       "}\n",
       "</style>\n",
       "<table id=\"T_2bda7\">\n",
       "  <thead>\n",
       "    <tr>\n",
       "      <th class=\"blank level0\" >&nbsp;</th>\n",
       "      <th id=\"T_2bda7_level0_col0\" class=\"col_heading level0 col0\" >Description</th>\n",
       "      <th id=\"T_2bda7_level0_col1\" class=\"col_heading level0 col1\" >Value</th>\n",
       "    </tr>\n",
       "  </thead>\n",
       "  <tbody>\n",
       "    <tr>\n",
       "      <th id=\"T_2bda7_level0_row0\" class=\"row_heading level0 row0\" >0</th>\n",
       "      <td id=\"T_2bda7_row0_col0\" class=\"data row0 col0\" >session_id</td>\n",
       "      <td id=\"T_2bda7_row0_col1\" class=\"data row0 col1\" >123</td>\n",
       "    </tr>\n",
       "    <tr>\n",
       "      <th id=\"T_2bda7_level0_row1\" class=\"row_heading level0 row1\" >1</th>\n",
       "      <td id=\"T_2bda7_row1_col0\" class=\"data row1 col0\" >Target</td>\n",
       "      <td id=\"T_2bda7_row1_col1\" class=\"data row1 col1\" >NET_SALES</td>\n",
       "    </tr>\n",
       "    <tr>\n",
       "      <th id=\"T_2bda7_level0_row2\" class=\"row_heading level0 row2\" >2</th>\n",
       "      <td id=\"T_2bda7_row2_col0\" class=\"data row2 col0\" >Approach</td>\n",
       "      <td id=\"T_2bda7_row2_col1\" class=\"data row2 col1\" >Univariate</td>\n",
       "    </tr>\n",
       "    <tr>\n",
       "      <th id=\"T_2bda7_level0_row3\" class=\"row_heading level0 row3\" >3</th>\n",
       "      <td id=\"T_2bda7_row3_col0\" class=\"data row3 col0\" >Exogenous Variables</td>\n",
       "      <td id=\"T_2bda7_row3_col1\" class=\"data row3 col1\" >Not Present</td>\n",
       "    </tr>\n",
       "    <tr>\n",
       "      <th id=\"T_2bda7_level0_row4\" class=\"row_heading level0 row4\" >4</th>\n",
       "      <td id=\"T_2bda7_row4_col0\" class=\"data row4 col0\" >Original data shape</td>\n",
       "      <td id=\"T_2bda7_row4_col1\" class=\"data row4 col1\" >(84, 1)</td>\n",
       "    </tr>\n",
       "    <tr>\n",
       "      <th id=\"T_2bda7_level0_row5\" class=\"row_heading level0 row5\" >5</th>\n",
       "      <td id=\"T_2bda7_row5_col0\" class=\"data row5 col0\" >Transformed data shape</td>\n",
       "      <td id=\"T_2bda7_row5_col1\" class=\"data row5 col1\" >(84, 1)</td>\n",
       "    </tr>\n",
       "    <tr>\n",
       "      <th id=\"T_2bda7_level0_row6\" class=\"row_heading level0 row6\" >6</th>\n",
       "      <td id=\"T_2bda7_row6_col0\" class=\"data row6 col0\" >Transformed train set shape</td>\n",
       "      <td id=\"T_2bda7_row6_col1\" class=\"data row6 col1\" >(83, 1)</td>\n",
       "    </tr>\n",
       "    <tr>\n",
       "      <th id=\"T_2bda7_level0_row7\" class=\"row_heading level0 row7\" >7</th>\n",
       "      <td id=\"T_2bda7_row7_col0\" class=\"data row7 col0\" >Transformed test set shape</td>\n",
       "      <td id=\"T_2bda7_row7_col1\" class=\"data row7 col1\" >(1, 1)</td>\n",
       "    </tr>\n",
       "    <tr>\n",
       "      <th id=\"T_2bda7_level0_row8\" class=\"row_heading level0 row8\" >8</th>\n",
       "      <td id=\"T_2bda7_row8_col0\" class=\"data row8 col0\" >Rows with missing values</td>\n",
       "      <td id=\"T_2bda7_row8_col1\" class=\"data row8 col1\" >0.0%</td>\n",
       "    </tr>\n",
       "    <tr>\n",
       "      <th id=\"T_2bda7_level0_row9\" class=\"row_heading level0 row9\" >9</th>\n",
       "      <td id=\"T_2bda7_row9_col0\" class=\"data row9 col0\" >Fold Generator</td>\n",
       "      <td id=\"T_2bda7_row9_col1\" class=\"data row9 col1\" >ExpandingWindowSplitter</td>\n",
       "    </tr>\n",
       "    <tr>\n",
       "      <th id=\"T_2bda7_level0_row10\" class=\"row_heading level0 row10\" >10</th>\n",
       "      <td id=\"T_2bda7_row10_col0\" class=\"data row10 col0\" >Fold Number</td>\n",
       "      <td id=\"T_2bda7_row10_col1\" class=\"data row10 col1\" >3</td>\n",
       "    </tr>\n",
       "    <tr>\n",
       "      <th id=\"T_2bda7_level0_row11\" class=\"row_heading level0 row11\" >11</th>\n",
       "      <td id=\"T_2bda7_row11_col0\" class=\"data row11 col0\" >Enforce Prediction Interval</td>\n",
       "      <td id=\"T_2bda7_row11_col1\" class=\"data row11 col1\" >False</td>\n",
       "    </tr>\n",
       "    <tr>\n",
       "      <th id=\"T_2bda7_level0_row12\" class=\"row_heading level0 row12\" >12</th>\n",
       "      <td id=\"T_2bda7_row12_col0\" class=\"data row12 col0\" >Splits used for hyperparameters</td>\n",
       "      <td id=\"T_2bda7_row12_col1\" class=\"data row12 col1\" >all</td>\n",
       "    </tr>\n",
       "    <tr>\n",
       "      <th id=\"T_2bda7_level0_row13\" class=\"row_heading level0 row13\" >13</th>\n",
       "      <td id=\"T_2bda7_row13_col0\" class=\"data row13 col0\" >User Defined Seasonal Period(s)</td>\n",
       "      <td id=\"T_2bda7_row13_col1\" class=\"data row13 col1\" >None</td>\n",
       "    </tr>\n",
       "    <tr>\n",
       "      <th id=\"T_2bda7_level0_row14\" class=\"row_heading level0 row14\" >14</th>\n",
       "      <td id=\"T_2bda7_row14_col0\" class=\"data row14 col0\" >Ignore Seasonality Test</td>\n",
       "      <td id=\"T_2bda7_row14_col1\" class=\"data row14 col1\" >False</td>\n",
       "    </tr>\n",
       "    <tr>\n",
       "      <th id=\"T_2bda7_level0_row15\" class=\"row_heading level0 row15\" >15</th>\n",
       "      <td id=\"T_2bda7_row15_col0\" class=\"data row15 col0\" >Seasonality Detection Algo</td>\n",
       "      <td id=\"T_2bda7_row15_col1\" class=\"data row15 col1\" >auto</td>\n",
       "    </tr>\n",
       "    <tr>\n",
       "      <th id=\"T_2bda7_level0_row16\" class=\"row_heading level0 row16\" >16</th>\n",
       "      <td id=\"T_2bda7_row16_col0\" class=\"data row16 col0\" >Max Period to Consider</td>\n",
       "      <td id=\"T_2bda7_row16_col1\" class=\"data row16 col1\" >60</td>\n",
       "    </tr>\n",
       "    <tr>\n",
       "      <th id=\"T_2bda7_level0_row17\" class=\"row_heading level0 row17\" >17</th>\n",
       "      <td id=\"T_2bda7_row17_col0\" class=\"data row17 col0\" >Seasonal Period(s) Tested</td>\n",
       "      <td id=\"T_2bda7_row17_col1\" class=\"data row17 col1\" >[]</td>\n",
       "    </tr>\n",
       "    <tr>\n",
       "      <th id=\"T_2bda7_level0_row18\" class=\"row_heading level0 row18\" >18</th>\n",
       "      <td id=\"T_2bda7_row18_col0\" class=\"data row18 col0\" >Significant Seasonal Period(s)</td>\n",
       "      <td id=\"T_2bda7_row18_col1\" class=\"data row18 col1\" >[1]</td>\n",
       "    </tr>\n",
       "    <tr>\n",
       "      <th id=\"T_2bda7_level0_row19\" class=\"row_heading level0 row19\" >19</th>\n",
       "      <td id=\"T_2bda7_row19_col0\" class=\"data row19 col0\" >Significant Seasonal Period(s) without Harmonics</td>\n",
       "      <td id=\"T_2bda7_row19_col1\" class=\"data row19 col1\" >[1]</td>\n",
       "    </tr>\n",
       "    <tr>\n",
       "      <th id=\"T_2bda7_level0_row20\" class=\"row_heading level0 row20\" >20</th>\n",
       "      <td id=\"T_2bda7_row20_col0\" class=\"data row20 col0\" >Remove Harmonics</td>\n",
       "      <td id=\"T_2bda7_row20_col1\" class=\"data row20 col1\" >False</td>\n",
       "    </tr>\n",
       "    <tr>\n",
       "      <th id=\"T_2bda7_level0_row21\" class=\"row_heading level0 row21\" >21</th>\n",
       "      <td id=\"T_2bda7_row21_col0\" class=\"data row21 col0\" >Harmonics Order Method</td>\n",
       "      <td id=\"T_2bda7_row21_col1\" class=\"data row21 col1\" >harmonic_max</td>\n",
       "    </tr>\n",
       "    <tr>\n",
       "      <th id=\"T_2bda7_level0_row22\" class=\"row_heading level0 row22\" >22</th>\n",
       "      <td id=\"T_2bda7_row22_col0\" class=\"data row22 col0\" >Num Seasonalities to Use</td>\n",
       "      <td id=\"T_2bda7_row22_col1\" class=\"data row22 col1\" >1</td>\n",
       "    </tr>\n",
       "    <tr>\n",
       "      <th id=\"T_2bda7_level0_row23\" class=\"row_heading level0 row23\" >23</th>\n",
       "      <td id=\"T_2bda7_row23_col0\" class=\"data row23 col0\" >All Seasonalities to Use</td>\n",
       "      <td id=\"T_2bda7_row23_col1\" class=\"data row23 col1\" >[1]</td>\n",
       "    </tr>\n",
       "    <tr>\n",
       "      <th id=\"T_2bda7_level0_row24\" class=\"row_heading level0 row24\" >24</th>\n",
       "      <td id=\"T_2bda7_row24_col0\" class=\"data row24 col0\" >Primary Seasonality</td>\n",
       "      <td id=\"T_2bda7_row24_col1\" class=\"data row24 col1\" >1</td>\n",
       "    </tr>\n",
       "    <tr>\n",
       "      <th id=\"T_2bda7_level0_row25\" class=\"row_heading level0 row25\" >25</th>\n",
       "      <td id=\"T_2bda7_row25_col0\" class=\"data row25 col0\" >Seasonality Present</td>\n",
       "      <td id=\"T_2bda7_row25_col1\" class=\"data row25 col1\" >False</td>\n",
       "    </tr>\n",
       "    <tr>\n",
       "      <th id=\"T_2bda7_level0_row26\" class=\"row_heading level0 row26\" >26</th>\n",
       "      <td id=\"T_2bda7_row26_col0\" class=\"data row26 col0\" >Seasonality Type</td>\n",
       "      <td id=\"T_2bda7_row26_col1\" class=\"data row26 col1\" >None</td>\n",
       "    </tr>\n",
       "    <tr>\n",
       "      <th id=\"T_2bda7_level0_row27\" class=\"row_heading level0 row27\" >27</th>\n",
       "      <td id=\"T_2bda7_row27_col0\" class=\"data row27 col0\" >Target Strictly Positive</td>\n",
       "      <td id=\"T_2bda7_row27_col1\" class=\"data row27 col1\" >True</td>\n",
       "    </tr>\n",
       "    <tr>\n",
       "      <th id=\"T_2bda7_level0_row28\" class=\"row_heading level0 row28\" >28</th>\n",
       "      <td id=\"T_2bda7_row28_col0\" class=\"data row28 col0\" >Target White Noise</td>\n",
       "      <td id=\"T_2bda7_row28_col1\" class=\"data row28 col1\" >Yes</td>\n",
       "    </tr>\n",
       "    <tr>\n",
       "      <th id=\"T_2bda7_level0_row29\" class=\"row_heading level0 row29\" >29</th>\n",
       "      <td id=\"T_2bda7_row29_col0\" class=\"data row29 col0\" >Recommended d</td>\n",
       "      <td id=\"T_2bda7_row29_col1\" class=\"data row29 col1\" >0</td>\n",
       "    </tr>\n",
       "    <tr>\n",
       "      <th id=\"T_2bda7_level0_row30\" class=\"row_heading level0 row30\" >30</th>\n",
       "      <td id=\"T_2bda7_row30_col0\" class=\"data row30 col0\" >Recommended Seasonal D</td>\n",
       "      <td id=\"T_2bda7_row30_col1\" class=\"data row30 col1\" >0</td>\n",
       "    </tr>\n",
       "    <tr>\n",
       "      <th id=\"T_2bda7_level0_row31\" class=\"row_heading level0 row31\" >31</th>\n",
       "      <td id=\"T_2bda7_row31_col0\" class=\"data row31 col0\" >Preprocess</td>\n",
       "      <td id=\"T_2bda7_row31_col1\" class=\"data row31 col1\" >True</td>\n",
       "    </tr>\n",
       "    <tr>\n",
       "      <th id=\"T_2bda7_level0_row32\" class=\"row_heading level0 row32\" >32</th>\n",
       "      <td id=\"T_2bda7_row32_col0\" class=\"data row32 col0\" >Numerical Imputation (Target)</td>\n",
       "      <td id=\"T_2bda7_row32_col1\" class=\"data row32 col1\" >mean</td>\n",
       "    </tr>\n",
       "    <tr>\n",
       "      <th id=\"T_2bda7_level0_row33\" class=\"row_heading level0 row33\" >33</th>\n",
       "      <td id=\"T_2bda7_row33_col0\" class=\"data row33 col0\" >Transformation (Target)</td>\n",
       "      <td id=\"T_2bda7_row33_col1\" class=\"data row33 col1\" >None</td>\n",
       "    </tr>\n",
       "    <tr>\n",
       "      <th id=\"T_2bda7_level0_row34\" class=\"row_heading level0 row34\" >34</th>\n",
       "      <td id=\"T_2bda7_row34_col0\" class=\"data row34 col0\" >Scaling (Target)</td>\n",
       "      <td id=\"T_2bda7_row34_col1\" class=\"data row34 col1\" >None</td>\n",
       "    </tr>\n",
       "    <tr>\n",
       "      <th id=\"T_2bda7_level0_row35\" class=\"row_heading level0 row35\" >35</th>\n",
       "      <td id=\"T_2bda7_row35_col0\" class=\"data row35 col0\" >Feature Engineering (Target) - Reduced Regression</td>\n",
       "      <td id=\"T_2bda7_row35_col1\" class=\"data row35 col1\" >False</td>\n",
       "    </tr>\n",
       "    <tr>\n",
       "      <th id=\"T_2bda7_level0_row36\" class=\"row_heading level0 row36\" >36</th>\n",
       "      <td id=\"T_2bda7_row36_col0\" class=\"data row36 col0\" >CPU Jobs</td>\n",
       "      <td id=\"T_2bda7_row36_col1\" class=\"data row36 col1\" >-1</td>\n",
       "    </tr>\n",
       "    <tr>\n",
       "      <th id=\"T_2bda7_level0_row37\" class=\"row_heading level0 row37\" >37</th>\n",
       "      <td id=\"T_2bda7_row37_col0\" class=\"data row37 col0\" >Use GPU</td>\n",
       "      <td id=\"T_2bda7_row37_col1\" class=\"data row37 col1\" >False</td>\n",
       "    </tr>\n",
       "    <tr>\n",
       "      <th id=\"T_2bda7_level0_row38\" class=\"row_heading level0 row38\" >38</th>\n",
       "      <td id=\"T_2bda7_row38_col0\" class=\"data row38 col0\" >Log Experiment</td>\n",
       "      <td id=\"T_2bda7_row38_col1\" class=\"data row38 col1\" >False</td>\n",
       "    </tr>\n",
       "    <tr>\n",
       "      <th id=\"T_2bda7_level0_row39\" class=\"row_heading level0 row39\" >39</th>\n",
       "      <td id=\"T_2bda7_row39_col0\" class=\"data row39 col0\" >Experiment Name</td>\n",
       "      <td id=\"T_2bda7_row39_col1\" class=\"data row39 col1\" >ts-default-name</td>\n",
       "    </tr>\n",
       "    <tr>\n",
       "      <th id=\"T_2bda7_level0_row40\" class=\"row_heading level0 row40\" >40</th>\n",
       "      <td id=\"T_2bda7_row40_col0\" class=\"data row40 col0\" >USI</td>\n",
       "      <td id=\"T_2bda7_row40_col1\" class=\"data row40 col1\" >d4fd</td>\n",
       "    </tr>\n",
       "  </tbody>\n",
       "</table>\n"
      ],
      "text/plain": [
       "<pandas.io.formats.style.Styler at 0x224d07174c0>"
      ]
     },
     "metadata": {},
     "output_type": "display_data"
    },
    {
     "data": {
      "text/html": [],
      "text/plain": [
       "<IPython.core.display.HTML object>"
      ]
     },
     "metadata": {},
     "output_type": "display_data"
    },
    {
     "data": {
      "text/html": [
       "<style type=\"text/css\">\n",
       "#T_ee9d8 th {\n",
       "  text-align: left;\n",
       "}\n",
       "#T_ee9d8_row0_col0, #T_ee9d8_row1_col0, #T_ee9d8_row1_col1, #T_ee9d8_row1_col2, #T_ee9d8_row1_col3, #T_ee9d8_row1_col4, #T_ee9d8_row1_col5, #T_ee9d8_row1_col6, #T_ee9d8_row2_col0, #T_ee9d8_row2_col1, #T_ee9d8_row2_col2, #T_ee9d8_row2_col3, #T_ee9d8_row2_col4, #T_ee9d8_row2_col5, #T_ee9d8_row2_col6, #T_ee9d8_row3_col0, #T_ee9d8_row3_col1, #T_ee9d8_row3_col2, #T_ee9d8_row3_col3, #T_ee9d8_row3_col4, #T_ee9d8_row3_col5, #T_ee9d8_row3_col6, #T_ee9d8_row4_col0, #T_ee9d8_row4_col1, #T_ee9d8_row4_col2, #T_ee9d8_row4_col3, #T_ee9d8_row4_col4, #T_ee9d8_row4_col5, #T_ee9d8_row4_col6, #T_ee9d8_row5_col0, #T_ee9d8_row5_col1, #T_ee9d8_row5_col2, #T_ee9d8_row5_col3, #T_ee9d8_row5_col4, #T_ee9d8_row5_col5, #T_ee9d8_row5_col6, #T_ee9d8_row6_col0, #T_ee9d8_row6_col1, #T_ee9d8_row6_col2, #T_ee9d8_row6_col3, #T_ee9d8_row6_col4, #T_ee9d8_row6_col5, #T_ee9d8_row6_col6, #T_ee9d8_row7_col0, #T_ee9d8_row7_col1, #T_ee9d8_row7_col2, #T_ee9d8_row7_col3, #T_ee9d8_row7_col4, #T_ee9d8_row7_col5, #T_ee9d8_row7_col6, #T_ee9d8_row8_col0, #T_ee9d8_row8_col1, #T_ee9d8_row8_col2, #T_ee9d8_row8_col3, #T_ee9d8_row8_col4, #T_ee9d8_row8_col5, #T_ee9d8_row8_col6, #T_ee9d8_row9_col0, #T_ee9d8_row9_col1, #T_ee9d8_row9_col2, #T_ee9d8_row9_col3, #T_ee9d8_row9_col4, #T_ee9d8_row9_col5, #T_ee9d8_row9_col6, #T_ee9d8_row10_col0, #T_ee9d8_row10_col1, #T_ee9d8_row10_col2, #T_ee9d8_row10_col3, #T_ee9d8_row10_col4, #T_ee9d8_row10_col5, #T_ee9d8_row10_col6, #T_ee9d8_row11_col0, #T_ee9d8_row11_col1, #T_ee9d8_row11_col2, #T_ee9d8_row11_col3, #T_ee9d8_row11_col4, #T_ee9d8_row11_col5, #T_ee9d8_row11_col6, #T_ee9d8_row12_col0, #T_ee9d8_row12_col1, #T_ee9d8_row12_col2, #T_ee9d8_row12_col3, #T_ee9d8_row12_col4, #T_ee9d8_row12_col5, #T_ee9d8_row12_col6, #T_ee9d8_row13_col0, #T_ee9d8_row13_col1, #T_ee9d8_row13_col2, #T_ee9d8_row13_col3, #T_ee9d8_row13_col4, #T_ee9d8_row13_col5, #T_ee9d8_row13_col6, #T_ee9d8_row14_col0, #T_ee9d8_row14_col1, #T_ee9d8_row14_col2, #T_ee9d8_row14_col3, #T_ee9d8_row14_col4, #T_ee9d8_row14_col5, #T_ee9d8_row14_col6, #T_ee9d8_row15_col0, #T_ee9d8_row15_col1, #T_ee9d8_row15_col2, #T_ee9d8_row15_col3, #T_ee9d8_row15_col4, #T_ee9d8_row15_col5, #T_ee9d8_row15_col6, #T_ee9d8_row16_col0, #T_ee9d8_row16_col1, #T_ee9d8_row16_col2, #T_ee9d8_row16_col3, #T_ee9d8_row16_col4, #T_ee9d8_row16_col5, #T_ee9d8_row16_col6, #T_ee9d8_row17_col0, #T_ee9d8_row17_col1, #T_ee9d8_row17_col2, #T_ee9d8_row17_col3, #T_ee9d8_row17_col4, #T_ee9d8_row17_col5, #T_ee9d8_row17_col6, #T_ee9d8_row18_col0, #T_ee9d8_row18_col1, #T_ee9d8_row18_col2, #T_ee9d8_row18_col3, #T_ee9d8_row18_col4, #T_ee9d8_row18_col5, #T_ee9d8_row18_col6, #T_ee9d8_row19_col0, #T_ee9d8_row19_col1, #T_ee9d8_row19_col2, #T_ee9d8_row19_col3, #T_ee9d8_row19_col4, #T_ee9d8_row19_col5, #T_ee9d8_row19_col6, #T_ee9d8_row20_col0, #T_ee9d8_row20_col1, #T_ee9d8_row20_col2, #T_ee9d8_row20_col3, #T_ee9d8_row20_col4, #T_ee9d8_row20_col5, #T_ee9d8_row20_col6 {\n",
       "  text-align: left;\n",
       "}\n",
       "#T_ee9d8_row0_col1, #T_ee9d8_row0_col2, #T_ee9d8_row0_col3, #T_ee9d8_row0_col4, #T_ee9d8_row0_col5, #T_ee9d8_row0_col6 {\n",
       "  text-align: left;\n",
       "  background-color: yellow;\n",
       "}\n",
       "#T_ee9d8_row0_col7, #T_ee9d8_row1_col7, #T_ee9d8_row2_col7, #T_ee9d8_row3_col7, #T_ee9d8_row4_col7, #T_ee9d8_row5_col7, #T_ee9d8_row6_col7, #T_ee9d8_row7_col7, #T_ee9d8_row8_col7, #T_ee9d8_row9_col7, #T_ee9d8_row10_col7, #T_ee9d8_row11_col7, #T_ee9d8_row12_col7, #T_ee9d8_row13_col7, #T_ee9d8_row14_col7, #T_ee9d8_row15_col7, #T_ee9d8_row16_col7, #T_ee9d8_row18_col7, #T_ee9d8_row19_col7, #T_ee9d8_row20_col7 {\n",
       "  text-align: left;\n",
       "  background-color: lightgrey;\n",
       "}\n",
       "#T_ee9d8_row17_col7 {\n",
       "  text-align: left;\n",
       "  background-color: yellow;\n",
       "  background-color: lightgrey;\n",
       "}\n",
       "</style>\n",
       "<table id=\"T_ee9d8\">\n",
       "  <thead>\n",
       "    <tr>\n",
       "      <th class=\"blank level0\" >&nbsp;</th>\n",
       "      <th id=\"T_ee9d8_level0_col0\" class=\"col_heading level0 col0\" >Model</th>\n",
       "      <th id=\"T_ee9d8_level0_col1\" class=\"col_heading level0 col1\" >MASE</th>\n",
       "      <th id=\"T_ee9d8_level0_col2\" class=\"col_heading level0 col2\" >RMSSE</th>\n",
       "      <th id=\"T_ee9d8_level0_col3\" class=\"col_heading level0 col3\" >MAE</th>\n",
       "      <th id=\"T_ee9d8_level0_col4\" class=\"col_heading level0 col4\" >RMSE</th>\n",
       "      <th id=\"T_ee9d8_level0_col5\" class=\"col_heading level0 col5\" >MAPE</th>\n",
       "      <th id=\"T_ee9d8_level0_col6\" class=\"col_heading level0 col6\" >SMAPE</th>\n",
       "      <th id=\"T_ee9d8_level0_col7\" class=\"col_heading level0 col7\" >TT (Sec)</th>\n",
       "    </tr>\n",
       "  </thead>\n",
       "  <tbody>\n",
       "    <tr>\n",
       "      <th id=\"T_ee9d8_level0_row0\" class=\"row_heading level0 row0\" >polytrend</th>\n",
       "      <td id=\"T_ee9d8_row0_col0\" class=\"data row0 col0\" >Polynomial Trend Forecaster</td>\n",
       "      <td id=\"T_ee9d8_row0_col1\" class=\"data row0 col1\" >0.1212</td>\n",
       "      <td id=\"T_ee9d8_row0_col2\" class=\"data row0 col2\" >0.0959</td>\n",
       "      <td id=\"T_ee9d8_row0_col3\" class=\"data row0 col3\" >168497.6577</td>\n",
       "      <td id=\"T_ee9d8_row0_col4\" class=\"data row0 col4\" >168497.6577</td>\n",
       "      <td id=\"T_ee9d8_row0_col5\" class=\"data row0 col5\" >0.0621</td>\n",
       "      <td id=\"T_ee9d8_row0_col6\" class=\"data row0 col6\" >0.0595</td>\n",
       "      <td id=\"T_ee9d8_row0_col7\" class=\"data row0 col7\" >0.8167</td>\n",
       "    </tr>\n",
       "    <tr>\n",
       "      <th id=\"T_ee9d8_level0_row1\" class=\"row_heading level0 row1\" >lr_cds_dt</th>\n",
       "      <td id=\"T_ee9d8_row1_col0\" class=\"data row1 col0\" >Linear w/ Cond. Deseasonalize & Detrending</td>\n",
       "      <td id=\"T_ee9d8_row1_col1\" class=\"data row1 col1\" >0.1227</td>\n",
       "      <td id=\"T_ee9d8_row1_col2\" class=\"data row1 col2\" >0.0971</td>\n",
       "      <td id=\"T_ee9d8_row1_col3\" class=\"data row1 col3\" >170614.8954</td>\n",
       "      <td id=\"T_ee9d8_row1_col4\" class=\"data row1 col4\" >170614.8954</td>\n",
       "      <td id=\"T_ee9d8_row1_col5\" class=\"data row1 col5\" >0.0630</td>\n",
       "      <td id=\"T_ee9d8_row1_col6\" class=\"data row1 col6\" >0.0602</td>\n",
       "      <td id=\"T_ee9d8_row1_col7\" class=\"data row1 col7\" >0.0767</td>\n",
       "    </tr>\n",
       "    <tr>\n",
       "      <th id=\"T_ee9d8_level0_row2\" class=\"row_heading level0 row2\" >en_cds_dt</th>\n",
       "      <td id=\"T_ee9d8_row2_col0\" class=\"data row2 col0\" >Elastic Net w/ Cond. Deseasonalize & Detrending</td>\n",
       "      <td id=\"T_ee9d8_row2_col1\" class=\"data row2 col1\" >0.1227</td>\n",
       "      <td id=\"T_ee9d8_row2_col2\" class=\"data row2 col2\" >0.0971</td>\n",
       "      <td id=\"T_ee9d8_row2_col3\" class=\"data row2 col3\" >170614.8954</td>\n",
       "      <td id=\"T_ee9d8_row2_col4\" class=\"data row2 col4\" >170614.8954</td>\n",
       "      <td id=\"T_ee9d8_row2_col5\" class=\"data row2 col5\" >0.0630</td>\n",
       "      <td id=\"T_ee9d8_row2_col6\" class=\"data row2 col6\" >0.0602</td>\n",
       "      <td id=\"T_ee9d8_row2_col7\" class=\"data row2 col7\" >0.0900</td>\n",
       "    </tr>\n",
       "    <tr>\n",
       "      <th id=\"T_ee9d8_level0_row3\" class=\"row_heading level0 row3\" >ridge_cds_dt</th>\n",
       "      <td id=\"T_ee9d8_row3_col0\" class=\"data row3 col0\" >Ridge w/ Cond. Deseasonalize & Detrending</td>\n",
       "      <td id=\"T_ee9d8_row3_col1\" class=\"data row3 col1\" >0.1227</td>\n",
       "      <td id=\"T_ee9d8_row3_col2\" class=\"data row3 col2\" >0.0971</td>\n",
       "      <td id=\"T_ee9d8_row3_col3\" class=\"data row3 col3\" >170614.8954</td>\n",
       "      <td id=\"T_ee9d8_row3_col4\" class=\"data row3 col4\" >170614.8954</td>\n",
       "      <td id=\"T_ee9d8_row3_col5\" class=\"data row3 col5\" >0.0630</td>\n",
       "      <td id=\"T_ee9d8_row3_col6\" class=\"data row3 col6\" >0.0602</td>\n",
       "      <td id=\"T_ee9d8_row3_col7\" class=\"data row3 col7\" >0.0767</td>\n",
       "    </tr>\n",
       "    <tr>\n",
       "      <th id=\"T_ee9d8_level0_row4\" class=\"row_heading level0 row4\" >lasso_cds_dt</th>\n",
       "      <td id=\"T_ee9d8_row4_col0\" class=\"data row4 col0\" >Lasso w/ Cond. Deseasonalize & Detrending</td>\n",
       "      <td id=\"T_ee9d8_row4_col1\" class=\"data row4 col1\" >0.1227</td>\n",
       "      <td id=\"T_ee9d8_row4_col2\" class=\"data row4 col2\" >0.0971</td>\n",
       "      <td id=\"T_ee9d8_row4_col3\" class=\"data row4 col3\" >170614.8954</td>\n",
       "      <td id=\"T_ee9d8_row4_col4\" class=\"data row4 col4\" >170614.8954</td>\n",
       "      <td id=\"T_ee9d8_row4_col5\" class=\"data row4 col5\" >0.0630</td>\n",
       "      <td id=\"T_ee9d8_row4_col6\" class=\"data row4 col6\" >0.0602</td>\n",
       "      <td id=\"T_ee9d8_row4_col7\" class=\"data row4 col7\" >0.0800</td>\n",
       "    </tr>\n",
       "    <tr>\n",
       "      <th id=\"T_ee9d8_level0_row5\" class=\"row_heading level0 row5\" >llar_cds_dt</th>\n",
       "      <td id=\"T_ee9d8_row5_col0\" class=\"data row5 col0\" >Lasso Least Angular Regressor w/ Cond. Deseasonalize & Detrending</td>\n",
       "      <td id=\"T_ee9d8_row5_col1\" class=\"data row5 col1\" >0.1227</td>\n",
       "      <td id=\"T_ee9d8_row5_col2\" class=\"data row5 col2\" >0.0971</td>\n",
       "      <td id=\"T_ee9d8_row5_col3\" class=\"data row5 col3\" >170614.8954</td>\n",
       "      <td id=\"T_ee9d8_row5_col4\" class=\"data row5 col4\" >170614.8954</td>\n",
       "      <td id=\"T_ee9d8_row5_col5\" class=\"data row5 col5\" >0.0630</td>\n",
       "      <td id=\"T_ee9d8_row5_col6\" class=\"data row5 col6\" >0.0602</td>\n",
       "      <td id=\"T_ee9d8_row5_col7\" class=\"data row5 col7\" >0.0800</td>\n",
       "    </tr>\n",
       "    <tr>\n",
       "      <th id=\"T_ee9d8_level0_row6\" class=\"row_heading level0 row6\" >omp_cds_dt</th>\n",
       "      <td id=\"T_ee9d8_row6_col0\" class=\"data row6 col0\" >Orthogonal Matching Pursuit w/ Cond. Deseasonalize & Detrending</td>\n",
       "      <td id=\"T_ee9d8_row6_col1\" class=\"data row6 col1\" >0.1227</td>\n",
       "      <td id=\"T_ee9d8_row6_col2\" class=\"data row6 col2\" >0.0971</td>\n",
       "      <td id=\"T_ee9d8_row6_col3\" class=\"data row6 col3\" >170614.8954</td>\n",
       "      <td id=\"T_ee9d8_row6_col4\" class=\"data row6 col4\" >170614.8954</td>\n",
       "      <td id=\"T_ee9d8_row6_col5\" class=\"data row6 col5\" >0.0630</td>\n",
       "      <td id=\"T_ee9d8_row6_col6\" class=\"data row6 col6\" >0.0602</td>\n",
       "      <td id=\"T_ee9d8_row6_col7\" class=\"data row6 col7\" >0.0400</td>\n",
       "    </tr>\n",
       "    <tr>\n",
       "      <th id=\"T_ee9d8_level0_row7\" class=\"row_heading level0 row7\" >br_cds_dt</th>\n",
       "      <td id=\"T_ee9d8_row7_col0\" class=\"data row7 col0\" >Bayesian Ridge w/ Cond. Deseasonalize & Detrending</td>\n",
       "      <td id=\"T_ee9d8_row7_col1\" class=\"data row7 col1\" >0.1246</td>\n",
       "      <td id=\"T_ee9d8_row7_col2\" class=\"data row7 col2\" >0.0986</td>\n",
       "      <td id=\"T_ee9d8_row7_col3\" class=\"data row7 col3\" >173369.1781</td>\n",
       "      <td id=\"T_ee9d8_row7_col4\" class=\"data row7 col4\" >173369.1781</td>\n",
       "      <td id=\"T_ee9d8_row7_col5\" class=\"data row7 col5\" >0.0641</td>\n",
       "      <td id=\"T_ee9d8_row7_col6\" class=\"data row7 col6\" >0.0611</td>\n",
       "      <td id=\"T_ee9d8_row7_col7\" class=\"data row7 col7\" >0.0767</td>\n",
       "    </tr>\n",
       "    <tr>\n",
       "      <th id=\"T_ee9d8_level0_row8\" class=\"row_heading level0 row8\" >theta</th>\n",
       "      <td id=\"T_ee9d8_row8_col0\" class=\"data row8 col0\" >Theta Forecaster</td>\n",
       "      <td id=\"T_ee9d8_row8_col1\" class=\"data row8 col1\" >0.1288</td>\n",
       "      <td id=\"T_ee9d8_row8_col2\" class=\"data row8 col2\" >0.1019</td>\n",
       "      <td id=\"T_ee9d8_row8_col3\" class=\"data row8 col3\" >178883.3530</td>\n",
       "      <td id=\"T_ee9d8_row8_col4\" class=\"data row8 col4\" >178883.3530</td>\n",
       "      <td id=\"T_ee9d8_row8_col5\" class=\"data row8 col5\" >0.0655</td>\n",
       "      <td id=\"T_ee9d8_row8_col6\" class=\"data row8 col6\" >0.0630</td>\n",
       "      <td id=\"T_ee9d8_row8_col7\" class=\"data row8 col7\" >0.5733</td>\n",
       "    </tr>\n",
       "    <tr>\n",
       "      <th id=\"T_ee9d8_level0_row9\" class=\"row_heading level0 row9\" >exp_smooth</th>\n",
       "      <td id=\"T_ee9d8_row9_col0\" class=\"data row9 col0\" >Exponential Smoothing</td>\n",
       "      <td id=\"T_ee9d8_row9_col1\" class=\"data row9 col1\" >0.1413</td>\n",
       "      <td id=\"T_ee9d8_row9_col2\" class=\"data row9 col2\" >0.1118</td>\n",
       "      <td id=\"T_ee9d8_row9_col3\" class=\"data row9 col3\" >196377.5076</td>\n",
       "      <td id=\"T_ee9d8_row9_col4\" class=\"data row9 col4\" >196377.5076</td>\n",
       "      <td id=\"T_ee9d8_row9_col5\" class=\"data row9 col5\" >0.0721</td>\n",
       "      <td id=\"T_ee9d8_row9_col6\" class=\"data row9 col6\" >0.0689</td>\n",
       "      <td id=\"T_ee9d8_row9_col7\" class=\"data row9 col7\" >0.6133</td>\n",
       "    </tr>\n",
       "    <tr>\n",
       "      <th id=\"T_ee9d8_level0_row10\" class=\"row_heading level0 row10\" >ets</th>\n",
       "      <td id=\"T_ee9d8_row10_col0\" class=\"data row10 col0\" >ETS</td>\n",
       "      <td id=\"T_ee9d8_row10_col1\" class=\"data row10 col1\" >0.1413</td>\n",
       "      <td id=\"T_ee9d8_row10_col2\" class=\"data row10 col2\" >0.1118</td>\n",
       "      <td id=\"T_ee9d8_row10_col3\" class=\"data row10 col3\" >196348.5663</td>\n",
       "      <td id=\"T_ee9d8_row10_col4\" class=\"data row10 col4\" >196348.5663</td>\n",
       "      <td id=\"T_ee9d8_row10_col5\" class=\"data row10 col5\" >0.0721</td>\n",
       "      <td id=\"T_ee9d8_row10_col6\" class=\"data row10 col6\" >0.0689</td>\n",
       "      <td id=\"T_ee9d8_row10_col7\" class=\"data row10 col7\" >0.6200</td>\n",
       "    </tr>\n",
       "    <tr>\n",
       "      <th id=\"T_ee9d8_level0_row11\" class=\"row_heading level0 row11\" >auto_arima</th>\n",
       "      <td id=\"T_ee9d8_row11_col0\" class=\"data row11 col0\" >Auto ARIMA</td>\n",
       "      <td id=\"T_ee9d8_row11_col1\" class=\"data row11 col1\" >0.1515</td>\n",
       "      <td id=\"T_ee9d8_row11_col2\" class=\"data row11 col2\" >0.1195</td>\n",
       "      <td id=\"T_ee9d8_row11_col3\" class=\"data row11 col3\" >208712.9890</td>\n",
       "      <td id=\"T_ee9d8_row11_col4\" class=\"data row11 col4\" >208712.9890</td>\n",
       "      <td id=\"T_ee9d8_row11_col5\" class=\"data row11 col5\" >0.0729</td>\n",
       "      <td id=\"T_ee9d8_row11_col6\" class=\"data row11 col6\" >0.0765</td>\n",
       "      <td id=\"T_ee9d8_row11_col7\" class=\"data row11 col7\" >0.6533</td>\n",
       "    </tr>\n",
       "    <tr>\n",
       "      <th id=\"T_ee9d8_level0_row12\" class=\"row_heading level0 row12\" >arima</th>\n",
       "      <td id=\"T_ee9d8_row12_col0\" class=\"data row12 col0\" >ARIMA</td>\n",
       "      <td id=\"T_ee9d8_row12_col1\" class=\"data row12 col1\" >0.1516</td>\n",
       "      <td id=\"T_ee9d8_row12_col2\" class=\"data row12 col2\" >0.1196</td>\n",
       "      <td id=\"T_ee9d8_row12_col3\" class=\"data row12 col3\" >208959.1405</td>\n",
       "      <td id=\"T_ee9d8_row12_col4\" class=\"data row12 col4\" >208959.1405</td>\n",
       "      <td id=\"T_ee9d8_row12_col5\" class=\"data row12 col5\" >0.0731</td>\n",
       "      <td id=\"T_ee9d8_row12_col6\" class=\"data row12 col6\" >0.0766</td>\n",
       "      <td id=\"T_ee9d8_row12_col7\" class=\"data row12 col7\" >0.6200</td>\n",
       "    </tr>\n",
       "    <tr>\n",
       "      <th id=\"T_ee9d8_level0_row13\" class=\"row_heading level0 row13\" >gbr_cds_dt</th>\n",
       "      <td id=\"T_ee9d8_row13_col0\" class=\"data row13 col0\" >Gradient Boosting w/ Cond. Deseasonalize & Detrending</td>\n",
       "      <td id=\"T_ee9d8_row13_col1\" class=\"data row13 col1\" >0.1850</td>\n",
       "      <td id=\"T_ee9d8_row13_col2\" class=\"data row13 col2\" >0.1458</td>\n",
       "      <td id=\"T_ee9d8_row13_col3\" class=\"data row13 col3\" >254828.3480</td>\n",
       "      <td id=\"T_ee9d8_row13_col4\" class=\"data row13 col4\" >254828.3480</td>\n",
       "      <td id=\"T_ee9d8_row13_col5\" class=\"data row13 col5\" >0.0889</td>\n",
       "      <td id=\"T_ee9d8_row13_col6\" class=\"data row13 col6\" >0.0838</td>\n",
       "      <td id=\"T_ee9d8_row13_col7\" class=\"data row13 col7\" >0.0433</td>\n",
       "    </tr>\n",
       "    <tr>\n",
       "      <th id=\"T_ee9d8_level0_row14\" class=\"row_heading level0 row14\" >lightgbm_cds_dt</th>\n",
       "      <td id=\"T_ee9d8_row14_col0\" class=\"data row14 col0\" >Light Gradient Boosting w/ Cond. Deseasonalize & Detrending</td>\n",
       "      <td id=\"T_ee9d8_row14_col1\" class=\"data row14 col1\" >0.1961</td>\n",
       "      <td id=\"T_ee9d8_row14_col2\" class=\"data row14 col2\" >0.1550</td>\n",
       "      <td id=\"T_ee9d8_row14_col3\" class=\"data row14 col3\" >271441.5865</td>\n",
       "      <td id=\"T_ee9d8_row14_col4\" class=\"data row14 col4\" >271441.5865</td>\n",
       "      <td id=\"T_ee9d8_row14_col5\" class=\"data row14 col5\" >0.0979</td>\n",
       "      <td id=\"T_ee9d8_row14_col6\" class=\"data row14 col6\" >0.0896</td>\n",
       "      <td id=\"T_ee9d8_row14_col7\" class=\"data row14 col7\" >0.0567</td>\n",
       "    </tr>\n",
       "    <tr>\n",
       "      <th id=\"T_ee9d8_level0_row15\" class=\"row_heading level0 row15\" >et_cds_dt</th>\n",
       "      <td id=\"T_ee9d8_row15_col0\" class=\"data row15 col0\" >Extra Trees w/ Cond. Deseasonalize & Detrending</td>\n",
       "      <td id=\"T_ee9d8_row15_col1\" class=\"data row15 col1\" >0.2862</td>\n",
       "      <td id=\"T_ee9d8_row15_col2\" class=\"data row15 col2\" >0.2261</td>\n",
       "      <td id=\"T_ee9d8_row15_col3\" class=\"data row15 col3\" >396324.8649</td>\n",
       "      <td id=\"T_ee9d8_row15_col4\" class=\"data row15 col4\" >396324.8649</td>\n",
       "      <td id=\"T_ee9d8_row15_col5\" class=\"data row15 col5\" >0.1427</td>\n",
       "      <td id=\"T_ee9d8_row15_col6\" class=\"data row15 col6\" >0.1327</td>\n",
       "      <td id=\"T_ee9d8_row15_col7\" class=\"data row15 col7\" >0.0700</td>\n",
       "    </tr>\n",
       "    <tr>\n",
       "      <th id=\"T_ee9d8_level0_row16\" class=\"row_heading level0 row16\" >knn_cds_dt</th>\n",
       "      <td id=\"T_ee9d8_row16_col0\" class=\"data row16 col0\" >K Neighbors w/ Cond. Deseasonalize & Detrending</td>\n",
       "      <td id=\"T_ee9d8_row16_col1\" class=\"data row16 col1\" >0.3286</td>\n",
       "      <td id=\"T_ee9d8_row16_col2\" class=\"data row16 col2\" >0.2599</td>\n",
       "      <td id=\"T_ee9d8_row16_col3\" class=\"data row16 col3\" >455592.6818</td>\n",
       "      <td id=\"T_ee9d8_row16_col4\" class=\"data row16 col4\" >455592.6818</td>\n",
       "      <td id=\"T_ee9d8_row16_col5\" class=\"data row16 col5\" >0.1658</td>\n",
       "      <td id=\"T_ee9d8_row16_col6\" class=\"data row16 col6\" >0.1424</td>\n",
       "      <td id=\"T_ee9d8_row16_col7\" class=\"data row16 col7\" >0.0433</td>\n",
       "    </tr>\n",
       "    <tr>\n",
       "      <th id=\"T_ee9d8_level0_row17\" class=\"row_heading level0 row17\" >dt_cds_dt</th>\n",
       "      <td id=\"T_ee9d8_row17_col0\" class=\"data row17 col0\" >Decision Tree w/ Cond. Deseasonalize & Detrending</td>\n",
       "      <td id=\"T_ee9d8_row17_col1\" class=\"data row17 col1\" >0.4028</td>\n",
       "      <td id=\"T_ee9d8_row17_col2\" class=\"data row17 col2\" >0.3181</td>\n",
       "      <td id=\"T_ee9d8_row17_col3\" class=\"data row17 col3\" >557651.8596</td>\n",
       "      <td id=\"T_ee9d8_row17_col4\" class=\"data row17 col4\" >557651.8596</td>\n",
       "      <td id=\"T_ee9d8_row17_col5\" class=\"data row17 col5\" >0.2003</td>\n",
       "      <td id=\"T_ee9d8_row17_col6\" class=\"data row17 col6\" >0.1800</td>\n",
       "      <td id=\"T_ee9d8_row17_col7\" class=\"data row17 col7\" >0.0333</td>\n",
       "    </tr>\n",
       "    <tr>\n",
       "      <th id=\"T_ee9d8_level0_row18\" class=\"row_heading level0 row18\" >rf_cds_dt</th>\n",
       "      <td id=\"T_ee9d8_row18_col0\" class=\"data row18 col0\" >Random Forest w/ Cond. Deseasonalize & Detrending</td>\n",
       "      <td id=\"T_ee9d8_row18_col1\" class=\"data row18 col1\" >0.4770</td>\n",
       "      <td id=\"T_ee9d8_row18_col2\" class=\"data row18 col2\" >0.3769</td>\n",
       "      <td id=\"T_ee9d8_row18_col3\" class=\"data row18 col3\" >660346.2380</td>\n",
       "      <td id=\"T_ee9d8_row18_col4\" class=\"data row18 col4\" >660346.2380</td>\n",
       "      <td id=\"T_ee9d8_row18_col5\" class=\"data row18 col5\" >0.2380</td>\n",
       "      <td id=\"T_ee9d8_row18_col6\" class=\"data row18 col6\" >0.2078</td>\n",
       "      <td id=\"T_ee9d8_row18_col7\" class=\"data row18 col7\" >0.0833</td>\n",
       "    </tr>\n",
       "    <tr>\n",
       "      <th id=\"T_ee9d8_level0_row19\" class=\"row_heading level0 row19\" >ada_cds_dt</th>\n",
       "      <td id=\"T_ee9d8_row19_col0\" class=\"data row19 col0\" >AdaBoost w/ Cond. Deseasonalize & Detrending</td>\n",
       "      <td id=\"T_ee9d8_row19_col1\" class=\"data row19 col1\" >0.5525</td>\n",
       "      <td id=\"T_ee9d8_row19_col2\" class=\"data row19 col2\" >0.4364</td>\n",
       "      <td id=\"T_ee9d8_row19_col3\" class=\"data row19 col3\" >763734.2060</td>\n",
       "      <td id=\"T_ee9d8_row19_col4\" class=\"data row19 col4\" >763734.2060</td>\n",
       "      <td id=\"T_ee9d8_row19_col5\" class=\"data row19 col5\" >0.2729</td>\n",
       "      <td id=\"T_ee9d8_row19_col6\" class=\"data row19 col6\" >0.2297</td>\n",
       "      <td id=\"T_ee9d8_row19_col7\" class=\"data row19 col7\" >0.0433</td>\n",
       "    </tr>\n",
       "    <tr>\n",
       "      <th id=\"T_ee9d8_level0_row20\" class=\"row_heading level0 row20\" >huber_cds_dt</th>\n",
       "      <td id=\"T_ee9d8_row20_col0\" class=\"data row20 col0\" >Huber w/ Cond. Deseasonalize & Detrending</td>\n",
       "      <td id=\"T_ee9d8_row20_col1\" class=\"data row20 col1\" >nan</td>\n",
       "      <td id=\"T_ee9d8_row20_col2\" class=\"data row20 col2\" >nan</td>\n",
       "      <td id=\"T_ee9d8_row20_col3\" class=\"data row20 col3\" >nan</td>\n",
       "      <td id=\"T_ee9d8_row20_col4\" class=\"data row20 col4\" >nan</td>\n",
       "      <td id=\"T_ee9d8_row20_col5\" class=\"data row20 col5\" >nan</td>\n",
       "      <td id=\"T_ee9d8_row20_col6\" class=\"data row20 col6\" >nan</td>\n",
       "      <td id=\"T_ee9d8_row20_col7\" class=\"data row20 col7\" >0.0400</td>\n",
       "    </tr>\n",
       "  </tbody>\n",
       "</table>\n"
      ],
      "text/plain": [
       "<pandas.io.formats.style.Styler at 0x224cf3ab580>"
      ]
     },
     "metadata": {},
     "output_type": "display_data"
    },
    {
     "data": {
      "text/html": [],
      "text/plain": [
       "<IPython.core.display.HTML object>"
      ]
     },
     "metadata": {},
     "output_type": "display_data"
    },
    {
     "data": {
      "application/vnd.plotly.v1+json": {
       "config": {
        "plotlyServerURL": "https://plot.ly"
       },
       "data": [
        {
         "line": {
          "color": "rgb(31, 119, 180)",
          "width": 2
         },
         "marker": {
          "color": "rgb(31, 119, 180)",
          "size": 5
         },
         "mode": "lines+markers",
         "name": "NET_SALES",
         "type": "scattergl",
         "x": [
          "2016-01-01T00:00:00",
          "2016-02-01T00:00:00",
          "2016-03-01T00:00:00",
          "2016-04-01T00:00:00",
          "2016-05-01T00:00:00",
          "2016-06-01T00:00:00",
          "2016-07-01T00:00:00",
          "2016-08-01T00:00:00",
          "2016-09-01T00:00:00",
          "2016-10-01T00:00:00",
          "2016-11-01T00:00:00",
          "2016-12-01T00:00:00",
          "2017-01-01T00:00:00",
          "2017-02-01T00:00:00",
          "2017-03-01T00:00:00",
          "2017-04-01T00:00:00",
          "2017-05-01T00:00:00",
          "2017-06-01T00:00:00",
          "2017-07-01T00:00:00",
          "2017-08-01T00:00:00",
          "2017-09-01T00:00:00",
          "2017-10-01T00:00:00",
          "2017-11-01T00:00:00",
          "2017-12-01T00:00:00",
          "2018-01-01T00:00:00",
          "2018-02-01T00:00:00",
          "2018-03-01T00:00:00",
          "2018-04-01T00:00:00",
          "2018-05-01T00:00:00",
          "2018-06-01T00:00:00",
          "2018-07-01T00:00:00",
          "2018-08-01T00:00:00",
          "2018-09-01T00:00:00",
          "2018-10-01T00:00:00",
          "2018-11-01T00:00:00",
          "2018-12-01T00:00:00",
          "2019-01-01T00:00:00",
          "2019-02-01T00:00:00",
          "2019-03-01T00:00:00",
          "2019-04-01T00:00:00",
          "2019-05-01T00:00:00",
          "2019-06-01T00:00:00",
          "2019-07-01T00:00:00",
          "2019-08-01T00:00:00",
          "2019-09-01T00:00:00",
          "2019-10-01T00:00:00",
          "2019-11-01T00:00:00",
          "2019-12-01T00:00:00",
          "2020-01-01T00:00:00",
          "2020-02-01T00:00:00",
          "2020-03-01T00:00:00",
          "2020-04-01T00:00:00",
          "2020-05-01T00:00:00",
          "2020-06-01T00:00:00",
          "2020-07-01T00:00:00",
          "2020-08-01T00:00:00",
          "2020-09-01T00:00:00",
          "2020-10-01T00:00:00",
          "2020-11-01T00:00:00",
          "2020-12-01T00:00:00",
          "2021-01-01T00:00:00",
          "2021-02-01T00:00:00",
          "2021-03-01T00:00:00",
          "2021-04-01T00:00:00",
          "2021-05-01T00:00:00",
          "2021-06-01T00:00:00",
          "2021-07-01T00:00:00",
          "2021-08-01T00:00:00",
          "2021-09-01T00:00:00",
          "2021-10-01T00:00:00",
          "2021-11-01T00:00:00",
          "2021-12-01T00:00:00",
          "2022-01-01T00:00:00",
          "2022-02-01T00:00:00",
          "2022-03-01T00:00:00",
          "2022-04-01T00:00:00",
          "2022-05-01T00:00:00",
          "2022-06-01T00:00:00",
          "2022-07-01T00:00:00",
          "2022-08-01T00:00:00",
          "2022-09-01T00:00:00",
          "2022-10-01T00:00:00",
          "2022-11-01T00:00:00",
          "2022-12-01T00:00:00"
         ],
         "xaxis": "x",
         "y": [
          1076855.0699999998,
          1305615.57,
          1774890.87,
          852505.2300000002,
          3399714.4999999995,
          1790391.7000000002,
          2031853.3800000001,
          2814765.67,
          1841877.01,
          1765562.42,
          3749318.4899999998,
          1618833.26,
          2629868.9999999995,
          5179593.639999999,
          2193553.4400000004,
          4171031.8100000005,
          2119525.22,
          3508167.9000000004,
          2957970.5200000005,
          6268703.35,
          3512832.7199999997,
          1152439.6800000002,
          2104794.39,
          2844600.4299999997,
          1931032.7200000004,
          1530956.0500000003,
          827656.6200000001,
          2626379.28,
          3665062.7899999996,
          2277555.29,
          3112857.0599999996,
          2903536.9800000004,
          3059898.2699999996,
          2613242.409999999,
          2259003.019999999,
          6203890.19,
          1382350.49,
          286782.77,
          378435.39999999997,
          777248.43,
          1859274.1400000001,
          1008955.03,
          2978090.3499999996,
          1872471.07,
          2371841.5300000003,
          1449057.76,
          2528551.81,
          2630136.52,
          1851173.7899999998,
          1253972.1500000001,
          1311327.6600000001,
          3240286.8200000003,
          2024522.5999999999,
          2433237.66,
          2810435.58,
          2394048.0900000003,
          1590849.65,
          3884262.829999999,
          3459080.17,
          1996903.15,
          5327598.81,
          1130944.2900000003,
          5035752.4399999995,
          1776966.5,
          2315630.2499999995,
          5564576.089999999,
          4189142.04,
          2568260.26,
          1944002.88,
          4448633.85,
          2048084.4299999997,
          3475233.31,
          1879024.05,
          3381362.1799999992,
          4701960.42,
          2716010.23,
          3033480.75,
          2327011.24,
          3528076.6700000004,
          1966859.1800000002,
          2672275.2600000002,
          2745284.18,
          2967981.28,
          3144129.17
         ],
         "yaxis": "y"
        },
        {
         "line": {
          "color": "rgb(255, 127, 14)",
          "width": 2
         },
         "marker": {
          "color": "rgb(255, 127, 14)",
          "size": 5
         },
         "mode": "lines+markers",
         "name": "Polynomial Trend Forecaster",
         "type": "scattergl",
         "x": [
          "2016-01-01T00:00:00",
          "2016-02-01T00:00:00",
          "2016-03-01T00:00:00",
          "2016-04-01T00:00:00",
          "2016-05-01T00:00:00",
          "2016-06-01T00:00:00",
          "2016-07-01T00:00:00",
          "2016-08-01T00:00:00",
          "2016-09-01T00:00:00",
          "2016-10-01T00:00:00",
          "2016-11-01T00:00:00",
          "2016-12-01T00:00:00",
          "2017-01-01T00:00:00",
          "2017-02-01T00:00:00",
          "2017-03-01T00:00:00",
          "2017-04-01T00:00:00",
          "2017-05-01T00:00:00",
          "2017-06-01T00:00:00",
          "2017-07-01T00:00:00",
          "2017-08-01T00:00:00",
          "2017-09-01T00:00:00",
          "2017-10-01T00:00:00",
          "2017-11-01T00:00:00",
          "2017-12-01T00:00:00",
          "2018-01-01T00:00:00",
          "2018-02-01T00:00:00",
          "2018-03-01T00:00:00",
          "2018-04-01T00:00:00",
          "2018-05-01T00:00:00",
          "2018-06-01T00:00:00",
          "2018-07-01T00:00:00",
          "2018-08-01T00:00:00",
          "2018-09-01T00:00:00",
          "2018-10-01T00:00:00",
          "2018-11-01T00:00:00",
          "2018-12-01T00:00:00",
          "2019-01-01T00:00:00",
          "2019-02-01T00:00:00",
          "2019-03-01T00:00:00",
          "2019-04-01T00:00:00",
          "2019-05-01T00:00:00",
          "2019-06-01T00:00:00",
          "2019-07-01T00:00:00",
          "2019-08-01T00:00:00",
          "2019-09-01T00:00:00",
          "2019-10-01T00:00:00",
          "2019-11-01T00:00:00",
          "2019-12-01T00:00:00",
          "2020-01-01T00:00:00",
          "2020-02-01T00:00:00",
          "2020-03-01T00:00:00",
          "2020-04-01T00:00:00",
          "2020-05-01T00:00:00",
          "2020-06-01T00:00:00",
          "2020-07-01T00:00:00",
          "2020-08-01T00:00:00",
          "2020-09-01T00:00:00",
          "2020-10-01T00:00:00",
          "2020-11-01T00:00:00",
          "2020-12-01T00:00:00",
          "2021-01-01T00:00:00",
          "2021-02-01T00:00:00",
          "2021-03-01T00:00:00",
          "2021-04-01T00:00:00",
          "2021-05-01T00:00:00",
          "2021-06-01T00:00:00",
          "2021-07-01T00:00:00",
          "2021-08-01T00:00:00",
          "2021-09-01T00:00:00",
          "2021-10-01T00:00:00",
          "2021-11-01T00:00:00",
          "2021-12-01T00:00:00",
          "2022-01-01T00:00:00",
          "2022-02-01T00:00:00",
          "2022-03-01T00:00:00",
          "2022-04-01T00:00:00",
          "2022-05-01T00:00:00",
          "2022-06-01T00:00:00",
          "2022-07-01T00:00:00",
          "2022-08-01T00:00:00",
          "2022-09-01T00:00:00",
          "2022-10-01T00:00:00",
          "2022-11-01T00:00:00",
          "2022-12-01T00:00:00"
         ],
         "xaxis": "x",
         "y": [
          null,
          null,
          null,
          null,
          null,
          null,
          null,
          null,
          null,
          null,
          null,
          null,
          null,
          null,
          null,
          null,
          null,
          null,
          null,
          null,
          null,
          null,
          null,
          null,
          null,
          null,
          null,
          null,
          null,
          null,
          null,
          null,
          null,
          null,
          null,
          null,
          null,
          null,
          null,
          null,
          null,
          null,
          null,
          null,
          null,
          null,
          null,
          null,
          null,
          null,
          null,
          null,
          null,
          null,
          null,
          null,
          null,
          null,
          null,
          null,
          null,
          null,
          null,
          null,
          null,
          null,
          null,
          null,
          null,
          null,
          null,
          null,
          null,
          null,
          null,
          null,
          null,
          null,
          null,
          null,
          null,
          null,
          null,
          2957715.9569
         ],
         "yaxis": "y"
        }
       ],
       "layout": {
        "showlegend": true,
        "template": {
         "data": {
          "bar": [
           {
            "error_x": {
             "color": "rgb(51,51,51)"
            },
            "error_y": {
             "color": "rgb(51,51,51)"
            },
            "marker": {
             "line": {
              "color": "rgb(237,237,237)",
              "width": 0.5
             },
             "pattern": {
              "fillmode": "overlay",
              "size": 10,
              "solidity": 0.2
             }
            },
            "type": "bar"
           }
          ],
          "barpolar": [
           {
            "marker": {
             "line": {
              "color": "rgb(237,237,237)",
              "width": 0.5
             },
             "pattern": {
              "fillmode": "overlay",
              "size": 10,
              "solidity": 0.2
             }
            },
            "type": "barpolar"
           }
          ],
          "carpet": [
           {
            "aaxis": {
             "endlinecolor": "rgb(51,51,51)",
             "gridcolor": "white",
             "linecolor": "white",
             "minorgridcolor": "white",
             "startlinecolor": "rgb(51,51,51)"
            },
            "baxis": {
             "endlinecolor": "rgb(51,51,51)",
             "gridcolor": "white",
             "linecolor": "white",
             "minorgridcolor": "white",
             "startlinecolor": "rgb(51,51,51)"
            },
            "type": "carpet"
           }
          ],
          "choropleth": [
           {
            "colorbar": {
             "outlinewidth": 0,
             "tickcolor": "rgb(237,237,237)",
             "ticklen": 6,
             "ticks": "inside"
            },
            "type": "choropleth"
           }
          ],
          "contour": [
           {
            "colorbar": {
             "outlinewidth": 0,
             "tickcolor": "rgb(237,237,237)",
             "ticklen": 6,
             "ticks": "inside"
            },
            "colorscale": [
             [
              0,
              "rgb(20,44,66)"
             ],
             [
              1,
              "rgb(90,179,244)"
             ]
            ],
            "type": "contour"
           }
          ],
          "contourcarpet": [
           {
            "colorbar": {
             "outlinewidth": 0,
             "tickcolor": "rgb(237,237,237)",
             "ticklen": 6,
             "ticks": "inside"
            },
            "type": "contourcarpet"
           }
          ],
          "heatmap": [
           {
            "colorbar": {
             "outlinewidth": 0,
             "tickcolor": "rgb(237,237,237)",
             "ticklen": 6,
             "ticks": "inside"
            },
            "colorscale": [
             [
              0,
              "rgb(20,44,66)"
             ],
             [
              1,
              "rgb(90,179,244)"
             ]
            ],
            "type": "heatmap"
           }
          ],
          "heatmapgl": [
           {
            "colorbar": {
             "outlinewidth": 0,
             "tickcolor": "rgb(237,237,237)",
             "ticklen": 6,
             "ticks": "inside"
            },
            "colorscale": [
             [
              0,
              "rgb(20,44,66)"
             ],
             [
              1,
              "rgb(90,179,244)"
             ]
            ],
            "type": "heatmapgl"
           }
          ],
          "histogram": [
           {
            "marker": {
             "pattern": {
              "fillmode": "overlay",
              "size": 10,
              "solidity": 0.2
             }
            },
            "type": "histogram"
           }
          ],
          "histogram2d": [
           {
            "colorbar": {
             "outlinewidth": 0,
             "tickcolor": "rgb(237,237,237)",
             "ticklen": 6,
             "ticks": "inside"
            },
            "colorscale": [
             [
              0,
              "rgb(20,44,66)"
             ],
             [
              1,
              "rgb(90,179,244)"
             ]
            ],
            "type": "histogram2d"
           }
          ],
          "histogram2dcontour": [
           {
            "colorbar": {
             "outlinewidth": 0,
             "tickcolor": "rgb(237,237,237)",
             "ticklen": 6,
             "ticks": "inside"
            },
            "colorscale": [
             [
              0,
              "rgb(20,44,66)"
             ],
             [
              1,
              "rgb(90,179,244)"
             ]
            ],
            "type": "histogram2dcontour"
           }
          ],
          "mesh3d": [
           {
            "colorbar": {
             "outlinewidth": 0,
             "tickcolor": "rgb(237,237,237)",
             "ticklen": 6,
             "ticks": "inside"
            },
            "type": "mesh3d"
           }
          ],
          "parcoords": [
           {
            "line": {
             "colorbar": {
              "outlinewidth": 0,
              "tickcolor": "rgb(237,237,237)",
              "ticklen": 6,
              "ticks": "inside"
             }
            },
            "type": "parcoords"
           }
          ],
          "pie": [
           {
            "automargin": true,
            "type": "pie"
           }
          ],
          "scatter": [
           {
            "fillpattern": {
             "fillmode": "overlay",
             "size": 10,
             "solidity": 0.2
            },
            "type": "scatter"
           }
          ],
          "scatter3d": [
           {
            "line": {
             "colorbar": {
              "outlinewidth": 0,
              "tickcolor": "rgb(237,237,237)",
              "ticklen": 6,
              "ticks": "inside"
             }
            },
            "marker": {
             "colorbar": {
              "outlinewidth": 0,
              "tickcolor": "rgb(237,237,237)",
              "ticklen": 6,
              "ticks": "inside"
             }
            },
            "type": "scatter3d"
           }
          ],
          "scattercarpet": [
           {
            "marker": {
             "colorbar": {
              "outlinewidth": 0,
              "tickcolor": "rgb(237,237,237)",
              "ticklen": 6,
              "ticks": "inside"
             }
            },
            "type": "scattercarpet"
           }
          ],
          "scattergeo": [
           {
            "marker": {
             "colorbar": {
              "outlinewidth": 0,
              "tickcolor": "rgb(237,237,237)",
              "ticklen": 6,
              "ticks": "inside"
             }
            },
            "type": "scattergeo"
           }
          ],
          "scattergl": [
           {
            "marker": {
             "colorbar": {
              "outlinewidth": 0,
              "tickcolor": "rgb(237,237,237)",
              "ticklen": 6,
              "ticks": "inside"
             }
            },
            "type": "scattergl"
           }
          ],
          "scattermapbox": [
           {
            "marker": {
             "colorbar": {
              "outlinewidth": 0,
              "tickcolor": "rgb(237,237,237)",
              "ticklen": 6,
              "ticks": "inside"
             }
            },
            "type": "scattermapbox"
           }
          ],
          "scatterpolar": [
           {
            "marker": {
             "colorbar": {
              "outlinewidth": 0,
              "tickcolor": "rgb(237,237,237)",
              "ticklen": 6,
              "ticks": "inside"
             }
            },
            "type": "scatterpolar"
           }
          ],
          "scatterpolargl": [
           {
            "marker": {
             "colorbar": {
              "outlinewidth": 0,
              "tickcolor": "rgb(237,237,237)",
              "ticklen": 6,
              "ticks": "inside"
             }
            },
            "type": "scatterpolargl"
           }
          ],
          "scatterternary": [
           {
            "marker": {
             "colorbar": {
              "outlinewidth": 0,
              "tickcolor": "rgb(237,237,237)",
              "ticklen": 6,
              "ticks": "inside"
             }
            },
            "type": "scatterternary"
           }
          ],
          "surface": [
           {
            "colorbar": {
             "outlinewidth": 0,
             "tickcolor": "rgb(237,237,237)",
             "ticklen": 6,
             "ticks": "inside"
            },
            "colorscale": [
             [
              0,
              "rgb(20,44,66)"
             ],
             [
              1,
              "rgb(90,179,244)"
             ]
            ],
            "type": "surface"
           }
          ],
          "table": [
           {
            "cells": {
             "fill": {
              "color": "rgb(237,237,237)"
             },
             "line": {
              "color": "white"
             }
            },
            "header": {
             "fill": {
              "color": "rgb(217,217,217)"
             },
             "line": {
              "color": "white"
             }
            },
            "type": "table"
           }
          ]
         },
         "layout": {
          "annotationdefaults": {
           "arrowhead": 0,
           "arrowwidth": 1
          },
          "autotypenumbers": "strict",
          "coloraxis": {
           "colorbar": {
            "outlinewidth": 0,
            "tickcolor": "rgb(237,237,237)",
            "ticklen": 6,
            "ticks": "inside"
           }
          },
          "colorscale": {
           "sequential": [
            [
             0,
             "rgb(20,44,66)"
            ],
            [
             1,
             "rgb(90,179,244)"
            ]
           ],
           "sequentialminus": [
            [
             0,
             "rgb(20,44,66)"
            ],
            [
             1,
             "rgb(90,179,244)"
            ]
           ]
          },
          "colorway": [
           "#F8766D",
           "#A3A500",
           "#00BF7D",
           "#00B0F6",
           "#E76BF3"
          ],
          "font": {
           "color": "rgb(51,51,51)"
          },
          "geo": {
           "bgcolor": "white",
           "lakecolor": "white",
           "landcolor": "rgb(237,237,237)",
           "showlakes": true,
           "showland": true,
           "subunitcolor": "white"
          },
          "hoverlabel": {
           "align": "left"
          },
          "hovermode": "closest",
          "paper_bgcolor": "white",
          "plot_bgcolor": "rgb(237,237,237)",
          "polar": {
           "angularaxis": {
            "gridcolor": "white",
            "linecolor": "white",
            "showgrid": true,
            "tickcolor": "rgb(51,51,51)",
            "ticks": "outside"
           },
           "bgcolor": "rgb(237,237,237)",
           "radialaxis": {
            "gridcolor": "white",
            "linecolor": "white",
            "showgrid": true,
            "tickcolor": "rgb(51,51,51)",
            "ticks": "outside"
           }
          },
          "scene": {
           "xaxis": {
            "backgroundcolor": "rgb(237,237,237)",
            "gridcolor": "white",
            "gridwidth": 2,
            "linecolor": "white",
            "showbackground": true,
            "showgrid": true,
            "tickcolor": "rgb(51,51,51)",
            "ticks": "outside",
            "zerolinecolor": "white"
           },
           "yaxis": {
            "backgroundcolor": "rgb(237,237,237)",
            "gridcolor": "white",
            "gridwidth": 2,
            "linecolor": "white",
            "showbackground": true,
            "showgrid": true,
            "tickcolor": "rgb(51,51,51)",
            "ticks": "outside",
            "zerolinecolor": "white"
           },
           "zaxis": {
            "backgroundcolor": "rgb(237,237,237)",
            "gridcolor": "white",
            "gridwidth": 2,
            "linecolor": "white",
            "showbackground": true,
            "showgrid": true,
            "tickcolor": "rgb(51,51,51)",
            "ticks": "outside",
            "zerolinecolor": "white"
           }
          },
          "shapedefaults": {
           "fillcolor": "black",
           "line": {
            "width": 0
           },
           "opacity": 0.3
          },
          "ternary": {
           "aaxis": {
            "gridcolor": "white",
            "linecolor": "white",
            "showgrid": true,
            "tickcolor": "rgb(51,51,51)",
            "ticks": "outside"
           },
           "baxis": {
            "gridcolor": "white",
            "linecolor": "white",
            "showgrid": true,
            "tickcolor": "rgb(51,51,51)",
            "ticks": "outside"
           },
           "bgcolor": "rgb(237,237,237)",
           "caxis": {
            "gridcolor": "white",
            "linecolor": "white",
            "showgrid": true,
            "tickcolor": "rgb(51,51,51)",
            "ticks": "outside"
           }
          },
          "xaxis": {
           "automargin": true,
           "gridcolor": "white",
           "linecolor": "white",
           "showgrid": true,
           "tickcolor": "rgb(51,51,51)",
           "ticks": "outside",
           "title": {
            "standoff": 15
           },
           "zerolinecolor": "white"
          },
          "yaxis": {
           "automargin": true,
           "gridcolor": "white",
           "linecolor": "white",
           "showgrid": true,
           "tickcolor": "rgb(51,51,51)",
           "ticks": "outside",
           "title": {
            "standoff": 15
           },
           "zerolinecolor": "white"
          }
         }
        },
        "title": {
         "text": "Actual vs. Forecast (Out-of-Sample)"
        },
        "xaxis": {
         "anchor": "y",
         "domain": [
          0,
          1
         ]
        },
        "yaxis": {
         "anchor": "x",
         "domain": [
          0,
          1
         ]
        }
       }
      }
     },
     "metadata": {},
     "output_type": "display_data"
    },
    {
     "name": "stderr",
     "output_type": "stream",
     "text": [
      "  7%|▋         | 1/14 [00:20<04:24, 20.38s/it]"
     ]
    },
    {
     "data": {
      "text/html": [
       "<style type=\"text/css\">\n",
       "#T_caf23_row25_col1, #T_caf23_row31_col1 {\n",
       "  background-color: lightgreen;\n",
       "}\n",
       "</style>\n",
       "<table id=\"T_caf23\">\n",
       "  <thead>\n",
       "    <tr>\n",
       "      <th class=\"blank level0\" >&nbsp;</th>\n",
       "      <th id=\"T_caf23_level0_col0\" class=\"col_heading level0 col0\" >Description</th>\n",
       "      <th id=\"T_caf23_level0_col1\" class=\"col_heading level0 col1\" >Value</th>\n",
       "    </tr>\n",
       "  </thead>\n",
       "  <tbody>\n",
       "    <tr>\n",
       "      <th id=\"T_caf23_level0_row0\" class=\"row_heading level0 row0\" >0</th>\n",
       "      <td id=\"T_caf23_row0_col0\" class=\"data row0 col0\" >session_id</td>\n",
       "      <td id=\"T_caf23_row0_col1\" class=\"data row0 col1\" >123</td>\n",
       "    </tr>\n",
       "    <tr>\n",
       "      <th id=\"T_caf23_level0_row1\" class=\"row_heading level0 row1\" >1</th>\n",
       "      <td id=\"T_caf23_row1_col0\" class=\"data row1 col0\" >Target</td>\n",
       "      <td id=\"T_caf23_row1_col1\" class=\"data row1 col1\" >NET_SALES</td>\n",
       "    </tr>\n",
       "    <tr>\n",
       "      <th id=\"T_caf23_level0_row2\" class=\"row_heading level0 row2\" >2</th>\n",
       "      <td id=\"T_caf23_row2_col0\" class=\"data row2 col0\" >Approach</td>\n",
       "      <td id=\"T_caf23_row2_col1\" class=\"data row2 col1\" >Univariate</td>\n",
       "    </tr>\n",
       "    <tr>\n",
       "      <th id=\"T_caf23_level0_row3\" class=\"row_heading level0 row3\" >3</th>\n",
       "      <td id=\"T_caf23_row3_col0\" class=\"data row3 col0\" >Exogenous Variables</td>\n",
       "      <td id=\"T_caf23_row3_col1\" class=\"data row3 col1\" >Not Present</td>\n",
       "    </tr>\n",
       "    <tr>\n",
       "      <th id=\"T_caf23_level0_row4\" class=\"row_heading level0 row4\" >4</th>\n",
       "      <td id=\"T_caf23_row4_col0\" class=\"data row4 col0\" >Original data shape</td>\n",
       "      <td id=\"T_caf23_row4_col1\" class=\"data row4 col1\" >(84, 1)</td>\n",
       "    </tr>\n",
       "    <tr>\n",
       "      <th id=\"T_caf23_level0_row5\" class=\"row_heading level0 row5\" >5</th>\n",
       "      <td id=\"T_caf23_row5_col0\" class=\"data row5 col0\" >Transformed data shape</td>\n",
       "      <td id=\"T_caf23_row5_col1\" class=\"data row5 col1\" >(84, 1)</td>\n",
       "    </tr>\n",
       "    <tr>\n",
       "      <th id=\"T_caf23_level0_row6\" class=\"row_heading level0 row6\" >6</th>\n",
       "      <td id=\"T_caf23_row6_col0\" class=\"data row6 col0\" >Transformed train set shape</td>\n",
       "      <td id=\"T_caf23_row6_col1\" class=\"data row6 col1\" >(83, 1)</td>\n",
       "    </tr>\n",
       "    <tr>\n",
       "      <th id=\"T_caf23_level0_row7\" class=\"row_heading level0 row7\" >7</th>\n",
       "      <td id=\"T_caf23_row7_col0\" class=\"data row7 col0\" >Transformed test set shape</td>\n",
       "      <td id=\"T_caf23_row7_col1\" class=\"data row7 col1\" >(1, 1)</td>\n",
       "    </tr>\n",
       "    <tr>\n",
       "      <th id=\"T_caf23_level0_row8\" class=\"row_heading level0 row8\" >8</th>\n",
       "      <td id=\"T_caf23_row8_col0\" class=\"data row8 col0\" >Rows with missing values</td>\n",
       "      <td id=\"T_caf23_row8_col1\" class=\"data row8 col1\" >0.0%</td>\n",
       "    </tr>\n",
       "    <tr>\n",
       "      <th id=\"T_caf23_level0_row9\" class=\"row_heading level0 row9\" >9</th>\n",
       "      <td id=\"T_caf23_row9_col0\" class=\"data row9 col0\" >Fold Generator</td>\n",
       "      <td id=\"T_caf23_row9_col1\" class=\"data row9 col1\" >ExpandingWindowSplitter</td>\n",
       "    </tr>\n",
       "    <tr>\n",
       "      <th id=\"T_caf23_level0_row10\" class=\"row_heading level0 row10\" >10</th>\n",
       "      <td id=\"T_caf23_row10_col0\" class=\"data row10 col0\" >Fold Number</td>\n",
       "      <td id=\"T_caf23_row10_col1\" class=\"data row10 col1\" >3</td>\n",
       "    </tr>\n",
       "    <tr>\n",
       "      <th id=\"T_caf23_level0_row11\" class=\"row_heading level0 row11\" >11</th>\n",
       "      <td id=\"T_caf23_row11_col0\" class=\"data row11 col0\" >Enforce Prediction Interval</td>\n",
       "      <td id=\"T_caf23_row11_col1\" class=\"data row11 col1\" >False</td>\n",
       "    </tr>\n",
       "    <tr>\n",
       "      <th id=\"T_caf23_level0_row12\" class=\"row_heading level0 row12\" >12</th>\n",
       "      <td id=\"T_caf23_row12_col0\" class=\"data row12 col0\" >Splits used for hyperparameters</td>\n",
       "      <td id=\"T_caf23_row12_col1\" class=\"data row12 col1\" >all</td>\n",
       "    </tr>\n",
       "    <tr>\n",
       "      <th id=\"T_caf23_level0_row13\" class=\"row_heading level0 row13\" >13</th>\n",
       "      <td id=\"T_caf23_row13_col0\" class=\"data row13 col0\" >User Defined Seasonal Period(s)</td>\n",
       "      <td id=\"T_caf23_row13_col1\" class=\"data row13 col1\" >None</td>\n",
       "    </tr>\n",
       "    <tr>\n",
       "      <th id=\"T_caf23_level0_row14\" class=\"row_heading level0 row14\" >14</th>\n",
       "      <td id=\"T_caf23_row14_col0\" class=\"data row14 col0\" >Ignore Seasonality Test</td>\n",
       "      <td id=\"T_caf23_row14_col1\" class=\"data row14 col1\" >False</td>\n",
       "    </tr>\n",
       "    <tr>\n",
       "      <th id=\"T_caf23_level0_row15\" class=\"row_heading level0 row15\" >15</th>\n",
       "      <td id=\"T_caf23_row15_col0\" class=\"data row15 col0\" >Seasonality Detection Algo</td>\n",
       "      <td id=\"T_caf23_row15_col1\" class=\"data row15 col1\" >auto</td>\n",
       "    </tr>\n",
       "    <tr>\n",
       "      <th id=\"T_caf23_level0_row16\" class=\"row_heading level0 row16\" >16</th>\n",
       "      <td id=\"T_caf23_row16_col0\" class=\"data row16 col0\" >Max Period to Consider</td>\n",
       "      <td id=\"T_caf23_row16_col1\" class=\"data row16 col1\" >60</td>\n",
       "    </tr>\n",
       "    <tr>\n",
       "      <th id=\"T_caf23_level0_row17\" class=\"row_heading level0 row17\" >17</th>\n",
       "      <td id=\"T_caf23_row17_col0\" class=\"data row17 col0\" >Seasonal Period(s) Tested</td>\n",
       "      <td id=\"T_caf23_row17_col1\" class=\"data row17 col1\" >[2, 3]</td>\n",
       "    </tr>\n",
       "    <tr>\n",
       "      <th id=\"T_caf23_level0_row18\" class=\"row_heading level0 row18\" >18</th>\n",
       "      <td id=\"T_caf23_row18_col0\" class=\"data row18 col0\" >Significant Seasonal Period(s)</td>\n",
       "      <td id=\"T_caf23_row18_col1\" class=\"data row18 col1\" >[2, 3]</td>\n",
       "    </tr>\n",
       "    <tr>\n",
       "      <th id=\"T_caf23_level0_row19\" class=\"row_heading level0 row19\" >19</th>\n",
       "      <td id=\"T_caf23_row19_col0\" class=\"data row19 col0\" >Significant Seasonal Period(s) without Harmonics</td>\n",
       "      <td id=\"T_caf23_row19_col1\" class=\"data row19 col1\" >[2, 3]</td>\n",
       "    </tr>\n",
       "    <tr>\n",
       "      <th id=\"T_caf23_level0_row20\" class=\"row_heading level0 row20\" >20</th>\n",
       "      <td id=\"T_caf23_row20_col0\" class=\"data row20 col0\" >Remove Harmonics</td>\n",
       "      <td id=\"T_caf23_row20_col1\" class=\"data row20 col1\" >False</td>\n",
       "    </tr>\n",
       "    <tr>\n",
       "      <th id=\"T_caf23_level0_row21\" class=\"row_heading level0 row21\" >21</th>\n",
       "      <td id=\"T_caf23_row21_col0\" class=\"data row21 col0\" >Harmonics Order Method</td>\n",
       "      <td id=\"T_caf23_row21_col1\" class=\"data row21 col1\" >harmonic_max</td>\n",
       "    </tr>\n",
       "    <tr>\n",
       "      <th id=\"T_caf23_level0_row22\" class=\"row_heading level0 row22\" >22</th>\n",
       "      <td id=\"T_caf23_row22_col0\" class=\"data row22 col0\" >Num Seasonalities to Use</td>\n",
       "      <td id=\"T_caf23_row22_col1\" class=\"data row22 col1\" >1</td>\n",
       "    </tr>\n",
       "    <tr>\n",
       "      <th id=\"T_caf23_level0_row23\" class=\"row_heading level0 row23\" >23</th>\n",
       "      <td id=\"T_caf23_row23_col0\" class=\"data row23 col0\" >All Seasonalities to Use</td>\n",
       "      <td id=\"T_caf23_row23_col1\" class=\"data row23 col1\" >[2]</td>\n",
       "    </tr>\n",
       "    <tr>\n",
       "      <th id=\"T_caf23_level0_row24\" class=\"row_heading level0 row24\" >24</th>\n",
       "      <td id=\"T_caf23_row24_col0\" class=\"data row24 col0\" >Primary Seasonality</td>\n",
       "      <td id=\"T_caf23_row24_col1\" class=\"data row24 col1\" >2</td>\n",
       "    </tr>\n",
       "    <tr>\n",
       "      <th id=\"T_caf23_level0_row25\" class=\"row_heading level0 row25\" >25</th>\n",
       "      <td id=\"T_caf23_row25_col0\" class=\"data row25 col0\" >Seasonality Present</td>\n",
       "      <td id=\"T_caf23_row25_col1\" class=\"data row25 col1\" >True</td>\n",
       "    </tr>\n",
       "    <tr>\n",
       "      <th id=\"T_caf23_level0_row26\" class=\"row_heading level0 row26\" >26</th>\n",
       "      <td id=\"T_caf23_row26_col0\" class=\"data row26 col0\" >Seasonality Type</td>\n",
       "      <td id=\"T_caf23_row26_col1\" class=\"data row26 col1\" >mul</td>\n",
       "    </tr>\n",
       "    <tr>\n",
       "      <th id=\"T_caf23_level0_row27\" class=\"row_heading level0 row27\" >27</th>\n",
       "      <td id=\"T_caf23_row27_col0\" class=\"data row27 col0\" >Target Strictly Positive</td>\n",
       "      <td id=\"T_caf23_row27_col1\" class=\"data row27 col1\" >True</td>\n",
       "    </tr>\n",
       "    <tr>\n",
       "      <th id=\"T_caf23_level0_row28\" class=\"row_heading level0 row28\" >28</th>\n",
       "      <td id=\"T_caf23_row28_col0\" class=\"data row28 col0\" >Target White Noise</td>\n",
       "      <td id=\"T_caf23_row28_col1\" class=\"data row28 col1\" >No</td>\n",
       "    </tr>\n",
       "    <tr>\n",
       "      <th id=\"T_caf23_level0_row29\" class=\"row_heading level0 row29\" >29</th>\n",
       "      <td id=\"T_caf23_row29_col0\" class=\"data row29 col0\" >Recommended d</td>\n",
       "      <td id=\"T_caf23_row29_col1\" class=\"data row29 col1\" >0</td>\n",
       "    </tr>\n",
       "    <tr>\n",
       "      <th id=\"T_caf23_level0_row30\" class=\"row_heading level0 row30\" >30</th>\n",
       "      <td id=\"T_caf23_row30_col0\" class=\"data row30 col0\" >Recommended Seasonal D</td>\n",
       "      <td id=\"T_caf23_row30_col1\" class=\"data row30 col1\" >0</td>\n",
       "    </tr>\n",
       "    <tr>\n",
       "      <th id=\"T_caf23_level0_row31\" class=\"row_heading level0 row31\" >31</th>\n",
       "      <td id=\"T_caf23_row31_col0\" class=\"data row31 col0\" >Preprocess</td>\n",
       "      <td id=\"T_caf23_row31_col1\" class=\"data row31 col1\" >True</td>\n",
       "    </tr>\n",
       "    <tr>\n",
       "      <th id=\"T_caf23_level0_row32\" class=\"row_heading level0 row32\" >32</th>\n",
       "      <td id=\"T_caf23_row32_col0\" class=\"data row32 col0\" >Numerical Imputation (Target)</td>\n",
       "      <td id=\"T_caf23_row32_col1\" class=\"data row32 col1\" >mean</td>\n",
       "    </tr>\n",
       "    <tr>\n",
       "      <th id=\"T_caf23_level0_row33\" class=\"row_heading level0 row33\" >33</th>\n",
       "      <td id=\"T_caf23_row33_col0\" class=\"data row33 col0\" >Transformation (Target)</td>\n",
       "      <td id=\"T_caf23_row33_col1\" class=\"data row33 col1\" >None</td>\n",
       "    </tr>\n",
       "    <tr>\n",
       "      <th id=\"T_caf23_level0_row34\" class=\"row_heading level0 row34\" >34</th>\n",
       "      <td id=\"T_caf23_row34_col0\" class=\"data row34 col0\" >Scaling (Target)</td>\n",
       "      <td id=\"T_caf23_row34_col1\" class=\"data row34 col1\" >None</td>\n",
       "    </tr>\n",
       "    <tr>\n",
       "      <th id=\"T_caf23_level0_row35\" class=\"row_heading level0 row35\" >35</th>\n",
       "      <td id=\"T_caf23_row35_col0\" class=\"data row35 col0\" >Feature Engineering (Target) - Reduced Regression</td>\n",
       "      <td id=\"T_caf23_row35_col1\" class=\"data row35 col1\" >False</td>\n",
       "    </tr>\n",
       "    <tr>\n",
       "      <th id=\"T_caf23_level0_row36\" class=\"row_heading level0 row36\" >36</th>\n",
       "      <td id=\"T_caf23_row36_col0\" class=\"data row36 col0\" >CPU Jobs</td>\n",
       "      <td id=\"T_caf23_row36_col1\" class=\"data row36 col1\" >-1</td>\n",
       "    </tr>\n",
       "    <tr>\n",
       "      <th id=\"T_caf23_level0_row37\" class=\"row_heading level0 row37\" >37</th>\n",
       "      <td id=\"T_caf23_row37_col0\" class=\"data row37 col0\" >Use GPU</td>\n",
       "      <td id=\"T_caf23_row37_col1\" class=\"data row37 col1\" >False</td>\n",
       "    </tr>\n",
       "    <tr>\n",
       "      <th id=\"T_caf23_level0_row38\" class=\"row_heading level0 row38\" >38</th>\n",
       "      <td id=\"T_caf23_row38_col0\" class=\"data row38 col0\" >Log Experiment</td>\n",
       "      <td id=\"T_caf23_row38_col1\" class=\"data row38 col1\" >False</td>\n",
       "    </tr>\n",
       "    <tr>\n",
       "      <th id=\"T_caf23_level0_row39\" class=\"row_heading level0 row39\" >39</th>\n",
       "      <td id=\"T_caf23_row39_col0\" class=\"data row39 col0\" >Experiment Name</td>\n",
       "      <td id=\"T_caf23_row39_col1\" class=\"data row39 col1\" >ts-default-name</td>\n",
       "    </tr>\n",
       "    <tr>\n",
       "      <th id=\"T_caf23_level0_row40\" class=\"row_heading level0 row40\" >40</th>\n",
       "      <td id=\"T_caf23_row40_col0\" class=\"data row40 col0\" >USI</td>\n",
       "      <td id=\"T_caf23_row40_col1\" class=\"data row40 col1\" >6472</td>\n",
       "    </tr>\n",
       "  </tbody>\n",
       "</table>\n"
      ],
      "text/plain": [
       "<pandas.io.formats.style.Styler at 0x224d086e9d0>"
      ]
     },
     "metadata": {},
     "output_type": "display_data"
    },
    {
     "data": {
      "text/html": [],
      "text/plain": [
       "<IPython.core.display.HTML object>"
      ]
     },
     "metadata": {},
     "output_type": "display_data"
    },
    {
     "data": {
      "text/html": [
       "<style type=\"text/css\">\n",
       "#T_b351d th {\n",
       "  text-align: left;\n",
       "}\n",
       "#T_b351d_row0_col0, #T_b351d_row1_col0, #T_b351d_row1_col1, #T_b351d_row1_col2, #T_b351d_row1_col3, #T_b351d_row1_col4, #T_b351d_row1_col5, #T_b351d_row1_col6, #T_b351d_row2_col0, #T_b351d_row2_col1, #T_b351d_row2_col2, #T_b351d_row2_col3, #T_b351d_row2_col4, #T_b351d_row2_col5, #T_b351d_row2_col6, #T_b351d_row3_col0, #T_b351d_row3_col1, #T_b351d_row3_col2, #T_b351d_row3_col3, #T_b351d_row3_col4, #T_b351d_row3_col5, #T_b351d_row3_col6, #T_b351d_row4_col0, #T_b351d_row4_col1, #T_b351d_row4_col2, #T_b351d_row4_col3, #T_b351d_row4_col4, #T_b351d_row4_col5, #T_b351d_row4_col6, #T_b351d_row5_col0, #T_b351d_row5_col1, #T_b351d_row5_col2, #T_b351d_row5_col3, #T_b351d_row5_col4, #T_b351d_row5_col5, #T_b351d_row5_col6, #T_b351d_row6_col0, #T_b351d_row6_col1, #T_b351d_row6_col2, #T_b351d_row6_col3, #T_b351d_row6_col4, #T_b351d_row6_col5, #T_b351d_row6_col6, #T_b351d_row7_col0, #T_b351d_row7_col1, #T_b351d_row7_col2, #T_b351d_row7_col3, #T_b351d_row7_col4, #T_b351d_row7_col5, #T_b351d_row7_col6, #T_b351d_row8_col0, #T_b351d_row8_col1, #T_b351d_row8_col2, #T_b351d_row8_col3, #T_b351d_row8_col4, #T_b351d_row8_col5, #T_b351d_row8_col6, #T_b351d_row9_col0, #T_b351d_row9_col1, #T_b351d_row9_col2, #T_b351d_row9_col3, #T_b351d_row9_col4, #T_b351d_row9_col5, #T_b351d_row9_col6, #T_b351d_row10_col0, #T_b351d_row10_col1, #T_b351d_row10_col2, #T_b351d_row10_col3, #T_b351d_row10_col4, #T_b351d_row10_col5, #T_b351d_row10_col6, #T_b351d_row11_col0, #T_b351d_row11_col1, #T_b351d_row11_col2, #T_b351d_row11_col3, #T_b351d_row11_col4, #T_b351d_row11_col5, #T_b351d_row11_col6, #T_b351d_row12_col0, #T_b351d_row12_col1, #T_b351d_row12_col2, #T_b351d_row12_col3, #T_b351d_row12_col4, #T_b351d_row12_col5, #T_b351d_row12_col6, #T_b351d_row13_col0, #T_b351d_row13_col1, #T_b351d_row13_col2, #T_b351d_row13_col3, #T_b351d_row13_col4, #T_b351d_row13_col5, #T_b351d_row13_col6, #T_b351d_row14_col0, #T_b351d_row14_col1, #T_b351d_row14_col2, #T_b351d_row14_col3, #T_b351d_row14_col4, #T_b351d_row14_col5, #T_b351d_row14_col6, #T_b351d_row15_col0, #T_b351d_row15_col1, #T_b351d_row15_col2, #T_b351d_row15_col3, #T_b351d_row15_col4, #T_b351d_row15_col5, #T_b351d_row15_col6, #T_b351d_row16_col0, #T_b351d_row16_col1, #T_b351d_row16_col2, #T_b351d_row16_col3, #T_b351d_row16_col4, #T_b351d_row16_col5, #T_b351d_row16_col6, #T_b351d_row17_col0, #T_b351d_row17_col1, #T_b351d_row17_col2, #T_b351d_row17_col3, #T_b351d_row17_col4, #T_b351d_row17_col5, #T_b351d_row17_col6, #T_b351d_row18_col0, #T_b351d_row18_col1, #T_b351d_row18_col2, #T_b351d_row18_col3, #T_b351d_row18_col4, #T_b351d_row18_col5, #T_b351d_row18_col6, #T_b351d_row19_col0, #T_b351d_row19_col1, #T_b351d_row19_col2, #T_b351d_row19_col3, #T_b351d_row19_col4, #T_b351d_row19_col5, #T_b351d_row19_col6, #T_b351d_row20_col0, #T_b351d_row20_col1, #T_b351d_row20_col2, #T_b351d_row20_col3, #T_b351d_row20_col4, #T_b351d_row20_col5, #T_b351d_row20_col6, #T_b351d_row21_col0, #T_b351d_row21_col1, #T_b351d_row21_col2, #T_b351d_row21_col3, #T_b351d_row21_col4, #T_b351d_row21_col5, #T_b351d_row21_col6, #T_b351d_row22_col0, #T_b351d_row22_col1, #T_b351d_row22_col2, #T_b351d_row22_col3, #T_b351d_row22_col4, #T_b351d_row22_col5, #T_b351d_row22_col6 {\n",
       "  text-align: left;\n",
       "}\n",
       "#T_b351d_row0_col1, #T_b351d_row0_col2, #T_b351d_row0_col3, #T_b351d_row0_col4, #T_b351d_row0_col5, #T_b351d_row0_col6 {\n",
       "  text-align: left;\n",
       "  background-color: yellow;\n",
       "}\n",
       "#T_b351d_row0_col7, #T_b351d_row2_col7, #T_b351d_row3_col7, #T_b351d_row4_col7, #T_b351d_row5_col7, #T_b351d_row6_col7, #T_b351d_row7_col7, #T_b351d_row8_col7, #T_b351d_row9_col7, #T_b351d_row10_col7, #T_b351d_row11_col7, #T_b351d_row12_col7, #T_b351d_row13_col7, #T_b351d_row14_col7, #T_b351d_row15_col7, #T_b351d_row16_col7, #T_b351d_row17_col7, #T_b351d_row18_col7, #T_b351d_row19_col7, #T_b351d_row20_col7, #T_b351d_row21_col7, #T_b351d_row22_col7 {\n",
       "  text-align: left;\n",
       "  background-color: lightgrey;\n",
       "}\n",
       "#T_b351d_row1_col7 {\n",
       "  text-align: left;\n",
       "  background-color: yellow;\n",
       "  background-color: lightgrey;\n",
       "}\n",
       "</style>\n",
       "<table id=\"T_b351d\">\n",
       "  <thead>\n",
       "    <tr>\n",
       "      <th class=\"blank level0\" >&nbsp;</th>\n",
       "      <th id=\"T_b351d_level0_col0\" class=\"col_heading level0 col0\" >Model</th>\n",
       "      <th id=\"T_b351d_level0_col1\" class=\"col_heading level0 col1\" >MASE</th>\n",
       "      <th id=\"T_b351d_level0_col2\" class=\"col_heading level0 col2\" >RMSSE</th>\n",
       "      <th id=\"T_b351d_level0_col3\" class=\"col_heading level0 col3\" >MAE</th>\n",
       "      <th id=\"T_b351d_level0_col4\" class=\"col_heading level0 col4\" >RMSE</th>\n",
       "      <th id=\"T_b351d_level0_col5\" class=\"col_heading level0 col5\" >MAPE</th>\n",
       "      <th id=\"T_b351d_level0_col6\" class=\"col_heading level0 col6\" >SMAPE</th>\n",
       "      <th id=\"T_b351d_level0_col7\" class=\"col_heading level0 col7\" >TT (Sec)</th>\n",
       "    </tr>\n",
       "  </thead>\n",
       "  <tbody>\n",
       "    <tr>\n",
       "      <th id=\"T_b351d_level0_row0\" class=\"row_heading level0 row0\" >dt_cds_dt</th>\n",
       "      <td id=\"T_b351d_row0_col0\" class=\"data row0 col0\" >Decision Tree w/ Cond. Deseasonalize & Detrending</td>\n",
       "      <td id=\"T_b351d_row0_col1\" class=\"data row0 col1\" >0.6413</td>\n",
       "      <td id=\"T_b351d_row0_col2\" class=\"data row0 col2\" >0.4929</td>\n",
       "      <td id=\"T_b351d_row0_col3\" class=\"data row0 col3\" >512042.1158</td>\n",
       "      <td id=\"T_b351d_row0_col4\" class=\"data row0 col4\" >512042.1158</td>\n",
       "      <td id=\"T_b351d_row0_col5\" class=\"data row0 col5\" >0.1517</td>\n",
       "      <td id=\"T_b351d_row0_col6\" class=\"data row0 col6\" >0.1449</td>\n",
       "      <td id=\"T_b351d_row0_col7\" class=\"data row0 col7\" >0.0433</td>\n",
       "    </tr>\n",
       "    <tr>\n",
       "      <th id=\"T_b351d_level0_row1\" class=\"row_heading level0 row1\" >polytrend</th>\n",
       "      <td id=\"T_b351d_row1_col0\" class=\"data row1 col0\" >Polynomial Trend Forecaster</td>\n",
       "      <td id=\"T_b351d_row1_col1\" class=\"data row1 col1\" >0.6950</td>\n",
       "      <td id=\"T_b351d_row1_col2\" class=\"data row1 col2\" >0.5359</td>\n",
       "      <td id=\"T_b351d_row1_col3\" class=\"data row1 col3\" >555807.6127</td>\n",
       "      <td id=\"T_b351d_row1_col4\" class=\"data row1 col4\" >555807.6127</td>\n",
       "      <td id=\"T_b351d_row1_col5\" class=\"data row1 col5\" >0.2098</td>\n",
       "      <td id=\"T_b351d_row1_col6\" class=\"data row1 col6\" >0.1687</td>\n",
       "      <td id=\"T_b351d_row1_col7\" class=\"data row1 col7\" >0.0200</td>\n",
       "    </tr>\n",
       "    <tr>\n",
       "      <th id=\"T_b351d_level0_row2\" class=\"row_heading level0 row2\" >et_cds_dt</th>\n",
       "      <td id=\"T_b351d_row2_col0\" class=\"data row2 col0\" >Extra Trees w/ Cond. Deseasonalize & Detrending</td>\n",
       "      <td id=\"T_b351d_row2_col1\" class=\"data row2 col1\" >0.9046</td>\n",
       "      <td id=\"T_b351d_row2_col2\" class=\"data row2 col2\" >0.6955</td>\n",
       "      <td id=\"T_b351d_row2_col3\" class=\"data row2 col3\" >721701.3525</td>\n",
       "      <td id=\"T_b351d_row2_col4\" class=\"data row2 col4\" >721701.3525</td>\n",
       "      <td id=\"T_b351d_row2_col5\" class=\"data row2 col5\" >0.2205</td>\n",
       "      <td id=\"T_b351d_row2_col6\" class=\"data row2 col6\" >0.2025</td>\n",
       "      <td id=\"T_b351d_row2_col7\" class=\"data row2 col7\" >0.0667</td>\n",
       "    </tr>\n",
       "    <tr>\n",
       "      <th id=\"T_b351d_level0_row3\" class=\"row_heading level0 row3\" >rf_cds_dt</th>\n",
       "      <td id=\"T_b351d_row3_col0\" class=\"data row3 col0\" >Random Forest w/ Cond. Deseasonalize & Detrending</td>\n",
       "      <td id=\"T_b351d_row3_col1\" class=\"data row3 col1\" >1.0210</td>\n",
       "      <td id=\"T_b351d_row3_col2\" class=\"data row3 col2\" >0.7853</td>\n",
       "      <td id=\"T_b351d_row3_col3\" class=\"data row3 col3\" >815740.9145</td>\n",
       "      <td id=\"T_b351d_row3_col4\" class=\"data row3 col4\" >815740.9145</td>\n",
       "      <td id=\"T_b351d_row3_col5\" class=\"data row3 col5\" >0.2577</td>\n",
       "      <td id=\"T_b351d_row3_col6\" class=\"data row3 col6\" >0.2347</td>\n",
       "      <td id=\"T_b351d_row3_col7\" class=\"data row3 col7\" >0.0767</td>\n",
       "    </tr>\n",
       "    <tr>\n",
       "      <th id=\"T_b351d_level0_row4\" class=\"row_heading level0 row4\" >omp_cds_dt</th>\n",
       "      <td id=\"T_b351d_row4_col0\" class=\"data row4 col0\" >Orthogonal Matching Pursuit w/ Cond. Deseasonalize & Detrending</td>\n",
       "      <td id=\"T_b351d_row4_col1\" class=\"data row4 col1\" >1.0356</td>\n",
       "      <td id=\"T_b351d_row4_col2\" class=\"data row4 col2\" >0.7965</td>\n",
       "      <td id=\"T_b351d_row4_col3\" class=\"data row4 col3\" >825995.6924</td>\n",
       "      <td id=\"T_b351d_row4_col4\" class=\"data row4 col4\" >825995.6924</td>\n",
       "      <td id=\"T_b351d_row4_col5\" class=\"data row4 col5\" >0.2581</td>\n",
       "      <td id=\"T_b351d_row4_col6\" class=\"data row4 col6\" >0.2307</td>\n",
       "      <td id=\"T_b351d_row4_col7\" class=\"data row4 col7\" >0.0400</td>\n",
       "    </tr>\n",
       "    <tr>\n",
       "      <th id=\"T_b351d_level0_row5\" class=\"row_heading level0 row5\" >br_cds_dt</th>\n",
       "      <td id=\"T_b351d_row5_col0\" class=\"data row5 col0\" >Bayesian Ridge w/ Cond. Deseasonalize & Detrending</td>\n",
       "      <td id=\"T_b351d_row5_col1\" class=\"data row5 col1\" >1.0687</td>\n",
       "      <td id=\"T_b351d_row5_col2\" class=\"data row5 col2\" >0.8228</td>\n",
       "      <td id=\"T_b351d_row5_col3\" class=\"data row5 col3\" >853582.3230</td>\n",
       "      <td id=\"T_b351d_row5_col4\" class=\"data row5 col4\" >853582.3230</td>\n",
       "      <td id=\"T_b351d_row5_col5\" class=\"data row5 col5\" >0.2902</td>\n",
       "      <td id=\"T_b351d_row5_col6\" class=\"data row5 col6\" >0.2447</td>\n",
       "      <td id=\"T_b351d_row5_col7\" class=\"data row5 col7\" >0.0367</td>\n",
       "    </tr>\n",
       "    <tr>\n",
       "      <th id=\"T_b351d_level0_row6\" class=\"row_heading level0 row6\" >huber_cds_dt</th>\n",
       "      <td id=\"T_b351d_row6_col0\" class=\"data row6 col0\" >Huber w/ Cond. Deseasonalize & Detrending</td>\n",
       "      <td id=\"T_b351d_row6_col1\" class=\"data row6 col1\" >1.1163</td>\n",
       "      <td id=\"T_b351d_row6_col2\" class=\"data row6 col2\" >0.8591</td>\n",
       "      <td id=\"T_b351d_row6_col3\" class=\"data row6 col3\" >891252.1930</td>\n",
       "      <td id=\"T_b351d_row6_col4\" class=\"data row6 col4\" >891252.1930</td>\n",
       "      <td id=\"T_b351d_row6_col5\" class=\"data row6 col5\" >0.2947</td>\n",
       "      <td id=\"T_b351d_row6_col6\" class=\"data row6 col6\" >0.2534</td>\n",
       "      <td id=\"T_b351d_row6_col7\" class=\"data row6 col7\" >0.0367</td>\n",
       "    </tr>\n",
       "    <tr>\n",
       "      <th id=\"T_b351d_level0_row7\" class=\"row_heading level0 row7\" >llar_cds_dt</th>\n",
       "      <td id=\"T_b351d_row7_col0\" class=\"data row7 col0\" >Lasso Least Angular Regressor w/ Cond. Deseasonalize & Detrending</td>\n",
       "      <td id=\"T_b351d_row7_col1\" class=\"data row7 col1\" >1.1268</td>\n",
       "      <td id=\"T_b351d_row7_col2\" class=\"data row7 col2\" >0.8674</td>\n",
       "      <td id=\"T_b351d_row7_col3\" class=\"data row7 col3\" >899908.1855</td>\n",
       "      <td id=\"T_b351d_row7_col4\" class=\"data row7 col4\" >899908.1855</td>\n",
       "      <td id=\"T_b351d_row7_col5\" class=\"data row7 col5\" >0.3020</td>\n",
       "      <td id=\"T_b351d_row7_col6\" class=\"data row7 col6\" >0.2563</td>\n",
       "      <td id=\"T_b351d_row7_col7\" class=\"data row7 col7\" >0.0400</td>\n",
       "    </tr>\n",
       "    <tr>\n",
       "      <th id=\"T_b351d_level0_row8\" class=\"row_heading level0 row8\" >en_cds_dt</th>\n",
       "      <td id=\"T_b351d_row8_col0\" class=\"data row8 col0\" >Elastic Net w/ Cond. Deseasonalize & Detrending</td>\n",
       "      <td id=\"T_b351d_row8_col1\" class=\"data row8 col1\" >1.1268</td>\n",
       "      <td id=\"T_b351d_row8_col2\" class=\"data row8 col2\" >0.8674</td>\n",
       "      <td id=\"T_b351d_row8_col3\" class=\"data row8 col3\" >899908.1855</td>\n",
       "      <td id=\"T_b351d_row8_col4\" class=\"data row8 col4\" >899908.1855</td>\n",
       "      <td id=\"T_b351d_row8_col5\" class=\"data row8 col5\" >0.3020</td>\n",
       "      <td id=\"T_b351d_row8_col6\" class=\"data row8 col6\" >0.2563</td>\n",
       "      <td id=\"T_b351d_row8_col7\" class=\"data row8 col7\" >0.0333</td>\n",
       "    </tr>\n",
       "    <tr>\n",
       "      <th id=\"T_b351d_level0_row9\" class=\"row_heading level0 row9\" >ridge_cds_dt</th>\n",
       "      <td id=\"T_b351d_row9_col0\" class=\"data row9 col0\" >Ridge w/ Cond. Deseasonalize & Detrending</td>\n",
       "      <td id=\"T_b351d_row9_col1\" class=\"data row9 col1\" >1.1268</td>\n",
       "      <td id=\"T_b351d_row9_col2\" class=\"data row9 col2\" >0.8674</td>\n",
       "      <td id=\"T_b351d_row9_col3\" class=\"data row9 col3\" >899908.1855</td>\n",
       "      <td id=\"T_b351d_row9_col4\" class=\"data row9 col4\" >899908.1855</td>\n",
       "      <td id=\"T_b351d_row9_col5\" class=\"data row9 col5\" >0.3020</td>\n",
       "      <td id=\"T_b351d_row9_col6\" class=\"data row9 col6\" >0.2563</td>\n",
       "      <td id=\"T_b351d_row9_col7\" class=\"data row9 col7\" >0.0367</td>\n",
       "    </tr>\n",
       "    <tr>\n",
       "      <th id=\"T_b351d_level0_row10\" class=\"row_heading level0 row10\" >lr_cds_dt</th>\n",
       "      <td id=\"T_b351d_row10_col0\" class=\"data row10 col0\" >Linear w/ Cond. Deseasonalize & Detrending</td>\n",
       "      <td id=\"T_b351d_row10_col1\" class=\"data row10 col1\" >1.1268</td>\n",
       "      <td id=\"T_b351d_row10_col2\" class=\"data row10 col2\" >0.8674</td>\n",
       "      <td id=\"T_b351d_row10_col3\" class=\"data row10 col3\" >899908.1855</td>\n",
       "      <td id=\"T_b351d_row10_col4\" class=\"data row10 col4\" >899908.1855</td>\n",
       "      <td id=\"T_b351d_row10_col5\" class=\"data row10 col5\" >0.3020</td>\n",
       "      <td id=\"T_b351d_row10_col6\" class=\"data row10 col6\" >0.2563</td>\n",
       "      <td id=\"T_b351d_row10_col7\" class=\"data row10 col7\" >0.0333</td>\n",
       "    </tr>\n",
       "    <tr>\n",
       "      <th id=\"T_b351d_level0_row11\" class=\"row_heading level0 row11\" >lasso_cds_dt</th>\n",
       "      <td id=\"T_b351d_row11_col0\" class=\"data row11 col0\" >Lasso w/ Cond. Deseasonalize & Detrending</td>\n",
       "      <td id=\"T_b351d_row11_col1\" class=\"data row11 col1\" >1.1268</td>\n",
       "      <td id=\"T_b351d_row11_col2\" class=\"data row11 col2\" >0.8674</td>\n",
       "      <td id=\"T_b351d_row11_col3\" class=\"data row11 col3\" >899908.1855</td>\n",
       "      <td id=\"T_b351d_row11_col4\" class=\"data row11 col4\" >899908.1855</td>\n",
       "      <td id=\"T_b351d_row11_col5\" class=\"data row11 col5\" >0.3020</td>\n",
       "      <td id=\"T_b351d_row11_col6\" class=\"data row11 col6\" >0.2563</td>\n",
       "      <td id=\"T_b351d_row11_col7\" class=\"data row11 col7\" >0.0367</td>\n",
       "    </tr>\n",
       "    <tr>\n",
       "      <th id=\"T_b351d_level0_row12\" class=\"row_heading level0 row12\" >gbr_cds_dt</th>\n",
       "      <td id=\"T_b351d_row12_col0\" class=\"data row12 col0\" >Gradient Boosting w/ Cond. Deseasonalize & Detrending</td>\n",
       "      <td id=\"T_b351d_row12_col1\" class=\"data row12 col1\" >1.2666</td>\n",
       "      <td id=\"T_b351d_row12_col2\" class=\"data row12 col2\" >0.9738</td>\n",
       "      <td id=\"T_b351d_row12_col3\" class=\"data row12 col3\" >1009480.7304</td>\n",
       "      <td id=\"T_b351d_row12_col4\" class=\"data row12 col4\" >1009480.7304</td>\n",
       "      <td id=\"T_b351d_row12_col5\" class=\"data row12 col5\" >0.3051</td>\n",
       "      <td id=\"T_b351d_row12_col6\" class=\"data row12 col6\" >0.2685</td>\n",
       "      <td id=\"T_b351d_row12_col7\" class=\"data row12 col7\" >0.0500</td>\n",
       "    </tr>\n",
       "    <tr>\n",
       "      <th id=\"T_b351d_level0_row13\" class=\"row_heading level0 row13\" >theta</th>\n",
       "      <td id=\"T_b351d_row13_col0\" class=\"data row13 col0\" >Theta Forecaster</td>\n",
       "      <td id=\"T_b351d_row13_col1\" class=\"data row13 col1\" >1.0661</td>\n",
       "      <td id=\"T_b351d_row13_col2\" class=\"data row13 col2\" >0.8220</td>\n",
       "      <td id=\"T_b351d_row13_col3\" class=\"data row13 col3\" >851201.1556</td>\n",
       "      <td id=\"T_b351d_row13_col4\" class=\"data row13 col4\" >851201.1556</td>\n",
       "      <td id=\"T_b351d_row13_col5\" class=\"data row13 col5\" >0.3168</td>\n",
       "      <td id=\"T_b351d_row13_col6\" class=\"data row13 col6\" >0.2363</td>\n",
       "      <td id=\"T_b351d_row13_col7\" class=\"data row13 col7\" >0.0267</td>\n",
       "    </tr>\n",
       "    <tr>\n",
       "      <th id=\"T_b351d_level0_row14\" class=\"row_heading level0 row14\" >ets</th>\n",
       "      <td id=\"T_b351d_row14_col0\" class=\"data row14 col0\" >ETS</td>\n",
       "      <td id=\"T_b351d_row14_col1\" class=\"data row14 col1\" >1.0621</td>\n",
       "      <td id=\"T_b351d_row14_col2\" class=\"data row14 col2\" >0.8190</td>\n",
       "      <td id=\"T_b351d_row14_col3\" class=\"data row14 col3\" >847926.6604</td>\n",
       "      <td id=\"T_b351d_row14_col4\" class=\"data row14 col4\" >847926.6604</td>\n",
       "      <td id=\"T_b351d_row14_col5\" class=\"data row14 col5\" >0.3204</td>\n",
       "      <td id=\"T_b351d_row14_col6\" class=\"data row14 col6\" >0.2335</td>\n",
       "      <td id=\"T_b351d_row14_col7\" class=\"data row14 col7\" >0.0367</td>\n",
       "    </tr>\n",
       "    <tr>\n",
       "      <th id=\"T_b351d_level0_row15\" class=\"row_heading level0 row15\" >arima</th>\n",
       "      <td id=\"T_b351d_row15_col0\" class=\"data row15 col0\" >ARIMA</td>\n",
       "      <td id=\"T_b351d_row15_col1\" class=\"data row15 col1\" >1.5061</td>\n",
       "      <td id=\"T_b351d_row15_col2\" class=\"data row15 col2\" >1.1565</td>\n",
       "      <td id=\"T_b351d_row15_col3\" class=\"data row15 col3\" >1200589.2221</td>\n",
       "      <td id=\"T_b351d_row15_col4\" class=\"data row15 col4\" >1200589.2221</td>\n",
       "      <td id=\"T_b351d_row15_col5\" class=\"data row15 col5\" >0.3249</td>\n",
       "      <td id=\"T_b351d_row15_col6\" class=\"data row15 col6\" >0.2868</td>\n",
       "      <td id=\"T_b351d_row15_col7\" class=\"data row15 col7\" >0.0367</td>\n",
       "    </tr>\n",
       "    <tr>\n",
       "      <th id=\"T_b351d_level0_row16\" class=\"row_heading level0 row16\" >knn_cds_dt</th>\n",
       "      <td id=\"T_b351d_row16_col0\" class=\"data row16 col0\" >K Neighbors w/ Cond. Deseasonalize & Detrending</td>\n",
       "      <td id=\"T_b351d_row16_col1\" class=\"data row16 col1\" >1.2513</td>\n",
       "      <td id=\"T_b351d_row16_col2\" class=\"data row16 col2\" >0.9630</td>\n",
       "      <td id=\"T_b351d_row16_col3\" class=\"data row16 col3\" >997960.7177</td>\n",
       "      <td id=\"T_b351d_row16_col4\" class=\"data row16 col4\" >997960.7177</td>\n",
       "      <td id=\"T_b351d_row16_col5\" class=\"data row16 col5\" >0.3260</td>\n",
       "      <td id=\"T_b351d_row16_col6\" class=\"data row16 col6\" >0.2750</td>\n",
       "      <td id=\"T_b351d_row16_col7\" class=\"data row16 col7\" >0.0400</td>\n",
       "    </tr>\n",
       "    <tr>\n",
       "      <th id=\"T_b351d_level0_row17\" class=\"row_heading level0 row17\" >ada_cds_dt</th>\n",
       "      <td id=\"T_b351d_row17_col0\" class=\"data row17 col0\" >AdaBoost w/ Cond. Deseasonalize & Detrending</td>\n",
       "      <td id=\"T_b351d_row17_col1\" class=\"data row17 col1\" >1.2415</td>\n",
       "      <td id=\"T_b351d_row17_col2\" class=\"data row17 col2\" >0.9554</td>\n",
       "      <td id=\"T_b351d_row17_col3\" class=\"data row17 col3\" >992336.4162</td>\n",
       "      <td id=\"T_b351d_row17_col4\" class=\"data row17 col4\" >992336.4162</td>\n",
       "      <td id=\"T_b351d_row17_col5\" class=\"data row17 col5\" >0.3276</td>\n",
       "      <td id=\"T_b351d_row17_col6\" class=\"data row17 col6\" >0.2826</td>\n",
       "      <td id=\"T_b351d_row17_col7\" class=\"data row17 col7\" >0.0500</td>\n",
       "    </tr>\n",
       "    <tr>\n",
       "      <th id=\"T_b351d_level0_row18\" class=\"row_heading level0 row18\" >lightgbm_cds_dt</th>\n",
       "      <td id=\"T_b351d_row18_col0\" class=\"data row18 col0\" >Light Gradient Boosting w/ Cond. Deseasonalize & Detrending</td>\n",
       "      <td id=\"T_b351d_row18_col1\" class=\"data row18 col1\" >1.2642</td>\n",
       "      <td id=\"T_b351d_row18_col2\" class=\"data row18 col2\" >0.9727</td>\n",
       "      <td id=\"T_b351d_row18_col3\" class=\"data row18 col3\" >1010220.3984</td>\n",
       "      <td id=\"T_b351d_row18_col4\" class=\"data row18 col4\" >1010220.3984</td>\n",
       "      <td id=\"T_b351d_row18_col5\" class=\"data row18 col5\" >0.3289</td>\n",
       "      <td id=\"T_b351d_row18_col6\" class=\"data row18 col6\" >0.2863</td>\n",
       "      <td id=\"T_b351d_row18_col7\" class=\"data row18 col7\" >0.0633</td>\n",
       "    </tr>\n",
       "    <tr>\n",
       "      <th id=\"T_b351d_level0_row19\" class=\"row_heading level0 row19\" >exp_smooth</th>\n",
       "      <td id=\"T_b351d_row19_col0\" class=\"data row19 col0\" >Exponential Smoothing</td>\n",
       "      <td id=\"T_b351d_row19_col1\" class=\"data row19 col1\" >1.1149</td>\n",
       "      <td id=\"T_b351d_row19_col2\" class=\"data row19 col2\" >0.8595</td>\n",
       "      <td id=\"T_b351d_row19_col3\" class=\"data row19 col3\" >890099.0998</td>\n",
       "      <td id=\"T_b351d_row19_col4\" class=\"data row19 col4\" >890099.0998</td>\n",
       "      <td id=\"T_b351d_row19_col5\" class=\"data row19 col5\" >0.3294</td>\n",
       "      <td id=\"T_b351d_row19_col6\" class=\"data row19 col6\" >0.2452</td>\n",
       "      <td id=\"T_b351d_row19_col7\" class=\"data row19 col7\" >0.0500</td>\n",
       "    </tr>\n",
       "    <tr>\n",
       "      <th id=\"T_b351d_level0_row20\" class=\"row_heading level0 row20\" >snaive</th>\n",
       "      <td id=\"T_b351d_row20_col0\" class=\"data row20 col0\" >Seasonal Naive Forecaster</td>\n",
       "      <td id=\"T_b351d_row20_col1\" class=\"data row20 col1\" >1.5747</td>\n",
       "      <td id=\"T_b351d_row20_col2\" class=\"data row20 col2\" >1.2092</td>\n",
       "      <td id=\"T_b351d_row20_col3\" class=\"data row20 col3\" >1256093.4967</td>\n",
       "      <td id=\"T_b351d_row20_col4\" class=\"data row20 col4\" >1256093.4967</td>\n",
       "      <td id=\"T_b351d_row20_col5\" class=\"data row20 col5\" >0.3428</td>\n",
       "      <td id=\"T_b351d_row20_col6\" class=\"data row20 col6\" >0.3100</td>\n",
       "      <td id=\"T_b351d_row20_col7\" class=\"data row20 col7\" >0.0433</td>\n",
       "    </tr>\n",
       "    <tr>\n",
       "      <th id=\"T_b351d_level0_row21\" class=\"row_heading level0 row21\" >auto_arima</th>\n",
       "      <td id=\"T_b351d_row21_col0\" class=\"data row21 col0\" >Auto ARIMA</td>\n",
       "      <td id=\"T_b351d_row21_col1\" class=\"data row21 col1\" >1.3702</td>\n",
       "      <td id=\"T_b351d_row21_col2\" class=\"data row21 col2\" >1.0552</td>\n",
       "      <td id=\"T_b351d_row21_col3\" class=\"data row21 col3\" >1094821.2041</td>\n",
       "      <td id=\"T_b351d_row21_col4\" class=\"data row21 col4\" >1094821.2041</td>\n",
       "      <td id=\"T_b351d_row21_col5\" class=\"data row21 col5\" >0.3785</td>\n",
       "      <td id=\"T_b351d_row21_col6\" class=\"data row21 col6\" >0.3011</td>\n",
       "      <td id=\"T_b351d_row21_col7\" class=\"data row21 col7\" >0.4400</td>\n",
       "    </tr>\n",
       "    <tr>\n",
       "      <th id=\"T_b351d_level0_row22\" class=\"row_heading level0 row22\" >stlf</th>\n",
       "      <td id=\"T_b351d_row22_col0\" class=\"data row22 col0\" >STLF</td>\n",
       "      <td id=\"T_b351d_row22_col1\" class=\"data row22 col1\" >2.3974</td>\n",
       "      <td id=\"T_b351d_row22_col2\" class=\"data row22 col2\" >1.8419</td>\n",
       "      <td id=\"T_b351d_row22_col3\" class=\"data row22 col3\" >1921190.8546</td>\n",
       "      <td id=\"T_b351d_row22_col4\" class=\"data row22 col4\" >1921190.8546</td>\n",
       "      <td id=\"T_b351d_row22_col5\" class=\"data row22 col5\" >0.5667</td>\n",
       "      <td id=\"T_b351d_row22_col6\" class=\"data row22 col6\" >0.6065</td>\n",
       "      <td id=\"T_b351d_row22_col7\" class=\"data row22 col7\" >0.0300</td>\n",
       "    </tr>\n",
       "  </tbody>\n",
       "</table>\n"
      ],
      "text/plain": [
       "<pandas.io.formats.style.Styler at 0x224cc0de670>"
      ]
     },
     "metadata": {},
     "output_type": "display_data"
    },
    {
     "data": {
      "text/html": [],
      "text/plain": [
       "<IPython.core.display.HTML object>"
      ]
     },
     "metadata": {},
     "output_type": "display_data"
    },
    {
     "data": {
      "application/vnd.plotly.v1+json": {
       "config": {
        "plotlyServerURL": "https://plot.ly"
       },
       "data": [
        {
         "line": {
          "color": "rgb(31, 119, 180)",
          "width": 2
         },
         "marker": {
          "color": "rgb(31, 119, 180)",
          "size": 5
         },
         "mode": "lines+markers",
         "name": "NET_SALES",
         "type": "scattergl",
         "x": [
          "2016-01-01T00:00:00",
          "2016-02-01T00:00:00",
          "2016-03-01T00:00:00",
          "2016-04-01T00:00:00",
          "2016-05-01T00:00:00",
          "2016-06-01T00:00:00",
          "2016-07-01T00:00:00",
          "2016-08-01T00:00:00",
          "2016-09-01T00:00:00",
          "2016-10-01T00:00:00",
          "2016-11-01T00:00:00",
          "2016-12-01T00:00:00",
          "2017-01-01T00:00:00",
          "2017-02-01T00:00:00",
          "2017-03-01T00:00:00",
          "2017-04-01T00:00:00",
          "2017-05-01T00:00:00",
          "2017-06-01T00:00:00",
          "2017-07-01T00:00:00",
          "2017-08-01T00:00:00",
          "2017-09-01T00:00:00",
          "2017-10-01T00:00:00",
          "2017-11-01T00:00:00",
          "2017-12-01T00:00:00",
          "2018-01-01T00:00:00",
          "2018-02-01T00:00:00",
          "2018-03-01T00:00:00",
          "2018-04-01T00:00:00",
          "2018-05-01T00:00:00",
          "2018-06-01T00:00:00",
          "2018-07-01T00:00:00",
          "2018-08-01T00:00:00",
          "2018-09-01T00:00:00",
          "2018-10-01T00:00:00",
          "2018-11-01T00:00:00",
          "2018-12-01T00:00:00",
          "2019-01-01T00:00:00",
          "2019-02-01T00:00:00",
          "2019-03-01T00:00:00",
          "2019-04-01T00:00:00",
          "2019-05-01T00:00:00",
          "2019-06-01T00:00:00",
          "2019-07-01T00:00:00",
          "2019-08-01T00:00:00",
          "2019-09-01T00:00:00",
          "2019-10-01T00:00:00",
          "2019-11-01T00:00:00",
          "2019-12-01T00:00:00",
          "2020-01-01T00:00:00",
          "2020-02-01T00:00:00",
          "2020-03-01T00:00:00",
          "2020-04-01T00:00:00",
          "2020-05-01T00:00:00",
          "2020-06-01T00:00:00",
          "2020-07-01T00:00:00",
          "2020-08-01T00:00:00",
          "2020-09-01T00:00:00",
          "2020-10-01T00:00:00",
          "2020-11-01T00:00:00",
          "2020-12-01T00:00:00",
          "2021-01-01T00:00:00",
          "2021-02-01T00:00:00",
          "2021-03-01T00:00:00",
          "2021-04-01T00:00:00",
          "2021-05-01T00:00:00",
          "2021-06-01T00:00:00",
          "2021-07-01T00:00:00",
          "2021-08-01T00:00:00",
          "2021-09-01T00:00:00",
          "2021-10-01T00:00:00",
          "2021-11-01T00:00:00",
          "2021-12-01T00:00:00",
          "2022-01-01T00:00:00",
          "2022-02-01T00:00:00",
          "2022-03-01T00:00:00",
          "2022-04-01T00:00:00",
          "2022-05-01T00:00:00",
          "2022-06-01T00:00:00",
          "2022-07-01T00:00:00",
          "2022-08-01T00:00:00",
          "2022-09-01T00:00:00",
          "2022-10-01T00:00:00",
          "2022-11-01T00:00:00",
          "2022-12-01T00:00:00"
         ],
         "xaxis": "x",
         "y": [
          2963987.5400000005,
          4135754.8099999996,
          3052080.8299999996,
          3527779.66,
          2538105.07,
          3836732.460000001,
          3546292.87,
          3006098.0200000005,
          2214960.12,
          3622618.3700000006,
          2449593.76,
          2926362.79,
          2942862.4499999997,
          3226127,
          3248775.110000001,
          4683576.549999999,
          3318853.07,
          4449689.39,
          3501548.3,
          2973947.2800000007,
          3218460.4899999998,
          2309005.39,
          3601390.1500000004,
          3072097.5999999996,
          3046730.1000000006,
          2804014.4600000004,
          3814881.76,
          4975129.8100000005,
          5056420.350000001,
          4719631.49,
          4142844.3499999996,
          4319522.74,
          4005606.009999999,
          4783577.400000001,
          3850446.8999999994,
          2777941.5199999996,
          4148781.4699999997,
          3493117.9299999997,
          4272339.43,
          4253481.26,
          3896907.2499999995,
          3890287.81,
          4526267.000000001,
          3224091.5799999996,
          3605808.25,
          4154501.8299999996,
          3429007.880000001,
          3977904.07,
          3686947.6400000006,
          2414781.11,
          2999681.66,
          2530878.03,
          1359308.41,
          2089747.4200000002,
          2376793.6799999997,
          1709943.5999999999,
          2632877.6099999994,
          2883570.5999999996,
          1822321.08,
          3283748.01,
          3062804.3400000003,
          3846285.04,
          2885204.27,
          2800581.01,
          3267598.1700000004,
          4376178.74,
          3419050.42,
          6344553.93,
          4252322.530000001,
          2761222.5799999996,
          5165607.750000001,
          2887961.2699999996,
          4263894.45,
          5322633.46,
          5970346.0600000005,
          3558280.81,
          4948782.79,
          4599633.34,
          2639258.71,
          6151421.989999999,
          2512948.7100000004,
          3721864.7600000007,
          3725361.9699999997,
          2784634.76
         ],
         "yaxis": "y"
        },
        {
         "line": {
          "color": "rgb(255, 127, 14)",
          "width": 2
         },
         "marker": {
          "color": "rgb(255, 127, 14)",
          "size": 5
         },
         "mode": "lines+markers",
         "name": "DecisionTreeRegressor",
         "type": "scattergl",
         "x": [
          "2016-01-01T00:00:00",
          "2016-02-01T00:00:00",
          "2016-03-01T00:00:00",
          "2016-04-01T00:00:00",
          "2016-05-01T00:00:00",
          "2016-06-01T00:00:00",
          "2016-07-01T00:00:00",
          "2016-08-01T00:00:00",
          "2016-09-01T00:00:00",
          "2016-10-01T00:00:00",
          "2016-11-01T00:00:00",
          "2016-12-01T00:00:00",
          "2017-01-01T00:00:00",
          "2017-02-01T00:00:00",
          "2017-03-01T00:00:00",
          "2017-04-01T00:00:00",
          "2017-05-01T00:00:00",
          "2017-06-01T00:00:00",
          "2017-07-01T00:00:00",
          "2017-08-01T00:00:00",
          "2017-09-01T00:00:00",
          "2017-10-01T00:00:00",
          "2017-11-01T00:00:00",
          "2017-12-01T00:00:00",
          "2018-01-01T00:00:00",
          "2018-02-01T00:00:00",
          "2018-03-01T00:00:00",
          "2018-04-01T00:00:00",
          "2018-05-01T00:00:00",
          "2018-06-01T00:00:00",
          "2018-07-01T00:00:00",
          "2018-08-01T00:00:00",
          "2018-09-01T00:00:00",
          "2018-10-01T00:00:00",
          "2018-11-01T00:00:00",
          "2018-12-01T00:00:00",
          "2019-01-01T00:00:00",
          "2019-02-01T00:00:00",
          "2019-03-01T00:00:00",
          "2019-04-01T00:00:00",
          "2019-05-01T00:00:00",
          "2019-06-01T00:00:00",
          "2019-07-01T00:00:00",
          "2019-08-01T00:00:00",
          "2019-09-01T00:00:00",
          "2019-10-01T00:00:00",
          "2019-11-01T00:00:00",
          "2019-12-01T00:00:00",
          "2020-01-01T00:00:00",
          "2020-02-01T00:00:00",
          "2020-03-01T00:00:00",
          "2020-04-01T00:00:00",
          "2020-05-01T00:00:00",
          "2020-06-01T00:00:00",
          "2020-07-01T00:00:00",
          "2020-08-01T00:00:00",
          "2020-09-01T00:00:00",
          "2020-10-01T00:00:00",
          "2020-11-01T00:00:00",
          "2020-12-01T00:00:00",
          "2021-01-01T00:00:00",
          "2021-02-01T00:00:00",
          "2021-03-01T00:00:00",
          "2021-04-01T00:00:00",
          "2021-05-01T00:00:00",
          "2021-06-01T00:00:00",
          "2021-07-01T00:00:00",
          "2021-08-01T00:00:00",
          "2021-09-01T00:00:00",
          "2021-10-01T00:00:00",
          "2021-11-01T00:00:00",
          "2021-12-01T00:00:00",
          "2022-01-01T00:00:00",
          "2022-02-01T00:00:00",
          "2022-03-01T00:00:00",
          "2022-04-01T00:00:00",
          "2022-05-01T00:00:00",
          "2022-06-01T00:00:00",
          "2022-07-01T00:00:00",
          "2022-08-01T00:00:00",
          "2022-09-01T00:00:00",
          "2022-10-01T00:00:00",
          "2022-11-01T00:00:00",
          "2022-12-01T00:00:00"
         ],
         "xaxis": "x",
         "y": [
          null,
          null,
          null,
          null,
          null,
          null,
          null,
          null,
          null,
          null,
          null,
          null,
          null,
          null,
          null,
          null,
          null,
          null,
          null,
          null,
          null,
          null,
          null,
          null,
          null,
          null,
          null,
          null,
          null,
          null,
          null,
          null,
          null,
          null,
          null,
          null,
          null,
          null,
          null,
          null,
          null,
          null,
          null,
          null,
          null,
          null,
          null,
          null,
          null,
          null,
          null,
          null,
          null,
          null,
          null,
          null,
          null,
          null,
          null,
          null,
          null,
          null,
          null,
          null,
          null,
          null,
          null,
          null,
          null,
          null,
          null,
          null,
          null,
          null,
          null,
          null,
          null,
          null,
          null,
          null,
          null,
          null,
          null,
          5157728.8098
         ],
         "yaxis": "y"
        }
       ],
       "layout": {
        "showlegend": true,
        "template": {
         "data": {
          "bar": [
           {
            "error_x": {
             "color": "rgb(51,51,51)"
            },
            "error_y": {
             "color": "rgb(51,51,51)"
            },
            "marker": {
             "line": {
              "color": "rgb(237,237,237)",
              "width": 0.5
             },
             "pattern": {
              "fillmode": "overlay",
              "size": 10,
              "solidity": 0.2
             }
            },
            "type": "bar"
           }
          ],
          "barpolar": [
           {
            "marker": {
             "line": {
              "color": "rgb(237,237,237)",
              "width": 0.5
             },
             "pattern": {
              "fillmode": "overlay",
              "size": 10,
              "solidity": 0.2
             }
            },
            "type": "barpolar"
           }
          ],
          "carpet": [
           {
            "aaxis": {
             "endlinecolor": "rgb(51,51,51)",
             "gridcolor": "white",
             "linecolor": "white",
             "minorgridcolor": "white",
             "startlinecolor": "rgb(51,51,51)"
            },
            "baxis": {
             "endlinecolor": "rgb(51,51,51)",
             "gridcolor": "white",
             "linecolor": "white",
             "minorgridcolor": "white",
             "startlinecolor": "rgb(51,51,51)"
            },
            "type": "carpet"
           }
          ],
          "choropleth": [
           {
            "colorbar": {
             "outlinewidth": 0,
             "tickcolor": "rgb(237,237,237)",
             "ticklen": 6,
             "ticks": "inside"
            },
            "type": "choropleth"
           }
          ],
          "contour": [
           {
            "colorbar": {
             "outlinewidth": 0,
             "tickcolor": "rgb(237,237,237)",
             "ticklen": 6,
             "ticks": "inside"
            },
            "colorscale": [
             [
              0,
              "rgb(20,44,66)"
             ],
             [
              1,
              "rgb(90,179,244)"
             ]
            ],
            "type": "contour"
           }
          ],
          "contourcarpet": [
           {
            "colorbar": {
             "outlinewidth": 0,
             "tickcolor": "rgb(237,237,237)",
             "ticklen": 6,
             "ticks": "inside"
            },
            "type": "contourcarpet"
           }
          ],
          "heatmap": [
           {
            "colorbar": {
             "outlinewidth": 0,
             "tickcolor": "rgb(237,237,237)",
             "ticklen": 6,
             "ticks": "inside"
            },
            "colorscale": [
             [
              0,
              "rgb(20,44,66)"
             ],
             [
              1,
              "rgb(90,179,244)"
             ]
            ],
            "type": "heatmap"
           }
          ],
          "heatmapgl": [
           {
            "colorbar": {
             "outlinewidth": 0,
             "tickcolor": "rgb(237,237,237)",
             "ticklen": 6,
             "ticks": "inside"
            },
            "colorscale": [
             [
              0,
              "rgb(20,44,66)"
             ],
             [
              1,
              "rgb(90,179,244)"
             ]
            ],
            "type": "heatmapgl"
           }
          ],
          "histogram": [
           {
            "marker": {
             "pattern": {
              "fillmode": "overlay",
              "size": 10,
              "solidity": 0.2
             }
            },
            "type": "histogram"
           }
          ],
          "histogram2d": [
           {
            "colorbar": {
             "outlinewidth": 0,
             "tickcolor": "rgb(237,237,237)",
             "ticklen": 6,
             "ticks": "inside"
            },
            "colorscale": [
             [
              0,
              "rgb(20,44,66)"
             ],
             [
              1,
              "rgb(90,179,244)"
             ]
            ],
            "type": "histogram2d"
           }
          ],
          "histogram2dcontour": [
           {
            "colorbar": {
             "outlinewidth": 0,
             "tickcolor": "rgb(237,237,237)",
             "ticklen": 6,
             "ticks": "inside"
            },
            "colorscale": [
             [
              0,
              "rgb(20,44,66)"
             ],
             [
              1,
              "rgb(90,179,244)"
             ]
            ],
            "type": "histogram2dcontour"
           }
          ],
          "mesh3d": [
           {
            "colorbar": {
             "outlinewidth": 0,
             "tickcolor": "rgb(237,237,237)",
             "ticklen": 6,
             "ticks": "inside"
            },
            "type": "mesh3d"
           }
          ],
          "parcoords": [
           {
            "line": {
             "colorbar": {
              "outlinewidth": 0,
              "tickcolor": "rgb(237,237,237)",
              "ticklen": 6,
              "ticks": "inside"
             }
            },
            "type": "parcoords"
           }
          ],
          "pie": [
           {
            "automargin": true,
            "type": "pie"
           }
          ],
          "scatter": [
           {
            "fillpattern": {
             "fillmode": "overlay",
             "size": 10,
             "solidity": 0.2
            },
            "type": "scatter"
           }
          ],
          "scatter3d": [
           {
            "line": {
             "colorbar": {
              "outlinewidth": 0,
              "tickcolor": "rgb(237,237,237)",
              "ticklen": 6,
              "ticks": "inside"
             }
            },
            "marker": {
             "colorbar": {
              "outlinewidth": 0,
              "tickcolor": "rgb(237,237,237)",
              "ticklen": 6,
              "ticks": "inside"
             }
            },
            "type": "scatter3d"
           }
          ],
          "scattercarpet": [
           {
            "marker": {
             "colorbar": {
              "outlinewidth": 0,
              "tickcolor": "rgb(237,237,237)",
              "ticklen": 6,
              "ticks": "inside"
             }
            },
            "type": "scattercarpet"
           }
          ],
          "scattergeo": [
           {
            "marker": {
             "colorbar": {
              "outlinewidth": 0,
              "tickcolor": "rgb(237,237,237)",
              "ticklen": 6,
              "ticks": "inside"
             }
            },
            "type": "scattergeo"
           }
          ],
          "scattergl": [
           {
            "marker": {
             "colorbar": {
              "outlinewidth": 0,
              "tickcolor": "rgb(237,237,237)",
              "ticklen": 6,
              "ticks": "inside"
             }
            },
            "type": "scattergl"
           }
          ],
          "scattermapbox": [
           {
            "marker": {
             "colorbar": {
              "outlinewidth": 0,
              "tickcolor": "rgb(237,237,237)",
              "ticklen": 6,
              "ticks": "inside"
             }
            },
            "type": "scattermapbox"
           }
          ],
          "scatterpolar": [
           {
            "marker": {
             "colorbar": {
              "outlinewidth": 0,
              "tickcolor": "rgb(237,237,237)",
              "ticklen": 6,
              "ticks": "inside"
             }
            },
            "type": "scatterpolar"
           }
          ],
          "scatterpolargl": [
           {
            "marker": {
             "colorbar": {
              "outlinewidth": 0,
              "tickcolor": "rgb(237,237,237)",
              "ticklen": 6,
              "ticks": "inside"
             }
            },
            "type": "scatterpolargl"
           }
          ],
          "scatterternary": [
           {
            "marker": {
             "colorbar": {
              "outlinewidth": 0,
              "tickcolor": "rgb(237,237,237)",
              "ticklen": 6,
              "ticks": "inside"
             }
            },
            "type": "scatterternary"
           }
          ],
          "surface": [
           {
            "colorbar": {
             "outlinewidth": 0,
             "tickcolor": "rgb(237,237,237)",
             "ticklen": 6,
             "ticks": "inside"
            },
            "colorscale": [
             [
              0,
              "rgb(20,44,66)"
             ],
             [
              1,
              "rgb(90,179,244)"
             ]
            ],
            "type": "surface"
           }
          ],
          "table": [
           {
            "cells": {
             "fill": {
              "color": "rgb(237,237,237)"
             },
             "line": {
              "color": "white"
             }
            },
            "header": {
             "fill": {
              "color": "rgb(217,217,217)"
             },
             "line": {
              "color": "white"
             }
            },
            "type": "table"
           }
          ]
         },
         "layout": {
          "annotationdefaults": {
           "arrowhead": 0,
           "arrowwidth": 1
          },
          "autotypenumbers": "strict",
          "coloraxis": {
           "colorbar": {
            "outlinewidth": 0,
            "tickcolor": "rgb(237,237,237)",
            "ticklen": 6,
            "ticks": "inside"
           }
          },
          "colorscale": {
           "sequential": [
            [
             0,
             "rgb(20,44,66)"
            ],
            [
             1,
             "rgb(90,179,244)"
            ]
           ],
           "sequentialminus": [
            [
             0,
             "rgb(20,44,66)"
            ],
            [
             1,
             "rgb(90,179,244)"
            ]
           ]
          },
          "colorway": [
           "#F8766D",
           "#A3A500",
           "#00BF7D",
           "#00B0F6",
           "#E76BF3"
          ],
          "font": {
           "color": "rgb(51,51,51)"
          },
          "geo": {
           "bgcolor": "white",
           "lakecolor": "white",
           "landcolor": "rgb(237,237,237)",
           "showlakes": true,
           "showland": true,
           "subunitcolor": "white"
          },
          "hoverlabel": {
           "align": "left"
          },
          "hovermode": "closest",
          "paper_bgcolor": "white",
          "plot_bgcolor": "rgb(237,237,237)",
          "polar": {
           "angularaxis": {
            "gridcolor": "white",
            "linecolor": "white",
            "showgrid": true,
            "tickcolor": "rgb(51,51,51)",
            "ticks": "outside"
           },
           "bgcolor": "rgb(237,237,237)",
           "radialaxis": {
            "gridcolor": "white",
            "linecolor": "white",
            "showgrid": true,
            "tickcolor": "rgb(51,51,51)",
            "ticks": "outside"
           }
          },
          "scene": {
           "xaxis": {
            "backgroundcolor": "rgb(237,237,237)",
            "gridcolor": "white",
            "gridwidth": 2,
            "linecolor": "white",
            "showbackground": true,
            "showgrid": true,
            "tickcolor": "rgb(51,51,51)",
            "ticks": "outside",
            "zerolinecolor": "white"
           },
           "yaxis": {
            "backgroundcolor": "rgb(237,237,237)",
            "gridcolor": "white",
            "gridwidth": 2,
            "linecolor": "white",
            "showbackground": true,
            "showgrid": true,
            "tickcolor": "rgb(51,51,51)",
            "ticks": "outside",
            "zerolinecolor": "white"
           },
           "zaxis": {
            "backgroundcolor": "rgb(237,237,237)",
            "gridcolor": "white",
            "gridwidth": 2,
            "linecolor": "white",
            "showbackground": true,
            "showgrid": true,
            "tickcolor": "rgb(51,51,51)",
            "ticks": "outside",
            "zerolinecolor": "white"
           }
          },
          "shapedefaults": {
           "fillcolor": "black",
           "line": {
            "width": 0
           },
           "opacity": 0.3
          },
          "ternary": {
           "aaxis": {
            "gridcolor": "white",
            "linecolor": "white",
            "showgrid": true,
            "tickcolor": "rgb(51,51,51)",
            "ticks": "outside"
           },
           "baxis": {
            "gridcolor": "white",
            "linecolor": "white",
            "showgrid": true,
            "tickcolor": "rgb(51,51,51)",
            "ticks": "outside"
           },
           "bgcolor": "rgb(237,237,237)",
           "caxis": {
            "gridcolor": "white",
            "linecolor": "white",
            "showgrid": true,
            "tickcolor": "rgb(51,51,51)",
            "ticks": "outside"
           }
          },
          "xaxis": {
           "automargin": true,
           "gridcolor": "white",
           "linecolor": "white",
           "showgrid": true,
           "tickcolor": "rgb(51,51,51)",
           "ticks": "outside",
           "title": {
            "standoff": 15
           },
           "zerolinecolor": "white"
          },
          "yaxis": {
           "automargin": true,
           "gridcolor": "white",
           "linecolor": "white",
           "showgrid": true,
           "tickcolor": "rgb(51,51,51)",
           "ticks": "outside",
           "title": {
            "standoff": 15
           },
           "zerolinecolor": "white"
          }
         }
        },
        "title": {
         "text": "Actual vs. Forecast (Out-of-Sample)"
        },
        "xaxis": {
         "anchor": "y",
         "domain": [
          0,
          1
         ]
        },
        "yaxis": {
         "anchor": "x",
         "domain": [
          0,
          1
         ]
        }
       }
      }
     },
     "metadata": {},
     "output_type": "display_data"
    },
    {
     "name": "stderr",
     "output_type": "stream",
     "text": [
      " 14%|█▍        | 2/14 [00:30<02:53, 14.45s/it]"
     ]
    },
    {
     "data": {
      "text/html": [
       "<style type=\"text/css\">\n",
       "#T_ca567_row25_col1, #T_ca567_row31_col1 {\n",
       "  background-color: lightgreen;\n",
       "}\n",
       "</style>\n",
       "<table id=\"T_ca567\">\n",
       "  <thead>\n",
       "    <tr>\n",
       "      <th class=\"blank level0\" >&nbsp;</th>\n",
       "      <th id=\"T_ca567_level0_col0\" class=\"col_heading level0 col0\" >Description</th>\n",
       "      <th id=\"T_ca567_level0_col1\" class=\"col_heading level0 col1\" >Value</th>\n",
       "    </tr>\n",
       "  </thead>\n",
       "  <tbody>\n",
       "    <tr>\n",
       "      <th id=\"T_ca567_level0_row0\" class=\"row_heading level0 row0\" >0</th>\n",
       "      <td id=\"T_ca567_row0_col0\" class=\"data row0 col0\" >session_id</td>\n",
       "      <td id=\"T_ca567_row0_col1\" class=\"data row0 col1\" >123</td>\n",
       "    </tr>\n",
       "    <tr>\n",
       "      <th id=\"T_ca567_level0_row1\" class=\"row_heading level0 row1\" >1</th>\n",
       "      <td id=\"T_ca567_row1_col0\" class=\"data row1 col0\" >Target</td>\n",
       "      <td id=\"T_ca567_row1_col1\" class=\"data row1 col1\" >NET_SALES</td>\n",
       "    </tr>\n",
       "    <tr>\n",
       "      <th id=\"T_ca567_level0_row2\" class=\"row_heading level0 row2\" >2</th>\n",
       "      <td id=\"T_ca567_row2_col0\" class=\"data row2 col0\" >Approach</td>\n",
       "      <td id=\"T_ca567_row2_col1\" class=\"data row2 col1\" >Univariate</td>\n",
       "    </tr>\n",
       "    <tr>\n",
       "      <th id=\"T_ca567_level0_row3\" class=\"row_heading level0 row3\" >3</th>\n",
       "      <td id=\"T_ca567_row3_col0\" class=\"data row3 col0\" >Exogenous Variables</td>\n",
       "      <td id=\"T_ca567_row3_col1\" class=\"data row3 col1\" >Not Present</td>\n",
       "    </tr>\n",
       "    <tr>\n",
       "      <th id=\"T_ca567_level0_row4\" class=\"row_heading level0 row4\" >4</th>\n",
       "      <td id=\"T_ca567_row4_col0\" class=\"data row4 col0\" >Original data shape</td>\n",
       "      <td id=\"T_ca567_row4_col1\" class=\"data row4 col1\" >(84, 1)</td>\n",
       "    </tr>\n",
       "    <tr>\n",
       "      <th id=\"T_ca567_level0_row5\" class=\"row_heading level0 row5\" >5</th>\n",
       "      <td id=\"T_ca567_row5_col0\" class=\"data row5 col0\" >Transformed data shape</td>\n",
       "      <td id=\"T_ca567_row5_col1\" class=\"data row5 col1\" >(84, 1)</td>\n",
       "    </tr>\n",
       "    <tr>\n",
       "      <th id=\"T_ca567_level0_row6\" class=\"row_heading level0 row6\" >6</th>\n",
       "      <td id=\"T_ca567_row6_col0\" class=\"data row6 col0\" >Transformed train set shape</td>\n",
       "      <td id=\"T_ca567_row6_col1\" class=\"data row6 col1\" >(83, 1)</td>\n",
       "    </tr>\n",
       "    <tr>\n",
       "      <th id=\"T_ca567_level0_row7\" class=\"row_heading level0 row7\" >7</th>\n",
       "      <td id=\"T_ca567_row7_col0\" class=\"data row7 col0\" >Transformed test set shape</td>\n",
       "      <td id=\"T_ca567_row7_col1\" class=\"data row7 col1\" >(1, 1)</td>\n",
       "    </tr>\n",
       "    <tr>\n",
       "      <th id=\"T_ca567_level0_row8\" class=\"row_heading level0 row8\" >8</th>\n",
       "      <td id=\"T_ca567_row8_col0\" class=\"data row8 col0\" >Rows with missing values</td>\n",
       "      <td id=\"T_ca567_row8_col1\" class=\"data row8 col1\" >0.0%</td>\n",
       "    </tr>\n",
       "    <tr>\n",
       "      <th id=\"T_ca567_level0_row9\" class=\"row_heading level0 row9\" >9</th>\n",
       "      <td id=\"T_ca567_row9_col0\" class=\"data row9 col0\" >Fold Generator</td>\n",
       "      <td id=\"T_ca567_row9_col1\" class=\"data row9 col1\" >ExpandingWindowSplitter</td>\n",
       "    </tr>\n",
       "    <tr>\n",
       "      <th id=\"T_ca567_level0_row10\" class=\"row_heading level0 row10\" >10</th>\n",
       "      <td id=\"T_ca567_row10_col0\" class=\"data row10 col0\" >Fold Number</td>\n",
       "      <td id=\"T_ca567_row10_col1\" class=\"data row10 col1\" >3</td>\n",
       "    </tr>\n",
       "    <tr>\n",
       "      <th id=\"T_ca567_level0_row11\" class=\"row_heading level0 row11\" >11</th>\n",
       "      <td id=\"T_ca567_row11_col0\" class=\"data row11 col0\" >Enforce Prediction Interval</td>\n",
       "      <td id=\"T_ca567_row11_col1\" class=\"data row11 col1\" >False</td>\n",
       "    </tr>\n",
       "    <tr>\n",
       "      <th id=\"T_ca567_level0_row12\" class=\"row_heading level0 row12\" >12</th>\n",
       "      <td id=\"T_ca567_row12_col0\" class=\"data row12 col0\" >Splits used for hyperparameters</td>\n",
       "      <td id=\"T_ca567_row12_col1\" class=\"data row12 col1\" >all</td>\n",
       "    </tr>\n",
       "    <tr>\n",
       "      <th id=\"T_ca567_level0_row13\" class=\"row_heading level0 row13\" >13</th>\n",
       "      <td id=\"T_ca567_row13_col0\" class=\"data row13 col0\" >User Defined Seasonal Period(s)</td>\n",
       "      <td id=\"T_ca567_row13_col1\" class=\"data row13 col1\" >None</td>\n",
       "    </tr>\n",
       "    <tr>\n",
       "      <th id=\"T_ca567_level0_row14\" class=\"row_heading level0 row14\" >14</th>\n",
       "      <td id=\"T_ca567_row14_col0\" class=\"data row14 col0\" >Ignore Seasonality Test</td>\n",
       "      <td id=\"T_ca567_row14_col1\" class=\"data row14 col1\" >False</td>\n",
       "    </tr>\n",
       "    <tr>\n",
       "      <th id=\"T_ca567_level0_row15\" class=\"row_heading level0 row15\" >15</th>\n",
       "      <td id=\"T_ca567_row15_col0\" class=\"data row15 col0\" >Seasonality Detection Algo</td>\n",
       "      <td id=\"T_ca567_row15_col1\" class=\"data row15 col1\" >auto</td>\n",
       "    </tr>\n",
       "    <tr>\n",
       "      <th id=\"T_ca567_level0_row16\" class=\"row_heading level0 row16\" >16</th>\n",
       "      <td id=\"T_ca567_row16_col0\" class=\"data row16 col0\" >Max Period to Consider</td>\n",
       "      <td id=\"T_ca567_row16_col1\" class=\"data row16 col1\" >60</td>\n",
       "    </tr>\n",
       "    <tr>\n",
       "      <th id=\"T_ca567_level0_row17\" class=\"row_heading level0 row17\" >17</th>\n",
       "      <td id=\"T_ca567_row17_col0\" class=\"data row17 col0\" >Seasonal Period(s) Tested</td>\n",
       "      <td id=\"T_ca567_row17_col1\" class=\"data row17 col1\" >[12, 24]</td>\n",
       "    </tr>\n",
       "    <tr>\n",
       "      <th id=\"T_ca567_level0_row18\" class=\"row_heading level0 row18\" >18</th>\n",
       "      <td id=\"T_ca567_row18_col0\" class=\"data row18 col0\" >Significant Seasonal Period(s)</td>\n",
       "      <td id=\"T_ca567_row18_col1\" class=\"data row18 col1\" >[12, 24]</td>\n",
       "    </tr>\n",
       "    <tr>\n",
       "      <th id=\"T_ca567_level0_row19\" class=\"row_heading level0 row19\" >19</th>\n",
       "      <td id=\"T_ca567_row19_col0\" class=\"data row19 col0\" >Significant Seasonal Period(s) without Harmonics</td>\n",
       "      <td id=\"T_ca567_row19_col1\" class=\"data row19 col1\" >[24]</td>\n",
       "    </tr>\n",
       "    <tr>\n",
       "      <th id=\"T_ca567_level0_row20\" class=\"row_heading level0 row20\" >20</th>\n",
       "      <td id=\"T_ca567_row20_col0\" class=\"data row20 col0\" >Remove Harmonics</td>\n",
       "      <td id=\"T_ca567_row20_col1\" class=\"data row20 col1\" >False</td>\n",
       "    </tr>\n",
       "    <tr>\n",
       "      <th id=\"T_ca567_level0_row21\" class=\"row_heading level0 row21\" >21</th>\n",
       "      <td id=\"T_ca567_row21_col0\" class=\"data row21 col0\" >Harmonics Order Method</td>\n",
       "      <td id=\"T_ca567_row21_col1\" class=\"data row21 col1\" >harmonic_max</td>\n",
       "    </tr>\n",
       "    <tr>\n",
       "      <th id=\"T_ca567_level0_row22\" class=\"row_heading level0 row22\" >22</th>\n",
       "      <td id=\"T_ca567_row22_col0\" class=\"data row22 col0\" >Num Seasonalities to Use</td>\n",
       "      <td id=\"T_ca567_row22_col1\" class=\"data row22 col1\" >1</td>\n",
       "    </tr>\n",
       "    <tr>\n",
       "      <th id=\"T_ca567_level0_row23\" class=\"row_heading level0 row23\" >23</th>\n",
       "      <td id=\"T_ca567_row23_col0\" class=\"data row23 col0\" >All Seasonalities to Use</td>\n",
       "      <td id=\"T_ca567_row23_col1\" class=\"data row23 col1\" >[12]</td>\n",
       "    </tr>\n",
       "    <tr>\n",
       "      <th id=\"T_ca567_level0_row24\" class=\"row_heading level0 row24\" >24</th>\n",
       "      <td id=\"T_ca567_row24_col0\" class=\"data row24 col0\" >Primary Seasonality</td>\n",
       "      <td id=\"T_ca567_row24_col1\" class=\"data row24 col1\" >12</td>\n",
       "    </tr>\n",
       "    <tr>\n",
       "      <th id=\"T_ca567_level0_row25\" class=\"row_heading level0 row25\" >25</th>\n",
       "      <td id=\"T_ca567_row25_col0\" class=\"data row25 col0\" >Seasonality Present</td>\n",
       "      <td id=\"T_ca567_row25_col1\" class=\"data row25 col1\" >True</td>\n",
       "    </tr>\n",
       "    <tr>\n",
       "      <th id=\"T_ca567_level0_row26\" class=\"row_heading level0 row26\" >26</th>\n",
       "      <td id=\"T_ca567_row26_col0\" class=\"data row26 col0\" >Seasonality Type</td>\n",
       "      <td id=\"T_ca567_row26_col1\" class=\"data row26 col1\" >mul</td>\n",
       "    </tr>\n",
       "    <tr>\n",
       "      <th id=\"T_ca567_level0_row27\" class=\"row_heading level0 row27\" >27</th>\n",
       "      <td id=\"T_ca567_row27_col0\" class=\"data row27 col0\" >Target Strictly Positive</td>\n",
       "      <td id=\"T_ca567_row27_col1\" class=\"data row27 col1\" >True</td>\n",
       "    </tr>\n",
       "    <tr>\n",
       "      <th id=\"T_ca567_level0_row28\" class=\"row_heading level0 row28\" >28</th>\n",
       "      <td id=\"T_ca567_row28_col0\" class=\"data row28 col0\" >Target White Noise</td>\n",
       "      <td id=\"T_ca567_row28_col1\" class=\"data row28 col1\" >No</td>\n",
       "    </tr>\n",
       "    <tr>\n",
       "      <th id=\"T_ca567_level0_row29\" class=\"row_heading level0 row29\" >29</th>\n",
       "      <td id=\"T_ca567_row29_col0\" class=\"data row29 col0\" >Recommended d</td>\n",
       "      <td id=\"T_ca567_row29_col1\" class=\"data row29 col1\" >1</td>\n",
       "    </tr>\n",
       "    <tr>\n",
       "      <th id=\"T_ca567_level0_row30\" class=\"row_heading level0 row30\" >30</th>\n",
       "      <td id=\"T_ca567_row30_col0\" class=\"data row30 col0\" >Recommended Seasonal D</td>\n",
       "      <td id=\"T_ca567_row30_col1\" class=\"data row30 col1\" >0</td>\n",
       "    </tr>\n",
       "    <tr>\n",
       "      <th id=\"T_ca567_level0_row31\" class=\"row_heading level0 row31\" >31</th>\n",
       "      <td id=\"T_ca567_row31_col0\" class=\"data row31 col0\" >Preprocess</td>\n",
       "      <td id=\"T_ca567_row31_col1\" class=\"data row31 col1\" >True</td>\n",
       "    </tr>\n",
       "    <tr>\n",
       "      <th id=\"T_ca567_level0_row32\" class=\"row_heading level0 row32\" >32</th>\n",
       "      <td id=\"T_ca567_row32_col0\" class=\"data row32 col0\" >Numerical Imputation (Target)</td>\n",
       "      <td id=\"T_ca567_row32_col1\" class=\"data row32 col1\" >mean</td>\n",
       "    </tr>\n",
       "    <tr>\n",
       "      <th id=\"T_ca567_level0_row33\" class=\"row_heading level0 row33\" >33</th>\n",
       "      <td id=\"T_ca567_row33_col0\" class=\"data row33 col0\" >Transformation (Target)</td>\n",
       "      <td id=\"T_ca567_row33_col1\" class=\"data row33 col1\" >None</td>\n",
       "    </tr>\n",
       "    <tr>\n",
       "      <th id=\"T_ca567_level0_row34\" class=\"row_heading level0 row34\" >34</th>\n",
       "      <td id=\"T_ca567_row34_col0\" class=\"data row34 col0\" >Scaling (Target)</td>\n",
       "      <td id=\"T_ca567_row34_col1\" class=\"data row34 col1\" >None</td>\n",
       "    </tr>\n",
       "    <tr>\n",
       "      <th id=\"T_ca567_level0_row35\" class=\"row_heading level0 row35\" >35</th>\n",
       "      <td id=\"T_ca567_row35_col0\" class=\"data row35 col0\" >Feature Engineering (Target) - Reduced Regression</td>\n",
       "      <td id=\"T_ca567_row35_col1\" class=\"data row35 col1\" >False</td>\n",
       "    </tr>\n",
       "    <tr>\n",
       "      <th id=\"T_ca567_level0_row36\" class=\"row_heading level0 row36\" >36</th>\n",
       "      <td id=\"T_ca567_row36_col0\" class=\"data row36 col0\" >CPU Jobs</td>\n",
       "      <td id=\"T_ca567_row36_col1\" class=\"data row36 col1\" >-1</td>\n",
       "    </tr>\n",
       "    <tr>\n",
       "      <th id=\"T_ca567_level0_row37\" class=\"row_heading level0 row37\" >37</th>\n",
       "      <td id=\"T_ca567_row37_col0\" class=\"data row37 col0\" >Use GPU</td>\n",
       "      <td id=\"T_ca567_row37_col1\" class=\"data row37 col1\" >False</td>\n",
       "    </tr>\n",
       "    <tr>\n",
       "      <th id=\"T_ca567_level0_row38\" class=\"row_heading level0 row38\" >38</th>\n",
       "      <td id=\"T_ca567_row38_col0\" class=\"data row38 col0\" >Log Experiment</td>\n",
       "      <td id=\"T_ca567_row38_col1\" class=\"data row38 col1\" >False</td>\n",
       "    </tr>\n",
       "    <tr>\n",
       "      <th id=\"T_ca567_level0_row39\" class=\"row_heading level0 row39\" >39</th>\n",
       "      <td id=\"T_ca567_row39_col0\" class=\"data row39 col0\" >Experiment Name</td>\n",
       "      <td id=\"T_ca567_row39_col1\" class=\"data row39 col1\" >ts-default-name</td>\n",
       "    </tr>\n",
       "    <tr>\n",
       "      <th id=\"T_ca567_level0_row40\" class=\"row_heading level0 row40\" >40</th>\n",
       "      <td id=\"T_ca567_row40_col0\" class=\"data row40 col0\" >USI</td>\n",
       "      <td id=\"T_ca567_row40_col1\" class=\"data row40 col1\" >e896</td>\n",
       "    </tr>\n",
       "  </tbody>\n",
       "</table>\n"
      ],
      "text/plain": [
       "<pandas.io.formats.style.Styler at 0x224d0929ac0>"
      ]
     },
     "metadata": {},
     "output_type": "display_data"
    },
    {
     "data": {
      "text/html": [],
      "text/plain": [
       "<IPython.core.display.HTML object>"
      ]
     },
     "metadata": {},
     "output_type": "display_data"
    },
    {
     "data": {
      "text/html": [
       "<style type=\"text/css\">\n",
       "#T_450c0 th {\n",
       "  text-align: left;\n",
       "}\n",
       "#T_450c0_row0_col0, #T_450c0_row1_col0, #T_450c0_row1_col1, #T_450c0_row1_col2, #T_450c0_row1_col3, #T_450c0_row1_col4, #T_450c0_row1_col5, #T_450c0_row1_col6, #T_450c0_row2_col0, #T_450c0_row2_col1, #T_450c0_row2_col2, #T_450c0_row2_col3, #T_450c0_row2_col4, #T_450c0_row2_col5, #T_450c0_row2_col6, #T_450c0_row3_col0, #T_450c0_row3_col1, #T_450c0_row3_col2, #T_450c0_row3_col3, #T_450c0_row3_col4, #T_450c0_row3_col5, #T_450c0_row3_col6, #T_450c0_row4_col0, #T_450c0_row4_col1, #T_450c0_row4_col2, #T_450c0_row4_col3, #T_450c0_row4_col4, #T_450c0_row4_col5, #T_450c0_row4_col6, #T_450c0_row5_col0, #T_450c0_row5_col1, #T_450c0_row5_col2, #T_450c0_row5_col3, #T_450c0_row5_col4, #T_450c0_row5_col5, #T_450c0_row5_col6, #T_450c0_row6_col0, #T_450c0_row6_col1, #T_450c0_row6_col2, #T_450c0_row6_col3, #T_450c0_row6_col4, #T_450c0_row6_col5, #T_450c0_row6_col6, #T_450c0_row7_col0, #T_450c0_row7_col1, #T_450c0_row7_col2, #T_450c0_row7_col3, #T_450c0_row7_col4, #T_450c0_row7_col5, #T_450c0_row7_col6, #T_450c0_row8_col0, #T_450c0_row8_col1, #T_450c0_row8_col2, #T_450c0_row8_col3, #T_450c0_row8_col4, #T_450c0_row8_col5, #T_450c0_row8_col6, #T_450c0_row9_col0, #T_450c0_row9_col1, #T_450c0_row9_col2, #T_450c0_row9_col3, #T_450c0_row9_col4, #T_450c0_row9_col5, #T_450c0_row9_col6, #T_450c0_row10_col0, #T_450c0_row10_col1, #T_450c0_row10_col2, #T_450c0_row10_col3, #T_450c0_row10_col4, #T_450c0_row10_col5, #T_450c0_row10_col6, #T_450c0_row11_col0, #T_450c0_row11_col1, #T_450c0_row11_col2, #T_450c0_row11_col3, #T_450c0_row11_col4, #T_450c0_row11_col5, #T_450c0_row11_col6, #T_450c0_row12_col0, #T_450c0_row12_col1, #T_450c0_row12_col2, #T_450c0_row12_col3, #T_450c0_row12_col4, #T_450c0_row12_col5, #T_450c0_row12_col6, #T_450c0_row13_col0, #T_450c0_row13_col1, #T_450c0_row13_col2, #T_450c0_row13_col3, #T_450c0_row13_col4, #T_450c0_row13_col5, #T_450c0_row13_col6, #T_450c0_row14_col0, #T_450c0_row14_col1, #T_450c0_row14_col2, #T_450c0_row14_col3, #T_450c0_row14_col4, #T_450c0_row14_col5, #T_450c0_row14_col6, #T_450c0_row15_col0, #T_450c0_row15_col1, #T_450c0_row15_col2, #T_450c0_row15_col3, #T_450c0_row15_col4, #T_450c0_row15_col5, #T_450c0_row15_col6, #T_450c0_row16_col0, #T_450c0_row16_col1, #T_450c0_row16_col2, #T_450c0_row16_col3, #T_450c0_row16_col4, #T_450c0_row16_col5, #T_450c0_row16_col6, #T_450c0_row17_col0, #T_450c0_row17_col1, #T_450c0_row17_col2, #T_450c0_row17_col3, #T_450c0_row17_col4, #T_450c0_row17_col5, #T_450c0_row17_col6, #T_450c0_row18_col0, #T_450c0_row18_col1, #T_450c0_row18_col2, #T_450c0_row18_col3, #T_450c0_row18_col4, #T_450c0_row18_col5, #T_450c0_row18_col6, #T_450c0_row19_col0, #T_450c0_row19_col1, #T_450c0_row19_col2, #T_450c0_row19_col3, #T_450c0_row19_col4, #T_450c0_row19_col5, #T_450c0_row19_col6, #T_450c0_row20_col0, #T_450c0_row20_col1, #T_450c0_row20_col2, #T_450c0_row20_col3, #T_450c0_row20_col4, #T_450c0_row20_col5, #T_450c0_row20_col6, #T_450c0_row21_col0, #T_450c0_row21_col1, #T_450c0_row21_col2, #T_450c0_row21_col3, #T_450c0_row21_col4, #T_450c0_row21_col5, #T_450c0_row21_col6, #T_450c0_row22_col0, #T_450c0_row22_col1, #T_450c0_row22_col2, #T_450c0_row22_col3, #T_450c0_row22_col4, #T_450c0_row22_col5, #T_450c0_row22_col6 {\n",
       "  text-align: left;\n",
       "}\n",
       "#T_450c0_row0_col1, #T_450c0_row0_col2, #T_450c0_row0_col3, #T_450c0_row0_col4, #T_450c0_row0_col5, #T_450c0_row0_col6 {\n",
       "  text-align: left;\n",
       "  background-color: yellow;\n",
       "}\n",
       "#T_450c0_row0_col7, #T_450c0_row1_col7, #T_450c0_row2_col7, #T_450c0_row3_col7, #T_450c0_row4_col7, #T_450c0_row5_col7, #T_450c0_row6_col7, #T_450c0_row7_col7, #T_450c0_row8_col7, #T_450c0_row9_col7, #T_450c0_row10_col7, #T_450c0_row11_col7, #T_450c0_row12_col7, #T_450c0_row13_col7, #T_450c0_row14_col7, #T_450c0_row15_col7, #T_450c0_row16_col7, #T_450c0_row17_col7, #T_450c0_row18_col7, #T_450c0_row19_col7, #T_450c0_row20_col7, #T_450c0_row21_col7 {\n",
       "  text-align: left;\n",
       "  background-color: lightgrey;\n",
       "}\n",
       "#T_450c0_row22_col7 {\n",
       "  text-align: left;\n",
       "  background-color: yellow;\n",
       "  background-color: lightgrey;\n",
       "}\n",
       "</style>\n",
       "<table id=\"T_450c0\">\n",
       "  <thead>\n",
       "    <tr>\n",
       "      <th class=\"blank level0\" >&nbsp;</th>\n",
       "      <th id=\"T_450c0_level0_col0\" class=\"col_heading level0 col0\" >Model</th>\n",
       "      <th id=\"T_450c0_level0_col1\" class=\"col_heading level0 col1\" >MASE</th>\n",
       "      <th id=\"T_450c0_level0_col2\" class=\"col_heading level0 col2\" >RMSSE</th>\n",
       "      <th id=\"T_450c0_level0_col3\" class=\"col_heading level0 col3\" >MAE</th>\n",
       "      <th id=\"T_450c0_level0_col4\" class=\"col_heading level0 col4\" >RMSE</th>\n",
       "      <th id=\"T_450c0_level0_col5\" class=\"col_heading level0 col5\" >MAPE</th>\n",
       "      <th id=\"T_450c0_level0_col6\" class=\"col_heading level0 col6\" >SMAPE</th>\n",
       "      <th id=\"T_450c0_level0_col7\" class=\"col_heading level0 col7\" >TT (Sec)</th>\n",
       "    </tr>\n",
       "  </thead>\n",
       "  <tbody>\n",
       "    <tr>\n",
       "      <th id=\"T_450c0_level0_row0\" class=\"row_heading level0 row0\" >snaive</th>\n",
       "      <td id=\"T_450c0_row0_col0\" class=\"data row0 col0\" >Seasonal Naive Forecaster</td>\n",
       "      <td id=\"T_450c0_row0_col1\" class=\"data row0 col1\" >0.3939</td>\n",
       "      <td id=\"T_450c0_row0_col2\" class=\"data row0 col2\" >0.2829</td>\n",
       "      <td id=\"T_450c0_row0_col3\" class=\"data row0 col3\" >308442.0100</td>\n",
       "      <td id=\"T_450c0_row0_col4\" class=\"data row0 col4\" >308442.0100</td>\n",
       "      <td id=\"T_450c0_row0_col5\" class=\"data row0 col5\" >0.1552</td>\n",
       "      <td id=\"T_450c0_row0_col6\" class=\"data row0 col6\" >0.1380</td>\n",
       "      <td id=\"T_450c0_row0_col7\" class=\"data row0 col7\" >0.0433</td>\n",
       "    </tr>\n",
       "    <tr>\n",
       "      <th id=\"T_450c0_level0_row1\" class=\"row_heading level0 row1\" >arima</th>\n",
       "      <td id=\"T_450c0_row1_col0\" class=\"data row1 col0\" >ARIMA</td>\n",
       "      <td id=\"T_450c0_row1_col1\" class=\"data row1 col1\" >0.5349</td>\n",
       "      <td id=\"T_450c0_row1_col2\" class=\"data row1 col2\" >0.3844</td>\n",
       "      <td id=\"T_450c0_row1_col3\" class=\"data row1 col3\" >419054.7369</td>\n",
       "      <td id=\"T_450c0_row1_col4\" class=\"data row1 col4\" >419054.7369</td>\n",
       "      <td id=\"T_450c0_row1_col5\" class=\"data row1 col5\" >0.1713</td>\n",
       "      <td id=\"T_450c0_row1_col6\" class=\"data row1 col6\" >0.1625</td>\n",
       "      <td id=\"T_450c0_row1_col7\" class=\"data row1 col7\" >0.0367</td>\n",
       "    </tr>\n",
       "    <tr>\n",
       "      <th id=\"T_450c0_level0_row2\" class=\"row_heading level0 row2\" >lr_cds_dt</th>\n",
       "      <td id=\"T_450c0_row2_col0\" class=\"data row2 col0\" >Linear w/ Cond. Deseasonalize & Detrending</td>\n",
       "      <td id=\"T_450c0_row2_col1\" class=\"data row2 col1\" >1.0540</td>\n",
       "      <td id=\"T_450c0_row2_col2\" class=\"data row2 col2\" >0.7579</td>\n",
       "      <td id=\"T_450c0_row2_col3\" class=\"data row2 col3\" >826928.5857</td>\n",
       "      <td id=\"T_450c0_row2_col4\" class=\"data row2 col4\" >826928.5857</td>\n",
       "      <td id=\"T_450c0_row2_col5\" class=\"data row2 col5\" >0.2398</td>\n",
       "      <td id=\"T_450c0_row2_col6\" class=\"data row2 col6\" >0.2702</td>\n",
       "      <td id=\"T_450c0_row2_col7\" class=\"data row2 col7\" >0.0467</td>\n",
       "    </tr>\n",
       "    <tr>\n",
       "      <th id=\"T_450c0_level0_row3\" class=\"row_heading level0 row3\" >en_cds_dt</th>\n",
       "      <td id=\"T_450c0_row3_col0\" class=\"data row3 col0\" >Elastic Net w/ Cond. Deseasonalize & Detrending</td>\n",
       "      <td id=\"T_450c0_row3_col1\" class=\"data row3 col1\" >1.0540</td>\n",
       "      <td id=\"T_450c0_row3_col2\" class=\"data row3 col2\" >0.7579</td>\n",
       "      <td id=\"T_450c0_row3_col3\" class=\"data row3 col3\" >826928.5858</td>\n",
       "      <td id=\"T_450c0_row3_col4\" class=\"data row3 col4\" >826928.5858</td>\n",
       "      <td id=\"T_450c0_row3_col5\" class=\"data row3 col5\" >0.2398</td>\n",
       "      <td id=\"T_450c0_row3_col6\" class=\"data row3 col6\" >0.2702</td>\n",
       "      <td id=\"T_450c0_row3_col7\" class=\"data row3 col7\" >0.0433</td>\n",
       "    </tr>\n",
       "    <tr>\n",
       "      <th id=\"T_450c0_level0_row4\" class=\"row_heading level0 row4\" >ridge_cds_dt</th>\n",
       "      <td id=\"T_450c0_row4_col0\" class=\"data row4 col0\" >Ridge w/ Cond. Deseasonalize & Detrending</td>\n",
       "      <td id=\"T_450c0_row4_col1\" class=\"data row4 col1\" >1.0540</td>\n",
       "      <td id=\"T_450c0_row4_col2\" class=\"data row4 col2\" >0.7579</td>\n",
       "      <td id=\"T_450c0_row4_col3\" class=\"data row4 col3\" >826928.5857</td>\n",
       "      <td id=\"T_450c0_row4_col4\" class=\"data row4 col4\" >826928.5857</td>\n",
       "      <td id=\"T_450c0_row4_col5\" class=\"data row4 col5\" >0.2398</td>\n",
       "      <td id=\"T_450c0_row4_col6\" class=\"data row4 col6\" >0.2702</td>\n",
       "      <td id=\"T_450c0_row4_col7\" class=\"data row4 col7\" >0.0467</td>\n",
       "    </tr>\n",
       "    <tr>\n",
       "      <th id=\"T_450c0_level0_row5\" class=\"row_heading level0 row5\" >lasso_cds_dt</th>\n",
       "      <td id=\"T_450c0_row5_col0\" class=\"data row5 col0\" >Lasso w/ Cond. Deseasonalize & Detrending</td>\n",
       "      <td id=\"T_450c0_row5_col1\" class=\"data row5 col1\" >1.0540</td>\n",
       "      <td id=\"T_450c0_row5_col2\" class=\"data row5 col2\" >0.7579</td>\n",
       "      <td id=\"T_450c0_row5_col3\" class=\"data row5 col3\" >826928.5858</td>\n",
       "      <td id=\"T_450c0_row5_col4\" class=\"data row5 col4\" >826928.5858</td>\n",
       "      <td id=\"T_450c0_row5_col5\" class=\"data row5 col5\" >0.2398</td>\n",
       "      <td id=\"T_450c0_row5_col6\" class=\"data row5 col6\" >0.2702</td>\n",
       "      <td id=\"T_450c0_row5_col7\" class=\"data row5 col7\" >0.0400</td>\n",
       "    </tr>\n",
       "    <tr>\n",
       "      <th id=\"T_450c0_level0_row6\" class=\"row_heading level0 row6\" >llar_cds_dt</th>\n",
       "      <td id=\"T_450c0_row6_col0\" class=\"data row6 col0\" >Lasso Least Angular Regressor w/ Cond. Deseasonalize & Detrending</td>\n",
       "      <td id=\"T_450c0_row6_col1\" class=\"data row6 col1\" >1.0540</td>\n",
       "      <td id=\"T_450c0_row6_col2\" class=\"data row6 col2\" >0.7579</td>\n",
       "      <td id=\"T_450c0_row6_col3\" class=\"data row6 col3\" >826928.5858</td>\n",
       "      <td id=\"T_450c0_row6_col4\" class=\"data row6 col4\" >826928.5858</td>\n",
       "      <td id=\"T_450c0_row6_col5\" class=\"data row6 col5\" >0.2398</td>\n",
       "      <td id=\"T_450c0_row6_col6\" class=\"data row6 col6\" >0.2702</td>\n",
       "      <td id=\"T_450c0_row6_col7\" class=\"data row6 col7\" >0.0433</td>\n",
       "    </tr>\n",
       "    <tr>\n",
       "      <th id=\"T_450c0_level0_row7\" class=\"row_heading level0 row7\" >gbr_cds_dt</th>\n",
       "      <td id=\"T_450c0_row7_col0\" class=\"data row7 col0\" >Gradient Boosting w/ Cond. Deseasonalize & Detrending</td>\n",
       "      <td id=\"T_450c0_row7_col1\" class=\"data row7 col1\" >1.1592</td>\n",
       "      <td id=\"T_450c0_row7_col2\" class=\"data row7 col2\" >0.8341</td>\n",
       "      <td id=\"T_450c0_row7_col3\" class=\"data row7 col3\" >911679.8105</td>\n",
       "      <td id=\"T_450c0_row7_col4\" class=\"data row7 col4\" >911679.8105</td>\n",
       "      <td id=\"T_450c0_row7_col5\" class=\"data row7 col5\" >0.2485</td>\n",
       "      <td id=\"T_450c0_row7_col6\" class=\"data row7 col6\" >0.3004</td>\n",
       "      <td id=\"T_450c0_row7_col7\" class=\"data row7 col7\" >0.0600</td>\n",
       "    </tr>\n",
       "    <tr>\n",
       "      <th id=\"T_450c0_level0_row8\" class=\"row_heading level0 row8\" >knn_cds_dt</th>\n",
       "      <td id=\"T_450c0_row8_col0\" class=\"data row8 col0\" >K Neighbors w/ Cond. Deseasonalize & Detrending</td>\n",
       "      <td id=\"T_450c0_row8_col1\" class=\"data row8 col1\" >1.0917</td>\n",
       "      <td id=\"T_450c0_row8_col2\" class=\"data row8 col2\" >0.7851</td>\n",
       "      <td id=\"T_450c0_row8_col3\" class=\"data row8 col3\" >856826.0302</td>\n",
       "      <td id=\"T_450c0_row8_col4\" class=\"data row8 col4\" >856826.0302</td>\n",
       "      <td id=\"T_450c0_row8_col5\" class=\"data row8 col5\" >0.2589</td>\n",
       "      <td id=\"T_450c0_row8_col6\" class=\"data row8 col6\" >0.2878</td>\n",
       "      <td id=\"T_450c0_row8_col7\" class=\"data row8 col7\" >0.0500</td>\n",
       "    </tr>\n",
       "    <tr>\n",
       "      <th id=\"T_450c0_level0_row9\" class=\"row_heading level0 row9\" >stlf</th>\n",
       "      <td id=\"T_450c0_row9_col0\" class=\"data row9 col0\" >STLF</td>\n",
       "      <td id=\"T_450c0_row9_col1\" class=\"data row9 col1\" >0.8958</td>\n",
       "      <td id=\"T_450c0_row9_col2\" class=\"data row9 col2\" >0.6435</td>\n",
       "      <td id=\"T_450c0_row9_col3\" class=\"data row9 col3\" >700590.7988</td>\n",
       "      <td id=\"T_450c0_row9_col4\" class=\"data row9 col4\" >700590.7988</td>\n",
       "      <td id=\"T_450c0_row9_col5\" class=\"data row9 col5\" >0.2646</td>\n",
       "      <td id=\"T_450c0_row9_col6\" class=\"data row9 col6\" >0.3168</td>\n",
       "      <td id=\"T_450c0_row9_col7\" class=\"data row9 col7\" >0.0333</td>\n",
       "    </tr>\n",
       "    <tr>\n",
       "      <th id=\"T_450c0_level0_row10\" class=\"row_heading level0 row10\" >exp_smooth</th>\n",
       "      <td id=\"T_450c0_row10_col0\" class=\"data row10 col0\" >Exponential Smoothing</td>\n",
       "      <td id=\"T_450c0_row10_col1\" class=\"data row10 col1\" >1.1684</td>\n",
       "      <td id=\"T_450c0_row10_col2\" class=\"data row10 col2\" >0.8402</td>\n",
       "      <td id=\"T_450c0_row10_col3\" class=\"data row10 col3\" >916945.0320</td>\n",
       "      <td id=\"T_450c0_row10_col4\" class=\"data row10 col4\" >916945.0320</td>\n",
       "      <td id=\"T_450c0_row10_col5\" class=\"data row10 col5\" >0.2775</td>\n",
       "      <td id=\"T_450c0_row10_col6\" class=\"data row10 col6\" >0.3107</td>\n",
       "      <td id=\"T_450c0_row10_col7\" class=\"data row10 col7\" >0.0533</td>\n",
       "    </tr>\n",
       "    <tr>\n",
       "      <th id=\"T_450c0_level0_row11\" class=\"row_heading level0 row11\" >ets</th>\n",
       "      <td id=\"T_450c0_row11_col0\" class=\"data row11 col0\" >ETS</td>\n",
       "      <td id=\"T_450c0_row11_col1\" class=\"data row11 col1\" >1.1868</td>\n",
       "      <td id=\"T_450c0_row11_col2\" class=\"data row11 col2\" >0.8534</td>\n",
       "      <td id=\"T_450c0_row11_col3\" class=\"data row11 col3\" >931030.2851</td>\n",
       "      <td id=\"T_450c0_row11_col4\" class=\"data row11 col4\" >931030.2851</td>\n",
       "      <td id=\"T_450c0_row11_col5\" class=\"data row11 col5\" >0.2782</td>\n",
       "      <td id=\"T_450c0_row11_col6\" class=\"data row11 col6\" >0.3139</td>\n",
       "      <td id=\"T_450c0_row11_col7\" class=\"data row11 col7\" >0.0400</td>\n",
       "    </tr>\n",
       "    <tr>\n",
       "      <th id=\"T_450c0_level0_row12\" class=\"row_heading level0 row12\" >lightgbm_cds_dt</th>\n",
       "      <td id=\"T_450c0_row12_col0\" class=\"data row12 col0\" >Light Gradient Boosting w/ Cond. Deseasonalize & Detrending</td>\n",
       "      <td id=\"T_450c0_row12_col1\" class=\"data row12 col1\" >1.2491</td>\n",
       "      <td id=\"T_450c0_row12_col2\" class=\"data row12 col2\" >0.8986</td>\n",
       "      <td id=\"T_450c0_row12_col3\" class=\"data row12 col3\" >981705.0914</td>\n",
       "      <td id=\"T_450c0_row12_col4\" class=\"data row12 col4\" >981705.0914</td>\n",
       "      <td id=\"T_450c0_row12_col5\" class=\"data row12 col5\" >0.3017</td>\n",
       "      <td id=\"T_450c0_row12_col6\" class=\"data row12 col6\" >0.3430</td>\n",
       "      <td id=\"T_450c0_row12_col7\" class=\"data row12 col7\" >0.0767</td>\n",
       "    </tr>\n",
       "    <tr>\n",
       "      <th id=\"T_450c0_level0_row13\" class=\"row_heading level0 row13\" >et_cds_dt</th>\n",
       "      <td id=\"T_450c0_row13_col0\" class=\"data row13 col0\" >Extra Trees w/ Cond. Deseasonalize & Detrending</td>\n",
       "      <td id=\"T_450c0_row13_col1\" class=\"data row13 col1\" >1.1644</td>\n",
       "      <td id=\"T_450c0_row13_col2\" class=\"data row13 col2\" >0.8374</td>\n",
       "      <td id=\"T_450c0_row13_col3\" class=\"data row13 col3\" >914172.6219</td>\n",
       "      <td id=\"T_450c0_row13_col4\" class=\"data row13 col4\" >914172.6219</td>\n",
       "      <td id=\"T_450c0_row13_col5\" class=\"data row13 col5\" >0.3050</td>\n",
       "      <td id=\"T_450c0_row13_col6\" class=\"data row13 col6\" >0.3238</td>\n",
       "      <td id=\"T_450c0_row13_col7\" class=\"data row13 col7\" >0.0800</td>\n",
       "    </tr>\n",
       "    <tr>\n",
       "      <th id=\"T_450c0_level0_row14\" class=\"row_heading level0 row14\" >rf_cds_dt</th>\n",
       "      <td id=\"T_450c0_row14_col0\" class=\"data row14 col0\" >Random Forest w/ Cond. Deseasonalize & Detrending</td>\n",
       "      <td id=\"T_450c0_row14_col1\" class=\"data row14 col1\" >1.1616</td>\n",
       "      <td id=\"T_450c0_row14_col2\" class=\"data row14 col2\" >0.8353</td>\n",
       "      <td id=\"T_450c0_row14_col3\" class=\"data row14 col3\" >911839.5759</td>\n",
       "      <td id=\"T_450c0_row14_col4\" class=\"data row14 col4\" >911839.5759</td>\n",
       "      <td id=\"T_450c0_row14_col5\" class=\"data row14 col5\" >0.3056</td>\n",
       "      <td id=\"T_450c0_row14_col6\" class=\"data row14 col6\" >0.3232</td>\n",
       "      <td id=\"T_450c0_row14_col7\" class=\"data row14 col7\" >0.0833</td>\n",
       "    </tr>\n",
       "    <tr>\n",
       "      <th id=\"T_450c0_level0_row15\" class=\"row_heading level0 row15\" >br_cds_dt</th>\n",
       "      <td id=\"T_450c0_row15_col0\" class=\"data row15 col0\" >Bayesian Ridge w/ Cond. Deseasonalize & Detrending</td>\n",
       "      <td id=\"T_450c0_row15_col1\" class=\"data row15 col1\" >1.2136</td>\n",
       "      <td id=\"T_450c0_row15_col2\" class=\"data row15 col2\" >0.8726</td>\n",
       "      <td id=\"T_450c0_row15_col3\" class=\"data row15 col3\" >952194.6282</td>\n",
       "      <td id=\"T_450c0_row15_col4\" class=\"data row15 col4\" >952194.6282</td>\n",
       "      <td id=\"T_450c0_row15_col5\" class=\"data row15 col5\" >0.3087</td>\n",
       "      <td id=\"T_450c0_row15_col6\" class=\"data row15 col6\" >0.3335</td>\n",
       "      <td id=\"T_450c0_row15_col7\" class=\"data row15 col7\" >0.0433</td>\n",
       "    </tr>\n",
       "    <tr>\n",
       "      <th id=\"T_450c0_level0_row16\" class=\"row_heading level0 row16\" >ada_cds_dt</th>\n",
       "      <td id=\"T_450c0_row16_col0\" class=\"data row16 col0\" >AdaBoost w/ Cond. Deseasonalize & Detrending</td>\n",
       "      <td id=\"T_450c0_row16_col1\" class=\"data row16 col1\" >1.2434</td>\n",
       "      <td id=\"T_450c0_row16_col2\" class=\"data row16 col2\" >0.8941</td>\n",
       "      <td id=\"T_450c0_row16_col3\" class=\"data row16 col3\" >975815.5288</td>\n",
       "      <td id=\"T_450c0_row16_col4\" class=\"data row16 col4\" >975815.5288</td>\n",
       "      <td id=\"T_450c0_row16_col5\" class=\"data row16 col5\" >0.3192</td>\n",
       "      <td id=\"T_450c0_row16_col6\" class=\"data row16 col6\" >0.3442</td>\n",
       "      <td id=\"T_450c0_row16_col7\" class=\"data row16 col7\" >0.0633</td>\n",
       "    </tr>\n",
       "    <tr>\n",
       "      <th id=\"T_450c0_level0_row17\" class=\"row_heading level0 row17\" >huber_cds_dt</th>\n",
       "      <td id=\"T_450c0_row17_col0\" class=\"data row17 col0\" >Huber w/ Cond. Deseasonalize & Detrending</td>\n",
       "      <td id=\"T_450c0_row17_col1\" class=\"data row17 col1\" >1.3107</td>\n",
       "      <td id=\"T_450c0_row17_col2\" class=\"data row17 col2\" >0.9426</td>\n",
       "      <td id=\"T_450c0_row17_col3\" class=\"data row17 col3\" >1029476.4143</td>\n",
       "      <td id=\"T_450c0_row17_col4\" class=\"data row17 col4\" >1029476.4143</td>\n",
       "      <td id=\"T_450c0_row17_col5\" class=\"data row17 col5\" >0.3456</td>\n",
       "      <td id=\"T_450c0_row17_col6\" class=\"data row17 col6\" >0.3712</td>\n",
       "      <td id=\"T_450c0_row17_col7\" class=\"data row17 col7\" >0.0467</td>\n",
       "    </tr>\n",
       "    <tr>\n",
       "      <th id=\"T_450c0_level0_row18\" class=\"row_heading level0 row18\" >theta</th>\n",
       "      <td id=\"T_450c0_row18_col0\" class=\"data row18 col0\" >Theta Forecaster</td>\n",
       "      <td id=\"T_450c0_row18_col1\" class=\"data row18 col1\" >1.4998</td>\n",
       "      <td id=\"T_450c0_row18_col2\" class=\"data row18 col2\" >1.0785</td>\n",
       "      <td id=\"T_450c0_row18_col3\" class=\"data row18 col3\" >1177437.8570</td>\n",
       "      <td id=\"T_450c0_row18_col4\" class=\"data row18 col4\" >1177437.8570</td>\n",
       "      <td id=\"T_450c0_row18_col5\" class=\"data row18 col5\" >0.4004</td>\n",
       "      <td id=\"T_450c0_row18_col6\" class=\"data row18 col6\" >0.4298</td>\n",
       "      <td id=\"T_450c0_row18_col7\" class=\"data row18 col7\" >0.0267</td>\n",
       "    </tr>\n",
       "    <tr>\n",
       "      <th id=\"T_450c0_level0_row19\" class=\"row_heading level0 row19\" >dt_cds_dt</th>\n",
       "      <td id=\"T_450c0_row19_col0\" class=\"data row19 col0\" >Decision Tree w/ Cond. Deseasonalize & Detrending</td>\n",
       "      <td id=\"T_450c0_row19_col1\" class=\"data row19 col1\" >1.5158</td>\n",
       "      <td id=\"T_450c0_row19_col2\" class=\"data row19 col2\" >1.0903</td>\n",
       "      <td id=\"T_450c0_row19_col3\" class=\"data row19 col3\" >1191384.2136</td>\n",
       "      <td id=\"T_450c0_row19_col4\" class=\"data row19 col4\" >1191384.2136</td>\n",
       "      <td id=\"T_450c0_row19_col5\" class=\"data row19 col5\" >0.4042</td>\n",
       "      <td id=\"T_450c0_row19_col6\" class=\"data row19 col6\" >0.4430</td>\n",
       "      <td id=\"T_450c0_row19_col7\" class=\"data row19 col7\" >0.0400</td>\n",
       "    </tr>\n",
       "    <tr>\n",
       "      <th id=\"T_450c0_level0_row20\" class=\"row_heading level0 row20\" >auto_arima</th>\n",
       "      <td id=\"T_450c0_row20_col0\" class=\"data row20 col0\" >Auto ARIMA</td>\n",
       "      <td id=\"T_450c0_row20_col1\" class=\"data row20 col1\" >1.2629</td>\n",
       "      <td id=\"T_450c0_row20_col2\" class=\"data row20 col2\" >0.9074</td>\n",
       "      <td id=\"T_450c0_row20_col3\" class=\"data row20 col3\" >989492.1680</td>\n",
       "      <td id=\"T_450c0_row20_col4\" class=\"data row20 col4\" >989492.1680</td>\n",
       "      <td id=\"T_450c0_row20_col5\" class=\"data row20 col5\" >0.4221</td>\n",
       "      <td id=\"T_450c0_row20_col6\" class=\"data row20 col6\" >0.3706</td>\n",
       "      <td id=\"T_450c0_row20_col7\" class=\"data row20 col7\" >1.8367</td>\n",
       "    </tr>\n",
       "    <tr>\n",
       "      <th id=\"T_450c0_level0_row21\" class=\"row_heading level0 row21\" >omp_cds_dt</th>\n",
       "      <td id=\"T_450c0_row21_col0\" class=\"data row21 col0\" >Orthogonal Matching Pursuit w/ Cond. Deseasonalize & Detrending</td>\n",
       "      <td id=\"T_450c0_row21_col1\" class=\"data row21 col1\" >1.6181</td>\n",
       "      <td id=\"T_450c0_row21_col2\" class=\"data row21 col2\" >1.1632</td>\n",
       "      <td id=\"T_450c0_row21_col3\" class=\"data row21 col3\" >1269316.7599</td>\n",
       "      <td id=\"T_450c0_row21_col4\" class=\"data row21 col4\" >1269316.7599</td>\n",
       "      <td id=\"T_450c0_row21_col5\" class=\"data row21 col5\" >0.4976</td>\n",
       "      <td id=\"T_450c0_row21_col6\" class=\"data row21 col6\" >0.4702</td>\n",
       "      <td id=\"T_450c0_row21_col7\" class=\"data row21 col7\" >0.0433</td>\n",
       "    </tr>\n",
       "    <tr>\n",
       "      <th id=\"T_450c0_level0_row22\" class=\"row_heading level0 row22\" >polytrend</th>\n",
       "      <td id=\"T_450c0_row22_col0\" class=\"data row22 col0\" >Polynomial Trend Forecaster</td>\n",
       "      <td id=\"T_450c0_row22_col1\" class=\"data row22 col1\" >1.5156</td>\n",
       "      <td id=\"T_450c0_row22_col2\" class=\"data row22 col2\" >1.0887</td>\n",
       "      <td id=\"T_450c0_row22_col3\" class=\"data row22 col3\" >1187141.0399</td>\n",
       "      <td id=\"T_450c0_row22_col4\" class=\"data row22 col4\" >1187141.0399</td>\n",
       "      <td id=\"T_450c0_row22_col5\" class=\"data row22 col5\" >0.5726</td>\n",
       "      <td id=\"T_450c0_row22_col6\" class=\"data row22 col6\" >0.4348</td>\n",
       "      <td id=\"T_450c0_row22_col7\" class=\"data row22 col7\" >0.0200</td>\n",
       "    </tr>\n",
       "  </tbody>\n",
       "</table>\n"
      ],
      "text/plain": [
       "<pandas.io.formats.style.Styler at 0x224d05ffcd0>"
      ]
     },
     "metadata": {},
     "output_type": "display_data"
    },
    {
     "data": {
      "text/html": [],
      "text/plain": [
       "<IPython.core.display.HTML object>"
      ]
     },
     "metadata": {},
     "output_type": "display_data"
    },
    {
     "data": {
      "application/vnd.plotly.v1+json": {
       "config": {
        "plotlyServerURL": "https://plot.ly"
       },
       "data": [
        {
         "line": {
          "color": "#1f77b4"
         },
         "marker": {
          "size": 5
         },
         "mode": "lines+markers",
         "name": "Forecast | Seasonal Naive Forecaster",
         "showlegend": true,
         "type": "scatter",
         "x": [
          "2022-12-01T00:00:00"
         ],
         "y": [
          4101338.13
         ]
        },
        {
         "line": {
          "width": 0
         },
         "marker": {
          "color": "#68BBE3"
         },
         "mode": "lines",
         "name": "Lower Interval",
         "showlegend": false,
         "type": "scatter",
         "x": [
          "2022-12-01T00:00:00"
         ],
         "y": [
          2329185.8086
         ]
        },
        {
         "fill": "tonexty",
         "fillcolor": "rgba(104,187,227,0.5)",
         "line": {
          "width": 0
         },
         "marker": {
          "color": "#68BBE3"
         },
         "mode": "lines",
         "name": "Prediction Interval | Seasonal Naive Forecaster",
         "showlegend": true,
         "type": "scatter",
         "x": [
          "2022-12-01T00:00:00"
         ],
         "y": [
          5873490.4514
         ]
        },
        {
         "marker": {
          "color": "#3f3f3f",
          "size": 5
         },
         "mode": "lines+markers",
         "name": "Original",
         "showlegend": true,
         "type": "scatter",
         "x": [
          "2016-01-01T00:00:00",
          "2016-02-01T00:00:00",
          "2016-03-01T00:00:00",
          "2016-04-01T00:00:00",
          "2016-05-01T00:00:00",
          "2016-06-01T00:00:00",
          "2016-07-01T00:00:00",
          "2016-08-01T00:00:00",
          "2016-09-01T00:00:00",
          "2016-10-01T00:00:00",
          "2016-11-01T00:00:00",
          "2016-12-01T00:00:00",
          "2017-01-01T00:00:00",
          "2017-02-01T00:00:00",
          "2017-03-01T00:00:00",
          "2017-04-01T00:00:00",
          "2017-05-01T00:00:00",
          "2017-06-01T00:00:00",
          "2017-07-01T00:00:00",
          "2017-08-01T00:00:00",
          "2017-09-01T00:00:00",
          "2017-10-01T00:00:00",
          "2017-11-01T00:00:00",
          "2017-12-01T00:00:00",
          "2018-01-01T00:00:00",
          "2018-02-01T00:00:00",
          "2018-03-01T00:00:00",
          "2018-04-01T00:00:00",
          "2018-05-01T00:00:00",
          "2018-06-01T00:00:00",
          "2018-07-01T00:00:00",
          "2018-08-01T00:00:00",
          "2018-09-01T00:00:00",
          "2018-10-01T00:00:00",
          "2018-11-01T00:00:00",
          "2018-12-01T00:00:00",
          "2019-01-01T00:00:00",
          "2019-02-01T00:00:00",
          "2019-03-01T00:00:00",
          "2019-04-01T00:00:00",
          "2019-05-01T00:00:00",
          "2019-06-01T00:00:00",
          "2019-07-01T00:00:00",
          "2019-08-01T00:00:00",
          "2019-09-01T00:00:00",
          "2019-10-01T00:00:00",
          "2019-11-01T00:00:00",
          "2019-12-01T00:00:00",
          "2020-01-01T00:00:00",
          "2020-02-01T00:00:00",
          "2020-03-01T00:00:00",
          "2020-04-01T00:00:00",
          "2020-05-01T00:00:00",
          "2020-06-01T00:00:00",
          "2020-07-01T00:00:00",
          "2020-08-01T00:00:00",
          "2020-09-01T00:00:00",
          "2020-10-01T00:00:00",
          "2020-11-01T00:00:00",
          "2020-12-01T00:00:00",
          "2021-01-01T00:00:00",
          "2021-02-01T00:00:00",
          "2021-03-01T00:00:00",
          "2021-04-01T00:00:00",
          "2021-05-01T00:00:00",
          "2021-06-01T00:00:00",
          "2021-07-01T00:00:00",
          "2021-08-01T00:00:00",
          "2021-09-01T00:00:00",
          "2021-10-01T00:00:00",
          "2021-11-01T00:00:00",
          "2021-12-01T00:00:00",
          "2022-01-01T00:00:00",
          "2022-02-01T00:00:00",
          "2022-03-01T00:00:00",
          "2022-04-01T00:00:00",
          "2022-05-01T00:00:00",
          "2022-06-01T00:00:00",
          "2022-07-01T00:00:00",
          "2022-08-01T00:00:00",
          "2022-09-01T00:00:00",
          "2022-10-01T00:00:00",
          "2022-11-01T00:00:00",
          "2022-12-01T00:00:00"
         ],
         "y": [
          2592017.0399999996,
          2348092.91,
          2894584.9800000004,
          2163636.39,
          3210147.13,
          2534780.022441941,
          1820221.0699999998,
          3256621.67,
          2185207.9599999995,
          1232046.53,
          2138401.9,
          5408161.609999999,
          2221206.2100000004,
          1311588.13,
          2004152.18,
          1808462.2999999998,
          2467258.26,
          2115785.29,
          2169368.17,
          2831195.0300000003,
          1689228.7500000002,
          1856472.6600000001,
          1953840.1299999997,
          4614243.090000001,
          2155970.04,
          1809524.64,
          1968200.1800000002,
          1868773.9200000002,
          2115120.67,
          1657630.8499999999,
          1500893.07,
          1430529.3099999998,
          1438770.41,
          1644360.17,
          2227767.59,
          4551426.680000001,
          2265201.7900000005,
          2116634.1599999997,
          1830020.61,
          1740166.3100000003,
          2333062.1799999997,
          1856416.87,
          1895360.33,
          1955738.19,
          1749430.6000000003,
          1522283.25,
          2681924.32,
          4944662.330000001,
          1729231.23,
          1557584.4800000002,
          2345754.61,
          4574204.21,
          5970634.910000001,
          4077669.79,
          3357018.87,
          3073121.3099999996,
          4930647.75,
          2052590.75,
          3727026.7400000007,
          6080434.140000001,
          2936947.11,
          2566675.7899999996,
          3845263.6799999997,
          3640408.14,
          3331794.0300000003,
          2257787.07,
          2143054.42,
          2982415.150000001,
          3904088.6200000006,
          1841159.2599999998,
          3826672.51,
          4101338.13,
          1985988.9199999997,
          2328955.9699999993,
          2240477.51,
          2394403.39,
          2275736.56,
          1713451.8400000003,
          2497213.4,
          1953652.6099999996,
          3745685.6799999992,
          1359967.6899999997,
          4112404.0300000003,
          2913744.15
         ]
        }
       ],
       "layout": {
        "showlegend": true,
        "template": {
         "data": {
          "bar": [
           {
            "error_x": {
             "color": "rgb(51,51,51)"
            },
            "error_y": {
             "color": "rgb(51,51,51)"
            },
            "marker": {
             "line": {
              "color": "rgb(237,237,237)",
              "width": 0.5
             },
             "pattern": {
              "fillmode": "overlay",
              "size": 10,
              "solidity": 0.2
             }
            },
            "type": "bar"
           }
          ],
          "barpolar": [
           {
            "marker": {
             "line": {
              "color": "rgb(237,237,237)",
              "width": 0.5
             },
             "pattern": {
              "fillmode": "overlay",
              "size": 10,
              "solidity": 0.2
             }
            },
            "type": "barpolar"
           }
          ],
          "carpet": [
           {
            "aaxis": {
             "endlinecolor": "rgb(51,51,51)",
             "gridcolor": "white",
             "linecolor": "white",
             "minorgridcolor": "white",
             "startlinecolor": "rgb(51,51,51)"
            },
            "baxis": {
             "endlinecolor": "rgb(51,51,51)",
             "gridcolor": "white",
             "linecolor": "white",
             "minorgridcolor": "white",
             "startlinecolor": "rgb(51,51,51)"
            },
            "type": "carpet"
           }
          ],
          "choropleth": [
           {
            "colorbar": {
             "outlinewidth": 0,
             "tickcolor": "rgb(237,237,237)",
             "ticklen": 6,
             "ticks": "inside"
            },
            "type": "choropleth"
           }
          ],
          "contour": [
           {
            "colorbar": {
             "outlinewidth": 0,
             "tickcolor": "rgb(237,237,237)",
             "ticklen": 6,
             "ticks": "inside"
            },
            "colorscale": [
             [
              0,
              "rgb(20,44,66)"
             ],
             [
              1,
              "rgb(90,179,244)"
             ]
            ],
            "type": "contour"
           }
          ],
          "contourcarpet": [
           {
            "colorbar": {
             "outlinewidth": 0,
             "tickcolor": "rgb(237,237,237)",
             "ticklen": 6,
             "ticks": "inside"
            },
            "type": "contourcarpet"
           }
          ],
          "heatmap": [
           {
            "colorbar": {
             "outlinewidth": 0,
             "tickcolor": "rgb(237,237,237)",
             "ticklen": 6,
             "ticks": "inside"
            },
            "colorscale": [
             [
              0,
              "rgb(20,44,66)"
             ],
             [
              1,
              "rgb(90,179,244)"
             ]
            ],
            "type": "heatmap"
           }
          ],
          "heatmapgl": [
           {
            "colorbar": {
             "outlinewidth": 0,
             "tickcolor": "rgb(237,237,237)",
             "ticklen": 6,
             "ticks": "inside"
            },
            "colorscale": [
             [
              0,
              "rgb(20,44,66)"
             ],
             [
              1,
              "rgb(90,179,244)"
             ]
            ],
            "type": "heatmapgl"
           }
          ],
          "histogram": [
           {
            "marker": {
             "pattern": {
              "fillmode": "overlay",
              "size": 10,
              "solidity": 0.2
             }
            },
            "type": "histogram"
           }
          ],
          "histogram2d": [
           {
            "colorbar": {
             "outlinewidth": 0,
             "tickcolor": "rgb(237,237,237)",
             "ticklen": 6,
             "ticks": "inside"
            },
            "colorscale": [
             [
              0,
              "rgb(20,44,66)"
             ],
             [
              1,
              "rgb(90,179,244)"
             ]
            ],
            "type": "histogram2d"
           }
          ],
          "histogram2dcontour": [
           {
            "colorbar": {
             "outlinewidth": 0,
             "tickcolor": "rgb(237,237,237)",
             "ticklen": 6,
             "ticks": "inside"
            },
            "colorscale": [
             [
              0,
              "rgb(20,44,66)"
             ],
             [
              1,
              "rgb(90,179,244)"
             ]
            ],
            "type": "histogram2dcontour"
           }
          ],
          "mesh3d": [
           {
            "colorbar": {
             "outlinewidth": 0,
             "tickcolor": "rgb(237,237,237)",
             "ticklen": 6,
             "ticks": "inside"
            },
            "type": "mesh3d"
           }
          ],
          "parcoords": [
           {
            "line": {
             "colorbar": {
              "outlinewidth": 0,
              "tickcolor": "rgb(237,237,237)",
              "ticklen": 6,
              "ticks": "inside"
             }
            },
            "type": "parcoords"
           }
          ],
          "pie": [
           {
            "automargin": true,
            "type": "pie"
           }
          ],
          "scatter": [
           {
            "fillpattern": {
             "fillmode": "overlay",
             "size": 10,
             "solidity": 0.2
            },
            "type": "scatter"
           }
          ],
          "scatter3d": [
           {
            "line": {
             "colorbar": {
              "outlinewidth": 0,
              "tickcolor": "rgb(237,237,237)",
              "ticklen": 6,
              "ticks": "inside"
             }
            },
            "marker": {
             "colorbar": {
              "outlinewidth": 0,
              "tickcolor": "rgb(237,237,237)",
              "ticklen": 6,
              "ticks": "inside"
             }
            },
            "type": "scatter3d"
           }
          ],
          "scattercarpet": [
           {
            "marker": {
             "colorbar": {
              "outlinewidth": 0,
              "tickcolor": "rgb(237,237,237)",
              "ticklen": 6,
              "ticks": "inside"
             }
            },
            "type": "scattercarpet"
           }
          ],
          "scattergeo": [
           {
            "marker": {
             "colorbar": {
              "outlinewidth": 0,
              "tickcolor": "rgb(237,237,237)",
              "ticklen": 6,
              "ticks": "inside"
             }
            },
            "type": "scattergeo"
           }
          ],
          "scattergl": [
           {
            "marker": {
             "colorbar": {
              "outlinewidth": 0,
              "tickcolor": "rgb(237,237,237)",
              "ticklen": 6,
              "ticks": "inside"
             }
            },
            "type": "scattergl"
           }
          ],
          "scattermapbox": [
           {
            "marker": {
             "colorbar": {
              "outlinewidth": 0,
              "tickcolor": "rgb(237,237,237)",
              "ticklen": 6,
              "ticks": "inside"
             }
            },
            "type": "scattermapbox"
           }
          ],
          "scatterpolar": [
           {
            "marker": {
             "colorbar": {
              "outlinewidth": 0,
              "tickcolor": "rgb(237,237,237)",
              "ticklen": 6,
              "ticks": "inside"
             }
            },
            "type": "scatterpolar"
           }
          ],
          "scatterpolargl": [
           {
            "marker": {
             "colorbar": {
              "outlinewidth": 0,
              "tickcolor": "rgb(237,237,237)",
              "ticklen": 6,
              "ticks": "inside"
             }
            },
            "type": "scatterpolargl"
           }
          ],
          "scatterternary": [
           {
            "marker": {
             "colorbar": {
              "outlinewidth": 0,
              "tickcolor": "rgb(237,237,237)",
              "ticklen": 6,
              "ticks": "inside"
             }
            },
            "type": "scatterternary"
           }
          ],
          "surface": [
           {
            "colorbar": {
             "outlinewidth": 0,
             "tickcolor": "rgb(237,237,237)",
             "ticklen": 6,
             "ticks": "inside"
            },
            "colorscale": [
             [
              0,
              "rgb(20,44,66)"
             ],
             [
              1,
              "rgb(90,179,244)"
             ]
            ],
            "type": "surface"
           }
          ],
          "table": [
           {
            "cells": {
             "fill": {
              "color": "rgb(237,237,237)"
             },
             "line": {
              "color": "white"
             }
            },
            "header": {
             "fill": {
              "color": "rgb(217,217,217)"
             },
             "line": {
              "color": "white"
             }
            },
            "type": "table"
           }
          ]
         },
         "layout": {
          "annotationdefaults": {
           "arrowhead": 0,
           "arrowwidth": 1
          },
          "autotypenumbers": "strict",
          "coloraxis": {
           "colorbar": {
            "outlinewidth": 0,
            "tickcolor": "rgb(237,237,237)",
            "ticklen": 6,
            "ticks": "inside"
           }
          },
          "colorscale": {
           "sequential": [
            [
             0,
             "rgb(20,44,66)"
            ],
            [
             1,
             "rgb(90,179,244)"
            ]
           ],
           "sequentialminus": [
            [
             0,
             "rgb(20,44,66)"
            ],
            [
             1,
             "rgb(90,179,244)"
            ]
           ]
          },
          "colorway": [
           "#F8766D",
           "#A3A500",
           "#00BF7D",
           "#00B0F6",
           "#E76BF3"
          ],
          "font": {
           "color": "rgb(51,51,51)"
          },
          "geo": {
           "bgcolor": "white",
           "lakecolor": "white",
           "landcolor": "rgb(237,237,237)",
           "showlakes": true,
           "showland": true,
           "subunitcolor": "white"
          },
          "hoverlabel": {
           "align": "left"
          },
          "hovermode": "closest",
          "paper_bgcolor": "white",
          "plot_bgcolor": "rgb(237,237,237)",
          "polar": {
           "angularaxis": {
            "gridcolor": "white",
            "linecolor": "white",
            "showgrid": true,
            "tickcolor": "rgb(51,51,51)",
            "ticks": "outside"
           },
           "bgcolor": "rgb(237,237,237)",
           "radialaxis": {
            "gridcolor": "white",
            "linecolor": "white",
            "showgrid": true,
            "tickcolor": "rgb(51,51,51)",
            "ticks": "outside"
           }
          },
          "scene": {
           "xaxis": {
            "backgroundcolor": "rgb(237,237,237)",
            "gridcolor": "white",
            "gridwidth": 2,
            "linecolor": "white",
            "showbackground": true,
            "showgrid": true,
            "tickcolor": "rgb(51,51,51)",
            "ticks": "outside",
            "zerolinecolor": "white"
           },
           "yaxis": {
            "backgroundcolor": "rgb(237,237,237)",
            "gridcolor": "white",
            "gridwidth": 2,
            "linecolor": "white",
            "showbackground": true,
            "showgrid": true,
            "tickcolor": "rgb(51,51,51)",
            "ticks": "outside",
            "zerolinecolor": "white"
           },
           "zaxis": {
            "backgroundcolor": "rgb(237,237,237)",
            "gridcolor": "white",
            "gridwidth": 2,
            "linecolor": "white",
            "showbackground": true,
            "showgrid": true,
            "tickcolor": "rgb(51,51,51)",
            "ticks": "outside",
            "zerolinecolor": "white"
           }
          },
          "shapedefaults": {
           "fillcolor": "black",
           "line": {
            "width": 0
           },
           "opacity": 0.3
          },
          "ternary": {
           "aaxis": {
            "gridcolor": "white",
            "linecolor": "white",
            "showgrid": true,
            "tickcolor": "rgb(51,51,51)",
            "ticks": "outside"
           },
           "baxis": {
            "gridcolor": "white",
            "linecolor": "white",
            "showgrid": true,
            "tickcolor": "rgb(51,51,51)",
            "ticks": "outside"
           },
           "bgcolor": "rgb(237,237,237)",
           "caxis": {
            "gridcolor": "white",
            "linecolor": "white",
            "showgrid": true,
            "tickcolor": "rgb(51,51,51)",
            "ticks": "outside"
           }
          },
          "xaxis": {
           "automargin": true,
           "gridcolor": "white",
           "linecolor": "white",
           "showgrid": true,
           "tickcolor": "rgb(51,51,51)",
           "ticks": "outside",
           "title": {
            "standoff": 15
           },
           "zerolinecolor": "white"
          },
          "yaxis": {
           "automargin": true,
           "gridcolor": "white",
           "linecolor": "white",
           "showgrid": true,
           "tickcolor": "rgb(51,51,51)",
           "ticks": "outside",
           "title": {
            "standoff": 15
           },
           "zerolinecolor": "white"
          }
         }
        },
        "title": {
         "text": "Actual vs. 'Out-of-Sample' Forecast | NET_SALES"
        },
        "xaxis": {
         "title": {
          "text": "Time"
         }
        },
        "yaxis": {
         "title": {
          "text": "Values"
         }
        }
       }
      }
     },
     "metadata": {},
     "output_type": "display_data"
    },
    {
     "name": "stderr",
     "output_type": "stream",
     "text": [
      " 21%|██▏       | 3/14 [00:45<02:41, 14.65s/it]"
     ]
    },
    {
     "data": {
      "text/html": [
       "<style type=\"text/css\">\n",
       "#T_e92a5_row25_col1, #T_e92a5_row31_col1 {\n",
       "  background-color: lightgreen;\n",
       "}\n",
       "</style>\n",
       "<table id=\"T_e92a5\">\n",
       "  <thead>\n",
       "    <tr>\n",
       "      <th class=\"blank level0\" >&nbsp;</th>\n",
       "      <th id=\"T_e92a5_level0_col0\" class=\"col_heading level0 col0\" >Description</th>\n",
       "      <th id=\"T_e92a5_level0_col1\" class=\"col_heading level0 col1\" >Value</th>\n",
       "    </tr>\n",
       "  </thead>\n",
       "  <tbody>\n",
       "    <tr>\n",
       "      <th id=\"T_e92a5_level0_row0\" class=\"row_heading level0 row0\" >0</th>\n",
       "      <td id=\"T_e92a5_row0_col0\" class=\"data row0 col0\" >session_id</td>\n",
       "      <td id=\"T_e92a5_row0_col1\" class=\"data row0 col1\" >123</td>\n",
       "    </tr>\n",
       "    <tr>\n",
       "      <th id=\"T_e92a5_level0_row1\" class=\"row_heading level0 row1\" >1</th>\n",
       "      <td id=\"T_e92a5_row1_col0\" class=\"data row1 col0\" >Target</td>\n",
       "      <td id=\"T_e92a5_row1_col1\" class=\"data row1 col1\" >NET_SALES</td>\n",
       "    </tr>\n",
       "    <tr>\n",
       "      <th id=\"T_e92a5_level0_row2\" class=\"row_heading level0 row2\" >2</th>\n",
       "      <td id=\"T_e92a5_row2_col0\" class=\"data row2 col0\" >Approach</td>\n",
       "      <td id=\"T_e92a5_row2_col1\" class=\"data row2 col1\" >Univariate</td>\n",
       "    </tr>\n",
       "    <tr>\n",
       "      <th id=\"T_e92a5_level0_row3\" class=\"row_heading level0 row3\" >3</th>\n",
       "      <td id=\"T_e92a5_row3_col0\" class=\"data row3 col0\" >Exogenous Variables</td>\n",
       "      <td id=\"T_e92a5_row3_col1\" class=\"data row3 col1\" >Not Present</td>\n",
       "    </tr>\n",
       "    <tr>\n",
       "      <th id=\"T_e92a5_level0_row4\" class=\"row_heading level0 row4\" >4</th>\n",
       "      <td id=\"T_e92a5_row4_col0\" class=\"data row4 col0\" >Original data shape</td>\n",
       "      <td id=\"T_e92a5_row4_col1\" class=\"data row4 col1\" >(84, 1)</td>\n",
       "    </tr>\n",
       "    <tr>\n",
       "      <th id=\"T_e92a5_level0_row5\" class=\"row_heading level0 row5\" >5</th>\n",
       "      <td id=\"T_e92a5_row5_col0\" class=\"data row5 col0\" >Transformed data shape</td>\n",
       "      <td id=\"T_e92a5_row5_col1\" class=\"data row5 col1\" >(84, 1)</td>\n",
       "    </tr>\n",
       "    <tr>\n",
       "      <th id=\"T_e92a5_level0_row6\" class=\"row_heading level0 row6\" >6</th>\n",
       "      <td id=\"T_e92a5_row6_col0\" class=\"data row6 col0\" >Transformed train set shape</td>\n",
       "      <td id=\"T_e92a5_row6_col1\" class=\"data row6 col1\" >(83, 1)</td>\n",
       "    </tr>\n",
       "    <tr>\n",
       "      <th id=\"T_e92a5_level0_row7\" class=\"row_heading level0 row7\" >7</th>\n",
       "      <td id=\"T_e92a5_row7_col0\" class=\"data row7 col0\" >Transformed test set shape</td>\n",
       "      <td id=\"T_e92a5_row7_col1\" class=\"data row7 col1\" >(1, 1)</td>\n",
       "    </tr>\n",
       "    <tr>\n",
       "      <th id=\"T_e92a5_level0_row8\" class=\"row_heading level0 row8\" >8</th>\n",
       "      <td id=\"T_e92a5_row8_col0\" class=\"data row8 col0\" >Rows with missing values</td>\n",
       "      <td id=\"T_e92a5_row8_col1\" class=\"data row8 col1\" >0.0%</td>\n",
       "    </tr>\n",
       "    <tr>\n",
       "      <th id=\"T_e92a5_level0_row9\" class=\"row_heading level0 row9\" >9</th>\n",
       "      <td id=\"T_e92a5_row9_col0\" class=\"data row9 col0\" >Fold Generator</td>\n",
       "      <td id=\"T_e92a5_row9_col1\" class=\"data row9 col1\" >ExpandingWindowSplitter</td>\n",
       "    </tr>\n",
       "    <tr>\n",
       "      <th id=\"T_e92a5_level0_row10\" class=\"row_heading level0 row10\" >10</th>\n",
       "      <td id=\"T_e92a5_row10_col0\" class=\"data row10 col0\" >Fold Number</td>\n",
       "      <td id=\"T_e92a5_row10_col1\" class=\"data row10 col1\" >3</td>\n",
       "    </tr>\n",
       "    <tr>\n",
       "      <th id=\"T_e92a5_level0_row11\" class=\"row_heading level0 row11\" >11</th>\n",
       "      <td id=\"T_e92a5_row11_col0\" class=\"data row11 col0\" >Enforce Prediction Interval</td>\n",
       "      <td id=\"T_e92a5_row11_col1\" class=\"data row11 col1\" >False</td>\n",
       "    </tr>\n",
       "    <tr>\n",
       "      <th id=\"T_e92a5_level0_row12\" class=\"row_heading level0 row12\" >12</th>\n",
       "      <td id=\"T_e92a5_row12_col0\" class=\"data row12 col0\" >Splits used for hyperparameters</td>\n",
       "      <td id=\"T_e92a5_row12_col1\" class=\"data row12 col1\" >all</td>\n",
       "    </tr>\n",
       "    <tr>\n",
       "      <th id=\"T_e92a5_level0_row13\" class=\"row_heading level0 row13\" >13</th>\n",
       "      <td id=\"T_e92a5_row13_col0\" class=\"data row13 col0\" >User Defined Seasonal Period(s)</td>\n",
       "      <td id=\"T_e92a5_row13_col1\" class=\"data row13 col1\" >None</td>\n",
       "    </tr>\n",
       "    <tr>\n",
       "      <th id=\"T_e92a5_level0_row14\" class=\"row_heading level0 row14\" >14</th>\n",
       "      <td id=\"T_e92a5_row14_col0\" class=\"data row14 col0\" >Ignore Seasonality Test</td>\n",
       "      <td id=\"T_e92a5_row14_col1\" class=\"data row14 col1\" >False</td>\n",
       "    </tr>\n",
       "    <tr>\n",
       "      <th id=\"T_e92a5_level0_row15\" class=\"row_heading level0 row15\" >15</th>\n",
       "      <td id=\"T_e92a5_row15_col0\" class=\"data row15 col0\" >Seasonality Detection Algo</td>\n",
       "      <td id=\"T_e92a5_row15_col1\" class=\"data row15 col1\" >auto</td>\n",
       "    </tr>\n",
       "    <tr>\n",
       "      <th id=\"T_e92a5_level0_row16\" class=\"row_heading level0 row16\" >16</th>\n",
       "      <td id=\"T_e92a5_row16_col0\" class=\"data row16 col0\" >Max Period to Consider</td>\n",
       "      <td id=\"T_e92a5_row16_col1\" class=\"data row16 col1\" >60</td>\n",
       "    </tr>\n",
       "    <tr>\n",
       "      <th id=\"T_e92a5_level0_row17\" class=\"row_heading level0 row17\" >17</th>\n",
       "      <td id=\"T_e92a5_row17_col0\" class=\"data row17 col0\" >Seasonal Period(s) Tested</td>\n",
       "      <td id=\"T_e92a5_row17_col1\" class=\"data row17 col1\" >[12, 5]</td>\n",
       "    </tr>\n",
       "    <tr>\n",
       "      <th id=\"T_e92a5_level0_row18\" class=\"row_heading level0 row18\" >18</th>\n",
       "      <td id=\"T_e92a5_row18_col0\" class=\"data row18 col0\" >Significant Seasonal Period(s)</td>\n",
       "      <td id=\"T_e92a5_row18_col1\" class=\"data row18 col1\" >[12, 5]</td>\n",
       "    </tr>\n",
       "    <tr>\n",
       "      <th id=\"T_e92a5_level0_row19\" class=\"row_heading level0 row19\" >19</th>\n",
       "      <td id=\"T_e92a5_row19_col0\" class=\"data row19 col0\" >Significant Seasonal Period(s) without Harmonics</td>\n",
       "      <td id=\"T_e92a5_row19_col1\" class=\"data row19 col1\" >[12, 5]</td>\n",
       "    </tr>\n",
       "    <tr>\n",
       "      <th id=\"T_e92a5_level0_row20\" class=\"row_heading level0 row20\" >20</th>\n",
       "      <td id=\"T_e92a5_row20_col0\" class=\"data row20 col0\" >Remove Harmonics</td>\n",
       "      <td id=\"T_e92a5_row20_col1\" class=\"data row20 col1\" >False</td>\n",
       "    </tr>\n",
       "    <tr>\n",
       "      <th id=\"T_e92a5_level0_row21\" class=\"row_heading level0 row21\" >21</th>\n",
       "      <td id=\"T_e92a5_row21_col0\" class=\"data row21 col0\" >Harmonics Order Method</td>\n",
       "      <td id=\"T_e92a5_row21_col1\" class=\"data row21 col1\" >harmonic_max</td>\n",
       "    </tr>\n",
       "    <tr>\n",
       "      <th id=\"T_e92a5_level0_row22\" class=\"row_heading level0 row22\" >22</th>\n",
       "      <td id=\"T_e92a5_row22_col0\" class=\"data row22 col0\" >Num Seasonalities to Use</td>\n",
       "      <td id=\"T_e92a5_row22_col1\" class=\"data row22 col1\" >1</td>\n",
       "    </tr>\n",
       "    <tr>\n",
       "      <th id=\"T_e92a5_level0_row23\" class=\"row_heading level0 row23\" >23</th>\n",
       "      <td id=\"T_e92a5_row23_col0\" class=\"data row23 col0\" >All Seasonalities to Use</td>\n",
       "      <td id=\"T_e92a5_row23_col1\" class=\"data row23 col1\" >[12]</td>\n",
       "    </tr>\n",
       "    <tr>\n",
       "      <th id=\"T_e92a5_level0_row24\" class=\"row_heading level0 row24\" >24</th>\n",
       "      <td id=\"T_e92a5_row24_col0\" class=\"data row24 col0\" >Primary Seasonality</td>\n",
       "      <td id=\"T_e92a5_row24_col1\" class=\"data row24 col1\" >12</td>\n",
       "    </tr>\n",
       "    <tr>\n",
       "      <th id=\"T_e92a5_level0_row25\" class=\"row_heading level0 row25\" >25</th>\n",
       "      <td id=\"T_e92a5_row25_col0\" class=\"data row25 col0\" >Seasonality Present</td>\n",
       "      <td id=\"T_e92a5_row25_col1\" class=\"data row25 col1\" >True</td>\n",
       "    </tr>\n",
       "    <tr>\n",
       "      <th id=\"T_e92a5_level0_row26\" class=\"row_heading level0 row26\" >26</th>\n",
       "      <td id=\"T_e92a5_row26_col0\" class=\"data row26 col0\" >Seasonality Type</td>\n",
       "      <td id=\"T_e92a5_row26_col1\" class=\"data row26 col1\" >mul</td>\n",
       "    </tr>\n",
       "    <tr>\n",
       "      <th id=\"T_e92a5_level0_row27\" class=\"row_heading level0 row27\" >27</th>\n",
       "      <td id=\"T_e92a5_row27_col0\" class=\"data row27 col0\" >Target Strictly Positive</td>\n",
       "      <td id=\"T_e92a5_row27_col1\" class=\"data row27 col1\" >True</td>\n",
       "    </tr>\n",
       "    <tr>\n",
       "      <th id=\"T_e92a5_level0_row28\" class=\"row_heading level0 row28\" >28</th>\n",
       "      <td id=\"T_e92a5_row28_col0\" class=\"data row28 col0\" >Target White Noise</td>\n",
       "      <td id=\"T_e92a5_row28_col1\" class=\"data row28 col1\" >No</td>\n",
       "    </tr>\n",
       "    <tr>\n",
       "      <th id=\"T_e92a5_level0_row29\" class=\"row_heading level0 row29\" >29</th>\n",
       "      <td id=\"T_e92a5_row29_col0\" class=\"data row29 col0\" >Recommended d</td>\n",
       "      <td id=\"T_e92a5_row29_col1\" class=\"data row29 col1\" >1</td>\n",
       "    </tr>\n",
       "    <tr>\n",
       "      <th id=\"T_e92a5_level0_row30\" class=\"row_heading level0 row30\" >30</th>\n",
       "      <td id=\"T_e92a5_row30_col0\" class=\"data row30 col0\" >Recommended Seasonal D</td>\n",
       "      <td id=\"T_e92a5_row30_col1\" class=\"data row30 col1\" >0</td>\n",
       "    </tr>\n",
       "    <tr>\n",
       "      <th id=\"T_e92a5_level0_row31\" class=\"row_heading level0 row31\" >31</th>\n",
       "      <td id=\"T_e92a5_row31_col0\" class=\"data row31 col0\" >Preprocess</td>\n",
       "      <td id=\"T_e92a5_row31_col1\" class=\"data row31 col1\" >True</td>\n",
       "    </tr>\n",
       "    <tr>\n",
       "      <th id=\"T_e92a5_level0_row32\" class=\"row_heading level0 row32\" >32</th>\n",
       "      <td id=\"T_e92a5_row32_col0\" class=\"data row32 col0\" >Numerical Imputation (Target)</td>\n",
       "      <td id=\"T_e92a5_row32_col1\" class=\"data row32 col1\" >mean</td>\n",
       "    </tr>\n",
       "    <tr>\n",
       "      <th id=\"T_e92a5_level0_row33\" class=\"row_heading level0 row33\" >33</th>\n",
       "      <td id=\"T_e92a5_row33_col0\" class=\"data row33 col0\" >Transformation (Target)</td>\n",
       "      <td id=\"T_e92a5_row33_col1\" class=\"data row33 col1\" >None</td>\n",
       "    </tr>\n",
       "    <tr>\n",
       "      <th id=\"T_e92a5_level0_row34\" class=\"row_heading level0 row34\" >34</th>\n",
       "      <td id=\"T_e92a5_row34_col0\" class=\"data row34 col0\" >Scaling (Target)</td>\n",
       "      <td id=\"T_e92a5_row34_col1\" class=\"data row34 col1\" >None</td>\n",
       "    </tr>\n",
       "    <tr>\n",
       "      <th id=\"T_e92a5_level0_row35\" class=\"row_heading level0 row35\" >35</th>\n",
       "      <td id=\"T_e92a5_row35_col0\" class=\"data row35 col0\" >Feature Engineering (Target) - Reduced Regression</td>\n",
       "      <td id=\"T_e92a5_row35_col1\" class=\"data row35 col1\" >False</td>\n",
       "    </tr>\n",
       "    <tr>\n",
       "      <th id=\"T_e92a5_level0_row36\" class=\"row_heading level0 row36\" >36</th>\n",
       "      <td id=\"T_e92a5_row36_col0\" class=\"data row36 col0\" >CPU Jobs</td>\n",
       "      <td id=\"T_e92a5_row36_col1\" class=\"data row36 col1\" >-1</td>\n",
       "    </tr>\n",
       "    <tr>\n",
       "      <th id=\"T_e92a5_level0_row37\" class=\"row_heading level0 row37\" >37</th>\n",
       "      <td id=\"T_e92a5_row37_col0\" class=\"data row37 col0\" >Use GPU</td>\n",
       "      <td id=\"T_e92a5_row37_col1\" class=\"data row37 col1\" >False</td>\n",
       "    </tr>\n",
       "    <tr>\n",
       "      <th id=\"T_e92a5_level0_row38\" class=\"row_heading level0 row38\" >38</th>\n",
       "      <td id=\"T_e92a5_row38_col0\" class=\"data row38 col0\" >Log Experiment</td>\n",
       "      <td id=\"T_e92a5_row38_col1\" class=\"data row38 col1\" >False</td>\n",
       "    </tr>\n",
       "    <tr>\n",
       "      <th id=\"T_e92a5_level0_row39\" class=\"row_heading level0 row39\" >39</th>\n",
       "      <td id=\"T_e92a5_row39_col0\" class=\"data row39 col0\" >Experiment Name</td>\n",
       "      <td id=\"T_e92a5_row39_col1\" class=\"data row39 col1\" >ts-default-name</td>\n",
       "    </tr>\n",
       "    <tr>\n",
       "      <th id=\"T_e92a5_level0_row40\" class=\"row_heading level0 row40\" >40</th>\n",
       "      <td id=\"T_e92a5_row40_col0\" class=\"data row40 col0\" >USI</td>\n",
       "      <td id=\"T_e92a5_row40_col1\" class=\"data row40 col1\" >b727</td>\n",
       "    </tr>\n",
       "  </tbody>\n",
       "</table>\n"
      ],
      "text/plain": [
       "<pandas.io.formats.style.Styler at 0x224cfa3c9a0>"
      ]
     },
     "metadata": {},
     "output_type": "display_data"
    },
    {
     "data": {
      "text/html": [],
      "text/plain": [
       "<IPython.core.display.HTML object>"
      ]
     },
     "metadata": {},
     "output_type": "display_data"
    },
    {
     "data": {
      "text/html": [
       "<style type=\"text/css\">\n",
       "#T_4bca1 th {\n",
       "  text-align: left;\n",
       "}\n",
       "#T_4bca1_row0_col0, #T_4bca1_row0_col6, #T_4bca1_row1_col0, #T_4bca1_row1_col1, #T_4bca1_row1_col2, #T_4bca1_row1_col3, #T_4bca1_row1_col4, #T_4bca1_row1_col5, #T_4bca1_row2_col0, #T_4bca1_row2_col1, #T_4bca1_row2_col2, #T_4bca1_row2_col3, #T_4bca1_row2_col4, #T_4bca1_row2_col5, #T_4bca1_row2_col6, #T_4bca1_row3_col0, #T_4bca1_row3_col1, #T_4bca1_row3_col2, #T_4bca1_row3_col3, #T_4bca1_row3_col4, #T_4bca1_row3_col5, #T_4bca1_row3_col6, #T_4bca1_row4_col0, #T_4bca1_row4_col1, #T_4bca1_row4_col2, #T_4bca1_row4_col3, #T_4bca1_row4_col4, #T_4bca1_row4_col5, #T_4bca1_row4_col6, #T_4bca1_row5_col0, #T_4bca1_row5_col1, #T_4bca1_row5_col2, #T_4bca1_row5_col3, #T_4bca1_row5_col4, #T_4bca1_row5_col5, #T_4bca1_row5_col6, #T_4bca1_row6_col0, #T_4bca1_row6_col1, #T_4bca1_row6_col2, #T_4bca1_row6_col3, #T_4bca1_row6_col4, #T_4bca1_row6_col5, #T_4bca1_row6_col6, #T_4bca1_row7_col0, #T_4bca1_row7_col1, #T_4bca1_row7_col2, #T_4bca1_row7_col3, #T_4bca1_row7_col4, #T_4bca1_row7_col5, #T_4bca1_row7_col6, #T_4bca1_row8_col0, #T_4bca1_row8_col1, #T_4bca1_row8_col2, #T_4bca1_row8_col3, #T_4bca1_row8_col4, #T_4bca1_row8_col5, #T_4bca1_row8_col6, #T_4bca1_row9_col0, #T_4bca1_row9_col1, #T_4bca1_row9_col2, #T_4bca1_row9_col3, #T_4bca1_row9_col4, #T_4bca1_row9_col5, #T_4bca1_row9_col6, #T_4bca1_row10_col0, #T_4bca1_row10_col1, #T_4bca1_row10_col2, #T_4bca1_row10_col3, #T_4bca1_row10_col4, #T_4bca1_row10_col5, #T_4bca1_row10_col6, #T_4bca1_row11_col0, #T_4bca1_row11_col1, #T_4bca1_row11_col2, #T_4bca1_row11_col3, #T_4bca1_row11_col4, #T_4bca1_row11_col5, #T_4bca1_row11_col6, #T_4bca1_row12_col0, #T_4bca1_row12_col1, #T_4bca1_row12_col2, #T_4bca1_row12_col3, #T_4bca1_row12_col4, #T_4bca1_row12_col5, #T_4bca1_row12_col6, #T_4bca1_row13_col0, #T_4bca1_row13_col1, #T_4bca1_row13_col2, #T_4bca1_row13_col3, #T_4bca1_row13_col4, #T_4bca1_row13_col5, #T_4bca1_row13_col6, #T_4bca1_row14_col0, #T_4bca1_row14_col1, #T_4bca1_row14_col2, #T_4bca1_row14_col3, #T_4bca1_row14_col4, #T_4bca1_row14_col5, #T_4bca1_row14_col6, #T_4bca1_row15_col0, #T_4bca1_row15_col1, #T_4bca1_row15_col2, #T_4bca1_row15_col3, #T_4bca1_row15_col4, #T_4bca1_row15_col5, #T_4bca1_row15_col6, #T_4bca1_row16_col0, #T_4bca1_row16_col1, #T_4bca1_row16_col2, #T_4bca1_row16_col3, #T_4bca1_row16_col4, #T_4bca1_row16_col5, #T_4bca1_row16_col6, #T_4bca1_row17_col0, #T_4bca1_row17_col1, #T_4bca1_row17_col2, #T_4bca1_row17_col3, #T_4bca1_row17_col4, #T_4bca1_row17_col5, #T_4bca1_row17_col6, #T_4bca1_row18_col0, #T_4bca1_row18_col1, #T_4bca1_row18_col2, #T_4bca1_row18_col3, #T_4bca1_row18_col4, #T_4bca1_row18_col5, #T_4bca1_row18_col6, #T_4bca1_row19_col0, #T_4bca1_row19_col1, #T_4bca1_row19_col2, #T_4bca1_row19_col3, #T_4bca1_row19_col4, #T_4bca1_row19_col5, #T_4bca1_row19_col6, #T_4bca1_row20_col0, #T_4bca1_row20_col1, #T_4bca1_row20_col2, #T_4bca1_row20_col3, #T_4bca1_row20_col4, #T_4bca1_row20_col5, #T_4bca1_row20_col6, #T_4bca1_row21_col0, #T_4bca1_row21_col1, #T_4bca1_row21_col2, #T_4bca1_row21_col3, #T_4bca1_row21_col4, #T_4bca1_row21_col5, #T_4bca1_row21_col6, #T_4bca1_row22_col0, #T_4bca1_row22_col1, #T_4bca1_row22_col2, #T_4bca1_row22_col3, #T_4bca1_row22_col4, #T_4bca1_row22_col5, #T_4bca1_row22_col6 {\n",
       "  text-align: left;\n",
       "}\n",
       "#T_4bca1_row0_col1, #T_4bca1_row0_col2, #T_4bca1_row0_col3, #T_4bca1_row0_col4, #T_4bca1_row0_col5, #T_4bca1_row1_col6 {\n",
       "  text-align: left;\n",
       "  background-color: yellow;\n",
       "}\n",
       "#T_4bca1_row0_col7, #T_4bca1_row1_col7, #T_4bca1_row2_col7, #T_4bca1_row3_col7, #T_4bca1_row4_col7, #T_4bca1_row5_col7, #T_4bca1_row6_col7, #T_4bca1_row7_col7, #T_4bca1_row8_col7, #T_4bca1_row9_col7, #T_4bca1_row10_col7, #T_4bca1_row11_col7, #T_4bca1_row12_col7, #T_4bca1_row13_col7, #T_4bca1_row14_col7, #T_4bca1_row15_col7, #T_4bca1_row16_col7, #T_4bca1_row17_col7, #T_4bca1_row18_col7, #T_4bca1_row19_col7, #T_4bca1_row20_col7, #T_4bca1_row21_col7 {\n",
       "  text-align: left;\n",
       "  background-color: lightgrey;\n",
       "}\n",
       "#T_4bca1_row22_col7 {\n",
       "  text-align: left;\n",
       "  background-color: yellow;\n",
       "  background-color: lightgrey;\n",
       "}\n",
       "</style>\n",
       "<table id=\"T_4bca1\">\n",
       "  <thead>\n",
       "    <tr>\n",
       "      <th class=\"blank level0\" >&nbsp;</th>\n",
       "      <th id=\"T_4bca1_level0_col0\" class=\"col_heading level0 col0\" >Model</th>\n",
       "      <th id=\"T_4bca1_level0_col1\" class=\"col_heading level0 col1\" >MASE</th>\n",
       "      <th id=\"T_4bca1_level0_col2\" class=\"col_heading level0 col2\" >RMSSE</th>\n",
       "      <th id=\"T_4bca1_level0_col3\" class=\"col_heading level0 col3\" >MAE</th>\n",
       "      <th id=\"T_4bca1_level0_col4\" class=\"col_heading level0 col4\" >RMSE</th>\n",
       "      <th id=\"T_4bca1_level0_col5\" class=\"col_heading level0 col5\" >MAPE</th>\n",
       "      <th id=\"T_4bca1_level0_col6\" class=\"col_heading level0 col6\" >SMAPE</th>\n",
       "      <th id=\"T_4bca1_level0_col7\" class=\"col_heading level0 col7\" >TT (Sec)</th>\n",
       "    </tr>\n",
       "  </thead>\n",
       "  <tbody>\n",
       "    <tr>\n",
       "      <th id=\"T_4bca1_level0_row0\" class=\"row_heading level0 row0\" >stlf</th>\n",
       "      <td id=\"T_4bca1_row0_col0\" class=\"data row0 col0\" >STLF</td>\n",
       "      <td id=\"T_4bca1_row0_col1\" class=\"data row0 col1\" >0.6690</td>\n",
       "      <td id=\"T_4bca1_row0_col2\" class=\"data row0 col2\" >0.4690</td>\n",
       "      <td id=\"T_4bca1_row0_col3\" class=\"data row0 col3\" >93471.8975</td>\n",
       "      <td id=\"T_4bca1_row0_col4\" class=\"data row0 col4\" >93471.8975</td>\n",
       "      <td id=\"T_4bca1_row0_col5\" class=\"data row0 col5\" >0.2873</td>\n",
       "      <td id=\"T_4bca1_row0_col6\" class=\"data row0 col6\" >0.3675</td>\n",
       "      <td id=\"T_4bca1_row0_col7\" class=\"data row0 col7\" >0.0300</td>\n",
       "    </tr>\n",
       "    <tr>\n",
       "      <th id=\"T_4bca1_level0_row1\" class=\"row_heading level0 row1\" >arima</th>\n",
       "      <td id=\"T_4bca1_row1_col0\" class=\"data row1 col0\" >ARIMA</td>\n",
       "      <td id=\"T_4bca1_row1_col1\" class=\"data row1 col1\" >0.7899</td>\n",
       "      <td id=\"T_4bca1_row1_col2\" class=\"data row1 col2\" >0.5500</td>\n",
       "      <td id=\"T_4bca1_row1_col3\" class=\"data row1 col3\" >109104.3894</td>\n",
       "      <td id=\"T_4bca1_row1_col4\" class=\"data row1 col4\" >109104.3894</td>\n",
       "      <td id=\"T_4bca1_row1_col5\" class=\"data row1 col5\" >0.3140</td>\n",
       "      <td id=\"T_4bca1_row1_col6\" class=\"data row1 col6\" >0.2832</td>\n",
       "      <td id=\"T_4bca1_row1_col7\" class=\"data row1 col7\" >0.0400</td>\n",
       "    </tr>\n",
       "    <tr>\n",
       "      <th id=\"T_4bca1_level0_row2\" class=\"row_heading level0 row2\" >auto_arima</th>\n",
       "      <td id=\"T_4bca1_row2_col0\" class=\"data row2 col0\" >Auto ARIMA</td>\n",
       "      <td id=\"T_4bca1_row2_col1\" class=\"data row2 col1\" >0.7594</td>\n",
       "      <td id=\"T_4bca1_row2_col2\" class=\"data row2 col2\" >0.5321</td>\n",
       "      <td id=\"T_4bca1_row2_col3\" class=\"data row2 col3\" >106103.3138</td>\n",
       "      <td id=\"T_4bca1_row2_col4\" class=\"data row2 col4\" >106103.3138</td>\n",
       "      <td id=\"T_4bca1_row2_col5\" class=\"data row2 col5\" >0.4289</td>\n",
       "      <td id=\"T_4bca1_row2_col6\" class=\"data row2 col6\" >0.4172</td>\n",
       "      <td id=\"T_4bca1_row2_col7\" class=\"data row2 col7\" >0.9800</td>\n",
       "    </tr>\n",
       "    <tr>\n",
       "      <th id=\"T_4bca1_level0_row3\" class=\"row_heading level0 row3\" >lr_cds_dt</th>\n",
       "      <td id=\"T_4bca1_row3_col0\" class=\"data row3 col0\" >Linear w/ Cond. Deseasonalize & Detrending</td>\n",
       "      <td id=\"T_4bca1_row3_col1\" class=\"data row3 col1\" >0.8905</td>\n",
       "      <td id=\"T_4bca1_row3_col2\" class=\"data row3 col2\" >0.6219</td>\n",
       "      <td id=\"T_4bca1_row3_col3\" class=\"data row3 col3\" >123731.8909</td>\n",
       "      <td id=\"T_4bca1_row3_col4\" class=\"data row3 col4\" >123731.8909</td>\n",
       "      <td id=\"T_4bca1_row3_col5\" class=\"data row3 col5\" >0.4908</td>\n",
       "      <td id=\"T_4bca1_row3_col6\" class=\"data row3 col6\" >0.4715</td>\n",
       "      <td id=\"T_4bca1_row3_col7\" class=\"data row3 col7\" >0.0500</td>\n",
       "    </tr>\n",
       "    <tr>\n",
       "      <th id=\"T_4bca1_level0_row4\" class=\"row_heading level0 row4\" >en_cds_dt</th>\n",
       "      <td id=\"T_4bca1_row4_col0\" class=\"data row4 col0\" >Elastic Net w/ Cond. Deseasonalize & Detrending</td>\n",
       "      <td id=\"T_4bca1_row4_col1\" class=\"data row4 col1\" >0.8905</td>\n",
       "      <td id=\"T_4bca1_row4_col2\" class=\"data row4 col2\" >0.6219</td>\n",
       "      <td id=\"T_4bca1_row4_col3\" class=\"data row4 col3\" >123731.8909</td>\n",
       "      <td id=\"T_4bca1_row4_col4\" class=\"data row4 col4\" >123731.8909</td>\n",
       "      <td id=\"T_4bca1_row4_col5\" class=\"data row4 col5\" >0.4908</td>\n",
       "      <td id=\"T_4bca1_row4_col6\" class=\"data row4 col6\" >0.4715</td>\n",
       "      <td id=\"T_4bca1_row4_col7\" class=\"data row4 col7\" >0.0400</td>\n",
       "    </tr>\n",
       "    <tr>\n",
       "      <th id=\"T_4bca1_level0_row5\" class=\"row_heading level0 row5\" >ridge_cds_dt</th>\n",
       "      <td id=\"T_4bca1_row5_col0\" class=\"data row5 col0\" >Ridge w/ Cond. Deseasonalize & Detrending</td>\n",
       "      <td id=\"T_4bca1_row5_col1\" class=\"data row5 col1\" >0.8905</td>\n",
       "      <td id=\"T_4bca1_row5_col2\" class=\"data row5 col2\" >0.6219</td>\n",
       "      <td id=\"T_4bca1_row5_col3\" class=\"data row5 col3\" >123731.8909</td>\n",
       "      <td id=\"T_4bca1_row5_col4\" class=\"data row5 col4\" >123731.8909</td>\n",
       "      <td id=\"T_4bca1_row5_col5\" class=\"data row5 col5\" >0.4908</td>\n",
       "      <td id=\"T_4bca1_row5_col6\" class=\"data row5 col6\" >0.4715</td>\n",
       "      <td id=\"T_4bca1_row5_col7\" class=\"data row5 col7\" >0.0433</td>\n",
       "    </tr>\n",
       "    <tr>\n",
       "      <th id=\"T_4bca1_level0_row6\" class=\"row_heading level0 row6\" >lasso_cds_dt</th>\n",
       "      <td id=\"T_4bca1_row6_col0\" class=\"data row6 col0\" >Lasso w/ Cond. Deseasonalize & Detrending</td>\n",
       "      <td id=\"T_4bca1_row6_col1\" class=\"data row6 col1\" >0.8905</td>\n",
       "      <td id=\"T_4bca1_row6_col2\" class=\"data row6 col2\" >0.6219</td>\n",
       "      <td id=\"T_4bca1_row6_col3\" class=\"data row6 col3\" >123731.8909</td>\n",
       "      <td id=\"T_4bca1_row6_col4\" class=\"data row6 col4\" >123731.8909</td>\n",
       "      <td id=\"T_4bca1_row6_col5\" class=\"data row6 col5\" >0.4908</td>\n",
       "      <td id=\"T_4bca1_row6_col6\" class=\"data row6 col6\" >0.4715</td>\n",
       "      <td id=\"T_4bca1_row6_col7\" class=\"data row6 col7\" >0.0400</td>\n",
       "    </tr>\n",
       "    <tr>\n",
       "      <th id=\"T_4bca1_level0_row7\" class=\"row_heading level0 row7\" >llar_cds_dt</th>\n",
       "      <td id=\"T_4bca1_row7_col0\" class=\"data row7 col0\" >Lasso Least Angular Regressor w/ Cond. Deseasonalize & Detrending</td>\n",
       "      <td id=\"T_4bca1_row7_col1\" class=\"data row7 col1\" >0.8905</td>\n",
       "      <td id=\"T_4bca1_row7_col2\" class=\"data row7 col2\" >0.6219</td>\n",
       "      <td id=\"T_4bca1_row7_col3\" class=\"data row7 col3\" >123731.8909</td>\n",
       "      <td id=\"T_4bca1_row7_col4\" class=\"data row7 col4\" >123731.8909</td>\n",
       "      <td id=\"T_4bca1_row7_col5\" class=\"data row7 col5\" >0.4908</td>\n",
       "      <td id=\"T_4bca1_row7_col6\" class=\"data row7 col6\" >0.4715</td>\n",
       "      <td id=\"T_4bca1_row7_col7\" class=\"data row7 col7\" >0.0400</td>\n",
       "    </tr>\n",
       "    <tr>\n",
       "      <th id=\"T_4bca1_level0_row8\" class=\"row_heading level0 row8\" >lightgbm_cds_dt</th>\n",
       "      <td id=\"T_4bca1_row8_col0\" class=\"data row8 col0\" >Light Gradient Boosting w/ Cond. Deseasonalize & Detrending</td>\n",
       "      <td id=\"T_4bca1_row8_col1\" class=\"data row8 col1\" >0.7856</td>\n",
       "      <td id=\"T_4bca1_row8_col2\" class=\"data row8 col2\" >0.5496</td>\n",
       "      <td id=\"T_4bca1_row8_col3\" class=\"data row8 col3\" >109562.1600</td>\n",
       "      <td id=\"T_4bca1_row8_col4\" class=\"data row8 col4\" >109562.1600</td>\n",
       "      <td id=\"T_4bca1_row8_col5\" class=\"data row8 col5\" >0.5335</td>\n",
       "      <td id=\"T_4bca1_row8_col6\" class=\"data row8 col6\" >0.4308</td>\n",
       "      <td id=\"T_4bca1_row8_col7\" class=\"data row8 col7\" >0.0667</td>\n",
       "    </tr>\n",
       "    <tr>\n",
       "      <th id=\"T_4bca1_level0_row9\" class=\"row_heading level0 row9\" >br_cds_dt</th>\n",
       "      <td id=\"T_4bca1_row9_col0\" class=\"data row9 col0\" >Bayesian Ridge w/ Cond. Deseasonalize & Detrending</td>\n",
       "      <td id=\"T_4bca1_row9_col1\" class=\"data row9 col1\" >0.8200</td>\n",
       "      <td id=\"T_4bca1_row9_col2\" class=\"data row9 col2\" >0.5735</td>\n",
       "      <td id=\"T_4bca1_row9_col3\" class=\"data row9 col3\" >114314.4539</td>\n",
       "      <td id=\"T_4bca1_row9_col4\" class=\"data row9 col4\" >114314.4539</td>\n",
       "      <td id=\"T_4bca1_row9_col5\" class=\"data row9 col5\" >0.5638</td>\n",
       "      <td id=\"T_4bca1_row9_col6\" class=\"data row9 col6\" >0.4471</td>\n",
       "      <td id=\"T_4bca1_row9_col7\" class=\"data row9 col7\" >0.0400</td>\n",
       "    </tr>\n",
       "    <tr>\n",
       "      <th id=\"T_4bca1_level0_row10\" class=\"row_heading level0 row10\" >rf_cds_dt</th>\n",
       "      <td id=\"T_4bca1_row10_col0\" class=\"data row10 col0\" >Random Forest w/ Cond. Deseasonalize & Detrending</td>\n",
       "      <td id=\"T_4bca1_row10_col1\" class=\"data row10 col1\" >0.8553</td>\n",
       "      <td id=\"T_4bca1_row10_col2\" class=\"data row10 col2\" >0.5985</td>\n",
       "      <td id=\"T_4bca1_row10_col3\" class=\"data row10 col3\" >119299.2479</td>\n",
       "      <td id=\"T_4bca1_row10_col4\" class=\"data row10 col4\" >119299.2479</td>\n",
       "      <td id=\"T_4bca1_row10_col5\" class=\"data row10 col5\" >0.5701</td>\n",
       "      <td id=\"T_4bca1_row10_col6\" class=\"data row10 col6\" >0.4653</td>\n",
       "      <td id=\"T_4bca1_row10_col7\" class=\"data row10 col7\" >0.0867</td>\n",
       "    </tr>\n",
       "    <tr>\n",
       "      <th id=\"T_4bca1_level0_row11\" class=\"row_heading level0 row11\" >gbr_cds_dt</th>\n",
       "      <td id=\"T_4bca1_row11_col0\" class=\"data row11 col0\" >Gradient Boosting w/ Cond. Deseasonalize & Detrending</td>\n",
       "      <td id=\"T_4bca1_row11_col1\" class=\"data row11 col1\" >0.8144</td>\n",
       "      <td id=\"T_4bca1_row11_col2\" class=\"data row11 col2\" >0.5704</td>\n",
       "      <td id=\"T_4bca1_row11_col3\" class=\"data row11 col3\" >113816.1886</td>\n",
       "      <td id=\"T_4bca1_row11_col4\" class=\"data row11 col4\" >113816.1886</td>\n",
       "      <td id=\"T_4bca1_row11_col5\" class=\"data row11 col5\" >0.6036</td>\n",
       "      <td id=\"T_4bca1_row11_col6\" class=\"data row11 col6\" >0.4517</td>\n",
       "      <td id=\"T_4bca1_row11_col7\" class=\"data row11 col7\" >0.0567</td>\n",
       "    </tr>\n",
       "    <tr>\n",
       "      <th id=\"T_4bca1_level0_row12\" class=\"row_heading level0 row12\" >ada_cds_dt</th>\n",
       "      <td id=\"T_4bca1_row12_col0\" class=\"data row12 col0\" >AdaBoost w/ Cond. Deseasonalize & Detrending</td>\n",
       "      <td id=\"T_4bca1_row12_col1\" class=\"data row12 col1\" >1.0477</td>\n",
       "      <td id=\"T_4bca1_row12_col2\" class=\"data row12 col2\" >0.7338</td>\n",
       "      <td id=\"T_4bca1_row12_col3\" class=\"data row12 col3\" >146307.2054</td>\n",
       "      <td id=\"T_4bca1_row12_col4\" class=\"data row12 col4\" >146307.2054</td>\n",
       "      <td id=\"T_4bca1_row12_col5\" class=\"data row12 col5\" >0.6188</td>\n",
       "      <td id=\"T_4bca1_row12_col6\" class=\"data row12 col6\" >0.5847</td>\n",
       "      <td id=\"T_4bca1_row12_col7\" class=\"data row12 col7\" >0.0600</td>\n",
       "    </tr>\n",
       "    <tr>\n",
       "      <th id=\"T_4bca1_level0_row13\" class=\"row_heading level0 row13\" >et_cds_dt</th>\n",
       "      <td id=\"T_4bca1_row13_col0\" class=\"data row13 col0\" >Extra Trees w/ Cond. Deseasonalize & Detrending</td>\n",
       "      <td id=\"T_4bca1_row13_col1\" class=\"data row13 col1\" >0.9165</td>\n",
       "      <td id=\"T_4bca1_row13_col2\" class=\"data row13 col2\" >0.6411</td>\n",
       "      <td id=\"T_4bca1_row13_col3\" class=\"data row13 col3\" >127786.6877</td>\n",
       "      <td id=\"T_4bca1_row13_col4\" class=\"data row13 col4\" >127786.6877</td>\n",
       "      <td id=\"T_4bca1_row13_col5\" class=\"data row13 col5\" >0.6479</td>\n",
       "      <td id=\"T_4bca1_row13_col6\" class=\"data row13 col6\" >0.4925</td>\n",
       "      <td id=\"T_4bca1_row13_col7\" class=\"data row13 col7\" >0.0800</td>\n",
       "    </tr>\n",
       "    <tr>\n",
       "      <th id=\"T_4bca1_level0_row14\" class=\"row_heading level0 row14\" >theta</th>\n",
       "      <td id=\"T_4bca1_row14_col0\" class=\"data row14 col0\" >Theta Forecaster</td>\n",
       "      <td id=\"T_4bca1_row14_col1\" class=\"data row14 col1\" >1.1665</td>\n",
       "      <td id=\"T_4bca1_row14_col2\" class=\"data row14 col2\" >0.8158</td>\n",
       "      <td id=\"T_4bca1_row14_col3\" class=\"data row14 col3\" >162475.1186</td>\n",
       "      <td id=\"T_4bca1_row14_col4\" class=\"data row14 col4\" >162475.1186</td>\n",
       "      <td id=\"T_4bca1_row14_col5\" class=\"data row14 col5\" >0.6599</td>\n",
       "      <td id=\"T_4bca1_row14_col6\" class=\"data row14 col6\" >0.6301</td>\n",
       "      <td id=\"T_4bca1_row14_col7\" class=\"data row14 col7\" >0.0233</td>\n",
       "    </tr>\n",
       "    <tr>\n",
       "      <th id=\"T_4bca1_level0_row15\" class=\"row_heading level0 row15\" >ets</th>\n",
       "      <td id=\"T_4bca1_row15_col0\" class=\"data row15 col0\" >ETS</td>\n",
       "      <td id=\"T_4bca1_row15_col1\" class=\"data row15 col1\" >1.2070</td>\n",
       "      <td id=\"T_4bca1_row15_col2\" class=\"data row15 col2\" >0.8446</td>\n",
       "      <td id=\"T_4bca1_row15_col3\" class=\"data row15 col3\" >168242.3554</td>\n",
       "      <td id=\"T_4bca1_row15_col4\" class=\"data row15 col4\" >168242.3554</td>\n",
       "      <td id=\"T_4bca1_row15_col5\" class=\"data row15 col5\" >0.6620</td>\n",
       "      <td id=\"T_4bca1_row15_col6\" class=\"data row15 col6\" >0.6659</td>\n",
       "      <td id=\"T_4bca1_row15_col7\" class=\"data row15 col7\" >0.0400</td>\n",
       "    </tr>\n",
       "    <tr>\n",
       "      <th id=\"T_4bca1_level0_row16\" class=\"row_heading level0 row16\" >knn_cds_dt</th>\n",
       "      <td id=\"T_4bca1_row16_col0\" class=\"data row16 col0\" >K Neighbors w/ Cond. Deseasonalize & Detrending</td>\n",
       "      <td id=\"T_4bca1_row16_col1\" class=\"data row16 col1\" >0.7989</td>\n",
       "      <td id=\"T_4bca1_row16_col2\" class=\"data row16 col2\" >0.5586</td>\n",
       "      <td id=\"T_4bca1_row16_col3\" class=\"data row16 col3\" >111405.2509</td>\n",
       "      <td id=\"T_4bca1_row16_col4\" class=\"data row16 col4\" >111405.2509</td>\n",
       "      <td id=\"T_4bca1_row16_col5\" class=\"data row16 col5\" >0.6765</td>\n",
       "      <td id=\"T_4bca1_row16_col6\" class=\"data row16 col6\" >0.4328</td>\n",
       "      <td id=\"T_4bca1_row16_col7\" class=\"data row16 col7\" >0.0500</td>\n",
       "    </tr>\n",
       "    <tr>\n",
       "      <th id=\"T_4bca1_level0_row17\" class=\"row_heading level0 row17\" >dt_cds_dt</th>\n",
       "      <td id=\"T_4bca1_row17_col0\" class=\"data row17 col0\" >Decision Tree w/ Cond. Deseasonalize & Detrending</td>\n",
       "      <td id=\"T_4bca1_row17_col1\" class=\"data row17 col1\" >0.7473</td>\n",
       "      <td id=\"T_4bca1_row17_col2\" class=\"data row17 col2\" >0.5223</td>\n",
       "      <td id=\"T_4bca1_row17_col3\" class=\"data row17 col3\" >104204.1674</td>\n",
       "      <td id=\"T_4bca1_row17_col4\" class=\"data row17 col4\" >104204.1674</td>\n",
       "      <td id=\"T_4bca1_row17_col5\" class=\"data row17 col5\" >0.7178</td>\n",
       "      <td id=\"T_4bca1_row17_col6\" class=\"data row17 col6\" >0.4142</td>\n",
       "      <td id=\"T_4bca1_row17_col7\" class=\"data row17 col7\" >0.0433</td>\n",
       "    </tr>\n",
       "    <tr>\n",
       "      <th id=\"T_4bca1_level0_row18\" class=\"row_heading level0 row18\" >huber_cds_dt</th>\n",
       "      <td id=\"T_4bca1_row18_col0\" class=\"data row18 col0\" >Huber w/ Cond. Deseasonalize & Detrending</td>\n",
       "      <td id=\"T_4bca1_row18_col1\" class=\"data row18 col1\" >1.1197</td>\n",
       "      <td id=\"T_4bca1_row18_col2\" class=\"data row18 col2\" >0.7818</td>\n",
       "      <td id=\"T_4bca1_row18_col3\" class=\"data row18 col3\" >155621.3514</td>\n",
       "      <td id=\"T_4bca1_row18_col4\" class=\"data row18 col4\" >155621.3514</td>\n",
       "      <td id=\"T_4bca1_row18_col5\" class=\"data row18 col5\" >0.7355</td>\n",
       "      <td id=\"T_4bca1_row18_col6\" class=\"data row18 col6\" >0.5951</td>\n",
       "      <td id=\"T_4bca1_row18_col7\" class=\"data row18 col7\" >0.0567</td>\n",
       "    </tr>\n",
       "    <tr>\n",
       "      <th id=\"T_4bca1_level0_row19\" class=\"row_heading level0 row19\" >exp_smooth</th>\n",
       "      <td id=\"T_4bca1_row19_col0\" class=\"data row19 col0\" >Exponential Smoothing</td>\n",
       "      <td id=\"T_4bca1_row19_col1\" class=\"data row19 col1\" >1.3773</td>\n",
       "      <td id=\"T_4bca1_row19_col2\" class=\"data row19 col2\" >0.9632</td>\n",
       "      <td id=\"T_4bca1_row19_col3\" class=\"data row19 col3\" >191793.9156</td>\n",
       "      <td id=\"T_4bca1_row19_col4\" class=\"data row19 col4\" >191793.9156</td>\n",
       "      <td id=\"T_4bca1_row19_col5\" class=\"data row19 col5\" >0.7679</td>\n",
       "      <td id=\"T_4bca1_row19_col6\" class=\"data row19 col6\" >0.7591</td>\n",
       "      <td id=\"T_4bca1_row19_col7\" class=\"data row19 col7\" >0.0600</td>\n",
       "    </tr>\n",
       "    <tr>\n",
       "      <th id=\"T_4bca1_level0_row20\" class=\"row_heading level0 row20\" >snaive</th>\n",
       "      <td id=\"T_4bca1_row20_col0\" class=\"data row20 col0\" >Seasonal Naive Forecaster</td>\n",
       "      <td id=\"T_4bca1_row20_col1\" class=\"data row20 col1\" >1.1840</td>\n",
       "      <td id=\"T_4bca1_row20_col2\" class=\"data row20 col2\" >0.8235</td>\n",
       "      <td id=\"T_4bca1_row20_col3\" class=\"data row20 col3\" >163505.2406</td>\n",
       "      <td id=\"T_4bca1_row20_col4\" class=\"data row20 col4\" >163505.2406</td>\n",
       "      <td id=\"T_4bca1_row20_col5\" class=\"data row20 col5\" >0.7732</td>\n",
       "      <td id=\"T_4bca1_row20_col6\" class=\"data row20 col6\" >0.4947</td>\n",
       "      <td id=\"T_4bca1_row20_col7\" class=\"data row20 col7\" >0.0433</td>\n",
       "    </tr>\n",
       "    <tr>\n",
       "      <th id=\"T_4bca1_level0_row21\" class=\"row_heading level0 row21\" >omp_cds_dt</th>\n",
       "      <td id=\"T_4bca1_row21_col0\" class=\"data row21 col0\" >Orthogonal Matching Pursuit w/ Cond. Deseasonalize & Detrending</td>\n",
       "      <td id=\"T_4bca1_row21_col1\" class=\"data row21 col1\" >0.9776</td>\n",
       "      <td id=\"T_4bca1_row21_col2\" class=\"data row21 col2\" >0.6842</td>\n",
       "      <td id=\"T_4bca1_row21_col3\" class=\"data row21 col3\" >136559.9994</td>\n",
       "      <td id=\"T_4bca1_row21_col4\" class=\"data row21 col4\" >136559.9994</td>\n",
       "      <td id=\"T_4bca1_row21_col5\" class=\"data row21 col5\" >0.8490</td>\n",
       "      <td id=\"T_4bca1_row21_col6\" class=\"data row21 col6\" >0.5040</td>\n",
       "      <td id=\"T_4bca1_row21_col7\" class=\"data row21 col7\" >0.0400</td>\n",
       "    </tr>\n",
       "    <tr>\n",
       "      <th id=\"T_4bca1_level0_row22\" class=\"row_heading level0 row22\" >polytrend</th>\n",
       "      <td id=\"T_4bca1_row22_col0\" class=\"data row22 col0\" >Polynomial Trend Forecaster</td>\n",
       "      <td id=\"T_4bca1_row22_col1\" class=\"data row22 col1\" >1.3753</td>\n",
       "      <td id=\"T_4bca1_row22_col2\" class=\"data row22 col2\" >0.9595</td>\n",
       "      <td id=\"T_4bca1_row22_col3\" class=\"data row22 col3\" >191272.2611</td>\n",
       "      <td id=\"T_4bca1_row22_col4\" class=\"data row22 col4\" >191272.2611</td>\n",
       "      <td id=\"T_4bca1_row22_col5\" class=\"data row22 col5\" >1.3419</td>\n",
       "      <td id=\"T_4bca1_row22_col6\" class=\"data row22 col6\" >0.5651</td>\n",
       "      <td id=\"T_4bca1_row22_col7\" class=\"data row22 col7\" >0.0167</td>\n",
       "    </tr>\n",
       "  </tbody>\n",
       "</table>\n"
      ],
      "text/plain": [
       "<pandas.io.formats.style.Styler at 0x224c5fca490>"
      ]
     },
     "metadata": {},
     "output_type": "display_data"
    },
    {
     "data": {
      "text/html": [],
      "text/plain": [
       "<IPython.core.display.HTML object>"
      ]
     },
     "metadata": {},
     "output_type": "display_data"
    },
    {
     "data": {
      "application/vnd.plotly.v1+json": {
       "config": {
        "plotlyServerURL": "https://plot.ly"
       },
       "data": [
        {
         "line": {
          "color": "rgb(31, 119, 180)",
          "width": 2
         },
         "marker": {
          "color": "rgb(31, 119, 180)",
          "size": 5
         },
         "mode": "lines+markers",
         "name": "NET_SALES",
         "type": "scattergl",
         "x": [
          "2016-01-01T00:00:00",
          "2016-02-01T00:00:00",
          "2016-03-01T00:00:00",
          "2016-04-01T00:00:00",
          "2016-05-01T00:00:00",
          "2016-06-01T00:00:00",
          "2016-07-01T00:00:00",
          "2016-08-01T00:00:00",
          "2016-09-01T00:00:00",
          "2016-10-01T00:00:00",
          "2016-11-01T00:00:00",
          "2016-12-01T00:00:00",
          "2017-01-01T00:00:00",
          "2017-02-01T00:00:00",
          "2017-03-01T00:00:00",
          "2017-04-01T00:00:00",
          "2017-05-01T00:00:00",
          "2017-06-01T00:00:00",
          "2017-07-01T00:00:00",
          "2017-08-01T00:00:00",
          "2017-09-01T00:00:00",
          "2017-10-01T00:00:00",
          "2017-11-01T00:00:00",
          "2017-12-01T00:00:00",
          "2018-01-01T00:00:00",
          "2018-02-01T00:00:00",
          "2018-03-01T00:00:00",
          "2018-04-01T00:00:00",
          "2018-05-01T00:00:00",
          "2018-06-01T00:00:00",
          "2018-07-01T00:00:00",
          "2018-08-01T00:00:00",
          "2018-09-01T00:00:00",
          "2018-10-01T00:00:00",
          "2018-11-01T00:00:00",
          "2018-12-01T00:00:00",
          "2019-01-01T00:00:00",
          "2019-02-01T00:00:00",
          "2019-03-01T00:00:00",
          "2019-04-01T00:00:00",
          "2019-05-01T00:00:00",
          "2019-06-01T00:00:00",
          "2019-07-01T00:00:00",
          "2019-08-01T00:00:00",
          "2019-09-01T00:00:00",
          "2019-10-01T00:00:00",
          "2019-11-01T00:00:00",
          "2019-12-01T00:00:00",
          "2020-01-01T00:00:00",
          "2020-02-01T00:00:00",
          "2020-03-01T00:00:00",
          "2020-04-01T00:00:00",
          "2020-05-01T00:00:00",
          "2020-06-01T00:00:00",
          "2020-07-01T00:00:00",
          "2020-08-01T00:00:00",
          "2020-09-01T00:00:00",
          "2020-10-01T00:00:00",
          "2020-11-01T00:00:00",
          "2020-12-01T00:00:00",
          "2021-01-01T00:00:00",
          "2021-02-01T00:00:00",
          "2021-03-01T00:00:00",
          "2021-04-01T00:00:00",
          "2021-05-01T00:00:00",
          "2021-06-01T00:00:00",
          "2021-07-01T00:00:00",
          "2021-08-01T00:00:00",
          "2021-09-01T00:00:00",
          "2021-10-01T00:00:00",
          "2021-11-01T00:00:00",
          "2021-12-01T00:00:00",
          "2022-01-01T00:00:00",
          "2022-02-01T00:00:00",
          "2022-03-01T00:00:00",
          "2022-04-01T00:00:00",
          "2022-05-01T00:00:00",
          "2022-06-01T00:00:00",
          "2022-07-01T00:00:00",
          "2022-08-01T00:00:00",
          "2022-09-01T00:00:00",
          "2022-10-01T00:00:00",
          "2022-11-01T00:00:00",
          "2022-12-01T00:00:00"
         ],
         "xaxis": "x",
         "y": [
          39129.602940116754,
          46143.8408131129,
          36359.259807549985,
          27159.842641160132,
          36951.86040952913,
          51933.39465011117,
          33025.33838657281,
          49900.44519496467,
          51427.617011529386,
          44447.02838444563,
          41110.733746361126,
          77016.69148302561,
          43145.63663440061,
          27453.240317169882,
          45400.007587253436,
          38958.83367063938,
          64377.78021978025,
          56748.83340763858,
          53101.67653618398,
          48363.955920205895,
          57433.394088279565,
          38372.4231972407,
          42728.44201483797,
          65733.9656378761,
          45363.043651109176,
          51864.9935128122,
          179491.75669328333,
          378123.37289581896,
          411387.24465928576,
          250181.1310494835,
          250379.35262757057,
          264824.2614900638,
          232537.40657985973,
          211502.72008679484,
          205072.0030522702,
          708775.965665236,
          316270.85136027,
          182601.2322202784,
          272135.6393492474,
          271039.71073141485,
          325315.7104637338,
          228102.24477700412,
          273378.52559205523,
          235563.15989654645,
          319304.7107438018,
          232758.69072787667,
          262485.7783520828,
          853304.7156308856,
          254506.5293937539,
          168753.4827377346,
          295055.35234398325,
          575809.6760533565,
          980578.6625351305,
          439612.40467717324,
          388875.814600571,
          344603.65817314846,
          295909.4601817212,
          362919.6085754836,
          415857.85086731234,
          924583.333333334,
          413746.1122432984,
          391050.5830789702,
          533340.2464871653,
          624154.6620231122,
          677179.2246925648,
          226458.95757374886,
          269819.95000403194,
          425862.52606255014,
          672520.1491945086,
          265349.7883017091,
          417237.80576410756,
          571900.7222483905,
          317539.7802197803,
          304473.3406472849,
          244767.28846910657,
          369670.46474358963,
          218998.5687616678,
          201265.16001580414,
          245233.86083313957,
          219711.2874228094,
          362698.9917506873,
          110217.05052277543,
          442799.63235294126,
          221944.75622330245
         ],
         "yaxis": "y"
        },
        {
         "line": {
          "color": "rgb(255, 127, 14)",
          "width": 2
         },
         "marker": {
          "color": "rgb(255, 127, 14)",
          "size": 5
         },
         "mode": "lines+markers",
         "name": "STLF",
         "type": "scattergl",
         "x": [
          "2016-01-01T00:00:00",
          "2016-02-01T00:00:00",
          "2016-03-01T00:00:00",
          "2016-04-01T00:00:00",
          "2016-05-01T00:00:00",
          "2016-06-01T00:00:00",
          "2016-07-01T00:00:00",
          "2016-08-01T00:00:00",
          "2016-09-01T00:00:00",
          "2016-10-01T00:00:00",
          "2016-11-01T00:00:00",
          "2016-12-01T00:00:00",
          "2017-01-01T00:00:00",
          "2017-02-01T00:00:00",
          "2017-03-01T00:00:00",
          "2017-04-01T00:00:00",
          "2017-05-01T00:00:00",
          "2017-06-01T00:00:00",
          "2017-07-01T00:00:00",
          "2017-08-01T00:00:00",
          "2017-09-01T00:00:00",
          "2017-10-01T00:00:00",
          "2017-11-01T00:00:00",
          "2017-12-01T00:00:00",
          "2018-01-01T00:00:00",
          "2018-02-01T00:00:00",
          "2018-03-01T00:00:00",
          "2018-04-01T00:00:00",
          "2018-05-01T00:00:00",
          "2018-06-01T00:00:00",
          "2018-07-01T00:00:00",
          "2018-08-01T00:00:00",
          "2018-09-01T00:00:00",
          "2018-10-01T00:00:00",
          "2018-11-01T00:00:00",
          "2018-12-01T00:00:00",
          "2019-01-01T00:00:00",
          "2019-02-01T00:00:00",
          "2019-03-01T00:00:00",
          "2019-04-01T00:00:00",
          "2019-05-01T00:00:00",
          "2019-06-01T00:00:00",
          "2019-07-01T00:00:00",
          "2019-08-01T00:00:00",
          "2019-09-01T00:00:00",
          "2019-10-01T00:00:00",
          "2019-11-01T00:00:00",
          "2019-12-01T00:00:00",
          "2020-01-01T00:00:00",
          "2020-02-01T00:00:00",
          "2020-03-01T00:00:00",
          "2020-04-01T00:00:00",
          "2020-05-01T00:00:00",
          "2020-06-01T00:00:00",
          "2020-07-01T00:00:00",
          "2020-08-01T00:00:00",
          "2020-09-01T00:00:00",
          "2020-10-01T00:00:00",
          "2020-11-01T00:00:00",
          "2020-12-01T00:00:00",
          "2021-01-01T00:00:00",
          "2021-02-01T00:00:00",
          "2021-03-01T00:00:00",
          "2021-04-01T00:00:00",
          "2021-05-01T00:00:00",
          "2021-06-01T00:00:00",
          "2021-07-01T00:00:00",
          "2021-08-01T00:00:00",
          "2021-09-01T00:00:00",
          "2021-10-01T00:00:00",
          "2021-11-01T00:00:00",
          "2021-12-01T00:00:00",
          "2022-01-01T00:00:00",
          "2022-02-01T00:00:00",
          "2022-03-01T00:00:00",
          "2022-04-01T00:00:00",
          "2022-05-01T00:00:00",
          "2022-06-01T00:00:00",
          "2022-07-01T00:00:00",
          "2022-08-01T00:00:00",
          "2022-09-01T00:00:00",
          "2022-10-01T00:00:00",
          "2022-11-01T00:00:00",
          "2022-12-01T00:00:00"
         ],
         "xaxis": "x",
         "y": [
          null,
          null,
          null,
          null,
          null,
          null,
          null,
          null,
          null,
          null,
          null,
          null,
          null,
          null,
          null,
          null,
          null,
          null,
          null,
          null,
          null,
          null,
          null,
          null,
          null,
          null,
          null,
          null,
          null,
          null,
          null,
          null,
          null,
          null,
          null,
          null,
          null,
          null,
          null,
          null,
          null,
          null,
          null,
          null,
          null,
          null,
          null,
          null,
          null,
          null,
          null,
          null,
          null,
          null,
          null,
          null,
          null,
          null,
          null,
          null,
          null,
          null,
          null,
          null,
          null,
          null,
          null,
          null,
          null,
          null,
          null,
          null,
          null,
          null,
          null,
          null,
          null,
          null,
          null,
          null,
          null,
          null,
          null,
          568954.0214
         ],
         "yaxis": "y"
        }
       ],
       "layout": {
        "showlegend": true,
        "template": {
         "data": {
          "bar": [
           {
            "error_x": {
             "color": "rgb(51,51,51)"
            },
            "error_y": {
             "color": "rgb(51,51,51)"
            },
            "marker": {
             "line": {
              "color": "rgb(237,237,237)",
              "width": 0.5
             },
             "pattern": {
              "fillmode": "overlay",
              "size": 10,
              "solidity": 0.2
             }
            },
            "type": "bar"
           }
          ],
          "barpolar": [
           {
            "marker": {
             "line": {
              "color": "rgb(237,237,237)",
              "width": 0.5
             },
             "pattern": {
              "fillmode": "overlay",
              "size": 10,
              "solidity": 0.2
             }
            },
            "type": "barpolar"
           }
          ],
          "carpet": [
           {
            "aaxis": {
             "endlinecolor": "rgb(51,51,51)",
             "gridcolor": "white",
             "linecolor": "white",
             "minorgridcolor": "white",
             "startlinecolor": "rgb(51,51,51)"
            },
            "baxis": {
             "endlinecolor": "rgb(51,51,51)",
             "gridcolor": "white",
             "linecolor": "white",
             "minorgridcolor": "white",
             "startlinecolor": "rgb(51,51,51)"
            },
            "type": "carpet"
           }
          ],
          "choropleth": [
           {
            "colorbar": {
             "outlinewidth": 0,
             "tickcolor": "rgb(237,237,237)",
             "ticklen": 6,
             "ticks": "inside"
            },
            "type": "choropleth"
           }
          ],
          "contour": [
           {
            "colorbar": {
             "outlinewidth": 0,
             "tickcolor": "rgb(237,237,237)",
             "ticklen": 6,
             "ticks": "inside"
            },
            "colorscale": [
             [
              0,
              "rgb(20,44,66)"
             ],
             [
              1,
              "rgb(90,179,244)"
             ]
            ],
            "type": "contour"
           }
          ],
          "contourcarpet": [
           {
            "colorbar": {
             "outlinewidth": 0,
             "tickcolor": "rgb(237,237,237)",
             "ticklen": 6,
             "ticks": "inside"
            },
            "type": "contourcarpet"
           }
          ],
          "heatmap": [
           {
            "colorbar": {
             "outlinewidth": 0,
             "tickcolor": "rgb(237,237,237)",
             "ticklen": 6,
             "ticks": "inside"
            },
            "colorscale": [
             [
              0,
              "rgb(20,44,66)"
             ],
             [
              1,
              "rgb(90,179,244)"
             ]
            ],
            "type": "heatmap"
           }
          ],
          "heatmapgl": [
           {
            "colorbar": {
             "outlinewidth": 0,
             "tickcolor": "rgb(237,237,237)",
             "ticklen": 6,
             "ticks": "inside"
            },
            "colorscale": [
             [
              0,
              "rgb(20,44,66)"
             ],
             [
              1,
              "rgb(90,179,244)"
             ]
            ],
            "type": "heatmapgl"
           }
          ],
          "histogram": [
           {
            "marker": {
             "pattern": {
              "fillmode": "overlay",
              "size": 10,
              "solidity": 0.2
             }
            },
            "type": "histogram"
           }
          ],
          "histogram2d": [
           {
            "colorbar": {
             "outlinewidth": 0,
             "tickcolor": "rgb(237,237,237)",
             "ticklen": 6,
             "ticks": "inside"
            },
            "colorscale": [
             [
              0,
              "rgb(20,44,66)"
             ],
             [
              1,
              "rgb(90,179,244)"
             ]
            ],
            "type": "histogram2d"
           }
          ],
          "histogram2dcontour": [
           {
            "colorbar": {
             "outlinewidth": 0,
             "tickcolor": "rgb(237,237,237)",
             "ticklen": 6,
             "ticks": "inside"
            },
            "colorscale": [
             [
              0,
              "rgb(20,44,66)"
             ],
             [
              1,
              "rgb(90,179,244)"
             ]
            ],
            "type": "histogram2dcontour"
           }
          ],
          "mesh3d": [
           {
            "colorbar": {
             "outlinewidth": 0,
             "tickcolor": "rgb(237,237,237)",
             "ticklen": 6,
             "ticks": "inside"
            },
            "type": "mesh3d"
           }
          ],
          "parcoords": [
           {
            "line": {
             "colorbar": {
              "outlinewidth": 0,
              "tickcolor": "rgb(237,237,237)",
              "ticklen": 6,
              "ticks": "inside"
             }
            },
            "type": "parcoords"
           }
          ],
          "pie": [
           {
            "automargin": true,
            "type": "pie"
           }
          ],
          "scatter": [
           {
            "fillpattern": {
             "fillmode": "overlay",
             "size": 10,
             "solidity": 0.2
            },
            "type": "scatter"
           }
          ],
          "scatter3d": [
           {
            "line": {
             "colorbar": {
              "outlinewidth": 0,
              "tickcolor": "rgb(237,237,237)",
              "ticklen": 6,
              "ticks": "inside"
             }
            },
            "marker": {
             "colorbar": {
              "outlinewidth": 0,
              "tickcolor": "rgb(237,237,237)",
              "ticklen": 6,
              "ticks": "inside"
             }
            },
            "type": "scatter3d"
           }
          ],
          "scattercarpet": [
           {
            "marker": {
             "colorbar": {
              "outlinewidth": 0,
              "tickcolor": "rgb(237,237,237)",
              "ticklen": 6,
              "ticks": "inside"
             }
            },
            "type": "scattercarpet"
           }
          ],
          "scattergeo": [
           {
            "marker": {
             "colorbar": {
              "outlinewidth": 0,
              "tickcolor": "rgb(237,237,237)",
              "ticklen": 6,
              "ticks": "inside"
             }
            },
            "type": "scattergeo"
           }
          ],
          "scattergl": [
           {
            "marker": {
             "colorbar": {
              "outlinewidth": 0,
              "tickcolor": "rgb(237,237,237)",
              "ticklen": 6,
              "ticks": "inside"
             }
            },
            "type": "scattergl"
           }
          ],
          "scattermapbox": [
           {
            "marker": {
             "colorbar": {
              "outlinewidth": 0,
              "tickcolor": "rgb(237,237,237)",
              "ticklen": 6,
              "ticks": "inside"
             }
            },
            "type": "scattermapbox"
           }
          ],
          "scatterpolar": [
           {
            "marker": {
             "colorbar": {
              "outlinewidth": 0,
              "tickcolor": "rgb(237,237,237)",
              "ticklen": 6,
              "ticks": "inside"
             }
            },
            "type": "scatterpolar"
           }
          ],
          "scatterpolargl": [
           {
            "marker": {
             "colorbar": {
              "outlinewidth": 0,
              "tickcolor": "rgb(237,237,237)",
              "ticklen": 6,
              "ticks": "inside"
             }
            },
            "type": "scatterpolargl"
           }
          ],
          "scatterternary": [
           {
            "marker": {
             "colorbar": {
              "outlinewidth": 0,
              "tickcolor": "rgb(237,237,237)",
              "ticklen": 6,
              "ticks": "inside"
             }
            },
            "type": "scatterternary"
           }
          ],
          "surface": [
           {
            "colorbar": {
             "outlinewidth": 0,
             "tickcolor": "rgb(237,237,237)",
             "ticklen": 6,
             "ticks": "inside"
            },
            "colorscale": [
             [
              0,
              "rgb(20,44,66)"
             ],
             [
              1,
              "rgb(90,179,244)"
             ]
            ],
            "type": "surface"
           }
          ],
          "table": [
           {
            "cells": {
             "fill": {
              "color": "rgb(237,237,237)"
             },
             "line": {
              "color": "white"
             }
            },
            "header": {
             "fill": {
              "color": "rgb(217,217,217)"
             },
             "line": {
              "color": "white"
             }
            },
            "type": "table"
           }
          ]
         },
         "layout": {
          "annotationdefaults": {
           "arrowhead": 0,
           "arrowwidth": 1
          },
          "autotypenumbers": "strict",
          "coloraxis": {
           "colorbar": {
            "outlinewidth": 0,
            "tickcolor": "rgb(237,237,237)",
            "ticklen": 6,
            "ticks": "inside"
           }
          },
          "colorscale": {
           "sequential": [
            [
             0,
             "rgb(20,44,66)"
            ],
            [
             1,
             "rgb(90,179,244)"
            ]
           ],
           "sequentialminus": [
            [
             0,
             "rgb(20,44,66)"
            ],
            [
             1,
             "rgb(90,179,244)"
            ]
           ]
          },
          "colorway": [
           "#F8766D",
           "#A3A500",
           "#00BF7D",
           "#00B0F6",
           "#E76BF3"
          ],
          "font": {
           "color": "rgb(51,51,51)"
          },
          "geo": {
           "bgcolor": "white",
           "lakecolor": "white",
           "landcolor": "rgb(237,237,237)",
           "showlakes": true,
           "showland": true,
           "subunitcolor": "white"
          },
          "hoverlabel": {
           "align": "left"
          },
          "hovermode": "closest",
          "paper_bgcolor": "white",
          "plot_bgcolor": "rgb(237,237,237)",
          "polar": {
           "angularaxis": {
            "gridcolor": "white",
            "linecolor": "white",
            "showgrid": true,
            "tickcolor": "rgb(51,51,51)",
            "ticks": "outside"
           },
           "bgcolor": "rgb(237,237,237)",
           "radialaxis": {
            "gridcolor": "white",
            "linecolor": "white",
            "showgrid": true,
            "tickcolor": "rgb(51,51,51)",
            "ticks": "outside"
           }
          },
          "scene": {
           "xaxis": {
            "backgroundcolor": "rgb(237,237,237)",
            "gridcolor": "white",
            "gridwidth": 2,
            "linecolor": "white",
            "showbackground": true,
            "showgrid": true,
            "tickcolor": "rgb(51,51,51)",
            "ticks": "outside",
            "zerolinecolor": "white"
           },
           "yaxis": {
            "backgroundcolor": "rgb(237,237,237)",
            "gridcolor": "white",
            "gridwidth": 2,
            "linecolor": "white",
            "showbackground": true,
            "showgrid": true,
            "tickcolor": "rgb(51,51,51)",
            "ticks": "outside",
            "zerolinecolor": "white"
           },
           "zaxis": {
            "backgroundcolor": "rgb(237,237,237)",
            "gridcolor": "white",
            "gridwidth": 2,
            "linecolor": "white",
            "showbackground": true,
            "showgrid": true,
            "tickcolor": "rgb(51,51,51)",
            "ticks": "outside",
            "zerolinecolor": "white"
           }
          },
          "shapedefaults": {
           "fillcolor": "black",
           "line": {
            "width": 0
           },
           "opacity": 0.3
          },
          "ternary": {
           "aaxis": {
            "gridcolor": "white",
            "linecolor": "white",
            "showgrid": true,
            "tickcolor": "rgb(51,51,51)",
            "ticks": "outside"
           },
           "baxis": {
            "gridcolor": "white",
            "linecolor": "white",
            "showgrid": true,
            "tickcolor": "rgb(51,51,51)",
            "ticks": "outside"
           },
           "bgcolor": "rgb(237,237,237)",
           "caxis": {
            "gridcolor": "white",
            "linecolor": "white",
            "showgrid": true,
            "tickcolor": "rgb(51,51,51)",
            "ticks": "outside"
           }
          },
          "xaxis": {
           "automargin": true,
           "gridcolor": "white",
           "linecolor": "white",
           "showgrid": true,
           "tickcolor": "rgb(51,51,51)",
           "ticks": "outside",
           "title": {
            "standoff": 15
           },
           "zerolinecolor": "white"
          },
          "yaxis": {
           "automargin": true,
           "gridcolor": "white",
           "linecolor": "white",
           "showgrid": true,
           "tickcolor": "rgb(51,51,51)",
           "ticks": "outside",
           "title": {
            "standoff": 15
           },
           "zerolinecolor": "white"
          }
         }
        },
        "title": {
         "text": "Actual vs. Forecast (Out-of-Sample)"
        },
        "xaxis": {
         "anchor": "y",
         "domain": [
          0,
          1
         ]
        },
        "yaxis": {
         "anchor": "x",
         "domain": [
          0,
          1
         ]
        }
       }
      }
     },
     "metadata": {},
     "output_type": "display_data"
    },
    {
     "name": "stderr",
     "output_type": "stream",
     "text": [
      " 29%|██▊       | 4/14 [00:57<02:16, 13.70s/it]"
     ]
    },
    {
     "data": {
      "text/html": [
       "<style type=\"text/css\">\n",
       "#T_41336_row25_col1, #T_41336_row31_col1 {\n",
       "  background-color: lightgreen;\n",
       "}\n",
       "</style>\n",
       "<table id=\"T_41336\">\n",
       "  <thead>\n",
       "    <tr>\n",
       "      <th class=\"blank level0\" >&nbsp;</th>\n",
       "      <th id=\"T_41336_level0_col0\" class=\"col_heading level0 col0\" >Description</th>\n",
       "      <th id=\"T_41336_level0_col1\" class=\"col_heading level0 col1\" >Value</th>\n",
       "    </tr>\n",
       "  </thead>\n",
       "  <tbody>\n",
       "    <tr>\n",
       "      <th id=\"T_41336_level0_row0\" class=\"row_heading level0 row0\" >0</th>\n",
       "      <td id=\"T_41336_row0_col0\" class=\"data row0 col0\" >session_id</td>\n",
       "      <td id=\"T_41336_row0_col1\" class=\"data row0 col1\" >123</td>\n",
       "    </tr>\n",
       "    <tr>\n",
       "      <th id=\"T_41336_level0_row1\" class=\"row_heading level0 row1\" >1</th>\n",
       "      <td id=\"T_41336_row1_col0\" class=\"data row1 col0\" >Target</td>\n",
       "      <td id=\"T_41336_row1_col1\" class=\"data row1 col1\" >NET_SALES</td>\n",
       "    </tr>\n",
       "    <tr>\n",
       "      <th id=\"T_41336_level0_row2\" class=\"row_heading level0 row2\" >2</th>\n",
       "      <td id=\"T_41336_row2_col0\" class=\"data row2 col0\" >Approach</td>\n",
       "      <td id=\"T_41336_row2_col1\" class=\"data row2 col1\" >Univariate</td>\n",
       "    </tr>\n",
       "    <tr>\n",
       "      <th id=\"T_41336_level0_row3\" class=\"row_heading level0 row3\" >3</th>\n",
       "      <td id=\"T_41336_row3_col0\" class=\"data row3 col0\" >Exogenous Variables</td>\n",
       "      <td id=\"T_41336_row3_col1\" class=\"data row3 col1\" >Not Present</td>\n",
       "    </tr>\n",
       "    <tr>\n",
       "      <th id=\"T_41336_level0_row4\" class=\"row_heading level0 row4\" >4</th>\n",
       "      <td id=\"T_41336_row4_col0\" class=\"data row4 col0\" >Original data shape</td>\n",
       "      <td id=\"T_41336_row4_col1\" class=\"data row4 col1\" >(84, 1)</td>\n",
       "    </tr>\n",
       "    <tr>\n",
       "      <th id=\"T_41336_level0_row5\" class=\"row_heading level0 row5\" >5</th>\n",
       "      <td id=\"T_41336_row5_col0\" class=\"data row5 col0\" >Transformed data shape</td>\n",
       "      <td id=\"T_41336_row5_col1\" class=\"data row5 col1\" >(84, 1)</td>\n",
       "    </tr>\n",
       "    <tr>\n",
       "      <th id=\"T_41336_level0_row6\" class=\"row_heading level0 row6\" >6</th>\n",
       "      <td id=\"T_41336_row6_col0\" class=\"data row6 col0\" >Transformed train set shape</td>\n",
       "      <td id=\"T_41336_row6_col1\" class=\"data row6 col1\" >(83, 1)</td>\n",
       "    </tr>\n",
       "    <tr>\n",
       "      <th id=\"T_41336_level0_row7\" class=\"row_heading level0 row7\" >7</th>\n",
       "      <td id=\"T_41336_row7_col0\" class=\"data row7 col0\" >Transformed test set shape</td>\n",
       "      <td id=\"T_41336_row7_col1\" class=\"data row7 col1\" >(1, 1)</td>\n",
       "    </tr>\n",
       "    <tr>\n",
       "      <th id=\"T_41336_level0_row8\" class=\"row_heading level0 row8\" >8</th>\n",
       "      <td id=\"T_41336_row8_col0\" class=\"data row8 col0\" >Rows with missing values</td>\n",
       "      <td id=\"T_41336_row8_col1\" class=\"data row8 col1\" >0.0%</td>\n",
       "    </tr>\n",
       "    <tr>\n",
       "      <th id=\"T_41336_level0_row9\" class=\"row_heading level0 row9\" >9</th>\n",
       "      <td id=\"T_41336_row9_col0\" class=\"data row9 col0\" >Fold Generator</td>\n",
       "      <td id=\"T_41336_row9_col1\" class=\"data row9 col1\" >ExpandingWindowSplitter</td>\n",
       "    </tr>\n",
       "    <tr>\n",
       "      <th id=\"T_41336_level0_row10\" class=\"row_heading level0 row10\" >10</th>\n",
       "      <td id=\"T_41336_row10_col0\" class=\"data row10 col0\" >Fold Number</td>\n",
       "      <td id=\"T_41336_row10_col1\" class=\"data row10 col1\" >3</td>\n",
       "    </tr>\n",
       "    <tr>\n",
       "      <th id=\"T_41336_level0_row11\" class=\"row_heading level0 row11\" >11</th>\n",
       "      <td id=\"T_41336_row11_col0\" class=\"data row11 col0\" >Enforce Prediction Interval</td>\n",
       "      <td id=\"T_41336_row11_col1\" class=\"data row11 col1\" >False</td>\n",
       "    </tr>\n",
       "    <tr>\n",
       "      <th id=\"T_41336_level0_row12\" class=\"row_heading level0 row12\" >12</th>\n",
       "      <td id=\"T_41336_row12_col0\" class=\"data row12 col0\" >Splits used for hyperparameters</td>\n",
       "      <td id=\"T_41336_row12_col1\" class=\"data row12 col1\" >all</td>\n",
       "    </tr>\n",
       "    <tr>\n",
       "      <th id=\"T_41336_level0_row13\" class=\"row_heading level0 row13\" >13</th>\n",
       "      <td id=\"T_41336_row13_col0\" class=\"data row13 col0\" >User Defined Seasonal Period(s)</td>\n",
       "      <td id=\"T_41336_row13_col1\" class=\"data row13 col1\" >None</td>\n",
       "    </tr>\n",
       "    <tr>\n",
       "      <th id=\"T_41336_level0_row14\" class=\"row_heading level0 row14\" >14</th>\n",
       "      <td id=\"T_41336_row14_col0\" class=\"data row14 col0\" >Ignore Seasonality Test</td>\n",
       "      <td id=\"T_41336_row14_col1\" class=\"data row14 col1\" >False</td>\n",
       "    </tr>\n",
       "    <tr>\n",
       "      <th id=\"T_41336_level0_row15\" class=\"row_heading level0 row15\" >15</th>\n",
       "      <td id=\"T_41336_row15_col0\" class=\"data row15 col0\" >Seasonality Detection Algo</td>\n",
       "      <td id=\"T_41336_row15_col1\" class=\"data row15 col1\" >auto</td>\n",
       "    </tr>\n",
       "    <tr>\n",
       "      <th id=\"T_41336_level0_row16\" class=\"row_heading level0 row16\" >16</th>\n",
       "      <td id=\"T_41336_row16_col0\" class=\"data row16 col0\" >Max Period to Consider</td>\n",
       "      <td id=\"T_41336_row16_col1\" class=\"data row16 col1\" >60</td>\n",
       "    </tr>\n",
       "    <tr>\n",
       "      <th id=\"T_41336_level0_row17\" class=\"row_heading level0 row17\" >17</th>\n",
       "      <td id=\"T_41336_row17_col0\" class=\"data row17 col0\" >Seasonal Period(s) Tested</td>\n",
       "      <td id=\"T_41336_row17_col1\" class=\"data row17 col1\" >[7, 12]</td>\n",
       "    </tr>\n",
       "    <tr>\n",
       "      <th id=\"T_41336_level0_row18\" class=\"row_heading level0 row18\" >18</th>\n",
       "      <td id=\"T_41336_row18_col0\" class=\"data row18 col0\" >Significant Seasonal Period(s)</td>\n",
       "      <td id=\"T_41336_row18_col1\" class=\"data row18 col1\" >[7, 12]</td>\n",
       "    </tr>\n",
       "    <tr>\n",
       "      <th id=\"T_41336_level0_row19\" class=\"row_heading level0 row19\" >19</th>\n",
       "      <td id=\"T_41336_row19_col0\" class=\"data row19 col0\" >Significant Seasonal Period(s) without Harmonics</td>\n",
       "      <td id=\"T_41336_row19_col1\" class=\"data row19 col1\" >[7, 12]</td>\n",
       "    </tr>\n",
       "    <tr>\n",
       "      <th id=\"T_41336_level0_row20\" class=\"row_heading level0 row20\" >20</th>\n",
       "      <td id=\"T_41336_row20_col0\" class=\"data row20 col0\" >Remove Harmonics</td>\n",
       "      <td id=\"T_41336_row20_col1\" class=\"data row20 col1\" >False</td>\n",
       "    </tr>\n",
       "    <tr>\n",
       "      <th id=\"T_41336_level0_row21\" class=\"row_heading level0 row21\" >21</th>\n",
       "      <td id=\"T_41336_row21_col0\" class=\"data row21 col0\" >Harmonics Order Method</td>\n",
       "      <td id=\"T_41336_row21_col1\" class=\"data row21 col1\" >harmonic_max</td>\n",
       "    </tr>\n",
       "    <tr>\n",
       "      <th id=\"T_41336_level0_row22\" class=\"row_heading level0 row22\" >22</th>\n",
       "      <td id=\"T_41336_row22_col0\" class=\"data row22 col0\" >Num Seasonalities to Use</td>\n",
       "      <td id=\"T_41336_row22_col1\" class=\"data row22 col1\" >1</td>\n",
       "    </tr>\n",
       "    <tr>\n",
       "      <th id=\"T_41336_level0_row23\" class=\"row_heading level0 row23\" >23</th>\n",
       "      <td id=\"T_41336_row23_col0\" class=\"data row23 col0\" >All Seasonalities to Use</td>\n",
       "      <td id=\"T_41336_row23_col1\" class=\"data row23 col1\" >[7]</td>\n",
       "    </tr>\n",
       "    <tr>\n",
       "      <th id=\"T_41336_level0_row24\" class=\"row_heading level0 row24\" >24</th>\n",
       "      <td id=\"T_41336_row24_col0\" class=\"data row24 col0\" >Primary Seasonality</td>\n",
       "      <td id=\"T_41336_row24_col1\" class=\"data row24 col1\" >7</td>\n",
       "    </tr>\n",
       "    <tr>\n",
       "      <th id=\"T_41336_level0_row25\" class=\"row_heading level0 row25\" >25</th>\n",
       "      <td id=\"T_41336_row25_col0\" class=\"data row25 col0\" >Seasonality Present</td>\n",
       "      <td id=\"T_41336_row25_col1\" class=\"data row25 col1\" >True</td>\n",
       "    </tr>\n",
       "    <tr>\n",
       "      <th id=\"T_41336_level0_row26\" class=\"row_heading level0 row26\" >26</th>\n",
       "      <td id=\"T_41336_row26_col0\" class=\"data row26 col0\" >Seasonality Type</td>\n",
       "      <td id=\"T_41336_row26_col1\" class=\"data row26 col1\" >mul</td>\n",
       "    </tr>\n",
       "    <tr>\n",
       "      <th id=\"T_41336_level0_row27\" class=\"row_heading level0 row27\" >27</th>\n",
       "      <td id=\"T_41336_row27_col0\" class=\"data row27 col0\" >Target Strictly Positive</td>\n",
       "      <td id=\"T_41336_row27_col1\" class=\"data row27 col1\" >True</td>\n",
       "    </tr>\n",
       "    <tr>\n",
       "      <th id=\"T_41336_level0_row28\" class=\"row_heading level0 row28\" >28</th>\n",
       "      <td id=\"T_41336_row28_col0\" class=\"data row28 col0\" >Target White Noise</td>\n",
       "      <td id=\"T_41336_row28_col1\" class=\"data row28 col1\" >No</td>\n",
       "    </tr>\n",
       "    <tr>\n",
       "      <th id=\"T_41336_level0_row29\" class=\"row_heading level0 row29\" >29</th>\n",
       "      <td id=\"T_41336_row29_col0\" class=\"data row29 col0\" >Recommended d</td>\n",
       "      <td id=\"T_41336_row29_col1\" class=\"data row29 col1\" >0</td>\n",
       "    </tr>\n",
       "    <tr>\n",
       "      <th id=\"T_41336_level0_row30\" class=\"row_heading level0 row30\" >30</th>\n",
       "      <td id=\"T_41336_row30_col0\" class=\"data row30 col0\" >Recommended Seasonal D</td>\n",
       "      <td id=\"T_41336_row30_col1\" class=\"data row30 col1\" >0</td>\n",
       "    </tr>\n",
       "    <tr>\n",
       "      <th id=\"T_41336_level0_row31\" class=\"row_heading level0 row31\" >31</th>\n",
       "      <td id=\"T_41336_row31_col0\" class=\"data row31 col0\" >Preprocess</td>\n",
       "      <td id=\"T_41336_row31_col1\" class=\"data row31 col1\" >True</td>\n",
       "    </tr>\n",
       "    <tr>\n",
       "      <th id=\"T_41336_level0_row32\" class=\"row_heading level0 row32\" >32</th>\n",
       "      <td id=\"T_41336_row32_col0\" class=\"data row32 col0\" >Numerical Imputation (Target)</td>\n",
       "      <td id=\"T_41336_row32_col1\" class=\"data row32 col1\" >mean</td>\n",
       "    </tr>\n",
       "    <tr>\n",
       "      <th id=\"T_41336_level0_row33\" class=\"row_heading level0 row33\" >33</th>\n",
       "      <td id=\"T_41336_row33_col0\" class=\"data row33 col0\" >Transformation (Target)</td>\n",
       "      <td id=\"T_41336_row33_col1\" class=\"data row33 col1\" >None</td>\n",
       "    </tr>\n",
       "    <tr>\n",
       "      <th id=\"T_41336_level0_row34\" class=\"row_heading level0 row34\" >34</th>\n",
       "      <td id=\"T_41336_row34_col0\" class=\"data row34 col0\" >Scaling (Target)</td>\n",
       "      <td id=\"T_41336_row34_col1\" class=\"data row34 col1\" >None</td>\n",
       "    </tr>\n",
       "    <tr>\n",
       "      <th id=\"T_41336_level0_row35\" class=\"row_heading level0 row35\" >35</th>\n",
       "      <td id=\"T_41336_row35_col0\" class=\"data row35 col0\" >Feature Engineering (Target) - Reduced Regression</td>\n",
       "      <td id=\"T_41336_row35_col1\" class=\"data row35 col1\" >False</td>\n",
       "    </tr>\n",
       "    <tr>\n",
       "      <th id=\"T_41336_level0_row36\" class=\"row_heading level0 row36\" >36</th>\n",
       "      <td id=\"T_41336_row36_col0\" class=\"data row36 col0\" >CPU Jobs</td>\n",
       "      <td id=\"T_41336_row36_col1\" class=\"data row36 col1\" >-1</td>\n",
       "    </tr>\n",
       "    <tr>\n",
       "      <th id=\"T_41336_level0_row37\" class=\"row_heading level0 row37\" >37</th>\n",
       "      <td id=\"T_41336_row37_col0\" class=\"data row37 col0\" >Use GPU</td>\n",
       "      <td id=\"T_41336_row37_col1\" class=\"data row37 col1\" >False</td>\n",
       "    </tr>\n",
       "    <tr>\n",
       "      <th id=\"T_41336_level0_row38\" class=\"row_heading level0 row38\" >38</th>\n",
       "      <td id=\"T_41336_row38_col0\" class=\"data row38 col0\" >Log Experiment</td>\n",
       "      <td id=\"T_41336_row38_col1\" class=\"data row38 col1\" >False</td>\n",
       "    </tr>\n",
       "    <tr>\n",
       "      <th id=\"T_41336_level0_row39\" class=\"row_heading level0 row39\" >39</th>\n",
       "      <td id=\"T_41336_row39_col0\" class=\"data row39 col0\" >Experiment Name</td>\n",
       "      <td id=\"T_41336_row39_col1\" class=\"data row39 col1\" >ts-default-name</td>\n",
       "    </tr>\n",
       "    <tr>\n",
       "      <th id=\"T_41336_level0_row40\" class=\"row_heading level0 row40\" >40</th>\n",
       "      <td id=\"T_41336_row40_col0\" class=\"data row40 col0\" >USI</td>\n",
       "      <td id=\"T_41336_row40_col1\" class=\"data row40 col1\" >e482</td>\n",
       "    </tr>\n",
       "  </tbody>\n",
       "</table>\n"
      ],
      "text/plain": [
       "<pandas.io.formats.style.Styler at 0x224d095a790>"
      ]
     },
     "metadata": {},
     "output_type": "display_data"
    },
    {
     "data": {
      "text/html": [],
      "text/plain": [
       "<IPython.core.display.HTML object>"
      ]
     },
     "metadata": {},
     "output_type": "display_data"
    },
    {
     "data": {
      "text/html": [
       "<style type=\"text/css\">\n",
       "#T_20b52 th {\n",
       "  text-align: left;\n",
       "}\n",
       "#T_20b52_row0_col0, #T_20b52_row1_col0, #T_20b52_row1_col1, #T_20b52_row1_col2, #T_20b52_row1_col3, #T_20b52_row1_col4, #T_20b52_row1_col5, #T_20b52_row1_col6, #T_20b52_row2_col0, #T_20b52_row2_col1, #T_20b52_row2_col2, #T_20b52_row2_col3, #T_20b52_row2_col4, #T_20b52_row2_col5, #T_20b52_row2_col6, #T_20b52_row3_col0, #T_20b52_row3_col1, #T_20b52_row3_col2, #T_20b52_row3_col3, #T_20b52_row3_col4, #T_20b52_row3_col5, #T_20b52_row3_col6, #T_20b52_row4_col0, #T_20b52_row4_col1, #T_20b52_row4_col2, #T_20b52_row4_col3, #T_20b52_row4_col4, #T_20b52_row4_col5, #T_20b52_row4_col6, #T_20b52_row5_col0, #T_20b52_row5_col1, #T_20b52_row5_col2, #T_20b52_row5_col3, #T_20b52_row5_col4, #T_20b52_row5_col5, #T_20b52_row5_col6, #T_20b52_row6_col0, #T_20b52_row6_col1, #T_20b52_row6_col2, #T_20b52_row6_col3, #T_20b52_row6_col4, #T_20b52_row6_col5, #T_20b52_row6_col6, #T_20b52_row7_col0, #T_20b52_row7_col1, #T_20b52_row7_col2, #T_20b52_row7_col3, #T_20b52_row7_col4, #T_20b52_row7_col5, #T_20b52_row7_col6, #T_20b52_row8_col0, #T_20b52_row8_col1, #T_20b52_row8_col2, #T_20b52_row8_col3, #T_20b52_row8_col4, #T_20b52_row8_col5, #T_20b52_row8_col6, #T_20b52_row9_col0, #T_20b52_row9_col1, #T_20b52_row9_col2, #T_20b52_row9_col3, #T_20b52_row9_col4, #T_20b52_row9_col5, #T_20b52_row9_col6, #T_20b52_row10_col0, #T_20b52_row10_col1, #T_20b52_row10_col2, #T_20b52_row10_col3, #T_20b52_row10_col4, #T_20b52_row10_col5, #T_20b52_row10_col6, #T_20b52_row11_col0, #T_20b52_row11_col1, #T_20b52_row11_col2, #T_20b52_row11_col3, #T_20b52_row11_col4, #T_20b52_row11_col5, #T_20b52_row11_col6, #T_20b52_row12_col0, #T_20b52_row12_col1, #T_20b52_row12_col2, #T_20b52_row12_col3, #T_20b52_row12_col4, #T_20b52_row12_col5, #T_20b52_row12_col6, #T_20b52_row13_col0, #T_20b52_row13_col1, #T_20b52_row13_col2, #T_20b52_row13_col3, #T_20b52_row13_col4, #T_20b52_row13_col5, #T_20b52_row13_col6, #T_20b52_row14_col0, #T_20b52_row14_col1, #T_20b52_row14_col2, #T_20b52_row14_col3, #T_20b52_row14_col4, #T_20b52_row14_col5, #T_20b52_row14_col6, #T_20b52_row15_col0, #T_20b52_row15_col1, #T_20b52_row15_col2, #T_20b52_row15_col3, #T_20b52_row15_col4, #T_20b52_row15_col5, #T_20b52_row15_col6, #T_20b52_row16_col0, #T_20b52_row16_col1, #T_20b52_row16_col2, #T_20b52_row16_col3, #T_20b52_row16_col4, #T_20b52_row16_col5, #T_20b52_row16_col6, #T_20b52_row17_col0, #T_20b52_row17_col1, #T_20b52_row17_col2, #T_20b52_row17_col3, #T_20b52_row17_col4, #T_20b52_row17_col5, #T_20b52_row17_col6, #T_20b52_row18_col0, #T_20b52_row18_col1, #T_20b52_row18_col2, #T_20b52_row18_col3, #T_20b52_row18_col4, #T_20b52_row18_col5, #T_20b52_row18_col6, #T_20b52_row19_col0, #T_20b52_row19_col1, #T_20b52_row19_col2, #T_20b52_row19_col3, #T_20b52_row19_col4, #T_20b52_row19_col5, #T_20b52_row19_col6, #T_20b52_row20_col0, #T_20b52_row20_col1, #T_20b52_row20_col2, #T_20b52_row20_col3, #T_20b52_row20_col4, #T_20b52_row20_col5, #T_20b52_row20_col6, #T_20b52_row21_col0, #T_20b52_row21_col1, #T_20b52_row21_col2, #T_20b52_row21_col3, #T_20b52_row21_col4, #T_20b52_row21_col5, #T_20b52_row21_col6, #T_20b52_row22_col0, #T_20b52_row22_col1, #T_20b52_row22_col2, #T_20b52_row22_col3, #T_20b52_row22_col4, #T_20b52_row22_col5, #T_20b52_row22_col6 {\n",
       "  text-align: left;\n",
       "}\n",
       "#T_20b52_row0_col1, #T_20b52_row0_col2, #T_20b52_row0_col3, #T_20b52_row0_col4, #T_20b52_row0_col5, #T_20b52_row0_col6 {\n",
       "  text-align: left;\n",
       "  background-color: yellow;\n",
       "}\n",
       "#T_20b52_row0_col7, #T_20b52_row1_col7, #T_20b52_row2_col7, #T_20b52_row3_col7, #T_20b52_row5_col7, #T_20b52_row6_col7, #T_20b52_row7_col7, #T_20b52_row8_col7, #T_20b52_row9_col7, #T_20b52_row10_col7, #T_20b52_row11_col7, #T_20b52_row12_col7, #T_20b52_row13_col7, #T_20b52_row14_col7, #T_20b52_row15_col7, #T_20b52_row16_col7, #T_20b52_row17_col7, #T_20b52_row18_col7, #T_20b52_row19_col7, #T_20b52_row20_col7, #T_20b52_row21_col7, #T_20b52_row22_col7 {\n",
       "  text-align: left;\n",
       "  background-color: lightgrey;\n",
       "}\n",
       "#T_20b52_row4_col7 {\n",
       "  text-align: left;\n",
       "  background-color: yellow;\n",
       "  background-color: lightgrey;\n",
       "}\n",
       "</style>\n",
       "<table id=\"T_20b52\">\n",
       "  <thead>\n",
       "    <tr>\n",
       "      <th class=\"blank level0\" >&nbsp;</th>\n",
       "      <th id=\"T_20b52_level0_col0\" class=\"col_heading level0 col0\" >Model</th>\n",
       "      <th id=\"T_20b52_level0_col1\" class=\"col_heading level0 col1\" >MASE</th>\n",
       "      <th id=\"T_20b52_level0_col2\" class=\"col_heading level0 col2\" >RMSSE</th>\n",
       "      <th id=\"T_20b52_level0_col3\" class=\"col_heading level0 col3\" >MAE</th>\n",
       "      <th id=\"T_20b52_level0_col4\" class=\"col_heading level0 col4\" >RMSE</th>\n",
       "      <th id=\"T_20b52_level0_col5\" class=\"col_heading level0 col5\" >MAPE</th>\n",
       "      <th id=\"T_20b52_level0_col6\" class=\"col_heading level0 col6\" >SMAPE</th>\n",
       "      <th id=\"T_20b52_level0_col7\" class=\"col_heading level0 col7\" >TT (Sec)</th>\n",
       "    </tr>\n",
       "  </thead>\n",
       "  <tbody>\n",
       "    <tr>\n",
       "      <th id=\"T_20b52_level0_row0\" class=\"row_heading level0 row0\" >dt_cds_dt</th>\n",
       "      <td id=\"T_20b52_row0_col0\" class=\"data row0 col0\" >Decision Tree w/ Cond. Deseasonalize & Detrending</td>\n",
       "      <td id=\"T_20b52_row0_col1\" class=\"data row0 col1\" >0.3559</td>\n",
       "      <td id=\"T_20b52_row0_col2\" class=\"data row0 col2\" >0.2730</td>\n",
       "      <td id=\"T_20b52_row0_col3\" class=\"data row0 col3\" >1129380.1076</td>\n",
       "      <td id=\"T_20b52_row0_col4\" class=\"data row0 col4\" >1129380.1076</td>\n",
       "      <td id=\"T_20b52_row0_col5\" class=\"data row0 col5\" >0.2265</td>\n",
       "      <td id=\"T_20b52_row0_col6\" class=\"data row0 col6\" >0.2039</td>\n",
       "      <td id=\"T_20b52_row0_col7\" class=\"data row0 col7\" >0.0367</td>\n",
       "    </tr>\n",
       "    <tr>\n",
       "      <th id=\"T_20b52_level0_row1\" class=\"row_heading level0 row1\" >exp_smooth</th>\n",
       "      <td id=\"T_20b52_row1_col0\" class=\"data row1 col0\" >Exponential Smoothing</td>\n",
       "      <td id=\"T_20b52_row1_col1\" class=\"data row1 col1\" >0.7149</td>\n",
       "      <td id=\"T_20b52_row1_col2\" class=\"data row1 col2\" >0.5495</td>\n",
       "      <td id=\"T_20b52_row1_col3\" class=\"data row1 col3\" >2276535.2075</td>\n",
       "      <td id=\"T_20b52_row1_col4\" class=\"data row1 col4\" >2276535.2075</td>\n",
       "      <td id=\"T_20b52_row1_col5\" class=\"data row1 col5\" >0.3179</td>\n",
       "      <td id=\"T_20b52_row1_col6\" class=\"data row1 col6\" >0.3377</td>\n",
       "      <td id=\"T_20b52_row1_col7\" class=\"data row1 col7\" >0.0600</td>\n",
       "    </tr>\n",
       "    <tr>\n",
       "      <th id=\"T_20b52_level0_row2\" class=\"row_heading level0 row2\" >knn_cds_dt</th>\n",
       "      <td id=\"T_20b52_row2_col0\" class=\"data row2 col0\" >K Neighbors w/ Cond. Deseasonalize & Detrending</td>\n",
       "      <td id=\"T_20b52_row2_col1\" class=\"data row2 col1\" >0.4615</td>\n",
       "      <td id=\"T_20b52_row2_col2\" class=\"data row2 col2\" >0.3532</td>\n",
       "      <td id=\"T_20b52_row2_col3\" class=\"data row2 col3\" >1460949.6403</td>\n",
       "      <td id=\"T_20b52_row2_col4\" class=\"data row2 col4\" >1460949.6403</td>\n",
       "      <td id=\"T_20b52_row2_col5\" class=\"data row2 col5\" >0.3607</td>\n",
       "      <td id=\"T_20b52_row2_col6\" class=\"data row2 col6\" >0.2831</td>\n",
       "      <td id=\"T_20b52_row2_col7\" class=\"data row2 col7\" >0.0433</td>\n",
       "    </tr>\n",
       "    <tr>\n",
       "      <th id=\"T_20b52_level0_row3\" class=\"row_heading level0 row3\" >stlf</th>\n",
       "      <td id=\"T_20b52_row3_col0\" class=\"data row3 col0\" >STLF</td>\n",
       "      <td id=\"T_20b52_row3_col1\" class=\"data row3 col1\" >0.7726</td>\n",
       "      <td id=\"T_20b52_row3_col2\" class=\"data row3 col2\" >0.5935</td>\n",
       "      <td id=\"T_20b52_row3_col3\" class=\"data row3 col3\" >2458267.9348</td>\n",
       "      <td id=\"T_20b52_row3_col4\" class=\"data row3 col4\" >2458267.9348</td>\n",
       "      <td id=\"T_20b52_row3_col5\" class=\"data row3 col5\" >0.3750</td>\n",
       "      <td id=\"T_20b52_row3_col6\" class=\"data row3 col6\" >0.4631</td>\n",
       "      <td id=\"T_20b52_row3_col7\" class=\"data row3 col7\" >0.0300</td>\n",
       "    </tr>\n",
       "    <tr>\n",
       "      <th id=\"T_20b52_level0_row4\" class=\"row_heading level0 row4\" >polytrend</th>\n",
       "      <td id=\"T_20b52_row4_col0\" class=\"data row4 col0\" >Polynomial Trend Forecaster</td>\n",
       "      <td id=\"T_20b52_row4_col1\" class=\"data row4 col1\" >0.9089</td>\n",
       "      <td id=\"T_20b52_row4_col2\" class=\"data row4 col2\" >0.6983</td>\n",
       "      <td id=\"T_20b52_row4_col3\" class=\"data row4 col3\" >2893406.4722</td>\n",
       "      <td id=\"T_20b52_row4_col4\" class=\"data row4 col4\" >2893406.4722</td>\n",
       "      <td id=\"T_20b52_row4_col5\" class=\"data row4 col5\" >0.4239</td>\n",
       "      <td id=\"T_20b52_row4_col6\" class=\"data row4 col6\" >0.4474</td>\n",
       "      <td id=\"T_20b52_row4_col7\" class=\"data row4 col7\" >0.0200</td>\n",
       "    </tr>\n",
       "    <tr>\n",
       "      <th id=\"T_20b52_level0_row5\" class=\"row_heading level0 row5\" >ets</th>\n",
       "      <td id=\"T_20b52_row5_col0\" class=\"data row5 col0\" >ETS</td>\n",
       "      <td id=\"T_20b52_row5_col1\" class=\"data row5 col1\" >0.7663</td>\n",
       "      <td id=\"T_20b52_row5_col2\" class=\"data row5 col2\" >0.5881</td>\n",
       "      <td id=\"T_20b52_row5_col3\" class=\"data row5 col3\" >2434343.5447</td>\n",
       "      <td id=\"T_20b52_row5_col4\" class=\"data row5 col4\" >2434343.5447</td>\n",
       "      <td id=\"T_20b52_row5_col5\" class=\"data row5 col5\" >0.4395</td>\n",
       "      <td id=\"T_20b52_row5_col6\" class=\"data row5 col6\" >0.3890</td>\n",
       "      <td id=\"T_20b52_row5_col7\" class=\"data row5 col7\" >0.0400</td>\n",
       "    </tr>\n",
       "    <tr>\n",
       "      <th id=\"T_20b52_level0_row6\" class=\"row_heading level0 row6\" >gbr_cds_dt</th>\n",
       "      <td id=\"T_20b52_row6_col0\" class=\"data row6 col0\" >Gradient Boosting w/ Cond. Deseasonalize & Detrending</td>\n",
       "      <td id=\"T_20b52_row6_col1\" class=\"data row6 col1\" >0.7129</td>\n",
       "      <td id=\"T_20b52_row6_col2\" class=\"data row6 col2\" >0.5466</td>\n",
       "      <td id=\"T_20b52_row6_col3\" class=\"data row6 col3\" >2261472.3598</td>\n",
       "      <td id=\"T_20b52_row6_col4\" class=\"data row6 col4\" >2261472.3598</td>\n",
       "      <td id=\"T_20b52_row6_col5\" class=\"data row6 col5\" >0.4603</td>\n",
       "      <td id=\"T_20b52_row6_col6\" class=\"data row6 col6\" >0.3762</td>\n",
       "      <td id=\"T_20b52_row6_col7\" class=\"data row6 col7\" >0.0600</td>\n",
       "    </tr>\n",
       "    <tr>\n",
       "      <th id=\"T_20b52_level0_row7\" class=\"row_heading level0 row7\" >theta</th>\n",
       "      <td id=\"T_20b52_row7_col0\" class=\"data row7 col0\" >Theta Forecaster</td>\n",
       "      <td id=\"T_20b52_row7_col1\" class=\"data row7 col1\" >0.9040</td>\n",
       "      <td id=\"T_20b52_row7_col2\" class=\"data row7 col2\" >0.6941</td>\n",
       "      <td id=\"T_20b52_row7_col3\" class=\"data row7 col3\" >2874595.4092</td>\n",
       "      <td id=\"T_20b52_row7_col4\" class=\"data row7 col4\" >2874595.4092</td>\n",
       "      <td id=\"T_20b52_row7_col5\" class=\"data row7 col5\" >0.4717</td>\n",
       "      <td id=\"T_20b52_row7_col6\" class=\"data row7 col6\" >0.4486</td>\n",
       "      <td id=\"T_20b52_row7_col7\" class=\"data row7 col7\" >0.0267</td>\n",
       "    </tr>\n",
       "    <tr>\n",
       "      <th id=\"T_20b52_level0_row8\" class=\"row_heading level0 row8\" >et_cds_dt</th>\n",
       "      <td id=\"T_20b52_row8_col0\" class=\"data row8 col0\" >Extra Trees w/ Cond. Deseasonalize & Detrending</td>\n",
       "      <td id=\"T_20b52_row8_col1\" class=\"data row8 col1\" >0.7189</td>\n",
       "      <td id=\"T_20b52_row8_col2\" class=\"data row8 col2\" >0.5511</td>\n",
       "      <td id=\"T_20b52_row8_col3\" class=\"data row8 col3\" >2280596.7031</td>\n",
       "      <td id=\"T_20b52_row8_col4\" class=\"data row8 col4\" >2280596.7031</td>\n",
       "      <td id=\"T_20b52_row8_col5\" class=\"data row8 col5\" >0.4739</td>\n",
       "      <td id=\"T_20b52_row8_col6\" class=\"data row8 col6\" >0.3812</td>\n",
       "      <td id=\"T_20b52_row8_col7\" class=\"data row8 col7\" >0.0733</td>\n",
       "    </tr>\n",
       "    <tr>\n",
       "      <th id=\"T_20b52_level0_row9\" class=\"row_heading level0 row9\" >lightgbm_cds_dt</th>\n",
       "      <td id=\"T_20b52_row9_col0\" class=\"data row9 col0\" >Light Gradient Boosting w/ Cond. Deseasonalize & Detrending</td>\n",
       "      <td id=\"T_20b52_row9_col1\" class=\"data row9 col1\" >0.8600</td>\n",
       "      <td id=\"T_20b52_row9_col2\" class=\"data row9 col2\" >0.6599</td>\n",
       "      <td id=\"T_20b52_row9_col3\" class=\"data row9 col3\" >2732516.9363</td>\n",
       "      <td id=\"T_20b52_row9_col4\" class=\"data row9 col4\" >2732516.9363</td>\n",
       "      <td id=\"T_20b52_row9_col5\" class=\"data row9 col5\" >0.4919</td>\n",
       "      <td id=\"T_20b52_row9_col6\" class=\"data row9 col6\" >0.4312</td>\n",
       "      <td id=\"T_20b52_row9_col7\" class=\"data row9 col7\" >0.0700</td>\n",
       "    </tr>\n",
       "    <tr>\n",
       "      <th id=\"T_20b52_level0_row10\" class=\"row_heading level0 row10\" >omp_cds_dt</th>\n",
       "      <td id=\"T_20b52_row10_col0\" class=\"data row10 col0\" >Orthogonal Matching Pursuit w/ Cond. Deseasonalize & Detrending</td>\n",
       "      <td id=\"T_20b52_row10_col1\" class=\"data row10 col1\" >0.8482</td>\n",
       "      <td id=\"T_20b52_row10_col2\" class=\"data row10 col2\" >0.6509</td>\n",
       "      <td id=\"T_20b52_row10_col3\" class=\"data row10 col3\" >2694215.5070</td>\n",
       "      <td id=\"T_20b52_row10_col4\" class=\"data row10 col4\" >2694215.5070</td>\n",
       "      <td id=\"T_20b52_row10_col5\" class=\"data row10 col5\" >0.4933</td>\n",
       "      <td id=\"T_20b52_row10_col6\" class=\"data row10 col6\" >0.4281</td>\n",
       "      <td id=\"T_20b52_row10_col7\" class=\"data row10 col7\" >0.0400</td>\n",
       "    </tr>\n",
       "    <tr>\n",
       "      <th id=\"T_20b52_level0_row11\" class=\"row_heading level0 row11\" >ada_cds_dt</th>\n",
       "      <td id=\"T_20b52_row11_col0\" class=\"data row11 col0\" >AdaBoost w/ Cond. Deseasonalize & Detrending</td>\n",
       "      <td id=\"T_20b52_row11_col1\" class=\"data row11 col1\" >0.8304</td>\n",
       "      <td id=\"T_20b52_row11_col2\" class=\"data row11 col2\" >0.6366</td>\n",
       "      <td id=\"T_20b52_row11_col3\" class=\"data row11 col3\" >2635150.8697</td>\n",
       "      <td id=\"T_20b52_row11_col4\" class=\"data row11 col4\" >2635150.8697</td>\n",
       "      <td id=\"T_20b52_row11_col5\" class=\"data row11 col5\" >0.5325</td>\n",
       "      <td id=\"T_20b52_row11_col6\" class=\"data row11 col6\" >0.4241</td>\n",
       "      <td id=\"T_20b52_row11_col7\" class=\"data row11 col7\" >0.0600</td>\n",
       "    </tr>\n",
       "    <tr>\n",
       "      <th id=\"T_20b52_level0_row12\" class=\"row_heading level0 row12\" >br_cds_dt</th>\n",
       "      <td id=\"T_20b52_row12_col0\" class=\"data row12 col0\" >Bayesian Ridge w/ Cond. Deseasonalize & Detrending</td>\n",
       "      <td id=\"T_20b52_row12_col1\" class=\"data row12 col1\" >0.9047</td>\n",
       "      <td id=\"T_20b52_row12_col2\" class=\"data row12 col2\" >0.6937</td>\n",
       "      <td id=\"T_20b52_row12_col3\" class=\"data row12 col3\" >2872224.1517</td>\n",
       "      <td id=\"T_20b52_row12_col4\" class=\"data row12 col4\" >2872224.1517</td>\n",
       "      <td id=\"T_20b52_row12_col5\" class=\"data row12 col5\" >0.5644</td>\n",
       "      <td id=\"T_20b52_row12_col6\" class=\"data row12 col6\" >0.4505</td>\n",
       "      <td id=\"T_20b52_row12_col7\" class=\"data row12 col7\" >0.0400</td>\n",
       "    </tr>\n",
       "    <tr>\n",
       "      <th id=\"T_20b52_level0_row13\" class=\"row_heading level0 row13\" >rf_cds_dt</th>\n",
       "      <td id=\"T_20b52_row13_col0\" class=\"data row13 col0\" >Random Forest w/ Cond. Deseasonalize & Detrending</td>\n",
       "      <td id=\"T_20b52_row13_col1\" class=\"data row13 col1\" >0.9404</td>\n",
       "      <td id=\"T_20b52_row13_col2\" class=\"data row13 col2\" >0.7214</td>\n",
       "      <td id=\"T_20b52_row13_col3\" class=\"data row13 col3\" >2985601.8404</td>\n",
       "      <td id=\"T_20b52_row13_col4\" class=\"data row13 col4\" >2985601.8404</td>\n",
       "      <td id=\"T_20b52_row13_col5\" class=\"data row13 col5\" >0.5729</td>\n",
       "      <td id=\"T_20b52_row13_col6\" class=\"data row13 col6\" >0.4727</td>\n",
       "      <td id=\"T_20b52_row13_col7\" class=\"data row13 col7\" >0.0800</td>\n",
       "    </tr>\n",
       "    <tr>\n",
       "      <th id=\"T_20b52_level0_row14\" class=\"row_heading level0 row14\" >lasso_cds_dt</th>\n",
       "      <td id=\"T_20b52_row14_col0\" class=\"data row14 col0\" >Lasso w/ Cond. Deseasonalize & Detrending</td>\n",
       "      <td id=\"T_20b52_row14_col1\" class=\"data row14 col1\" >0.8796</td>\n",
       "      <td id=\"T_20b52_row14_col2\" class=\"data row14 col2\" >0.6741</td>\n",
       "      <td id=\"T_20b52_row14_col3\" class=\"data row14 col3\" >2790487.1654</td>\n",
       "      <td id=\"T_20b52_row14_col4\" class=\"data row14 col4\" >2790487.1654</td>\n",
       "      <td id=\"T_20b52_row14_col5\" class=\"data row14 col5\" >0.5848</td>\n",
       "      <td id=\"T_20b52_row14_col6\" class=\"data row14 col6\" >0.4382</td>\n",
       "      <td id=\"T_20b52_row14_col7\" class=\"data row14 col7\" >0.0400</td>\n",
       "    </tr>\n",
       "    <tr>\n",
       "      <th id=\"T_20b52_level0_row15\" class=\"row_heading level0 row15\" >llar_cds_dt</th>\n",
       "      <td id=\"T_20b52_row15_col0\" class=\"data row15 col0\" >Lasso Least Angular Regressor w/ Cond. Deseasonalize & Detrending</td>\n",
       "      <td id=\"T_20b52_row15_col1\" class=\"data row15 col1\" >0.8796</td>\n",
       "      <td id=\"T_20b52_row15_col2\" class=\"data row15 col2\" >0.6741</td>\n",
       "      <td id=\"T_20b52_row15_col3\" class=\"data row15 col3\" >2790487.1654</td>\n",
       "      <td id=\"T_20b52_row15_col4\" class=\"data row15 col4\" >2790487.1654</td>\n",
       "      <td id=\"T_20b52_row15_col5\" class=\"data row15 col5\" >0.5848</td>\n",
       "      <td id=\"T_20b52_row15_col6\" class=\"data row15 col6\" >0.4382</td>\n",
       "      <td id=\"T_20b52_row15_col7\" class=\"data row15 col7\" >0.0400</td>\n",
       "    </tr>\n",
       "    <tr>\n",
       "      <th id=\"T_20b52_level0_row16\" class=\"row_heading level0 row16\" >en_cds_dt</th>\n",
       "      <td id=\"T_20b52_row16_col0\" class=\"data row16 col0\" >Elastic Net w/ Cond. Deseasonalize & Detrending</td>\n",
       "      <td id=\"T_20b52_row16_col1\" class=\"data row16 col1\" >0.8796</td>\n",
       "      <td id=\"T_20b52_row16_col2\" class=\"data row16 col2\" >0.6741</td>\n",
       "      <td id=\"T_20b52_row16_col3\" class=\"data row16 col3\" >2790487.1654</td>\n",
       "      <td id=\"T_20b52_row16_col4\" class=\"data row16 col4\" >2790487.1654</td>\n",
       "      <td id=\"T_20b52_row16_col5\" class=\"data row16 col5\" >0.5848</td>\n",
       "      <td id=\"T_20b52_row16_col6\" class=\"data row16 col6\" >0.4382</td>\n",
       "      <td id=\"T_20b52_row16_col7\" class=\"data row16 col7\" >0.0400</td>\n",
       "    </tr>\n",
       "    <tr>\n",
       "      <th id=\"T_20b52_level0_row17\" class=\"row_heading level0 row17\" >lr_cds_dt</th>\n",
       "      <td id=\"T_20b52_row17_col0\" class=\"data row17 col0\" >Linear w/ Cond. Deseasonalize & Detrending</td>\n",
       "      <td id=\"T_20b52_row17_col1\" class=\"data row17 col1\" >0.8796</td>\n",
       "      <td id=\"T_20b52_row17_col2\" class=\"data row17 col2\" >0.6741</td>\n",
       "      <td id=\"T_20b52_row17_col3\" class=\"data row17 col3\" >2790487.1654</td>\n",
       "      <td id=\"T_20b52_row17_col4\" class=\"data row17 col4\" >2790487.1654</td>\n",
       "      <td id=\"T_20b52_row17_col5\" class=\"data row17 col5\" >0.5848</td>\n",
       "      <td id=\"T_20b52_row17_col6\" class=\"data row17 col6\" >0.4382</td>\n",
       "      <td id=\"T_20b52_row17_col7\" class=\"data row17 col7\" >0.0467</td>\n",
       "    </tr>\n",
       "    <tr>\n",
       "      <th id=\"T_20b52_level0_row18\" class=\"row_heading level0 row18\" >ridge_cds_dt</th>\n",
       "      <td id=\"T_20b52_row18_col0\" class=\"data row18 col0\" >Ridge w/ Cond. Deseasonalize & Detrending</td>\n",
       "      <td id=\"T_20b52_row18_col1\" class=\"data row18 col1\" >0.8796</td>\n",
       "      <td id=\"T_20b52_row18_col2\" class=\"data row18 col2\" >0.6741</td>\n",
       "      <td id=\"T_20b52_row18_col3\" class=\"data row18 col3\" >2790487.1654</td>\n",
       "      <td id=\"T_20b52_row18_col4\" class=\"data row18 col4\" >2790487.1654</td>\n",
       "      <td id=\"T_20b52_row18_col5\" class=\"data row18 col5\" >0.5848</td>\n",
       "      <td id=\"T_20b52_row18_col6\" class=\"data row18 col6\" >0.4382</td>\n",
       "      <td id=\"T_20b52_row18_col7\" class=\"data row18 col7\" >0.0400</td>\n",
       "    </tr>\n",
       "    <tr>\n",
       "      <th id=\"T_20b52_level0_row19\" class=\"row_heading level0 row19\" >arima</th>\n",
       "      <td id=\"T_20b52_row19_col0\" class=\"data row19 col0\" >ARIMA</td>\n",
       "      <td id=\"T_20b52_row19_col1\" class=\"data row19 col1\" >0.7994</td>\n",
       "      <td id=\"T_20b52_row19_col2\" class=\"data row19 col2\" >0.6121</td>\n",
       "      <td id=\"T_20b52_row19_col3\" class=\"data row19 col3\" >2529240.4500</td>\n",
       "      <td id=\"T_20b52_row19_col4\" class=\"data row19 col4\" >2529240.4500</td>\n",
       "      <td id=\"T_20b52_row19_col5\" class=\"data row19 col5\" >0.6218</td>\n",
       "      <td id=\"T_20b52_row19_col6\" class=\"data row19 col6\" >0.4236</td>\n",
       "      <td id=\"T_20b52_row19_col7\" class=\"data row19 col7\" >0.0400</td>\n",
       "    </tr>\n",
       "    <tr>\n",
       "      <th id=\"T_20b52_level0_row20\" class=\"row_heading level0 row20\" >huber_cds_dt</th>\n",
       "      <td id=\"T_20b52_row20_col0\" class=\"data row20 col0\" >Huber w/ Cond. Deseasonalize & Detrending</td>\n",
       "      <td id=\"T_20b52_row20_col1\" class=\"data row20 col1\" >0.9607</td>\n",
       "      <td id=\"T_20b52_row20_col2\" class=\"data row20 col2\" >0.7360</td>\n",
       "      <td id=\"T_20b52_row20_col3\" class=\"data row20 col3\" >3046263.6657</td>\n",
       "      <td id=\"T_20b52_row20_col4\" class=\"data row20 col4\" >3046263.6657</td>\n",
       "      <td id=\"T_20b52_row20_col5\" class=\"data row20 col5\" >0.6644</td>\n",
       "      <td id=\"T_20b52_row20_col6\" class=\"data row20 col6\" >0.4733</td>\n",
       "      <td id=\"T_20b52_row20_col7\" class=\"data row20 col7\" >0.0533</td>\n",
       "    </tr>\n",
       "    <tr>\n",
       "      <th id=\"T_20b52_level0_row21\" class=\"row_heading level0 row21\" >snaive</th>\n",
       "      <td id=\"T_20b52_row21_col0\" class=\"data row21 col0\" >Seasonal Naive Forecaster</td>\n",
       "      <td id=\"T_20b52_row21_col1\" class=\"data row21 col1\" >0.9964</td>\n",
       "      <td id=\"T_20b52_row21_col2\" class=\"data row21 col2\" >0.7632</td>\n",
       "      <td id=\"T_20b52_row21_col3\" class=\"data row21 col3\" >3153914.5433</td>\n",
       "      <td id=\"T_20b52_row21_col4\" class=\"data row21 col4\" >3153914.5433</td>\n",
       "      <td id=\"T_20b52_row21_col5\" class=\"data row21 col5\" >0.7571</td>\n",
       "      <td id=\"T_20b52_row21_col6\" class=\"data row21 col6\" >0.4912</td>\n",
       "      <td id=\"T_20b52_row21_col7\" class=\"data row21 col7\" >0.0400</td>\n",
       "    </tr>\n",
       "    <tr>\n",
       "      <th id=\"T_20b52_level0_row22\" class=\"row_heading level0 row22\" >auto_arima</th>\n",
       "      <td id=\"T_20b52_row22_col0\" class=\"data row22 col0\" >Auto ARIMA</td>\n",
       "      <td id=\"T_20b52_row22_col1\" class=\"data row22 col1\" >1.1628</td>\n",
       "      <td id=\"T_20b52_row22_col2\" class=\"data row22 col2\" >0.8913</td>\n",
       "      <td id=\"T_20b52_row22_col3\" class=\"data row22 col3\" >3688023.5868</td>\n",
       "      <td id=\"T_20b52_row22_col4\" class=\"data row22 col4\" >3688023.5868</td>\n",
       "      <td id=\"T_20b52_row22_col5\" class=\"data row22 col5\" >0.7749</td>\n",
       "      <td id=\"T_20b52_row22_col6\" class=\"data row22 col6\" >0.5615</td>\n",
       "      <td id=\"T_20b52_row22_col7\" class=\"data row22 col7\" >1.4133</td>\n",
       "    </tr>\n",
       "  </tbody>\n",
       "</table>\n"
      ],
      "text/plain": [
       "<pandas.io.formats.style.Styler at 0x224cbc872e0>"
      ]
     },
     "metadata": {},
     "output_type": "display_data"
    },
    {
     "data": {
      "text/html": [],
      "text/plain": [
       "<IPython.core.display.HTML object>"
      ]
     },
     "metadata": {},
     "output_type": "display_data"
    },
    {
     "data": {
      "application/vnd.plotly.v1+json": {
       "config": {
        "plotlyServerURL": "https://plot.ly"
       },
       "data": [
        {
         "line": {
          "color": "rgb(31, 119, 180)",
          "width": 2
         },
         "marker": {
          "color": "rgb(31, 119, 180)",
          "size": 5
         },
         "mode": "lines+markers",
         "name": "NET_SALES",
         "type": "scattergl",
         "x": [
          "2016-01-01T00:00:00",
          "2016-02-01T00:00:00",
          "2016-03-01T00:00:00",
          "2016-04-01T00:00:00",
          "2016-05-01T00:00:00",
          "2016-06-01T00:00:00",
          "2016-07-01T00:00:00",
          "2016-08-01T00:00:00",
          "2016-09-01T00:00:00",
          "2016-10-01T00:00:00",
          "2016-11-01T00:00:00",
          "2016-12-01T00:00:00",
          "2017-01-01T00:00:00",
          "2017-02-01T00:00:00",
          "2017-03-01T00:00:00",
          "2017-04-01T00:00:00",
          "2017-05-01T00:00:00",
          "2017-06-01T00:00:00",
          "2017-07-01T00:00:00",
          "2017-08-01T00:00:00",
          "2017-09-01T00:00:00",
          "2017-10-01T00:00:00",
          "2017-11-01T00:00:00",
          "2017-12-01T00:00:00",
          "2018-01-01T00:00:00",
          "2018-02-01T00:00:00",
          "2018-03-01T00:00:00",
          "2018-04-01T00:00:00",
          "2018-05-01T00:00:00",
          "2018-06-01T00:00:00",
          "2018-07-01T00:00:00",
          "2018-08-01T00:00:00",
          "2018-09-01T00:00:00",
          "2018-10-01T00:00:00",
          "2018-11-01T00:00:00",
          "2018-12-01T00:00:00",
          "2019-01-01T00:00:00",
          "2019-02-01T00:00:00",
          "2019-03-01T00:00:00",
          "2019-04-01T00:00:00",
          "2019-05-01T00:00:00",
          "2019-06-01T00:00:00",
          "2019-07-01T00:00:00",
          "2019-08-01T00:00:00",
          "2019-09-01T00:00:00",
          "2019-10-01T00:00:00",
          "2019-11-01T00:00:00",
          "2019-12-01T00:00:00",
          "2020-01-01T00:00:00",
          "2020-02-01T00:00:00",
          "2020-03-01T00:00:00",
          "2020-04-01T00:00:00",
          "2020-05-01T00:00:00",
          "2020-06-01T00:00:00",
          "2020-07-01T00:00:00",
          "2020-08-01T00:00:00",
          "2020-09-01T00:00:00",
          "2020-10-01T00:00:00",
          "2020-11-01T00:00:00",
          "2020-12-01T00:00:00",
          "2021-01-01T00:00:00",
          "2021-02-01T00:00:00",
          "2021-03-01T00:00:00",
          "2021-04-01T00:00:00",
          "2021-05-01T00:00:00",
          "2021-06-01T00:00:00",
          "2021-07-01T00:00:00",
          "2021-08-01T00:00:00",
          "2021-09-01T00:00:00",
          "2021-10-01T00:00:00",
          "2021-11-01T00:00:00",
          "2021-12-01T00:00:00",
          "2022-01-01T00:00:00",
          "2022-02-01T00:00:00",
          "2022-03-01T00:00:00",
          "2022-04-01T00:00:00",
          "2022-05-01T00:00:00",
          "2022-06-01T00:00:00",
          "2022-07-01T00:00:00",
          "2022-08-01T00:00:00",
          "2022-09-01T00:00:00",
          "2022-10-01T00:00:00",
          "2022-11-01T00:00:00",
          "2022-12-01T00:00:00"
         ],
         "xaxis": "x",
         "y": [
          617850.2399999998,
          7205068.12,
          14309761.85,
          14963514.52,
          5353261.800000001,
          4313279.18,
          6283148.800000001,
          5626725.619999999,
          10283086.45,
          6239512.659999999,
          16467966.490000002,
          6719381.109999999,
          1694443.7999999998,
          4319283.819999999,
          3585583.4100000006,
          15336265.410000002,
          6788842.97,
          2205625.1100000003,
          3689524.3199999994,
          4857901.0200000005,
          10655739.009999998,
          2014029.9100000001,
          11737527.920000002,
          6770589.78,
          1686205.64,
          4852140.47,
          9678992.96,
          10913615.799999999,
          1464360.3199999994,
          4328053.96,
          3681932.27,
          3147656.15,
          3711753.51,
          6790106.709999999,
          11928914.959999999,
          3357898.4499999997,
          2064315.12,
          3520819.13,
          5685451.570000001,
          13840909.290000001,
          46796.19000000021,
          4810160.59,
          1868190.24,
          6867357.890000001,
          4619829.2,
          3572095.9000000004,
          10165487.37,
          10365658.390000002,
          3340242.7800000003,
          3780604.6399999997,
          6303919.93,
          2730543.78,
          4323093.229999999,
          4871848.6,
          7427116.880000001,
          5110918.970000001,
          7741832.27,
          7374492.219999999,
          6572255.87,
          6689672.909999996,
          5166002.17,
          9261129.49,
          6578016.65,
          13399609.7,
          4543746.869999999,
          8401741.719999999,
          4253964.37,
          3571455.87,
          8128995.069999998,
          1456649.6600000001,
          8690709.71,
          6425749.7700000005,
          6712500.650000003,
          6785699.82,
          9609902.120000001,
          11843504.519999998,
          1288321.1900000002,
          428054.3399999991,
          1231398.2,
          3935815.5599999996,
          3668997.060000001,
          4095727.700000001,
          11012638.070000002,
          321313.77999999956
         ],
         "yaxis": "y"
        },
        {
         "line": {
          "color": "rgb(255, 127, 14)",
          "width": 2
         },
         "marker": {
          "color": "rgb(255, 127, 14)",
          "size": 5
         },
         "mode": "lines+markers",
         "name": "DecisionTreeRegressor",
         "type": "scattergl",
         "x": [
          "2016-01-01T00:00:00",
          "2016-02-01T00:00:00",
          "2016-03-01T00:00:00",
          "2016-04-01T00:00:00",
          "2016-05-01T00:00:00",
          "2016-06-01T00:00:00",
          "2016-07-01T00:00:00",
          "2016-08-01T00:00:00",
          "2016-09-01T00:00:00",
          "2016-10-01T00:00:00",
          "2016-11-01T00:00:00",
          "2016-12-01T00:00:00",
          "2017-01-01T00:00:00",
          "2017-02-01T00:00:00",
          "2017-03-01T00:00:00",
          "2017-04-01T00:00:00",
          "2017-05-01T00:00:00",
          "2017-06-01T00:00:00",
          "2017-07-01T00:00:00",
          "2017-08-01T00:00:00",
          "2017-09-01T00:00:00",
          "2017-10-01T00:00:00",
          "2017-11-01T00:00:00",
          "2017-12-01T00:00:00",
          "2018-01-01T00:00:00",
          "2018-02-01T00:00:00",
          "2018-03-01T00:00:00",
          "2018-04-01T00:00:00",
          "2018-05-01T00:00:00",
          "2018-06-01T00:00:00",
          "2018-07-01T00:00:00",
          "2018-08-01T00:00:00",
          "2018-09-01T00:00:00",
          "2018-10-01T00:00:00",
          "2018-11-01T00:00:00",
          "2018-12-01T00:00:00",
          "2019-01-01T00:00:00",
          "2019-02-01T00:00:00",
          "2019-03-01T00:00:00",
          "2019-04-01T00:00:00",
          "2019-05-01T00:00:00",
          "2019-06-01T00:00:00",
          "2019-07-01T00:00:00",
          "2019-08-01T00:00:00",
          "2019-09-01T00:00:00",
          "2019-10-01T00:00:00",
          "2019-11-01T00:00:00",
          "2019-12-01T00:00:00",
          "2020-01-01T00:00:00",
          "2020-02-01T00:00:00",
          "2020-03-01T00:00:00",
          "2020-04-01T00:00:00",
          "2020-05-01T00:00:00",
          "2020-06-01T00:00:00",
          "2020-07-01T00:00:00",
          "2020-08-01T00:00:00",
          "2020-09-01T00:00:00",
          "2020-10-01T00:00:00",
          "2020-11-01T00:00:00",
          "2020-12-01T00:00:00",
          "2021-01-01T00:00:00",
          "2021-02-01T00:00:00",
          "2021-03-01T00:00:00",
          "2021-04-01T00:00:00",
          "2021-05-01T00:00:00",
          "2021-06-01T00:00:00",
          "2021-07-01T00:00:00",
          "2021-08-01T00:00:00",
          "2021-09-01T00:00:00",
          "2021-10-01T00:00:00",
          "2021-11-01T00:00:00",
          "2021-12-01T00:00:00",
          "2022-01-01T00:00:00",
          "2022-02-01T00:00:00",
          "2022-03-01T00:00:00",
          "2022-04-01T00:00:00",
          "2022-05-01T00:00:00",
          "2022-06-01T00:00:00",
          "2022-07-01T00:00:00",
          "2022-08-01T00:00:00",
          "2022-09-01T00:00:00",
          "2022-10-01T00:00:00",
          "2022-11-01T00:00:00",
          "2022-12-01T00:00:00"
         ],
         "xaxis": "x",
         "y": [
          null,
          null,
          null,
          null,
          null,
          null,
          null,
          null,
          null,
          null,
          null,
          null,
          null,
          null,
          null,
          null,
          null,
          null,
          null,
          null,
          null,
          null,
          null,
          null,
          null,
          null,
          null,
          null,
          null,
          null,
          null,
          null,
          null,
          null,
          null,
          null,
          null,
          null,
          null,
          null,
          null,
          null,
          null,
          null,
          null,
          null,
          null,
          null,
          null,
          null,
          null,
          null,
          null,
          null,
          null,
          null,
          null,
          null,
          null,
          null,
          null,
          null,
          null,
          null,
          null,
          null,
          null,
          null,
          null,
          null,
          null,
          null,
          null,
          null,
          null,
          null,
          null,
          null,
          null,
          null,
          null,
          null,
          null,
          9138231.794
         ],
         "yaxis": "y"
        }
       ],
       "layout": {
        "showlegend": true,
        "template": {
         "data": {
          "bar": [
           {
            "error_x": {
             "color": "rgb(51,51,51)"
            },
            "error_y": {
             "color": "rgb(51,51,51)"
            },
            "marker": {
             "line": {
              "color": "rgb(237,237,237)",
              "width": 0.5
             },
             "pattern": {
              "fillmode": "overlay",
              "size": 10,
              "solidity": 0.2
             }
            },
            "type": "bar"
           }
          ],
          "barpolar": [
           {
            "marker": {
             "line": {
              "color": "rgb(237,237,237)",
              "width": 0.5
             },
             "pattern": {
              "fillmode": "overlay",
              "size": 10,
              "solidity": 0.2
             }
            },
            "type": "barpolar"
           }
          ],
          "carpet": [
           {
            "aaxis": {
             "endlinecolor": "rgb(51,51,51)",
             "gridcolor": "white",
             "linecolor": "white",
             "minorgridcolor": "white",
             "startlinecolor": "rgb(51,51,51)"
            },
            "baxis": {
             "endlinecolor": "rgb(51,51,51)",
             "gridcolor": "white",
             "linecolor": "white",
             "minorgridcolor": "white",
             "startlinecolor": "rgb(51,51,51)"
            },
            "type": "carpet"
           }
          ],
          "choropleth": [
           {
            "colorbar": {
             "outlinewidth": 0,
             "tickcolor": "rgb(237,237,237)",
             "ticklen": 6,
             "ticks": "inside"
            },
            "type": "choropleth"
           }
          ],
          "contour": [
           {
            "colorbar": {
             "outlinewidth": 0,
             "tickcolor": "rgb(237,237,237)",
             "ticklen": 6,
             "ticks": "inside"
            },
            "colorscale": [
             [
              0,
              "rgb(20,44,66)"
             ],
             [
              1,
              "rgb(90,179,244)"
             ]
            ],
            "type": "contour"
           }
          ],
          "contourcarpet": [
           {
            "colorbar": {
             "outlinewidth": 0,
             "tickcolor": "rgb(237,237,237)",
             "ticklen": 6,
             "ticks": "inside"
            },
            "type": "contourcarpet"
           }
          ],
          "heatmap": [
           {
            "colorbar": {
             "outlinewidth": 0,
             "tickcolor": "rgb(237,237,237)",
             "ticklen": 6,
             "ticks": "inside"
            },
            "colorscale": [
             [
              0,
              "rgb(20,44,66)"
             ],
             [
              1,
              "rgb(90,179,244)"
             ]
            ],
            "type": "heatmap"
           }
          ],
          "heatmapgl": [
           {
            "colorbar": {
             "outlinewidth": 0,
             "tickcolor": "rgb(237,237,237)",
             "ticklen": 6,
             "ticks": "inside"
            },
            "colorscale": [
             [
              0,
              "rgb(20,44,66)"
             ],
             [
              1,
              "rgb(90,179,244)"
             ]
            ],
            "type": "heatmapgl"
           }
          ],
          "histogram": [
           {
            "marker": {
             "pattern": {
              "fillmode": "overlay",
              "size": 10,
              "solidity": 0.2
             }
            },
            "type": "histogram"
           }
          ],
          "histogram2d": [
           {
            "colorbar": {
             "outlinewidth": 0,
             "tickcolor": "rgb(237,237,237)",
             "ticklen": 6,
             "ticks": "inside"
            },
            "colorscale": [
             [
              0,
              "rgb(20,44,66)"
             ],
             [
              1,
              "rgb(90,179,244)"
             ]
            ],
            "type": "histogram2d"
           }
          ],
          "histogram2dcontour": [
           {
            "colorbar": {
             "outlinewidth": 0,
             "tickcolor": "rgb(237,237,237)",
             "ticklen": 6,
             "ticks": "inside"
            },
            "colorscale": [
             [
              0,
              "rgb(20,44,66)"
             ],
             [
              1,
              "rgb(90,179,244)"
             ]
            ],
            "type": "histogram2dcontour"
           }
          ],
          "mesh3d": [
           {
            "colorbar": {
             "outlinewidth": 0,
             "tickcolor": "rgb(237,237,237)",
             "ticklen": 6,
             "ticks": "inside"
            },
            "type": "mesh3d"
           }
          ],
          "parcoords": [
           {
            "line": {
             "colorbar": {
              "outlinewidth": 0,
              "tickcolor": "rgb(237,237,237)",
              "ticklen": 6,
              "ticks": "inside"
             }
            },
            "type": "parcoords"
           }
          ],
          "pie": [
           {
            "automargin": true,
            "type": "pie"
           }
          ],
          "scatter": [
           {
            "fillpattern": {
             "fillmode": "overlay",
             "size": 10,
             "solidity": 0.2
            },
            "type": "scatter"
           }
          ],
          "scatter3d": [
           {
            "line": {
             "colorbar": {
              "outlinewidth": 0,
              "tickcolor": "rgb(237,237,237)",
              "ticklen": 6,
              "ticks": "inside"
             }
            },
            "marker": {
             "colorbar": {
              "outlinewidth": 0,
              "tickcolor": "rgb(237,237,237)",
              "ticklen": 6,
              "ticks": "inside"
             }
            },
            "type": "scatter3d"
           }
          ],
          "scattercarpet": [
           {
            "marker": {
             "colorbar": {
              "outlinewidth": 0,
              "tickcolor": "rgb(237,237,237)",
              "ticklen": 6,
              "ticks": "inside"
             }
            },
            "type": "scattercarpet"
           }
          ],
          "scattergeo": [
           {
            "marker": {
             "colorbar": {
              "outlinewidth": 0,
              "tickcolor": "rgb(237,237,237)",
              "ticklen": 6,
              "ticks": "inside"
             }
            },
            "type": "scattergeo"
           }
          ],
          "scattergl": [
           {
            "marker": {
             "colorbar": {
              "outlinewidth": 0,
              "tickcolor": "rgb(237,237,237)",
              "ticklen": 6,
              "ticks": "inside"
             }
            },
            "type": "scattergl"
           }
          ],
          "scattermapbox": [
           {
            "marker": {
             "colorbar": {
              "outlinewidth": 0,
              "tickcolor": "rgb(237,237,237)",
              "ticklen": 6,
              "ticks": "inside"
             }
            },
            "type": "scattermapbox"
           }
          ],
          "scatterpolar": [
           {
            "marker": {
             "colorbar": {
              "outlinewidth": 0,
              "tickcolor": "rgb(237,237,237)",
              "ticklen": 6,
              "ticks": "inside"
             }
            },
            "type": "scatterpolar"
           }
          ],
          "scatterpolargl": [
           {
            "marker": {
             "colorbar": {
              "outlinewidth": 0,
              "tickcolor": "rgb(237,237,237)",
              "ticklen": 6,
              "ticks": "inside"
             }
            },
            "type": "scatterpolargl"
           }
          ],
          "scatterternary": [
           {
            "marker": {
             "colorbar": {
              "outlinewidth": 0,
              "tickcolor": "rgb(237,237,237)",
              "ticklen": 6,
              "ticks": "inside"
             }
            },
            "type": "scatterternary"
           }
          ],
          "surface": [
           {
            "colorbar": {
             "outlinewidth": 0,
             "tickcolor": "rgb(237,237,237)",
             "ticklen": 6,
             "ticks": "inside"
            },
            "colorscale": [
             [
              0,
              "rgb(20,44,66)"
             ],
             [
              1,
              "rgb(90,179,244)"
             ]
            ],
            "type": "surface"
           }
          ],
          "table": [
           {
            "cells": {
             "fill": {
              "color": "rgb(237,237,237)"
             },
             "line": {
              "color": "white"
             }
            },
            "header": {
             "fill": {
              "color": "rgb(217,217,217)"
             },
             "line": {
              "color": "white"
             }
            },
            "type": "table"
           }
          ]
         },
         "layout": {
          "annotationdefaults": {
           "arrowhead": 0,
           "arrowwidth": 1
          },
          "autotypenumbers": "strict",
          "coloraxis": {
           "colorbar": {
            "outlinewidth": 0,
            "tickcolor": "rgb(237,237,237)",
            "ticklen": 6,
            "ticks": "inside"
           }
          },
          "colorscale": {
           "sequential": [
            [
             0,
             "rgb(20,44,66)"
            ],
            [
             1,
             "rgb(90,179,244)"
            ]
           ],
           "sequentialminus": [
            [
             0,
             "rgb(20,44,66)"
            ],
            [
             1,
             "rgb(90,179,244)"
            ]
           ]
          },
          "colorway": [
           "#F8766D",
           "#A3A500",
           "#00BF7D",
           "#00B0F6",
           "#E76BF3"
          ],
          "font": {
           "color": "rgb(51,51,51)"
          },
          "geo": {
           "bgcolor": "white",
           "lakecolor": "white",
           "landcolor": "rgb(237,237,237)",
           "showlakes": true,
           "showland": true,
           "subunitcolor": "white"
          },
          "hoverlabel": {
           "align": "left"
          },
          "hovermode": "closest",
          "paper_bgcolor": "white",
          "plot_bgcolor": "rgb(237,237,237)",
          "polar": {
           "angularaxis": {
            "gridcolor": "white",
            "linecolor": "white",
            "showgrid": true,
            "tickcolor": "rgb(51,51,51)",
            "ticks": "outside"
           },
           "bgcolor": "rgb(237,237,237)",
           "radialaxis": {
            "gridcolor": "white",
            "linecolor": "white",
            "showgrid": true,
            "tickcolor": "rgb(51,51,51)",
            "ticks": "outside"
           }
          },
          "scene": {
           "xaxis": {
            "backgroundcolor": "rgb(237,237,237)",
            "gridcolor": "white",
            "gridwidth": 2,
            "linecolor": "white",
            "showbackground": true,
            "showgrid": true,
            "tickcolor": "rgb(51,51,51)",
            "ticks": "outside",
            "zerolinecolor": "white"
           },
           "yaxis": {
            "backgroundcolor": "rgb(237,237,237)",
            "gridcolor": "white",
            "gridwidth": 2,
            "linecolor": "white",
            "showbackground": true,
            "showgrid": true,
            "tickcolor": "rgb(51,51,51)",
            "ticks": "outside",
            "zerolinecolor": "white"
           },
           "zaxis": {
            "backgroundcolor": "rgb(237,237,237)",
            "gridcolor": "white",
            "gridwidth": 2,
            "linecolor": "white",
            "showbackground": true,
            "showgrid": true,
            "tickcolor": "rgb(51,51,51)",
            "ticks": "outside",
            "zerolinecolor": "white"
           }
          },
          "shapedefaults": {
           "fillcolor": "black",
           "line": {
            "width": 0
           },
           "opacity": 0.3
          },
          "ternary": {
           "aaxis": {
            "gridcolor": "white",
            "linecolor": "white",
            "showgrid": true,
            "tickcolor": "rgb(51,51,51)",
            "ticks": "outside"
           },
           "baxis": {
            "gridcolor": "white",
            "linecolor": "white",
            "showgrid": true,
            "tickcolor": "rgb(51,51,51)",
            "ticks": "outside"
           },
           "bgcolor": "rgb(237,237,237)",
           "caxis": {
            "gridcolor": "white",
            "linecolor": "white",
            "showgrid": true,
            "tickcolor": "rgb(51,51,51)",
            "ticks": "outside"
           }
          },
          "xaxis": {
           "automargin": true,
           "gridcolor": "white",
           "linecolor": "white",
           "showgrid": true,
           "tickcolor": "rgb(51,51,51)",
           "ticks": "outside",
           "title": {
            "standoff": 15
           },
           "zerolinecolor": "white"
          },
          "yaxis": {
           "automargin": true,
           "gridcolor": "white",
           "linecolor": "white",
           "showgrid": true,
           "tickcolor": "rgb(51,51,51)",
           "ticks": "outside",
           "title": {
            "standoff": 15
           },
           "zerolinecolor": "white"
          }
         }
        },
        "title": {
         "text": "Actual vs. Forecast (Out-of-Sample)"
        },
        "xaxis": {
         "anchor": "y",
         "domain": [
          0,
          1
         ]
        },
        "yaxis": {
         "anchor": "x",
         "domain": [
          0,
          1
         ]
        }
       }
      }
     },
     "metadata": {},
     "output_type": "display_data"
    },
    {
     "name": "stderr",
     "output_type": "stream",
     "text": [
      " 36%|███▌      | 5/14 [01:11<02:03, 13.67s/it]"
     ]
    },
    {
     "data": {
      "text/html": [
       "<style type=\"text/css\">\n",
       "#T_a9854_row25_col1, #T_a9854_row31_col1 {\n",
       "  background-color: lightgreen;\n",
       "}\n",
       "</style>\n",
       "<table id=\"T_a9854\">\n",
       "  <thead>\n",
       "    <tr>\n",
       "      <th class=\"blank level0\" >&nbsp;</th>\n",
       "      <th id=\"T_a9854_level0_col0\" class=\"col_heading level0 col0\" >Description</th>\n",
       "      <th id=\"T_a9854_level0_col1\" class=\"col_heading level0 col1\" >Value</th>\n",
       "    </tr>\n",
       "  </thead>\n",
       "  <tbody>\n",
       "    <tr>\n",
       "      <th id=\"T_a9854_level0_row0\" class=\"row_heading level0 row0\" >0</th>\n",
       "      <td id=\"T_a9854_row0_col0\" class=\"data row0 col0\" >session_id</td>\n",
       "      <td id=\"T_a9854_row0_col1\" class=\"data row0 col1\" >123</td>\n",
       "    </tr>\n",
       "    <tr>\n",
       "      <th id=\"T_a9854_level0_row1\" class=\"row_heading level0 row1\" >1</th>\n",
       "      <td id=\"T_a9854_row1_col0\" class=\"data row1 col0\" >Target</td>\n",
       "      <td id=\"T_a9854_row1_col1\" class=\"data row1 col1\" >NET_SALES</td>\n",
       "    </tr>\n",
       "    <tr>\n",
       "      <th id=\"T_a9854_level0_row2\" class=\"row_heading level0 row2\" >2</th>\n",
       "      <td id=\"T_a9854_row2_col0\" class=\"data row2 col0\" >Approach</td>\n",
       "      <td id=\"T_a9854_row2_col1\" class=\"data row2 col1\" >Univariate</td>\n",
       "    </tr>\n",
       "    <tr>\n",
       "      <th id=\"T_a9854_level0_row3\" class=\"row_heading level0 row3\" >3</th>\n",
       "      <td id=\"T_a9854_row3_col0\" class=\"data row3 col0\" >Exogenous Variables</td>\n",
       "      <td id=\"T_a9854_row3_col1\" class=\"data row3 col1\" >Not Present</td>\n",
       "    </tr>\n",
       "    <tr>\n",
       "      <th id=\"T_a9854_level0_row4\" class=\"row_heading level0 row4\" >4</th>\n",
       "      <td id=\"T_a9854_row4_col0\" class=\"data row4 col0\" >Original data shape</td>\n",
       "      <td id=\"T_a9854_row4_col1\" class=\"data row4 col1\" >(84, 1)</td>\n",
       "    </tr>\n",
       "    <tr>\n",
       "      <th id=\"T_a9854_level0_row5\" class=\"row_heading level0 row5\" >5</th>\n",
       "      <td id=\"T_a9854_row5_col0\" class=\"data row5 col0\" >Transformed data shape</td>\n",
       "      <td id=\"T_a9854_row5_col1\" class=\"data row5 col1\" >(84, 1)</td>\n",
       "    </tr>\n",
       "    <tr>\n",
       "      <th id=\"T_a9854_level0_row6\" class=\"row_heading level0 row6\" >6</th>\n",
       "      <td id=\"T_a9854_row6_col0\" class=\"data row6 col0\" >Transformed train set shape</td>\n",
       "      <td id=\"T_a9854_row6_col1\" class=\"data row6 col1\" >(83, 1)</td>\n",
       "    </tr>\n",
       "    <tr>\n",
       "      <th id=\"T_a9854_level0_row7\" class=\"row_heading level0 row7\" >7</th>\n",
       "      <td id=\"T_a9854_row7_col0\" class=\"data row7 col0\" >Transformed test set shape</td>\n",
       "      <td id=\"T_a9854_row7_col1\" class=\"data row7 col1\" >(1, 1)</td>\n",
       "    </tr>\n",
       "    <tr>\n",
       "      <th id=\"T_a9854_level0_row8\" class=\"row_heading level0 row8\" >8</th>\n",
       "      <td id=\"T_a9854_row8_col0\" class=\"data row8 col0\" >Rows with missing values</td>\n",
       "      <td id=\"T_a9854_row8_col1\" class=\"data row8 col1\" >0.0%</td>\n",
       "    </tr>\n",
       "    <tr>\n",
       "      <th id=\"T_a9854_level0_row9\" class=\"row_heading level0 row9\" >9</th>\n",
       "      <td id=\"T_a9854_row9_col0\" class=\"data row9 col0\" >Fold Generator</td>\n",
       "      <td id=\"T_a9854_row9_col1\" class=\"data row9 col1\" >ExpandingWindowSplitter</td>\n",
       "    </tr>\n",
       "    <tr>\n",
       "      <th id=\"T_a9854_level0_row10\" class=\"row_heading level0 row10\" >10</th>\n",
       "      <td id=\"T_a9854_row10_col0\" class=\"data row10 col0\" >Fold Number</td>\n",
       "      <td id=\"T_a9854_row10_col1\" class=\"data row10 col1\" >3</td>\n",
       "    </tr>\n",
       "    <tr>\n",
       "      <th id=\"T_a9854_level0_row11\" class=\"row_heading level0 row11\" >11</th>\n",
       "      <td id=\"T_a9854_row11_col0\" class=\"data row11 col0\" >Enforce Prediction Interval</td>\n",
       "      <td id=\"T_a9854_row11_col1\" class=\"data row11 col1\" >False</td>\n",
       "    </tr>\n",
       "    <tr>\n",
       "      <th id=\"T_a9854_level0_row12\" class=\"row_heading level0 row12\" >12</th>\n",
       "      <td id=\"T_a9854_row12_col0\" class=\"data row12 col0\" >Splits used for hyperparameters</td>\n",
       "      <td id=\"T_a9854_row12_col1\" class=\"data row12 col1\" >all</td>\n",
       "    </tr>\n",
       "    <tr>\n",
       "      <th id=\"T_a9854_level0_row13\" class=\"row_heading level0 row13\" >13</th>\n",
       "      <td id=\"T_a9854_row13_col0\" class=\"data row13 col0\" >User Defined Seasonal Period(s)</td>\n",
       "      <td id=\"T_a9854_row13_col1\" class=\"data row13 col1\" >None</td>\n",
       "    </tr>\n",
       "    <tr>\n",
       "      <th id=\"T_a9854_level0_row14\" class=\"row_heading level0 row14\" >14</th>\n",
       "      <td id=\"T_a9854_row14_col0\" class=\"data row14 col0\" >Ignore Seasonality Test</td>\n",
       "      <td id=\"T_a9854_row14_col1\" class=\"data row14 col1\" >False</td>\n",
       "    </tr>\n",
       "    <tr>\n",
       "      <th id=\"T_a9854_level0_row15\" class=\"row_heading level0 row15\" >15</th>\n",
       "      <td id=\"T_a9854_row15_col0\" class=\"data row15 col0\" >Seasonality Detection Algo</td>\n",
       "      <td id=\"T_a9854_row15_col1\" class=\"data row15 col1\" >auto</td>\n",
       "    </tr>\n",
       "    <tr>\n",
       "      <th id=\"T_a9854_level0_row16\" class=\"row_heading level0 row16\" >16</th>\n",
       "      <td id=\"T_a9854_row16_col0\" class=\"data row16 col0\" >Max Period to Consider</td>\n",
       "      <td id=\"T_a9854_row16_col1\" class=\"data row16 col1\" >60</td>\n",
       "    </tr>\n",
       "    <tr>\n",
       "      <th id=\"T_a9854_level0_row17\" class=\"row_heading level0 row17\" >17</th>\n",
       "      <td id=\"T_a9854_row17_col0\" class=\"data row17 col0\" >Seasonal Period(s) Tested</td>\n",
       "      <td id=\"T_a9854_row17_col1\" class=\"data row17 col1\" >[5]</td>\n",
       "    </tr>\n",
       "    <tr>\n",
       "      <th id=\"T_a9854_level0_row18\" class=\"row_heading level0 row18\" >18</th>\n",
       "      <td id=\"T_a9854_row18_col0\" class=\"data row18 col0\" >Significant Seasonal Period(s)</td>\n",
       "      <td id=\"T_a9854_row18_col1\" class=\"data row18 col1\" >[5]</td>\n",
       "    </tr>\n",
       "    <tr>\n",
       "      <th id=\"T_a9854_level0_row19\" class=\"row_heading level0 row19\" >19</th>\n",
       "      <td id=\"T_a9854_row19_col0\" class=\"data row19 col0\" >Significant Seasonal Period(s) without Harmonics</td>\n",
       "      <td id=\"T_a9854_row19_col1\" class=\"data row19 col1\" >[5]</td>\n",
       "    </tr>\n",
       "    <tr>\n",
       "      <th id=\"T_a9854_level0_row20\" class=\"row_heading level0 row20\" >20</th>\n",
       "      <td id=\"T_a9854_row20_col0\" class=\"data row20 col0\" >Remove Harmonics</td>\n",
       "      <td id=\"T_a9854_row20_col1\" class=\"data row20 col1\" >False</td>\n",
       "    </tr>\n",
       "    <tr>\n",
       "      <th id=\"T_a9854_level0_row21\" class=\"row_heading level0 row21\" >21</th>\n",
       "      <td id=\"T_a9854_row21_col0\" class=\"data row21 col0\" >Harmonics Order Method</td>\n",
       "      <td id=\"T_a9854_row21_col1\" class=\"data row21 col1\" >harmonic_max</td>\n",
       "    </tr>\n",
       "    <tr>\n",
       "      <th id=\"T_a9854_level0_row22\" class=\"row_heading level0 row22\" >22</th>\n",
       "      <td id=\"T_a9854_row22_col0\" class=\"data row22 col0\" >Num Seasonalities to Use</td>\n",
       "      <td id=\"T_a9854_row22_col1\" class=\"data row22 col1\" >1</td>\n",
       "    </tr>\n",
       "    <tr>\n",
       "      <th id=\"T_a9854_level0_row23\" class=\"row_heading level0 row23\" >23</th>\n",
       "      <td id=\"T_a9854_row23_col0\" class=\"data row23 col0\" >All Seasonalities to Use</td>\n",
       "      <td id=\"T_a9854_row23_col1\" class=\"data row23 col1\" >[5]</td>\n",
       "    </tr>\n",
       "    <tr>\n",
       "      <th id=\"T_a9854_level0_row24\" class=\"row_heading level0 row24\" >24</th>\n",
       "      <td id=\"T_a9854_row24_col0\" class=\"data row24 col0\" >Primary Seasonality</td>\n",
       "      <td id=\"T_a9854_row24_col1\" class=\"data row24 col1\" >5</td>\n",
       "    </tr>\n",
       "    <tr>\n",
       "      <th id=\"T_a9854_level0_row25\" class=\"row_heading level0 row25\" >25</th>\n",
       "      <td id=\"T_a9854_row25_col0\" class=\"data row25 col0\" >Seasonality Present</td>\n",
       "      <td id=\"T_a9854_row25_col1\" class=\"data row25 col1\" >True</td>\n",
       "    </tr>\n",
       "    <tr>\n",
       "      <th id=\"T_a9854_level0_row26\" class=\"row_heading level0 row26\" >26</th>\n",
       "      <td id=\"T_a9854_row26_col0\" class=\"data row26 col0\" >Seasonality Type</td>\n",
       "      <td id=\"T_a9854_row26_col1\" class=\"data row26 col1\" >add</td>\n",
       "    </tr>\n",
       "    <tr>\n",
       "      <th id=\"T_a9854_level0_row27\" class=\"row_heading level0 row27\" >27</th>\n",
       "      <td id=\"T_a9854_row27_col0\" class=\"data row27 col0\" >Target Strictly Positive</td>\n",
       "      <td id=\"T_a9854_row27_col1\" class=\"data row27 col1\" >False</td>\n",
       "    </tr>\n",
       "    <tr>\n",
       "      <th id=\"T_a9854_level0_row28\" class=\"row_heading level0 row28\" >28</th>\n",
       "      <td id=\"T_a9854_row28_col0\" class=\"data row28 col0\" >Target White Noise</td>\n",
       "      <td id=\"T_a9854_row28_col1\" class=\"data row28 col1\" >No</td>\n",
       "    </tr>\n",
       "    <tr>\n",
       "      <th id=\"T_a9854_level0_row29\" class=\"row_heading level0 row29\" >29</th>\n",
       "      <td id=\"T_a9854_row29_col0\" class=\"data row29 col0\" >Recommended d</td>\n",
       "      <td id=\"T_a9854_row29_col1\" class=\"data row29 col1\" >1</td>\n",
       "    </tr>\n",
       "    <tr>\n",
       "      <th id=\"T_a9854_level0_row30\" class=\"row_heading level0 row30\" >30</th>\n",
       "      <td id=\"T_a9854_row30_col0\" class=\"data row30 col0\" >Recommended Seasonal D</td>\n",
       "      <td id=\"T_a9854_row30_col1\" class=\"data row30 col1\" >0</td>\n",
       "    </tr>\n",
       "    <tr>\n",
       "      <th id=\"T_a9854_level0_row31\" class=\"row_heading level0 row31\" >31</th>\n",
       "      <td id=\"T_a9854_row31_col0\" class=\"data row31 col0\" >Preprocess</td>\n",
       "      <td id=\"T_a9854_row31_col1\" class=\"data row31 col1\" >True</td>\n",
       "    </tr>\n",
       "    <tr>\n",
       "      <th id=\"T_a9854_level0_row32\" class=\"row_heading level0 row32\" >32</th>\n",
       "      <td id=\"T_a9854_row32_col0\" class=\"data row32 col0\" >Numerical Imputation (Target)</td>\n",
       "      <td id=\"T_a9854_row32_col1\" class=\"data row32 col1\" >mean</td>\n",
       "    </tr>\n",
       "    <tr>\n",
       "      <th id=\"T_a9854_level0_row33\" class=\"row_heading level0 row33\" >33</th>\n",
       "      <td id=\"T_a9854_row33_col0\" class=\"data row33 col0\" >Transformation (Target)</td>\n",
       "      <td id=\"T_a9854_row33_col1\" class=\"data row33 col1\" >None</td>\n",
       "    </tr>\n",
       "    <tr>\n",
       "      <th id=\"T_a9854_level0_row34\" class=\"row_heading level0 row34\" >34</th>\n",
       "      <td id=\"T_a9854_row34_col0\" class=\"data row34 col0\" >Scaling (Target)</td>\n",
       "      <td id=\"T_a9854_row34_col1\" class=\"data row34 col1\" >None</td>\n",
       "    </tr>\n",
       "    <tr>\n",
       "      <th id=\"T_a9854_level0_row35\" class=\"row_heading level0 row35\" >35</th>\n",
       "      <td id=\"T_a9854_row35_col0\" class=\"data row35 col0\" >Feature Engineering (Target) - Reduced Regression</td>\n",
       "      <td id=\"T_a9854_row35_col1\" class=\"data row35 col1\" >False</td>\n",
       "    </tr>\n",
       "    <tr>\n",
       "      <th id=\"T_a9854_level0_row36\" class=\"row_heading level0 row36\" >36</th>\n",
       "      <td id=\"T_a9854_row36_col0\" class=\"data row36 col0\" >CPU Jobs</td>\n",
       "      <td id=\"T_a9854_row36_col1\" class=\"data row36 col1\" >-1</td>\n",
       "    </tr>\n",
       "    <tr>\n",
       "      <th id=\"T_a9854_level0_row37\" class=\"row_heading level0 row37\" >37</th>\n",
       "      <td id=\"T_a9854_row37_col0\" class=\"data row37 col0\" >Use GPU</td>\n",
       "      <td id=\"T_a9854_row37_col1\" class=\"data row37 col1\" >False</td>\n",
       "    </tr>\n",
       "    <tr>\n",
       "      <th id=\"T_a9854_level0_row38\" class=\"row_heading level0 row38\" >38</th>\n",
       "      <td id=\"T_a9854_row38_col0\" class=\"data row38 col0\" >Log Experiment</td>\n",
       "      <td id=\"T_a9854_row38_col1\" class=\"data row38 col1\" >False</td>\n",
       "    </tr>\n",
       "    <tr>\n",
       "      <th id=\"T_a9854_level0_row39\" class=\"row_heading level0 row39\" >39</th>\n",
       "      <td id=\"T_a9854_row39_col0\" class=\"data row39 col0\" >Experiment Name</td>\n",
       "      <td id=\"T_a9854_row39_col1\" class=\"data row39 col1\" >ts-default-name</td>\n",
       "    </tr>\n",
       "    <tr>\n",
       "      <th id=\"T_a9854_level0_row40\" class=\"row_heading level0 row40\" >40</th>\n",
       "      <td id=\"T_a9854_row40_col0\" class=\"data row40 col0\" >USI</td>\n",
       "      <td id=\"T_a9854_row40_col1\" class=\"data row40 col1\" >41b8</td>\n",
       "    </tr>\n",
       "  </tbody>\n",
       "</table>\n"
      ],
      "text/plain": [
       "<pandas.io.formats.style.Styler at 0x224cf7ae8b0>"
      ]
     },
     "metadata": {},
     "output_type": "display_data"
    },
    {
     "data": {
      "text/html": [],
      "text/plain": [
       "<IPython.core.display.HTML object>"
      ]
     },
     "metadata": {},
     "output_type": "display_data"
    },
    {
     "data": {
      "text/html": [
       "<style type=\"text/css\">\n",
       "#T_b282c th {\n",
       "  text-align: left;\n",
       "}\n",
       "#T_b282c_row0_col0, #T_b282c_row0_col1, #T_b282c_row0_col2, #T_b282c_row0_col3, #T_b282c_row0_col4, #T_b282c_row0_col6, #T_b282c_row1_col0, #T_b282c_row1_col1, #T_b282c_row1_col2, #T_b282c_row1_col3, #T_b282c_row1_col4, #T_b282c_row1_col5, #T_b282c_row1_col6, #T_b282c_row2_col0, #T_b282c_row2_col1, #T_b282c_row2_col2, #T_b282c_row2_col3, #T_b282c_row2_col4, #T_b282c_row2_col5, #T_b282c_row2_col6, #T_b282c_row3_col0, #T_b282c_row3_col1, #T_b282c_row3_col2, #T_b282c_row3_col3, #T_b282c_row3_col4, #T_b282c_row3_col5, #T_b282c_row3_col6, #T_b282c_row4_col0, #T_b282c_row4_col1, #T_b282c_row4_col2, #T_b282c_row4_col3, #T_b282c_row4_col4, #T_b282c_row4_col5, #T_b282c_row4_col6, #T_b282c_row5_col0, #T_b282c_row5_col1, #T_b282c_row5_col2, #T_b282c_row5_col3, #T_b282c_row5_col4, #T_b282c_row5_col5, #T_b282c_row5_col6, #T_b282c_row6_col0, #T_b282c_row6_col1, #T_b282c_row6_col2, #T_b282c_row6_col3, #T_b282c_row6_col4, #T_b282c_row6_col5, #T_b282c_row6_col6, #T_b282c_row7_col0, #T_b282c_row7_col1, #T_b282c_row7_col2, #T_b282c_row7_col3, #T_b282c_row7_col4, #T_b282c_row7_col5, #T_b282c_row7_col6, #T_b282c_row8_col0, #T_b282c_row8_col1, #T_b282c_row8_col2, #T_b282c_row8_col3, #T_b282c_row8_col4, #T_b282c_row8_col5, #T_b282c_row8_col6, #T_b282c_row9_col0, #T_b282c_row9_col1, #T_b282c_row9_col2, #T_b282c_row9_col3, #T_b282c_row9_col4, #T_b282c_row9_col5, #T_b282c_row9_col6, #T_b282c_row10_col0, #T_b282c_row10_col1, #T_b282c_row10_col2, #T_b282c_row10_col3, #T_b282c_row10_col4, #T_b282c_row10_col5, #T_b282c_row10_col6, #T_b282c_row11_col0, #T_b282c_row11_col1, #T_b282c_row11_col2, #T_b282c_row11_col3, #T_b282c_row11_col4, #T_b282c_row11_col5, #T_b282c_row11_col6, #T_b282c_row12_col0, #T_b282c_row12_col1, #T_b282c_row12_col2, #T_b282c_row12_col3, #T_b282c_row12_col4, #T_b282c_row12_col5, #T_b282c_row12_col6, #T_b282c_row13_col0, #T_b282c_row13_col5, #T_b282c_row14_col0, #T_b282c_row14_col5, #T_b282c_row15_col0, #T_b282c_row15_col5, #T_b282c_row16_col0, #T_b282c_row16_col5, #T_b282c_row17_col0, #T_b282c_row17_col5, #T_b282c_row18_col0, #T_b282c_row18_col1, #T_b282c_row18_col2, #T_b282c_row18_col3, #T_b282c_row18_col4, #T_b282c_row18_col5, #T_b282c_row18_col6, #T_b282c_row19_col0, #T_b282c_row19_col1, #T_b282c_row19_col2, #T_b282c_row19_col3, #T_b282c_row19_col4, #T_b282c_row19_col5, #T_b282c_row19_col6, #T_b282c_row20_col0, #T_b282c_row20_col1, #T_b282c_row20_col2, #T_b282c_row20_col3, #T_b282c_row20_col4, #T_b282c_row20_col5, #T_b282c_row20_col6, #T_b282c_row21_col0, #T_b282c_row21_col1, #T_b282c_row21_col2, #T_b282c_row21_col3, #T_b282c_row21_col4, #T_b282c_row21_col5, #T_b282c_row21_col6, #T_b282c_row22_col0, #T_b282c_row22_col1, #T_b282c_row22_col2, #T_b282c_row22_col3, #T_b282c_row22_col4, #T_b282c_row22_col5, #T_b282c_row22_col6 {\n",
       "  text-align: left;\n",
       "}\n",
       "#T_b282c_row0_col5, #T_b282c_row13_col1, #T_b282c_row13_col2, #T_b282c_row13_col3, #T_b282c_row13_col4, #T_b282c_row13_col6, #T_b282c_row14_col1, #T_b282c_row14_col2, #T_b282c_row14_col3, #T_b282c_row14_col4, #T_b282c_row14_col6, #T_b282c_row15_col1, #T_b282c_row15_col2, #T_b282c_row15_col3, #T_b282c_row15_col4, #T_b282c_row15_col6, #T_b282c_row16_col1, #T_b282c_row16_col2, #T_b282c_row16_col3, #T_b282c_row16_col4, #T_b282c_row16_col6, #T_b282c_row17_col1, #T_b282c_row17_col2, #T_b282c_row17_col3, #T_b282c_row17_col4, #T_b282c_row17_col6 {\n",
       "  text-align: left;\n",
       "  background-color: yellow;\n",
       "}\n",
       "#T_b282c_row0_col7, #T_b282c_row1_col7, #T_b282c_row2_col7, #T_b282c_row4_col7, #T_b282c_row5_col7, #T_b282c_row6_col7, #T_b282c_row7_col7, #T_b282c_row8_col7, #T_b282c_row9_col7, #T_b282c_row10_col7, #T_b282c_row11_col7, #T_b282c_row12_col7, #T_b282c_row13_col7, #T_b282c_row14_col7, #T_b282c_row15_col7, #T_b282c_row16_col7, #T_b282c_row17_col7, #T_b282c_row18_col7, #T_b282c_row19_col7, #T_b282c_row20_col7, #T_b282c_row21_col7, #T_b282c_row22_col7 {\n",
       "  text-align: left;\n",
       "  background-color: lightgrey;\n",
       "}\n",
       "#T_b282c_row3_col7 {\n",
       "  text-align: left;\n",
       "  background-color: yellow;\n",
       "  background-color: lightgrey;\n",
       "}\n",
       "</style>\n",
       "<table id=\"T_b282c\">\n",
       "  <thead>\n",
       "    <tr>\n",
       "      <th class=\"blank level0\" >&nbsp;</th>\n",
       "      <th id=\"T_b282c_level0_col0\" class=\"col_heading level0 col0\" >Model</th>\n",
       "      <th id=\"T_b282c_level0_col1\" class=\"col_heading level0 col1\" >MASE</th>\n",
       "      <th id=\"T_b282c_level0_col2\" class=\"col_heading level0 col2\" >RMSSE</th>\n",
       "      <th id=\"T_b282c_level0_col3\" class=\"col_heading level0 col3\" >MAE</th>\n",
       "      <th id=\"T_b282c_level0_col4\" class=\"col_heading level0 col4\" >RMSE</th>\n",
       "      <th id=\"T_b282c_level0_col5\" class=\"col_heading level0 col5\" >MAPE</th>\n",
       "      <th id=\"T_b282c_level0_col6\" class=\"col_heading level0 col6\" >SMAPE</th>\n",
       "      <th id=\"T_b282c_level0_col7\" class=\"col_heading level0 col7\" >TT (Sec)</th>\n",
       "    </tr>\n",
       "  </thead>\n",
       "  <tbody>\n",
       "    <tr>\n",
       "      <th id=\"T_b282c_level0_row0\" class=\"row_heading level0 row0\" >exp_smooth</th>\n",
       "      <td id=\"T_b282c_row0_col0\" class=\"data row0 col0\" >Exponential Smoothing</td>\n",
       "      <td id=\"T_b282c_row0_col1\" class=\"data row0 col1\" >0.8102</td>\n",
       "      <td id=\"T_b282c_row0_col2\" class=\"data row0 col2\" >0.6307</td>\n",
       "      <td id=\"T_b282c_row0_col3\" class=\"data row0 col3\" >312933.3513</td>\n",
       "      <td id=\"T_b282c_row0_col4\" class=\"data row0 col4\" >312933.3513</td>\n",
       "      <td id=\"T_b282c_row0_col5\" class=\"data row0 col5\" >2.0707</td>\n",
       "      <td id=\"T_b282c_row0_col6\" class=\"data row0 col6\" >1.1612</td>\n",
       "      <td id=\"T_b282c_row0_col7\" class=\"data row0 col7\" >0.0533</td>\n",
       "    </tr>\n",
       "    <tr>\n",
       "      <th id=\"T_b282c_level0_row1\" class=\"row_heading level0 row1\" >dt_cds_dt</th>\n",
       "      <td id=\"T_b282c_row1_col0\" class=\"data row1 col0\" >Decision Tree w/ Cond. Deseasonalize & Detrending</td>\n",
       "      <td id=\"T_b282c_row1_col1\" class=\"data row1 col1\" >1.0101</td>\n",
       "      <td id=\"T_b282c_row1_col2\" class=\"data row1 col2\" >0.7863</td>\n",
       "      <td id=\"T_b282c_row1_col3\" class=\"data row1 col3\" >389903.3672</td>\n",
       "      <td id=\"T_b282c_row1_col4\" class=\"data row1 col4\" >389903.3672</td>\n",
       "      <td id=\"T_b282c_row1_col5\" class=\"data row1 col5\" >2.5751</td>\n",
       "      <td id=\"T_b282c_row1_col6\" class=\"data row1 col6\" >1.3243</td>\n",
       "      <td id=\"T_b282c_row1_col7\" class=\"data row1 col7\" >0.0400</td>\n",
       "    </tr>\n",
       "    <tr>\n",
       "      <th id=\"T_b282c_level0_row2\" class=\"row_heading level0 row2\" >theta</th>\n",
       "      <td id=\"T_b282c_row2_col0\" class=\"data row2 col0\" >Theta Forecaster</td>\n",
       "      <td id=\"T_b282c_row2_col1\" class=\"data row2 col1\" >0.7899</td>\n",
       "      <td id=\"T_b282c_row2_col2\" class=\"data row2 col2\" >0.6145</td>\n",
       "      <td id=\"T_b282c_row2_col3\" class=\"data row2 col3\" >304324.0932</td>\n",
       "      <td id=\"T_b282c_row2_col4\" class=\"data row2 col4\" >304324.0932</td>\n",
       "      <td id=\"T_b282c_row2_col5\" class=\"data row2 col5\" >2.5853</td>\n",
       "      <td id=\"T_b282c_row2_col6\" class=\"data row2 col6\" >0.9164</td>\n",
       "      <td id=\"T_b282c_row2_col7\" class=\"data row2 col7\" >0.0267</td>\n",
       "    </tr>\n",
       "    <tr>\n",
       "      <th id=\"T_b282c_level0_row3\" class=\"row_heading level0 row3\" >polytrend</th>\n",
       "      <td id=\"T_b282c_row3_col0\" class=\"data row3 col0\" >Polynomial Trend Forecaster</td>\n",
       "      <td id=\"T_b282c_row3_col1\" class=\"data row3 col1\" >0.7556</td>\n",
       "      <td id=\"T_b282c_row3_col2\" class=\"data row3 col2\" >0.5877</td>\n",
       "      <td id=\"T_b282c_row3_col3\" class=\"data row3 col3\" >290972.7438</td>\n",
       "      <td id=\"T_b282c_row3_col4\" class=\"data row3 col4\" >290972.7438</td>\n",
       "      <td id=\"T_b282c_row3_col5\" class=\"data row3 col5\" >2.7337</td>\n",
       "      <td id=\"T_b282c_row3_col6\" class=\"data row3 col6\" >0.8667</td>\n",
       "      <td id=\"T_b282c_row3_col7\" class=\"data row3 col7\" >0.0233</td>\n",
       "    </tr>\n",
       "    <tr>\n",
       "      <th id=\"T_b282c_level0_row4\" class=\"row_heading level0 row4\" >gbr_cds_dt</th>\n",
       "      <td id=\"T_b282c_row4_col0\" class=\"data row4 col0\" >Gradient Boosting w/ Cond. Deseasonalize & Detrending</td>\n",
       "      <td id=\"T_b282c_row4_col1\" class=\"data row4 col1\" >1.1082</td>\n",
       "      <td id=\"T_b282c_row4_col2\" class=\"data row4 col2\" >0.8624</td>\n",
       "      <td id=\"T_b282c_row4_col3\" class=\"data row4 col3\" >427317.2401</td>\n",
       "      <td id=\"T_b282c_row4_col4\" class=\"data row4 col4\" >427317.2401</td>\n",
       "      <td id=\"T_b282c_row4_col5\" class=\"data row4 col5\" >2.9488</td>\n",
       "      <td id=\"T_b282c_row4_col6\" class=\"data row4 col6\" >1.3062</td>\n",
       "      <td id=\"T_b282c_row4_col7\" class=\"data row4 col7\" >0.0533</td>\n",
       "    </tr>\n",
       "    <tr>\n",
       "      <th id=\"T_b282c_level0_row5\" class=\"row_heading level0 row5\" >rf_cds_dt</th>\n",
       "      <td id=\"T_b282c_row5_col0\" class=\"data row5 col0\" >Random Forest w/ Cond. Deseasonalize & Detrending</td>\n",
       "      <td id=\"T_b282c_row5_col1\" class=\"data row5 col1\" >0.9999</td>\n",
       "      <td id=\"T_b282c_row5_col2\" class=\"data row5 col2\" >0.7780</td>\n",
       "      <td id=\"T_b282c_row5_col3\" class=\"data row5 col3\" >385518.4902</td>\n",
       "      <td id=\"T_b282c_row5_col4\" class=\"data row5 col4\" >385518.4902</td>\n",
       "      <td id=\"T_b282c_row5_col5\" class=\"data row5 col5\" >3.1325</td>\n",
       "      <td id=\"T_b282c_row5_col6\" class=\"data row5 col6\" >1.1511</td>\n",
       "      <td id=\"T_b282c_row5_col7\" class=\"data row5 col7\" >0.0833</td>\n",
       "    </tr>\n",
       "    <tr>\n",
       "      <th id=\"T_b282c_level0_row6\" class=\"row_heading level0 row6\" >ets</th>\n",
       "      <td id=\"T_b282c_row6_col0\" class=\"data row6 col0\" >ETS</td>\n",
       "      <td id=\"T_b282c_row6_col1\" class=\"data row6 col1\" >0.9503</td>\n",
       "      <td id=\"T_b282c_row6_col2\" class=\"data row6 col2\" >0.7394</td>\n",
       "      <td id=\"T_b282c_row6_col3\" class=\"data row6 col3\" >366506.9460</td>\n",
       "      <td id=\"T_b282c_row6_col4\" class=\"data row6 col4\" >366506.9460</td>\n",
       "      <td id=\"T_b282c_row6_col5\" class=\"data row6 col5\" >3.2110</td>\n",
       "      <td id=\"T_b282c_row6_col6\" class=\"data row6 col6\" >1.1392</td>\n",
       "      <td id=\"T_b282c_row6_col7\" class=\"data row6 col7\" >0.0333</td>\n",
       "    </tr>\n",
       "    <tr>\n",
       "      <th id=\"T_b282c_level0_row7\" class=\"row_heading level0 row7\" >lightgbm_cds_dt</th>\n",
       "      <td id=\"T_b282c_row7_col0\" class=\"data row7 col0\" >Light Gradient Boosting w/ Cond. Deseasonalize & Detrending</td>\n",
       "      <td id=\"T_b282c_row7_col1\" class=\"data row7 col1\" >0.9326</td>\n",
       "      <td id=\"T_b282c_row7_col2\" class=\"data row7 col2\" >0.7253</td>\n",
       "      <td id=\"T_b282c_row7_col3\" class=\"data row7 col3\" >358991.1831</td>\n",
       "      <td id=\"T_b282c_row7_col4\" class=\"data row7 col4\" >358991.1831</td>\n",
       "      <td id=\"T_b282c_row7_col5\" class=\"data row7 col5\" >3.4018</td>\n",
       "      <td id=\"T_b282c_row7_col6\" class=\"data row7 col6\" >1.0014</td>\n",
       "      <td id=\"T_b282c_row7_col7\" class=\"data row7 col7\" >0.0767</td>\n",
       "    </tr>\n",
       "    <tr>\n",
       "      <th id=\"T_b282c_level0_row8\" class=\"row_heading level0 row8\" >omp_cds_dt</th>\n",
       "      <td id=\"T_b282c_row8_col0\" class=\"data row8 col0\" >Orthogonal Matching Pursuit w/ Cond. Deseasonalize & Detrending</td>\n",
       "      <td id=\"T_b282c_row8_col1\" class=\"data row8 col1\" >0.7647</td>\n",
       "      <td id=\"T_b282c_row8_col2\" class=\"data row8 col2\" >0.5948</td>\n",
       "      <td id=\"T_b282c_row8_col3\" class=\"data row8 col3\" >294673.2530</td>\n",
       "      <td id=\"T_b282c_row8_col4\" class=\"data row8 col4\" >294673.2530</td>\n",
       "      <td id=\"T_b282c_row8_col5\" class=\"data row8 col5\" >3.4526</td>\n",
       "      <td id=\"T_b282c_row8_col6\" class=\"data row8 col6\" >0.9047</td>\n",
       "      <td id=\"T_b282c_row8_col7\" class=\"data row8 col7\" >0.0400</td>\n",
       "    </tr>\n",
       "    <tr>\n",
       "      <th id=\"T_b282c_level0_row9\" class=\"row_heading level0 row9\" >ada_cds_dt</th>\n",
       "      <td id=\"T_b282c_row9_col0\" class=\"data row9 col0\" >AdaBoost w/ Cond. Deseasonalize & Detrending</td>\n",
       "      <td id=\"T_b282c_row9_col1\" class=\"data row9 col1\" >1.0928</td>\n",
       "      <td id=\"T_b282c_row9_col2\" class=\"data row9 col2\" >0.8502</td>\n",
       "      <td id=\"T_b282c_row9_col3\" class=\"data row9 col3\" >421121.5212</td>\n",
       "      <td id=\"T_b282c_row9_col4\" class=\"data row9 col4\" >421121.5212</td>\n",
       "      <td id=\"T_b282c_row9_col5\" class=\"data row9 col5\" >3.5780</td>\n",
       "      <td id=\"T_b282c_row9_col6\" class=\"data row9 col6\" >1.1938</td>\n",
       "      <td id=\"T_b282c_row9_col7\" class=\"data row9 col7\" >0.0500</td>\n",
       "    </tr>\n",
       "    <tr>\n",
       "      <th id=\"T_b282c_level0_row10\" class=\"row_heading level0 row10\" >et_cds_dt</th>\n",
       "      <td id=\"T_b282c_row10_col0\" class=\"data row10 col0\" >Extra Trees w/ Cond. Deseasonalize & Detrending</td>\n",
       "      <td id=\"T_b282c_row10_col1\" class=\"data row10 col1\" >1.0939</td>\n",
       "      <td id=\"T_b282c_row10_col2\" class=\"data row10 col2\" >0.8511</td>\n",
       "      <td id=\"T_b282c_row10_col3\" class=\"data row10 col3\" >421688.9931</td>\n",
       "      <td id=\"T_b282c_row10_col4\" class=\"data row10 col4\" >421688.9931</td>\n",
       "      <td id=\"T_b282c_row10_col5\" class=\"data row10 col5\" >3.6581</td>\n",
       "      <td id=\"T_b282c_row10_col6\" class=\"data row10 col6\" >1.2124</td>\n",
       "      <td id=\"T_b282c_row10_col7\" class=\"data row10 col7\" >0.0867</td>\n",
       "    </tr>\n",
       "    <tr>\n",
       "      <th id=\"T_b282c_level0_row11\" class=\"row_heading level0 row11\" >br_cds_dt</th>\n",
       "      <td id=\"T_b282c_row11_col0\" class=\"data row11 col0\" >Bayesian Ridge w/ Cond. Deseasonalize & Detrending</td>\n",
       "      <td id=\"T_b282c_row11_col1\" class=\"data row11 col1\" >0.7971</td>\n",
       "      <td id=\"T_b282c_row11_col2\" class=\"data row11 col2\" >0.6199</td>\n",
       "      <td id=\"T_b282c_row11_col3\" class=\"data row11 col3\" >306947.7404</td>\n",
       "      <td id=\"T_b282c_row11_col4\" class=\"data row11 col4\" >306947.7404</td>\n",
       "      <td id=\"T_b282c_row11_col5\" class=\"data row11 col5\" >3.7109</td>\n",
       "      <td id=\"T_b282c_row11_col6\" class=\"data row11 col6\" >0.8741</td>\n",
       "      <td id=\"T_b282c_row11_col7\" class=\"data row11 col7\" >0.0367</td>\n",
       "    </tr>\n",
       "    <tr>\n",
       "      <th id=\"T_b282c_level0_row12\" class=\"row_heading level0 row12\" >auto_arima</th>\n",
       "      <td id=\"T_b282c_row12_col0\" class=\"data row12 col0\" >Auto ARIMA</td>\n",
       "      <td id=\"T_b282c_row12_col1\" class=\"data row12 col1\" >0.8375</td>\n",
       "      <td id=\"T_b282c_row12_col2\" class=\"data row12 col2\" >0.6512</td>\n",
       "      <td id=\"T_b282c_row12_col3\" class=\"data row12 col3\" >322258.8639</td>\n",
       "      <td id=\"T_b282c_row12_col4\" class=\"data row12 col4\" >322258.8639</td>\n",
       "      <td id=\"T_b282c_row12_col5\" class=\"data row12 col5\" >3.8749</td>\n",
       "      <td id=\"T_b282c_row12_col6\" class=\"data row12 col6\" >0.8568</td>\n",
       "      <td id=\"T_b282c_row12_col7\" class=\"data row12 col7\" >1.2633</td>\n",
       "    </tr>\n",
       "    <tr>\n",
       "      <th id=\"T_b282c_level0_row13\" class=\"row_heading level0 row13\" >ridge_cds_dt</th>\n",
       "      <td id=\"T_b282c_row13_col0\" class=\"data row13 col0\" >Ridge w/ Cond. Deseasonalize & Detrending</td>\n",
       "      <td id=\"T_b282c_row13_col1\" class=\"data row13 col1\" >0.7397</td>\n",
       "      <td id=\"T_b282c_row13_col2\" class=\"data row13 col2\" >0.5750</td>\n",
       "      <td id=\"T_b282c_row13_col3\" class=\"data row13 col3\" >284542.0561</td>\n",
       "      <td id=\"T_b282c_row13_col4\" class=\"data row13 col4\" >284542.0561</td>\n",
       "      <td id=\"T_b282c_row13_col5\" class=\"data row13 col5\" >4.0283</td>\n",
       "      <td id=\"T_b282c_row13_col6\" class=\"data row13 col6\" >0.7771</td>\n",
       "      <td id=\"T_b282c_row13_col7\" class=\"data row13 col7\" >0.0400</td>\n",
       "    </tr>\n",
       "    <tr>\n",
       "      <th id=\"T_b282c_level0_row14\" class=\"row_heading level0 row14\" >lasso_cds_dt</th>\n",
       "      <td id=\"T_b282c_row14_col0\" class=\"data row14 col0\" >Lasso w/ Cond. Deseasonalize & Detrending</td>\n",
       "      <td id=\"T_b282c_row14_col1\" class=\"data row14 col1\" >0.7397</td>\n",
       "      <td id=\"T_b282c_row14_col2\" class=\"data row14 col2\" >0.5750</td>\n",
       "      <td id=\"T_b282c_row14_col3\" class=\"data row14 col3\" >284542.0561</td>\n",
       "      <td id=\"T_b282c_row14_col4\" class=\"data row14 col4\" >284542.0561</td>\n",
       "      <td id=\"T_b282c_row14_col5\" class=\"data row14 col5\" >4.0283</td>\n",
       "      <td id=\"T_b282c_row14_col6\" class=\"data row14 col6\" >0.7771</td>\n",
       "      <td id=\"T_b282c_row14_col7\" class=\"data row14 col7\" >0.0367</td>\n",
       "    </tr>\n",
       "    <tr>\n",
       "      <th id=\"T_b282c_level0_row15\" class=\"row_heading level0 row15\" >en_cds_dt</th>\n",
       "      <td id=\"T_b282c_row15_col0\" class=\"data row15 col0\" >Elastic Net w/ Cond. Deseasonalize & Detrending</td>\n",
       "      <td id=\"T_b282c_row15_col1\" class=\"data row15 col1\" >0.7397</td>\n",
       "      <td id=\"T_b282c_row15_col2\" class=\"data row15 col2\" >0.5750</td>\n",
       "      <td id=\"T_b282c_row15_col3\" class=\"data row15 col3\" >284542.0561</td>\n",
       "      <td id=\"T_b282c_row15_col4\" class=\"data row15 col4\" >284542.0561</td>\n",
       "      <td id=\"T_b282c_row15_col5\" class=\"data row15 col5\" >4.0283</td>\n",
       "      <td id=\"T_b282c_row15_col6\" class=\"data row15 col6\" >0.7771</td>\n",
       "      <td id=\"T_b282c_row15_col7\" class=\"data row15 col7\" >0.0433</td>\n",
       "    </tr>\n",
       "    <tr>\n",
       "      <th id=\"T_b282c_level0_row16\" class=\"row_heading level0 row16\" >llar_cds_dt</th>\n",
       "      <td id=\"T_b282c_row16_col0\" class=\"data row16 col0\" >Lasso Least Angular Regressor w/ Cond. Deseasonalize & Detrending</td>\n",
       "      <td id=\"T_b282c_row16_col1\" class=\"data row16 col1\" >0.7397</td>\n",
       "      <td id=\"T_b282c_row16_col2\" class=\"data row16 col2\" >0.5750</td>\n",
       "      <td id=\"T_b282c_row16_col3\" class=\"data row16 col3\" >284542.0561</td>\n",
       "      <td id=\"T_b282c_row16_col4\" class=\"data row16 col4\" >284542.0561</td>\n",
       "      <td id=\"T_b282c_row16_col5\" class=\"data row16 col5\" >4.0283</td>\n",
       "      <td id=\"T_b282c_row16_col6\" class=\"data row16 col6\" >0.7771</td>\n",
       "      <td id=\"T_b282c_row16_col7\" class=\"data row16 col7\" >0.0433</td>\n",
       "    </tr>\n",
       "    <tr>\n",
       "      <th id=\"T_b282c_level0_row17\" class=\"row_heading level0 row17\" >lr_cds_dt</th>\n",
       "      <td id=\"T_b282c_row17_col0\" class=\"data row17 col0\" >Linear w/ Cond. Deseasonalize & Detrending</td>\n",
       "      <td id=\"T_b282c_row17_col1\" class=\"data row17 col1\" >0.7397</td>\n",
       "      <td id=\"T_b282c_row17_col2\" class=\"data row17 col2\" >0.5750</td>\n",
       "      <td id=\"T_b282c_row17_col3\" class=\"data row17 col3\" >284542.0561</td>\n",
       "      <td id=\"T_b282c_row17_col4\" class=\"data row17 col4\" >284542.0561</td>\n",
       "      <td id=\"T_b282c_row17_col5\" class=\"data row17 col5\" >4.0283</td>\n",
       "      <td id=\"T_b282c_row17_col6\" class=\"data row17 col6\" >0.7771</td>\n",
       "      <td id=\"T_b282c_row17_col7\" class=\"data row17 col7\" >0.0400</td>\n",
       "    </tr>\n",
       "    <tr>\n",
       "      <th id=\"T_b282c_level0_row18\" class=\"row_heading level0 row18\" >huber_cds_dt</th>\n",
       "      <td id=\"T_b282c_row18_col0\" class=\"data row18 col0\" >Huber w/ Cond. Deseasonalize & Detrending</td>\n",
       "      <td id=\"T_b282c_row18_col1\" class=\"data row18 col1\" >0.8100</td>\n",
       "      <td id=\"T_b282c_row18_col2\" class=\"data row18 col2\" >0.6298</td>\n",
       "      <td id=\"T_b282c_row18_col3\" class=\"data row18 col3\" >311819.8415</td>\n",
       "      <td id=\"T_b282c_row18_col4\" class=\"data row18 col4\" >311819.8415</td>\n",
       "      <td id=\"T_b282c_row18_col5\" class=\"data row18 col5\" >4.0433</td>\n",
       "      <td id=\"T_b282c_row18_col6\" class=\"data row18 col6\" >0.8541</td>\n",
       "      <td id=\"T_b282c_row18_col7\" class=\"data row18 col7\" >0.0467</td>\n",
       "    </tr>\n",
       "    <tr>\n",
       "      <th id=\"T_b282c_level0_row19\" class=\"row_heading level0 row19\" >knn_cds_dt</th>\n",
       "      <td id=\"T_b282c_row19_col0\" class=\"data row19 col0\" >K Neighbors w/ Cond. Deseasonalize & Detrending</td>\n",
       "      <td id=\"T_b282c_row19_col1\" class=\"data row19 col1\" >1.2054</td>\n",
       "      <td id=\"T_b282c_row19_col2\" class=\"data row19 col2\" >0.9377</td>\n",
       "      <td id=\"T_b282c_row19_col3\" class=\"data row19 col3\" >464491.5210</td>\n",
       "      <td id=\"T_b282c_row19_col4\" class=\"data row19 col4\" >464491.5210</td>\n",
       "      <td id=\"T_b282c_row19_col5\" class=\"data row19 col5\" >4.2085</td>\n",
       "      <td id=\"T_b282c_row19_col6\" class=\"data row19 col6\" >1.2773</td>\n",
       "      <td id=\"T_b282c_row19_col7\" class=\"data row19 col7\" >0.0467</td>\n",
       "    </tr>\n",
       "    <tr>\n",
       "      <th id=\"T_b282c_level0_row20\" class=\"row_heading level0 row20\" >stlf</th>\n",
       "      <td id=\"T_b282c_row20_col0\" class=\"data row20 col0\" >STLF</td>\n",
       "      <td id=\"T_b282c_row20_col1\" class=\"data row20 col1\" >1.2665</td>\n",
       "      <td id=\"T_b282c_row20_col2\" class=\"data row20 col2\" >0.9851</td>\n",
       "      <td id=\"T_b282c_row20_col3\" class=\"data row20 col3\" >487818.9704</td>\n",
       "      <td id=\"T_b282c_row20_col4\" class=\"data row20 col4\" >487818.9704</td>\n",
       "      <td id=\"T_b282c_row20_col5\" class=\"data row20 col5\" >4.9449</td>\n",
       "      <td id=\"T_b282c_row20_col6\" class=\"data row20 col6\" >1.2481</td>\n",
       "      <td id=\"T_b282c_row20_col7\" class=\"data row20 col7\" >0.0333</td>\n",
       "    </tr>\n",
       "    <tr>\n",
       "      <th id=\"T_b282c_level0_row21\" class=\"row_heading level0 row21\" >arima</th>\n",
       "      <td id=\"T_b282c_row21_col0\" class=\"data row21 col0\" >ARIMA</td>\n",
       "      <td id=\"T_b282c_row21_col1\" class=\"data row21 col1\" >1.0261</td>\n",
       "      <td id=\"T_b282c_row21_col2\" class=\"data row21 col2\" >0.7976</td>\n",
       "      <td id=\"T_b282c_row21_col3\" class=\"data row21 col3\" >394525.4525</td>\n",
       "      <td id=\"T_b282c_row21_col4\" class=\"data row21 col4\" >394525.4525</td>\n",
       "      <td id=\"T_b282c_row21_col5\" class=\"data row21 col5\" >5.3270</td>\n",
       "      <td id=\"T_b282c_row21_col6\" class=\"data row21 col6\" >0.8929</td>\n",
       "      <td id=\"T_b282c_row21_col7\" class=\"data row21 col7\" >0.0367</td>\n",
       "    </tr>\n",
       "    <tr>\n",
       "      <th id=\"T_b282c_level0_row22\" class=\"row_heading level0 row22\" >snaive</th>\n",
       "      <td id=\"T_b282c_row22_col0\" class=\"data row22 col0\" >Seasonal Naive Forecaster</td>\n",
       "      <td id=\"T_b282c_row22_col1\" class=\"data row22 col1\" >1.1277</td>\n",
       "      <td id=\"T_b282c_row22_col2\" class=\"data row22 col2\" >0.8767</td>\n",
       "      <td id=\"T_b282c_row22_col3\" class=\"data row22 col3\" >433816.7077</td>\n",
       "      <td id=\"T_b282c_row22_col4\" class=\"data row22 col4\" >433816.7077</td>\n",
       "      <td id=\"T_b282c_row22_col5\" class=\"data row22 col5\" >5.7691</td>\n",
       "      <td id=\"T_b282c_row22_col6\" class=\"data row22 col6\" >0.9650</td>\n",
       "      <td id=\"T_b282c_row22_col7\" class=\"data row22 col7\" >0.0433</td>\n",
       "    </tr>\n",
       "  </tbody>\n",
       "</table>\n"
      ],
      "text/plain": [
       "<pandas.io.formats.style.Styler at 0x224d089d550>"
      ]
     },
     "metadata": {},
     "output_type": "display_data"
    },
    {
     "data": {
      "text/html": [],
      "text/plain": [
       "<IPython.core.display.HTML object>"
      ]
     },
     "metadata": {},
     "output_type": "display_data"
    },
    {
     "data": {
      "application/vnd.plotly.v1+json": {
       "config": {
        "plotlyServerURL": "https://plot.ly"
       },
       "data": [
        {
         "line": {
          "color": "rgb(31, 119, 180)",
          "width": 2
         },
         "marker": {
          "color": "rgb(31, 119, 180)",
          "size": 5
         },
         "mode": "lines+markers",
         "name": "NET_SALES",
         "type": "scattergl",
         "x": [
          "2016-01-01T00:00:00",
          "2016-02-01T00:00:00",
          "2016-03-01T00:00:00",
          "2016-04-01T00:00:00",
          "2016-05-01T00:00:00",
          "2016-06-01T00:00:00",
          "2016-07-01T00:00:00",
          "2016-08-01T00:00:00",
          "2016-09-01T00:00:00",
          "2016-10-01T00:00:00",
          "2016-11-01T00:00:00",
          "2016-12-01T00:00:00",
          "2017-01-01T00:00:00",
          "2017-02-01T00:00:00",
          "2017-03-01T00:00:00",
          "2017-04-01T00:00:00",
          "2017-05-01T00:00:00",
          "2017-06-01T00:00:00",
          "2017-07-01T00:00:00",
          "2017-08-01T00:00:00",
          "2017-09-01T00:00:00",
          "2017-10-01T00:00:00",
          "2017-11-01T00:00:00",
          "2017-12-01T00:00:00",
          "2018-01-01T00:00:00",
          "2018-02-01T00:00:00",
          "2018-03-01T00:00:00",
          "2018-04-01T00:00:00",
          "2018-05-01T00:00:00",
          "2018-06-01T00:00:00",
          "2018-07-01T00:00:00",
          "2018-08-01T00:00:00",
          "2018-09-01T00:00:00",
          "2018-10-01T00:00:00",
          "2018-11-01T00:00:00",
          "2018-12-01T00:00:00",
          "2019-01-01T00:00:00",
          "2019-02-01T00:00:00",
          "2019-03-01T00:00:00",
          "2019-04-01T00:00:00",
          "2019-05-01T00:00:00",
          "2019-06-01T00:00:00",
          "2019-07-01T00:00:00",
          "2019-08-01T00:00:00",
          "2019-09-01T00:00:00",
          "2019-10-01T00:00:00",
          "2019-11-01T00:00:00",
          "2019-12-01T00:00:00",
          "2020-01-01T00:00:00",
          "2020-02-01T00:00:00",
          "2020-03-01T00:00:00",
          "2020-04-01T00:00:00",
          "2020-05-01T00:00:00",
          "2020-06-01T00:00:00",
          "2020-07-01T00:00:00",
          "2020-08-01T00:00:00",
          "2020-09-01T00:00:00",
          "2020-10-01T00:00:00",
          "2020-11-01T00:00:00",
          "2020-12-01T00:00:00",
          "2021-01-01T00:00:00",
          "2021-02-01T00:00:00",
          "2021-03-01T00:00:00",
          "2021-04-01T00:00:00",
          "2021-05-01T00:00:00",
          "2021-06-01T00:00:00",
          "2021-07-01T00:00:00",
          "2021-08-01T00:00:00",
          "2021-09-01T00:00:00",
          "2021-10-01T00:00:00",
          "2021-11-01T00:00:00",
          "2021-12-01T00:00:00",
          "2022-01-01T00:00:00",
          "2022-02-01T00:00:00",
          "2022-03-01T00:00:00",
          "2022-04-01T00:00:00",
          "2022-05-01T00:00:00",
          "2022-06-01T00:00:00",
          "2022-07-01T00:00:00",
          "2022-08-01T00:00:00",
          "2022-09-01T00:00:00",
          "2022-10-01T00:00:00",
          "2022-11-01T00:00:00",
          "2022-12-01T00:00:00"
         ],
         "xaxis": "x",
         "y": [
          384844.227807569,
          -7121.489451039992,
          366298.481228096,
          1003713.6793008939,
          342562.6872451946,
          545822.9499502176,
          335202.80363715,
          1000974.486136608,
          -11353.067400037244,
          1348092.3668032705,
          672112.8224062497,
          833116.1819682447,
          642657.2243829187,
          342257.45765973756,
          1233035.2817007597,
          725281.1882246039,
          363593.72674109595,
          323027.7500093527,
          212235.86474501016,
          861567.4562538638,
          618111.2337662315,
          200530.04931506774,
          1997976.010977515,
          -75651.39455965476,
          480187.9768933253,
          442284.9946712102,
          297176.3837148837,
          1717235.4980716142,
          506761.52994599007,
          141816.48767873354,
          459029.35406097234,
          567787.9663933504,
          748955.5488395244,
          423008.2400042764,
          1369457.6976484312,
          999200.30004944,
          -293150.0147066289,
          538153.58756471,
          473019.7808445824,
          1764560.0943542074,
          1053060.9323638561,
          -101332.12895218223,
          168884.07281356413,
          919804.6760740648,
          1168598.211591682,
          603506.868469573,
          864926.9308355022,
          562365.7817196558,
          221039.0781060074,
          626632.1077261575,
          486534.9007189826,
          385796.25126113853,
          286972.49978937046,
          529740.7713995756,
          -345643.4463019601,
          663599.0865297222,
          792028.840168631,
          494815.94373219914,
          555304.8351518577,
          301960.8718448065,
          103960.95656108516,
          90160.19819776023,
          430807.8060245593,
          852722.0106951885,
          396379.3168662644,
          112851.60236121707,
          121277.28323991381,
          740919.3084865286,
          330331.7206571283,
          408248.4618013214,
          401277.2830372339,
          647011.7806411118,
          181286.74444976568,
          156025.85886767152,
          157779.34939758977,
          786379.007856571,
          298447.71838714165,
          400290.88961370906,
          53509.76381084962,
          469766.5557739544,
          45089.364358401384,
          484107.953474528,
          774791.1341352533,
          495830.83992505947
         ],
         "yaxis": "y"
        },
        {
         "line": {
          "color": "rgb(255, 127, 14)",
          "width": 2
         },
         "marker": {
          "color": "rgb(255, 127, 14)",
          "size": 5
         },
         "mode": "lines+markers",
         "name": "Exponential Smoothing",
         "type": "scattergl",
         "x": [
          "2016-01-01T00:00:00",
          "2016-02-01T00:00:00",
          "2016-03-01T00:00:00",
          "2016-04-01T00:00:00",
          "2016-05-01T00:00:00",
          "2016-06-01T00:00:00",
          "2016-07-01T00:00:00",
          "2016-08-01T00:00:00",
          "2016-09-01T00:00:00",
          "2016-10-01T00:00:00",
          "2016-11-01T00:00:00",
          "2016-12-01T00:00:00",
          "2017-01-01T00:00:00",
          "2017-02-01T00:00:00",
          "2017-03-01T00:00:00",
          "2017-04-01T00:00:00",
          "2017-05-01T00:00:00",
          "2017-06-01T00:00:00",
          "2017-07-01T00:00:00",
          "2017-08-01T00:00:00",
          "2017-09-01T00:00:00",
          "2017-10-01T00:00:00",
          "2017-11-01T00:00:00",
          "2017-12-01T00:00:00",
          "2018-01-01T00:00:00",
          "2018-02-01T00:00:00",
          "2018-03-01T00:00:00",
          "2018-04-01T00:00:00",
          "2018-05-01T00:00:00",
          "2018-06-01T00:00:00",
          "2018-07-01T00:00:00",
          "2018-08-01T00:00:00",
          "2018-09-01T00:00:00",
          "2018-10-01T00:00:00",
          "2018-11-01T00:00:00",
          "2018-12-01T00:00:00",
          "2019-01-01T00:00:00",
          "2019-02-01T00:00:00",
          "2019-03-01T00:00:00",
          "2019-04-01T00:00:00",
          "2019-05-01T00:00:00",
          "2019-06-01T00:00:00",
          "2019-07-01T00:00:00",
          "2019-08-01T00:00:00",
          "2019-09-01T00:00:00",
          "2019-10-01T00:00:00",
          "2019-11-01T00:00:00",
          "2019-12-01T00:00:00",
          "2020-01-01T00:00:00",
          "2020-02-01T00:00:00",
          "2020-03-01T00:00:00",
          "2020-04-01T00:00:00",
          "2020-05-01T00:00:00",
          "2020-06-01T00:00:00",
          "2020-07-01T00:00:00",
          "2020-08-01T00:00:00",
          "2020-09-01T00:00:00",
          "2020-10-01T00:00:00",
          "2020-11-01T00:00:00",
          "2020-12-01T00:00:00",
          "2021-01-01T00:00:00",
          "2021-02-01T00:00:00",
          "2021-03-01T00:00:00",
          "2021-04-01T00:00:00",
          "2021-05-01T00:00:00",
          "2021-06-01T00:00:00",
          "2021-07-01T00:00:00",
          "2021-08-01T00:00:00",
          "2021-09-01T00:00:00",
          "2021-10-01T00:00:00",
          "2021-11-01T00:00:00",
          "2021-12-01T00:00:00",
          "2022-01-01T00:00:00",
          "2022-02-01T00:00:00",
          "2022-03-01T00:00:00",
          "2022-04-01T00:00:00",
          "2022-05-01T00:00:00",
          "2022-06-01T00:00:00",
          "2022-07-01T00:00:00",
          "2022-08-01T00:00:00",
          "2022-09-01T00:00:00",
          "2022-10-01T00:00:00",
          "2022-11-01T00:00:00",
          "2022-12-01T00:00:00"
         ],
         "xaxis": "x",
         "y": [
          null,
          null,
          null,
          null,
          null,
          null,
          null,
          null,
          null,
          null,
          null,
          null,
          null,
          null,
          null,
          null,
          null,
          null,
          null,
          null,
          null,
          null,
          null,
          null,
          null,
          null,
          null,
          null,
          null,
          null,
          null,
          null,
          null,
          null,
          null,
          null,
          null,
          null,
          null,
          null,
          null,
          null,
          null,
          null,
          null,
          null,
          null,
          null,
          null,
          null,
          null,
          null,
          null,
          null,
          null,
          null,
          null,
          null,
          null,
          null,
          null,
          null,
          null,
          null,
          null,
          null,
          null,
          null,
          null,
          null,
          null,
          null,
          null,
          null,
          null,
          null,
          null,
          null,
          null,
          null,
          null,
          null,
          null,
          155327.0389
         ],
         "yaxis": "y"
        }
       ],
       "layout": {
        "showlegend": true,
        "template": {
         "data": {
          "bar": [
           {
            "error_x": {
             "color": "rgb(51,51,51)"
            },
            "error_y": {
             "color": "rgb(51,51,51)"
            },
            "marker": {
             "line": {
              "color": "rgb(237,237,237)",
              "width": 0.5
             },
             "pattern": {
              "fillmode": "overlay",
              "size": 10,
              "solidity": 0.2
             }
            },
            "type": "bar"
           }
          ],
          "barpolar": [
           {
            "marker": {
             "line": {
              "color": "rgb(237,237,237)",
              "width": 0.5
             },
             "pattern": {
              "fillmode": "overlay",
              "size": 10,
              "solidity": 0.2
             }
            },
            "type": "barpolar"
           }
          ],
          "carpet": [
           {
            "aaxis": {
             "endlinecolor": "rgb(51,51,51)",
             "gridcolor": "white",
             "linecolor": "white",
             "minorgridcolor": "white",
             "startlinecolor": "rgb(51,51,51)"
            },
            "baxis": {
             "endlinecolor": "rgb(51,51,51)",
             "gridcolor": "white",
             "linecolor": "white",
             "minorgridcolor": "white",
             "startlinecolor": "rgb(51,51,51)"
            },
            "type": "carpet"
           }
          ],
          "choropleth": [
           {
            "colorbar": {
             "outlinewidth": 0,
             "tickcolor": "rgb(237,237,237)",
             "ticklen": 6,
             "ticks": "inside"
            },
            "type": "choropleth"
           }
          ],
          "contour": [
           {
            "colorbar": {
             "outlinewidth": 0,
             "tickcolor": "rgb(237,237,237)",
             "ticklen": 6,
             "ticks": "inside"
            },
            "colorscale": [
             [
              0,
              "rgb(20,44,66)"
             ],
             [
              1,
              "rgb(90,179,244)"
             ]
            ],
            "type": "contour"
           }
          ],
          "contourcarpet": [
           {
            "colorbar": {
             "outlinewidth": 0,
             "tickcolor": "rgb(237,237,237)",
             "ticklen": 6,
             "ticks": "inside"
            },
            "type": "contourcarpet"
           }
          ],
          "heatmap": [
           {
            "colorbar": {
             "outlinewidth": 0,
             "tickcolor": "rgb(237,237,237)",
             "ticklen": 6,
             "ticks": "inside"
            },
            "colorscale": [
             [
              0,
              "rgb(20,44,66)"
             ],
             [
              1,
              "rgb(90,179,244)"
             ]
            ],
            "type": "heatmap"
           }
          ],
          "heatmapgl": [
           {
            "colorbar": {
             "outlinewidth": 0,
             "tickcolor": "rgb(237,237,237)",
             "ticklen": 6,
             "ticks": "inside"
            },
            "colorscale": [
             [
              0,
              "rgb(20,44,66)"
             ],
             [
              1,
              "rgb(90,179,244)"
             ]
            ],
            "type": "heatmapgl"
           }
          ],
          "histogram": [
           {
            "marker": {
             "pattern": {
              "fillmode": "overlay",
              "size": 10,
              "solidity": 0.2
             }
            },
            "type": "histogram"
           }
          ],
          "histogram2d": [
           {
            "colorbar": {
             "outlinewidth": 0,
             "tickcolor": "rgb(237,237,237)",
             "ticklen": 6,
             "ticks": "inside"
            },
            "colorscale": [
             [
              0,
              "rgb(20,44,66)"
             ],
             [
              1,
              "rgb(90,179,244)"
             ]
            ],
            "type": "histogram2d"
           }
          ],
          "histogram2dcontour": [
           {
            "colorbar": {
             "outlinewidth": 0,
             "tickcolor": "rgb(237,237,237)",
             "ticklen": 6,
             "ticks": "inside"
            },
            "colorscale": [
             [
              0,
              "rgb(20,44,66)"
             ],
             [
              1,
              "rgb(90,179,244)"
             ]
            ],
            "type": "histogram2dcontour"
           }
          ],
          "mesh3d": [
           {
            "colorbar": {
             "outlinewidth": 0,
             "tickcolor": "rgb(237,237,237)",
             "ticklen": 6,
             "ticks": "inside"
            },
            "type": "mesh3d"
           }
          ],
          "parcoords": [
           {
            "line": {
             "colorbar": {
              "outlinewidth": 0,
              "tickcolor": "rgb(237,237,237)",
              "ticklen": 6,
              "ticks": "inside"
             }
            },
            "type": "parcoords"
           }
          ],
          "pie": [
           {
            "automargin": true,
            "type": "pie"
           }
          ],
          "scatter": [
           {
            "fillpattern": {
             "fillmode": "overlay",
             "size": 10,
             "solidity": 0.2
            },
            "type": "scatter"
           }
          ],
          "scatter3d": [
           {
            "line": {
             "colorbar": {
              "outlinewidth": 0,
              "tickcolor": "rgb(237,237,237)",
              "ticklen": 6,
              "ticks": "inside"
             }
            },
            "marker": {
             "colorbar": {
              "outlinewidth": 0,
              "tickcolor": "rgb(237,237,237)",
              "ticklen": 6,
              "ticks": "inside"
             }
            },
            "type": "scatter3d"
           }
          ],
          "scattercarpet": [
           {
            "marker": {
             "colorbar": {
              "outlinewidth": 0,
              "tickcolor": "rgb(237,237,237)",
              "ticklen": 6,
              "ticks": "inside"
             }
            },
            "type": "scattercarpet"
           }
          ],
          "scattergeo": [
           {
            "marker": {
             "colorbar": {
              "outlinewidth": 0,
              "tickcolor": "rgb(237,237,237)",
              "ticklen": 6,
              "ticks": "inside"
             }
            },
            "type": "scattergeo"
           }
          ],
          "scattergl": [
           {
            "marker": {
             "colorbar": {
              "outlinewidth": 0,
              "tickcolor": "rgb(237,237,237)",
              "ticklen": 6,
              "ticks": "inside"
             }
            },
            "type": "scattergl"
           }
          ],
          "scattermapbox": [
           {
            "marker": {
             "colorbar": {
              "outlinewidth": 0,
              "tickcolor": "rgb(237,237,237)",
              "ticklen": 6,
              "ticks": "inside"
             }
            },
            "type": "scattermapbox"
           }
          ],
          "scatterpolar": [
           {
            "marker": {
             "colorbar": {
              "outlinewidth": 0,
              "tickcolor": "rgb(237,237,237)",
              "ticklen": 6,
              "ticks": "inside"
             }
            },
            "type": "scatterpolar"
           }
          ],
          "scatterpolargl": [
           {
            "marker": {
             "colorbar": {
              "outlinewidth": 0,
              "tickcolor": "rgb(237,237,237)",
              "ticklen": 6,
              "ticks": "inside"
             }
            },
            "type": "scatterpolargl"
           }
          ],
          "scatterternary": [
           {
            "marker": {
             "colorbar": {
              "outlinewidth": 0,
              "tickcolor": "rgb(237,237,237)",
              "ticklen": 6,
              "ticks": "inside"
             }
            },
            "type": "scatterternary"
           }
          ],
          "surface": [
           {
            "colorbar": {
             "outlinewidth": 0,
             "tickcolor": "rgb(237,237,237)",
             "ticklen": 6,
             "ticks": "inside"
            },
            "colorscale": [
             [
              0,
              "rgb(20,44,66)"
             ],
             [
              1,
              "rgb(90,179,244)"
             ]
            ],
            "type": "surface"
           }
          ],
          "table": [
           {
            "cells": {
             "fill": {
              "color": "rgb(237,237,237)"
             },
             "line": {
              "color": "white"
             }
            },
            "header": {
             "fill": {
              "color": "rgb(217,217,217)"
             },
             "line": {
              "color": "white"
             }
            },
            "type": "table"
           }
          ]
         },
         "layout": {
          "annotationdefaults": {
           "arrowhead": 0,
           "arrowwidth": 1
          },
          "autotypenumbers": "strict",
          "coloraxis": {
           "colorbar": {
            "outlinewidth": 0,
            "tickcolor": "rgb(237,237,237)",
            "ticklen": 6,
            "ticks": "inside"
           }
          },
          "colorscale": {
           "sequential": [
            [
             0,
             "rgb(20,44,66)"
            ],
            [
             1,
             "rgb(90,179,244)"
            ]
           ],
           "sequentialminus": [
            [
             0,
             "rgb(20,44,66)"
            ],
            [
             1,
             "rgb(90,179,244)"
            ]
           ]
          },
          "colorway": [
           "#F8766D",
           "#A3A500",
           "#00BF7D",
           "#00B0F6",
           "#E76BF3"
          ],
          "font": {
           "color": "rgb(51,51,51)"
          },
          "geo": {
           "bgcolor": "white",
           "lakecolor": "white",
           "landcolor": "rgb(237,237,237)",
           "showlakes": true,
           "showland": true,
           "subunitcolor": "white"
          },
          "hoverlabel": {
           "align": "left"
          },
          "hovermode": "closest",
          "paper_bgcolor": "white",
          "plot_bgcolor": "rgb(237,237,237)",
          "polar": {
           "angularaxis": {
            "gridcolor": "white",
            "linecolor": "white",
            "showgrid": true,
            "tickcolor": "rgb(51,51,51)",
            "ticks": "outside"
           },
           "bgcolor": "rgb(237,237,237)",
           "radialaxis": {
            "gridcolor": "white",
            "linecolor": "white",
            "showgrid": true,
            "tickcolor": "rgb(51,51,51)",
            "ticks": "outside"
           }
          },
          "scene": {
           "xaxis": {
            "backgroundcolor": "rgb(237,237,237)",
            "gridcolor": "white",
            "gridwidth": 2,
            "linecolor": "white",
            "showbackground": true,
            "showgrid": true,
            "tickcolor": "rgb(51,51,51)",
            "ticks": "outside",
            "zerolinecolor": "white"
           },
           "yaxis": {
            "backgroundcolor": "rgb(237,237,237)",
            "gridcolor": "white",
            "gridwidth": 2,
            "linecolor": "white",
            "showbackground": true,
            "showgrid": true,
            "tickcolor": "rgb(51,51,51)",
            "ticks": "outside",
            "zerolinecolor": "white"
           },
           "zaxis": {
            "backgroundcolor": "rgb(237,237,237)",
            "gridcolor": "white",
            "gridwidth": 2,
            "linecolor": "white",
            "showbackground": true,
            "showgrid": true,
            "tickcolor": "rgb(51,51,51)",
            "ticks": "outside",
            "zerolinecolor": "white"
           }
          },
          "shapedefaults": {
           "fillcolor": "black",
           "line": {
            "width": 0
           },
           "opacity": 0.3
          },
          "ternary": {
           "aaxis": {
            "gridcolor": "white",
            "linecolor": "white",
            "showgrid": true,
            "tickcolor": "rgb(51,51,51)",
            "ticks": "outside"
           },
           "baxis": {
            "gridcolor": "white",
            "linecolor": "white",
            "showgrid": true,
            "tickcolor": "rgb(51,51,51)",
            "ticks": "outside"
           },
           "bgcolor": "rgb(237,237,237)",
           "caxis": {
            "gridcolor": "white",
            "linecolor": "white",
            "showgrid": true,
            "tickcolor": "rgb(51,51,51)",
            "ticks": "outside"
           }
          },
          "xaxis": {
           "automargin": true,
           "gridcolor": "white",
           "linecolor": "white",
           "showgrid": true,
           "tickcolor": "rgb(51,51,51)",
           "ticks": "outside",
           "title": {
            "standoff": 15
           },
           "zerolinecolor": "white"
          },
          "yaxis": {
           "automargin": true,
           "gridcolor": "white",
           "linecolor": "white",
           "showgrid": true,
           "tickcolor": "rgb(51,51,51)",
           "ticks": "outside",
           "title": {
            "standoff": 15
           },
           "zerolinecolor": "white"
          }
         }
        },
        "title": {
         "text": "Actual vs. Forecast (Out-of-Sample)"
        },
        "xaxis": {
         "anchor": "y",
         "domain": [
          0,
          1
         ]
        },
        "yaxis": {
         "anchor": "x",
         "domain": [
          0,
          1
         ]
        }
       }
      }
     },
     "metadata": {},
     "output_type": "display_data"
    },
    {
     "name": "stderr",
     "output_type": "stream",
     "text": [
      " 43%|████▎     | 6/14 [01:24<01:47, 13.49s/it]"
     ]
    },
    {
     "data": {
      "text/html": [
       "<style type=\"text/css\">\n",
       "#T_d3c3c_row25_col1, #T_d3c3c_row28_col1, #T_d3c3c_row31_col1 {\n",
       "  background-color: lightgreen;\n",
       "}\n",
       "</style>\n",
       "<table id=\"T_d3c3c\">\n",
       "  <thead>\n",
       "    <tr>\n",
       "      <th class=\"blank level0\" >&nbsp;</th>\n",
       "      <th id=\"T_d3c3c_level0_col0\" class=\"col_heading level0 col0\" >Description</th>\n",
       "      <th id=\"T_d3c3c_level0_col1\" class=\"col_heading level0 col1\" >Value</th>\n",
       "    </tr>\n",
       "  </thead>\n",
       "  <tbody>\n",
       "    <tr>\n",
       "      <th id=\"T_d3c3c_level0_row0\" class=\"row_heading level0 row0\" >0</th>\n",
       "      <td id=\"T_d3c3c_row0_col0\" class=\"data row0 col0\" >session_id</td>\n",
       "      <td id=\"T_d3c3c_row0_col1\" class=\"data row0 col1\" >123</td>\n",
       "    </tr>\n",
       "    <tr>\n",
       "      <th id=\"T_d3c3c_level0_row1\" class=\"row_heading level0 row1\" >1</th>\n",
       "      <td id=\"T_d3c3c_row1_col0\" class=\"data row1 col0\" >Target</td>\n",
       "      <td id=\"T_d3c3c_row1_col1\" class=\"data row1 col1\" >NET_SALES</td>\n",
       "    </tr>\n",
       "    <tr>\n",
       "      <th id=\"T_d3c3c_level0_row2\" class=\"row_heading level0 row2\" >2</th>\n",
       "      <td id=\"T_d3c3c_row2_col0\" class=\"data row2 col0\" >Approach</td>\n",
       "      <td id=\"T_d3c3c_row2_col1\" class=\"data row2 col1\" >Univariate</td>\n",
       "    </tr>\n",
       "    <tr>\n",
       "      <th id=\"T_d3c3c_level0_row3\" class=\"row_heading level0 row3\" >3</th>\n",
       "      <td id=\"T_d3c3c_row3_col0\" class=\"data row3 col0\" >Exogenous Variables</td>\n",
       "      <td id=\"T_d3c3c_row3_col1\" class=\"data row3 col1\" >Not Present</td>\n",
       "    </tr>\n",
       "    <tr>\n",
       "      <th id=\"T_d3c3c_level0_row4\" class=\"row_heading level0 row4\" >4</th>\n",
       "      <td id=\"T_d3c3c_row4_col0\" class=\"data row4 col0\" >Original data shape</td>\n",
       "      <td id=\"T_d3c3c_row4_col1\" class=\"data row4 col1\" >(84, 1)</td>\n",
       "    </tr>\n",
       "    <tr>\n",
       "      <th id=\"T_d3c3c_level0_row5\" class=\"row_heading level0 row5\" >5</th>\n",
       "      <td id=\"T_d3c3c_row5_col0\" class=\"data row5 col0\" >Transformed data shape</td>\n",
       "      <td id=\"T_d3c3c_row5_col1\" class=\"data row5 col1\" >(84, 1)</td>\n",
       "    </tr>\n",
       "    <tr>\n",
       "      <th id=\"T_d3c3c_level0_row6\" class=\"row_heading level0 row6\" >6</th>\n",
       "      <td id=\"T_d3c3c_row6_col0\" class=\"data row6 col0\" >Transformed train set shape</td>\n",
       "      <td id=\"T_d3c3c_row6_col1\" class=\"data row6 col1\" >(83, 1)</td>\n",
       "    </tr>\n",
       "    <tr>\n",
       "      <th id=\"T_d3c3c_level0_row7\" class=\"row_heading level0 row7\" >7</th>\n",
       "      <td id=\"T_d3c3c_row7_col0\" class=\"data row7 col0\" >Transformed test set shape</td>\n",
       "      <td id=\"T_d3c3c_row7_col1\" class=\"data row7 col1\" >(1, 1)</td>\n",
       "    </tr>\n",
       "    <tr>\n",
       "      <th id=\"T_d3c3c_level0_row8\" class=\"row_heading level0 row8\" >8</th>\n",
       "      <td id=\"T_d3c3c_row8_col0\" class=\"data row8 col0\" >Rows with missing values</td>\n",
       "      <td id=\"T_d3c3c_row8_col1\" class=\"data row8 col1\" >0.0%</td>\n",
       "    </tr>\n",
       "    <tr>\n",
       "      <th id=\"T_d3c3c_level0_row9\" class=\"row_heading level0 row9\" >9</th>\n",
       "      <td id=\"T_d3c3c_row9_col0\" class=\"data row9 col0\" >Fold Generator</td>\n",
       "      <td id=\"T_d3c3c_row9_col1\" class=\"data row9 col1\" >ExpandingWindowSplitter</td>\n",
       "    </tr>\n",
       "    <tr>\n",
       "      <th id=\"T_d3c3c_level0_row10\" class=\"row_heading level0 row10\" >10</th>\n",
       "      <td id=\"T_d3c3c_row10_col0\" class=\"data row10 col0\" >Fold Number</td>\n",
       "      <td id=\"T_d3c3c_row10_col1\" class=\"data row10 col1\" >3</td>\n",
       "    </tr>\n",
       "    <tr>\n",
       "      <th id=\"T_d3c3c_level0_row11\" class=\"row_heading level0 row11\" >11</th>\n",
       "      <td id=\"T_d3c3c_row11_col0\" class=\"data row11 col0\" >Enforce Prediction Interval</td>\n",
       "      <td id=\"T_d3c3c_row11_col1\" class=\"data row11 col1\" >False</td>\n",
       "    </tr>\n",
       "    <tr>\n",
       "      <th id=\"T_d3c3c_level0_row12\" class=\"row_heading level0 row12\" >12</th>\n",
       "      <td id=\"T_d3c3c_row12_col0\" class=\"data row12 col0\" >Splits used for hyperparameters</td>\n",
       "      <td id=\"T_d3c3c_row12_col1\" class=\"data row12 col1\" >all</td>\n",
       "    </tr>\n",
       "    <tr>\n",
       "      <th id=\"T_d3c3c_level0_row13\" class=\"row_heading level0 row13\" >13</th>\n",
       "      <td id=\"T_d3c3c_row13_col0\" class=\"data row13 col0\" >User Defined Seasonal Period(s)</td>\n",
       "      <td id=\"T_d3c3c_row13_col1\" class=\"data row13 col1\" >None</td>\n",
       "    </tr>\n",
       "    <tr>\n",
       "      <th id=\"T_d3c3c_level0_row14\" class=\"row_heading level0 row14\" >14</th>\n",
       "      <td id=\"T_d3c3c_row14_col0\" class=\"data row14 col0\" >Ignore Seasonality Test</td>\n",
       "      <td id=\"T_d3c3c_row14_col1\" class=\"data row14 col1\" >False</td>\n",
       "    </tr>\n",
       "    <tr>\n",
       "      <th id=\"T_d3c3c_level0_row15\" class=\"row_heading level0 row15\" >15</th>\n",
       "      <td id=\"T_d3c3c_row15_col0\" class=\"data row15 col0\" >Seasonality Detection Algo</td>\n",
       "      <td id=\"T_d3c3c_row15_col1\" class=\"data row15 col1\" >auto</td>\n",
       "    </tr>\n",
       "    <tr>\n",
       "      <th id=\"T_d3c3c_level0_row16\" class=\"row_heading level0 row16\" >16</th>\n",
       "      <td id=\"T_d3c3c_row16_col0\" class=\"data row16 col0\" >Max Period to Consider</td>\n",
       "      <td id=\"T_d3c3c_row16_col1\" class=\"data row16 col1\" >60</td>\n",
       "    </tr>\n",
       "    <tr>\n",
       "      <th id=\"T_d3c3c_level0_row17\" class=\"row_heading level0 row17\" >17</th>\n",
       "      <td id=\"T_d3c3c_row17_col0\" class=\"data row17 col0\" >Seasonal Period(s) Tested</td>\n",
       "      <td id=\"T_d3c3c_row17_col1\" class=\"data row17 col1\" >[12]</td>\n",
       "    </tr>\n",
       "    <tr>\n",
       "      <th id=\"T_d3c3c_level0_row18\" class=\"row_heading level0 row18\" >18</th>\n",
       "      <td id=\"T_d3c3c_row18_col0\" class=\"data row18 col0\" >Significant Seasonal Period(s)</td>\n",
       "      <td id=\"T_d3c3c_row18_col1\" class=\"data row18 col1\" >[12]</td>\n",
       "    </tr>\n",
       "    <tr>\n",
       "      <th id=\"T_d3c3c_level0_row19\" class=\"row_heading level0 row19\" >19</th>\n",
       "      <td id=\"T_d3c3c_row19_col0\" class=\"data row19 col0\" >Significant Seasonal Period(s) without Harmonics</td>\n",
       "      <td id=\"T_d3c3c_row19_col1\" class=\"data row19 col1\" >[12]</td>\n",
       "    </tr>\n",
       "    <tr>\n",
       "      <th id=\"T_d3c3c_level0_row20\" class=\"row_heading level0 row20\" >20</th>\n",
       "      <td id=\"T_d3c3c_row20_col0\" class=\"data row20 col0\" >Remove Harmonics</td>\n",
       "      <td id=\"T_d3c3c_row20_col1\" class=\"data row20 col1\" >False</td>\n",
       "    </tr>\n",
       "    <tr>\n",
       "      <th id=\"T_d3c3c_level0_row21\" class=\"row_heading level0 row21\" >21</th>\n",
       "      <td id=\"T_d3c3c_row21_col0\" class=\"data row21 col0\" >Harmonics Order Method</td>\n",
       "      <td id=\"T_d3c3c_row21_col1\" class=\"data row21 col1\" >harmonic_max</td>\n",
       "    </tr>\n",
       "    <tr>\n",
       "      <th id=\"T_d3c3c_level0_row22\" class=\"row_heading level0 row22\" >22</th>\n",
       "      <td id=\"T_d3c3c_row22_col0\" class=\"data row22 col0\" >Num Seasonalities to Use</td>\n",
       "      <td id=\"T_d3c3c_row22_col1\" class=\"data row22 col1\" >1</td>\n",
       "    </tr>\n",
       "    <tr>\n",
       "      <th id=\"T_d3c3c_level0_row23\" class=\"row_heading level0 row23\" >23</th>\n",
       "      <td id=\"T_d3c3c_row23_col0\" class=\"data row23 col0\" >All Seasonalities to Use</td>\n",
       "      <td id=\"T_d3c3c_row23_col1\" class=\"data row23 col1\" >[12]</td>\n",
       "    </tr>\n",
       "    <tr>\n",
       "      <th id=\"T_d3c3c_level0_row24\" class=\"row_heading level0 row24\" >24</th>\n",
       "      <td id=\"T_d3c3c_row24_col0\" class=\"data row24 col0\" >Primary Seasonality</td>\n",
       "      <td id=\"T_d3c3c_row24_col1\" class=\"data row24 col1\" >12</td>\n",
       "    </tr>\n",
       "    <tr>\n",
       "      <th id=\"T_d3c3c_level0_row25\" class=\"row_heading level0 row25\" >25</th>\n",
       "      <td id=\"T_d3c3c_row25_col0\" class=\"data row25 col0\" >Seasonality Present</td>\n",
       "      <td id=\"T_d3c3c_row25_col1\" class=\"data row25 col1\" >True</td>\n",
       "    </tr>\n",
       "    <tr>\n",
       "      <th id=\"T_d3c3c_level0_row26\" class=\"row_heading level0 row26\" >26</th>\n",
       "      <td id=\"T_d3c3c_row26_col0\" class=\"data row26 col0\" >Seasonality Type</td>\n",
       "      <td id=\"T_d3c3c_row26_col1\" class=\"data row26 col1\" >add</td>\n",
       "    </tr>\n",
       "    <tr>\n",
       "      <th id=\"T_d3c3c_level0_row27\" class=\"row_heading level0 row27\" >27</th>\n",
       "      <td id=\"T_d3c3c_row27_col0\" class=\"data row27 col0\" >Target Strictly Positive</td>\n",
       "      <td id=\"T_d3c3c_row27_col1\" class=\"data row27 col1\" >False</td>\n",
       "    </tr>\n",
       "    <tr>\n",
       "      <th id=\"T_d3c3c_level0_row28\" class=\"row_heading level0 row28\" >28</th>\n",
       "      <td id=\"T_d3c3c_row28_col0\" class=\"data row28 col0\" >Target White Noise</td>\n",
       "      <td id=\"T_d3c3c_row28_col1\" class=\"data row28 col1\" >Yes</td>\n",
       "    </tr>\n",
       "    <tr>\n",
       "      <th id=\"T_d3c3c_level0_row29\" class=\"row_heading level0 row29\" >29</th>\n",
       "      <td id=\"T_d3c3c_row29_col0\" class=\"data row29 col0\" >Recommended d</td>\n",
       "      <td id=\"T_d3c3c_row29_col1\" class=\"data row29 col1\" >1</td>\n",
       "    </tr>\n",
       "    <tr>\n",
       "      <th id=\"T_d3c3c_level0_row30\" class=\"row_heading level0 row30\" >30</th>\n",
       "      <td id=\"T_d3c3c_row30_col0\" class=\"data row30 col0\" >Recommended Seasonal D</td>\n",
       "      <td id=\"T_d3c3c_row30_col1\" class=\"data row30 col1\" >0</td>\n",
       "    </tr>\n",
       "    <tr>\n",
       "      <th id=\"T_d3c3c_level0_row31\" class=\"row_heading level0 row31\" >31</th>\n",
       "      <td id=\"T_d3c3c_row31_col0\" class=\"data row31 col0\" >Preprocess</td>\n",
       "      <td id=\"T_d3c3c_row31_col1\" class=\"data row31 col1\" >True</td>\n",
       "    </tr>\n",
       "    <tr>\n",
       "      <th id=\"T_d3c3c_level0_row32\" class=\"row_heading level0 row32\" >32</th>\n",
       "      <td id=\"T_d3c3c_row32_col0\" class=\"data row32 col0\" >Numerical Imputation (Target)</td>\n",
       "      <td id=\"T_d3c3c_row32_col1\" class=\"data row32 col1\" >mean</td>\n",
       "    </tr>\n",
       "    <tr>\n",
       "      <th id=\"T_d3c3c_level0_row33\" class=\"row_heading level0 row33\" >33</th>\n",
       "      <td id=\"T_d3c3c_row33_col0\" class=\"data row33 col0\" >Transformation (Target)</td>\n",
       "      <td id=\"T_d3c3c_row33_col1\" class=\"data row33 col1\" >None</td>\n",
       "    </tr>\n",
       "    <tr>\n",
       "      <th id=\"T_d3c3c_level0_row34\" class=\"row_heading level0 row34\" >34</th>\n",
       "      <td id=\"T_d3c3c_row34_col0\" class=\"data row34 col0\" >Scaling (Target)</td>\n",
       "      <td id=\"T_d3c3c_row34_col1\" class=\"data row34 col1\" >None</td>\n",
       "    </tr>\n",
       "    <tr>\n",
       "      <th id=\"T_d3c3c_level0_row35\" class=\"row_heading level0 row35\" >35</th>\n",
       "      <td id=\"T_d3c3c_row35_col0\" class=\"data row35 col0\" >Feature Engineering (Target) - Reduced Regression</td>\n",
       "      <td id=\"T_d3c3c_row35_col1\" class=\"data row35 col1\" >False</td>\n",
       "    </tr>\n",
       "    <tr>\n",
       "      <th id=\"T_d3c3c_level0_row36\" class=\"row_heading level0 row36\" >36</th>\n",
       "      <td id=\"T_d3c3c_row36_col0\" class=\"data row36 col0\" >CPU Jobs</td>\n",
       "      <td id=\"T_d3c3c_row36_col1\" class=\"data row36 col1\" >-1</td>\n",
       "    </tr>\n",
       "    <tr>\n",
       "      <th id=\"T_d3c3c_level0_row37\" class=\"row_heading level0 row37\" >37</th>\n",
       "      <td id=\"T_d3c3c_row37_col0\" class=\"data row37 col0\" >Use GPU</td>\n",
       "      <td id=\"T_d3c3c_row37_col1\" class=\"data row37 col1\" >False</td>\n",
       "    </tr>\n",
       "    <tr>\n",
       "      <th id=\"T_d3c3c_level0_row38\" class=\"row_heading level0 row38\" >38</th>\n",
       "      <td id=\"T_d3c3c_row38_col0\" class=\"data row38 col0\" >Log Experiment</td>\n",
       "      <td id=\"T_d3c3c_row38_col1\" class=\"data row38 col1\" >False</td>\n",
       "    </tr>\n",
       "    <tr>\n",
       "      <th id=\"T_d3c3c_level0_row39\" class=\"row_heading level0 row39\" >39</th>\n",
       "      <td id=\"T_d3c3c_row39_col0\" class=\"data row39 col0\" >Experiment Name</td>\n",
       "      <td id=\"T_d3c3c_row39_col1\" class=\"data row39 col1\" >ts-default-name</td>\n",
       "    </tr>\n",
       "    <tr>\n",
       "      <th id=\"T_d3c3c_level0_row40\" class=\"row_heading level0 row40\" >40</th>\n",
       "      <td id=\"T_d3c3c_row40_col0\" class=\"data row40 col0\" >USI</td>\n",
       "      <td id=\"T_d3c3c_row40_col1\" class=\"data row40 col1\" >5892</td>\n",
       "    </tr>\n",
       "  </tbody>\n",
       "</table>\n"
      ],
      "text/plain": [
       "<pandas.io.formats.style.Styler at 0x224d0858df0>"
      ]
     },
     "metadata": {},
     "output_type": "display_data"
    },
    {
     "data": {
      "text/html": [],
      "text/plain": [
       "<IPython.core.display.HTML object>"
      ]
     },
     "metadata": {},
     "output_type": "display_data"
    },
    {
     "data": {
      "text/html": [
       "<style type=\"text/css\">\n",
       "#T_6bd87 th {\n",
       "  text-align: left;\n",
       "}\n",
       "#T_6bd87_row0_col0, #T_6bd87_row0_col6, #T_6bd87_row1_col0, #T_6bd87_row1_col1, #T_6bd87_row1_col2, #T_6bd87_row1_col3, #T_6bd87_row1_col4, #T_6bd87_row1_col5, #T_6bd87_row2_col0, #T_6bd87_row2_col1, #T_6bd87_row2_col2, #T_6bd87_row2_col3, #T_6bd87_row2_col4, #T_6bd87_row2_col5, #T_6bd87_row2_col6, #T_6bd87_row3_col0, #T_6bd87_row3_col1, #T_6bd87_row3_col2, #T_6bd87_row3_col3, #T_6bd87_row3_col4, #T_6bd87_row3_col5, #T_6bd87_row3_col6, #T_6bd87_row4_col0, #T_6bd87_row4_col1, #T_6bd87_row4_col2, #T_6bd87_row4_col3, #T_6bd87_row4_col4, #T_6bd87_row4_col5, #T_6bd87_row4_col6, #T_6bd87_row5_col0, #T_6bd87_row5_col1, #T_6bd87_row5_col2, #T_6bd87_row5_col3, #T_6bd87_row5_col4, #T_6bd87_row5_col5, #T_6bd87_row5_col6, #T_6bd87_row6_col0, #T_6bd87_row6_col1, #T_6bd87_row6_col2, #T_6bd87_row6_col3, #T_6bd87_row6_col4, #T_6bd87_row6_col5, #T_6bd87_row6_col6, #T_6bd87_row7_col0, #T_6bd87_row7_col1, #T_6bd87_row7_col2, #T_6bd87_row7_col3, #T_6bd87_row7_col4, #T_6bd87_row7_col5, #T_6bd87_row7_col6, #T_6bd87_row8_col0, #T_6bd87_row8_col1, #T_6bd87_row8_col2, #T_6bd87_row8_col3, #T_6bd87_row8_col4, #T_6bd87_row8_col5, #T_6bd87_row8_col6, #T_6bd87_row9_col0, #T_6bd87_row9_col1, #T_6bd87_row9_col2, #T_6bd87_row9_col3, #T_6bd87_row9_col4, #T_6bd87_row9_col5, #T_6bd87_row9_col6, #T_6bd87_row10_col0, #T_6bd87_row10_col1, #T_6bd87_row10_col2, #T_6bd87_row10_col3, #T_6bd87_row10_col4, #T_6bd87_row10_col5, #T_6bd87_row10_col6, #T_6bd87_row11_col0, #T_6bd87_row11_col1, #T_6bd87_row11_col2, #T_6bd87_row11_col3, #T_6bd87_row11_col4, #T_6bd87_row11_col5, #T_6bd87_row11_col6, #T_6bd87_row12_col0, #T_6bd87_row12_col1, #T_6bd87_row12_col2, #T_6bd87_row12_col3, #T_6bd87_row12_col4, #T_6bd87_row12_col5, #T_6bd87_row12_col6, #T_6bd87_row13_col0, #T_6bd87_row13_col1, #T_6bd87_row13_col2, #T_6bd87_row13_col3, #T_6bd87_row13_col4, #T_6bd87_row13_col5, #T_6bd87_row13_col6, #T_6bd87_row14_col0, #T_6bd87_row14_col1, #T_6bd87_row14_col2, #T_6bd87_row14_col3, #T_6bd87_row14_col4, #T_6bd87_row14_col5, #T_6bd87_row14_col6, #T_6bd87_row15_col0, #T_6bd87_row15_col1, #T_6bd87_row15_col2, #T_6bd87_row15_col3, #T_6bd87_row15_col4, #T_6bd87_row15_col5, #T_6bd87_row15_col6, #T_6bd87_row16_col0, #T_6bd87_row16_col1, #T_6bd87_row16_col2, #T_6bd87_row16_col3, #T_6bd87_row16_col4, #T_6bd87_row16_col5, #T_6bd87_row16_col6, #T_6bd87_row17_col0, #T_6bd87_row17_col1, #T_6bd87_row17_col2, #T_6bd87_row17_col3, #T_6bd87_row17_col4, #T_6bd87_row17_col5, #T_6bd87_row17_col6, #T_6bd87_row18_col0, #T_6bd87_row18_col1, #T_6bd87_row18_col2, #T_6bd87_row18_col3, #T_6bd87_row18_col4, #T_6bd87_row18_col5, #T_6bd87_row18_col6, #T_6bd87_row19_col0, #T_6bd87_row19_col1, #T_6bd87_row19_col2, #T_6bd87_row19_col3, #T_6bd87_row19_col4, #T_6bd87_row19_col5, #T_6bd87_row19_col6, #T_6bd87_row20_col0, #T_6bd87_row20_col1, #T_6bd87_row20_col2, #T_6bd87_row20_col3, #T_6bd87_row20_col4, #T_6bd87_row20_col5, #T_6bd87_row20_col6, #T_6bd87_row21_col0, #T_6bd87_row21_col1, #T_6bd87_row21_col2, #T_6bd87_row21_col3, #T_6bd87_row21_col4, #T_6bd87_row21_col5, #T_6bd87_row21_col6, #T_6bd87_row22_col0, #T_6bd87_row22_col1, #T_6bd87_row22_col2, #T_6bd87_row22_col3, #T_6bd87_row22_col4, #T_6bd87_row22_col5, #T_6bd87_row22_col6 {\n",
       "  text-align: left;\n",
       "}\n",
       "#T_6bd87_row0_col1, #T_6bd87_row0_col2, #T_6bd87_row0_col3, #T_6bd87_row0_col4, #T_6bd87_row0_col5, #T_6bd87_row1_col6 {\n",
       "  text-align: left;\n",
       "  background-color: yellow;\n",
       "}\n",
       "#T_6bd87_row0_col7 {\n",
       "  text-align: left;\n",
       "  background-color: yellow;\n",
       "  background-color: lightgrey;\n",
       "}\n",
       "#T_6bd87_row1_col7, #T_6bd87_row2_col7, #T_6bd87_row3_col7, #T_6bd87_row4_col7, #T_6bd87_row5_col7, #T_6bd87_row6_col7, #T_6bd87_row7_col7, #T_6bd87_row8_col7, #T_6bd87_row9_col7, #T_6bd87_row10_col7, #T_6bd87_row11_col7, #T_6bd87_row12_col7, #T_6bd87_row13_col7, #T_6bd87_row14_col7, #T_6bd87_row15_col7, #T_6bd87_row16_col7, #T_6bd87_row17_col7, #T_6bd87_row18_col7, #T_6bd87_row19_col7, #T_6bd87_row20_col7, #T_6bd87_row21_col7, #T_6bd87_row22_col7 {\n",
       "  text-align: left;\n",
       "  background-color: lightgrey;\n",
       "}\n",
       "</style>\n",
       "<table id=\"T_6bd87\">\n",
       "  <thead>\n",
       "    <tr>\n",
       "      <th class=\"blank level0\" >&nbsp;</th>\n",
       "      <th id=\"T_6bd87_level0_col0\" class=\"col_heading level0 col0\" >Model</th>\n",
       "      <th id=\"T_6bd87_level0_col1\" class=\"col_heading level0 col1\" >MASE</th>\n",
       "      <th id=\"T_6bd87_level0_col2\" class=\"col_heading level0 col2\" >RMSSE</th>\n",
       "      <th id=\"T_6bd87_level0_col3\" class=\"col_heading level0 col3\" >MAE</th>\n",
       "      <th id=\"T_6bd87_level0_col4\" class=\"col_heading level0 col4\" >RMSE</th>\n",
       "      <th id=\"T_6bd87_level0_col5\" class=\"col_heading level0 col5\" >MAPE</th>\n",
       "      <th id=\"T_6bd87_level0_col6\" class=\"col_heading level0 col6\" >SMAPE</th>\n",
       "      <th id=\"T_6bd87_level0_col7\" class=\"col_heading level0 col7\" >TT (Sec)</th>\n",
       "    </tr>\n",
       "  </thead>\n",
       "  <tbody>\n",
       "    <tr>\n",
       "      <th id=\"T_6bd87_level0_row0\" class=\"row_heading level0 row0\" >polytrend</th>\n",
       "      <td id=\"T_6bd87_row0_col0\" class=\"data row0 col0\" >Polynomial Trend Forecaster</td>\n",
       "      <td id=\"T_6bd87_row0_col1\" class=\"data row0 col1\" >2.4545</td>\n",
       "      <td id=\"T_6bd87_row0_col2\" class=\"data row0 col2\" >1.7765</td>\n",
       "      <td id=\"T_6bd87_row0_col3\" class=\"data row0 col3\" >1994779.3486</td>\n",
       "      <td id=\"T_6bd87_row0_col4\" class=\"data row0 col4\" >1994779.3486</td>\n",
       "      <td id=\"T_6bd87_row0_col5\" class=\"data row0 col5\" >2.7118</td>\n",
       "      <td id=\"T_6bd87_row0_col6\" class=\"data row0 col6\" >1.5165</td>\n",
       "      <td id=\"T_6bd87_row0_col7\" class=\"data row0 col7\" >0.0167</td>\n",
       "    </tr>\n",
       "    <tr>\n",
       "      <th id=\"T_6bd87_level0_row1\" class=\"row_heading level0 row1\" >theta</th>\n",
       "      <td id=\"T_6bd87_row1_col0\" class=\"data row1 col0\" >Theta Forecaster</td>\n",
       "      <td id=\"T_6bd87_row1_col1\" class=\"data row1 col1\" >2.4618</td>\n",
       "      <td id=\"T_6bd87_row1_col2\" class=\"data row1 col2\" >1.7820</td>\n",
       "      <td id=\"T_6bd87_row1_col3\" class=\"data row1 col3\" >2003459.5007</td>\n",
       "      <td id=\"T_6bd87_row1_col4\" class=\"data row1 col4\" >2003459.5007</td>\n",
       "      <td id=\"T_6bd87_row1_col5\" class=\"data row1 col5\" >3.3334</td>\n",
       "      <td id=\"T_6bd87_row1_col6\" class=\"data row1 col6\" >1.4411</td>\n",
       "      <td id=\"T_6bd87_row1_col7\" class=\"data row1 col7\" >0.0300</td>\n",
       "    </tr>\n",
       "    <tr>\n",
       "      <th id=\"T_6bd87_level0_row2\" class=\"row_heading level0 row2\" >omp_cds_dt</th>\n",
       "      <td id=\"T_6bd87_row2_col0\" class=\"data row2 col0\" >Orthogonal Matching Pursuit w/ Cond. Deseasonalize & Detrending</td>\n",
       "      <td id=\"T_6bd87_row2_col1\" class=\"data row2 col1\" >3.0315</td>\n",
       "      <td id=\"T_6bd87_row2_col2\" class=\"data row2 col2\" >2.1932</td>\n",
       "      <td id=\"T_6bd87_row2_col3\" class=\"data row2 col3\" >2469713.1335</td>\n",
       "      <td id=\"T_6bd87_row2_col4\" class=\"data row2 col4\" >2469713.1335</td>\n",
       "      <td id=\"T_6bd87_row2_col5\" class=\"data row2 col5\" >3.8288</td>\n",
       "      <td id=\"T_6bd87_row2_col6\" class=\"data row2 col6\" >1.8434</td>\n",
       "      <td id=\"T_6bd87_row2_col7\" class=\"data row2 col7\" >0.0433</td>\n",
       "    </tr>\n",
       "    <tr>\n",
       "      <th id=\"T_6bd87_level0_row3\" class=\"row_heading level0 row3\" >knn_cds_dt</th>\n",
       "      <td id=\"T_6bd87_row3_col0\" class=\"data row3 col0\" >K Neighbors w/ Cond. Deseasonalize & Detrending</td>\n",
       "      <td id=\"T_6bd87_row3_col1\" class=\"data row3 col1\" >3.2959</td>\n",
       "      <td id=\"T_6bd87_row3_col2\" class=\"data row3 col2\" >2.3829</td>\n",
       "      <td id=\"T_6bd87_row3_col3\" class=\"data row3 col3\" >2688686.0765</td>\n",
       "      <td id=\"T_6bd87_row3_col4\" class=\"data row3 col4\" >2688686.0765</td>\n",
       "      <td id=\"T_6bd87_row3_col5\" class=\"data row3 col5\" >3.8568</td>\n",
       "      <td id=\"T_6bd87_row3_col6\" class=\"data row3 col6\" >1.9862</td>\n",
       "      <td id=\"T_6bd87_row3_col7\" class=\"data row3 col7\" >0.0533</td>\n",
       "    </tr>\n",
       "    <tr>\n",
       "      <th id=\"T_6bd87_level0_row4\" class=\"row_heading level0 row4\" >et_cds_dt</th>\n",
       "      <td id=\"T_6bd87_row4_col0\" class=\"data row4 col0\" >Extra Trees w/ Cond. Deseasonalize & Detrending</td>\n",
       "      <td id=\"T_6bd87_row4_col1\" class=\"data row4 col1\" >3.1312</td>\n",
       "      <td id=\"T_6bd87_row4_col2\" class=\"data row4 col2\" >2.2654</td>\n",
       "      <td id=\"T_6bd87_row4_col3\" class=\"data row4 col3\" >2552749.0747</td>\n",
       "      <td id=\"T_6bd87_row4_col4\" class=\"data row4 col4\" >2552749.0747</td>\n",
       "      <td id=\"T_6bd87_row4_col5\" class=\"data row4 col5\" >4.3464</td>\n",
       "      <td id=\"T_6bd87_row4_col6\" class=\"data row4 col6\" >1.8451</td>\n",
       "      <td id=\"T_6bd87_row4_col7\" class=\"data row4 col7\" >0.0833</td>\n",
       "    </tr>\n",
       "    <tr>\n",
       "      <th id=\"T_6bd87_level0_row5\" class=\"row_heading level0 row5\" >auto_arima</th>\n",
       "      <td id=\"T_6bd87_row5_col0\" class=\"data row5 col0\" >Auto ARIMA</td>\n",
       "      <td id=\"T_6bd87_row5_col1\" class=\"data row5 col1\" >2.6491</td>\n",
       "      <td id=\"T_6bd87_row5_col2\" class=\"data row5 col2\" >1.9184</td>\n",
       "      <td id=\"T_6bd87_row5_col3\" class=\"data row5 col3\" >2157991.9750</td>\n",
       "      <td id=\"T_6bd87_row5_col4\" class=\"data row5 col4\" >2157991.9750</td>\n",
       "      <td id=\"T_6bd87_row5_col5\" class=\"data row5 col5\" >4.4155</td>\n",
       "      <td id=\"T_6bd87_row5_col6\" class=\"data row5 col6\" >1.4417</td>\n",
       "      <td id=\"T_6bd87_row5_col7\" class=\"data row5 col7\" >1.5067</td>\n",
       "    </tr>\n",
       "    <tr>\n",
       "      <th id=\"T_6bd87_level0_row6\" class=\"row_heading level0 row6\" >br_cds_dt</th>\n",
       "      <td id=\"T_6bd87_row6_col0\" class=\"data row6 col0\" >Bayesian Ridge w/ Cond. Deseasonalize & Detrending</td>\n",
       "      <td id=\"T_6bd87_row6_col1\" class=\"data row6 col1\" >3.1562</td>\n",
       "      <td id=\"T_6bd87_row6_col2\" class=\"data row6 col2\" >2.2837</td>\n",
       "      <td id=\"T_6bd87_row6_col3\" class=\"data row6 col3\" >2573182.6888</td>\n",
       "      <td id=\"T_6bd87_row6_col4\" class=\"data row6 col4\" >2573182.6888</td>\n",
       "      <td id=\"T_6bd87_row6_col5\" class=\"data row6 col5\" >4.4892</td>\n",
       "      <td id=\"T_6bd87_row6_col6\" class=\"data row6 col6\" >1.8263</td>\n",
       "      <td id=\"T_6bd87_row6_col7\" class=\"data row6 col7\" >0.0467</td>\n",
       "    </tr>\n",
       "    <tr>\n",
       "      <th id=\"T_6bd87_level0_row7\" class=\"row_heading level0 row7\" >lasso_cds_dt</th>\n",
       "      <td id=\"T_6bd87_row7_col0\" class=\"data row7 col0\" >Lasso w/ Cond. Deseasonalize & Detrending</td>\n",
       "      <td id=\"T_6bd87_row7_col1\" class=\"data row7 col1\" >3.1603</td>\n",
       "      <td id=\"T_6bd87_row7_col2\" class=\"data row7 col2\" >2.2861</td>\n",
       "      <td id=\"T_6bd87_row7_col3\" class=\"data row7 col3\" >2580176.3972</td>\n",
       "      <td id=\"T_6bd87_row7_col4\" class=\"data row7 col4\" >2580176.3972</td>\n",
       "      <td id=\"T_6bd87_row7_col5\" class=\"data row7 col5\" >4.8082</td>\n",
       "      <td id=\"T_6bd87_row7_col6\" class=\"data row7 col6\" >1.8020</td>\n",
       "      <td id=\"T_6bd87_row7_col7\" class=\"data row7 col7\" >0.0433</td>\n",
       "    </tr>\n",
       "    <tr>\n",
       "      <th id=\"T_6bd87_level0_row8\" class=\"row_heading level0 row8\" >lr_cds_dt</th>\n",
       "      <td id=\"T_6bd87_row8_col0\" class=\"data row8 col0\" >Linear w/ Cond. Deseasonalize & Detrending</td>\n",
       "      <td id=\"T_6bd87_row8_col1\" class=\"data row8 col1\" >3.1603</td>\n",
       "      <td id=\"T_6bd87_row8_col2\" class=\"data row8 col2\" >2.2861</td>\n",
       "      <td id=\"T_6bd87_row8_col3\" class=\"data row8 col3\" >2580176.3972</td>\n",
       "      <td id=\"T_6bd87_row8_col4\" class=\"data row8 col4\" >2580176.3972</td>\n",
       "      <td id=\"T_6bd87_row8_col5\" class=\"data row8 col5\" >4.8082</td>\n",
       "      <td id=\"T_6bd87_row8_col6\" class=\"data row8 col6\" >1.8020</td>\n",
       "      <td id=\"T_6bd87_row8_col7\" class=\"data row8 col7\" >0.0433</td>\n",
       "    </tr>\n",
       "    <tr>\n",
       "      <th id=\"T_6bd87_level0_row9\" class=\"row_heading level0 row9\" >en_cds_dt</th>\n",
       "      <td id=\"T_6bd87_row9_col0\" class=\"data row9 col0\" >Elastic Net w/ Cond. Deseasonalize & Detrending</td>\n",
       "      <td id=\"T_6bd87_row9_col1\" class=\"data row9 col1\" >3.1603</td>\n",
       "      <td id=\"T_6bd87_row9_col2\" class=\"data row9 col2\" >2.2861</td>\n",
       "      <td id=\"T_6bd87_row9_col3\" class=\"data row9 col3\" >2580176.3972</td>\n",
       "      <td id=\"T_6bd87_row9_col4\" class=\"data row9 col4\" >2580176.3972</td>\n",
       "      <td id=\"T_6bd87_row9_col5\" class=\"data row9 col5\" >4.8082</td>\n",
       "      <td id=\"T_6bd87_row9_col6\" class=\"data row9 col6\" >1.8020</td>\n",
       "      <td id=\"T_6bd87_row9_col7\" class=\"data row9 col7\" >0.0433</td>\n",
       "    </tr>\n",
       "    <tr>\n",
       "      <th id=\"T_6bd87_level0_row10\" class=\"row_heading level0 row10\" >ridge_cds_dt</th>\n",
       "      <td id=\"T_6bd87_row10_col0\" class=\"data row10 col0\" >Ridge w/ Cond. Deseasonalize & Detrending</td>\n",
       "      <td id=\"T_6bd87_row10_col1\" class=\"data row10 col1\" >3.1603</td>\n",
       "      <td id=\"T_6bd87_row10_col2\" class=\"data row10 col2\" >2.2861</td>\n",
       "      <td id=\"T_6bd87_row10_col3\" class=\"data row10 col3\" >2580176.3972</td>\n",
       "      <td id=\"T_6bd87_row10_col4\" class=\"data row10 col4\" >2580176.3972</td>\n",
       "      <td id=\"T_6bd87_row10_col5\" class=\"data row10 col5\" >4.8082</td>\n",
       "      <td id=\"T_6bd87_row10_col6\" class=\"data row10 col6\" >1.8020</td>\n",
       "      <td id=\"T_6bd87_row10_col7\" class=\"data row10 col7\" >0.0533</td>\n",
       "    </tr>\n",
       "    <tr>\n",
       "      <th id=\"T_6bd87_level0_row11\" class=\"row_heading level0 row11\" >llar_cds_dt</th>\n",
       "      <td id=\"T_6bd87_row11_col0\" class=\"data row11 col0\" >Lasso Least Angular Regressor w/ Cond. Deseasonalize & Detrending</td>\n",
       "      <td id=\"T_6bd87_row11_col1\" class=\"data row11 col1\" >3.1603</td>\n",
       "      <td id=\"T_6bd87_row11_col2\" class=\"data row11 col2\" >2.2861</td>\n",
       "      <td id=\"T_6bd87_row11_col3\" class=\"data row11 col3\" >2580176.3972</td>\n",
       "      <td id=\"T_6bd87_row11_col4\" class=\"data row11 col4\" >2580176.3972</td>\n",
       "      <td id=\"T_6bd87_row11_col5\" class=\"data row11 col5\" >4.8082</td>\n",
       "      <td id=\"T_6bd87_row11_col6\" class=\"data row11 col6\" >1.8020</td>\n",
       "      <td id=\"T_6bd87_row11_col7\" class=\"data row11 col7\" >0.0467</td>\n",
       "    </tr>\n",
       "    <tr>\n",
       "      <th id=\"T_6bd87_level0_row12\" class=\"row_heading level0 row12\" >dt_cds_dt</th>\n",
       "      <td id=\"T_6bd87_row12_col0\" class=\"data row12 col0\" >Decision Tree w/ Cond. Deseasonalize & Detrending</td>\n",
       "      <td id=\"T_6bd87_row12_col1\" class=\"data row12 col1\" >3.3676</td>\n",
       "      <td id=\"T_6bd87_row12_col2\" class=\"data row12 col2\" >2.4355</td>\n",
       "      <td id=\"T_6bd87_row12_col3\" class=\"data row12 col3\" >2750309.5570</td>\n",
       "      <td id=\"T_6bd87_row12_col4\" class=\"data row12 col4\" >2750309.5570</td>\n",
       "      <td id=\"T_6bd87_row12_col5\" class=\"data row12 col5\" >4.9217</td>\n",
       "      <td id=\"T_6bd87_row12_col6\" class=\"data row12 col6\" >1.9939</td>\n",
       "      <td id=\"T_6bd87_row12_col7\" class=\"data row12 col7\" >0.0433</td>\n",
       "    </tr>\n",
       "    <tr>\n",
       "      <th id=\"T_6bd87_level0_row13\" class=\"row_heading level0 row13\" >rf_cds_dt</th>\n",
       "      <td id=\"T_6bd87_row13_col0\" class=\"data row13 col0\" >Random Forest w/ Cond. Deseasonalize & Detrending</td>\n",
       "      <td id=\"T_6bd87_row13_col1\" class=\"data row13 col1\" >3.3316</td>\n",
       "      <td id=\"T_6bd87_row13_col2\" class=\"data row13 col2\" >2.4092</td>\n",
       "      <td id=\"T_6bd87_row13_col3\" class=\"data row13 col3\" >2723384.8632</td>\n",
       "      <td id=\"T_6bd87_row13_col4\" class=\"data row13 col4\" >2723384.8632</td>\n",
       "      <td id=\"T_6bd87_row13_col5\" class=\"data row13 col5\" >5.1917</td>\n",
       "      <td id=\"T_6bd87_row13_col6\" class=\"data row13 col6\" >1.9256</td>\n",
       "      <td id=\"T_6bd87_row13_col7\" class=\"data row13 col7\" >0.0900</td>\n",
       "    </tr>\n",
       "    <tr>\n",
       "      <th id=\"T_6bd87_level0_row14\" class=\"row_heading level0 row14\" >ada_cds_dt</th>\n",
       "      <td id=\"T_6bd87_row14_col0\" class=\"data row14 col0\" >AdaBoost w/ Cond. Deseasonalize & Detrending</td>\n",
       "      <td id=\"T_6bd87_row14_col1\" class=\"data row14 col1\" >3.2120</td>\n",
       "      <td id=\"T_6bd87_row14_col2\" class=\"data row14 col2\" >2.3238</td>\n",
       "      <td id=\"T_6bd87_row14_col3\" class=\"data row14 col3\" >2623139.0167</td>\n",
       "      <td id=\"T_6bd87_row14_col4\" class=\"data row14 col4\" >2623139.0167</td>\n",
       "      <td id=\"T_6bd87_row14_col5\" class=\"data row14 col5\" >5.2216</td>\n",
       "      <td id=\"T_6bd87_row14_col6\" class=\"data row14 col6\" >1.7752</td>\n",
       "      <td id=\"T_6bd87_row14_col7\" class=\"data row14 col7\" >0.0567</td>\n",
       "    </tr>\n",
       "    <tr>\n",
       "      <th id=\"T_6bd87_level0_row15\" class=\"row_heading level0 row15\" >gbr_cds_dt</th>\n",
       "      <td id=\"T_6bd87_row15_col0\" class=\"data row15 col0\" >Gradient Boosting w/ Cond. Deseasonalize & Detrending</td>\n",
       "      <td id=\"T_6bd87_row15_col1\" class=\"data row15 col1\" >3.3524</td>\n",
       "      <td id=\"T_6bd87_row15_col2\" class=\"data row15 col2\" >2.4239</td>\n",
       "      <td id=\"T_6bd87_row15_col3\" class=\"data row15 col3\" >2742201.5344</td>\n",
       "      <td id=\"T_6bd87_row15_col4\" class=\"data row15 col4\" >2742201.5344</td>\n",
       "      <td id=\"T_6bd87_row15_col5\" class=\"data row15 col5\" >5.3011</td>\n",
       "      <td id=\"T_6bd87_row15_col6\" class=\"data row15 col6\" >1.9445</td>\n",
       "      <td id=\"T_6bd87_row15_col7\" class=\"data row15 col7\" >0.0600</td>\n",
       "    </tr>\n",
       "    <tr>\n",
       "      <th id=\"T_6bd87_level0_row16\" class=\"row_heading level0 row16\" >exp_smooth</th>\n",
       "      <td id=\"T_6bd87_row16_col0\" class=\"data row16 col0\" >Exponential Smoothing</td>\n",
       "      <td id=\"T_6bd87_row16_col1\" class=\"data row16 col1\" >3.1777</td>\n",
       "      <td id=\"T_6bd87_row16_col2\" class=\"data row16 col2\" >2.2997</td>\n",
       "      <td id=\"T_6bd87_row16_col3\" class=\"data row16 col3\" >2594277.4763</td>\n",
       "      <td id=\"T_6bd87_row16_col4\" class=\"data row16 col4\" >2594277.4763</td>\n",
       "      <td id=\"T_6bd87_row16_col5\" class=\"data row16 col5\" >5.3846</td>\n",
       "      <td id=\"T_6bd87_row16_col6\" class=\"data row16 col6\" >1.7073</td>\n",
       "      <td id=\"T_6bd87_row16_col7\" class=\"data row16 col7\" >0.0600</td>\n",
       "    </tr>\n",
       "    <tr>\n",
       "      <th id=\"T_6bd87_level0_row17\" class=\"row_heading level0 row17\" >lightgbm_cds_dt</th>\n",
       "      <td id=\"T_6bd87_row17_col0\" class=\"data row17 col0\" >Light Gradient Boosting w/ Cond. Deseasonalize & Detrending</td>\n",
       "      <td id=\"T_6bd87_row17_col1\" class=\"data row17 col1\" >3.4878</td>\n",
       "      <td id=\"T_6bd87_row17_col2\" class=\"data row17 col2\" >2.5221</td>\n",
       "      <td id=\"T_6bd87_row17_col3\" class=\"data row17 col3\" >2851732.1746</td>\n",
       "      <td id=\"T_6bd87_row17_col4\" class=\"data row17 col4\" >2851732.1746</td>\n",
       "      <td id=\"T_6bd87_row17_col5\" class=\"data row17 col5\" >5.4591</td>\n",
       "      <td id=\"T_6bd87_row17_col6\" class=\"data row17 col6\" >2.0000</td>\n",
       "      <td id=\"T_6bd87_row17_col7\" class=\"data row17 col7\" >0.0933</td>\n",
       "    </tr>\n",
       "    <tr>\n",
       "      <th id=\"T_6bd87_level0_row18\" class=\"row_heading level0 row18\" >snaive</th>\n",
       "      <td id=\"T_6bd87_row18_col0\" class=\"data row18 col0\" >Seasonal Naive Forecaster</td>\n",
       "      <td id=\"T_6bd87_row18_col1\" class=\"data row18 col1\" >3.1749</td>\n",
       "      <td id=\"T_6bd87_row18_col2\" class=\"data row18 col2\" >2.2961</td>\n",
       "      <td id=\"T_6bd87_row18_col3\" class=\"data row18 col3\" >2598571.8078</td>\n",
       "      <td id=\"T_6bd87_row18_col4\" class=\"data row18 col4\" >2598571.8078</td>\n",
       "      <td id=\"T_6bd87_row18_col5\" class=\"data row18 col5\" >5.6132</td>\n",
       "      <td id=\"T_6bd87_row18_col6\" class=\"data row18 col6\" >1.6993</td>\n",
       "      <td id=\"T_6bd87_row18_col7\" class=\"data row18 col7\" >0.0433</td>\n",
       "    </tr>\n",
       "    <tr>\n",
       "      <th id=\"T_6bd87_level0_row19\" class=\"row_heading level0 row19\" >ets</th>\n",
       "      <td id=\"T_6bd87_row19_col0\" class=\"data row19 col0\" >ETS</td>\n",
       "      <td id=\"T_6bd87_row19_col1\" class=\"data row19 col1\" >3.3491</td>\n",
       "      <td id=\"T_6bd87_row19_col2\" class=\"data row19 col2\" >2.4228</td>\n",
       "      <td id=\"T_6bd87_row19_col3\" class=\"data row19 col3\" >2737017.2616</td>\n",
       "      <td id=\"T_6bd87_row19_col4\" class=\"data row19 col4\" >2737017.2616</td>\n",
       "      <td id=\"T_6bd87_row19_col5\" class=\"data row19 col5\" >5.6253</td>\n",
       "      <td id=\"T_6bd87_row19_col6\" class=\"data row19 col6\" >1.8215</td>\n",
       "      <td id=\"T_6bd87_row19_col7\" class=\"data row19 col7\" >0.0367</td>\n",
       "    </tr>\n",
       "    <tr>\n",
       "      <th id=\"T_6bd87_level0_row20\" class=\"row_heading level0 row20\" >stlf</th>\n",
       "      <td id=\"T_6bd87_row20_col0\" class=\"data row20 col0\" >STLF</td>\n",
       "      <td id=\"T_6bd87_row20_col1\" class=\"data row20 col1\" >3.8076</td>\n",
       "      <td id=\"T_6bd87_row20_col2\" class=\"data row20 col2\" >2.7547</td>\n",
       "      <td id=\"T_6bd87_row20_col3\" class=\"data row20 col3\" >3108477.5760</td>\n",
       "      <td id=\"T_6bd87_row20_col4\" class=\"data row20 col4\" >3108477.5760</td>\n",
       "      <td id=\"T_6bd87_row20_col5\" class=\"data row20 col5\" >5.9376</td>\n",
       "      <td id=\"T_6bd87_row20_col6\" class=\"data row20 col6\" >1.9956</td>\n",
       "      <td id=\"T_6bd87_row20_col7\" class=\"data row20 col7\" >0.0400</td>\n",
       "    </tr>\n",
       "    <tr>\n",
       "      <th id=\"T_6bd87_level0_row21\" class=\"row_heading level0 row21\" >arima</th>\n",
       "      <td id=\"T_6bd87_row21_col0\" class=\"data row21 col0\" >ARIMA</td>\n",
       "      <td id=\"T_6bd87_row21_col1\" class=\"data row21 col1\" >3.3281</td>\n",
       "      <td id=\"T_6bd87_row21_col2\" class=\"data row21 col2\" >2.4076</td>\n",
       "      <td id=\"T_6bd87_row21_col3\" class=\"data row21 col3\" >2722249.1346</td>\n",
       "      <td id=\"T_6bd87_row21_col4\" class=\"data row21 col4\" >2722249.1346</td>\n",
       "      <td id=\"T_6bd87_row21_col5\" class=\"data row21 col5\" >5.9907</td>\n",
       "      <td id=\"T_6bd87_row21_col6\" class=\"data row21 col6\" >1.7607</td>\n",
       "      <td id=\"T_6bd87_row21_col7\" class=\"data row21 col7\" >0.0400</td>\n",
       "    </tr>\n",
       "    <tr>\n",
       "      <th id=\"T_6bd87_level0_row22\" class=\"row_heading level0 row22\" >huber_cds_dt</th>\n",
       "      <td id=\"T_6bd87_row22_col0\" class=\"data row22 col0\" >Huber w/ Cond. Deseasonalize & Detrending</td>\n",
       "      <td id=\"T_6bd87_row22_col1\" class=\"data row22 col1\" >3.2477</td>\n",
       "      <td id=\"T_6bd87_row22_col2\" class=\"data row22 col2\" >2.3508</td>\n",
       "      <td id=\"T_6bd87_row22_col3\" class=\"data row22 col3\" >2653631.4664</td>\n",
       "      <td id=\"T_6bd87_row22_col4\" class=\"data row22 col4\" >2653631.4664</td>\n",
       "      <td id=\"T_6bd87_row22_col5\" class=\"data row22 col5\" >6.1967</td>\n",
       "      <td id=\"T_6bd87_row22_col6\" class=\"data row22 col6\" >1.6254</td>\n",
       "      <td id=\"T_6bd87_row22_col7\" class=\"data row22 col7\" >0.0533</td>\n",
       "    </tr>\n",
       "  </tbody>\n",
       "</table>\n"
      ],
      "text/plain": [
       "<pandas.io.formats.style.Styler at 0x224d0600760>"
      ]
     },
     "metadata": {},
     "output_type": "display_data"
    },
    {
     "data": {
      "text/html": [],
      "text/plain": [
       "<IPython.core.display.HTML object>"
      ]
     },
     "metadata": {},
     "output_type": "display_data"
    },
    {
     "data": {
      "application/vnd.plotly.v1+json": {
       "config": {
        "plotlyServerURL": "https://plot.ly"
       },
       "data": [
        {
         "line": {
          "color": "rgb(31, 119, 180)",
          "width": 2
         },
         "marker": {
          "color": "rgb(31, 119, 180)",
          "size": 5
         },
         "mode": "lines+markers",
         "name": "NET_SALES",
         "type": "scattergl",
         "x": [
          "2016-01-01T00:00:00",
          "2016-02-01T00:00:00",
          "2016-03-01T00:00:00",
          "2016-04-01T00:00:00",
          "2016-05-01T00:00:00",
          "2016-06-01T00:00:00",
          "2016-07-01T00:00:00",
          "2016-08-01T00:00:00",
          "2016-09-01T00:00:00",
          "2016-10-01T00:00:00",
          "2016-11-01T00:00:00",
          "2016-12-01T00:00:00",
          "2017-01-01T00:00:00",
          "2017-02-01T00:00:00",
          "2017-03-01T00:00:00",
          "2017-04-01T00:00:00",
          "2017-05-01T00:00:00",
          "2017-06-01T00:00:00",
          "2017-07-01T00:00:00",
          "2017-08-01T00:00:00",
          "2017-09-01T00:00:00",
          "2017-10-01T00:00:00",
          "2017-11-01T00:00:00",
          "2017-12-01T00:00:00",
          "2018-01-01T00:00:00",
          "2018-02-01T00:00:00",
          "2018-03-01T00:00:00",
          "2018-04-01T00:00:00",
          "2018-05-01T00:00:00",
          "2018-06-01T00:00:00",
          "2018-07-01T00:00:00",
          "2018-08-01T00:00:00",
          "2018-09-01T00:00:00",
          "2018-10-01T00:00:00",
          "2018-11-01T00:00:00",
          "2018-12-01T00:00:00",
          "2019-01-01T00:00:00",
          "2019-02-01T00:00:00",
          "2019-03-01T00:00:00",
          "2019-04-01T00:00:00",
          "2019-05-01T00:00:00",
          "2019-06-01T00:00:00",
          "2019-07-01T00:00:00",
          "2019-08-01T00:00:00",
          "2019-09-01T00:00:00",
          "2019-10-01T00:00:00",
          "2019-11-01T00:00:00",
          "2019-12-01T00:00:00",
          "2020-01-01T00:00:00",
          "2020-02-01T00:00:00",
          "2020-03-01T00:00:00",
          "2020-04-01T00:00:00",
          "2020-05-01T00:00:00",
          "2020-06-01T00:00:00",
          "2020-07-01T00:00:00",
          "2020-08-01T00:00:00",
          "2020-09-01T00:00:00",
          "2020-10-01T00:00:00",
          "2020-11-01T00:00:00",
          "2020-12-01T00:00:00",
          "2021-01-01T00:00:00",
          "2021-02-01T00:00:00",
          "2021-03-01T00:00:00",
          "2021-04-01T00:00:00",
          "2021-05-01T00:00:00",
          "2021-06-01T00:00:00",
          "2021-07-01T00:00:00",
          "2021-08-01T00:00:00",
          "2021-09-01T00:00:00",
          "2021-10-01T00:00:00",
          "2021-11-01T00:00:00",
          "2021-12-01T00:00:00",
          "2022-01-01T00:00:00",
          "2022-02-01T00:00:00",
          "2022-03-01T00:00:00",
          "2022-04-01T00:00:00",
          "2022-05-01T00:00:00",
          "2022-06-01T00:00:00",
          "2022-07-01T00:00:00",
          "2022-08-01T00:00:00",
          "2022-09-01T00:00:00",
          "2022-10-01T00:00:00",
          "2022-11-01T00:00:00",
          "2022-12-01T00:00:00"
         ],
         "xaxis": "x",
         "y": [
          1149506.0292159664,
          1402452.887184883,
          1478748.3752938565,
          2400803.199139154,
          1930329.219461404,
          1430004.182428913,
          1272045.4277809572,
          3376684.9660300873,
          1970740.3018500458,
          2050116.2057940823,
          2462928.7057714383,
          3659366.791734663,
          1891726.8909731973,
          1636623.2461436433,
          1900607.7572021286,
          2447646.326341356,
          2178437.0141296703,
          2622122.249499926,
          1296662.131385067,
          1871283.585200291,
          1835042.108358032,
          1530770.25908719,
          1499710.8241960183,
          2378796.774395556,
          1318011.3110725929,
          1162992.7975681163,
          1594891.0820690475,
          1787268.2706679108,
          2039652.2840838903,
          4811058.84167405,
          724983.093755524,
          -27561.750866266433,
          193718.82677324937,
          1152616.0616739008,
          3050413.203125524,
          781967.3574572696,
          595224.1086015998,
          -584876.9023838141,
          924964.010198421,
          1250241.7815520095,
          1114139.4474851356,
          4589849.273865018,
          -620481.632240641,
          955721.8224889695,
          102418.4988910585,
          913700.4168423462,
          1963447.2122734878,
          934804.0480210937,
          495382.6670981343,
          994953.9791656552,
          458594.918328605,
          45165.1054591017,
          957920.2238365654,
          1781939.6531280403,
          2650889.7993424605,
          1271050.2613537463,
          744977.7633900911,
          525745.3823821624,
          1998459.2399541934,
          444302.82608314086,
          330947.5646833366,
          646168.012970182,
          986932.5158701628,
          916291.2403545978,
          769445.5644482458,
          3741162.5815346395,
          3255967.9229715345,
          126189.68445068074,
          335240.09705578926,
          425827.3478610632,
          2044618.2205239364,
          718660.6491387973,
          27985.246370486217,
          134713.64263458992,
          225577.44326485574,
          1178495.4093221151,
          412623.34093808435,
          1862912.0426708823,
          -22968.502236443634,
          -301966.9584929259,
          3873232.5180713385,
          2493892.8719785027,
          -145039.257829412,
          1168321.151957579
         ],
         "yaxis": "y"
        },
        {
         "line": {
          "color": "rgb(255, 127, 14)",
          "width": 2
         },
         "marker": {
          "color": "rgb(255, 127, 14)",
          "size": 5
         },
         "mode": "lines+markers",
         "name": "Polynomial Trend Forecaster",
         "type": "scattergl",
         "x": [
          "2016-01-01T00:00:00",
          "2016-02-01T00:00:00",
          "2016-03-01T00:00:00",
          "2016-04-01T00:00:00",
          "2016-05-01T00:00:00",
          "2016-06-01T00:00:00",
          "2016-07-01T00:00:00",
          "2016-08-01T00:00:00",
          "2016-09-01T00:00:00",
          "2016-10-01T00:00:00",
          "2016-11-01T00:00:00",
          "2016-12-01T00:00:00",
          "2017-01-01T00:00:00",
          "2017-02-01T00:00:00",
          "2017-03-01T00:00:00",
          "2017-04-01T00:00:00",
          "2017-05-01T00:00:00",
          "2017-06-01T00:00:00",
          "2017-07-01T00:00:00",
          "2017-08-01T00:00:00",
          "2017-09-01T00:00:00",
          "2017-10-01T00:00:00",
          "2017-11-01T00:00:00",
          "2017-12-01T00:00:00",
          "2018-01-01T00:00:00",
          "2018-02-01T00:00:00",
          "2018-03-01T00:00:00",
          "2018-04-01T00:00:00",
          "2018-05-01T00:00:00",
          "2018-06-01T00:00:00",
          "2018-07-01T00:00:00",
          "2018-08-01T00:00:00",
          "2018-09-01T00:00:00",
          "2018-10-01T00:00:00",
          "2018-11-01T00:00:00",
          "2018-12-01T00:00:00",
          "2019-01-01T00:00:00",
          "2019-02-01T00:00:00",
          "2019-03-01T00:00:00",
          "2019-04-01T00:00:00",
          "2019-05-01T00:00:00",
          "2019-06-01T00:00:00",
          "2019-07-01T00:00:00",
          "2019-08-01T00:00:00",
          "2019-09-01T00:00:00",
          "2019-10-01T00:00:00",
          "2019-11-01T00:00:00",
          "2019-12-01T00:00:00",
          "2020-01-01T00:00:00",
          "2020-02-01T00:00:00",
          "2020-03-01T00:00:00",
          "2020-04-01T00:00:00",
          "2020-05-01T00:00:00",
          "2020-06-01T00:00:00",
          "2020-07-01T00:00:00",
          "2020-08-01T00:00:00",
          "2020-09-01T00:00:00",
          "2020-10-01T00:00:00",
          "2020-11-01T00:00:00",
          "2020-12-01T00:00:00",
          "2021-01-01T00:00:00",
          "2021-02-01T00:00:00",
          "2021-03-01T00:00:00",
          "2021-04-01T00:00:00",
          "2021-05-01T00:00:00",
          "2021-06-01T00:00:00",
          "2021-07-01T00:00:00",
          "2021-08-01T00:00:00",
          "2021-09-01T00:00:00",
          "2021-10-01T00:00:00",
          "2021-11-01T00:00:00",
          "2021-12-01T00:00:00",
          "2022-01-01T00:00:00",
          "2022-02-01T00:00:00",
          "2022-03-01T00:00:00",
          "2022-04-01T00:00:00",
          "2022-05-01T00:00:00",
          "2022-06-01T00:00:00",
          "2022-07-01T00:00:00",
          "2022-08-01T00:00:00",
          "2022-09-01T00:00:00",
          "2022-10-01T00:00:00",
          "2022-11-01T00:00:00",
          "2022-12-01T00:00:00"
         ],
         "xaxis": "x",
         "y": [
          null,
          null,
          null,
          null,
          null,
          null,
          null,
          null,
          null,
          null,
          null,
          null,
          null,
          null,
          null,
          null,
          null,
          null,
          null,
          null,
          null,
          null,
          null,
          null,
          null,
          null,
          null,
          null,
          null,
          null,
          null,
          null,
          null,
          null,
          null,
          null,
          null,
          null,
          null,
          null,
          null,
          null,
          null,
          null,
          null,
          null,
          null,
          null,
          null,
          null,
          null,
          null,
          null,
          null,
          null,
          null,
          null,
          null,
          null,
          null,
          null,
          null,
          null,
          null,
          null,
          null,
          null,
          null,
          null,
          null,
          null,
          null,
          null,
          null,
          null,
          null,
          null,
          null,
          null,
          null,
          null,
          null,
          null,
          749989.1877
         ],
         "yaxis": "y"
        }
       ],
       "layout": {
        "showlegend": true,
        "template": {
         "data": {
          "bar": [
           {
            "error_x": {
             "color": "rgb(51,51,51)"
            },
            "error_y": {
             "color": "rgb(51,51,51)"
            },
            "marker": {
             "line": {
              "color": "rgb(237,237,237)",
              "width": 0.5
             },
             "pattern": {
              "fillmode": "overlay",
              "size": 10,
              "solidity": 0.2
             }
            },
            "type": "bar"
           }
          ],
          "barpolar": [
           {
            "marker": {
             "line": {
              "color": "rgb(237,237,237)",
              "width": 0.5
             },
             "pattern": {
              "fillmode": "overlay",
              "size": 10,
              "solidity": 0.2
             }
            },
            "type": "barpolar"
           }
          ],
          "carpet": [
           {
            "aaxis": {
             "endlinecolor": "rgb(51,51,51)",
             "gridcolor": "white",
             "linecolor": "white",
             "minorgridcolor": "white",
             "startlinecolor": "rgb(51,51,51)"
            },
            "baxis": {
             "endlinecolor": "rgb(51,51,51)",
             "gridcolor": "white",
             "linecolor": "white",
             "minorgridcolor": "white",
             "startlinecolor": "rgb(51,51,51)"
            },
            "type": "carpet"
           }
          ],
          "choropleth": [
           {
            "colorbar": {
             "outlinewidth": 0,
             "tickcolor": "rgb(237,237,237)",
             "ticklen": 6,
             "ticks": "inside"
            },
            "type": "choropleth"
           }
          ],
          "contour": [
           {
            "colorbar": {
             "outlinewidth": 0,
             "tickcolor": "rgb(237,237,237)",
             "ticklen": 6,
             "ticks": "inside"
            },
            "colorscale": [
             [
              0,
              "rgb(20,44,66)"
             ],
             [
              1,
              "rgb(90,179,244)"
             ]
            ],
            "type": "contour"
           }
          ],
          "contourcarpet": [
           {
            "colorbar": {
             "outlinewidth": 0,
             "tickcolor": "rgb(237,237,237)",
             "ticklen": 6,
             "ticks": "inside"
            },
            "type": "contourcarpet"
           }
          ],
          "heatmap": [
           {
            "colorbar": {
             "outlinewidth": 0,
             "tickcolor": "rgb(237,237,237)",
             "ticklen": 6,
             "ticks": "inside"
            },
            "colorscale": [
             [
              0,
              "rgb(20,44,66)"
             ],
             [
              1,
              "rgb(90,179,244)"
             ]
            ],
            "type": "heatmap"
           }
          ],
          "heatmapgl": [
           {
            "colorbar": {
             "outlinewidth": 0,
             "tickcolor": "rgb(237,237,237)",
             "ticklen": 6,
             "ticks": "inside"
            },
            "colorscale": [
             [
              0,
              "rgb(20,44,66)"
             ],
             [
              1,
              "rgb(90,179,244)"
             ]
            ],
            "type": "heatmapgl"
           }
          ],
          "histogram": [
           {
            "marker": {
             "pattern": {
              "fillmode": "overlay",
              "size": 10,
              "solidity": 0.2
             }
            },
            "type": "histogram"
           }
          ],
          "histogram2d": [
           {
            "colorbar": {
             "outlinewidth": 0,
             "tickcolor": "rgb(237,237,237)",
             "ticklen": 6,
             "ticks": "inside"
            },
            "colorscale": [
             [
              0,
              "rgb(20,44,66)"
             ],
             [
              1,
              "rgb(90,179,244)"
             ]
            ],
            "type": "histogram2d"
           }
          ],
          "histogram2dcontour": [
           {
            "colorbar": {
             "outlinewidth": 0,
             "tickcolor": "rgb(237,237,237)",
             "ticklen": 6,
             "ticks": "inside"
            },
            "colorscale": [
             [
              0,
              "rgb(20,44,66)"
             ],
             [
              1,
              "rgb(90,179,244)"
             ]
            ],
            "type": "histogram2dcontour"
           }
          ],
          "mesh3d": [
           {
            "colorbar": {
             "outlinewidth": 0,
             "tickcolor": "rgb(237,237,237)",
             "ticklen": 6,
             "ticks": "inside"
            },
            "type": "mesh3d"
           }
          ],
          "parcoords": [
           {
            "line": {
             "colorbar": {
              "outlinewidth": 0,
              "tickcolor": "rgb(237,237,237)",
              "ticklen": 6,
              "ticks": "inside"
             }
            },
            "type": "parcoords"
           }
          ],
          "pie": [
           {
            "automargin": true,
            "type": "pie"
           }
          ],
          "scatter": [
           {
            "fillpattern": {
             "fillmode": "overlay",
             "size": 10,
             "solidity": 0.2
            },
            "type": "scatter"
           }
          ],
          "scatter3d": [
           {
            "line": {
             "colorbar": {
              "outlinewidth": 0,
              "tickcolor": "rgb(237,237,237)",
              "ticklen": 6,
              "ticks": "inside"
             }
            },
            "marker": {
             "colorbar": {
              "outlinewidth": 0,
              "tickcolor": "rgb(237,237,237)",
              "ticklen": 6,
              "ticks": "inside"
             }
            },
            "type": "scatter3d"
           }
          ],
          "scattercarpet": [
           {
            "marker": {
             "colorbar": {
              "outlinewidth": 0,
              "tickcolor": "rgb(237,237,237)",
              "ticklen": 6,
              "ticks": "inside"
             }
            },
            "type": "scattercarpet"
           }
          ],
          "scattergeo": [
           {
            "marker": {
             "colorbar": {
              "outlinewidth": 0,
              "tickcolor": "rgb(237,237,237)",
              "ticklen": 6,
              "ticks": "inside"
             }
            },
            "type": "scattergeo"
           }
          ],
          "scattergl": [
           {
            "marker": {
             "colorbar": {
              "outlinewidth": 0,
              "tickcolor": "rgb(237,237,237)",
              "ticklen": 6,
              "ticks": "inside"
             }
            },
            "type": "scattergl"
           }
          ],
          "scattermapbox": [
           {
            "marker": {
             "colorbar": {
              "outlinewidth": 0,
              "tickcolor": "rgb(237,237,237)",
              "ticklen": 6,
              "ticks": "inside"
             }
            },
            "type": "scattermapbox"
           }
          ],
          "scatterpolar": [
           {
            "marker": {
             "colorbar": {
              "outlinewidth": 0,
              "tickcolor": "rgb(237,237,237)",
              "ticklen": 6,
              "ticks": "inside"
             }
            },
            "type": "scatterpolar"
           }
          ],
          "scatterpolargl": [
           {
            "marker": {
             "colorbar": {
              "outlinewidth": 0,
              "tickcolor": "rgb(237,237,237)",
              "ticklen": 6,
              "ticks": "inside"
             }
            },
            "type": "scatterpolargl"
           }
          ],
          "scatterternary": [
           {
            "marker": {
             "colorbar": {
              "outlinewidth": 0,
              "tickcolor": "rgb(237,237,237)",
              "ticklen": 6,
              "ticks": "inside"
             }
            },
            "type": "scatterternary"
           }
          ],
          "surface": [
           {
            "colorbar": {
             "outlinewidth": 0,
             "tickcolor": "rgb(237,237,237)",
             "ticklen": 6,
             "ticks": "inside"
            },
            "colorscale": [
             [
              0,
              "rgb(20,44,66)"
             ],
             [
              1,
              "rgb(90,179,244)"
             ]
            ],
            "type": "surface"
           }
          ],
          "table": [
           {
            "cells": {
             "fill": {
              "color": "rgb(237,237,237)"
             },
             "line": {
              "color": "white"
             }
            },
            "header": {
             "fill": {
              "color": "rgb(217,217,217)"
             },
             "line": {
              "color": "white"
             }
            },
            "type": "table"
           }
          ]
         },
         "layout": {
          "annotationdefaults": {
           "arrowhead": 0,
           "arrowwidth": 1
          },
          "autotypenumbers": "strict",
          "coloraxis": {
           "colorbar": {
            "outlinewidth": 0,
            "tickcolor": "rgb(237,237,237)",
            "ticklen": 6,
            "ticks": "inside"
           }
          },
          "colorscale": {
           "sequential": [
            [
             0,
             "rgb(20,44,66)"
            ],
            [
             1,
             "rgb(90,179,244)"
            ]
           ],
           "sequentialminus": [
            [
             0,
             "rgb(20,44,66)"
            ],
            [
             1,
             "rgb(90,179,244)"
            ]
           ]
          },
          "colorway": [
           "#F8766D",
           "#A3A500",
           "#00BF7D",
           "#00B0F6",
           "#E76BF3"
          ],
          "font": {
           "color": "rgb(51,51,51)"
          },
          "geo": {
           "bgcolor": "white",
           "lakecolor": "white",
           "landcolor": "rgb(237,237,237)",
           "showlakes": true,
           "showland": true,
           "subunitcolor": "white"
          },
          "hoverlabel": {
           "align": "left"
          },
          "hovermode": "closest",
          "paper_bgcolor": "white",
          "plot_bgcolor": "rgb(237,237,237)",
          "polar": {
           "angularaxis": {
            "gridcolor": "white",
            "linecolor": "white",
            "showgrid": true,
            "tickcolor": "rgb(51,51,51)",
            "ticks": "outside"
           },
           "bgcolor": "rgb(237,237,237)",
           "radialaxis": {
            "gridcolor": "white",
            "linecolor": "white",
            "showgrid": true,
            "tickcolor": "rgb(51,51,51)",
            "ticks": "outside"
           }
          },
          "scene": {
           "xaxis": {
            "backgroundcolor": "rgb(237,237,237)",
            "gridcolor": "white",
            "gridwidth": 2,
            "linecolor": "white",
            "showbackground": true,
            "showgrid": true,
            "tickcolor": "rgb(51,51,51)",
            "ticks": "outside",
            "zerolinecolor": "white"
           },
           "yaxis": {
            "backgroundcolor": "rgb(237,237,237)",
            "gridcolor": "white",
            "gridwidth": 2,
            "linecolor": "white",
            "showbackground": true,
            "showgrid": true,
            "tickcolor": "rgb(51,51,51)",
            "ticks": "outside",
            "zerolinecolor": "white"
           },
           "zaxis": {
            "backgroundcolor": "rgb(237,237,237)",
            "gridcolor": "white",
            "gridwidth": 2,
            "linecolor": "white",
            "showbackground": true,
            "showgrid": true,
            "tickcolor": "rgb(51,51,51)",
            "ticks": "outside",
            "zerolinecolor": "white"
           }
          },
          "shapedefaults": {
           "fillcolor": "black",
           "line": {
            "width": 0
           },
           "opacity": 0.3
          },
          "ternary": {
           "aaxis": {
            "gridcolor": "white",
            "linecolor": "white",
            "showgrid": true,
            "tickcolor": "rgb(51,51,51)",
            "ticks": "outside"
           },
           "baxis": {
            "gridcolor": "white",
            "linecolor": "white",
            "showgrid": true,
            "tickcolor": "rgb(51,51,51)",
            "ticks": "outside"
           },
           "bgcolor": "rgb(237,237,237)",
           "caxis": {
            "gridcolor": "white",
            "linecolor": "white",
            "showgrid": true,
            "tickcolor": "rgb(51,51,51)",
            "ticks": "outside"
           }
          },
          "xaxis": {
           "automargin": true,
           "gridcolor": "white",
           "linecolor": "white",
           "showgrid": true,
           "tickcolor": "rgb(51,51,51)",
           "ticks": "outside",
           "title": {
            "standoff": 15
           },
           "zerolinecolor": "white"
          },
          "yaxis": {
           "automargin": true,
           "gridcolor": "white",
           "linecolor": "white",
           "showgrid": true,
           "tickcolor": "rgb(51,51,51)",
           "ticks": "outside",
           "title": {
            "standoff": 15
           },
           "zerolinecolor": "white"
          }
         }
        },
        "title": {
         "text": "Actual vs. Forecast (Out-of-Sample)"
        },
        "xaxis": {
         "anchor": "y",
         "domain": [
          0,
          1
         ]
        },
        "yaxis": {
         "anchor": "x",
         "domain": [
          0,
          1
         ]
        }
       }
      }
     },
     "metadata": {},
     "output_type": "display_data"
    },
    {
     "name": "stderr",
     "output_type": "stream",
     "text": [
      " 50%|█████     | 7/14 [01:38<01:36, 13.73s/it]"
     ]
    },
    {
     "data": {
      "text/html": [
       "<style type=\"text/css\">\n",
       "#T_0a7c6_row28_col1, #T_0a7c6_row31_col1 {\n",
       "  background-color: lightgreen;\n",
       "}\n",
       "</style>\n",
       "<table id=\"T_0a7c6\">\n",
       "  <thead>\n",
       "    <tr>\n",
       "      <th class=\"blank level0\" >&nbsp;</th>\n",
       "      <th id=\"T_0a7c6_level0_col0\" class=\"col_heading level0 col0\" >Description</th>\n",
       "      <th id=\"T_0a7c6_level0_col1\" class=\"col_heading level0 col1\" >Value</th>\n",
       "    </tr>\n",
       "  </thead>\n",
       "  <tbody>\n",
       "    <tr>\n",
       "      <th id=\"T_0a7c6_level0_row0\" class=\"row_heading level0 row0\" >0</th>\n",
       "      <td id=\"T_0a7c6_row0_col0\" class=\"data row0 col0\" >session_id</td>\n",
       "      <td id=\"T_0a7c6_row0_col1\" class=\"data row0 col1\" >123</td>\n",
       "    </tr>\n",
       "    <tr>\n",
       "      <th id=\"T_0a7c6_level0_row1\" class=\"row_heading level0 row1\" >1</th>\n",
       "      <td id=\"T_0a7c6_row1_col0\" class=\"data row1 col0\" >Target</td>\n",
       "      <td id=\"T_0a7c6_row1_col1\" class=\"data row1 col1\" >NET_SALES</td>\n",
       "    </tr>\n",
       "    <tr>\n",
       "      <th id=\"T_0a7c6_level0_row2\" class=\"row_heading level0 row2\" >2</th>\n",
       "      <td id=\"T_0a7c6_row2_col0\" class=\"data row2 col0\" >Approach</td>\n",
       "      <td id=\"T_0a7c6_row2_col1\" class=\"data row2 col1\" >Univariate</td>\n",
       "    </tr>\n",
       "    <tr>\n",
       "      <th id=\"T_0a7c6_level0_row3\" class=\"row_heading level0 row3\" >3</th>\n",
       "      <td id=\"T_0a7c6_row3_col0\" class=\"data row3 col0\" >Exogenous Variables</td>\n",
       "      <td id=\"T_0a7c6_row3_col1\" class=\"data row3 col1\" >Not Present</td>\n",
       "    </tr>\n",
       "    <tr>\n",
       "      <th id=\"T_0a7c6_level0_row4\" class=\"row_heading level0 row4\" >4</th>\n",
       "      <td id=\"T_0a7c6_row4_col0\" class=\"data row4 col0\" >Original data shape</td>\n",
       "      <td id=\"T_0a7c6_row4_col1\" class=\"data row4 col1\" >(84, 1)</td>\n",
       "    </tr>\n",
       "    <tr>\n",
       "      <th id=\"T_0a7c6_level0_row5\" class=\"row_heading level0 row5\" >5</th>\n",
       "      <td id=\"T_0a7c6_row5_col0\" class=\"data row5 col0\" >Transformed data shape</td>\n",
       "      <td id=\"T_0a7c6_row5_col1\" class=\"data row5 col1\" >(84, 1)</td>\n",
       "    </tr>\n",
       "    <tr>\n",
       "      <th id=\"T_0a7c6_level0_row6\" class=\"row_heading level0 row6\" >6</th>\n",
       "      <td id=\"T_0a7c6_row6_col0\" class=\"data row6 col0\" >Transformed train set shape</td>\n",
       "      <td id=\"T_0a7c6_row6_col1\" class=\"data row6 col1\" >(83, 1)</td>\n",
       "    </tr>\n",
       "    <tr>\n",
       "      <th id=\"T_0a7c6_level0_row7\" class=\"row_heading level0 row7\" >7</th>\n",
       "      <td id=\"T_0a7c6_row7_col0\" class=\"data row7 col0\" >Transformed test set shape</td>\n",
       "      <td id=\"T_0a7c6_row7_col1\" class=\"data row7 col1\" >(1, 1)</td>\n",
       "    </tr>\n",
       "    <tr>\n",
       "      <th id=\"T_0a7c6_level0_row8\" class=\"row_heading level0 row8\" >8</th>\n",
       "      <td id=\"T_0a7c6_row8_col0\" class=\"data row8 col0\" >Rows with missing values</td>\n",
       "      <td id=\"T_0a7c6_row8_col1\" class=\"data row8 col1\" >0.0%</td>\n",
       "    </tr>\n",
       "    <tr>\n",
       "      <th id=\"T_0a7c6_level0_row9\" class=\"row_heading level0 row9\" >9</th>\n",
       "      <td id=\"T_0a7c6_row9_col0\" class=\"data row9 col0\" >Fold Generator</td>\n",
       "      <td id=\"T_0a7c6_row9_col1\" class=\"data row9 col1\" >ExpandingWindowSplitter</td>\n",
       "    </tr>\n",
       "    <tr>\n",
       "      <th id=\"T_0a7c6_level0_row10\" class=\"row_heading level0 row10\" >10</th>\n",
       "      <td id=\"T_0a7c6_row10_col0\" class=\"data row10 col0\" >Fold Number</td>\n",
       "      <td id=\"T_0a7c6_row10_col1\" class=\"data row10 col1\" >3</td>\n",
       "    </tr>\n",
       "    <tr>\n",
       "      <th id=\"T_0a7c6_level0_row11\" class=\"row_heading level0 row11\" >11</th>\n",
       "      <td id=\"T_0a7c6_row11_col0\" class=\"data row11 col0\" >Enforce Prediction Interval</td>\n",
       "      <td id=\"T_0a7c6_row11_col1\" class=\"data row11 col1\" >False</td>\n",
       "    </tr>\n",
       "    <tr>\n",
       "      <th id=\"T_0a7c6_level0_row12\" class=\"row_heading level0 row12\" >12</th>\n",
       "      <td id=\"T_0a7c6_row12_col0\" class=\"data row12 col0\" >Splits used for hyperparameters</td>\n",
       "      <td id=\"T_0a7c6_row12_col1\" class=\"data row12 col1\" >all</td>\n",
       "    </tr>\n",
       "    <tr>\n",
       "      <th id=\"T_0a7c6_level0_row13\" class=\"row_heading level0 row13\" >13</th>\n",
       "      <td id=\"T_0a7c6_row13_col0\" class=\"data row13 col0\" >User Defined Seasonal Period(s)</td>\n",
       "      <td id=\"T_0a7c6_row13_col1\" class=\"data row13 col1\" >None</td>\n",
       "    </tr>\n",
       "    <tr>\n",
       "      <th id=\"T_0a7c6_level0_row14\" class=\"row_heading level0 row14\" >14</th>\n",
       "      <td id=\"T_0a7c6_row14_col0\" class=\"data row14 col0\" >Ignore Seasonality Test</td>\n",
       "      <td id=\"T_0a7c6_row14_col1\" class=\"data row14 col1\" >False</td>\n",
       "    </tr>\n",
       "    <tr>\n",
       "      <th id=\"T_0a7c6_level0_row15\" class=\"row_heading level0 row15\" >15</th>\n",
       "      <td id=\"T_0a7c6_row15_col0\" class=\"data row15 col0\" >Seasonality Detection Algo</td>\n",
       "      <td id=\"T_0a7c6_row15_col1\" class=\"data row15 col1\" >auto</td>\n",
       "    </tr>\n",
       "    <tr>\n",
       "      <th id=\"T_0a7c6_level0_row16\" class=\"row_heading level0 row16\" >16</th>\n",
       "      <td id=\"T_0a7c6_row16_col0\" class=\"data row16 col0\" >Max Period to Consider</td>\n",
       "      <td id=\"T_0a7c6_row16_col1\" class=\"data row16 col1\" >60</td>\n",
       "    </tr>\n",
       "    <tr>\n",
       "      <th id=\"T_0a7c6_level0_row17\" class=\"row_heading level0 row17\" >17</th>\n",
       "      <td id=\"T_0a7c6_row17_col0\" class=\"data row17 col0\" >Seasonal Period(s) Tested</td>\n",
       "      <td id=\"T_0a7c6_row17_col1\" class=\"data row17 col1\" >[]</td>\n",
       "    </tr>\n",
       "    <tr>\n",
       "      <th id=\"T_0a7c6_level0_row18\" class=\"row_heading level0 row18\" >18</th>\n",
       "      <td id=\"T_0a7c6_row18_col0\" class=\"data row18 col0\" >Significant Seasonal Period(s)</td>\n",
       "      <td id=\"T_0a7c6_row18_col1\" class=\"data row18 col1\" >[1]</td>\n",
       "    </tr>\n",
       "    <tr>\n",
       "      <th id=\"T_0a7c6_level0_row19\" class=\"row_heading level0 row19\" >19</th>\n",
       "      <td id=\"T_0a7c6_row19_col0\" class=\"data row19 col0\" >Significant Seasonal Period(s) without Harmonics</td>\n",
       "      <td id=\"T_0a7c6_row19_col1\" class=\"data row19 col1\" >[1]</td>\n",
       "    </tr>\n",
       "    <tr>\n",
       "      <th id=\"T_0a7c6_level0_row20\" class=\"row_heading level0 row20\" >20</th>\n",
       "      <td id=\"T_0a7c6_row20_col0\" class=\"data row20 col0\" >Remove Harmonics</td>\n",
       "      <td id=\"T_0a7c6_row20_col1\" class=\"data row20 col1\" >False</td>\n",
       "    </tr>\n",
       "    <tr>\n",
       "      <th id=\"T_0a7c6_level0_row21\" class=\"row_heading level0 row21\" >21</th>\n",
       "      <td id=\"T_0a7c6_row21_col0\" class=\"data row21 col0\" >Harmonics Order Method</td>\n",
       "      <td id=\"T_0a7c6_row21_col1\" class=\"data row21 col1\" >harmonic_max</td>\n",
       "    </tr>\n",
       "    <tr>\n",
       "      <th id=\"T_0a7c6_level0_row22\" class=\"row_heading level0 row22\" >22</th>\n",
       "      <td id=\"T_0a7c6_row22_col0\" class=\"data row22 col0\" >Num Seasonalities to Use</td>\n",
       "      <td id=\"T_0a7c6_row22_col1\" class=\"data row22 col1\" >1</td>\n",
       "    </tr>\n",
       "    <tr>\n",
       "      <th id=\"T_0a7c6_level0_row23\" class=\"row_heading level0 row23\" >23</th>\n",
       "      <td id=\"T_0a7c6_row23_col0\" class=\"data row23 col0\" >All Seasonalities to Use</td>\n",
       "      <td id=\"T_0a7c6_row23_col1\" class=\"data row23 col1\" >[1]</td>\n",
       "    </tr>\n",
       "    <tr>\n",
       "      <th id=\"T_0a7c6_level0_row24\" class=\"row_heading level0 row24\" >24</th>\n",
       "      <td id=\"T_0a7c6_row24_col0\" class=\"data row24 col0\" >Primary Seasonality</td>\n",
       "      <td id=\"T_0a7c6_row24_col1\" class=\"data row24 col1\" >1</td>\n",
       "    </tr>\n",
       "    <tr>\n",
       "      <th id=\"T_0a7c6_level0_row25\" class=\"row_heading level0 row25\" >25</th>\n",
       "      <td id=\"T_0a7c6_row25_col0\" class=\"data row25 col0\" >Seasonality Present</td>\n",
       "      <td id=\"T_0a7c6_row25_col1\" class=\"data row25 col1\" >False</td>\n",
       "    </tr>\n",
       "    <tr>\n",
       "      <th id=\"T_0a7c6_level0_row26\" class=\"row_heading level0 row26\" >26</th>\n",
       "      <td id=\"T_0a7c6_row26_col0\" class=\"data row26 col0\" >Seasonality Type</td>\n",
       "      <td id=\"T_0a7c6_row26_col1\" class=\"data row26 col1\" >None</td>\n",
       "    </tr>\n",
       "    <tr>\n",
       "      <th id=\"T_0a7c6_level0_row27\" class=\"row_heading level0 row27\" >27</th>\n",
       "      <td id=\"T_0a7c6_row27_col0\" class=\"data row27 col0\" >Target Strictly Positive</td>\n",
       "      <td id=\"T_0a7c6_row27_col1\" class=\"data row27 col1\" >False</td>\n",
       "    </tr>\n",
       "    <tr>\n",
       "      <th id=\"T_0a7c6_level0_row28\" class=\"row_heading level0 row28\" >28</th>\n",
       "      <td id=\"T_0a7c6_row28_col0\" class=\"data row28 col0\" >Target White Noise</td>\n",
       "      <td id=\"T_0a7c6_row28_col1\" class=\"data row28 col1\" >Yes</td>\n",
       "    </tr>\n",
       "    <tr>\n",
       "      <th id=\"T_0a7c6_level0_row29\" class=\"row_heading level0 row29\" >29</th>\n",
       "      <td id=\"T_0a7c6_row29_col0\" class=\"data row29 col0\" >Recommended d</td>\n",
       "      <td id=\"T_0a7c6_row29_col1\" class=\"data row29 col1\" >0</td>\n",
       "    </tr>\n",
       "    <tr>\n",
       "      <th id=\"T_0a7c6_level0_row30\" class=\"row_heading level0 row30\" >30</th>\n",
       "      <td id=\"T_0a7c6_row30_col0\" class=\"data row30 col0\" >Recommended Seasonal D</td>\n",
       "      <td id=\"T_0a7c6_row30_col1\" class=\"data row30 col1\" >0</td>\n",
       "    </tr>\n",
       "    <tr>\n",
       "      <th id=\"T_0a7c6_level0_row31\" class=\"row_heading level0 row31\" >31</th>\n",
       "      <td id=\"T_0a7c6_row31_col0\" class=\"data row31 col0\" >Preprocess</td>\n",
       "      <td id=\"T_0a7c6_row31_col1\" class=\"data row31 col1\" >True</td>\n",
       "    </tr>\n",
       "    <tr>\n",
       "      <th id=\"T_0a7c6_level0_row32\" class=\"row_heading level0 row32\" >32</th>\n",
       "      <td id=\"T_0a7c6_row32_col0\" class=\"data row32 col0\" >Numerical Imputation (Target)</td>\n",
       "      <td id=\"T_0a7c6_row32_col1\" class=\"data row32 col1\" >mean</td>\n",
       "    </tr>\n",
       "    <tr>\n",
       "      <th id=\"T_0a7c6_level0_row33\" class=\"row_heading level0 row33\" >33</th>\n",
       "      <td id=\"T_0a7c6_row33_col0\" class=\"data row33 col0\" >Transformation (Target)</td>\n",
       "      <td id=\"T_0a7c6_row33_col1\" class=\"data row33 col1\" >None</td>\n",
       "    </tr>\n",
       "    <tr>\n",
       "      <th id=\"T_0a7c6_level0_row34\" class=\"row_heading level0 row34\" >34</th>\n",
       "      <td id=\"T_0a7c6_row34_col0\" class=\"data row34 col0\" >Scaling (Target)</td>\n",
       "      <td id=\"T_0a7c6_row34_col1\" class=\"data row34 col1\" >None</td>\n",
       "    </tr>\n",
       "    <tr>\n",
       "      <th id=\"T_0a7c6_level0_row35\" class=\"row_heading level0 row35\" >35</th>\n",
       "      <td id=\"T_0a7c6_row35_col0\" class=\"data row35 col0\" >Feature Engineering (Target) - Reduced Regression</td>\n",
       "      <td id=\"T_0a7c6_row35_col1\" class=\"data row35 col1\" >False</td>\n",
       "    </tr>\n",
       "    <tr>\n",
       "      <th id=\"T_0a7c6_level0_row36\" class=\"row_heading level0 row36\" >36</th>\n",
       "      <td id=\"T_0a7c6_row36_col0\" class=\"data row36 col0\" >CPU Jobs</td>\n",
       "      <td id=\"T_0a7c6_row36_col1\" class=\"data row36 col1\" >-1</td>\n",
       "    </tr>\n",
       "    <tr>\n",
       "      <th id=\"T_0a7c6_level0_row37\" class=\"row_heading level0 row37\" >37</th>\n",
       "      <td id=\"T_0a7c6_row37_col0\" class=\"data row37 col0\" >Use GPU</td>\n",
       "      <td id=\"T_0a7c6_row37_col1\" class=\"data row37 col1\" >False</td>\n",
       "    </tr>\n",
       "    <tr>\n",
       "      <th id=\"T_0a7c6_level0_row38\" class=\"row_heading level0 row38\" >38</th>\n",
       "      <td id=\"T_0a7c6_row38_col0\" class=\"data row38 col0\" >Log Experiment</td>\n",
       "      <td id=\"T_0a7c6_row38_col1\" class=\"data row38 col1\" >False</td>\n",
       "    </tr>\n",
       "    <tr>\n",
       "      <th id=\"T_0a7c6_level0_row39\" class=\"row_heading level0 row39\" >39</th>\n",
       "      <td id=\"T_0a7c6_row39_col0\" class=\"data row39 col0\" >Experiment Name</td>\n",
       "      <td id=\"T_0a7c6_row39_col1\" class=\"data row39 col1\" >ts-default-name</td>\n",
       "    </tr>\n",
       "    <tr>\n",
       "      <th id=\"T_0a7c6_level0_row40\" class=\"row_heading level0 row40\" >40</th>\n",
       "      <td id=\"T_0a7c6_row40_col0\" class=\"data row40 col0\" >USI</td>\n",
       "      <td id=\"T_0a7c6_row40_col1\" class=\"data row40 col1\" >6a4b</td>\n",
       "    </tr>\n",
       "  </tbody>\n",
       "</table>\n"
      ],
      "text/plain": [
       "<pandas.io.formats.style.Styler at 0x224d09c1580>"
      ]
     },
     "metadata": {},
     "output_type": "display_data"
    },
    {
     "data": {
      "text/html": [],
      "text/plain": [
       "<IPython.core.display.HTML object>"
      ]
     },
     "metadata": {},
     "output_type": "display_data"
    },
    {
     "data": {
      "text/html": [
       "<style type=\"text/css\">\n",
       "#T_54194 th {\n",
       "  text-align: left;\n",
       "}\n",
       "#T_54194_row0_col0, #T_54194_row0_col6, #T_54194_row1_col0, #T_54194_row1_col1, #T_54194_row1_col2, #T_54194_row1_col3, #T_54194_row1_col4, #T_54194_row1_col5, #T_54194_row1_col6, #T_54194_row2_col0, #T_54194_row2_col1, #T_54194_row2_col2, #T_54194_row2_col3, #T_54194_row2_col4, #T_54194_row2_col5, #T_54194_row2_col6, #T_54194_row3_col0, #T_54194_row3_col1, #T_54194_row3_col2, #T_54194_row3_col3, #T_54194_row3_col4, #T_54194_row3_col5, #T_54194_row3_col6, #T_54194_row4_col0, #T_54194_row4_col1, #T_54194_row4_col2, #T_54194_row4_col3, #T_54194_row4_col4, #T_54194_row4_col5, #T_54194_row5_col0, #T_54194_row5_col1, #T_54194_row5_col2, #T_54194_row5_col3, #T_54194_row5_col4, #T_54194_row5_col5, #T_54194_row5_col6, #T_54194_row6_col0, #T_54194_row6_col1, #T_54194_row6_col2, #T_54194_row6_col3, #T_54194_row6_col4, #T_54194_row6_col5, #T_54194_row6_col6, #T_54194_row7_col0, #T_54194_row7_col1, #T_54194_row7_col2, #T_54194_row7_col3, #T_54194_row7_col4, #T_54194_row7_col5, #T_54194_row7_col6, #T_54194_row8_col0, #T_54194_row8_col1, #T_54194_row8_col2, #T_54194_row8_col3, #T_54194_row8_col4, #T_54194_row8_col5, #T_54194_row8_col6, #T_54194_row9_col0, #T_54194_row9_col1, #T_54194_row9_col2, #T_54194_row9_col3, #T_54194_row9_col4, #T_54194_row9_col5, #T_54194_row9_col6, #T_54194_row10_col0, #T_54194_row10_col1, #T_54194_row10_col2, #T_54194_row10_col3, #T_54194_row10_col4, #T_54194_row10_col5, #T_54194_row10_col6, #T_54194_row11_col0, #T_54194_row11_col1, #T_54194_row11_col2, #T_54194_row11_col3, #T_54194_row11_col4, #T_54194_row11_col5, #T_54194_row11_col6, #T_54194_row12_col0, #T_54194_row12_col1, #T_54194_row12_col2, #T_54194_row12_col3, #T_54194_row12_col4, #T_54194_row12_col5, #T_54194_row12_col6, #T_54194_row13_col0, #T_54194_row13_col1, #T_54194_row13_col2, #T_54194_row13_col3, #T_54194_row13_col4, #T_54194_row13_col5, #T_54194_row13_col6, #T_54194_row14_col0, #T_54194_row14_col1, #T_54194_row14_col2, #T_54194_row14_col3, #T_54194_row14_col4, #T_54194_row14_col5, #T_54194_row14_col6, #T_54194_row15_col0, #T_54194_row15_col1, #T_54194_row15_col2, #T_54194_row15_col3, #T_54194_row15_col4, #T_54194_row15_col5, #T_54194_row15_col6, #T_54194_row16_col0, #T_54194_row16_col1, #T_54194_row16_col2, #T_54194_row16_col3, #T_54194_row16_col4, #T_54194_row16_col5, #T_54194_row16_col6, #T_54194_row17_col0, #T_54194_row17_col1, #T_54194_row17_col2, #T_54194_row17_col3, #T_54194_row17_col4, #T_54194_row17_col5, #T_54194_row17_col6, #T_54194_row18_col0, #T_54194_row18_col1, #T_54194_row18_col2, #T_54194_row18_col3, #T_54194_row18_col4, #T_54194_row18_col5, #T_54194_row18_col6, #T_54194_row19_col0, #T_54194_row19_col1, #T_54194_row19_col2, #T_54194_row19_col3, #T_54194_row19_col4, #T_54194_row19_col5, #T_54194_row19_col6, #T_54194_row20_col0, #T_54194_row20_col1, #T_54194_row20_col2, #T_54194_row20_col3, #T_54194_row20_col4, #T_54194_row20_col5, #T_54194_row20_col6 {\n",
       "  text-align: left;\n",
       "}\n",
       "#T_54194_row0_col1, #T_54194_row0_col2, #T_54194_row0_col3, #T_54194_row0_col4, #T_54194_row0_col5, #T_54194_row4_col6 {\n",
       "  text-align: left;\n",
       "  background-color: yellow;\n",
       "}\n",
       "#T_54194_row0_col7, #T_54194_row1_col7, #T_54194_row2_col7, #T_54194_row4_col7, #T_54194_row5_col7, #T_54194_row6_col7, #T_54194_row7_col7, #T_54194_row8_col7, #T_54194_row9_col7, #T_54194_row10_col7, #T_54194_row11_col7, #T_54194_row12_col7, #T_54194_row13_col7, #T_54194_row14_col7, #T_54194_row15_col7, #T_54194_row16_col7, #T_54194_row17_col7, #T_54194_row18_col7, #T_54194_row19_col7, #T_54194_row20_col7 {\n",
       "  text-align: left;\n",
       "  background-color: lightgrey;\n",
       "}\n",
       "#T_54194_row3_col7 {\n",
       "  text-align: left;\n",
       "  background-color: yellow;\n",
       "  background-color: lightgrey;\n",
       "}\n",
       "</style>\n",
       "<table id=\"T_54194\">\n",
       "  <thead>\n",
       "    <tr>\n",
       "      <th class=\"blank level0\" >&nbsp;</th>\n",
       "      <th id=\"T_54194_level0_col0\" class=\"col_heading level0 col0\" >Model</th>\n",
       "      <th id=\"T_54194_level0_col1\" class=\"col_heading level0 col1\" >MASE</th>\n",
       "      <th id=\"T_54194_level0_col2\" class=\"col_heading level0 col2\" >RMSSE</th>\n",
       "      <th id=\"T_54194_level0_col3\" class=\"col_heading level0 col3\" >MAE</th>\n",
       "      <th id=\"T_54194_level0_col4\" class=\"col_heading level0 col4\" >RMSE</th>\n",
       "      <th id=\"T_54194_level0_col5\" class=\"col_heading level0 col5\" >MAPE</th>\n",
       "      <th id=\"T_54194_level0_col6\" class=\"col_heading level0 col6\" >SMAPE</th>\n",
       "      <th id=\"T_54194_level0_col7\" class=\"col_heading level0 col7\" >TT (Sec)</th>\n",
       "    </tr>\n",
       "  </thead>\n",
       "  <tbody>\n",
       "    <tr>\n",
       "      <th id=\"T_54194_level0_row0\" class=\"row_heading level0 row0\" >exp_smooth</th>\n",
       "      <td id=\"T_54194_row0_col0\" class=\"data row0 col0\" >Exponential Smoothing</td>\n",
       "      <td id=\"T_54194_row0_col1\" class=\"data row0 col1\" >0.2539</td>\n",
       "      <td id=\"T_54194_row0_col2\" class=\"data row0 col2\" >0.1776</td>\n",
       "      <td id=\"T_54194_row0_col3\" class=\"data row0 col3\" >570334.4787</td>\n",
       "      <td id=\"T_54194_row0_col4\" class=\"data row0 col4\" >570334.4787</td>\n",
       "      <td id=\"T_54194_row0_col5\" class=\"data row0 col5\" >3.3015</td>\n",
       "      <td id=\"T_54194_row0_col6\" class=\"data row0 col6\" >0.7612</td>\n",
       "      <td id=\"T_54194_row0_col7\" class=\"data row0 col7\" >0.0300</td>\n",
       "    </tr>\n",
       "    <tr>\n",
       "      <th id=\"T_54194_level0_row1\" class=\"row_heading level0 row1\" >dt_cds_dt</th>\n",
       "      <td id=\"T_54194_row1_col0\" class=\"data row1 col0\" >Decision Tree w/ Cond. Deseasonalize & Detrending</td>\n",
       "      <td id=\"T_54194_row1_col1\" class=\"data row1 col1\" >0.9588</td>\n",
       "      <td id=\"T_54194_row1_col2\" class=\"data row1 col2\" >0.6681</td>\n",
       "      <td id=\"T_54194_row1_col3\" class=\"data row1 col3\" >2129798.4803</td>\n",
       "      <td id=\"T_54194_row1_col4\" class=\"data row1 col4\" >2129798.4803</td>\n",
       "      <td id=\"T_54194_row1_col5\" class=\"data row1 col5\" >3.3890</td>\n",
       "      <td id=\"T_54194_row1_col6\" class=\"data row1 col6\" >1.4202</td>\n",
       "      <td id=\"T_54194_row1_col7\" class=\"data row1 col7\" >0.0367</td>\n",
       "    </tr>\n",
       "    <tr>\n",
       "      <th id=\"T_54194_level0_row2\" class=\"row_heading level0 row2\" >theta</th>\n",
       "      <td id=\"T_54194_row2_col0\" class=\"data row2 col0\" >Theta Forecaster</td>\n",
       "      <td id=\"T_54194_row2_col1\" class=\"data row2 col1\" >0.2607</td>\n",
       "      <td id=\"T_54194_row2_col2\" class=\"data row2 col2\" >0.1823</td>\n",
       "      <td id=\"T_54194_row2_col3\" class=\"data row2 col3\" >585549.3438</td>\n",
       "      <td id=\"T_54194_row2_col4\" class=\"data row2 col4\" >585549.3438</td>\n",
       "      <td id=\"T_54194_row2_col5\" class=\"data row2 col5\" >3.4185</td>\n",
       "      <td id=\"T_54194_row2_col6\" class=\"data row2 col6\" >0.7603</td>\n",
       "      <td id=\"T_54194_row2_col7\" class=\"data row2 col7\" >0.0333</td>\n",
       "    </tr>\n",
       "    <tr>\n",
       "      <th id=\"T_54194_level0_row3\" class=\"row_heading level0 row3\" >polytrend</th>\n",
       "      <td id=\"T_54194_row3_col0\" class=\"data row3 col0\" >Polynomial Trend Forecaster</td>\n",
       "      <td id=\"T_54194_row3_col1\" class=\"data row3 col1\" >0.2806</td>\n",
       "      <td id=\"T_54194_row3_col2\" class=\"data row3 col2\" >0.1963</td>\n",
       "      <td id=\"T_54194_row3_col3\" class=\"data row3 col3\" >630339.9620</td>\n",
       "      <td id=\"T_54194_row3_col4\" class=\"data row3 col4\" >630339.9620</td>\n",
       "      <td id=\"T_54194_row3_col5\" class=\"data row3 col5\" >3.7418</td>\n",
       "      <td id=\"T_54194_row3_col6\" class=\"data row3 col6\" >0.7603</td>\n",
       "      <td id=\"T_54194_row3_col7\" class=\"data row3 col7\" >0.0267</td>\n",
       "    </tr>\n",
       "    <tr>\n",
       "      <th id=\"T_54194_level0_row4\" class=\"row_heading level0 row4\" >arima</th>\n",
       "      <td id=\"T_54194_row4_col0\" class=\"data row4 col0\" >ARIMA</td>\n",
       "      <td id=\"T_54194_row4_col1\" class=\"data row4 col1\" >0.3075</td>\n",
       "      <td id=\"T_54194_row4_col2\" class=\"data row4 col2\" >0.2151</td>\n",
       "      <td id=\"T_54194_row4_col3\" class=\"data row4 col3\" >690959.6388</td>\n",
       "      <td id=\"T_54194_row4_col4\" class=\"data row4 col4\" >690959.6388</td>\n",
       "      <td id=\"T_54194_row4_col5\" class=\"data row4 col5\" >4.1783</td>\n",
       "      <td id=\"T_54194_row4_col6\" class=\"data row4 col6\" >0.7554</td>\n",
       "      <td id=\"T_54194_row4_col7\" class=\"data row4 col7\" >0.0333</td>\n",
       "    </tr>\n",
       "    <tr>\n",
       "      <th id=\"T_54194_level0_row5\" class=\"row_heading level0 row5\" >br_cds_dt</th>\n",
       "      <td id=\"T_54194_row5_col0\" class=\"data row5 col0\" >Bayesian Ridge w/ Cond. Deseasonalize & Detrending</td>\n",
       "      <td id=\"T_54194_row5_col1\" class=\"data row5 col1\" >0.3110</td>\n",
       "      <td id=\"T_54194_row5_col2\" class=\"data row5 col2\" >0.2175</td>\n",
       "      <td id=\"T_54194_row5_col3\" class=\"data row5 col3\" >698763.1222</td>\n",
       "      <td id=\"T_54194_row5_col4\" class=\"data row5 col4\" >698763.1222</td>\n",
       "      <td id=\"T_54194_row5_col5\" class=\"data row5 col5\" >4.2279</td>\n",
       "      <td id=\"T_54194_row5_col6\" class=\"data row5 col6\" >0.7584</td>\n",
       "      <td id=\"T_54194_row5_col7\" class=\"data row5 col7\" >0.0367</td>\n",
       "    </tr>\n",
       "    <tr>\n",
       "      <th id=\"T_54194_level0_row6\" class=\"row_heading level0 row6\" >gbr_cds_dt</th>\n",
       "      <td id=\"T_54194_row6_col0\" class=\"data row6 col0\" >Gradient Boosting w/ Cond. Deseasonalize & Detrending</td>\n",
       "      <td id=\"T_54194_row6_col1\" class=\"data row6 col1\" >0.7821</td>\n",
       "      <td id=\"T_54194_row6_col2\" class=\"data row6 col2\" >0.5453</td>\n",
       "      <td id=\"T_54194_row6_col3\" class=\"data row6 col3\" >1741429.9871</td>\n",
       "      <td id=\"T_54194_row6_col4\" class=\"data row6 col4\" >1741429.9871</td>\n",
       "      <td id=\"T_54194_row6_col5\" class=\"data row6 col5\" >4.3033</td>\n",
       "      <td id=\"T_54194_row6_col6\" class=\"data row6 col6\" >1.3224</td>\n",
       "      <td id=\"T_54194_row6_col7\" class=\"data row6 col7\" >0.0467</td>\n",
       "    </tr>\n",
       "    <tr>\n",
       "      <th id=\"T_54194_level0_row7\" class=\"row_heading level0 row7\" >llar_cds_dt</th>\n",
       "      <td id=\"T_54194_row7_col0\" class=\"data row7 col0\" >Lasso Least Angular Regressor w/ Cond. Deseasonalize & Detrending</td>\n",
       "      <td id=\"T_54194_row7_col1\" class=\"data row7 col1\" >0.3389</td>\n",
       "      <td id=\"T_54194_row7_col2\" class=\"data row7 col2\" >0.2370</td>\n",
       "      <td id=\"T_54194_row7_col3\" class=\"data row7 col3\" >761298.7467</td>\n",
       "      <td id=\"T_54194_row7_col4\" class=\"data row7 col4\" >761298.7467</td>\n",
       "      <td id=\"T_54194_row7_col5\" class=\"data row7 col5\" >4.4772</td>\n",
       "      <td id=\"T_54194_row7_col6\" class=\"data row7 col6\" >0.7776</td>\n",
       "      <td id=\"T_54194_row7_col7\" class=\"data row7 col7\" >0.0367</td>\n",
       "    </tr>\n",
       "    <tr>\n",
       "      <th id=\"T_54194_level0_row8\" class=\"row_heading level0 row8\" >ridge_cds_dt</th>\n",
       "      <td id=\"T_54194_row8_col0\" class=\"data row8 col0\" >Ridge w/ Cond. Deseasonalize & Detrending</td>\n",
       "      <td id=\"T_54194_row8_col1\" class=\"data row8 col1\" >0.3389</td>\n",
       "      <td id=\"T_54194_row8_col2\" class=\"data row8 col2\" >0.2370</td>\n",
       "      <td id=\"T_54194_row8_col3\" class=\"data row8 col3\" >761298.7467</td>\n",
       "      <td id=\"T_54194_row8_col4\" class=\"data row8 col4\" >761298.7467</td>\n",
       "      <td id=\"T_54194_row8_col5\" class=\"data row8 col5\" >4.4772</td>\n",
       "      <td id=\"T_54194_row8_col6\" class=\"data row8 col6\" >0.7776</td>\n",
       "      <td id=\"T_54194_row8_col7\" class=\"data row8 col7\" >0.0367</td>\n",
       "    </tr>\n",
       "    <tr>\n",
       "      <th id=\"T_54194_level0_row9\" class=\"row_heading level0 row9\" >en_cds_dt</th>\n",
       "      <td id=\"T_54194_row9_col0\" class=\"data row9 col0\" >Elastic Net w/ Cond. Deseasonalize & Detrending</td>\n",
       "      <td id=\"T_54194_row9_col1\" class=\"data row9 col1\" >0.3389</td>\n",
       "      <td id=\"T_54194_row9_col2\" class=\"data row9 col2\" >0.2370</td>\n",
       "      <td id=\"T_54194_row9_col3\" class=\"data row9 col3\" >761298.7467</td>\n",
       "      <td id=\"T_54194_row9_col4\" class=\"data row9 col4\" >761298.7467</td>\n",
       "      <td id=\"T_54194_row9_col5\" class=\"data row9 col5\" >4.4772</td>\n",
       "      <td id=\"T_54194_row9_col6\" class=\"data row9 col6\" >0.7776</td>\n",
       "      <td id=\"T_54194_row9_col7\" class=\"data row9 col7\" >0.0367</td>\n",
       "    </tr>\n",
       "    <tr>\n",
       "      <th id=\"T_54194_level0_row10\" class=\"row_heading level0 row10\" >lr_cds_dt</th>\n",
       "      <td id=\"T_54194_row10_col0\" class=\"data row10 col0\" >Linear w/ Cond. Deseasonalize & Detrending</td>\n",
       "      <td id=\"T_54194_row10_col1\" class=\"data row10 col1\" >0.3389</td>\n",
       "      <td id=\"T_54194_row10_col2\" class=\"data row10 col2\" >0.2370</td>\n",
       "      <td id=\"T_54194_row10_col3\" class=\"data row10 col3\" >761298.7467</td>\n",
       "      <td id=\"T_54194_row10_col4\" class=\"data row10 col4\" >761298.7467</td>\n",
       "      <td id=\"T_54194_row10_col5\" class=\"data row10 col5\" >4.4772</td>\n",
       "      <td id=\"T_54194_row10_col6\" class=\"data row10 col6\" >0.7776</td>\n",
       "      <td id=\"T_54194_row10_col7\" class=\"data row10 col7\" >0.0400</td>\n",
       "    </tr>\n",
       "    <tr>\n",
       "      <th id=\"T_54194_level0_row11\" class=\"row_heading level0 row11\" >omp_cds_dt</th>\n",
       "      <td id=\"T_54194_row11_col0\" class=\"data row11 col0\" >Orthogonal Matching Pursuit w/ Cond. Deseasonalize & Detrending</td>\n",
       "      <td id=\"T_54194_row11_col1\" class=\"data row11 col1\" >0.3389</td>\n",
       "      <td id=\"T_54194_row11_col2\" class=\"data row11 col2\" >0.2370</td>\n",
       "      <td id=\"T_54194_row11_col3\" class=\"data row11 col3\" >761298.7467</td>\n",
       "      <td id=\"T_54194_row11_col4\" class=\"data row11 col4\" >761298.7467</td>\n",
       "      <td id=\"T_54194_row11_col5\" class=\"data row11 col5\" >4.4772</td>\n",
       "      <td id=\"T_54194_row11_col6\" class=\"data row11 col6\" >0.7776</td>\n",
       "      <td id=\"T_54194_row11_col7\" class=\"data row11 col7\" >0.0433</td>\n",
       "    </tr>\n",
       "    <tr>\n",
       "      <th id=\"T_54194_level0_row12\" class=\"row_heading level0 row12\" >lasso_cds_dt</th>\n",
       "      <td id=\"T_54194_row12_col0\" class=\"data row12 col0\" >Lasso w/ Cond. Deseasonalize & Detrending</td>\n",
       "      <td id=\"T_54194_row12_col1\" class=\"data row12 col1\" >0.3389</td>\n",
       "      <td id=\"T_54194_row12_col2\" class=\"data row12 col2\" >0.2370</td>\n",
       "      <td id=\"T_54194_row12_col3\" class=\"data row12 col3\" >761298.7467</td>\n",
       "      <td id=\"T_54194_row12_col4\" class=\"data row12 col4\" >761298.7467</td>\n",
       "      <td id=\"T_54194_row12_col5\" class=\"data row12 col5\" >4.4772</td>\n",
       "      <td id=\"T_54194_row12_col6\" class=\"data row12 col6\" >0.7776</td>\n",
       "      <td id=\"T_54194_row12_col7\" class=\"data row12 col7\" >0.0400</td>\n",
       "    </tr>\n",
       "    <tr>\n",
       "      <th id=\"T_54194_level0_row13\" class=\"row_heading level0 row13\" >ets</th>\n",
       "      <td id=\"T_54194_row13_col0\" class=\"data row13 col0\" >ETS</td>\n",
       "      <td id=\"T_54194_row13_col1\" class=\"data row13 col1\" >0.3959</td>\n",
       "      <td id=\"T_54194_row13_col2\" class=\"data row13 col2\" >0.2767</td>\n",
       "      <td id=\"T_54194_row13_col3\" class=\"data row13 col3\" >887867.6537</td>\n",
       "      <td id=\"T_54194_row13_col4\" class=\"data row13 col4\" >887867.6537</td>\n",
       "      <td id=\"T_54194_row13_col5\" class=\"data row13 col5\" >4.6928</td>\n",
       "      <td id=\"T_54194_row13_col6\" class=\"data row13 col6\" >0.8509</td>\n",
       "      <td id=\"T_54194_row13_col7\" class=\"data row13 col7\" >0.0300</td>\n",
       "    </tr>\n",
       "    <tr>\n",
       "      <th id=\"T_54194_level0_row14\" class=\"row_heading level0 row14\" >lightgbm_cds_dt</th>\n",
       "      <td id=\"T_54194_row14_col0\" class=\"data row14 col0\" >Light Gradient Boosting w/ Cond. Deseasonalize & Detrending</td>\n",
       "      <td id=\"T_54194_row14_col1\" class=\"data row14 col1\" >0.5370</td>\n",
       "      <td id=\"T_54194_row14_col2\" class=\"data row14 col2\" >0.3751</td>\n",
       "      <td id=\"T_54194_row14_col3\" class=\"data row14 col3\" >1201859.4846</td>\n",
       "      <td id=\"T_54194_row14_col4\" class=\"data row14 col4\" >1201859.4846</td>\n",
       "      <td id=\"T_54194_row14_col5\" class=\"data row14 col5\" >5.4078</td>\n",
       "      <td id=\"T_54194_row14_col6\" class=\"data row14 col6\" >0.9714</td>\n",
       "      <td id=\"T_54194_row14_col7\" class=\"data row14 col7\" >0.0600</td>\n",
       "    </tr>\n",
       "    <tr>\n",
       "      <th id=\"T_54194_level0_row15\" class=\"row_heading level0 row15\" >rf_cds_dt</th>\n",
       "      <td id=\"T_54194_row15_col0\" class=\"data row15 col0\" >Random Forest w/ Cond. Deseasonalize & Detrending</td>\n",
       "      <td id=\"T_54194_row15_col1\" class=\"data row15 col1\" >0.9329</td>\n",
       "      <td id=\"T_54194_row15_col2\" class=\"data row15 col2\" >0.6507</td>\n",
       "      <td id=\"T_54194_row15_col3\" class=\"data row15 col3\" >2079059.8214</td>\n",
       "      <td id=\"T_54194_row15_col4\" class=\"data row15 col4\" >2079059.8214</td>\n",
       "      <td id=\"T_54194_row15_col5\" class=\"data row15 col5\" >5.7784</td>\n",
       "      <td id=\"T_54194_row15_col6\" class=\"data row15 col6\" >1.2483</td>\n",
       "      <td id=\"T_54194_row15_col7\" class=\"data row15 col7\" >0.0800</td>\n",
       "    </tr>\n",
       "    <tr>\n",
       "      <th id=\"T_54194_level0_row16\" class=\"row_heading level0 row16\" >knn_cds_dt</th>\n",
       "      <td id=\"T_54194_row16_col0\" class=\"data row16 col0\" >K Neighbors w/ Cond. Deseasonalize & Detrending</td>\n",
       "      <td id=\"T_54194_row16_col1\" class=\"data row16 col1\" >0.7443</td>\n",
       "      <td id=\"T_54194_row16_col2\" class=\"data row16 col2\" >0.5197</td>\n",
       "      <td id=\"T_54194_row16_col3\" class=\"data row16 col3\" >1665068.2403</td>\n",
       "      <td id=\"T_54194_row16_col4\" class=\"data row16 col4\" >1665068.2403</td>\n",
       "      <td id=\"T_54194_row16_col5\" class=\"data row16 col5\" >6.9692</td>\n",
       "      <td id=\"T_54194_row16_col6\" class=\"data row16 col6\" >1.0941</td>\n",
       "      <td id=\"T_54194_row16_col7\" class=\"data row16 col7\" >0.0433</td>\n",
       "    </tr>\n",
       "    <tr>\n",
       "      <th id=\"T_54194_level0_row17\" class=\"row_heading level0 row17\" >auto_arima</th>\n",
       "      <td id=\"T_54194_row17_col0\" class=\"data row17 col0\" >Auto ARIMA</td>\n",
       "      <td id=\"T_54194_row17_col1\" class=\"data row17 col1\" >0.8598</td>\n",
       "      <td id=\"T_54194_row17_col2\" class=\"data row17 col2\" >0.6001</td>\n",
       "      <td id=\"T_54194_row17_col3\" class=\"data row17 col3\" >1921402.2019</td>\n",
       "      <td id=\"T_54194_row17_col4\" class=\"data row17 col4\" >1921402.2019</td>\n",
       "      <td id=\"T_54194_row17_col5\" class=\"data row17 col5\" >7.0537</td>\n",
       "      <td id=\"T_54194_row17_col6\" class=\"data row17 col6\" >1.1870</td>\n",
       "      <td id=\"T_54194_row17_col7\" class=\"data row17 col7\" >0.2267</td>\n",
       "    </tr>\n",
       "    <tr>\n",
       "      <th id=\"T_54194_level0_row18\" class=\"row_heading level0 row18\" >ada_cds_dt</th>\n",
       "      <td id=\"T_54194_row18_col0\" class=\"data row18 col0\" >AdaBoost w/ Cond. Deseasonalize & Detrending</td>\n",
       "      <td id=\"T_54194_row18_col1\" class=\"data row18 col1\" >0.8593</td>\n",
       "      <td id=\"T_54194_row18_col2\" class=\"data row18 col2\" >0.6001</td>\n",
       "      <td id=\"T_54194_row18_col3\" class=\"data row18 col3\" >1922744.9596</td>\n",
       "      <td id=\"T_54194_row18_col4\" class=\"data row18 col4\" >1922744.9596</td>\n",
       "      <td id=\"T_54194_row18_col5\" class=\"data row18 col5\" >8.3315</td>\n",
       "      <td id=\"T_54194_row18_col6\" class=\"data row18 col6\" >1.1142</td>\n",
       "      <td id=\"T_54194_row18_col7\" class=\"data row18 col7\" >0.0433</td>\n",
       "    </tr>\n",
       "    <tr>\n",
       "      <th id=\"T_54194_level0_row19\" class=\"row_heading level0 row19\" >et_cds_dt</th>\n",
       "      <td id=\"T_54194_row19_col0\" class=\"data row19 col0\" >Extra Trees w/ Cond. Deseasonalize & Detrending</td>\n",
       "      <td id=\"T_54194_row19_col1\" class=\"data row19 col1\" >1.2159</td>\n",
       "      <td id=\"T_54194_row19_col2\" class=\"data row19 col2\" >0.8484</td>\n",
       "      <td id=\"T_54194_row19_col3\" class=\"data row19 col3\" >2711829.5522</td>\n",
       "      <td id=\"T_54194_row19_col4\" class=\"data row19 col4\" >2711829.5522</td>\n",
       "      <td id=\"T_54194_row19_col5\" class=\"data row19 col5\" >8.8176</td>\n",
       "      <td id=\"T_54194_row19_col6\" class=\"data row19 col6\" >1.2166</td>\n",
       "      <td id=\"T_54194_row19_col7\" class=\"data row19 col7\" >0.0800</td>\n",
       "    </tr>\n",
       "    <tr>\n",
       "      <th id=\"T_54194_level0_row20\" class=\"row_heading level0 row20\" >huber_cds_dt</th>\n",
       "      <td id=\"T_54194_row20_col0\" class=\"data row20 col0\" >Huber w/ Cond. Deseasonalize & Detrending</td>\n",
       "      <td id=\"T_54194_row20_col1\" class=\"data row20 col1\" >nan</td>\n",
       "      <td id=\"T_54194_row20_col2\" class=\"data row20 col2\" >nan</td>\n",
       "      <td id=\"T_54194_row20_col3\" class=\"data row20 col3\" >nan</td>\n",
       "      <td id=\"T_54194_row20_col4\" class=\"data row20 col4\" >nan</td>\n",
       "      <td id=\"T_54194_row20_col5\" class=\"data row20 col5\" >nan</td>\n",
       "      <td id=\"T_54194_row20_col6\" class=\"data row20 col6\" >nan</td>\n",
       "      <td id=\"T_54194_row20_col7\" class=\"data row20 col7\" >0.0400</td>\n",
       "    </tr>\n",
       "  </tbody>\n",
       "</table>\n"
      ],
      "text/plain": [
       "<pandas.io.formats.style.Styler at 0x224cbce8400>"
      ]
     },
     "metadata": {},
     "output_type": "display_data"
    },
    {
     "data": {
      "text/html": [],
      "text/plain": [
       "<IPython.core.display.HTML object>"
      ]
     },
     "metadata": {},
     "output_type": "display_data"
    },
    {
     "data": {
      "application/vnd.plotly.v1+json": {
       "config": {
        "plotlyServerURL": "https://plot.ly"
       },
       "data": [
        {
         "line": {
          "color": "rgb(31, 119, 180)",
          "width": 2
         },
         "marker": {
          "color": "rgb(31, 119, 180)",
          "size": 5
         },
         "mode": "lines+markers",
         "name": "NET_SALES",
         "type": "scattergl",
         "x": [
          "2016-01-01T00:00:00",
          "2016-02-01T00:00:00",
          "2016-03-01T00:00:00",
          "2016-04-01T00:00:00",
          "2016-05-01T00:00:00",
          "2016-06-01T00:00:00",
          "2016-07-01T00:00:00",
          "2016-08-01T00:00:00",
          "2016-09-01T00:00:00",
          "2016-10-01T00:00:00",
          "2016-11-01T00:00:00",
          "2016-12-01T00:00:00",
          "2017-01-01T00:00:00",
          "2017-02-01T00:00:00",
          "2017-03-01T00:00:00",
          "2017-04-01T00:00:00",
          "2017-05-01T00:00:00",
          "2017-06-01T00:00:00",
          "2017-07-01T00:00:00",
          "2017-08-01T00:00:00",
          "2017-09-01T00:00:00",
          "2017-10-01T00:00:00",
          "2017-11-01T00:00:00",
          "2017-12-01T00:00:00",
          "2018-01-01T00:00:00",
          "2018-02-01T00:00:00",
          "2018-03-01T00:00:00",
          "2018-04-01T00:00:00",
          "2018-05-01T00:00:00",
          "2018-06-01T00:00:00",
          "2018-07-01T00:00:00",
          "2018-08-01T00:00:00",
          "2018-09-01T00:00:00",
          "2018-10-01T00:00:00",
          "2018-11-01T00:00:00",
          "2018-12-01T00:00:00",
          "2019-01-01T00:00:00",
          "2019-02-01T00:00:00",
          "2019-03-01T00:00:00",
          "2019-04-01T00:00:00",
          "2019-05-01T00:00:00",
          "2019-06-01T00:00:00",
          "2019-07-01T00:00:00",
          "2019-08-01T00:00:00",
          "2019-09-01T00:00:00",
          "2019-10-01T00:00:00",
          "2019-11-01T00:00:00",
          "2019-12-01T00:00:00",
          "2020-01-01T00:00:00",
          "2020-02-01T00:00:00",
          "2020-03-01T00:00:00",
          "2020-04-01T00:00:00",
          "2020-05-01T00:00:00",
          "2020-06-01T00:00:00",
          "2020-07-01T00:00:00",
          "2020-08-01T00:00:00",
          "2020-09-01T00:00:00",
          "2020-10-01T00:00:00",
          "2020-11-01T00:00:00",
          "2020-12-01T00:00:00",
          "2021-01-01T00:00:00",
          "2021-02-01T00:00:00",
          "2021-03-01T00:00:00",
          "2021-04-01T00:00:00",
          "2021-05-01T00:00:00",
          "2021-06-01T00:00:00",
          "2021-07-01T00:00:00",
          "2021-08-01T00:00:00",
          "2021-09-01T00:00:00",
          "2021-10-01T00:00:00",
          "2021-11-01T00:00:00",
          "2021-12-01T00:00:00",
          "2022-01-01T00:00:00",
          "2022-02-01T00:00:00",
          "2022-03-01T00:00:00",
          "2022-04-01T00:00:00",
          "2022-05-01T00:00:00",
          "2022-06-01T00:00:00",
          "2022-07-01T00:00:00",
          "2022-08-01T00:00:00",
          "2022-09-01T00:00:00",
          "2022-10-01T00:00:00",
          "2022-11-01T00:00:00",
          "2022-12-01T00:00:00"
         ],
         "xaxis": "x",
         "y": [
          1514081.09,
          2648281.1399999997,
          -798354.81,
          843519.53,
          324417.1,
          -112004.36000000002,
          1666338.75,
          3732773.39,
          166350.67,
          400983.17,
          430542.46,
          2210876.8899999997,
          155921.77999999994,
          711463.5099999999,
          4531697.12,
          746586.0199999999,
          352972.55,
          -116744.57000000002,
          -213444.68000000002,
          66657.93000000001,
          -301475.23,
          6626636.820000001,
          1772544.8499999999,
          -323460.13000000006,
          2565830.14,
          3130043.6400000006,
          1119899.6099999999,
          451275.49,
          510719.31999999995,
          -73711.36000000002,
          -194649.61000000002,
          6306854.3,
          42595.859999999986,
          579825.06,
          223955.8399999999,
          1387318.4,
          5835780.560000001,
          69557.87999999999,
          1049008.6800000002,
          -127919.44,
          17865.179999999997,
          -96428,
          6483317.55,
          -86617.91,
          -1337830.2600000002,
          8006403.01,
          54826.16999999998,
          -228160.96999999997,
          530212.09,
          1116704.51,
          4336910.399999999,
          441398.2099999999,
          -115238.44,
          152169.65,
          4559857.719999999,
          -87191.56,
          388461.94,
          -107382.45000000001,
          227388.99000000002,
          78751.62000000002,
          6238039.24,
          1007308.3799999998,
          1474221.04,
          -156298.08000000005,
          535794.34,
          -35753.829999999994,
          4075063.680000001,
          1280225.5199999998,
          3221520.560000001,
          2266715.4000000004,
          -476039.92999999993,
          330030.31999999995,
          5617364.22,
          747867.05,
          -170922.25000000003,
          -156203.9300000001,
          4875638.930000002,
          -54804.38,
          -261499.55000000002,
          -131668.79000000004,
          -141299.72,
          1413072.0399999998,
          1070085.6199999999,
          -141786.75000000003
         ],
         "yaxis": "y"
        },
        {
         "line": {
          "color": "rgb(255, 127, 14)",
          "width": 2
         },
         "marker": {
          "color": "rgb(255, 127, 14)",
          "size": 5
         },
         "mode": "lines+markers",
         "name": "Exponential Smoothing",
         "type": "scattergl",
         "x": [
          "2016-01-01T00:00:00",
          "2016-02-01T00:00:00",
          "2016-03-01T00:00:00",
          "2016-04-01T00:00:00",
          "2016-05-01T00:00:00",
          "2016-06-01T00:00:00",
          "2016-07-01T00:00:00",
          "2016-08-01T00:00:00",
          "2016-09-01T00:00:00",
          "2016-10-01T00:00:00",
          "2016-11-01T00:00:00",
          "2016-12-01T00:00:00",
          "2017-01-01T00:00:00",
          "2017-02-01T00:00:00",
          "2017-03-01T00:00:00",
          "2017-04-01T00:00:00",
          "2017-05-01T00:00:00",
          "2017-06-01T00:00:00",
          "2017-07-01T00:00:00",
          "2017-08-01T00:00:00",
          "2017-09-01T00:00:00",
          "2017-10-01T00:00:00",
          "2017-11-01T00:00:00",
          "2017-12-01T00:00:00",
          "2018-01-01T00:00:00",
          "2018-02-01T00:00:00",
          "2018-03-01T00:00:00",
          "2018-04-01T00:00:00",
          "2018-05-01T00:00:00",
          "2018-06-01T00:00:00",
          "2018-07-01T00:00:00",
          "2018-08-01T00:00:00",
          "2018-09-01T00:00:00",
          "2018-10-01T00:00:00",
          "2018-11-01T00:00:00",
          "2018-12-01T00:00:00",
          "2019-01-01T00:00:00",
          "2019-02-01T00:00:00",
          "2019-03-01T00:00:00",
          "2019-04-01T00:00:00",
          "2019-05-01T00:00:00",
          "2019-06-01T00:00:00",
          "2019-07-01T00:00:00",
          "2019-08-01T00:00:00",
          "2019-09-01T00:00:00",
          "2019-10-01T00:00:00",
          "2019-11-01T00:00:00",
          "2019-12-01T00:00:00",
          "2020-01-01T00:00:00",
          "2020-02-01T00:00:00",
          "2020-03-01T00:00:00",
          "2020-04-01T00:00:00",
          "2020-05-01T00:00:00",
          "2020-06-01T00:00:00",
          "2020-07-01T00:00:00",
          "2020-08-01T00:00:00",
          "2020-09-01T00:00:00",
          "2020-10-01T00:00:00",
          "2020-11-01T00:00:00",
          "2020-12-01T00:00:00",
          "2021-01-01T00:00:00",
          "2021-02-01T00:00:00",
          "2021-03-01T00:00:00",
          "2021-04-01T00:00:00",
          "2021-05-01T00:00:00",
          "2021-06-01T00:00:00",
          "2021-07-01T00:00:00",
          "2021-08-01T00:00:00",
          "2021-09-01T00:00:00",
          "2021-10-01T00:00:00",
          "2021-11-01T00:00:00",
          "2021-12-01T00:00:00",
          "2022-01-01T00:00:00",
          "2022-02-01T00:00:00",
          "2022-03-01T00:00:00",
          "2022-04-01T00:00:00",
          "2022-05-01T00:00:00",
          "2022-06-01T00:00:00",
          "2022-07-01T00:00:00",
          "2022-08-01T00:00:00",
          "2022-09-01T00:00:00",
          "2022-10-01T00:00:00",
          "2022-11-01T00:00:00",
          "2022-12-01T00:00:00"
         ],
         "xaxis": "x",
         "y": [
          null,
          null,
          null,
          null,
          null,
          null,
          null,
          null,
          null,
          null,
          null,
          null,
          null,
          null,
          null,
          null,
          null,
          null,
          null,
          null,
          null,
          null,
          null,
          null,
          null,
          null,
          null,
          null,
          null,
          null,
          null,
          null,
          null,
          null,
          null,
          null,
          null,
          null,
          null,
          null,
          null,
          null,
          null,
          null,
          null,
          null,
          null,
          null,
          null,
          null,
          null,
          null,
          null,
          null,
          null,
          null,
          null,
          null,
          null,
          null,
          null,
          null,
          null,
          null,
          null,
          null,
          null,
          null,
          null,
          null,
          null,
          null,
          null,
          null,
          null,
          null,
          null,
          null,
          null,
          null,
          null,
          null,
          null,
          1185609.097
         ],
         "yaxis": "y"
        }
       ],
       "layout": {
        "showlegend": true,
        "template": {
         "data": {
          "bar": [
           {
            "error_x": {
             "color": "rgb(51,51,51)"
            },
            "error_y": {
             "color": "rgb(51,51,51)"
            },
            "marker": {
             "line": {
              "color": "rgb(237,237,237)",
              "width": 0.5
             },
             "pattern": {
              "fillmode": "overlay",
              "size": 10,
              "solidity": 0.2
             }
            },
            "type": "bar"
           }
          ],
          "barpolar": [
           {
            "marker": {
             "line": {
              "color": "rgb(237,237,237)",
              "width": 0.5
             },
             "pattern": {
              "fillmode": "overlay",
              "size": 10,
              "solidity": 0.2
             }
            },
            "type": "barpolar"
           }
          ],
          "carpet": [
           {
            "aaxis": {
             "endlinecolor": "rgb(51,51,51)",
             "gridcolor": "white",
             "linecolor": "white",
             "minorgridcolor": "white",
             "startlinecolor": "rgb(51,51,51)"
            },
            "baxis": {
             "endlinecolor": "rgb(51,51,51)",
             "gridcolor": "white",
             "linecolor": "white",
             "minorgridcolor": "white",
             "startlinecolor": "rgb(51,51,51)"
            },
            "type": "carpet"
           }
          ],
          "choropleth": [
           {
            "colorbar": {
             "outlinewidth": 0,
             "tickcolor": "rgb(237,237,237)",
             "ticklen": 6,
             "ticks": "inside"
            },
            "type": "choropleth"
           }
          ],
          "contour": [
           {
            "colorbar": {
             "outlinewidth": 0,
             "tickcolor": "rgb(237,237,237)",
             "ticklen": 6,
             "ticks": "inside"
            },
            "colorscale": [
             [
              0,
              "rgb(20,44,66)"
             ],
             [
              1,
              "rgb(90,179,244)"
             ]
            ],
            "type": "contour"
           }
          ],
          "contourcarpet": [
           {
            "colorbar": {
             "outlinewidth": 0,
             "tickcolor": "rgb(237,237,237)",
             "ticklen": 6,
             "ticks": "inside"
            },
            "type": "contourcarpet"
           }
          ],
          "heatmap": [
           {
            "colorbar": {
             "outlinewidth": 0,
             "tickcolor": "rgb(237,237,237)",
             "ticklen": 6,
             "ticks": "inside"
            },
            "colorscale": [
             [
              0,
              "rgb(20,44,66)"
             ],
             [
              1,
              "rgb(90,179,244)"
             ]
            ],
            "type": "heatmap"
           }
          ],
          "heatmapgl": [
           {
            "colorbar": {
             "outlinewidth": 0,
             "tickcolor": "rgb(237,237,237)",
             "ticklen": 6,
             "ticks": "inside"
            },
            "colorscale": [
             [
              0,
              "rgb(20,44,66)"
             ],
             [
              1,
              "rgb(90,179,244)"
             ]
            ],
            "type": "heatmapgl"
           }
          ],
          "histogram": [
           {
            "marker": {
             "pattern": {
              "fillmode": "overlay",
              "size": 10,
              "solidity": 0.2
             }
            },
            "type": "histogram"
           }
          ],
          "histogram2d": [
           {
            "colorbar": {
             "outlinewidth": 0,
             "tickcolor": "rgb(237,237,237)",
             "ticklen": 6,
             "ticks": "inside"
            },
            "colorscale": [
             [
              0,
              "rgb(20,44,66)"
             ],
             [
              1,
              "rgb(90,179,244)"
             ]
            ],
            "type": "histogram2d"
           }
          ],
          "histogram2dcontour": [
           {
            "colorbar": {
             "outlinewidth": 0,
             "tickcolor": "rgb(237,237,237)",
             "ticklen": 6,
             "ticks": "inside"
            },
            "colorscale": [
             [
              0,
              "rgb(20,44,66)"
             ],
             [
              1,
              "rgb(90,179,244)"
             ]
            ],
            "type": "histogram2dcontour"
           }
          ],
          "mesh3d": [
           {
            "colorbar": {
             "outlinewidth": 0,
             "tickcolor": "rgb(237,237,237)",
             "ticklen": 6,
             "ticks": "inside"
            },
            "type": "mesh3d"
           }
          ],
          "parcoords": [
           {
            "line": {
             "colorbar": {
              "outlinewidth": 0,
              "tickcolor": "rgb(237,237,237)",
              "ticklen": 6,
              "ticks": "inside"
             }
            },
            "type": "parcoords"
           }
          ],
          "pie": [
           {
            "automargin": true,
            "type": "pie"
           }
          ],
          "scatter": [
           {
            "fillpattern": {
             "fillmode": "overlay",
             "size": 10,
             "solidity": 0.2
            },
            "type": "scatter"
           }
          ],
          "scatter3d": [
           {
            "line": {
             "colorbar": {
              "outlinewidth": 0,
              "tickcolor": "rgb(237,237,237)",
              "ticklen": 6,
              "ticks": "inside"
             }
            },
            "marker": {
             "colorbar": {
              "outlinewidth": 0,
              "tickcolor": "rgb(237,237,237)",
              "ticklen": 6,
              "ticks": "inside"
             }
            },
            "type": "scatter3d"
           }
          ],
          "scattercarpet": [
           {
            "marker": {
             "colorbar": {
              "outlinewidth": 0,
              "tickcolor": "rgb(237,237,237)",
              "ticklen": 6,
              "ticks": "inside"
             }
            },
            "type": "scattercarpet"
           }
          ],
          "scattergeo": [
           {
            "marker": {
             "colorbar": {
              "outlinewidth": 0,
              "tickcolor": "rgb(237,237,237)",
              "ticklen": 6,
              "ticks": "inside"
             }
            },
            "type": "scattergeo"
           }
          ],
          "scattergl": [
           {
            "marker": {
             "colorbar": {
              "outlinewidth": 0,
              "tickcolor": "rgb(237,237,237)",
              "ticklen": 6,
              "ticks": "inside"
             }
            },
            "type": "scattergl"
           }
          ],
          "scattermapbox": [
           {
            "marker": {
             "colorbar": {
              "outlinewidth": 0,
              "tickcolor": "rgb(237,237,237)",
              "ticklen": 6,
              "ticks": "inside"
             }
            },
            "type": "scattermapbox"
           }
          ],
          "scatterpolar": [
           {
            "marker": {
             "colorbar": {
              "outlinewidth": 0,
              "tickcolor": "rgb(237,237,237)",
              "ticklen": 6,
              "ticks": "inside"
             }
            },
            "type": "scatterpolar"
           }
          ],
          "scatterpolargl": [
           {
            "marker": {
             "colorbar": {
              "outlinewidth": 0,
              "tickcolor": "rgb(237,237,237)",
              "ticklen": 6,
              "ticks": "inside"
             }
            },
            "type": "scatterpolargl"
           }
          ],
          "scatterternary": [
           {
            "marker": {
             "colorbar": {
              "outlinewidth": 0,
              "tickcolor": "rgb(237,237,237)",
              "ticklen": 6,
              "ticks": "inside"
             }
            },
            "type": "scatterternary"
           }
          ],
          "surface": [
           {
            "colorbar": {
             "outlinewidth": 0,
             "tickcolor": "rgb(237,237,237)",
             "ticklen": 6,
             "ticks": "inside"
            },
            "colorscale": [
             [
              0,
              "rgb(20,44,66)"
             ],
             [
              1,
              "rgb(90,179,244)"
             ]
            ],
            "type": "surface"
           }
          ],
          "table": [
           {
            "cells": {
             "fill": {
              "color": "rgb(237,237,237)"
             },
             "line": {
              "color": "white"
             }
            },
            "header": {
             "fill": {
              "color": "rgb(217,217,217)"
             },
             "line": {
              "color": "white"
             }
            },
            "type": "table"
           }
          ]
         },
         "layout": {
          "annotationdefaults": {
           "arrowhead": 0,
           "arrowwidth": 1
          },
          "autotypenumbers": "strict",
          "coloraxis": {
           "colorbar": {
            "outlinewidth": 0,
            "tickcolor": "rgb(237,237,237)",
            "ticklen": 6,
            "ticks": "inside"
           }
          },
          "colorscale": {
           "sequential": [
            [
             0,
             "rgb(20,44,66)"
            ],
            [
             1,
             "rgb(90,179,244)"
            ]
           ],
           "sequentialminus": [
            [
             0,
             "rgb(20,44,66)"
            ],
            [
             1,
             "rgb(90,179,244)"
            ]
           ]
          },
          "colorway": [
           "#F8766D",
           "#A3A500",
           "#00BF7D",
           "#00B0F6",
           "#E76BF3"
          ],
          "font": {
           "color": "rgb(51,51,51)"
          },
          "geo": {
           "bgcolor": "white",
           "lakecolor": "white",
           "landcolor": "rgb(237,237,237)",
           "showlakes": true,
           "showland": true,
           "subunitcolor": "white"
          },
          "hoverlabel": {
           "align": "left"
          },
          "hovermode": "closest",
          "paper_bgcolor": "white",
          "plot_bgcolor": "rgb(237,237,237)",
          "polar": {
           "angularaxis": {
            "gridcolor": "white",
            "linecolor": "white",
            "showgrid": true,
            "tickcolor": "rgb(51,51,51)",
            "ticks": "outside"
           },
           "bgcolor": "rgb(237,237,237)",
           "radialaxis": {
            "gridcolor": "white",
            "linecolor": "white",
            "showgrid": true,
            "tickcolor": "rgb(51,51,51)",
            "ticks": "outside"
           }
          },
          "scene": {
           "xaxis": {
            "backgroundcolor": "rgb(237,237,237)",
            "gridcolor": "white",
            "gridwidth": 2,
            "linecolor": "white",
            "showbackground": true,
            "showgrid": true,
            "tickcolor": "rgb(51,51,51)",
            "ticks": "outside",
            "zerolinecolor": "white"
           },
           "yaxis": {
            "backgroundcolor": "rgb(237,237,237)",
            "gridcolor": "white",
            "gridwidth": 2,
            "linecolor": "white",
            "showbackground": true,
            "showgrid": true,
            "tickcolor": "rgb(51,51,51)",
            "ticks": "outside",
            "zerolinecolor": "white"
           },
           "zaxis": {
            "backgroundcolor": "rgb(237,237,237)",
            "gridcolor": "white",
            "gridwidth": 2,
            "linecolor": "white",
            "showbackground": true,
            "showgrid": true,
            "tickcolor": "rgb(51,51,51)",
            "ticks": "outside",
            "zerolinecolor": "white"
           }
          },
          "shapedefaults": {
           "fillcolor": "black",
           "line": {
            "width": 0
           },
           "opacity": 0.3
          },
          "ternary": {
           "aaxis": {
            "gridcolor": "white",
            "linecolor": "white",
            "showgrid": true,
            "tickcolor": "rgb(51,51,51)",
            "ticks": "outside"
           },
           "baxis": {
            "gridcolor": "white",
            "linecolor": "white",
            "showgrid": true,
            "tickcolor": "rgb(51,51,51)",
            "ticks": "outside"
           },
           "bgcolor": "rgb(237,237,237)",
           "caxis": {
            "gridcolor": "white",
            "linecolor": "white",
            "showgrid": true,
            "tickcolor": "rgb(51,51,51)",
            "ticks": "outside"
           }
          },
          "xaxis": {
           "automargin": true,
           "gridcolor": "white",
           "linecolor": "white",
           "showgrid": true,
           "tickcolor": "rgb(51,51,51)",
           "ticks": "outside",
           "title": {
            "standoff": 15
           },
           "zerolinecolor": "white"
          },
          "yaxis": {
           "automargin": true,
           "gridcolor": "white",
           "linecolor": "white",
           "showgrid": true,
           "tickcolor": "rgb(51,51,51)",
           "ticks": "outside",
           "title": {
            "standoff": 15
           },
           "zerolinecolor": "white"
          }
         }
        },
        "title": {
         "text": "Actual vs. Forecast (Out-of-Sample)"
        },
        "xaxis": {
         "anchor": "y",
         "domain": [
          0,
          1
         ]
        },
        "yaxis": {
         "anchor": "x",
         "domain": [
          0,
          1
         ]
        }
       }
      }
     },
     "metadata": {},
     "output_type": "display_data"
    },
    {
     "name": "stderr",
     "output_type": "stream",
     "text": [
      " 57%|█████▋    | 8/14 [01:47<01:13, 12.26s/it]"
     ]
    },
    {
     "data": {
      "text/html": [
       "<style type=\"text/css\">\n",
       "#T_6b1d9_row25_col1, #T_6b1d9_row31_col1 {\n",
       "  background-color: lightgreen;\n",
       "}\n",
       "</style>\n",
       "<table id=\"T_6b1d9\">\n",
       "  <thead>\n",
       "    <tr>\n",
       "      <th class=\"blank level0\" >&nbsp;</th>\n",
       "      <th id=\"T_6b1d9_level0_col0\" class=\"col_heading level0 col0\" >Description</th>\n",
       "      <th id=\"T_6b1d9_level0_col1\" class=\"col_heading level0 col1\" >Value</th>\n",
       "    </tr>\n",
       "  </thead>\n",
       "  <tbody>\n",
       "    <tr>\n",
       "      <th id=\"T_6b1d9_level0_row0\" class=\"row_heading level0 row0\" >0</th>\n",
       "      <td id=\"T_6b1d9_row0_col0\" class=\"data row0 col0\" >session_id</td>\n",
       "      <td id=\"T_6b1d9_row0_col1\" class=\"data row0 col1\" >123</td>\n",
       "    </tr>\n",
       "    <tr>\n",
       "      <th id=\"T_6b1d9_level0_row1\" class=\"row_heading level0 row1\" >1</th>\n",
       "      <td id=\"T_6b1d9_row1_col0\" class=\"data row1 col0\" >Target</td>\n",
       "      <td id=\"T_6b1d9_row1_col1\" class=\"data row1 col1\" >NET_SALES</td>\n",
       "    </tr>\n",
       "    <tr>\n",
       "      <th id=\"T_6b1d9_level0_row2\" class=\"row_heading level0 row2\" >2</th>\n",
       "      <td id=\"T_6b1d9_row2_col0\" class=\"data row2 col0\" >Approach</td>\n",
       "      <td id=\"T_6b1d9_row2_col1\" class=\"data row2 col1\" >Univariate</td>\n",
       "    </tr>\n",
       "    <tr>\n",
       "      <th id=\"T_6b1d9_level0_row3\" class=\"row_heading level0 row3\" >3</th>\n",
       "      <td id=\"T_6b1d9_row3_col0\" class=\"data row3 col0\" >Exogenous Variables</td>\n",
       "      <td id=\"T_6b1d9_row3_col1\" class=\"data row3 col1\" >Not Present</td>\n",
       "    </tr>\n",
       "    <tr>\n",
       "      <th id=\"T_6b1d9_level0_row4\" class=\"row_heading level0 row4\" >4</th>\n",
       "      <td id=\"T_6b1d9_row4_col0\" class=\"data row4 col0\" >Original data shape</td>\n",
       "      <td id=\"T_6b1d9_row4_col1\" class=\"data row4 col1\" >(79, 1)</td>\n",
       "    </tr>\n",
       "    <tr>\n",
       "      <th id=\"T_6b1d9_level0_row5\" class=\"row_heading level0 row5\" >5</th>\n",
       "      <td id=\"T_6b1d9_row5_col0\" class=\"data row5 col0\" >Transformed data shape</td>\n",
       "      <td id=\"T_6b1d9_row5_col1\" class=\"data row5 col1\" >(79, 1)</td>\n",
       "    </tr>\n",
       "    <tr>\n",
       "      <th id=\"T_6b1d9_level0_row6\" class=\"row_heading level0 row6\" >6</th>\n",
       "      <td id=\"T_6b1d9_row6_col0\" class=\"data row6 col0\" >Transformed train set shape</td>\n",
       "      <td id=\"T_6b1d9_row6_col1\" class=\"data row6 col1\" >(78, 1)</td>\n",
       "    </tr>\n",
       "    <tr>\n",
       "      <th id=\"T_6b1d9_level0_row7\" class=\"row_heading level0 row7\" >7</th>\n",
       "      <td id=\"T_6b1d9_row7_col0\" class=\"data row7 col0\" >Transformed test set shape</td>\n",
       "      <td id=\"T_6b1d9_row7_col1\" class=\"data row7 col1\" >(1, 1)</td>\n",
       "    </tr>\n",
       "    <tr>\n",
       "      <th id=\"T_6b1d9_level0_row8\" class=\"row_heading level0 row8\" >8</th>\n",
       "      <td id=\"T_6b1d9_row8_col0\" class=\"data row8 col0\" >Rows with missing values</td>\n",
       "      <td id=\"T_6b1d9_row8_col1\" class=\"data row8 col1\" >1.3%</td>\n",
       "    </tr>\n",
       "    <tr>\n",
       "      <th id=\"T_6b1d9_level0_row9\" class=\"row_heading level0 row9\" >9</th>\n",
       "      <td id=\"T_6b1d9_row9_col0\" class=\"data row9 col0\" >Fold Generator</td>\n",
       "      <td id=\"T_6b1d9_row9_col1\" class=\"data row9 col1\" >ExpandingWindowSplitter</td>\n",
       "    </tr>\n",
       "    <tr>\n",
       "      <th id=\"T_6b1d9_level0_row10\" class=\"row_heading level0 row10\" >10</th>\n",
       "      <td id=\"T_6b1d9_row10_col0\" class=\"data row10 col0\" >Fold Number</td>\n",
       "      <td id=\"T_6b1d9_row10_col1\" class=\"data row10 col1\" >3</td>\n",
       "    </tr>\n",
       "    <tr>\n",
       "      <th id=\"T_6b1d9_level0_row11\" class=\"row_heading level0 row11\" >11</th>\n",
       "      <td id=\"T_6b1d9_row11_col0\" class=\"data row11 col0\" >Enforce Prediction Interval</td>\n",
       "      <td id=\"T_6b1d9_row11_col1\" class=\"data row11 col1\" >False</td>\n",
       "    </tr>\n",
       "    <tr>\n",
       "      <th id=\"T_6b1d9_level0_row12\" class=\"row_heading level0 row12\" >12</th>\n",
       "      <td id=\"T_6b1d9_row12_col0\" class=\"data row12 col0\" >Splits used for hyperparameters</td>\n",
       "      <td id=\"T_6b1d9_row12_col1\" class=\"data row12 col1\" >all</td>\n",
       "    </tr>\n",
       "    <tr>\n",
       "      <th id=\"T_6b1d9_level0_row13\" class=\"row_heading level0 row13\" >13</th>\n",
       "      <td id=\"T_6b1d9_row13_col0\" class=\"data row13 col0\" >User Defined Seasonal Period(s)</td>\n",
       "      <td id=\"T_6b1d9_row13_col1\" class=\"data row13 col1\" >None</td>\n",
       "    </tr>\n",
       "    <tr>\n",
       "      <th id=\"T_6b1d9_level0_row14\" class=\"row_heading level0 row14\" >14</th>\n",
       "      <td id=\"T_6b1d9_row14_col0\" class=\"data row14 col0\" >Ignore Seasonality Test</td>\n",
       "      <td id=\"T_6b1d9_row14_col1\" class=\"data row14 col1\" >False</td>\n",
       "    </tr>\n",
       "    <tr>\n",
       "      <th id=\"T_6b1d9_level0_row15\" class=\"row_heading level0 row15\" >15</th>\n",
       "      <td id=\"T_6b1d9_row15_col0\" class=\"data row15 col0\" >Seasonality Detection Algo</td>\n",
       "      <td id=\"T_6b1d9_row15_col1\" class=\"data row15 col1\" >auto</td>\n",
       "    </tr>\n",
       "    <tr>\n",
       "      <th id=\"T_6b1d9_level0_row16\" class=\"row_heading level0 row16\" >16</th>\n",
       "      <td id=\"T_6b1d9_row16_col0\" class=\"data row16 col0\" >Max Period to Consider</td>\n",
       "      <td id=\"T_6b1d9_row16_col1\" class=\"data row16 col1\" >60</td>\n",
       "    </tr>\n",
       "    <tr>\n",
       "      <th id=\"T_6b1d9_level0_row17\" class=\"row_heading level0 row17\" >17</th>\n",
       "      <td id=\"T_6b1d9_row17_col0\" class=\"data row17 col0\" >Seasonal Period(s) Tested</td>\n",
       "      <td id=\"T_6b1d9_row17_col1\" class=\"data row17 col1\" >[2]</td>\n",
       "    </tr>\n",
       "    <tr>\n",
       "      <th id=\"T_6b1d9_level0_row18\" class=\"row_heading level0 row18\" >18</th>\n",
       "      <td id=\"T_6b1d9_row18_col0\" class=\"data row18 col0\" >Significant Seasonal Period(s)</td>\n",
       "      <td id=\"T_6b1d9_row18_col1\" class=\"data row18 col1\" >[2]</td>\n",
       "    </tr>\n",
       "    <tr>\n",
       "      <th id=\"T_6b1d9_level0_row19\" class=\"row_heading level0 row19\" >19</th>\n",
       "      <td id=\"T_6b1d9_row19_col0\" class=\"data row19 col0\" >Significant Seasonal Period(s) without Harmonics</td>\n",
       "      <td id=\"T_6b1d9_row19_col1\" class=\"data row19 col1\" >[2]</td>\n",
       "    </tr>\n",
       "    <tr>\n",
       "      <th id=\"T_6b1d9_level0_row20\" class=\"row_heading level0 row20\" >20</th>\n",
       "      <td id=\"T_6b1d9_row20_col0\" class=\"data row20 col0\" >Remove Harmonics</td>\n",
       "      <td id=\"T_6b1d9_row20_col1\" class=\"data row20 col1\" >False</td>\n",
       "    </tr>\n",
       "    <tr>\n",
       "      <th id=\"T_6b1d9_level0_row21\" class=\"row_heading level0 row21\" >21</th>\n",
       "      <td id=\"T_6b1d9_row21_col0\" class=\"data row21 col0\" >Harmonics Order Method</td>\n",
       "      <td id=\"T_6b1d9_row21_col1\" class=\"data row21 col1\" >harmonic_max</td>\n",
       "    </tr>\n",
       "    <tr>\n",
       "      <th id=\"T_6b1d9_level0_row22\" class=\"row_heading level0 row22\" >22</th>\n",
       "      <td id=\"T_6b1d9_row22_col0\" class=\"data row22 col0\" >Num Seasonalities to Use</td>\n",
       "      <td id=\"T_6b1d9_row22_col1\" class=\"data row22 col1\" >1</td>\n",
       "    </tr>\n",
       "    <tr>\n",
       "      <th id=\"T_6b1d9_level0_row23\" class=\"row_heading level0 row23\" >23</th>\n",
       "      <td id=\"T_6b1d9_row23_col0\" class=\"data row23 col0\" >All Seasonalities to Use</td>\n",
       "      <td id=\"T_6b1d9_row23_col1\" class=\"data row23 col1\" >[2]</td>\n",
       "    </tr>\n",
       "    <tr>\n",
       "      <th id=\"T_6b1d9_level0_row24\" class=\"row_heading level0 row24\" >24</th>\n",
       "      <td id=\"T_6b1d9_row24_col0\" class=\"data row24 col0\" >Primary Seasonality</td>\n",
       "      <td id=\"T_6b1d9_row24_col1\" class=\"data row24 col1\" >2</td>\n",
       "    </tr>\n",
       "    <tr>\n",
       "      <th id=\"T_6b1d9_level0_row25\" class=\"row_heading level0 row25\" >25</th>\n",
       "      <td id=\"T_6b1d9_row25_col0\" class=\"data row25 col0\" >Seasonality Present</td>\n",
       "      <td id=\"T_6b1d9_row25_col1\" class=\"data row25 col1\" >True</td>\n",
       "    </tr>\n",
       "    <tr>\n",
       "      <th id=\"T_6b1d9_level0_row26\" class=\"row_heading level0 row26\" >26</th>\n",
       "      <td id=\"T_6b1d9_row26_col0\" class=\"data row26 col0\" >Seasonality Type</td>\n",
       "      <td id=\"T_6b1d9_row26_col1\" class=\"data row26 col1\" >add</td>\n",
       "    </tr>\n",
       "    <tr>\n",
       "      <th id=\"T_6b1d9_level0_row27\" class=\"row_heading level0 row27\" >27</th>\n",
       "      <td id=\"T_6b1d9_row27_col0\" class=\"data row27 col0\" >Target Strictly Positive</td>\n",
       "      <td id=\"T_6b1d9_row27_col1\" class=\"data row27 col1\" >False</td>\n",
       "    </tr>\n",
       "    <tr>\n",
       "      <th id=\"T_6b1d9_level0_row28\" class=\"row_heading level0 row28\" >28</th>\n",
       "      <td id=\"T_6b1d9_row28_col0\" class=\"data row28 col0\" >Target White Noise</td>\n",
       "      <td id=\"T_6b1d9_row28_col1\" class=\"data row28 col1\" >No</td>\n",
       "    </tr>\n",
       "    <tr>\n",
       "      <th id=\"T_6b1d9_level0_row29\" class=\"row_heading level0 row29\" >29</th>\n",
       "      <td id=\"T_6b1d9_row29_col0\" class=\"data row29 col0\" >Recommended d</td>\n",
       "      <td id=\"T_6b1d9_row29_col1\" class=\"data row29 col1\" >0</td>\n",
       "    </tr>\n",
       "    <tr>\n",
       "      <th id=\"T_6b1d9_level0_row30\" class=\"row_heading level0 row30\" >30</th>\n",
       "      <td id=\"T_6b1d9_row30_col0\" class=\"data row30 col0\" >Recommended Seasonal D</td>\n",
       "      <td id=\"T_6b1d9_row30_col1\" class=\"data row30 col1\" >0</td>\n",
       "    </tr>\n",
       "    <tr>\n",
       "      <th id=\"T_6b1d9_level0_row31\" class=\"row_heading level0 row31\" >31</th>\n",
       "      <td id=\"T_6b1d9_row31_col0\" class=\"data row31 col0\" >Preprocess</td>\n",
       "      <td id=\"T_6b1d9_row31_col1\" class=\"data row31 col1\" >True</td>\n",
       "    </tr>\n",
       "    <tr>\n",
       "      <th id=\"T_6b1d9_level0_row32\" class=\"row_heading level0 row32\" >32</th>\n",
       "      <td id=\"T_6b1d9_row32_col0\" class=\"data row32 col0\" >Numerical Imputation (Target)</td>\n",
       "      <td id=\"T_6b1d9_row32_col1\" class=\"data row32 col1\" >mean</td>\n",
       "    </tr>\n",
       "    <tr>\n",
       "      <th id=\"T_6b1d9_level0_row33\" class=\"row_heading level0 row33\" >33</th>\n",
       "      <td id=\"T_6b1d9_row33_col0\" class=\"data row33 col0\" >Transformation (Target)</td>\n",
       "      <td id=\"T_6b1d9_row33_col1\" class=\"data row33 col1\" >None</td>\n",
       "    </tr>\n",
       "    <tr>\n",
       "      <th id=\"T_6b1d9_level0_row34\" class=\"row_heading level0 row34\" >34</th>\n",
       "      <td id=\"T_6b1d9_row34_col0\" class=\"data row34 col0\" >Scaling (Target)</td>\n",
       "      <td id=\"T_6b1d9_row34_col1\" class=\"data row34 col1\" >None</td>\n",
       "    </tr>\n",
       "    <tr>\n",
       "      <th id=\"T_6b1d9_level0_row35\" class=\"row_heading level0 row35\" >35</th>\n",
       "      <td id=\"T_6b1d9_row35_col0\" class=\"data row35 col0\" >Feature Engineering (Target) - Reduced Regression</td>\n",
       "      <td id=\"T_6b1d9_row35_col1\" class=\"data row35 col1\" >False</td>\n",
       "    </tr>\n",
       "    <tr>\n",
       "      <th id=\"T_6b1d9_level0_row36\" class=\"row_heading level0 row36\" >36</th>\n",
       "      <td id=\"T_6b1d9_row36_col0\" class=\"data row36 col0\" >CPU Jobs</td>\n",
       "      <td id=\"T_6b1d9_row36_col1\" class=\"data row36 col1\" >-1</td>\n",
       "    </tr>\n",
       "    <tr>\n",
       "      <th id=\"T_6b1d9_level0_row37\" class=\"row_heading level0 row37\" >37</th>\n",
       "      <td id=\"T_6b1d9_row37_col0\" class=\"data row37 col0\" >Use GPU</td>\n",
       "      <td id=\"T_6b1d9_row37_col1\" class=\"data row37 col1\" >False</td>\n",
       "    </tr>\n",
       "    <tr>\n",
       "      <th id=\"T_6b1d9_level0_row38\" class=\"row_heading level0 row38\" >38</th>\n",
       "      <td id=\"T_6b1d9_row38_col0\" class=\"data row38 col0\" >Log Experiment</td>\n",
       "      <td id=\"T_6b1d9_row38_col1\" class=\"data row38 col1\" >False</td>\n",
       "    </tr>\n",
       "    <tr>\n",
       "      <th id=\"T_6b1d9_level0_row39\" class=\"row_heading level0 row39\" >39</th>\n",
       "      <td id=\"T_6b1d9_row39_col0\" class=\"data row39 col0\" >Experiment Name</td>\n",
       "      <td id=\"T_6b1d9_row39_col1\" class=\"data row39 col1\" >ts-default-name</td>\n",
       "    </tr>\n",
       "    <tr>\n",
       "      <th id=\"T_6b1d9_level0_row40\" class=\"row_heading level0 row40\" >40</th>\n",
       "      <td id=\"T_6b1d9_row40_col0\" class=\"data row40 col0\" >USI</td>\n",
       "      <td id=\"T_6b1d9_row40_col1\" class=\"data row40 col1\" >54eb</td>\n",
       "    </tr>\n",
       "  </tbody>\n",
       "</table>\n"
      ],
      "text/plain": [
       "<pandas.io.formats.style.Styler at 0x224d080dfa0>"
      ]
     },
     "metadata": {},
     "output_type": "display_data"
    },
    {
     "data": {
      "text/html": [],
      "text/plain": [
       "<IPython.core.display.HTML object>"
      ]
     },
     "metadata": {},
     "output_type": "display_data"
    },
    {
     "data": {
      "text/html": [
       "<style type=\"text/css\">\n",
       "#T_89e08 th {\n",
       "  text-align: left;\n",
       "}\n",
       "#T_89e08_row0_col0, #T_89e08_row1_col0, #T_89e08_row1_col1, #T_89e08_row1_col2, #T_89e08_row1_col3, #T_89e08_row1_col4, #T_89e08_row1_col5, #T_89e08_row1_col6, #T_89e08_row2_col0, #T_89e08_row2_col1, #T_89e08_row2_col2, #T_89e08_row2_col3, #T_89e08_row2_col4, #T_89e08_row2_col5, #T_89e08_row2_col6, #T_89e08_row3_col0, #T_89e08_row3_col1, #T_89e08_row3_col2, #T_89e08_row3_col3, #T_89e08_row3_col4, #T_89e08_row3_col5, #T_89e08_row3_col6, #T_89e08_row4_col0, #T_89e08_row4_col1, #T_89e08_row4_col2, #T_89e08_row4_col3, #T_89e08_row4_col4, #T_89e08_row4_col5, #T_89e08_row4_col6, #T_89e08_row5_col0, #T_89e08_row5_col1, #T_89e08_row5_col2, #T_89e08_row5_col3, #T_89e08_row5_col4, #T_89e08_row5_col5, #T_89e08_row5_col6, #T_89e08_row6_col0, #T_89e08_row6_col1, #T_89e08_row6_col2, #T_89e08_row6_col3, #T_89e08_row6_col4, #T_89e08_row6_col5, #T_89e08_row6_col6, #T_89e08_row7_col0, #T_89e08_row7_col1, #T_89e08_row7_col2, #T_89e08_row7_col3, #T_89e08_row7_col4, #T_89e08_row7_col5, #T_89e08_row7_col6, #T_89e08_row8_col0, #T_89e08_row8_col1, #T_89e08_row8_col2, #T_89e08_row8_col3, #T_89e08_row8_col4, #T_89e08_row8_col5, #T_89e08_row8_col6, #T_89e08_row9_col0, #T_89e08_row9_col1, #T_89e08_row9_col2, #T_89e08_row9_col3, #T_89e08_row9_col4, #T_89e08_row9_col5, #T_89e08_row9_col6, #T_89e08_row10_col0, #T_89e08_row10_col1, #T_89e08_row10_col2, #T_89e08_row10_col3, #T_89e08_row10_col4, #T_89e08_row10_col5, #T_89e08_row10_col6, #T_89e08_row11_col0, #T_89e08_row11_col1, #T_89e08_row11_col2, #T_89e08_row11_col3, #T_89e08_row11_col4, #T_89e08_row11_col5, #T_89e08_row11_col6, #T_89e08_row12_col0, #T_89e08_row12_col1, #T_89e08_row12_col2, #T_89e08_row12_col3, #T_89e08_row12_col4, #T_89e08_row12_col5, #T_89e08_row12_col6, #T_89e08_row13_col0, #T_89e08_row13_col1, #T_89e08_row13_col2, #T_89e08_row13_col3, #T_89e08_row13_col4, #T_89e08_row13_col5, #T_89e08_row13_col6, #T_89e08_row14_col0, #T_89e08_row14_col1, #T_89e08_row14_col2, #T_89e08_row14_col3, #T_89e08_row14_col4, #T_89e08_row14_col5, #T_89e08_row14_col6, #T_89e08_row15_col0, #T_89e08_row15_col1, #T_89e08_row15_col2, #T_89e08_row15_col3, #T_89e08_row15_col4, #T_89e08_row15_col5, #T_89e08_row15_col6, #T_89e08_row16_col0, #T_89e08_row16_col1, #T_89e08_row16_col2, #T_89e08_row16_col3, #T_89e08_row16_col4, #T_89e08_row16_col5, #T_89e08_row16_col6, #T_89e08_row17_col0, #T_89e08_row17_col1, #T_89e08_row17_col2, #T_89e08_row17_col3, #T_89e08_row17_col4, #T_89e08_row17_col5, #T_89e08_row17_col6, #T_89e08_row18_col0, #T_89e08_row18_col1, #T_89e08_row18_col2, #T_89e08_row18_col3, #T_89e08_row18_col4, #T_89e08_row18_col5, #T_89e08_row18_col6, #T_89e08_row19_col0, #T_89e08_row19_col1, #T_89e08_row19_col2, #T_89e08_row19_col3, #T_89e08_row19_col4, #T_89e08_row19_col5, #T_89e08_row19_col6, #T_89e08_row20_col0, #T_89e08_row20_col1, #T_89e08_row20_col2, #T_89e08_row20_col3, #T_89e08_row20_col4, #T_89e08_row20_col5, #T_89e08_row20_col6, #T_89e08_row21_col0, #T_89e08_row21_col1, #T_89e08_row21_col2, #T_89e08_row21_col3, #T_89e08_row21_col4, #T_89e08_row21_col5, #T_89e08_row21_col6, #T_89e08_row22_col0, #T_89e08_row22_col1, #T_89e08_row22_col2, #T_89e08_row22_col3, #T_89e08_row22_col4, #T_89e08_row22_col5, #T_89e08_row22_col6 {\n",
       "  text-align: left;\n",
       "}\n",
       "#T_89e08_row0_col1, #T_89e08_row0_col2, #T_89e08_row0_col3, #T_89e08_row0_col4, #T_89e08_row0_col5, #T_89e08_row0_col6 {\n",
       "  text-align: left;\n",
       "  background-color: yellow;\n",
       "}\n",
       "#T_89e08_row0_col7, #T_89e08_row1_col7, #T_89e08_row2_col7, #T_89e08_row3_col7, #T_89e08_row4_col7, #T_89e08_row5_col7, #T_89e08_row6_col7, #T_89e08_row7_col7, #T_89e08_row8_col7, #T_89e08_row9_col7, #T_89e08_row10_col7, #T_89e08_row11_col7, #T_89e08_row12_col7, #T_89e08_row13_col7, #T_89e08_row14_col7, #T_89e08_row15_col7, #T_89e08_row16_col7, #T_89e08_row17_col7, #T_89e08_row19_col7, #T_89e08_row20_col7, #T_89e08_row21_col7, #T_89e08_row22_col7 {\n",
       "  text-align: left;\n",
       "  background-color: lightgrey;\n",
       "}\n",
       "#T_89e08_row18_col7 {\n",
       "  text-align: left;\n",
       "  background-color: yellow;\n",
       "  background-color: lightgrey;\n",
       "}\n",
       "</style>\n",
       "<table id=\"T_89e08\">\n",
       "  <thead>\n",
       "    <tr>\n",
       "      <th class=\"blank level0\" >&nbsp;</th>\n",
       "      <th id=\"T_89e08_level0_col0\" class=\"col_heading level0 col0\" >Model</th>\n",
       "      <th id=\"T_89e08_level0_col1\" class=\"col_heading level0 col1\" >MASE</th>\n",
       "      <th id=\"T_89e08_level0_col2\" class=\"col_heading level0 col2\" >RMSSE</th>\n",
       "      <th id=\"T_89e08_level0_col3\" class=\"col_heading level0 col3\" >MAE</th>\n",
       "      <th id=\"T_89e08_level0_col4\" class=\"col_heading level0 col4\" >RMSE</th>\n",
       "      <th id=\"T_89e08_level0_col5\" class=\"col_heading level0 col5\" >MAPE</th>\n",
       "      <th id=\"T_89e08_level0_col6\" class=\"col_heading level0 col6\" >SMAPE</th>\n",
       "      <th id=\"T_89e08_level0_col7\" class=\"col_heading level0 col7\" >TT (Sec)</th>\n",
       "    </tr>\n",
       "  </thead>\n",
       "  <tbody>\n",
       "    <tr>\n",
       "      <th id=\"T_89e08_level0_row0\" class=\"row_heading level0 row0\" >stlf</th>\n",
       "      <td id=\"T_89e08_row0_col0\" class=\"data row0 col0\" >STLF</td>\n",
       "      <td id=\"T_89e08_row0_col1\" class=\"data row0 col1\" >0.1091</td>\n",
       "      <td id=\"T_89e08_row0_col2\" class=\"data row0 col2\" >0.0773</td>\n",
       "      <td id=\"T_89e08_row0_col3\" class=\"data row0 col3\" >22562.2528</td>\n",
       "      <td id=\"T_89e08_row0_col4\" class=\"data row0 col4\" >22562.2528</td>\n",
       "      <td id=\"T_89e08_row0_col5\" class=\"data row0 col5\" >0.8712</td>\n",
       "      <td id=\"T_89e08_row0_col6\" class=\"data row0 col6\" >0.5838</td>\n",
       "      <td id=\"T_89e08_row0_col7\" class=\"data row0 col7\" >0.0433</td>\n",
       "    </tr>\n",
       "    <tr>\n",
       "      <th id=\"T_89e08_level0_row1\" class=\"row_heading level0 row1\" >omp_cds_dt</th>\n",
       "      <td id=\"T_89e08_row1_col0\" class=\"data row1 col0\" >Orthogonal Matching Pursuit w/ Cond. Deseasonalize & Detrending</td>\n",
       "      <td id=\"T_89e08_row1_col1\" class=\"data row1 col1\" >0.2845</td>\n",
       "      <td id=\"T_89e08_row1_col2\" class=\"data row1 col2\" >0.2018</td>\n",
       "      <td id=\"T_89e08_row1_col3\" class=\"data row1 col3\" >58964.0662</td>\n",
       "      <td id=\"T_89e08_row1_col4\" class=\"data row1 col4\" >58964.0662</td>\n",
       "      <td id=\"T_89e08_row1_col5\" class=\"data row1 col5\" >1.9238</td>\n",
       "      <td id=\"T_89e08_row1_col6\" class=\"data row1 col6\" >1.2642</td>\n",
       "      <td id=\"T_89e08_row1_col7\" class=\"data row1 col7\" >0.0533</td>\n",
       "    </tr>\n",
       "    <tr>\n",
       "      <th id=\"T_89e08_level0_row2\" class=\"row_heading level0 row2\" >arima</th>\n",
       "      <td id=\"T_89e08_row2_col0\" class=\"data row2 col0\" >ARIMA</td>\n",
       "      <td id=\"T_89e08_row2_col1\" class=\"data row2 col1\" >0.2542</td>\n",
       "      <td id=\"T_89e08_row2_col2\" class=\"data row2 col2\" >0.1804</td>\n",
       "      <td id=\"T_89e08_row2_col3\" class=\"data row2 col3\" >52865.0120</td>\n",
       "      <td id=\"T_89e08_row2_col4\" class=\"data row2 col4\" >52865.0120</td>\n",
       "      <td id=\"T_89e08_row2_col5\" class=\"data row2 col5\" >2.2402</td>\n",
       "      <td id=\"T_89e08_row2_col6\" class=\"data row2 col6\" >0.8344</td>\n",
       "      <td id=\"T_89e08_row2_col7\" class=\"data row2 col7\" >0.0367</td>\n",
       "    </tr>\n",
       "    <tr>\n",
       "      <th id=\"T_89e08_level0_row3\" class=\"row_heading level0 row3\" >knn_cds_dt</th>\n",
       "      <td id=\"T_89e08_row3_col0\" class=\"data row3 col0\" >K Neighbors w/ Cond. Deseasonalize & Detrending</td>\n",
       "      <td id=\"T_89e08_row3_col1\" class=\"data row3 col1\" >0.2001</td>\n",
       "      <td id=\"T_89e08_row3_col2\" class=\"data row3 col2\" >0.1419</td>\n",
       "      <td id=\"T_89e08_row3_col3\" class=\"data row3 col3\" >41386.8310</td>\n",
       "      <td id=\"T_89e08_row3_col4\" class=\"data row3 col4\" >41386.8310</td>\n",
       "      <td id=\"T_89e08_row3_col5\" class=\"data row3 col5\" >2.5563</td>\n",
       "      <td id=\"T_89e08_row3_col6\" class=\"data row3 col6\" >0.9964</td>\n",
       "      <td id=\"T_89e08_row3_col7\" class=\"data row3 col7\" >0.0533</td>\n",
       "    </tr>\n",
       "    <tr>\n",
       "      <th id=\"T_89e08_level0_row4\" class=\"row_heading level0 row4\" >snaive</th>\n",
       "      <td id=\"T_89e08_row4_col0\" class=\"data row4 col0\" >Seasonal Naive Forecaster</td>\n",
       "      <td id=\"T_89e08_row4_col1\" class=\"data row4 col1\" >0.2749</td>\n",
       "      <td id=\"T_89e08_row4_col2\" class=\"data row4 col2\" >0.1950</td>\n",
       "      <td id=\"T_89e08_row4_col3\" class=\"data row4 col3\" >57086.1356</td>\n",
       "      <td id=\"T_89e08_row4_col4\" class=\"data row4 col4\" >57086.1356</td>\n",
       "      <td id=\"T_89e08_row4_col5\" class=\"data row4 col5\" >3.2121</td>\n",
       "      <td id=\"T_89e08_row4_col6\" class=\"data row4 col6\" >1.2295</td>\n",
       "      <td id=\"T_89e08_row4_col7\" class=\"data row4 col7\" >0.0467</td>\n",
       "    </tr>\n",
       "    <tr>\n",
       "      <th id=\"T_89e08_level0_row5\" class=\"row_heading level0 row5\" >br_cds_dt</th>\n",
       "      <td id=\"T_89e08_row5_col0\" class=\"data row5 col0\" >Bayesian Ridge w/ Cond. Deseasonalize & Detrending</td>\n",
       "      <td id=\"T_89e08_row5_col1\" class=\"data row5 col1\" >0.2898</td>\n",
       "      <td id=\"T_89e08_row5_col2\" class=\"data row5 col2\" >0.2054</td>\n",
       "      <td id=\"T_89e08_row5_col3\" class=\"data row5 col3\" >59906.6390</td>\n",
       "      <td id=\"T_89e08_row5_col4\" class=\"data row5 col4\" >59906.6390</td>\n",
       "      <td id=\"T_89e08_row5_col5\" class=\"data row5 col5\" >3.2221</td>\n",
       "      <td id=\"T_89e08_row5_col6\" class=\"data row5 col6\" >1.2466</td>\n",
       "      <td id=\"T_89e08_row5_col7\" class=\"data row5 col7\" >0.0567</td>\n",
       "    </tr>\n",
       "    <tr>\n",
       "      <th id=\"T_89e08_level0_row6\" class=\"row_heading level0 row6\" >huber_cds_dt</th>\n",
       "      <td id=\"T_89e08_row6_col0\" class=\"data row6 col0\" >Huber w/ Cond. Deseasonalize & Detrending</td>\n",
       "      <td id=\"T_89e08_row6_col1\" class=\"data row6 col1\" >0.2954</td>\n",
       "      <td id=\"T_89e08_row6_col2\" class=\"data row6 col2\" >0.2094</td>\n",
       "      <td id=\"T_89e08_row6_col3\" class=\"data row6 col3\" >61122.6904</td>\n",
       "      <td id=\"T_89e08_row6_col4\" class=\"data row6 col4\" >61122.6904</td>\n",
       "      <td id=\"T_89e08_row6_col5\" class=\"data row6 col5\" >3.4051</td>\n",
       "      <td id=\"T_89e08_row6_col6\" class=\"data row6 col6\" >1.4904</td>\n",
       "      <td id=\"T_89e08_row6_col7\" class=\"data row6 col7\" >0.0567</td>\n",
       "    </tr>\n",
       "    <tr>\n",
       "      <th id=\"T_89e08_level0_row7\" class=\"row_heading level0 row7\" >lasso_cds_dt</th>\n",
       "      <td id=\"T_89e08_row7_col0\" class=\"data row7 col0\" >Lasso w/ Cond. Deseasonalize & Detrending</td>\n",
       "      <td id=\"T_89e08_row7_col1\" class=\"data row7 col1\" >0.2900</td>\n",
       "      <td id=\"T_89e08_row7_col2\" class=\"data row7 col2\" >0.2056</td>\n",
       "      <td id=\"T_89e08_row7_col3\" class=\"data row7 col3\" >59938.4322</td>\n",
       "      <td id=\"T_89e08_row7_col4\" class=\"data row7 col4\" >59938.4322</td>\n",
       "      <td id=\"T_89e08_row7_col5\" class=\"data row7 col5\" >3.4694</td>\n",
       "      <td id=\"T_89e08_row7_col6\" class=\"data row7 col6\" >1.3564</td>\n",
       "      <td id=\"T_89e08_row7_col7\" class=\"data row7 col7\" >0.0533</td>\n",
       "    </tr>\n",
       "    <tr>\n",
       "      <th id=\"T_89e08_level0_row8\" class=\"row_heading level0 row8\" >ridge_cds_dt</th>\n",
       "      <td id=\"T_89e08_row8_col0\" class=\"data row8 col0\" >Ridge w/ Cond. Deseasonalize & Detrending</td>\n",
       "      <td id=\"T_89e08_row8_col1\" class=\"data row8 col1\" >0.2900</td>\n",
       "      <td id=\"T_89e08_row8_col2\" class=\"data row8 col2\" >0.2056</td>\n",
       "      <td id=\"T_89e08_row8_col3\" class=\"data row8 col3\" >59938.4322</td>\n",
       "      <td id=\"T_89e08_row8_col4\" class=\"data row8 col4\" >59938.4322</td>\n",
       "      <td id=\"T_89e08_row8_col5\" class=\"data row8 col5\" >3.4694</td>\n",
       "      <td id=\"T_89e08_row8_col6\" class=\"data row8 col6\" >1.3564</td>\n",
       "      <td id=\"T_89e08_row8_col7\" class=\"data row8 col7\" >0.0433</td>\n",
       "    </tr>\n",
       "    <tr>\n",
       "      <th id=\"T_89e08_level0_row9\" class=\"row_heading level0 row9\" >en_cds_dt</th>\n",
       "      <td id=\"T_89e08_row9_col0\" class=\"data row9 col0\" >Elastic Net w/ Cond. Deseasonalize & Detrending</td>\n",
       "      <td id=\"T_89e08_row9_col1\" class=\"data row9 col1\" >0.2900</td>\n",
       "      <td id=\"T_89e08_row9_col2\" class=\"data row9 col2\" >0.2056</td>\n",
       "      <td id=\"T_89e08_row9_col3\" class=\"data row9 col3\" >59938.4322</td>\n",
       "      <td id=\"T_89e08_row9_col4\" class=\"data row9 col4\" >59938.4322</td>\n",
       "      <td id=\"T_89e08_row9_col5\" class=\"data row9 col5\" >3.4694</td>\n",
       "      <td id=\"T_89e08_row9_col6\" class=\"data row9 col6\" >1.3564</td>\n",
       "      <td id=\"T_89e08_row9_col7\" class=\"data row9 col7\" >0.0533</td>\n",
       "    </tr>\n",
       "    <tr>\n",
       "      <th id=\"T_89e08_level0_row10\" class=\"row_heading level0 row10\" >llar_cds_dt</th>\n",
       "      <td id=\"T_89e08_row10_col0\" class=\"data row10 col0\" >Lasso Least Angular Regressor w/ Cond. Deseasonalize & Detrending</td>\n",
       "      <td id=\"T_89e08_row10_col1\" class=\"data row10 col1\" >0.2900</td>\n",
       "      <td id=\"T_89e08_row10_col2\" class=\"data row10 col2\" >0.2056</td>\n",
       "      <td id=\"T_89e08_row10_col3\" class=\"data row10 col3\" >59938.4322</td>\n",
       "      <td id=\"T_89e08_row10_col4\" class=\"data row10 col4\" >59938.4322</td>\n",
       "      <td id=\"T_89e08_row10_col5\" class=\"data row10 col5\" >3.4694</td>\n",
       "      <td id=\"T_89e08_row10_col6\" class=\"data row10 col6\" >1.3564</td>\n",
       "      <td id=\"T_89e08_row10_col7\" class=\"data row10 col7\" >0.0500</td>\n",
       "    </tr>\n",
       "    <tr>\n",
       "      <th id=\"T_89e08_level0_row11\" class=\"row_heading level0 row11\" >lr_cds_dt</th>\n",
       "      <td id=\"T_89e08_row11_col0\" class=\"data row11 col0\" >Linear w/ Cond. Deseasonalize & Detrending</td>\n",
       "      <td id=\"T_89e08_row11_col1\" class=\"data row11 col1\" >0.2900</td>\n",
       "      <td id=\"T_89e08_row11_col2\" class=\"data row11 col2\" >0.2056</td>\n",
       "      <td id=\"T_89e08_row11_col3\" class=\"data row11 col3\" >59938.4322</td>\n",
       "      <td id=\"T_89e08_row11_col4\" class=\"data row11 col4\" >59938.4322</td>\n",
       "      <td id=\"T_89e08_row11_col5\" class=\"data row11 col5\" >3.4694</td>\n",
       "      <td id=\"T_89e08_row11_col6\" class=\"data row11 col6\" >1.3564</td>\n",
       "      <td id=\"T_89e08_row11_col7\" class=\"data row11 col7\" >0.0700</td>\n",
       "    </tr>\n",
       "    <tr>\n",
       "      <th id=\"T_89e08_level0_row12\" class=\"row_heading level0 row12\" >ets</th>\n",
       "      <td id=\"T_89e08_row12_col0\" class=\"data row12 col0\" >ETS</td>\n",
       "      <td id=\"T_89e08_row12_col1\" class=\"data row12 col1\" >0.2609</td>\n",
       "      <td id=\"T_89e08_row12_col2\" class=\"data row12 col2\" >0.1849</td>\n",
       "      <td id=\"T_89e08_row12_col3\" class=\"data row12 col3\" >54070.2863</td>\n",
       "      <td id=\"T_89e08_row12_col4\" class=\"data row12 col4\" >54070.2863</td>\n",
       "      <td id=\"T_89e08_row12_col5\" class=\"data row12 col5\" >4.0594</td>\n",
       "      <td id=\"T_89e08_row12_col6\" class=\"data row12 col6\" >1.5891</td>\n",
       "      <td id=\"T_89e08_row12_col7\" class=\"data row12 col7\" >0.0367</td>\n",
       "    </tr>\n",
       "    <tr>\n",
       "      <th id=\"T_89e08_level0_row13\" class=\"row_heading level0 row13\" >lightgbm_cds_dt</th>\n",
       "      <td id=\"T_89e08_row13_col0\" class=\"data row13 col0\" >Light Gradient Boosting w/ Cond. Deseasonalize & Detrending</td>\n",
       "      <td id=\"T_89e08_row13_col1\" class=\"data row13 col1\" >0.1778</td>\n",
       "      <td id=\"T_89e08_row13_col2\" class=\"data row13 col2\" >0.1259</td>\n",
       "      <td id=\"T_89e08_row13_col3\" class=\"data row13 col3\" >36721.4095</td>\n",
       "      <td id=\"T_89e08_row13_col4\" class=\"data row13 col4\" >36721.4095</td>\n",
       "      <td id=\"T_89e08_row13_col5\" class=\"data row13 col5\" >4.0999</td>\n",
       "      <td id=\"T_89e08_row13_col6\" class=\"data row13 col6\" >1.2839</td>\n",
       "      <td id=\"T_89e08_row13_col7\" class=\"data row13 col7\" >0.0800</td>\n",
       "    </tr>\n",
       "    <tr>\n",
       "      <th id=\"T_89e08_level0_row14\" class=\"row_heading level0 row14\" >ada_cds_dt</th>\n",
       "      <td id=\"T_89e08_row14_col0\" class=\"data row14 col0\" >AdaBoost w/ Cond. Deseasonalize & Detrending</td>\n",
       "      <td id=\"T_89e08_row14_col1\" class=\"data row14 col1\" >0.3302</td>\n",
       "      <td id=\"T_89e08_row14_col2\" class=\"data row14 col2\" >0.2340</td>\n",
       "      <td id=\"T_89e08_row14_col3\" class=\"data row14 col3\" >68371.8428</td>\n",
       "      <td id=\"T_89e08_row14_col4\" class=\"data row14 col4\" >68371.8428</td>\n",
       "      <td id=\"T_89e08_row14_col5\" class=\"data row14 col5\" >4.2833</td>\n",
       "      <td id=\"T_89e08_row14_col6\" class=\"data row14 col6\" >1.4752</td>\n",
       "      <td id=\"T_89e08_row14_col7\" class=\"data row14 col7\" >0.0700</td>\n",
       "    </tr>\n",
       "    <tr>\n",
       "      <th id=\"T_89e08_level0_row15\" class=\"row_heading level0 row15\" >exp_smooth</th>\n",
       "      <td id=\"T_89e08_row15_col0\" class=\"data row15 col0\" >Exponential Smoothing</td>\n",
       "      <td id=\"T_89e08_row15_col1\" class=\"data row15 col1\" >0.2475</td>\n",
       "      <td id=\"T_89e08_row15_col2\" class=\"data row15 col2\" >0.1753</td>\n",
       "      <td id=\"T_89e08_row15_col3\" class=\"data row15 col3\" >51231.3800</td>\n",
       "      <td id=\"T_89e08_row15_col4\" class=\"data row15 col4\" >51231.3800</td>\n",
       "      <td id=\"T_89e08_row15_col5\" class=\"data row15 col5\" >4.4977</td>\n",
       "      <td id=\"T_89e08_row15_col6\" class=\"data row15 col6\" >1.4921</td>\n",
       "      <td id=\"T_89e08_row15_col7\" class=\"data row15 col7\" >0.0600</td>\n",
       "    </tr>\n",
       "    <tr>\n",
       "      <th id=\"T_89e08_level0_row16\" class=\"row_heading level0 row16\" >theta</th>\n",
       "      <td id=\"T_89e08_row16_col0\" class=\"data row16 col0\" >Theta Forecaster</td>\n",
       "      <td id=\"T_89e08_row16_col1\" class=\"data row16 col1\" >0.2761</td>\n",
       "      <td id=\"T_89e08_row16_col2\" class=\"data row16 col2\" >0.1955</td>\n",
       "      <td id=\"T_89e08_row16_col3\" class=\"data row16 col3\" >57022.5417</td>\n",
       "      <td id=\"T_89e08_row16_col4\" class=\"data row16 col4\" >57022.5417</td>\n",
       "      <td id=\"T_89e08_row16_col5\" class=\"data row16 col5\" >6.3240</td>\n",
       "      <td id=\"T_89e08_row16_col6\" class=\"data row16 col6\" >1.1318</td>\n",
       "      <td id=\"T_89e08_row16_col7\" class=\"data row16 col7\" >0.0300</td>\n",
       "    </tr>\n",
       "    <tr>\n",
       "      <th id=\"T_89e08_level0_row17\" class=\"row_heading level0 row17\" >gbr_cds_dt</th>\n",
       "      <td id=\"T_89e08_row17_col0\" class=\"data row17 col0\" >Gradient Boosting w/ Cond. Deseasonalize & Detrending</td>\n",
       "      <td id=\"T_89e08_row17_col1\" class=\"data row17 col1\" >0.5666</td>\n",
       "      <td id=\"T_89e08_row17_col2\" class=\"data row17 col2\" >0.4017</td>\n",
       "      <td id=\"T_89e08_row17_col3\" class=\"data row17 col3\" >117636.7814</td>\n",
       "      <td id=\"T_89e08_row17_col4\" class=\"data row17 col4\" >117636.7814</td>\n",
       "      <td id=\"T_89e08_row17_col5\" class=\"data row17 col5\" >8.4432</td>\n",
       "      <td id=\"T_89e08_row17_col6\" class=\"data row17 col6\" >1.2997</td>\n",
       "      <td id=\"T_89e08_row17_col7\" class=\"data row17 col7\" >0.0567</td>\n",
       "    </tr>\n",
       "    <tr>\n",
       "      <th id=\"T_89e08_level0_row18\" class=\"row_heading level0 row18\" >polytrend</th>\n",
       "      <td id=\"T_89e08_row18_col0\" class=\"data row18 col0\" >Polynomial Trend Forecaster</td>\n",
       "      <td id=\"T_89e08_row18_col1\" class=\"data row18 col1\" >0.4002</td>\n",
       "      <td id=\"T_89e08_row18_col2\" class=\"data row18 col2\" >0.2834</td>\n",
       "      <td id=\"T_89e08_row18_col3\" class=\"data row18 col3\" >82666.7287</td>\n",
       "      <td id=\"T_89e08_row18_col4\" class=\"data row18 col4\" >82666.7287</td>\n",
       "      <td id=\"T_89e08_row18_col5\" class=\"data row18 col5\" >8.5827</td>\n",
       "      <td id=\"T_89e08_row18_col6\" class=\"data row18 col6\" >1.2809</td>\n",
       "      <td id=\"T_89e08_row18_col7\" class=\"data row18 col7\" >0.0200</td>\n",
       "    </tr>\n",
       "    <tr>\n",
       "      <th id=\"T_89e08_level0_row19\" class=\"row_heading level0 row19\" >rf_cds_dt</th>\n",
       "      <td id=\"T_89e08_row19_col0\" class=\"data row19 col0\" >Random Forest w/ Cond. Deseasonalize & Detrending</td>\n",
       "      <td id=\"T_89e08_row19_col1\" class=\"data row19 col1\" >0.5961</td>\n",
       "      <td id=\"T_89e08_row19_col2\" class=\"data row19 col2\" >0.4226</td>\n",
       "      <td id=\"T_89e08_row19_col3\" class=\"data row19 col3\" >123653.4402</td>\n",
       "      <td id=\"T_89e08_row19_col4\" class=\"data row19 col4\" >123653.4402</td>\n",
       "      <td id=\"T_89e08_row19_col5\" class=\"data row19 col5\" >8.7428</td>\n",
       "      <td id=\"T_89e08_row19_col6\" class=\"data row19 col6\" >1.4407</td>\n",
       "      <td id=\"T_89e08_row19_col7\" class=\"data row19 col7\" >0.1067</td>\n",
       "    </tr>\n",
       "    <tr>\n",
       "      <th id=\"T_89e08_level0_row20\" class=\"row_heading level0 row20\" >et_cds_dt</th>\n",
       "      <td id=\"T_89e08_row20_col0\" class=\"data row20 col0\" >Extra Trees w/ Cond. Deseasonalize & Detrending</td>\n",
       "      <td id=\"T_89e08_row20_col1\" class=\"data row20 col1\" >0.7984</td>\n",
       "      <td id=\"T_89e08_row20_col2\" class=\"data row20 col2\" >0.5662</td>\n",
       "      <td id=\"T_89e08_row20_col3\" class=\"data row20 col3\" >165729.7366</td>\n",
       "      <td id=\"T_89e08_row20_col4\" class=\"data row20 col4\" >165729.7366</td>\n",
       "      <td id=\"T_89e08_row20_col5\" class=\"data row20 col5\" >9.4200</td>\n",
       "      <td id=\"T_89e08_row20_col6\" class=\"data row20 col6\" >1.5538</td>\n",
       "      <td id=\"T_89e08_row20_col7\" class=\"data row20 col7\" >0.0867</td>\n",
       "    </tr>\n",
       "    <tr>\n",
       "      <th id=\"T_89e08_level0_row21\" class=\"row_heading level0 row21\" >auto_arima</th>\n",
       "      <td id=\"T_89e08_row21_col0\" class=\"data row21 col0\" >Auto ARIMA</td>\n",
       "      <td id=\"T_89e08_row21_col1\" class=\"data row21 col1\" >0.5300</td>\n",
       "      <td id=\"T_89e08_row21_col2\" class=\"data row21 col2\" >0.3753</td>\n",
       "      <td id=\"T_89e08_row21_col3\" class=\"data row21 col3\" >109368.1052</td>\n",
       "      <td id=\"T_89e08_row21_col4\" class=\"data row21 col4\" >109368.1052</td>\n",
       "      <td id=\"T_89e08_row21_col5\" class=\"data row21 col5\" >11.7747</td>\n",
       "      <td id=\"T_89e08_row21_col6\" class=\"data row21 col6\" >1.3790</td>\n",
       "      <td id=\"T_89e08_row21_col7\" class=\"data row21 col7\" >0.1800</td>\n",
       "    </tr>\n",
       "    <tr>\n",
       "      <th id=\"T_89e08_level0_row22\" class=\"row_heading level0 row22\" >dt_cds_dt</th>\n",
       "      <td id=\"T_89e08_row22_col0\" class=\"data row22 col0\" >Decision Tree w/ Cond. Deseasonalize & Detrending</td>\n",
       "      <td id=\"T_89e08_row22_col1\" class=\"data row22 col1\" >1.3818</td>\n",
       "      <td id=\"T_89e08_row22_col2\" class=\"data row22 col2\" >0.9795</td>\n",
       "      <td id=\"T_89e08_row22_col3\" class=\"data row22 col3\" >286104.0287</td>\n",
       "      <td id=\"T_89e08_row22_col4\" class=\"data row22 col4\" >286104.0287</td>\n",
       "      <td id=\"T_89e08_row22_col5\" class=\"data row22 col5\" >19.1553</td>\n",
       "      <td id=\"T_89e08_row22_col6\" class=\"data row22 col6\" >1.8292</td>\n",
       "      <td id=\"T_89e08_row22_col7\" class=\"data row22 col7\" >0.0633</td>\n",
       "    </tr>\n",
       "  </tbody>\n",
       "</table>\n"
      ],
      "text/plain": [
       "<pandas.io.formats.style.Styler at 0x224d081e6d0>"
      ]
     },
     "metadata": {},
     "output_type": "display_data"
    },
    {
     "data": {
      "text/html": [],
      "text/plain": [
       "<IPython.core.display.HTML object>"
      ]
     },
     "metadata": {},
     "output_type": "display_data"
    },
    {
     "data": {
      "application/vnd.plotly.v1+json": {
       "config": {
        "plotlyServerURL": "https://plot.ly"
       },
       "data": [
        {
         "line": {
          "color": "rgb(31, 119, 180)",
          "width": 2
         },
         "marker": {
          "color": "rgb(31, 119, 180)",
          "size": 5
         },
         "mode": "lines+markers",
         "name": "NET_SALES",
         "type": "scattergl",
         "x": [
          "2016-06-01T00:00:00",
          "2016-07-01T00:00:00",
          "2016-08-01T00:00:00",
          "2016-09-01T00:00:00",
          "2016-10-01T00:00:00",
          "2016-11-01T00:00:00",
          "2016-12-01T00:00:00",
          "2017-01-01T00:00:00",
          "2017-02-01T00:00:00",
          "2017-03-01T00:00:00",
          "2017-04-01T00:00:00",
          "2017-05-01T00:00:00",
          "2017-06-01T00:00:00",
          "2017-07-01T00:00:00",
          "2017-08-01T00:00:00",
          "2017-09-01T00:00:00",
          "2017-10-01T00:00:00",
          "2017-11-01T00:00:00",
          "2017-12-01T00:00:00",
          "2018-01-01T00:00:00",
          "2018-02-01T00:00:00",
          "2018-03-01T00:00:00",
          "2018-04-01T00:00:00",
          "2018-05-01T00:00:00",
          "2018-06-01T00:00:00",
          "2018-07-01T00:00:00",
          "2018-08-01T00:00:00",
          "2018-09-01T00:00:00",
          "2018-10-01T00:00:00",
          "2018-11-01T00:00:00",
          "2018-12-01T00:00:00",
          "2019-01-01T00:00:00",
          "2019-02-01T00:00:00",
          "2019-03-01T00:00:00",
          "2019-04-01T00:00:00",
          "2019-05-01T00:00:00",
          "2019-06-01T00:00:00",
          "2019-07-01T00:00:00",
          "2019-08-01T00:00:00",
          "2019-09-01T00:00:00",
          "2019-10-01T00:00:00",
          "2019-11-01T00:00:00",
          "2019-12-01T00:00:00",
          "2020-01-01T00:00:00",
          "2020-02-01T00:00:00",
          "2020-03-01T00:00:00",
          "2020-04-01T00:00:00",
          "2020-05-01T00:00:00",
          "2020-06-01T00:00:00",
          "2020-07-01T00:00:00",
          "2020-08-01T00:00:00",
          "2020-09-01T00:00:00",
          "2020-10-01T00:00:00",
          "2020-11-01T00:00:00",
          "2020-12-01T00:00:00",
          "2021-01-01T00:00:00",
          "2021-02-01T00:00:00",
          "2021-03-01T00:00:00",
          "2021-04-01T00:00:00",
          "2021-05-01T00:00:00",
          "2021-06-01T00:00:00",
          "2021-07-01T00:00:00",
          "2021-08-01T00:00:00",
          "2021-09-01T00:00:00",
          "2021-10-01T00:00:00",
          "2021-11-01T00:00:00",
          "2021-12-01T00:00:00",
          "2022-01-01T00:00:00",
          "2022-02-01T00:00:00",
          "2022-03-01T00:00:00",
          "2022-04-01T00:00:00",
          "2022-05-01T00:00:00",
          "2022-06-01T00:00:00",
          "2022-07-01T00:00:00",
          "2022-08-01T00:00:00",
          "2022-09-01T00:00:00",
          "2022-10-01T00:00:00",
          "2022-11-01T00:00:00",
          "2022-12-01T00:00:00"
         ],
         "xaxis": "x",
         "y": [
          -29036.092588334493,
          -24161.75264908345,
          1008089.7451642611,
          70052.27914789651,
          1149162.59036603,
          -9460.662834963048,
          889927.7843954737,
          -434901.8838421445,
          -31013.433973772502,
          -36074.95447647952,
          441285.166029533,
          32400.05860805862,
          null,
          -43204.0913635315,
          513927.96814671793,
          -99852.02472462157,
          363807.2591641933,
          292983.3893010544,
          627064.9848402394,
          26398.9743181999,
          114818.22088874473,
          413130.1863159546,
          220146.17950508118,
          -21323.37439575862,
          -12547.751106968079,
          67736.11576542271,
          -2182.582674748716,
          557366.9080822866,
          11286.616553006825,
          688127.6840900423,
          -9826.067314208269,
          455477.9423626901,
          42169.14124895415,
          252235.59373574582,
          14467.738309352517,
          25413.087098692045,
          -29796.592087716715,
          286746.1879297175,
          624935.1970181044,
          33612.68970698725,
          431122.95379039546,
          -9334.060504712683,
          458757.06214689283,
          73588.12767911822,
          279044.7304663839,
          126007.44998507017,
          -15456.136636318734,
          -496.6563378251785,
          112018.83215919814,
          309092.8095482169,
          384142.86246461025,
          -2156.990150416126,
          431195.4284006871,
          44956.867162273775,
          510512.35565819894,
          -12425.779902806085,
          926794.9831728891,
          230123.32208179604,
          290432.3650466994,
          -21494.804137144725,
          378013.490222075,
          -16350.25401177324,
          380260.2165196472,
          -4406.816919292121,
          526939.79143798,
          -47426.390570759664,
          -6943.596862929813,
          -2184.4034536891686,
          29231.956743201958,
          68433.2939787485,
          -31060.472756410258,
          63743.97946484133,
          -20047.506914263147,
          -100327.18175471266,
          92211.59227702653,
          20591.788878704545,
          57514.93017474592,
          4949.014705882354,
          190574.4881425837
         ],
         "yaxis": "y"
        },
        {
         "line": {
          "color": "rgb(255, 127, 14)",
          "width": 2
         },
         "marker": {
          "color": "rgb(255, 127, 14)",
          "size": 5
         },
         "mode": "lines+markers",
         "name": "STLF",
         "type": "scattergl",
         "x": [
          "2016-06-01T00:00:00",
          "2016-07-01T00:00:00",
          "2016-08-01T00:00:00",
          "2016-09-01T00:00:00",
          "2016-10-01T00:00:00",
          "2016-11-01T00:00:00",
          "2016-12-01T00:00:00",
          "2017-01-01T00:00:00",
          "2017-02-01T00:00:00",
          "2017-03-01T00:00:00",
          "2017-04-01T00:00:00",
          "2017-05-01T00:00:00",
          "2017-06-01T00:00:00",
          "2017-07-01T00:00:00",
          "2017-08-01T00:00:00",
          "2017-09-01T00:00:00",
          "2017-10-01T00:00:00",
          "2017-11-01T00:00:00",
          "2017-12-01T00:00:00",
          "2018-01-01T00:00:00",
          "2018-02-01T00:00:00",
          "2018-03-01T00:00:00",
          "2018-04-01T00:00:00",
          "2018-05-01T00:00:00",
          "2018-06-01T00:00:00",
          "2018-07-01T00:00:00",
          "2018-08-01T00:00:00",
          "2018-09-01T00:00:00",
          "2018-10-01T00:00:00",
          "2018-11-01T00:00:00",
          "2018-12-01T00:00:00",
          "2019-01-01T00:00:00",
          "2019-02-01T00:00:00",
          "2019-03-01T00:00:00",
          "2019-04-01T00:00:00",
          "2019-05-01T00:00:00",
          "2019-06-01T00:00:00",
          "2019-07-01T00:00:00",
          "2019-08-01T00:00:00",
          "2019-09-01T00:00:00",
          "2019-10-01T00:00:00",
          "2019-11-01T00:00:00",
          "2019-12-01T00:00:00",
          "2020-01-01T00:00:00",
          "2020-02-01T00:00:00",
          "2020-03-01T00:00:00",
          "2020-04-01T00:00:00",
          "2020-05-01T00:00:00",
          "2020-06-01T00:00:00",
          "2020-07-01T00:00:00",
          "2020-08-01T00:00:00",
          "2020-09-01T00:00:00",
          "2020-10-01T00:00:00",
          "2020-11-01T00:00:00",
          "2020-12-01T00:00:00",
          "2021-01-01T00:00:00",
          "2021-02-01T00:00:00",
          "2021-03-01T00:00:00",
          "2021-04-01T00:00:00",
          "2021-05-01T00:00:00",
          "2021-06-01T00:00:00",
          "2021-07-01T00:00:00",
          "2021-08-01T00:00:00",
          "2021-09-01T00:00:00",
          "2021-10-01T00:00:00",
          "2021-11-01T00:00:00",
          "2021-12-01T00:00:00",
          "2022-01-01T00:00:00",
          "2022-02-01T00:00:00",
          "2022-03-01T00:00:00",
          "2022-04-01T00:00:00",
          "2022-05-01T00:00:00",
          "2022-06-01T00:00:00",
          "2022-07-01T00:00:00",
          "2022-08-01T00:00:00",
          "2022-09-01T00:00:00",
          "2022-10-01T00:00:00",
          "2022-11-01T00:00:00",
          "2022-12-01T00:00:00"
         ],
         "xaxis": "x",
         "y": [
          null,
          null,
          null,
          null,
          null,
          null,
          null,
          null,
          null,
          null,
          null,
          null,
          null,
          null,
          null,
          null,
          null,
          null,
          null,
          null,
          null,
          null,
          null,
          null,
          null,
          null,
          null,
          null,
          null,
          null,
          null,
          null,
          null,
          null,
          null,
          null,
          null,
          null,
          null,
          null,
          null,
          null,
          null,
          null,
          null,
          null,
          null,
          null,
          null,
          null,
          null,
          null,
          null,
          null,
          null,
          null,
          null,
          null,
          null,
          null,
          null,
          null,
          null,
          null,
          null,
          null,
          null,
          null,
          null,
          null,
          null,
          null,
          null,
          null,
          null,
          null,
          null,
          null,
          88028.0783
         ],
         "yaxis": "y"
        }
       ],
       "layout": {
        "showlegend": true,
        "template": {
         "data": {
          "bar": [
           {
            "error_x": {
             "color": "rgb(51,51,51)"
            },
            "error_y": {
             "color": "rgb(51,51,51)"
            },
            "marker": {
             "line": {
              "color": "rgb(237,237,237)",
              "width": 0.5
             },
             "pattern": {
              "fillmode": "overlay",
              "size": 10,
              "solidity": 0.2
             }
            },
            "type": "bar"
           }
          ],
          "barpolar": [
           {
            "marker": {
             "line": {
              "color": "rgb(237,237,237)",
              "width": 0.5
             },
             "pattern": {
              "fillmode": "overlay",
              "size": 10,
              "solidity": 0.2
             }
            },
            "type": "barpolar"
           }
          ],
          "carpet": [
           {
            "aaxis": {
             "endlinecolor": "rgb(51,51,51)",
             "gridcolor": "white",
             "linecolor": "white",
             "minorgridcolor": "white",
             "startlinecolor": "rgb(51,51,51)"
            },
            "baxis": {
             "endlinecolor": "rgb(51,51,51)",
             "gridcolor": "white",
             "linecolor": "white",
             "minorgridcolor": "white",
             "startlinecolor": "rgb(51,51,51)"
            },
            "type": "carpet"
           }
          ],
          "choropleth": [
           {
            "colorbar": {
             "outlinewidth": 0,
             "tickcolor": "rgb(237,237,237)",
             "ticklen": 6,
             "ticks": "inside"
            },
            "type": "choropleth"
           }
          ],
          "contour": [
           {
            "colorbar": {
             "outlinewidth": 0,
             "tickcolor": "rgb(237,237,237)",
             "ticklen": 6,
             "ticks": "inside"
            },
            "colorscale": [
             [
              0,
              "rgb(20,44,66)"
             ],
             [
              1,
              "rgb(90,179,244)"
             ]
            ],
            "type": "contour"
           }
          ],
          "contourcarpet": [
           {
            "colorbar": {
             "outlinewidth": 0,
             "tickcolor": "rgb(237,237,237)",
             "ticklen": 6,
             "ticks": "inside"
            },
            "type": "contourcarpet"
           }
          ],
          "heatmap": [
           {
            "colorbar": {
             "outlinewidth": 0,
             "tickcolor": "rgb(237,237,237)",
             "ticklen": 6,
             "ticks": "inside"
            },
            "colorscale": [
             [
              0,
              "rgb(20,44,66)"
             ],
             [
              1,
              "rgb(90,179,244)"
             ]
            ],
            "type": "heatmap"
           }
          ],
          "heatmapgl": [
           {
            "colorbar": {
             "outlinewidth": 0,
             "tickcolor": "rgb(237,237,237)",
             "ticklen": 6,
             "ticks": "inside"
            },
            "colorscale": [
             [
              0,
              "rgb(20,44,66)"
             ],
             [
              1,
              "rgb(90,179,244)"
             ]
            ],
            "type": "heatmapgl"
           }
          ],
          "histogram": [
           {
            "marker": {
             "pattern": {
              "fillmode": "overlay",
              "size": 10,
              "solidity": 0.2
             }
            },
            "type": "histogram"
           }
          ],
          "histogram2d": [
           {
            "colorbar": {
             "outlinewidth": 0,
             "tickcolor": "rgb(237,237,237)",
             "ticklen": 6,
             "ticks": "inside"
            },
            "colorscale": [
             [
              0,
              "rgb(20,44,66)"
             ],
             [
              1,
              "rgb(90,179,244)"
             ]
            ],
            "type": "histogram2d"
           }
          ],
          "histogram2dcontour": [
           {
            "colorbar": {
             "outlinewidth": 0,
             "tickcolor": "rgb(237,237,237)",
             "ticklen": 6,
             "ticks": "inside"
            },
            "colorscale": [
             [
              0,
              "rgb(20,44,66)"
             ],
             [
              1,
              "rgb(90,179,244)"
             ]
            ],
            "type": "histogram2dcontour"
           }
          ],
          "mesh3d": [
           {
            "colorbar": {
             "outlinewidth": 0,
             "tickcolor": "rgb(237,237,237)",
             "ticklen": 6,
             "ticks": "inside"
            },
            "type": "mesh3d"
           }
          ],
          "parcoords": [
           {
            "line": {
             "colorbar": {
              "outlinewidth": 0,
              "tickcolor": "rgb(237,237,237)",
              "ticklen": 6,
              "ticks": "inside"
             }
            },
            "type": "parcoords"
           }
          ],
          "pie": [
           {
            "automargin": true,
            "type": "pie"
           }
          ],
          "scatter": [
           {
            "fillpattern": {
             "fillmode": "overlay",
             "size": 10,
             "solidity": 0.2
            },
            "type": "scatter"
           }
          ],
          "scatter3d": [
           {
            "line": {
             "colorbar": {
              "outlinewidth": 0,
              "tickcolor": "rgb(237,237,237)",
              "ticklen": 6,
              "ticks": "inside"
             }
            },
            "marker": {
             "colorbar": {
              "outlinewidth": 0,
              "tickcolor": "rgb(237,237,237)",
              "ticklen": 6,
              "ticks": "inside"
             }
            },
            "type": "scatter3d"
           }
          ],
          "scattercarpet": [
           {
            "marker": {
             "colorbar": {
              "outlinewidth": 0,
              "tickcolor": "rgb(237,237,237)",
              "ticklen": 6,
              "ticks": "inside"
             }
            },
            "type": "scattercarpet"
           }
          ],
          "scattergeo": [
           {
            "marker": {
             "colorbar": {
              "outlinewidth": 0,
              "tickcolor": "rgb(237,237,237)",
              "ticklen": 6,
              "ticks": "inside"
             }
            },
            "type": "scattergeo"
           }
          ],
          "scattergl": [
           {
            "marker": {
             "colorbar": {
              "outlinewidth": 0,
              "tickcolor": "rgb(237,237,237)",
              "ticklen": 6,
              "ticks": "inside"
             }
            },
            "type": "scattergl"
           }
          ],
          "scattermapbox": [
           {
            "marker": {
             "colorbar": {
              "outlinewidth": 0,
              "tickcolor": "rgb(237,237,237)",
              "ticklen": 6,
              "ticks": "inside"
             }
            },
            "type": "scattermapbox"
           }
          ],
          "scatterpolar": [
           {
            "marker": {
             "colorbar": {
              "outlinewidth": 0,
              "tickcolor": "rgb(237,237,237)",
              "ticklen": 6,
              "ticks": "inside"
             }
            },
            "type": "scatterpolar"
           }
          ],
          "scatterpolargl": [
           {
            "marker": {
             "colorbar": {
              "outlinewidth": 0,
              "tickcolor": "rgb(237,237,237)",
              "ticklen": 6,
              "ticks": "inside"
             }
            },
            "type": "scatterpolargl"
           }
          ],
          "scatterternary": [
           {
            "marker": {
             "colorbar": {
              "outlinewidth": 0,
              "tickcolor": "rgb(237,237,237)",
              "ticklen": 6,
              "ticks": "inside"
             }
            },
            "type": "scatterternary"
           }
          ],
          "surface": [
           {
            "colorbar": {
             "outlinewidth": 0,
             "tickcolor": "rgb(237,237,237)",
             "ticklen": 6,
             "ticks": "inside"
            },
            "colorscale": [
             [
              0,
              "rgb(20,44,66)"
             ],
             [
              1,
              "rgb(90,179,244)"
             ]
            ],
            "type": "surface"
           }
          ],
          "table": [
           {
            "cells": {
             "fill": {
              "color": "rgb(237,237,237)"
             },
             "line": {
              "color": "white"
             }
            },
            "header": {
             "fill": {
              "color": "rgb(217,217,217)"
             },
             "line": {
              "color": "white"
             }
            },
            "type": "table"
           }
          ]
         },
         "layout": {
          "annotationdefaults": {
           "arrowhead": 0,
           "arrowwidth": 1
          },
          "autotypenumbers": "strict",
          "coloraxis": {
           "colorbar": {
            "outlinewidth": 0,
            "tickcolor": "rgb(237,237,237)",
            "ticklen": 6,
            "ticks": "inside"
           }
          },
          "colorscale": {
           "sequential": [
            [
             0,
             "rgb(20,44,66)"
            ],
            [
             1,
             "rgb(90,179,244)"
            ]
           ],
           "sequentialminus": [
            [
             0,
             "rgb(20,44,66)"
            ],
            [
             1,
             "rgb(90,179,244)"
            ]
           ]
          },
          "colorway": [
           "#F8766D",
           "#A3A500",
           "#00BF7D",
           "#00B0F6",
           "#E76BF3"
          ],
          "font": {
           "color": "rgb(51,51,51)"
          },
          "geo": {
           "bgcolor": "white",
           "lakecolor": "white",
           "landcolor": "rgb(237,237,237)",
           "showlakes": true,
           "showland": true,
           "subunitcolor": "white"
          },
          "hoverlabel": {
           "align": "left"
          },
          "hovermode": "closest",
          "paper_bgcolor": "white",
          "plot_bgcolor": "rgb(237,237,237)",
          "polar": {
           "angularaxis": {
            "gridcolor": "white",
            "linecolor": "white",
            "showgrid": true,
            "tickcolor": "rgb(51,51,51)",
            "ticks": "outside"
           },
           "bgcolor": "rgb(237,237,237)",
           "radialaxis": {
            "gridcolor": "white",
            "linecolor": "white",
            "showgrid": true,
            "tickcolor": "rgb(51,51,51)",
            "ticks": "outside"
           }
          },
          "scene": {
           "xaxis": {
            "backgroundcolor": "rgb(237,237,237)",
            "gridcolor": "white",
            "gridwidth": 2,
            "linecolor": "white",
            "showbackground": true,
            "showgrid": true,
            "tickcolor": "rgb(51,51,51)",
            "ticks": "outside",
            "zerolinecolor": "white"
           },
           "yaxis": {
            "backgroundcolor": "rgb(237,237,237)",
            "gridcolor": "white",
            "gridwidth": 2,
            "linecolor": "white",
            "showbackground": true,
            "showgrid": true,
            "tickcolor": "rgb(51,51,51)",
            "ticks": "outside",
            "zerolinecolor": "white"
           },
           "zaxis": {
            "backgroundcolor": "rgb(237,237,237)",
            "gridcolor": "white",
            "gridwidth": 2,
            "linecolor": "white",
            "showbackground": true,
            "showgrid": true,
            "tickcolor": "rgb(51,51,51)",
            "ticks": "outside",
            "zerolinecolor": "white"
           }
          },
          "shapedefaults": {
           "fillcolor": "black",
           "line": {
            "width": 0
           },
           "opacity": 0.3
          },
          "ternary": {
           "aaxis": {
            "gridcolor": "white",
            "linecolor": "white",
            "showgrid": true,
            "tickcolor": "rgb(51,51,51)",
            "ticks": "outside"
           },
           "baxis": {
            "gridcolor": "white",
            "linecolor": "white",
            "showgrid": true,
            "tickcolor": "rgb(51,51,51)",
            "ticks": "outside"
           },
           "bgcolor": "rgb(237,237,237)",
           "caxis": {
            "gridcolor": "white",
            "linecolor": "white",
            "showgrid": true,
            "tickcolor": "rgb(51,51,51)",
            "ticks": "outside"
           }
          },
          "xaxis": {
           "automargin": true,
           "gridcolor": "white",
           "linecolor": "white",
           "showgrid": true,
           "tickcolor": "rgb(51,51,51)",
           "ticks": "outside",
           "title": {
            "standoff": 15
           },
           "zerolinecolor": "white"
          },
          "yaxis": {
           "automargin": true,
           "gridcolor": "white",
           "linecolor": "white",
           "showgrid": true,
           "tickcolor": "rgb(51,51,51)",
           "ticks": "outside",
           "title": {
            "standoff": 15
           },
           "zerolinecolor": "white"
          }
         }
        },
        "title": {
         "text": "Actual vs. Forecast (Out-of-Sample)"
        },
        "xaxis": {
         "anchor": "y",
         "domain": [
          0,
          1
         ]
        },
        "yaxis": {
         "anchor": "x",
         "domain": [
          0,
          1
         ]
        }
       }
      }
     },
     "metadata": {},
     "output_type": "display_data"
    },
    {
     "name": "stderr",
     "output_type": "stream",
     "text": [
      " 64%|██████▍   | 9/14 [01:59<00:59, 11.95s/it]"
     ]
    },
    {
     "data": {
      "text/html": [
       "<style type=\"text/css\">\n",
       "#T_c33a2_row25_col1, #T_c33a2_row31_col1 {\n",
       "  background-color: lightgreen;\n",
       "}\n",
       "</style>\n",
       "<table id=\"T_c33a2\">\n",
       "  <thead>\n",
       "    <tr>\n",
       "      <th class=\"blank level0\" >&nbsp;</th>\n",
       "      <th id=\"T_c33a2_level0_col0\" class=\"col_heading level0 col0\" >Description</th>\n",
       "      <th id=\"T_c33a2_level0_col1\" class=\"col_heading level0 col1\" >Value</th>\n",
       "    </tr>\n",
       "  </thead>\n",
       "  <tbody>\n",
       "    <tr>\n",
       "      <th id=\"T_c33a2_level0_row0\" class=\"row_heading level0 row0\" >0</th>\n",
       "      <td id=\"T_c33a2_row0_col0\" class=\"data row0 col0\" >session_id</td>\n",
       "      <td id=\"T_c33a2_row0_col1\" class=\"data row0 col1\" >123</td>\n",
       "    </tr>\n",
       "    <tr>\n",
       "      <th id=\"T_c33a2_level0_row1\" class=\"row_heading level0 row1\" >1</th>\n",
       "      <td id=\"T_c33a2_row1_col0\" class=\"data row1 col0\" >Target</td>\n",
       "      <td id=\"T_c33a2_row1_col1\" class=\"data row1 col1\" >NET_SALES</td>\n",
       "    </tr>\n",
       "    <tr>\n",
       "      <th id=\"T_c33a2_level0_row2\" class=\"row_heading level0 row2\" >2</th>\n",
       "      <td id=\"T_c33a2_row2_col0\" class=\"data row2 col0\" >Approach</td>\n",
       "      <td id=\"T_c33a2_row2_col1\" class=\"data row2 col1\" >Univariate</td>\n",
       "    </tr>\n",
       "    <tr>\n",
       "      <th id=\"T_c33a2_level0_row3\" class=\"row_heading level0 row3\" >3</th>\n",
       "      <td id=\"T_c33a2_row3_col0\" class=\"data row3 col0\" >Exogenous Variables</td>\n",
       "      <td id=\"T_c33a2_row3_col1\" class=\"data row3 col1\" >Not Present</td>\n",
       "    </tr>\n",
       "    <tr>\n",
       "      <th id=\"T_c33a2_level0_row4\" class=\"row_heading level0 row4\" >4</th>\n",
       "      <td id=\"T_c33a2_row4_col0\" class=\"data row4 col0\" >Original data shape</td>\n",
       "      <td id=\"T_c33a2_row4_col1\" class=\"data row4 col1\" >(84, 1)</td>\n",
       "    </tr>\n",
       "    <tr>\n",
       "      <th id=\"T_c33a2_level0_row5\" class=\"row_heading level0 row5\" >5</th>\n",
       "      <td id=\"T_c33a2_row5_col0\" class=\"data row5 col0\" >Transformed data shape</td>\n",
       "      <td id=\"T_c33a2_row5_col1\" class=\"data row5 col1\" >(84, 1)</td>\n",
       "    </tr>\n",
       "    <tr>\n",
       "      <th id=\"T_c33a2_level0_row6\" class=\"row_heading level0 row6\" >6</th>\n",
       "      <td id=\"T_c33a2_row6_col0\" class=\"data row6 col0\" >Transformed train set shape</td>\n",
       "      <td id=\"T_c33a2_row6_col1\" class=\"data row6 col1\" >(83, 1)</td>\n",
       "    </tr>\n",
       "    <tr>\n",
       "      <th id=\"T_c33a2_level0_row7\" class=\"row_heading level0 row7\" >7</th>\n",
       "      <td id=\"T_c33a2_row7_col0\" class=\"data row7 col0\" >Transformed test set shape</td>\n",
       "      <td id=\"T_c33a2_row7_col1\" class=\"data row7 col1\" >(1, 1)</td>\n",
       "    </tr>\n",
       "    <tr>\n",
       "      <th id=\"T_c33a2_level0_row8\" class=\"row_heading level0 row8\" >8</th>\n",
       "      <td id=\"T_c33a2_row8_col0\" class=\"data row8 col0\" >Rows with missing values</td>\n",
       "      <td id=\"T_c33a2_row8_col1\" class=\"data row8 col1\" >0.0%</td>\n",
       "    </tr>\n",
       "    <tr>\n",
       "      <th id=\"T_c33a2_level0_row9\" class=\"row_heading level0 row9\" >9</th>\n",
       "      <td id=\"T_c33a2_row9_col0\" class=\"data row9 col0\" >Fold Generator</td>\n",
       "      <td id=\"T_c33a2_row9_col1\" class=\"data row9 col1\" >ExpandingWindowSplitter</td>\n",
       "    </tr>\n",
       "    <tr>\n",
       "      <th id=\"T_c33a2_level0_row10\" class=\"row_heading level0 row10\" >10</th>\n",
       "      <td id=\"T_c33a2_row10_col0\" class=\"data row10 col0\" >Fold Number</td>\n",
       "      <td id=\"T_c33a2_row10_col1\" class=\"data row10 col1\" >3</td>\n",
       "    </tr>\n",
       "    <tr>\n",
       "      <th id=\"T_c33a2_level0_row11\" class=\"row_heading level0 row11\" >11</th>\n",
       "      <td id=\"T_c33a2_row11_col0\" class=\"data row11 col0\" >Enforce Prediction Interval</td>\n",
       "      <td id=\"T_c33a2_row11_col1\" class=\"data row11 col1\" >False</td>\n",
       "    </tr>\n",
       "    <tr>\n",
       "      <th id=\"T_c33a2_level0_row12\" class=\"row_heading level0 row12\" >12</th>\n",
       "      <td id=\"T_c33a2_row12_col0\" class=\"data row12 col0\" >Splits used for hyperparameters</td>\n",
       "      <td id=\"T_c33a2_row12_col1\" class=\"data row12 col1\" >all</td>\n",
       "    </tr>\n",
       "    <tr>\n",
       "      <th id=\"T_c33a2_level0_row13\" class=\"row_heading level0 row13\" >13</th>\n",
       "      <td id=\"T_c33a2_row13_col0\" class=\"data row13 col0\" >User Defined Seasonal Period(s)</td>\n",
       "      <td id=\"T_c33a2_row13_col1\" class=\"data row13 col1\" >None</td>\n",
       "    </tr>\n",
       "    <tr>\n",
       "      <th id=\"T_c33a2_level0_row14\" class=\"row_heading level0 row14\" >14</th>\n",
       "      <td id=\"T_c33a2_row14_col0\" class=\"data row14 col0\" >Ignore Seasonality Test</td>\n",
       "      <td id=\"T_c33a2_row14_col1\" class=\"data row14 col1\" >False</td>\n",
       "    </tr>\n",
       "    <tr>\n",
       "      <th id=\"T_c33a2_level0_row15\" class=\"row_heading level0 row15\" >15</th>\n",
       "      <td id=\"T_c33a2_row15_col0\" class=\"data row15 col0\" >Seasonality Detection Algo</td>\n",
       "      <td id=\"T_c33a2_row15_col1\" class=\"data row15 col1\" >auto</td>\n",
       "    </tr>\n",
       "    <tr>\n",
       "      <th id=\"T_c33a2_level0_row16\" class=\"row_heading level0 row16\" >16</th>\n",
       "      <td id=\"T_c33a2_row16_col0\" class=\"data row16 col0\" >Max Period to Consider</td>\n",
       "      <td id=\"T_c33a2_row16_col1\" class=\"data row16 col1\" >60</td>\n",
       "    </tr>\n",
       "    <tr>\n",
       "      <th id=\"T_c33a2_level0_row17\" class=\"row_heading level0 row17\" >17</th>\n",
       "      <td id=\"T_c33a2_row17_col0\" class=\"data row17 col0\" >Seasonal Period(s) Tested</td>\n",
       "      <td id=\"T_c33a2_row17_col1\" class=\"data row17 col1\" >[2]</td>\n",
       "    </tr>\n",
       "    <tr>\n",
       "      <th id=\"T_c33a2_level0_row18\" class=\"row_heading level0 row18\" >18</th>\n",
       "      <td id=\"T_c33a2_row18_col0\" class=\"data row18 col0\" >Significant Seasonal Period(s)</td>\n",
       "      <td id=\"T_c33a2_row18_col1\" class=\"data row18 col1\" >[2]</td>\n",
       "    </tr>\n",
       "    <tr>\n",
       "      <th id=\"T_c33a2_level0_row19\" class=\"row_heading level0 row19\" >19</th>\n",
       "      <td id=\"T_c33a2_row19_col0\" class=\"data row19 col0\" >Significant Seasonal Period(s) without Harmonics</td>\n",
       "      <td id=\"T_c33a2_row19_col1\" class=\"data row19 col1\" >[2]</td>\n",
       "    </tr>\n",
       "    <tr>\n",
       "      <th id=\"T_c33a2_level0_row20\" class=\"row_heading level0 row20\" >20</th>\n",
       "      <td id=\"T_c33a2_row20_col0\" class=\"data row20 col0\" >Remove Harmonics</td>\n",
       "      <td id=\"T_c33a2_row20_col1\" class=\"data row20 col1\" >False</td>\n",
       "    </tr>\n",
       "    <tr>\n",
       "      <th id=\"T_c33a2_level0_row21\" class=\"row_heading level0 row21\" >21</th>\n",
       "      <td id=\"T_c33a2_row21_col0\" class=\"data row21 col0\" >Harmonics Order Method</td>\n",
       "      <td id=\"T_c33a2_row21_col1\" class=\"data row21 col1\" >harmonic_max</td>\n",
       "    </tr>\n",
       "    <tr>\n",
       "      <th id=\"T_c33a2_level0_row22\" class=\"row_heading level0 row22\" >22</th>\n",
       "      <td id=\"T_c33a2_row22_col0\" class=\"data row22 col0\" >Num Seasonalities to Use</td>\n",
       "      <td id=\"T_c33a2_row22_col1\" class=\"data row22 col1\" >1</td>\n",
       "    </tr>\n",
       "    <tr>\n",
       "      <th id=\"T_c33a2_level0_row23\" class=\"row_heading level0 row23\" >23</th>\n",
       "      <td id=\"T_c33a2_row23_col0\" class=\"data row23 col0\" >All Seasonalities to Use</td>\n",
       "      <td id=\"T_c33a2_row23_col1\" class=\"data row23 col1\" >[2]</td>\n",
       "    </tr>\n",
       "    <tr>\n",
       "      <th id=\"T_c33a2_level0_row24\" class=\"row_heading level0 row24\" >24</th>\n",
       "      <td id=\"T_c33a2_row24_col0\" class=\"data row24 col0\" >Primary Seasonality</td>\n",
       "      <td id=\"T_c33a2_row24_col1\" class=\"data row24 col1\" >2</td>\n",
       "    </tr>\n",
       "    <tr>\n",
       "      <th id=\"T_c33a2_level0_row25\" class=\"row_heading level0 row25\" >25</th>\n",
       "      <td id=\"T_c33a2_row25_col0\" class=\"data row25 col0\" >Seasonality Present</td>\n",
       "      <td id=\"T_c33a2_row25_col1\" class=\"data row25 col1\" >True</td>\n",
       "    </tr>\n",
       "    <tr>\n",
       "      <th id=\"T_c33a2_level0_row26\" class=\"row_heading level0 row26\" >26</th>\n",
       "      <td id=\"T_c33a2_row26_col0\" class=\"data row26 col0\" >Seasonality Type</td>\n",
       "      <td id=\"T_c33a2_row26_col1\" class=\"data row26 col1\" >mul</td>\n",
       "    </tr>\n",
       "    <tr>\n",
       "      <th id=\"T_c33a2_level0_row27\" class=\"row_heading level0 row27\" >27</th>\n",
       "      <td id=\"T_c33a2_row27_col0\" class=\"data row27 col0\" >Target Strictly Positive</td>\n",
       "      <td id=\"T_c33a2_row27_col1\" class=\"data row27 col1\" >True</td>\n",
       "    </tr>\n",
       "    <tr>\n",
       "      <th id=\"T_c33a2_level0_row28\" class=\"row_heading level0 row28\" >28</th>\n",
       "      <td id=\"T_c33a2_row28_col0\" class=\"data row28 col0\" >Target White Noise</td>\n",
       "      <td id=\"T_c33a2_row28_col1\" class=\"data row28 col1\" >No</td>\n",
       "    </tr>\n",
       "    <tr>\n",
       "      <th id=\"T_c33a2_level0_row29\" class=\"row_heading level0 row29\" >29</th>\n",
       "      <td id=\"T_c33a2_row29_col0\" class=\"data row29 col0\" >Recommended d</td>\n",
       "      <td id=\"T_c33a2_row29_col1\" class=\"data row29 col1\" >0</td>\n",
       "    </tr>\n",
       "    <tr>\n",
       "      <th id=\"T_c33a2_level0_row30\" class=\"row_heading level0 row30\" >30</th>\n",
       "      <td id=\"T_c33a2_row30_col0\" class=\"data row30 col0\" >Recommended Seasonal D</td>\n",
       "      <td id=\"T_c33a2_row30_col1\" class=\"data row30 col1\" >0</td>\n",
       "    </tr>\n",
       "    <tr>\n",
       "      <th id=\"T_c33a2_level0_row31\" class=\"row_heading level0 row31\" >31</th>\n",
       "      <td id=\"T_c33a2_row31_col0\" class=\"data row31 col0\" >Preprocess</td>\n",
       "      <td id=\"T_c33a2_row31_col1\" class=\"data row31 col1\" >True</td>\n",
       "    </tr>\n",
       "    <tr>\n",
       "      <th id=\"T_c33a2_level0_row32\" class=\"row_heading level0 row32\" >32</th>\n",
       "      <td id=\"T_c33a2_row32_col0\" class=\"data row32 col0\" >Numerical Imputation (Target)</td>\n",
       "      <td id=\"T_c33a2_row32_col1\" class=\"data row32 col1\" >mean</td>\n",
       "    </tr>\n",
       "    <tr>\n",
       "      <th id=\"T_c33a2_level0_row33\" class=\"row_heading level0 row33\" >33</th>\n",
       "      <td id=\"T_c33a2_row33_col0\" class=\"data row33 col0\" >Transformation (Target)</td>\n",
       "      <td id=\"T_c33a2_row33_col1\" class=\"data row33 col1\" >None</td>\n",
       "    </tr>\n",
       "    <tr>\n",
       "      <th id=\"T_c33a2_level0_row34\" class=\"row_heading level0 row34\" >34</th>\n",
       "      <td id=\"T_c33a2_row34_col0\" class=\"data row34 col0\" >Scaling (Target)</td>\n",
       "      <td id=\"T_c33a2_row34_col1\" class=\"data row34 col1\" >None</td>\n",
       "    </tr>\n",
       "    <tr>\n",
       "      <th id=\"T_c33a2_level0_row35\" class=\"row_heading level0 row35\" >35</th>\n",
       "      <td id=\"T_c33a2_row35_col0\" class=\"data row35 col0\" >Feature Engineering (Target) - Reduced Regression</td>\n",
       "      <td id=\"T_c33a2_row35_col1\" class=\"data row35 col1\" >False</td>\n",
       "    </tr>\n",
       "    <tr>\n",
       "      <th id=\"T_c33a2_level0_row36\" class=\"row_heading level0 row36\" >36</th>\n",
       "      <td id=\"T_c33a2_row36_col0\" class=\"data row36 col0\" >CPU Jobs</td>\n",
       "      <td id=\"T_c33a2_row36_col1\" class=\"data row36 col1\" >-1</td>\n",
       "    </tr>\n",
       "    <tr>\n",
       "      <th id=\"T_c33a2_level0_row37\" class=\"row_heading level0 row37\" >37</th>\n",
       "      <td id=\"T_c33a2_row37_col0\" class=\"data row37 col0\" >Use GPU</td>\n",
       "      <td id=\"T_c33a2_row37_col1\" class=\"data row37 col1\" >False</td>\n",
       "    </tr>\n",
       "    <tr>\n",
       "      <th id=\"T_c33a2_level0_row38\" class=\"row_heading level0 row38\" >38</th>\n",
       "      <td id=\"T_c33a2_row38_col0\" class=\"data row38 col0\" >Log Experiment</td>\n",
       "      <td id=\"T_c33a2_row38_col1\" class=\"data row38 col1\" >False</td>\n",
       "    </tr>\n",
       "    <tr>\n",
       "      <th id=\"T_c33a2_level0_row39\" class=\"row_heading level0 row39\" >39</th>\n",
       "      <td id=\"T_c33a2_row39_col0\" class=\"data row39 col0\" >Experiment Name</td>\n",
       "      <td id=\"T_c33a2_row39_col1\" class=\"data row39 col1\" >ts-default-name</td>\n",
       "    </tr>\n",
       "    <tr>\n",
       "      <th id=\"T_c33a2_level0_row40\" class=\"row_heading level0 row40\" >40</th>\n",
       "      <td id=\"T_c33a2_row40_col0\" class=\"data row40 col0\" >USI</td>\n",
       "      <td id=\"T_c33a2_row40_col1\" class=\"data row40 col1\" >21af</td>\n",
       "    </tr>\n",
       "  </tbody>\n",
       "</table>\n"
      ],
      "text/plain": [
       "<pandas.io.formats.style.Styler at 0x224d09aea00>"
      ]
     },
     "metadata": {},
     "output_type": "display_data"
    },
    {
     "data": {
      "text/html": [],
      "text/plain": [
       "<IPython.core.display.HTML object>"
      ]
     },
     "metadata": {},
     "output_type": "display_data"
    },
    {
     "data": {
      "text/html": [
       "<style type=\"text/css\">\n",
       "#T_2f1fc th {\n",
       "  text-align: left;\n",
       "}\n",
       "#T_2f1fc_row0_col0, #T_2f1fc_row1_col0, #T_2f1fc_row1_col1, #T_2f1fc_row1_col2, #T_2f1fc_row1_col3, #T_2f1fc_row1_col4, #T_2f1fc_row1_col5, #T_2f1fc_row1_col6, #T_2f1fc_row2_col0, #T_2f1fc_row2_col1, #T_2f1fc_row2_col2, #T_2f1fc_row2_col3, #T_2f1fc_row2_col4, #T_2f1fc_row2_col5, #T_2f1fc_row2_col6, #T_2f1fc_row3_col0, #T_2f1fc_row3_col1, #T_2f1fc_row3_col2, #T_2f1fc_row3_col3, #T_2f1fc_row3_col4, #T_2f1fc_row3_col5, #T_2f1fc_row3_col6, #T_2f1fc_row4_col0, #T_2f1fc_row4_col1, #T_2f1fc_row4_col2, #T_2f1fc_row4_col3, #T_2f1fc_row4_col4, #T_2f1fc_row4_col5, #T_2f1fc_row4_col6, #T_2f1fc_row5_col0, #T_2f1fc_row5_col1, #T_2f1fc_row5_col2, #T_2f1fc_row5_col3, #T_2f1fc_row5_col4, #T_2f1fc_row5_col5, #T_2f1fc_row5_col6, #T_2f1fc_row6_col0, #T_2f1fc_row6_col1, #T_2f1fc_row6_col2, #T_2f1fc_row6_col3, #T_2f1fc_row6_col4, #T_2f1fc_row6_col5, #T_2f1fc_row6_col6, #T_2f1fc_row7_col0, #T_2f1fc_row7_col1, #T_2f1fc_row7_col2, #T_2f1fc_row7_col3, #T_2f1fc_row7_col4, #T_2f1fc_row7_col5, #T_2f1fc_row7_col6, #T_2f1fc_row8_col0, #T_2f1fc_row8_col1, #T_2f1fc_row8_col2, #T_2f1fc_row8_col3, #T_2f1fc_row8_col4, #T_2f1fc_row8_col5, #T_2f1fc_row8_col6, #T_2f1fc_row9_col0, #T_2f1fc_row9_col1, #T_2f1fc_row9_col2, #T_2f1fc_row9_col3, #T_2f1fc_row9_col4, #T_2f1fc_row9_col5, #T_2f1fc_row9_col6, #T_2f1fc_row10_col0, #T_2f1fc_row10_col1, #T_2f1fc_row10_col2, #T_2f1fc_row10_col3, #T_2f1fc_row10_col4, #T_2f1fc_row10_col5, #T_2f1fc_row10_col6, #T_2f1fc_row11_col0, #T_2f1fc_row11_col1, #T_2f1fc_row11_col2, #T_2f1fc_row11_col3, #T_2f1fc_row11_col4, #T_2f1fc_row11_col5, #T_2f1fc_row11_col6, #T_2f1fc_row12_col0, #T_2f1fc_row12_col1, #T_2f1fc_row12_col2, #T_2f1fc_row12_col3, #T_2f1fc_row12_col4, #T_2f1fc_row12_col5, #T_2f1fc_row12_col6, #T_2f1fc_row13_col0, #T_2f1fc_row13_col1, #T_2f1fc_row13_col2, #T_2f1fc_row13_col3, #T_2f1fc_row13_col4, #T_2f1fc_row13_col5, #T_2f1fc_row13_col6, #T_2f1fc_row14_col0, #T_2f1fc_row14_col1, #T_2f1fc_row14_col2, #T_2f1fc_row14_col3, #T_2f1fc_row14_col4, #T_2f1fc_row14_col5, #T_2f1fc_row14_col6, #T_2f1fc_row15_col0, #T_2f1fc_row15_col1, #T_2f1fc_row15_col2, #T_2f1fc_row15_col3, #T_2f1fc_row15_col4, #T_2f1fc_row15_col5, #T_2f1fc_row15_col6, #T_2f1fc_row16_col0, #T_2f1fc_row16_col1, #T_2f1fc_row16_col2, #T_2f1fc_row16_col3, #T_2f1fc_row16_col4, #T_2f1fc_row16_col5, #T_2f1fc_row16_col6, #T_2f1fc_row17_col0, #T_2f1fc_row17_col1, #T_2f1fc_row17_col2, #T_2f1fc_row17_col3, #T_2f1fc_row17_col4, #T_2f1fc_row17_col5, #T_2f1fc_row17_col6, #T_2f1fc_row18_col0, #T_2f1fc_row18_col1, #T_2f1fc_row18_col2, #T_2f1fc_row18_col3, #T_2f1fc_row18_col4, #T_2f1fc_row18_col5, #T_2f1fc_row18_col6, #T_2f1fc_row19_col0, #T_2f1fc_row19_col1, #T_2f1fc_row19_col2, #T_2f1fc_row19_col3, #T_2f1fc_row19_col4, #T_2f1fc_row19_col5, #T_2f1fc_row19_col6, #T_2f1fc_row20_col0, #T_2f1fc_row20_col1, #T_2f1fc_row20_col2, #T_2f1fc_row20_col3, #T_2f1fc_row20_col4, #T_2f1fc_row20_col5, #T_2f1fc_row20_col6, #T_2f1fc_row21_col0, #T_2f1fc_row21_col1, #T_2f1fc_row21_col2, #T_2f1fc_row21_col3, #T_2f1fc_row21_col4, #T_2f1fc_row21_col5, #T_2f1fc_row21_col6, #T_2f1fc_row22_col0, #T_2f1fc_row22_col1, #T_2f1fc_row22_col2, #T_2f1fc_row22_col3, #T_2f1fc_row22_col4, #T_2f1fc_row22_col5, #T_2f1fc_row22_col6 {\n",
       "  text-align: left;\n",
       "}\n",
       "#T_2f1fc_row0_col1, #T_2f1fc_row0_col2, #T_2f1fc_row0_col3, #T_2f1fc_row0_col4, #T_2f1fc_row0_col5, #T_2f1fc_row0_col6 {\n",
       "  text-align: left;\n",
       "  background-color: yellow;\n",
       "}\n",
       "#T_2f1fc_row0_col7, #T_2f1fc_row1_col7, #T_2f1fc_row2_col7, #T_2f1fc_row3_col7, #T_2f1fc_row4_col7, #T_2f1fc_row5_col7, #T_2f1fc_row6_col7, #T_2f1fc_row7_col7, #T_2f1fc_row8_col7, #T_2f1fc_row9_col7, #T_2f1fc_row10_col7, #T_2f1fc_row11_col7, #T_2f1fc_row12_col7, #T_2f1fc_row13_col7, #T_2f1fc_row14_col7, #T_2f1fc_row15_col7, #T_2f1fc_row16_col7, #T_2f1fc_row17_col7, #T_2f1fc_row18_col7, #T_2f1fc_row19_col7, #T_2f1fc_row20_col7, #T_2f1fc_row21_col7 {\n",
       "  text-align: left;\n",
       "  background-color: lightgrey;\n",
       "}\n",
       "#T_2f1fc_row22_col7 {\n",
       "  text-align: left;\n",
       "  background-color: yellow;\n",
       "  background-color: lightgrey;\n",
       "}\n",
       "</style>\n",
       "<table id=\"T_2f1fc\">\n",
       "  <thead>\n",
       "    <tr>\n",
       "      <th class=\"blank level0\" >&nbsp;</th>\n",
       "      <th id=\"T_2f1fc_level0_col0\" class=\"col_heading level0 col0\" >Model</th>\n",
       "      <th id=\"T_2f1fc_level0_col1\" class=\"col_heading level0 col1\" >MASE</th>\n",
       "      <th id=\"T_2f1fc_level0_col2\" class=\"col_heading level0 col2\" >RMSSE</th>\n",
       "      <th id=\"T_2f1fc_level0_col3\" class=\"col_heading level0 col3\" >MAE</th>\n",
       "      <th id=\"T_2f1fc_level0_col4\" class=\"col_heading level0 col4\" >RMSE</th>\n",
       "      <th id=\"T_2f1fc_level0_col5\" class=\"col_heading level0 col5\" >MAPE</th>\n",
       "      <th id=\"T_2f1fc_level0_col6\" class=\"col_heading level0 col6\" >SMAPE</th>\n",
       "      <th id=\"T_2f1fc_level0_col7\" class=\"col_heading level0 col7\" >TT (Sec)</th>\n",
       "    </tr>\n",
       "  </thead>\n",
       "  <tbody>\n",
       "    <tr>\n",
       "      <th id=\"T_2f1fc_level0_row0\" class=\"row_heading level0 row0\" >stlf</th>\n",
       "      <td id=\"T_2f1fc_row0_col0\" class=\"data row0 col0\" >STLF</td>\n",
       "      <td id=\"T_2f1fc_row0_col1\" class=\"data row0 col1\" >0.7347</td>\n",
       "      <td id=\"T_2f1fc_row0_col2\" class=\"data row0 col2\" >0.5923</td>\n",
       "      <td id=\"T_2f1fc_row0_col3\" class=\"data row0 col3\" >664296.4395</td>\n",
       "      <td id=\"T_2f1fc_row0_col4\" class=\"data row0 col4\" >664296.4395</td>\n",
       "      <td id=\"T_2f1fc_row0_col5\" class=\"data row0 col5\" >0.1745</td>\n",
       "      <td id=\"T_2f1fc_row0_col6\" class=\"data row0 col6\" >0.1482</td>\n",
       "      <td id=\"T_2f1fc_row0_col7\" class=\"data row0 col7\" >0.0400</td>\n",
       "    </tr>\n",
       "    <tr>\n",
       "      <th id=\"T_2f1fc_level0_row1\" class=\"row_heading level0 row1\" >dt_cds_dt</th>\n",
       "      <td id=\"T_2f1fc_row1_col0\" class=\"data row1 col0\" >Decision Tree w/ Cond. Deseasonalize & Detrending</td>\n",
       "      <td id=\"T_2f1fc_row1_col1\" class=\"data row1 col1\" >0.7874</td>\n",
       "      <td id=\"T_2f1fc_row1_col2\" class=\"data row1 col2\" >0.6347</td>\n",
       "      <td id=\"T_2f1fc_row1_col3\" class=\"data row1 col3\" >711484.9014</td>\n",
       "      <td id=\"T_2f1fc_row1_col4\" class=\"data row1 col4\" >711484.9014</td>\n",
       "      <td id=\"T_2f1fc_row1_col5\" class=\"data row1 col5\" >0.1852</td>\n",
       "      <td id=\"T_2f1fc_row1_col6\" class=\"data row1 col6\" >0.1533</td>\n",
       "      <td id=\"T_2f1fc_row1_col7\" class=\"data row1 col7\" >0.0467</td>\n",
       "    </tr>\n",
       "    <tr>\n",
       "      <th id=\"T_2f1fc_level0_row2\" class=\"row_heading level0 row2\" >arima</th>\n",
       "      <td id=\"T_2f1fc_row2_col0\" class=\"data row2 col0\" >ARIMA</td>\n",
       "      <td id=\"T_2f1fc_row2_col1\" class=\"data row2 col1\" >0.7727</td>\n",
       "      <td id=\"T_2f1fc_row2_col2\" class=\"data row2 col2\" >0.6230</td>\n",
       "      <td id=\"T_2f1fc_row2_col3\" class=\"data row2 col3\" >699036.8774</td>\n",
       "      <td id=\"T_2f1fc_row2_col4\" class=\"data row2 col4\" >699036.8774</td>\n",
       "      <td id=\"T_2f1fc_row2_col5\" class=\"data row2 col5\" >0.1866</td>\n",
       "      <td id=\"T_2f1fc_row2_col6\" class=\"data row2 col6\" >0.1559</td>\n",
       "      <td id=\"T_2f1fc_row2_col7\" class=\"data row2 col7\" >0.0500</td>\n",
       "    </tr>\n",
       "    <tr>\n",
       "      <th id=\"T_2f1fc_level0_row3\" class=\"row_heading level0 row3\" >auto_arima</th>\n",
       "      <td id=\"T_2f1fc_row3_col0\" class=\"data row3 col0\" >Auto ARIMA</td>\n",
       "      <td id=\"T_2f1fc_row3_col1\" class=\"data row3 col1\" >0.8866</td>\n",
       "      <td id=\"T_2f1fc_row3_col2\" class=\"data row3 col2\" >0.7150</td>\n",
       "      <td id=\"T_2f1fc_row3_col3\" class=\"data row3 col3\" >804688.4173</td>\n",
       "      <td id=\"T_2f1fc_row3_col4\" class=\"data row3 col4\" >804688.4173</td>\n",
       "      <td id=\"T_2f1fc_row3_col5\" class=\"data row3 col5\" >0.2041</td>\n",
       "      <td id=\"T_2f1fc_row3_col6\" class=\"data row3 col6\" >0.1849</td>\n",
       "      <td id=\"T_2f1fc_row3_col7\" class=\"data row3 col7\" >0.2567</td>\n",
       "    </tr>\n",
       "    <tr>\n",
       "      <th id=\"T_2f1fc_level0_row4\" class=\"row_heading level0 row4\" >rf_cds_dt</th>\n",
       "      <td id=\"T_2f1fc_row4_col0\" class=\"data row4 col0\" >Random Forest w/ Cond. Deseasonalize & Detrending</td>\n",
       "      <td id=\"T_2f1fc_row4_col1\" class=\"data row4 col1\" >0.8888</td>\n",
       "      <td id=\"T_2f1fc_row4_col2\" class=\"data row4 col2\" >0.7166</td>\n",
       "      <td id=\"T_2f1fc_row4_col3\" class=\"data row4 col3\" >805058.6426</td>\n",
       "      <td id=\"T_2f1fc_row4_col4\" class=\"data row4 col4\" >805058.6426</td>\n",
       "      <td id=\"T_2f1fc_row4_col5\" class=\"data row4 col5\" >0.2045</td>\n",
       "      <td id=\"T_2f1fc_row4_col6\" class=\"data row4 col6\" >0.1808</td>\n",
       "      <td id=\"T_2f1fc_row4_col7\" class=\"data row4 col7\" >0.0933</td>\n",
       "    </tr>\n",
       "    <tr>\n",
       "      <th id=\"T_2f1fc_level0_row5\" class=\"row_heading level0 row5\" >ets</th>\n",
       "      <td id=\"T_2f1fc_row5_col0\" class=\"data row5 col0\" >ETS</td>\n",
       "      <td id=\"T_2f1fc_row5_col1\" class=\"data row5 col1\" >0.9143</td>\n",
       "      <td id=\"T_2f1fc_row5_col2\" class=\"data row5 col2\" >0.7372</td>\n",
       "      <td id=\"T_2f1fc_row5_col3\" class=\"data row5 col3\" >828650.7657</td>\n",
       "      <td id=\"T_2f1fc_row5_col4\" class=\"data row5 col4\" >828650.7657</td>\n",
       "      <td id=\"T_2f1fc_row5_col5\" class=\"data row5 col5\" >0.2064</td>\n",
       "      <td id=\"T_2f1fc_row5_col6\" class=\"data row5 col6\" >0.1845</td>\n",
       "      <td id=\"T_2f1fc_row5_col7\" class=\"data row5 col7\" >0.0467</td>\n",
       "    </tr>\n",
       "    <tr>\n",
       "      <th id=\"T_2f1fc_level0_row6\" class=\"row_heading level0 row6\" >exp_smooth</th>\n",
       "      <td id=\"T_2f1fc_row6_col0\" class=\"data row6 col0\" >Exponential Smoothing</td>\n",
       "      <td id=\"T_2f1fc_row6_col1\" class=\"data row6 col1\" >0.9494</td>\n",
       "      <td id=\"T_2f1fc_row6_col2\" class=\"data row6 col2\" >0.7655</td>\n",
       "      <td id=\"T_2f1fc_row6_col3\" class=\"data row6 col3\" >860565.7887</td>\n",
       "      <td id=\"T_2f1fc_row6_col4\" class=\"data row6 col4\" >860565.7887</td>\n",
       "      <td id=\"T_2f1fc_row6_col5\" class=\"data row6 col5\" >0.2147</td>\n",
       "      <td id=\"T_2f1fc_row6_col6\" class=\"data row6 col6\" >0.1915</td>\n",
       "      <td id=\"T_2f1fc_row6_col7\" class=\"data row6 col7\" >0.0733</td>\n",
       "    </tr>\n",
       "    <tr>\n",
       "      <th id=\"T_2f1fc_level0_row7\" class=\"row_heading level0 row7\" >lightgbm_cds_dt</th>\n",
       "      <td id=\"T_2f1fc_row7_col0\" class=\"data row7 col0\" >Light Gradient Boosting w/ Cond. Deseasonalize & Detrending</td>\n",
       "      <td id=\"T_2f1fc_row7_col1\" class=\"data row7 col1\" >0.9192</td>\n",
       "      <td id=\"T_2f1fc_row7_col2\" class=\"data row7 col2\" >0.7412</td>\n",
       "      <td id=\"T_2f1fc_row7_col3\" class=\"data row7 col3\" >833407.2549</td>\n",
       "      <td id=\"T_2f1fc_row7_col4\" class=\"data row7 col4\" >833407.2549</td>\n",
       "      <td id=\"T_2f1fc_row7_col5\" class=\"data row7 col5\" >0.2154</td>\n",
       "      <td id=\"T_2f1fc_row7_col6\" class=\"data row7 col6\" >0.1909</td>\n",
       "      <td id=\"T_2f1fc_row7_col7\" class=\"data row7 col7\" >0.0667</td>\n",
       "    </tr>\n",
       "    <tr>\n",
       "      <th id=\"T_2f1fc_level0_row8\" class=\"row_heading level0 row8\" >gbr_cds_dt</th>\n",
       "      <td id=\"T_2f1fc_row8_col0\" class=\"data row8 col0\" >Gradient Boosting w/ Cond. Deseasonalize & Detrending</td>\n",
       "      <td id=\"T_2f1fc_row8_col1\" class=\"data row8 col1\" >0.9608</td>\n",
       "      <td id=\"T_2f1fc_row8_col2\" class=\"data row8 col2\" >0.7748</td>\n",
       "      <td id=\"T_2f1fc_row8_col3\" class=\"data row8 col3\" >871320.1083</td>\n",
       "      <td id=\"T_2f1fc_row8_col4\" class=\"data row8 col4\" >871320.1083</td>\n",
       "      <td id=\"T_2f1fc_row8_col5\" class=\"data row8 col5\" >0.2277</td>\n",
       "      <td id=\"T_2f1fc_row8_col6\" class=\"data row8 col6\" >0.1996</td>\n",
       "      <td id=\"T_2f1fc_row8_col7\" class=\"data row8 col7\" >0.0633</td>\n",
       "    </tr>\n",
       "    <tr>\n",
       "      <th id=\"T_2f1fc_level0_row9\" class=\"row_heading level0 row9\" >theta</th>\n",
       "      <td id=\"T_2f1fc_row9_col0\" class=\"data row9 col0\" >Theta Forecaster</td>\n",
       "      <td id=\"T_2f1fc_row9_col1\" class=\"data row9 col1\" >1.0089</td>\n",
       "      <td id=\"T_2f1fc_row9_col2\" class=\"data row9 col2\" >0.8135</td>\n",
       "      <td id=\"T_2f1fc_row9_col3\" class=\"data row9 col3\" >915062.5876</td>\n",
       "      <td id=\"T_2f1fc_row9_col4\" class=\"data row9 col4\" >915062.5876</td>\n",
       "      <td id=\"T_2f1fc_row9_col5\" class=\"data row9 col5\" >0.2285</td>\n",
       "      <td id=\"T_2f1fc_row9_col6\" class=\"data row9 col6\" >0.2039</td>\n",
       "      <td id=\"T_2f1fc_row9_col7\" class=\"data row9 col7\" >0.0333</td>\n",
       "    </tr>\n",
       "    <tr>\n",
       "      <th id=\"T_2f1fc_level0_row10\" class=\"row_heading level0 row10\" >et_cds_dt</th>\n",
       "      <td id=\"T_2f1fc_row10_col0\" class=\"data row10 col0\" >Extra Trees w/ Cond. Deseasonalize & Detrending</td>\n",
       "      <td id=\"T_2f1fc_row10_col1\" class=\"data row10 col1\" >1.0019</td>\n",
       "      <td id=\"T_2f1fc_row10_col2\" class=\"data row10 col2\" >0.8076</td>\n",
       "      <td id=\"T_2f1fc_row10_col3\" class=\"data row10 col3\" >906483.6423</td>\n",
       "      <td id=\"T_2f1fc_row10_col4\" class=\"data row10 col4\" >906483.6423</td>\n",
       "      <td id=\"T_2f1fc_row10_col5\" class=\"data row10 col5\" >0.2288</td>\n",
       "      <td id=\"T_2f1fc_row10_col6\" class=\"data row10 col6\" >0.1949</td>\n",
       "      <td id=\"T_2f1fc_row10_col7\" class=\"data row10 col7\" >0.0900</td>\n",
       "    </tr>\n",
       "    <tr>\n",
       "      <th id=\"T_2f1fc_level0_row11\" class=\"row_heading level0 row11\" >omp_cds_dt</th>\n",
       "      <td id=\"T_2f1fc_row11_col0\" class=\"data row11 col0\" >Orthogonal Matching Pursuit w/ Cond. Deseasonalize & Detrending</td>\n",
       "      <td id=\"T_2f1fc_row11_col1\" class=\"data row11 col1\" >0.9961</td>\n",
       "      <td id=\"T_2f1fc_row11_col2\" class=\"data row11 col2\" >0.8033</td>\n",
       "      <td id=\"T_2f1fc_row11_col3\" class=\"data row11 col3\" >903971.4526</td>\n",
       "      <td id=\"T_2f1fc_row11_col4\" class=\"data row11 col4\" >903971.4526</td>\n",
       "      <td id=\"T_2f1fc_row11_col5\" class=\"data row11 col5\" >0.2293</td>\n",
       "      <td id=\"T_2f1fc_row11_col6\" class=\"data row11 col6\" >0.2052</td>\n",
       "      <td id=\"T_2f1fc_row11_col7\" class=\"data row11 col7\" >0.0533</td>\n",
       "    </tr>\n",
       "    <tr>\n",
       "      <th id=\"T_2f1fc_level0_row12\" class=\"row_heading level0 row12\" >lasso_cds_dt</th>\n",
       "      <td id=\"T_2f1fc_row12_col0\" class=\"data row12 col0\" >Lasso w/ Cond. Deseasonalize & Detrending</td>\n",
       "      <td id=\"T_2f1fc_row12_col1\" class=\"data row12 col1\" >1.0253</td>\n",
       "      <td id=\"T_2f1fc_row12_col2\" class=\"data row12 col2\" >0.8269</td>\n",
       "      <td id=\"T_2f1fc_row12_col3\" class=\"data row12 col3\" >930443.9640</td>\n",
       "      <td id=\"T_2f1fc_row12_col4\" class=\"data row12 col4\" >930443.9640</td>\n",
       "      <td id=\"T_2f1fc_row12_col5\" class=\"data row12 col5\" >0.2370</td>\n",
       "      <td id=\"T_2f1fc_row12_col6\" class=\"data row12 col6\" >0.2110</td>\n",
       "      <td id=\"T_2f1fc_row12_col7\" class=\"data row12 col7\" >0.0467</td>\n",
       "    </tr>\n",
       "    <tr>\n",
       "      <th id=\"T_2f1fc_level0_row13\" class=\"row_heading level0 row13\" >en_cds_dt</th>\n",
       "      <td id=\"T_2f1fc_row13_col0\" class=\"data row13 col0\" >Elastic Net w/ Cond. Deseasonalize & Detrending</td>\n",
       "      <td id=\"T_2f1fc_row13_col1\" class=\"data row13 col1\" >1.0253</td>\n",
       "      <td id=\"T_2f1fc_row13_col2\" class=\"data row13 col2\" >0.8269</td>\n",
       "      <td id=\"T_2f1fc_row13_col3\" class=\"data row13 col3\" >930443.9640</td>\n",
       "      <td id=\"T_2f1fc_row13_col4\" class=\"data row13 col4\" >930443.9640</td>\n",
       "      <td id=\"T_2f1fc_row13_col5\" class=\"data row13 col5\" >0.2370</td>\n",
       "      <td id=\"T_2f1fc_row13_col6\" class=\"data row13 col6\" >0.2110</td>\n",
       "      <td id=\"T_2f1fc_row13_col7\" class=\"data row13 col7\" >0.0467</td>\n",
       "    </tr>\n",
       "    <tr>\n",
       "      <th id=\"T_2f1fc_level0_row14\" class=\"row_heading level0 row14\" >llar_cds_dt</th>\n",
       "      <td id=\"T_2f1fc_row14_col0\" class=\"data row14 col0\" >Lasso Least Angular Regressor w/ Cond. Deseasonalize & Detrending</td>\n",
       "      <td id=\"T_2f1fc_row14_col1\" class=\"data row14 col1\" >1.0253</td>\n",
       "      <td id=\"T_2f1fc_row14_col2\" class=\"data row14 col2\" >0.8269</td>\n",
       "      <td id=\"T_2f1fc_row14_col3\" class=\"data row14 col3\" >930443.9640</td>\n",
       "      <td id=\"T_2f1fc_row14_col4\" class=\"data row14 col4\" >930443.9640</td>\n",
       "      <td id=\"T_2f1fc_row14_col5\" class=\"data row14 col5\" >0.2370</td>\n",
       "      <td id=\"T_2f1fc_row14_col6\" class=\"data row14 col6\" >0.2110</td>\n",
       "      <td id=\"T_2f1fc_row14_col7\" class=\"data row14 col7\" >0.0533</td>\n",
       "    </tr>\n",
       "    <tr>\n",
       "      <th id=\"T_2f1fc_level0_row15\" class=\"row_heading level0 row15\" >lr_cds_dt</th>\n",
       "      <td id=\"T_2f1fc_row15_col0\" class=\"data row15 col0\" >Linear w/ Cond. Deseasonalize & Detrending</td>\n",
       "      <td id=\"T_2f1fc_row15_col1\" class=\"data row15 col1\" >1.0253</td>\n",
       "      <td id=\"T_2f1fc_row15_col2\" class=\"data row15 col2\" >0.8269</td>\n",
       "      <td id=\"T_2f1fc_row15_col3\" class=\"data row15 col3\" >930443.9640</td>\n",
       "      <td id=\"T_2f1fc_row15_col4\" class=\"data row15 col4\" >930443.9640</td>\n",
       "      <td id=\"T_2f1fc_row15_col5\" class=\"data row15 col5\" >0.2370</td>\n",
       "      <td id=\"T_2f1fc_row15_col6\" class=\"data row15 col6\" >0.2110</td>\n",
       "      <td id=\"T_2f1fc_row15_col7\" class=\"data row15 col7\" >0.0500</td>\n",
       "    </tr>\n",
       "    <tr>\n",
       "      <th id=\"T_2f1fc_level0_row16\" class=\"row_heading level0 row16\" >ridge_cds_dt</th>\n",
       "      <td id=\"T_2f1fc_row16_col0\" class=\"data row16 col0\" >Ridge w/ Cond. Deseasonalize & Detrending</td>\n",
       "      <td id=\"T_2f1fc_row16_col1\" class=\"data row16 col1\" >1.0253</td>\n",
       "      <td id=\"T_2f1fc_row16_col2\" class=\"data row16 col2\" >0.8269</td>\n",
       "      <td id=\"T_2f1fc_row16_col3\" class=\"data row16 col3\" >930443.9640</td>\n",
       "      <td id=\"T_2f1fc_row16_col4\" class=\"data row16 col4\" >930443.9640</td>\n",
       "      <td id=\"T_2f1fc_row16_col5\" class=\"data row16 col5\" >0.2370</td>\n",
       "      <td id=\"T_2f1fc_row16_col6\" class=\"data row16 col6\" >0.2110</td>\n",
       "      <td id=\"T_2f1fc_row16_col7\" class=\"data row16 col7\" >0.0467</td>\n",
       "    </tr>\n",
       "    <tr>\n",
       "      <th id=\"T_2f1fc_level0_row17\" class=\"row_heading level0 row17\" >br_cds_dt</th>\n",
       "      <td id=\"T_2f1fc_row17_col0\" class=\"data row17 col0\" >Bayesian Ridge w/ Cond. Deseasonalize & Detrending</td>\n",
       "      <td id=\"T_2f1fc_row17_col1\" class=\"data row17 col1\" >1.0457</td>\n",
       "      <td id=\"T_2f1fc_row17_col2\" class=\"data row17 col2\" >0.8433</td>\n",
       "      <td id=\"T_2f1fc_row17_col3\" class=\"data row17 col3\" >948948.8618</td>\n",
       "      <td id=\"T_2f1fc_row17_col4\" class=\"data row17 col4\" >948948.8618</td>\n",
       "      <td id=\"T_2f1fc_row17_col5\" class=\"data row17 col5\" >0.2425</td>\n",
       "      <td id=\"T_2f1fc_row17_col6\" class=\"data row17 col6\" >0.2153</td>\n",
       "      <td id=\"T_2f1fc_row17_col7\" class=\"data row17 col7\" >0.0533</td>\n",
       "    </tr>\n",
       "    <tr>\n",
       "      <th id=\"T_2f1fc_level0_row18\" class=\"row_heading level0 row18\" >ada_cds_dt</th>\n",
       "      <td id=\"T_2f1fc_row18_col0\" class=\"data row18 col0\" >AdaBoost w/ Cond. Deseasonalize & Detrending</td>\n",
       "      <td id=\"T_2f1fc_row18_col1\" class=\"data row18 col1\" >1.0687</td>\n",
       "      <td id=\"T_2f1fc_row18_col2\" class=\"data row18 col2\" >0.8617</td>\n",
       "      <td id=\"T_2f1fc_row18_col3\" class=\"data row18 col3\" >969115.0688</td>\n",
       "      <td id=\"T_2f1fc_row18_col4\" class=\"data row18 col4\" >969115.0688</td>\n",
       "      <td id=\"T_2f1fc_row18_col5\" class=\"data row18 col5\" >0.2459</td>\n",
       "      <td id=\"T_2f1fc_row18_col6\" class=\"data row18 col6\" >0.2168</td>\n",
       "      <td id=\"T_2f1fc_row18_col7\" class=\"data row18 col7\" >0.0667</td>\n",
       "    </tr>\n",
       "    <tr>\n",
       "      <th id=\"T_2f1fc_level0_row19\" class=\"row_heading level0 row19\" >huber_cds_dt</th>\n",
       "      <td id=\"T_2f1fc_row19_col0\" class=\"data row19 col0\" >Huber w/ Cond. Deseasonalize & Detrending</td>\n",
       "      <td id=\"T_2f1fc_row19_col1\" class=\"data row19 col1\" >1.0820</td>\n",
       "      <td id=\"T_2f1fc_row19_col2\" class=\"data row19 col2\" >0.8726</td>\n",
       "      <td id=\"T_2f1fc_row19_col3\" class=\"data row19 col3\" >981904.1355</td>\n",
       "      <td id=\"T_2f1fc_row19_col4\" class=\"data row19 col4\" >981904.1355</td>\n",
       "      <td id=\"T_2f1fc_row19_col5\" class=\"data row19 col5\" >0.2523</td>\n",
       "      <td id=\"T_2f1fc_row19_col6\" class=\"data row19 col6\" >0.2225</td>\n",
       "      <td id=\"T_2f1fc_row19_col7\" class=\"data row19 col7\" >0.0500</td>\n",
       "    </tr>\n",
       "    <tr>\n",
       "      <th id=\"T_2f1fc_level0_row20\" class=\"row_heading level0 row20\" >knn_cds_dt</th>\n",
       "      <td id=\"T_2f1fc_row20_col0\" class=\"data row20 col0\" >K Neighbors w/ Cond. Deseasonalize & Detrending</td>\n",
       "      <td id=\"T_2f1fc_row20_col1\" class=\"data row20 col1\" >1.2559</td>\n",
       "      <td id=\"T_2f1fc_row20_col2\" class=\"data row20 col2\" >1.0127</td>\n",
       "      <td id=\"T_2f1fc_row20_col3\" class=\"data row20 col3\" >1139283.6496</td>\n",
       "      <td id=\"T_2f1fc_row20_col4\" class=\"data row20 col4\" >1139283.6496</td>\n",
       "      <td id=\"T_2f1fc_row20_col5\" class=\"data row20 col5\" >0.2881</td>\n",
       "      <td id=\"T_2f1fc_row20_col6\" class=\"data row20 col6\" >0.2503</td>\n",
       "      <td id=\"T_2f1fc_row20_col7\" class=\"data row20 col7\" >0.0667</td>\n",
       "    </tr>\n",
       "    <tr>\n",
       "      <th id=\"T_2f1fc_level0_row21\" class=\"row_heading level0 row21\" >snaive</th>\n",
       "      <td id=\"T_2f1fc_row21_col0\" class=\"data row21 col0\" >Seasonal Naive Forecaster</td>\n",
       "      <td id=\"T_2f1fc_row21_col1\" class=\"data row21 col1\" >1.2981</td>\n",
       "      <td id=\"T_2f1fc_row21_col2\" class=\"data row21 col2\" >1.0469</td>\n",
       "      <td id=\"T_2f1fc_row21_col3\" class=\"data row21 col3\" >1177598.8300</td>\n",
       "      <td id=\"T_2f1fc_row21_col4\" class=\"data row21 col4\" >1177598.8300</td>\n",
       "      <td id=\"T_2f1fc_row21_col5\" class=\"data row21 col5\" >0.3100</td>\n",
       "      <td id=\"T_2f1fc_row21_col6\" class=\"data row21 col6\" >0.2600</td>\n",
       "      <td id=\"T_2f1fc_row21_col7\" class=\"data row21 col7\" >0.0600</td>\n",
       "    </tr>\n",
       "    <tr>\n",
       "      <th id=\"T_2f1fc_level0_row22\" class=\"row_heading level0 row22\" >polytrend</th>\n",
       "      <td id=\"T_2f1fc_row22_col0\" class=\"data row22 col0\" >Polynomial Trend Forecaster</td>\n",
       "      <td id=\"T_2f1fc_row22_col1\" class=\"data row22 col1\" >1.3757</td>\n",
       "      <td id=\"T_2f1fc_row22_col2\" class=\"data row22 col2\" >1.1097</td>\n",
       "      <td id=\"T_2f1fc_row22_col3\" class=\"data row22 col3\" >1250760.7292</td>\n",
       "      <td id=\"T_2f1fc_row22_col4\" class=\"data row22 col4\" >1250760.7292</td>\n",
       "      <td id=\"T_2f1fc_row22_col5\" class=\"data row22 col5\" >0.3314</td>\n",
       "      <td id=\"T_2f1fc_row22_col6\" class=\"data row22 col6\" >0.2787</td>\n",
       "      <td id=\"T_2f1fc_row22_col7\" class=\"data row22 col7\" >0.0267</td>\n",
       "    </tr>\n",
       "  </tbody>\n",
       "</table>\n"
      ],
      "text/plain": [
       "<pandas.io.formats.style.Styler at 0x224d0754370>"
      ]
     },
     "metadata": {},
     "output_type": "display_data"
    },
    {
     "data": {
      "text/html": [],
      "text/plain": [
       "<IPython.core.display.HTML object>"
      ]
     },
     "metadata": {},
     "output_type": "display_data"
    },
    {
     "data": {
      "application/vnd.plotly.v1+json": {
       "config": {
        "plotlyServerURL": "https://plot.ly"
       },
       "data": [
        {
         "line": {
          "color": "rgb(31, 119, 180)",
          "width": 2
         },
         "marker": {
          "color": "rgb(31, 119, 180)",
          "size": 5
         },
         "mode": "lines+markers",
         "name": "NET_SALES",
         "type": "scattergl",
         "x": [
          "2016-01-01T00:00:00",
          "2016-02-01T00:00:00",
          "2016-03-01T00:00:00",
          "2016-04-01T00:00:00",
          "2016-05-01T00:00:00",
          "2016-06-01T00:00:00",
          "2016-07-01T00:00:00",
          "2016-08-01T00:00:00",
          "2016-09-01T00:00:00",
          "2016-10-01T00:00:00",
          "2016-11-01T00:00:00",
          "2016-12-01T00:00:00",
          "2017-01-01T00:00:00",
          "2017-02-01T00:00:00",
          "2017-03-01T00:00:00",
          "2017-04-01T00:00:00",
          "2017-05-01T00:00:00",
          "2017-06-01T00:00:00",
          "2017-07-01T00:00:00",
          "2017-08-01T00:00:00",
          "2017-09-01T00:00:00",
          "2017-10-01T00:00:00",
          "2017-11-01T00:00:00",
          "2017-12-01T00:00:00",
          "2018-01-01T00:00:00",
          "2018-02-01T00:00:00",
          "2018-03-01T00:00:00",
          "2018-04-01T00:00:00",
          "2018-05-01T00:00:00",
          "2018-06-01T00:00:00",
          "2018-07-01T00:00:00",
          "2018-08-01T00:00:00",
          "2018-09-01T00:00:00",
          "2018-10-01T00:00:00",
          "2018-11-01T00:00:00",
          "2018-12-01T00:00:00",
          "2019-01-01T00:00:00",
          "2019-02-01T00:00:00",
          "2019-03-01T00:00:00",
          "2019-04-01T00:00:00",
          "2019-05-01T00:00:00",
          "2019-06-01T00:00:00",
          "2019-07-01T00:00:00",
          "2019-08-01T00:00:00",
          "2019-09-01T00:00:00",
          "2019-10-01T00:00:00",
          "2019-11-01T00:00:00",
          "2019-12-01T00:00:00",
          "2020-01-01T00:00:00",
          "2020-02-01T00:00:00",
          "2020-03-01T00:00:00",
          "2020-04-01T00:00:00",
          "2020-05-01T00:00:00",
          "2020-06-01T00:00:00",
          "2020-07-01T00:00:00",
          "2020-08-01T00:00:00",
          "2020-09-01T00:00:00",
          "2020-10-01T00:00:00",
          "2020-11-01T00:00:00",
          "2020-12-01T00:00:00",
          "2021-01-01T00:00:00",
          "2021-02-01T00:00:00",
          "2021-03-01T00:00:00",
          "2021-04-01T00:00:00",
          "2021-05-01T00:00:00",
          "2021-06-01T00:00:00",
          "2021-07-01T00:00:00",
          "2021-08-01T00:00:00",
          "2021-09-01T00:00:00",
          "2021-10-01T00:00:00",
          "2021-11-01T00:00:00",
          "2021-12-01T00:00:00",
          "2022-01-01T00:00:00",
          "2022-02-01T00:00:00",
          "2022-03-01T00:00:00",
          "2022-04-01T00:00:00",
          "2022-05-01T00:00:00",
          "2022-06-01T00:00:00",
          "2022-07-01T00:00:00",
          "2022-08-01T00:00:00",
          "2022-09-01T00:00:00",
          "2022-10-01T00:00:00",
          "2022-11-01T00:00:00",
          "2022-12-01T00:00:00"
         ],
         "xaxis": "x",
         "y": [
          3775553.32,
          4727951.25,
          5293515.02,
          5503850.300000001,
          5687682.4799999995,
          4737963.889999999,
          3927449.4099999997,
          4342977.07,
          4200946.09,
          4102859.1099999994,
          3448531.2199999993,
          4036868.32,
          4835069.39,
          4153796.71,
          5940741.71,
          4789757.73,
          6356822.97,
          5756533.289999998,
          4351244.28,
          3916427.6500000004,
          3529201.27,
          4342549.03,
          3383185.18,
          4494981.26,
          5275954.469999999,
          6464611.109999999,
          6243249.949999999,
          7349842.38,
          5667405.46,
          4663479.41,
          5172616.16,
          5033844.54,
          3920250.2999999993,
          4154365.5799999996,
          3541917.4300000006,
          2878010.3400000003,
          4866214.61,
          4154421.67,
          4696057,
          6332781.76,
          5259724.500000001,
          4696967.92,
          5031632.429999999,
          4808939.420000001,
          5002270.48,
          4596602.11,
          4096456.7299999995,
          3778045.7699999996,
          4825513.53,
          3725242.9800000004,
          3172627.98,
          2332522.0700000003,
          2103817.6399999997,
          3685804.6900000004,
          4848840.53,
          4030097.6600000006,
          3550238.56,
          3800950.0700000003,
          4288054.0200000005,
          3659786.3899999997,
          3407367.35,
          4137645.85,
          5677764.130000001,
          6590332.27,
          5873667.24,
          5955513.41,
          6427354.339999999,
          6287198.050000002,
          5270732.22,
          6582708.09,
          4354804.72,
          5517683.34,
          5012922.130000001,
          5226840.89,
          6394999.150000001,
          6291843.850000001,
          6525597.1899999995,
          7404317.760000001,
          5090400.670000001,
          5740884.210000002,
          4538964.369999998,
          3784391.020000001,
          3514097.370000001,
          3457463.48
         ],
         "yaxis": "y"
        },
        {
         "line": {
          "color": "rgb(255, 127, 14)",
          "width": 2
         },
         "marker": {
          "color": "rgb(255, 127, 14)",
          "size": 5
         },
         "mode": "lines+markers",
         "name": "STLF",
         "type": "scattergl",
         "x": [
          "2016-01-01T00:00:00",
          "2016-02-01T00:00:00",
          "2016-03-01T00:00:00",
          "2016-04-01T00:00:00",
          "2016-05-01T00:00:00",
          "2016-06-01T00:00:00",
          "2016-07-01T00:00:00",
          "2016-08-01T00:00:00",
          "2016-09-01T00:00:00",
          "2016-10-01T00:00:00",
          "2016-11-01T00:00:00",
          "2016-12-01T00:00:00",
          "2017-01-01T00:00:00",
          "2017-02-01T00:00:00",
          "2017-03-01T00:00:00",
          "2017-04-01T00:00:00",
          "2017-05-01T00:00:00",
          "2017-06-01T00:00:00",
          "2017-07-01T00:00:00",
          "2017-08-01T00:00:00",
          "2017-09-01T00:00:00",
          "2017-10-01T00:00:00",
          "2017-11-01T00:00:00",
          "2017-12-01T00:00:00",
          "2018-01-01T00:00:00",
          "2018-02-01T00:00:00",
          "2018-03-01T00:00:00",
          "2018-04-01T00:00:00",
          "2018-05-01T00:00:00",
          "2018-06-01T00:00:00",
          "2018-07-01T00:00:00",
          "2018-08-01T00:00:00",
          "2018-09-01T00:00:00",
          "2018-10-01T00:00:00",
          "2018-11-01T00:00:00",
          "2018-12-01T00:00:00",
          "2019-01-01T00:00:00",
          "2019-02-01T00:00:00",
          "2019-03-01T00:00:00",
          "2019-04-01T00:00:00",
          "2019-05-01T00:00:00",
          "2019-06-01T00:00:00",
          "2019-07-01T00:00:00",
          "2019-08-01T00:00:00",
          "2019-09-01T00:00:00",
          "2019-10-01T00:00:00",
          "2019-11-01T00:00:00",
          "2019-12-01T00:00:00",
          "2020-01-01T00:00:00",
          "2020-02-01T00:00:00",
          "2020-03-01T00:00:00",
          "2020-04-01T00:00:00",
          "2020-05-01T00:00:00",
          "2020-06-01T00:00:00",
          "2020-07-01T00:00:00",
          "2020-08-01T00:00:00",
          "2020-09-01T00:00:00",
          "2020-10-01T00:00:00",
          "2020-11-01T00:00:00",
          "2020-12-01T00:00:00",
          "2021-01-01T00:00:00",
          "2021-02-01T00:00:00",
          "2021-03-01T00:00:00",
          "2021-04-01T00:00:00",
          "2021-05-01T00:00:00",
          "2021-06-01T00:00:00",
          "2021-07-01T00:00:00",
          "2021-08-01T00:00:00",
          "2021-09-01T00:00:00",
          "2021-10-01T00:00:00",
          "2021-11-01T00:00:00",
          "2021-12-01T00:00:00",
          "2022-01-01T00:00:00",
          "2022-02-01T00:00:00",
          "2022-03-01T00:00:00",
          "2022-04-01T00:00:00",
          "2022-05-01T00:00:00",
          "2022-06-01T00:00:00",
          "2022-07-01T00:00:00",
          "2022-08-01T00:00:00",
          "2022-09-01T00:00:00",
          "2022-10-01T00:00:00",
          "2022-11-01T00:00:00",
          "2022-12-01T00:00:00"
         ],
         "xaxis": "x",
         "y": [
          null,
          null,
          null,
          null,
          null,
          null,
          null,
          null,
          null,
          null,
          null,
          null,
          null,
          null,
          null,
          null,
          null,
          null,
          null,
          null,
          null,
          null,
          null,
          null,
          null,
          null,
          null,
          null,
          null,
          null,
          null,
          null,
          null,
          null,
          null,
          null,
          null,
          null,
          null,
          null,
          null,
          null,
          null,
          null,
          null,
          null,
          null,
          null,
          null,
          null,
          null,
          null,
          null,
          null,
          null,
          null,
          null,
          null,
          null,
          null,
          null,
          null,
          null,
          null,
          null,
          null,
          null,
          null,
          null,
          null,
          null,
          null,
          null,
          null,
          null,
          null,
          null,
          null,
          null,
          null,
          null,
          null,
          null,
          3626376.6134
         ],
         "yaxis": "y"
        }
       ],
       "layout": {
        "showlegend": true,
        "template": {
         "data": {
          "bar": [
           {
            "error_x": {
             "color": "rgb(51,51,51)"
            },
            "error_y": {
             "color": "rgb(51,51,51)"
            },
            "marker": {
             "line": {
              "color": "rgb(237,237,237)",
              "width": 0.5
             },
             "pattern": {
              "fillmode": "overlay",
              "size": 10,
              "solidity": 0.2
             }
            },
            "type": "bar"
           }
          ],
          "barpolar": [
           {
            "marker": {
             "line": {
              "color": "rgb(237,237,237)",
              "width": 0.5
             },
             "pattern": {
              "fillmode": "overlay",
              "size": 10,
              "solidity": 0.2
             }
            },
            "type": "barpolar"
           }
          ],
          "carpet": [
           {
            "aaxis": {
             "endlinecolor": "rgb(51,51,51)",
             "gridcolor": "white",
             "linecolor": "white",
             "minorgridcolor": "white",
             "startlinecolor": "rgb(51,51,51)"
            },
            "baxis": {
             "endlinecolor": "rgb(51,51,51)",
             "gridcolor": "white",
             "linecolor": "white",
             "minorgridcolor": "white",
             "startlinecolor": "rgb(51,51,51)"
            },
            "type": "carpet"
           }
          ],
          "choropleth": [
           {
            "colorbar": {
             "outlinewidth": 0,
             "tickcolor": "rgb(237,237,237)",
             "ticklen": 6,
             "ticks": "inside"
            },
            "type": "choropleth"
           }
          ],
          "contour": [
           {
            "colorbar": {
             "outlinewidth": 0,
             "tickcolor": "rgb(237,237,237)",
             "ticklen": 6,
             "ticks": "inside"
            },
            "colorscale": [
             [
              0,
              "rgb(20,44,66)"
             ],
             [
              1,
              "rgb(90,179,244)"
             ]
            ],
            "type": "contour"
           }
          ],
          "contourcarpet": [
           {
            "colorbar": {
             "outlinewidth": 0,
             "tickcolor": "rgb(237,237,237)",
             "ticklen": 6,
             "ticks": "inside"
            },
            "type": "contourcarpet"
           }
          ],
          "heatmap": [
           {
            "colorbar": {
             "outlinewidth": 0,
             "tickcolor": "rgb(237,237,237)",
             "ticklen": 6,
             "ticks": "inside"
            },
            "colorscale": [
             [
              0,
              "rgb(20,44,66)"
             ],
             [
              1,
              "rgb(90,179,244)"
             ]
            ],
            "type": "heatmap"
           }
          ],
          "heatmapgl": [
           {
            "colorbar": {
             "outlinewidth": 0,
             "tickcolor": "rgb(237,237,237)",
             "ticklen": 6,
             "ticks": "inside"
            },
            "colorscale": [
             [
              0,
              "rgb(20,44,66)"
             ],
             [
              1,
              "rgb(90,179,244)"
             ]
            ],
            "type": "heatmapgl"
           }
          ],
          "histogram": [
           {
            "marker": {
             "pattern": {
              "fillmode": "overlay",
              "size": 10,
              "solidity": 0.2
             }
            },
            "type": "histogram"
           }
          ],
          "histogram2d": [
           {
            "colorbar": {
             "outlinewidth": 0,
             "tickcolor": "rgb(237,237,237)",
             "ticklen": 6,
             "ticks": "inside"
            },
            "colorscale": [
             [
              0,
              "rgb(20,44,66)"
             ],
             [
              1,
              "rgb(90,179,244)"
             ]
            ],
            "type": "histogram2d"
           }
          ],
          "histogram2dcontour": [
           {
            "colorbar": {
             "outlinewidth": 0,
             "tickcolor": "rgb(237,237,237)",
             "ticklen": 6,
             "ticks": "inside"
            },
            "colorscale": [
             [
              0,
              "rgb(20,44,66)"
             ],
             [
              1,
              "rgb(90,179,244)"
             ]
            ],
            "type": "histogram2dcontour"
           }
          ],
          "mesh3d": [
           {
            "colorbar": {
             "outlinewidth": 0,
             "tickcolor": "rgb(237,237,237)",
             "ticklen": 6,
             "ticks": "inside"
            },
            "type": "mesh3d"
           }
          ],
          "parcoords": [
           {
            "line": {
             "colorbar": {
              "outlinewidth": 0,
              "tickcolor": "rgb(237,237,237)",
              "ticklen": 6,
              "ticks": "inside"
             }
            },
            "type": "parcoords"
           }
          ],
          "pie": [
           {
            "automargin": true,
            "type": "pie"
           }
          ],
          "scatter": [
           {
            "fillpattern": {
             "fillmode": "overlay",
             "size": 10,
             "solidity": 0.2
            },
            "type": "scatter"
           }
          ],
          "scatter3d": [
           {
            "line": {
             "colorbar": {
              "outlinewidth": 0,
              "tickcolor": "rgb(237,237,237)",
              "ticklen": 6,
              "ticks": "inside"
             }
            },
            "marker": {
             "colorbar": {
              "outlinewidth": 0,
              "tickcolor": "rgb(237,237,237)",
              "ticklen": 6,
              "ticks": "inside"
             }
            },
            "type": "scatter3d"
           }
          ],
          "scattercarpet": [
           {
            "marker": {
             "colorbar": {
              "outlinewidth": 0,
              "tickcolor": "rgb(237,237,237)",
              "ticklen": 6,
              "ticks": "inside"
             }
            },
            "type": "scattercarpet"
           }
          ],
          "scattergeo": [
           {
            "marker": {
             "colorbar": {
              "outlinewidth": 0,
              "tickcolor": "rgb(237,237,237)",
              "ticklen": 6,
              "ticks": "inside"
             }
            },
            "type": "scattergeo"
           }
          ],
          "scattergl": [
           {
            "marker": {
             "colorbar": {
              "outlinewidth": 0,
              "tickcolor": "rgb(237,237,237)",
              "ticklen": 6,
              "ticks": "inside"
             }
            },
            "type": "scattergl"
           }
          ],
          "scattermapbox": [
           {
            "marker": {
             "colorbar": {
              "outlinewidth": 0,
              "tickcolor": "rgb(237,237,237)",
              "ticklen": 6,
              "ticks": "inside"
             }
            },
            "type": "scattermapbox"
           }
          ],
          "scatterpolar": [
           {
            "marker": {
             "colorbar": {
              "outlinewidth": 0,
              "tickcolor": "rgb(237,237,237)",
              "ticklen": 6,
              "ticks": "inside"
             }
            },
            "type": "scatterpolar"
           }
          ],
          "scatterpolargl": [
           {
            "marker": {
             "colorbar": {
              "outlinewidth": 0,
              "tickcolor": "rgb(237,237,237)",
              "ticklen": 6,
              "ticks": "inside"
             }
            },
            "type": "scatterpolargl"
           }
          ],
          "scatterternary": [
           {
            "marker": {
             "colorbar": {
              "outlinewidth": 0,
              "tickcolor": "rgb(237,237,237)",
              "ticklen": 6,
              "ticks": "inside"
             }
            },
            "type": "scatterternary"
           }
          ],
          "surface": [
           {
            "colorbar": {
             "outlinewidth": 0,
             "tickcolor": "rgb(237,237,237)",
             "ticklen": 6,
             "ticks": "inside"
            },
            "colorscale": [
             [
              0,
              "rgb(20,44,66)"
             ],
             [
              1,
              "rgb(90,179,244)"
             ]
            ],
            "type": "surface"
           }
          ],
          "table": [
           {
            "cells": {
             "fill": {
              "color": "rgb(237,237,237)"
             },
             "line": {
              "color": "white"
             }
            },
            "header": {
             "fill": {
              "color": "rgb(217,217,217)"
             },
             "line": {
              "color": "white"
             }
            },
            "type": "table"
           }
          ]
         },
         "layout": {
          "annotationdefaults": {
           "arrowhead": 0,
           "arrowwidth": 1
          },
          "autotypenumbers": "strict",
          "coloraxis": {
           "colorbar": {
            "outlinewidth": 0,
            "tickcolor": "rgb(237,237,237)",
            "ticklen": 6,
            "ticks": "inside"
           }
          },
          "colorscale": {
           "sequential": [
            [
             0,
             "rgb(20,44,66)"
            ],
            [
             1,
             "rgb(90,179,244)"
            ]
           ],
           "sequentialminus": [
            [
             0,
             "rgb(20,44,66)"
            ],
            [
             1,
             "rgb(90,179,244)"
            ]
           ]
          },
          "colorway": [
           "#F8766D",
           "#A3A500",
           "#00BF7D",
           "#00B0F6",
           "#E76BF3"
          ],
          "font": {
           "color": "rgb(51,51,51)"
          },
          "geo": {
           "bgcolor": "white",
           "lakecolor": "white",
           "landcolor": "rgb(237,237,237)",
           "showlakes": true,
           "showland": true,
           "subunitcolor": "white"
          },
          "hoverlabel": {
           "align": "left"
          },
          "hovermode": "closest",
          "paper_bgcolor": "white",
          "plot_bgcolor": "rgb(237,237,237)",
          "polar": {
           "angularaxis": {
            "gridcolor": "white",
            "linecolor": "white",
            "showgrid": true,
            "tickcolor": "rgb(51,51,51)",
            "ticks": "outside"
           },
           "bgcolor": "rgb(237,237,237)",
           "radialaxis": {
            "gridcolor": "white",
            "linecolor": "white",
            "showgrid": true,
            "tickcolor": "rgb(51,51,51)",
            "ticks": "outside"
           }
          },
          "scene": {
           "xaxis": {
            "backgroundcolor": "rgb(237,237,237)",
            "gridcolor": "white",
            "gridwidth": 2,
            "linecolor": "white",
            "showbackground": true,
            "showgrid": true,
            "tickcolor": "rgb(51,51,51)",
            "ticks": "outside",
            "zerolinecolor": "white"
           },
           "yaxis": {
            "backgroundcolor": "rgb(237,237,237)",
            "gridcolor": "white",
            "gridwidth": 2,
            "linecolor": "white",
            "showbackground": true,
            "showgrid": true,
            "tickcolor": "rgb(51,51,51)",
            "ticks": "outside",
            "zerolinecolor": "white"
           },
           "zaxis": {
            "backgroundcolor": "rgb(237,237,237)",
            "gridcolor": "white",
            "gridwidth": 2,
            "linecolor": "white",
            "showbackground": true,
            "showgrid": true,
            "tickcolor": "rgb(51,51,51)",
            "ticks": "outside",
            "zerolinecolor": "white"
           }
          },
          "shapedefaults": {
           "fillcolor": "black",
           "line": {
            "width": 0
           },
           "opacity": 0.3
          },
          "ternary": {
           "aaxis": {
            "gridcolor": "white",
            "linecolor": "white",
            "showgrid": true,
            "tickcolor": "rgb(51,51,51)",
            "ticks": "outside"
           },
           "baxis": {
            "gridcolor": "white",
            "linecolor": "white",
            "showgrid": true,
            "tickcolor": "rgb(51,51,51)",
            "ticks": "outside"
           },
           "bgcolor": "rgb(237,237,237)",
           "caxis": {
            "gridcolor": "white",
            "linecolor": "white",
            "showgrid": true,
            "tickcolor": "rgb(51,51,51)",
            "ticks": "outside"
           }
          },
          "xaxis": {
           "automargin": true,
           "gridcolor": "white",
           "linecolor": "white",
           "showgrid": true,
           "tickcolor": "rgb(51,51,51)",
           "ticks": "outside",
           "title": {
            "standoff": 15
           },
           "zerolinecolor": "white"
          },
          "yaxis": {
           "automargin": true,
           "gridcolor": "white",
           "linecolor": "white",
           "showgrid": true,
           "tickcolor": "rgb(51,51,51)",
           "ticks": "outside",
           "title": {
            "standoff": 15
           },
           "zerolinecolor": "white"
          }
         }
        },
        "title": {
         "text": "Actual vs. Forecast (Out-of-Sample)"
        },
        "xaxis": {
         "anchor": "y",
         "domain": [
          0,
          1
         ]
        },
        "yaxis": {
         "anchor": "x",
         "domain": [
          0,
          1
         ]
        }
       }
      }
     },
     "metadata": {},
     "output_type": "display_data"
    },
    {
     "name": "stderr",
     "output_type": "stream",
     "text": [
      " 71%|███████▏  | 10/14 [02:11<00:47, 11.92s/it]"
     ]
    },
    {
     "data": {
      "text/html": [
       "<style type=\"text/css\">\n",
       "#T_abc9e_row25_col1, #T_abc9e_row31_col1 {\n",
       "  background-color: lightgreen;\n",
       "}\n",
       "</style>\n",
       "<table id=\"T_abc9e\">\n",
       "  <thead>\n",
       "    <tr>\n",
       "      <th class=\"blank level0\" >&nbsp;</th>\n",
       "      <th id=\"T_abc9e_level0_col0\" class=\"col_heading level0 col0\" >Description</th>\n",
       "      <th id=\"T_abc9e_level0_col1\" class=\"col_heading level0 col1\" >Value</th>\n",
       "    </tr>\n",
       "  </thead>\n",
       "  <tbody>\n",
       "    <tr>\n",
       "      <th id=\"T_abc9e_level0_row0\" class=\"row_heading level0 row0\" >0</th>\n",
       "      <td id=\"T_abc9e_row0_col0\" class=\"data row0 col0\" >session_id</td>\n",
       "      <td id=\"T_abc9e_row0_col1\" class=\"data row0 col1\" >123</td>\n",
       "    </tr>\n",
       "    <tr>\n",
       "      <th id=\"T_abc9e_level0_row1\" class=\"row_heading level0 row1\" >1</th>\n",
       "      <td id=\"T_abc9e_row1_col0\" class=\"data row1 col0\" >Target</td>\n",
       "      <td id=\"T_abc9e_row1_col1\" class=\"data row1 col1\" >NET_SALES</td>\n",
       "    </tr>\n",
       "    <tr>\n",
       "      <th id=\"T_abc9e_level0_row2\" class=\"row_heading level0 row2\" >2</th>\n",
       "      <td id=\"T_abc9e_row2_col0\" class=\"data row2 col0\" >Approach</td>\n",
       "      <td id=\"T_abc9e_row2_col1\" class=\"data row2 col1\" >Univariate</td>\n",
       "    </tr>\n",
       "    <tr>\n",
       "      <th id=\"T_abc9e_level0_row3\" class=\"row_heading level0 row3\" >3</th>\n",
       "      <td id=\"T_abc9e_row3_col0\" class=\"data row3 col0\" >Exogenous Variables</td>\n",
       "      <td id=\"T_abc9e_row3_col1\" class=\"data row3 col1\" >Not Present</td>\n",
       "    </tr>\n",
       "    <tr>\n",
       "      <th id=\"T_abc9e_level0_row4\" class=\"row_heading level0 row4\" >4</th>\n",
       "      <td id=\"T_abc9e_row4_col0\" class=\"data row4 col0\" >Original data shape</td>\n",
       "      <td id=\"T_abc9e_row4_col1\" class=\"data row4 col1\" >(84, 1)</td>\n",
       "    </tr>\n",
       "    <tr>\n",
       "      <th id=\"T_abc9e_level0_row5\" class=\"row_heading level0 row5\" >5</th>\n",
       "      <td id=\"T_abc9e_row5_col0\" class=\"data row5 col0\" >Transformed data shape</td>\n",
       "      <td id=\"T_abc9e_row5_col1\" class=\"data row5 col1\" >(84, 1)</td>\n",
       "    </tr>\n",
       "    <tr>\n",
       "      <th id=\"T_abc9e_level0_row6\" class=\"row_heading level0 row6\" >6</th>\n",
       "      <td id=\"T_abc9e_row6_col0\" class=\"data row6 col0\" >Transformed train set shape</td>\n",
       "      <td id=\"T_abc9e_row6_col1\" class=\"data row6 col1\" >(83, 1)</td>\n",
       "    </tr>\n",
       "    <tr>\n",
       "      <th id=\"T_abc9e_level0_row7\" class=\"row_heading level0 row7\" >7</th>\n",
       "      <td id=\"T_abc9e_row7_col0\" class=\"data row7 col0\" >Transformed test set shape</td>\n",
       "      <td id=\"T_abc9e_row7_col1\" class=\"data row7 col1\" >(1, 1)</td>\n",
       "    </tr>\n",
       "    <tr>\n",
       "      <th id=\"T_abc9e_level0_row8\" class=\"row_heading level0 row8\" >8</th>\n",
       "      <td id=\"T_abc9e_row8_col0\" class=\"data row8 col0\" >Rows with missing values</td>\n",
       "      <td id=\"T_abc9e_row8_col1\" class=\"data row8 col1\" >0.0%</td>\n",
       "    </tr>\n",
       "    <tr>\n",
       "      <th id=\"T_abc9e_level0_row9\" class=\"row_heading level0 row9\" >9</th>\n",
       "      <td id=\"T_abc9e_row9_col0\" class=\"data row9 col0\" >Fold Generator</td>\n",
       "      <td id=\"T_abc9e_row9_col1\" class=\"data row9 col1\" >ExpandingWindowSplitter</td>\n",
       "    </tr>\n",
       "    <tr>\n",
       "      <th id=\"T_abc9e_level0_row10\" class=\"row_heading level0 row10\" >10</th>\n",
       "      <td id=\"T_abc9e_row10_col0\" class=\"data row10 col0\" >Fold Number</td>\n",
       "      <td id=\"T_abc9e_row10_col1\" class=\"data row10 col1\" >3</td>\n",
       "    </tr>\n",
       "    <tr>\n",
       "      <th id=\"T_abc9e_level0_row11\" class=\"row_heading level0 row11\" >11</th>\n",
       "      <td id=\"T_abc9e_row11_col0\" class=\"data row11 col0\" >Enforce Prediction Interval</td>\n",
       "      <td id=\"T_abc9e_row11_col1\" class=\"data row11 col1\" >False</td>\n",
       "    </tr>\n",
       "    <tr>\n",
       "      <th id=\"T_abc9e_level0_row12\" class=\"row_heading level0 row12\" >12</th>\n",
       "      <td id=\"T_abc9e_row12_col0\" class=\"data row12 col0\" >Splits used for hyperparameters</td>\n",
       "      <td id=\"T_abc9e_row12_col1\" class=\"data row12 col1\" >all</td>\n",
       "    </tr>\n",
       "    <tr>\n",
       "      <th id=\"T_abc9e_level0_row13\" class=\"row_heading level0 row13\" >13</th>\n",
       "      <td id=\"T_abc9e_row13_col0\" class=\"data row13 col0\" >User Defined Seasonal Period(s)</td>\n",
       "      <td id=\"T_abc9e_row13_col1\" class=\"data row13 col1\" >None</td>\n",
       "    </tr>\n",
       "    <tr>\n",
       "      <th id=\"T_abc9e_level0_row14\" class=\"row_heading level0 row14\" >14</th>\n",
       "      <td id=\"T_abc9e_row14_col0\" class=\"data row14 col0\" >Ignore Seasonality Test</td>\n",
       "      <td id=\"T_abc9e_row14_col1\" class=\"data row14 col1\" >False</td>\n",
       "    </tr>\n",
       "    <tr>\n",
       "      <th id=\"T_abc9e_level0_row15\" class=\"row_heading level0 row15\" >15</th>\n",
       "      <td id=\"T_abc9e_row15_col0\" class=\"data row15 col0\" >Seasonality Detection Algo</td>\n",
       "      <td id=\"T_abc9e_row15_col1\" class=\"data row15 col1\" >auto</td>\n",
       "    </tr>\n",
       "    <tr>\n",
       "      <th id=\"T_abc9e_level0_row16\" class=\"row_heading level0 row16\" >16</th>\n",
       "      <td id=\"T_abc9e_row16_col0\" class=\"data row16 col0\" >Max Period to Consider</td>\n",
       "      <td id=\"T_abc9e_row16_col1\" class=\"data row16 col1\" >60</td>\n",
       "    </tr>\n",
       "    <tr>\n",
       "      <th id=\"T_abc9e_level0_row17\" class=\"row_heading level0 row17\" >17</th>\n",
       "      <td id=\"T_abc9e_row17_col0\" class=\"data row17 col0\" >Seasonal Period(s) Tested</td>\n",
       "      <td id=\"T_abc9e_row17_col1\" class=\"data row17 col1\" >[12, 24]</td>\n",
       "    </tr>\n",
       "    <tr>\n",
       "      <th id=\"T_abc9e_level0_row18\" class=\"row_heading level0 row18\" >18</th>\n",
       "      <td id=\"T_abc9e_row18_col0\" class=\"data row18 col0\" >Significant Seasonal Period(s)</td>\n",
       "      <td id=\"T_abc9e_row18_col1\" class=\"data row18 col1\" >[12, 24]</td>\n",
       "    </tr>\n",
       "    <tr>\n",
       "      <th id=\"T_abc9e_level0_row19\" class=\"row_heading level0 row19\" >19</th>\n",
       "      <td id=\"T_abc9e_row19_col0\" class=\"data row19 col0\" >Significant Seasonal Period(s) without Harmonics</td>\n",
       "      <td id=\"T_abc9e_row19_col1\" class=\"data row19 col1\" >[24]</td>\n",
       "    </tr>\n",
       "    <tr>\n",
       "      <th id=\"T_abc9e_level0_row20\" class=\"row_heading level0 row20\" >20</th>\n",
       "      <td id=\"T_abc9e_row20_col0\" class=\"data row20 col0\" >Remove Harmonics</td>\n",
       "      <td id=\"T_abc9e_row20_col1\" class=\"data row20 col1\" >False</td>\n",
       "    </tr>\n",
       "    <tr>\n",
       "      <th id=\"T_abc9e_level0_row21\" class=\"row_heading level0 row21\" >21</th>\n",
       "      <td id=\"T_abc9e_row21_col0\" class=\"data row21 col0\" >Harmonics Order Method</td>\n",
       "      <td id=\"T_abc9e_row21_col1\" class=\"data row21 col1\" >harmonic_max</td>\n",
       "    </tr>\n",
       "    <tr>\n",
       "      <th id=\"T_abc9e_level0_row22\" class=\"row_heading level0 row22\" >22</th>\n",
       "      <td id=\"T_abc9e_row22_col0\" class=\"data row22 col0\" >Num Seasonalities to Use</td>\n",
       "      <td id=\"T_abc9e_row22_col1\" class=\"data row22 col1\" >1</td>\n",
       "    </tr>\n",
       "    <tr>\n",
       "      <th id=\"T_abc9e_level0_row23\" class=\"row_heading level0 row23\" >23</th>\n",
       "      <td id=\"T_abc9e_row23_col0\" class=\"data row23 col0\" >All Seasonalities to Use</td>\n",
       "      <td id=\"T_abc9e_row23_col1\" class=\"data row23 col1\" >[12]</td>\n",
       "    </tr>\n",
       "    <tr>\n",
       "      <th id=\"T_abc9e_level0_row24\" class=\"row_heading level0 row24\" >24</th>\n",
       "      <td id=\"T_abc9e_row24_col0\" class=\"data row24 col0\" >Primary Seasonality</td>\n",
       "      <td id=\"T_abc9e_row24_col1\" class=\"data row24 col1\" >12</td>\n",
       "    </tr>\n",
       "    <tr>\n",
       "      <th id=\"T_abc9e_level0_row25\" class=\"row_heading level0 row25\" >25</th>\n",
       "      <td id=\"T_abc9e_row25_col0\" class=\"data row25 col0\" >Seasonality Present</td>\n",
       "      <td id=\"T_abc9e_row25_col1\" class=\"data row25 col1\" >True</td>\n",
       "    </tr>\n",
       "    <tr>\n",
       "      <th id=\"T_abc9e_level0_row26\" class=\"row_heading level0 row26\" >26</th>\n",
       "      <td id=\"T_abc9e_row26_col0\" class=\"data row26 col0\" >Seasonality Type</td>\n",
       "      <td id=\"T_abc9e_row26_col1\" class=\"data row26 col1\" >mul</td>\n",
       "    </tr>\n",
       "    <tr>\n",
       "      <th id=\"T_abc9e_level0_row27\" class=\"row_heading level0 row27\" >27</th>\n",
       "      <td id=\"T_abc9e_row27_col0\" class=\"data row27 col0\" >Target Strictly Positive</td>\n",
       "      <td id=\"T_abc9e_row27_col1\" class=\"data row27 col1\" >True</td>\n",
       "    </tr>\n",
       "    <tr>\n",
       "      <th id=\"T_abc9e_level0_row28\" class=\"row_heading level0 row28\" >28</th>\n",
       "      <td id=\"T_abc9e_row28_col0\" class=\"data row28 col0\" >Target White Noise</td>\n",
       "      <td id=\"T_abc9e_row28_col1\" class=\"data row28 col1\" >No</td>\n",
       "    </tr>\n",
       "    <tr>\n",
       "      <th id=\"T_abc9e_level0_row29\" class=\"row_heading level0 row29\" >29</th>\n",
       "      <td id=\"T_abc9e_row29_col0\" class=\"data row29 col0\" >Recommended d</td>\n",
       "      <td id=\"T_abc9e_row29_col1\" class=\"data row29 col1\" >1</td>\n",
       "    </tr>\n",
       "    <tr>\n",
       "      <th id=\"T_abc9e_level0_row30\" class=\"row_heading level0 row30\" >30</th>\n",
       "      <td id=\"T_abc9e_row30_col0\" class=\"data row30 col0\" >Recommended Seasonal D</td>\n",
       "      <td id=\"T_abc9e_row30_col1\" class=\"data row30 col1\" >0</td>\n",
       "    </tr>\n",
       "    <tr>\n",
       "      <th id=\"T_abc9e_level0_row31\" class=\"row_heading level0 row31\" >31</th>\n",
       "      <td id=\"T_abc9e_row31_col0\" class=\"data row31 col0\" >Preprocess</td>\n",
       "      <td id=\"T_abc9e_row31_col1\" class=\"data row31 col1\" >True</td>\n",
       "    </tr>\n",
       "    <tr>\n",
       "      <th id=\"T_abc9e_level0_row32\" class=\"row_heading level0 row32\" >32</th>\n",
       "      <td id=\"T_abc9e_row32_col0\" class=\"data row32 col0\" >Numerical Imputation (Target)</td>\n",
       "      <td id=\"T_abc9e_row32_col1\" class=\"data row32 col1\" >mean</td>\n",
       "    </tr>\n",
       "    <tr>\n",
       "      <th id=\"T_abc9e_level0_row33\" class=\"row_heading level0 row33\" >33</th>\n",
       "      <td id=\"T_abc9e_row33_col0\" class=\"data row33 col0\" >Transformation (Target)</td>\n",
       "      <td id=\"T_abc9e_row33_col1\" class=\"data row33 col1\" >None</td>\n",
       "    </tr>\n",
       "    <tr>\n",
       "      <th id=\"T_abc9e_level0_row34\" class=\"row_heading level0 row34\" >34</th>\n",
       "      <td id=\"T_abc9e_row34_col0\" class=\"data row34 col0\" >Scaling (Target)</td>\n",
       "      <td id=\"T_abc9e_row34_col1\" class=\"data row34 col1\" >None</td>\n",
       "    </tr>\n",
       "    <tr>\n",
       "      <th id=\"T_abc9e_level0_row35\" class=\"row_heading level0 row35\" >35</th>\n",
       "      <td id=\"T_abc9e_row35_col0\" class=\"data row35 col0\" >Feature Engineering (Target) - Reduced Regression</td>\n",
       "      <td id=\"T_abc9e_row35_col1\" class=\"data row35 col1\" >False</td>\n",
       "    </tr>\n",
       "    <tr>\n",
       "      <th id=\"T_abc9e_level0_row36\" class=\"row_heading level0 row36\" >36</th>\n",
       "      <td id=\"T_abc9e_row36_col0\" class=\"data row36 col0\" >CPU Jobs</td>\n",
       "      <td id=\"T_abc9e_row36_col1\" class=\"data row36 col1\" >-1</td>\n",
       "    </tr>\n",
       "    <tr>\n",
       "      <th id=\"T_abc9e_level0_row37\" class=\"row_heading level0 row37\" >37</th>\n",
       "      <td id=\"T_abc9e_row37_col0\" class=\"data row37 col0\" >Use GPU</td>\n",
       "      <td id=\"T_abc9e_row37_col1\" class=\"data row37 col1\" >False</td>\n",
       "    </tr>\n",
       "    <tr>\n",
       "      <th id=\"T_abc9e_level0_row38\" class=\"row_heading level0 row38\" >38</th>\n",
       "      <td id=\"T_abc9e_row38_col0\" class=\"data row38 col0\" >Log Experiment</td>\n",
       "      <td id=\"T_abc9e_row38_col1\" class=\"data row38 col1\" >False</td>\n",
       "    </tr>\n",
       "    <tr>\n",
       "      <th id=\"T_abc9e_level0_row39\" class=\"row_heading level0 row39\" >39</th>\n",
       "      <td id=\"T_abc9e_row39_col0\" class=\"data row39 col0\" >Experiment Name</td>\n",
       "      <td id=\"T_abc9e_row39_col1\" class=\"data row39 col1\" >ts-default-name</td>\n",
       "    </tr>\n",
       "    <tr>\n",
       "      <th id=\"T_abc9e_level0_row40\" class=\"row_heading level0 row40\" >40</th>\n",
       "      <td id=\"T_abc9e_row40_col0\" class=\"data row40 col0\" >USI</td>\n",
       "      <td id=\"T_abc9e_row40_col1\" class=\"data row40 col1\" >83e3</td>\n",
       "    </tr>\n",
       "  </tbody>\n",
       "</table>\n"
      ],
      "text/plain": [
       "<pandas.io.formats.style.Styler at 0x224d094aca0>"
      ]
     },
     "metadata": {},
     "output_type": "display_data"
    },
    {
     "data": {
      "text/html": [],
      "text/plain": [
       "<IPython.core.display.HTML object>"
      ]
     },
     "metadata": {},
     "output_type": "display_data"
    },
    {
     "data": {
      "text/html": [
       "<style type=\"text/css\">\n",
       "#T_86fb4 th {\n",
       "  text-align: left;\n",
       "}\n",
       "#T_86fb4_row0_col0, #T_86fb4_row0_col6, #T_86fb4_row1_col0, #T_86fb4_row1_col1, #T_86fb4_row1_col2, #T_86fb4_row1_col3, #T_86fb4_row1_col4, #T_86fb4_row1_col5, #T_86fb4_row2_col0, #T_86fb4_row2_col1, #T_86fb4_row2_col2, #T_86fb4_row2_col3, #T_86fb4_row2_col4, #T_86fb4_row2_col5, #T_86fb4_row2_col6, #T_86fb4_row3_col0, #T_86fb4_row3_col1, #T_86fb4_row3_col2, #T_86fb4_row3_col3, #T_86fb4_row3_col4, #T_86fb4_row3_col5, #T_86fb4_row3_col6, #T_86fb4_row4_col0, #T_86fb4_row4_col1, #T_86fb4_row4_col2, #T_86fb4_row4_col3, #T_86fb4_row4_col4, #T_86fb4_row4_col5, #T_86fb4_row4_col6, #T_86fb4_row5_col0, #T_86fb4_row5_col1, #T_86fb4_row5_col2, #T_86fb4_row5_col3, #T_86fb4_row5_col4, #T_86fb4_row5_col5, #T_86fb4_row5_col6, #T_86fb4_row6_col0, #T_86fb4_row6_col1, #T_86fb4_row6_col2, #T_86fb4_row6_col3, #T_86fb4_row6_col4, #T_86fb4_row6_col5, #T_86fb4_row6_col6, #T_86fb4_row7_col0, #T_86fb4_row7_col1, #T_86fb4_row7_col2, #T_86fb4_row7_col3, #T_86fb4_row7_col4, #T_86fb4_row7_col5, #T_86fb4_row7_col6, #T_86fb4_row8_col0, #T_86fb4_row8_col1, #T_86fb4_row8_col2, #T_86fb4_row8_col3, #T_86fb4_row8_col4, #T_86fb4_row8_col5, #T_86fb4_row8_col6, #T_86fb4_row9_col0, #T_86fb4_row9_col1, #T_86fb4_row9_col2, #T_86fb4_row9_col3, #T_86fb4_row9_col4, #T_86fb4_row9_col5, #T_86fb4_row9_col6, #T_86fb4_row10_col0, #T_86fb4_row10_col1, #T_86fb4_row10_col2, #T_86fb4_row10_col3, #T_86fb4_row10_col4, #T_86fb4_row10_col5, #T_86fb4_row10_col6, #T_86fb4_row11_col0, #T_86fb4_row11_col1, #T_86fb4_row11_col2, #T_86fb4_row11_col3, #T_86fb4_row11_col4, #T_86fb4_row11_col5, #T_86fb4_row11_col6, #T_86fb4_row12_col0, #T_86fb4_row12_col1, #T_86fb4_row12_col2, #T_86fb4_row12_col3, #T_86fb4_row12_col4, #T_86fb4_row12_col5, #T_86fb4_row12_col6, #T_86fb4_row13_col0, #T_86fb4_row13_col1, #T_86fb4_row13_col2, #T_86fb4_row13_col3, #T_86fb4_row13_col4, #T_86fb4_row13_col5, #T_86fb4_row13_col6, #T_86fb4_row14_col0, #T_86fb4_row14_col1, #T_86fb4_row14_col2, #T_86fb4_row14_col3, #T_86fb4_row14_col4, #T_86fb4_row14_col5, #T_86fb4_row14_col6, #T_86fb4_row15_col0, #T_86fb4_row15_col1, #T_86fb4_row15_col2, #T_86fb4_row15_col3, #T_86fb4_row15_col4, #T_86fb4_row15_col5, #T_86fb4_row15_col6, #T_86fb4_row16_col0, #T_86fb4_row16_col1, #T_86fb4_row16_col2, #T_86fb4_row16_col3, #T_86fb4_row16_col4, #T_86fb4_row16_col5, #T_86fb4_row16_col6, #T_86fb4_row17_col0, #T_86fb4_row17_col1, #T_86fb4_row17_col2, #T_86fb4_row17_col3, #T_86fb4_row17_col4, #T_86fb4_row17_col5, #T_86fb4_row17_col6, #T_86fb4_row18_col0, #T_86fb4_row18_col1, #T_86fb4_row18_col2, #T_86fb4_row18_col3, #T_86fb4_row18_col4, #T_86fb4_row18_col5, #T_86fb4_row18_col6, #T_86fb4_row19_col0, #T_86fb4_row19_col1, #T_86fb4_row19_col2, #T_86fb4_row19_col3, #T_86fb4_row19_col4, #T_86fb4_row19_col5, #T_86fb4_row19_col6, #T_86fb4_row20_col0, #T_86fb4_row20_col1, #T_86fb4_row20_col2, #T_86fb4_row20_col3, #T_86fb4_row20_col4, #T_86fb4_row20_col5, #T_86fb4_row20_col6, #T_86fb4_row21_col0, #T_86fb4_row21_col1, #T_86fb4_row21_col2, #T_86fb4_row21_col3, #T_86fb4_row21_col4, #T_86fb4_row21_col5, #T_86fb4_row21_col6, #T_86fb4_row22_col0, #T_86fb4_row22_col1, #T_86fb4_row22_col2, #T_86fb4_row22_col3, #T_86fb4_row22_col4, #T_86fb4_row22_col5, #T_86fb4_row22_col6 {\n",
       "  text-align: left;\n",
       "}\n",
       "#T_86fb4_row0_col1, #T_86fb4_row0_col2, #T_86fb4_row0_col3, #T_86fb4_row0_col4, #T_86fb4_row0_col5, #T_86fb4_row1_col6 {\n",
       "  text-align: left;\n",
       "  background-color: yellow;\n",
       "}\n",
       "#T_86fb4_row0_col7, #T_86fb4_row1_col7, #T_86fb4_row2_col7, #T_86fb4_row3_col7, #T_86fb4_row4_col7, #T_86fb4_row5_col7, #T_86fb4_row6_col7, #T_86fb4_row7_col7, #T_86fb4_row8_col7, #T_86fb4_row9_col7, #T_86fb4_row10_col7, #T_86fb4_row11_col7, #T_86fb4_row12_col7, #T_86fb4_row13_col7, #T_86fb4_row14_col7, #T_86fb4_row15_col7, #T_86fb4_row16_col7, #T_86fb4_row18_col7, #T_86fb4_row19_col7, #T_86fb4_row20_col7, #T_86fb4_row21_col7 {\n",
       "  text-align: left;\n",
       "  background-color: lightgrey;\n",
       "}\n",
       "#T_86fb4_row17_col7, #T_86fb4_row22_col7 {\n",
       "  text-align: left;\n",
       "  background-color: yellow;\n",
       "  background-color: lightgrey;\n",
       "}\n",
       "</style>\n",
       "<table id=\"T_86fb4\">\n",
       "  <thead>\n",
       "    <tr>\n",
       "      <th class=\"blank level0\" >&nbsp;</th>\n",
       "      <th id=\"T_86fb4_level0_col0\" class=\"col_heading level0 col0\" >Model</th>\n",
       "      <th id=\"T_86fb4_level0_col1\" class=\"col_heading level0 col1\" >MASE</th>\n",
       "      <th id=\"T_86fb4_level0_col2\" class=\"col_heading level0 col2\" >RMSSE</th>\n",
       "      <th id=\"T_86fb4_level0_col3\" class=\"col_heading level0 col3\" >MAE</th>\n",
       "      <th id=\"T_86fb4_level0_col4\" class=\"col_heading level0 col4\" >RMSE</th>\n",
       "      <th id=\"T_86fb4_level0_col5\" class=\"col_heading level0 col5\" >MAPE</th>\n",
       "      <th id=\"T_86fb4_level0_col6\" class=\"col_heading level0 col6\" >SMAPE</th>\n",
       "      <th id=\"T_86fb4_level0_col7\" class=\"col_heading level0 col7\" >TT (Sec)</th>\n",
       "    </tr>\n",
       "  </thead>\n",
       "  <tbody>\n",
       "    <tr>\n",
       "      <th id=\"T_86fb4_level0_row0\" class=\"row_heading level0 row0\" >snaive</th>\n",
       "      <td id=\"T_86fb4_row0_col0\" class=\"data row0 col0\" >Seasonal Naive Forecaster</td>\n",
       "      <td id=\"T_86fb4_row0_col1\" class=\"data row0 col1\" >0.7969</td>\n",
       "      <td id=\"T_86fb4_row0_col2\" class=\"data row0 col2\" >0.6216</td>\n",
       "      <td id=\"T_86fb4_row0_col3\" class=\"data row0 col3\" >1621569.2667</td>\n",
       "      <td id=\"T_86fb4_row0_col4\" class=\"data row0 col4\" >1621569.2667</td>\n",
       "      <td id=\"T_86fb4_row0_col5\" class=\"data row0 col5\" >0.1319</td>\n",
       "      <td id=\"T_86fb4_row0_col6\" class=\"data row0 col6\" >0.1510</td>\n",
       "      <td id=\"T_86fb4_row0_col7\" class=\"data row0 col7\" >0.0533</td>\n",
       "    </tr>\n",
       "    <tr>\n",
       "      <th id=\"T_86fb4_level0_row1\" class=\"row_heading level0 row1\" >knn_cds_dt</th>\n",
       "      <td id=\"T_86fb4_row1_col0\" class=\"data row1 col0\" >K Neighbors w/ Cond. Deseasonalize & Detrending</td>\n",
       "      <td id=\"T_86fb4_row1_col1\" class=\"data row1 col1\" >0.8391</td>\n",
       "      <td id=\"T_86fb4_row1_col2\" class=\"data row1 col2\" >0.6550</td>\n",
       "      <td id=\"T_86fb4_row1_col3\" class=\"data row1 col3\" >1710306.5451</td>\n",
       "      <td id=\"T_86fb4_row1_col4\" class=\"data row1 col4\" >1710306.5451</td>\n",
       "      <td id=\"T_86fb4_row1_col5\" class=\"data row1 col5\" >0.1350</td>\n",
       "      <td id=\"T_86fb4_row1_col6\" class=\"data row1 col6\" >0.1448</td>\n",
       "      <td id=\"T_86fb4_row1_col7\" class=\"data row1 col7\" >0.0500</td>\n",
       "    </tr>\n",
       "    <tr>\n",
       "      <th id=\"T_86fb4_level0_row2\" class=\"row_heading level0 row2\" >arima</th>\n",
       "      <td id=\"T_86fb4_row2_col0\" class=\"data row2 col0\" >ARIMA</td>\n",
       "      <td id=\"T_86fb4_row2_col1\" class=\"data row2 col1\" >1.1393</td>\n",
       "      <td id=\"T_86fb4_row2_col2\" class=\"data row2 col2\" >0.8893</td>\n",
       "      <td id=\"T_86fb4_row2_col3\" class=\"data row2 col3\" >2323688.6423</td>\n",
       "      <td id=\"T_86fb4_row2_col4\" class=\"data row2 col4\" >2323688.6423</td>\n",
       "      <td id=\"T_86fb4_row2_col5\" class=\"data row2 col5\" >0.1902</td>\n",
       "      <td id=\"T_86fb4_row2_col6\" class=\"data row2 col6\" >0.2117</td>\n",
       "      <td id=\"T_86fb4_row2_col7\" class=\"data row2 col7\" >0.0500</td>\n",
       "    </tr>\n",
       "    <tr>\n",
       "      <th id=\"T_86fb4_level0_row3\" class=\"row_heading level0 row3\" >et_cds_dt</th>\n",
       "      <td id=\"T_86fb4_row3_col0\" class=\"data row3 col0\" >Extra Trees w/ Cond. Deseasonalize & Detrending</td>\n",
       "      <td id=\"T_86fb4_row3_col1\" class=\"data row3 col1\" >1.2129</td>\n",
       "      <td id=\"T_86fb4_row3_col2\" class=\"data row3 col2\" >0.9468</td>\n",
       "      <td id=\"T_86fb4_row3_col3\" class=\"data row3 col3\" >2472136.1565</td>\n",
       "      <td id=\"T_86fb4_row3_col4\" class=\"data row3 col4\" >2472136.1565</td>\n",
       "      <td id=\"T_86fb4_row3_col5\" class=\"data row3 col5\" >0.1959</td>\n",
       "      <td id=\"T_86fb4_row3_col6\" class=\"data row3 col6\" >0.2167</td>\n",
       "      <td id=\"T_86fb4_row3_col7\" class=\"data row3 col7\" >0.0867</td>\n",
       "    </tr>\n",
       "    <tr>\n",
       "      <th id=\"T_86fb4_level0_row4\" class=\"row_heading level0 row4\" >en_cds_dt</th>\n",
       "      <td id=\"T_86fb4_row4_col0\" class=\"data row4 col0\" >Elastic Net w/ Cond. Deseasonalize & Detrending</td>\n",
       "      <td id=\"T_86fb4_row4_col1\" class=\"data row4 col1\" >1.2542</td>\n",
       "      <td id=\"T_86fb4_row4_col2\" class=\"data row4 col2\" >0.9789</td>\n",
       "      <td id=\"T_86fb4_row4_col3\" class=\"data row4 col3\" >2555338.0871</td>\n",
       "      <td id=\"T_86fb4_row4_col4\" class=\"data row4 col4\" >2555338.0871</td>\n",
       "      <td id=\"T_86fb4_row4_col5\" class=\"data row4 col5\" >0.2008</td>\n",
       "      <td id=\"T_86fb4_row4_col6\" class=\"data row4 col6\" >0.2277</td>\n",
       "      <td id=\"T_86fb4_row4_col7\" class=\"data row4 col7\" >0.0533</td>\n",
       "    </tr>\n",
       "    <tr>\n",
       "      <th id=\"T_86fb4_level0_row5\" class=\"row_heading level0 row5\" >ridge_cds_dt</th>\n",
       "      <td id=\"T_86fb4_row5_col0\" class=\"data row5 col0\" >Ridge w/ Cond. Deseasonalize & Detrending</td>\n",
       "      <td id=\"T_86fb4_row5_col1\" class=\"data row5 col1\" >1.2542</td>\n",
       "      <td id=\"T_86fb4_row5_col2\" class=\"data row5 col2\" >0.9789</td>\n",
       "      <td id=\"T_86fb4_row5_col3\" class=\"data row5 col3\" >2555338.0871</td>\n",
       "      <td id=\"T_86fb4_row5_col4\" class=\"data row5 col4\" >2555338.0871</td>\n",
       "      <td id=\"T_86fb4_row5_col5\" class=\"data row5 col5\" >0.2008</td>\n",
       "      <td id=\"T_86fb4_row5_col6\" class=\"data row5 col6\" >0.2277</td>\n",
       "      <td id=\"T_86fb4_row5_col7\" class=\"data row5 col7\" >0.0433</td>\n",
       "    </tr>\n",
       "    <tr>\n",
       "      <th id=\"T_86fb4_level0_row6\" class=\"row_heading level0 row6\" >lasso_cds_dt</th>\n",
       "      <td id=\"T_86fb4_row6_col0\" class=\"data row6 col0\" >Lasso w/ Cond. Deseasonalize & Detrending</td>\n",
       "      <td id=\"T_86fb4_row6_col1\" class=\"data row6 col1\" >1.2542</td>\n",
       "      <td id=\"T_86fb4_row6_col2\" class=\"data row6 col2\" >0.9789</td>\n",
       "      <td id=\"T_86fb4_row6_col3\" class=\"data row6 col3\" >2555338.0871</td>\n",
       "      <td id=\"T_86fb4_row6_col4\" class=\"data row6 col4\" >2555338.0871</td>\n",
       "      <td id=\"T_86fb4_row6_col5\" class=\"data row6 col5\" >0.2008</td>\n",
       "      <td id=\"T_86fb4_row6_col6\" class=\"data row6 col6\" >0.2277</td>\n",
       "      <td id=\"T_86fb4_row6_col7\" class=\"data row6 col7\" >0.0433</td>\n",
       "    </tr>\n",
       "    <tr>\n",
       "      <th id=\"T_86fb4_level0_row7\" class=\"row_heading level0 row7\" >llar_cds_dt</th>\n",
       "      <td id=\"T_86fb4_row7_col0\" class=\"data row7 col0\" >Lasso Least Angular Regressor w/ Cond. Deseasonalize & Detrending</td>\n",
       "      <td id=\"T_86fb4_row7_col1\" class=\"data row7 col1\" >1.2542</td>\n",
       "      <td id=\"T_86fb4_row7_col2\" class=\"data row7 col2\" >0.9789</td>\n",
       "      <td id=\"T_86fb4_row7_col3\" class=\"data row7 col3\" >2555338.0871</td>\n",
       "      <td id=\"T_86fb4_row7_col4\" class=\"data row7 col4\" >2555338.0871</td>\n",
       "      <td id=\"T_86fb4_row7_col5\" class=\"data row7 col5\" >0.2008</td>\n",
       "      <td id=\"T_86fb4_row7_col6\" class=\"data row7 col6\" >0.2277</td>\n",
       "      <td id=\"T_86fb4_row7_col7\" class=\"data row7 col7\" >0.0433</td>\n",
       "    </tr>\n",
       "    <tr>\n",
       "      <th id=\"T_86fb4_level0_row8\" class=\"row_heading level0 row8\" >lr_cds_dt</th>\n",
       "      <td id=\"T_86fb4_row8_col0\" class=\"data row8 col0\" >Linear w/ Cond. Deseasonalize & Detrending</td>\n",
       "      <td id=\"T_86fb4_row8_col1\" class=\"data row8 col1\" >1.2542</td>\n",
       "      <td id=\"T_86fb4_row8_col2\" class=\"data row8 col2\" >0.9789</td>\n",
       "      <td id=\"T_86fb4_row8_col3\" class=\"data row8 col3\" >2555338.0871</td>\n",
       "      <td id=\"T_86fb4_row8_col4\" class=\"data row8 col4\" >2555338.0871</td>\n",
       "      <td id=\"T_86fb4_row8_col5\" class=\"data row8 col5\" >0.2008</td>\n",
       "      <td id=\"T_86fb4_row8_col6\" class=\"data row8 col6\" >0.2277</td>\n",
       "      <td id=\"T_86fb4_row8_col7\" class=\"data row8 col7\" >0.0400</td>\n",
       "    </tr>\n",
       "    <tr>\n",
       "      <th id=\"T_86fb4_level0_row9\" class=\"row_heading level0 row9\" >rf_cds_dt</th>\n",
       "      <td id=\"T_86fb4_row9_col0\" class=\"data row9 col0\" >Random Forest w/ Cond. Deseasonalize & Detrending</td>\n",
       "      <td id=\"T_86fb4_row9_col1\" class=\"data row9 col1\" >1.2486</td>\n",
       "      <td id=\"T_86fb4_row9_col2\" class=\"data row9 col2\" >0.9744</td>\n",
       "      <td id=\"T_86fb4_row9_col3\" class=\"data row9 col3\" >2543694.8930</td>\n",
       "      <td id=\"T_86fb4_row9_col4\" class=\"data row9 col4\" >2543694.8930</td>\n",
       "      <td id=\"T_86fb4_row9_col5\" class=\"data row9 col5\" >0.2009</td>\n",
       "      <td id=\"T_86fb4_row9_col6\" class=\"data row9 col6\" >0.2263</td>\n",
       "      <td id=\"T_86fb4_row9_col7\" class=\"data row9 col7\" >0.0900</td>\n",
       "    </tr>\n",
       "    <tr>\n",
       "      <th id=\"T_86fb4_level0_row10\" class=\"row_heading level0 row10\" >stlf</th>\n",
       "      <td id=\"T_86fb4_row10_col0\" class=\"data row10 col0\" >STLF</td>\n",
       "      <td id=\"T_86fb4_row10_col1\" class=\"data row10 col1\" >1.2336</td>\n",
       "      <td id=\"T_86fb4_row10_col2\" class=\"data row10 col2\" >0.9622</td>\n",
       "      <td id=\"T_86fb4_row10_col3\" class=\"data row10 col3\" >2509548.0836</td>\n",
       "      <td id=\"T_86fb4_row10_col4\" class=\"data row10 col4\" >2509548.0836</td>\n",
       "      <td id=\"T_86fb4_row10_col5\" class=\"data row10 col5\" >0.2017</td>\n",
       "      <td id=\"T_86fb4_row10_col6\" class=\"data row10 col6\" >0.2453</td>\n",
       "      <td id=\"T_86fb4_row10_col7\" class=\"data row10 col7\" >0.0367</td>\n",
       "    </tr>\n",
       "    <tr>\n",
       "      <th id=\"T_86fb4_level0_row11\" class=\"row_heading level0 row11\" >br_cds_dt</th>\n",
       "      <td id=\"T_86fb4_row11_col0\" class=\"data row11 col0\" >Bayesian Ridge w/ Cond. Deseasonalize & Detrending</td>\n",
       "      <td id=\"T_86fb4_row11_col1\" class=\"data row11 col1\" >1.2626</td>\n",
       "      <td id=\"T_86fb4_row11_col2\" class=\"data row11 col2\" >0.9855</td>\n",
       "      <td id=\"T_86fb4_row11_col3\" class=\"data row11 col3\" >2573257.0732</td>\n",
       "      <td id=\"T_86fb4_row11_col4\" class=\"data row11 col4\" >2573257.0732</td>\n",
       "      <td id=\"T_86fb4_row11_col5\" class=\"data row11 col5\" >0.2035</td>\n",
       "      <td id=\"T_86fb4_row11_col6\" class=\"data row11 col6\" >0.2271</td>\n",
       "      <td id=\"T_86fb4_row11_col7\" class=\"data row11 col7\" >0.0433</td>\n",
       "    </tr>\n",
       "    <tr>\n",
       "      <th id=\"T_86fb4_level0_row12\" class=\"row_heading level0 row12\" >omp_cds_dt</th>\n",
       "      <td id=\"T_86fb4_row12_col0\" class=\"data row12 col0\" >Orthogonal Matching Pursuit w/ Cond. Deseasonalize & Detrending</td>\n",
       "      <td id=\"T_86fb4_row12_col1\" class=\"data row12 col1\" >1.2782</td>\n",
       "      <td id=\"T_86fb4_row12_col2\" class=\"data row12 col2\" >0.9975</td>\n",
       "      <td id=\"T_86fb4_row12_col3\" class=\"data row12 col3\" >2603936.9056</td>\n",
       "      <td id=\"T_86fb4_row12_col4\" class=\"data row12 col4\" >2603936.9056</td>\n",
       "      <td id=\"T_86fb4_row12_col5\" class=\"data row12 col5\" >0.2072</td>\n",
       "      <td id=\"T_86fb4_row12_col6\" class=\"data row12 col6\" >0.2339</td>\n",
       "      <td id=\"T_86fb4_row12_col7\" class=\"data row12 col7\" >0.0500</td>\n",
       "    </tr>\n",
       "    <tr>\n",
       "      <th id=\"T_86fb4_level0_row13\" class=\"row_heading level0 row13\" >huber_cds_dt</th>\n",
       "      <td id=\"T_86fb4_row13_col0\" class=\"data row13 col0\" >Huber w/ Cond. Deseasonalize & Detrending</td>\n",
       "      <td id=\"T_86fb4_row13_col1\" class=\"data row13 col1\" >1.3141</td>\n",
       "      <td id=\"T_86fb4_row13_col2\" class=\"data row13 col2\" >1.0256</td>\n",
       "      <td id=\"T_86fb4_row13_col3\" class=\"data row13 col3\" >2676599.4123</td>\n",
       "      <td id=\"T_86fb4_row13_col4\" class=\"data row13 col4\" >2676599.4123</td>\n",
       "      <td id=\"T_86fb4_row13_col5\" class=\"data row13 col5\" >0.2099</td>\n",
       "      <td id=\"T_86fb4_row13_col6\" class=\"data row13 col6\" >0.2424</td>\n",
       "      <td id=\"T_86fb4_row13_col7\" class=\"data row13 col7\" >0.0533</td>\n",
       "    </tr>\n",
       "    <tr>\n",
       "      <th id=\"T_86fb4_level0_row14\" class=\"row_heading level0 row14\" >ada_cds_dt</th>\n",
       "      <td id=\"T_86fb4_row14_col0\" class=\"data row14 col0\" >AdaBoost w/ Cond. Deseasonalize & Detrending</td>\n",
       "      <td id=\"T_86fb4_row14_col1\" class=\"data row14 col1\" >1.3466</td>\n",
       "      <td id=\"T_86fb4_row14_col2\" class=\"data row14 col2\" >1.0511</td>\n",
       "      <td id=\"T_86fb4_row14_col3\" class=\"data row14 col3\" >2744295.1391</td>\n",
       "      <td id=\"T_86fb4_row14_col4\" class=\"data row14 col4\" >2744295.1391</td>\n",
       "      <td id=\"T_86fb4_row14_col5\" class=\"data row14 col5\" >0.2166</td>\n",
       "      <td id=\"T_86fb4_row14_col6\" class=\"data row14 col6\" >0.2446</td>\n",
       "      <td id=\"T_86fb4_row14_col7\" class=\"data row14 col7\" >0.0567</td>\n",
       "    </tr>\n",
       "    <tr>\n",
       "      <th id=\"T_86fb4_level0_row15\" class=\"row_heading level0 row15\" >lightgbm_cds_dt</th>\n",
       "      <td id=\"T_86fb4_row15_col0\" class=\"data row15 col0\" >Light Gradient Boosting w/ Cond. Deseasonalize & Detrending</td>\n",
       "      <td id=\"T_86fb4_row15_col1\" class=\"data row15 col1\" >1.3540</td>\n",
       "      <td id=\"T_86fb4_row15_col2\" class=\"data row15 col2\" >1.0566</td>\n",
       "      <td id=\"T_86fb4_row15_col3\" class=\"data row15 col3\" >2757831.0095</td>\n",
       "      <td id=\"T_86fb4_row15_col4\" class=\"data row15 col4\" >2757831.0095</td>\n",
       "      <td id=\"T_86fb4_row15_col5\" class=\"data row15 col5\" >0.2174</td>\n",
       "      <td id=\"T_86fb4_row15_col6\" class=\"data row15 col6\" >0.2497</td>\n",
       "      <td id=\"T_86fb4_row15_col7\" class=\"data row15 col7\" >0.0800</td>\n",
       "    </tr>\n",
       "    <tr>\n",
       "      <th id=\"T_86fb4_level0_row16\" class=\"row_heading level0 row16\" >gbr_cds_dt</th>\n",
       "      <td id=\"T_86fb4_row16_col0\" class=\"data row16 col0\" >Gradient Boosting w/ Cond. Deseasonalize & Detrending</td>\n",
       "      <td id=\"T_86fb4_row16_col1\" class=\"data row16 col1\" >1.4115</td>\n",
       "      <td id=\"T_86fb4_row16_col2\" class=\"data row16 col2\" >1.1015</td>\n",
       "      <td id=\"T_86fb4_row16_col3\" class=\"data row16 col3\" >2874900.1500</td>\n",
       "      <td id=\"T_86fb4_row16_col4\" class=\"data row16 col4\" >2874900.1500</td>\n",
       "      <td id=\"T_86fb4_row16_col5\" class=\"data row16 col5\" >0.2256</td>\n",
       "      <td id=\"T_86fb4_row16_col6\" class=\"data row16 col6\" >0.2630</td>\n",
       "      <td id=\"T_86fb4_row16_col7\" class=\"data row16 col7\" >0.0633</td>\n",
       "    </tr>\n",
       "    <tr>\n",
       "      <th id=\"T_86fb4_level0_row17\" class=\"row_heading level0 row17\" >theta</th>\n",
       "      <td id=\"T_86fb4_row17_col0\" class=\"data row17 col0\" >Theta Forecaster</td>\n",
       "      <td id=\"T_86fb4_row17_col1\" class=\"data row17 col1\" >1.4030</td>\n",
       "      <td id=\"T_86fb4_row17_col2\" class=\"data row17 col2\" >1.0952</td>\n",
       "      <td id=\"T_86fb4_row17_col3\" class=\"data row17 col3\" >2861163.4020</td>\n",
       "      <td id=\"T_86fb4_row17_col4\" class=\"data row17 col4\" >2861163.4020</td>\n",
       "      <td id=\"T_86fb4_row17_col5\" class=\"data row17 col5\" >0.2292</td>\n",
       "      <td id=\"T_86fb4_row17_col6\" class=\"data row17 col6\" >0.2517</td>\n",
       "      <td id=\"T_86fb4_row17_col7\" class=\"data row17 col7\" >0.0267</td>\n",
       "    </tr>\n",
       "    <tr>\n",
       "      <th id=\"T_86fb4_level0_row18\" class=\"row_heading level0 row18\" >dt_cds_dt</th>\n",
       "      <td id=\"T_86fb4_row18_col0\" class=\"data row18 col0\" >Decision Tree w/ Cond. Deseasonalize & Detrending</td>\n",
       "      <td id=\"T_86fb4_row18_col1\" class=\"data row18 col1\" >1.4557</td>\n",
       "      <td id=\"T_86fb4_row18_col2\" class=\"data row18 col2\" >1.1364</td>\n",
       "      <td id=\"T_86fb4_row18_col3\" class=\"data row18 col3\" >2967544.3622</td>\n",
       "      <td id=\"T_86fb4_row18_col4\" class=\"data row18 col4\" >2967544.3622</td>\n",
       "      <td id=\"T_86fb4_row18_col5\" class=\"data row18 col5\" >0.2316</td>\n",
       "      <td id=\"T_86fb4_row18_col6\" class=\"data row18 col6\" >0.2750</td>\n",
       "      <td id=\"T_86fb4_row18_col7\" class=\"data row18 col7\" >0.0433</td>\n",
       "    </tr>\n",
       "    <tr>\n",
       "      <th id=\"T_86fb4_level0_row19\" class=\"row_heading level0 row19\" >auto_arima</th>\n",
       "      <td id=\"T_86fb4_row19_col0\" class=\"data row19 col0\" >Auto ARIMA</td>\n",
       "      <td id=\"T_86fb4_row19_col1\" class=\"data row19 col1\" >1.4542</td>\n",
       "      <td id=\"T_86fb4_row19_col2\" class=\"data row19 col2\" >1.1345</td>\n",
       "      <td id=\"T_86fb4_row19_col3\" class=\"data row19 col3\" >2959021.2530</td>\n",
       "      <td id=\"T_86fb4_row19_col4\" class=\"data row19 col4\" >2959021.2530</td>\n",
       "      <td id=\"T_86fb4_row19_col5\" class=\"data row19 col5\" >0.2332</td>\n",
       "      <td id=\"T_86fb4_row19_col6\" class=\"data row19 col6\" >0.2798</td>\n",
       "      <td id=\"T_86fb4_row19_col7\" class=\"data row19 col7\" >6.3400</td>\n",
       "    </tr>\n",
       "    <tr>\n",
       "      <th id=\"T_86fb4_level0_row20\" class=\"row_heading level0 row20\" >exp_smooth</th>\n",
       "      <td id=\"T_86fb4_row20_col0\" class=\"data row20 col0\" >Exponential Smoothing</td>\n",
       "      <td id=\"T_86fb4_row20_col1\" class=\"data row20 col1\" >1.4480</td>\n",
       "      <td id=\"T_86fb4_row20_col2\" class=\"data row20 col2\" >1.1308</td>\n",
       "      <td id=\"T_86fb4_row20_col3\" class=\"data row20 col3\" >2956188.4797</td>\n",
       "      <td id=\"T_86fb4_row20_col4\" class=\"data row20 col4\" >2956188.4797</td>\n",
       "      <td id=\"T_86fb4_row20_col5\" class=\"data row20 col5\" >0.2371</td>\n",
       "      <td id=\"T_86fb4_row20_col6\" class=\"data row20 col6\" >0.2498</td>\n",
       "      <td id=\"T_86fb4_row20_col7\" class=\"data row20 col7\" >0.0600</td>\n",
       "    </tr>\n",
       "    <tr>\n",
       "      <th id=\"T_86fb4_level0_row21\" class=\"row_heading level0 row21\" >ets</th>\n",
       "      <td id=\"T_86fb4_row21_col0\" class=\"data row21 col0\" >ETS</td>\n",
       "      <td id=\"T_86fb4_row21_col1\" class=\"data row21 col1\" >1.5046</td>\n",
       "      <td id=\"T_86fb4_row21_col2\" class=\"data row21 col2\" >1.1742</td>\n",
       "      <td id=\"T_86fb4_row21_col3\" class=\"data row21 col3\" >3065646.5429</td>\n",
       "      <td id=\"T_86fb4_row21_col4\" class=\"data row21 col4\" >3065646.5429</td>\n",
       "      <td id=\"T_86fb4_row21_col5\" class=\"data row21 col5\" >0.2449</td>\n",
       "      <td id=\"T_86fb4_row21_col6\" class=\"data row21 col6\" >0.2814</td>\n",
       "      <td id=\"T_86fb4_row21_col7\" class=\"data row21 col7\" >0.0467</td>\n",
       "    </tr>\n",
       "    <tr>\n",
       "      <th id=\"T_86fb4_level0_row22\" class=\"row_heading level0 row22\" >polytrend</th>\n",
       "      <td id=\"T_86fb4_row22_col0\" class=\"data row22 col0\" >Polynomial Trend Forecaster</td>\n",
       "      <td id=\"T_86fb4_row22_col1\" class=\"data row22 col1\" >2.2247</td>\n",
       "      <td id=\"T_86fb4_row22_col2\" class=\"data row22 col2\" >1.7373</td>\n",
       "      <td id=\"T_86fb4_row22_col3\" class=\"data row22 col3\" >4541137.7433</td>\n",
       "      <td id=\"T_86fb4_row22_col4\" class=\"data row22 col4\" >4541137.7433</td>\n",
       "      <td id=\"T_86fb4_row22_col5\" class=\"data row22 col5\" >0.3622</td>\n",
       "      <td id=\"T_86fb4_row22_col6\" class=\"data row22 col6\" >0.4427</td>\n",
       "      <td id=\"T_86fb4_row22_col7\" class=\"data row22 col7\" >0.0267</td>\n",
       "    </tr>\n",
       "  </tbody>\n",
       "</table>\n"
      ],
      "text/plain": [
       "<pandas.io.formats.style.Styler at 0x224cf57d9d0>"
      ]
     },
     "metadata": {},
     "output_type": "display_data"
    },
    {
     "data": {
      "text/html": [],
      "text/plain": [
       "<IPython.core.display.HTML object>"
      ]
     },
     "metadata": {},
     "output_type": "display_data"
    },
    {
     "data": {
      "application/vnd.plotly.v1+json": {
       "config": {
        "plotlyServerURL": "https://plot.ly"
       },
       "data": [
        {
         "line": {
          "color": "#1f77b4"
         },
         "marker": {
          "size": 5
         },
         "mode": "lines+markers",
         "name": "Forecast | Seasonal Naive Forecaster",
         "showlegend": true,
         "type": "scatter",
         "x": [
          "2022-12-01T00:00:00"
         ],
         "y": [
          5335129.6
         ]
        },
        {
         "line": {
          "width": 0
         },
         "marker": {
          "color": "#68BBE3"
         },
         "mode": "lines",
         "name": "Lower Interval",
         "showlegend": false,
         "type": "scatter",
         "x": [
          "2022-12-01T00:00:00"
         ],
         "y": [
          1071150.7367
         ]
        },
        {
         "fill": "tonexty",
         "fillcolor": "rgba(104,187,227,0.5)",
         "line": {
          "width": 0
         },
         "marker": {
          "color": "#68BBE3"
         },
         "mode": "lines",
         "name": "Prediction Interval | Seasonal Naive Forecaster",
         "showlegend": true,
         "type": "scatter",
         "x": [
          "2022-12-01T00:00:00"
         ],
         "y": [
          9599108.4633
         ]
        },
        {
         "marker": {
          "color": "#3f3f3f",
          "size": 5
         },
         "mode": "lines+markers",
         "name": "Original",
         "showlegend": true,
         "type": "scatter",
         "x": [
          "2016-01-01T00:00:00",
          "2016-02-01T00:00:00",
          "2016-03-01T00:00:00",
          "2016-04-01T00:00:00",
          "2016-05-01T00:00:00",
          "2016-06-01T00:00:00",
          "2016-07-01T00:00:00",
          "2016-08-01T00:00:00",
          "2016-09-01T00:00:00",
          "2016-10-01T00:00:00",
          "2016-11-01T00:00:00",
          "2016-12-01T00:00:00",
          "2017-01-01T00:00:00",
          "2017-02-01T00:00:00",
          "2017-03-01T00:00:00",
          "2017-04-01T00:00:00",
          "2017-05-01T00:00:00",
          "2017-06-01T00:00:00",
          "2017-07-01T00:00:00",
          "2017-08-01T00:00:00",
          "2017-09-01T00:00:00",
          "2017-10-01T00:00:00",
          "2017-11-01T00:00:00",
          "2017-12-01T00:00:00",
          "2018-01-01T00:00:00",
          "2018-02-01T00:00:00",
          "2018-03-01T00:00:00",
          "2018-04-01T00:00:00",
          "2018-05-01T00:00:00",
          "2018-06-01T00:00:00",
          "2018-07-01T00:00:00",
          "2018-08-01T00:00:00",
          "2018-09-01T00:00:00",
          "2018-10-01T00:00:00",
          "2018-11-01T00:00:00",
          "2018-12-01T00:00:00",
          "2019-01-01T00:00:00",
          "2019-02-01T00:00:00",
          "2019-03-01T00:00:00",
          "2019-04-01T00:00:00",
          "2019-05-01T00:00:00",
          "2019-06-01T00:00:00",
          "2019-07-01T00:00:00",
          "2019-08-01T00:00:00",
          "2019-09-01T00:00:00",
          "2019-10-01T00:00:00",
          "2019-11-01T00:00:00",
          "2019-12-01T00:00:00",
          "2020-01-01T00:00:00",
          "2020-02-01T00:00:00",
          "2020-03-01T00:00:00",
          "2020-04-01T00:00:00",
          "2020-05-01T00:00:00",
          "2020-06-01T00:00:00",
          "2020-07-01T00:00:00",
          "2020-08-01T00:00:00",
          "2020-09-01T00:00:00",
          "2020-10-01T00:00:00",
          "2020-11-01T00:00:00",
          "2020-12-01T00:00:00",
          "2021-01-01T00:00:00",
          "2021-02-01T00:00:00",
          "2021-03-01T00:00:00",
          "2021-04-01T00:00:00",
          "2021-05-01T00:00:00",
          "2021-06-01T00:00:00",
          "2021-07-01T00:00:00",
          "2021-08-01T00:00:00",
          "2021-09-01T00:00:00",
          "2021-10-01T00:00:00",
          "2021-11-01T00:00:00",
          "2021-12-01T00:00:00",
          "2022-01-01T00:00:00",
          "2022-02-01T00:00:00",
          "2022-03-01T00:00:00",
          "2022-04-01T00:00:00",
          "2022-05-01T00:00:00",
          "2022-06-01T00:00:00",
          "2022-07-01T00:00:00",
          "2022-08-01T00:00:00",
          "2022-09-01T00:00:00",
          "2022-10-01T00:00:00",
          "2022-11-01T00:00:00",
          "2022-12-01T00:00:00"
         ],
         "y": [
          3738317.4,
          4384746.209999999,
          4657544.66,
          5171260.620000001,
          6569795.3100000005,
          8319906.2299999995,
          5282476.85,
          6838040.699999999,
          5720205.03,
          8337051.260000001,
          7841547.94,
          6283787.13,
          3182033.9100000006,
          3459784.659999999,
          6171329.059999999,
          5461855.05,
          6649871.819999999,
          3457063.3800000004,
          3218368.38,
          7275830.84,
          8429271.59,
          13965788.64,
          8679321.44,
          5288124.980000001,
          4254794.16,
          3703937.7899999996,
          3730400.27,
          3067919.43,
          5200954.290000001,
          8029409.430000001,
          4870705.49,
          7790141.63,
          9201118.09,
          14773285.920000002,
          8357980.130000001,
          523319.1699999999,
          1777664.1900000002,
          3969440.2400000007,
          4309187.73,
          4664345.78,
          3570949.2399999998,
          7361816.289999998,
          5256380.5200000005,
          4746102.07,
          6633068.4799999995,
          9943877.57,
          9443771.259999998,
          4757669.630000001,
          3083167.25,
          4788681.569999999,
          3040734.3700000006,
          3072612.54,
          9391505.340000002,
          9156027.100000001,
          5489644.100000001,
          8551918.85,
          10005964.56,
          12711989.359999998,
          9250506.149999999,
          4057064.9799999995,
          8855749.989999998,
          7448546.529999998,
          7649544.540000001,
          9341502.95,
          10640466.379999999,
          7391166.09,
          6556439.000000001,
          8271606.16,
          8400478.020000001,
          12729215.56,
          13526148.43,
          5335129.6,
          5831587.19,
          5428107.02,
          5226201.46,
          5017651.62,
          9282788.739999998,
          5694082.470000001,
          5023800.99,
          6357307.189999999,
          12275967.7,
          12020860.950000001,
          13245284.92,
          8211309.32
         ]
        }
       ],
       "layout": {
        "showlegend": true,
        "template": {
         "data": {
          "bar": [
           {
            "error_x": {
             "color": "rgb(51,51,51)"
            },
            "error_y": {
             "color": "rgb(51,51,51)"
            },
            "marker": {
             "line": {
              "color": "rgb(237,237,237)",
              "width": 0.5
             },
             "pattern": {
              "fillmode": "overlay",
              "size": 10,
              "solidity": 0.2
             }
            },
            "type": "bar"
           }
          ],
          "barpolar": [
           {
            "marker": {
             "line": {
              "color": "rgb(237,237,237)",
              "width": 0.5
             },
             "pattern": {
              "fillmode": "overlay",
              "size": 10,
              "solidity": 0.2
             }
            },
            "type": "barpolar"
           }
          ],
          "carpet": [
           {
            "aaxis": {
             "endlinecolor": "rgb(51,51,51)",
             "gridcolor": "white",
             "linecolor": "white",
             "minorgridcolor": "white",
             "startlinecolor": "rgb(51,51,51)"
            },
            "baxis": {
             "endlinecolor": "rgb(51,51,51)",
             "gridcolor": "white",
             "linecolor": "white",
             "minorgridcolor": "white",
             "startlinecolor": "rgb(51,51,51)"
            },
            "type": "carpet"
           }
          ],
          "choropleth": [
           {
            "colorbar": {
             "outlinewidth": 0,
             "tickcolor": "rgb(237,237,237)",
             "ticklen": 6,
             "ticks": "inside"
            },
            "type": "choropleth"
           }
          ],
          "contour": [
           {
            "colorbar": {
             "outlinewidth": 0,
             "tickcolor": "rgb(237,237,237)",
             "ticklen": 6,
             "ticks": "inside"
            },
            "colorscale": [
             [
              0,
              "rgb(20,44,66)"
             ],
             [
              1,
              "rgb(90,179,244)"
             ]
            ],
            "type": "contour"
           }
          ],
          "contourcarpet": [
           {
            "colorbar": {
             "outlinewidth": 0,
             "tickcolor": "rgb(237,237,237)",
             "ticklen": 6,
             "ticks": "inside"
            },
            "type": "contourcarpet"
           }
          ],
          "heatmap": [
           {
            "colorbar": {
             "outlinewidth": 0,
             "tickcolor": "rgb(237,237,237)",
             "ticklen": 6,
             "ticks": "inside"
            },
            "colorscale": [
             [
              0,
              "rgb(20,44,66)"
             ],
             [
              1,
              "rgb(90,179,244)"
             ]
            ],
            "type": "heatmap"
           }
          ],
          "heatmapgl": [
           {
            "colorbar": {
             "outlinewidth": 0,
             "tickcolor": "rgb(237,237,237)",
             "ticklen": 6,
             "ticks": "inside"
            },
            "colorscale": [
             [
              0,
              "rgb(20,44,66)"
             ],
             [
              1,
              "rgb(90,179,244)"
             ]
            ],
            "type": "heatmapgl"
           }
          ],
          "histogram": [
           {
            "marker": {
             "pattern": {
              "fillmode": "overlay",
              "size": 10,
              "solidity": 0.2
             }
            },
            "type": "histogram"
           }
          ],
          "histogram2d": [
           {
            "colorbar": {
             "outlinewidth": 0,
             "tickcolor": "rgb(237,237,237)",
             "ticklen": 6,
             "ticks": "inside"
            },
            "colorscale": [
             [
              0,
              "rgb(20,44,66)"
             ],
             [
              1,
              "rgb(90,179,244)"
             ]
            ],
            "type": "histogram2d"
           }
          ],
          "histogram2dcontour": [
           {
            "colorbar": {
             "outlinewidth": 0,
             "tickcolor": "rgb(237,237,237)",
             "ticklen": 6,
             "ticks": "inside"
            },
            "colorscale": [
             [
              0,
              "rgb(20,44,66)"
             ],
             [
              1,
              "rgb(90,179,244)"
             ]
            ],
            "type": "histogram2dcontour"
           }
          ],
          "mesh3d": [
           {
            "colorbar": {
             "outlinewidth": 0,
             "tickcolor": "rgb(237,237,237)",
             "ticklen": 6,
             "ticks": "inside"
            },
            "type": "mesh3d"
           }
          ],
          "parcoords": [
           {
            "line": {
             "colorbar": {
              "outlinewidth": 0,
              "tickcolor": "rgb(237,237,237)",
              "ticklen": 6,
              "ticks": "inside"
             }
            },
            "type": "parcoords"
           }
          ],
          "pie": [
           {
            "automargin": true,
            "type": "pie"
           }
          ],
          "scatter": [
           {
            "fillpattern": {
             "fillmode": "overlay",
             "size": 10,
             "solidity": 0.2
            },
            "type": "scatter"
           }
          ],
          "scatter3d": [
           {
            "line": {
             "colorbar": {
              "outlinewidth": 0,
              "tickcolor": "rgb(237,237,237)",
              "ticklen": 6,
              "ticks": "inside"
             }
            },
            "marker": {
             "colorbar": {
              "outlinewidth": 0,
              "tickcolor": "rgb(237,237,237)",
              "ticklen": 6,
              "ticks": "inside"
             }
            },
            "type": "scatter3d"
           }
          ],
          "scattercarpet": [
           {
            "marker": {
             "colorbar": {
              "outlinewidth": 0,
              "tickcolor": "rgb(237,237,237)",
              "ticklen": 6,
              "ticks": "inside"
             }
            },
            "type": "scattercarpet"
           }
          ],
          "scattergeo": [
           {
            "marker": {
             "colorbar": {
              "outlinewidth": 0,
              "tickcolor": "rgb(237,237,237)",
              "ticklen": 6,
              "ticks": "inside"
             }
            },
            "type": "scattergeo"
           }
          ],
          "scattergl": [
           {
            "marker": {
             "colorbar": {
              "outlinewidth": 0,
              "tickcolor": "rgb(237,237,237)",
              "ticklen": 6,
              "ticks": "inside"
             }
            },
            "type": "scattergl"
           }
          ],
          "scattermapbox": [
           {
            "marker": {
             "colorbar": {
              "outlinewidth": 0,
              "tickcolor": "rgb(237,237,237)",
              "ticklen": 6,
              "ticks": "inside"
             }
            },
            "type": "scattermapbox"
           }
          ],
          "scatterpolar": [
           {
            "marker": {
             "colorbar": {
              "outlinewidth": 0,
              "tickcolor": "rgb(237,237,237)",
              "ticklen": 6,
              "ticks": "inside"
             }
            },
            "type": "scatterpolar"
           }
          ],
          "scatterpolargl": [
           {
            "marker": {
             "colorbar": {
              "outlinewidth": 0,
              "tickcolor": "rgb(237,237,237)",
              "ticklen": 6,
              "ticks": "inside"
             }
            },
            "type": "scatterpolargl"
           }
          ],
          "scatterternary": [
           {
            "marker": {
             "colorbar": {
              "outlinewidth": 0,
              "tickcolor": "rgb(237,237,237)",
              "ticklen": 6,
              "ticks": "inside"
             }
            },
            "type": "scatterternary"
           }
          ],
          "surface": [
           {
            "colorbar": {
             "outlinewidth": 0,
             "tickcolor": "rgb(237,237,237)",
             "ticklen": 6,
             "ticks": "inside"
            },
            "colorscale": [
             [
              0,
              "rgb(20,44,66)"
             ],
             [
              1,
              "rgb(90,179,244)"
             ]
            ],
            "type": "surface"
           }
          ],
          "table": [
           {
            "cells": {
             "fill": {
              "color": "rgb(237,237,237)"
             },
             "line": {
              "color": "white"
             }
            },
            "header": {
             "fill": {
              "color": "rgb(217,217,217)"
             },
             "line": {
              "color": "white"
             }
            },
            "type": "table"
           }
          ]
         },
         "layout": {
          "annotationdefaults": {
           "arrowhead": 0,
           "arrowwidth": 1
          },
          "autotypenumbers": "strict",
          "coloraxis": {
           "colorbar": {
            "outlinewidth": 0,
            "tickcolor": "rgb(237,237,237)",
            "ticklen": 6,
            "ticks": "inside"
           }
          },
          "colorscale": {
           "sequential": [
            [
             0,
             "rgb(20,44,66)"
            ],
            [
             1,
             "rgb(90,179,244)"
            ]
           ],
           "sequentialminus": [
            [
             0,
             "rgb(20,44,66)"
            ],
            [
             1,
             "rgb(90,179,244)"
            ]
           ]
          },
          "colorway": [
           "#F8766D",
           "#A3A500",
           "#00BF7D",
           "#00B0F6",
           "#E76BF3"
          ],
          "font": {
           "color": "rgb(51,51,51)"
          },
          "geo": {
           "bgcolor": "white",
           "lakecolor": "white",
           "landcolor": "rgb(237,237,237)",
           "showlakes": true,
           "showland": true,
           "subunitcolor": "white"
          },
          "hoverlabel": {
           "align": "left"
          },
          "hovermode": "closest",
          "paper_bgcolor": "white",
          "plot_bgcolor": "rgb(237,237,237)",
          "polar": {
           "angularaxis": {
            "gridcolor": "white",
            "linecolor": "white",
            "showgrid": true,
            "tickcolor": "rgb(51,51,51)",
            "ticks": "outside"
           },
           "bgcolor": "rgb(237,237,237)",
           "radialaxis": {
            "gridcolor": "white",
            "linecolor": "white",
            "showgrid": true,
            "tickcolor": "rgb(51,51,51)",
            "ticks": "outside"
           }
          },
          "scene": {
           "xaxis": {
            "backgroundcolor": "rgb(237,237,237)",
            "gridcolor": "white",
            "gridwidth": 2,
            "linecolor": "white",
            "showbackground": true,
            "showgrid": true,
            "tickcolor": "rgb(51,51,51)",
            "ticks": "outside",
            "zerolinecolor": "white"
           },
           "yaxis": {
            "backgroundcolor": "rgb(237,237,237)",
            "gridcolor": "white",
            "gridwidth": 2,
            "linecolor": "white",
            "showbackground": true,
            "showgrid": true,
            "tickcolor": "rgb(51,51,51)",
            "ticks": "outside",
            "zerolinecolor": "white"
           },
           "zaxis": {
            "backgroundcolor": "rgb(237,237,237)",
            "gridcolor": "white",
            "gridwidth": 2,
            "linecolor": "white",
            "showbackground": true,
            "showgrid": true,
            "tickcolor": "rgb(51,51,51)",
            "ticks": "outside",
            "zerolinecolor": "white"
           }
          },
          "shapedefaults": {
           "fillcolor": "black",
           "line": {
            "width": 0
           },
           "opacity": 0.3
          },
          "ternary": {
           "aaxis": {
            "gridcolor": "white",
            "linecolor": "white",
            "showgrid": true,
            "tickcolor": "rgb(51,51,51)",
            "ticks": "outside"
           },
           "baxis": {
            "gridcolor": "white",
            "linecolor": "white",
            "showgrid": true,
            "tickcolor": "rgb(51,51,51)",
            "ticks": "outside"
           },
           "bgcolor": "rgb(237,237,237)",
           "caxis": {
            "gridcolor": "white",
            "linecolor": "white",
            "showgrid": true,
            "tickcolor": "rgb(51,51,51)",
            "ticks": "outside"
           }
          },
          "xaxis": {
           "automargin": true,
           "gridcolor": "white",
           "linecolor": "white",
           "showgrid": true,
           "tickcolor": "rgb(51,51,51)",
           "ticks": "outside",
           "title": {
            "standoff": 15
           },
           "zerolinecolor": "white"
          },
          "yaxis": {
           "automargin": true,
           "gridcolor": "white",
           "linecolor": "white",
           "showgrid": true,
           "tickcolor": "rgb(51,51,51)",
           "ticks": "outside",
           "title": {
            "standoff": 15
           },
           "zerolinecolor": "white"
          }
         }
        },
        "title": {
         "text": "Actual vs. 'Out-of-Sample' Forecast | NET_SALES"
        },
        "xaxis": {
         "title": {
          "text": "Time"
         }
        },
        "yaxis": {
         "title": {
          "text": "Values"
         }
        }
       }
      }
     },
     "metadata": {},
     "output_type": "display_data"
    },
    {
     "name": "stderr",
     "output_type": "stream",
     "text": [
      " 79%|███████▊  | 11/14 [02:40<00:51, 17.26s/it]"
     ]
    },
    {
     "data": {
      "text/html": [
       "<style type=\"text/css\">\n",
       "#T_93bf2_row28_col1, #T_93bf2_row31_col1 {\n",
       "  background-color: lightgreen;\n",
       "}\n",
       "</style>\n",
       "<table id=\"T_93bf2\">\n",
       "  <thead>\n",
       "    <tr>\n",
       "      <th class=\"blank level0\" >&nbsp;</th>\n",
       "      <th id=\"T_93bf2_level0_col0\" class=\"col_heading level0 col0\" >Description</th>\n",
       "      <th id=\"T_93bf2_level0_col1\" class=\"col_heading level0 col1\" >Value</th>\n",
       "    </tr>\n",
       "  </thead>\n",
       "  <tbody>\n",
       "    <tr>\n",
       "      <th id=\"T_93bf2_level0_row0\" class=\"row_heading level0 row0\" >0</th>\n",
       "      <td id=\"T_93bf2_row0_col0\" class=\"data row0 col0\" >session_id</td>\n",
       "      <td id=\"T_93bf2_row0_col1\" class=\"data row0 col1\" >123</td>\n",
       "    </tr>\n",
       "    <tr>\n",
       "      <th id=\"T_93bf2_level0_row1\" class=\"row_heading level0 row1\" >1</th>\n",
       "      <td id=\"T_93bf2_row1_col0\" class=\"data row1 col0\" >Target</td>\n",
       "      <td id=\"T_93bf2_row1_col1\" class=\"data row1 col1\" >NET_SALES</td>\n",
       "    </tr>\n",
       "    <tr>\n",
       "      <th id=\"T_93bf2_level0_row2\" class=\"row_heading level0 row2\" >2</th>\n",
       "      <td id=\"T_93bf2_row2_col0\" class=\"data row2 col0\" >Approach</td>\n",
       "      <td id=\"T_93bf2_row2_col1\" class=\"data row2 col1\" >Univariate</td>\n",
       "    </tr>\n",
       "    <tr>\n",
       "      <th id=\"T_93bf2_level0_row3\" class=\"row_heading level0 row3\" >3</th>\n",
       "      <td id=\"T_93bf2_row3_col0\" class=\"data row3 col0\" >Exogenous Variables</td>\n",
       "      <td id=\"T_93bf2_row3_col1\" class=\"data row3 col1\" >Not Present</td>\n",
       "    </tr>\n",
       "    <tr>\n",
       "      <th id=\"T_93bf2_level0_row4\" class=\"row_heading level0 row4\" >4</th>\n",
       "      <td id=\"T_93bf2_row4_col0\" class=\"data row4 col0\" >Original data shape</td>\n",
       "      <td id=\"T_93bf2_row4_col1\" class=\"data row4 col1\" >(51, 1)</td>\n",
       "    </tr>\n",
       "    <tr>\n",
       "      <th id=\"T_93bf2_level0_row5\" class=\"row_heading level0 row5\" >5</th>\n",
       "      <td id=\"T_93bf2_row5_col0\" class=\"data row5 col0\" >Transformed data shape</td>\n",
       "      <td id=\"T_93bf2_row5_col1\" class=\"data row5 col1\" >(51, 1)</td>\n",
       "    </tr>\n",
       "    <tr>\n",
       "      <th id=\"T_93bf2_level0_row6\" class=\"row_heading level0 row6\" >6</th>\n",
       "      <td id=\"T_93bf2_row6_col0\" class=\"data row6 col0\" >Transformed train set shape</td>\n",
       "      <td id=\"T_93bf2_row6_col1\" class=\"data row6 col1\" >(50, 1)</td>\n",
       "    </tr>\n",
       "    <tr>\n",
       "      <th id=\"T_93bf2_level0_row7\" class=\"row_heading level0 row7\" >7</th>\n",
       "      <td id=\"T_93bf2_row7_col0\" class=\"data row7 col0\" >Transformed test set shape</td>\n",
       "      <td id=\"T_93bf2_row7_col1\" class=\"data row7 col1\" >(1, 1)</td>\n",
       "    </tr>\n",
       "    <tr>\n",
       "      <th id=\"T_93bf2_level0_row8\" class=\"row_heading level0 row8\" >8</th>\n",
       "      <td id=\"T_93bf2_row8_col0\" class=\"data row8 col0\" >Rows with missing values</td>\n",
       "      <td id=\"T_93bf2_row8_col1\" class=\"data row8 col1\" >2.0%</td>\n",
       "    </tr>\n",
       "    <tr>\n",
       "      <th id=\"T_93bf2_level0_row9\" class=\"row_heading level0 row9\" >9</th>\n",
       "      <td id=\"T_93bf2_row9_col0\" class=\"data row9 col0\" >Fold Generator</td>\n",
       "      <td id=\"T_93bf2_row9_col1\" class=\"data row9 col1\" >ExpandingWindowSplitter</td>\n",
       "    </tr>\n",
       "    <tr>\n",
       "      <th id=\"T_93bf2_level0_row10\" class=\"row_heading level0 row10\" >10</th>\n",
       "      <td id=\"T_93bf2_row10_col0\" class=\"data row10 col0\" >Fold Number</td>\n",
       "      <td id=\"T_93bf2_row10_col1\" class=\"data row10 col1\" >3</td>\n",
       "    </tr>\n",
       "    <tr>\n",
       "      <th id=\"T_93bf2_level0_row11\" class=\"row_heading level0 row11\" >11</th>\n",
       "      <td id=\"T_93bf2_row11_col0\" class=\"data row11 col0\" >Enforce Prediction Interval</td>\n",
       "      <td id=\"T_93bf2_row11_col1\" class=\"data row11 col1\" >False</td>\n",
       "    </tr>\n",
       "    <tr>\n",
       "      <th id=\"T_93bf2_level0_row12\" class=\"row_heading level0 row12\" >12</th>\n",
       "      <td id=\"T_93bf2_row12_col0\" class=\"data row12 col0\" >Splits used for hyperparameters</td>\n",
       "      <td id=\"T_93bf2_row12_col1\" class=\"data row12 col1\" >all</td>\n",
       "    </tr>\n",
       "    <tr>\n",
       "      <th id=\"T_93bf2_level0_row13\" class=\"row_heading level0 row13\" >13</th>\n",
       "      <td id=\"T_93bf2_row13_col0\" class=\"data row13 col0\" >User Defined Seasonal Period(s)</td>\n",
       "      <td id=\"T_93bf2_row13_col1\" class=\"data row13 col1\" >None</td>\n",
       "    </tr>\n",
       "    <tr>\n",
       "      <th id=\"T_93bf2_level0_row14\" class=\"row_heading level0 row14\" >14</th>\n",
       "      <td id=\"T_93bf2_row14_col0\" class=\"data row14 col0\" >Ignore Seasonality Test</td>\n",
       "      <td id=\"T_93bf2_row14_col1\" class=\"data row14 col1\" >False</td>\n",
       "    </tr>\n",
       "    <tr>\n",
       "      <th id=\"T_93bf2_level0_row15\" class=\"row_heading level0 row15\" >15</th>\n",
       "      <td id=\"T_93bf2_row15_col0\" class=\"data row15 col0\" >Seasonality Detection Algo</td>\n",
       "      <td id=\"T_93bf2_row15_col1\" class=\"data row15 col1\" >auto</td>\n",
       "    </tr>\n",
       "    <tr>\n",
       "      <th id=\"T_93bf2_level0_row16\" class=\"row_heading level0 row16\" >16</th>\n",
       "      <td id=\"T_93bf2_row16_col0\" class=\"data row16 col0\" >Max Period to Consider</td>\n",
       "      <td id=\"T_93bf2_row16_col1\" class=\"data row16 col1\" >60</td>\n",
       "    </tr>\n",
       "    <tr>\n",
       "      <th id=\"T_93bf2_level0_row17\" class=\"row_heading level0 row17\" >17</th>\n",
       "      <td id=\"T_93bf2_row17_col0\" class=\"data row17 col0\" >Seasonal Period(s) Tested</td>\n",
       "      <td id=\"T_93bf2_row17_col1\" class=\"data row17 col1\" >[]</td>\n",
       "    </tr>\n",
       "    <tr>\n",
       "      <th id=\"T_93bf2_level0_row18\" class=\"row_heading level0 row18\" >18</th>\n",
       "      <td id=\"T_93bf2_row18_col0\" class=\"data row18 col0\" >Significant Seasonal Period(s)</td>\n",
       "      <td id=\"T_93bf2_row18_col1\" class=\"data row18 col1\" >[1]</td>\n",
       "    </tr>\n",
       "    <tr>\n",
       "      <th id=\"T_93bf2_level0_row19\" class=\"row_heading level0 row19\" >19</th>\n",
       "      <td id=\"T_93bf2_row19_col0\" class=\"data row19 col0\" >Significant Seasonal Period(s) without Harmonics</td>\n",
       "      <td id=\"T_93bf2_row19_col1\" class=\"data row19 col1\" >[1]</td>\n",
       "    </tr>\n",
       "    <tr>\n",
       "      <th id=\"T_93bf2_level0_row20\" class=\"row_heading level0 row20\" >20</th>\n",
       "      <td id=\"T_93bf2_row20_col0\" class=\"data row20 col0\" >Remove Harmonics</td>\n",
       "      <td id=\"T_93bf2_row20_col1\" class=\"data row20 col1\" >False</td>\n",
       "    </tr>\n",
       "    <tr>\n",
       "      <th id=\"T_93bf2_level0_row21\" class=\"row_heading level0 row21\" >21</th>\n",
       "      <td id=\"T_93bf2_row21_col0\" class=\"data row21 col0\" >Harmonics Order Method</td>\n",
       "      <td id=\"T_93bf2_row21_col1\" class=\"data row21 col1\" >harmonic_max</td>\n",
       "    </tr>\n",
       "    <tr>\n",
       "      <th id=\"T_93bf2_level0_row22\" class=\"row_heading level0 row22\" >22</th>\n",
       "      <td id=\"T_93bf2_row22_col0\" class=\"data row22 col0\" >Num Seasonalities to Use</td>\n",
       "      <td id=\"T_93bf2_row22_col1\" class=\"data row22 col1\" >1</td>\n",
       "    </tr>\n",
       "    <tr>\n",
       "      <th id=\"T_93bf2_level0_row23\" class=\"row_heading level0 row23\" >23</th>\n",
       "      <td id=\"T_93bf2_row23_col0\" class=\"data row23 col0\" >All Seasonalities to Use</td>\n",
       "      <td id=\"T_93bf2_row23_col1\" class=\"data row23 col1\" >[1]</td>\n",
       "    </tr>\n",
       "    <tr>\n",
       "      <th id=\"T_93bf2_level0_row24\" class=\"row_heading level0 row24\" >24</th>\n",
       "      <td id=\"T_93bf2_row24_col0\" class=\"data row24 col0\" >Primary Seasonality</td>\n",
       "      <td id=\"T_93bf2_row24_col1\" class=\"data row24 col1\" >1</td>\n",
       "    </tr>\n",
       "    <tr>\n",
       "      <th id=\"T_93bf2_level0_row25\" class=\"row_heading level0 row25\" >25</th>\n",
       "      <td id=\"T_93bf2_row25_col0\" class=\"data row25 col0\" >Seasonality Present</td>\n",
       "      <td id=\"T_93bf2_row25_col1\" class=\"data row25 col1\" >False</td>\n",
       "    </tr>\n",
       "    <tr>\n",
       "      <th id=\"T_93bf2_level0_row26\" class=\"row_heading level0 row26\" >26</th>\n",
       "      <td id=\"T_93bf2_row26_col0\" class=\"data row26 col0\" >Seasonality Type</td>\n",
       "      <td id=\"T_93bf2_row26_col1\" class=\"data row26 col1\" >None</td>\n",
       "    </tr>\n",
       "    <tr>\n",
       "      <th id=\"T_93bf2_level0_row27\" class=\"row_heading level0 row27\" >27</th>\n",
       "      <td id=\"T_93bf2_row27_col0\" class=\"data row27 col0\" >Target Strictly Positive</td>\n",
       "      <td id=\"T_93bf2_row27_col1\" class=\"data row27 col1\" >False</td>\n",
       "    </tr>\n",
       "    <tr>\n",
       "      <th id=\"T_93bf2_level0_row28\" class=\"row_heading level0 row28\" >28</th>\n",
       "      <td id=\"T_93bf2_row28_col0\" class=\"data row28 col0\" >Target White Noise</td>\n",
       "      <td id=\"T_93bf2_row28_col1\" class=\"data row28 col1\" >Yes</td>\n",
       "    </tr>\n",
       "    <tr>\n",
       "      <th id=\"T_93bf2_level0_row29\" class=\"row_heading level0 row29\" >29</th>\n",
       "      <td id=\"T_93bf2_row29_col0\" class=\"data row29 col0\" >Recommended d</td>\n",
       "      <td id=\"T_93bf2_row29_col1\" class=\"data row29 col1\" >0</td>\n",
       "    </tr>\n",
       "    <tr>\n",
       "      <th id=\"T_93bf2_level0_row30\" class=\"row_heading level0 row30\" >30</th>\n",
       "      <td id=\"T_93bf2_row30_col0\" class=\"data row30 col0\" >Recommended Seasonal D</td>\n",
       "      <td id=\"T_93bf2_row30_col1\" class=\"data row30 col1\" >0</td>\n",
       "    </tr>\n",
       "    <tr>\n",
       "      <th id=\"T_93bf2_level0_row31\" class=\"row_heading level0 row31\" >31</th>\n",
       "      <td id=\"T_93bf2_row31_col0\" class=\"data row31 col0\" >Preprocess</td>\n",
       "      <td id=\"T_93bf2_row31_col1\" class=\"data row31 col1\" >True</td>\n",
       "    </tr>\n",
       "    <tr>\n",
       "      <th id=\"T_93bf2_level0_row32\" class=\"row_heading level0 row32\" >32</th>\n",
       "      <td id=\"T_93bf2_row32_col0\" class=\"data row32 col0\" >Numerical Imputation (Target)</td>\n",
       "      <td id=\"T_93bf2_row32_col1\" class=\"data row32 col1\" >mean</td>\n",
       "    </tr>\n",
       "    <tr>\n",
       "      <th id=\"T_93bf2_level0_row33\" class=\"row_heading level0 row33\" >33</th>\n",
       "      <td id=\"T_93bf2_row33_col0\" class=\"data row33 col0\" >Transformation (Target)</td>\n",
       "      <td id=\"T_93bf2_row33_col1\" class=\"data row33 col1\" >None</td>\n",
       "    </tr>\n",
       "    <tr>\n",
       "      <th id=\"T_93bf2_level0_row34\" class=\"row_heading level0 row34\" >34</th>\n",
       "      <td id=\"T_93bf2_row34_col0\" class=\"data row34 col0\" >Scaling (Target)</td>\n",
       "      <td id=\"T_93bf2_row34_col1\" class=\"data row34 col1\" >None</td>\n",
       "    </tr>\n",
       "    <tr>\n",
       "      <th id=\"T_93bf2_level0_row35\" class=\"row_heading level0 row35\" >35</th>\n",
       "      <td id=\"T_93bf2_row35_col0\" class=\"data row35 col0\" >Feature Engineering (Target) - Reduced Regression</td>\n",
       "      <td id=\"T_93bf2_row35_col1\" class=\"data row35 col1\" >False</td>\n",
       "    </tr>\n",
       "    <tr>\n",
       "      <th id=\"T_93bf2_level0_row36\" class=\"row_heading level0 row36\" >36</th>\n",
       "      <td id=\"T_93bf2_row36_col0\" class=\"data row36 col0\" >CPU Jobs</td>\n",
       "      <td id=\"T_93bf2_row36_col1\" class=\"data row36 col1\" >-1</td>\n",
       "    </tr>\n",
       "    <tr>\n",
       "      <th id=\"T_93bf2_level0_row37\" class=\"row_heading level0 row37\" >37</th>\n",
       "      <td id=\"T_93bf2_row37_col0\" class=\"data row37 col0\" >Use GPU</td>\n",
       "      <td id=\"T_93bf2_row37_col1\" class=\"data row37 col1\" >False</td>\n",
       "    </tr>\n",
       "    <tr>\n",
       "      <th id=\"T_93bf2_level0_row38\" class=\"row_heading level0 row38\" >38</th>\n",
       "      <td id=\"T_93bf2_row38_col0\" class=\"data row38 col0\" >Log Experiment</td>\n",
       "      <td id=\"T_93bf2_row38_col1\" class=\"data row38 col1\" >False</td>\n",
       "    </tr>\n",
       "    <tr>\n",
       "      <th id=\"T_93bf2_level0_row39\" class=\"row_heading level0 row39\" >39</th>\n",
       "      <td id=\"T_93bf2_row39_col0\" class=\"data row39 col0\" >Experiment Name</td>\n",
       "      <td id=\"T_93bf2_row39_col1\" class=\"data row39 col1\" >ts-default-name</td>\n",
       "    </tr>\n",
       "    <tr>\n",
       "      <th id=\"T_93bf2_level0_row40\" class=\"row_heading level0 row40\" >40</th>\n",
       "      <td id=\"T_93bf2_row40_col0\" class=\"data row40 col0\" >USI</td>\n",
       "      <td id=\"T_93bf2_row40_col1\" class=\"data row40 col1\" >e124</td>\n",
       "    </tr>\n",
       "  </tbody>\n",
       "</table>\n"
      ],
      "text/plain": [
       "<pandas.io.formats.style.Styler at 0x224d08aea90>"
      ]
     },
     "metadata": {},
     "output_type": "display_data"
    },
    {
     "data": {
      "text/html": [],
      "text/plain": [
       "<IPython.core.display.HTML object>"
      ]
     },
     "metadata": {},
     "output_type": "display_data"
    },
    {
     "data": {
      "text/html": [
       "<style type=\"text/css\">\n",
       "#T_cb702 th {\n",
       "  text-align: left;\n",
       "}\n",
       "#T_cb702_row0_col0, #T_cb702_row0_col1, #T_cb702_row0_col2, #T_cb702_row0_col3, #T_cb702_row0_col4, #T_cb702_row0_col6, #T_cb702_row1_col0, #T_cb702_row1_col5, #T_cb702_row1_col6, #T_cb702_row2_col0, #T_cb702_row2_col1, #T_cb702_row2_col2, #T_cb702_row2_col3, #T_cb702_row2_col4, #T_cb702_row2_col5, #T_cb702_row2_col6, #T_cb702_row3_col0, #T_cb702_row3_col1, #T_cb702_row3_col2, #T_cb702_row3_col3, #T_cb702_row3_col4, #T_cb702_row3_col5, #T_cb702_row3_col6, #T_cb702_row4_col0, #T_cb702_row4_col1, #T_cb702_row4_col2, #T_cb702_row4_col3, #T_cb702_row4_col4, #T_cb702_row4_col5, #T_cb702_row4_col6, #T_cb702_row5_col0, #T_cb702_row5_col1, #T_cb702_row5_col2, #T_cb702_row5_col3, #T_cb702_row5_col4, #T_cb702_row5_col5, #T_cb702_row5_col6, #T_cb702_row6_col0, #T_cb702_row6_col1, #T_cb702_row6_col2, #T_cb702_row6_col3, #T_cb702_row6_col4, #T_cb702_row6_col5, #T_cb702_row6_col6, #T_cb702_row7_col0, #T_cb702_row7_col1, #T_cb702_row7_col2, #T_cb702_row7_col3, #T_cb702_row7_col4, #T_cb702_row7_col5, #T_cb702_row7_col6, #T_cb702_row8_col0, #T_cb702_row8_col1, #T_cb702_row8_col2, #T_cb702_row8_col3, #T_cb702_row8_col4, #T_cb702_row8_col5, #T_cb702_row8_col6, #T_cb702_row9_col0, #T_cb702_row9_col1, #T_cb702_row9_col2, #T_cb702_row9_col3, #T_cb702_row9_col4, #T_cb702_row9_col5, #T_cb702_row9_col6, #T_cb702_row10_col0, #T_cb702_row10_col1, #T_cb702_row10_col2, #T_cb702_row10_col3, #T_cb702_row10_col4, #T_cb702_row10_col5, #T_cb702_row10_col6, #T_cb702_row11_col0, #T_cb702_row11_col1, #T_cb702_row11_col2, #T_cb702_row11_col3, #T_cb702_row11_col4, #T_cb702_row11_col5, #T_cb702_row12_col0, #T_cb702_row12_col1, #T_cb702_row12_col2, #T_cb702_row12_col3, #T_cb702_row12_col4, #T_cb702_row12_col5, #T_cb702_row12_col6, #T_cb702_row13_col0, #T_cb702_row13_col1, #T_cb702_row13_col2, #T_cb702_row13_col3, #T_cb702_row13_col4, #T_cb702_row13_col5, #T_cb702_row13_col6, #T_cb702_row14_col0, #T_cb702_row14_col1, #T_cb702_row14_col2, #T_cb702_row14_col3, #T_cb702_row14_col4, #T_cb702_row14_col5, #T_cb702_row14_col6, #T_cb702_row15_col0, #T_cb702_row15_col1, #T_cb702_row15_col2, #T_cb702_row15_col3, #T_cb702_row15_col4, #T_cb702_row15_col5, #T_cb702_row15_col6, #T_cb702_row16_col0, #T_cb702_row16_col1, #T_cb702_row16_col2, #T_cb702_row16_col3, #T_cb702_row16_col4, #T_cb702_row16_col5, #T_cb702_row16_col6, #T_cb702_row17_col0, #T_cb702_row17_col1, #T_cb702_row17_col2, #T_cb702_row17_col3, #T_cb702_row17_col4, #T_cb702_row17_col5, #T_cb702_row17_col6, #T_cb702_row18_col0, #T_cb702_row18_col1, #T_cb702_row18_col2, #T_cb702_row18_col3, #T_cb702_row18_col4, #T_cb702_row18_col5, #T_cb702_row18_col6, #T_cb702_row19_col0, #T_cb702_row19_col1, #T_cb702_row19_col2, #T_cb702_row19_col3, #T_cb702_row19_col4, #T_cb702_row19_col5, #T_cb702_row19_col6, #T_cb702_row20_col0, #T_cb702_row20_col1, #T_cb702_row20_col2, #T_cb702_row20_col3, #T_cb702_row20_col4, #T_cb702_row20_col5, #T_cb702_row20_col6 {\n",
       "  text-align: left;\n",
       "}\n",
       "#T_cb702_row0_col5, #T_cb702_row1_col1, #T_cb702_row1_col2, #T_cb702_row1_col3, #T_cb702_row1_col4, #T_cb702_row11_col6 {\n",
       "  text-align: left;\n",
       "  background-color: yellow;\n",
       "}\n",
       "#T_cb702_row0_col7, #T_cb702_row1_col7, #T_cb702_row2_col7, #T_cb702_row3_col7, #T_cb702_row4_col7, #T_cb702_row5_col7, #T_cb702_row6_col7, #T_cb702_row7_col7, #T_cb702_row8_col7, #T_cb702_row9_col7, #T_cb702_row10_col7, #T_cb702_row11_col7, #T_cb702_row12_col7, #T_cb702_row14_col7, #T_cb702_row15_col7, #T_cb702_row16_col7, #T_cb702_row17_col7, #T_cb702_row18_col7, #T_cb702_row19_col7, #T_cb702_row20_col7 {\n",
       "  text-align: left;\n",
       "  background-color: lightgrey;\n",
       "}\n",
       "#T_cb702_row13_col7 {\n",
       "  text-align: left;\n",
       "  background-color: yellow;\n",
       "  background-color: lightgrey;\n",
       "}\n",
       "</style>\n",
       "<table id=\"T_cb702\">\n",
       "  <thead>\n",
       "    <tr>\n",
       "      <th class=\"blank level0\" >&nbsp;</th>\n",
       "      <th id=\"T_cb702_level0_col0\" class=\"col_heading level0 col0\" >Model</th>\n",
       "      <th id=\"T_cb702_level0_col1\" class=\"col_heading level0 col1\" >MASE</th>\n",
       "      <th id=\"T_cb702_level0_col2\" class=\"col_heading level0 col2\" >RMSSE</th>\n",
       "      <th id=\"T_cb702_level0_col3\" class=\"col_heading level0 col3\" >MAE</th>\n",
       "      <th id=\"T_cb702_level0_col4\" class=\"col_heading level0 col4\" >RMSE</th>\n",
       "      <th id=\"T_cb702_level0_col5\" class=\"col_heading level0 col5\" >MAPE</th>\n",
       "      <th id=\"T_cb702_level0_col6\" class=\"col_heading level0 col6\" >SMAPE</th>\n",
       "      <th id=\"T_cb702_level0_col7\" class=\"col_heading level0 col7\" >TT (Sec)</th>\n",
       "    </tr>\n",
       "  </thead>\n",
       "  <tbody>\n",
       "    <tr>\n",
       "      <th id=\"T_cb702_level0_row0\" class=\"row_heading level0 row0\" >ets</th>\n",
       "      <td id=\"T_cb702_row0_col0\" class=\"data row0 col0\" >ETS</td>\n",
       "      <td id=\"T_cb702_row0_col1\" class=\"data row0 col1\" >0.5276</td>\n",
       "      <td id=\"T_cb702_row0_col2\" class=\"data row0 col2\" >0.3061</td>\n",
       "      <td id=\"T_cb702_row0_col3\" class=\"data row0 col3\" >14879.0178</td>\n",
       "      <td id=\"T_cb702_row0_col4\" class=\"data row0 col4\" >14879.0178</td>\n",
       "      <td id=\"T_cb702_row0_col5\" class=\"data row0 col5\" >10.4295</td>\n",
       "      <td id=\"T_cb702_row0_col6\" class=\"data row0 col6\" >0.9493</td>\n",
       "      <td id=\"T_cb702_row0_col7\" class=\"data row0 col7\" >0.0367</td>\n",
       "    </tr>\n",
       "    <tr>\n",
       "      <th id=\"T_cb702_level0_row1\" class=\"row_heading level0 row1\" >arima</th>\n",
       "      <td id=\"T_cb702_row1_col0\" class=\"data row1 col0\" >ARIMA</td>\n",
       "      <td id=\"T_cb702_row1_col1\" class=\"data row1 col1\" >0.5060</td>\n",
       "      <td id=\"T_cb702_row1_col2\" class=\"data row1 col2\" >0.2937</td>\n",
       "      <td id=\"T_cb702_row1_col3\" class=\"data row1 col3\" >14263.5568</td>\n",
       "      <td id=\"T_cb702_row1_col4\" class=\"data row1 col4\" >14263.5568</td>\n",
       "      <td id=\"T_cb702_row1_col5\" class=\"data row1 col5\" >11.1874</td>\n",
       "      <td id=\"T_cb702_row1_col6\" class=\"data row1 col6\" >0.8993</td>\n",
       "      <td id=\"T_cb702_row1_col7\" class=\"data row1 col7\" >0.0400</td>\n",
       "    </tr>\n",
       "    <tr>\n",
       "      <th id=\"T_cb702_level0_row2\" class=\"row_heading level0 row2\" >auto_arima</th>\n",
       "      <td id=\"T_cb702_row2_col0\" class=\"data row2 col0\" >Auto ARIMA</td>\n",
       "      <td id=\"T_cb702_row2_col1\" class=\"data row2 col1\" >0.5204</td>\n",
       "      <td id=\"T_cb702_row2_col2\" class=\"data row2 col2\" >0.3020</td>\n",
       "      <td id=\"T_cb702_row2_col3\" class=\"data row2 col3\" >14672.1014</td>\n",
       "      <td id=\"T_cb702_row2_col4\" class=\"data row2 col4\" >14672.1014</td>\n",
       "      <td id=\"T_cb702_row2_col5\" class=\"data row2 col5\" >11.5720</td>\n",
       "      <td id=\"T_cb702_row2_col6\" class=\"data row2 col6\" >0.9116</td>\n",
       "      <td id=\"T_cb702_row2_col7\" class=\"data row2 col7\" >0.0767</td>\n",
       "    </tr>\n",
       "    <tr>\n",
       "      <th id=\"T_cb702_level0_row3\" class=\"row_heading level0 row3\" >exp_smooth</th>\n",
       "      <td id=\"T_cb702_row3_col0\" class=\"data row3 col0\" >Exponential Smoothing</td>\n",
       "      <td id=\"T_cb702_row3_col1\" class=\"data row3 col1\" >0.5667</td>\n",
       "      <td id=\"T_cb702_row3_col2\" class=\"data row3 col2\" >0.3288</td>\n",
       "      <td id=\"T_cb702_row3_col3\" class=\"data row3 col3\" >15983.9354</td>\n",
       "      <td id=\"T_cb702_row3_col4\" class=\"data row3 col4\" >15983.9354</td>\n",
       "      <td id=\"T_cb702_row3_col5\" class=\"data row3 col5\" >12.4125</td>\n",
       "      <td id=\"T_cb702_row3_col6\" class=\"data row3 col6\" >0.9495</td>\n",
       "      <td id=\"T_cb702_row3_col7\" class=\"data row3 col7\" >0.0267</td>\n",
       "    </tr>\n",
       "    <tr>\n",
       "      <th id=\"T_cb702_level0_row4\" class=\"row_heading level0 row4\" >ridge_cds_dt</th>\n",
       "      <td id=\"T_cb702_row4_col0\" class=\"data row4 col0\" >Ridge w/ Cond. Deseasonalize & Detrending</td>\n",
       "      <td id=\"T_cb702_row4_col1\" class=\"data row4 col1\" >0.5690</td>\n",
       "      <td id=\"T_cb702_row4_col2\" class=\"data row4 col2\" >0.3302</td>\n",
       "      <td id=\"T_cb702_row4_col3\" class=\"data row4 col3\" >16048.8245</td>\n",
       "      <td id=\"T_cb702_row4_col4\" class=\"data row4 col4\" >16048.8245</td>\n",
       "      <td id=\"T_cb702_row4_col5\" class=\"data row4 col5\" >13.4814</td>\n",
       "      <td id=\"T_cb702_row4_col6\" class=\"data row4 col6\" >0.9271</td>\n",
       "      <td id=\"T_cb702_row4_col7\" class=\"data row4 col7\" >0.0367</td>\n",
       "    </tr>\n",
       "    <tr>\n",
       "      <th id=\"T_cb702_level0_row5\" class=\"row_heading level0 row5\" >en_cds_dt</th>\n",
       "      <td id=\"T_cb702_row5_col0\" class=\"data row5 col0\" >Elastic Net w/ Cond. Deseasonalize & Detrending</td>\n",
       "      <td id=\"T_cb702_row5_col1\" class=\"data row5 col1\" >0.5690</td>\n",
       "      <td id=\"T_cb702_row5_col2\" class=\"data row5 col2\" >0.3302</td>\n",
       "      <td id=\"T_cb702_row5_col3\" class=\"data row5 col3\" >16048.8245</td>\n",
       "      <td id=\"T_cb702_row5_col4\" class=\"data row5 col4\" >16048.8245</td>\n",
       "      <td id=\"T_cb702_row5_col5\" class=\"data row5 col5\" >13.4814</td>\n",
       "      <td id=\"T_cb702_row5_col6\" class=\"data row5 col6\" >0.9271</td>\n",
       "      <td id=\"T_cb702_row5_col7\" class=\"data row5 col7\" >0.0367</td>\n",
       "    </tr>\n",
       "    <tr>\n",
       "      <th id=\"T_cb702_level0_row6\" class=\"row_heading level0 row6\" >lr_cds_dt</th>\n",
       "      <td id=\"T_cb702_row6_col0\" class=\"data row6 col0\" >Linear w/ Cond. Deseasonalize & Detrending</td>\n",
       "      <td id=\"T_cb702_row6_col1\" class=\"data row6 col1\" >0.5690</td>\n",
       "      <td id=\"T_cb702_row6_col2\" class=\"data row6 col2\" >0.3302</td>\n",
       "      <td id=\"T_cb702_row6_col3\" class=\"data row6 col3\" >16048.8245</td>\n",
       "      <td id=\"T_cb702_row6_col4\" class=\"data row6 col4\" >16048.8245</td>\n",
       "      <td id=\"T_cb702_row6_col5\" class=\"data row6 col5\" >13.4814</td>\n",
       "      <td id=\"T_cb702_row6_col6\" class=\"data row6 col6\" >0.9271</td>\n",
       "      <td id=\"T_cb702_row6_col7\" class=\"data row6 col7\" >0.0367</td>\n",
       "    </tr>\n",
       "    <tr>\n",
       "      <th id=\"T_cb702_level0_row7\" class=\"row_heading level0 row7\" >lasso_cds_dt</th>\n",
       "      <td id=\"T_cb702_row7_col0\" class=\"data row7 col0\" >Lasso w/ Cond. Deseasonalize & Detrending</td>\n",
       "      <td id=\"T_cb702_row7_col1\" class=\"data row7 col1\" >0.5690</td>\n",
       "      <td id=\"T_cb702_row7_col2\" class=\"data row7 col2\" >0.3302</td>\n",
       "      <td id=\"T_cb702_row7_col3\" class=\"data row7 col3\" >16048.8245</td>\n",
       "      <td id=\"T_cb702_row7_col4\" class=\"data row7 col4\" >16048.8245</td>\n",
       "      <td id=\"T_cb702_row7_col5\" class=\"data row7 col5\" >13.4814</td>\n",
       "      <td id=\"T_cb702_row7_col6\" class=\"data row7 col6\" >0.9271</td>\n",
       "      <td id=\"T_cb702_row7_col7\" class=\"data row7 col7\" >0.0433</td>\n",
       "    </tr>\n",
       "    <tr>\n",
       "      <th id=\"T_cb702_level0_row8\" class=\"row_heading level0 row8\" >omp_cds_dt</th>\n",
       "      <td id=\"T_cb702_row8_col0\" class=\"data row8 col0\" >Orthogonal Matching Pursuit w/ Cond. Deseasonalize & Detrending</td>\n",
       "      <td id=\"T_cb702_row8_col1\" class=\"data row8 col1\" >0.5690</td>\n",
       "      <td id=\"T_cb702_row8_col2\" class=\"data row8 col2\" >0.3302</td>\n",
       "      <td id=\"T_cb702_row8_col3\" class=\"data row8 col3\" >16048.8245</td>\n",
       "      <td id=\"T_cb702_row8_col4\" class=\"data row8 col4\" >16048.8245</td>\n",
       "      <td id=\"T_cb702_row8_col5\" class=\"data row8 col5\" >13.4814</td>\n",
       "      <td id=\"T_cb702_row8_col6\" class=\"data row8 col6\" >0.9271</td>\n",
       "      <td id=\"T_cb702_row8_col7\" class=\"data row8 col7\" >0.0367</td>\n",
       "    </tr>\n",
       "    <tr>\n",
       "      <th id=\"T_cb702_level0_row9\" class=\"row_heading level0 row9\" >llar_cds_dt</th>\n",
       "      <td id=\"T_cb702_row9_col0\" class=\"data row9 col0\" >Lasso Least Angular Regressor w/ Cond. Deseasonalize & Detrending</td>\n",
       "      <td id=\"T_cb702_row9_col1\" class=\"data row9 col1\" >0.5690</td>\n",
       "      <td id=\"T_cb702_row9_col2\" class=\"data row9 col2\" >0.3302</td>\n",
       "      <td id=\"T_cb702_row9_col3\" class=\"data row9 col3\" >16048.8245</td>\n",
       "      <td id=\"T_cb702_row9_col4\" class=\"data row9 col4\" >16048.8245</td>\n",
       "      <td id=\"T_cb702_row9_col5\" class=\"data row9 col5\" >13.4814</td>\n",
       "      <td id=\"T_cb702_row9_col6\" class=\"data row9 col6\" >0.9271</td>\n",
       "      <td id=\"T_cb702_row9_col7\" class=\"data row9 col7\" >0.0400</td>\n",
       "    </tr>\n",
       "    <tr>\n",
       "      <th id=\"T_cb702_level0_row10\" class=\"row_heading level0 row10\" >br_cds_dt</th>\n",
       "      <td id=\"T_cb702_row10_col0\" class=\"data row10 col0\" >Bayesian Ridge w/ Cond. Deseasonalize & Detrending</td>\n",
       "      <td id=\"T_cb702_row10_col1\" class=\"data row10 col1\" >0.5678</td>\n",
       "      <td id=\"T_cb702_row10_col2\" class=\"data row10 col2\" >0.3295</td>\n",
       "      <td id=\"T_cb702_row10_col3\" class=\"data row10 col3\" >16014.4236</td>\n",
       "      <td id=\"T_cb702_row10_col4\" class=\"data row10 col4\" >16014.4236</td>\n",
       "      <td id=\"T_cb702_row10_col5\" class=\"data row10 col5\" >13.5321</td>\n",
       "      <td id=\"T_cb702_row10_col6\" class=\"data row10 col6\" >0.9245</td>\n",
       "      <td id=\"T_cb702_row10_col7\" class=\"data row10 col7\" >0.0400</td>\n",
       "    </tr>\n",
       "    <tr>\n",
       "      <th id=\"T_cb702_level0_row11\" class=\"row_heading level0 row11\" >huber_cds_dt</th>\n",
       "      <td id=\"T_cb702_row11_col0\" class=\"data row11 col0\" >Huber w/ Cond. Deseasonalize & Detrending</td>\n",
       "      <td id=\"T_cb702_row11_col1\" class=\"data row11 col1\" >0.5310</td>\n",
       "      <td id=\"T_cb702_row11_col2\" class=\"data row11 col2\" >0.3083</td>\n",
       "      <td id=\"T_cb702_row11_col3\" class=\"data row11 col3\" >14954.8050</td>\n",
       "      <td id=\"T_cb702_row11_col4\" class=\"data row11 col4\" >14954.8050</td>\n",
       "      <td id=\"T_cb702_row11_col5\" class=\"data row11 col5\" >13.8922</td>\n",
       "      <td id=\"T_cb702_row11_col6\" class=\"data row11 col6\" >0.8543</td>\n",
       "      <td id=\"T_cb702_row11_col7\" class=\"data row11 col7\" >0.0400</td>\n",
       "    </tr>\n",
       "    <tr>\n",
       "      <th id=\"T_cb702_level0_row12\" class=\"row_heading level0 row12\" >theta</th>\n",
       "      <td id=\"T_cb702_row12_col0\" class=\"data row12 col0\" >Theta Forecaster</td>\n",
       "      <td id=\"T_cb702_row12_col1\" class=\"data row12 col1\" >0.5857</td>\n",
       "      <td id=\"T_cb702_row12_col2\" class=\"data row12 col2\" >0.3399</td>\n",
       "      <td id=\"T_cb702_row12_col3\" class=\"data row12 col3\" >16519.6745</td>\n",
       "      <td id=\"T_cb702_row12_col4\" class=\"data row12 col4\" >16519.6745</td>\n",
       "      <td id=\"T_cb702_row12_col5\" class=\"data row12 col5\" >14.0686</td>\n",
       "      <td id=\"T_cb702_row12_col6\" class=\"data row12 col6\" >0.9327</td>\n",
       "      <td id=\"T_cb702_row12_col7\" class=\"data row12 col7\" >0.0300</td>\n",
       "    </tr>\n",
       "    <tr>\n",
       "      <th id=\"T_cb702_level0_row13\" class=\"row_heading level0 row13\" >polytrend</th>\n",
       "      <td id=\"T_cb702_row13_col0\" class=\"data row13 col0\" >Polynomial Trend Forecaster</td>\n",
       "      <td id=\"T_cb702_row13_col1\" class=\"data row13 col1\" >0.5896</td>\n",
       "      <td id=\"T_cb702_row13_col2\" class=\"data row13 col2\" >0.3422</td>\n",
       "      <td id=\"T_cb702_row13_col3\" class=\"data row13 col3\" >16632.2188</td>\n",
       "      <td id=\"T_cb702_row13_col4\" class=\"data row13 col4\" >16632.2188</td>\n",
       "      <td id=\"T_cb702_row13_col5\" class=\"data row13 col5\" >14.5243</td>\n",
       "      <td id=\"T_cb702_row13_col6\" class=\"data row13 col6\" >0.9269</td>\n",
       "      <td id=\"T_cb702_row13_col7\" class=\"data row13 col7\" >0.0233</td>\n",
       "    </tr>\n",
       "    <tr>\n",
       "      <th id=\"T_cb702_level0_row14\" class=\"row_heading level0 row14\" >lightgbm_cds_dt</th>\n",
       "      <td id=\"T_cb702_row14_col0\" class=\"data row14 col0\" >Light Gradient Boosting w/ Cond. Deseasonalize & Detrending</td>\n",
       "      <td id=\"T_cb702_row14_col1\" class=\"data row14 col1\" >0.6104</td>\n",
       "      <td id=\"T_cb702_row14_col2\" class=\"data row14 col2\" >0.3543</td>\n",
       "      <td id=\"T_cb702_row14_col3\" class=\"data row14 col3\" >17199.9972</td>\n",
       "      <td id=\"T_cb702_row14_col4\" class=\"data row14 col4\" >17199.9972</td>\n",
       "      <td id=\"T_cb702_row14_col5\" class=\"data row14 col5\" >15.3830</td>\n",
       "      <td id=\"T_cb702_row14_col6\" class=\"data row14 col6\" >0.9260</td>\n",
       "      <td id=\"T_cb702_row14_col7\" class=\"data row14 col7\" >0.0567</td>\n",
       "    </tr>\n",
       "    <tr>\n",
       "      <th id=\"T_cb702_level0_row15\" class=\"row_heading level0 row15\" >knn_cds_dt</th>\n",
       "      <td id=\"T_cb702_row15_col0\" class=\"data row15 col0\" >K Neighbors w/ Cond. Deseasonalize & Detrending</td>\n",
       "      <td id=\"T_cb702_row15_col1\" class=\"data row15 col1\" >0.7472</td>\n",
       "      <td id=\"T_cb702_row15_col2\" class=\"data row15 col2\" >0.4338</td>\n",
       "      <td id=\"T_cb702_row15_col3\" class=\"data row15 col3\" >21054.8319</td>\n",
       "      <td id=\"T_cb702_row15_col4\" class=\"data row15 col4\" >21054.8319</td>\n",
       "      <td id=\"T_cb702_row15_col5\" class=\"data row15 col5\" >20.1739</td>\n",
       "      <td id=\"T_cb702_row15_col6\" class=\"data row15 col6\" >0.9747</td>\n",
       "      <td id=\"T_cb702_row15_col7\" class=\"data row15 col7\" >0.0500</td>\n",
       "    </tr>\n",
       "    <tr>\n",
       "      <th id=\"T_cb702_level0_row16\" class=\"row_heading level0 row16\" >rf_cds_dt</th>\n",
       "      <td id=\"T_cb702_row16_col0\" class=\"data row16 col0\" >Random Forest w/ Cond. Deseasonalize & Detrending</td>\n",
       "      <td id=\"T_cb702_row16_col1\" class=\"data row16 col1\" >1.0041</td>\n",
       "      <td id=\"T_cb702_row16_col2\" class=\"data row16 col2\" >0.5834</td>\n",
       "      <td id=\"T_cb702_row16_col3\" class=\"data row16 col3\" >28277.2660</td>\n",
       "      <td id=\"T_cb702_row16_col4\" class=\"data row16 col4\" >28277.2660</td>\n",
       "      <td id=\"T_cb702_row16_col5\" class=\"data row16 col5\" >35.0837</td>\n",
       "      <td id=\"T_cb702_row16_col6\" class=\"data row16 col6\" >0.9899</td>\n",
       "      <td id=\"T_cb702_row16_col7\" class=\"data row16 col7\" >0.0833</td>\n",
       "    </tr>\n",
       "    <tr>\n",
       "      <th id=\"T_cb702_level0_row17\" class=\"row_heading level0 row17\" >ada_cds_dt</th>\n",
       "      <td id=\"T_cb702_row17_col0\" class=\"data row17 col0\" >AdaBoost w/ Cond. Deseasonalize & Detrending</td>\n",
       "      <td id=\"T_cb702_row17_col1\" class=\"data row17 col1\" >1.0805</td>\n",
       "      <td id=\"T_cb702_row17_col2\" class=\"data row17 col2\" >0.6278</td>\n",
       "      <td id=\"T_cb702_row17_col3\" class=\"data row17 col3\" >30429.0441</td>\n",
       "      <td id=\"T_cb702_row17_col4\" class=\"data row17 col4\" >30429.0441</td>\n",
       "      <td id=\"T_cb702_row17_col5\" class=\"data row17 col5\" >38.4170</td>\n",
       "      <td id=\"T_cb702_row17_col6\" class=\"data row17 col6\" >0.9084</td>\n",
       "      <td id=\"T_cb702_row17_col7\" class=\"data row17 col7\" >0.0533</td>\n",
       "    </tr>\n",
       "    <tr>\n",
       "      <th id=\"T_cb702_level0_row18\" class=\"row_heading level0 row18\" >gbr_cds_dt</th>\n",
       "      <td id=\"T_cb702_row18_col0\" class=\"data row18 col0\" >Gradient Boosting w/ Cond. Deseasonalize & Detrending</td>\n",
       "      <td id=\"T_cb702_row18_col1\" class=\"data row18 col1\" >1.2571</td>\n",
       "      <td id=\"T_cb702_row18_col2\" class=\"data row18 col2\" >0.7305</td>\n",
       "      <td id=\"T_cb702_row18_col3\" class=\"data row18 col3\" >35397.6882</td>\n",
       "      <td id=\"T_cb702_row18_col4\" class=\"data row18 col4\" >35397.6882</td>\n",
       "      <td id=\"T_cb702_row18_col5\" class=\"data row18 col5\" >45.7528</td>\n",
       "      <td id=\"T_cb702_row18_col6\" class=\"data row18 col6\" >1.0597</td>\n",
       "      <td id=\"T_cb702_row18_col7\" class=\"data row18 col7\" >0.0500</td>\n",
       "    </tr>\n",
       "    <tr>\n",
       "      <th id=\"T_cb702_level0_row19\" class=\"row_heading level0 row19\" >et_cds_dt</th>\n",
       "      <td id=\"T_cb702_row19_col0\" class=\"data row19 col0\" >Extra Trees w/ Cond. Deseasonalize & Detrending</td>\n",
       "      <td id=\"T_cb702_row19_col1\" class=\"data row19 col1\" >1.2311</td>\n",
       "      <td id=\"T_cb702_row19_col2\" class=\"data row19 col2\" >0.7155</td>\n",
       "      <td id=\"T_cb702_row19_col3\" class=\"data row19 col3\" >34663.2501</td>\n",
       "      <td id=\"T_cb702_row19_col4\" class=\"data row19 col4\" >34663.2501</td>\n",
       "      <td id=\"T_cb702_row19_col5\" class=\"data row19 col5\" >46.6455</td>\n",
       "      <td id=\"T_cb702_row19_col6\" class=\"data row19 col6\" >1.0357</td>\n",
       "      <td id=\"T_cb702_row19_col7\" class=\"data row19 col7\" >0.0733</td>\n",
       "    </tr>\n",
       "    <tr>\n",
       "      <th id=\"T_cb702_level0_row20\" class=\"row_heading level0 row20\" >dt_cds_dt</th>\n",
       "      <td id=\"T_cb702_row20_col0\" class=\"data row20 col0\" >Decision Tree w/ Cond. Deseasonalize & Detrending</td>\n",
       "      <td id=\"T_cb702_row20_col1\" class=\"data row20 col1\" >1.2734</td>\n",
       "      <td id=\"T_cb702_row20_col2\" class=\"data row20 col2\" >0.7401</td>\n",
       "      <td id=\"T_cb702_row20_col3\" class=\"data row20 col3\" >35847.5124</td>\n",
       "      <td id=\"T_cb702_row20_col4\" class=\"data row20 col4\" >35847.5124</td>\n",
       "      <td id=\"T_cb702_row20_col5\" class=\"data row20 col5\" >49.8327</td>\n",
       "      <td id=\"T_cb702_row20_col6\" class=\"data row20 col6\" >1.0125</td>\n",
       "      <td id=\"T_cb702_row20_col7\" class=\"data row20 col7\" >0.0400</td>\n",
       "    </tr>\n",
       "  </tbody>\n",
       "</table>\n"
      ],
      "text/plain": [
       "<pandas.io.formats.style.Styler at 0x224cf66f820>"
      ]
     },
     "metadata": {},
     "output_type": "display_data"
    },
    {
     "data": {
      "text/html": [],
      "text/plain": [
       "<IPython.core.display.HTML object>"
      ]
     },
     "metadata": {},
     "output_type": "display_data"
    },
    {
     "data": {
      "application/vnd.plotly.v1+json": {
       "config": {
        "plotlyServerURL": "https://plot.ly"
       },
       "data": [
        {
         "line": {
          "color": "#1f77b4"
         },
         "marker": {
          "size": 5
         },
         "mode": "lines+markers",
         "name": "Forecast | ETS",
         "showlegend": true,
         "type": "scatter",
         "x": [
          "2022-12-01T00:00:00"
         ],
         "y": [
          14626.7227
         ]
        },
        {
         "line": {
          "width": 0
         },
         "marker": {
          "color": "#68BBE3"
         },
         "mode": "lines",
         "name": "Lower Interval",
         "showlegend": false,
         "type": "scatter",
         "x": [
          "2022-12-01T00:00:00"
         ],
         "y": [
          -49114.7045
         ]
        },
        {
         "fill": "tonexty",
         "fillcolor": "rgba(104,187,227,0.5)",
         "line": {
          "width": 0
         },
         "marker": {
          "color": "#68BBE3"
         },
         "mode": "lines",
         "name": "Prediction Interval | ETS",
         "showlegend": true,
         "type": "scatter",
         "x": [
          "2022-12-01T00:00:00"
         ],
         "y": [
          78368.1499
         ]
        },
        {
         "marker": {
          "color": "#3f3f3f",
          "size": 5
         },
         "mode": "lines+markers",
         "name": "Original",
         "showlegend": true,
         "type": "scatter",
         "x": [
          "2018-10-01T00:00:00",
          "2018-11-01T00:00:00",
          "2018-12-01T00:00:00",
          "2019-01-01T00:00:00",
          "2019-02-01T00:00:00",
          "2019-03-01T00:00:00",
          "2019-04-01T00:00:00",
          "2019-05-01T00:00:00",
          "2019-06-01T00:00:00",
          "2019-07-01T00:00:00",
          "2019-08-01T00:00:00",
          "2019-09-01T00:00:00",
          "2019-10-01T00:00:00",
          "2019-11-01T00:00:00",
          "2019-12-01T00:00:00",
          "2020-01-01T00:00:00",
          "2020-02-01T00:00:00",
          "2020-03-01T00:00:00",
          "2020-04-01T00:00:00",
          "2020-05-01T00:00:00",
          "2020-06-01T00:00:00",
          "2020-07-01T00:00:00",
          "2020-08-01T00:00:00",
          "2020-09-01T00:00:00",
          "2020-10-01T00:00:00",
          "2020-11-01T00:00:00",
          "2020-12-01T00:00:00",
          "2021-01-01T00:00:00",
          "2021-02-01T00:00:00",
          "2021-03-01T00:00:00",
          "2021-04-01T00:00:00",
          "2021-05-01T00:00:00",
          "2021-06-01T00:00:00",
          "2021-07-01T00:00:00",
          "2021-08-01T00:00:00",
          "2021-09-01T00:00:00",
          "2021-10-01T00:00:00",
          "2021-11-01T00:00:00",
          "2021-12-01T00:00:00",
          "2022-01-01T00:00:00",
          "2022-02-01T00:00:00",
          "2022-03-01T00:00:00",
          "2022-04-01T00:00:00",
          "2022-05-01T00:00:00",
          "2022-06-01T00:00:00",
          "2022-07-01T00:00:00",
          "2022-08-01T00:00:00",
          "2022-09-01T00:00:00",
          "2022-10-01T00:00:00",
          "2022-11-01T00:00:00",
          "2022-12-01T00:00:00"
         ],
         "y": [
          103228.19114817186,
          19609.01910497516,
          21662.432031636326,
          10917.917663223161,
          110.39062908539393,
          110.1648036238018,
          null,
          339.44302732269483,
          9254.460935458626,
          1189.798711503839,
          20763.416041546327,
          9908.782749594986,
          28445.434735125593,
          27473.087324297776,
          4919.903384112011,
          6935.081118215906,
          420.94808390952966,
          3531.8306052725375,
          10647.764419034775,
          30145.12469458286,
          1374.3462275854401,
          20856.638695548598,
          25018.60298127614,
          51940.49181006181,
          50428.587517806816,
          100505.13060318341,
          -131606.6656679906,
          -5414.364504776253,
          2069.730149862757,
          66151.19819646979,
          49516.824501701594,
          25018.84331337305,
          17602.007033408834,
          3817.9477856890517,
          58626.08360614466,
          68719.91793384096,
          29762.54185989773,
          37482.06814310037,
          90571.42639579845,
          -9139.935283939216,
          177.13213718794148,
          4753.975411851484,
          737.8646253021792,
          25433.041007299762,
          63138.43080071582,
          29452.663716374052,
          -947.672727272724,
          16702.2015388433,
          39532.49243589091,
          620.6630951177644,
          64822.65195670235
         ]
        }
       ],
       "layout": {
        "showlegend": true,
        "template": {
         "data": {
          "bar": [
           {
            "error_x": {
             "color": "rgb(51,51,51)"
            },
            "error_y": {
             "color": "rgb(51,51,51)"
            },
            "marker": {
             "line": {
              "color": "rgb(237,237,237)",
              "width": 0.5
             },
             "pattern": {
              "fillmode": "overlay",
              "size": 10,
              "solidity": 0.2
             }
            },
            "type": "bar"
           }
          ],
          "barpolar": [
           {
            "marker": {
             "line": {
              "color": "rgb(237,237,237)",
              "width": 0.5
             },
             "pattern": {
              "fillmode": "overlay",
              "size": 10,
              "solidity": 0.2
             }
            },
            "type": "barpolar"
           }
          ],
          "carpet": [
           {
            "aaxis": {
             "endlinecolor": "rgb(51,51,51)",
             "gridcolor": "white",
             "linecolor": "white",
             "minorgridcolor": "white",
             "startlinecolor": "rgb(51,51,51)"
            },
            "baxis": {
             "endlinecolor": "rgb(51,51,51)",
             "gridcolor": "white",
             "linecolor": "white",
             "minorgridcolor": "white",
             "startlinecolor": "rgb(51,51,51)"
            },
            "type": "carpet"
           }
          ],
          "choropleth": [
           {
            "colorbar": {
             "outlinewidth": 0,
             "tickcolor": "rgb(237,237,237)",
             "ticklen": 6,
             "ticks": "inside"
            },
            "type": "choropleth"
           }
          ],
          "contour": [
           {
            "colorbar": {
             "outlinewidth": 0,
             "tickcolor": "rgb(237,237,237)",
             "ticklen": 6,
             "ticks": "inside"
            },
            "colorscale": [
             [
              0,
              "rgb(20,44,66)"
             ],
             [
              1,
              "rgb(90,179,244)"
             ]
            ],
            "type": "contour"
           }
          ],
          "contourcarpet": [
           {
            "colorbar": {
             "outlinewidth": 0,
             "tickcolor": "rgb(237,237,237)",
             "ticklen": 6,
             "ticks": "inside"
            },
            "type": "contourcarpet"
           }
          ],
          "heatmap": [
           {
            "colorbar": {
             "outlinewidth": 0,
             "tickcolor": "rgb(237,237,237)",
             "ticklen": 6,
             "ticks": "inside"
            },
            "colorscale": [
             [
              0,
              "rgb(20,44,66)"
             ],
             [
              1,
              "rgb(90,179,244)"
             ]
            ],
            "type": "heatmap"
           }
          ],
          "heatmapgl": [
           {
            "colorbar": {
             "outlinewidth": 0,
             "tickcolor": "rgb(237,237,237)",
             "ticklen": 6,
             "ticks": "inside"
            },
            "colorscale": [
             [
              0,
              "rgb(20,44,66)"
             ],
             [
              1,
              "rgb(90,179,244)"
             ]
            ],
            "type": "heatmapgl"
           }
          ],
          "histogram": [
           {
            "marker": {
             "pattern": {
              "fillmode": "overlay",
              "size": 10,
              "solidity": 0.2
             }
            },
            "type": "histogram"
           }
          ],
          "histogram2d": [
           {
            "colorbar": {
             "outlinewidth": 0,
             "tickcolor": "rgb(237,237,237)",
             "ticklen": 6,
             "ticks": "inside"
            },
            "colorscale": [
             [
              0,
              "rgb(20,44,66)"
             ],
             [
              1,
              "rgb(90,179,244)"
             ]
            ],
            "type": "histogram2d"
           }
          ],
          "histogram2dcontour": [
           {
            "colorbar": {
             "outlinewidth": 0,
             "tickcolor": "rgb(237,237,237)",
             "ticklen": 6,
             "ticks": "inside"
            },
            "colorscale": [
             [
              0,
              "rgb(20,44,66)"
             ],
             [
              1,
              "rgb(90,179,244)"
             ]
            ],
            "type": "histogram2dcontour"
           }
          ],
          "mesh3d": [
           {
            "colorbar": {
             "outlinewidth": 0,
             "tickcolor": "rgb(237,237,237)",
             "ticklen": 6,
             "ticks": "inside"
            },
            "type": "mesh3d"
           }
          ],
          "parcoords": [
           {
            "line": {
             "colorbar": {
              "outlinewidth": 0,
              "tickcolor": "rgb(237,237,237)",
              "ticklen": 6,
              "ticks": "inside"
             }
            },
            "type": "parcoords"
           }
          ],
          "pie": [
           {
            "automargin": true,
            "type": "pie"
           }
          ],
          "scatter": [
           {
            "fillpattern": {
             "fillmode": "overlay",
             "size": 10,
             "solidity": 0.2
            },
            "type": "scatter"
           }
          ],
          "scatter3d": [
           {
            "line": {
             "colorbar": {
              "outlinewidth": 0,
              "tickcolor": "rgb(237,237,237)",
              "ticklen": 6,
              "ticks": "inside"
             }
            },
            "marker": {
             "colorbar": {
              "outlinewidth": 0,
              "tickcolor": "rgb(237,237,237)",
              "ticklen": 6,
              "ticks": "inside"
             }
            },
            "type": "scatter3d"
           }
          ],
          "scattercarpet": [
           {
            "marker": {
             "colorbar": {
              "outlinewidth": 0,
              "tickcolor": "rgb(237,237,237)",
              "ticklen": 6,
              "ticks": "inside"
             }
            },
            "type": "scattercarpet"
           }
          ],
          "scattergeo": [
           {
            "marker": {
             "colorbar": {
              "outlinewidth": 0,
              "tickcolor": "rgb(237,237,237)",
              "ticklen": 6,
              "ticks": "inside"
             }
            },
            "type": "scattergeo"
           }
          ],
          "scattergl": [
           {
            "marker": {
             "colorbar": {
              "outlinewidth": 0,
              "tickcolor": "rgb(237,237,237)",
              "ticklen": 6,
              "ticks": "inside"
             }
            },
            "type": "scattergl"
           }
          ],
          "scattermapbox": [
           {
            "marker": {
             "colorbar": {
              "outlinewidth": 0,
              "tickcolor": "rgb(237,237,237)",
              "ticklen": 6,
              "ticks": "inside"
             }
            },
            "type": "scattermapbox"
           }
          ],
          "scatterpolar": [
           {
            "marker": {
             "colorbar": {
              "outlinewidth": 0,
              "tickcolor": "rgb(237,237,237)",
              "ticklen": 6,
              "ticks": "inside"
             }
            },
            "type": "scatterpolar"
           }
          ],
          "scatterpolargl": [
           {
            "marker": {
             "colorbar": {
              "outlinewidth": 0,
              "tickcolor": "rgb(237,237,237)",
              "ticklen": 6,
              "ticks": "inside"
             }
            },
            "type": "scatterpolargl"
           }
          ],
          "scatterternary": [
           {
            "marker": {
             "colorbar": {
              "outlinewidth": 0,
              "tickcolor": "rgb(237,237,237)",
              "ticklen": 6,
              "ticks": "inside"
             }
            },
            "type": "scatterternary"
           }
          ],
          "surface": [
           {
            "colorbar": {
             "outlinewidth": 0,
             "tickcolor": "rgb(237,237,237)",
             "ticklen": 6,
             "ticks": "inside"
            },
            "colorscale": [
             [
              0,
              "rgb(20,44,66)"
             ],
             [
              1,
              "rgb(90,179,244)"
             ]
            ],
            "type": "surface"
           }
          ],
          "table": [
           {
            "cells": {
             "fill": {
              "color": "rgb(237,237,237)"
             },
             "line": {
              "color": "white"
             }
            },
            "header": {
             "fill": {
              "color": "rgb(217,217,217)"
             },
             "line": {
              "color": "white"
             }
            },
            "type": "table"
           }
          ]
         },
         "layout": {
          "annotationdefaults": {
           "arrowhead": 0,
           "arrowwidth": 1
          },
          "autotypenumbers": "strict",
          "coloraxis": {
           "colorbar": {
            "outlinewidth": 0,
            "tickcolor": "rgb(237,237,237)",
            "ticklen": 6,
            "ticks": "inside"
           }
          },
          "colorscale": {
           "sequential": [
            [
             0,
             "rgb(20,44,66)"
            ],
            [
             1,
             "rgb(90,179,244)"
            ]
           ],
           "sequentialminus": [
            [
             0,
             "rgb(20,44,66)"
            ],
            [
             1,
             "rgb(90,179,244)"
            ]
           ]
          },
          "colorway": [
           "#F8766D",
           "#A3A500",
           "#00BF7D",
           "#00B0F6",
           "#E76BF3"
          ],
          "font": {
           "color": "rgb(51,51,51)"
          },
          "geo": {
           "bgcolor": "white",
           "lakecolor": "white",
           "landcolor": "rgb(237,237,237)",
           "showlakes": true,
           "showland": true,
           "subunitcolor": "white"
          },
          "hoverlabel": {
           "align": "left"
          },
          "hovermode": "closest",
          "paper_bgcolor": "white",
          "plot_bgcolor": "rgb(237,237,237)",
          "polar": {
           "angularaxis": {
            "gridcolor": "white",
            "linecolor": "white",
            "showgrid": true,
            "tickcolor": "rgb(51,51,51)",
            "ticks": "outside"
           },
           "bgcolor": "rgb(237,237,237)",
           "radialaxis": {
            "gridcolor": "white",
            "linecolor": "white",
            "showgrid": true,
            "tickcolor": "rgb(51,51,51)",
            "ticks": "outside"
           }
          },
          "scene": {
           "xaxis": {
            "backgroundcolor": "rgb(237,237,237)",
            "gridcolor": "white",
            "gridwidth": 2,
            "linecolor": "white",
            "showbackground": true,
            "showgrid": true,
            "tickcolor": "rgb(51,51,51)",
            "ticks": "outside",
            "zerolinecolor": "white"
           },
           "yaxis": {
            "backgroundcolor": "rgb(237,237,237)",
            "gridcolor": "white",
            "gridwidth": 2,
            "linecolor": "white",
            "showbackground": true,
            "showgrid": true,
            "tickcolor": "rgb(51,51,51)",
            "ticks": "outside",
            "zerolinecolor": "white"
           },
           "zaxis": {
            "backgroundcolor": "rgb(237,237,237)",
            "gridcolor": "white",
            "gridwidth": 2,
            "linecolor": "white",
            "showbackground": true,
            "showgrid": true,
            "tickcolor": "rgb(51,51,51)",
            "ticks": "outside",
            "zerolinecolor": "white"
           }
          },
          "shapedefaults": {
           "fillcolor": "black",
           "line": {
            "width": 0
           },
           "opacity": 0.3
          },
          "ternary": {
           "aaxis": {
            "gridcolor": "white",
            "linecolor": "white",
            "showgrid": true,
            "tickcolor": "rgb(51,51,51)",
            "ticks": "outside"
           },
           "baxis": {
            "gridcolor": "white",
            "linecolor": "white",
            "showgrid": true,
            "tickcolor": "rgb(51,51,51)",
            "ticks": "outside"
           },
           "bgcolor": "rgb(237,237,237)",
           "caxis": {
            "gridcolor": "white",
            "linecolor": "white",
            "showgrid": true,
            "tickcolor": "rgb(51,51,51)",
            "ticks": "outside"
           }
          },
          "xaxis": {
           "automargin": true,
           "gridcolor": "white",
           "linecolor": "white",
           "showgrid": true,
           "tickcolor": "rgb(51,51,51)",
           "ticks": "outside",
           "title": {
            "standoff": 15
           },
           "zerolinecolor": "white"
          },
          "yaxis": {
           "automargin": true,
           "gridcolor": "white",
           "linecolor": "white",
           "showgrid": true,
           "tickcolor": "rgb(51,51,51)",
           "ticks": "outside",
           "title": {
            "standoff": 15
           },
           "zerolinecolor": "white"
          }
         }
        },
        "title": {
         "text": "Actual vs. 'Out-of-Sample' Forecast | NET_SALES"
        },
        "xaxis": {
         "title": {
          "text": "Time"
         }
        },
        "yaxis": {
         "title": {
          "text": "Values"
         }
        }
       }
      }
     },
     "metadata": {},
     "output_type": "display_data"
    },
    {
     "name": "stderr",
     "output_type": "stream",
     "text": [
      " 86%|████████▌ | 12/14 [02:49<00:29, 14.70s/it]"
     ]
    },
    {
     "data": {
      "text/html": [
       "<style type=\"text/css\">\n",
       "#T_79f08_row25_col1, #T_79f08_row31_col1 {\n",
       "  background-color: lightgreen;\n",
       "}\n",
       "</style>\n",
       "<table id=\"T_79f08\">\n",
       "  <thead>\n",
       "    <tr>\n",
       "      <th class=\"blank level0\" >&nbsp;</th>\n",
       "      <th id=\"T_79f08_level0_col0\" class=\"col_heading level0 col0\" >Description</th>\n",
       "      <th id=\"T_79f08_level0_col1\" class=\"col_heading level0 col1\" >Value</th>\n",
       "    </tr>\n",
       "  </thead>\n",
       "  <tbody>\n",
       "    <tr>\n",
       "      <th id=\"T_79f08_level0_row0\" class=\"row_heading level0 row0\" >0</th>\n",
       "      <td id=\"T_79f08_row0_col0\" class=\"data row0 col0\" >session_id</td>\n",
       "      <td id=\"T_79f08_row0_col1\" class=\"data row0 col1\" >123</td>\n",
       "    </tr>\n",
       "    <tr>\n",
       "      <th id=\"T_79f08_level0_row1\" class=\"row_heading level0 row1\" >1</th>\n",
       "      <td id=\"T_79f08_row1_col0\" class=\"data row1 col0\" >Target</td>\n",
       "      <td id=\"T_79f08_row1_col1\" class=\"data row1 col1\" >NET_SALES</td>\n",
       "    </tr>\n",
       "    <tr>\n",
       "      <th id=\"T_79f08_level0_row2\" class=\"row_heading level0 row2\" >2</th>\n",
       "      <td id=\"T_79f08_row2_col0\" class=\"data row2 col0\" >Approach</td>\n",
       "      <td id=\"T_79f08_row2_col1\" class=\"data row2 col1\" >Univariate</td>\n",
       "    </tr>\n",
       "    <tr>\n",
       "      <th id=\"T_79f08_level0_row3\" class=\"row_heading level0 row3\" >3</th>\n",
       "      <td id=\"T_79f08_row3_col0\" class=\"data row3 col0\" >Exogenous Variables</td>\n",
       "      <td id=\"T_79f08_row3_col1\" class=\"data row3 col1\" >Not Present</td>\n",
       "    </tr>\n",
       "    <tr>\n",
       "      <th id=\"T_79f08_level0_row4\" class=\"row_heading level0 row4\" >4</th>\n",
       "      <td id=\"T_79f08_row4_col0\" class=\"data row4 col0\" >Original data shape</td>\n",
       "      <td id=\"T_79f08_row4_col1\" class=\"data row4 col1\" >(84, 1)</td>\n",
       "    </tr>\n",
       "    <tr>\n",
       "      <th id=\"T_79f08_level0_row5\" class=\"row_heading level0 row5\" >5</th>\n",
       "      <td id=\"T_79f08_row5_col0\" class=\"data row5 col0\" >Transformed data shape</td>\n",
       "      <td id=\"T_79f08_row5_col1\" class=\"data row5 col1\" >(84, 1)</td>\n",
       "    </tr>\n",
       "    <tr>\n",
       "      <th id=\"T_79f08_level0_row6\" class=\"row_heading level0 row6\" >6</th>\n",
       "      <td id=\"T_79f08_row6_col0\" class=\"data row6 col0\" >Transformed train set shape</td>\n",
       "      <td id=\"T_79f08_row6_col1\" class=\"data row6 col1\" >(83, 1)</td>\n",
       "    </tr>\n",
       "    <tr>\n",
       "      <th id=\"T_79f08_level0_row7\" class=\"row_heading level0 row7\" >7</th>\n",
       "      <td id=\"T_79f08_row7_col0\" class=\"data row7 col0\" >Transformed test set shape</td>\n",
       "      <td id=\"T_79f08_row7_col1\" class=\"data row7 col1\" >(1, 1)</td>\n",
       "    </tr>\n",
       "    <tr>\n",
       "      <th id=\"T_79f08_level0_row8\" class=\"row_heading level0 row8\" >8</th>\n",
       "      <td id=\"T_79f08_row8_col0\" class=\"data row8 col0\" >Rows with missing values</td>\n",
       "      <td id=\"T_79f08_row8_col1\" class=\"data row8 col1\" >0.0%</td>\n",
       "    </tr>\n",
       "    <tr>\n",
       "      <th id=\"T_79f08_level0_row9\" class=\"row_heading level0 row9\" >9</th>\n",
       "      <td id=\"T_79f08_row9_col0\" class=\"data row9 col0\" >Fold Generator</td>\n",
       "      <td id=\"T_79f08_row9_col1\" class=\"data row9 col1\" >ExpandingWindowSplitter</td>\n",
       "    </tr>\n",
       "    <tr>\n",
       "      <th id=\"T_79f08_level0_row10\" class=\"row_heading level0 row10\" >10</th>\n",
       "      <td id=\"T_79f08_row10_col0\" class=\"data row10 col0\" >Fold Number</td>\n",
       "      <td id=\"T_79f08_row10_col1\" class=\"data row10 col1\" >3</td>\n",
       "    </tr>\n",
       "    <tr>\n",
       "      <th id=\"T_79f08_level0_row11\" class=\"row_heading level0 row11\" >11</th>\n",
       "      <td id=\"T_79f08_row11_col0\" class=\"data row11 col0\" >Enforce Prediction Interval</td>\n",
       "      <td id=\"T_79f08_row11_col1\" class=\"data row11 col1\" >False</td>\n",
       "    </tr>\n",
       "    <tr>\n",
       "      <th id=\"T_79f08_level0_row12\" class=\"row_heading level0 row12\" >12</th>\n",
       "      <td id=\"T_79f08_row12_col0\" class=\"data row12 col0\" >Splits used for hyperparameters</td>\n",
       "      <td id=\"T_79f08_row12_col1\" class=\"data row12 col1\" >all</td>\n",
       "    </tr>\n",
       "    <tr>\n",
       "      <th id=\"T_79f08_level0_row13\" class=\"row_heading level0 row13\" >13</th>\n",
       "      <td id=\"T_79f08_row13_col0\" class=\"data row13 col0\" >User Defined Seasonal Period(s)</td>\n",
       "      <td id=\"T_79f08_row13_col1\" class=\"data row13 col1\" >None</td>\n",
       "    </tr>\n",
       "    <tr>\n",
       "      <th id=\"T_79f08_level0_row14\" class=\"row_heading level0 row14\" >14</th>\n",
       "      <td id=\"T_79f08_row14_col0\" class=\"data row14 col0\" >Ignore Seasonality Test</td>\n",
       "      <td id=\"T_79f08_row14_col1\" class=\"data row14 col1\" >False</td>\n",
       "    </tr>\n",
       "    <tr>\n",
       "      <th id=\"T_79f08_level0_row15\" class=\"row_heading level0 row15\" >15</th>\n",
       "      <td id=\"T_79f08_row15_col0\" class=\"data row15 col0\" >Seasonality Detection Algo</td>\n",
       "      <td id=\"T_79f08_row15_col1\" class=\"data row15 col1\" >auto</td>\n",
       "    </tr>\n",
       "    <tr>\n",
       "      <th id=\"T_79f08_level0_row16\" class=\"row_heading level0 row16\" >16</th>\n",
       "      <td id=\"T_79f08_row16_col0\" class=\"data row16 col0\" >Max Period to Consider</td>\n",
       "      <td id=\"T_79f08_row16_col1\" class=\"data row16 col1\" >60</td>\n",
       "    </tr>\n",
       "    <tr>\n",
       "      <th id=\"T_79f08_level0_row17\" class=\"row_heading level0 row17\" >17</th>\n",
       "      <td id=\"T_79f08_row17_col0\" class=\"data row17 col0\" >Seasonal Period(s) Tested</td>\n",
       "      <td id=\"T_79f08_row17_col1\" class=\"data row17 col1\" >[12, 24]</td>\n",
       "    </tr>\n",
       "    <tr>\n",
       "      <th id=\"T_79f08_level0_row18\" class=\"row_heading level0 row18\" >18</th>\n",
       "      <td id=\"T_79f08_row18_col0\" class=\"data row18 col0\" >Significant Seasonal Period(s)</td>\n",
       "      <td id=\"T_79f08_row18_col1\" class=\"data row18 col1\" >[12, 24]</td>\n",
       "    </tr>\n",
       "    <tr>\n",
       "      <th id=\"T_79f08_level0_row19\" class=\"row_heading level0 row19\" >19</th>\n",
       "      <td id=\"T_79f08_row19_col0\" class=\"data row19 col0\" >Significant Seasonal Period(s) without Harmonics</td>\n",
       "      <td id=\"T_79f08_row19_col1\" class=\"data row19 col1\" >[24]</td>\n",
       "    </tr>\n",
       "    <tr>\n",
       "      <th id=\"T_79f08_level0_row20\" class=\"row_heading level0 row20\" >20</th>\n",
       "      <td id=\"T_79f08_row20_col0\" class=\"data row20 col0\" >Remove Harmonics</td>\n",
       "      <td id=\"T_79f08_row20_col1\" class=\"data row20 col1\" >False</td>\n",
       "    </tr>\n",
       "    <tr>\n",
       "      <th id=\"T_79f08_level0_row21\" class=\"row_heading level0 row21\" >21</th>\n",
       "      <td id=\"T_79f08_row21_col0\" class=\"data row21 col0\" >Harmonics Order Method</td>\n",
       "      <td id=\"T_79f08_row21_col1\" class=\"data row21 col1\" >harmonic_max</td>\n",
       "    </tr>\n",
       "    <tr>\n",
       "      <th id=\"T_79f08_level0_row22\" class=\"row_heading level0 row22\" >22</th>\n",
       "      <td id=\"T_79f08_row22_col0\" class=\"data row22 col0\" >Num Seasonalities to Use</td>\n",
       "      <td id=\"T_79f08_row22_col1\" class=\"data row22 col1\" >1</td>\n",
       "    </tr>\n",
       "    <tr>\n",
       "      <th id=\"T_79f08_level0_row23\" class=\"row_heading level0 row23\" >23</th>\n",
       "      <td id=\"T_79f08_row23_col0\" class=\"data row23 col0\" >All Seasonalities to Use</td>\n",
       "      <td id=\"T_79f08_row23_col1\" class=\"data row23 col1\" >[12]</td>\n",
       "    </tr>\n",
       "    <tr>\n",
       "      <th id=\"T_79f08_level0_row24\" class=\"row_heading level0 row24\" >24</th>\n",
       "      <td id=\"T_79f08_row24_col0\" class=\"data row24 col0\" >Primary Seasonality</td>\n",
       "      <td id=\"T_79f08_row24_col1\" class=\"data row24 col1\" >12</td>\n",
       "    </tr>\n",
       "    <tr>\n",
       "      <th id=\"T_79f08_level0_row25\" class=\"row_heading level0 row25\" >25</th>\n",
       "      <td id=\"T_79f08_row25_col0\" class=\"data row25 col0\" >Seasonality Present</td>\n",
       "      <td id=\"T_79f08_row25_col1\" class=\"data row25 col1\" >True</td>\n",
       "    </tr>\n",
       "    <tr>\n",
       "      <th id=\"T_79f08_level0_row26\" class=\"row_heading level0 row26\" >26</th>\n",
       "      <td id=\"T_79f08_row26_col0\" class=\"data row26 col0\" >Seasonality Type</td>\n",
       "      <td id=\"T_79f08_row26_col1\" class=\"data row26 col1\" >mul</td>\n",
       "    </tr>\n",
       "    <tr>\n",
       "      <th id=\"T_79f08_level0_row27\" class=\"row_heading level0 row27\" >27</th>\n",
       "      <td id=\"T_79f08_row27_col0\" class=\"data row27 col0\" >Target Strictly Positive</td>\n",
       "      <td id=\"T_79f08_row27_col1\" class=\"data row27 col1\" >True</td>\n",
       "    </tr>\n",
       "    <tr>\n",
       "      <th id=\"T_79f08_level0_row28\" class=\"row_heading level0 row28\" >28</th>\n",
       "      <td id=\"T_79f08_row28_col0\" class=\"data row28 col0\" >Target White Noise</td>\n",
       "      <td id=\"T_79f08_row28_col1\" class=\"data row28 col1\" >No</td>\n",
       "    </tr>\n",
       "    <tr>\n",
       "      <th id=\"T_79f08_level0_row29\" class=\"row_heading level0 row29\" >29</th>\n",
       "      <td id=\"T_79f08_row29_col0\" class=\"data row29 col0\" >Recommended d</td>\n",
       "      <td id=\"T_79f08_row29_col1\" class=\"data row29 col1\" >0</td>\n",
       "    </tr>\n",
       "    <tr>\n",
       "      <th id=\"T_79f08_level0_row30\" class=\"row_heading level0 row30\" >30</th>\n",
       "      <td id=\"T_79f08_row30_col0\" class=\"data row30 col0\" >Recommended Seasonal D</td>\n",
       "      <td id=\"T_79f08_row30_col1\" class=\"data row30 col1\" >1</td>\n",
       "    </tr>\n",
       "    <tr>\n",
       "      <th id=\"T_79f08_level0_row31\" class=\"row_heading level0 row31\" >31</th>\n",
       "      <td id=\"T_79f08_row31_col0\" class=\"data row31 col0\" >Preprocess</td>\n",
       "      <td id=\"T_79f08_row31_col1\" class=\"data row31 col1\" >True</td>\n",
       "    </tr>\n",
       "    <tr>\n",
       "      <th id=\"T_79f08_level0_row32\" class=\"row_heading level0 row32\" >32</th>\n",
       "      <td id=\"T_79f08_row32_col0\" class=\"data row32 col0\" >Numerical Imputation (Target)</td>\n",
       "      <td id=\"T_79f08_row32_col1\" class=\"data row32 col1\" >mean</td>\n",
       "    </tr>\n",
       "    <tr>\n",
       "      <th id=\"T_79f08_level0_row33\" class=\"row_heading level0 row33\" >33</th>\n",
       "      <td id=\"T_79f08_row33_col0\" class=\"data row33 col0\" >Transformation (Target)</td>\n",
       "      <td id=\"T_79f08_row33_col1\" class=\"data row33 col1\" >None</td>\n",
       "    </tr>\n",
       "    <tr>\n",
       "      <th id=\"T_79f08_level0_row34\" class=\"row_heading level0 row34\" >34</th>\n",
       "      <td id=\"T_79f08_row34_col0\" class=\"data row34 col0\" >Scaling (Target)</td>\n",
       "      <td id=\"T_79f08_row34_col1\" class=\"data row34 col1\" >None</td>\n",
       "    </tr>\n",
       "    <tr>\n",
       "      <th id=\"T_79f08_level0_row35\" class=\"row_heading level0 row35\" >35</th>\n",
       "      <td id=\"T_79f08_row35_col0\" class=\"data row35 col0\" >Feature Engineering (Target) - Reduced Regression</td>\n",
       "      <td id=\"T_79f08_row35_col1\" class=\"data row35 col1\" >False</td>\n",
       "    </tr>\n",
       "    <tr>\n",
       "      <th id=\"T_79f08_level0_row36\" class=\"row_heading level0 row36\" >36</th>\n",
       "      <td id=\"T_79f08_row36_col0\" class=\"data row36 col0\" >CPU Jobs</td>\n",
       "      <td id=\"T_79f08_row36_col1\" class=\"data row36 col1\" >-1</td>\n",
       "    </tr>\n",
       "    <tr>\n",
       "      <th id=\"T_79f08_level0_row37\" class=\"row_heading level0 row37\" >37</th>\n",
       "      <td id=\"T_79f08_row37_col0\" class=\"data row37 col0\" >Use GPU</td>\n",
       "      <td id=\"T_79f08_row37_col1\" class=\"data row37 col1\" >False</td>\n",
       "    </tr>\n",
       "    <tr>\n",
       "      <th id=\"T_79f08_level0_row38\" class=\"row_heading level0 row38\" >38</th>\n",
       "      <td id=\"T_79f08_row38_col0\" class=\"data row38 col0\" >Log Experiment</td>\n",
       "      <td id=\"T_79f08_row38_col1\" class=\"data row38 col1\" >False</td>\n",
       "    </tr>\n",
       "    <tr>\n",
       "      <th id=\"T_79f08_level0_row39\" class=\"row_heading level0 row39\" >39</th>\n",
       "      <td id=\"T_79f08_row39_col0\" class=\"data row39 col0\" >Experiment Name</td>\n",
       "      <td id=\"T_79f08_row39_col1\" class=\"data row39 col1\" >ts-default-name</td>\n",
       "    </tr>\n",
       "    <tr>\n",
       "      <th id=\"T_79f08_level0_row40\" class=\"row_heading level0 row40\" >40</th>\n",
       "      <td id=\"T_79f08_row40_col0\" class=\"data row40 col0\" >USI</td>\n",
       "      <td id=\"T_79f08_row40_col1\" class=\"data row40 col1\" >de7a</td>\n",
       "    </tr>\n",
       "  </tbody>\n",
       "</table>\n"
      ],
      "text/plain": [
       "<pandas.io.formats.style.Styler at 0x224d0a043d0>"
      ]
     },
     "metadata": {},
     "output_type": "display_data"
    },
    {
     "data": {
      "text/html": [],
      "text/plain": [
       "<IPython.core.display.HTML object>"
      ]
     },
     "metadata": {},
     "output_type": "display_data"
    },
    {
     "data": {
      "text/html": [
       "<style type=\"text/css\">\n",
       "#T_e7424 th {\n",
       "  text-align: left;\n",
       "}\n",
       "#T_e7424_row0_col0, #T_e7424_row0_col1, #T_e7424_row0_col2, #T_e7424_row0_col3, #T_e7424_row0_col4, #T_e7424_row1_col0, #T_e7424_row1_col1, #T_e7424_row1_col2, #T_e7424_row1_col3, #T_e7424_row1_col4, #T_e7424_row1_col5, #T_e7424_row1_col6, #T_e7424_row2_col0, #T_e7424_row2_col3, #T_e7424_row2_col4, #T_e7424_row2_col5, #T_e7424_row2_col6, #T_e7424_row3_col0, #T_e7424_row3_col1, #T_e7424_row3_col2, #T_e7424_row3_col3, #T_e7424_row3_col4, #T_e7424_row3_col5, #T_e7424_row3_col6, #T_e7424_row4_col0, #T_e7424_row4_col1, #T_e7424_row4_col2, #T_e7424_row4_col3, #T_e7424_row4_col4, #T_e7424_row4_col5, #T_e7424_row4_col6, #T_e7424_row5_col0, #T_e7424_row5_col1, #T_e7424_row5_col2, #T_e7424_row5_col3, #T_e7424_row5_col4, #T_e7424_row5_col5, #T_e7424_row5_col6, #T_e7424_row6_col0, #T_e7424_row6_col1, #T_e7424_row6_col2, #T_e7424_row6_col3, #T_e7424_row6_col4, #T_e7424_row6_col5, #T_e7424_row6_col6, #T_e7424_row7_col0, #T_e7424_row7_col1, #T_e7424_row7_col2, #T_e7424_row7_col3, #T_e7424_row7_col4, #T_e7424_row7_col5, #T_e7424_row7_col6, #T_e7424_row8_col0, #T_e7424_row8_col1, #T_e7424_row8_col2, #T_e7424_row8_col3, #T_e7424_row8_col4, #T_e7424_row8_col5, #T_e7424_row8_col6, #T_e7424_row9_col0, #T_e7424_row9_col1, #T_e7424_row9_col2, #T_e7424_row9_col3, #T_e7424_row9_col4, #T_e7424_row9_col5, #T_e7424_row9_col6, #T_e7424_row10_col0, #T_e7424_row10_col1, #T_e7424_row10_col2, #T_e7424_row10_col3, #T_e7424_row10_col4, #T_e7424_row10_col5, #T_e7424_row10_col6, #T_e7424_row11_col0, #T_e7424_row11_col1, #T_e7424_row11_col2, #T_e7424_row11_col3, #T_e7424_row11_col4, #T_e7424_row11_col5, #T_e7424_row11_col6, #T_e7424_row12_col0, #T_e7424_row12_col1, #T_e7424_row12_col2, #T_e7424_row12_col3, #T_e7424_row12_col4, #T_e7424_row12_col5, #T_e7424_row12_col6, #T_e7424_row13_col0, #T_e7424_row13_col1, #T_e7424_row13_col2, #T_e7424_row13_col3, #T_e7424_row13_col4, #T_e7424_row13_col5, #T_e7424_row13_col6, #T_e7424_row14_col0, #T_e7424_row14_col1, #T_e7424_row14_col2, #T_e7424_row14_col3, #T_e7424_row14_col4, #T_e7424_row14_col5, #T_e7424_row14_col6, #T_e7424_row15_col0, #T_e7424_row15_col1, #T_e7424_row15_col2, #T_e7424_row15_col3, #T_e7424_row15_col4, #T_e7424_row15_col5, #T_e7424_row15_col6, #T_e7424_row16_col0, #T_e7424_row16_col1, #T_e7424_row16_col2, #T_e7424_row16_col3, #T_e7424_row16_col4, #T_e7424_row16_col5, #T_e7424_row16_col6, #T_e7424_row17_col0, #T_e7424_row17_col1, #T_e7424_row17_col2, #T_e7424_row17_col5, #T_e7424_row17_col6, #T_e7424_row18_col0, #T_e7424_row18_col1, #T_e7424_row18_col2, #T_e7424_row18_col3, #T_e7424_row18_col4, #T_e7424_row18_col5, #T_e7424_row18_col6, #T_e7424_row19_col0, #T_e7424_row19_col1, #T_e7424_row19_col2, #T_e7424_row19_col3, #T_e7424_row19_col4, #T_e7424_row19_col5, #T_e7424_row19_col6, #T_e7424_row20_col0, #T_e7424_row20_col1, #T_e7424_row20_col2, #T_e7424_row20_col3, #T_e7424_row20_col4, #T_e7424_row20_col5, #T_e7424_row20_col6, #T_e7424_row21_col0, #T_e7424_row21_col1, #T_e7424_row21_col2, #T_e7424_row21_col3, #T_e7424_row21_col4, #T_e7424_row21_col5, #T_e7424_row21_col6, #T_e7424_row22_col0, #T_e7424_row22_col1, #T_e7424_row22_col2, #T_e7424_row22_col3, #T_e7424_row22_col4, #T_e7424_row22_col5, #T_e7424_row22_col6 {\n",
       "  text-align: left;\n",
       "}\n",
       "#T_e7424_row0_col5, #T_e7424_row0_col6, #T_e7424_row2_col1, #T_e7424_row2_col2, #T_e7424_row17_col3, #T_e7424_row17_col4 {\n",
       "  text-align: left;\n",
       "  background-color: yellow;\n",
       "}\n",
       "#T_e7424_row0_col7, #T_e7424_row1_col7, #T_e7424_row2_col7, #T_e7424_row3_col7, #T_e7424_row4_col7, #T_e7424_row5_col7, #T_e7424_row6_col7, #T_e7424_row7_col7, #T_e7424_row8_col7, #T_e7424_row9_col7, #T_e7424_row10_col7, #T_e7424_row11_col7, #T_e7424_row12_col7, #T_e7424_row13_col7, #T_e7424_row14_col7, #T_e7424_row15_col7, #T_e7424_row16_col7, #T_e7424_row17_col7, #T_e7424_row18_col7, #T_e7424_row19_col7, #T_e7424_row21_col7, #T_e7424_row22_col7 {\n",
       "  text-align: left;\n",
       "  background-color: lightgrey;\n",
       "}\n",
       "#T_e7424_row20_col7 {\n",
       "  text-align: left;\n",
       "  background-color: yellow;\n",
       "  background-color: lightgrey;\n",
       "}\n",
       "</style>\n",
       "<table id=\"T_e7424\">\n",
       "  <thead>\n",
       "    <tr>\n",
       "      <th class=\"blank level0\" >&nbsp;</th>\n",
       "      <th id=\"T_e7424_level0_col0\" class=\"col_heading level0 col0\" >Model</th>\n",
       "      <th id=\"T_e7424_level0_col1\" class=\"col_heading level0 col1\" >MASE</th>\n",
       "      <th id=\"T_e7424_level0_col2\" class=\"col_heading level0 col2\" >RMSSE</th>\n",
       "      <th id=\"T_e7424_level0_col3\" class=\"col_heading level0 col3\" >MAE</th>\n",
       "      <th id=\"T_e7424_level0_col4\" class=\"col_heading level0 col4\" >RMSE</th>\n",
       "      <th id=\"T_e7424_level0_col5\" class=\"col_heading level0 col5\" >MAPE</th>\n",
       "      <th id=\"T_e7424_level0_col6\" class=\"col_heading level0 col6\" >SMAPE</th>\n",
       "      <th id=\"T_e7424_level0_col7\" class=\"col_heading level0 col7\" >TT (Sec)</th>\n",
       "    </tr>\n",
       "  </thead>\n",
       "  <tbody>\n",
       "    <tr>\n",
       "      <th id=\"T_e7424_level0_row0\" class=\"row_heading level0 row0\" >dt_cds_dt</th>\n",
       "      <td id=\"T_e7424_row0_col0\" class=\"data row0 col0\" >Decision Tree w/ Cond. Deseasonalize & Detrending</td>\n",
       "      <td id=\"T_e7424_row0_col1\" class=\"data row0 col1\" >1.7381</td>\n",
       "      <td id=\"T_e7424_row0_col2\" class=\"data row0 col2\" >1.3935</td>\n",
       "      <td id=\"T_e7424_row0_col3\" class=\"data row0 col3\" >371088.1282</td>\n",
       "      <td id=\"T_e7424_row0_col4\" class=\"data row0 col4\" >371088.1282</td>\n",
       "      <td id=\"T_e7424_row0_col5\" class=\"data row0 col5\" >0.2334</td>\n",
       "      <td id=\"T_e7424_row0_col6\" class=\"data row0 col6\" >0.2843</td>\n",
       "      <td id=\"T_e7424_row0_col7\" class=\"data row0 col7\" >0.0467</td>\n",
       "    </tr>\n",
       "    <tr>\n",
       "      <th id=\"T_e7424_level0_row1\" class=\"row_heading level0 row1\" >ada_cds_dt</th>\n",
       "      <td id=\"T_e7424_row1_col0\" class=\"data row1 col0\" >AdaBoost w/ Cond. Deseasonalize & Detrending</td>\n",
       "      <td id=\"T_e7424_row1_col1\" class=\"data row1 col1\" >1.6081</td>\n",
       "      <td id=\"T_e7424_row1_col2\" class=\"data row1 col2\" >1.2896</td>\n",
       "      <td id=\"T_e7424_row1_col3\" class=\"data row1 col3\" >343047.8552</td>\n",
       "      <td id=\"T_e7424_row1_col4\" class=\"data row1 col4\" >343047.8552</td>\n",
       "      <td id=\"T_e7424_row1_col5\" class=\"data row1 col5\" >0.2729</td>\n",
       "      <td id=\"T_e7424_row1_col6\" class=\"data row1 col6\" >0.2979</td>\n",
       "      <td id=\"T_e7424_row1_col7\" class=\"data row1 col7\" >0.0633</td>\n",
       "    </tr>\n",
       "    <tr>\n",
       "      <th id=\"T_e7424_level0_row2\" class=\"row_heading level0 row2\" >snaive</th>\n",
       "      <td id=\"T_e7424_row2_col0\" class=\"data row2 col0\" >Seasonal Naive Forecaster</td>\n",
       "      <td id=\"T_e7424_row2_col1\" class=\"data row2 col1\" >1.4484</td>\n",
       "      <td id=\"T_e7424_row2_col2\" class=\"data row2 col2\" >1.1610</td>\n",
       "      <td id=\"T_e7424_row2_col3\" class=\"data row2 col3\" >309659.8816</td>\n",
       "      <td id=\"T_e7424_row2_col4\" class=\"data row2 col4\" >309659.8816</td>\n",
       "      <td id=\"T_e7424_row2_col5\" class=\"data row2 col5\" >0.3166</td>\n",
       "      <td id=\"T_e7424_row2_col6\" class=\"data row2 col6\" >0.3066</td>\n",
       "      <td id=\"T_e7424_row2_col7\" class=\"data row2 col7\" >0.0433</td>\n",
       "    </tr>\n",
       "    <tr>\n",
       "      <th id=\"T_e7424_level0_row3\" class=\"row_heading level0 row3\" >et_cds_dt</th>\n",
       "      <td id=\"T_e7424_row3_col0\" class=\"data row3 col0\" >Extra Trees w/ Cond. Deseasonalize & Detrending</td>\n",
       "      <td id=\"T_e7424_row3_col1\" class=\"data row3 col1\" >1.7577</td>\n",
       "      <td id=\"T_e7424_row3_col2\" class=\"data row3 col2\" >1.4087</td>\n",
       "      <td id=\"T_e7424_row3_col3\" class=\"data row3 col3\" >375922.2607</td>\n",
       "      <td id=\"T_e7424_row3_col4\" class=\"data row3 col4\" >375922.2607</td>\n",
       "      <td id=\"T_e7424_row3_col5\" class=\"data row3 col5\" >0.3176</td>\n",
       "      <td id=\"T_e7424_row3_col6\" class=\"data row3 col6\" >0.3394</td>\n",
       "      <td id=\"T_e7424_row3_col7\" class=\"data row3 col7\" >0.0800</td>\n",
       "    </tr>\n",
       "    <tr>\n",
       "      <th id=\"T_e7424_level0_row4\" class=\"row_heading level0 row4\" >br_cds_dt</th>\n",
       "      <td id=\"T_e7424_row4_col0\" class=\"data row4 col0\" >Bayesian Ridge w/ Cond. Deseasonalize & Detrending</td>\n",
       "      <td id=\"T_e7424_row4_col1\" class=\"data row4 col1\" >1.6323</td>\n",
       "      <td id=\"T_e7424_row4_col2\" class=\"data row4 col2\" >1.3085</td>\n",
       "      <td id=\"T_e7424_row4_col3\" class=\"data row4 col3\" >348853.4871</td>\n",
       "      <td id=\"T_e7424_row4_col4\" class=\"data row4 col4\" >348853.4871</td>\n",
       "      <td id=\"T_e7424_row4_col5\" class=\"data row4 col5\" >0.3265</td>\n",
       "      <td id=\"T_e7424_row4_col6\" class=\"data row4 col6\" >0.3309</td>\n",
       "      <td id=\"T_e7424_row4_col7\" class=\"data row4 col7\" >0.0433</td>\n",
       "    </tr>\n",
       "    <tr>\n",
       "      <th id=\"T_e7424_level0_row5\" class=\"row_heading level0 row5\" >rf_cds_dt</th>\n",
       "      <td id=\"T_e7424_row5_col0\" class=\"data row5 col0\" >Random Forest w/ Cond. Deseasonalize & Detrending</td>\n",
       "      <td id=\"T_e7424_row5_col1\" class=\"data row5 col1\" >1.7113</td>\n",
       "      <td id=\"T_e7424_row5_col2\" class=\"data row5 col2\" >1.3714</td>\n",
       "      <td id=\"T_e7424_row5_col3\" class=\"data row5 col3\" >366152.8232</td>\n",
       "      <td id=\"T_e7424_row5_col4\" class=\"data row5 col4\" >366152.8232</td>\n",
       "      <td id=\"T_e7424_row5_col5\" class=\"data row5 col5\" >0.3295</td>\n",
       "      <td id=\"T_e7424_row5_col6\" class=\"data row5 col6\" >0.3409</td>\n",
       "      <td id=\"T_e7424_row5_col7\" class=\"data row5 col7\" >0.0900</td>\n",
       "    </tr>\n",
       "    <tr>\n",
       "      <th id=\"T_e7424_level0_row6\" class=\"row_heading level0 row6\" >lightgbm_cds_dt</th>\n",
       "      <td id=\"T_e7424_row6_col0\" class=\"data row6 col0\" >Light Gradient Boosting w/ Cond. Deseasonalize & Detrending</td>\n",
       "      <td id=\"T_e7424_row6_col1\" class=\"data row6 col1\" >1.6835</td>\n",
       "      <td id=\"T_e7424_row6_col2\" class=\"data row6 col2\" >1.3495</td>\n",
       "      <td id=\"T_e7424_row6_col3\" class=\"data row6 col3\" >359848.7241</td>\n",
       "      <td id=\"T_e7424_row6_col4\" class=\"data row6 col4\" >359848.7241</td>\n",
       "      <td id=\"T_e7424_row6_col5\" class=\"data row6 col5\" >0.3307</td>\n",
       "      <td id=\"T_e7424_row6_col6\" class=\"data row6 col6\" >0.3389</td>\n",
       "      <td id=\"T_e7424_row6_col7\" class=\"data row6 col7\" >0.0900</td>\n",
       "    </tr>\n",
       "    <tr>\n",
       "      <th id=\"T_e7424_level0_row7\" class=\"row_heading level0 row7\" >gbr_cds_dt</th>\n",
       "      <td id=\"T_e7424_row7_col0\" class=\"data row7 col0\" >Gradient Boosting w/ Cond. Deseasonalize & Detrending</td>\n",
       "      <td id=\"T_e7424_row7_col1\" class=\"data row7 col1\" >1.7141</td>\n",
       "      <td id=\"T_e7424_row7_col2\" class=\"data row7 col2\" >1.3739</td>\n",
       "      <td id=\"T_e7424_row7_col3\" class=\"data row7 col3\" >366538.2197</td>\n",
       "      <td id=\"T_e7424_row7_col4\" class=\"data row7 col4\" >366538.2197</td>\n",
       "      <td id=\"T_e7424_row7_col5\" class=\"data row7 col5\" >0.3375</td>\n",
       "      <td id=\"T_e7424_row7_col6\" class=\"data row7 col6\" >0.3459</td>\n",
       "      <td id=\"T_e7424_row7_col7\" class=\"data row7 col7\" >0.0633</td>\n",
       "    </tr>\n",
       "    <tr>\n",
       "      <th id=\"T_e7424_level0_row8\" class=\"row_heading level0 row8\" >theta</th>\n",
       "      <td id=\"T_e7424_row8_col0\" class=\"data row8 col0\" >Theta Forecaster</td>\n",
       "      <td id=\"T_e7424_row8_col1\" class=\"data row8 col1\" >1.5932</td>\n",
       "      <td id=\"T_e7424_row8_col2\" class=\"data row8 col2\" >1.2763</td>\n",
       "      <td id=\"T_e7424_row8_col3\" class=\"data row8 col3\" >341361.0188</td>\n",
       "      <td id=\"T_e7424_row8_col4\" class=\"data row8 col4\" >341361.0188</td>\n",
       "      <td id=\"T_e7424_row8_col5\" class=\"data row8 col5\" >0.3482</td>\n",
       "      <td id=\"T_e7424_row8_col6\" class=\"data row8 col6\" >0.3380</td>\n",
       "      <td id=\"T_e7424_row8_col7\" class=\"data row8 col7\" >0.0333</td>\n",
       "    </tr>\n",
       "    <tr>\n",
       "      <th id=\"T_e7424_level0_row9\" class=\"row_heading level0 row9\" >omp_cds_dt</th>\n",
       "      <td id=\"T_e7424_row9_col0\" class=\"data row9 col0\" >Orthogonal Matching Pursuit w/ Cond. Deseasonalize & Detrending</td>\n",
       "      <td id=\"T_e7424_row9_col1\" class=\"data row9 col1\" >1.6946</td>\n",
       "      <td id=\"T_e7424_row9_col2\" class=\"data row9 col2\" >1.3585</td>\n",
       "      <td id=\"T_e7424_row9_col3\" class=\"data row9 col3\" >362120.4615</td>\n",
       "      <td id=\"T_e7424_row9_col4\" class=\"data row9 col4\" >362120.4615</td>\n",
       "      <td id=\"T_e7424_row9_col5\" class=\"data row9 col5\" >0.3557</td>\n",
       "      <td id=\"T_e7424_row9_col6\" class=\"data row9 col6\" >0.3520</td>\n",
       "      <td id=\"T_e7424_row9_col7\" class=\"data row9 col7\" >0.0433</td>\n",
       "    </tr>\n",
       "    <tr>\n",
       "      <th id=\"T_e7424_level0_row10\" class=\"row_heading level0 row10\" >exp_smooth</th>\n",
       "      <td id=\"T_e7424_row10_col0\" class=\"data row10 col0\" >Exponential Smoothing</td>\n",
       "      <td id=\"T_e7424_row10_col1\" class=\"data row10 col1\" >1.8374</td>\n",
       "      <td id=\"T_e7424_row10_col2\" class=\"data row10 col2\" >1.4701</td>\n",
       "      <td id=\"T_e7424_row10_col3\" class=\"data row10 col3\" >395486.4209</td>\n",
       "      <td id=\"T_e7424_row10_col4\" class=\"data row10 col4\" >395486.4209</td>\n",
       "      <td id=\"T_e7424_row10_col5\" class=\"data row10 col5\" >0.3729</td>\n",
       "      <td id=\"T_e7424_row10_col6\" class=\"data row10 col6\" >0.3533</td>\n",
       "      <td id=\"T_e7424_row10_col7\" class=\"data row10 col7\" >0.0533</td>\n",
       "    </tr>\n",
       "    <tr>\n",
       "      <th id=\"T_e7424_level0_row11\" class=\"row_heading level0 row11\" >ridge_cds_dt</th>\n",
       "      <td id=\"T_e7424_row11_col0\" class=\"data row11 col0\" >Ridge w/ Cond. Deseasonalize & Detrending</td>\n",
       "      <td id=\"T_e7424_row11_col1\" class=\"data row11 col1\" >1.8640</td>\n",
       "      <td id=\"T_e7424_row11_col2\" class=\"data row11 col2\" >1.4933</td>\n",
       "      <td id=\"T_e7424_row11_col3\" class=\"data row11 col3\" >399311.0969</td>\n",
       "      <td id=\"T_e7424_row11_col4\" class=\"data row11 col4\" >399311.0969</td>\n",
       "      <td id=\"T_e7424_row11_col5\" class=\"data row11 col5\" >0.3836</td>\n",
       "      <td id=\"T_e7424_row11_col6\" class=\"data row11 col6\" >0.3846</td>\n",
       "      <td id=\"T_e7424_row11_col7\" class=\"data row11 col7\" >0.0533</td>\n",
       "    </tr>\n",
       "    <tr>\n",
       "      <th id=\"T_e7424_level0_row12\" class=\"row_heading level0 row12\" >llar_cds_dt</th>\n",
       "      <td id=\"T_e7424_row12_col0\" class=\"data row12 col0\" >Lasso Least Angular Regressor w/ Cond. Deseasonalize & Detrending</td>\n",
       "      <td id=\"T_e7424_row12_col1\" class=\"data row12 col1\" >1.8640</td>\n",
       "      <td id=\"T_e7424_row12_col2\" class=\"data row12 col2\" >1.4933</td>\n",
       "      <td id=\"T_e7424_row12_col3\" class=\"data row12 col3\" >399311.0969</td>\n",
       "      <td id=\"T_e7424_row12_col4\" class=\"data row12 col4\" >399311.0969</td>\n",
       "      <td id=\"T_e7424_row12_col5\" class=\"data row12 col5\" >0.3836</td>\n",
       "      <td id=\"T_e7424_row12_col6\" class=\"data row12 col6\" >0.3846</td>\n",
       "      <td id=\"T_e7424_row12_col7\" class=\"data row12 col7\" >0.0433</td>\n",
       "    </tr>\n",
       "    <tr>\n",
       "      <th id=\"T_e7424_level0_row13\" class=\"row_heading level0 row13\" >lr_cds_dt</th>\n",
       "      <td id=\"T_e7424_row13_col0\" class=\"data row13 col0\" >Linear w/ Cond. Deseasonalize & Detrending</td>\n",
       "      <td id=\"T_e7424_row13_col1\" class=\"data row13 col1\" >1.8640</td>\n",
       "      <td id=\"T_e7424_row13_col2\" class=\"data row13 col2\" >1.4933</td>\n",
       "      <td id=\"T_e7424_row13_col3\" class=\"data row13 col3\" >399311.0969</td>\n",
       "      <td id=\"T_e7424_row13_col4\" class=\"data row13 col4\" >399311.0969</td>\n",
       "      <td id=\"T_e7424_row13_col5\" class=\"data row13 col5\" >0.3836</td>\n",
       "      <td id=\"T_e7424_row13_col6\" class=\"data row13 col6\" >0.3846</td>\n",
       "      <td id=\"T_e7424_row13_col7\" class=\"data row13 col7\" >0.0433</td>\n",
       "    </tr>\n",
       "    <tr>\n",
       "      <th id=\"T_e7424_level0_row14\" class=\"row_heading level0 row14\" >en_cds_dt</th>\n",
       "      <td id=\"T_e7424_row14_col0\" class=\"data row14 col0\" >Elastic Net w/ Cond. Deseasonalize & Detrending</td>\n",
       "      <td id=\"T_e7424_row14_col1\" class=\"data row14 col1\" >1.8640</td>\n",
       "      <td id=\"T_e7424_row14_col2\" class=\"data row14 col2\" >1.4933</td>\n",
       "      <td id=\"T_e7424_row14_col3\" class=\"data row14 col3\" >399311.0969</td>\n",
       "      <td id=\"T_e7424_row14_col4\" class=\"data row14 col4\" >399311.0969</td>\n",
       "      <td id=\"T_e7424_row14_col5\" class=\"data row14 col5\" >0.3836</td>\n",
       "      <td id=\"T_e7424_row14_col6\" class=\"data row14 col6\" >0.3846</td>\n",
       "      <td id=\"T_e7424_row14_col7\" class=\"data row14 col7\" >0.0467</td>\n",
       "    </tr>\n",
       "    <tr>\n",
       "      <th id=\"T_e7424_level0_row15\" class=\"row_heading level0 row15\" >lasso_cds_dt</th>\n",
       "      <td id=\"T_e7424_row15_col0\" class=\"data row15 col0\" >Lasso w/ Cond. Deseasonalize & Detrending</td>\n",
       "      <td id=\"T_e7424_row15_col1\" class=\"data row15 col1\" >1.8640</td>\n",
       "      <td id=\"T_e7424_row15_col2\" class=\"data row15 col2\" >1.4933</td>\n",
       "      <td id=\"T_e7424_row15_col3\" class=\"data row15 col3\" >399311.0969</td>\n",
       "      <td id=\"T_e7424_row15_col4\" class=\"data row15 col4\" >399311.0969</td>\n",
       "      <td id=\"T_e7424_row15_col5\" class=\"data row15 col5\" >0.3836</td>\n",
       "      <td id=\"T_e7424_row15_col6\" class=\"data row15 col6\" >0.3846</td>\n",
       "      <td id=\"T_e7424_row15_col7\" class=\"data row15 col7\" >0.0467</td>\n",
       "    </tr>\n",
       "    <tr>\n",
       "      <th id=\"T_e7424_level0_row16\" class=\"row_heading level0 row16\" >knn_cds_dt</th>\n",
       "      <td id=\"T_e7424_row16_col0\" class=\"data row16 col0\" >K Neighbors w/ Cond. Deseasonalize & Detrending</td>\n",
       "      <td id=\"T_e7424_row16_col1\" class=\"data row16 col1\" >1.9022</td>\n",
       "      <td id=\"T_e7424_row16_col2\" class=\"data row16 col2\" >1.5244</td>\n",
       "      <td id=\"T_e7424_row16_col3\" class=\"data row16 col3\" >406997.0306</td>\n",
       "      <td id=\"T_e7424_row16_col4\" class=\"data row16 col4\" >406997.0306</td>\n",
       "      <td id=\"T_e7424_row16_col5\" class=\"data row16 col5\" >0.4142</td>\n",
       "      <td id=\"T_e7424_row16_col6\" class=\"data row16 col6\" >0.4044</td>\n",
       "      <td id=\"T_e7424_row16_col7\" class=\"data row16 col7\" >0.0633</td>\n",
       "    </tr>\n",
       "    <tr>\n",
       "      <th id=\"T_e7424_level0_row17\" class=\"row_heading level0 row17\" >stlf</th>\n",
       "      <td id=\"T_e7424_row17_col0\" class=\"data row17 col0\" >STLF</td>\n",
       "      <td id=\"T_e7424_row17_col1\" class=\"data row17 col1\" >1.4485</td>\n",
       "      <td id=\"T_e7424_row17_col2\" class=\"data row17 col2\" >1.1613</td>\n",
       "      <td id=\"T_e7424_row17_col3\" class=\"data row17 col3\" >309545.4061</td>\n",
       "      <td id=\"T_e7424_row17_col4\" class=\"data row17 col4\" >309545.4061</td>\n",
       "      <td id=\"T_e7424_row17_col5\" class=\"data row17 col5\" >0.4266</td>\n",
       "      <td id=\"T_e7424_row17_col6\" class=\"data row17 col6\" >0.3482</td>\n",
       "      <td id=\"T_e7424_row17_col7\" class=\"data row17 col7\" >0.0367</td>\n",
       "    </tr>\n",
       "    <tr>\n",
       "      <th id=\"T_e7424_level0_row18\" class=\"row_heading level0 row18\" >ets</th>\n",
       "      <td id=\"T_e7424_row18_col0\" class=\"data row18 col0\" >ETS</td>\n",
       "      <td id=\"T_e7424_row18_col1\" class=\"data row18 col1\" >2.0115</td>\n",
       "      <td id=\"T_e7424_row18_col2\" class=\"data row18 col2\" >1.6110</td>\n",
       "      <td id=\"T_e7424_row18_col3\" class=\"data row18 col3\" >431435.1747</td>\n",
       "      <td id=\"T_e7424_row18_col4\" class=\"data row18 col4\" >431435.1747</td>\n",
       "      <td id=\"T_e7424_row18_col5\" class=\"data row18 col5\" >0.4767</td>\n",
       "      <td id=\"T_e7424_row18_col6\" class=\"data row18 col6\" >0.4422</td>\n",
       "      <td id=\"T_e7424_row18_col7\" class=\"data row18 col7\" >0.0867</td>\n",
       "    </tr>\n",
       "    <tr>\n",
       "      <th id=\"T_e7424_level0_row19\" class=\"row_heading level0 row19\" >huber_cds_dt</th>\n",
       "      <td id=\"T_e7424_row19_col0\" class=\"data row19 col0\" >Huber w/ Cond. Deseasonalize & Detrending</td>\n",
       "      <td id=\"T_e7424_row19_col1\" class=\"data row19 col1\" >2.1339</td>\n",
       "      <td id=\"T_e7424_row19_col2\" class=\"data row19 col2\" >1.7079</td>\n",
       "      <td id=\"T_e7424_row19_col3\" class=\"data row19 col3\" >458706.4036</td>\n",
       "      <td id=\"T_e7424_row19_col4\" class=\"data row19 col4\" >458706.4036</td>\n",
       "      <td id=\"T_e7424_row19_col5\" class=\"data row19 col5\" >0.4880</td>\n",
       "      <td id=\"T_e7424_row19_col6\" class=\"data row19 col6\" >0.4530</td>\n",
       "      <td id=\"T_e7424_row19_col7\" class=\"data row19 col7\" >0.0533</td>\n",
       "    </tr>\n",
       "    <tr>\n",
       "      <th id=\"T_e7424_level0_row20\" class=\"row_heading level0 row20\" >polytrend</th>\n",
       "      <td id=\"T_e7424_row20_col0\" class=\"data row20 col0\" >Polynomial Trend Forecaster</td>\n",
       "      <td id=\"T_e7424_row20_col1\" class=\"data row20 col1\" >2.8703</td>\n",
       "      <td id=\"T_e7424_row20_col2\" class=\"data row20 col2\" >2.3015</td>\n",
       "      <td id=\"T_e7424_row20_col3\" class=\"data row20 col3\" >612728.3852</td>\n",
       "      <td id=\"T_e7424_row20_col4\" class=\"data row20 col4\" >612728.3852</td>\n",
       "      <td id=\"T_e7424_row20_col5\" class=\"data row20 col5\" >0.5097</td>\n",
       "      <td id=\"T_e7424_row20_col6\" class=\"data row20 col6\" >0.6192</td>\n",
       "      <td id=\"T_e7424_row20_col7\" class=\"data row20 col7\" >0.0300</td>\n",
       "    </tr>\n",
       "    <tr>\n",
       "      <th id=\"T_e7424_level0_row21\" class=\"row_heading level0 row21\" >arima</th>\n",
       "      <td id=\"T_e7424_row21_col0\" class=\"data row21 col0\" >ARIMA</td>\n",
       "      <td id=\"T_e7424_row21_col1\" class=\"data row21 col1\" >1.9236</td>\n",
       "      <td id=\"T_e7424_row21_col2\" class=\"data row21 col2\" >1.5403</td>\n",
       "      <td id=\"T_e7424_row21_col3\" class=\"data row21 col3\" >412872.2861</td>\n",
       "      <td id=\"T_e7424_row21_col4\" class=\"data row21 col4\" >412872.2861</td>\n",
       "      <td id=\"T_e7424_row21_col5\" class=\"data row21 col5\" >0.5243</td>\n",
       "      <td id=\"T_e7424_row21_col6\" class=\"data row21 col6\" >0.4486</td>\n",
       "      <td id=\"T_e7424_row21_col7\" class=\"data row21 col7\" >0.0333</td>\n",
       "    </tr>\n",
       "    <tr>\n",
       "      <th id=\"T_e7424_level0_row22\" class=\"row_heading level0 row22\" >auto_arima</th>\n",
       "      <td id=\"T_e7424_row22_col0\" class=\"data row22 col0\" >Auto ARIMA</td>\n",
       "      <td id=\"T_e7424_row22_col1\" class=\"data row22 col1\" >2.1608</td>\n",
       "      <td id=\"T_e7424_row22_col2\" class=\"data row22 col2\" >1.7325</td>\n",
       "      <td id=\"T_e7424_row22_col3\" class=\"data row22 col3\" >461578.0594</td>\n",
       "      <td id=\"T_e7424_row22_col4\" class=\"data row22 col4\" >461578.0594</td>\n",
       "      <td id=\"T_e7424_row22_col5\" class=\"data row22 col5\" >0.5663</td>\n",
       "      <td id=\"T_e7424_row22_col6\" class=\"data row22 col6\" >0.4815</td>\n",
       "      <td id=\"T_e7424_row22_col7\" class=\"data row22 col7\" >2.2867</td>\n",
       "    </tr>\n",
       "  </tbody>\n",
       "</table>\n"
      ],
      "text/plain": [
       "<pandas.io.formats.style.Styler at 0x224cba202b0>"
      ]
     },
     "metadata": {},
     "output_type": "display_data"
    },
    {
     "data": {
      "text/html": [],
      "text/plain": [
       "<IPython.core.display.HTML object>"
      ]
     },
     "metadata": {},
     "output_type": "display_data"
    },
    {
     "data": {
      "application/vnd.plotly.v1+json": {
       "config": {
        "plotlyServerURL": "https://plot.ly"
       },
       "data": [
        {
         "line": {
          "color": "rgb(31, 119, 180)",
          "width": 2
         },
         "marker": {
          "color": "rgb(31, 119, 180)",
          "size": 5
         },
         "mode": "lines+markers",
         "name": "NET_SALES",
         "type": "scattergl",
         "x": [
          "2016-01-01T00:00:00",
          "2016-02-01T00:00:00",
          "2016-03-01T00:00:00",
          "2016-04-01T00:00:00",
          "2016-05-01T00:00:00",
          "2016-06-01T00:00:00",
          "2016-07-01T00:00:00",
          "2016-08-01T00:00:00",
          "2016-09-01T00:00:00",
          "2016-10-01T00:00:00",
          "2016-11-01T00:00:00",
          "2016-12-01T00:00:00",
          "2017-01-01T00:00:00",
          "2017-02-01T00:00:00",
          "2017-03-01T00:00:00",
          "2017-04-01T00:00:00",
          "2017-05-01T00:00:00",
          "2017-06-01T00:00:00",
          "2017-07-01T00:00:00",
          "2017-08-01T00:00:00",
          "2017-09-01T00:00:00",
          "2017-10-01T00:00:00",
          "2017-11-01T00:00:00",
          "2017-12-01T00:00:00",
          "2018-01-01T00:00:00",
          "2018-02-01T00:00:00",
          "2018-03-01T00:00:00",
          "2018-04-01T00:00:00",
          "2018-05-01T00:00:00",
          "2018-06-01T00:00:00",
          "2018-07-01T00:00:00",
          "2018-08-01T00:00:00",
          "2018-09-01T00:00:00",
          "2018-10-01T00:00:00",
          "2018-11-01T00:00:00",
          "2018-12-01T00:00:00",
          "2019-01-01T00:00:00",
          "2019-02-01T00:00:00",
          "2019-03-01T00:00:00",
          "2019-04-01T00:00:00",
          "2019-05-01T00:00:00",
          "2019-06-01T00:00:00",
          "2019-07-01T00:00:00",
          "2019-08-01T00:00:00",
          "2019-09-01T00:00:00",
          "2019-10-01T00:00:00",
          "2019-11-01T00:00:00",
          "2019-12-01T00:00:00",
          "2020-01-01T00:00:00",
          "2020-02-01T00:00:00",
          "2020-03-01T00:00:00",
          "2020-04-01T00:00:00",
          "2020-05-01T00:00:00",
          "2020-06-01T00:00:00",
          "2020-07-01T00:00:00",
          "2020-08-01T00:00:00",
          "2020-09-01T00:00:00",
          "2020-10-01T00:00:00",
          "2020-11-01T00:00:00",
          "2020-12-01T00:00:00",
          "2021-01-01T00:00:00",
          "2021-02-01T00:00:00",
          "2021-03-01T00:00:00",
          "2021-04-01T00:00:00",
          "2021-05-01T00:00:00",
          "2021-06-01T00:00:00",
          "2021-07-01T00:00:00",
          "2021-08-01T00:00:00",
          "2021-09-01T00:00:00",
          "2021-10-01T00:00:00",
          "2021-11-01T00:00:00",
          "2021-12-01T00:00:00",
          "2022-01-01T00:00:00",
          "2022-02-01T00:00:00",
          "2022-03-01T00:00:00",
          "2022-04-01T00:00:00",
          "2022-05-01T00:00:00",
          "2022-06-01T00:00:00",
          "2022-07-01T00:00:00",
          "2022-08-01T00:00:00",
          "2022-09-01T00:00:00",
          "2022-10-01T00:00:00",
          "2022-11-01T00:00:00",
          "2022-12-01T00:00:00"
         ],
         "xaxis": "x",
         "y": [
          252036.3407076458,
          344959.1029274923,
          322884.07160991663,
          460515.89971536613,
          304651.66026611417,
          329344.04614087485,
          335205.1527573667,
          739624.2696845215,
          505605.1708612666,
          726230.8244425803,
          710349.1542845352,
          364885.0048205763,
          349233.6685591916,
          518245.0966567505,
          189010.49160470147,
          289238.8090098233,
          196530.70624835292,
          701333.6264779366,
          276221.67228716187,
          148877.89814269677,
          243177.94879705433,
          997840.7914229636,
          491198.8717602635,
          340478.6935116284,
          288606.75157350325,
          187199.4824635128,
          317363.45440112066,
          368366.0514537141,
          488426.1705948938,
          316912.5007480748,
          269033.871364063,
          433758.96298625274,
          244886.39751906632,
          1384020.180396777,
          897884.5532949262,
          308692.4836269831,
          85322.29539928611,
          48641.78480489587,
          290965.1323939538,
          263662.9645518518,
          188014.42322087428,
          569867.7415446781,
          215301.62825822158,
          161933.81433971543,
          185965.7342817498,
          1027427.3693408264,
          627376.3051467012,
          263.64055593178057,
          243485.63849279535,
          150738.57345927574,
          111182.76182143831,
          334022.39589102706,
          344061.6605829777,
          414916.6062408304,
          432226.0280954735,
          641689.0863656722,
          772663.3496327454,
          1712637.0182602452,
          529171.7997086347,
          207955.19763740577,
          497090.4607673748,
          357653.7737927619,
          742523.650861139,
          299952.3618204878,
          425150.34644759755,
          546067.2850215317,
          476545.20229336206,
          138693.07926704842,
          451415.73128163273,
          1343923.1378688961,
          743611.622312087,
          444982.0902606363,
          564825.2556781698,
          375292.9617372982,
          431654.91477371356,
          359187.4845729136,
          333334.23569774185,
          487800.4447206538,
          233365.3471677934,
          496460.92388806236,
          305159.74715857056,
          2041909.289083132,
          658874.1129389685,
          319284.29452054645
         ],
         "yaxis": "y"
        },
        {
         "line": {
          "color": "rgb(255, 127, 14)",
          "width": 2
         },
         "marker": {
          "color": "rgb(255, 127, 14)",
          "size": 5
         },
         "mode": "lines+markers",
         "name": "DecisionTreeRegressor",
         "type": "scattergl",
         "x": [
          "2016-01-01T00:00:00",
          "2016-02-01T00:00:00",
          "2016-03-01T00:00:00",
          "2016-04-01T00:00:00",
          "2016-05-01T00:00:00",
          "2016-06-01T00:00:00",
          "2016-07-01T00:00:00",
          "2016-08-01T00:00:00",
          "2016-09-01T00:00:00",
          "2016-10-01T00:00:00",
          "2016-11-01T00:00:00",
          "2016-12-01T00:00:00",
          "2017-01-01T00:00:00",
          "2017-02-01T00:00:00",
          "2017-03-01T00:00:00",
          "2017-04-01T00:00:00",
          "2017-05-01T00:00:00",
          "2017-06-01T00:00:00",
          "2017-07-01T00:00:00",
          "2017-08-01T00:00:00",
          "2017-09-01T00:00:00",
          "2017-10-01T00:00:00",
          "2017-11-01T00:00:00",
          "2017-12-01T00:00:00",
          "2018-01-01T00:00:00",
          "2018-02-01T00:00:00",
          "2018-03-01T00:00:00",
          "2018-04-01T00:00:00",
          "2018-05-01T00:00:00",
          "2018-06-01T00:00:00",
          "2018-07-01T00:00:00",
          "2018-08-01T00:00:00",
          "2018-09-01T00:00:00",
          "2018-10-01T00:00:00",
          "2018-11-01T00:00:00",
          "2018-12-01T00:00:00",
          "2019-01-01T00:00:00",
          "2019-02-01T00:00:00",
          "2019-03-01T00:00:00",
          "2019-04-01T00:00:00",
          "2019-05-01T00:00:00",
          "2019-06-01T00:00:00",
          "2019-07-01T00:00:00",
          "2019-08-01T00:00:00",
          "2019-09-01T00:00:00",
          "2019-10-01T00:00:00",
          "2019-11-01T00:00:00",
          "2019-12-01T00:00:00",
          "2020-01-01T00:00:00",
          "2020-02-01T00:00:00",
          "2020-03-01T00:00:00",
          "2020-04-01T00:00:00",
          "2020-05-01T00:00:00",
          "2020-06-01T00:00:00",
          "2020-07-01T00:00:00",
          "2020-08-01T00:00:00",
          "2020-09-01T00:00:00",
          "2020-10-01T00:00:00",
          "2020-11-01T00:00:00",
          "2020-12-01T00:00:00",
          "2021-01-01T00:00:00",
          "2021-02-01T00:00:00",
          "2021-03-01T00:00:00",
          "2021-04-01T00:00:00",
          "2021-05-01T00:00:00",
          "2021-06-01T00:00:00",
          "2021-07-01T00:00:00",
          "2021-08-01T00:00:00",
          "2021-09-01T00:00:00",
          "2021-10-01T00:00:00",
          "2021-11-01T00:00:00",
          "2021-12-01T00:00:00",
          "2022-01-01T00:00:00",
          "2022-02-01T00:00:00",
          "2022-03-01T00:00:00",
          "2022-04-01T00:00:00",
          "2022-05-01T00:00:00",
          "2022-06-01T00:00:00",
          "2022-07-01T00:00:00",
          "2022-08-01T00:00:00",
          "2022-09-01T00:00:00",
          "2022-10-01T00:00:00",
          "2022-11-01T00:00:00",
          "2022-12-01T00:00:00"
         ],
         "xaxis": "x",
         "y": [
          null,
          null,
          null,
          null,
          null,
          null,
          null,
          null,
          null,
          null,
          null,
          null,
          null,
          null,
          null,
          null,
          null,
          null,
          null,
          null,
          null,
          null,
          null,
          null,
          null,
          null,
          null,
          null,
          null,
          null,
          null,
          null,
          null,
          null,
          null,
          null,
          null,
          null,
          null,
          null,
          null,
          null,
          null,
          null,
          null,
          null,
          null,
          null,
          null,
          null,
          null,
          null,
          null,
          null,
          null,
          null,
          null,
          null,
          null,
          null,
          null,
          null,
          null,
          null,
          null,
          null,
          null,
          null,
          null,
          null,
          null,
          null,
          null,
          null,
          null,
          null,
          null,
          null,
          null,
          null,
          null,
          null,
          null,
          178601.5023
         ],
         "yaxis": "y"
        }
       ],
       "layout": {
        "showlegend": true,
        "template": {
         "data": {
          "bar": [
           {
            "error_x": {
             "color": "rgb(51,51,51)"
            },
            "error_y": {
             "color": "rgb(51,51,51)"
            },
            "marker": {
             "line": {
              "color": "rgb(237,237,237)",
              "width": 0.5
             },
             "pattern": {
              "fillmode": "overlay",
              "size": 10,
              "solidity": 0.2
             }
            },
            "type": "bar"
           }
          ],
          "barpolar": [
           {
            "marker": {
             "line": {
              "color": "rgb(237,237,237)",
              "width": 0.5
             },
             "pattern": {
              "fillmode": "overlay",
              "size": 10,
              "solidity": 0.2
             }
            },
            "type": "barpolar"
           }
          ],
          "carpet": [
           {
            "aaxis": {
             "endlinecolor": "rgb(51,51,51)",
             "gridcolor": "white",
             "linecolor": "white",
             "minorgridcolor": "white",
             "startlinecolor": "rgb(51,51,51)"
            },
            "baxis": {
             "endlinecolor": "rgb(51,51,51)",
             "gridcolor": "white",
             "linecolor": "white",
             "minorgridcolor": "white",
             "startlinecolor": "rgb(51,51,51)"
            },
            "type": "carpet"
           }
          ],
          "choropleth": [
           {
            "colorbar": {
             "outlinewidth": 0,
             "tickcolor": "rgb(237,237,237)",
             "ticklen": 6,
             "ticks": "inside"
            },
            "type": "choropleth"
           }
          ],
          "contour": [
           {
            "colorbar": {
             "outlinewidth": 0,
             "tickcolor": "rgb(237,237,237)",
             "ticklen": 6,
             "ticks": "inside"
            },
            "colorscale": [
             [
              0,
              "rgb(20,44,66)"
             ],
             [
              1,
              "rgb(90,179,244)"
             ]
            ],
            "type": "contour"
           }
          ],
          "contourcarpet": [
           {
            "colorbar": {
             "outlinewidth": 0,
             "tickcolor": "rgb(237,237,237)",
             "ticklen": 6,
             "ticks": "inside"
            },
            "type": "contourcarpet"
           }
          ],
          "heatmap": [
           {
            "colorbar": {
             "outlinewidth": 0,
             "tickcolor": "rgb(237,237,237)",
             "ticklen": 6,
             "ticks": "inside"
            },
            "colorscale": [
             [
              0,
              "rgb(20,44,66)"
             ],
             [
              1,
              "rgb(90,179,244)"
             ]
            ],
            "type": "heatmap"
           }
          ],
          "heatmapgl": [
           {
            "colorbar": {
             "outlinewidth": 0,
             "tickcolor": "rgb(237,237,237)",
             "ticklen": 6,
             "ticks": "inside"
            },
            "colorscale": [
             [
              0,
              "rgb(20,44,66)"
             ],
             [
              1,
              "rgb(90,179,244)"
             ]
            ],
            "type": "heatmapgl"
           }
          ],
          "histogram": [
           {
            "marker": {
             "pattern": {
              "fillmode": "overlay",
              "size": 10,
              "solidity": 0.2
             }
            },
            "type": "histogram"
           }
          ],
          "histogram2d": [
           {
            "colorbar": {
             "outlinewidth": 0,
             "tickcolor": "rgb(237,237,237)",
             "ticklen": 6,
             "ticks": "inside"
            },
            "colorscale": [
             [
              0,
              "rgb(20,44,66)"
             ],
             [
              1,
              "rgb(90,179,244)"
             ]
            ],
            "type": "histogram2d"
           }
          ],
          "histogram2dcontour": [
           {
            "colorbar": {
             "outlinewidth": 0,
             "tickcolor": "rgb(237,237,237)",
             "ticklen": 6,
             "ticks": "inside"
            },
            "colorscale": [
             [
              0,
              "rgb(20,44,66)"
             ],
             [
              1,
              "rgb(90,179,244)"
             ]
            ],
            "type": "histogram2dcontour"
           }
          ],
          "mesh3d": [
           {
            "colorbar": {
             "outlinewidth": 0,
             "tickcolor": "rgb(237,237,237)",
             "ticklen": 6,
             "ticks": "inside"
            },
            "type": "mesh3d"
           }
          ],
          "parcoords": [
           {
            "line": {
             "colorbar": {
              "outlinewidth": 0,
              "tickcolor": "rgb(237,237,237)",
              "ticklen": 6,
              "ticks": "inside"
             }
            },
            "type": "parcoords"
           }
          ],
          "pie": [
           {
            "automargin": true,
            "type": "pie"
           }
          ],
          "scatter": [
           {
            "fillpattern": {
             "fillmode": "overlay",
             "size": 10,
             "solidity": 0.2
            },
            "type": "scatter"
           }
          ],
          "scatter3d": [
           {
            "line": {
             "colorbar": {
              "outlinewidth": 0,
              "tickcolor": "rgb(237,237,237)",
              "ticklen": 6,
              "ticks": "inside"
             }
            },
            "marker": {
             "colorbar": {
              "outlinewidth": 0,
              "tickcolor": "rgb(237,237,237)",
              "ticklen": 6,
              "ticks": "inside"
             }
            },
            "type": "scatter3d"
           }
          ],
          "scattercarpet": [
           {
            "marker": {
             "colorbar": {
              "outlinewidth": 0,
              "tickcolor": "rgb(237,237,237)",
              "ticklen": 6,
              "ticks": "inside"
             }
            },
            "type": "scattercarpet"
           }
          ],
          "scattergeo": [
           {
            "marker": {
             "colorbar": {
              "outlinewidth": 0,
              "tickcolor": "rgb(237,237,237)",
              "ticklen": 6,
              "ticks": "inside"
             }
            },
            "type": "scattergeo"
           }
          ],
          "scattergl": [
           {
            "marker": {
             "colorbar": {
              "outlinewidth": 0,
              "tickcolor": "rgb(237,237,237)",
              "ticklen": 6,
              "ticks": "inside"
             }
            },
            "type": "scattergl"
           }
          ],
          "scattermapbox": [
           {
            "marker": {
             "colorbar": {
              "outlinewidth": 0,
              "tickcolor": "rgb(237,237,237)",
              "ticklen": 6,
              "ticks": "inside"
             }
            },
            "type": "scattermapbox"
           }
          ],
          "scatterpolar": [
           {
            "marker": {
             "colorbar": {
              "outlinewidth": 0,
              "tickcolor": "rgb(237,237,237)",
              "ticklen": 6,
              "ticks": "inside"
             }
            },
            "type": "scatterpolar"
           }
          ],
          "scatterpolargl": [
           {
            "marker": {
             "colorbar": {
              "outlinewidth": 0,
              "tickcolor": "rgb(237,237,237)",
              "ticklen": 6,
              "ticks": "inside"
             }
            },
            "type": "scatterpolargl"
           }
          ],
          "scatterternary": [
           {
            "marker": {
             "colorbar": {
              "outlinewidth": 0,
              "tickcolor": "rgb(237,237,237)",
              "ticklen": 6,
              "ticks": "inside"
             }
            },
            "type": "scatterternary"
           }
          ],
          "surface": [
           {
            "colorbar": {
             "outlinewidth": 0,
             "tickcolor": "rgb(237,237,237)",
             "ticklen": 6,
             "ticks": "inside"
            },
            "colorscale": [
             [
              0,
              "rgb(20,44,66)"
             ],
             [
              1,
              "rgb(90,179,244)"
             ]
            ],
            "type": "surface"
           }
          ],
          "table": [
           {
            "cells": {
             "fill": {
              "color": "rgb(237,237,237)"
             },
             "line": {
              "color": "white"
             }
            },
            "header": {
             "fill": {
              "color": "rgb(217,217,217)"
             },
             "line": {
              "color": "white"
             }
            },
            "type": "table"
           }
          ]
         },
         "layout": {
          "annotationdefaults": {
           "arrowhead": 0,
           "arrowwidth": 1
          },
          "autotypenumbers": "strict",
          "coloraxis": {
           "colorbar": {
            "outlinewidth": 0,
            "tickcolor": "rgb(237,237,237)",
            "ticklen": 6,
            "ticks": "inside"
           }
          },
          "colorscale": {
           "sequential": [
            [
             0,
             "rgb(20,44,66)"
            ],
            [
             1,
             "rgb(90,179,244)"
            ]
           ],
           "sequentialminus": [
            [
             0,
             "rgb(20,44,66)"
            ],
            [
             1,
             "rgb(90,179,244)"
            ]
           ]
          },
          "colorway": [
           "#F8766D",
           "#A3A500",
           "#00BF7D",
           "#00B0F6",
           "#E76BF3"
          ],
          "font": {
           "color": "rgb(51,51,51)"
          },
          "geo": {
           "bgcolor": "white",
           "lakecolor": "white",
           "landcolor": "rgb(237,237,237)",
           "showlakes": true,
           "showland": true,
           "subunitcolor": "white"
          },
          "hoverlabel": {
           "align": "left"
          },
          "hovermode": "closest",
          "paper_bgcolor": "white",
          "plot_bgcolor": "rgb(237,237,237)",
          "polar": {
           "angularaxis": {
            "gridcolor": "white",
            "linecolor": "white",
            "showgrid": true,
            "tickcolor": "rgb(51,51,51)",
            "ticks": "outside"
           },
           "bgcolor": "rgb(237,237,237)",
           "radialaxis": {
            "gridcolor": "white",
            "linecolor": "white",
            "showgrid": true,
            "tickcolor": "rgb(51,51,51)",
            "ticks": "outside"
           }
          },
          "scene": {
           "xaxis": {
            "backgroundcolor": "rgb(237,237,237)",
            "gridcolor": "white",
            "gridwidth": 2,
            "linecolor": "white",
            "showbackground": true,
            "showgrid": true,
            "tickcolor": "rgb(51,51,51)",
            "ticks": "outside",
            "zerolinecolor": "white"
           },
           "yaxis": {
            "backgroundcolor": "rgb(237,237,237)",
            "gridcolor": "white",
            "gridwidth": 2,
            "linecolor": "white",
            "showbackground": true,
            "showgrid": true,
            "tickcolor": "rgb(51,51,51)",
            "ticks": "outside",
            "zerolinecolor": "white"
           },
           "zaxis": {
            "backgroundcolor": "rgb(237,237,237)",
            "gridcolor": "white",
            "gridwidth": 2,
            "linecolor": "white",
            "showbackground": true,
            "showgrid": true,
            "tickcolor": "rgb(51,51,51)",
            "ticks": "outside",
            "zerolinecolor": "white"
           }
          },
          "shapedefaults": {
           "fillcolor": "black",
           "line": {
            "width": 0
           },
           "opacity": 0.3
          },
          "ternary": {
           "aaxis": {
            "gridcolor": "white",
            "linecolor": "white",
            "showgrid": true,
            "tickcolor": "rgb(51,51,51)",
            "ticks": "outside"
           },
           "baxis": {
            "gridcolor": "white",
            "linecolor": "white",
            "showgrid": true,
            "tickcolor": "rgb(51,51,51)",
            "ticks": "outside"
           },
           "bgcolor": "rgb(237,237,237)",
           "caxis": {
            "gridcolor": "white",
            "linecolor": "white",
            "showgrid": true,
            "tickcolor": "rgb(51,51,51)",
            "ticks": "outside"
           }
          },
          "xaxis": {
           "automargin": true,
           "gridcolor": "white",
           "linecolor": "white",
           "showgrid": true,
           "tickcolor": "rgb(51,51,51)",
           "ticks": "outside",
           "title": {
            "standoff": 15
           },
           "zerolinecolor": "white"
          },
          "yaxis": {
           "automargin": true,
           "gridcolor": "white",
           "linecolor": "white",
           "showgrid": true,
           "tickcolor": "rgb(51,51,51)",
           "ticks": "outside",
           "title": {
            "standoff": 15
           },
           "zerolinecolor": "white"
          }
         }
        },
        "title": {
         "text": "Actual vs. Forecast (Out-of-Sample)"
        },
        "xaxis": {
         "anchor": "y",
         "domain": [
          0,
          1
         ]
        },
        "yaxis": {
         "anchor": "x",
         "domain": [
          0,
          1
         ]
        }
       }
      }
     },
     "metadata": {},
     "output_type": "display_data"
    },
    {
     "name": "stderr",
     "output_type": "stream",
     "text": [
      " 93%|█████████▎| 13/14 [03:06<00:15, 15.40s/it]"
     ]
    },
    {
     "data": {
      "text/html": [
       "<style type=\"text/css\">\n",
       "#T_e4ca0_row28_col1, #T_e4ca0_row31_col1 {\n",
       "  background-color: lightgreen;\n",
       "}\n",
       "</style>\n",
       "<table id=\"T_e4ca0\">\n",
       "  <thead>\n",
       "    <tr>\n",
       "      <th class=\"blank level0\" >&nbsp;</th>\n",
       "      <th id=\"T_e4ca0_level0_col0\" class=\"col_heading level0 col0\" >Description</th>\n",
       "      <th id=\"T_e4ca0_level0_col1\" class=\"col_heading level0 col1\" >Value</th>\n",
       "    </tr>\n",
       "  </thead>\n",
       "  <tbody>\n",
       "    <tr>\n",
       "      <th id=\"T_e4ca0_level0_row0\" class=\"row_heading level0 row0\" >0</th>\n",
       "      <td id=\"T_e4ca0_row0_col0\" class=\"data row0 col0\" >session_id</td>\n",
       "      <td id=\"T_e4ca0_row0_col1\" class=\"data row0 col1\" >123</td>\n",
       "    </tr>\n",
       "    <tr>\n",
       "      <th id=\"T_e4ca0_level0_row1\" class=\"row_heading level0 row1\" >1</th>\n",
       "      <td id=\"T_e4ca0_row1_col0\" class=\"data row1 col0\" >Target</td>\n",
       "      <td id=\"T_e4ca0_row1_col1\" class=\"data row1 col1\" >NET_SALES</td>\n",
       "    </tr>\n",
       "    <tr>\n",
       "      <th id=\"T_e4ca0_level0_row2\" class=\"row_heading level0 row2\" >2</th>\n",
       "      <td id=\"T_e4ca0_row2_col0\" class=\"data row2 col0\" >Approach</td>\n",
       "      <td id=\"T_e4ca0_row2_col1\" class=\"data row2 col1\" >Univariate</td>\n",
       "    </tr>\n",
       "    <tr>\n",
       "      <th id=\"T_e4ca0_level0_row3\" class=\"row_heading level0 row3\" >3</th>\n",
       "      <td id=\"T_e4ca0_row3_col0\" class=\"data row3 col0\" >Exogenous Variables</td>\n",
       "      <td id=\"T_e4ca0_row3_col1\" class=\"data row3 col1\" >Not Present</td>\n",
       "    </tr>\n",
       "    <tr>\n",
       "      <th id=\"T_e4ca0_level0_row4\" class=\"row_heading level0 row4\" >4</th>\n",
       "      <td id=\"T_e4ca0_row4_col0\" class=\"data row4 col0\" >Original data shape</td>\n",
       "      <td id=\"T_e4ca0_row4_col1\" class=\"data row4 col1\" >(47, 1)</td>\n",
       "    </tr>\n",
       "    <tr>\n",
       "      <th id=\"T_e4ca0_level0_row5\" class=\"row_heading level0 row5\" >5</th>\n",
       "      <td id=\"T_e4ca0_row5_col0\" class=\"data row5 col0\" >Transformed data shape</td>\n",
       "      <td id=\"T_e4ca0_row5_col1\" class=\"data row5 col1\" >(47, 1)</td>\n",
       "    </tr>\n",
       "    <tr>\n",
       "      <th id=\"T_e4ca0_level0_row6\" class=\"row_heading level0 row6\" >6</th>\n",
       "      <td id=\"T_e4ca0_row6_col0\" class=\"data row6 col0\" >Transformed train set shape</td>\n",
       "      <td id=\"T_e4ca0_row6_col1\" class=\"data row6 col1\" >(46, 1)</td>\n",
       "    </tr>\n",
       "    <tr>\n",
       "      <th id=\"T_e4ca0_level0_row7\" class=\"row_heading level0 row7\" >7</th>\n",
       "      <td id=\"T_e4ca0_row7_col0\" class=\"data row7 col0\" >Transformed test set shape</td>\n",
       "      <td id=\"T_e4ca0_row7_col1\" class=\"data row7 col1\" >(1, 1)</td>\n",
       "    </tr>\n",
       "    <tr>\n",
       "      <th id=\"T_e4ca0_level0_row8\" class=\"row_heading level0 row8\" >8</th>\n",
       "      <td id=\"T_e4ca0_row8_col0\" class=\"data row8 col0\" >Rows with missing values</td>\n",
       "      <td id=\"T_e4ca0_row8_col1\" class=\"data row8 col1\" >0.0%</td>\n",
       "    </tr>\n",
       "    <tr>\n",
       "      <th id=\"T_e4ca0_level0_row9\" class=\"row_heading level0 row9\" >9</th>\n",
       "      <td id=\"T_e4ca0_row9_col0\" class=\"data row9 col0\" >Fold Generator</td>\n",
       "      <td id=\"T_e4ca0_row9_col1\" class=\"data row9 col1\" >ExpandingWindowSplitter</td>\n",
       "    </tr>\n",
       "    <tr>\n",
       "      <th id=\"T_e4ca0_level0_row10\" class=\"row_heading level0 row10\" >10</th>\n",
       "      <td id=\"T_e4ca0_row10_col0\" class=\"data row10 col0\" >Fold Number</td>\n",
       "      <td id=\"T_e4ca0_row10_col1\" class=\"data row10 col1\" >3</td>\n",
       "    </tr>\n",
       "    <tr>\n",
       "      <th id=\"T_e4ca0_level0_row11\" class=\"row_heading level0 row11\" >11</th>\n",
       "      <td id=\"T_e4ca0_row11_col0\" class=\"data row11 col0\" >Enforce Prediction Interval</td>\n",
       "      <td id=\"T_e4ca0_row11_col1\" class=\"data row11 col1\" >False</td>\n",
       "    </tr>\n",
       "    <tr>\n",
       "      <th id=\"T_e4ca0_level0_row12\" class=\"row_heading level0 row12\" >12</th>\n",
       "      <td id=\"T_e4ca0_row12_col0\" class=\"data row12 col0\" >Splits used for hyperparameters</td>\n",
       "      <td id=\"T_e4ca0_row12_col1\" class=\"data row12 col1\" >all</td>\n",
       "    </tr>\n",
       "    <tr>\n",
       "      <th id=\"T_e4ca0_level0_row13\" class=\"row_heading level0 row13\" >13</th>\n",
       "      <td id=\"T_e4ca0_row13_col0\" class=\"data row13 col0\" >User Defined Seasonal Period(s)</td>\n",
       "      <td id=\"T_e4ca0_row13_col1\" class=\"data row13 col1\" >None</td>\n",
       "    </tr>\n",
       "    <tr>\n",
       "      <th id=\"T_e4ca0_level0_row14\" class=\"row_heading level0 row14\" >14</th>\n",
       "      <td id=\"T_e4ca0_row14_col0\" class=\"data row14 col0\" >Ignore Seasonality Test</td>\n",
       "      <td id=\"T_e4ca0_row14_col1\" class=\"data row14 col1\" >False</td>\n",
       "    </tr>\n",
       "    <tr>\n",
       "      <th id=\"T_e4ca0_level0_row15\" class=\"row_heading level0 row15\" >15</th>\n",
       "      <td id=\"T_e4ca0_row15_col0\" class=\"data row15 col0\" >Seasonality Detection Algo</td>\n",
       "      <td id=\"T_e4ca0_row15_col1\" class=\"data row15 col1\" >auto</td>\n",
       "    </tr>\n",
       "    <tr>\n",
       "      <th id=\"T_e4ca0_level0_row16\" class=\"row_heading level0 row16\" >16</th>\n",
       "      <td id=\"T_e4ca0_row16_col0\" class=\"data row16 col0\" >Max Period to Consider</td>\n",
       "      <td id=\"T_e4ca0_row16_col1\" class=\"data row16 col1\" >60</td>\n",
       "    </tr>\n",
       "    <tr>\n",
       "      <th id=\"T_e4ca0_level0_row17\" class=\"row_heading level0 row17\" >17</th>\n",
       "      <td id=\"T_e4ca0_row17_col0\" class=\"data row17 col0\" >Seasonal Period(s) Tested</td>\n",
       "      <td id=\"T_e4ca0_row17_col1\" class=\"data row17 col1\" >[]</td>\n",
       "    </tr>\n",
       "    <tr>\n",
       "      <th id=\"T_e4ca0_level0_row18\" class=\"row_heading level0 row18\" >18</th>\n",
       "      <td id=\"T_e4ca0_row18_col0\" class=\"data row18 col0\" >Significant Seasonal Period(s)</td>\n",
       "      <td id=\"T_e4ca0_row18_col1\" class=\"data row18 col1\" >[1]</td>\n",
       "    </tr>\n",
       "    <tr>\n",
       "      <th id=\"T_e4ca0_level0_row19\" class=\"row_heading level0 row19\" >19</th>\n",
       "      <td id=\"T_e4ca0_row19_col0\" class=\"data row19 col0\" >Significant Seasonal Period(s) without Harmonics</td>\n",
       "      <td id=\"T_e4ca0_row19_col1\" class=\"data row19 col1\" >[1]</td>\n",
       "    </tr>\n",
       "    <tr>\n",
       "      <th id=\"T_e4ca0_level0_row20\" class=\"row_heading level0 row20\" >20</th>\n",
       "      <td id=\"T_e4ca0_row20_col0\" class=\"data row20 col0\" >Remove Harmonics</td>\n",
       "      <td id=\"T_e4ca0_row20_col1\" class=\"data row20 col1\" >False</td>\n",
       "    </tr>\n",
       "    <tr>\n",
       "      <th id=\"T_e4ca0_level0_row21\" class=\"row_heading level0 row21\" >21</th>\n",
       "      <td id=\"T_e4ca0_row21_col0\" class=\"data row21 col0\" >Harmonics Order Method</td>\n",
       "      <td id=\"T_e4ca0_row21_col1\" class=\"data row21 col1\" >harmonic_max</td>\n",
       "    </tr>\n",
       "    <tr>\n",
       "      <th id=\"T_e4ca0_level0_row22\" class=\"row_heading level0 row22\" >22</th>\n",
       "      <td id=\"T_e4ca0_row22_col0\" class=\"data row22 col0\" >Num Seasonalities to Use</td>\n",
       "      <td id=\"T_e4ca0_row22_col1\" class=\"data row22 col1\" >1</td>\n",
       "    </tr>\n",
       "    <tr>\n",
       "      <th id=\"T_e4ca0_level0_row23\" class=\"row_heading level0 row23\" >23</th>\n",
       "      <td id=\"T_e4ca0_row23_col0\" class=\"data row23 col0\" >All Seasonalities to Use</td>\n",
       "      <td id=\"T_e4ca0_row23_col1\" class=\"data row23 col1\" >[1]</td>\n",
       "    </tr>\n",
       "    <tr>\n",
       "      <th id=\"T_e4ca0_level0_row24\" class=\"row_heading level0 row24\" >24</th>\n",
       "      <td id=\"T_e4ca0_row24_col0\" class=\"data row24 col0\" >Primary Seasonality</td>\n",
       "      <td id=\"T_e4ca0_row24_col1\" class=\"data row24 col1\" >1</td>\n",
       "    </tr>\n",
       "    <tr>\n",
       "      <th id=\"T_e4ca0_level0_row25\" class=\"row_heading level0 row25\" >25</th>\n",
       "      <td id=\"T_e4ca0_row25_col0\" class=\"data row25 col0\" >Seasonality Present</td>\n",
       "      <td id=\"T_e4ca0_row25_col1\" class=\"data row25 col1\" >False</td>\n",
       "    </tr>\n",
       "    <tr>\n",
       "      <th id=\"T_e4ca0_level0_row26\" class=\"row_heading level0 row26\" >26</th>\n",
       "      <td id=\"T_e4ca0_row26_col0\" class=\"data row26 col0\" >Seasonality Type</td>\n",
       "      <td id=\"T_e4ca0_row26_col1\" class=\"data row26 col1\" >None</td>\n",
       "    </tr>\n",
       "    <tr>\n",
       "      <th id=\"T_e4ca0_level0_row27\" class=\"row_heading level0 row27\" >27</th>\n",
       "      <td id=\"T_e4ca0_row27_col0\" class=\"data row27 col0\" >Target Strictly Positive</td>\n",
       "      <td id=\"T_e4ca0_row27_col1\" class=\"data row27 col1\" >True</td>\n",
       "    </tr>\n",
       "    <tr>\n",
       "      <th id=\"T_e4ca0_level0_row28\" class=\"row_heading level0 row28\" >28</th>\n",
       "      <td id=\"T_e4ca0_row28_col0\" class=\"data row28 col0\" >Target White Noise</td>\n",
       "      <td id=\"T_e4ca0_row28_col1\" class=\"data row28 col1\" >Yes</td>\n",
       "    </tr>\n",
       "    <tr>\n",
       "      <th id=\"T_e4ca0_level0_row29\" class=\"row_heading level0 row29\" >29</th>\n",
       "      <td id=\"T_e4ca0_row29_col0\" class=\"data row29 col0\" >Recommended d</td>\n",
       "      <td id=\"T_e4ca0_row29_col1\" class=\"data row29 col1\" >0</td>\n",
       "    </tr>\n",
       "    <tr>\n",
       "      <th id=\"T_e4ca0_level0_row30\" class=\"row_heading level0 row30\" >30</th>\n",
       "      <td id=\"T_e4ca0_row30_col0\" class=\"data row30 col0\" >Recommended Seasonal D</td>\n",
       "      <td id=\"T_e4ca0_row30_col1\" class=\"data row30 col1\" >0</td>\n",
       "    </tr>\n",
       "    <tr>\n",
       "      <th id=\"T_e4ca0_level0_row31\" class=\"row_heading level0 row31\" >31</th>\n",
       "      <td id=\"T_e4ca0_row31_col0\" class=\"data row31 col0\" >Preprocess</td>\n",
       "      <td id=\"T_e4ca0_row31_col1\" class=\"data row31 col1\" >True</td>\n",
       "    </tr>\n",
       "    <tr>\n",
       "      <th id=\"T_e4ca0_level0_row32\" class=\"row_heading level0 row32\" >32</th>\n",
       "      <td id=\"T_e4ca0_row32_col0\" class=\"data row32 col0\" >Numerical Imputation (Target)</td>\n",
       "      <td id=\"T_e4ca0_row32_col1\" class=\"data row32 col1\" >mean</td>\n",
       "    </tr>\n",
       "    <tr>\n",
       "      <th id=\"T_e4ca0_level0_row33\" class=\"row_heading level0 row33\" >33</th>\n",
       "      <td id=\"T_e4ca0_row33_col0\" class=\"data row33 col0\" >Transformation (Target)</td>\n",
       "      <td id=\"T_e4ca0_row33_col1\" class=\"data row33 col1\" >None</td>\n",
       "    </tr>\n",
       "    <tr>\n",
       "      <th id=\"T_e4ca0_level0_row34\" class=\"row_heading level0 row34\" >34</th>\n",
       "      <td id=\"T_e4ca0_row34_col0\" class=\"data row34 col0\" >Scaling (Target)</td>\n",
       "      <td id=\"T_e4ca0_row34_col1\" class=\"data row34 col1\" >None</td>\n",
       "    </tr>\n",
       "    <tr>\n",
       "      <th id=\"T_e4ca0_level0_row35\" class=\"row_heading level0 row35\" >35</th>\n",
       "      <td id=\"T_e4ca0_row35_col0\" class=\"data row35 col0\" >Feature Engineering (Target) - Reduced Regression</td>\n",
       "      <td id=\"T_e4ca0_row35_col1\" class=\"data row35 col1\" >False</td>\n",
       "    </tr>\n",
       "    <tr>\n",
       "      <th id=\"T_e4ca0_level0_row36\" class=\"row_heading level0 row36\" >36</th>\n",
       "      <td id=\"T_e4ca0_row36_col0\" class=\"data row36 col0\" >CPU Jobs</td>\n",
       "      <td id=\"T_e4ca0_row36_col1\" class=\"data row36 col1\" >-1</td>\n",
       "    </tr>\n",
       "    <tr>\n",
       "      <th id=\"T_e4ca0_level0_row37\" class=\"row_heading level0 row37\" >37</th>\n",
       "      <td id=\"T_e4ca0_row37_col0\" class=\"data row37 col0\" >Use GPU</td>\n",
       "      <td id=\"T_e4ca0_row37_col1\" class=\"data row37 col1\" >False</td>\n",
       "    </tr>\n",
       "    <tr>\n",
       "      <th id=\"T_e4ca0_level0_row38\" class=\"row_heading level0 row38\" >38</th>\n",
       "      <td id=\"T_e4ca0_row38_col0\" class=\"data row38 col0\" >Log Experiment</td>\n",
       "      <td id=\"T_e4ca0_row38_col1\" class=\"data row38 col1\" >False</td>\n",
       "    </tr>\n",
       "    <tr>\n",
       "      <th id=\"T_e4ca0_level0_row39\" class=\"row_heading level0 row39\" >39</th>\n",
       "      <td id=\"T_e4ca0_row39_col0\" class=\"data row39 col0\" >Experiment Name</td>\n",
       "      <td id=\"T_e4ca0_row39_col1\" class=\"data row39 col1\" >ts-default-name</td>\n",
       "    </tr>\n",
       "    <tr>\n",
       "      <th id=\"T_e4ca0_level0_row40\" class=\"row_heading level0 row40\" >40</th>\n",
       "      <td id=\"T_e4ca0_row40_col0\" class=\"data row40 col0\" >USI</td>\n",
       "      <td id=\"T_e4ca0_row40_col1\" class=\"data row40 col1\" >b2a7</td>\n",
       "    </tr>\n",
       "  </tbody>\n",
       "</table>\n"
      ],
      "text/plain": [
       "<pandas.io.formats.style.Styler at 0x224d0815970>"
      ]
     },
     "metadata": {},
     "output_type": "display_data"
    },
    {
     "data": {
      "text/html": [],
      "text/plain": [
       "<IPython.core.display.HTML object>"
      ]
     },
     "metadata": {},
     "output_type": "display_data"
    },
    {
     "data": {
      "text/html": [
       "<style type=\"text/css\">\n",
       "#T_4ec9c th {\n",
       "  text-align: left;\n",
       "}\n",
       "#T_4ec9c_row0_col0, #T_4ec9c_row0_col1, #T_4ec9c_row0_col2, #T_4ec9c_row0_col3, #T_4ec9c_row0_col4, #T_4ec9c_row0_col6, #T_4ec9c_row1_col0, #T_4ec9c_row1_col1, #T_4ec9c_row1_col2, #T_4ec9c_row1_col3, #T_4ec9c_row1_col4, #T_4ec9c_row1_col5, #T_4ec9c_row1_col6, #T_4ec9c_row2_col0, #T_4ec9c_row2_col1, #T_4ec9c_row2_col2, #T_4ec9c_row2_col3, #T_4ec9c_row2_col4, #T_4ec9c_row2_col5, #T_4ec9c_row2_col6, #T_4ec9c_row3_col0, #T_4ec9c_row3_col1, #T_4ec9c_row3_col2, #T_4ec9c_row3_col3, #T_4ec9c_row3_col4, #T_4ec9c_row3_col5, #T_4ec9c_row3_col6, #T_4ec9c_row4_col0, #T_4ec9c_row4_col5, #T_4ec9c_row5_col0, #T_4ec9c_row5_col1, #T_4ec9c_row5_col2, #T_4ec9c_row5_col3, #T_4ec9c_row5_col4, #T_4ec9c_row5_col5, #T_4ec9c_row5_col6, #T_4ec9c_row6_col0, #T_4ec9c_row6_col1, #T_4ec9c_row6_col2, #T_4ec9c_row6_col3, #T_4ec9c_row6_col4, #T_4ec9c_row6_col5, #T_4ec9c_row6_col6, #T_4ec9c_row7_col0, #T_4ec9c_row7_col1, #T_4ec9c_row7_col2, #T_4ec9c_row7_col3, #T_4ec9c_row7_col4, #T_4ec9c_row7_col5, #T_4ec9c_row7_col6, #T_4ec9c_row8_col0, #T_4ec9c_row8_col1, #T_4ec9c_row8_col2, #T_4ec9c_row8_col3, #T_4ec9c_row8_col4, #T_4ec9c_row8_col5, #T_4ec9c_row8_col6, #T_4ec9c_row9_col0, #T_4ec9c_row9_col1, #T_4ec9c_row9_col2, #T_4ec9c_row9_col3, #T_4ec9c_row9_col4, #T_4ec9c_row9_col5, #T_4ec9c_row9_col6, #T_4ec9c_row10_col0, #T_4ec9c_row10_col1, #T_4ec9c_row10_col2, #T_4ec9c_row10_col3, #T_4ec9c_row10_col4, #T_4ec9c_row10_col5, #T_4ec9c_row10_col6, #T_4ec9c_row11_col0, #T_4ec9c_row11_col1, #T_4ec9c_row11_col2, #T_4ec9c_row11_col3, #T_4ec9c_row11_col4, #T_4ec9c_row11_col5, #T_4ec9c_row11_col6, #T_4ec9c_row12_col0, #T_4ec9c_row12_col1, #T_4ec9c_row12_col2, #T_4ec9c_row12_col3, #T_4ec9c_row12_col4, #T_4ec9c_row12_col5, #T_4ec9c_row12_col6, #T_4ec9c_row13_col0, #T_4ec9c_row13_col1, #T_4ec9c_row13_col2, #T_4ec9c_row13_col3, #T_4ec9c_row13_col4, #T_4ec9c_row13_col5, #T_4ec9c_row13_col6, #T_4ec9c_row14_col0, #T_4ec9c_row14_col1, #T_4ec9c_row14_col2, #T_4ec9c_row14_col3, #T_4ec9c_row14_col4, #T_4ec9c_row14_col5, #T_4ec9c_row14_col6, #T_4ec9c_row15_col0, #T_4ec9c_row15_col1, #T_4ec9c_row15_col2, #T_4ec9c_row15_col3, #T_4ec9c_row15_col4, #T_4ec9c_row15_col5, #T_4ec9c_row15_col6, #T_4ec9c_row16_col0, #T_4ec9c_row16_col1, #T_4ec9c_row16_col2, #T_4ec9c_row16_col3, #T_4ec9c_row16_col4, #T_4ec9c_row16_col5, #T_4ec9c_row16_col6, #T_4ec9c_row17_col0, #T_4ec9c_row17_col1, #T_4ec9c_row17_col2, #T_4ec9c_row17_col3, #T_4ec9c_row17_col4, #T_4ec9c_row17_col5, #T_4ec9c_row17_col6, #T_4ec9c_row18_col0, #T_4ec9c_row18_col1, #T_4ec9c_row18_col2, #T_4ec9c_row18_col3, #T_4ec9c_row18_col4, #T_4ec9c_row18_col5, #T_4ec9c_row18_col6, #T_4ec9c_row19_col0, #T_4ec9c_row19_col1, #T_4ec9c_row19_col2, #T_4ec9c_row19_col3, #T_4ec9c_row19_col4, #T_4ec9c_row19_col5, #T_4ec9c_row19_col6, #T_4ec9c_row20_col0, #T_4ec9c_row20_col1, #T_4ec9c_row20_col2, #T_4ec9c_row20_col3, #T_4ec9c_row20_col4, #T_4ec9c_row20_col5, #T_4ec9c_row20_col6 {\n",
       "  text-align: left;\n",
       "}\n",
       "#T_4ec9c_row0_col5, #T_4ec9c_row4_col1, #T_4ec9c_row4_col2, #T_4ec9c_row4_col3, #T_4ec9c_row4_col4, #T_4ec9c_row4_col6 {\n",
       "  text-align: left;\n",
       "  background-color: yellow;\n",
       "}\n",
       "#T_4ec9c_row0_col7, #T_4ec9c_row1_col7, #T_4ec9c_row2_col7, #T_4ec9c_row3_col7, #T_4ec9c_row4_col7, #T_4ec9c_row5_col7, #T_4ec9c_row6_col7, #T_4ec9c_row7_col7, #T_4ec9c_row8_col7, #T_4ec9c_row9_col7, #T_4ec9c_row10_col7, #T_4ec9c_row11_col7, #T_4ec9c_row12_col7, #T_4ec9c_row13_col7, #T_4ec9c_row14_col7, #T_4ec9c_row15_col7, #T_4ec9c_row16_col7, #T_4ec9c_row18_col7, #T_4ec9c_row19_col7, #T_4ec9c_row20_col7 {\n",
       "  text-align: left;\n",
       "  background-color: lightgrey;\n",
       "}\n",
       "#T_4ec9c_row17_col7 {\n",
       "  text-align: left;\n",
       "  background-color: yellow;\n",
       "  background-color: lightgrey;\n",
       "}\n",
       "</style>\n",
       "<table id=\"T_4ec9c\">\n",
       "  <thead>\n",
       "    <tr>\n",
       "      <th class=\"blank level0\" >&nbsp;</th>\n",
       "      <th id=\"T_4ec9c_level0_col0\" class=\"col_heading level0 col0\" >Model</th>\n",
       "      <th id=\"T_4ec9c_level0_col1\" class=\"col_heading level0 col1\" >MASE</th>\n",
       "      <th id=\"T_4ec9c_level0_col2\" class=\"col_heading level0 col2\" >RMSSE</th>\n",
       "      <th id=\"T_4ec9c_level0_col3\" class=\"col_heading level0 col3\" >MAE</th>\n",
       "      <th id=\"T_4ec9c_level0_col4\" class=\"col_heading level0 col4\" >RMSE</th>\n",
       "      <th id=\"T_4ec9c_level0_col5\" class=\"col_heading level0 col5\" >MAPE</th>\n",
       "      <th id=\"T_4ec9c_level0_col6\" class=\"col_heading level0 col6\" >SMAPE</th>\n",
       "      <th id=\"T_4ec9c_level0_col7\" class=\"col_heading level0 col7\" >TT (Sec)</th>\n",
       "    </tr>\n",
       "  </thead>\n",
       "  <tbody>\n",
       "    <tr>\n",
       "      <th id=\"T_4ec9c_level0_row0\" class=\"row_heading level0 row0\" >theta</th>\n",
       "      <td id=\"T_4ec9c_row0_col0\" class=\"data row0 col0\" >Theta Forecaster</td>\n",
       "      <td id=\"T_4ec9c_row0_col1\" class=\"data row0 col1\" >0.6756</td>\n",
       "      <td id=\"T_4ec9c_row0_col2\" class=\"data row0 col2\" >0.4434</td>\n",
       "      <td id=\"T_4ec9c_row0_col3\" class=\"data row0 col3\" >1321.1390</td>\n",
       "      <td id=\"T_4ec9c_row0_col4\" class=\"data row0 col4\" >1321.1390</td>\n",
       "      <td id=\"T_4ec9c_row0_col5\" class=\"data row0 col5\" >0.3553</td>\n",
       "      <td id=\"T_4ec9c_row0_col6\" class=\"data row0 col6\" >0.3492</td>\n",
       "      <td id=\"T_4ec9c_row0_col7\" class=\"data row0 col7\" >0.0367</td>\n",
       "    </tr>\n",
       "    <tr>\n",
       "      <th id=\"T_4ec9c_level0_row1\" class=\"row_heading level0 row1\" >ets</th>\n",
       "      <td id=\"T_4ec9c_row1_col0\" class=\"data row1 col0\" >ETS</td>\n",
       "      <td id=\"T_4ec9c_row1_col1\" class=\"data row1 col1\" >0.6845</td>\n",
       "      <td id=\"T_4ec9c_row1_col2\" class=\"data row1 col2\" >0.4493</td>\n",
       "      <td id=\"T_4ec9c_row1_col3\" class=\"data row1 col3\" >1338.6657</td>\n",
       "      <td id=\"T_4ec9c_row1_col4\" class=\"data row1 col4\" >1338.6657</td>\n",
       "      <td id=\"T_4ec9c_row1_col5\" class=\"data row1 col5\" >0.3638</td>\n",
       "      <td id=\"T_4ec9c_row1_col6\" class=\"data row1 col6\" >0.3535</td>\n",
       "      <td id=\"T_4ec9c_row1_col7\" class=\"data row1 col7\" >0.0400</td>\n",
       "    </tr>\n",
       "    <tr>\n",
       "      <th id=\"T_4ec9c_level0_row2\" class=\"row_heading level0 row2\" >exp_smooth</th>\n",
       "      <td id=\"T_4ec9c_row2_col0\" class=\"data row2 col0\" >Exponential Smoothing</td>\n",
       "      <td id=\"T_4ec9c_row2_col1\" class=\"data row2 col1\" >0.6858</td>\n",
       "      <td id=\"T_4ec9c_row2_col2\" class=\"data row2 col2\" >0.4502</td>\n",
       "      <td id=\"T_4ec9c_row2_col3\" class=\"data row2 col3\" >1341.2059</td>\n",
       "      <td id=\"T_4ec9c_row2_col4\" class=\"data row2 col4\" >1341.2059</td>\n",
       "      <td id=\"T_4ec9c_row2_col5\" class=\"data row2 col5\" >0.3651</td>\n",
       "      <td id=\"T_4ec9c_row2_col6\" class=\"data row2 col6\" >0.3540</td>\n",
       "      <td id=\"T_4ec9c_row2_col7\" class=\"data row2 col7\" >0.0400</td>\n",
       "    </tr>\n",
       "    <tr>\n",
       "      <th id=\"T_4ec9c_level0_row3\" class=\"row_heading level0 row3\" >et_cds_dt</th>\n",
       "      <td id=\"T_4ec9c_row3_col0\" class=\"data row3 col0\" >Extra Trees w/ Cond. Deseasonalize & Detrending</td>\n",
       "      <td id=\"T_4ec9c_row3_col1\" class=\"data row3 col1\" >0.5907</td>\n",
       "      <td id=\"T_4ec9c_row3_col2\" class=\"data row3 col2\" >0.3897</td>\n",
       "      <td id=\"T_4ec9c_row3_col3\" class=\"data row3 col3\" >1157.7629</td>\n",
       "      <td id=\"T_4ec9c_row3_col4\" class=\"data row3 col4\" >1157.7629</td>\n",
       "      <td id=\"T_4ec9c_row3_col5\" class=\"data row3 col5\" >0.3828</td>\n",
       "      <td id=\"T_4ec9c_row3_col6\" class=\"data row3 col6\" >0.3103</td>\n",
       "      <td id=\"T_4ec9c_row3_col7\" class=\"data row3 col7\" >0.1000</td>\n",
       "    </tr>\n",
       "    <tr>\n",
       "      <th id=\"T_4ec9c_level0_row4\" class=\"row_heading level0 row4\" >dt_cds_dt</th>\n",
       "      <td id=\"T_4ec9c_row4_col0\" class=\"data row4 col0\" >Decision Tree w/ Cond. Deseasonalize & Detrending</td>\n",
       "      <td id=\"T_4ec9c_row4_col1\" class=\"data row4 col1\" >0.5780</td>\n",
       "      <td id=\"T_4ec9c_row4_col2\" class=\"data row4 col2\" >0.3815</td>\n",
       "      <td id=\"T_4ec9c_row4_col3\" class=\"data row4 col3\" >1132.8402</td>\n",
       "      <td id=\"T_4ec9c_row4_col4\" class=\"data row4 col4\" >1132.8402</td>\n",
       "      <td id=\"T_4ec9c_row4_col5\" class=\"data row4 col5\" >0.3917</td>\n",
       "      <td id=\"T_4ec9c_row4_col6\" class=\"data row4 col6\" >0.3060</td>\n",
       "      <td id=\"T_4ec9c_row4_col7\" class=\"data row4 col7\" >0.0500</td>\n",
       "    </tr>\n",
       "    <tr>\n",
       "      <th id=\"T_4ec9c_level0_row5\" class=\"row_heading level0 row5\" >huber_cds_dt</th>\n",
       "      <td id=\"T_4ec9c_row5_col0\" class=\"data row5 col0\" >Huber w/ Cond. Deseasonalize & Detrending</td>\n",
       "      <td id=\"T_4ec9c_row5_col1\" class=\"data row5 col1\" >0.7165</td>\n",
       "      <td id=\"T_4ec9c_row5_col2\" class=\"data row5 col2\" >0.4711</td>\n",
       "      <td id=\"T_4ec9c_row5_col3\" class=\"data row5 col3\" >1401.7267</td>\n",
       "      <td id=\"T_4ec9c_row5_col4\" class=\"data row5 col4\" >1401.7267</td>\n",
       "      <td id=\"T_4ec9c_row5_col5\" class=\"data row5 col5\" >0.4258</td>\n",
       "      <td id=\"T_4ec9c_row5_col6\" class=\"data row5 col6\" >0.3601</td>\n",
       "      <td id=\"T_4ec9c_row5_col7\" class=\"data row5 col7\" >0.0467</td>\n",
       "    </tr>\n",
       "    <tr>\n",
       "      <th id=\"T_4ec9c_level0_row6\" class=\"row_heading level0 row6\" >arima</th>\n",
       "      <td id=\"T_4ec9c_row6_col0\" class=\"data row6 col0\" >ARIMA</td>\n",
       "      <td id=\"T_4ec9c_row6_col1\" class=\"data row6 col1\" >0.7305</td>\n",
       "      <td id=\"T_4ec9c_row6_col2\" class=\"data row6 col2\" >0.4805</td>\n",
       "      <td id=\"T_4ec9c_row6_col3\" class=\"data row6 col3\" >1429.3332</td>\n",
       "      <td id=\"T_4ec9c_row6_col4\" class=\"data row6 col4\" >1429.3332</td>\n",
       "      <td id=\"T_4ec9c_row6_col5\" class=\"data row6 col5\" >0.4440</td>\n",
       "      <td id=\"T_4ec9c_row6_col6\" class=\"data row6 col6\" >0.3645</td>\n",
       "      <td id=\"T_4ec9c_row6_col7\" class=\"data row6 col7\" >0.0567</td>\n",
       "    </tr>\n",
       "    <tr>\n",
       "      <th id=\"T_4ec9c_level0_row7\" class=\"row_heading level0 row7\" >auto_arima</th>\n",
       "      <td id=\"T_4ec9c_row7_col0\" class=\"data row7 col0\" >Auto ARIMA</td>\n",
       "      <td id=\"T_4ec9c_row7_col1\" class=\"data row7 col1\" >0.7305</td>\n",
       "      <td id=\"T_4ec9c_row7_col2\" class=\"data row7 col2\" >0.4805</td>\n",
       "      <td id=\"T_4ec9c_row7_col3\" class=\"data row7 col3\" >1429.3332</td>\n",
       "      <td id=\"T_4ec9c_row7_col4\" class=\"data row7 col4\" >1429.3332</td>\n",
       "      <td id=\"T_4ec9c_row7_col5\" class=\"data row7 col5\" >0.4440</td>\n",
       "      <td id=\"T_4ec9c_row7_col6\" class=\"data row7 col6\" >0.3645</td>\n",
       "      <td id=\"T_4ec9c_row7_col7\" class=\"data row7 col7\" >0.1433</td>\n",
       "    </tr>\n",
       "    <tr>\n",
       "      <th id=\"T_4ec9c_level0_row8\" class=\"row_heading level0 row8\" >gbr_cds_dt</th>\n",
       "      <td id=\"T_4ec9c_row8_col0\" class=\"data row8 col0\" >Gradient Boosting w/ Cond. Deseasonalize & Detrending</td>\n",
       "      <td id=\"T_4ec9c_row8_col1\" class=\"data row8 col1\" >0.6984</td>\n",
       "      <td id=\"T_4ec9c_row8_col2\" class=\"data row8 col2\" >0.4605</td>\n",
       "      <td id=\"T_4ec9c_row8_col3\" class=\"data row8 col3\" >1368.4801</td>\n",
       "      <td id=\"T_4ec9c_row8_col4\" class=\"data row8 col4\" >1368.4801</td>\n",
       "      <td id=\"T_4ec9c_row8_col5\" class=\"data row8 col5\" >0.4461</td>\n",
       "      <td id=\"T_4ec9c_row8_col6\" class=\"data row8 col6\" >0.3550</td>\n",
       "      <td id=\"T_4ec9c_row8_col7\" class=\"data row8 col7\" >0.0533</td>\n",
       "    </tr>\n",
       "    <tr>\n",
       "      <th id=\"T_4ec9c_level0_row9\" class=\"row_heading level0 row9\" >knn_cds_dt</th>\n",
       "      <td id=\"T_4ec9c_row9_col0\" class=\"data row9 col0\" >K Neighbors w/ Cond. Deseasonalize & Detrending</td>\n",
       "      <td id=\"T_4ec9c_row9_col1\" class=\"data row9 col1\" >0.7498</td>\n",
       "      <td id=\"T_4ec9c_row9_col2\" class=\"data row9 col2\" >0.4940</td>\n",
       "      <td id=\"T_4ec9c_row9_col3\" class=\"data row9 col3\" >1468.6570</td>\n",
       "      <td id=\"T_4ec9c_row9_col4\" class=\"data row9 col4\" >1468.6570</td>\n",
       "      <td id=\"T_4ec9c_row9_col5\" class=\"data row9 col5\" >0.4589</td>\n",
       "      <td id=\"T_4ec9c_row9_col6\" class=\"data row9 col6\" >0.3778</td>\n",
       "      <td id=\"T_4ec9c_row9_col7\" class=\"data row9 col7\" >0.0600</td>\n",
       "    </tr>\n",
       "    <tr>\n",
       "      <th id=\"T_4ec9c_level0_row10\" class=\"row_heading level0 row10\" >llar_cds_dt</th>\n",
       "      <td id=\"T_4ec9c_row10_col0\" class=\"data row10 col0\" >Lasso Least Angular Regressor w/ Cond. Deseasonalize & Detrending</td>\n",
       "      <td id=\"T_4ec9c_row10_col1\" class=\"data row10 col1\" >0.7505</td>\n",
       "      <td id=\"T_4ec9c_row10_col2\" class=\"data row10 col2\" >0.4938</td>\n",
       "      <td id=\"T_4ec9c_row10_col3\" class=\"data row10 col3\" >1468.5376</td>\n",
       "      <td id=\"T_4ec9c_row10_col4\" class=\"data row10 col4\" >1468.5376</td>\n",
       "      <td id=\"T_4ec9c_row10_col5\" class=\"data row10 col5\" >0.4654</td>\n",
       "      <td id=\"T_4ec9c_row10_col6\" class=\"data row10 col6\" >0.3711</td>\n",
       "      <td id=\"T_4ec9c_row10_col7\" class=\"data row10 col7\" >0.0567</td>\n",
       "    </tr>\n",
       "    <tr>\n",
       "      <th id=\"T_4ec9c_level0_row11\" class=\"row_heading level0 row11\" >omp_cds_dt</th>\n",
       "      <td id=\"T_4ec9c_row11_col0\" class=\"data row11 col0\" >Orthogonal Matching Pursuit w/ Cond. Deseasonalize & Detrending</td>\n",
       "      <td id=\"T_4ec9c_row11_col1\" class=\"data row11 col1\" >0.7505</td>\n",
       "      <td id=\"T_4ec9c_row11_col2\" class=\"data row11 col2\" >0.4938</td>\n",
       "      <td id=\"T_4ec9c_row11_col3\" class=\"data row11 col3\" >1468.5376</td>\n",
       "      <td id=\"T_4ec9c_row11_col4\" class=\"data row11 col4\" >1468.5376</td>\n",
       "      <td id=\"T_4ec9c_row11_col5\" class=\"data row11 col5\" >0.4654</td>\n",
       "      <td id=\"T_4ec9c_row11_col6\" class=\"data row11 col6\" >0.3711</td>\n",
       "      <td id=\"T_4ec9c_row11_col7\" class=\"data row11 col7\" >0.0467</td>\n",
       "    </tr>\n",
       "    <tr>\n",
       "      <th id=\"T_4ec9c_level0_row12\" class=\"row_heading level0 row12\" >ridge_cds_dt</th>\n",
       "      <td id=\"T_4ec9c_row12_col0\" class=\"data row12 col0\" >Ridge w/ Cond. Deseasonalize & Detrending</td>\n",
       "      <td id=\"T_4ec9c_row12_col1\" class=\"data row12 col1\" >0.7505</td>\n",
       "      <td id=\"T_4ec9c_row12_col2\" class=\"data row12 col2\" >0.4938</td>\n",
       "      <td id=\"T_4ec9c_row12_col3\" class=\"data row12 col3\" >1468.5376</td>\n",
       "      <td id=\"T_4ec9c_row12_col4\" class=\"data row12 col4\" >1468.5376</td>\n",
       "      <td id=\"T_4ec9c_row12_col5\" class=\"data row12 col5\" >0.4654</td>\n",
       "      <td id=\"T_4ec9c_row12_col6\" class=\"data row12 col6\" >0.3711</td>\n",
       "      <td id=\"T_4ec9c_row12_col7\" class=\"data row12 col7\" >0.0467</td>\n",
       "    </tr>\n",
       "    <tr>\n",
       "      <th id=\"T_4ec9c_level0_row13\" class=\"row_heading level0 row13\" >lasso_cds_dt</th>\n",
       "      <td id=\"T_4ec9c_row13_col0\" class=\"data row13 col0\" >Lasso w/ Cond. Deseasonalize & Detrending</td>\n",
       "      <td id=\"T_4ec9c_row13_col1\" class=\"data row13 col1\" >0.7505</td>\n",
       "      <td id=\"T_4ec9c_row13_col2\" class=\"data row13 col2\" >0.4938</td>\n",
       "      <td id=\"T_4ec9c_row13_col3\" class=\"data row13 col3\" >1468.5376</td>\n",
       "      <td id=\"T_4ec9c_row13_col4\" class=\"data row13 col4\" >1468.5376</td>\n",
       "      <td id=\"T_4ec9c_row13_col5\" class=\"data row13 col5\" >0.4654</td>\n",
       "      <td id=\"T_4ec9c_row13_col6\" class=\"data row13 col6\" >0.3711</td>\n",
       "      <td id=\"T_4ec9c_row13_col7\" class=\"data row13 col7\" >0.0467</td>\n",
       "    </tr>\n",
       "    <tr>\n",
       "      <th id=\"T_4ec9c_level0_row14\" class=\"row_heading level0 row14\" >lr_cds_dt</th>\n",
       "      <td id=\"T_4ec9c_row14_col0\" class=\"data row14 col0\" >Linear w/ Cond. Deseasonalize & Detrending</td>\n",
       "      <td id=\"T_4ec9c_row14_col1\" class=\"data row14 col1\" >0.7505</td>\n",
       "      <td id=\"T_4ec9c_row14_col2\" class=\"data row14 col2\" >0.4938</td>\n",
       "      <td id=\"T_4ec9c_row14_col3\" class=\"data row14 col3\" >1468.5376</td>\n",
       "      <td id=\"T_4ec9c_row14_col4\" class=\"data row14 col4\" >1468.5376</td>\n",
       "      <td id=\"T_4ec9c_row14_col5\" class=\"data row14 col5\" >0.4654</td>\n",
       "      <td id=\"T_4ec9c_row14_col6\" class=\"data row14 col6\" >0.3711</td>\n",
       "      <td id=\"T_4ec9c_row14_col7\" class=\"data row14 col7\" >0.0467</td>\n",
       "    </tr>\n",
       "    <tr>\n",
       "      <th id=\"T_4ec9c_level0_row15\" class=\"row_heading level0 row15\" >en_cds_dt</th>\n",
       "      <td id=\"T_4ec9c_row15_col0\" class=\"data row15 col0\" >Elastic Net w/ Cond. Deseasonalize & Detrending</td>\n",
       "      <td id=\"T_4ec9c_row15_col1\" class=\"data row15 col1\" >0.7505</td>\n",
       "      <td id=\"T_4ec9c_row15_col2\" class=\"data row15 col2\" >0.4938</td>\n",
       "      <td id=\"T_4ec9c_row15_col3\" class=\"data row15 col3\" >1468.5376</td>\n",
       "      <td id=\"T_4ec9c_row15_col4\" class=\"data row15 col4\" >1468.5376</td>\n",
       "      <td id=\"T_4ec9c_row15_col5\" class=\"data row15 col5\" >0.4654</td>\n",
       "      <td id=\"T_4ec9c_row15_col6\" class=\"data row15 col6\" >0.3711</td>\n",
       "      <td id=\"T_4ec9c_row15_col7\" class=\"data row15 col7\" >0.0467</td>\n",
       "    </tr>\n",
       "    <tr>\n",
       "      <th id=\"T_4ec9c_level0_row16\" class=\"row_heading level0 row16\" >br_cds_dt</th>\n",
       "      <td id=\"T_4ec9c_row16_col0\" class=\"data row16 col0\" >Bayesian Ridge w/ Cond. Deseasonalize & Detrending</td>\n",
       "      <td id=\"T_4ec9c_row16_col1\" class=\"data row16 col1\" >0.7500</td>\n",
       "      <td id=\"T_4ec9c_row16_col2\" class=\"data row16 col2\" >0.4937</td>\n",
       "      <td id=\"T_4ec9c_row16_col3\" class=\"data row16 col3\" >1467.9416</td>\n",
       "      <td id=\"T_4ec9c_row16_col4\" class=\"data row16 col4\" >1467.9416</td>\n",
       "      <td id=\"T_4ec9c_row16_col5\" class=\"data row16 col5\" >0.4683</td>\n",
       "      <td id=\"T_4ec9c_row16_col6\" class=\"data row16 col6\" >0.3722</td>\n",
       "      <td id=\"T_4ec9c_row16_col7\" class=\"data row16 col7\" >0.0500</td>\n",
       "    </tr>\n",
       "    <tr>\n",
       "      <th id=\"T_4ec9c_level0_row17\" class=\"row_heading level0 row17\" >polytrend</th>\n",
       "      <td id=\"T_4ec9c_row17_col0\" class=\"data row17 col0\" >Polynomial Trend Forecaster</td>\n",
       "      <td id=\"T_4ec9c_row17_col1\" class=\"data row17 col1\" >0.7363</td>\n",
       "      <td id=\"T_4ec9c_row17_col2\" class=\"data row17 col2\" >0.4855</td>\n",
       "      <td id=\"T_4ec9c_row17_col3\" class=\"data row17 col3\" >1442.6300</td>\n",
       "      <td id=\"T_4ec9c_row17_col4\" class=\"data row17 col4\" >1442.6300</td>\n",
       "      <td id=\"T_4ec9c_row17_col5\" class=\"data row17 col5\" >0.4732</td>\n",
       "      <td id=\"T_4ec9c_row17_col6\" class=\"data row17 col6\" >0.3701</td>\n",
       "      <td id=\"T_4ec9c_row17_col7\" class=\"data row17 col7\" >0.0333</td>\n",
       "    </tr>\n",
       "    <tr>\n",
       "      <th id=\"T_4ec9c_level0_row18\" class=\"row_heading level0 row18\" >rf_cds_dt</th>\n",
       "      <td id=\"T_4ec9c_row18_col0\" class=\"data row18 col0\" >Random Forest w/ Cond. Deseasonalize & Detrending</td>\n",
       "      <td id=\"T_4ec9c_row18_col1\" class=\"data row18 col1\" >0.7513</td>\n",
       "      <td id=\"T_4ec9c_row18_col2\" class=\"data row18 col2\" >0.4958</td>\n",
       "      <td id=\"T_4ec9c_row18_col3\" class=\"data row18 col3\" >1472.7969</td>\n",
       "      <td id=\"T_4ec9c_row18_col4\" class=\"data row18 col4\" >1472.7969</td>\n",
       "      <td id=\"T_4ec9c_row18_col5\" class=\"data row18 col5\" >0.4900</td>\n",
       "      <td id=\"T_4ec9c_row18_col6\" class=\"data row18 col6\" >0.3759</td>\n",
       "      <td id=\"T_4ec9c_row18_col7\" class=\"data row18 col7\" >0.1067</td>\n",
       "    </tr>\n",
       "    <tr>\n",
       "      <th id=\"T_4ec9c_level0_row19\" class=\"row_heading level0 row19\" >ada_cds_dt</th>\n",
       "      <td id=\"T_4ec9c_row19_col0\" class=\"data row19 col0\" >AdaBoost w/ Cond. Deseasonalize & Detrending</td>\n",
       "      <td id=\"T_4ec9c_row19_col1\" class=\"data row19 col1\" >0.9045</td>\n",
       "      <td id=\"T_4ec9c_row19_col2\" class=\"data row19 col2\" >0.5955</td>\n",
       "      <td id=\"T_4ec9c_row19_col3\" class=\"data row19 col3\" >1771.4172</td>\n",
       "      <td id=\"T_4ec9c_row19_col4\" class=\"data row19 col4\" >1771.4172</td>\n",
       "      <td id=\"T_4ec9c_row19_col5\" class=\"data row19 col5\" >0.5307</td>\n",
       "      <td id=\"T_4ec9c_row19_col6\" class=\"data row19 col6\" >0.4490</td>\n",
       "      <td id=\"T_4ec9c_row19_col7\" class=\"data row19 col7\" >0.0600</td>\n",
       "    </tr>\n",
       "    <tr>\n",
       "      <th id=\"T_4ec9c_level0_row20\" class=\"row_heading level0 row20\" >lightgbm_cds_dt</th>\n",
       "      <td id=\"T_4ec9c_row20_col0\" class=\"data row20 col0\" >Light Gradient Boosting w/ Cond. Deseasonalize & Detrending</td>\n",
       "      <td id=\"T_4ec9c_row20_col1\" class=\"data row20 col1\" >0.9249</td>\n",
       "      <td id=\"T_4ec9c_row20_col2\" class=\"data row20 col2\" >0.6078</td>\n",
       "      <td id=\"T_4ec9c_row20_col3\" class=\"data row20 col3\" >1808.5791</td>\n",
       "      <td id=\"T_4ec9c_row20_col4\" class=\"data row20 col4\" >1808.5791</td>\n",
       "      <td id=\"T_4ec9c_row20_col5\" class=\"data row20 col5\" >0.5622</td>\n",
       "      <td id=\"T_4ec9c_row20_col6\" class=\"data row20 col6\" >0.4359</td>\n",
       "      <td id=\"T_4ec9c_row20_col7\" class=\"data row20 col7\" >0.0633</td>\n",
       "    </tr>\n",
       "  </tbody>\n",
       "</table>\n"
      ],
      "text/plain": [
       "<pandas.io.formats.style.Styler at 0x224cf664760>"
      ]
     },
     "metadata": {},
     "output_type": "display_data"
    },
    {
     "data": {
      "text/html": [],
      "text/plain": [
       "<IPython.core.display.HTML object>"
      ]
     },
     "metadata": {},
     "output_type": "display_data"
    },
    {
     "data": {
      "application/vnd.plotly.v1+json": {
       "config": {
        "plotlyServerURL": "https://plot.ly"
       },
       "data": [
        {
         "line": {
          "color": "#1f77b4"
         },
         "marker": {
          "size": 5
         },
         "mode": "lines+markers",
         "name": "Forecast | Theta Forecaster",
         "showlegend": true,
         "type": "scatter",
         "x": [
          "2022-12-01T00:00:00"
         ],
         "y": [
          3370.3974
         ]
        },
        {
         "line": {
          "width": 0
         },
         "marker": {
          "color": "#68BBE3"
         },
         "mode": "lines",
         "name": "Lower Interval",
         "showlegend": false,
         "type": "scatter",
         "x": [
          "2022-12-01T00:00:00"
         ],
         "y": [
          -1099.3767
         ]
        },
        {
         "fill": "tonexty",
         "fillcolor": "rgba(104,187,227,0.5)",
         "line": {
          "width": 0
         },
         "marker": {
          "color": "#68BBE3"
         },
         "mode": "lines",
         "name": "Prediction Interval | Theta Forecaster",
         "showlegend": true,
         "type": "scatter",
         "x": [
          "2022-12-01T00:00:00"
         ],
         "y": [
          7840.1715
         ]
        },
        {
         "marker": {
          "color": "#3f3f3f",
          "size": 5
         },
         "mode": "lines+markers",
         "name": "Original",
         "showlegend": true,
         "type": "scatter",
         "x": [
          "2019-02-01T00:00:00",
          "2019-03-01T00:00:00",
          "2019-04-01T00:00:00",
          "2019-05-01T00:00:00",
          "2019-06-01T00:00:00",
          "2019-07-01T00:00:00",
          "2019-08-01T00:00:00",
          "2019-09-01T00:00:00",
          "2019-10-01T00:00:00",
          "2019-11-01T00:00:00",
          "2019-12-01T00:00:00",
          "2020-01-01T00:00:00",
          "2020-02-01T00:00:00",
          "2020-03-01T00:00:00",
          "2020-04-01T00:00:00",
          "2020-05-01T00:00:00",
          "2020-06-01T00:00:00",
          "2020-07-01T00:00:00",
          "2020-08-01T00:00:00",
          "2020-09-01T00:00:00",
          "2020-10-01T00:00:00",
          "2020-11-01T00:00:00",
          "2020-12-01T00:00:00",
          "2021-01-01T00:00:00",
          "2021-02-01T00:00:00",
          "2021-03-01T00:00:00",
          "2021-04-01T00:00:00",
          "2021-05-01T00:00:00",
          "2021-06-01T00:00:00",
          "2021-07-01T00:00:00",
          "2021-08-01T00:00:00",
          "2021-09-01T00:00:00",
          "2021-10-01T00:00:00",
          "2021-11-01T00:00:00",
          "2021-12-01T00:00:00",
          "2022-01-01T00:00:00",
          "2022-02-01T00:00:00",
          "2022-03-01T00:00:00",
          "2022-04-01T00:00:00",
          "2022-05-01T00:00:00",
          "2022-06-01T00:00:00",
          "2022-07-01T00:00:00",
          "2022-08-01T00:00:00",
          "2022-09-01T00:00:00",
          "2022-10-01T00:00:00",
          "2022-11-01T00:00:00",
          "2022-12-01T00:00:00"
         ],
         "y": [
          2326.2599999999998,
          4864.58,
          4324.6500000000015,
          5423.299999999999,
          5357.530000000001,
          2587.04,
          4215.64,
          2823.6100000000006,
          4444.679999999999,
          4547.780000000001,
          3658.1199999999994,
          2678.96,
          2131.2499999999995,
          1291.7599999999998,
          4010.850000000001,
          4302.55,
          2053.17,
          3613.4399999999996,
          5089.64,
          4345.02,
          11640.579999999998,
          9676.769999999999,
          15061.140000000001,
          4058.1499999999996,
          2689.44,
          6314.17,
          6054.799999999999,
          5819.030000000001,
          2261.69,
          3349.809999999999,
          5071.15,
          5790.54,
          4992.09,
          4350.18,
          9655.8,
          2171.5899999999997,
          1970.88,
          3212.5099999999998,
          3220.409999999999,
          3447.55,
          4136.16,
          2196.66,
          3398.9300000000003,
          5377.52,
          2673.52,
          2998.44,
          10435.32
         ]
        }
       ],
       "layout": {
        "showlegend": true,
        "template": {
         "data": {
          "bar": [
           {
            "error_x": {
             "color": "rgb(51,51,51)"
            },
            "error_y": {
             "color": "rgb(51,51,51)"
            },
            "marker": {
             "line": {
              "color": "rgb(237,237,237)",
              "width": 0.5
             },
             "pattern": {
              "fillmode": "overlay",
              "size": 10,
              "solidity": 0.2
             }
            },
            "type": "bar"
           }
          ],
          "barpolar": [
           {
            "marker": {
             "line": {
              "color": "rgb(237,237,237)",
              "width": 0.5
             },
             "pattern": {
              "fillmode": "overlay",
              "size": 10,
              "solidity": 0.2
             }
            },
            "type": "barpolar"
           }
          ],
          "carpet": [
           {
            "aaxis": {
             "endlinecolor": "rgb(51,51,51)",
             "gridcolor": "white",
             "linecolor": "white",
             "minorgridcolor": "white",
             "startlinecolor": "rgb(51,51,51)"
            },
            "baxis": {
             "endlinecolor": "rgb(51,51,51)",
             "gridcolor": "white",
             "linecolor": "white",
             "minorgridcolor": "white",
             "startlinecolor": "rgb(51,51,51)"
            },
            "type": "carpet"
           }
          ],
          "choropleth": [
           {
            "colorbar": {
             "outlinewidth": 0,
             "tickcolor": "rgb(237,237,237)",
             "ticklen": 6,
             "ticks": "inside"
            },
            "type": "choropleth"
           }
          ],
          "contour": [
           {
            "colorbar": {
             "outlinewidth": 0,
             "tickcolor": "rgb(237,237,237)",
             "ticklen": 6,
             "ticks": "inside"
            },
            "colorscale": [
             [
              0,
              "rgb(20,44,66)"
             ],
             [
              1,
              "rgb(90,179,244)"
             ]
            ],
            "type": "contour"
           }
          ],
          "contourcarpet": [
           {
            "colorbar": {
             "outlinewidth": 0,
             "tickcolor": "rgb(237,237,237)",
             "ticklen": 6,
             "ticks": "inside"
            },
            "type": "contourcarpet"
           }
          ],
          "heatmap": [
           {
            "colorbar": {
             "outlinewidth": 0,
             "tickcolor": "rgb(237,237,237)",
             "ticklen": 6,
             "ticks": "inside"
            },
            "colorscale": [
             [
              0,
              "rgb(20,44,66)"
             ],
             [
              1,
              "rgb(90,179,244)"
             ]
            ],
            "type": "heatmap"
           }
          ],
          "heatmapgl": [
           {
            "colorbar": {
             "outlinewidth": 0,
             "tickcolor": "rgb(237,237,237)",
             "ticklen": 6,
             "ticks": "inside"
            },
            "colorscale": [
             [
              0,
              "rgb(20,44,66)"
             ],
             [
              1,
              "rgb(90,179,244)"
             ]
            ],
            "type": "heatmapgl"
           }
          ],
          "histogram": [
           {
            "marker": {
             "pattern": {
              "fillmode": "overlay",
              "size": 10,
              "solidity": 0.2
             }
            },
            "type": "histogram"
           }
          ],
          "histogram2d": [
           {
            "colorbar": {
             "outlinewidth": 0,
             "tickcolor": "rgb(237,237,237)",
             "ticklen": 6,
             "ticks": "inside"
            },
            "colorscale": [
             [
              0,
              "rgb(20,44,66)"
             ],
             [
              1,
              "rgb(90,179,244)"
             ]
            ],
            "type": "histogram2d"
           }
          ],
          "histogram2dcontour": [
           {
            "colorbar": {
             "outlinewidth": 0,
             "tickcolor": "rgb(237,237,237)",
             "ticklen": 6,
             "ticks": "inside"
            },
            "colorscale": [
             [
              0,
              "rgb(20,44,66)"
             ],
             [
              1,
              "rgb(90,179,244)"
             ]
            ],
            "type": "histogram2dcontour"
           }
          ],
          "mesh3d": [
           {
            "colorbar": {
             "outlinewidth": 0,
             "tickcolor": "rgb(237,237,237)",
             "ticklen": 6,
             "ticks": "inside"
            },
            "type": "mesh3d"
           }
          ],
          "parcoords": [
           {
            "line": {
             "colorbar": {
              "outlinewidth": 0,
              "tickcolor": "rgb(237,237,237)",
              "ticklen": 6,
              "ticks": "inside"
             }
            },
            "type": "parcoords"
           }
          ],
          "pie": [
           {
            "automargin": true,
            "type": "pie"
           }
          ],
          "scatter": [
           {
            "fillpattern": {
             "fillmode": "overlay",
             "size": 10,
             "solidity": 0.2
            },
            "type": "scatter"
           }
          ],
          "scatter3d": [
           {
            "line": {
             "colorbar": {
              "outlinewidth": 0,
              "tickcolor": "rgb(237,237,237)",
              "ticklen": 6,
              "ticks": "inside"
             }
            },
            "marker": {
             "colorbar": {
              "outlinewidth": 0,
              "tickcolor": "rgb(237,237,237)",
              "ticklen": 6,
              "ticks": "inside"
             }
            },
            "type": "scatter3d"
           }
          ],
          "scattercarpet": [
           {
            "marker": {
             "colorbar": {
              "outlinewidth": 0,
              "tickcolor": "rgb(237,237,237)",
              "ticklen": 6,
              "ticks": "inside"
             }
            },
            "type": "scattercarpet"
           }
          ],
          "scattergeo": [
           {
            "marker": {
             "colorbar": {
              "outlinewidth": 0,
              "tickcolor": "rgb(237,237,237)",
              "ticklen": 6,
              "ticks": "inside"
             }
            },
            "type": "scattergeo"
           }
          ],
          "scattergl": [
           {
            "marker": {
             "colorbar": {
              "outlinewidth": 0,
              "tickcolor": "rgb(237,237,237)",
              "ticklen": 6,
              "ticks": "inside"
             }
            },
            "type": "scattergl"
           }
          ],
          "scattermapbox": [
           {
            "marker": {
             "colorbar": {
              "outlinewidth": 0,
              "tickcolor": "rgb(237,237,237)",
              "ticklen": 6,
              "ticks": "inside"
             }
            },
            "type": "scattermapbox"
           }
          ],
          "scatterpolar": [
           {
            "marker": {
             "colorbar": {
              "outlinewidth": 0,
              "tickcolor": "rgb(237,237,237)",
              "ticklen": 6,
              "ticks": "inside"
             }
            },
            "type": "scatterpolar"
           }
          ],
          "scatterpolargl": [
           {
            "marker": {
             "colorbar": {
              "outlinewidth": 0,
              "tickcolor": "rgb(237,237,237)",
              "ticklen": 6,
              "ticks": "inside"
             }
            },
            "type": "scatterpolargl"
           }
          ],
          "scatterternary": [
           {
            "marker": {
             "colorbar": {
              "outlinewidth": 0,
              "tickcolor": "rgb(237,237,237)",
              "ticklen": 6,
              "ticks": "inside"
             }
            },
            "type": "scatterternary"
           }
          ],
          "surface": [
           {
            "colorbar": {
             "outlinewidth": 0,
             "tickcolor": "rgb(237,237,237)",
             "ticklen": 6,
             "ticks": "inside"
            },
            "colorscale": [
             [
              0,
              "rgb(20,44,66)"
             ],
             [
              1,
              "rgb(90,179,244)"
             ]
            ],
            "type": "surface"
           }
          ],
          "table": [
           {
            "cells": {
             "fill": {
              "color": "rgb(237,237,237)"
             },
             "line": {
              "color": "white"
             }
            },
            "header": {
             "fill": {
              "color": "rgb(217,217,217)"
             },
             "line": {
              "color": "white"
             }
            },
            "type": "table"
           }
          ]
         },
         "layout": {
          "annotationdefaults": {
           "arrowhead": 0,
           "arrowwidth": 1
          },
          "autotypenumbers": "strict",
          "coloraxis": {
           "colorbar": {
            "outlinewidth": 0,
            "tickcolor": "rgb(237,237,237)",
            "ticklen": 6,
            "ticks": "inside"
           }
          },
          "colorscale": {
           "sequential": [
            [
             0,
             "rgb(20,44,66)"
            ],
            [
             1,
             "rgb(90,179,244)"
            ]
           ],
           "sequentialminus": [
            [
             0,
             "rgb(20,44,66)"
            ],
            [
             1,
             "rgb(90,179,244)"
            ]
           ]
          },
          "colorway": [
           "#F8766D",
           "#A3A500",
           "#00BF7D",
           "#00B0F6",
           "#E76BF3"
          ],
          "font": {
           "color": "rgb(51,51,51)"
          },
          "geo": {
           "bgcolor": "white",
           "lakecolor": "white",
           "landcolor": "rgb(237,237,237)",
           "showlakes": true,
           "showland": true,
           "subunitcolor": "white"
          },
          "hoverlabel": {
           "align": "left"
          },
          "hovermode": "closest",
          "paper_bgcolor": "white",
          "plot_bgcolor": "rgb(237,237,237)",
          "polar": {
           "angularaxis": {
            "gridcolor": "white",
            "linecolor": "white",
            "showgrid": true,
            "tickcolor": "rgb(51,51,51)",
            "ticks": "outside"
           },
           "bgcolor": "rgb(237,237,237)",
           "radialaxis": {
            "gridcolor": "white",
            "linecolor": "white",
            "showgrid": true,
            "tickcolor": "rgb(51,51,51)",
            "ticks": "outside"
           }
          },
          "scene": {
           "xaxis": {
            "backgroundcolor": "rgb(237,237,237)",
            "gridcolor": "white",
            "gridwidth": 2,
            "linecolor": "white",
            "showbackground": true,
            "showgrid": true,
            "tickcolor": "rgb(51,51,51)",
            "ticks": "outside",
            "zerolinecolor": "white"
           },
           "yaxis": {
            "backgroundcolor": "rgb(237,237,237)",
            "gridcolor": "white",
            "gridwidth": 2,
            "linecolor": "white",
            "showbackground": true,
            "showgrid": true,
            "tickcolor": "rgb(51,51,51)",
            "ticks": "outside",
            "zerolinecolor": "white"
           },
           "zaxis": {
            "backgroundcolor": "rgb(237,237,237)",
            "gridcolor": "white",
            "gridwidth": 2,
            "linecolor": "white",
            "showbackground": true,
            "showgrid": true,
            "tickcolor": "rgb(51,51,51)",
            "ticks": "outside",
            "zerolinecolor": "white"
           }
          },
          "shapedefaults": {
           "fillcolor": "black",
           "line": {
            "width": 0
           },
           "opacity": 0.3
          },
          "ternary": {
           "aaxis": {
            "gridcolor": "white",
            "linecolor": "white",
            "showgrid": true,
            "tickcolor": "rgb(51,51,51)",
            "ticks": "outside"
           },
           "baxis": {
            "gridcolor": "white",
            "linecolor": "white",
            "showgrid": true,
            "tickcolor": "rgb(51,51,51)",
            "ticks": "outside"
           },
           "bgcolor": "rgb(237,237,237)",
           "caxis": {
            "gridcolor": "white",
            "linecolor": "white",
            "showgrid": true,
            "tickcolor": "rgb(51,51,51)",
            "ticks": "outside"
           }
          },
          "xaxis": {
           "automargin": true,
           "gridcolor": "white",
           "linecolor": "white",
           "showgrid": true,
           "tickcolor": "rgb(51,51,51)",
           "ticks": "outside",
           "title": {
            "standoff": 15
           },
           "zerolinecolor": "white"
          },
          "yaxis": {
           "automargin": true,
           "gridcolor": "white",
           "linecolor": "white",
           "showgrid": true,
           "tickcolor": "rgb(51,51,51)",
           "ticks": "outside",
           "title": {
            "standoff": 15
           },
           "zerolinecolor": "white"
          }
         }
        },
        "title": {
         "text": "Actual vs. 'Out-of-Sample' Forecast | NET_SALES"
        },
        "xaxis": {
         "title": {
          "text": "Time"
         }
        },
        "yaxis": {
         "title": {
          "text": "Values"
         }
        }
       }
      }
     },
     "metadata": {},
     "output_type": "display_data"
    },
    {
     "name": "stderr",
     "output_type": "stream",
     "text": [
      "100%|██████████| 14/14 [03:16<00:00, 14.06s/it]\n"
     ]
    }
   ],
   "source": [
    "### Time Series Loop ###\n",
    "\n",
    "# Create empty dataframes\n",
    "all_results_ts = pd.DataFrame()\n",
    "all_predictions_ts = pd.DataFrame()\n",
    "\n",
    "# list of each dep-ent\n",
    "all_ts_ts = df_all_ts['DEP_ENT'].unique()\n",
    "\n",
    "for i in tqdm(all_ts_ts):\n",
    "    \n",
    "    # temp df for a dep-ent\n",
    "    df_subset = df_all_ts[df_all_ts['DEP_ENT'] == i]\n",
    "    \n",
    "    # trim\n",
    "    df_subset_trim = df_subset[['MONTH', 'NET_SALES']] \n",
    "    \n",
    "    # create series\n",
    "    df_subset_s = df_subset_trim.set_index('MONTH')['NET_SALES']\n",
    "    \n",
    "    # set frequency of series\n",
    "    df_subset_s = df_subset_s.asfreq('MS') \n",
    "\n",
    "    # test and train\n",
    "    ts_train = round(len(df_subset_trim.index) * .8) # 80% train\n",
    "    ts_test = len(df_subset_trim.index) - round(len(df_subset_trim.index) * .8) # 20% test\n",
    "    \n",
    "    # initialize setup\n",
    "    #s = pycts.setup(df_subset_s, numeric_imputation_target = \"mean\", fh = ts_test, session_id = 123)\n",
    "    s = pycts.setup(df_subset_s, numeric_imputation_target = \"mean\", session_id = 123)\n",
    "\n",
    "    # model training and selection\n",
    "    best_model = pycts.compare_models(sort = 'MAPE', exclude = [\"naive\", \"grand_means\", \"croston\", ])\n",
    "    #best_model = pycts.compare_models(sort = 'MAPE', include = [\"arima\", \"auto_arima\", \"ets\", ])\n",
    "    \n",
    "    # plot trained model\n",
    "    pycts.plot_model(best_model, plot = 'forecast')\n",
    "    \n",
    "    # capture the compare result grid and store best model in list\n",
    "    p = pycts.pull().iloc[0:1]\n",
    "    p['DEP_ENT'] = str(i)\n",
    "    \n",
    "    all_results_ts = all_results_ts.append(p)\n",
    "    \n",
    "    ### Predict future periods ###\n",
    "    \n",
    "    # max date from original dataset\n",
    "    max_timestamp = df_subset_trim['MONTH'].max()\n",
    "    \n",
    "    # create dataframe for future dates, in this case the rest of 2023. This is not for predicting but to join back up with predictions\n",
    "    #next_dates = [max_timestamp.replace(day=1) + pd.DateOffset(months=i) for i in range(1, 7)] # Need to change range based on how many periods ahead you want to predict\n",
    "    \n",
    "    next_dates = [max_timestamp.replace(day=1) + pd.DateOffset(months=i) for i in range(1, 13)] # CHANGE FOR 2023\n",
    "    \n",
    "    new_dates_df = pd.DataFrame({'MONTH': next_dates})\n",
    "    new_dates_df[\"MONTH\"] = pd.to_datetime(new_dates_df[\"MONTH\"]) \n",
    "    \n",
    "    # predict in unseen future\n",
    "    #predictions = pycts.predict_model(best_model, fh=6) # Need to change range fh for how many periods ahead you want to predict\n",
    "    \n",
    "    predictions = pycts.predict_model(best_model, fh=12) # CHANGE FOR 2023\n",
    "    \n",
    "    pred_temp = predictions.reset_index()\n",
    "    \n",
    "    pred_comb = pd.concat([pd.DataFrame({'MONTH': next_dates}), pred_temp['y_pred']], axis = 1)\n",
    "    pred_comb['DEP_ENT'] = i # add dep\n",
    "    pred_comb.rename(columns = {'y_pred':'PRED'}, inplace = True)\n",
    "    \n",
    "    # append to master dataframe\n",
    "    all_predictions_ts = all_predictions_ts.append(pred_comb)"
   ]
  },
  {
   "cell_type": "code",
   "execution_count": 45,
   "metadata": {},
   "outputs": [],
   "source": [
    "### Write Time Series to Excel ###\n",
    "\n",
    "# Create a Pandas Excel writer using XlsxWriter\n",
    "ts_writer = pd.ExcelWriter('time_series.xlsx', engine='xlsxwriter')\n",
    "\n",
    "# sheet 1\n",
    "all_results_ts.to_excel(ts_writer, sheet_name='results', index=False)\n",
    "# sheet 2\n",
    "all_predictions_ts.to_excel(ts_writer, sheet_name='predictions', index=False)\n",
    "\n",
    "# Save Data to File\n",
    "ts_writer.save()"
   ]
  }
 ],
 "metadata": {
  "kernelspec": {
   "display_name": "newpycaret",
   "language": "python",
   "name": "python3"
  },
  "language_info": {
   "codemirror_mode": {
    "name": "ipython",
    "version": 3
   },
   "file_extension": ".py",
   "mimetype": "text/x-python",
   "name": "python",
   "nbconvert_exporter": "python",
   "pygments_lexer": "ipython3",
   "version": "3.9.13"
  },
  "orig_nbformat": 4
 },
 "nbformat": 4,
 "nbformat_minor": 2
}
