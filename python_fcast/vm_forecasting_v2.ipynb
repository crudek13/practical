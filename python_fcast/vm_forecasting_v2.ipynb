{
 "cells": [
  {
   "cell_type": "markdown",
   "metadata": {},
   "source": [
    "# Vitamix Forecasting Models"
   ]
  },
  {
   "cell_type": "markdown",
   "metadata": {},
   "source": [
    "# Global\n",
    "    * Data Load and Preparation"
   ]
  },
  {
   "cell_type": "code",
   "execution_count": 25,
   "metadata": {},
   "outputs": [],
   "source": [
    "# Packages\n",
    "import snowflake.connector\n",
    "import pandas as pd\n",
    "import os\n",
    "import numpy as np\n",
    "import xlsxwriter\n",
    "import matplotlib.pyplot as plt\n",
    "from datetime import datetime, timedelta\n",
    "\n",
    "from tqdm import tqdm\n",
    "\n",
    "# import the regression module from pycaret   \n",
    "import pycaret.regression as pycr\n",
    "\n",
    "# import the time seris module from pycaret\n",
    "\n",
    "import pycaret.time_series as pycts"
   ]
  },
  {
   "cell_type": "markdown",
   "metadata": {},
   "source": [
    "# copy and paste in to a new chunk, enter credentials and run to save in environment. Then delete chunk\n",
    "%env snowflakeuser=<your_snowflake_username>\n",
    "%env snowflakepass=<your_snowflake_password>"
   ]
  },
  {
   "cell_type": "code",
   "execution_count": 3,
   "metadata": {},
   "outputs": [
    {
     "name": "stdout",
     "output_type": "stream",
     "text": [
      "   DEP_ENT       MONTH     NET_SALES  BUDGET_AMOUNT  FORECAST\n",
      "0  210_310  2020-09-01  7.449778e+05      1330384.0       NaN\n",
      "1  210_310  2020-10-01  5.257454e+05       936992.0       NaN\n",
      "2  210_310  2020-11-01  1.998459e+06      1681287.0       NaN\n",
      "3  210_310  2020-12-01  4.443028e+05       734573.0       NaN\n",
      "4  210_310  2021-01-01  3.309476e+05            NaN       NaN\n"
     ]
    }
   ],
   "source": [
    "# Query Snowflake\n",
    "\n",
    "def snowflake_to_pandas(connection_params, query):\n",
    "    try:\n",
    "        # Establish a connection to Snowflake\n",
    "        conn = snowflake.connector.connect(**connection_params)\n",
    "\n",
    "        # Execute the SQL query and fetch the results into a DataFrame\n",
    "        df = pd.read_sql_query(query, conn)\n",
    "\n",
    "        # Close the connection\n",
    "        conn.close()\n",
    "\n",
    "        return df\n",
    "    except Exception as e:\n",
    "        print(f\"Error: {e}\")\n",
    "        return None\n",
    "\n",
    "# Snowflake connection parameters\n",
    "connection_params = {\n",
    "    \"user\": os.environ['snowflakeuser'],\n",
    "    \"password\": os.environ['snowflakepass'],\n",
    "    \"account\": \"zib52348.us-east-1\",\n",
    "    \"role\": \"ACCOUNTADMIN\",\n",
    "    \"warehouse\": \"REPORTING\",\n",
    "    \"database\": \"ANALYTICS\",\n",
    "    \"schema\": \"FORECASTING\",\n",
    "}\n",
    "\n",
    "# SQL command \n",
    "query = 'SELECT * FROM \"ANALYTICS\".\"FORECASTING\".\"sales_fcast_combined_v\"'\n",
    "\n",
    "# Call the function to retrieve the data into a Pandas DataFrame\n",
    "result_df = snowflake_to_pandas(connection_params, query)\n",
    "\n",
    "if result_df is not None:\n",
    "    print(result_df.head())  # Display the first few rows of the DataFrame\n",
    "else:\n",
    "    print(\"Failed to retrieve data from Snowflake.\")"
   ]
  },
  {
   "cell_type": "markdown",
   "metadata": {},
   "source": [
    "###############\n",
    "#### NOTES ####\n",
    "###############\n",
    "\n",
    "*Change the date below to forecast all of 2023 (8/15/23)"
   ]
  },
  {
   "cell_type": "code",
   "execution_count": 36,
   "metadata": {},
   "outputs": [],
   "source": [
    "### Data prep ###\n",
    "\n",
    "result_df[\"MONTH\"] = pd.to_datetime(result_df[\"MONTH\"]) # convert month field to date\n",
    "#df_all = result_df[result_df['MONTH'] <= pd.Timestamp(2023,6,1)] # we have data through July '23 when we are training these models. \n",
    "\n",
    "df_all = result_df[result_df['MONTH'] <= pd.Timestamp(2022,12,1)] # CHANGE FOR 2023\n",
    "\n",
    "#Some random months will have data that we want to remove (* Want to test without July though)\n",
    "df_all = df_all[[\"DEP_ENT\", \"MONTH\", \"NET_SALES\"]] # select fields of interest\n",
    "df_all = df_all.sort_values(['DEP_ENT', 'MONTH']) # reorder dataframe"
   ]
  },
  {
   "cell_type": "code",
   "execution_count": 37,
   "metadata": {},
   "outputs": [
    {
     "name": "stdout",
     "output_type": "stream",
     "text": [
      "14\n",
      "-----\n",
      "DEP_ENT\n",
      "160_155    84\n",
      "170_155    84\n",
      "200_155    84\n",
      "200_310    84\n",
      "210_155    84\n",
      "210_165    84\n",
      "210_310    84\n",
      "220_155    84\n",
      "220_310    78\n",
      "240_155    84\n",
      "250_155    84\n",
      "250_165    50\n",
      "250_310    84\n",
      "260_155    47\n",
      "dtype: int64\n",
      "-----\n",
      "DEP_ENT      0\n",
      "MONTH        0\n",
      "NET_SALES    0\n",
      "dtype: int64\n"
     ]
    }
   ],
   "source": [
    "### Spot checks ###\n",
    "\n",
    "# check the unique time_series. 14 different department-entity combinations\n",
    "print(df_all['DEP_ENT'].nunique())\n",
    "print(\"-----\")\n",
    "\n",
    "# check how many months for each dep-ent. 3 dep-ent do not have all months of data\n",
    "print(df_all.groupby(['DEP_ENT']).size())\n",
    "print(\"-----\")\n",
    "\n",
    "# check for nulls. No nulls\n",
    "print(df_all.isnull().sum())"
   ]
  },
  {
   "cell_type": "markdown",
   "metadata": {},
   "source": [
    "# Finished with global data work above\n",
    "__________________________________________________________________________________________________________________________________________________________________________________________________\n",
    "\n",
    "### 1\n",
    "# Time Series Forecasting with PyCaret Regression\n",
    "\n",
    "Pycaret 3.04 regression documentation: https://pycaret.readthedocs.io/en/stable/api/regression.html"
   ]
  },
  {
   "cell_type": "code",
   "execution_count": 6,
   "metadata": {},
   "outputs": [],
   "source": [
    "### Data Prep for Regression ###\n",
    "\n",
    "df_all_rg = df_all\n",
    "\n",
    "# extract month and year from dates\n",
    "df_all_rg['Month'] = [i.month for i in df_all_rg['MONTH']]\n",
    "df_all_rg['Year'] = [i.year for i in df_all_rg['MONTH']]\n",
    "\n",
    "# create a sequence of numbers\n",
    "df_all_rg['Series'] = np.arange(1,len(df_all_rg)+1)"
   ]
  },
  {
   "cell_type": "markdown",
   "metadata": {},
   "source": [
    "# Notes on below TS loop\n",
    "* Manual changes:\n",
    "  * periods to forecast ahead using the next_dates variable "
   ]
  },
  {
   "cell_type": "code",
   "execution_count": null,
   "metadata": {},
   "outputs": [],
   "source": [
    "### Regression Loop ###\n",
    "\n",
    "# Create empty dataframes\n",
    "all_results_rg = pd.DataFrame()\n",
    "all_predictions_rg = pd.DataFrame()\n",
    "\n",
    "# list of each dep-ent\n",
    "all_ts_rg = df_all_rg['DEP_ENT'].unique()\n",
    "\n",
    "for i in tqdm(all_ts_rg):\n",
    "    \n",
    "    # temp df for a dep-ent\n",
    "    df_subset = df_all_rg[df_all_rg['DEP_ENT'] == i]\n",
    "    \n",
    "    # trim\n",
    "    df_subset_trim = df_subset[['Series', 'Year', 'Month', 'NET_SALES']] \n",
    "    \n",
    "    # initialize setup\n",
    "    s = pycr.setup(data = df_subset_trim, target = 'NET_SALES', session_id = 123)\n",
    "    \n",
    "    # model training and selection\n",
    "    best_model = pycr.compare_models()\n",
    "    \n",
    "    # capture the compare result grid and store best model in list\n",
    "    p = pycr.pull().iloc[0:1]\n",
    "    p['DEP_ENT'] = str(i)\n",
    "    \n",
    "    all_results_rg = all_results_rg.append(p)\n",
    "    \n",
    "    ### New data to predict ###\n",
    "\n",
    "    # max date from original dataset\n",
    "    max_timestamp = df_subset['MONTH'].max()\n",
    "\n",
    "    # create dataframe for future dates, in this case the rest of 2023\n",
    "    next_dates = [max_timestamp.replace(day=1) + pd.DateOffset(months=i) for i in range(1, 7)] # Need to change range based on how many periods ahead you want to predict\n",
    "    new_dates_df = pd.DataFrame({'MONTH': next_dates})\n",
    "    new_dates_df[\"MONTH\"] = pd.to_datetime(new_dates_df[\"MONTH\"]) \n",
    "\n",
    "    # extract month and year from dates\n",
    "    new_dates_df['Month'] = [i.month for i in new_dates_df['MONTH']]\n",
    "    new_dates_df['Year'] = [i.year for i in new_dates_df['MONTH']]\n",
    "\n",
    "    # create a sequence of numbers\n",
    "    new_dates_df['Series'] = np.arange(1,len(new_dates_df)+1)\n",
    "\n",
    "    # select cols\n",
    "    new_dates_df = new_dates_df[['Series', 'Year', 'Month']] \n",
    "    \n",
    "    # predict on new data\n",
    "    predictions = pycr.predict_model(best_model, data = new_dates_df)\n",
    "    \n",
    "    ### Combine predictions in to all_predictions dataframe ###\n",
    "    \n",
    "    pred_temp = predictions.reset_index()\n",
    "    \n",
    "    pred_comb = pd.concat([pd.DataFrame({'MONTH': next_dates}), pred_temp['prediction_label']], axis = 1)\n",
    "    pred_comb['DEP_ENT'] = i # add dep\n",
    "    pred_comb.rename(columns = {'prediction_label':'PRED'}, inplace = True)\n",
    "    \n",
    "    # append to master dataframe\n",
    "    all_predictions_rg = all_predictions_rg.append(pred_comb)"
   ]
  },
  {
   "cell_type": "code",
   "execution_count": 12,
   "metadata": {},
   "outputs": [],
   "source": [
    "### Write Regression to Excel ###\n",
    "\n",
    "# Create a Pandas Excel writer using XlsxWriter\n",
    "rg_writer = pd.ExcelWriter('regression.xlsx', engine='xlsxwriter')\n",
    "\n",
    "# sheet 1\n",
    "all_results_rg.to_excel(rg_writer, sheet_name='results', index=False)\n",
    "# sheet 2\n",
    "all_predictions_rg.to_excel(rg_writer, sheet_name='predictions', index=False)\n",
    "\n",
    "# Save Data to File\n",
    "rg_writer.save()"
   ]
  },
  {
   "cell_type": "markdown",
   "metadata": {},
   "source": [
    "__________________________________________________________________________________________________________________________________________________________________________________________________\n",
    "\n",
    "### 2\n",
    "# Time Series Forecasting with PyCaret Time Series\n",
    "\n",
    "Pycaret 3.04 time series documentation: https://pycaret.readthedocs.io/en/stable/api/time_series.html"
   ]
  },
  {
   "cell_type": "code",
   "execution_count": 38,
   "metadata": {},
   "outputs": [],
   "source": [
    "### Data Prep for Time Series Anlysis ###\n",
    "\n",
    "df_all_ts = df_all\n",
    "\n",
    "# create time series dataset\n",
    "df_all_ts = df_all_ts[[\"DEP_ENT\", \"MONTH\", \"NET_SALES\"]]"
   ]
  },
  {
   "cell_type": "markdown",
   "metadata": {},
   "source": [
    "# Notes on below TS loop\n",
    "* Manual changes:\n",
    "  * periods to include in the dates dataset created using next_dates\n",
    "  * forecast horizon (fh) in predict_model function"
   ]
  },
  {
   "cell_type": "markdown",
   "metadata": {},
   "source": [
    "###############\n",
    "#### NOTES ####\n",
    "###############\n",
    "\n",
    "*When changing dataset to forecast all of 2023, we also need to chnage the dates and fh for thew two notes above (8/15/23)"
   ]
  },
  {
   "cell_type": "code",
   "execution_count": null,
   "metadata": {},
   "outputs": [],
   "source": [
    "### Time Series Loop ###\n",
    "\n",
    "# Create empty dataframes\n",
    "all_results_ts = pd.DataFrame()\n",
    "all_predictions_ts = pd.DataFrame()\n",
    "\n",
    "# list of each dep-ent\n",
    "all_ts_ts = df_all_ts['DEP_ENT'].unique()\n",
    "\n",
    "for i in tqdm(all_ts_ts):\n",
    "    \n",
    "    # temp df for a dep-ent\n",
    "    df_subset = df_all_ts[df_all_ts['DEP_ENT'] == i]\n",
    "    \n",
    "    # trim\n",
    "    df_subset_trim = df_subset[['MONTH', 'NET_SALES']] \n",
    "    \n",
    "    # create series\n",
    "    df_subset_s = df_subset_trim.set_index('MONTH')['NET_SALES']\n",
    "    \n",
    "    # set frequency of series\n",
    "    df_subset_s = df_subset_s.asfreq('MS') \n",
    "\n",
    "    # test and train\n",
    "    ts_train = round(len(df_subset_trim.index) * .8) # 80% train\n",
    "    ts_test = len(df_subset_trim.index) - round(len(df_subset_trim.index) * .8) # 20% test\n",
    "    \n",
    "    # initialize setup\n",
    "    s = pycts.setup(df_subset_s, numeric_imputation_target = \"mean\", fh = ts_test, session_id = 123)\n",
    "\n",
    "    # model training and selection\n",
    "    best_model = pycts.compare_models(sort = 'MAPE', exclude = [\"naive\", \"grand_means\", \"croston\", ])\n",
    "    #best_model = pycts.compare_models(sort = 'MAPE', include = [\"arima\", \"auto_arima\", \"ets\", ])\n",
    "    \n",
    "    # plot trained model\n",
    "    pycts.plot_model(best_model, plot = 'forecast')\n",
    "    \n",
    "    # capture the compare result grid and store best model in list\n",
    "    p = pycts.pull().iloc[0:1]\n",
    "    p['DEP_ENT'] = str(i)\n",
    "    \n",
    "    all_results_ts = all_results_ts.append(p)\n",
    "    \n",
    "    ### Predict future periods ###\n",
    "    \n",
    "    # max date from original dataset\n",
    "    max_timestamp = df_subset_trim['MONTH'].max()\n",
    "    \n",
    "    # create dataframe for future dates, in this case the rest of 2023. This is not for predicting but to join back up with predictions\n",
    "    #next_dates = [max_timestamp.replace(day=1) + pd.DateOffset(months=i) for i in range(1, 7)] # Need to change range based on how many periods ahead you want to predict\n",
    "    \n",
    "    next_dates = [max_timestamp.replace(day=1) + pd.DateOffset(months=i) for i in range(1, 13)] # CHANGE FOR 2023\n",
    "    \n",
    "    new_dates_df = pd.DataFrame({'MONTH': next_dates})\n",
    "    new_dates_df[\"MONTH\"] = pd.to_datetime(new_dates_df[\"MONTH\"]) \n",
    "    \n",
    "    # predict in unseen future\n",
    "    #predictions = pycts.predict_model(best_model, fh=6) # Need to change range fh for how many periods ahead you want to predict\n",
    "    \n",
    "    predictions = pycts.predict_model(best_model, fh=12) # CHANGE FOR 2023\n",
    "    \n",
    "    pred_temp = predictions.reset_index()\n",
    "    \n",
    "    pred_comb = pd.concat([pd.DataFrame({'MONTH': next_dates}), pred_temp['y_pred']], axis = 1)\n",
    "    pred_comb['DEP_ENT'] = i # add dep\n",
    "    pred_comb.rename(columns = {'y_pred':'PRED'}, inplace = True)\n",
    "    \n",
    "    # append to master dataframe\n",
    "    all_predictions_ts = all_predictions_ts.append(pred_comb)"
   ]
  },
  {
   "cell_type": "code",
   "execution_count": 43,
   "metadata": {},
   "outputs": [],
   "source": [
    "### Write Time Series to Excel ###\n",
    "\n",
    "# Create a Pandas Excel writer using XlsxWriter\n",
    "ts_writer = pd.ExcelWriter('time_series.xlsx', engine='xlsxwriter')\n",
    "\n",
    "# sheet 1\n",
    "all_results_ts.to_excel(ts_writer, sheet_name='results', index=False)\n",
    "# sheet 2\n",
    "all_predictions_ts.to_excel(ts_writer, sheet_name='predictions', index=False)\n",
    "\n",
    "# Save Data to File\n",
    "ts_writer.save()"
   ]
  }
 ],
 "metadata": {
  "kernelspec": {
   "display_name": "newpycaret",
   "language": "python",
   "name": "python3"
  },
  "language_info": {
   "codemirror_mode": {
    "name": "ipython",
    "version": 3
   },
   "file_extension": ".py",
   "mimetype": "text/x-python",
   "name": "python",
   "nbconvert_exporter": "python",
   "pygments_lexer": "ipython3",
   "version": "3.9.13"
  },
  "orig_nbformat": 4
 },
 "nbformat": 4,
 "nbformat_minor": 2
}
