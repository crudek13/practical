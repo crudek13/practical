{
 "cells": [
  {
   "cell_type": "markdown",
   "metadata": {},
   "source": [
    "# conda environment note - unrelated to forecasting\n",
    "\n",
    "ISSUE: package (pycaret) wasnt in the channels i had, so this helped. Channels are basically servers people host there packages on\n",
    "\n",
    "https://stackoverflow.com/questions/48493505/packagesnotfounderror-the-following-packages-are-not-available-from-current-cha\n",
    "\n",
    "'conda config --append channels conda-forge'\n",
    "\n",
    "This tells conda to also look on the conda-forge channel when you search for packages... this is usually a good place to start\n",
    "\n",
    "* use the Anaconda Prompt terminal to perform all anaconda needs:\n",
    "\n",
    "'conda info' - info about conda including python version\n",
    "'conda list' - list all packages\n",
    "'conda list pycaret$' - list certain package\n",
    "'conda install pycaret' - install a package\n",
    "'conda update pycaret' - update package\n",
    "'conda remove pyarrow' - remove package\n",
    "'conda update --all' - update all packagesy"
   ]
  },
  {
   "cell_type": "markdown",
   "metadata": {},
   "source": [
    "# VM Forecasting\n",
    "In Python"
   ]
  },
  {
   "cell_type": "code",
   "execution_count": 27,
   "metadata": {},
   "outputs": [],
   "source": [
    "# Packages\n",
    "import snowflake.connector\n",
    "import pandas as pd\n",
    "import os\n",
    "import numpy as np\n",
    "\n",
    "from pycaret.regression import * # import the regression module\n",
    "import plotly.express as px"
   ]
  },
  {
   "cell_type": "code",
   "execution_count": null,
   "metadata": {},
   "outputs": [],
   "source": [
    "# copy and paste in to a new chunk, enter credentials and run to save in environment. Then delete chunk\n",
    "%env snowflakeuser=<your_snowflake_username>\n",
    "%env snowflakepass=<your_snowflake_password>"
   ]
  },
  {
   "cell_type": "code",
   "execution_count": 30,
   "metadata": {},
   "outputs": [
    {
     "name": "stdout",
     "output_type": "stream",
     "text": [
      "   DEP_ENT       MONTH  NET_SALES  BUDGET_AMOUNT      FORECAST\n",
      "0  240_155  2023-09-01        NaN      5373043.0  5.613731e+06\n",
      "1  240_155  2023-10-01        NaN      5376636.0  4.859158e+06\n",
      "2  240_155  2023-11-01        NaN      5295121.0  4.584387e+06\n",
      "3  240_155  2023-12-01        NaN      5313648.0  4.532230e+06\n",
      "4  250_155  2016-01-01  3738317.4      6415527.0           NaN\n"
     ]
    }
   ],
   "source": [
    "# Query Snowflake\n",
    "def snowflake_to_pandas(connection_params, query):\n",
    "    try:\n",
    "        # Establish a connection to Snowflake\n",
    "        conn = snowflake.connector.connect(**connection_params)\n",
    "\n",
    "        # Execute the SQL query and fetch the results into a DataFrame\n",
    "        df = pd.read_sql_query(query, conn)\n",
    "\n",
    "        # Close the connection\n",
    "        conn.close()\n",
    "\n",
    "        return df\n",
    "    except Exception as e:\n",
    "        print(f\"Error: {e}\")\n",
    "        return None\n",
    "\n",
    "# Snowflake connection parameters\n",
    "connection_params = {\n",
    "    \"user\": os.environ['snowflakeuser'],\n",
    "    \"password\": os.environ['snowflakepass'],\n",
    "    \"account\": \"zib52348.us-east-1\",\n",
    "    \"role\": \"ACCOUNTADMIN\",\n",
    "    \"warehouse\": \"REPORTING\",\n",
    "    \"database\": \"ANALYTICS\",\n",
    "    \"schema\": \"FORECASTING\",\n",
    "}\n",
    "\n",
    "# SQL command \n",
    "query = 'SELECT * FROM \"ANALYTICS\".\"FORECASTING\".\"sales_fcast_combined_v\"'\n",
    "\n",
    "# Call the function to retrieve the data into a Pandas DataFrame\n",
    "result_df = snowflake_to_pandas(connection_params, query)\n",
    "\n",
    "if result_df is not None:\n",
    "    print(result_df.head())  # Display the first few rows of the DataFrame\n",
    "else:\n",
    "    print(\"Failed to retrieve data from Snowflake.\")"
   ]
  },
  {
   "cell_type": "code",
   "execution_count": 31,
   "metadata": {},
   "outputs": [
    {
     "name": "stdout",
     "output_type": "stream",
     "text": [
      "      DEP_ENT       MONTH   NET_SALES  BUDGET_AMOUNT      FORECAST\n",
      "0     240_155  2023-09-01         NaN      5373043.0  5.613731e+06\n",
      "1     240_155  2023-10-01         NaN      5376636.0  4.859158e+06\n",
      "2     240_155  2023-11-01         NaN      5295121.0  4.584387e+06\n",
      "3     240_155  2023-12-01         NaN      5313648.0  4.532230e+06\n",
      "4     250_155  2016-01-01  3738317.40      6415527.0           NaN\n",
      "...       ...         ...         ...            ...           ...\n",
      "1260  210_155  2023-02-01  6204353.87      4631525.0  8.047390e+06\n",
      "1261  210_155  2023-03-01  5973971.86      6887883.0  8.047390e+06\n",
      "1262  210_155  2023-04-01  5560797.29      7108739.0  8.047390e+06\n",
      "1263  210_155  2023-05-01  4008775.43      5308974.0  6.709869e+06\n",
      "1264  210_155  2023-06-01  2741890.24      5559823.0  8.037976e+06\n",
      "\n",
      "[1265 rows x 5 columns]\n"
     ]
    }
   ],
   "source": [
    "# head and tail\n",
    "print(result_df)"
   ]
  },
  {
   "cell_type": "code",
   "execution_count": 33,
   "metadata": {},
   "outputs": [
    {
     "name": "stdout",
     "output_type": "stream",
     "text": [
      "         MONTH   NET_SALES\n",
      "158 2019-10-01  1522283.25\n",
      "159 2019-11-01  2681924.32\n",
      "160 2019-12-01  4944662.33\n",
      "161 2020-01-01  1729231.23\n",
      "162 2020-02-01  1557584.48\n",
      "..         ...         ...\n",
      "628 2019-05-01  2333062.18\n",
      "629 2019-06-01  1856416.87\n",
      "630 2019-07-01  1895360.33\n",
      "631 2019-08-01  1955738.19\n",
      "632 2019-09-01  1749430.60\n",
      "\n",
      "[90 rows x 2 columns]\n",
      "MONTH        datetime64[ns]\n",
      "NET_SALES           float64\n",
      "dtype: object\n"
     ]
    }
   ],
   "source": [
    "df_200_155 = result_df[result_df[\"DEP_ENT\"] == '200_155']\n",
    "df_200_155 = df_200_155[df_200_155['MONTH'] <= pd.Timestamp(2023,6,1)] \n",
    "\"\"\"\n",
    "ABOVE: we have data beyond july '23, but we want to compare with \n",
    "some models that only had through june. No way to check model accuracy beyond the daya we have\n",
    "\"\"\"\n",
    "df_200_155 = df_200_155[[\"MONTH\", \"NET_SALES\"]]\n",
    "print(df_200_155)\n",
    "print(df_200_155.dtypes)"
   ]
  },
  {
   "cell_type": "code",
   "execution_count": null,
   "metadata": {},
   "outputs": [],
   "source": [
    "result_df.set_index('MONTH', drop = True, inplace)"
   ]
  },
  {
   "cell_type": "code",
   "execution_count": null,
   "metadata": {},
   "outputs": [],
   "source": []
  },
  {
   "cell_type": "code",
   "execution_count": null,
   "metadata": {},
   "outputs": [],
   "source": []
  },
  {
   "cell_type": "code",
   "execution_count": null,
   "metadata": {},
   "outputs": [],
   "source": []
  },
  {
   "cell_type": "code",
   "execution_count": null,
   "metadata": {},
   "outputs": [],
   "source": []
  },
  {
   "cell_type": "markdown",
   "metadata": {},
   "source": []
  },
  {
   "cell_type": "markdown",
   "metadata": {},
   "source": []
  },
  {
   "cell_type": "markdown",
   "metadata": {},
   "source": [
    "# Time Series with pycaret\n",
    "https://moez-62905.medium.com/pycaret-3-is-coming-whats-new-8d7d241c40d8"
   ]
  },
  {
   "cell_type": "markdown",
   "metadata": {},
   "source": []
  }
 ],
 "metadata": {
  "kernelspec": {
   "display_name": "base",
   "language": "python",
   "name": "python3"
  },
  "language_info": {
   "codemirror_mode": {
    "name": "ipython",
    "version": 3
   },
   "file_extension": ".py",
   "mimetype": "text/x-python",
   "name": "python",
   "nbconvert_exporter": "python",
   "pygments_lexer": "ipython3",
   "version": "3.11.3"
  },
  "orig_nbformat": 4
 },
 "nbformat": 4,
 "nbformat_minor": 2
}
